{
 "cells": [
  {
   "cell_type": "markdown",
   "metadata": {
    "toc": true
   },
   "source": [
    "<h1>Содержание<span class=\"tocSkip\"></span></h1>\n",
    "<div class=\"toc\"><ul class=\"toc-item\"><li><span><a href=\"#Загрузка-данных\" data-toc-modified-id=\"Загрузка-данных-1\"><span class=\"toc-item-num\">1&nbsp;&nbsp;</span>Загрузка данных</a></span><ul class=\"toc-item\"><li><span><a href=\"#Вывод\" data-toc-modified-id=\"Вывод-1.1\"><span class=\"toc-item-num\">1.1&nbsp;&nbsp;</span>Вывод</a></span></li></ul></li><li><span><a href=\"#Умножение-матриц\" data-toc-modified-id=\"Умножение-матриц-2\"><span class=\"toc-item-num\">2&nbsp;&nbsp;</span>Умножение матриц</a></span><ul class=\"toc-item\"><li><span><a href=\"#Вывод\" data-toc-modified-id=\"Вывод-2.1\"><span class=\"toc-item-num\">2.1&nbsp;&nbsp;</span>Вывод</a></span></li></ul></li><li><span><a href=\"#Алгоритм-преобразования\" data-toc-modified-id=\"Алгоритм-преобразования-3\"><span class=\"toc-item-num\">3&nbsp;&nbsp;</span>Алгоритм преобразования</a></span><ul class=\"toc-item\"><li><span><a href=\"#Вывод\" data-toc-modified-id=\"Вывод-3.1\"><span class=\"toc-item-num\">3.1&nbsp;&nbsp;</span>Вывод</a></span></li></ul></li><li><span><a href=\"#Проверка-алгоритма\" data-toc-modified-id=\"Проверка-алгоритма-4\"><span class=\"toc-item-num\">4&nbsp;&nbsp;</span>Проверка алгоритма</a></span><ul class=\"toc-item\"><li><span><a href=\"#Вывод\" data-toc-modified-id=\"Вывод-4.1\"><span class=\"toc-item-num\">4.1&nbsp;&nbsp;</span>Вывод</a></span></li></ul></li><li><span><a href=\"#Общий-вывод\" data-toc-modified-id=\"Общий-вывод-5\"><span class=\"toc-item-num\">5&nbsp;&nbsp;</span>Общий вывод</a></span></li></ul></div>"
   ]
  },
  {
   "cell_type": "markdown",
   "metadata": {},
   "source": [
    "# Защита персональных данных клиентов"
   ]
  },
  {
   "cell_type": "markdown",
   "metadata": {},
   "source": [
    "Вам нужно защитить данные клиентов страховой компании «Хоть потоп». Разработайте такой метод преобразования данных, чтобы по ним было сложно восстановить персональную информацию. Обоснуйте корректность его работы.\n",
    "\n",
    "Нужно защитить данные, чтобы при преобразовании качество моделей машинного обучения не ухудшилось. Подбирать наилучшую модель не требуется."
   ]
  },
  {
   "cell_type": "markdown",
   "metadata": {},
   "source": [
    "# Инструкция по выполнению проекта"
   ]
  },
  {
   "cell_type": "markdown",
   "metadata": {},
   "source": [
    "- Загрузите и изучите данные.\n",
    "- Ответьте на вопрос и обоснуйте решение.\n",
    "<br>\n",
    "Признаки умножают на обратимую матрицу. Изменится ли качество линейной регрессии? (Её можно обучить заново.)\n",
    "<br>\n",
    "a. Изменится. Приведите примеры матриц.\n",
    "<br>\n",
    "b. Не изменится. Укажите, как связаны параметры линейной регрессии в исходной задаче и в преобразованной.\n",
    "- Предложите алгоритм преобразования данных для решения задачи. Обоснуйте, почему качество линейной регрессии не поменяется.\n",
    "- Запрограммируйте этот алгоритм, применив матричные операции. Проверьте, что качество линейной регрессии из sklearn не отличается до и после преобразования. Примените метрику R2."
   ]
  },
  {
   "cell_type": "markdown",
   "metadata": {},
   "source": [
    "# Описание данных"
   ]
  },
  {
   "cell_type": "markdown",
   "metadata": {},
   "source": [
    "- Набор данных находится в файле /datasets/insurance.csv/\n",
    "- Признаки: пол, возраст и зарплата застрахованного, количество членов его семьи.\n",
    "- Целевой признак: количество страховых выплат клиенту за последние 5 лет."
   ]
  },
  {
   "cell_type": "markdown",
   "metadata": {},
   "source": [
    "## Загрузка данных"
   ]
  },
  {
   "cell_type": "markdown",
   "metadata": {},
   "source": [
    "Импортирую необходимые библиотеки."
   ]
  },
  {
   "cell_type": "code",
   "execution_count": 1,
   "metadata": {},
   "outputs": [],
   "source": [
    "import numpy as np\n",
    "\n",
    "import pandas as pd\n",
    "\n",
    "from sklearn.linear_model import LinearRegression\n",
    "from sklearn.metrics import r2_score, mean_squared_error\n",
    "from sklearn.preprocessing import StandardScaler\n",
    "\n",
    "import warnings\n",
    "warnings.filterwarnings('ignore')"
   ]
  },
  {
   "cell_type": "markdown",
   "metadata": {},
   "source": [
    "Загружу имеющиеся данные."
   ]
  },
  {
   "cell_type": "code",
   "execution_count": 2,
   "metadata": {},
   "outputs": [
    {
     "data": {
      "text/html": [
       "<div>\n",
       "<style scoped>\n",
       "    .dataframe tbody tr th:only-of-type {\n",
       "        vertical-align: middle;\n",
       "    }\n",
       "\n",
       "    .dataframe tbody tr th {\n",
       "        vertical-align: top;\n",
       "    }\n",
       "\n",
       "    .dataframe thead th {\n",
       "        text-align: right;\n",
       "    }\n",
       "</style>\n",
       "<table border=\"1\" class=\"dataframe\">\n",
       "  <thead>\n",
       "    <tr style=\"text-align: right;\">\n",
       "      <th></th>\n",
       "      <th>Пол</th>\n",
       "      <th>Возраст</th>\n",
       "      <th>Зарплата</th>\n",
       "      <th>Члены семьи</th>\n",
       "      <th>Страховые выплаты</th>\n",
       "    </tr>\n",
       "  </thead>\n",
       "  <tbody>\n",
       "    <tr>\n",
       "      <th>0</th>\n",
       "      <td>1</td>\n",
       "      <td>41.0</td>\n",
       "      <td>49600.0</td>\n",
       "      <td>1</td>\n",
       "      <td>0</td>\n",
       "    </tr>\n",
       "    <tr>\n",
       "      <th>1</th>\n",
       "      <td>0</td>\n",
       "      <td>46.0</td>\n",
       "      <td>38000.0</td>\n",
       "      <td>1</td>\n",
       "      <td>1</td>\n",
       "    </tr>\n",
       "    <tr>\n",
       "      <th>2</th>\n",
       "      <td>0</td>\n",
       "      <td>29.0</td>\n",
       "      <td>21000.0</td>\n",
       "      <td>0</td>\n",
       "      <td>0</td>\n",
       "    </tr>\n",
       "    <tr>\n",
       "      <th>3</th>\n",
       "      <td>0</td>\n",
       "      <td>21.0</td>\n",
       "      <td>41700.0</td>\n",
       "      <td>2</td>\n",
       "      <td>0</td>\n",
       "    </tr>\n",
       "    <tr>\n",
       "      <th>4</th>\n",
       "      <td>1</td>\n",
       "      <td>28.0</td>\n",
       "      <td>26100.0</td>\n",
       "      <td>0</td>\n",
       "      <td>0</td>\n",
       "    </tr>\n",
       "  </tbody>\n",
       "</table>\n",
       "</div>"
      ],
      "text/plain": [
       "   Пол  Возраст  Зарплата  Члены семьи  Страховые выплаты\n",
       "0    1     41.0   49600.0            1                  0\n",
       "1    0     46.0   38000.0            1                  1\n",
       "2    0     29.0   21000.0            0                  0\n",
       "3    0     21.0   41700.0            2                  0\n",
       "4    1     28.0   26100.0            0                  0"
      ]
     },
     "metadata": {},
     "output_type": "display_data"
    },
    {
     "name": "stdout",
     "output_type": "stream",
     "text": [
      "<class 'pandas.core.frame.DataFrame'>\n",
      "RangeIndex: 5000 entries, 0 to 4999\n",
      "Data columns (total 5 columns):\n",
      " #   Column             Non-Null Count  Dtype  \n",
      "---  ------             --------------  -----  \n",
      " 0   Пол                5000 non-null   int64  \n",
      " 1   Возраст            5000 non-null   float64\n",
      " 2   Зарплата           5000 non-null   float64\n",
      " 3   Члены семьи        5000 non-null   int64  \n",
      " 4   Страховые выплаты  5000 non-null   int64  \n",
      "dtypes: float64(2), int64(3)\n",
      "memory usage: 195.4 KB\n"
     ]
    },
    {
     "data": {
      "text/plain": [
       "None"
      ]
     },
     "metadata": {},
     "output_type": "display_data"
    }
   ],
   "source": [
    "try:  \n",
    "    df = pd.read_csv('C:/project/insurance.csv')\n",
    "except OSError as e:\n",
    "    df = pd.read_csv('/datasets/insurance.csv')\n",
    "display(df.head())\n",
    "display(df.info())"
   ]
  },
  {
   "cell_type": "markdown",
   "metadata": {},
   "source": [
    "Проверю имеющиеся данные на наличие NaN, нулей и выбивающихся значений."
   ]
  },
  {
   "cell_type": "code",
   "execution_count": 3,
   "metadata": {},
   "outputs": [],
   "source": [
    "# функция выведет на эран уникальные значения столбцов, а также количество NaN\n",
    "def data_values(data):\n",
    "    for column in data.columns:\n",
    "        print('Значения столбца', column)\n",
    "        print(data[column].sort_values().unique())\n",
    "        print('Количество NaN:', data[column].isna().sum())"
   ]
  },
  {
   "cell_type": "code",
   "execution_count": 4,
   "metadata": {},
   "outputs": [
    {
     "name": "stdout",
     "output_type": "stream",
     "text": [
      "Значения столбца Пол\n",
      "[0 1]\n",
      "Количество NaN: 0\n",
      "Значения столбца Возраст\n",
      "[18. 19. 20. 21. 22. 23. 24. 25. 26. 27. 28. 29. 30. 31. 32. 33. 34. 35.\n",
      " 36. 37. 38. 39. 40. 41. 42. 43. 44. 45. 46. 47. 48. 49. 50. 51. 52. 53.\n",
      " 54. 55. 56. 57. 58. 59. 60. 61. 62. 65.]\n",
      "Количество NaN: 0\n",
      "Значения столбца Зарплата\n",
      "[ 5300.  6000.  7400.  8900.  9800. 10000. 10600. 10800. 11000. 11200.\n",
      " 11300. 12200. 12900. 13000. 13200. 13300. 13400. 13500. 13800. 13900.\n",
      " 14100. 14300. 14400. 14500. 14600. 14700. 15000. 15100. 15200. 15600.\n",
      " 15700. 15900. 16000. 16200. 16300. 16400. 16500. 16600. 16700. 17000.\n",
      " 17100. 17300. 17400. 17500. 17600. 17700. 17800. 17900. 18100. 18200.\n",
      " 18300. 18400. 18600. 18700. 18800. 18900. 19000. 19100. 19200. 19300.\n",
      " 19400. 19600. 19700. 19900. 20000. 20100. 20200. 20300. 20400. 20500.\n",
      " 20600. 20700. 20800. 20900. 21000. 21100. 21200. 21300. 21400. 21500.\n",
      " 21600. 21700. 21800. 21900. 22000. 22100. 22200. 22300. 22500. 22600.\n",
      " 22700. 22800. 22900. 23000. 23100. 23200. 23300. 23400. 23500. 23600.\n",
      " 23700. 23800. 23900. 24000. 24100. 24200. 24300. 24400. 24500. 24600.\n",
      " 24700. 24800. 24900. 25000. 25100. 25200. 25300. 25400. 25500. 25600.\n",
      " 25700. 25800. 25900. 26000. 26100. 26200. 26300. 26400. 26500. 26600.\n",
      " 26700. 26800. 26900. 27000. 27100. 27200. 27300. 27400. 27500. 27600.\n",
      " 27700. 27800. 27900. 28000. 28100. 28200. 28300. 28400. 28500. 28600.\n",
      " 28700. 28800. 28900. 29000. 29100. 29200. 29300. 29400. 29500. 29600.\n",
      " 29700. 29800. 29900. 30000. 30100. 30200. 30300. 30400. 30500. 30600.\n",
      " 30700. 30800. 30900. 31000. 31100. 31200. 31300. 31400. 31500. 31600.\n",
      " 31700. 31800. 31900. 32000. 32100. 32200. 32300. 32400. 32500. 32600.\n",
      " 32700. 32800. 32900. 33000. 33100. 33200. 33300. 33400. 33500. 33600.\n",
      " 33700. 33800. 33900. 34000. 34100. 34200. 34300. 34400. 34500. 34600.\n",
      " 34700. 34800. 34900. 35000. 35100. 35200. 35300. 35400. 35500. 35600.\n",
      " 35700. 35800. 35900. 36000. 36100. 36200. 36300. 36400. 36500. 36600.\n",
      " 36700. 36800. 36900. 37000. 37100. 37200. 37300. 37400. 37500. 37600.\n",
      " 37700. 37800. 37900. 38000. 38100. 38200. 38300. 38400. 38500. 38600.\n",
      " 38700. 38800. 38900. 39000. 39100. 39200. 39300. 39400. 39500. 39600.\n",
      " 39700. 39800. 39900. 40000. 40100. 40200. 40300. 40400. 40500. 40600.\n",
      " 40700. 40800. 40900. 41000. 41100. 41200. 41300. 41400. 41500. 41600.\n",
      " 41700. 41800. 41900. 42000. 42100. 42200. 42300. 42400. 42500. 42600.\n",
      " 42700. 42800. 42900. 43000. 43100. 43200. 43300. 43400. 43500. 43600.\n",
      " 43700. 43800. 43900. 44000. 44100. 44200. 44300. 44400. 44500. 44600.\n",
      " 44700. 44800. 44900. 45000. 45100. 45200. 45300. 45400. 45500. 45600.\n",
      " 45700. 45800. 45900. 46000. 46100. 46200. 46300. 46400. 46500. 46600.\n",
      " 46700. 46800. 46900. 47000. 47100. 47200. 47300. 47400. 47500. 47600.\n",
      " 47700. 47800. 47900. 48000. 48100. 48200. 48300. 48400. 48500. 48600.\n",
      " 48700. 48800. 48900. 49000. 49100. 49200. 49300. 49400. 49500. 49600.\n",
      " 49700. 49800. 49900. 50000. 50100. 50200. 50300. 50400. 50500. 50600.\n",
      " 50700. 50800. 50900. 51000. 51100. 51200. 51300. 51400. 51500. 51600.\n",
      " 51700. 51800. 51900. 52000. 52100. 52200. 52300. 52400. 52500. 52600.\n",
      " 52700. 52800. 52900. 53000. 53100. 53200. 53300. 53400. 53500. 53600.\n",
      " 53700. 53800. 53900. 54000. 54100. 54200. 54300. 54400. 54500. 54600.\n",
      " 54700. 54800. 54900. 55000. 55100. 55200. 55300. 55400. 55500. 55600.\n",
      " 55700. 55800. 55900. 56000. 56100. 56200. 56300. 56400. 56500. 56600.\n",
      " 56700. 56800. 56900. 57000. 57100. 57200. 57300. 57400. 57500. 57600.\n",
      " 57700. 57800. 57900. 58000. 58100. 58200. 58300. 58400. 58500. 58600.\n",
      " 58700. 58800. 58900. 59000. 59100. 59200. 59300. 59500. 59600. 59700.\n",
      " 59800. 59900. 60000. 60100. 60200. 60300. 60400. 60500. 60600. 60700.\n",
      " 60900. 61000. 61200. 61300. 61400. 61500. 61700. 61800. 61900. 62000.\n",
      " 62100. 62200. 62300. 62400. 62500. 62600. 62700. 62800. 63100. 63200.\n",
      " 63300. 63400. 63500. 63600. 63700. 63800. 64000. 64100. 64400. 64800.\n",
      " 64900. 65100. 65200. 65300. 65900. 66100. 66300. 67100. 67200. 67700.\n",
      " 68000. 68400. 68500. 68900. 69200. 69400. 70000. 70500. 70600. 71400.\n",
      " 71600. 74800. 75200. 79000.]\n",
      "Количество NaN: 0\n",
      "Значения столбца Члены семьи\n",
      "[0 1 2 3 4 5 6]\n",
      "Количество NaN: 0\n",
      "Значения столбца Страховые выплаты\n",
      "[0 1 2 3 4 5]\n",
      "Количество NaN: 0\n"
     ]
    }
   ],
   "source": [
    "data_values(df)"
   ]
  },
  {
   "cell_type": "markdown",
   "metadata": {},
   "source": [
    "Столбцы необходимо переименовать латиницей.\n",
    "\n",
    "NaN  в строках отсутствует.\n",
    "\n",
    "В столбцах Возраст и Зарплата необходимо убрать десятичную часть."
   ]
  },
  {
   "cell_type": "code",
   "execution_count": 5,
   "metadata": {},
   "outputs": [
    {
     "data": {
      "text/html": [
       "<div>\n",
       "<style scoped>\n",
       "    .dataframe tbody tr th:only-of-type {\n",
       "        vertical-align: middle;\n",
       "    }\n",
       "\n",
       "    .dataframe tbody tr th {\n",
       "        vertical-align: top;\n",
       "    }\n",
       "\n",
       "    .dataframe thead th {\n",
       "        text-align: right;\n",
       "    }\n",
       "</style>\n",
       "<table border=\"1\" class=\"dataframe\">\n",
       "  <thead>\n",
       "    <tr style=\"text-align: right;\">\n",
       "      <th></th>\n",
       "      <th>gender</th>\n",
       "      <th>age</th>\n",
       "      <th>salary</th>\n",
       "      <th>family_member</th>\n",
       "      <th>payments</th>\n",
       "    </tr>\n",
       "  </thead>\n",
       "  <tbody>\n",
       "    <tr>\n",
       "      <th>0</th>\n",
       "      <td>1</td>\n",
       "      <td>41</td>\n",
       "      <td>49600</td>\n",
       "      <td>1</td>\n",
       "      <td>0</td>\n",
       "    </tr>\n",
       "    <tr>\n",
       "      <th>1</th>\n",
       "      <td>0</td>\n",
       "      <td>46</td>\n",
       "      <td>38000</td>\n",
       "      <td>1</td>\n",
       "      <td>1</td>\n",
       "    </tr>\n",
       "    <tr>\n",
       "      <th>2</th>\n",
       "      <td>0</td>\n",
       "      <td>29</td>\n",
       "      <td>21000</td>\n",
       "      <td>0</td>\n",
       "      <td>0</td>\n",
       "    </tr>\n",
       "    <tr>\n",
       "      <th>3</th>\n",
       "      <td>0</td>\n",
       "      <td>21</td>\n",
       "      <td>41700</td>\n",
       "      <td>2</td>\n",
       "      <td>0</td>\n",
       "    </tr>\n",
       "    <tr>\n",
       "      <th>4</th>\n",
       "      <td>1</td>\n",
       "      <td>28</td>\n",
       "      <td>26100</td>\n",
       "      <td>0</td>\n",
       "      <td>0</td>\n",
       "    </tr>\n",
       "  </tbody>\n",
       "</table>\n",
       "</div>"
      ],
      "text/plain": [
       "   gender  age  salary  family_member  payments\n",
       "0       1   41   49600              1         0\n",
       "1       0   46   38000              1         1\n",
       "2       0   29   21000              0         0\n",
       "3       0   21   41700              2         0\n",
       "4       1   28   26100              0         0"
      ]
     },
     "metadata": {},
     "output_type": "display_data"
    },
    {
     "name": "stdout",
     "output_type": "stream",
     "text": [
      "<class 'pandas.core.frame.DataFrame'>\n",
      "Int64Index: 4847 entries, 0 to 4999\n",
      "Data columns (total 5 columns):\n",
      " #   Column         Non-Null Count  Dtype\n",
      "---  ------         --------------  -----\n",
      " 0   gender         4847 non-null   int64\n",
      " 1   age            4847 non-null   int64\n",
      " 2   salary         4847 non-null   int64\n",
      " 3   family_member  4847 non-null   int64\n",
      " 4   payments       4847 non-null   int64\n",
      "dtypes: int64(5)\n",
      "memory usage: 227.2 KB\n"
     ]
    },
    {
     "data": {
      "text/plain": [
       "None"
      ]
     },
     "metadata": {},
     "output_type": "display_data"
    }
   ],
   "source": [
    "#переименую столбцы\n",
    "df.rename(columns={'Пол': 'gender', 'Возраст': 'age',\n",
    "                   'Зарплата': 'salary',\n",
    "                   'Члены семьи': 'family_member',\n",
    "                   'Страховые выплаты': 'payments'\n",
    "                  }, inplace=True)\n",
    "\n",
    "#избавлюсь от десятичной части\n",
    "df['age'] = df['age'].astype(int)\n",
    "df['salary'] = df['salary'].astype(int)\n",
    "\n",
    "#избаялюсь от дубликатов\n",
    "df= df.drop_duplicates()\n",
    "\n",
    "display(df.head())\n",
    "display(df.info())"
   ]
  },
  {
   "cell_type": "markdown",
   "metadata": {},
   "source": [
    "### Вывод"
   ]
  },
  {
   "cell_type": "markdown",
   "metadata": {},
   "source": [
    "Данные загружены и изучены.\n",
    "\n",
    "Артефакты в данных отсутствуют. Считаю, что данные готовы к решению поставленной задачи. "
   ]
  },
  {
   "cell_type": "markdown",
   "metadata": {},
   "source": [
    "## Умножение матриц"
   ]
  },
  {
   "cell_type": "markdown",
   "metadata": {},
   "source": [
    "Проверю утверждение \"Изменится ли качество линейной регрессии, если умножить признаки на обратимую матрицу\" исходя из известных формул."
   ]
  },
  {
   "cell_type": "markdown",
   "metadata": {},
   "source": [
    "Формула расчета весов для линейной регрессии:\n",
    "\n",
    "$$\n",
    "w = (X^TX)^{-1}X^Ty\n",
    "$$\n",
    "\n",
    "\n",
    "Пусть $X_1$ - это матрица $X$, умноженная на обратимую матрицу $P$:\n",
    "\n",
    "$$\n",
    "X_1 = XP\n",
    "$$\n",
    "\n",
    "Подставлю $X_1$ в формулу обучения ($w_1$):\n",
    "\n",
    "$$\n",
    "w_1 = ((XP)^T(XP))^{-1}(XP)^Ty\n",
    "$$\n",
    "\n",
    "Проведу преобразования:\n",
    "\n",
    "$$\n",
    "w_1 = (P^TX^TXP)^{-1}(P^TX^T)y\n",
    "$$\n",
    "\n",
    "$$\n",
    "w_1 = (P^T(X^TX)P)^{-1}(P^TX^T)y\n",
    "$$\n",
    "\n",
    "$$\n",
    "w_1 = P^{-1}(X^TX)^{-1}(P^T)^{-1}(P^TX^T)y\n",
    "$$\n",
    "\n",
    "$$\n",
    "w_1 = P^{-1}(X^TX)^{-1}E(X^T)y = P^{-1}(X^TX)^{-1}(X^T)y\n",
    "$$\n",
    "\n",
    "$$\n",
    "w_1 = P^{-1}(X^TX)^{-1}(X^T)y = P^{-1}w\n",
    "$$\n",
    "\n",
    "$$\n",
    "a = X*w\n",
    "$$\n",
    "\n",
    "$$\n",
    "a_1 = X_1*w_1 = XPP^{-1}w\n",
    "$$\n",
    "\n",
    "$$\n",
    "a_1 = XPP^{-1}w = XEw = Xw = a\n",
    "$$"
   ]
  },
  {
   "cell_type": "markdown",
   "metadata": {},
   "source": [
    "### Вывод"
   ]
  },
  {
   "cell_type": "markdown",
   "metadata": {},
   "source": [
    "При умножении признаков на обратимую матрицу качество линейной регрессии не изменяется.\n",
    "\n",
    "Параметры линейной регрессии в исходной задаче и в преобразованной изменятся следующим образом - поменяются веса для новых признаков. Придется переобучать модель на новых признаках."
   ]
  },
  {
   "cell_type": "markdown",
   "metadata": {},
   "source": [
    "## Алгоритм преобразования"
   ]
  },
  {
   "cell_type": "markdown",
   "metadata": {},
   "source": [
    "**Алгоритм**\n",
    "<br>\n",
    "Для защиты персональных данных клиентов буду умножать матрицу признаки на обратимую матрицу.\n",
    "\n",
    "Так обратная матрица может быть только квадратной, то должна быть квадратной с размером, равным количеству признаков, а именно - 4."
   ]
  },
  {
   "cell_type": "markdown",
   "metadata": {},
   "source": [
    "**Обоснование**\n",
    "<br>\n",
    "Сравню разность предсказаний по текущим значениям признаков и по умноженных на обратиму юматрицу."
   ]
  },
  {
   "cell_type": "code",
   "execution_count": 6,
   "metadata": {},
   "outputs": [],
   "source": [
    "#в переменной хранится рандомная матрица 4х4\n",
    "random_mat = np.random.randint(100,size = (4, 4))\n",
    "\n",
    "#выделю тренировочную и валидационную выборку\n",
    "target = df['payments']\n",
    "features = df.drop('payments',axis=1)\n",
    "\n",
    "#проведу масштабирование с помощью StandardScaler()\n",
    "scaler = StandardScaler()\n",
    "scaler.fit(features)\n",
    "\n",
    "#сохраню масштабированные признаки в переменную\n",
    "scaled = scaler.transform(features)"
   ]
  },
  {
   "cell_type": "markdown",
   "metadata": {},
   "source": [
    "Рассчитаю веса $w$ для исходных признаков (масштабированных) по стандартной формуле $w = (X^T X)^{-1} X^T y$."
   ]
  },
  {
   "cell_type": "code",
   "execution_count": 7,
   "metadata": {},
   "outputs": [],
   "source": [
    "w = np.linalg.inv(scaled.T.dot(scaled)).dot(scaled.T).dot(target)"
   ]
  },
  {
   "cell_type": "markdown",
   "metadata": {},
   "source": [
    "Рассчитаю вектор предсказаний по исходным признакам по формуле $𝑎=𝑋𝑤$."
   ]
  },
  {
   "cell_type": "code",
   "execution_count": 8,
   "metadata": {},
   "outputs": [],
   "source": [
    "a = scaled @ w"
   ]
  },
  {
   "cell_type": "markdown",
   "metadata": {},
   "source": [
    "Проведу преобразование признаков."
   ]
  },
  {
   "cell_type": "code",
   "execution_count": 9,
   "metadata": {},
   "outputs": [],
   "source": [
    "scaled_new = scaled @ random_mat"
   ]
  },
  {
   "cell_type": "markdown",
   "metadata": {},
   "source": [
    "Расчитаю веса $𝑤_1$ для преобразованных признаков по стандартной формуле $𝑤=(𝑋^𝑇𝑋)^{−1} 𝑋^𝑇 𝑦$."
   ]
  },
  {
   "cell_type": "code",
   "execution_count": 10,
   "metadata": {},
   "outputs": [],
   "source": [
    "w1 = np.linalg.inv(scaled_new.T.dot(scaled_new)).dot(scaled_new.T).dot(target)"
   ]
  },
  {
   "cell_type": "markdown",
   "metadata": {},
   "source": [
    "Расчитаю вектор предсказаний по преобразованным признакам по формуле $𝑎=𝑋𝑤$."
   ]
  },
  {
   "cell_type": "code",
   "execution_count": 11,
   "metadata": {},
   "outputs": [],
   "source": [
    "a1 = scaled_new @ w1"
   ]
  },
  {
   "cell_type": "markdown",
   "metadata": {},
   "source": [
    "Вычислю разницу."
   ]
  },
  {
   "cell_type": "code",
   "execution_count": 12,
   "metadata": {},
   "outputs": [
    {
     "data": {
      "text/plain": [
       "1.4120909302972606e-13"
      ]
     },
     "metadata": {},
     "output_type": "display_data"
    }
   ],
   "source": [
    "diff = a - a1\n",
    "display(diff.sum())"
   ]
  },
  {
   "cell_type": "markdown",
   "metadata": {},
   "source": [
    "### Вывод"
   ]
  },
  {
   "cell_type": "markdown",
   "metadata": {},
   "source": [
    "Cумма расхождений настолько мала, что ею можно пренебречь. Это значит 𝑎 равен 𝑎1. Умножение признаков на обратную матрицу не приводит к ухудшению качества модели."
   ]
  },
  {
   "cell_type": "markdown",
   "metadata": {},
   "source": [
    "## Проверка алгоритма"
   ]
  },
  {
   "cell_type": "markdown",
   "metadata": {},
   "source": [
    "Сравню две модели линейной регрессии - с текущими значениями признаков и с признаками, умноженными на обратную матрицу."
   ]
  },
  {
   "cell_type": "code",
   "execution_count": 13,
   "metadata": {},
   "outputs": [
    {
     "name": "stdout",
     "output_type": "stream",
     "text": [
      "MSE Score: 0.1252726382276536\n",
      "R2_Score на исходных данных:  0.4302010046633359\n"
     ]
    }
   ],
   "source": [
    "model = LinearRegression(normalize = True)\n",
    "model.fit(features, target)\n",
    "predictions = model.predict(features)\n",
    "mse = mean_squared_error(target, predictions)\n",
    "print('MSE Score:', mse)\n",
    "print('R2_Score на исходных данных: ',r2_score(target, predictions))"
   ]
  },
  {
   "cell_type": "code",
   "execution_count": 15,
   "metadata": {},
   "outputs": [
    {
     "name": "stdout",
     "output_type": "stream",
     "text": [
      "MSE Score: 0.1252726382276536\n",
      "R2_Score для преобразованных  признаков:  0.4302010046633359\n"
     ]
    }
   ],
   "source": [
    "features_mat = scaled @ random_mat\n",
    "model.fit(features_mat, target)\n",
    "predictions_mat = model.predict(features_mat)\n",
    "mse = mean_squared_error(target, predictions)\n",
    "print('MSE Score:', mse)\n",
    "print('R2_Score для преобразованных  признаков: ',r2_score(target, predictions_mat))"
   ]
  },
  {
   "cell_type": "markdown",
   "metadata": {},
   "source": [
    "### Вывод"
   ]
  },
  {
   "cell_type": "markdown",
   "metadata": {},
   "source": [
    "MSE Score и R2_Score для двух моделей линейной регрессии оказались одинаковыми, поэтому можно сказать, что предложенный алгоритм может защитить данные пользователей и при этом не ухудшить качество модели машинного обучения."
   ]
  },
  {
   "cell_type": "markdown",
   "metadata": {},
   "source": [
    "## Общий вывод"
   ]
  },
  {
   "cell_type": "markdown",
   "metadata": {},
   "source": [
    "В ходе работы мною было проделано следующее:\n",
    "\n",
    "- Загружены и изучены данные.\n",
    "- Проверено утверждение \"Изменится ли качество линейной регрессии, если умножить признаки на обратимую матрицу?\"\n",
    "- Создан алгоритм преобразования данных, благодаря которому сложно восстановить персональную информацию клиентов."
   ]
  }
 ],
 "metadata": {
  "ExecuteTimeLog": [
   {
    "duration": 150,
    "start_time": "2022-05-08T08:33:29.883Z"
   },
   {
    "duration": 423,
    "start_time": "2022-05-08T08:36:31.548Z"
   },
   {
    "duration": 108,
    "start_time": "2022-05-08T08:37:43.007Z"
   },
   {
    "duration": 5,
    "start_time": "2022-05-08T08:51:33.356Z"
   },
   {
    "duration": 568,
    "start_time": "2022-05-08T08:52:41.653Z"
   },
   {
    "duration": 16,
    "start_time": "2022-05-08T08:53:02.468Z"
   },
   {
    "duration": 10,
    "start_time": "2022-05-08T09:00:12.399Z"
   },
   {
    "duration": 22,
    "start_time": "2022-05-08T09:02:33.521Z"
   },
   {
    "duration": 881,
    "start_time": "2022-05-08T09:25:16.535Z"
   },
   {
    "duration": 3,
    "start_time": "2022-05-08T09:25:28.739Z"
   },
   {
    "duration": 4,
    "start_time": "2022-05-08T09:33:46.295Z"
   },
   {
    "duration": 99,
    "start_time": "2022-05-08T09:34:14.167Z"
   },
   {
    "duration": 3,
    "start_time": "2022-05-08T09:34:30.046Z"
   },
   {
    "duration": 28,
    "start_time": "2022-05-08T09:34:33.877Z"
   },
   {
    "duration": 3,
    "start_time": "2022-05-08T09:34:47.222Z"
   },
   {
    "duration": 26,
    "start_time": "2022-05-08T09:34:51.484Z"
   },
   {
    "duration": 35,
    "start_time": "2022-05-08T09:40:54.504Z"
   },
   {
    "duration": 26,
    "start_time": "2022-05-08T09:43:59.570Z"
   },
   {
    "duration": 133,
    "start_time": "2022-05-08T10:45:56.315Z"
   },
   {
    "duration": 3,
    "start_time": "2022-05-08T12:22:25.081Z"
   },
   {
    "duration": 9,
    "start_time": "2022-05-08T12:29:06.253Z"
   },
   {
    "duration": 4,
    "start_time": "2022-05-08T12:29:32.121Z"
   },
   {
    "duration": 9,
    "start_time": "2022-05-08T12:29:47.467Z"
   },
   {
    "duration": 4,
    "start_time": "2022-05-08T12:29:49.019Z"
   },
   {
    "duration": 12,
    "start_time": "2022-05-08T12:29:50.299Z"
   },
   {
    "duration": 3,
    "start_time": "2022-05-08T12:29:51.203Z"
   },
   {
    "duration": 4,
    "start_time": "2022-05-08T12:29:52.019Z"
   },
   {
    "duration": 8,
    "start_time": "2022-05-08T12:29:52.707Z"
   },
   {
    "duration": 4,
    "start_time": "2022-05-08T12:30:03.035Z"
   },
   {
    "duration": 5,
    "start_time": "2022-05-08T12:30:04.195Z"
   },
   {
    "duration": 4,
    "start_time": "2022-05-08T13:42:19.951Z"
   },
   {
    "duration": 11,
    "start_time": "2022-05-08T13:44:13.158Z"
   },
   {
    "duration": 10,
    "start_time": "2022-05-08T13:44:53.283Z"
   },
   {
    "duration": 5,
    "start_time": "2022-05-08T13:45:14.321Z"
   },
   {
    "duration": 11,
    "start_time": "2022-05-08T13:45:18.160Z"
   },
   {
    "duration": 11,
    "start_time": "2022-05-08T13:48:47.968Z"
   },
   {
    "duration": 8,
    "start_time": "2022-05-08T13:48:48.850Z"
   },
   {
    "duration": 3,
    "start_time": "2022-05-08T13:48:58.898Z"
   },
   {
    "duration": 1265,
    "start_time": "2022-05-08T13:49:09.034Z"
   },
   {
    "duration": 105,
    "start_time": "2022-05-08T13:49:10.922Z"
   },
   {
    "duration": 4,
    "start_time": "2022-05-08T13:49:12.395Z"
   },
   {
    "duration": 15,
    "start_time": "2022-05-08T13:49:13.940Z"
   },
   {
    "duration": 20,
    "start_time": "2022-05-08T13:49:15.875Z"
   },
   {
    "duration": 9,
    "start_time": "2022-05-08T13:49:18.763Z"
   },
   {
    "duration": 4,
    "start_time": "2022-05-08T13:49:20.299Z"
   },
   {
    "duration": 8,
    "start_time": "2022-05-08T13:49:20.931Z"
   },
   {
    "duration": 2,
    "start_time": "2022-05-08T13:49:21.483Z"
   },
   {
    "duration": 4,
    "start_time": "2022-05-08T13:49:22.058Z"
   },
   {
    "duration": 3,
    "start_time": "2022-05-08T13:49:23.186Z"
   },
   {
    "duration": 5,
    "start_time": "2022-05-08T13:49:23.755Z"
   },
   {
    "duration": 11,
    "start_time": "2022-05-08T13:49:25.643Z"
   },
   {
    "duration": 9,
    "start_time": "2022-05-08T13:49:26.275Z"
   },
   {
    "duration": 16,
    "start_time": "2022-05-08T13:58:33.782Z"
   }
  ],
  "kernelspec": {
   "display_name": "Python 3 (ipykernel)",
   "language": "python",
   "name": "python3"
  },
  "language_info": {
   "codemirror_mode": {
    "name": "ipython",
    "version": 3
   },
   "file_extension": ".py",
   "mimetype": "text/x-python",
   "name": "python",
   "nbconvert_exporter": "python",
   "pygments_lexer": "ipython3",
   "version": "3.9.5"
  },
  "toc": {
   "base_numbering": 1,
   "nav_menu": {},
   "number_sections": true,
   "sideBar": true,
   "skip_h1_title": true,
   "title_cell": "Содержание",
   "title_sidebar": "Contents",
   "toc_cell": true,
   "toc_position": {
    "height": "calc(100% - 180px)",
    "left": "10px",
    "top": "150px",
    "width": "239.983px"
   },
   "toc_section_display": true,
   "toc_window_display": true
  }
 },
 "nbformat": 4,
 "nbformat_minor": 2
}
