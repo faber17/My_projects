{
 "cells": [
  {
   "cell_type": "markdown",
   "metadata": {
    "toc": true
   },
   "source": [
    "<h1>Содержание<span class=\"tocSkip\"></span></h1>\n",
    "<div class=\"toc\"><ul class=\"toc-item\"><li><span><a href=\"#Подготовка-данных\" data-toc-modified-id=\"Подготовка-данных-1\"><span class=\"toc-item-num\">1&nbsp;&nbsp;</span>Подготовка данных</a></span><ul class=\"toc-item\"><li><span><a href=\"#Вывод\" data-toc-modified-id=\"Вывод-1.1\"><span class=\"toc-item-num\">1.1&nbsp;&nbsp;</span>Вывод</a></span></li></ul></li><li><span><a href=\"#Анализ-данных\" data-toc-modified-id=\"Анализ-данных-2\"><span class=\"toc-item-num\">2&nbsp;&nbsp;</span>Анализ данных</a></span><ul class=\"toc-item\"><li><span><a href=\"#Расчет-эффективности-обогащения\" data-toc-modified-id=\"Расчет-эффективности-обогащения-2.1\"><span class=\"toc-item-num\">2.1&nbsp;&nbsp;</span>Расчет эффективности обогащения</a></span></li><li><span><a href=\"#Анализ-признаков-недоступных-в-тестовой-выборке\" data-toc-modified-id=\"Анализ-признаков-недоступных-в-тестовой-выборке-2.2\"><span class=\"toc-item-num\">2.2&nbsp;&nbsp;</span>Анализ признаков недоступных в тестовой выборке</a></span></li><li><span><a href=\"#Подготовка-данных-для-модели\" data-toc-modified-id=\"Подготовка-данных-для-модели-2.3\"><span class=\"toc-item-num\">2.3&nbsp;&nbsp;</span>Подготовка данных для модели</a></span></li><li><span><a href=\"#Концентрация-веществ\" data-toc-modified-id=\"Концентрация-веществ-2.4\"><span class=\"toc-item-num\">2.4&nbsp;&nbsp;</span>Концентрация веществ</a></span></li><li><span><a href=\"#Размеры-гранул-сырья\" data-toc-modified-id=\"Размеры-гранул-сырья-2.5\"><span class=\"toc-item-num\">2.5&nbsp;&nbsp;</span>Размеры гранул сырья</a></span></li><li><span><a href=\"#-Комментарий-ревьюера-v1\" data-toc-modified-id=\"-Комментарий-ревьюера-v1-2.6\"><span class=\"toc-item-num\">2.6&nbsp;&nbsp;</span> Комментарий ревьюера v1</a></span></li><li><span><a href=\"#Вывод\" data-toc-modified-id=\"Вывод-2.7\"><span class=\"toc-item-num\">2.7&nbsp;&nbsp;</span>Вывод</a></span></li></ul></li><li><span><a href=\"#Модель\" data-toc-modified-id=\"Модель-3\"><span class=\"toc-item-num\">3&nbsp;&nbsp;</span>Модель</a></span><ul class=\"toc-item\"><li><span><a href=\"#-Комментарий-ревьюера-v1\" data-toc-modified-id=\"-Комментарий-ревьюера-v1-3.1\"><span class=\"toc-item-num\">3.1&nbsp;&nbsp;</span> Комментарий ревьюера v1</a></span></li><li><span><a href=\"#-Комментарий-ревьюера-v1\" data-toc-modified-id=\"-Комментарий-ревьюера-v1-3.2\"><span class=\"toc-item-num\">3.2&nbsp;&nbsp;</span> Комментарий ревьюера v1</a></span></li><li><span><a href=\"#-Комментарий-ревьюера-v1\" data-toc-modified-id=\"-Комментарий-ревьюера-v1-3.3\"><span class=\"toc-item-num\">3.3&nbsp;&nbsp;</span> Комментарий ревьюера v1</a></span></li><li><span><a href=\"#Вывод\" data-toc-modified-id=\"Вывод-3.4\"><span class=\"toc-item-num\">3.4&nbsp;&nbsp;</span>Вывод</a></span></li></ul></li><li><span><a href=\"#Общий-вывод\" data-toc-modified-id=\"Общий-вывод-4\"><span class=\"toc-item-num\">4&nbsp;&nbsp;</span>Общий вывод</a></span></li></ul></div>"
   ]
  },
  {
   "cell_type": "markdown",
   "metadata": {},
   "source": [
    "# Восстановление золота из руды"
   ]
  },
  {
   "cell_type": "markdown",
   "metadata": {},
   "source": [
    "Подготовьте прототип модели машинного обучения для «Цифры». Компания разрабатывает решения для эффективной работы промышленных предприятий.\n",
    "\n",
    "Модель должна предсказать коэффициент восстановления золота из золотосодержащей руды. Используйте данные с параметрами добычи и очистки. \n",
    "\n",
    "Модель поможет оптимизировать производство, чтобы не запускать предприятие с убыточными характеристиками.\n",
    "\n",
    "Вам нужно:\n",
    "\n",
    "1. Подготовить данные;\n",
    "2. Провести исследовательский анализ данных;\n",
    "3. Построить и обучить модель.\n",
    "\n",
    "Чтобы выполнить проект, обращайтесь к библиотекам *pandas*, *matplotlib* и *sklearn.* Вам поможет их документация."
   ]
  },
  {
   "cell_type": "markdown",
   "metadata": {},
   "source": [
    "Описание проекта\n",
    "\n",
    "Данные находятся в трёх файлах:\n",
    "\n",
    "gold_recovery_train_new.csv — обучающая выборка;\n",
    "\n",
    "gold_recovery_test_new.csv — тестовая выборка;\n",
    "\n",
    "gold_recovery_full_new.csv — исходные данные.\n",
    "\n",
    "Данные индексируются датой и временем получения информации (признак date). Соседние по времени параметры часто похожи.\n",
    "\n",
    "Некоторые параметры недоступны, потому что замеряются и/или рассчитываются значительно позже. Из-за этого в тестовой выборке отсутствуют некоторые признаки, которые могут быть в обучающей. Также в тестовом наборе нет целевых признаков.\n",
    "\n",
    "Исходный датасет содержит обучающую и тестовую выборки со всеми признаками.\n",
    "\n",
    "В вашем распоряжении сырые данные: их просто выгрузили из хранилища. Прежде чем приступить к построению модели, проверьте по нашей инструкции их на корректность."
   ]
  },
  {
   "cell_type": "markdown",
   "metadata": {},
   "source": [
    "Инструкция по выполнению проекта\n",
    "\n",
    "1. Подготовьте данные\n",
    "\n",
    "1.1. Откройте файлы и изучите их.\n",
    "\n",
    "Путь к файлам:\n",
    "    \n",
    "/datasets/gold_recovery_train_new.csv\n",
    "\n",
    "/datasets/gold_recovery_test_new.csv\n",
    "\n",
    "/datasets/gold_recovery_full_new.csv\n",
    "\n",
    "1.2. Проверьте, что эффективность обогащения рассчитана правильно. Вычислите её на обучающей выборке для признака rougher.output.recovery. Найдите MAE между вашими расчётами и значением признака. Опишите выводы.\n",
    "\n",
    "1.3. Проанализируйте признаки, недоступные в тестовой выборке. Что это за параметры? К какому типу относятся?\n",
    "\n",
    "1.4. Проведите предобработку данных."
   ]
  },
  {
   "cell_type": "markdown",
   "metadata": {},
   "source": [
    "2. Проанализируйте данные\n",
    "\n",
    "2.1. Посмотрите, как меняется концентрация металлов (Au, Ag, Pb) на различных этапах очистки. Опишите выводы.\n",
    "\n",
    "2.2. Сравните распределения размеров гранул сырья на обучающей и тестовой выборках. Если распределения сильно отличаются друг от друга, оценка модели будет неправильной.\n",
    "\n",
    "2.3. Исследуйте суммарную концентрацию всех веществ на разных стадиях: в сырье, в черновом и финальном концентратах."
   ]
  },
  {
   "cell_type": "markdown",
   "metadata": {},
   "source": [
    "3. Постройте модель\n",
    "\n",
    "3.1. Напишите функцию для вычисления итоговой sMAPE.\n",
    "\n",
    "3.2. Обучите разные модели и оцените их качество кросс-валидацией. Выберите лучшую модель и проверьте её на тестовой выборке.\n",
    "\n",
    "Опишите выводы.\n",
    "\n",
    "Вам пригодятся формулы метрик качества:\n",
    "\n",
    "![jupyter](https://pictures.s3.yandex.net/resources/smape_1576239058.jpg)\n",
    "\n",
    "![jupyter](https://pictures.s3.yandex.net/resources/_smape_1576239054.jpg)"
   ]
  },
  {
   "cell_type": "markdown",
   "metadata": {},
   "source": [
    "## Подготовка данных"
   ]
  },
  {
   "cell_type": "markdown",
   "metadata": {},
   "source": [
    "Импортирую необходимые библиотеки."
   ]
  },
  {
   "cell_type": "code",
   "execution_count": 1,
   "metadata": {},
   "outputs": [],
   "source": [
    "import matplotlib.pyplot as plt\n",
    "\n",
    "import numpy as np\n",
    "import pandas as pd\n",
    "\n",
    "from sklearn.linear_model import LinearRegression, Ridge\n",
    "from sklearn.metrics import r2_score, mean_absolute_error\n",
    "from sklearn.model_selection import cross_val_score, GridSearchCV\n",
    "from sklearn.preprocessing import StandardScaler, PolynomialFeatures\n",
    "from sklearn.pipeline import Pipeline\n",
    "from sklearn.tree import DecisionTreeRegressor"
   ]
  },
  {
   "cell_type": "markdown",
   "metadata": {},
   "source": [
    "Загружу имеющиеся данные."
   ]
  },
  {
   "cell_type": "code",
   "execution_count": 2,
   "metadata": {
    "scrolled": false
   },
   "outputs": [
    {
     "data": {
      "text/html": [
       "<div>\n",
       "<style scoped>\n",
       "    .dataframe tbody tr th:only-of-type {\n",
       "        vertical-align: middle;\n",
       "    }\n",
       "\n",
       "    .dataframe tbody tr th {\n",
       "        vertical-align: top;\n",
       "    }\n",
       "\n",
       "    .dataframe thead th {\n",
       "        text-align: right;\n",
       "    }\n",
       "</style>\n",
       "<table border=\"1\" class=\"dataframe\">\n",
       "  <thead>\n",
       "    <tr style=\"text-align: right;\">\n",
       "      <th></th>\n",
       "      <th>date</th>\n",
       "      <th>final.output.concentrate_ag</th>\n",
       "      <th>final.output.concentrate_pb</th>\n",
       "      <th>final.output.concentrate_sol</th>\n",
       "      <th>final.output.concentrate_au</th>\n",
       "      <th>final.output.recovery</th>\n",
       "      <th>final.output.tail_ag</th>\n",
       "      <th>final.output.tail_pb</th>\n",
       "      <th>final.output.tail_sol</th>\n",
       "      <th>final.output.tail_au</th>\n",
       "      <th>...</th>\n",
       "      <th>secondary_cleaner.state.floatbank4_a_air</th>\n",
       "      <th>secondary_cleaner.state.floatbank4_a_level</th>\n",
       "      <th>secondary_cleaner.state.floatbank4_b_air</th>\n",
       "      <th>secondary_cleaner.state.floatbank4_b_level</th>\n",
       "      <th>secondary_cleaner.state.floatbank5_a_air</th>\n",
       "      <th>secondary_cleaner.state.floatbank5_a_level</th>\n",
       "      <th>secondary_cleaner.state.floatbank5_b_air</th>\n",
       "      <th>secondary_cleaner.state.floatbank5_b_level</th>\n",
       "      <th>secondary_cleaner.state.floatbank6_a_air</th>\n",
       "      <th>secondary_cleaner.state.floatbank6_a_level</th>\n",
       "    </tr>\n",
       "  </thead>\n",
       "  <tbody>\n",
       "    <tr>\n",
       "      <th>0</th>\n",
       "      <td>2016-01-15 00:00:00</td>\n",
       "      <td>6.055403</td>\n",
       "      <td>9.889648</td>\n",
       "      <td>5.507324</td>\n",
       "      <td>42.192020</td>\n",
       "      <td>70.541216</td>\n",
       "      <td>10.411962</td>\n",
       "      <td>0.895447</td>\n",
       "      <td>16.904297</td>\n",
       "      <td>2.143149</td>\n",
       "      <td>...</td>\n",
       "      <td>14.016835</td>\n",
       "      <td>-502.488007</td>\n",
       "      <td>12.099931</td>\n",
       "      <td>-504.715942</td>\n",
       "      <td>9.925633</td>\n",
       "      <td>-498.310211</td>\n",
       "      <td>8.079666</td>\n",
       "      <td>-500.470978</td>\n",
       "      <td>14.151341</td>\n",
       "      <td>-605.841980</td>\n",
       "    </tr>\n",
       "    <tr>\n",
       "      <th>1</th>\n",
       "      <td>2016-01-15 01:00:00</td>\n",
       "      <td>6.029369</td>\n",
       "      <td>9.968944</td>\n",
       "      <td>5.257781</td>\n",
       "      <td>42.701629</td>\n",
       "      <td>69.266198</td>\n",
       "      <td>10.462676</td>\n",
       "      <td>0.927452</td>\n",
       "      <td>16.634514</td>\n",
       "      <td>2.224930</td>\n",
       "      <td>...</td>\n",
       "      <td>13.992281</td>\n",
       "      <td>-505.503262</td>\n",
       "      <td>11.950531</td>\n",
       "      <td>-501.331529</td>\n",
       "      <td>10.039245</td>\n",
       "      <td>-500.169983</td>\n",
       "      <td>7.984757</td>\n",
       "      <td>-500.582168</td>\n",
       "      <td>13.998353</td>\n",
       "      <td>-599.787184</td>\n",
       "    </tr>\n",
       "    <tr>\n",
       "      <th>2</th>\n",
       "      <td>2016-01-15 02:00:00</td>\n",
       "      <td>6.055926</td>\n",
       "      <td>10.213995</td>\n",
       "      <td>5.383759</td>\n",
       "      <td>42.657501</td>\n",
       "      <td>68.116445</td>\n",
       "      <td>10.507046</td>\n",
       "      <td>0.953716</td>\n",
       "      <td>16.208849</td>\n",
       "      <td>2.257889</td>\n",
       "      <td>...</td>\n",
       "      <td>14.015015</td>\n",
       "      <td>-502.520901</td>\n",
       "      <td>11.912783</td>\n",
       "      <td>-501.133383</td>\n",
       "      <td>10.070913</td>\n",
       "      <td>-500.129135</td>\n",
       "      <td>8.013877</td>\n",
       "      <td>-500.517572</td>\n",
       "      <td>14.028663</td>\n",
       "      <td>-601.427363</td>\n",
       "    </tr>\n",
       "    <tr>\n",
       "      <th>3</th>\n",
       "      <td>2016-01-15 03:00:00</td>\n",
       "      <td>6.047977</td>\n",
       "      <td>9.977019</td>\n",
       "      <td>4.858634</td>\n",
       "      <td>42.689819</td>\n",
       "      <td>68.347543</td>\n",
       "      <td>10.422762</td>\n",
       "      <td>0.883763</td>\n",
       "      <td>16.532835</td>\n",
       "      <td>2.146849</td>\n",
       "      <td>...</td>\n",
       "      <td>14.036510</td>\n",
       "      <td>-500.857308</td>\n",
       "      <td>11.999550</td>\n",
       "      <td>-501.193686</td>\n",
       "      <td>9.970366</td>\n",
       "      <td>-499.201640</td>\n",
       "      <td>7.977324</td>\n",
       "      <td>-500.255908</td>\n",
       "      <td>14.005551</td>\n",
       "      <td>-599.996129</td>\n",
       "    </tr>\n",
       "    <tr>\n",
       "      <th>4</th>\n",
       "      <td>2016-01-15 04:00:00</td>\n",
       "      <td>6.148599</td>\n",
       "      <td>10.142511</td>\n",
       "      <td>4.939416</td>\n",
       "      <td>42.774141</td>\n",
       "      <td>66.927016</td>\n",
       "      <td>10.360302</td>\n",
       "      <td>0.792826</td>\n",
       "      <td>16.525686</td>\n",
       "      <td>2.055292</td>\n",
       "      <td>...</td>\n",
       "      <td>14.027298</td>\n",
       "      <td>-499.838632</td>\n",
       "      <td>11.953070</td>\n",
       "      <td>-501.053894</td>\n",
       "      <td>9.925709</td>\n",
       "      <td>-501.686727</td>\n",
       "      <td>7.894242</td>\n",
       "      <td>-500.356035</td>\n",
       "      <td>13.996647</td>\n",
       "      <td>-601.496691</td>\n",
       "    </tr>\n",
       "  </tbody>\n",
       "</table>\n",
       "<p>5 rows × 87 columns</p>\n",
       "</div>"
      ],
      "text/plain": [
       "                  date  final.output.concentrate_ag  \\\n",
       "0  2016-01-15 00:00:00                     6.055403   \n",
       "1  2016-01-15 01:00:00                     6.029369   \n",
       "2  2016-01-15 02:00:00                     6.055926   \n",
       "3  2016-01-15 03:00:00                     6.047977   \n",
       "4  2016-01-15 04:00:00                     6.148599   \n",
       "\n",
       "   final.output.concentrate_pb  final.output.concentrate_sol  \\\n",
       "0                     9.889648                      5.507324   \n",
       "1                     9.968944                      5.257781   \n",
       "2                    10.213995                      5.383759   \n",
       "3                     9.977019                      4.858634   \n",
       "4                    10.142511                      4.939416   \n",
       "\n",
       "   final.output.concentrate_au  final.output.recovery  final.output.tail_ag  \\\n",
       "0                    42.192020              70.541216             10.411962   \n",
       "1                    42.701629              69.266198             10.462676   \n",
       "2                    42.657501              68.116445             10.507046   \n",
       "3                    42.689819              68.347543             10.422762   \n",
       "4                    42.774141              66.927016             10.360302   \n",
       "\n",
       "   final.output.tail_pb  final.output.tail_sol  final.output.tail_au  ...  \\\n",
       "0              0.895447              16.904297              2.143149  ...   \n",
       "1              0.927452              16.634514              2.224930  ...   \n",
       "2              0.953716              16.208849              2.257889  ...   \n",
       "3              0.883763              16.532835              2.146849  ...   \n",
       "4              0.792826              16.525686              2.055292  ...   \n",
       "\n",
       "   secondary_cleaner.state.floatbank4_a_air  \\\n",
       "0                                 14.016835   \n",
       "1                                 13.992281   \n",
       "2                                 14.015015   \n",
       "3                                 14.036510   \n",
       "4                                 14.027298   \n",
       "\n",
       "   secondary_cleaner.state.floatbank4_a_level  \\\n",
       "0                                 -502.488007   \n",
       "1                                 -505.503262   \n",
       "2                                 -502.520901   \n",
       "3                                 -500.857308   \n",
       "4                                 -499.838632   \n",
       "\n",
       "   secondary_cleaner.state.floatbank4_b_air  \\\n",
       "0                                 12.099931   \n",
       "1                                 11.950531   \n",
       "2                                 11.912783   \n",
       "3                                 11.999550   \n",
       "4                                 11.953070   \n",
       "\n",
       "   secondary_cleaner.state.floatbank4_b_level  \\\n",
       "0                                 -504.715942   \n",
       "1                                 -501.331529   \n",
       "2                                 -501.133383   \n",
       "3                                 -501.193686   \n",
       "4                                 -501.053894   \n",
       "\n",
       "   secondary_cleaner.state.floatbank5_a_air  \\\n",
       "0                                  9.925633   \n",
       "1                                 10.039245   \n",
       "2                                 10.070913   \n",
       "3                                  9.970366   \n",
       "4                                  9.925709   \n",
       "\n",
       "   secondary_cleaner.state.floatbank5_a_level  \\\n",
       "0                                 -498.310211   \n",
       "1                                 -500.169983   \n",
       "2                                 -500.129135   \n",
       "3                                 -499.201640   \n",
       "4                                 -501.686727   \n",
       "\n",
       "   secondary_cleaner.state.floatbank5_b_air  \\\n",
       "0                                  8.079666   \n",
       "1                                  7.984757   \n",
       "2                                  8.013877   \n",
       "3                                  7.977324   \n",
       "4                                  7.894242   \n",
       "\n",
       "   secondary_cleaner.state.floatbank5_b_level  \\\n",
       "0                                 -500.470978   \n",
       "1                                 -500.582168   \n",
       "2                                 -500.517572   \n",
       "3                                 -500.255908   \n",
       "4                                 -500.356035   \n",
       "\n",
       "   secondary_cleaner.state.floatbank6_a_air  \\\n",
       "0                                 14.151341   \n",
       "1                                 13.998353   \n",
       "2                                 14.028663   \n",
       "3                                 14.005551   \n",
       "4                                 13.996647   \n",
       "\n",
       "   secondary_cleaner.state.floatbank6_a_level  \n",
       "0                                 -605.841980  \n",
       "1                                 -599.787184  \n",
       "2                                 -601.427363  \n",
       "3                                 -599.996129  \n",
       "4                                 -601.496691  \n",
       "\n",
       "[5 rows x 87 columns]"
      ]
     },
     "metadata": {},
     "output_type": "display_data"
    },
    {
     "name": "stdout",
     "output_type": "stream",
     "text": [
      "<class 'pandas.core.frame.DataFrame'>\n",
      "RangeIndex: 14149 entries, 0 to 14148\n",
      "Data columns (total 87 columns):\n",
      " #   Column                                              Non-Null Count  Dtype  \n",
      "---  ------                                              --------------  -----  \n",
      " 0   date                                                14149 non-null  object \n",
      " 1   final.output.concentrate_ag                         14148 non-null  float64\n",
      " 2   final.output.concentrate_pb                         14148 non-null  float64\n",
      " 3   final.output.concentrate_sol                        13938 non-null  float64\n",
      " 4   final.output.concentrate_au                         14149 non-null  float64\n",
      " 5   final.output.recovery                               14149 non-null  float64\n",
      " 6   final.output.tail_ag                                14149 non-null  float64\n",
      " 7   final.output.tail_pb                                14049 non-null  float64\n",
      " 8   final.output.tail_sol                               14144 non-null  float64\n",
      " 9   final.output.tail_au                                14149 non-null  float64\n",
      " 10  primary_cleaner.input.sulfate                       14129 non-null  float64\n",
      " 11  primary_cleaner.input.depressant                    14117 non-null  float64\n",
      " 12  primary_cleaner.input.feed_size                     14149 non-null  float64\n",
      " 13  primary_cleaner.input.xanthate                      14049 non-null  float64\n",
      " 14  primary_cleaner.output.concentrate_ag               14149 non-null  float64\n",
      " 15  primary_cleaner.output.concentrate_pb               14063 non-null  float64\n",
      " 16  primary_cleaner.output.concentrate_sol              13863 non-null  float64\n",
      " 17  primary_cleaner.output.concentrate_au               14149 non-null  float64\n",
      " 18  primary_cleaner.output.tail_ag                      14148 non-null  float64\n",
      " 19  primary_cleaner.output.tail_pb                      14134 non-null  float64\n",
      " 20  primary_cleaner.output.tail_sol                     14103 non-null  float64\n",
      " 21  primary_cleaner.output.tail_au                      14149 non-null  float64\n",
      " 22  primary_cleaner.state.floatbank8_a_air              14145 non-null  float64\n",
      " 23  primary_cleaner.state.floatbank8_a_level            14148 non-null  float64\n",
      " 24  primary_cleaner.state.floatbank8_b_air              14145 non-null  float64\n",
      " 25  primary_cleaner.state.floatbank8_b_level            14148 non-null  float64\n",
      " 26  primary_cleaner.state.floatbank8_c_air              14147 non-null  float64\n",
      " 27  primary_cleaner.state.floatbank8_c_level            14148 non-null  float64\n",
      " 28  primary_cleaner.state.floatbank8_d_air              14146 non-null  float64\n",
      " 29  primary_cleaner.state.floatbank8_d_level            14148 non-null  float64\n",
      " 30  rougher.calculation.sulfate_to_au_concentrate       14148 non-null  float64\n",
      " 31  rougher.calculation.floatbank10_sulfate_to_au_feed  14148 non-null  float64\n",
      " 32  rougher.calculation.floatbank11_sulfate_to_au_feed  14148 non-null  float64\n",
      " 33  rougher.calculation.au_pb_ratio                     14149 non-null  float64\n",
      " 34  rougher.input.feed_ag                               14149 non-null  float64\n",
      " 35  rougher.input.feed_pb                               14049 non-null  float64\n",
      " 36  rougher.input.feed_rate                             14141 non-null  float64\n",
      " 37  rougher.input.feed_size                             14005 non-null  float64\n",
      " 38  rougher.input.feed_sol                              14071 non-null  float64\n",
      " 39  rougher.input.feed_au                               14149 non-null  float64\n",
      " 40  rougher.input.floatbank10_sulfate                   14120 non-null  float64\n",
      " 41  rougher.input.floatbank10_xanthate                  14141 non-null  float64\n",
      " 42  rougher.input.floatbank11_sulfate                   14113 non-null  float64\n",
      " 43  rougher.input.floatbank11_xanthate                  13721 non-null  float64\n",
      " 44  rougher.output.concentrate_ag                       14149 non-null  float64\n",
      " 45  rougher.output.concentrate_pb                       14149 non-null  float64\n",
      " 46  rougher.output.concentrate_sol                      14127 non-null  float64\n",
      " 47  rougher.output.concentrate_au                       14149 non-null  float64\n",
      " 48  rougher.output.recovery                             14149 non-null  float64\n",
      " 49  rougher.output.tail_ag                              14148 non-null  float64\n",
      " 50  rougher.output.tail_pb                              14149 non-null  float64\n",
      " 51  rougher.output.tail_sol                             14149 non-null  float64\n",
      " 52  rougher.output.tail_au                              14149 non-null  float64\n",
      " 53  rougher.state.floatbank10_a_air                     14148 non-null  float64\n",
      " 54  rougher.state.floatbank10_a_level                   14148 non-null  float64\n",
      " 55  rougher.state.floatbank10_b_air                     14148 non-null  float64\n",
      " 56  rougher.state.floatbank10_b_level                   14148 non-null  float64\n",
      " 57  rougher.state.floatbank10_c_air                     14148 non-null  float64\n",
      " 58  rougher.state.floatbank10_c_level                   14148 non-null  float64\n",
      " 59  rougher.state.floatbank10_d_air                     14149 non-null  float64\n",
      " 60  rougher.state.floatbank10_d_level                   14149 non-null  float64\n",
      " 61  rougher.state.floatbank10_e_air                     13713 non-null  float64\n",
      " 62  rougher.state.floatbank10_e_level                   14149 non-null  float64\n",
      " 63  rougher.state.floatbank10_f_air                     14149 non-null  float64\n",
      " 64  rougher.state.floatbank10_f_level                   14149 non-null  float64\n",
      " 65  secondary_cleaner.output.tail_ag                    14147 non-null  float64\n",
      " 66  secondary_cleaner.output.tail_pb                    14139 non-null  float64\n",
      " 67  secondary_cleaner.output.tail_sol                   12544 non-null  float64\n",
      " 68  secondary_cleaner.output.tail_au                    14149 non-null  float64\n",
      " 69  secondary_cleaner.state.floatbank2_a_air            13932 non-null  float64\n",
      " 70  secondary_cleaner.state.floatbank2_a_level          14148 non-null  float64\n",
      " 71  secondary_cleaner.state.floatbank2_b_air            14128 non-null  float64\n",
      " 72  secondary_cleaner.state.floatbank2_b_level          14148 non-null  float64\n",
      " 73  secondary_cleaner.state.floatbank3_a_air            14145 non-null  float64\n",
      " 74  secondary_cleaner.state.floatbank3_a_level          14148 non-null  float64\n",
      " 75  secondary_cleaner.state.floatbank3_b_air            14148 non-null  float64\n",
      " 76  secondary_cleaner.state.floatbank3_b_level          14148 non-null  float64\n",
      " 77  secondary_cleaner.state.floatbank4_a_air            14143 non-null  float64\n",
      " 78  secondary_cleaner.state.floatbank4_a_level          14148 non-null  float64\n",
      " 79  secondary_cleaner.state.floatbank4_b_air            14148 non-null  float64\n",
      " 80  secondary_cleaner.state.floatbank4_b_level          14148 non-null  float64\n",
      " 81  secondary_cleaner.state.floatbank5_a_air            14148 non-null  float64\n",
      " 82  secondary_cleaner.state.floatbank5_a_level          14148 non-null  float64\n",
      " 83  secondary_cleaner.state.floatbank5_b_air            14148 non-null  float64\n",
      " 84  secondary_cleaner.state.floatbank5_b_level          14148 non-null  float64\n",
      " 85  secondary_cleaner.state.floatbank6_a_air            14147 non-null  float64\n",
      " 86  secondary_cleaner.state.floatbank6_a_level          14148 non-null  float64\n",
      "dtypes: float64(86), object(1)\n",
      "memory usage: 9.4+ MB\n"
     ]
    },
    {
     "data": {
      "text/plain": [
       "None"
      ]
     },
     "metadata": {},
     "output_type": "display_data"
    }
   ],
   "source": [
    "try:  \n",
    "    train = pd.read_csv('C:/project/gold_recovery_train_new.csv')\n",
    "except OSError as e:\n",
    "    train = pd.read_csv('/datasets/gold_recovery_train_new.csv')\n",
    "display(train.head())\n",
    "display(train.info())"
   ]
  },
  {
   "cell_type": "code",
   "execution_count": 3,
   "metadata": {},
   "outputs": [
    {
     "data": {
      "text/html": [
       "<div>\n",
       "<style scoped>\n",
       "    .dataframe tbody tr th:only-of-type {\n",
       "        vertical-align: middle;\n",
       "    }\n",
       "\n",
       "    .dataframe tbody tr th {\n",
       "        vertical-align: top;\n",
       "    }\n",
       "\n",
       "    .dataframe thead th {\n",
       "        text-align: right;\n",
       "    }\n",
       "</style>\n",
       "<table border=\"1\" class=\"dataframe\">\n",
       "  <thead>\n",
       "    <tr style=\"text-align: right;\">\n",
       "      <th></th>\n",
       "      <th>date</th>\n",
       "      <th>primary_cleaner.input.sulfate</th>\n",
       "      <th>primary_cleaner.input.depressant</th>\n",
       "      <th>primary_cleaner.input.feed_size</th>\n",
       "      <th>primary_cleaner.input.xanthate</th>\n",
       "      <th>primary_cleaner.state.floatbank8_a_air</th>\n",
       "      <th>primary_cleaner.state.floatbank8_a_level</th>\n",
       "      <th>primary_cleaner.state.floatbank8_b_air</th>\n",
       "      <th>primary_cleaner.state.floatbank8_b_level</th>\n",
       "      <th>primary_cleaner.state.floatbank8_c_air</th>\n",
       "      <th>...</th>\n",
       "      <th>secondary_cleaner.state.floatbank4_a_air</th>\n",
       "      <th>secondary_cleaner.state.floatbank4_a_level</th>\n",
       "      <th>secondary_cleaner.state.floatbank4_b_air</th>\n",
       "      <th>secondary_cleaner.state.floatbank4_b_level</th>\n",
       "      <th>secondary_cleaner.state.floatbank5_a_air</th>\n",
       "      <th>secondary_cleaner.state.floatbank5_a_level</th>\n",
       "      <th>secondary_cleaner.state.floatbank5_b_air</th>\n",
       "      <th>secondary_cleaner.state.floatbank5_b_level</th>\n",
       "      <th>secondary_cleaner.state.floatbank6_a_air</th>\n",
       "      <th>secondary_cleaner.state.floatbank6_a_level</th>\n",
       "    </tr>\n",
       "  </thead>\n",
       "  <tbody>\n",
       "    <tr>\n",
       "      <th>0</th>\n",
       "      <td>2016-09-01 00:59:59</td>\n",
       "      <td>210.800909</td>\n",
       "      <td>14.993118</td>\n",
       "      <td>8.080000</td>\n",
       "      <td>1.005021</td>\n",
       "      <td>1398.981301</td>\n",
       "      <td>-500.225577</td>\n",
       "      <td>1399.144926</td>\n",
       "      <td>-499.919735</td>\n",
       "      <td>1400.102998</td>\n",
       "      <td>...</td>\n",
       "      <td>12.023554</td>\n",
       "      <td>-497.795834</td>\n",
       "      <td>8.016656</td>\n",
       "      <td>-501.289139</td>\n",
       "      <td>7.946562</td>\n",
       "      <td>-432.317850</td>\n",
       "      <td>4.872511</td>\n",
       "      <td>-500.037437</td>\n",
       "      <td>26.705889</td>\n",
       "      <td>-499.709414</td>\n",
       "    </tr>\n",
       "    <tr>\n",
       "      <th>1</th>\n",
       "      <td>2016-09-01 01:59:59</td>\n",
       "      <td>215.392455</td>\n",
       "      <td>14.987471</td>\n",
       "      <td>8.080000</td>\n",
       "      <td>0.990469</td>\n",
       "      <td>1398.777912</td>\n",
       "      <td>-500.057435</td>\n",
       "      <td>1398.055362</td>\n",
       "      <td>-499.778182</td>\n",
       "      <td>1396.151033</td>\n",
       "      <td>...</td>\n",
       "      <td>12.058140</td>\n",
       "      <td>-498.695773</td>\n",
       "      <td>8.130979</td>\n",
       "      <td>-499.634209</td>\n",
       "      <td>7.958270</td>\n",
       "      <td>-525.839648</td>\n",
       "      <td>4.878850</td>\n",
       "      <td>-500.162375</td>\n",
       "      <td>25.019940</td>\n",
       "      <td>-499.819438</td>\n",
       "    </tr>\n",
       "    <tr>\n",
       "      <th>2</th>\n",
       "      <td>2016-09-01 02:59:59</td>\n",
       "      <td>215.259946</td>\n",
       "      <td>12.884934</td>\n",
       "      <td>7.786667</td>\n",
       "      <td>0.996043</td>\n",
       "      <td>1398.493666</td>\n",
       "      <td>-500.868360</td>\n",
       "      <td>1398.860436</td>\n",
       "      <td>-499.764529</td>\n",
       "      <td>1398.075709</td>\n",
       "      <td>...</td>\n",
       "      <td>11.962366</td>\n",
       "      <td>-498.767484</td>\n",
       "      <td>8.096893</td>\n",
       "      <td>-500.827423</td>\n",
       "      <td>8.071056</td>\n",
       "      <td>-500.801673</td>\n",
       "      <td>4.905125</td>\n",
       "      <td>-499.828510</td>\n",
       "      <td>24.994862</td>\n",
       "      <td>-500.622559</td>\n",
       "    </tr>\n",
       "    <tr>\n",
       "      <th>3</th>\n",
       "      <td>2016-09-01 03:59:59</td>\n",
       "      <td>215.336236</td>\n",
       "      <td>12.006805</td>\n",
       "      <td>7.640000</td>\n",
       "      <td>0.863514</td>\n",
       "      <td>1399.618111</td>\n",
       "      <td>-498.863574</td>\n",
       "      <td>1397.440120</td>\n",
       "      <td>-499.211024</td>\n",
       "      <td>1400.129303</td>\n",
       "      <td>...</td>\n",
       "      <td>12.033091</td>\n",
       "      <td>-498.350935</td>\n",
       "      <td>8.074946</td>\n",
       "      <td>-499.474407</td>\n",
       "      <td>7.897085</td>\n",
       "      <td>-500.868509</td>\n",
       "      <td>4.931400</td>\n",
       "      <td>-499.963623</td>\n",
       "      <td>24.948919</td>\n",
       "      <td>-498.709987</td>\n",
       "    </tr>\n",
       "    <tr>\n",
       "      <th>4</th>\n",
       "      <td>2016-09-01 04:59:59</td>\n",
       "      <td>199.099327</td>\n",
       "      <td>10.682530</td>\n",
       "      <td>7.530000</td>\n",
       "      <td>0.805575</td>\n",
       "      <td>1401.268123</td>\n",
       "      <td>-500.808305</td>\n",
       "      <td>1398.128818</td>\n",
       "      <td>-499.504543</td>\n",
       "      <td>1402.172226</td>\n",
       "      <td>...</td>\n",
       "      <td>12.025367</td>\n",
       "      <td>-500.786497</td>\n",
       "      <td>8.054678</td>\n",
       "      <td>-500.397500</td>\n",
       "      <td>8.107890</td>\n",
       "      <td>-509.526725</td>\n",
       "      <td>4.957674</td>\n",
       "      <td>-500.360026</td>\n",
       "      <td>25.003331</td>\n",
       "      <td>-500.856333</td>\n",
       "    </tr>\n",
       "  </tbody>\n",
       "</table>\n",
       "<p>5 rows × 53 columns</p>\n",
       "</div>"
      ],
      "text/plain": [
       "                  date  primary_cleaner.input.sulfate  \\\n",
       "0  2016-09-01 00:59:59                     210.800909   \n",
       "1  2016-09-01 01:59:59                     215.392455   \n",
       "2  2016-09-01 02:59:59                     215.259946   \n",
       "3  2016-09-01 03:59:59                     215.336236   \n",
       "4  2016-09-01 04:59:59                     199.099327   \n",
       "\n",
       "   primary_cleaner.input.depressant  primary_cleaner.input.feed_size  \\\n",
       "0                         14.993118                         8.080000   \n",
       "1                         14.987471                         8.080000   \n",
       "2                         12.884934                         7.786667   \n",
       "3                         12.006805                         7.640000   \n",
       "4                         10.682530                         7.530000   \n",
       "\n",
       "   primary_cleaner.input.xanthate  primary_cleaner.state.floatbank8_a_air  \\\n",
       "0                        1.005021                             1398.981301   \n",
       "1                        0.990469                             1398.777912   \n",
       "2                        0.996043                             1398.493666   \n",
       "3                        0.863514                             1399.618111   \n",
       "4                        0.805575                             1401.268123   \n",
       "\n",
       "   primary_cleaner.state.floatbank8_a_level  \\\n",
       "0                               -500.225577   \n",
       "1                               -500.057435   \n",
       "2                               -500.868360   \n",
       "3                               -498.863574   \n",
       "4                               -500.808305   \n",
       "\n",
       "   primary_cleaner.state.floatbank8_b_air  \\\n",
       "0                             1399.144926   \n",
       "1                             1398.055362   \n",
       "2                             1398.860436   \n",
       "3                             1397.440120   \n",
       "4                             1398.128818   \n",
       "\n",
       "   primary_cleaner.state.floatbank8_b_level  \\\n",
       "0                               -499.919735   \n",
       "1                               -499.778182   \n",
       "2                               -499.764529   \n",
       "3                               -499.211024   \n",
       "4                               -499.504543   \n",
       "\n",
       "   primary_cleaner.state.floatbank8_c_air  ...  \\\n",
       "0                             1400.102998  ...   \n",
       "1                             1396.151033  ...   \n",
       "2                             1398.075709  ...   \n",
       "3                             1400.129303  ...   \n",
       "4                             1402.172226  ...   \n",
       "\n",
       "   secondary_cleaner.state.floatbank4_a_air  \\\n",
       "0                                 12.023554   \n",
       "1                                 12.058140   \n",
       "2                                 11.962366   \n",
       "3                                 12.033091   \n",
       "4                                 12.025367   \n",
       "\n",
       "   secondary_cleaner.state.floatbank4_a_level  \\\n",
       "0                                 -497.795834   \n",
       "1                                 -498.695773   \n",
       "2                                 -498.767484   \n",
       "3                                 -498.350935   \n",
       "4                                 -500.786497   \n",
       "\n",
       "   secondary_cleaner.state.floatbank4_b_air  \\\n",
       "0                                  8.016656   \n",
       "1                                  8.130979   \n",
       "2                                  8.096893   \n",
       "3                                  8.074946   \n",
       "4                                  8.054678   \n",
       "\n",
       "   secondary_cleaner.state.floatbank4_b_level  \\\n",
       "0                                 -501.289139   \n",
       "1                                 -499.634209   \n",
       "2                                 -500.827423   \n",
       "3                                 -499.474407   \n",
       "4                                 -500.397500   \n",
       "\n",
       "   secondary_cleaner.state.floatbank5_a_air  \\\n",
       "0                                  7.946562   \n",
       "1                                  7.958270   \n",
       "2                                  8.071056   \n",
       "3                                  7.897085   \n",
       "4                                  8.107890   \n",
       "\n",
       "   secondary_cleaner.state.floatbank5_a_level  \\\n",
       "0                                 -432.317850   \n",
       "1                                 -525.839648   \n",
       "2                                 -500.801673   \n",
       "3                                 -500.868509   \n",
       "4                                 -509.526725   \n",
       "\n",
       "   secondary_cleaner.state.floatbank5_b_air  \\\n",
       "0                                  4.872511   \n",
       "1                                  4.878850   \n",
       "2                                  4.905125   \n",
       "3                                  4.931400   \n",
       "4                                  4.957674   \n",
       "\n",
       "   secondary_cleaner.state.floatbank5_b_level  \\\n",
       "0                                 -500.037437   \n",
       "1                                 -500.162375   \n",
       "2                                 -499.828510   \n",
       "3                                 -499.963623   \n",
       "4                                 -500.360026   \n",
       "\n",
       "   secondary_cleaner.state.floatbank6_a_air  \\\n",
       "0                                 26.705889   \n",
       "1                                 25.019940   \n",
       "2                                 24.994862   \n",
       "3                                 24.948919   \n",
       "4                                 25.003331   \n",
       "\n",
       "   secondary_cleaner.state.floatbank6_a_level  \n",
       "0                                 -499.709414  \n",
       "1                                 -499.819438  \n",
       "2                                 -500.622559  \n",
       "3                                 -498.709987  \n",
       "4                                 -500.856333  \n",
       "\n",
       "[5 rows x 53 columns]"
      ]
     },
     "metadata": {},
     "output_type": "display_data"
    },
    {
     "name": "stdout",
     "output_type": "stream",
     "text": [
      "<class 'pandas.core.frame.DataFrame'>\n",
      "RangeIndex: 5290 entries, 0 to 5289\n",
      "Data columns (total 53 columns):\n",
      " #   Column                                      Non-Null Count  Dtype  \n",
      "---  ------                                      --------------  -----  \n",
      " 0   date                                        5290 non-null   object \n",
      " 1   primary_cleaner.input.sulfate               5286 non-null   float64\n",
      " 2   primary_cleaner.input.depressant            5285 non-null   float64\n",
      " 3   primary_cleaner.input.feed_size             5290 non-null   float64\n",
      " 4   primary_cleaner.input.xanthate              5286 non-null   float64\n",
      " 5   primary_cleaner.state.floatbank8_a_air      5290 non-null   float64\n",
      " 6   primary_cleaner.state.floatbank8_a_level    5290 non-null   float64\n",
      " 7   primary_cleaner.state.floatbank8_b_air      5290 non-null   float64\n",
      " 8   primary_cleaner.state.floatbank8_b_level    5290 non-null   float64\n",
      " 9   primary_cleaner.state.floatbank8_c_air      5290 non-null   float64\n",
      " 10  primary_cleaner.state.floatbank8_c_level    5290 non-null   float64\n",
      " 11  primary_cleaner.state.floatbank8_d_air      5290 non-null   float64\n",
      " 12  primary_cleaner.state.floatbank8_d_level    5290 non-null   float64\n",
      " 13  rougher.input.feed_ag                       5290 non-null   float64\n",
      " 14  rougher.input.feed_pb                       5290 non-null   float64\n",
      " 15  rougher.input.feed_rate                     5287 non-null   float64\n",
      " 16  rougher.input.feed_size                     5289 non-null   float64\n",
      " 17  rougher.input.feed_sol                      5269 non-null   float64\n",
      " 18  rougher.input.feed_au                       5290 non-null   float64\n",
      " 19  rougher.input.floatbank10_sulfate           5285 non-null   float64\n",
      " 20  rougher.input.floatbank10_xanthate          5290 non-null   float64\n",
      " 21  rougher.input.floatbank11_sulfate           5282 non-null   float64\n",
      " 22  rougher.input.floatbank11_xanthate          5265 non-null   float64\n",
      " 23  rougher.state.floatbank10_a_air             5290 non-null   float64\n",
      " 24  rougher.state.floatbank10_a_level           5290 non-null   float64\n",
      " 25  rougher.state.floatbank10_b_air             5290 non-null   float64\n",
      " 26  rougher.state.floatbank10_b_level           5290 non-null   float64\n",
      " 27  rougher.state.floatbank10_c_air             5290 non-null   float64\n",
      " 28  rougher.state.floatbank10_c_level           5290 non-null   float64\n",
      " 29  rougher.state.floatbank10_d_air             5290 non-null   float64\n",
      " 30  rougher.state.floatbank10_d_level           5290 non-null   float64\n",
      " 31  rougher.state.floatbank10_e_air             5290 non-null   float64\n",
      " 32  rougher.state.floatbank10_e_level           5290 non-null   float64\n",
      " 33  rougher.state.floatbank10_f_air             5290 non-null   float64\n",
      " 34  rougher.state.floatbank10_f_level           5290 non-null   float64\n",
      " 35  secondary_cleaner.state.floatbank2_a_air    5287 non-null   float64\n",
      " 36  secondary_cleaner.state.floatbank2_a_level  5290 non-null   float64\n",
      " 37  secondary_cleaner.state.floatbank2_b_air    5288 non-null   float64\n",
      " 38  secondary_cleaner.state.floatbank2_b_level  5290 non-null   float64\n",
      " 39  secondary_cleaner.state.floatbank3_a_air    5281 non-null   float64\n",
      " 40  secondary_cleaner.state.floatbank3_a_level  5290 non-null   float64\n",
      " 41  secondary_cleaner.state.floatbank3_b_air    5290 non-null   float64\n",
      " 42  secondary_cleaner.state.floatbank3_b_level  5290 non-null   float64\n",
      " 43  secondary_cleaner.state.floatbank4_a_air    5290 non-null   float64\n",
      " 44  secondary_cleaner.state.floatbank4_a_level  5290 non-null   float64\n",
      " 45  secondary_cleaner.state.floatbank4_b_air    5290 non-null   float64\n",
      " 46  secondary_cleaner.state.floatbank4_b_level  5290 non-null   float64\n",
      " 47  secondary_cleaner.state.floatbank5_a_air    5290 non-null   float64\n",
      " 48  secondary_cleaner.state.floatbank5_a_level  5290 non-null   float64\n",
      " 49  secondary_cleaner.state.floatbank5_b_air    5290 non-null   float64\n",
      " 50  secondary_cleaner.state.floatbank5_b_level  5290 non-null   float64\n",
      " 51  secondary_cleaner.state.floatbank6_a_air    5290 non-null   float64\n",
      " 52  secondary_cleaner.state.floatbank6_a_level  5290 non-null   float64\n",
      "dtypes: float64(52), object(1)\n",
      "memory usage: 2.1+ MB\n"
     ]
    },
    {
     "data": {
      "text/plain": [
       "None"
      ]
     },
     "metadata": {},
     "output_type": "display_data"
    }
   ],
   "source": [
    "try:  \n",
    "    test = pd.read_csv('C:/project/gold_recovery_test_new.csv')\n",
    "except OSError as e:\n",
    "    test = pd.read_csv('/datasets/gold_recovery_test_new.csv')\n",
    "display(test.head())\n",
    "display(test.info())"
   ]
  },
  {
   "cell_type": "code",
   "execution_count": 4,
   "metadata": {
    "scrolled": false
   },
   "outputs": [
    {
     "data": {
      "text/html": [
       "<div>\n",
       "<style scoped>\n",
       "    .dataframe tbody tr th:only-of-type {\n",
       "        vertical-align: middle;\n",
       "    }\n",
       "\n",
       "    .dataframe tbody tr th {\n",
       "        vertical-align: top;\n",
       "    }\n",
       "\n",
       "    .dataframe thead th {\n",
       "        text-align: right;\n",
       "    }\n",
       "</style>\n",
       "<table border=\"1\" class=\"dataframe\">\n",
       "  <thead>\n",
       "    <tr style=\"text-align: right;\">\n",
       "      <th></th>\n",
       "      <th>date</th>\n",
       "      <th>final.output.concentrate_ag</th>\n",
       "      <th>final.output.concentrate_pb</th>\n",
       "      <th>final.output.concentrate_sol</th>\n",
       "      <th>final.output.concentrate_au</th>\n",
       "      <th>final.output.recovery</th>\n",
       "      <th>final.output.tail_ag</th>\n",
       "      <th>final.output.tail_pb</th>\n",
       "      <th>final.output.tail_sol</th>\n",
       "      <th>final.output.tail_au</th>\n",
       "      <th>...</th>\n",
       "      <th>secondary_cleaner.state.floatbank4_a_air</th>\n",
       "      <th>secondary_cleaner.state.floatbank4_a_level</th>\n",
       "      <th>secondary_cleaner.state.floatbank4_b_air</th>\n",
       "      <th>secondary_cleaner.state.floatbank4_b_level</th>\n",
       "      <th>secondary_cleaner.state.floatbank5_a_air</th>\n",
       "      <th>secondary_cleaner.state.floatbank5_a_level</th>\n",
       "      <th>secondary_cleaner.state.floatbank5_b_air</th>\n",
       "      <th>secondary_cleaner.state.floatbank5_b_level</th>\n",
       "      <th>secondary_cleaner.state.floatbank6_a_air</th>\n",
       "      <th>secondary_cleaner.state.floatbank6_a_level</th>\n",
       "    </tr>\n",
       "  </thead>\n",
       "  <tbody>\n",
       "    <tr>\n",
       "      <th>0</th>\n",
       "      <td>2016-01-15 00:00:00</td>\n",
       "      <td>6.055403</td>\n",
       "      <td>9.889648</td>\n",
       "      <td>5.507324</td>\n",
       "      <td>42.192020</td>\n",
       "      <td>70.541216</td>\n",
       "      <td>10.411962</td>\n",
       "      <td>0.895447</td>\n",
       "      <td>16.904297</td>\n",
       "      <td>2.143149</td>\n",
       "      <td>...</td>\n",
       "      <td>14.016835</td>\n",
       "      <td>-502.488007</td>\n",
       "      <td>12.099931</td>\n",
       "      <td>-504.715942</td>\n",
       "      <td>9.925633</td>\n",
       "      <td>-498.310211</td>\n",
       "      <td>8.079666</td>\n",
       "      <td>-500.470978</td>\n",
       "      <td>14.151341</td>\n",
       "      <td>-605.841980</td>\n",
       "    </tr>\n",
       "    <tr>\n",
       "      <th>1</th>\n",
       "      <td>2016-01-15 01:00:00</td>\n",
       "      <td>6.029369</td>\n",
       "      <td>9.968944</td>\n",
       "      <td>5.257781</td>\n",
       "      <td>42.701629</td>\n",
       "      <td>69.266198</td>\n",
       "      <td>10.462676</td>\n",
       "      <td>0.927452</td>\n",
       "      <td>16.634514</td>\n",
       "      <td>2.224930</td>\n",
       "      <td>...</td>\n",
       "      <td>13.992281</td>\n",
       "      <td>-505.503262</td>\n",
       "      <td>11.950531</td>\n",
       "      <td>-501.331529</td>\n",
       "      <td>10.039245</td>\n",
       "      <td>-500.169983</td>\n",
       "      <td>7.984757</td>\n",
       "      <td>-500.582168</td>\n",
       "      <td>13.998353</td>\n",
       "      <td>-599.787184</td>\n",
       "    </tr>\n",
       "    <tr>\n",
       "      <th>2</th>\n",
       "      <td>2016-01-15 02:00:00</td>\n",
       "      <td>6.055926</td>\n",
       "      <td>10.213995</td>\n",
       "      <td>5.383759</td>\n",
       "      <td>42.657501</td>\n",
       "      <td>68.116445</td>\n",
       "      <td>10.507046</td>\n",
       "      <td>0.953716</td>\n",
       "      <td>16.208849</td>\n",
       "      <td>2.257889</td>\n",
       "      <td>...</td>\n",
       "      <td>14.015015</td>\n",
       "      <td>-502.520901</td>\n",
       "      <td>11.912783</td>\n",
       "      <td>-501.133383</td>\n",
       "      <td>10.070913</td>\n",
       "      <td>-500.129135</td>\n",
       "      <td>8.013877</td>\n",
       "      <td>-500.517572</td>\n",
       "      <td>14.028663</td>\n",
       "      <td>-601.427363</td>\n",
       "    </tr>\n",
       "    <tr>\n",
       "      <th>3</th>\n",
       "      <td>2016-01-15 03:00:00</td>\n",
       "      <td>6.047977</td>\n",
       "      <td>9.977019</td>\n",
       "      <td>4.858634</td>\n",
       "      <td>42.689819</td>\n",
       "      <td>68.347543</td>\n",
       "      <td>10.422762</td>\n",
       "      <td>0.883763</td>\n",
       "      <td>16.532835</td>\n",
       "      <td>2.146849</td>\n",
       "      <td>...</td>\n",
       "      <td>14.036510</td>\n",
       "      <td>-500.857308</td>\n",
       "      <td>11.999550</td>\n",
       "      <td>-501.193686</td>\n",
       "      <td>9.970366</td>\n",
       "      <td>-499.201640</td>\n",
       "      <td>7.977324</td>\n",
       "      <td>-500.255908</td>\n",
       "      <td>14.005551</td>\n",
       "      <td>-599.996129</td>\n",
       "    </tr>\n",
       "    <tr>\n",
       "      <th>4</th>\n",
       "      <td>2016-01-15 04:00:00</td>\n",
       "      <td>6.148599</td>\n",
       "      <td>10.142511</td>\n",
       "      <td>4.939416</td>\n",
       "      <td>42.774141</td>\n",
       "      <td>66.927016</td>\n",
       "      <td>10.360302</td>\n",
       "      <td>0.792826</td>\n",
       "      <td>16.525686</td>\n",
       "      <td>2.055292</td>\n",
       "      <td>...</td>\n",
       "      <td>14.027298</td>\n",
       "      <td>-499.838632</td>\n",
       "      <td>11.953070</td>\n",
       "      <td>-501.053894</td>\n",
       "      <td>9.925709</td>\n",
       "      <td>-501.686727</td>\n",
       "      <td>7.894242</td>\n",
       "      <td>-500.356035</td>\n",
       "      <td>13.996647</td>\n",
       "      <td>-601.496691</td>\n",
       "    </tr>\n",
       "  </tbody>\n",
       "</table>\n",
       "<p>5 rows × 87 columns</p>\n",
       "</div>"
      ],
      "text/plain": [
       "                  date  final.output.concentrate_ag  \\\n",
       "0  2016-01-15 00:00:00                     6.055403   \n",
       "1  2016-01-15 01:00:00                     6.029369   \n",
       "2  2016-01-15 02:00:00                     6.055926   \n",
       "3  2016-01-15 03:00:00                     6.047977   \n",
       "4  2016-01-15 04:00:00                     6.148599   \n",
       "\n",
       "   final.output.concentrate_pb  final.output.concentrate_sol  \\\n",
       "0                     9.889648                      5.507324   \n",
       "1                     9.968944                      5.257781   \n",
       "2                    10.213995                      5.383759   \n",
       "3                     9.977019                      4.858634   \n",
       "4                    10.142511                      4.939416   \n",
       "\n",
       "   final.output.concentrate_au  final.output.recovery  final.output.tail_ag  \\\n",
       "0                    42.192020              70.541216             10.411962   \n",
       "1                    42.701629              69.266198             10.462676   \n",
       "2                    42.657501              68.116445             10.507046   \n",
       "3                    42.689819              68.347543             10.422762   \n",
       "4                    42.774141              66.927016             10.360302   \n",
       "\n",
       "   final.output.tail_pb  final.output.tail_sol  final.output.tail_au  ...  \\\n",
       "0              0.895447              16.904297              2.143149  ...   \n",
       "1              0.927452              16.634514              2.224930  ...   \n",
       "2              0.953716              16.208849              2.257889  ...   \n",
       "3              0.883763              16.532835              2.146849  ...   \n",
       "4              0.792826              16.525686              2.055292  ...   \n",
       "\n",
       "   secondary_cleaner.state.floatbank4_a_air  \\\n",
       "0                                 14.016835   \n",
       "1                                 13.992281   \n",
       "2                                 14.015015   \n",
       "3                                 14.036510   \n",
       "4                                 14.027298   \n",
       "\n",
       "   secondary_cleaner.state.floatbank4_a_level  \\\n",
       "0                                 -502.488007   \n",
       "1                                 -505.503262   \n",
       "2                                 -502.520901   \n",
       "3                                 -500.857308   \n",
       "4                                 -499.838632   \n",
       "\n",
       "   secondary_cleaner.state.floatbank4_b_air  \\\n",
       "0                                 12.099931   \n",
       "1                                 11.950531   \n",
       "2                                 11.912783   \n",
       "3                                 11.999550   \n",
       "4                                 11.953070   \n",
       "\n",
       "   secondary_cleaner.state.floatbank4_b_level  \\\n",
       "0                                 -504.715942   \n",
       "1                                 -501.331529   \n",
       "2                                 -501.133383   \n",
       "3                                 -501.193686   \n",
       "4                                 -501.053894   \n",
       "\n",
       "   secondary_cleaner.state.floatbank5_a_air  \\\n",
       "0                                  9.925633   \n",
       "1                                 10.039245   \n",
       "2                                 10.070913   \n",
       "3                                  9.970366   \n",
       "4                                  9.925709   \n",
       "\n",
       "   secondary_cleaner.state.floatbank5_a_level  \\\n",
       "0                                 -498.310211   \n",
       "1                                 -500.169983   \n",
       "2                                 -500.129135   \n",
       "3                                 -499.201640   \n",
       "4                                 -501.686727   \n",
       "\n",
       "   secondary_cleaner.state.floatbank5_b_air  \\\n",
       "0                                  8.079666   \n",
       "1                                  7.984757   \n",
       "2                                  8.013877   \n",
       "3                                  7.977324   \n",
       "4                                  7.894242   \n",
       "\n",
       "   secondary_cleaner.state.floatbank5_b_level  \\\n",
       "0                                 -500.470978   \n",
       "1                                 -500.582168   \n",
       "2                                 -500.517572   \n",
       "3                                 -500.255908   \n",
       "4                                 -500.356035   \n",
       "\n",
       "   secondary_cleaner.state.floatbank6_a_air  \\\n",
       "0                                 14.151341   \n",
       "1                                 13.998353   \n",
       "2                                 14.028663   \n",
       "3                                 14.005551   \n",
       "4                                 13.996647   \n",
       "\n",
       "   secondary_cleaner.state.floatbank6_a_level  \n",
       "0                                 -605.841980  \n",
       "1                                 -599.787184  \n",
       "2                                 -601.427363  \n",
       "3                                 -599.996129  \n",
       "4                                 -601.496691  \n",
       "\n",
       "[5 rows x 87 columns]"
      ]
     },
     "metadata": {},
     "output_type": "display_data"
    },
    {
     "name": "stdout",
     "output_type": "stream",
     "text": [
      "<class 'pandas.core.frame.DataFrame'>\n",
      "RangeIndex: 19439 entries, 0 to 19438\n",
      "Data columns (total 87 columns):\n",
      " #   Column                                              Non-Null Count  Dtype  \n",
      "---  ------                                              --------------  -----  \n",
      " 0   date                                                19439 non-null  object \n",
      " 1   final.output.concentrate_ag                         19438 non-null  float64\n",
      " 2   final.output.concentrate_pb                         19438 non-null  float64\n",
      " 3   final.output.concentrate_sol                        19228 non-null  float64\n",
      " 4   final.output.concentrate_au                         19439 non-null  float64\n",
      " 5   final.output.recovery                               19439 non-null  float64\n",
      " 6   final.output.tail_ag                                19438 non-null  float64\n",
      " 7   final.output.tail_pb                                19338 non-null  float64\n",
      " 8   final.output.tail_sol                               19433 non-null  float64\n",
      " 9   final.output.tail_au                                19439 non-null  float64\n",
      " 10  primary_cleaner.input.sulfate                       19415 non-null  float64\n",
      " 11  primary_cleaner.input.depressant                    19402 non-null  float64\n",
      " 12  primary_cleaner.input.feed_size                     19439 non-null  float64\n",
      " 13  primary_cleaner.input.xanthate                      19335 non-null  float64\n",
      " 14  primary_cleaner.output.concentrate_ag               19439 non-null  float64\n",
      " 15  primary_cleaner.output.concentrate_pb               19323 non-null  float64\n",
      " 16  primary_cleaner.output.concentrate_sol              19069 non-null  float64\n",
      " 17  primary_cleaner.output.concentrate_au               19439 non-null  float64\n",
      " 18  primary_cleaner.output.tail_ag                      19435 non-null  float64\n",
      " 19  primary_cleaner.output.tail_pb                      19418 non-null  float64\n",
      " 20  primary_cleaner.output.tail_sol                     19377 non-null  float64\n",
      " 21  primary_cleaner.output.tail_au                      19439 non-null  float64\n",
      " 22  primary_cleaner.state.floatbank8_a_air              19435 non-null  float64\n",
      " 23  primary_cleaner.state.floatbank8_a_level            19438 non-null  float64\n",
      " 24  primary_cleaner.state.floatbank8_b_air              19435 non-null  float64\n",
      " 25  primary_cleaner.state.floatbank8_b_level            19438 non-null  float64\n",
      " 26  primary_cleaner.state.floatbank8_c_air              19437 non-null  float64\n",
      " 27  primary_cleaner.state.floatbank8_c_level            19438 non-null  float64\n",
      " 28  primary_cleaner.state.floatbank8_d_air              19436 non-null  float64\n",
      " 29  primary_cleaner.state.floatbank8_d_level            19438 non-null  float64\n",
      " 30  rougher.calculation.sulfate_to_au_concentrate       19437 non-null  float64\n",
      " 31  rougher.calculation.floatbank10_sulfate_to_au_feed  19437 non-null  float64\n",
      " 32  rougher.calculation.floatbank11_sulfate_to_au_feed  19437 non-null  float64\n",
      " 33  rougher.calculation.au_pb_ratio                     19439 non-null  float64\n",
      " 34  rougher.input.feed_ag                               19439 non-null  float64\n",
      " 35  rougher.input.feed_pb                               19339 non-null  float64\n",
      " 36  rougher.input.feed_rate                             19428 non-null  float64\n",
      " 37  rougher.input.feed_size                             19294 non-null  float64\n",
      " 38  rougher.input.feed_sol                              19340 non-null  float64\n",
      " 39  rougher.input.feed_au                               19439 non-null  float64\n",
      " 40  rougher.input.floatbank10_sulfate                   19405 non-null  float64\n",
      " 41  rougher.input.floatbank10_xanthate                  19431 non-null  float64\n",
      " 42  rougher.input.floatbank11_sulfate                   19395 non-null  float64\n",
      " 43  rougher.input.floatbank11_xanthate                  18986 non-null  float64\n",
      " 44  rougher.output.concentrate_ag                       19439 non-null  float64\n",
      " 45  rougher.output.concentrate_pb                       19439 non-null  float64\n",
      " 46  rougher.output.concentrate_sol                      19416 non-null  float64\n",
      " 47  rougher.output.concentrate_au                       19439 non-null  float64\n",
      " 48  rougher.output.recovery                             19439 non-null  float64\n",
      " 49  rougher.output.tail_ag                              19438 non-null  float64\n",
      " 50  rougher.output.tail_pb                              19439 non-null  float64\n",
      " 51  rougher.output.tail_sol                             19439 non-null  float64\n",
      " 52  rougher.output.tail_au                              19439 non-null  float64\n",
      " 53  rougher.state.floatbank10_a_air                     19438 non-null  float64\n",
      " 54  rougher.state.floatbank10_a_level                   19438 non-null  float64\n",
      " 55  rougher.state.floatbank10_b_air                     19438 non-null  float64\n",
      " 56  rougher.state.floatbank10_b_level                   19438 non-null  float64\n",
      " 57  rougher.state.floatbank10_c_air                     19438 non-null  float64\n",
      " 58  rougher.state.floatbank10_c_level                   19438 non-null  float64\n",
      " 59  rougher.state.floatbank10_d_air                     19439 non-null  float64\n",
      " 60  rougher.state.floatbank10_d_level                   19439 non-null  float64\n",
      " 61  rougher.state.floatbank10_e_air                     19003 non-null  float64\n",
      " 62  rougher.state.floatbank10_e_level                   19439 non-null  float64\n",
      " 63  rougher.state.floatbank10_f_air                     19439 non-null  float64\n",
      " 64  rougher.state.floatbank10_f_level                   19439 non-null  float64\n",
      " 65  secondary_cleaner.output.tail_ag                    19437 non-null  float64\n",
      " 66  secondary_cleaner.output.tail_pb                    19427 non-null  float64\n",
      " 67  secondary_cleaner.output.tail_sol                   17691 non-null  float64\n",
      " 68  secondary_cleaner.output.tail_au                    19439 non-null  float64\n",
      " 69  secondary_cleaner.state.floatbank2_a_air            19219 non-null  float64\n",
      " 70  secondary_cleaner.state.floatbank2_a_level          19438 non-null  float64\n",
      " 71  secondary_cleaner.state.floatbank2_b_air            19416 non-null  float64\n",
      " 72  secondary_cleaner.state.floatbank2_b_level          19438 non-null  float64\n",
      " 73  secondary_cleaner.state.floatbank3_a_air            19426 non-null  float64\n",
      " 74  secondary_cleaner.state.floatbank3_a_level          19438 non-null  float64\n",
      " 75  secondary_cleaner.state.floatbank3_b_air            19438 non-null  float64\n",
      " 76  secondary_cleaner.state.floatbank3_b_level          19438 non-null  float64\n",
      " 77  secondary_cleaner.state.floatbank4_a_air            19433 non-null  float64\n",
      " 78  secondary_cleaner.state.floatbank4_a_level          19438 non-null  float64\n",
      " 79  secondary_cleaner.state.floatbank4_b_air            19438 non-null  float64\n",
      " 80  secondary_cleaner.state.floatbank4_b_level          19438 non-null  float64\n",
      " 81  secondary_cleaner.state.floatbank5_a_air            19438 non-null  float64\n",
      " 82  secondary_cleaner.state.floatbank5_a_level          19438 non-null  float64\n",
      " 83  secondary_cleaner.state.floatbank5_b_air            19438 non-null  float64\n",
      " 84  secondary_cleaner.state.floatbank5_b_level          19438 non-null  float64\n",
      " 85  secondary_cleaner.state.floatbank6_a_air            19437 non-null  float64\n",
      " 86  secondary_cleaner.state.floatbank6_a_level          19438 non-null  float64\n",
      "dtypes: float64(86), object(1)\n",
      "memory usage: 12.9+ MB\n"
     ]
    },
    {
     "data": {
      "text/plain": [
       "None"
      ]
     },
     "metadata": {},
     "output_type": "display_data"
    }
   ],
   "source": [
    "try:  \n",
    "    full = pd.read_csv('C:/project/gold_recovery_full_new.csv')\n",
    "except OSError as e:\n",
    "    full = pd.read_csv('/datasets/gold_recovery_full_new.csv')\n",
    "display(full.head())\n",
    "display(full.info())"
   ]
  },
  {
   "cell_type": "markdown",
   "metadata": {},
   "source": [
    "Проверю имеющиеся данные на наличие NaN, нулей и выбивающихся значений."
   ]
  },
  {
   "cell_type": "code",
   "execution_count": 5,
   "metadata": {},
   "outputs": [],
   "source": [
    "def data_values(data):\n",
    "    for column in data.columns:\n",
    "        print('Значения столбца', column)\n",
    "        print(data[column].sort_values().unique())\n",
    "        print('Количество NaN:', data[column].isna().sum())"
   ]
  },
  {
   "cell_type": "code",
   "execution_count": 6,
   "metadata": {
    "scrolled": false
   },
   "outputs": [
    {
     "name": "stdout",
     "output_type": "stream",
     "text": [
      "Значения столбца date\n",
      "['2016-01-15 00:00:00' '2016-01-15 01:00:00' '2016-01-15 02:00:00' ...\n",
      " '2018-08-18 08:59:59' '2018-08-18 09:59:59' '2018-08-18 10:59:59']\n",
      "Количество NaN: 0\n",
      "Значения столбца final.output.concentrate_ag\n",
      "[0.00000000e+00 9.99999978e-03 2.89058560e-01 ... 1.36916988e+01\n",
      " 1.60019451e+01            nan]\n",
      "Количество NaN: 1\n",
      "Значения столбца final.output.concentrate_pb\n",
      "[0.00000000e+00 9.99999978e-03 3.32391277e-01 ... 1.67052966e+01\n",
      " 1.70318995e+01            nan]\n",
      "Количество NaN: 1\n",
      "Значения столбца final.output.concentrate_sol\n",
      "[0.00000000e+00 9.99999978e-03 2.53230694e-01 ... 1.80463950e+01\n",
      " 1.81248509e+01            nan]\n",
      "Количество NaN: 211\n",
      "Значения столбца final.output.concentrate_au\n",
      "[0.00000000e+00 9.99999978e-03 1.06399152e+00 ... 5.15718847e+01\n",
      " 5.26817252e+01 5.27566376e+01]\n",
      "Количество NaN: 0\n",
      "Значения столбца final.output.recovery\n",
      "[  0.           0.16861094   0.43026371 ...  99.74147843  99.9101831\n",
      " 100.        ]\n",
      "Количество NaN: 0\n",
      "Значения столбца final.output.tail_ag\n",
      "[0.00000000e+00 1.67896355e-02 8.06744246e-02 ... 1.91534636e+01\n",
      " 1.91572238e+01 1.95521486e+01]\n",
      "Количество NaN: 0\n",
      "Значения столбца final.output.tail_pb\n",
      "[0.00000000e+00 4.50822342e-03 1.87642594e-02 ... 5.63815440e+00\n",
      " 5.63956503e+00            nan]\n",
      "Количество NaN: 100\n",
      "Значения столбца final.output.tail_sol\n",
      "[ 0.          0.10482714  0.13145172 ... 22.27201882 22.31773034\n",
      "         nan]\n",
      "Количество NaN: 5\n",
      "Значения столбца final.output.tail_au\n",
      "[0.00000000e+00 5.46186356e-03 1.60726247e-02 ... 7.67516393e+00\n",
      " 7.81280062e+00 8.19740820e+00]\n",
      "Количество NaN: 0\n",
      "Значения столбца primary_cleaner.input.sulfate\n",
      "[3.11181987e-03 5.12794527e-02 6.74242932e-02 ... 2.50070701e+02\n",
      " 2.50127834e+02            nan]\n",
      "Количество NaN: 20\n",
      "Значения столбца primary_cleaner.input.depressant\n",
      "[0.00000000e+00 7.72051019e-03 1.22440730e-02 ... 2.00369651e+01\n",
      " 2.00522554e+01            nan]\n",
      "Количество NaN: 32\n",
      "Значения столбца primary_cleaner.input.feed_size\n",
      "[ 1.08000004  1.08000738  4.96999979 ... 10.10000019 10.10000038\n",
      " 10.47000027]\n",
      "Количество NaN: 0\n",
      "Значения столбца primary_cleaner.input.xanthate\n",
      "[4.63275311e-06 1.54395565e-04 2.13506269e-04 ... 2.50689087e+00\n",
      " 2.51296837e+00            nan]\n",
      "Количество NaN: 100\n",
      "Значения столбца primary_cleaner.output.concentrate_ag\n",
      "[0.00000000e+00 9.99999978e-03 1.86605083e-02 ... 1.49244060e+01\n",
      " 1.50057894e+01 1.60816317e+01]\n",
      "Количество NaN: 0\n",
      "Значения столбца primary_cleaner.output.concentrate_pb\n",
      "[0.00000000e+00 9.99999978e-03 2.13565418e-02 ... 1.68778012e+01\n",
      " 1.70812785e+01            nan]\n",
      "Количество NaN: 86\n",
      "Значения столбца primary_cleaner.output.concentrate_sol\n",
      "[0.00000000e+00 9.99999978e-03 1.64160881e-02 ... 2.18103296e+01\n",
      " 2.22808452e+01            nan]\n",
      "Количество NaN: 286\n",
      "Значения столбца primary_cleaner.output.concentrate_au\n",
      "[0.00000000e+00 9.99999978e-03 5.65902522e-02 ... 4.46263264e+01\n",
      " 4.49592807e+01 4.59339341e+01]\n",
      "Количество NaN: 0\n",
      "Значения столбца primary_cleaner.output.tail_ag\n",
      "[ 0.          0.23581917  0.43725937 ... 29.25914897 29.45957463\n",
      "         nan]\n",
      "Количество NaN: 1\n",
      "Значения столбца primary_cleaner.output.tail_pb\n",
      "[0.         0.04955245 0.08468115 ... 9.46232065 9.63456465        nan]\n",
      "Количество NaN: 15\n",
      "Значения столбца primary_cleaner.output.tail_sol\n",
      "[ 0.          0.07420314  0.1263097  ... 18.405206   20.62083301\n",
      "         nan]\n",
      "Количество NaN: 46\n",
      "Значения столбца primary_cleaner.output.tail_au\n",
      "[ 0.          0.04526926  0.05205531 ... 16.63776331 17.28157164\n",
      " 17.78892473]\n",
      "Количество NaN: 0\n",
      "Значения столбца primary_cleaner.state.floatbank8_a_air\n",
      "[6.35215460e-03 1.69931009e-02 3.04788187e+02 ... 2.07751309e+03\n",
      " 2.07953134e+03            nan]\n",
      "Количество NaN: 4\n",
      "Значения столбца primary_cleaner.state.floatbank8_a_level\n",
      "[-798.64166156 -798.57711111 -798.51256066 ... -347.04056268 -330.13420268\n",
      "           nan]\n",
      "Количество NaN: 1\n",
      "Значения столбца primary_cleaner.state.floatbank8_b_air\n",
      "[8.70041584e-03 2.32751016e-02 3.06005110e+02 ... 1.90082594e+03\n",
      " 2.11490676e+03            nan]\n",
      "Количество NaN: 4\n",
      "Значения столбца primary_cleaner.state.floatbank8_b_level\n",
      "[-740.12212904 -628.59758929 -613.70120479 ... -347.53530853 -347.35437978\n",
      "           nan]\n",
      "Количество NaN: 1\n",
      "Значения столбца primary_cleaner.state.floatbank8_c_air\n",
      "[1.51588212e-02 4.05524413e-02 1.42109872e+00 ... 1.98723946e+03\n",
      " 2.01315646e+03            nan]\n",
      "Количество NaN: 2\n",
      "Значения столбца primary_cleaner.state.floatbank8_c_level\n",
      "[-799.80307282 -799.78781495 -799.71908862 ... -346.79221609 -346.6534498\n",
      "           nan]\n",
      "Количество NaN: 1\n",
      "Значения столбца primary_cleaner.state.floatbank8_d_air\n",
      "[8.65460878e-03 2.31525599e-02 1.31321672e+02 ... 2.39889137e+03\n",
      " 2.39890364e+03            nan]\n",
      "Количество NaN: 3\n",
      "Значения столбца primary_cleaner.state.floatbank8_d_level\n",
      "[-799.78859753 -799.77677046 -799.76164064 ...  -40.02717625  -30.60182765\n",
      "           nan]\n",
      "Количество NaN: 1\n",
      "Значения столбца rougher.calculation.sulfate_to_au_concentrate\n",
      "[-42235197.36918358 -15488584.02968955   -720644.26271326 ...\n",
      "   1208360.6222556    3428098.93899962                nan]\n",
      "Количество NaN: 1\n",
      "Значения столбца rougher.calculation.floatbank10_sulfate_to_au_feed\n",
      "[-4.86598675e+02 -1.86077622e+02 -1.48002251e+02 ...  2.34425860e+05\n",
      "  6.29638978e+05             nan]\n",
      "Количество NaN: 1\n",
      "Значения столбца rougher.calculation.floatbank11_sulfate_to_au_feed\n",
      "[-2.64982785e+02 -9.79042018e+01 -9.44262849e+01 ...  3.37629418e+05\n",
      "  7.18684956e+05             nan]\n",
      "Количество NaN: 1\n",
      "Значения столбца rougher.calculation.au_pb_ratio\n",
      "[-1.05476130e-02 -5.68629179e-03 -5.55223299e-03 ...  2.04703571e+01\n",
      "  2.72313740e+01  3.93792720e+01]\n",
      "Количество NaN: 0\n",
      "Значения столбца rougher.input.feed_ag\n",
      "[9.99999978e-03 1.01567637e+00 1.10675790e+00 ... 1.44506869e+01\n",
      " 1.45336976e+01 1.45960260e+01]\n",
      "Количество NaN: 0\n",
      "Значения столбца rougher.input.feed_pb\n",
      "[0.01       0.08855211 0.1258895  ... 7.05232491 7.1425941         nan]\n",
      "Количество NaN: 100\n",
      "Значения столбца rougher.input.feed_rate\n",
      "[1.27856991e-02 2.28024680e-02 2.33928222e-02 ... 6.74543343e+02\n",
      " 7.17508837e+02            nan]\n",
      "Количество NaN: 8\n",
      "Значения столбца rougher.input.feed_size\n",
      "[  9.65957631  12.19155385  14.24924555 ... 449.82540208 484.96746649\n",
      "          nan]\n",
      "Количество NaN: 144\n",
      "Значения столбца rougher.input.feed_sol\n",
      "[9.99999978e-03 4.63866600e-01 3.13592694e+00 ... 4.83062324e+01\n",
      " 4.83631772e+01            nan]\n",
      "Количество NaN: 78\n",
      "Значения столбца rougher.input.feed_au\n",
      "[9.99999978e-03 5.88152487e-01 6.25968401e-01 ... 1.30768356e+01\n",
      " 1.30795816e+01 1.31260427e+01]\n",
      "Количество NaN: 0\n",
      "Значения столбца rougher.input.floatbank10_sulfate\n",
      "[1.08311234e-03 1.16403997e-03 1.61312984e-03 ... 3.13930447e+01\n",
      " 3.61182747e+01            nan]\n",
      "Количество NaN: 29\n",
      "Значения столбца rougher.input.floatbank10_xanthate\n",
      "[1.42768468e-03 2.14996568e-03 2.65545400e-03 ... 9.67462141e+00\n",
      " 9.70344804e+00            nan]\n",
      "Количество NaN: 8\n",
      "Значения столбца rougher.input.floatbank11_sulfate\n",
      "[9.78733624e-05 1.62766303e-04 5.28747619e-04 ... 3.27807615e+01\n",
      " 3.79806479e+01            nan]\n",
      "Количество NaN: 36\n",
      "Значения столбца rougher.input.floatbank11_xanthate\n",
      "[2.90412574e-04 4.06353684e-04 5.78449592e-04 ... 9.66867785e+00\n",
      " 9.69840687e+00            nan]\n",
      "Количество NaN: 428\n",
      "Значения столбца rougher.output.concentrate_ag\n",
      "[0.00000000e+00 9.99999978e-03 3.51874199e-01 ... 2.15262087e+01\n",
      " 2.17256951e+01 2.44802709e+01]\n",
      "Количество NaN: 0\n",
      "Значения столбца rougher.output.concentrate_pb\n",
      "[0.00000000e+00 9.99999978e-03 2.14360152e-01 ... 1.30771484e+01\n",
      " 1.30916794e+01 1.36170719e+01]\n",
      "Количество NaN: 0\n",
      "Значения столбца rougher.output.concentrate_sol\n",
      "[0.00000000e+00 9.99999978e-03 8.79593415e-01 ... 3.82396080e+01\n",
      " 3.83511928e+01            nan]\n",
      "Количество NaN: 22\n",
      "Значения столбца rougher.output.concentrate_au\n",
      "[0.00000000e+00 9.99999978e-03 5.70818759e-01 ... 2.78917748e+01\n",
      " 2.80396370e+01 2.81468376e+01]\n",
      "Количество NaN: 0\n",
      "Значения столбца rougher.output.recovery\n",
      "[  0.           2.5208538    9.82687608 ...  99.84766302  99.97904062\n",
      " 100.        ]\n",
      "Количество NaN: 0\n",
      "Значения столбца rougher.output.tail_ag\n",
      "[ 0.59456229  2.1583695   2.17036063 ... 11.42009055 12.71917683\n",
      "         nan]\n",
      "Количество NaN: 1\n",
      "Значения столбца rougher.output.tail_pb\n",
      "[0.00756607 0.00901408 0.01107304 ... 3.28719536 3.32012453 3.77806377]\n",
      "Количество NaN: 0\n",
      "Значения столбца rougher.output.tail_sol\n",
      "[10.01464844 10.02400543 10.03536285 ... 65.1171875  65.6171875\n",
      " 66.1171875 ]\n",
      "Количество NaN: 0\n",
      "Значения столбца rougher.output.tail_au\n",
      "[0.02067578 0.02454497 0.03123449 ... 8.64959788 8.78308226 9.68897969]\n",
      "Количество NaN: 0\n",
      "Значения столбца rougher.state.floatbank10_a_air\n",
      "[-4.10779189e-02 -2.00588754e-02  1.55593194e+02 ...  1.51229953e+03\n",
      "  1.52198037e+03             nan]\n",
      "Количество NaN: 1\n",
      "Значения столбца rougher.state.floatbank10_a_level\n",
      "[-650.20288082 -650.17847057 -650.08625535 ... -281.04196652 -281.03929854\n",
      "           nan]\n",
      "Количество NaN: 1\n",
      "Значения столбца rougher.state.floatbank10_b_air\n",
      "[-6.53383831e-01 -4.08072442e-01  2.70696463e+02 ...  1.80721304e+03\n",
      "  1.80919401e+03             nan]\n",
      "Количество NaN: 1\n",
      "Значения столбца rougher.state.floatbank10_b_level\n",
      "[-650.26000754 -650.25210841 -650.24022086 ... -298.03662208 -296.38307996\n",
      "           nan]\n",
      "Количество NaN: 1\n",
      "Значения столбца rougher.state.floatbank10_c_air\n",
      "[-3.51123303e-02 -2.63010209e-02  2.65315357e+02 ...  2.49912804e+03\n",
      "  2.49912917e+03             nan]\n",
      "Количество NaN: 1\n",
      "Значения столбца rougher.state.floatbank10_c_level\n",
      "[-640.99562736 -632.74393577 -610.35751926 ... -293.273988   -292.15550877\n",
      "           nan]\n",
      "Количество NaN: 1\n",
      "Значения столбца rougher.state.floatbank10_d_air\n",
      "[-5.54298653e-01 -1.24765546e-01  3.04093664e+02 ...  1.81034889e+03\n",
      "  1.81153837e+03  1.81719929e+03]\n",
      "Количество NaN: 0\n",
      "Значения столбца rougher.state.floatbank10_d_level\n",
      "[-640.51900283 -626.68388853 -617.75603098 ... -290.19039758 -282.98620308\n",
      " -208.33067299]\n",
      "Количество NaN: 0\n",
      "Значения столбца rougher.state.floatbank10_e_air\n",
      "[  -1.97027535   -1.9368775    94.3720229  ... 1702.24775633 1922.63663666\n",
      "           nan]\n",
      "Количество NaN: 436\n",
      "Значения столбца rougher.state.floatbank10_e_level\n",
      "[-649.44391091 -648.76210297 -648.00244418 ... -296.87736652 -294.83245348\n",
      " -272.19959776]\n",
      "Количество NaN: 0\n",
      "Значения столбца rougher.state.floatbank10_f_air\n",
      "[  -2.43058725   -2.32864129   28.33235527 ... 1702.75517349 1704.72120588\n",
      " 1706.30750242]\n",
      "Количество NaN: 0\n",
      "Значения столбца rougher.state.floatbank10_f_level\n",
      "[-649.88098145 -649.76441843 -648.97349872 ... -258.30093873 -243.84637637\n",
      " -191.71847977]\n",
      "Количество NaN: 0\n",
      "Значения столбца secondary_cleaner.output.tail_ag\n",
      "[0.00000000e+00 1.74094229e-02 1.67573319e-01 ... 2.25547914e+01\n",
      " 2.32647383e+01            nan]\n",
      "Количество NaN: 2\n",
      "Значения столбца secondary_cleaner.output.tail_pb\n",
      "[0.00000000e+00 7.51370729e-03 6.53704851e-02 ... 1.70288284e+01\n",
      " 1.70425049e+01            nan]\n",
      "Количество NaN: 10\n",
      "Значения столбца secondary_cleaner.output.tail_sol\n",
      "[0.00000000e+00 1.48978660e-02 2.17190071e-02 ... 1.74517132e+01\n",
      " 1.79761710e+01            nan]\n",
      "Количество NaN: 1605\n",
      "Значения столбца secondary_cleaner.output.tail_au\n",
      "[0.00000000e+00 5.87694919e-03 3.35287500e-02 ... 2.54401281e+01\n",
      " 2.56505452e+01 2.68116429e+01]\n",
      "Количество NaN: 0\n",
      "Значения столбца secondary_cleaner.state.floatbank2_a_air\n",
      "[ 0.07750256  0.12201295  0.14254034 ... 50.52789074 52.65139882\n",
      "         nan]\n",
      "Количество NaN: 217\n",
      "Значения столбца secondary_cleaner.state.floatbank2_a_level\n",
      "[-799.60644065 -799.6057617  -799.6027237  ... -166.93310319 -127.87556529\n",
      "           nan]\n",
      "Количество NaN: 1\n",
      "Значения столбца secondary_cleaner.state.floatbank2_b_air\n",
      "[0.00000000e+00 6.77810119e-18 8.21001987e-18 ... 3.50895829e+01\n",
      " 3.51521220e+01            nan]\n",
      "Количество NaN: 21\n",
      "Значения столбца secondary_cleaner.state.floatbank2_b_level\n",
      "[-799.87387822 -799.87029246 -799.86289458 ... -216.66081388 -212.06466514\n",
      "           nan]\n",
      "Количество NaN: 1\n",
      "Значения столбца secondary_cleaner.state.floatbank3_a_air\n",
      "[0.00000000e+00 1.83359810e-21 1.51145775e-07 ... 4.40644101e+01\n",
      " 4.42604636e+01            nan]\n",
      "Количество NaN: 4\n",
      "Значения столбца secondary_cleaner.state.floatbank3_a_level\n",
      "[-799.61301338 -799.60921934 -799.60761452 ... -246.39632375 -191.67881013\n",
      "           nan]\n",
      "Количество NaN: 1\n",
      "Значения столбца secondary_cleaner.state.floatbank3_b_air\n",
      "[0.00000000e+00 6.13725605e-22 7.77113953e-05 ... 3.50622105e+01\n",
      " 3.50728406e+01            nan]\n",
      "Количество NaN: 1\n",
      "Значения столбца secondary_cleaner.state.floatbank3_b_level\n",
      "[-759.1773809  -757.80176452 -757.51713848 ... -159.79751633 -159.74233084\n",
      "           nan]\n",
      "Количество NaN: 1\n",
      "Значения столбца secondary_cleaner.state.floatbank4_a_air\n",
      "[0.00000000e+00 7.27160470e-05 4.50279584e+00 ... 3.00845001e+01\n",
      " 3.01157354e+01            nan]\n",
      "Количество NaN: 6\n",
      "Значения столбца secondary_cleaner.state.floatbank4_a_level\n",
      "[-799.70906909 -799.70675659 -799.69146895 ... -326.00092991 -245.23918368\n",
      "           nan]\n",
      "Количество NaN: 1\n",
      "Значения столбца secondary_cleaner.state.floatbank4_b_air\n",
      "[0.00000000e+00 6.80281411e-05 4.81571665e+00 ... 2.40037225e+01\n",
      " 2.40079127e+01            nan]\n",
      "Количество NaN: 1\n",
      "Значения столбца secondary_cleaner.state.floatbank4_b_level\n",
      "[-799.88911255 -799.86471937 -799.86198146 ... -163.74224173 -145.07108811\n",
      "           nan]\n",
      "Количество NaN: 1\n",
      "Значения столбца secondary_cleaner.state.floatbank5_a_air\n",
      "[-0.37205399 -0.37197933 -0.37173882 ... 42.07770131 43.70993098\n",
      "         nan]\n",
      "Количество NaN: 1\n",
      "Значения столбца secondary_cleaner.state.floatbank5_a_level\n",
      "[-797.14247464 -792.79453837 -721.65392211 ... -282.53486844 -275.07312548\n",
      "           nan]\n",
      "Количество NaN: 1\n",
      "Значения столбца secondary_cleaner.state.floatbank5_b_air\n",
      "[ 0.64620767  0.66804295  0.67940859 ... 24.8036837  27.92600139\n",
      "         nan]\n",
      "Количество NaN: 1\n",
      "Значения столбца secondary_cleaner.state.floatbank5_b_level\n",
      "[-800.00617976 -800.00163896 -799.99970241 ... -181.73265972 -157.39607089\n",
      "           nan]\n",
      "Количество NaN: 1\n",
      "Значения столбца secondary_cleaner.state.floatbank6_a_air\n",
      "[ 0.19532433  0.2058399   0.21452933 ... 32.07560494 32.18890566\n",
      "         nan]\n",
      "Количество NaN: 2\n",
      "Значения столбца secondary_cleaner.state.floatbank6_a_level\n",
      "[-809.39866751 -809.39260239 -809.35955921 ... -203.92338015 -104.42745915\n",
      "           nan]\n",
      "Количество NaN: 1\n"
     ]
    }
   ],
   "source": [
    "data_values(train)"
   ]
  },
  {
   "cell_type": "code",
   "execution_count": 7,
   "metadata": {
    "scrolled": false
   },
   "outputs": [
    {
     "name": "stdout",
     "output_type": "stream",
     "text": [
      "Значения столбца date\n",
      "['2016-09-01 00:59:59' '2016-09-01 01:59:59' '2016-09-01 02:59:59' ...\n",
      " '2017-12-31 21:59:59' '2017-12-31 22:59:59' '2017-12-31 23:59:59']\n",
      "Количество NaN: 0\n",
      "Значения столбца primary_cleaner.input.sulfate\n",
      "[  2.56615646   2.92672026   7.02559127 ... 262.53150186 265.98312306\n",
      "          nan]\n",
      "Количество NaN: 4\n",
      "Значения столбца primary_cleaner.input.depressant\n",
      "[3.83948202e-03 5.73826182e-02 6.18642857e-02 ... 2.00467642e+01\n",
      " 4.00000000e+01            nan]\n",
      "Количество NaN: 5\n",
      "Значения столбца primary_cleaner.input.feed_size\n",
      "[ 5.6500001   5.65000116  5.75       ...  9.77000046 11.47000792\n",
      " 15.5       ]\n",
      "Количество NaN: 0\n",
      "Значения столбца primary_cleaner.input.xanthate\n",
      "[0.00498367 0.01048647 0.01804044 ... 4.06838427 4.10245436        nan]\n",
      "Количество NaN: 4\n",
      "Значения столбца primary_cleaner.state.floatbank8_a_air\n",
      "[5.44586042e-32 7.80587376e-32 4.12629243e+02 ... 1.92748500e+03\n",
      " 2.09861546e+03 2.10310358e+03]\n",
      "Количество NaN: 0\n",
      "Значения столбца primary_cleaner.state.floatbank8_a_level\n",
      "[-795.31633745 -783.44855072 -782.5052678  ... -282.98844344 -189.69687804\n",
      "  -57.19540358]\n",
      "Количество NaN: 0\n",
      "Значения столбца primary_cleaner.state.floatbank8_b_air\n",
      "[6.64749035e-32 9.52824100e-32 4.13703253e+02 ... 1.80640626e+03\n",
      " 1.80944912e+03 1.81308367e+03]\n",
      "Количество NaN: 0\n",
      "Значения столбца primary_cleaner.state.floatbank8_b_level\n",
      "[-799.9970153  -799.99665865 -799.996302   ... -246.04783297 -238.80710175\n",
      " -142.52722919]\n",
      "Количество NaN: 0\n",
      "Значения столбца primary_cleaner.state.floatbank8_c_air\n",
      "[4.03373563e-32 5.78179180e-32 2.12035417e+02 ... 1.70674731e+03\n",
      " 1.71398955e+03 1.71505377e+03]\n",
      "Количество NaN: 0\n",
      "Значения столбца primary_cleaner.state.floatbank8_c_level\n",
      "[-799.96057129 -799.94290071 -799.92937048 ... -290.84540391 -229.33851987\n",
      " -150.93703496]\n",
      "Количество NaN: 0\n",
      "Значения столбца primary_cleaner.state.floatbank8_d_air\n",
      "[4.03921963e-32 5.78965233e-32 2.77949611e+02 ... 1.80969238e+03\n",
      " 1.81336052e+03 1.91325656e+03]\n",
      "Количество NaN: 0\n",
      "Значения столбца primary_cleaner.state.floatbank8_d_level\n",
      "[-799.79425049 -799.79161834 -799.76011099 ... -330.58201708 -210.85234745\n",
      " -158.95057345]\n",
      "Количество NaN: 0\n",
      "Значения столбца rougher.input.feed_ag\n",
      "[ 0.56844118  2.4825569   2.66744362 ... 14.23999115 14.29367567\n",
      " 14.40613017]\n",
      "Количество NaN: 0\n",
      "Значения столбца rougher.input.feed_pb\n",
      "[0.27367692 0.30081636 0.34854923 ... 6.83473267 6.87771906 6.90568424]\n",
      "Количество NaN: 0\n",
      "Значения столбца rougher.input.feed_rate\n",
      "[2.98584851e-03 1.47400201e-01 1.48689343e-01 ... 7.05228282e+02\n",
      " 7.07364020e+02            nan]\n",
      "Количество NaN: 3\n",
      "Значения столбца rougher.input.feed_size\n",
      "[4.63687988e-02 4.91936691e-02 5.20185394e-02 ... 3.68035882e+02\n",
      " 3.92494040e+02            nan]\n",
      "Количество NaN: 1\n",
      "Значения столбца rougher.input.feed_sol\n",
      "[ 1.39348814  1.71628459  3.09111764 ... 53.47532469 53.47774205\n",
      "         nan]\n",
      "Количество NaN: 21\n",
      "Значения столбца rougher.input.feed_au\n",
      "[ 0.56863216  2.21411191  2.67760361 ... 13.45829079 13.52433927\n",
      " 13.73132994]\n",
      "Количество NaN: 0\n",
      "Значения столбца rougher.input.floatbank10_sulfate\n",
      "[1.14746037e-03 2.68289622e-03 8.88063303e-03 ... 2.40468979e+01\n",
      " 2.42806355e+01            nan]\n",
      "Количество NaN: 5\n",
      "Значения столбца rougher.input.floatbank10_xanthate\n",
      "[5.68232802e-04 1.82228676e-03 1.96266641e-03 ... 8.50762905e+00\n",
      " 8.71870884e+00 8.91046813e+00]\n",
      "Количество NaN: 0\n",
      "Значения столбца rougher.input.floatbank11_sulfate\n",
      "[7.67376380e-05 1.86914096e-03 1.88791209e-03 ... 2.40432680e+01\n",
      " 2.42809655e+01            nan]\n",
      "Количество NaN: 8\n",
      "Значения столбца rougher.input.floatbank11_xanthate\n",
      "[6.98526893e-03 1.70553541e-02 9.65242856e-02 ... 8.52525325e+00\n",
      " 8.62133752e+00            nan]\n",
      "Количество NaN: 25\n",
      "Значения столбца rougher.state.floatbank10_a_air\n",
      "[-4.20692901e-02 -2.01630965e-02  2.99102837e+02 ...  1.40849493e+03\n",
      "  1.41328124e+03  1.42327469e+03]\n",
      "Количество NaN: 0\n",
      "Значения столбца rougher.state.floatbank10_a_level\n",
      "[-657.94975942 -657.81925302 -657.74311613 ... -282.86505039 -278.32057582\n",
      " -273.77610124]\n",
      "Количество NaN: 0\n",
      "Значения столбца rougher.state.floatbank10_b_air\n",
      "[-7.21806395e-01 -6.61920071e-01  8.51085845e+02 ...  1.60656400e+03\n",
      "  1.66039604e+03  1.70664042e+03]\n",
      "Количество NaN: 0\n",
      "Значения столбца rougher.state.floatbank10_b_level\n",
      "[-650.24527733 -650.06536865 -650.03349183 ... -298.91060276 -298.83662949\n",
      " -298.2000506 ]\n",
      "Количество NaN: 0\n",
      "Значения столбца rougher.state.floatbank10_c_air\n",
      "[-5.66355065e-02  2.42620371e+00  9.02253570e+02 ...  1.61028911e+03\n",
      "  1.69063282e+03  1.73101779e+03]\n",
      "Количество NaN: 0\n",
      "Значения столбца rougher.state.floatbank10_c_level\n",
      "[-647.54443931 -647.23155753 -640.31847342 ... -298.57414586 -298.08038706\n",
      " -298.0368523 ]\n",
      "Количество NaN: 0\n",
      "Значения столбца rougher.state.floatbank10_d_air\n",
      "[-9.92219031e-01 -9.27401278e-01  7.86888033e+02 ...  1.53087468e+03\n",
      "  1.69780882e+03  1.77521858e+03]\n",
      "Количество NaN: 0\n",
      "Значения столбца rougher.state.floatbank10_d_level\n",
      "[-648.39066532 -648.11844609 -646.7876942  ... -296.61901326 -296.59110971\n",
      "  -76.39732652]\n",
      "Количество NaN: 0\n",
      "Значения столбца rougher.state.floatbank10_e_air\n",
      "[  -1.98229539   -1.91543435  676.18613536 ... 1375.29783546 1436.12761571\n",
      " 1467.18484276]\n",
      "Количество NaN: 0\n",
      "Значения столбца rougher.state.floatbank10_e_level\n",
      "[-649.26753712 -638.51281738 -530.92647382 ... -296.01125007 -295.32339475\n",
      " -139.75302482]\n",
      "Количество NaN: 0\n",
      "Значения столбца rougher.state.floatbank10_f_air\n",
      "[  -2.59338951   -2.52079187  617.38707738 ... 1372.48507236 1460.96681524\n",
      " 1476.58810694]\n",
      "Количество NaN: 0\n",
      "Значения столбца rougher.state.floatbank10_f_level\n",
      "[-649.94928254 -649.94676915 -649.93692789 ... -284.08460773 -254.17419478\n",
      " -249.80104256]\n",
      "Количество NaN: 0\n",
      "Значения столбца secondary_cleaner.state.floatbank2_a_air\n",
      "[ 0.20532863  1.64583386  2.39785279 ... 32.13634179 32.13872735\n",
      "         nan]\n",
      "Количество NaN: 3\n",
      "Значения столбца secondary_cleaner.state.floatbank2_a_level\n",
      "[-784.09109104 -777.74475412 -777.52623244 ... -386.31646268 -374.71589147\n",
      " -300.34367015]\n",
      "Количество NaN: 0\n",
      "Значения столбца secondary_cleaner.state.floatbank2_b_air\n",
      "[6.06390808e-03 8.52442200e-03 1.87334467e-01 ... 2.81556107e+01\n",
      " 2.81658642e+01            nan]\n",
      "Количество NaN: 2\n",
      "Значения столбца secondary_cleaner.state.floatbank2_b_level\n",
      "[-797.78398878 -797.76683336 -797.7636218  ... -272.74159121 -271.98463346\n",
      " -211.99927261]\n",
      "Количество NaN: 0\n",
      "Значения столбца secondary_cleaner.state.floatbank3_a_air\n",
      "[0.00000000e+00 1.95794247e-17 2.49522576e-17 ... 4.00412413e+01\n",
      " 4.00419970e+01            nan]\n",
      "Количество NaN: 9\n",
      "Значения столбца secondary_cleaner.state.floatbank3_a_level\n",
      "[-799.75579834 -799.58690721 -799.58620055 ... -361.54303556 -346.8775163\n",
      " -313.86642524]\n",
      "Количество NaN: 0\n",
      "Значения столбца secondary_cleaner.state.floatbank3_b_air\n",
      "[1.52158749e-17 1.15843746e-16 3.13030296e-10 ... 3.20057086e+01\n",
      " 3.20278579e+01 3.20393645e+01]\n",
      "Количество NaN: 0\n",
      "Значения столбца secondary_cleaner.state.floatbank3_b_level\n",
      "[-809.33300781 -809.2474971  -809.16435084 ... -239.20590265 -218.76545436\n",
      " -202.2773662 ]\n",
      "Количество NaN: 0\n",
      "Значения столбца secondary_cleaner.state.floatbank4_a_air\n",
      "[1.07987152e-16 2.70626077e-10 7.94918425e-04 ... 2.47375100e+01\n",
      " 3.00235064e+01 3.00517974e+01]\n",
      "Количество NaN: 0\n",
      "Значения столбца secondary_cleaner.state.floatbank4_a_level\n",
      "[-799.79852295 -799.70566669 -799.70538763 ... -442.62050353 -428.467412\n",
      " -401.56521153]\n",
      "Количество NaN: 0\n",
      "Значения столбца secondary_cleaner.state.floatbank4_b_air\n",
      "[2.48971753e-17 8.30635448e-17 2.03017186e-10 ... 1.96460146e+01\n",
      " 2.03199832e+01 3.12697059e+01]\n",
      "Количество NaN: 0\n",
      "Значения столбца secondary_cleaner.state.floatbank4_b_level\n",
      "[-800.83691406 -799.87940945 -799.86817076 ...  -12.49824332   -7.83474617\n",
      "   -6.50698613]\n",
      "Количество NaN: 0\n",
      "Значения столбца secondary_cleaner.state.floatbank5_a_air\n",
      "[ 0.06922662  0.20059979  4.45159213 ... 19.9850386  20.04579071\n",
      " 25.25884836]\n",
      "Количество NaN: 0\n",
      "Значения столбца secondary_cleaner.state.floatbank5_a_level\n",
      "[-797.32398567 -796.85729615 -795.33742171 ... -327.35548192 -321.04775278\n",
      " -244.48356647]\n",
      "Количество NaN: 0\n",
      "Значения столбца secondary_cleaner.state.floatbank5_b_air\n",
      "[ 0.52808285  1.42060608  2.78164187 ... 14.07702012 14.07996777\n",
      " 14.08686605]\n",
      "Количество NaN: 0\n",
      "Значения столбца secondary_cleaner.state.floatbank5_b_level\n",
      "[-800.22033691 -800.11858699 -800.02437335 ... -144.17121936 -141.93439716\n",
      " -137.74000438]\n",
      "Количество NaN: 0\n",
      "Значения столбца secondary_cleaner.state.floatbank6_a_air\n",
      "[-7.94262290e-02  1.68147940e-02  1.27303838e-01 ...  2.50682121e+01\n",
      "  2.50992232e+01  2.67058892e+01]\n",
      "Количество NaN: 0\n",
      "Значения столбца secondary_cleaner.state.floatbank6_a_level\n",
      "[-809.74146351 -809.73989515 -809.73819667 ... -183.20201854 -136.67915457\n",
      " -123.30748682]\n",
      "Количество NaN: 0\n"
     ]
    }
   ],
   "source": [
    "data_values(test)"
   ]
  },
  {
   "cell_type": "code",
   "execution_count": 8,
   "metadata": {
    "scrolled": false
   },
   "outputs": [
    {
     "name": "stdout",
     "output_type": "stream",
     "text": [
      "Значения столбца date\n",
      "['2016-01-15 00:00:00' '2016-01-15 01:00:00' '2016-01-15 02:00:00' ...\n",
      " '2018-08-18 08:59:59' '2018-08-18 09:59:59' '2018-08-18 10:59:59']\n",
      "Количество NaN: 0\n",
      "Значения столбца final.output.concentrate_ag\n",
      "[0.00000000e+00 9.99999978e-03 1.93950451e-01 ... 1.36916988e+01\n",
      " 1.60019451e+01            nan]\n",
      "Количество NaN: 1\n",
      "Значения столбца final.output.concentrate_pb\n",
      "[0.00000000e+00 9.99999978e-03 3.32391277e-01 ... 1.67052966e+01\n",
      " 1.70318995e+01            nan]\n",
      "Количество NaN: 1\n",
      "Значения столбца final.output.concentrate_sol\n",
      "[0.00000000e+00 9.99999978e-03 2.53230694e-01 ... 1.94239117e+01\n",
      " 1.96157205e+01            nan]\n",
      "Количество NaN: 211\n",
      "Значения столбца final.output.concentrate_au\n",
      "[0.00000000e+00 9.99999978e-03 9.04253877e-01 ... 5.15718847e+01\n",
      " 5.26817252e+01 5.27566376e+01]\n",
      "Количество NaN: 0\n",
      "Значения столбца final.output.recovery\n",
      "[  0.           0.16861094   0.43026371 ...  99.78398229  99.9101831\n",
      " 100.        ]\n",
      "Количество NaN: 0\n",
      "Значения столбца final.output.tail_ag\n",
      "[0.00000000e+00 1.67896355e-02 7.84052873e-02 ... 1.91572238e+01\n",
      " 1.95521486e+01            nan]\n",
      "Количество NaN: 1\n",
      "Значения столбца final.output.tail_pb\n",
      "[0.00000000e+00 4.50822342e-03 1.87642594e-02 ... 5.78673247e+00\n",
      " 5.80417769e+00            nan]\n",
      "Количество NaN: 101\n",
      "Значения столбца final.output.tail_sol\n",
      "[ 0.          0.07773142  0.10482714 ... 22.27201882 22.31773034\n",
      "         nan]\n",
      "Количество NaN: 6\n",
      "Значения столбца final.output.tail_au\n",
      "[0.00000000e+00 7.76603845e-04 5.46186356e-03 ... 7.81361461e+00\n",
      " 8.19740820e+00 8.24502242e+00]\n",
      "Количество NaN: 0\n",
      "Значения столбца primary_cleaner.input.sulfate\n",
      "[3.11181987e-03 5.12794527e-02 6.74242932e-02 ... 2.62531502e+02\n",
      " 2.65983123e+02            nan]\n",
      "Количество NaN: 24\n",
      "Значения столбца primary_cleaner.input.depressant\n",
      "[0.00000000e+00 3.83948202e-03 7.72051019e-03 ... 2.00522554e+01\n",
      " 4.00000000e+01            nan]\n",
      "Количество NaN: 37\n",
      "Значения столбца primary_cleaner.input.feed_size\n",
      "[ 1.08000004  1.08000738  4.96999979 ... 10.47000027 11.47000792\n",
      " 15.5       ]\n",
      "Количество NaN: 0\n",
      "Значения столбца primary_cleaner.input.xanthate\n",
      "[4.63275311e-06 1.54395565e-04 2.13506269e-04 ... 4.06838427e+00\n",
      " 4.10245436e+00            nan]\n",
      "Количество NaN: 104\n",
      "Значения столбца primary_cleaner.output.concentrate_ag\n",
      "[0.00000000e+00 9.99999978e-03 1.86605083e-02 ... 1.49244060e+01\n",
      " 1.50057894e+01 1.60816317e+01]\n",
      "Количество NaN: 0\n",
      "Значения столбца primary_cleaner.output.concentrate_pb\n",
      "[0.00000000e+00 9.99999978e-03 2.13565418e-02 ... 1.68778012e+01\n",
      " 1.70812785e+01            nan]\n",
      "Количество NaN: 116\n",
      "Значения столбца primary_cleaner.output.concentrate_sol\n",
      "[0.00000000e+00 9.99999978e-03 1.64160881e-02 ... 2.22808452e+01\n",
      " 2.24581140e+01            nan]\n",
      "Количество NaN: 370\n",
      "Значения столбца primary_cleaner.output.concentrate_au\n",
      "[0.00000000e+00 9.99999978e-03 5.65902522e-02 ... 4.46263264e+01\n",
      " 4.49592807e+01 4.59339341e+01]\n",
      "Количество NaN: 0\n",
      "Значения столбца primary_cleaner.output.tail_ag\n",
      "[ 0.          0.23581917  0.36840147 ... 29.25914897 29.45957463\n",
      "         nan]\n",
      "Количество NaN: 4\n",
      "Значения столбца primary_cleaner.output.tail_pb\n",
      "[0.         0.04955245 0.08468115 ... 9.46232065 9.63456465        nan]\n",
      "Количество NaN: 21\n",
      "Значения столбца primary_cleaner.output.tail_sol\n",
      "[ 0.          0.03330331  0.07420314 ... 20.94241742 22.27636427\n",
      "         nan]\n",
      "Количество NaN: 62\n",
      "Значения столбца primary_cleaner.output.tail_au\n",
      "[ 0.          0.04526926  0.05205531 ... 16.8260128  17.28157164\n",
      " 17.78892473]\n",
      "Количество NaN: 0\n",
      "Значения столбца primary_cleaner.state.floatbank8_a_air\n",
      "[5.44586042e-32 7.80587376e-32 6.35215460e-03 ... 2.09861546e+03\n",
      " 2.10310358e+03            nan]\n",
      "Количество NaN: 4\n",
      "Значения столбца primary_cleaner.state.floatbank8_a_level\n",
      "[-798.64166156 -798.57711111 -798.51256066 ... -189.69687804  -57.19540358\n",
      "           nan]\n",
      "Количество NaN: 1\n",
      "Значения столбца primary_cleaner.state.floatbank8_b_air\n",
      "[6.64749035e-32 9.52824100e-32 8.70041584e-03 ... 1.90082594e+03\n",
      " 2.11490676e+03            nan]\n",
      "Количество NaN: 4\n",
      "Значения столбца primary_cleaner.state.floatbank8_b_level\n",
      "[-799.9970153  -799.99665865 -799.996302   ... -238.80710175 -142.52722919\n",
      "           nan]\n",
      "Количество NaN: 1\n",
      "Значения столбца primary_cleaner.state.floatbank8_c_air\n",
      "[4.03373563e-32 5.78179180e-32 1.51588212e-02 ... 1.98723946e+03\n",
      " 2.01315646e+03            nan]\n",
      "Количество NaN: 2\n",
      "Значения столбца primary_cleaner.state.floatbank8_c_level\n",
      "[-799.96057129 -799.94290071 -799.92937048 ... -229.33851987 -150.93703496\n",
      "           nan]\n",
      "Количество NaN: 1\n",
      "Значения столбца primary_cleaner.state.floatbank8_d_air\n",
      "[4.03921963e-32 5.78965233e-32 8.65460878e-03 ... 2.39889137e+03\n",
      " 2.39890364e+03            nan]\n",
      "Количество NaN: 3\n",
      "Значения столбца primary_cleaner.state.floatbank8_d_level\n",
      "[-799.79425049 -799.79161834 -799.78859753 ...  -40.02717625  -30.60182765\n",
      "           nan]\n",
      "Количество NaN: 1\n",
      "Значения столбца rougher.calculation.sulfate_to_au_concentrate\n",
      "[-42235197.36918358 -15488584.02968955   -720644.26271326 ...\n",
      "   1208360.6222556    3428098.93899962                nan]\n",
      "Количество NaN: 2\n",
      "Значения столбца rougher.calculation.floatbank10_sulfate_to_au_feed\n",
      "[-4.86598675e+02 -1.86077622e+02 -1.48002251e+02 ...  2.34425860e+05\n",
      "  6.29638978e+05             nan]\n",
      "Количество NaN: 2\n",
      "Значения столбца rougher.calculation.floatbank11_sulfate_to_au_feed\n",
      "[-2.64982785e+02 -9.79042018e+01 -9.44262849e+01 ...  3.37629418e+05\n",
      "  7.18684956e+05             nan]\n",
      "Количество NaN: 2\n",
      "Значения столбца rougher.calculation.au_pb_ratio\n",
      "[-1.05476130e-02 -5.68629179e-03 -5.55223299e-03 ...  2.04703571e+01\n",
      "  2.72313740e+01  3.93792720e+01]\n",
      "Количество NaN: 0\n",
      "Значения столбца rougher.input.feed_ag\n",
      "[9.99999978e-03 5.68441185e-01 1.01567637e+00 ... 1.44506869e+01\n",
      " 1.45336976e+01 1.45960260e+01]\n",
      "Количество NaN: 0\n",
      "Значения столбца rougher.input.feed_pb\n",
      "[0.01       0.08855211 0.1258895  ... 7.05232491 7.1425941         nan]\n",
      "Количество NaN: 100\n",
      "Значения столбца rougher.input.feed_rate\n",
      "[2.98584851e-03 1.27856991e-02 2.28024680e-02 ... 7.07364020e+02\n",
      " 7.17508837e+02            nan]\n",
      "Количество NaN: 11\n",
      "Значения столбца rougher.input.feed_size\n",
      "[4.63687988e-02 4.91936691e-02 5.20185394e-02 ... 4.49825402e+02\n",
      " 4.84967466e+02            nan]\n",
      "Количество NaN: 145\n",
      "Значения столбца rougher.input.feed_sol\n",
      "[9.99999978e-03 4.63866600e-01 1.39348814e+00 ... 5.34753247e+01\n",
      " 5.34777421e+01            nan]\n",
      "Количество NaN: 99\n",
      "Значения столбца rougher.input.feed_au\n",
      "[9.99999978e-03 5.68632156e-01 5.88152487e-01 ... 1.34582908e+01\n",
      " 1.35243393e+01 1.37313299e+01]\n",
      "Количество NaN: 0\n",
      "Значения столбца rougher.input.floatbank10_sulfate\n",
      "[1.08311234e-03 1.14746037e-03 1.16403997e-03 ... 3.13930447e+01\n",
      " 3.61182747e+01            nan]\n",
      "Количество NaN: 34\n",
      "Значения столбца rougher.input.floatbank10_xanthate\n",
      "[5.68232802e-04 1.42768468e-03 1.82228676e-03 ... 9.67462141e+00\n",
      " 9.70344804e+00            nan]\n",
      "Количество NaN: 8\n",
      "Значения столбца rougher.input.floatbank11_sulfate\n",
      "[7.67376380e-05 9.78733624e-05 1.62766303e-04 ... 3.27807615e+01\n",
      " 3.79806479e+01            nan]\n",
      "Количество NaN: 44\n",
      "Значения столбца rougher.input.floatbank11_xanthate\n",
      "[2.90412574e-04 4.06353684e-04 5.78449592e-04 ... 9.66867785e+00\n",
      " 9.69840687e+00            nan]\n",
      "Количество NaN: 453\n",
      "Значения столбца rougher.output.concentrate_ag\n",
      "[0.00000000e+00 9.99999978e-03 3.51874199e-01 ... 2.15262087e+01\n",
      " 2.17256951e+01 2.44802709e+01]\n",
      "Количество NaN: 0\n",
      "Значения столбца rougher.output.concentrate_pb\n",
      "[0.00000000e+00 9.99999978e-03 2.14360152e-01 ... 1.30771484e+01\n",
      " 1.30916794e+01 1.36170719e+01]\n",
      "Количество NaN: 0\n",
      "Значения столбца rougher.output.concentrate_sol\n",
      "[0.00000000e+00 9.99999978e-03 8.79593415e-01 ... 3.82396080e+01\n",
      " 3.83511928e+01            nan]\n",
      "Количество NaN: 23\n",
      "Значения столбца rougher.output.concentrate_au\n",
      "[0.00000000e+00 9.99999978e-03 5.70818759e-01 ... 2.81468376e+01\n",
      " 2.84646009e+01 2.88245069e+01]\n",
      "Количество NaN: 0\n",
      "Значения столбца rougher.output.recovery\n",
      "[  0.           2.5208538    6.70543829 ...  99.84766302  99.97904062\n",
      " 100.        ]\n",
      "Количество NaN: 0\n",
      "Значения столбца rougher.output.tail_ag\n",
      "[ 0.59456229  2.1583695   2.17036063 ... 11.5124439  12.71917683\n",
      "         nan]\n",
      "Количество NaN: 1\n",
      "Значения столбца rougher.output.tail_pb\n",
      "[0.00756607 0.00901408 0.01066999 ... 3.32012453 3.35403269 3.77806377]\n",
      "Количество NaN: 0\n",
      "Значения столбца rougher.output.tail_sol\n",
      "[10.01464844 10.02400543 10.03536285 ... 65.1171875  65.6171875\n",
      " 66.1171875 ]\n",
      "Количество NaN: 0\n",
      "Значения столбца rougher.output.tail_au\n",
      "[0.02067578 0.02454497 0.03123449 ... 8.64959788 8.78308226 9.68897969]\n",
      "Количество NaN: 0\n",
      "Значения столбца rougher.state.floatbank10_a_air\n",
      "[-4.20692901e-02 -4.10779189e-02 -2.01630965e-02 ...  1.51229953e+03\n",
      "  1.52198037e+03             nan]\n",
      "Количество NaN: 1\n",
      "Значения столбца rougher.state.floatbank10_a_level\n",
      "[-657.94975942 -657.81925302 -657.74311613 ... -278.32057582 -273.77610124\n",
      "           nan]\n",
      "Количество NaN: 1\n",
      "Значения столбца rougher.state.floatbank10_b_air\n",
      "[-7.21806395e-01 -6.61920071e-01 -6.53383831e-01 ...  1.80721304e+03\n",
      "  1.80919401e+03             nan]\n",
      "Количество NaN: 1\n",
      "Значения столбца rougher.state.floatbank10_b_level\n",
      "[-650.26000754 -650.25210841 -650.24527733 ... -298.03662208 -296.38307996\n",
      "           nan]\n",
      "Количество NaN: 1\n",
      "Значения столбца rougher.state.floatbank10_c_air\n",
      "[-5.66355065e-02 -3.51123303e-02 -2.63010209e-02 ...  2.49912804e+03\n",
      "  2.49912917e+03             nan]\n",
      "Количество NaN: 1\n",
      "Значения столбца rougher.state.floatbank10_c_level\n",
      "[-647.54443931 -647.23155753 -640.99562736 ... -293.273988   -292.15550877\n",
      "           nan]\n",
      "Количество NaN: 1\n",
      "Значения столбца rougher.state.floatbank10_d_air\n",
      "[-9.92219031e-01 -9.27401278e-01 -5.54298653e-01 ...  1.81034889e+03\n",
      "  1.81153837e+03  1.81719929e+03]\n",
      "Количество NaN: 0\n",
      "Значения столбца rougher.state.floatbank10_d_level\n",
      "[-648.39066532 -648.11844609 -646.7876942  ... -282.98620308 -208.33067299\n",
      "  -76.39732652]\n",
      "Количество NaN: 0\n",
      "Значения столбца rougher.state.floatbank10_e_air\n",
      "[  -1.98229539   -1.97027535   -1.9368775  ... 1702.24775633 1922.63663666\n",
      "           nan]\n",
      "Количество NaN: 436\n",
      "Значения столбца rougher.state.floatbank10_e_level\n",
      "[-649.44391091 -649.26753712 -648.76210297 ... -294.83245348 -272.19959776\n",
      " -139.75302482]\n",
      "Количество NaN: 0\n",
      "Значения столбца rougher.state.floatbank10_f_air\n",
      "[  -2.59338951   -2.52079187   -2.43058725 ... 1702.75517349 1704.72120588\n",
      " 1706.30750242]\n",
      "Количество NaN: 0\n",
      "Значения столбца rougher.state.floatbank10_f_level\n",
      "[-649.94928254 -649.94676915 -649.93692789 ... -249.80104256 -243.84637637\n",
      " -191.71847977]\n",
      "Количество NaN: 0\n",
      "Значения столбца secondary_cleaner.output.tail_ag\n",
      "[0.00000000e+00 1.74094229e-02 1.67573319e-01 ... 2.25547914e+01\n",
      " 2.32647383e+01            nan]\n",
      "Количество NaN: 2\n",
      "Значения столбца secondary_cleaner.output.tail_pb\n",
      "[0.00000000e+00 7.51370729e-03 6.53704851e-02 ... 1.70288284e+01\n",
      " 1.70425049e+01            nan]\n",
      "Количество NaN: 12\n",
      "Значения столбца secondary_cleaner.output.tail_sol\n",
      "[0.00000000e+00 1.48978660e-02 2.17190071e-02 ... 1.79761710e+01\n",
      " 2.60007718e+01            nan]\n",
      "Количество NaN: 1748\n",
      "Значения столбца secondary_cleaner.output.tail_au\n",
      "[0.00000000e+00 5.87694919e-03 3.35287500e-02 ... 2.54401281e+01\n",
      " 2.56505452e+01 2.68116429e+01]\n",
      "Количество NaN: 0\n",
      "Значения столбца secondary_cleaner.state.floatbank2_a_air\n",
      "[ 0.07750256  0.12201295  0.14254034 ... 50.52789074 52.65139882\n",
      "         nan]\n",
      "Количество NaN: 220\n",
      "Значения столбца secondary_cleaner.state.floatbank2_a_level\n",
      "[-799.60644065 -799.6057617  -799.6027237  ... -166.93310319 -127.87556529\n",
      "           nan]\n",
      "Количество NaN: 1\n",
      "Значения столбца secondary_cleaner.state.floatbank2_b_air\n",
      "[0.00000000e+00 6.77810119e-18 8.21001987e-18 ... 3.50895829e+01\n",
      " 3.51521220e+01            nan]\n",
      "Количество NaN: 23\n",
      "Значения столбца secondary_cleaner.state.floatbank2_b_level\n",
      "[-799.87387822 -799.87029246 -799.86289458 ... -212.06466514 -211.99927261\n",
      "           nan]\n",
      "Количество NaN: 1\n",
      "Значения столбца secondary_cleaner.state.floatbank3_a_air\n",
      "[0.00000000e+00 1.83359810e-21 1.95794247e-17 ... 4.40644101e+01\n",
      " 4.42604636e+01            nan]\n",
      "Количество NaN: 13\n",
      "Значения столбца secondary_cleaner.state.floatbank3_a_level\n",
      "[-799.75579834 -799.61301338 -799.60921934 ... -246.39632375 -191.67881013\n",
      "           nan]\n",
      "Количество NaN: 1\n",
      "Значения столбца secondary_cleaner.state.floatbank3_b_air\n",
      "[0.00000000e+00 6.13725605e-22 1.52158749e-17 ... 3.50622105e+01\n",
      " 3.50728406e+01            nan]\n",
      "Количество NaN: 1\n",
      "Значения столбца secondary_cleaner.state.floatbank3_b_level\n",
      "[-809.33300781 -809.2474971  -809.16435084 ... -159.79751633 -159.74233084\n",
      "           nan]\n",
      "Количество NaN: 1\n",
      "Значения столбца secondary_cleaner.state.floatbank4_a_air\n",
      "[0.00000000e+00 1.07987152e-16 2.70626077e-10 ... 3.00845001e+01\n",
      " 3.01157354e+01            nan]\n",
      "Количество NaN: 6\n",
      "Значения столбца secondary_cleaner.state.floatbank4_a_level\n",
      "[-799.79852295 -799.70906909 -799.70675659 ... -326.00092991 -245.23918368\n",
      "           nan]\n",
      "Количество NaN: 1\n",
      "Значения столбца secondary_cleaner.state.floatbank4_b_air\n",
      "[0.00000000e+00 2.48971753e-17 8.30635448e-17 ... 2.40079127e+01\n",
      " 3.12697059e+01            nan]\n",
      "Количество NaN: 1\n",
      "Значения столбца secondary_cleaner.state.floatbank4_b_level\n",
      "[-800.83691406 -799.88911255 -799.87940945 ...   -7.83474617   -6.50698613\n",
      "           nan]\n",
      "Количество NaN: 1\n",
      "Значения столбца secondary_cleaner.state.floatbank5_a_air\n",
      "[-0.37205399 -0.37197933 -0.37173882 ... 42.07770131 43.70993098\n",
      "         nan]\n",
      "Количество NaN: 1\n",
      "Значения столбца secondary_cleaner.state.floatbank5_a_level\n",
      "[-797.32398567 -797.14247464 -796.85729615 ... -275.07312548 -244.48356647\n",
      "           nan]\n",
      "Количество NaN: 1\n",
      "Значения столбца secondary_cleaner.state.floatbank5_b_air\n",
      "[ 0.52808285  0.64620767  0.66804295 ... 24.8036837  27.92600139\n",
      "         nan]\n",
      "Количество NaN: 1\n",
      "Значения столбца secondary_cleaner.state.floatbank5_b_level\n",
      "[-800.22033691 -800.11858699 -800.02437335 ... -141.93439716 -137.74000438\n",
      "           nan]\n",
      "Количество NaN: 1\n",
      "Значения столбца secondary_cleaner.state.floatbank6_a_air\n",
      "[-7.94262290e-02  1.68147940e-02  1.27303838e-01 ...  3.20756049e+01\n",
      "  3.21889057e+01             nan]\n",
      "Количество NaN: 2\n",
      "Значения столбца secondary_cleaner.state.floatbank6_a_level\n",
      "[-809.74146351 -809.73989515 -809.73819667 ... -123.30748682 -104.42745915\n",
      "           nan]\n",
      "Количество NaN: 1\n"
     ]
    }
   ],
   "source": [
    "data_values(full)"
   ]
  },
  {
   "cell_type": "markdown",
   "metadata": {},
   "source": [
    "Удалю NaN для двух выборок."
   ]
  },
  {
   "cell_type": "code",
   "execution_count": 9,
   "metadata": {},
   "outputs": [
    {
     "name": "stdout",
     "output_type": "stream",
     "text": [
      "date                                          0\n",
      "final.output.concentrate_ag                   0\n",
      "final.output.concentrate_pb                   0\n",
      "final.output.concentrate_sol                  0\n",
      "final.output.concentrate_au                   0\n",
      "                                             ..\n",
      "secondary_cleaner.state.floatbank5_a_level    0\n",
      "secondary_cleaner.state.floatbank5_b_air      0\n",
      "secondary_cleaner.state.floatbank5_b_level    0\n",
      "secondary_cleaner.state.floatbank6_a_air      0\n",
      "secondary_cleaner.state.floatbank6_a_level    0\n",
      "Length: 87, dtype: int64\n"
     ]
    }
   ],
   "source": [
    "train = train.fillna(method='ffill')\n",
    "train = train.fillna(method='bfill')\n",
    "print(train.isna().sum())"
   ]
  },
  {
   "cell_type": "code",
   "execution_count": 10,
   "metadata": {},
   "outputs": [
    {
     "name": "stdout",
     "output_type": "stream",
     "text": [
      "date                                          0\n",
      "primary_cleaner.input.sulfate                 0\n",
      "primary_cleaner.input.depressant              0\n",
      "primary_cleaner.input.feed_size               0\n",
      "primary_cleaner.input.xanthate                0\n",
      "primary_cleaner.state.floatbank8_a_air        0\n",
      "primary_cleaner.state.floatbank8_a_level      0\n",
      "primary_cleaner.state.floatbank8_b_air        0\n",
      "primary_cleaner.state.floatbank8_b_level      0\n",
      "primary_cleaner.state.floatbank8_c_air        0\n",
      "primary_cleaner.state.floatbank8_c_level      0\n",
      "primary_cleaner.state.floatbank8_d_air        0\n",
      "primary_cleaner.state.floatbank8_d_level      0\n",
      "rougher.input.feed_ag                         0\n",
      "rougher.input.feed_pb                         0\n",
      "rougher.input.feed_rate                       0\n",
      "rougher.input.feed_size                       0\n",
      "rougher.input.feed_sol                        0\n",
      "rougher.input.feed_au                         0\n",
      "rougher.input.floatbank10_sulfate             0\n",
      "rougher.input.floatbank10_xanthate            0\n",
      "rougher.input.floatbank11_sulfate             0\n",
      "rougher.input.floatbank11_xanthate            0\n",
      "rougher.state.floatbank10_a_air               0\n",
      "rougher.state.floatbank10_a_level             0\n",
      "rougher.state.floatbank10_b_air               0\n",
      "rougher.state.floatbank10_b_level             0\n",
      "rougher.state.floatbank10_c_air               0\n",
      "rougher.state.floatbank10_c_level             0\n",
      "rougher.state.floatbank10_d_air               0\n",
      "rougher.state.floatbank10_d_level             0\n",
      "rougher.state.floatbank10_e_air               0\n",
      "rougher.state.floatbank10_e_level             0\n",
      "rougher.state.floatbank10_f_air               0\n",
      "rougher.state.floatbank10_f_level             0\n",
      "secondary_cleaner.state.floatbank2_a_air      0\n",
      "secondary_cleaner.state.floatbank2_a_level    0\n",
      "secondary_cleaner.state.floatbank2_b_air      0\n",
      "secondary_cleaner.state.floatbank2_b_level    0\n",
      "secondary_cleaner.state.floatbank3_a_air      0\n",
      "secondary_cleaner.state.floatbank3_a_level    0\n",
      "secondary_cleaner.state.floatbank3_b_air      0\n",
      "secondary_cleaner.state.floatbank3_b_level    0\n",
      "secondary_cleaner.state.floatbank4_a_air      0\n",
      "secondary_cleaner.state.floatbank4_a_level    0\n",
      "secondary_cleaner.state.floatbank4_b_air      0\n",
      "secondary_cleaner.state.floatbank4_b_level    0\n",
      "secondary_cleaner.state.floatbank5_a_air      0\n",
      "secondary_cleaner.state.floatbank5_a_level    0\n",
      "secondary_cleaner.state.floatbank5_b_air      0\n",
      "secondary_cleaner.state.floatbank5_b_level    0\n",
      "secondary_cleaner.state.floatbank6_a_air      0\n",
      "secondary_cleaner.state.floatbank6_a_level    0\n",
      "dtype: int64\n"
     ]
    }
   ],
   "source": [
    "test = test.fillna(method='ffill')\n",
    "test = test.fillna(method='bfill')\n",
    "print(test.isna().sum())"
   ]
  },
  {
   "cell_type": "markdown",
   "metadata": {},
   "source": [
    "### Вывод"
   ]
  },
  {
   "cell_type": "markdown",
   "metadata": {},
   "source": [
    "Данные загружены в три переменные - для тренировочной, тестовой и полной выборок.\n",
    "\n",
    "В данных имеются нули - это не ошибка и не пропуск в данных.\n",
    "В данных имелись NaN, я удалил эти строки, так как эти значения повлияют на итоговые вычисления.\n",
    "\n",
    "Выбивающихся значений в данных нет."
   ]
  },
  {
   "cell_type": "markdown",
   "metadata": {},
   "source": [
    "## Анализ данных"
   ]
  },
  {
   "cell_type": "markdown",
   "metadata": {},
   "source": [
    "### Расчет эффективности обогащения"
   ]
  },
  {
   "cell_type": "markdown",
   "metadata": {},
   "source": [
    "Проверю, что эффективность обогащения рассчитана правильно. Вычислю её на обучающей выборке для признака rougher.output.recovery. Найду MAE между моими расчётами и значением признака."
   ]
  },
  {
   "cell_type": "markdown",
   "metadata": {},
   "source": [
    "![jupyter](https://pictures.s3.yandex.net/resources/Recovery_1576238822.jpg)"
   ]
  },
  {
   "cell_type": "code",
   "execution_count": 11,
   "metadata": {
    "scrolled": true
   },
   "outputs": [
    {
     "name": "stdout",
     "output_type": "stream",
     "text": [
      "Абсолютная средняя ошибка = 9.73512347450521e-15\n"
     ]
    }
   ],
   "source": [
    "def recovery(c, f, t):\n",
    "    recovery = (c*(f-t))/(f*(c-t))*100\n",
    "    return recovery\n",
    "\n",
    "c = train['rougher.output.concentrate_au']\n",
    "f = train['rougher.input.feed_au']\n",
    "t = train['rougher.output.tail_au']\n",
    "recovery_train = train['rougher.output.recovery']\n",
    "\n",
    "print('Абсолютная средняя ошибка =', mean_absolute_error(recovery_train, recovery(c, f, t)))"
   ]
  },
  {
   "cell_type": "markdown",
   "metadata": {},
   "source": [
    "MAE между моими расчётами и значением признака очень маленькая, значит эффективность обогащения рассчитана правильно."
   ]
  },
  {
   "cell_type": "markdown",
   "metadata": {},
   "source": [
    "### Анализ признаков недоступных в тестовой выборке"
   ]
  },
  {
   "cell_type": "markdown",
   "metadata": {},
   "source": [
    "Проанализирую признаки, недоступные в тестовой выборке."
   ]
  },
  {
   "cell_type": "code",
   "execution_count": 12,
   "metadata": {},
   "outputs": [
    {
     "name": "stdout",
     "output_type": "stream",
     "text": [
      "final.output.concentrate_ag\n",
      "final.output.concentrate_pb\n",
      "final.output.concentrate_sol\n",
      "final.output.concentrate_au\n",
      "final.output.recovery\n",
      "final.output.tail_ag\n",
      "final.output.tail_pb\n",
      "final.output.tail_sol\n",
      "final.output.tail_au\n",
      "primary_cleaner.output.concentrate_ag\n",
      "primary_cleaner.output.concentrate_pb\n",
      "primary_cleaner.output.concentrate_sol\n",
      "primary_cleaner.output.concentrate_au\n",
      "primary_cleaner.output.tail_ag\n",
      "primary_cleaner.output.tail_pb\n",
      "primary_cleaner.output.tail_sol\n",
      "primary_cleaner.output.tail_au\n",
      "rougher.calculation.sulfate_to_au_concentrate\n",
      "rougher.calculation.floatbank10_sulfate_to_au_feed\n",
      "rougher.calculation.floatbank11_sulfate_to_au_feed\n",
      "rougher.calculation.au_pb_ratio\n",
      "rougher.output.concentrate_ag\n",
      "rougher.output.concentrate_pb\n",
      "rougher.output.concentrate_sol\n",
      "rougher.output.concentrate_au\n",
      "rougher.output.recovery\n",
      "rougher.output.tail_ag\n",
      "rougher.output.tail_pb\n",
      "rougher.output.tail_sol\n",
      "rougher.output.tail_au\n",
      "secondary_cleaner.output.tail_ag\n",
      "secondary_cleaner.output.tail_pb\n",
      "secondary_cleaner.output.tail_sol\n",
      "secondary_cleaner.output.tail_au\n"
     ]
    }
   ],
   "source": [
    "def diff_columns(data_1, data_2):\n",
    "    data_1_columns = data_1.columns\n",
    "    data_2_columns = data_2.columns\n",
    "    for i in data_1_columns:\n",
    "        if i not in data_2_columns:\n",
    "            print(i)\n",
    "            \n",
    "diff_columns(full, test)"
   ]
  },
  {
   "cell_type": "markdown",
   "metadata": {},
   "source": [
    "В тестовой выборке отсуствуют столбцы данные по которым будут получены по результатам технологического процесса. Это онлайн метрики. Остальные столбцы исторически известны - это оффлайн метрики."
   ]
  },
  {
   "cell_type": "markdown",
   "metadata": {},
   "source": [
    "### Подготовка данных для модели"
   ]
  },
  {
   "cell_type": "markdown",
   "metadata": {},
   "source": [
    "Выделю столбцы из тестовой выборки, по которым будет обучаться модель. Столбец data не учитываю.\n",
    "\n",
    "Для предсказания rougher.output.recovery будут использоватся данные из стобцов этапа rougher.\n",
    "\n",
    "Для вычисления final.output.recovery будут использованы все столбцы из тестовой выборки."
   ]
  },
  {
   "cell_type": "code",
   "execution_count": 13,
   "metadata": {},
   "outputs": [
    {
     "name": "stdout",
     "output_type": "stream",
     "text": [
      "{'rougher.state.floatbank10_a_level', 'rougher.input.feed_size', 'rougher.input.floatbank10_xanthate', 'rougher.state.floatbank10_f_air', 'rougher.input.floatbank10_sulfate', 'rougher.input.feed_rate', 'rougher.input.feed_pb', 'rougher.state.floatbank10_c_air', 'rougher.state.floatbank10_b_air', 'rougher.state.floatbank10_d_air', 'rougher.input.feed_ag', 'rougher.state.floatbank10_f_level', 'rougher.state.floatbank10_b_level', 'rougher.state.floatbank10_a_air', 'rougher.state.floatbank10_d_level', 'rougher.state.floatbank10_e_level', 'rougher.input.floatbank11_sulfate', 'rougher.input.feed_au', 'rougher.state.floatbank10_c_level', 'rougher.input.floatbank11_xanthate', 'rougher.input.feed_sol', 'rougher.state.floatbank10_e_air'}\n",
      "\n",
      "{'secondary_cleaner.state.floatbank4_a_air', 'secondary_cleaner.state.floatbank2_b_air', 'rougher.input.feed_size', 'rougher.input.floatbank10_xanthate', 'rougher.state.floatbank10_f_air', 'rougher.input.floatbank10_sulfate', 'primary_cleaner.state.floatbank8_c_level', 'rougher.input.feed_rate', 'rougher.input.feed_pb', 'secondary_cleaner.state.floatbank2_a_level', 'primary_cleaner.state.floatbank8_a_air', 'primary_cleaner.state.floatbank8_d_level', 'primary_cleaner.input.depressant', 'rougher.state.floatbank10_b_air', 'primary_cleaner.input.sulfate', 'rougher.state.floatbank10_c_air', 'rougher.state.floatbank10_d_air', 'primary_cleaner.state.floatbank8_c_air', 'secondary_cleaner.state.floatbank3_b_level', 'secondary_cleaner.state.floatbank5_a_level', 'secondary_cleaner.state.floatbank6_a_air', 'secondary_cleaner.state.floatbank5_b_air', 'secondary_cleaner.state.floatbank4_a_level', 'rougher.input.feed_ag', 'secondary_cleaner.state.floatbank5_a_air', 'rougher.state.floatbank10_f_level', 'secondary_cleaner.state.floatbank5_b_level', 'secondary_cleaner.state.floatbank3_a_air', 'rougher.state.floatbank10_b_level', 'secondary_cleaner.state.floatbank2_a_air', 'primary_cleaner.state.floatbank8_b_level', 'secondary_cleaner.state.floatbank4_b_air', 'rougher.state.floatbank10_e_air', 'rougher.state.floatbank10_a_air', 'rougher.state.floatbank10_d_level', 'rougher.state.floatbank10_e_level', 'secondary_cleaner.state.floatbank3_b_air', 'rougher.input.feed_au', 'rougher.input.floatbank11_sulfate', 'secondary_cleaner.state.floatbank4_b_level', 'secondary_cleaner.state.floatbank6_a_level', 'primary_cleaner.state.floatbank8_a_level', 'secondary_cleaner.state.floatbank2_b_level', 'primary_cleaner.input.feed_size', 'rougher.state.floatbank10_c_level', 'rougher.input.floatbank11_xanthate', 'rougher.input.feed_sol', 'secondary_cleaner.state.floatbank3_a_level', 'primary_cleaner.input.xanthate', 'primary_cleaner.state.floatbank8_b_air', 'rougher.state.floatbank10_a_level', 'primary_cleaner.state.floatbank8_d_air'}\n"
     ]
    }
   ],
   "source": [
    "features_columns = test.columns[1:]\n",
    "rougher_features_columns = set(features_columns[12:34])\n",
    "final_features_columns = set(features_columns)\n",
    "print(rougher_features_columns)\n",
    "print()\n",
    "print(final_features_columns)"
   ]
  },
  {
   "cell_type": "markdown",
   "metadata": {},
   "source": [
    "Посмотрю на гистограмму эффективности обогащения."
   ]
  },
  {
   "cell_type": "code",
   "execution_count": 14,
   "metadata": {},
   "outputs": [
    {
     "data": {
      "image/png": "[encoded data removed]",
      "text/plain": [
       "<Figure size 864x648 with 1 Axes>"
      ]
     },
     "metadata": {
      "needs_background": "light"
     },
     "output_type": "display_data"
    }
   ],
   "source": [
    "plt.figure(figsize=[12,9])\n",
    "\n",
    "plt.hist(train['rougher.output.recovery'], bins=100)\n",
    "\n",
    "plt.xlim([0, 100])\n",
    "plt.ylim([0, 1000])\n",
    "\n",
    "plt.xlabel(\"Эффективность обогащения чернового концентрата\")\n",
    "plt.ylabel(\"Количество результатов\")\n",
    "\n",
    "plt.title(\"Гистограмма распределения эффективности обогащения\")\n",
    "plt.show()"
   ]
  },
  {
   "cell_type": "markdown",
   "metadata": {},
   "source": [
    "По гистограмме видно наличие нулей."
   ]
  },
  {
   "cell_type": "code",
   "execution_count": 15,
   "metadata": {},
   "outputs": [
    {
     "data": {
      "text/html": [
       "<div>\n",
       "<style scoped>\n",
       "    .dataframe tbody tr th:only-of-type {\n",
       "        vertical-align: middle;\n",
       "    }\n",
       "\n",
       "    .dataframe tbody tr th {\n",
       "        vertical-align: top;\n",
       "    }\n",
       "\n",
       "    .dataframe thead th {\n",
       "        text-align: right;\n",
       "    }\n",
       "</style>\n",
       "<table border=\"1\" class=\"dataframe\">\n",
       "  <thead>\n",
       "    <tr style=\"text-align: right;\">\n",
       "      <th></th>\n",
       "      <th>date</th>\n",
       "      <th>final.output.concentrate_ag</th>\n",
       "      <th>final.output.concentrate_pb</th>\n",
       "      <th>final.output.concentrate_sol</th>\n",
       "      <th>final.output.concentrate_au</th>\n",
       "      <th>final.output.recovery</th>\n",
       "      <th>final.output.tail_ag</th>\n",
       "      <th>final.output.tail_pb</th>\n",
       "      <th>final.output.tail_sol</th>\n",
       "      <th>final.output.tail_au</th>\n",
       "      <th>...</th>\n",
       "      <th>secondary_cleaner.state.floatbank4_a_air</th>\n",
       "      <th>secondary_cleaner.state.floatbank4_a_level</th>\n",
       "      <th>secondary_cleaner.state.floatbank4_b_air</th>\n",
       "      <th>secondary_cleaner.state.floatbank4_b_level</th>\n",
       "      <th>secondary_cleaner.state.floatbank5_a_air</th>\n",
       "      <th>secondary_cleaner.state.floatbank5_a_level</th>\n",
       "      <th>secondary_cleaner.state.floatbank5_b_air</th>\n",
       "      <th>secondary_cleaner.state.floatbank5_b_level</th>\n",
       "      <th>secondary_cleaner.state.floatbank6_a_air</th>\n",
       "      <th>secondary_cleaner.state.floatbank6_a_level</th>\n",
       "    </tr>\n",
       "  </thead>\n",
       "  <tbody>\n",
       "    <tr>\n",
       "      <th>45</th>\n",
       "      <td>2016-01-16 21:00:00</td>\n",
       "      <td>4.566664</td>\n",
       "      <td>10.406178</td>\n",
       "      <td>4.588698</td>\n",
       "      <td>46.614456</td>\n",
       "      <td>68.403877</td>\n",
       "      <td>10.705777</td>\n",
       "      <td>1.509070</td>\n",
       "      <td>17.875134</td>\n",
       "      <td>2.509776</td>\n",
       "      <td>...</td>\n",
       "      <td>14.025588</td>\n",
       "      <td>-550.404242</td>\n",
       "      <td>12.028925</td>\n",
       "      <td>-550.570104</td>\n",
       "      <td>10.052072</td>\n",
       "      <td>-500.797905</td>\n",
       "      <td>7.984500</td>\n",
       "      <td>-499.581046</td>\n",
       "      <td>11.982025</td>\n",
       "      <td>-599.161228</td>\n",
       "    </tr>\n",
       "    <tr>\n",
       "      <th>46</th>\n",
       "      <td>2016-01-16 22:00:00</td>\n",
       "      <td>4.577832</td>\n",
       "      <td>10.691605</td>\n",
       "      <td>5.274175</td>\n",
       "      <td>46.250638</td>\n",
       "      <td>70.675633</td>\n",
       "      <td>10.728531</td>\n",
       "      <td>1.641216</td>\n",
       "      <td>18.349339</td>\n",
       "      <td>2.540843</td>\n",
       "      <td>...</td>\n",
       "      <td>14.094808</td>\n",
       "      <td>-550.676337</td>\n",
       "      <td>12.004728</td>\n",
       "      <td>-550.496522</td>\n",
       "      <td>9.953139</td>\n",
       "      <td>-500.330920</td>\n",
       "      <td>8.012074</td>\n",
       "      <td>-500.133530</td>\n",
       "      <td>11.975316</td>\n",
       "      <td>-598.839683</td>\n",
       "    </tr>\n",
       "    <tr>\n",
       "      <th>47</th>\n",
       "      <td>2016-01-16 23:00:00</td>\n",
       "      <td>4.591462</td>\n",
       "      <td>10.628846</td>\n",
       "      <td>5.688961</td>\n",
       "      <td>46.663335</td>\n",
       "      <td>55.088448</td>\n",
       "      <td>10.694584</td>\n",
       "      <td>1.671644</td>\n",
       "      <td>17.910312</td>\n",
       "      <td>2.686782</td>\n",
       "      <td>...</td>\n",
       "      <td>13.997488</td>\n",
       "      <td>-551.224653</td>\n",
       "      <td>11.971272</td>\n",
       "      <td>-550.095619</td>\n",
       "      <td>9.981163</td>\n",
       "      <td>-502.869109</td>\n",
       "      <td>7.941184</td>\n",
       "      <td>-500.623610</td>\n",
       "      <td>12.018837</td>\n",
       "      <td>-600.916665</td>\n",
       "    </tr>\n",
       "    <tr>\n",
       "      <th>48</th>\n",
       "      <td>2016-01-17 00:00:00</td>\n",
       "      <td>5.296830</td>\n",
       "      <td>10.597469</td>\n",
       "      <td>5.688961</td>\n",
       "      <td>44.015642</td>\n",
       "      <td>41.962008</td>\n",
       "      <td>11.975654</td>\n",
       "      <td>1.846558</td>\n",
       "      <td>8.138408</td>\n",
       "      <td>2.889469</td>\n",
       "      <td>...</td>\n",
       "      <td>14.006476</td>\n",
       "      <td>-549.388727</td>\n",
       "      <td>11.975967</td>\n",
       "      <td>-550.778624</td>\n",
       "      <td>9.989726</td>\n",
       "      <td>-499.607365</td>\n",
       "      <td>7.958252</td>\n",
       "      <td>-498.882560</td>\n",
       "      <td>11.967977</td>\n",
       "      <td>-599.440603</td>\n",
       "    </tr>\n",
       "    <tr>\n",
       "      <th>49</th>\n",
       "      <td>2016-01-17 02:00:00</td>\n",
       "      <td>8.162896</td>\n",
       "      <td>8.877528</td>\n",
       "      <td>5.688961</td>\n",
       "      <td>40.715973</td>\n",
       "      <td>49.884856</td>\n",
       "      <td>10.381465</td>\n",
       "      <td>1.024030</td>\n",
       "      <td>12.974257</td>\n",
       "      <td>2.739224</td>\n",
       "      <td>...</td>\n",
       "      <td>13.984906</td>\n",
       "      <td>-550.563329</td>\n",
       "      <td>11.999730</td>\n",
       "      <td>-550.549773</td>\n",
       "      <td>9.941869</td>\n",
       "      <td>-503.282068</td>\n",
       "      <td>8.018850</td>\n",
       "      <td>-500.970716</td>\n",
       "      <td>11.991078</td>\n",
       "      <td>-598.475929</td>\n",
       "    </tr>\n",
       "  </tbody>\n",
       "</table>\n",
       "<p>5 rows × 87 columns</p>\n",
       "</div>"
      ],
      "text/plain": [
       "                   date  final.output.concentrate_ag  \\\n",
       "45  2016-01-16 21:00:00                     4.566664   \n",
       "46  2016-01-16 22:00:00                     4.577832   \n",
       "47  2016-01-16 23:00:00                     4.591462   \n",
       "48  2016-01-17 00:00:00                     5.296830   \n",
       "49  2016-01-17 02:00:00                     8.162896   \n",
       "\n",
       "    final.output.concentrate_pb  final.output.concentrate_sol  \\\n",
       "45                    10.406178                      4.588698   \n",
       "46                    10.691605                      5.274175   \n",
       "47                    10.628846                      5.688961   \n",
       "48                    10.597469                      5.688961   \n",
       "49                     8.877528                      5.688961   \n",
       "\n",
       "    final.output.concentrate_au  final.output.recovery  final.output.tail_ag  \\\n",
       "45                    46.614456              68.403877             10.705777   \n",
       "46                    46.250638              70.675633             10.728531   \n",
       "47                    46.663335              55.088448             10.694584   \n",
       "48                    44.015642              41.962008             11.975654   \n",
       "49                    40.715973              49.884856             10.381465   \n",
       "\n",
       "    final.output.tail_pb  final.output.tail_sol  final.output.tail_au  ...  \\\n",
       "45              1.509070              17.875134              2.509776  ...   \n",
       "46              1.641216              18.349339              2.540843  ...   \n",
       "47              1.671644              17.910312              2.686782  ...   \n",
       "48              1.846558               8.138408              2.889469  ...   \n",
       "49              1.024030              12.974257              2.739224  ...   \n",
       "\n",
       "    secondary_cleaner.state.floatbank4_a_air  \\\n",
       "45                                 14.025588   \n",
       "46                                 14.094808   \n",
       "47                                 13.997488   \n",
       "48                                 14.006476   \n",
       "49                                 13.984906   \n",
       "\n",
       "    secondary_cleaner.state.floatbank4_a_level  \\\n",
       "45                                 -550.404242   \n",
       "46                                 -550.676337   \n",
       "47                                 -551.224653   \n",
       "48                                 -549.388727   \n",
       "49                                 -550.563329   \n",
       "\n",
       "    secondary_cleaner.state.floatbank4_b_air  \\\n",
       "45                                 12.028925   \n",
       "46                                 12.004728   \n",
       "47                                 11.971272   \n",
       "48                                 11.975967   \n",
       "49                                 11.999730   \n",
       "\n",
       "    secondary_cleaner.state.floatbank4_b_level  \\\n",
       "45                                 -550.570104   \n",
       "46                                 -550.496522   \n",
       "47                                 -550.095619   \n",
       "48                                 -550.778624   \n",
       "49                                 -550.549773   \n",
       "\n",
       "    secondary_cleaner.state.floatbank5_a_air  \\\n",
       "45                                 10.052072   \n",
       "46                                  9.953139   \n",
       "47                                  9.981163   \n",
       "48                                  9.989726   \n",
       "49                                  9.941869   \n",
       "\n",
       "    secondary_cleaner.state.floatbank5_a_level  \\\n",
       "45                                 -500.797905   \n",
       "46                                 -500.330920   \n",
       "47                                 -502.869109   \n",
       "48                                 -499.607365   \n",
       "49                                 -503.282068   \n",
       "\n",
       "    secondary_cleaner.state.floatbank5_b_air  \\\n",
       "45                                  7.984500   \n",
       "46                                  8.012074   \n",
       "47                                  7.941184   \n",
       "48                                  7.958252   \n",
       "49                                  8.018850   \n",
       "\n",
       "    secondary_cleaner.state.floatbank5_b_level  \\\n",
       "45                                 -499.581046   \n",
       "46                                 -500.133530   \n",
       "47                                 -500.623610   \n",
       "48                                 -498.882560   \n",
       "49                                 -500.970716   \n",
       "\n",
       "    secondary_cleaner.state.floatbank6_a_air  \\\n",
       "45                                 11.982025   \n",
       "46                                 11.975316   \n",
       "47                                 12.018837   \n",
       "48                                 11.967977   \n",
       "49                                 11.991078   \n",
       "\n",
       "    secondary_cleaner.state.floatbank6_a_level  \n",
       "45                                 -599.161228  \n",
       "46                                 -598.839683  \n",
       "47                                 -600.916665  \n",
       "48                                 -599.440603  \n",
       "49                                 -598.475929  \n",
       "\n",
       "[5 rows x 87 columns]"
      ]
     },
     "execution_count": 15,
     "metadata": {},
     "output_type": "execute_result"
    }
   ],
   "source": [
    "train[train['rougher.output.recovery'] < 1].head()"
   ]
  },
  {
   "cell_type": "code",
   "execution_count": 16,
   "metadata": {},
   "outputs": [
    {
     "data": {
      "text/html": [
       "<div>\n",
       "<style scoped>\n",
       "    .dataframe tbody tr th:only-of-type {\n",
       "        vertical-align: middle;\n",
       "    }\n",
       "\n",
       "    .dataframe tbody tr th {\n",
       "        vertical-align: top;\n",
       "    }\n",
       "\n",
       "    .dataframe thead th {\n",
       "        text-align: right;\n",
       "    }\n",
       "</style>\n",
       "<table border=\"1\" class=\"dataframe\">\n",
       "  <thead>\n",
       "    <tr style=\"text-align: right;\">\n",
       "      <th></th>\n",
       "      <th>date</th>\n",
       "      <th>final.output.concentrate_ag</th>\n",
       "      <th>final.output.concentrate_pb</th>\n",
       "      <th>final.output.concentrate_sol</th>\n",
       "      <th>final.output.concentrate_au</th>\n",
       "      <th>final.output.recovery</th>\n",
       "      <th>final.output.tail_ag</th>\n",
       "      <th>final.output.tail_pb</th>\n",
       "      <th>final.output.tail_sol</th>\n",
       "      <th>final.output.tail_au</th>\n",
       "      <th>...</th>\n",
       "      <th>secondary_cleaner.state.floatbank4_a_air</th>\n",
       "      <th>secondary_cleaner.state.floatbank4_a_level</th>\n",
       "      <th>secondary_cleaner.state.floatbank4_b_air</th>\n",
       "      <th>secondary_cleaner.state.floatbank4_b_level</th>\n",
       "      <th>secondary_cleaner.state.floatbank5_a_air</th>\n",
       "      <th>secondary_cleaner.state.floatbank5_a_level</th>\n",
       "      <th>secondary_cleaner.state.floatbank5_b_air</th>\n",
       "      <th>secondary_cleaner.state.floatbank5_b_level</th>\n",
       "      <th>secondary_cleaner.state.floatbank6_a_air</th>\n",
       "      <th>secondary_cleaner.state.floatbank6_a_level</th>\n",
       "    </tr>\n",
       "  </thead>\n",
       "  <tbody>\n",
       "    <tr>\n",
       "      <th>45</th>\n",
       "      <td>2016-01-16 21:00:00</td>\n",
       "      <td>4.566664</td>\n",
       "      <td>10.406178</td>\n",
       "      <td>4.588698</td>\n",
       "      <td>46.614456</td>\n",
       "      <td>68.403877</td>\n",
       "      <td>10.705777</td>\n",
       "      <td>1.509070</td>\n",
       "      <td>17.875134</td>\n",
       "      <td>2.509776</td>\n",
       "      <td>...</td>\n",
       "      <td>14.025588</td>\n",
       "      <td>-550.404242</td>\n",
       "      <td>12.028925</td>\n",
       "      <td>-550.570104</td>\n",
       "      <td>10.052072</td>\n",
       "      <td>-500.797905</td>\n",
       "      <td>7.984500</td>\n",
       "      <td>-499.581046</td>\n",
       "      <td>11.982025</td>\n",
       "      <td>-599.161228</td>\n",
       "    </tr>\n",
       "    <tr>\n",
       "      <th>46</th>\n",
       "      <td>2016-01-16 22:00:00</td>\n",
       "      <td>4.577832</td>\n",
       "      <td>10.691605</td>\n",
       "      <td>5.274175</td>\n",
       "      <td>46.250638</td>\n",
       "      <td>70.675633</td>\n",
       "      <td>10.728531</td>\n",
       "      <td>1.641216</td>\n",
       "      <td>18.349339</td>\n",
       "      <td>2.540843</td>\n",
       "      <td>...</td>\n",
       "      <td>14.094808</td>\n",
       "      <td>-550.676337</td>\n",
       "      <td>12.004728</td>\n",
       "      <td>-550.496522</td>\n",
       "      <td>9.953139</td>\n",
       "      <td>-500.330920</td>\n",
       "      <td>8.012074</td>\n",
       "      <td>-500.133530</td>\n",
       "      <td>11.975316</td>\n",
       "      <td>-598.839683</td>\n",
       "    </tr>\n",
       "    <tr>\n",
       "      <th>47</th>\n",
       "      <td>2016-01-16 23:00:00</td>\n",
       "      <td>4.591462</td>\n",
       "      <td>10.628846</td>\n",
       "      <td>5.688961</td>\n",
       "      <td>46.663335</td>\n",
       "      <td>55.088448</td>\n",
       "      <td>10.694584</td>\n",
       "      <td>1.671644</td>\n",
       "      <td>17.910312</td>\n",
       "      <td>2.686782</td>\n",
       "      <td>...</td>\n",
       "      <td>13.997488</td>\n",
       "      <td>-551.224653</td>\n",
       "      <td>11.971272</td>\n",
       "      <td>-550.095619</td>\n",
       "      <td>9.981163</td>\n",
       "      <td>-502.869109</td>\n",
       "      <td>7.941184</td>\n",
       "      <td>-500.623610</td>\n",
       "      <td>12.018837</td>\n",
       "      <td>-600.916665</td>\n",
       "    </tr>\n",
       "    <tr>\n",
       "      <th>48</th>\n",
       "      <td>2016-01-17 00:00:00</td>\n",
       "      <td>5.296830</td>\n",
       "      <td>10.597469</td>\n",
       "      <td>5.688961</td>\n",
       "      <td>44.015642</td>\n",
       "      <td>41.962008</td>\n",
       "      <td>11.975654</td>\n",
       "      <td>1.846558</td>\n",
       "      <td>8.138408</td>\n",
       "      <td>2.889469</td>\n",
       "      <td>...</td>\n",
       "      <td>14.006476</td>\n",
       "      <td>-549.388727</td>\n",
       "      <td>11.975967</td>\n",
       "      <td>-550.778624</td>\n",
       "      <td>9.989726</td>\n",
       "      <td>-499.607365</td>\n",
       "      <td>7.958252</td>\n",
       "      <td>-498.882560</td>\n",
       "      <td>11.967977</td>\n",
       "      <td>-599.440603</td>\n",
       "    </tr>\n",
       "    <tr>\n",
       "      <th>49</th>\n",
       "      <td>2016-01-17 02:00:00</td>\n",
       "      <td>8.162896</td>\n",
       "      <td>8.877528</td>\n",
       "      <td>5.688961</td>\n",
       "      <td>40.715973</td>\n",
       "      <td>49.884856</td>\n",
       "      <td>10.381465</td>\n",
       "      <td>1.024030</td>\n",
       "      <td>12.974257</td>\n",
       "      <td>2.739224</td>\n",
       "      <td>...</td>\n",
       "      <td>13.984906</td>\n",
       "      <td>-550.563329</td>\n",
       "      <td>11.999730</td>\n",
       "      <td>-550.549773</td>\n",
       "      <td>9.941869</td>\n",
       "      <td>-503.282068</td>\n",
       "      <td>8.018850</td>\n",
       "      <td>-500.970716</td>\n",
       "      <td>11.991078</td>\n",
       "      <td>-598.475929</td>\n",
       "    </tr>\n",
       "  </tbody>\n",
       "</table>\n",
       "<p>5 rows × 87 columns</p>\n",
       "</div>"
      ],
      "text/plain": [
       "                   date  final.output.concentrate_ag  \\\n",
       "45  2016-01-16 21:00:00                     4.566664   \n",
       "46  2016-01-16 22:00:00                     4.577832   \n",
       "47  2016-01-16 23:00:00                     4.591462   \n",
       "48  2016-01-17 00:00:00                     5.296830   \n",
       "49  2016-01-17 02:00:00                     8.162896   \n",
       "\n",
       "    final.output.concentrate_pb  final.output.concentrate_sol  \\\n",
       "45                    10.406178                      4.588698   \n",
       "46                    10.691605                      5.274175   \n",
       "47                    10.628846                      5.688961   \n",
       "48                    10.597469                      5.688961   \n",
       "49                     8.877528                      5.688961   \n",
       "\n",
       "    final.output.concentrate_au  final.output.recovery  final.output.tail_ag  \\\n",
       "45                    46.614456              68.403877             10.705777   \n",
       "46                    46.250638              70.675633             10.728531   \n",
       "47                    46.663335              55.088448             10.694584   \n",
       "48                    44.015642              41.962008             11.975654   \n",
       "49                    40.715973              49.884856             10.381465   \n",
       "\n",
       "    final.output.tail_pb  final.output.tail_sol  final.output.tail_au  ...  \\\n",
       "45              1.509070              17.875134              2.509776  ...   \n",
       "46              1.641216              18.349339              2.540843  ...   \n",
       "47              1.671644              17.910312              2.686782  ...   \n",
       "48              1.846558               8.138408              2.889469  ...   \n",
       "49              1.024030              12.974257              2.739224  ...   \n",
       "\n",
       "    secondary_cleaner.state.floatbank4_a_air  \\\n",
       "45                                 14.025588   \n",
       "46                                 14.094808   \n",
       "47                                 13.997488   \n",
       "48                                 14.006476   \n",
       "49                                 13.984906   \n",
       "\n",
       "    secondary_cleaner.state.floatbank4_a_level  \\\n",
       "45                                 -550.404242   \n",
       "46                                 -550.676337   \n",
       "47                                 -551.224653   \n",
       "48                                 -549.388727   \n",
       "49                                 -550.563329   \n",
       "\n",
       "    secondary_cleaner.state.floatbank4_b_air  \\\n",
       "45                                 12.028925   \n",
       "46                                 12.004728   \n",
       "47                                 11.971272   \n",
       "48                                 11.975967   \n",
       "49                                 11.999730   \n",
       "\n",
       "    secondary_cleaner.state.floatbank4_b_level  \\\n",
       "45                                 -550.570104   \n",
       "46                                 -550.496522   \n",
       "47                                 -550.095619   \n",
       "48                                 -550.778624   \n",
       "49                                 -550.549773   \n",
       "\n",
       "    secondary_cleaner.state.floatbank5_a_air  \\\n",
       "45                                 10.052072   \n",
       "46                                  9.953139   \n",
       "47                                  9.981163   \n",
       "48                                  9.989726   \n",
       "49                                  9.941869   \n",
       "\n",
       "    secondary_cleaner.state.floatbank5_a_level  \\\n",
       "45                                 -500.797905   \n",
       "46                                 -500.330920   \n",
       "47                                 -502.869109   \n",
       "48                                 -499.607365   \n",
       "49                                 -503.282068   \n",
       "\n",
       "    secondary_cleaner.state.floatbank5_b_air  \\\n",
       "45                                  7.984500   \n",
       "46                                  8.012074   \n",
       "47                                  7.941184   \n",
       "48                                  7.958252   \n",
       "49                                  8.018850   \n",
       "\n",
       "    secondary_cleaner.state.floatbank5_b_level  \\\n",
       "45                                 -499.581046   \n",
       "46                                 -500.133530   \n",
       "47                                 -500.623610   \n",
       "48                                 -498.882560   \n",
       "49                                 -500.970716   \n",
       "\n",
       "    secondary_cleaner.state.floatbank6_a_air  \\\n",
       "45                                 11.982025   \n",
       "46                                 11.975316   \n",
       "47                                 12.018837   \n",
       "48                                 11.967977   \n",
       "49                                 11.991078   \n",
       "\n",
       "    secondary_cleaner.state.floatbank6_a_level  \n",
       "45                                 -599.161228  \n",
       "46                                 -598.839683  \n",
       "47                                 -600.916665  \n",
       "48                                 -599.440603  \n",
       "49                                 -598.475929  \n",
       "\n",
       "[5 rows x 87 columns]"
      ]
     },
     "execution_count": 16,
     "metadata": {},
     "output_type": "execute_result"
    }
   ],
   "source": [
    "train[train['rougher.output.concentrate_au'] < 1].head()"
   ]
  },
  {
   "cell_type": "markdown",
   "metadata": {},
   "source": [
    "Удалю эти значения."
   ]
  },
  {
   "cell_type": "code",
   "execution_count": 17,
   "metadata": {},
   "outputs": [
    {
     "data": {
      "text/html": [
       "<div>\n",
       "<style scoped>\n",
       "    .dataframe tbody tr th:only-of-type {\n",
       "        vertical-align: middle;\n",
       "    }\n",
       "\n",
       "    .dataframe tbody tr th {\n",
       "        vertical-align: top;\n",
       "    }\n",
       "\n",
       "    .dataframe thead th {\n",
       "        text-align: right;\n",
       "    }\n",
       "</style>\n",
       "<table border=\"1\" class=\"dataframe\">\n",
       "  <thead>\n",
       "    <tr style=\"text-align: right;\">\n",
       "      <th></th>\n",
       "      <th>date</th>\n",
       "      <th>final.output.concentrate_ag</th>\n",
       "      <th>final.output.concentrate_pb</th>\n",
       "      <th>final.output.concentrate_sol</th>\n",
       "      <th>final.output.concentrate_au</th>\n",
       "      <th>final.output.recovery</th>\n",
       "      <th>final.output.tail_ag</th>\n",
       "      <th>final.output.tail_pb</th>\n",
       "      <th>final.output.tail_sol</th>\n",
       "      <th>final.output.tail_au</th>\n",
       "      <th>...</th>\n",
       "      <th>secondary_cleaner.state.floatbank4_a_air</th>\n",
       "      <th>secondary_cleaner.state.floatbank4_a_level</th>\n",
       "      <th>secondary_cleaner.state.floatbank4_b_air</th>\n",
       "      <th>secondary_cleaner.state.floatbank4_b_level</th>\n",
       "      <th>secondary_cleaner.state.floatbank5_a_air</th>\n",
       "      <th>secondary_cleaner.state.floatbank5_a_level</th>\n",
       "      <th>secondary_cleaner.state.floatbank5_b_air</th>\n",
       "      <th>secondary_cleaner.state.floatbank5_b_level</th>\n",
       "      <th>secondary_cleaner.state.floatbank6_a_air</th>\n",
       "      <th>secondary_cleaner.state.floatbank6_a_level</th>\n",
       "    </tr>\n",
       "  </thead>\n",
       "  <tbody>\n",
       "  </tbody>\n",
       "</table>\n",
       "<p>0 rows × 87 columns</p>\n",
       "</div>"
      ],
      "text/plain": [
       "Empty DataFrame\n",
       "Columns: [date, final.output.concentrate_ag, final.output.concentrate_pb, final.output.concentrate_sol, final.output.concentrate_au, final.output.recovery, final.output.tail_ag, final.output.tail_pb, final.output.tail_sol, final.output.tail_au, primary_cleaner.input.sulfate, primary_cleaner.input.depressant, primary_cleaner.input.feed_size, primary_cleaner.input.xanthate, primary_cleaner.output.concentrate_ag, primary_cleaner.output.concentrate_pb, primary_cleaner.output.concentrate_sol, primary_cleaner.output.concentrate_au, primary_cleaner.output.tail_ag, primary_cleaner.output.tail_pb, primary_cleaner.output.tail_sol, primary_cleaner.output.tail_au, primary_cleaner.state.floatbank8_a_air, primary_cleaner.state.floatbank8_a_level, primary_cleaner.state.floatbank8_b_air, primary_cleaner.state.floatbank8_b_level, primary_cleaner.state.floatbank8_c_air, primary_cleaner.state.floatbank8_c_level, primary_cleaner.state.floatbank8_d_air, primary_cleaner.state.floatbank8_d_level, rougher.calculation.sulfate_to_au_concentrate, rougher.calculation.floatbank10_sulfate_to_au_feed, rougher.calculation.floatbank11_sulfate_to_au_feed, rougher.calculation.au_pb_ratio, rougher.input.feed_ag, rougher.input.feed_pb, rougher.input.feed_rate, rougher.input.feed_size, rougher.input.feed_sol, rougher.input.feed_au, rougher.input.floatbank10_sulfate, rougher.input.floatbank10_xanthate, rougher.input.floatbank11_sulfate, rougher.input.floatbank11_xanthate, rougher.output.concentrate_ag, rougher.output.concentrate_pb, rougher.output.concentrate_sol, rougher.output.concentrate_au, rougher.output.recovery, rougher.output.tail_ag, rougher.output.tail_pb, rougher.output.tail_sol, rougher.output.tail_au, rougher.state.floatbank10_a_air, rougher.state.floatbank10_a_level, rougher.state.floatbank10_b_air, rougher.state.floatbank10_b_level, rougher.state.floatbank10_c_air, rougher.state.floatbank10_c_level, rougher.state.floatbank10_d_air, rougher.state.floatbank10_d_level, rougher.state.floatbank10_e_air, rougher.state.floatbank10_e_level, rougher.state.floatbank10_f_air, rougher.state.floatbank10_f_level, secondary_cleaner.output.tail_ag, secondary_cleaner.output.tail_pb, secondary_cleaner.output.tail_sol, secondary_cleaner.output.tail_au, secondary_cleaner.state.floatbank2_a_air, secondary_cleaner.state.floatbank2_a_level, secondary_cleaner.state.floatbank2_b_air, secondary_cleaner.state.floatbank2_b_level, secondary_cleaner.state.floatbank3_a_air, secondary_cleaner.state.floatbank3_a_level, secondary_cleaner.state.floatbank3_b_air, secondary_cleaner.state.floatbank3_b_level, secondary_cleaner.state.floatbank4_a_air, secondary_cleaner.state.floatbank4_a_level, secondary_cleaner.state.floatbank4_b_air, secondary_cleaner.state.floatbank4_b_level, secondary_cleaner.state.floatbank5_a_air, secondary_cleaner.state.floatbank5_a_level, secondary_cleaner.state.floatbank5_b_air, secondary_cleaner.state.floatbank5_b_level, secondary_cleaner.state.floatbank6_a_air, secondary_cleaner.state.floatbank6_a_level]\n",
       "Index: []\n",
       "\n",
       "[0 rows x 87 columns]"
      ]
     },
     "execution_count": 17,
     "metadata": {},
     "output_type": "execute_result"
    }
   ],
   "source": [
    "train = train.drop(train[train['rougher.output.recovery'] == 0].index)\n",
    "train[train['rougher.output.recovery'] < 1].head()"
   ]
  },
  {
   "cell_type": "markdown",
   "metadata": {},
   "source": [
    "Теперь проверю гистограмму финального обогащения."
   ]
  },
  {
   "cell_type": "code",
   "execution_count": 18,
   "metadata": {},
   "outputs": [
    {
     "data": {
      "image/png": "[encoded data removed]",
      "text/plain": [
       "<Figure size 864x648 with 1 Axes>"
      ]
     },
     "metadata": {
      "needs_background": "light"
     },
     "output_type": "display_data"
    }
   ],
   "source": [
    "plt.figure(figsize=[12,9])\n",
    "\n",
    "plt.hist(train['final.output.recovery'], bins=100)\n",
    "\n",
    "plt.xlim([0, 100])\n",
    "plt.ylim([0, 1000])\n",
    "\n",
    "plt.xlabel(\"Эффективность обогащения финального концентрата \")\n",
    "plt.ylabel(\"Количество результатов\")\n",
    "\n",
    "plt.title(\"Гистограмма распределения эффективности обогащения\")\n",
    "plt.show()"
   ]
  },
  {
   "cell_type": "code",
   "execution_count": 19,
   "metadata": {},
   "outputs": [
    {
     "data": {
      "text/html": [
       "<div>\n",
       "<style scoped>\n",
       "    .dataframe tbody tr th:only-of-type {\n",
       "        vertical-align: middle;\n",
       "    }\n",
       "\n",
       "    .dataframe tbody tr th {\n",
       "        vertical-align: top;\n",
       "    }\n",
       "\n",
       "    .dataframe thead th {\n",
       "        text-align: right;\n",
       "    }\n",
       "</style>\n",
       "<table border=\"1\" class=\"dataframe\">\n",
       "  <thead>\n",
       "    <tr style=\"text-align: right;\">\n",
       "      <th></th>\n",
       "      <th>date</th>\n",
       "      <th>final.output.concentrate_ag</th>\n",
       "      <th>final.output.concentrate_pb</th>\n",
       "      <th>final.output.concentrate_sol</th>\n",
       "      <th>final.output.concentrate_au</th>\n",
       "      <th>final.output.recovery</th>\n",
       "      <th>final.output.tail_ag</th>\n",
       "      <th>final.output.tail_pb</th>\n",
       "      <th>final.output.tail_sol</th>\n",
       "      <th>final.output.tail_au</th>\n",
       "      <th>...</th>\n",
       "      <th>secondary_cleaner.state.floatbank4_a_air</th>\n",
       "      <th>secondary_cleaner.state.floatbank4_a_level</th>\n",
       "      <th>secondary_cleaner.state.floatbank4_b_air</th>\n",
       "      <th>secondary_cleaner.state.floatbank4_b_level</th>\n",
       "      <th>secondary_cleaner.state.floatbank5_a_air</th>\n",
       "      <th>secondary_cleaner.state.floatbank5_a_level</th>\n",
       "      <th>secondary_cleaner.state.floatbank5_b_air</th>\n",
       "      <th>secondary_cleaner.state.floatbank5_b_level</th>\n",
       "      <th>secondary_cleaner.state.floatbank6_a_air</th>\n",
       "      <th>secondary_cleaner.state.floatbank6_a_level</th>\n",
       "    </tr>\n",
       "  </thead>\n",
       "  <tbody>\n",
       "    <tr>\n",
       "      <th>644</th>\n",
       "      <td>2016-02-13 11:00:00</td>\n",
       "      <td>0.000000</td>\n",
       "      <td>0.000000</td>\n",
       "      <td>0.000000</td>\n",
       "      <td>0.000000</td>\n",
       "      <td>0.000000</td>\n",
       "      <td>8.894029</td>\n",
       "      <td>0.843584</td>\n",
       "      <td>15.417342</td>\n",
       "      <td>1.779052</td>\n",
       "      <td>...</td>\n",
       "      <td>21.991762</td>\n",
       "      <td>-399.587122</td>\n",
       "      <td>21.988937</td>\n",
       "      <td>-401.366408</td>\n",
       "      <td>22.995012</td>\n",
       "      <td>-399.370680</td>\n",
       "      <td>20.966863</td>\n",
       "      <td>-399.308354</td>\n",
       "      <td>24.987274</td>\n",
       "      <td>-399.619808</td>\n",
       "    </tr>\n",
       "    <tr>\n",
       "      <th>1057</th>\n",
       "      <td>2016-03-02 11:00:00</td>\n",
       "      <td>4.637727</td>\n",
       "      <td>12.557566</td>\n",
       "      <td>7.821058</td>\n",
       "      <td>41.529734</td>\n",
       "      <td>0.463711</td>\n",
       "      <td>11.388568</td>\n",
       "      <td>1.893716</td>\n",
       "      <td>7.735606</td>\n",
       "      <td>4.115341</td>\n",
       "      <td>...</td>\n",
       "      <td>13.974818</td>\n",
       "      <td>-578.520549</td>\n",
       "      <td>14.065672</td>\n",
       "      <td>-501.248199</td>\n",
       "      <td>12.011447</td>\n",
       "      <td>-500.417855</td>\n",
       "      <td>10.025794</td>\n",
       "      <td>-499.889108</td>\n",
       "      <td>20.033958</td>\n",
       "      <td>-499.999036</td>\n",
       "    </tr>\n",
       "    <tr>\n",
       "      <th>1193</th>\n",
       "      <td>2016-03-11 10:00:00</td>\n",
       "      <td>0.000000</td>\n",
       "      <td>0.000000</td>\n",
       "      <td>0.000000</td>\n",
       "      <td>0.000000</td>\n",
       "      <td>0.000000</td>\n",
       "      <td>10.817313</td>\n",
       "      <td>1.462800</td>\n",
       "      <td>16.407607</td>\n",
       "      <td>2.984504</td>\n",
       "      <td>...</td>\n",
       "      <td>11.979352</td>\n",
       "      <td>-453.431061</td>\n",
       "      <td>12.003445</td>\n",
       "      <td>-450.179844</td>\n",
       "      <td>11.982937</td>\n",
       "      <td>-449.856468</td>\n",
       "      <td>9.927727</td>\n",
       "      <td>-450.521700</td>\n",
       "      <td>19.971682</td>\n",
       "      <td>-500.685521</td>\n",
       "    </tr>\n",
       "    <tr>\n",
       "      <th>1194</th>\n",
       "      <td>2016-03-11 11:00:00</td>\n",
       "      <td>0.000000</td>\n",
       "      <td>0.000000</td>\n",
       "      <td>0.000000</td>\n",
       "      <td>0.000000</td>\n",
       "      <td>0.000000</td>\n",
       "      <td>10.436792</td>\n",
       "      <td>1.207636</td>\n",
       "      <td>17.800392</td>\n",
       "      <td>2.747294</td>\n",
       "      <td>...</td>\n",
       "      <td>12.034636</td>\n",
       "      <td>-446.590944</td>\n",
       "      <td>12.130405</td>\n",
       "      <td>-449.684812</td>\n",
       "      <td>11.844983</td>\n",
       "      <td>-450.881424</td>\n",
       "      <td>9.916784</td>\n",
       "      <td>-449.542871</td>\n",
       "      <td>20.004767</td>\n",
       "      <td>-500.137068</td>\n",
       "    </tr>\n",
       "    <tr>\n",
       "      <th>1195</th>\n",
       "      <td>2016-03-11 12:00:00</td>\n",
       "      <td>0.000000</td>\n",
       "      <td>0.000000</td>\n",
       "      <td>0.000000</td>\n",
       "      <td>0.000000</td>\n",
       "      <td>0.000000</td>\n",
       "      <td>10.637073</td>\n",
       "      <td>1.405778</td>\n",
       "      <td>17.195897</td>\n",
       "      <td>2.791440</td>\n",
       "      <td>...</td>\n",
       "      <td>12.016716</td>\n",
       "      <td>-496.613149</td>\n",
       "      <td>12.055535</td>\n",
       "      <td>-496.908551</td>\n",
       "      <td>12.091144</td>\n",
       "      <td>-496.404140</td>\n",
       "      <td>9.976074</td>\n",
       "      <td>-496.783155</td>\n",
       "      <td>19.921634</td>\n",
       "      <td>-500.769011</td>\n",
       "    </tr>\n",
       "  </tbody>\n",
       "</table>\n",
       "<p>5 rows × 87 columns</p>\n",
       "</div>"
      ],
      "text/plain": [
       "                     date  final.output.concentrate_ag  \\\n",
       "644   2016-02-13 11:00:00                     0.000000   \n",
       "1057  2016-03-02 11:00:00                     4.637727   \n",
       "1193  2016-03-11 10:00:00                     0.000000   \n",
       "1194  2016-03-11 11:00:00                     0.000000   \n",
       "1195  2016-03-11 12:00:00                     0.000000   \n",
       "\n",
       "      final.output.concentrate_pb  final.output.concentrate_sol  \\\n",
       "644                      0.000000                      0.000000   \n",
       "1057                    12.557566                      7.821058   \n",
       "1193                     0.000000                      0.000000   \n",
       "1194                     0.000000                      0.000000   \n",
       "1195                     0.000000                      0.000000   \n",
       "\n",
       "      final.output.concentrate_au  final.output.recovery  \\\n",
       "644                      0.000000               0.000000   \n",
       "1057                    41.529734               0.463711   \n",
       "1193                     0.000000               0.000000   \n",
       "1194                     0.000000               0.000000   \n",
       "1195                     0.000000               0.000000   \n",
       "\n",
       "      final.output.tail_ag  final.output.tail_pb  final.output.tail_sol  \\\n",
       "644               8.894029              0.843584              15.417342   \n",
       "1057             11.388568              1.893716               7.735606   \n",
       "1193             10.817313              1.462800              16.407607   \n",
       "1194             10.436792              1.207636              17.800392   \n",
       "1195             10.637073              1.405778              17.195897   \n",
       "\n",
       "      final.output.tail_au  ...  secondary_cleaner.state.floatbank4_a_air  \\\n",
       "644               1.779052  ...                                 21.991762   \n",
       "1057              4.115341  ...                                 13.974818   \n",
       "1193              2.984504  ...                                 11.979352   \n",
       "1194              2.747294  ...                                 12.034636   \n",
       "1195              2.791440  ...                                 12.016716   \n",
       "\n",
       "      secondary_cleaner.state.floatbank4_a_level  \\\n",
       "644                                  -399.587122   \n",
       "1057                                 -578.520549   \n",
       "1193                                 -453.431061   \n",
       "1194                                 -446.590944   \n",
       "1195                                 -496.613149   \n",
       "\n",
       "      secondary_cleaner.state.floatbank4_b_air  \\\n",
       "644                                  21.988937   \n",
       "1057                                 14.065672   \n",
       "1193                                 12.003445   \n",
       "1194                                 12.130405   \n",
       "1195                                 12.055535   \n",
       "\n",
       "      secondary_cleaner.state.floatbank4_b_level  \\\n",
       "644                                  -401.366408   \n",
       "1057                                 -501.248199   \n",
       "1193                                 -450.179844   \n",
       "1194                                 -449.684812   \n",
       "1195                                 -496.908551   \n",
       "\n",
       "      secondary_cleaner.state.floatbank5_a_air  \\\n",
       "644                                  22.995012   \n",
       "1057                                 12.011447   \n",
       "1193                                 11.982937   \n",
       "1194                                 11.844983   \n",
       "1195                                 12.091144   \n",
       "\n",
       "      secondary_cleaner.state.floatbank5_a_level  \\\n",
       "644                                  -399.370680   \n",
       "1057                                 -500.417855   \n",
       "1193                                 -449.856468   \n",
       "1194                                 -450.881424   \n",
       "1195                                 -496.404140   \n",
       "\n",
       "      secondary_cleaner.state.floatbank5_b_air  \\\n",
       "644                                  20.966863   \n",
       "1057                                 10.025794   \n",
       "1193                                  9.927727   \n",
       "1194                                  9.916784   \n",
       "1195                                  9.976074   \n",
       "\n",
       "      secondary_cleaner.state.floatbank5_b_level  \\\n",
       "644                                  -399.308354   \n",
       "1057                                 -499.889108   \n",
       "1193                                 -450.521700   \n",
       "1194                                 -449.542871   \n",
       "1195                                 -496.783155   \n",
       "\n",
       "      secondary_cleaner.state.floatbank6_a_air  \\\n",
       "644                                  24.987274   \n",
       "1057                                 20.033958   \n",
       "1193                                 19.971682   \n",
       "1194                                 20.004767   \n",
       "1195                                 19.921634   \n",
       "\n",
       "      secondary_cleaner.state.floatbank6_a_level  \n",
       "644                                  -399.619808  \n",
       "1057                                 -499.999036  \n",
       "1193                                 -500.685521  \n",
       "1194                                 -500.137068  \n",
       "1195                                 -500.769011  \n",
       "\n",
       "[5 rows x 87 columns]"
      ]
     },
     "execution_count": 19,
     "metadata": {},
     "output_type": "execute_result"
    }
   ],
   "source": [
    "train[train['final.output.recovery'] < 1].head()"
   ]
  },
  {
   "cell_type": "code",
   "execution_count": 20,
   "metadata": {},
   "outputs": [
    {
     "data": {
      "text/html": [
       "<div>\n",
       "<style scoped>\n",
       "    .dataframe tbody tr th:only-of-type {\n",
       "        vertical-align: middle;\n",
       "    }\n",
       "\n",
       "    .dataframe tbody tr th {\n",
       "        vertical-align: top;\n",
       "    }\n",
       "\n",
       "    .dataframe thead th {\n",
       "        text-align: right;\n",
       "    }\n",
       "</style>\n",
       "<table border=\"1\" class=\"dataframe\">\n",
       "  <thead>\n",
       "    <tr style=\"text-align: right;\">\n",
       "      <th></th>\n",
       "      <th>date</th>\n",
       "      <th>final.output.concentrate_ag</th>\n",
       "      <th>final.output.concentrate_pb</th>\n",
       "      <th>final.output.concentrate_sol</th>\n",
       "      <th>final.output.concentrate_au</th>\n",
       "      <th>final.output.recovery</th>\n",
       "      <th>final.output.tail_ag</th>\n",
       "      <th>final.output.tail_pb</th>\n",
       "      <th>final.output.tail_sol</th>\n",
       "      <th>final.output.tail_au</th>\n",
       "      <th>...</th>\n",
       "      <th>secondary_cleaner.state.floatbank4_a_air</th>\n",
       "      <th>secondary_cleaner.state.floatbank4_a_level</th>\n",
       "      <th>secondary_cleaner.state.floatbank4_b_air</th>\n",
       "      <th>secondary_cleaner.state.floatbank4_b_level</th>\n",
       "      <th>secondary_cleaner.state.floatbank5_a_air</th>\n",
       "      <th>secondary_cleaner.state.floatbank5_a_level</th>\n",
       "      <th>secondary_cleaner.state.floatbank5_b_air</th>\n",
       "      <th>secondary_cleaner.state.floatbank5_b_level</th>\n",
       "      <th>secondary_cleaner.state.floatbank6_a_air</th>\n",
       "      <th>secondary_cleaner.state.floatbank6_a_level</th>\n",
       "    </tr>\n",
       "  </thead>\n",
       "  <tbody>\n",
       "    <tr>\n",
       "      <th>1057</th>\n",
       "      <td>2016-03-02 11:00:00</td>\n",
       "      <td>4.637727</td>\n",
       "      <td>12.557566</td>\n",
       "      <td>7.821058</td>\n",
       "      <td>41.529734</td>\n",
       "      <td>0.463711</td>\n",
       "      <td>11.388568</td>\n",
       "      <td>1.893716</td>\n",
       "      <td>7.735606</td>\n",
       "      <td>4.115341</td>\n",
       "      <td>...</td>\n",
       "      <td>13.974818</td>\n",
       "      <td>-578.520549</td>\n",
       "      <td>14.065672</td>\n",
       "      <td>-501.248199</td>\n",
       "      <td>12.011447</td>\n",
       "      <td>-500.417855</td>\n",
       "      <td>10.025794</td>\n",
       "      <td>-499.889108</td>\n",
       "      <td>20.033958</td>\n",
       "      <td>-499.999036</td>\n",
       "    </tr>\n",
       "    <tr>\n",
       "      <th>11993</th>\n",
       "      <td>2018-05-02 17:59:59</td>\n",
       "      <td>5.644008</td>\n",
       "      <td>6.994057</td>\n",
       "      <td>7.987903</td>\n",
       "      <td>50.518813</td>\n",
       "      <td>0.430264</td>\n",
       "      <td>8.709877</td>\n",
       "      <td>0.987726</td>\n",
       "      <td>8.533550</td>\n",
       "      <td>0.886103</td>\n",
       "      <td>...</td>\n",
       "      <td>30.030464</td>\n",
       "      <td>-497.628390</td>\n",
       "      <td>20.070540</td>\n",
       "      <td>-499.776095</td>\n",
       "      <td>24.978862</td>\n",
       "      <td>-499.085376</td>\n",
       "      <td>23.029016</td>\n",
       "      <td>-500.164084</td>\n",
       "      <td>25.006625</td>\n",
       "      <td>-499.199960</td>\n",
       "    </tr>\n",
       "    <tr>\n",
       "      <th>12277</th>\n",
       "      <td>2018-05-15 04:59:59</td>\n",
       "      <td>0.010000</td>\n",
       "      <td>0.010000</td>\n",
       "      <td>0.010000</td>\n",
       "      <td>0.010000</td>\n",
       "      <td>0.168611</td>\n",
       "      <td>8.069722</td>\n",
       "      <td>1.734258</td>\n",
       "      <td>5.262840</td>\n",
       "      <td>2.452356</td>\n",
       "      <td>...</td>\n",
       "      <td>30.028409</td>\n",
       "      <td>-507.406186</td>\n",
       "      <td>22.008754</td>\n",
       "      <td>-501.816732</td>\n",
       "      <td>24.992438</td>\n",
       "      <td>-503.865882</td>\n",
       "      <td>23.019383</td>\n",
       "      <td>-500.472409</td>\n",
       "      <td>25.002424</td>\n",
       "      <td>-503.326766</td>\n",
       "    </tr>\n",
       "  </tbody>\n",
       "</table>\n",
       "<p>3 rows × 87 columns</p>\n",
       "</div>"
      ],
      "text/plain": [
       "                      date  final.output.concentrate_ag  \\\n",
       "1057   2016-03-02 11:00:00                     4.637727   \n",
       "11993  2018-05-02 17:59:59                     5.644008   \n",
       "12277  2018-05-15 04:59:59                     0.010000   \n",
       "\n",
       "       final.output.concentrate_pb  final.output.concentrate_sol  \\\n",
       "1057                     12.557566                      7.821058   \n",
       "11993                     6.994057                      7.987903   \n",
       "12277                     0.010000                      0.010000   \n",
       "\n",
       "       final.output.concentrate_au  final.output.recovery  \\\n",
       "1057                     41.529734               0.463711   \n",
       "11993                    50.518813               0.430264   \n",
       "12277                     0.010000               0.168611   \n",
       "\n",
       "       final.output.tail_ag  final.output.tail_pb  final.output.tail_sol  \\\n",
       "1057              11.388568              1.893716               7.735606   \n",
       "11993              8.709877              0.987726               8.533550   \n",
       "12277              8.069722              1.734258               5.262840   \n",
       "\n",
       "       final.output.tail_au  ...  secondary_cleaner.state.floatbank4_a_air  \\\n",
       "1057               4.115341  ...                                 13.974818   \n",
       "11993              0.886103  ...                                 30.030464   \n",
       "12277              2.452356  ...                                 30.028409   \n",
       "\n",
       "       secondary_cleaner.state.floatbank4_a_level  \\\n",
       "1057                                  -578.520549   \n",
       "11993                                 -497.628390   \n",
       "12277                                 -507.406186   \n",
       "\n",
       "       secondary_cleaner.state.floatbank4_b_air  \\\n",
       "1057                                  14.065672   \n",
       "11993                                 20.070540   \n",
       "12277                                 22.008754   \n",
       "\n",
       "       secondary_cleaner.state.floatbank4_b_level  \\\n",
       "1057                                  -501.248199   \n",
       "11993                                 -499.776095   \n",
       "12277                                 -501.816732   \n",
       "\n",
       "       secondary_cleaner.state.floatbank5_a_air  \\\n",
       "1057                                  12.011447   \n",
       "11993                                 24.978862   \n",
       "12277                                 24.992438   \n",
       "\n",
       "       secondary_cleaner.state.floatbank5_a_level  \\\n",
       "1057                                  -500.417855   \n",
       "11993                                 -499.085376   \n",
       "12277                                 -503.865882   \n",
       "\n",
       "       secondary_cleaner.state.floatbank5_b_air  \\\n",
       "1057                                  10.025794   \n",
       "11993                                 23.029016   \n",
       "12277                                 23.019383   \n",
       "\n",
       "       secondary_cleaner.state.floatbank5_b_level  \\\n",
       "1057                                  -499.889108   \n",
       "11993                                 -500.164084   \n",
       "12277                                 -500.472409   \n",
       "\n",
       "       secondary_cleaner.state.floatbank6_a_air  \\\n",
       "1057                                  20.033958   \n",
       "11993                                 25.006625   \n",
       "12277                                 25.002424   \n",
       "\n",
       "       secondary_cleaner.state.floatbank6_a_level  \n",
       "1057                                  -499.999036  \n",
       "11993                                 -499.199960  \n",
       "12277                                 -503.326766  \n",
       "\n",
       "[3 rows x 87 columns]"
      ]
     },
     "execution_count": 20,
     "metadata": {},
     "output_type": "execute_result"
    }
   ],
   "source": [
    "train = train.drop(train[train['final.output.recovery'] == 0].index)\n",
    "train[train['final.output.recovery'] < 1].head()"
   ]
  },
  {
   "cell_type": "code",
   "execution_count": 21,
   "metadata": {},
   "outputs": [
    {
     "name": "stdout",
     "output_type": "stream",
     "text": [
      "<class 'pandas.core.frame.DataFrame'>\n",
      "Int64Index: 13795 entries, 0 to 14148\n",
      "Data columns (total 87 columns):\n",
      " #   Column                                              Non-Null Count  Dtype  \n",
      "---  ------                                              --------------  -----  \n",
      " 0   date                                                13795 non-null  object \n",
      " 1   final.output.concentrate_ag                         13795 non-null  float64\n",
      " 2   final.output.concentrate_pb                         13795 non-null  float64\n",
      " 3   final.output.concentrate_sol                        13795 non-null  float64\n",
      " 4   final.output.concentrate_au                         13795 non-null  float64\n",
      " 5   final.output.recovery                               13795 non-null  float64\n",
      " 6   final.output.tail_ag                                13795 non-null  float64\n",
      " 7   final.output.tail_pb                                13795 non-null  float64\n",
      " 8   final.output.tail_sol                               13795 non-null  float64\n",
      " 9   final.output.tail_au                                13795 non-null  float64\n",
      " 10  primary_cleaner.input.sulfate                       13795 non-null  float64\n",
      " 11  primary_cleaner.input.depressant                    13795 non-null  float64\n",
      " 12  primary_cleaner.input.feed_size                     13795 non-null  float64\n",
      " 13  primary_cleaner.input.xanthate                      13795 non-null  float64\n",
      " 14  primary_cleaner.output.concentrate_ag               13795 non-null  float64\n",
      " 15  primary_cleaner.output.concentrate_pb               13795 non-null  float64\n",
      " 16  primary_cleaner.output.concentrate_sol              13795 non-null  float64\n",
      " 17  primary_cleaner.output.concentrate_au               13795 non-null  float64\n",
      " 18  primary_cleaner.output.tail_ag                      13795 non-null  float64\n",
      " 19  primary_cleaner.output.tail_pb                      13795 non-null  float64\n",
      " 20  primary_cleaner.output.tail_sol                     13795 non-null  float64\n",
      " 21  primary_cleaner.output.tail_au                      13795 non-null  float64\n",
      " 22  primary_cleaner.state.floatbank8_a_air              13795 non-null  float64\n",
      " 23  primary_cleaner.state.floatbank8_a_level            13795 non-null  float64\n",
      " 24  primary_cleaner.state.floatbank8_b_air              13795 non-null  float64\n",
      " 25  primary_cleaner.state.floatbank8_b_level            13795 non-null  float64\n",
      " 26  primary_cleaner.state.floatbank8_c_air              13795 non-null  float64\n",
      " 27  primary_cleaner.state.floatbank8_c_level            13795 non-null  float64\n",
      " 28  primary_cleaner.state.floatbank8_d_air              13795 non-null  float64\n",
      " 29  primary_cleaner.state.floatbank8_d_level            13795 non-null  float64\n",
      " 30  rougher.calculation.sulfate_to_au_concentrate       13795 non-null  float64\n",
      " 31  rougher.calculation.floatbank10_sulfate_to_au_feed  13795 non-null  float64\n",
      " 32  rougher.calculation.floatbank11_sulfate_to_au_feed  13795 non-null  float64\n",
      " 33  rougher.calculation.au_pb_ratio                     13795 non-null  float64\n",
      " 34  rougher.input.feed_ag                               13795 non-null  float64\n",
      " 35  rougher.input.feed_pb                               13795 non-null  float64\n",
      " 36  rougher.input.feed_rate                             13795 non-null  float64\n",
      " 37  rougher.input.feed_size                             13795 non-null  float64\n",
      " 38  rougher.input.feed_sol                              13795 non-null  float64\n",
      " 39  rougher.input.feed_au                               13795 non-null  float64\n",
      " 40  rougher.input.floatbank10_sulfate                   13795 non-null  float64\n",
      " 41  rougher.input.floatbank10_xanthate                  13795 non-null  float64\n",
      " 42  rougher.input.floatbank11_sulfate                   13795 non-null  float64\n",
      " 43  rougher.input.floatbank11_xanthate                  13795 non-null  float64\n",
      " 44  rougher.output.concentrate_ag                       13795 non-null  float64\n",
      " 45  rougher.output.concentrate_pb                       13795 non-null  float64\n",
      " 46  rougher.output.concentrate_sol                      13795 non-null  float64\n",
      " 47  rougher.output.concentrate_au                       13795 non-null  float64\n",
      " 48  rougher.output.recovery                             13795 non-null  float64\n",
      " 49  rougher.output.tail_ag                              13795 non-null  float64\n",
      " 50  rougher.output.tail_pb                              13795 non-null  float64\n",
      " 51  rougher.output.tail_sol                             13795 non-null  float64\n",
      " 52  rougher.output.tail_au                              13795 non-null  float64\n",
      " 53  rougher.state.floatbank10_a_air                     13795 non-null  float64\n",
      " 54  rougher.state.floatbank10_a_level                   13795 non-null  float64\n",
      " 55  rougher.state.floatbank10_b_air                     13795 non-null  float64\n",
      " 56  rougher.state.floatbank10_b_level                   13795 non-null  float64\n",
      " 57  rougher.state.floatbank10_c_air                     13795 non-null  float64\n",
      " 58  rougher.state.floatbank10_c_level                   13795 non-null  float64\n",
      " 59  rougher.state.floatbank10_d_air                     13795 non-null  float64\n",
      " 60  rougher.state.floatbank10_d_level                   13795 non-null  float64\n",
      " 61  rougher.state.floatbank10_e_air                     13795 non-null  float64\n",
      " 62  rougher.state.floatbank10_e_level                   13795 non-null  float64\n",
      " 63  rougher.state.floatbank10_f_air                     13795 non-null  float64\n",
      " 64  rougher.state.floatbank10_f_level                   13795 non-null  float64\n",
      " 65  secondary_cleaner.output.tail_ag                    13795 non-null  float64\n",
      " 66  secondary_cleaner.output.tail_pb                    13795 non-null  float64\n",
      " 67  secondary_cleaner.output.tail_sol                   13795 non-null  float64\n",
      " 68  secondary_cleaner.output.tail_au                    13795 non-null  float64\n",
      " 69  secondary_cleaner.state.floatbank2_a_air            13795 non-null  float64\n",
      " 70  secondary_cleaner.state.floatbank2_a_level          13795 non-null  float64\n",
      " 71  secondary_cleaner.state.floatbank2_b_air            13795 non-null  float64\n",
      " 72  secondary_cleaner.state.floatbank2_b_level          13795 non-null  float64\n",
      " 73  secondary_cleaner.state.floatbank3_a_air            13795 non-null  float64\n",
      " 74  secondary_cleaner.state.floatbank3_a_level          13795 non-null  float64\n",
      " 75  secondary_cleaner.state.floatbank3_b_air            13795 non-null  float64\n",
      " 76  secondary_cleaner.state.floatbank3_b_level          13795 non-null  float64\n",
      " 77  secondary_cleaner.state.floatbank4_a_air            13795 non-null  float64\n",
      " 78  secondary_cleaner.state.floatbank4_a_level          13795 non-null  float64\n",
      " 79  secondary_cleaner.state.floatbank4_b_air            13795 non-null  float64\n",
      " 80  secondary_cleaner.state.floatbank4_b_level          13795 non-null  float64\n",
      " 81  secondary_cleaner.state.floatbank5_a_air            13795 non-null  float64\n",
      " 82  secondary_cleaner.state.floatbank5_a_level          13795 non-null  float64\n",
      " 83  secondary_cleaner.state.floatbank5_b_air            13795 non-null  float64\n",
      " 84  secondary_cleaner.state.floatbank5_b_level          13795 non-null  float64\n",
      " 85  secondary_cleaner.state.floatbank6_a_air            13795 non-null  float64\n",
      " 86  secondary_cleaner.state.floatbank6_a_level          13795 non-null  float64\n",
      "dtypes: float64(86), object(1)\n",
      "memory usage: 9.3+ MB\n"
     ]
    }
   ],
   "source": [
    "train.info()"
   ]
  },
  {
   "cell_type": "markdown",
   "metadata": {},
   "source": [
    "### Концентрация веществ"
   ]
  },
  {
   "cell_type": "markdown",
   "metadata": {},
   "source": [
    "Проверю концентрацию золота на различных этапах."
   ]
  },
  {
   "cell_type": "code",
   "execution_count": 22,
   "metadata": {},
   "outputs": [
    {
     "data": {
      "image/png": "[encoded data removed]",
      "text/plain": [
       "<Figure size 864x648 with 1 Axes>"
      ]
     },
     "metadata": {
      "needs_background": "light"
     },
     "output_type": "display_data"
    }
   ],
   "source": [
    "plt.figure(figsize=[12,9])\n",
    "\n",
    "plt.hist(train['final.output.concentrate_au'], bins=100, label = 'final.output', alpha=.5)\n",
    "plt.hist(train['primary_cleaner.output.concentrate_au'], bins=100, label = 'primary_cleaner.output', alpha=.5)\n",
    "plt.hist(train['rougher.output.concentrate_au'], bins=100, label = 'rougher.output', alpha=.5)\n",
    "\n",
    "plt.xlim([0, 55])\n",
    "plt.ylim([0, 1000])\n",
    "\n",
    "plt.xlabel(\"Концентрация золота на выходе\")\n",
    "plt.ylabel(\"Количество результатов\")\n",
    "\n",
    "plt.legend(loc='upper left', fontsize='x-large')\n",
    "\n",
    "plt.title(\"Гистограмма распределения концентрации золота\")\n",
    "plt.show()"
   ]
  },
  {
   "cell_type": "markdown",
   "metadata": {},
   "source": [
    "Концентрация золота растет от этапа к этапу."
   ]
  },
  {
   "cell_type": "markdown",
   "metadata": {},
   "source": [
    "Проверю концентрацию серебра на различных этапах."
   ]
  },
  {
   "cell_type": "code",
   "execution_count": 23,
   "metadata": {},
   "outputs": [
    {
     "data": {
      "image/png": "[encoded data removed]",
      "text/plain": [
       "<Figure size 864x648 with 1 Axes>"
      ]
     },
     "metadata": {
      "needs_background": "light"
     },
     "output_type": "display_data"
    }
   ],
   "source": [
    "plt.figure(figsize=[12,9])\n",
    "\n",
    "plt.hist(train['final.output.concentrate_ag'], bins=100, label = 'final.output', alpha=.5)\n",
    "plt.hist(train['primary_cleaner.output.concentrate_ag'], bins=100, label = 'primary_cleaner.output', alpha=.5)\n",
    "plt.hist(train['rougher.output.concentrate_ag'], bins=100, label = 'rougher.output', alpha=.5)\n",
    "\n",
    "plt.xlim([0, 25])\n",
    "plt.ylim([0, 900])\n",
    "\n",
    "plt.xlabel(\"Концентрация серебра на выходе\")\n",
    "plt.ylabel(\"Количество результатов\")\n",
    "\n",
    "plt.legend(loc='upper left', fontsize='x-large')\n",
    "\n",
    "plt.title(\"Гистограмма распределения концентрации серебра\")\n",
    "plt.show()"
   ]
  },
  {
   "cell_type": "markdown",
   "metadata": {},
   "source": [
    "Концентрация серебра падает от этапа к этапу."
   ]
  },
  {
   "cell_type": "markdown",
   "metadata": {},
   "source": [
    "Проверю концентрацию свинца на различных этапах."
   ]
  },
  {
   "cell_type": "code",
   "execution_count": 24,
   "metadata": {},
   "outputs": [
    {
     "data": {
      "image/png": "[encoded data removed]",
      "text/plain": [
       "<Figure size 864x648 with 1 Axes>"
      ]
     },
     "metadata": {
      "needs_background": "light"
     },
     "output_type": "display_data"
    }
   ],
   "source": [
    "plt.figure(figsize=[12,9])\n",
    "\n",
    "plt.hist(train['final.output.concentrate_pb'], bins=100, label = 'final.output', alpha=.5)\n",
    "plt.hist(train['primary_cleaner.output.concentrate_pb'], bins=100, label = 'primary_cleaner.output', alpha=.5)\n",
    "plt.hist(train['rougher.output.concentrate_pb'], bins=100, label = 'rougher.output', alpha=.5)\n",
    "\n",
    "plt.xlim([0, 20])\n",
    "plt.ylim([0, 800])\n",
    "\n",
    "plt.xlabel(\"Концентрация свинца на выходе\")\n",
    "plt.ylabel(\"Количество результатов\")\n",
    "\n",
    "plt.legend(loc='upper left', fontsize='x-large')\n",
    "\n",
    "plt.title(\"Гистограмма распределения концентрации свинца\")\n",
    "plt.show()"
   ]
  },
  {
   "cell_type": "markdown",
   "metadata": {},
   "source": [
    "Концентрация свинца повышается с этапа rougher до primary_cleaner затем усредняется. "
   ]
  },
  {
   "cell_type": "markdown",
   "metadata": {},
   "source": [
    "### Размеры гранул сырья"
   ]
  },
  {
   "cell_type": "markdown",
   "metadata": {},
   "source": [
    "Проверю размеры гранул сырья на различных этапах."
   ]
  },
  {
   "cell_type": "code",
   "execution_count": 25,
   "metadata": {},
   "outputs": [
    {
     "data": {
      "image/png": "[encoded data removed]",
      "text/plain": [
       "<Figure size 864x648 with 1 Axes>"
      ]
     },
     "metadata": {
      "needs_background": "light"
     },
     "output_type": "display_data"
    }
   ],
   "source": [
    "plt.figure(figsize=[12,9])\n",
    "\n",
    "plt.hist(train['rougher.input.feed_size'], bins=100, density=True, label = 'Train rougher.input.feed_size', alpha=0.5)\n",
    "plt.hist(test['rougher.input.feed_size'], bins=100, density=True, label = 'Test rougher.input.feed_size', alpha=0.5)\n",
    "\n",
    "plt.xlim([0, 150])\n",
    "plt.ylim([0, 0.05])\n",
    "\n",
    "plt.xlabel(\"Размер гранул сырья\")\n",
    "plt.ylabel(\"Количество результатов\")\n",
    "\n",
    "plt.legend(loc='upper left', fontsize='x-large')\n",
    "\n",
    "plt.title(\"Гистограмма распределения гранул сырья перед флотацией\")\n",
    "plt.show()"
   ]
  },
  {
   "cell_type": "markdown",
   "metadata": {},
   "source": [
    "Распределение гранул до флотации похоже на нормальное со смещением влево как в обучающей, так и в тестовой выбрке. Существует много выбросов после размера гранул 100."
   ]
  },
  {
   "cell_type": "code",
   "execution_count": 26,
   "metadata": {},
   "outputs": [
    {
     "data": {
      "image/png": "[encoded data removed]",
      "text/plain": [
       "<Figure size 864x648 with 1 Axes>"
      ]
     },
     "metadata": {
      "needs_background": "light"
     },
     "output_type": "display_data"
    }
   ],
   "source": [
    "plt.figure(figsize=[12,9])\n",
    "\n",
    "plt.hist(train['primary_cleaner.input.feed_size'], bins=100, density=True, label = 'Train primary_cleaner.input.feed_size', alpha=.5)\n",
    "plt.hist(test['primary_cleaner.input.feed_size'], bins=100, density=True, label = 'Test primary_cleaner.input.feed_size', alpha=.5)\n",
    "\n",
    "plt.xlim([0, 15])\n",
    "plt.ylim([0, 1])\n",
    "\n",
    "plt.xlabel(\"Размер гранул сырья\")\n",
    "plt.ylabel(\"Количество результатов\")\n",
    "\n",
    "plt.legend(loc='upper left', fontsize='x-large')\n",
    "\n",
    "plt.title(\"Гистограмма распределения гранул сырья перед первичной очисткой\")\n",
    "plt.show()"
   ]
  },
  {
   "cell_type": "markdown",
   "metadata": {},
   "source": [
    "Гистограмма имеет нормальное распределение."
   ]
  },
  {
   "cell_type": "markdown",
   "metadata": {},
   "source": [
    "Подготовлю данные с финальными концентрациями в обучающей выборке."
   ]
  },
  {
   "cell_type": "code",
   "execution_count": 27,
   "metadata": {},
   "outputs": [],
   "source": [
    "final_train = (train['final.output.concentrate_au'] + \n",
    "            train['final.output.concentrate_ag'] + \n",
    "            train['final.output.concentrate_pb'] +\n",
    "            train['final.output.concentrate_sol'])\n",
    "primary_train = (train['primary_cleaner.output.concentrate_au'] + \n",
    "                train['primary_cleaner.output.concentrate_ag'] + \n",
    "                train['primary_cleaner.output.concentrate_pb'] +\n",
    "                train['primary_cleaner.output.concentrate_sol'])\n",
    "rougher_train = (train['rougher.output.concentrate_au'] + \n",
    "                train['rougher.output.concentrate_ag'] + \n",
    "                train['rougher.output.concentrate_pb'] +\n",
    "                train['rougher.output.concentrate_sol'])"
   ]
  },
  {
   "cell_type": "markdown",
   "metadata": {},
   "source": [
    "Построю гистограмму."
   ]
  },
  {
   "cell_type": "code",
   "execution_count": 28,
   "metadata": {},
   "outputs": [
    {
     "data": {
      "image/png": "[encoded data removed]",
      "text/plain": [
       "<Figure size 864x648 with 1 Axes>"
      ]
     },
     "metadata": {
      "needs_background": "light"
     },
     "output_type": "display_data"
    }
   ],
   "source": [
    "plt.figure(figsize=[12,9])\n",
    "\n",
    "plt.hist(final_train, bins=100, label = 'final.output.concentrate', alpha=0.5)\n",
    "plt.hist(primary_train, bins=100, label = 'rougher.input.feed', alpha=0.5)\n",
    "plt.hist(rougher_train, bins=100, label = 'rougher.output.concentrate', alpha=0.5)\n",
    "\n",
    "plt.xlim([0, 100])\n",
    "plt.ylim([0, 2000])\n",
    "\n",
    "plt.xlabel(\"Суммарная концентраця\")\n",
    "plt.ylabel(\"Количество результатов\")\n",
    "\n",
    "plt.legend(loc='upper left', fontsize='x-large')\n",
    "\n",
    "plt.title(\"Гистограмма распределения концентраций на разных этапах очистки\")\n",
    "plt.show()"
   ]
  },
  {
   "cell_type": "markdown",
   "metadata": {},
   "source": [
    "Много аномальных значений в нуле гистограммы."
   ]
  },
  {
   "cell_type": "code",
   "execution_count": 29,
   "metadata": {},
   "outputs": [
    {
     "data": {
      "image/png": "[encoded data removed]",
      "text/plain": [
       "<Figure size 864x648 with 1 Axes>"
      ]
     },
     "metadata": {
      "needs_background": "light"
     },
     "output_type": "display_data"
    }
   ],
   "source": [
    "plt.figure(figsize=[12,9])\n",
    "\n",
    "plt.hist(final_train, bins=100, label = 'final_output', alpha=.5)\n",
    "plt.hist(primary_train, bins=100, label = 'primary_cleaner_output', alpha=.5)\n",
    "plt.hist(rougher_train, bins=100, label = 'rougher_output', alpha=.5)\n",
    "\n",
    "plt.xlim([0, 10])\n",
    "plt.ylim([0, 200])\n",
    "\n",
    "plt.xlabel(\"Суммарная концентраця\")\n",
    "plt.ylabel(\"Количество результатов\")\n",
    "\n",
    "plt.legend(loc='upper left', fontsize='x-large')\n",
    "\n",
    "plt.title(\"Гистограмма распределения концентраций на разных этапах очистки\")\n",
    "plt.show()"
   ]
  },
  {
   "cell_type": "markdown",
   "metadata": {},
   "source": [
    "Удалю строки в primary_cleaner.output равные нулю."
   ]
  },
  {
   "cell_type": "code",
   "execution_count": 30,
   "metadata": {},
   "outputs": [
    {
     "data": {
      "text/html": [
       "<div>\n",
       "<style scoped>\n",
       "    .dataframe tbody tr th:only-of-type {\n",
       "        vertical-align: middle;\n",
       "    }\n",
       "\n",
       "    .dataframe tbody tr th {\n",
       "        vertical-align: top;\n",
       "    }\n",
       "\n",
       "    .dataframe thead th {\n",
       "        text-align: right;\n",
       "    }\n",
       "</style>\n",
       "<table border=\"1\" class=\"dataframe\">\n",
       "  <thead>\n",
       "    <tr style=\"text-align: right;\">\n",
       "      <th></th>\n",
       "      <th>date</th>\n",
       "      <th>final.output.concentrate_ag</th>\n",
       "      <th>final.output.concentrate_pb</th>\n",
       "      <th>final.output.concentrate_sol</th>\n",
       "      <th>final.output.concentrate_au</th>\n",
       "      <th>final.output.recovery</th>\n",
       "      <th>final.output.tail_ag</th>\n",
       "      <th>final.output.tail_pb</th>\n",
       "      <th>final.output.tail_sol</th>\n",
       "      <th>final.output.tail_au</th>\n",
       "      <th>...</th>\n",
       "      <th>secondary_cleaner.state.floatbank4_a_air</th>\n",
       "      <th>secondary_cleaner.state.floatbank4_a_level</th>\n",
       "      <th>secondary_cleaner.state.floatbank4_b_air</th>\n",
       "      <th>secondary_cleaner.state.floatbank4_b_level</th>\n",
       "      <th>secondary_cleaner.state.floatbank5_a_air</th>\n",
       "      <th>secondary_cleaner.state.floatbank5_a_level</th>\n",
       "      <th>secondary_cleaner.state.floatbank5_b_air</th>\n",
       "      <th>secondary_cleaner.state.floatbank5_b_level</th>\n",
       "      <th>secondary_cleaner.state.floatbank6_a_air</th>\n",
       "      <th>secondary_cleaner.state.floatbank6_a_level</th>\n",
       "    </tr>\n",
       "  </thead>\n",
       "  <tbody>\n",
       "  </tbody>\n",
       "</table>\n",
       "<p>0 rows × 87 columns</p>\n",
       "</div>"
      ],
      "text/plain": [
       "Empty DataFrame\n",
       "Columns: [date, final.output.concentrate_ag, final.output.concentrate_pb, final.output.concentrate_sol, final.output.concentrate_au, final.output.recovery, final.output.tail_ag, final.output.tail_pb, final.output.tail_sol, final.output.tail_au, primary_cleaner.input.sulfate, primary_cleaner.input.depressant, primary_cleaner.input.feed_size, primary_cleaner.input.xanthate, primary_cleaner.output.concentrate_ag, primary_cleaner.output.concentrate_pb, primary_cleaner.output.concentrate_sol, primary_cleaner.output.concentrate_au, primary_cleaner.output.tail_ag, primary_cleaner.output.tail_pb, primary_cleaner.output.tail_sol, primary_cleaner.output.tail_au, primary_cleaner.state.floatbank8_a_air, primary_cleaner.state.floatbank8_a_level, primary_cleaner.state.floatbank8_b_air, primary_cleaner.state.floatbank8_b_level, primary_cleaner.state.floatbank8_c_air, primary_cleaner.state.floatbank8_c_level, primary_cleaner.state.floatbank8_d_air, primary_cleaner.state.floatbank8_d_level, rougher.calculation.sulfate_to_au_concentrate, rougher.calculation.floatbank10_sulfate_to_au_feed, rougher.calculation.floatbank11_sulfate_to_au_feed, rougher.calculation.au_pb_ratio, rougher.input.feed_ag, rougher.input.feed_pb, rougher.input.feed_rate, rougher.input.feed_size, rougher.input.feed_sol, rougher.input.feed_au, rougher.input.floatbank10_sulfate, rougher.input.floatbank10_xanthate, rougher.input.floatbank11_sulfate, rougher.input.floatbank11_xanthate, rougher.output.concentrate_ag, rougher.output.concentrate_pb, rougher.output.concentrate_sol, rougher.output.concentrate_au, rougher.output.recovery, rougher.output.tail_ag, rougher.output.tail_pb, rougher.output.tail_sol, rougher.output.tail_au, rougher.state.floatbank10_a_air, rougher.state.floatbank10_a_level, rougher.state.floatbank10_b_air, rougher.state.floatbank10_b_level, rougher.state.floatbank10_c_air, rougher.state.floatbank10_c_level, rougher.state.floatbank10_d_air, rougher.state.floatbank10_d_level, rougher.state.floatbank10_e_air, rougher.state.floatbank10_e_level, rougher.state.floatbank10_f_air, rougher.state.floatbank10_f_level, secondary_cleaner.output.tail_ag, secondary_cleaner.output.tail_pb, secondary_cleaner.output.tail_sol, secondary_cleaner.output.tail_au, secondary_cleaner.state.floatbank2_a_air, secondary_cleaner.state.floatbank2_a_level, secondary_cleaner.state.floatbank2_b_air, secondary_cleaner.state.floatbank2_b_level, secondary_cleaner.state.floatbank3_a_air, secondary_cleaner.state.floatbank3_a_level, secondary_cleaner.state.floatbank3_b_air, secondary_cleaner.state.floatbank3_b_level, secondary_cleaner.state.floatbank4_a_air, secondary_cleaner.state.floatbank4_a_level, secondary_cleaner.state.floatbank4_b_air, secondary_cleaner.state.floatbank4_b_level, secondary_cleaner.state.floatbank5_a_air, secondary_cleaner.state.floatbank5_a_level, secondary_cleaner.state.floatbank5_b_air, secondary_cleaner.state.floatbank5_b_level, secondary_cleaner.state.floatbank6_a_air, secondary_cleaner.state.floatbank6_a_level]\n",
       "Index: []\n",
       "\n",
       "[0 rows x 87 columns]"
      ]
     },
     "execution_count": 30,
     "metadata": {},
     "output_type": "execute_result"
    }
   ],
   "source": [
    "train = train.drop(train[train['primary_cleaner.output.concentrate_au'] == 0].index)\n",
    "train[train['primary_cleaner.output.concentrate_au'] == 0].head()"
   ]
  },
  {
   "cell_type": "markdown",
   "metadata": {},
   "source": [
    "### Вывод"
   ]
  },
  {
   "cell_type": "markdown",
   "metadata": {},
   "source": [
    "В ходе проведения анализа данных были получены следующие результаты:\n",
    "\n",
    "- Рассчитанная MAE между моими расчётами и значением признака rougher.output.recovery в тренировочной выборке очень маленькая, значит эффективность обогащения рассчитана правильно.\n",
    "\n",
    "- В тестовой выборке отсуствуют столбцы данные по которым будут получены по результатам технологического процесса. Это онлайн метрики. Остальные столбцы исторически известны - это оффлайн метрики.\n",
    "\n",
    "- Подготовил данные для создания модели.\n",
    "\n",
    "- Определи концентрацию веществ на разных этапах: концентрация золота растет от этапа к этапу; концентрация серебра падает от этапа к этапу; концентрация свинца повышается с этапа rougher до primary_cleaner затем усредняется.\n",
    "\n",
    "- Построил графики размеров гранул сырья на различных этапах."
   ]
  },
  {
   "cell_type": "markdown",
   "metadata": {},
   "source": [
    "## Модель"
   ]
  },
  {
   "cell_type": "markdown",
   "metadata": {},
   "source": [
    "Создам разделение признаков для предсказания rougher.output.recovery и final.output.recovery."
   ]
  },
  {
   "cell_type": "code",
   "execution_count": 31,
   "metadata": {},
   "outputs": [
    {
     "name": "stdout",
     "output_type": "stream",
     "text": [
      "{'rougher.output.concentrate_au', 'primary_cleaner.output.tail_au', 'rougher.calculation.au_pb_ratio', 'rougher.calculation.floatbank11_sulfate_to_au_feed', 'rougher.output.tail_ag', 'final.output.recovery', 'primary_cleaner.output.concentrate_sol', 'primary_cleaner.output.concentrate_pb', 'primary_cleaner.output.concentrate_au', 'primary_cleaner.output.tail_ag', 'rougher.output.recovery', 'final.output.tail_pb', 'final.output.tail_au', 'secondary_cleaner.output.tail_au', 'rougher.output.tail_sol', 'final.output.concentrate_au', 'primary_cleaner.output.tail_sol', 'primary_cleaner.output.concentrate_ag', 'rougher.output.concentrate_sol', 'secondary_cleaner.output.tail_pb', 'secondary_cleaner.output.tail_ag', 'final.output.concentrate_pb', 'final.output.concentrate_sol', 'secondary_cleaner.output.tail_sol', 'date', 'final.output.concentrate_ag', 'rougher.calculation.floatbank10_sulfate_to_au_feed', 'rougher.calculation.sulfate_to_au_concentrate', 'rougher.output.concentrate_ag', 'primary_cleaner.output.tail_pb', 'rougher.output.tail_au', 'final.output.tail_sol', 'rougher.output.concentrate_pb', 'final.output.tail_ag', 'rougher.output.tail_pb'}\n",
      "\n",
      "Index(['primary_cleaner.input.sulfate', 'primary_cleaner.input.depressant',\n",
      "       'primary_cleaner.input.feed_size', 'primary_cleaner.input.xanthate',\n",
      "       'primary_cleaner.state.floatbank8_a_air',\n",
      "       'primary_cleaner.state.floatbank8_a_level',\n",
      "       'primary_cleaner.state.floatbank8_b_air',\n",
      "       'primary_cleaner.state.floatbank8_b_level',\n",
      "       'primary_cleaner.state.floatbank8_c_air',\n",
      "       'primary_cleaner.state.floatbank8_c_level',\n",
      "       'primary_cleaner.state.floatbank8_d_air',\n",
      "       'primary_cleaner.state.floatbank8_d_level', 'rougher.input.feed_ag',\n",
      "       'rougher.input.feed_pb', 'rougher.input.feed_rate',\n",
      "       'rougher.input.feed_size', 'rougher.input.feed_sol',\n",
      "       'rougher.input.feed_au', 'rougher.input.floatbank10_sulfate',\n",
      "       'rougher.input.floatbank10_xanthate',\n",
      "       'rougher.input.floatbank11_sulfate',\n",
      "       'rougher.input.floatbank11_xanthate', 'rougher.state.floatbank10_a_air',\n",
      "       'rougher.state.floatbank10_a_level', 'rougher.state.floatbank10_b_air',\n",
      "       'rougher.state.floatbank10_b_level', 'rougher.state.floatbank10_c_air',\n",
      "       'rougher.state.floatbank10_c_level', 'rougher.state.floatbank10_d_air',\n",
      "       'rougher.state.floatbank10_d_level', 'rougher.state.floatbank10_e_air',\n",
      "       'rougher.state.floatbank10_e_level', 'rougher.state.floatbank10_f_air',\n",
      "       'rougher.state.floatbank10_f_level',\n",
      "       'secondary_cleaner.state.floatbank2_a_air',\n",
      "       'secondary_cleaner.state.floatbank2_a_level',\n",
      "       'secondary_cleaner.state.floatbank2_b_air',\n",
      "       'secondary_cleaner.state.floatbank2_b_level',\n",
      "       'secondary_cleaner.state.floatbank3_a_air',\n",
      "       'secondary_cleaner.state.floatbank3_a_level',\n",
      "       'secondary_cleaner.state.floatbank3_b_air',\n",
      "       'secondary_cleaner.state.floatbank3_b_level',\n",
      "       'secondary_cleaner.state.floatbank4_a_air',\n",
      "       'secondary_cleaner.state.floatbank4_a_level',\n",
      "       'secondary_cleaner.state.floatbank4_b_air',\n",
      "       'secondary_cleaner.state.floatbank4_b_level',\n",
      "       'secondary_cleaner.state.floatbank5_a_air',\n",
      "       'secondary_cleaner.state.floatbank5_a_level',\n",
      "       'secondary_cleaner.state.floatbank5_b_air',\n",
      "       'secondary_cleaner.state.floatbank5_b_level',\n",
      "       'secondary_cleaner.state.floatbank6_a_air',\n",
      "       'secondary_cleaner.state.floatbank6_a_level'],\n",
      "      dtype='object')\n",
      "set()\n",
      "{'secondary_cleaner.state.floatbank4_a_air', 'secondary_cleaner.state.floatbank2_b_air', 'primary_cleaner.state.floatbank8_c_level', 'secondary_cleaner.state.floatbank2_a_level', 'primary_cleaner.state.floatbank8_a_air', 'primary_cleaner.state.floatbank8_d_level', 'primary_cleaner.input.depressant', 'primary_cleaner.input.sulfate', 'primary_cleaner.state.floatbank8_c_air', 'secondary_cleaner.state.floatbank3_b_level', 'secondary_cleaner.state.floatbank5_a_level', 'secondary_cleaner.state.floatbank6_a_air', 'secondary_cleaner.state.floatbank5_b_air', 'secondary_cleaner.state.floatbank4_a_level', 'secondary_cleaner.state.floatbank5_a_air', 'secondary_cleaner.state.floatbank5_b_level', 'secondary_cleaner.state.floatbank3_a_air', 'secondary_cleaner.state.floatbank2_a_air', 'primary_cleaner.state.floatbank8_b_level', 'secondary_cleaner.state.floatbank4_b_air', 'secondary_cleaner.state.floatbank3_b_air', 'secondary_cleaner.state.floatbank6_a_level', 'secondary_cleaner.state.floatbank4_b_level', 'primary_cleaner.state.floatbank8_a_level', 'secondary_cleaner.state.floatbank2_b_level', 'primary_cleaner.input.feed_size', 'secondary_cleaner.state.floatbank3_a_level', 'primary_cleaner.input.xanthate', 'primary_cleaner.state.floatbank8_b_air', 'primary_cleaner.state.floatbank8_d_air'}\n",
      "\n",
      "Index(['rougher.input.feed_ag', 'rougher.input.feed_pb',\n",
      "       'rougher.input.feed_rate', 'rougher.input.feed_size',\n",
      "       'rougher.input.feed_sol', 'rougher.input.feed_au',\n",
      "       'rougher.input.floatbank10_sulfate',\n",
      "       'rougher.input.floatbank10_xanthate',\n",
      "       'rougher.input.floatbank11_sulfate',\n",
      "       'rougher.input.floatbank11_xanthate', 'rougher.state.floatbank10_a_air',\n",
      "       'rougher.state.floatbank10_a_level', 'rougher.state.floatbank10_b_air',\n",
      "       'rougher.state.floatbank10_b_level', 'rougher.state.floatbank10_c_air',\n",
      "       'rougher.state.floatbank10_c_level', 'rougher.state.floatbank10_d_air',\n",
      "       'rougher.state.floatbank10_d_level', 'rougher.state.floatbank10_e_air',\n",
      "       'rougher.state.floatbank10_e_level', 'rougher.state.floatbank10_f_air',\n",
      "       'rougher.state.floatbank10_f_level'],\n",
      "      dtype='object')\n"
     ]
    }
   ],
   "source": [
    "# Подготовка признаков для final.output.recovery\n",
    "columns_to_delete = set(train.columns) - final_features_columns\n",
    "print(columns_to_delete)\n",
    "train_features_final = train.drop(columns_to_delete, axis=1)\n",
    "print()\n",
    "print(train_features_final.columns)\n",
    "# Проверка вхождения всех столбцов из feateures в столбцах тестовой выборки\n",
    "print(set(train_features_final.columns) - set(test.columns))\n",
    "\n",
    "# Подготовка признаков для rougher.output.recovery\n",
    "columns_to_delete = set(train_features_final.columns) - rougher_features_columns\n",
    "print(columns_to_delete)\n",
    "train_features_rougher = train_features_final.drop(columns_to_delete, axis=1)\n",
    "print()\n",
    "print(train_features_rougher.columns)"
   ]
  },
  {
   "cell_type": "markdown",
   "metadata": {},
   "source": [
    "Подготовлю целевой признак."
   ]
  },
  {
   "cell_type": "code",
   "execution_count": 32,
   "metadata": {},
   "outputs": [],
   "source": [
    "train_target_final = train['final.output.recovery']\n",
    "train_target_rougher = train['rougher.output.recovery']"
   ]
  },
  {
   "cell_type": "markdown",
   "metadata": {},
   "source": [
    "Подготовлю признаки тестовой выборки."
   ]
  },
  {
   "cell_type": "code",
   "execution_count": 33,
   "metadata": {},
   "outputs": [
    {
     "data": {
      "text/plain": [
       "Index(['primary_cleaner.input.sulfate', 'primary_cleaner.input.depressant',\n",
       "       'primary_cleaner.input.feed_size', 'primary_cleaner.input.xanthate',\n",
       "       'primary_cleaner.state.floatbank8_a_air',\n",
       "       'primary_cleaner.state.floatbank8_a_level',\n",
       "       'primary_cleaner.state.floatbank8_b_air',\n",
       "       'primary_cleaner.state.floatbank8_b_level',\n",
       "       'primary_cleaner.state.floatbank8_c_air',\n",
       "       'primary_cleaner.state.floatbank8_c_level',\n",
       "       'primary_cleaner.state.floatbank8_d_air',\n",
       "       'primary_cleaner.state.floatbank8_d_level', 'rougher.input.feed_ag',\n",
       "       'rougher.input.feed_pb', 'rougher.input.feed_rate',\n",
       "       'rougher.input.feed_size', 'rougher.input.feed_sol',\n",
       "       'rougher.input.feed_au', 'rougher.input.floatbank10_sulfate',\n",
       "       'rougher.input.floatbank10_xanthate',\n",
       "       'rougher.input.floatbank11_sulfate',\n",
       "       'rougher.input.floatbank11_xanthate', 'rougher.state.floatbank10_a_air',\n",
       "       'rougher.state.floatbank10_a_level', 'rougher.state.floatbank10_b_air',\n",
       "       'rougher.state.floatbank10_b_level', 'rougher.state.floatbank10_c_air',\n",
       "       'rougher.state.floatbank10_c_level', 'rougher.state.floatbank10_d_air',\n",
       "       'rougher.state.floatbank10_d_level', 'rougher.state.floatbank10_e_air',\n",
       "       'rougher.state.floatbank10_e_level', 'rougher.state.floatbank10_f_air',\n",
       "       'rougher.state.floatbank10_f_level',\n",
       "       'secondary_cleaner.state.floatbank2_a_air',\n",
       "       'secondary_cleaner.state.floatbank2_a_level',\n",
       "       'secondary_cleaner.state.floatbank2_b_air',\n",
       "       'secondary_cleaner.state.floatbank2_b_level',\n",
       "       'secondary_cleaner.state.floatbank3_a_air',\n",
       "       'secondary_cleaner.state.floatbank3_a_level',\n",
       "       'secondary_cleaner.state.floatbank3_b_air',\n",
       "       'secondary_cleaner.state.floatbank3_b_level',\n",
       "       'secondary_cleaner.state.floatbank4_a_air',\n",
       "       'secondary_cleaner.state.floatbank4_a_level',\n",
       "       'secondary_cleaner.state.floatbank4_b_air',\n",
       "       'secondary_cleaner.state.floatbank4_b_level',\n",
       "       'secondary_cleaner.state.floatbank5_a_air',\n",
       "       'secondary_cleaner.state.floatbank5_a_level',\n",
       "       'secondary_cleaner.state.floatbank5_b_air',\n",
       "       'secondary_cleaner.state.floatbank5_b_level',\n",
       "       'secondary_cleaner.state.floatbank6_a_air',\n",
       "       'secondary_cleaner.state.floatbank6_a_level'],\n",
       "      dtype='object')"
      ]
     },
     "execution_count": 33,
     "metadata": {},
     "output_type": "execute_result"
    }
   ],
   "source": [
    "test_features = test.drop('date', axis=1)\n",
    "test_features.columns"
   ]
  },
  {
   "cell_type": "code",
   "execution_count": 34,
   "metadata": {},
   "outputs": [
    {
     "name": "stdout",
     "output_type": "stream",
     "text": [
      "{'secondary_cleaner.state.floatbank4_a_air', 'secondary_cleaner.state.floatbank2_b_air', 'primary_cleaner.state.floatbank8_c_level', 'secondary_cleaner.state.floatbank2_a_level', 'primary_cleaner.state.floatbank8_a_air', 'primary_cleaner.state.floatbank8_d_level', 'primary_cleaner.input.depressant', 'primary_cleaner.input.sulfate', 'primary_cleaner.state.floatbank8_c_air', 'secondary_cleaner.state.floatbank3_b_level', 'secondary_cleaner.state.floatbank5_a_level', 'secondary_cleaner.state.floatbank6_a_air', 'secondary_cleaner.state.floatbank5_b_air', 'secondary_cleaner.state.floatbank4_a_level', 'secondary_cleaner.state.floatbank5_a_air', 'secondary_cleaner.state.floatbank5_b_level', 'secondary_cleaner.state.floatbank3_a_air', 'secondary_cleaner.state.floatbank2_a_air', 'primary_cleaner.state.floatbank8_b_level', 'secondary_cleaner.state.floatbank4_b_air', 'secondary_cleaner.state.floatbank3_b_air', 'secondary_cleaner.state.floatbank6_a_level', 'secondary_cleaner.state.floatbank4_b_level', 'primary_cleaner.state.floatbank8_a_level', 'secondary_cleaner.state.floatbank2_b_level', 'primary_cleaner.input.feed_size', 'secondary_cleaner.state.floatbank3_a_level', 'primary_cleaner.input.xanthate', 'primary_cleaner.state.floatbank8_b_air', 'primary_cleaner.state.floatbank8_d_air'}\n"
     ]
    }
   ],
   "source": [
    "test_features_final = test_features\n",
    "columns_to_delete = set(test_features_final.columns) - rougher_features_columns\n",
    "print(columns_to_delete)\n",
    "test_features_rougher = test_features_final.drop(columns_to_delete, axis=1)"
   ]
  },
  {
   "cell_type": "markdown",
   "metadata": {},
   "source": [
    "Напишу функцию вычисления симметричного среднего абсолютного процентного отклонения."
   ]
  },
  {
   "cell_type": "code",
   "execution_count": 35,
   "metadata": {},
   "outputs": [],
   "source": [
    "def sMAPE_score(rougher_recovery_real, rougher_recovery_predicted, final_recovery_real, final_recovery_predicted):\n",
    "    n = rougher_recovery_real.shape[0]\n",
    "    rougher_sMAPE = ((2*abs(rougher_recovery_real - rougher_recovery_predicted)/\n",
    "                     (abs(rougher_recovery_real) + abs(rougher_recovery_predicted))).sum() * 100 / n)\n",
    "    final_sMAPE = ((2*abs(final_recovery_real - final_recovery_predicted)/\n",
    "                     (abs(final_recovery_real) + abs(final_recovery_predicted))).sum() * 100 / n)\n",
    "    return rougher_sMAPE * 0.25 + final_sMAPE * 0.75"
   ]
  },
  {
   "cell_type": "markdown",
   "metadata": {},
   "source": [
    "Выберу следующие модели для обучения:\n",
    "\n",
    "- Линейная регрессия\n",
    "- Полиноминальная регрессия\n",
    "- Регрессия Ridge\n",
    "- DecisionTreeRegressor\n",
    "\n",
    "Выполню поиск лучшей модели для предсказаний."
   ]
  },
  {
   "cell_type": "markdown",
   "metadata": {},
   "source": [
    "Линейная регрессия."
   ]
  },
  {
   "cell_type": "code",
   "execution_count": 36,
   "metadata": {},
   "outputs": [
    {
     "name": "stdout",
     "output_type": "stream",
     "text": [
      "Mean R2 from CV of LinearRegression = -0.15845225589356782\n",
      "Mean MAE from CV of LinearRegression = -7.030456407456643\n"
     ]
    }
   ],
   "source": [
    "regressor = LinearRegression()\n",
    "print('Mean R2 from CV of LinearRegression =', cross_val_score(regressor, train_features_final, train_target_final, cv=5).mean())\n",
    "print('Mean MAE from CV of LinearRegression =', cross_val_score(regressor, train_features_final, train_target_final, cv=5, scoring='neg_mean_absolute_error').mean())"
   ]
  },
  {
   "cell_type": "code",
   "execution_count": 37,
   "metadata": {},
   "outputs": [
    {
     "name": "stdout",
     "output_type": "stream",
     "text": [
      "Mean R2 from CV of LinearRegression = -0.1584522558935661\n",
      "Mean MAE from CV of LinearRegression = -7.030456407456624\n"
     ]
    }
   ],
   "source": [
    "regressor = LinearRegression()\n",
    "scaller = StandardScaler()\n",
    "pipeline = Pipeline([(\"standard_scaller\", scaller),(\"linear_regression\", regressor)])\n",
    "print('Mean R2 from CV of LinearRegression =', cross_val_score(pipeline, train_features_final, train_target_final, cv=5).mean())\n",
    "print('Mean MAE from CV of LinearRegression =', cross_val_score(pipeline, train_features_final, train_target_final, cv=5, scoring='neg_mean_absolute_error').mean())"
   ]
  },
  {
   "cell_type": "markdown",
   "metadata": {},
   "source": [
    "Полиноминальная регрессия."
   ]
  },
  {
   "cell_type": "code",
   "execution_count": 38,
   "metadata": {},
   "outputs": [
    {
     "name": "stdout",
     "output_type": "stream",
     "text": [
      "Mean R2 from CV of PolynomialRegression with 2 degree = -27.545991974671995\n",
      "Mean MAE from CV of PolynomialRegression with 2 degree = -28.850437651708027\n"
     ]
    }
   ],
   "source": [
    "regressor = LinearRegression()\n",
    "polynomial_features = PolynomialFeatures(degree=2, include_bias=False)\n",
    "pipeline = Pipeline([(\"polynomial_features\", polynomial_features),(\"linear_regression\", regressor)])\n",
    "print('Mean R2 from CV of PolynomialRegression with 2 degree =', cross_val_score(pipeline, train_features_final, train_target_final, cv=5).mean())\n",
    "print('Mean MAE from CV of PolynomialRegression with 2 degree =', cross_val_score(pipeline, train_features_final, train_target_final, cv=5, scoring='neg_mean_absolute_error').mean())"
   ]
  },
  {
   "cell_type": "markdown",
   "metadata": {},
   "source": [
    "Регрессия Ridge"
   ]
  },
  {
   "cell_type": "code",
   "execution_count": 39,
   "metadata": {},
   "outputs": [
    {
     "name": "stdout",
     "output_type": "stream",
     "text": [
      "# Tuning hyper-parameters for r2\n",
      "\n",
      "Best parameters set found on development set:\n",
      "\n",
      "{'alpha': 1, 'solver': 'sparse_cg'}\n",
      "\n",
      "Grid scores on development set:\n",
      "\n",
      "-0.158 (+/-0.690) for {'alpha': 0.1, 'solver': 'auto'}\n",
      "-0.158 (+/-0.690) for {'alpha': 1, 'solver': 'auto'}\n",
      "-0.157 (+/-0.687) for {'alpha': 10, 'solver': 'auto'}\n",
      "-0.146 (+/-0.667) for {'alpha': 100, 'solver': 'auto'}\n",
      "-0.158 (+/-0.690) for {'alpha': 0.1, 'solver': 'svd'}\n",
      "-0.158 (+/-0.690) for {'alpha': 1, 'solver': 'svd'}\n",
      "-0.157 (+/-0.687) for {'alpha': 10, 'solver': 'svd'}\n",
      "-0.146 (+/-0.667) for {'alpha': 100, 'solver': 'svd'}\n",
      "-0.158 (+/-0.690) for {'alpha': 0.1, 'solver': 'cholesky'}\n",
      "-0.158 (+/-0.690) for {'alpha': 1, 'solver': 'cholesky'}\n",
      "-0.157 (+/-0.687) for {'alpha': 10, 'solver': 'cholesky'}\n",
      "-0.146 (+/-0.667) for {'alpha': 100, 'solver': 'cholesky'}\n",
      "-0.105 (+/-0.351) for {'alpha': 0.1, 'solver': 'lsqr'}\n",
      "-0.105 (+/-0.351) for {'alpha': 1, 'solver': 'lsqr'}\n",
      "-0.105 (+/-0.351) for {'alpha': 10, 'solver': 'lsqr'}\n",
      "-0.105 (+/-0.351) for {'alpha': 100, 'solver': 'lsqr'}\n",
      "-0.130 (+/-0.616) for {'alpha': 0.1, 'solver': 'sparse_cg'}\n",
      "-0.083 (+/-0.541) for {'alpha': 1, 'solver': 'sparse_cg'}\n",
      "-0.107 (+/-0.549) for {'alpha': 10, 'solver': 'sparse_cg'}\n",
      "-0.104 (+/-0.541) for {'alpha': 100, 'solver': 'sparse_cg'}\n",
      "\n",
      "# Tuning hyper-parameters for neg_mean_absolute_error\n",
      "\n",
      "Best parameters set found on development set:\n",
      "\n",
      "{'alpha': 1, 'solver': 'sparse_cg'}\n",
      "\n",
      "Grid scores on development set:\n",
      "\n",
      "-7.030 (+/-2.603) for {'alpha': 0.1, 'solver': 'auto'}\n",
      "-7.030 (+/-2.602) for {'alpha': 1, 'solver': 'auto'}\n",
      "-7.026 (+/-2.594) for {'alpha': 10, 'solver': 'auto'}\n",
      "-6.988 (+/-2.512) for {'alpha': 100, 'solver': 'auto'}\n",
      "-7.030 (+/-2.603) for {'alpha': 0.1, 'solver': 'svd'}\n",
      "-7.030 (+/-2.602) for {'alpha': 1, 'solver': 'svd'}\n",
      "-7.026 (+/-2.594) for {'alpha': 10, 'solver': 'svd'}\n",
      "-6.988 (+/-2.512) for {'alpha': 100, 'solver': 'svd'}\n",
      "-7.030 (+/-2.603) for {'alpha': 0.1, 'solver': 'cholesky'}\n",
      "-7.030 (+/-2.602) for {'alpha': 1, 'solver': 'cholesky'}\n",
      "-7.026 (+/-2.594) for {'alpha': 10, 'solver': 'cholesky'}\n",
      "-6.988 (+/-2.512) for {'alpha': 100, 'solver': 'cholesky'}\n",
      "-6.885 (+/-0.634) for {'alpha': 0.1, 'solver': 'lsqr'}\n",
      "-6.885 (+/-0.634) for {'alpha': 1, 'solver': 'lsqr'}\n",
      "-6.885 (+/-0.634) for {'alpha': 10, 'solver': 'lsqr'}\n",
      "-6.885 (+/-0.633) for {'alpha': 100, 'solver': 'lsqr'}\n",
      "-6.921 (+/-2.276) for {'alpha': 0.1, 'solver': 'sparse_cg'}\n",
      "-6.748 (+/-2.046) for {'alpha': 1, 'solver': 'sparse_cg'}\n",
      "-6.832 (+/-2.080) for {'alpha': 10, 'solver': 'sparse_cg'}\n",
      "-6.830 (+/-2.044) for {'alpha': 100, 'solver': 'sparse_cg'}\n",
      "\n"
     ]
    }
   ],
   "source": [
    "regressor = Ridge()\n",
    "hyperparams = [{'alpha':[0.1, 1, 10, 100], 'solver':['auto']},\n",
    "                 {'alpha':[0.1, 1, 10, 100], 'solver':['svd']}, \n",
    "                 {'alpha':[0.1, 1, 10, 100], 'solver':['cholesky']},\n",
    "                 {'alpha':[0.1, 1, 10, 100], 'solver':['lsqr']}, \n",
    "                 {'alpha':[0.1, 1, 10, 100], 'solver':['sparse_cg']}]\n",
    "\n",
    "scores = ['r2', 'neg_mean_absolute_error']\n",
    "\n",
    "for score in scores:\n",
    "    print('# Tuning hyper-parameters for %s' % score)\n",
    "    print()\n",
    "    clf = GridSearchCV(regressor, hyperparams, scoring=score)\n",
    "    clf.fit(train_features_final, train_target_final)\n",
    "    print(\"Best parameters set found on development set:\")\n",
    "    print()\n",
    "    print(clf.best_params_)\n",
    "    print()\n",
    "    print(\"Grid scores on development set:\")\n",
    "    print()\n",
    "    means = clf.cv_results_['mean_test_score']\n",
    "    stds = clf.cv_results_['std_test_score']\n",
    "    for mean, std, params in zip(means, stds, clf.cv_results_['params']):\n",
    "        print(\"%0.3f (+/-%0.03f) for %r\"% (mean, std * 2, params))\n",
    "    print()"
   ]
  },
  {
   "cell_type": "markdown",
   "metadata": {},
   "source": [
    "DecisionTreeRegressor"
   ]
  },
  {
   "cell_type": "code",
   "execution_count": 40,
   "metadata": {},
   "outputs": [
    {
     "name": "stdout",
     "output_type": "stream",
     "text": [
      "# Tuning hyper-parameters\n",
      "\n",
      "Best parameters set found on development set:\n",
      "\n",
      "{'criterion': 'mse', 'max_depth': 4, 'random_state': 12345}\n",
      "\n",
      "Grid scores on development set:\n",
      "\n",
      "0.076 (+/-0.221) for {'criterion': 'mse', 'max_depth': 2, 'random_state': 12345}\n",
      "0.082 (+/-0.301) for {'criterion': 'mse', 'max_depth': 4, 'random_state': 12345}\n",
      "-0.259 (+/-0.683) for {'criterion': 'mse', 'max_depth': 6, 'random_state': 12345}\n",
      "-0.338 (+/-0.629) for {'criterion': 'mse', 'max_depth': 8, 'random_state': 12345}\n",
      "-0.819 (+/-0.976) for {'criterion': 'mse', 'max_depth': 10, 'random_state': 12345}\n",
      "-0.915 (+/-1.067) for {'criterion': 'mse', 'max_depth': 12, 'random_state': 12345}\n",
      "-1.117 (+/-1.437) for {'criterion': 'mse', 'max_depth': 14, 'random_state': 12345}\n",
      "-1.256 (+/-1.284) for {'criterion': 'mse', 'max_depth': 16, 'random_state': 12345}\n",
      "-1.014 (+/-1.360) for {'criterion': 'mse', 'max_depth': 18, 'random_state': 12345}\n",
      "-1.269 (+/-1.288) for {'criterion': 'mse', 'max_depth': 20, 'random_state': 12345}\n",
      "0.062 (+/-0.294) for {'criterion': 'mae', 'max_depth': 2, 'random_state': 12345}\n",
      "0.027 (+/-0.410) for {'criterion': 'mae', 'max_depth': 4, 'random_state': 12345}\n",
      "-0.378 (+/-1.014) for {'criterion': 'mae', 'max_depth': 6, 'random_state': 12345}\n",
      "-0.817 (+/-1.042) for {'criterion': 'mae', 'max_depth': 8, 'random_state': 12345}\n",
      "-1.043 (+/-1.309) for {'criterion': 'mae', 'max_depth': 10, 'random_state': 12345}\n",
      "-1.294 (+/-1.483) for {'criterion': 'mae', 'max_depth': 12, 'random_state': 12345}\n",
      "-1.190 (+/-1.032) for {'criterion': 'mae', 'max_depth': 14, 'random_state': 12345}\n",
      "-1.655 (+/-1.802) for {'criterion': 'mae', 'max_depth': 16, 'random_state': 12345}\n",
      "-1.572 (+/-1.187) for {'criterion': 'mae', 'max_depth': 18, 'random_state': 12345}\n",
      "-1.568 (+/-1.030) for {'criterion': 'mae', 'max_depth': 20, 'random_state': 12345}\n",
      "\n"
     ]
    }
   ],
   "source": [
    "regressor = DecisionTreeRegressor() \n",
    "max_depth_list = [x for x in range(2, 21, 2)]\n",
    "hyperparams = [{'criterion':['mse'], 'max_depth':max_depth_list, 'random_state':[12345]},\n",
    "               {'criterion':['mae'], 'max_depth':max_depth_list, 'random_state':[12345]}]\n",
    "\n",
    "print('# Tuning hyper-parameters')\n",
    "print()\n",
    "clf = GridSearchCV(regressor, hyperparams)\n",
    "clf.fit(train_features_final, train_target_final)\n",
    "print(\"Best parameters set found on development set:\")\n",
    "print()\n",
    "print(clf.best_params_)\n",
    "print()\n",
    "print(\"Grid scores on development set:\")\n",
    "print()\n",
    "means = clf.cv_results_['mean_test_score']\n",
    "stds = clf.cv_results_['std_test_score']\n",
    "for mean, std, params in zip(means, stds, clf.cv_results_['params']):\n",
    "    print(\"%0.3f (+/-%0.03f) for %r\"% (mean, std * 2, params))\n",
    "print()"
   ]
  },
  {
   "cell_type": "markdown",
   "metadata": {},
   "source": [
    "Проверю лучшие модели по метрикам на созданной метрике sMAPE."
   ]
  },
  {
   "cell_type": "code",
   "execution_count": 41,
   "metadata": {},
   "outputs": [],
   "source": [
    "rougher_recovery_real = full.loc[test_features_rougher.index,'rougher.output.recovery']\n",
    "final_recovery_real = full.loc[test_features_final.index,'final.output.recovery']"
   ]
  },
  {
   "cell_type": "code",
   "execution_count": 42,
   "metadata": {},
   "outputs": [
    {
     "name": "stdout",
     "output_type": "stream",
     "text": [
      "sMAPE для линейной регресии 13.22581856063403\n",
      "sMAPE для полиноминальной регресии 25.325756610172906\n",
      "sMAPE для регресии Ridge 13.224091860563925\n",
      "sMAPE для DecisionTreeRegressor 11.843784942353336\n"
     ]
    }
   ],
   "source": [
    "model = LinearRegression()\n",
    "model.fit(train_features_rougher, train_target_rougher)\n",
    "rougher_recovery_predicted = model.predict(test_features_rougher)\n",
    "model.fit(train_features_final, train_target_final)\n",
    "final_recovery_predicted = model.predict(test_features_final)\n",
    "print('sMAPE для линейной регресии',sMAPE_score(rougher_recovery_real, rougher_recovery_predicted, final_recovery_real, final_recovery_predicted))\n",
    "\n",
    "regressor = LinearRegression()\n",
    "polynomial_features = PolynomialFeatures(degree=2, include_bias=False)\n",
    "model = Pipeline([(\"polynomial_features\", polynomial_features),(\"linear_regression\", regressor)])\n",
    "model.fit(train_features_rougher, train_target_rougher)\n",
    "rougher_recovery_predicted = model.predict(test_features_rougher)\n",
    "model.fit(train_features_final, train_target_final)\n",
    "final_recovery_predicted = model.predict(test_features_final)\n",
    "print('sMAPE для полиноминальной регресии',sMAPE_score(rougher_recovery_real, rougher_recovery_predicted, final_recovery_real, final_recovery_predicted))\n",
    "\n",
    "model = Ridge(alpha=100, solver='sparse_cg')\n",
    "model.fit(train_features_rougher, train_target_rougher)\n",
    "rougher_recovery_predicted = model.predict(test_features_rougher)\n",
    "model.fit(train_features_final, train_target_final)\n",
    "final_recovery_predicted = model.predict(test_features_final)\n",
    "print('sMAPE для регресии Ridge',sMAPE_score(rougher_recovery_real, rougher_recovery_predicted, final_recovery_real, final_recovery_predicted))\n",
    "\n",
    "model = DecisionTreeRegressor(criterion='mae', max_depth=2, random_state=15062020)\n",
    "model.fit(train_features_rougher, train_target_rougher)\n",
    "rougher_recovery_predicted = model.predict(test_features_rougher)\n",
    "model.fit(train_features_final, train_target_final)\n",
    "final_recovery_predicted = model.predict(test_features_final)\n",
    "print('sMAPE для DecisionTreeRegressor',sMAPE_score(rougher_recovery_real, rougher_recovery_predicted, final_recovery_real, final_recovery_predicted))  "
   ]
  },
  {
   "cell_type": "markdown",
   "metadata": {},
   "source": [
    "Создам константную модель на медианных значений."
   ]
  },
  {
   "cell_type": "code",
   "execution_count": 43,
   "metadata": {},
   "outputs": [
    {
     "name": "stdout",
     "output_type": "stream",
     "text": [
      "sMAPE для медианной константной модели 11.702063025857097\n"
     ]
    }
   ],
   "source": [
    "median_rougher_recovery = full['rougher.output.recovery'].median()\n",
    "median_final_recovery = full['final.output.recovery'].median()\n",
    "\n",
    "n = rougher_recovery_real.shape[0]\n",
    "rougher_sMAPE = ((2*abs(rougher_recovery_real - median_rougher_recovery)/\n",
    "                     (abs(rougher_recovery_real) + abs(median_rougher_recovery))).sum() * 100 / n)\n",
    "final_sMAPE = ((2*abs(final_recovery_real - median_final_recovery)/\n",
    "                     (abs(final_recovery_real) + abs(median_final_recovery))).sum() * 100 / n)\n",
    "print('sMAPE для медианной константной модели', rougher_sMAPE * 0.25 + final_sMAPE * 0.75)"
   ]
  },
  {
   "cell_type": "markdown",
   "metadata": {},
   "source": [
    "Проведу сокращение тестовой выборки из-за пропущенных значений rougher.output.recovery и final.output.recovery в полном датафрейме. Для вычисления sMAPE длина и индексы всех серий должны быть одинаковы."
   ]
  },
  {
   "cell_type": "code",
   "execution_count": 44,
   "metadata": {},
   "outputs": [
    {
     "name": "stdout",
     "output_type": "stream",
     "text": [
      "Количество строк rougher_recovery_real = 5290\n",
      "Количество строк final_recovery_real = 5290\n",
      "Количество строк test_features_rougher = 5290\n",
      "Количество индексов с полными данными= 5290\n"
     ]
    }
   ],
   "source": [
    "rougher_recovery_real.dropna(inplace=True)\n",
    "print('Количество строк rougher_recovery_real =', rougher_recovery_real.shape[0])\n",
    "final_recovery_real.dropna(inplace=True)\n",
    "print('Количество строк final_recovery_real =', final_recovery_real.shape[0])\n",
    "print('Количество строк test_features_rougher =', test_features_rougher.shape[0])\n",
    "\n",
    "not_nan_index = set(test_features_rougher.index)\n",
    "not_nan_index = not_nan_index.intersection(set(final_recovery_real.index), set(rougher_recovery_real.index))\n",
    "print('Количество индексов с полными данными=', len(not_nan_index))"
   ]
  },
  {
   "cell_type": "markdown",
   "metadata": {},
   "source": [
    "Преобразую количество данных тестовой выбоки и рельных так, чтобы не было NaN."
   ]
  },
  {
   "cell_type": "code",
   "execution_count": 45,
   "metadata": {},
   "outputs": [
    {
     "name": "stdout",
     "output_type": "stream",
     "text": [
      "Количество строк test_features_final = 5290\n"
     ]
    }
   ],
   "source": [
    "rougher_recovery_real = full.loc[not_nan_index,'rougher.output.recovery']\n",
    "final_recovery_real = full.loc[not_nan_index,'final.output.recovery']\n",
    "test_features_rougher = test_features_rougher.loc[not_nan_index,:]\n",
    "test_features_final = test_features_final.loc[not_nan_index,:]\n",
    "print('Количество строк test_features_final =', test_features_final.shape[0])"
   ]
  },
  {
   "cell_type": "markdown",
   "metadata": {},
   "source": [
    "Повторю получение sMAPE на тех же моделях."
   ]
  },
  {
   "cell_type": "code",
   "execution_count": 46,
   "metadata": {},
   "outputs": [
    {
     "name": "stdout",
     "output_type": "stream",
     "text": [
      "sMAPE для линейной регресии 13.22581856063403\n",
      "sMAPE для полиноминальной регресии 25.325756610172906\n",
      "sMAPE для регресии Ridge 13.224091860563925\n",
      "sMAPE для DecisionTreeRegressor 11.843784942353336\n",
      "sMAPE для медианной константной модели 11.702063025857097\n"
     ]
    }
   ],
   "source": [
    "model = LinearRegression()\n",
    "model.fit(train_features_rougher, train_target_rougher)\n",
    "rougher_recovery_predicted = model.predict(test_features_rougher)\n",
    "model.fit(train_features_final, train_target_final)\n",
    "final_recovery_predicted = model.predict(test_features_final)\n",
    "print('sMAPE для линейной регресии',sMAPE_score(rougher_recovery_real, rougher_recovery_predicted, final_recovery_real, final_recovery_predicted))\n",
    "\n",
    "regressor = LinearRegression()\n",
    "polynomial_features = PolynomialFeatures(degree=2, include_bias=False)\n",
    "model = Pipeline([(\"polynomial_features\", polynomial_features),(\"linear_regression\", regressor)])\n",
    "model.fit(train_features_rougher, train_target_rougher)\n",
    "rougher_recovery_predicted = model.predict(test_features_rougher)\n",
    "model.fit(train_features_final, train_target_final)\n",
    "final_recovery_predicted = model.predict(test_features_final)\n",
    "print('sMAPE для полиноминальной регресии',sMAPE_score(rougher_recovery_real, rougher_recovery_predicted, final_recovery_real, final_recovery_predicted))\n",
    "\n",
    "model = Ridge(alpha=100, solver='sparse_cg')\n",
    "model.fit(train_features_rougher, train_target_rougher)\n",
    "rougher_recovery_predicted = model.predict(test_features_rougher)\n",
    "model.fit(train_features_final, train_target_final)\n",
    "final_recovery_predicted = model.predict(test_features_final)\n",
    "print('sMAPE для регресии Ridge',sMAPE_score(rougher_recovery_real, rougher_recovery_predicted, final_recovery_real, final_recovery_predicted))\n",
    "\n",
    "model = DecisionTreeRegressor(criterion='mae', max_depth=2, random_state=15062020)\n",
    "model.fit(train_features_rougher, train_target_rougher)\n",
    "rougher_recovery_predicted = model.predict(test_features_rougher)\n",
    "model.fit(train_features_final, train_target_final)\n",
    "final_recovery_predicted = model.predict(test_features_final)\n",
    "print('sMAPE для DecisionTreeRegressor',sMAPE_score(rougher_recovery_real, rougher_recovery_predicted, final_recovery_real, final_recovery_predicted)) \n",
    "\n",
    "n = rougher_recovery_real.shape[0]\n",
    "rougher_sMAPE = ((2*abs(rougher_recovery_real - median_rougher_recovery)/\n",
    "                     (abs(rougher_recovery_real) + abs(median_rougher_recovery))).sum() * 100 / n)\n",
    "final_sMAPE = ((2*abs(final_recovery_real - median_final_recovery)/\n",
    "                     (abs(final_recovery_real) + abs(median_final_recovery))).sum() * 100 / n)\n",
    "print('sMAPE для медианной константной модели', rougher_sMAPE * 0.25 + final_sMAPE * 0.75)"
   ]
  },
  {
   "cell_type": "markdown",
   "metadata": {},
   "source": [
    "Сравню модель Ridge c медианной константной по метрикам R2 и MAE. проверю показания на final_recovery_real."
   ]
  },
  {
   "cell_type": "code",
   "execution_count": 47,
   "metadata": {},
   "outputs": [
    {
     "name": "stdout",
     "output_type": "stream",
     "text": [
      "R2 Ridge model = -0.508612714957065\n",
      "MAE Ridge model = 8.181822719691528\n",
      "\n",
      "R2 constant model = -0.15714098434667245\n",
      "MAE constant model = 6.720091187983402\n"
     ]
    }
   ],
   "source": [
    "model = Ridge(alpha=100, solver='sparse_cg')\n",
    "model.fit(train_features_final, train_target_final)\n",
    "final_recovery_predicted = model.predict(test_features_final)\n",
    "print('R2 Ridge model =', r2_score(final_recovery_real, final_recovery_predicted))\n",
    "print('MAE Ridge model =', mean_absolute_error(final_recovery_real, final_recovery_predicted))\n",
    "print()\n",
    "\n",
    "final_median_predict = pd.Series(median_final_recovery, index=not_nan_index)\n",
    "print('R2 constant model =', r2_score(final_recovery_real, final_median_predict))\n",
    "print('MAE constant model =', mean_absolute_error(final_recovery_real, final_median_predict))"
   ]
  },
  {
   "cell_type": "markdown",
   "metadata": {},
   "source": [
    "### Вывод"
   ]
  },
  {
   "cell_type": "markdown",
   "metadata": {},
   "source": [
    "В ходе разработки модели я написал функцию для вычисления sMAPE. Каждую модель изучил на качество с помощью методов кросс-валидации и поиска гипер параметром GridSearchCV.\n",
    "\n",
    "Отобрал лучшую модель - Ridge. Ее значение sMAPE самое низкое.\n",
    "\n",
    "После удаления значений NaN модель изменила свои значения."
   ]
  },
  {
   "cell_type": "markdown",
   "metadata": {},
   "source": [
    "## Общий вывод"
   ]
  },
  {
   "cell_type": "markdown",
   "metadata": {},
   "source": [
    "В ходе исследования сделано следующее:\n",
    "\n",
    "- Подготовлены данные.\n",
    "- Проведен исследовательский анализ данных.\n",
    "- Построена и обучена модель.\n",
    "\n",
    "Регрессор Ridge показал себя как наилучшая модель."
   ]
  }
 ],
 "metadata": {
  "ExecuteTimeLog": [
   {
    "duration": 151,
    "start_time": "2022-04-20T20:43:43.774Z"
   },
   {
    "duration": 133,
    "start_time": "2022-04-20T20:45:00.873Z"
   },
   {
    "duration": 386,
    "start_time": "2022-04-20T20:45:57.113Z"
   },
   {
    "duration": 351,
    "start_time": "2022-04-20T20:47:22.185Z"
   },
   {
    "duration": 155,
    "start_time": "2022-04-20T20:47:58.637Z"
   },
   {
    "duration": 415,
    "start_time": "2022-04-20T20:48:12.549Z"
   },
   {
    "duration": 135,
    "start_time": "2022-04-20T20:49:04.222Z"
   },
   {
    "duration": 3,
    "start_time": "2022-04-20T20:49:52.839Z"
   },
   {
    "duration": 280,
    "start_time": "2022-04-20T20:49:59.910Z"
   },
   {
    "duration": 2,
    "start_time": "2022-04-20T20:50:07.407Z"
   },
   {
    "duration": 316,
    "start_time": "2022-04-20T20:50:08.774Z"
   },
   {
    "duration": 99,
    "start_time": "2022-04-20T20:50:24.238Z"
   },
   {
    "duration": 304,
    "start_time": "2022-04-20T20:50:38.790Z"
   },
   {
    "duration": 18,
    "start_time": "2022-04-20T20:53:09.348Z"
   },
   {
    "duration": 11,
    "start_time": "2022-04-20T20:53:10.759Z"
   },
   {
    "duration": 17,
    "start_time": "2022-04-20T20:53:21.148Z"
   },
   {
    "duration": 10,
    "start_time": "2022-04-20T20:53:27.654Z"
   },
   {
    "duration": 19,
    "start_time": "2022-04-20T21:03:55.303Z"
   },
   {
    "duration": 69,
    "start_time": "2022-04-20T21:07:31.178Z"
   },
   {
    "duration": 734,
    "start_time": "2022-04-20T21:07:41.837Z"
   },
   {
    "duration": 2,
    "start_time": "2022-04-20T21:07:58.484Z"
   },
   {
    "duration": 7,
    "start_time": "2022-04-20T21:08:18.236Z"
   },
   {
    "duration": 6,
    "start_time": "2022-04-20T21:13:46.796Z"
   },
   {
    "duration": 4,
    "start_time": "2022-04-20T21:31:24.119Z"
   },
   {
    "duration": 38,
    "start_time": "2022-04-20T21:32:21.163Z"
   },
   {
    "duration": 644,
    "start_time": "2022-04-20T21:32:46.537Z"
   },
   {
    "duration": 482,
    "start_time": "2022-04-20T21:32:50.364Z"
   },
   {
    "duration": 247,
    "start_time": "2022-04-20T21:41:14.233Z"
   },
   {
    "duration": 136,
    "start_time": "2022-04-20T21:41:39.968Z"
   },
   {
    "duration": 23,
    "start_time": "2022-04-20T21:41:47.824Z"
   },
   {
    "duration": 34,
    "start_time": "2022-04-20T21:41:57.942Z"
   },
   {
    "duration": 34,
    "start_time": "2022-04-20T21:42:17.740Z"
   },
   {
    "duration": 17,
    "start_time": "2022-04-20T21:42:49.993Z"
   },
   {
    "duration": 258,
    "start_time": "2022-04-20T21:43:33.233Z"
   },
   {
    "duration": 325,
    "start_time": "2022-04-20T21:43:37.833Z"
   },
   {
    "duration": 23,
    "start_time": "2022-04-20T21:43:51.634Z"
   },
   {
    "duration": 17,
    "start_time": "2022-04-20T21:44:04.409Z"
   },
   {
    "duration": 15,
    "start_time": "2022-04-20T21:44:20.449Z"
   },
   {
    "duration": 816,
    "start_time": "2022-04-20T21:47:09.523Z"
   },
   {
    "duration": 504,
    "start_time": "2022-04-20T21:47:49.124Z"
   },
   {
    "duration": 931,
    "start_time": "2022-04-20T21:48:16.117Z"
   },
   {
    "duration": 485,
    "start_time": "2022-04-20T21:48:20.827Z"
   },
   {
    "duration": 487,
    "start_time": "2022-04-20T21:48:53.723Z"
   },
   {
    "duration": 1123,
    "start_time": "2022-04-20T21:53:08.726Z"
   },
   {
    "duration": 374,
    "start_time": "2022-04-20T21:54:10.462Z"
   },
   {
    "duration": 6,
    "start_time": "2022-04-20T21:55:18.575Z"
   },
   {
    "duration": 607,
    "start_time": "2022-04-20T21:55:49.111Z"
   },
   {
    "duration": 465,
    "start_time": "2022-04-20T21:56:46.169Z"
   },
   {
    "duration": 17,
    "start_time": "2022-04-20T21:57:46.097Z"
   },
   {
    "duration": 11,
    "start_time": "2022-04-20T22:03:36.721Z"
   },
   {
    "duration": 3,
    "start_time": "2022-04-20T22:04:07.099Z"
   },
   {
    "duration": 6,
    "start_time": "2022-04-20T22:04:33.692Z"
   },
   {
    "duration": 5,
    "start_time": "2022-04-20T22:04:53.099Z"
   },
   {
    "duration": 4,
    "start_time": "2022-04-20T22:05:36.692Z"
   },
   {
    "duration": 148,
    "start_time": "2022-04-20T22:06:39.101Z"
   },
   {
    "duration": 26,
    "start_time": "2022-04-20T22:06:48.589Z"
   },
   {
    "duration": 160,
    "start_time": "2022-04-20T22:06:53.917Z"
   },
   {
    "duration": 3,
    "start_time": "2022-04-20T22:07:17.101Z"
   },
   {
    "duration": 3024,
    "start_time": "2022-04-20T22:07:20.510Z"
   },
   {
    "duration": 3271,
    "start_time": "2022-04-20T22:07:30.757Z"
   },
   {
    "duration": 14,
    "start_time": "2022-04-20T22:07:49.237Z"
   },
   {
    "duration": 3,
    "start_time": "2022-04-20T22:07:58.014Z"
   },
   {
    "duration": 17,
    "start_time": "2022-04-20T22:08:01.918Z"
   },
   {
    "duration": 4,
    "start_time": "2022-04-20T22:08:13.809Z"
   },
   {
    "duration": 2677,
    "start_time": "2022-04-20T22:08:17.869Z"
   },
   {
    "duration": 11,
    "start_time": "2022-04-20T22:09:28.463Z"
   },
   {
    "duration": 4,
    "start_time": "2022-04-20T22:09:38.359Z"
   },
   {
    "duration": 270584,
    "start_time": "2022-04-20T22:09:42.167Z"
   },
   {
    "duration": 16,
    "start_time": "2022-04-20T22:15:27.825Z"
   },
   {
    "duration": 4,
    "start_time": "2022-04-20T22:15:37.697Z"
   },
   {
    "duration": 15,
    "start_time": "2022-04-20T22:15:41.721Z"
   },
   {
    "duration": 4,
    "start_time": "2022-04-20T22:15:48.265Z"
   },
   {
    "duration": 21,
    "start_time": "2022-04-20T22:15:51.841Z"
   },
   {
    "duration": 45495,
    "start_time": "2022-04-20T22:15:55.836Z"
   },
   {
    "duration": 902419,
    "start_time": "2022-04-20T22:17:29.019Z"
   },
   {
    "duration": 17,
    "start_time": "2022-04-20T22:33:28.700Z"
   },
   {
    "duration": 19,
    "start_time": "2022-04-20T22:33:49.021Z"
   },
   {
    "duration": 4,
    "start_time": "2022-04-20T22:34:57.906Z"
   },
   {
    "duration": 364,
    "start_time": "2022-04-20T22:34:57.912Z"
   },
   {
    "duration": 169,
    "start_time": "2022-04-20T22:34:58.278Z"
   },
   {
    "duration": 408,
    "start_time": "2022-04-20T22:34:58.448Z"
   },
   {
    "duration": 3,
    "start_time": "2022-04-20T22:34:58.859Z"
   },
   {
    "duration": 309,
    "start_time": "2022-04-20T22:34:58.863Z"
   },
   {
    "duration": 113,
    "start_time": "2022-04-20T22:34:59.173Z"
   },
   {
    "duration": 315,
    "start_time": "2022-04-20T22:34:59.288Z"
   },
   {
    "duration": 39,
    "start_time": "2022-04-20T22:34:59.605Z"
   },
   {
    "duration": 9,
    "start_time": "2022-04-20T22:34:59.646Z"
   },
   {
    "duration": 6,
    "start_time": "2022-04-20T22:34:59.658Z"
   },
   {
    "duration": 6,
    "start_time": "2022-04-20T22:34:59.665Z"
   },
   {
    "duration": 3,
    "start_time": "2022-04-20T22:34:59.673Z"
   },
   {
    "duration": 294,
    "start_time": "2022-04-20T22:34:59.677Z"
   },
   {
    "duration": 20,
    "start_time": "2022-04-20T22:34:59.972Z"
   },
   {
    "duration": 21,
    "start_time": "2022-04-20T22:34:59.993Z"
   },
   {
    "duration": 37,
    "start_time": "2022-04-20T22:35:00.016Z"
   },
   {
    "duration": 239,
    "start_time": "2022-04-20T22:35:00.054Z"
   },
   {
    "duration": 21,
    "start_time": "2022-04-20T22:35:00.294Z"
   },
   {
    "duration": 40,
    "start_time": "2022-04-20T22:35:00.316Z"
   },
   {
    "duration": 133,
    "start_time": "2022-04-20T22:35:00.357Z"
   },
   {
    "duration": 566,
    "start_time": "2022-04-20T22:35:00.491Z"
   },
   {
    "duration": 492,
    "start_time": "2022-04-20T22:35:01.060Z"
   },
   {
    "duration": 598,
    "start_time": "2022-04-20T22:35:01.555Z"
   },
   {
    "duration": 583,
    "start_time": "2022-04-20T22:35:02.155Z"
   },
   {
    "duration": 366,
    "start_time": "2022-04-20T22:35:02.740Z"
   },
   {
    "duration": 6,
    "start_time": "2022-04-20T22:35:03.108Z"
   },
   {
    "duration": 591,
    "start_time": "2022-04-20T22:35:03.123Z"
   },
   {
    "duration": 516,
    "start_time": "2022-04-20T22:35:03.718Z"
   },
   {
    "duration": 15,
    "start_time": "2022-04-20T22:35:04.236Z"
   },
   {
    "duration": 9,
    "start_time": "2022-04-20T22:35:04.253Z"
   },
   {
    "duration": 5,
    "start_time": "2022-04-20T22:35:04.264Z"
   },
   {
    "duration": 8,
    "start_time": "2022-04-20T22:35:04.270Z"
   },
   {
    "duration": 7,
    "start_time": "2022-04-20T22:35:04.279Z"
   },
   {
    "duration": 11,
    "start_time": "2022-04-20T22:35:04.287Z"
   },
   {
    "duration": 3028,
    "start_time": "2022-04-20T22:35:04.299Z"
   },
   {
    "duration": 4000,
    "start_time": "2022-04-20T22:35:07.334Z"
   },
   {
    "duration": 167811,
    "start_time": "2022-04-20T22:35:11.338Z"
   },
   {
    "duration": 43685,
    "start_time": "2022-04-20T22:37:59.151Z"
   },
   {
    "duration": 6,
    "start_time": "2022-04-20T22:38:50.559Z"
   },
   {
    "duration": 4,
    "start_time": "2022-04-20T22:38:56.575Z"
   },
   {
    "duration": 45496,
    "start_time": "2022-04-20T22:39:24.344Z"
   },
   {
    "duration": 8,
    "start_time": "2022-04-20T22:40:53.479Z"
   },
   {
    "duration": 8,
    "start_time": "2022-04-20T22:41:31.313Z"
   },
   {
    "duration": 8,
    "start_time": "2022-04-20T22:42:24.593Z"
   },
   {
    "duration": 119,
    "start_time": "2022-04-20T22:42:42.720Z"
   },
   {
    "duration": 38126,
    "start_time": "2022-04-20T22:42:56.578Z"
   },
   {
    "duration": 192,
    "start_time": "2022-04-20T22:44:10.137Z"
   },
   {
    "duration": 3,
    "start_time": "2022-04-20T22:44:52.290Z"
   },
   {
    "duration": 278,
    "start_time": "2022-04-20T22:44:57.746Z"
   },
   {
    "duration": 2353,
    "start_time": "2022-04-21T13:52:52.584Z"
   },
   {
    "duration": 4,
    "start_time": "2022-04-21T13:57:28.763Z"
   },
   {
    "duration": 4,
    "start_time": "2022-04-21T14:01:09.259Z"
   },
   {
    "duration": 1949,
    "start_time": "2022-04-21T14:35:21.277Z"
   },
   {
    "duration": 428,
    "start_time": "2022-04-21T14:35:25.015Z"
   },
   {
    "duration": 193,
    "start_time": "2022-04-21T14:35:27.598Z"
   },
   {
    "duration": 515,
    "start_time": "2022-04-21T14:35:29.446Z"
   },
   {
    "duration": 5,
    "start_time": "2022-04-21T14:35:34.253Z"
   },
   {
    "duration": 454,
    "start_time": "2022-04-21T14:35:37.517Z"
   },
   {
    "duration": 154,
    "start_time": "2022-04-21T14:35:42.221Z"
   },
   {
    "duration": 618,
    "start_time": "2022-04-21T14:35:44.989Z"
   },
   {
    "duration": 5,
    "start_time": "2022-04-21T14:53:46.509Z"
   },
   {
    "duration": 6,
    "start_time": "2022-04-21T14:58:08.719Z"
   },
   {
    "duration": 6,
    "start_time": "2022-04-21T14:59:58.759Z"
   },
   {
    "duration": 13660,
    "start_time": "2022-04-21T15:00:35.470Z"
   },
   {
    "duration": 7,
    "start_time": "2022-04-21T15:02:21.742Z"
   },
   {
    "duration": 14719,
    "start_time": "2022-04-21T15:02:23.727Z"
   },
   {
    "duration": 562,
    "start_time": "2022-04-21T15:03:35.310Z"
   },
   {
    "duration": 24,
    "start_time": "2022-04-21T15:04:43.855Z"
   },
   {
    "duration": 518,
    "start_time": "2022-04-21T15:04:52.257Z"
   },
   {
    "duration": 39,
    "start_time": "2022-04-21T15:05:21.014Z"
   },
   {
    "duration": 14,
    "start_time": "2022-04-21T15:05:51.566Z"
   },
   {
    "duration": 5,
    "start_time": "2022-04-21T15:06:16.726Z"
   },
   {
    "duration": 14,
    "start_time": "2022-04-21T15:10:21.008Z"
   },
   {
    "duration": 12,
    "start_time": "2022-04-21T15:10:27.567Z"
   },
   {
    "duration": 7,
    "start_time": "2022-04-21T15:13:28.361Z"
   },
   {
    "duration": 486,
    "start_time": "2022-04-21T15:13:31.838Z"
   },
   {
    "duration": 33,
    "start_time": "2022-04-21T15:13:34.785Z"
   },
   {
    "duration": 32,
    "start_time": "2022-04-21T15:13:36.248Z"
   },
   {
    "duration": 26,
    "start_time": "2022-04-21T15:13:37.649Z"
   },
   {
    "duration": 439,
    "start_time": "2022-04-21T15:13:38.761Z"
   },
   {
    "duration": 32,
    "start_time": "2022-04-21T15:13:40.689Z"
   },
   {
    "duration": 40,
    "start_time": "2022-04-21T15:13:45.265Z"
   },
   {
    "duration": 25,
    "start_time": "2022-04-21T15:13:46.593Z"
   },
   {
    "duration": 1160,
    "start_time": "2022-04-21T15:13:48.577Z"
   },
   {
    "duration": 876,
    "start_time": "2022-04-21T15:13:51.392Z"
   },
   {
    "duration": 906,
    "start_time": "2022-04-21T15:13:58.529Z"
   },
   {
    "duration": 1213,
    "start_time": "2022-04-21T15:14:01.233Z"
   },
   {
    "duration": 691,
    "start_time": "2022-04-21T15:14:03.880Z"
   },
   {
    "duration": 974,
    "start_time": "2022-04-21T15:14:51.242Z"
   },
   {
    "duration": 873,
    "start_time": "2022-04-21T15:15:23.802Z"
   },
   {
    "duration": 978,
    "start_time": "2022-04-21T15:15:36.490Z"
   },
   {
    "duration": 20,
    "start_time": "2022-04-21T15:15:43.386Z"
   },
   {
    "duration": 971,
    "start_time": "2022-04-21T15:16:07.898Z"
   },
   {
    "duration": 1081,
    "start_time": "2022-04-21T15:17:40.794Z"
   },
   {
    "duration": 875,
    "start_time": "2022-04-21T15:17:52.970Z"
   },
   {
    "duration": 6,
    "start_time": "2022-04-21T15:19:34.466Z"
   },
   {
    "duration": 1314,
    "start_time": "2022-04-21T15:19:56.011Z"
   },
   {
    "duration": 1016,
    "start_time": "2022-04-21T15:22:19.918Z"
   },
   {
    "duration": 5,
    "start_time": "2022-04-21T19:10:36.741Z"
   },
   {
    "duration": 516,
    "start_time": "2022-04-21T19:10:38.294Z"
   },
   {
    "duration": 2048,
    "start_time": "2022-04-21T19:10:50.794Z"
   },
   {
    "duration": 427,
    "start_time": "2022-04-21T19:10:54.385Z"
   },
   {
    "duration": 196,
    "start_time": "2022-04-21T19:11:01.284Z"
   },
   {
    "duration": 543,
    "start_time": "2022-04-21T19:11:03.225Z"
   },
   {
    "duration": 5,
    "start_time": "2022-04-21T19:11:07.025Z"
   },
   {
    "duration": 463,
    "start_time": "2022-04-21T19:11:14.705Z"
   },
   {
    "duration": 161,
    "start_time": "2022-04-21T19:11:20.733Z"
   },
   {
    "duration": 499,
    "start_time": "2022-04-21T19:11:23.673Z"
   },
   {
    "duration": 30,
    "start_time": "2022-04-21T19:11:28.521Z"
   },
   {
    "duration": 11,
    "start_time": "2022-04-21T19:11:30.098Z"
   },
   {
    "duration": 15,
    "start_time": "2022-04-21T19:12:08.426Z"
   },
   {
    "duration": 7,
    "start_time": "2022-04-21T19:12:12.290Z"
   },
   {
    "duration": 6,
    "start_time": "2022-04-21T19:12:15.497Z"
   },
   {
    "duration": 653,
    "start_time": "2022-04-21T19:12:20.987Z"
   },
   {
    "duration": 465,
    "start_time": "2022-04-21T19:12:33.324Z"
   },
   {
    "duration": 37,
    "start_time": "2022-04-21T19:12:49.322Z"
   },
   {
    "duration": 33,
    "start_time": "2022-04-21T19:12:50.586Z"
   },
   {
    "duration": 29,
    "start_time": "2022-04-21T19:12:52.138Z"
   },
   {
    "duration": 561,
    "start_time": "2022-04-21T19:12:53.266Z"
   },
   {
    "duration": 37,
    "start_time": "2022-04-21T19:12:56.938Z"
   },
   {
    "duration": 43,
    "start_time": "2022-04-21T19:12:59.058Z"
   },
   {
    "duration": 29,
    "start_time": "2022-04-21T19:13:00.507Z"
   },
   {
    "duration": 889,
    "start_time": "2022-04-21T19:15:41.756Z"
   },
   {
    "duration": 849,
    "start_time": "2022-04-21T19:18:10.110Z"
   },
   {
    "duration": 953,
    "start_time": "2022-04-21T19:18:18.134Z"
   },
   {
    "duration": 882,
    "start_time": "2022-04-21T19:19:37.336Z"
   },
   {
    "duration": 940,
    "start_time": "2022-04-21T19:19:41.901Z"
   },
   {
    "duration": 1024,
    "start_time": "2022-04-21T19:19:47.696Z"
   },
   {
    "duration": 972,
    "start_time": "2022-04-21T19:19:53.350Z"
   },
   {
    "duration": 964,
    "start_time": "2022-04-21T19:19:58.374Z"
   },
   {
    "duration": 1064,
    "start_time": "2022-04-21T19:20:05.998Z"
   },
   {
    "duration": 1069,
    "start_time": "2022-04-21T19:20:26.288Z"
   },
   {
    "duration": 1191,
    "start_time": "2022-04-21T19:20:32.120Z"
   },
   {
    "duration": 1147,
    "start_time": "2022-04-21T19:20:56.302Z"
   },
   {
    "duration": 678,
    "start_time": "2022-04-21T19:21:09.062Z"
   },
   {
    "duration": 1193,
    "start_time": "2022-04-21T19:21:49.376Z"
   },
   {
    "duration": 705,
    "start_time": "2022-04-21T19:22:04.712Z"
   },
   {
    "duration": 1288,
    "start_time": "2022-04-21T19:22:47.704Z"
   },
   {
    "duration": 1107,
    "start_time": "2022-04-21T19:22:57.543Z"
   },
   {
    "duration": 1303,
    "start_time": "2022-04-21T19:23:04.552Z"
   },
   {
    "duration": 336,
    "start_time": "2022-04-21T19:23:13.624Z"
   },
   {
    "duration": 331,
    "start_time": "2022-04-21T19:23:22.001Z"
   },
   {
    "duration": 710,
    "start_time": "2022-04-21T19:23:32.249Z"
   },
   {
    "duration": 674,
    "start_time": "2022-04-21T19:23:45.137Z"
   },
   {
    "duration": 799,
    "start_time": "2022-04-21T19:23:51.672Z"
   },
   {
    "duration": 704,
    "start_time": "2022-04-21T19:23:58.520Z"
   },
   {
    "duration": 657,
    "start_time": "2022-04-21T19:24:35.938Z"
   },
   {
    "duration": 694,
    "start_time": "2022-04-21T19:24:42.009Z"
   },
   {
    "duration": 838,
    "start_time": "2022-04-21T19:24:46.449Z"
   },
   {
    "duration": 817,
    "start_time": "2022-04-21T19:24:50.440Z"
   },
   {
    "duration": 135,
    "start_time": "2022-04-21T19:25:27.819Z"
   },
   {
    "duration": 8,
    "start_time": "2022-04-21T19:25:45.297Z"
   },
   {
    "duration": 904,
    "start_time": "2022-04-21T19:27:00.804Z"
   },
   {
    "duration": 1037,
    "start_time": "2022-04-21T19:27:07.107Z"
   },
   {
    "duration": 922,
    "start_time": "2022-04-21T19:27:31.019Z"
   },
   {
    "duration": 900,
    "start_time": "2022-04-21T19:27:37.306Z"
   },
   {
    "duration": 1031,
    "start_time": "2022-04-21T19:27:44.122Z"
   },
   {
    "duration": 952,
    "start_time": "2022-04-21T19:27:59.829Z"
   },
   {
    "duration": 883,
    "start_time": "2022-04-21T19:28:05.812Z"
   },
   {
    "duration": 26,
    "start_time": "2022-04-21T19:28:32.252Z"
   },
   {
    "duration": 18,
    "start_time": "2022-04-21T19:28:34.722Z"
   },
   {
    "duration": 4,
    "start_time": "2022-04-21T19:28:37.010Z"
   },
   {
    "duration": 9,
    "start_time": "2022-04-21T19:28:38.851Z"
   },
   {
    "duration": 7,
    "start_time": "2022-04-21T19:28:41.139Z"
   },
   {
    "duration": 6,
    "start_time": "2022-04-21T19:28:41.994Z"
   },
   {
    "duration": 4505,
    "start_time": "2022-04-21T19:28:44.438Z"
   },
   {
    "duration": 404943,
    "start_time": "2022-04-21T19:34:16.013Z"
   },
   {
    "duration": 167,
    "start_time": "2022-04-21T19:42:59.201Z"
   },
   {
    "duration": 370246,
    "start_time": "2022-04-21T19:43:12.277Z"
   },
   {
    "duration": 3539,
    "start_time": "2022-04-21T19:51:45.890Z"
   },
   {
    "duration": 3473,
    "start_time": "2022-04-21T19:52:42.066Z"
   },
   {
    "duration": 4006,
    "start_time": "2022-04-21T19:53:11.627Z"
   },
   {
    "duration": 14,
    "start_time": "2022-04-21T20:38:18.938Z"
   },
   {
    "duration": 1913,
    "start_time": "2022-04-30T19:22:20.745Z"
   },
   {
    "duration": 448,
    "start_time": "2022-04-30T19:22:32.450Z"
   },
   {
    "duration": 179,
    "start_time": "2022-04-30T19:22:35.809Z"
   },
   {
    "duration": 538,
    "start_time": "2022-04-30T19:22:40.176Z"
   },
   {
    "duration": 6,
    "start_time": "2022-04-30T19:22:44.495Z"
   },
   {
    "duration": 530,
    "start_time": "2022-04-30T19:22:45.377Z"
   },
   {
    "duration": 202,
    "start_time": "2022-04-30T19:22:49.096Z"
   },
   {
    "duration": 570,
    "start_time": "2022-04-30T19:22:54.656Z"
   },
   {
    "duration": 37,
    "start_time": "2022-04-30T19:23:07.248Z"
   },
   {
    "duration": 16,
    "start_time": "2022-04-30T19:23:08.337Z"
   },
   {
    "duration": 16,
    "start_time": "2022-04-30T19:23:20.504Z"
   },
   {
    "duration": 12,
    "start_time": "2022-04-30T19:23:28.735Z"
   },
   {
    "duration": 8,
    "start_time": "2022-04-30T19:23:39.303Z"
   },
   {
    "duration": 635,
    "start_time": "2022-04-30T19:23:41.320Z"
   },
   {
    "duration": 39,
    "start_time": "2022-04-30T19:23:43.656Z"
   },
   {
    "duration": 34,
    "start_time": "2022-04-30T19:23:44.776Z"
   },
   {
    "duration": 30,
    "start_time": "2022-04-30T19:23:46.072Z"
   },
   {
    "duration": 658,
    "start_time": "2022-04-30T19:23:47.801Z"
   },
   {
    "duration": 49,
    "start_time": "2022-04-30T19:23:50.104Z"
   },
   {
    "duration": 58,
    "start_time": "2022-04-30T19:23:51.848Z"
   },
   {
    "duration": 36,
    "start_time": "2022-04-30T19:23:52.993Z"
   },
   {
    "duration": 966,
    "start_time": "2022-04-30T19:23:55.209Z"
   },
   {
    "duration": 903,
    "start_time": "2022-04-30T19:23:57.752Z"
   },
   {
    "duration": 916,
    "start_time": "2022-04-30T19:24:00.304Z"
   },
   {
    "duration": 1212,
    "start_time": "2022-04-30T19:24:02.607Z"
   },
   {
    "duration": 678,
    "start_time": "2022-04-30T19:24:05.178Z"
   },
   {
    "duration": 8,
    "start_time": "2022-04-30T19:25:55.258Z"
   },
   {
    "duration": 895,
    "start_time": "2022-04-30T19:26:02.337Z"
   },
   {
    "duration": 997,
    "start_time": "2022-04-30T19:26:48.002Z"
   },
   {
    "duration": 26,
    "start_time": "2022-04-30T19:26:55.762Z"
   },
   {
    "duration": 12,
    "start_time": "2022-04-30T19:26:59.602Z"
   },
   {
    "duration": 4,
    "start_time": "2022-04-30T19:27:02.729Z"
   },
   {
    "duration": 8,
    "start_time": "2022-04-30T19:27:04.370Z"
   },
   {
    "duration": 7,
    "start_time": "2022-04-30T19:27:06.569Z"
   },
   {
    "duration": 6,
    "start_time": "2022-04-30T19:27:07.681Z"
   },
   {
    "duration": 3890,
    "start_time": "2022-04-30T19:27:16.010Z"
   },
   {
    "duration": 3756,
    "start_time": "2022-04-30T19:27:40.226Z"
   },
   {
    "duration": 241895,
    "start_time": "2022-04-30T19:27:52.923Z"
   },
   {
    "duration": 72493,
    "start_time": "2022-04-30T19:33:22.095Z"
   },
   {
    "duration": 3208632,
    "start_time": "2022-04-30T19:34:38.149Z"
   },
   {
    "duration": 7,
    "start_time": "2022-04-30T20:28:30.040Z"
   },
   {
    "duration": 118758,
    "start_time": "2022-04-30T20:28:44.447Z"
   },
   {
    "duration": 14,
    "start_time": "2022-04-30T20:34:29.810Z"
   },
   {
    "duration": 16,
    "start_time": "2022-04-30T20:34:49.258Z"
   },
   {
    "duration": 14,
    "start_time": "2022-04-30T20:34:58.482Z"
   },
   {
    "duration": 117552,
    "start_time": "2022-04-30T20:35:00.772Z"
   },
   {
    "duration": 838,
    "start_time": "2022-04-30T20:38:37.948Z"
   }
  ],
  "kernelspec": {
   "display_name": "Python 3 (ipykernel)",
   "language": "python",
   "name": "python3"
  },
  "language_info": {
   "codemirror_mode": {
    "name": "ipython",
    "version": 3
   },
   "file_extension": ".py",
   "mimetype": "text/x-python",
   "name": "python",
   "nbconvert_exporter": "python",
   "pygments_lexer": "ipython3",
   "version": "3.9.5"
  },
  "toc": {
   "base_numbering": 1,
   "nav_menu": {},
   "number_sections": true,
   "sideBar": true,
   "skip_h1_title": true,
   "title_cell": "Содержание",
   "title_sidebar": "Contents",
   "toc_cell": true,
   "toc_position": {
    "height": "calc(100% - 180px)",
    "left": "10px",
    "top": "150px",
    "width": "400.203px"
   },
   "toc_section_display": true,
   "toc_window_display": true
  }
 },
 "nbformat": 4,
 "nbformat_minor": 2
}
