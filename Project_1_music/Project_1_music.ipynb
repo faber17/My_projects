{
 "cells": [
  {
   "cell_type": "markdown",
   "metadata": {
    "id": "E0vqbgi9ay0H"
   },
   "source": [
    "# Яндекс.Музыка"
   ]
  },
  {
   "cell_type": "markdown",
   "metadata": {
    "id": "VUC88oWjTJw2"
   },
   "source": [
    "**Цель исследования** — проверить три гипотезы:\n",
    "- Активность пользователей зависит от дня недели. Причём в Москве и Петербурге это проявляется по-разному.\n",
    "- В понедельник утром в Москве преобладают одни жанры, а в Петербурге — другие. Так же и вечером пятницы преобладают разные жанры — в зависимости от города. \n",
    "- Москва и Петербург предпочитают разные жанры музыки. В Москве чаще слушают поп-музыку, в Петербурге — русский рэп.\n",
    "\n",
    "**Ход исследования**\n",
    "\n",
    "Данные о поведении пользователей находятся в файле `yandex_music_project.csv`. О качестве данных ничего не известно. Поэтому перед проверкой гипотез понадобится обзор данных. \n",
    "\n",
    "Необходимо проверить данные на ошибки и оценить их влияние на исследование. Затем, на этапе предобработки необходимо найти возможность исправить самые критичные ошибки данных.\n",
    " \n",
    "Таким образом, исследование пройдёт в три этапа:\n",
    " 1. Обзор данных.\n",
    " 2. Предобработка данных.\n",
    " 3. Проверка гипотез."
   ]
  },
  {
   "cell_type": "markdown",
   "metadata": {
    "id": "Ml1hmfXC_Zcs"
   },
   "source": [
    "## Обзор данных"
   ]
  },
  {
   "cell_type": "markdown",
   "metadata": {
    "id": "57eAOGIz_Zcs"
   },
   "source": [
    "Импортирую библиотеку pandas."
   ]
  },
  {
   "cell_type": "code",
   "execution_count": 1,
   "metadata": {
    "id": "AXN7PHPN_Zcs"
   },
   "outputs": [],
   "source": [
    "import pandas as pd"
   ]
  },
  {
   "cell_type": "markdown",
   "metadata": {
    "id": "SG23P8tt_Zcs"
   },
   "source": [
    "Прочитаю файл `yandex_music_project.csv` из папки `/datasets` и сохраню его в переменной `df`:"
   ]
  },
  {
   "cell_type": "code",
   "execution_count": 2,
   "metadata": {
    "id": "fFVu7vqh_Zct"
   },
   "outputs": [],
   "source": [
    "df = pd.read_csv('/datasets/yandex_music_project.csv')"
   ]
  },
  {
   "cell_type": "markdown",
   "metadata": {
    "id": "rDoOMd3uTqnZ"
   },
   "source": [
    "Выведу на экран первые и последние пять строк таблицы:"
   ]
  },
  {
   "cell_type": "code",
   "execution_count": 3,
   "metadata": {
    "id": "oWTVX3gW_Zct"
   },
   "outputs": [
    {
     "data": {
      "text/html": [
       "<div>\n",
       "<style scoped>\n",
       "    .dataframe tbody tr th:only-of-type {\n",
       "        vertical-align: middle;\n",
       "    }\n",
       "\n",
       "    .dataframe tbody tr th {\n",
       "        vertical-align: top;\n",
       "    }\n",
       "\n",
       "    .dataframe thead th {\n",
       "        text-align: right;\n",
       "    }\n",
       "</style>\n",
       "<table border=\"1\" class=\"dataframe\">\n",
       "  <thead>\n",
       "    <tr style=\"text-align: right;\">\n",
       "      <th></th>\n",
       "      <th>userID</th>\n",
       "      <th>Track</th>\n",
       "      <th>artist</th>\n",
       "      <th>genre</th>\n",
       "      <th>City</th>\n",
       "      <th>time</th>\n",
       "      <th>Day</th>\n",
       "    </tr>\n",
       "  </thead>\n",
       "  <tbody>\n",
       "    <tr>\n",
       "      <th>0</th>\n",
       "      <td>FFB692EC</td>\n",
       "      <td>Kamigata To Boots</td>\n",
       "      <td>The Mass Missile</td>\n",
       "      <td>rock</td>\n",
       "      <td>Saint-Petersburg</td>\n",
       "      <td>20:28:33</td>\n",
       "      <td>Wednesday</td>\n",
       "    </tr>\n",
       "    <tr>\n",
       "      <th>1</th>\n",
       "      <td>55204538</td>\n",
       "      <td>Delayed Because of Accident</td>\n",
       "      <td>Andreas Rönnberg</td>\n",
       "      <td>rock</td>\n",
       "      <td>Moscow</td>\n",
       "      <td>14:07:09</td>\n",
       "      <td>Friday</td>\n",
       "    </tr>\n",
       "    <tr>\n",
       "      <th>2</th>\n",
       "      <td>20EC38</td>\n",
       "      <td>Funiculì funiculà</td>\n",
       "      <td>Mario Lanza</td>\n",
       "      <td>pop</td>\n",
       "      <td>Saint-Petersburg</td>\n",
       "      <td>20:58:07</td>\n",
       "      <td>Wednesday</td>\n",
       "    </tr>\n",
       "    <tr>\n",
       "      <th>3</th>\n",
       "      <td>A3DD03C9</td>\n",
       "      <td>Dragons in the Sunset</td>\n",
       "      <td>Fire + Ice</td>\n",
       "      <td>folk</td>\n",
       "      <td>Saint-Petersburg</td>\n",
       "      <td>08:37:09</td>\n",
       "      <td>Monday</td>\n",
       "    </tr>\n",
       "    <tr>\n",
       "      <th>4</th>\n",
       "      <td>E2DC1FAE</td>\n",
       "      <td>Soul People</td>\n",
       "      <td>Space Echo</td>\n",
       "      <td>dance</td>\n",
       "      <td>Moscow</td>\n",
       "      <td>08:34:34</td>\n",
       "      <td>Monday</td>\n",
       "    </tr>\n",
       "  </tbody>\n",
       "</table>\n",
       "</div>"
      ],
      "text/plain": [
       "     userID                        Track            artist  genre  \\\n",
       "0  FFB692EC            Kamigata To Boots  The Mass Missile   rock   \n",
       "1  55204538  Delayed Because of Accident  Andreas Rönnberg   rock   \n",
       "2    20EC38            Funiculì funiculà       Mario Lanza    pop   \n",
       "3  A3DD03C9        Dragons in the Sunset        Fire + Ice   folk   \n",
       "4  E2DC1FAE                  Soul People        Space Echo  dance   \n",
       "\n",
       "             City        time        Day  \n",
       "0  Saint-Petersburg  20:28:33  Wednesday  \n",
       "1            Moscow  14:07:09     Friday  \n",
       "2  Saint-Petersburg  20:58:07  Wednesday  \n",
       "3  Saint-Petersburg  08:37:09     Monday  \n",
       "4            Moscow  08:34:34     Monday  "
      ]
     },
     "metadata": {},
     "output_type": "display_data"
    },
    {
     "data": {
      "text/html": [
       "<div>\n",
       "<style scoped>\n",
       "    .dataframe tbody tr th:only-of-type {\n",
       "        vertical-align: middle;\n",
       "    }\n",
       "\n",
       "    .dataframe tbody tr th {\n",
       "        vertical-align: top;\n",
       "    }\n",
       "\n",
       "    .dataframe thead th {\n",
       "        text-align: right;\n",
       "    }\n",
       "</style>\n",
       "<table border=\"1\" class=\"dataframe\">\n",
       "  <thead>\n",
       "    <tr style=\"text-align: right;\">\n",
       "      <th></th>\n",
       "      <th>userID</th>\n",
       "      <th>Track</th>\n",
       "      <th>artist</th>\n",
       "      <th>genre</th>\n",
       "      <th>City</th>\n",
       "      <th>time</th>\n",
       "      <th>Day</th>\n",
       "    </tr>\n",
       "  </thead>\n",
       "  <tbody>\n",
       "    <tr>\n",
       "      <th>65074</th>\n",
       "      <td>729CBB09</td>\n",
       "      <td>My Name</td>\n",
       "      <td>McLean</td>\n",
       "      <td>rnb</td>\n",
       "      <td>Moscow</td>\n",
       "      <td>13:32:28</td>\n",
       "      <td>Wednesday</td>\n",
       "    </tr>\n",
       "    <tr>\n",
       "      <th>65075</th>\n",
       "      <td>D08D4A55</td>\n",
       "      <td>Maybe One Day (feat. Black Spade)</td>\n",
       "      <td>Blu &amp; Exile</td>\n",
       "      <td>hip</td>\n",
       "      <td>Saint-Petersburg</td>\n",
       "      <td>10:00:00</td>\n",
       "      <td>Monday</td>\n",
       "    </tr>\n",
       "    <tr>\n",
       "      <th>65076</th>\n",
       "      <td>C5E3A0D5</td>\n",
       "      <td>Jalopiina</td>\n",
       "      <td>NaN</td>\n",
       "      <td>industrial</td>\n",
       "      <td>Moscow</td>\n",
       "      <td>20:09:26</td>\n",
       "      <td>Friday</td>\n",
       "    </tr>\n",
       "    <tr>\n",
       "      <th>65077</th>\n",
       "      <td>321D0506</td>\n",
       "      <td>Freight Train</td>\n",
       "      <td>Chas McDevitt</td>\n",
       "      <td>rock</td>\n",
       "      <td>Moscow</td>\n",
       "      <td>21:43:59</td>\n",
       "      <td>Friday</td>\n",
       "    </tr>\n",
       "    <tr>\n",
       "      <th>65078</th>\n",
       "      <td>3A64EF84</td>\n",
       "      <td>Tell Me Sweet Little Lies</td>\n",
       "      <td>Monica Lopez</td>\n",
       "      <td>country</td>\n",
       "      <td>Moscow</td>\n",
       "      <td>21:59:46</td>\n",
       "      <td>Friday</td>\n",
       "    </tr>\n",
       "  </tbody>\n",
       "</table>\n",
       "</div>"
      ],
      "text/plain": [
       "         userID                              Track         artist       genre  \\\n",
       "65074  729CBB09                            My Name         McLean         rnb   \n",
       "65075  D08D4A55  Maybe One Day (feat. Black Spade)    Blu & Exile         hip   \n",
       "65076  C5E3A0D5                          Jalopiina            NaN  industrial   \n",
       "65077  321D0506                      Freight Train  Chas McDevitt        rock   \n",
       "65078  3A64EF84          Tell Me Sweet Little Lies   Monica Lopez     country   \n",
       "\n",
       "                 City        time        Day  \n",
       "65074            Moscow  13:32:28  Wednesday  \n",
       "65075  Saint-Petersburg  10:00:00     Monday  \n",
       "65076            Moscow  20:09:26     Friday  \n",
       "65077            Moscow  21:43:59     Friday  \n",
       "65078            Moscow  21:59:46     Friday  "
      ]
     },
     "metadata": {},
     "output_type": "display_data"
    }
   ],
   "source": [
    "display(df.head(5))\n",
    "display(df.tail(5))"
   ]
  },
  {
   "cell_type": "markdown",
   "metadata": {
    "id": "EO73Kwic_Zct"
   },
   "source": [
    "Получу общую информацию о таблице:"
   ]
  },
  {
   "cell_type": "code",
   "execution_count": 4,
   "metadata": {
    "id": "DSf2kIb-_Zct"
   },
   "outputs": [
    {
     "name": "stdout",
     "output_type": "stream",
     "text": [
      "<class 'pandas.core.frame.DataFrame'>\n",
      "RangeIndex: 65079 entries, 0 to 65078\n",
      "Data columns (total 7 columns):\n",
      " #   Column    Non-Null Count  Dtype \n",
      "---  ------    --------------  ----- \n",
      " 0     userID  65079 non-null  object\n",
      " 1   Track     63848 non-null  object\n",
      " 2   artist    57876 non-null  object\n",
      " 3   genre     63881 non-null  object\n",
      " 4     City    65079 non-null  object\n",
      " 5   time      65079 non-null  object\n",
      " 6   Day       65079 non-null  object\n",
      "dtypes: object(7)\n",
      "memory usage: 3.5+ MB\n"
     ]
    }
   ],
   "source": [
    "df.info()"
   ]
  },
  {
   "cell_type": "markdown",
   "metadata": {
    "id": "TaQ2Iwbr_Zct"
   },
   "source": [
    "Итак, в таблице семь столбцов. Тип данных во всех столбцах — `object`.\n",
    "\n",
    "Согласно документации к данным:\n",
    "* `userID` — идентификатор пользователя;\n",
    "* `Track` — название трека;  \n",
    "* `artist` — имя исполнителя;\n",
    "* `genre` — название жанра;\n",
    "* `City` — город пользователя;\n",
    "* `time` — время начала прослушивания;\n",
    "* `Day` — день недели.\n",
    "\n",
    "В названиях колонок видны три нарушения стиля:\n",
    "1. Строчные буквы сочетаются с прописными.\n",
    "2. Встречаются пробелы.\n",
    "3. Не использован \"змеиный регистр\".\n",
    "\n",
    "\n",
    "\n",
    "Количество значений в столбцах различается. Значит, в данных есть пропущенные значения.\n"
   ]
  },
  {
   "cell_type": "markdown",
   "metadata": {
    "id": "MCB6-dXG_Zct"
   },
   "source": [
    "**Выводы**\n",
    "\n",
    "В каждой строке таблицы — данные о прослушанном треке. Часть колонок описывает саму композицию: название, исполнителя и жанр. Остальные данные рассказывают о пользователе: из какого он города, когда он слушал музыку. \n",
    "\n",
    "Предварительно могу утверждать, что, данных достаточно для проверки гипотез. Но встречаются пропуски в данных, а в названиях колонок — расхождения с хорошим стилем.\n",
    "\n",
    "Чтобы двигаться дальше, устраню проблемы в данных."
   ]
  },
  {
   "cell_type": "markdown",
   "metadata": {
    "id": "SjYF6Ub9_Zct"
   },
   "source": [
    "## Предобработка данных"
   ]
  },
  {
   "cell_type": "markdown",
   "metadata": {
    "id": "dIaKXr29_Zct"
   },
   "source": [
    "### Стиль заголовков\n",
    "Выведу на экран названия столбцов:"
   ]
  },
  {
   "cell_type": "code",
   "execution_count": 5,
   "metadata": {
    "id": "oKOTdF_Q_Zct"
   },
   "outputs": [
    {
     "data": {
      "text/plain": [
       "Index(['  userID', 'Track', 'artist', 'genre', '  City  ', 'time', 'Day'], dtype='object')"
      ]
     },
     "execution_count": 5,
     "metadata": {},
     "output_type": "execute_result"
    }
   ],
   "source": [
    "df.columns"
   ]
  },
  {
   "cell_type": "markdown",
   "metadata": {
    "id": "zj5534cv_Zct"
   },
   "source": [
    "Приведу названия столбцов в соответствие с хорошим стилем."
   ]
  },
  {
   "cell_type": "code",
   "execution_count": 6,
   "metadata": {
    "id": "ISlFqs5y_Zct"
   },
   "outputs": [],
   "source": [
    "df = df.rename(columns={'  userID': 'user_id', 'Track': 'track', '  City  ': 'city', 'Day': 'day'})"
   ]
  },
  {
   "cell_type": "markdown",
   "metadata": {
    "id": "1dqbh00J_Zct"
   },
   "source": [
    "Проверю результат."
   ]
  },
  {
   "cell_type": "code",
   "execution_count": 7,
   "metadata": {
    "id": "d4NOAmTW_Zct"
   },
   "outputs": [
    {
     "data": {
      "text/plain": [
       "Index(['user_id', 'track', 'artist', 'genre', 'city', 'time', 'day'], dtype='object')"
      ]
     },
     "execution_count": 7,
     "metadata": {},
     "output_type": "execute_result"
    }
   ],
   "source": [
    "df.columns"
   ]
  },
  {
   "cell_type": "markdown",
   "metadata": {
    "id": "5ISfbcfY_Zct"
   },
   "source": [
    "### Пропуски значений\n",
    "Посчитаю, сколько в таблице пропущенных значений."
   ]
  },
  {
   "cell_type": "code",
   "execution_count": 8,
   "metadata": {
    "id": "RskX29qr_Zct"
   },
   "outputs": [
    {
     "data": {
      "text/plain": [
       "user_id       0\n",
       "track      1231\n",
       "artist     7203\n",
       "genre      1198\n",
       "city          0\n",
       "time          0\n",
       "day           0\n",
       "dtype: int64"
      ]
     },
     "execution_count": 8,
     "metadata": {},
     "output_type": "execute_result"
    }
   ],
   "source": [
    "df.isna().sum()"
   ]
  },
  {
   "cell_type": "markdown",
   "metadata": {
    "id": "qubhgnlO_Zct"
   },
   "source": [
    "Не все пропущенные значения влияют на исследование. Так в `track` и `artist` пропуски не важны для исследования. Достаточно заменить их явными обозначениями.\n",
    "\n",
    "Но пропуски в `genre` могут помешать сравнению музыкальных вкусов в Москве и Санкт-Петербурге. Заполню эти пропуски явными обозначениями. Оценю, насколько они повредят расчётам. "
   ]
  },
  {
   "cell_type": "markdown",
   "metadata": {
    "id": "fSv2laPA_Zct"
   },
   "source": [
    "Заменю пропущенные значения в столбцах `track`, `artist` и `genre` на строку `'unknown'`. Для этого создам список `columns_to_replace`, переберу его элементы циклом `for` и для каждого столбца выполню замену пропущенных значений:"
   ]
  },
  {
   "cell_type": "code",
   "execution_count": 9,
   "metadata": {
    "id": "KplB5qWs_Zct"
   },
   "outputs": [],
   "source": [
    "columns_to_replace = ['track', 'artist', 'genre']\n",
    "for column in columns_to_replace:\n",
    "    df[column] = df[column].fillna('unknown')"
   ]
  },
  {
   "cell_type": "markdown",
   "metadata": {
    "id": "Ilsm-MZo_Zct"
   },
   "source": [
    "Убедюсь, что в таблице не осталось пропусков. Для этого ещё раз посчитаю пропущенные значения."
   ]
  },
  {
   "cell_type": "code",
   "execution_count": 10,
   "metadata": {
    "id": "Tq4nYRX4_Zct"
   },
   "outputs": [
    {
     "data": {
      "text/plain": [
       "user_id    0\n",
       "track      0\n",
       "artist     0\n",
       "genre      0\n",
       "city       0\n",
       "time       0\n",
       "day        0\n",
       "dtype: int64"
      ]
     },
     "execution_count": 10,
     "metadata": {},
     "output_type": "execute_result"
    }
   ],
   "source": [
    "df.isna().sum()"
   ]
  },
  {
   "cell_type": "markdown",
   "metadata": {
    "id": "BWKRtBJ3_Zct"
   },
   "source": [
    "### Дубликаты\n",
    "Посчитаю явные дубликаты в таблице одной командой:"
   ]
  },
  {
   "cell_type": "code",
   "execution_count": 11,
   "metadata": {
    "id": "36eES_S0_Zct"
   },
   "outputs": [
    {
     "data": {
      "text/plain": [
       "3826"
      ]
     },
     "execution_count": 11,
     "metadata": {},
     "output_type": "execute_result"
    }
   ],
   "source": [
    "df.duplicated().sum()"
   ]
  },
  {
   "cell_type": "markdown",
   "metadata": {
    "id": "Ot25h6XR_Zct"
   },
   "source": [
    "Вызову специальный метод `pandas`, чтобы удалить явные дубликаты:"
   ]
  },
  {
   "cell_type": "code",
   "execution_count": 12,
   "metadata": {
    "id": "exFHq6tt_Zct"
   },
   "outputs": [],
   "source": [
    "df = df.drop_duplicates().reset_index(drop=True) "
   ]
  },
  {
   "cell_type": "markdown",
   "metadata": {
    "id": "Im2YwBEG_Zct"
   },
   "source": [
    "Ещё раз посчитаю явные дубликаты в таблице — убедюсь, что полностью от них избавился:"
   ]
  },
  {
   "cell_type": "code",
   "execution_count": 13,
   "metadata": {
    "id": "-8PuNWQ0_Zct"
   },
   "outputs": [
    {
     "data": {
      "text/plain": [
       "0"
      ]
     },
     "execution_count": 13,
     "metadata": {},
     "output_type": "execute_result"
    }
   ],
   "source": [
    "df.duplicated().sum()"
   ]
  },
  {
   "cell_type": "markdown",
   "metadata": {
    "id": "QlFBsxAr_Zct"
   },
   "source": [
    "Теперь избавлюсь от неявных дубликатов в колонке `genre`. Например, название одного и того же жанра может быть записано немного по-разному. Такие ошибки повлияют на результат исследования."
   ]
  },
  {
   "cell_type": "markdown",
   "metadata": {
    "id": "eSjWwsOh_Zct"
   },
   "source": [
    "Выведу на экран список уникальных названий жанров, отсортированный в алфавитном порядке."
   ]
  },
  {
   "cell_type": "code",
   "execution_count": 14,
   "metadata": {
    "id": "JIUcqzZN_Zct"
   },
   "outputs": [
    {
     "data": {
      "text/plain": [
       "array(['acid', 'acoustic', 'action', 'adult', 'africa', 'afrikaans',\n",
       "       'alternative', 'alternativepunk', 'ambient', 'americana',\n",
       "       'animated', 'anime', 'arabesk', 'arabic', 'arena',\n",
       "       'argentinetango', 'art', 'audiobook', 'author', 'avantgarde',\n",
       "       'axé', 'baile', 'balkan', 'beats', 'bigroom', 'black', 'bluegrass',\n",
       "       'blues', 'bollywood', 'bossa', 'brazilian', 'breakbeat', 'breaks',\n",
       "       'broadway', 'cantautori', 'cantopop', 'canzone', 'caribbean',\n",
       "       'caucasian', 'celtic', 'chamber', 'chanson', 'children', 'chill',\n",
       "       'chinese', 'choral', 'christian', 'christmas', 'classical',\n",
       "       'classicmetal', 'club', 'colombian', 'comedy', 'conjazz',\n",
       "       'contemporary', 'country', 'cuban', 'dance', 'dancehall',\n",
       "       'dancepop', 'dark', 'death', 'deep', 'deutschrock', 'deutschspr',\n",
       "       'dirty', 'disco', 'dnb', 'documentary', 'downbeat', 'downtempo',\n",
       "       'drum', 'dub', 'dubstep', 'eastern', 'easy', 'electronic',\n",
       "       'electropop', 'emo', 'entehno', 'epicmetal', 'estrada', 'ethnic',\n",
       "       'eurofolk', 'european', 'experimental', 'extrememetal', 'fado',\n",
       "       'fairytail', 'film', 'fitness', 'flamenco', 'folk', 'folklore',\n",
       "       'folkmetal', 'folkrock', 'folktronica', 'forró', 'frankreich',\n",
       "       'französisch', 'french', 'funk', 'future', 'gangsta', 'garage',\n",
       "       'german', 'ghazal', 'gitarre', 'glitch', 'gospel', 'gothic',\n",
       "       'grime', 'grunge', 'gypsy', 'handsup', \"hard'n'heavy\", 'hardcore',\n",
       "       'hardstyle', 'hardtechno', 'hip', 'hip-hop', 'hiphop',\n",
       "       'historisch', 'holiday', 'hop', 'horror', 'house', 'hymn', 'idm',\n",
       "       'independent', 'indian', 'indie', 'indipop', 'industrial',\n",
       "       'inspirational', 'instrumental', 'international', 'irish', 'jam',\n",
       "       'japanese', 'jazz', 'jewish', 'jpop', 'jungle', 'k-pop',\n",
       "       'karadeniz', 'karaoke', 'kayokyoku', 'korean', 'laiko', 'latin',\n",
       "       'latino', 'leftfield', 'local', 'lounge', 'loungeelectronic',\n",
       "       'lovers', 'malaysian', 'mandopop', 'marschmusik', 'meditative',\n",
       "       'mediterranean', 'melodic', 'metal', 'metalcore', 'mexican',\n",
       "       'middle', 'minimal', 'miscellaneous', 'modern', 'mood', 'mpb',\n",
       "       'muslim', 'native', 'neoklassik', 'neue', 'new', 'newage',\n",
       "       'newwave', 'nu', 'nujazz', 'numetal', 'oceania', 'old', 'opera',\n",
       "       'orchestral', 'other', 'piano', 'podcasts', 'pop', 'popdance',\n",
       "       'popelectronic', 'popeurodance', 'poprussian', 'post',\n",
       "       'posthardcore', 'postrock', 'power', 'progmetal', 'progressive',\n",
       "       'psychedelic', 'punjabi', 'punk', 'quebecois', 'ragga', 'ram',\n",
       "       'rancheras', 'rap', 'rave', 'reggae', 'reggaeton', 'regional',\n",
       "       'relax', 'religious', 'retro', 'rhythm', 'rnb', 'rnr', 'rock',\n",
       "       'rockabilly', 'rockalternative', 'rockindie', 'rockother',\n",
       "       'romance', 'roots', 'ruspop', 'rusrap', 'rusrock', 'russian',\n",
       "       'salsa', 'samba', 'scenic', 'schlager', 'self', 'sertanejo',\n",
       "       'shanson', 'shoegazing', 'showtunes', 'singer', 'ska', 'skarock',\n",
       "       'slow', 'smooth', 'soft', 'soul', 'soulful', 'sound', 'soundtrack',\n",
       "       'southern', 'specialty', 'speech', 'spiritual', 'sport',\n",
       "       'stonerrock', 'surf', 'swing', 'synthpop', 'synthrock',\n",
       "       'sängerportrait', 'tango', 'tanzorchester', 'taraftar', 'tatar',\n",
       "       'tech', 'techno', 'teen', 'thrash', 'top', 'traditional',\n",
       "       'tradjazz', 'trance', 'tribal', 'trip', 'triphop', 'tropical',\n",
       "       'türk', 'türkçe', 'ukrrock', 'unknown', 'urban', 'uzbek',\n",
       "       'variété', 'vi', 'videogame', 'vocal', 'western', 'world',\n",
       "       'worldbeat', 'ïîï', 'электроника'], dtype=object)"
      ]
     },
     "execution_count": 14,
     "metadata": {},
     "output_type": "execute_result"
    }
   ],
   "source": [
    "df['genre'].sort_values().unique()"
   ]
  },
  {
   "cell_type": "markdown",
   "metadata": {
    "id": "qej-Qmuo_Zct"
   },
   "source": [
    "Чтобы очистить таблицу от неявных дубликатов, напишу функцию `replace_wrong_genres()` с двумя параметрами: \n",
    "- `wrong_genres` — список дубликатов,\n",
    "- `correct_genre` — строка с правильным значением."
   ]
  },
  {
   "cell_type": "code",
   "execution_count": 15,
   "metadata": {
    "id": "ErNDkmns_Zct"
   },
   "outputs": [],
   "source": [
    "def replace_wrong_genres(wrong_genres, correct_genre):\n",
    "    for wrong_genre in wrong_genres:\n",
    "        df['genre'] = df['genre'].replace(wrong_genre, correct_genre)"
   ]
  },
  {
   "cell_type": "markdown",
   "metadata": {
    "id": "aDoBJxbA_Zct"
   },
   "source": [
    "Вызову `replace_wrong_genres()` и передам ей такие аргументы, чтобы она устранила неявные дубликаты: вместо `hip`, `hop` и `hip-hop` в таблице должно быть значение `hiphop`:"
   ]
  },
  {
   "cell_type": "code",
   "execution_count": 20,
   "metadata": {
    "id": "YN5i2hpmSo09"
   },
   "outputs": [],
   "source": [
    "replace_wrong_genres(('hip', 'hop', 'hip-hop'), 'hiphop')"
   ]
  },
  {
   "cell_type": "markdown",
   "metadata": {
    "id": "zQKF16_RG15m"
   },
   "source": [
    "Выведу отсортированный список уникальных значений столбца `genre`:"
   ]
  },
  {
   "cell_type": "code",
   "execution_count": 21,
   "metadata": {
    "id": "wvixALnFG15m"
   },
   "outputs": [
    {
     "data": {
      "text/plain": [
       "array(['acid', 'acoustic', 'action', 'adult', 'africa', 'afrikaans',\n",
       "       'alternative', 'alternativepunk', 'ambient', 'americana',\n",
       "       'animated', 'anime', 'arabesk', 'arabic', 'arena',\n",
       "       'argentinetango', 'art', 'audiobook', 'author', 'avantgarde',\n",
       "       'axé', 'baile', 'balkan', 'beats', 'bigroom', 'black', 'bluegrass',\n",
       "       'blues', 'bollywood', 'bossa', 'brazilian', 'breakbeat', 'breaks',\n",
       "       'broadway', 'cantautori', 'cantopop', 'canzone', 'caribbean',\n",
       "       'caucasian', 'celtic', 'chamber', 'chanson', 'children', 'chill',\n",
       "       'chinese', 'choral', 'christian', 'christmas', 'classical',\n",
       "       'classicmetal', 'club', 'colombian', 'comedy', 'conjazz',\n",
       "       'contemporary', 'country', 'cuban', 'dance', 'dancehall',\n",
       "       'dancepop', 'dark', 'death', 'deep', 'deutschrock', 'deutschspr',\n",
       "       'dirty', 'disco', 'dnb', 'documentary', 'downbeat', 'downtempo',\n",
       "       'drum', 'dub', 'dubstep', 'eastern', 'easy', 'electronic',\n",
       "       'electropop', 'emo', 'entehno', 'epicmetal', 'estrada', 'ethnic',\n",
       "       'eurofolk', 'european', 'experimental', 'extrememetal', 'fado',\n",
       "       'fairytail', 'film', 'fitness', 'flamenco', 'folk', 'folklore',\n",
       "       'folkmetal', 'folkrock', 'folktronica', 'forró', 'frankreich',\n",
       "       'französisch', 'french', 'funk', 'future', 'gangsta', 'garage',\n",
       "       'german', 'ghazal', 'gitarre', 'glitch', 'gospel', 'gothic',\n",
       "       'grime', 'grunge', 'gypsy', 'handsup', \"hard'n'heavy\", 'hardcore',\n",
       "       'hardstyle', 'hardtechno', 'hiphop', 'historisch', 'holiday',\n",
       "       'horror', 'house', 'hymn', 'idm', 'independent', 'indian', 'indie',\n",
       "       'indipop', 'industrial', 'inspirational', 'instrumental',\n",
       "       'international', 'irish', 'jam', 'japanese', 'jazz', 'jewish',\n",
       "       'jpop', 'jungle', 'k-pop', 'karadeniz', 'karaoke', 'kayokyoku',\n",
       "       'korean', 'laiko', 'latin', 'latino', 'leftfield', 'local',\n",
       "       'lounge', 'loungeelectronic', 'lovers', 'malaysian', 'mandopop',\n",
       "       'marschmusik', 'meditative', 'mediterranean', 'melodic', 'metal',\n",
       "       'metalcore', 'mexican', 'middle', 'minimal', 'miscellaneous',\n",
       "       'modern', 'mood', 'mpb', 'muslim', 'native', 'neoklassik', 'neue',\n",
       "       'new', 'newage', 'newwave', 'nu', 'nujazz', 'numetal', 'oceania',\n",
       "       'old', 'opera', 'orchestral', 'other', 'piano', 'podcasts', 'pop',\n",
       "       'popdance', 'popelectronic', 'popeurodance', 'poprussian', 'post',\n",
       "       'posthardcore', 'postrock', 'power', 'progmetal', 'progressive',\n",
       "       'psychedelic', 'punjabi', 'punk', 'quebecois', 'ragga', 'ram',\n",
       "       'rancheras', 'rap', 'rave', 'reggae', 'reggaeton', 'regional',\n",
       "       'relax', 'religious', 'retro', 'rhythm', 'rnb', 'rnr', 'rock',\n",
       "       'rockabilly', 'rockalternative', 'rockindie', 'rockother',\n",
       "       'romance', 'roots', 'ruspop', 'rusrap', 'rusrock', 'russian',\n",
       "       'salsa', 'samba', 'scenic', 'schlager', 'self', 'sertanejo',\n",
       "       'shanson', 'shoegazing', 'showtunes', 'singer', 'ska', 'skarock',\n",
       "       'slow', 'smooth', 'soft', 'soul', 'soulful', 'sound', 'soundtrack',\n",
       "       'southern', 'specialty', 'speech', 'spiritual', 'sport',\n",
       "       'stonerrock', 'surf', 'swing', 'synthpop', 'synthrock',\n",
       "       'sängerportrait', 'tango', 'tanzorchester', 'taraftar', 'tatar',\n",
       "       'tech', 'techno', 'teen', 'thrash', 'top', 'traditional',\n",
       "       'tradjazz', 'trance', 'tribal', 'trip', 'triphop', 'tropical',\n",
       "       'türk', 'türkçe', 'ukrrock', 'unknown', 'urban', 'uzbek',\n",
       "       'variété', 'vi', 'videogame', 'vocal', 'western', 'world',\n",
       "       'worldbeat', 'ïîï', 'электроника'], dtype=object)"
      ]
     },
     "execution_count": 21,
     "metadata": {},
     "output_type": "execute_result"
    }
   ],
   "source": [
    "df['genre'].sort_values().unique()"
   ]
  },
  {
   "cell_type": "markdown",
   "metadata": {
    "id": "jz6a9-7HQUDd"
   },
   "source": [
    "**Выводы**\n",
    "\n",
    "Предобработка обнаружила три проблемы в данных:\n",
    "\n",
    "- нарушения в стиле заголовков,\n",
    "- пропущенные значения,\n",
    "- дубликаты — явные и неявные.\n",
    "\n",
    "Я исправил заголовки, чтобы упростить работу с таблицей. Без дубликатов исследование станет более точным.\n",
    "\n",
    "Пропущенные значения я заменил на `'unknown'`.\n",
    "\n",
    "Теперь можно перейти к проверке гипотез. "
   ]
  },
  {
   "cell_type": "markdown",
   "metadata": {
    "id": "WttZHXH0SqKk"
   },
   "source": [
    "## Проверка гипотез"
   ]
  },
  {
   "cell_type": "markdown",
   "metadata": {
    "id": "Im936VVi_Zcu"
   },
   "source": [
    "### Сравнение поведения пользователей двух столиц"
   ]
  },
  {
   "cell_type": "markdown",
   "metadata": {
    "id": "nwt_MuaL_Zcu"
   },
   "source": [
    "Первая гипотеза утверждает, что пользователи по-разному слушают музыку в Москве и Санкт-Петербурге. Проверю это предположение по данным о трёх днях недели — понедельнике, среде и пятнице. Для этого:\n",
    "- Разделю пользователей Москвы и Санкт-Петербурга\n",
    "- Сравню, сколько треков послушала каждая группа пользователей в понедельник, среду и пятницу."
   ]
  },
  {
   "cell_type": "markdown",
   "metadata": {
    "id": "8Dw_YMmT_Zcu"
   },
   "source": [
    "Сначала выполню каждый из расчётов по отдельности. \n",
    "\n",
    "Оценю активность пользователей в каждом городе. Сгруппирую данные по городу и посчитаю прослушивания в каждой группе."
   ]
  },
  {
   "cell_type": "code",
   "execution_count": 22,
   "metadata": {
    "id": "0_Qs96oh_Zcu"
   },
   "outputs": [
    {
     "data": {
      "text/plain": [
       "city\n",
       "Moscow              42741\n",
       "Saint-Petersburg    18512\n",
       "Name: track, dtype: int64"
      ]
     },
     "execution_count": 22,
     "metadata": {},
     "output_type": "execute_result"
    }
   ],
   "source": [
    "df.groupby('city')['track'].count()"
   ]
  },
  {
   "cell_type": "markdown",
   "metadata": {
    "id": "dzli3w8o_Zcu"
   },
   "source": [
    "В Москве прослушиваний больше, чем в Петербурге. Из этого не следует, что московские пользователи чаще слушают музыку. Просто самих пользователей в Москве больше.\n",
    "\n",
    "Теперь сгруппирую данные по дню недели и подсчитаю прослушивания в понедельник, среду и пятницу."
   ]
  },
  {
   "cell_type": "code",
   "execution_count": 23,
   "metadata": {
    "id": "uZMKjiJz_Zcu"
   },
   "outputs": [
    {
     "data": {
      "text/plain": [
       "day\n",
       "Friday       21840\n",
       "Monday       21354\n",
       "Wednesday    18059\n",
       "Name: track, dtype: int64"
      ]
     },
     "execution_count": 23,
     "metadata": {},
     "output_type": "execute_result"
    }
   ],
   "source": [
    "df.groupby('day')['track'].count()"
   ]
  },
  {
   "cell_type": "markdown",
   "metadata": {
    "id": "cC2tNrlL_Zcu"
   },
   "source": [
    "В среднем пользователи из двух городов менее активны по средам."
   ]
  },
  {
   "cell_type": "markdown",
   "metadata": {
    "id": "POzs8bGa_Zcu"
   },
   "source": [
    "Напишу функцию, которая объединит два эти расчёта.\n",
    "\n",
    "Создам функцию `number_tracks()`, которая посчитает прослушивания для заданного дня и города. Ей понадобятся два параметра:\n",
    "- день недели,\n",
    "- название города.\n",
    "\n",
    "В функции сохраню в переменную строки исходной таблицы, у которых значение:\n",
    "- в колонке `day` равно параметру `day`,\n",
    "- в колонке `city` равно параметру `city`.\n",
    "\n",
    "Для этого применю последовательную фильтрацию с логической индексацией.\n",
    "\n",
    "Затем посчитаю значения в столбце `user_id` получившейся таблицы. Результат сохраню в новую переменную. Верну эту переменную из функции."
   ]
  },
  {
   "cell_type": "code",
   "execution_count": 24,
   "metadata": {
    "id": "Nz3GdQB1_Zcu"
   },
   "outputs": [],
   "source": [
    "def number_tracks(day, city):\n",
    "    track_list = df[df['day'] == day]\n",
    "    track_list = track_list[track_list['city'] == city]\n",
    "    track_list_count = track_list['user_id'].count()\n",
    "    return track_list_count"
   ]
  },
  {
   "cell_type": "markdown",
   "metadata": {
    "id": "ytf7xFrFJQ2r"
   },
   "source": [
    "Вызову `number_tracks()` шесть раз, меняя значение параметров — так, чтобы получить данные для каждого города в каждый из трёх дней."
   ]
  },
  {
   "cell_type": "code",
   "execution_count": 25,
   "metadata": {
    "id": "rJcRATNQ_Zcu"
   },
   "outputs": [
    {
     "data": {
      "text/plain": [
       "15740"
      ]
     },
     "execution_count": 25,
     "metadata": {},
     "output_type": "execute_result"
    }
   ],
   "source": [
    "# количество прослушиваний в Москве по понедельникам\n",
    "number_tracks('Monday', 'Moscow')"
   ]
  },
  {
   "cell_type": "code",
   "execution_count": 26,
   "metadata": {
    "id": "hq_ncZ5T_Zcu"
   },
   "outputs": [
    {
     "data": {
      "text/plain": [
       "5614"
      ]
     },
     "execution_count": 26,
     "metadata": {},
     "output_type": "execute_result"
    }
   ],
   "source": [
    "# количество прослушиваний в Санкт-Петербурге по понедельникам\n",
    "number_tracks('Monday', 'Saint-Petersburg')"
   ]
  },
  {
   "cell_type": "code",
   "execution_count": 27,
   "metadata": {
    "id": "_NTy2VPU_Zcu"
   },
   "outputs": [
    {
     "data": {
      "text/plain": [
       "11056"
      ]
     },
     "execution_count": 27,
     "metadata": {},
     "output_type": "execute_result"
    }
   ],
   "source": [
    "# количество прослушиваний в Москве по средам\n",
    "number_tracks('Wednesday', 'Moscow')"
   ]
  },
  {
   "cell_type": "code",
   "execution_count": 28,
   "metadata": {
    "id": "j2y3TAwo_Zcu"
   },
   "outputs": [
    {
     "data": {
      "text/plain": [
       "7003"
      ]
     },
     "execution_count": 28,
     "metadata": {},
     "output_type": "execute_result"
    }
   ],
   "source": [
    "# количество прослушиваний в Санкт-Петербурге по средам\n",
    "number_tracks('Wednesday', 'Saint-Petersburg')"
   ]
  },
  {
   "cell_type": "code",
   "execution_count": 29,
   "metadata": {
    "id": "vYDw5u_K_Zcu"
   },
   "outputs": [
    {
     "data": {
      "text/plain": [
       "15945"
      ]
     },
     "execution_count": 29,
     "metadata": {},
     "output_type": "execute_result"
    }
   ],
   "source": [
    "# количество прослушиваний в Москве по пятницам\n",
    "number_tracks('Friday', 'Moscow')"
   ]
  },
  {
   "cell_type": "code",
   "execution_count": 30,
   "metadata": {
    "id": "8_yzFtW3_Zcu"
   },
   "outputs": [
    {
     "data": {
      "text/plain": [
       "5895"
      ]
     },
     "execution_count": 30,
     "metadata": {},
     "output_type": "execute_result"
    }
   ],
   "source": [
    "# количество прослушиваний в Санкт-Петербурге по пятницам\n",
    "number_tracks('Friday', 'Saint-Petersburg')"
   ]
  },
  {
   "cell_type": "markdown",
   "metadata": {
    "id": "7QXffbO-_Zcu"
   },
   "source": [
    "Создам c помощью конструктора `pd.DataFrame` таблицу, где\n",
    "- названия колонок — `['city', 'monday', 'wednesday', 'friday']`;\n",
    "- данные — результаты, которые я получили с помощью `number_tracks`."
   ]
  },
  {
   "cell_type": "code",
   "execution_count": 31,
   "metadata": {
    "id": "APAcLpOr_Zcu"
   },
   "outputs": [
    {
     "data": {
      "text/html": [
       "<div>\n",
       "<style scoped>\n",
       "    .dataframe tbody tr th:only-of-type {\n",
       "        vertical-align: middle;\n",
       "    }\n",
       "\n",
       "    .dataframe tbody tr th {\n",
       "        vertical-align: top;\n",
       "    }\n",
       "\n",
       "    .dataframe thead th {\n",
       "        text-align: right;\n",
       "    }\n",
       "</style>\n",
       "<table border=\"1\" class=\"dataframe\">\n",
       "  <thead>\n",
       "    <tr style=\"text-align: right;\">\n",
       "      <th></th>\n",
       "      <th>city</th>\n",
       "      <th>monday</th>\n",
       "      <th>wednesday</th>\n",
       "      <th>friday</th>\n",
       "    </tr>\n",
       "  </thead>\n",
       "  <tbody>\n",
       "    <tr>\n",
       "      <th>0</th>\n",
       "      <td>Moscow</td>\n",
       "      <td>15740</td>\n",
       "      <td>11056</td>\n",
       "      <td>15945</td>\n",
       "    </tr>\n",
       "    <tr>\n",
       "      <th>1</th>\n",
       "      <td>Saint-Petersburg</td>\n",
       "      <td>5614</td>\n",
       "      <td>7003</td>\n",
       "      <td>5895</td>\n",
       "    </tr>\n",
       "  </tbody>\n",
       "</table>\n",
       "</div>"
      ],
      "text/plain": [
       "               city  monday  wednesday  friday\n",
       "0            Moscow   15740      11056   15945\n",
       "1  Saint-Petersburg    5614       7003    5895"
      ]
     },
     "execution_count": 31,
     "metadata": {},
     "output_type": "execute_result"
    }
   ],
   "source": [
    "pd.DataFrame(data=[['Moscow', 15740, 11056, 15945],\n",
    "                  ['Saint-Petersburg', 5614, 7003, 5895]],\n",
    "columns=['city', 'monday', 'wednesday', 'friday'])"
   ]
  },
  {
   "cell_type": "markdown",
   "metadata": {
    "id": "-EgPIHYu_Zcu"
   },
   "source": [
    "**Выводы**\n",
    "\n",
    "Данные показывают разницу поведения пользователей:\n",
    "\n",
    "- В Москве пик прослушиваний приходится на понедельник и пятницу, а в среду заметен спад.\n",
    "- В Петербурге, наоборот, больше слушают музыку по средам. Активность в понедельник и пятницу здесь почти в равной мере уступает среде.\n",
    "\n",
    "Значит, данные говорят в пользу первой гипотезы."
   ]
  },
  {
   "cell_type": "markdown",
   "metadata": {
    "id": "atZAxtq4_Zcu"
   },
   "source": [
    "### Музыка в начале и в конце недели"
   ]
  },
  {
   "cell_type": "markdown",
   "metadata": {
    "id": "eXrQqXFH_Zcu"
   },
   "source": [
    "Согласно второй гипотезе, утром в понедельник в Москве преобладают одни жанры, а в Петербурге — другие. Так же и вечером пятницы преобладают разные жанры — в зависимости от города."
   ]
  },
  {
   "cell_type": "markdown",
   "metadata": {
    "id": "S8UcW6Hw_Zcu"
   },
   "source": [
    "Сохраню таблицы с данными в две переменные:\n",
    "- по Москве — в `moscow_general`;\n",
    "- по Санкт-Петербургу — в `spb_general`."
   ]
  },
  {
   "cell_type": "code",
   "execution_count": 32,
   "metadata": {
    "id": "qeaFfM_P_Zcu"
   },
   "outputs": [],
   "source": [
    "moscow_general = df[df['city'] == 'Moscow']"
   ]
  },
  {
   "cell_type": "code",
   "execution_count": 33,
   "metadata": {
    "id": "ORaVRKto_Zcu"
   },
   "outputs": [],
   "source": [
    "spb_general = df[df['city'] == 'Saint-Petersburg']"
   ]
  },
  {
   "cell_type": "markdown",
   "metadata": {
    "id": "MEJV-CX2_Zcu"
   },
   "source": [
    "Создам функцию `genre_weekday()` с четырьмя параметрами:\n",
    "- таблица (датафрейм) с данными,\n",
    "- день недели,\n",
    "- начальная временная метка в формате 'hh:mm', \n",
    "- последняя временная метка в формате 'hh:mm'.\n",
    "\n",
    "Функция должна вернуть информацию о топ-10 жанров тех треков, которые прослушивали в указанный день, в промежутке между двумя отметками времени."
   ]
  },
  {
   "cell_type": "code",
   "execution_count": 34,
   "metadata": {
    "id": "laJT9BYl_Zcu"
   },
   "outputs": [],
   "source": [
    "def genre_weekday(table, day, time1, time2):\n",
    "    genre_df = table[table['day'] == day]\n",
    "    genre_df = genre_df[genre_df['time'] > time1]\n",
    "    genre_df = genre_df[genre_df['time'] < time2]\n",
    "    genre_df_count = genre_df.groupby('genre')['time'].count()\n",
    "    genre_df_sorted =  genre_df_count.sort_values(ascending=False)\n",
    "    return genre_df_sorted[:10]"
   ]
  },
  {
   "cell_type": "markdown",
   "metadata": {
    "id": "la2s2_PF_Zcu"
   },
   "source": [
    "Cравню результаты функции `genre_weekday()` для Москвы и Санкт-Петербурга в понедельник утром (с 7:00 до 11:00) и в пятницу вечером (с 17:00 до 23:00):"
   ]
  },
  {
   "cell_type": "code",
   "execution_count": 35,
   "metadata": {
    "id": "yz7itPUQ_Zcu"
   },
   "outputs": [
    {
     "data": {
      "text/plain": [
       "genre\n",
       "pop            781\n",
       "dance          549\n",
       "electronic     480\n",
       "rock           474\n",
       "hiphop         286\n",
       "ruspop         186\n",
       "world          181\n",
       "rusrap         175\n",
       "alternative    164\n",
       "unknown        161\n",
       "Name: time, dtype: int64"
      ]
     },
     "execution_count": 35,
     "metadata": {},
     "output_type": "execute_result"
    }
   ],
   "source": [
    "# вызов функции для утра понедельника в Москве\n",
    "genre_weekday(moscow_general, 'Monday', '07:00', '11:00')"
   ]
  },
  {
   "cell_type": "code",
   "execution_count": 36,
   "metadata": {
    "id": "kwUcHPdy_Zcu"
   },
   "outputs": [
    {
     "data": {
      "text/plain": [
       "genre\n",
       "pop            218\n",
       "dance          182\n",
       "rock           162\n",
       "electronic     147\n",
       "hiphop          80\n",
       "ruspop          64\n",
       "alternative     58\n",
       "rusrap          55\n",
       "jazz            44\n",
       "classical       40\n",
       "Name: time, dtype: int64"
      ]
     },
     "execution_count": 36,
     "metadata": {},
     "output_type": "execute_result"
    }
   ],
   "source": [
    "# вызов функции для утра понедельника в Петербурге\n",
    "genre_weekday(spb_general, 'Monday', '07:00', '11:00')"
   ]
  },
  {
   "cell_type": "code",
   "execution_count": 37,
   "metadata": {
    "id": "EzXVRE1o_Zcu"
   },
   "outputs": [
    {
     "data": {
      "text/plain": [
       "genre\n",
       "pop            713\n",
       "rock           517\n",
       "dance          495\n",
       "electronic     482\n",
       "hiphop         273\n",
       "world          208\n",
       "ruspop         170\n",
       "alternative    163\n",
       "classical      163\n",
       "rusrap         142\n",
       "Name: time, dtype: int64"
      ]
     },
     "execution_count": 37,
     "metadata": {},
     "output_type": "execute_result"
    }
   ],
   "source": [
    "# вызов функции для вечера пятницы в Москве\n",
    "genre_weekday(moscow_general, 'Friday', '17:00', '23:00')"
   ]
  },
  {
   "cell_type": "code",
   "execution_count": 38,
   "metadata": {
    "id": "JZaEKu5v_Zcu"
   },
   "outputs": [
    {
     "data": {
      "text/plain": [
       "genre\n",
       "pop            256\n",
       "electronic     216\n",
       "rock           216\n",
       "dance          210\n",
       "hiphop          97\n",
       "alternative     63\n",
       "jazz            61\n",
       "classical       60\n",
       "rusrap          59\n",
       "world           54\n",
       "Name: time, dtype: int64"
      ]
     },
     "execution_count": 38,
     "metadata": {},
     "output_type": "execute_result"
    }
   ],
   "source": [
    "# вызов функции для вечера пятницы в Петербурге\n",
    "genre_weekday(spb_general, 'Friday', '17:00', '23:00')"
   ]
  },
  {
   "cell_type": "markdown",
   "metadata": {
    "id": "wrCe4MNX_Zcu"
   },
   "source": [
    "**Выводы**\n",
    "\n",
    "Если сравнить топ-10 жанров в понедельник утром, можно сделать такие выводы:\n",
    "\n",
    "1. В Москве и Петербурге слушают похожую музыку. Единственное отличие — в московский рейтинг вошёл жанр “world”, а в петербургский — джаз и классика.\n",
    "\n",
    "2. В Москве пропущенных значений оказалось так много, что значение `'unknown'` заняло десятое место среди самых популярных жанров. Значит, пропущенные значения занимают существенную долю в данных и угрожают достоверности исследования.\n",
    "\n",
    "Вечер пятницы не меняет эту картину. Некоторые жанры поднимаются немного выше, другие спускаются, но в целом топ-10 остаётся тем же самым.\n",
    "\n",
    "Таким образом, вторая гипотеза подтвердилась лишь частично:\n",
    "- Пользователи слушают похожую музыку в начале недели и в конце.\n",
    "- Разница между Москвой и Петербургом не слишком выражена. В Москве чаще слушают русскую популярную музыку, в Петербурге — джаз.\n",
    "\n",
    "Однако пропуски в данных ставят под сомнение этот результат. В Москве их так много, что рейтинг топ-10 мог бы выглядеть иначе, если бы не утерянные  данные о жанрах."
   ]
  },
  {
   "cell_type": "markdown",
   "metadata": {
    "id": "JolODAqr_Zcu"
   },
   "source": [
    "### Жанровые предпочтения в Москве и Петербурге\n",
    "\n",
    "Гипотеза: Петербург — столица рэпа, музыку этого жанра там слушают чаще, чем в Москве.  А Москва — город контрастов, в котором, тем не менее, преобладает поп-музыка."
   ]
  },
  {
   "cell_type": "markdown",
   "metadata": {
    "id": "DlegSvaT_Zcu"
   },
   "source": [
    "Сгруппирую таблицу `moscow_general` по жанру и посчитаю прослушивания треков каждого жанра методом `count()`. Затем отсортирую результат в порядке убывания и сохраню его в таблице `moscow_genres`."
   ]
  },
  {
   "cell_type": "code",
   "execution_count": 39,
   "metadata": {
    "id": "r19lIPke_Zcu"
   },
   "outputs": [],
   "source": [
    "moscow_genres = moscow_general.groupby('genre')['genre'].count().sort_values(ascending=False)"
   ]
  },
  {
   "cell_type": "markdown",
   "metadata": {
    "id": "6kMuomxTiIr8"
   },
   "source": [
    "Выведу на экран первые десять строк `moscow_genres`:"
   ]
  },
  {
   "cell_type": "code",
   "execution_count": 40,
   "metadata": {
    "id": "WhCSooF8_Zcv"
   },
   "outputs": [
    {
     "data": {
      "text/plain": [
       "genre\n",
       "pop            5892\n",
       "dance          4435\n",
       "rock           3965\n",
       "electronic     3786\n",
       "hiphop         2096\n",
       "classical      1616\n",
       "world          1432\n",
       "alternative    1379\n",
       "ruspop         1372\n",
       "rusrap         1161\n",
       "Name: genre, dtype: int64"
      ]
     },
     "execution_count": 40,
     "metadata": {},
     "output_type": "execute_result"
    }
   ],
   "source": [
    "moscow_genres.head(10)"
   ]
  },
  {
   "cell_type": "markdown",
   "metadata": {
    "id": "cnPG2vnN_Zcv"
   },
   "source": [
    "Теперь повторю то же и для Петербурга.\n",
    "\n",
    "Сгруппирую таблицу `spb_general` по жанру. Посчитаю прослушивания треков каждого жанра. Результат отсортирую в порядке убывания и сохраню в таблице `spb_genres`:\n"
   ]
  },
  {
   "cell_type": "code",
   "execution_count": 41,
   "metadata": {
    "id": "gluLIpE7_Zcv"
   },
   "outputs": [],
   "source": [
    "spb_genres = spb_general.groupby('genre')['genre'].count().sort_values(ascending=False)"
   ]
  },
  {
   "cell_type": "markdown",
   "metadata": {
    "id": "5Doha_ODgyQ8"
   },
   "source": [
    "Выведу на экран первые десять строк `spb_genres`:"
   ]
  },
  {
   "cell_type": "code",
   "execution_count": 42,
   "metadata": {
    "id": "uaGJHjVU_Zcv"
   },
   "outputs": [
    {
     "data": {
      "text/plain": [
       "genre\n",
       "pop            2431\n",
       "dance          1932\n",
       "rock           1879\n",
       "electronic     1736\n",
       "hiphop          960\n",
       "alternative     649\n",
       "classical       646\n",
       "rusrap          564\n",
       "ruspop          538\n",
       "world           515\n",
       "Name: genre, dtype: int64"
      ]
     },
     "execution_count": 42,
     "metadata": {},
     "output_type": "execute_result"
    }
   ],
   "source": [
    "spb_genres.head(10)"
   ]
  },
  {
   "cell_type": "markdown",
   "metadata": {
    "id": "RY51YJYu_Zcv"
   },
   "source": [
    "**Выводы**"
   ]
  },
  {
   "cell_type": "markdown",
   "metadata": {
    "id": "nVhnJEm__Zcv"
   },
   "source": [
    "Гипотеза частично подтвердилась:\n",
    "* Поп-музыка — самый популярный жанр в Москве, как и предполагала гипотеза. Более того, в топ-10 жанров встречается близкий жанр — русская популярная музыка.\n",
    "* Вопреки ожиданиям, рэп одинаково популярен в Москве и Петербурге. \n"
   ]
  },
  {
   "cell_type": "markdown",
   "metadata": {
    "id": "ykKQ0N65_Zcv"
   },
   "source": [
    "## Итоги исследования"
   ]
  },
  {
   "cell_type": "markdown",
   "metadata": {
    "id": "tjUwbHb3_Zcv"
   },
   "source": [
    "Я проверил три гипотезы и установил:\n",
    "\n",
    "1. День недели по-разному влияет на активность пользователей в Москве и Петербурге. \n",
    "\n",
    "Первая гипотеза полностью подтвердилась.\n",
    "\n",
    "2. Музыкальные предпочтения не сильно меняются в течение недели — будь то Москва или Петербург. Небольшие различия заметны в начале недели, по понедельникам:\n",
    "- в Москве слушают музыку жанра “world”,\n",
    "- в Петербурге — джаз и классику.\n",
    "\n",
    "Таким образом, вторая гипотеза подтвердилась лишь отчасти. Этот результат мог оказаться иным, если бы не пропуски в данных.\n",
    "\n",
    "3. Во вкусах пользователей Москвы и Петербурга больше общего чем различий. Вопреки ожиданиям, предпочтения жанров в Петербурге напоминают московские.\n",
    "\n",
    "Третья гипотеза не подтвердилась. Если различия в предпочтениях и существуют, на основной массе пользователей они незаметны."
   ]
  }
 ],
 "metadata": {
  "ExecuteTimeLog": [
   {
    "duration": 564,
    "start_time": "2021-12-28T07:07:43.502Z"
   },
   {
    "duration": 141,
    "start_time": "2021-12-28T08:14:27.740Z"
   },
   {
    "duration": 15,
    "start_time": "2021-12-28T08:15:24.985Z"
   },
   {
    "duration": 10,
    "start_time": "2021-12-28T08:15:43.758Z"
   },
   {
    "duration": 10,
    "start_time": "2021-12-28T08:15:45.745Z"
   },
   {
    "duration": 10,
    "start_time": "2021-12-28T08:15:48.312Z"
   },
   {
    "duration": 11,
    "start_time": "2021-12-28T08:15:50.440Z"
   },
   {
    "duration": 11,
    "start_time": "2021-12-28T08:15:51.968Z"
   },
   {
    "duration": 11,
    "start_time": "2021-12-28T08:15:53.384Z"
   },
   {
    "duration": 9,
    "start_time": "2021-12-28T08:15:54.793Z"
   },
   {
    "duration": 2,
    "start_time": "2021-12-28T08:16:07.505Z"
   },
   {
    "duration": 128,
    "start_time": "2021-12-28T08:16:11.305Z"
   },
   {
    "duration": 12,
    "start_time": "2021-12-28T08:17:31.465Z"
   },
   {
    "duration": 25,
    "start_time": "2021-12-28T08:18:06.683Z"
   },
   {
    "duration": 377,
    "start_time": "2021-12-28T09:04:45.209Z"
   },
   {
    "duration": 5,
    "start_time": "2021-12-28T09:05:17.993Z"
   },
   {
    "duration": 6,
    "start_time": "2021-12-28T09:07:42.115Z"
   },
   {
    "duration": 4,
    "start_time": "2021-12-28T09:07:56.938Z"
   },
   {
    "duration": 4,
    "start_time": "2021-12-28T09:09:32.611Z"
   },
   {
    "duration": 20,
    "start_time": "2021-12-28T09:09:36.571Z"
   },
   {
    "duration": 4,
    "start_time": "2021-12-28T09:09:38.435Z"
   },
   {
    "duration": 23,
    "start_time": "2021-12-28T09:29:50.677Z"
   },
   {
    "duration": 83,
    "start_time": "2021-12-28T12:54:02.734Z"
   },
   {
    "duration": 30,
    "start_time": "2021-12-28T13:01:07.390Z"
   },
   {
    "duration": 29,
    "start_time": "2021-12-28T13:01:23.761Z"
   },
   {
    "duration": 58,
    "start_time": "2021-12-28T13:02:12.960Z"
   },
   {
    "duration": 65,
    "start_time": "2021-12-28T13:03:05.129Z"
   },
   {
    "duration": 57,
    "start_time": "2021-12-28T13:03:30.602Z"
   },
   {
    "duration": 277,
    "start_time": "2021-12-28T13:04:02.489Z"
   },
   {
    "duration": 7,
    "start_time": "2021-12-28T13:04:10.594Z"
   },
   {
    "duration": 50,
    "start_time": "2021-12-28T13:06:31.027Z"
   },
   {
    "duration": 6,
    "start_time": "2021-12-28T13:07:42.616Z"
   },
   {
    "duration": 268,
    "start_time": "2021-12-28T13:08:05.572Z"
   },
   {
    "duration": 86,
    "start_time": "2021-12-28T13:09:23.444Z"
   },
   {
    "duration": 290,
    "start_time": "2021-12-28T13:10:45.727Z"
   },
   {
    "duration": 286,
    "start_time": "2021-12-28T13:10:54.269Z"
   },
   {
    "duration": 52,
    "start_time": "2021-12-28T13:11:03.108Z"
   },
   {
    "duration": 47,
    "start_time": "2021-12-28T13:11:20.758Z"
   },
   {
    "duration": 39,
    "start_time": "2021-12-28T13:13:11.256Z"
   },
   {
    "duration": 37,
    "start_time": "2021-12-28T13:13:32.303Z"
   },
   {
    "duration": 37,
    "start_time": "2021-12-28T13:16:11.752Z"
   },
   {
    "duration": 39,
    "start_time": "2021-12-28T13:16:22.495Z"
   },
   {
    "duration": 3,
    "start_time": "2021-12-28T13:23:09.433Z"
   },
   {
    "duration": 507,
    "start_time": "2021-12-28T13:25:19.436Z"
   },
   {
    "duration": 10,
    "start_time": "2021-12-28T13:26:15.325Z"
   },
   {
    "duration": 7,
    "start_time": "2021-12-28T13:27:12.293Z"
   },
   {
    "duration": 24,
    "start_time": "2021-12-28T13:30:57.749Z"
   },
   {
    "duration": 23,
    "start_time": "2021-12-28T13:31:00.663Z"
   },
   {
    "duration": 42,
    "start_time": "2021-12-28T13:31:27.343Z"
   },
   {
    "duration": 260,
    "start_time": "2021-12-28T13:35:07.850Z"
   },
   {
    "duration": 33,
    "start_time": "2021-12-28T13:36:37.651Z"
   },
   {
    "duration": 241,
    "start_time": "2021-12-28T13:37:11.795Z"
   },
   {
    "duration": 30,
    "start_time": "2021-12-28T13:37:17.771Z"
   },
   {
    "duration": 11,
    "start_time": "2021-12-28T13:38:25.563Z"
   },
   {
    "duration": 257,
    "start_time": "2021-12-28T13:39:26.540Z"
   },
   {
    "duration": 12,
    "start_time": "2021-12-28T13:39:36.108Z"
   },
   {
    "duration": 3,
    "start_time": "2021-12-28T13:46:38.637Z"
   },
   {
    "duration": 245,
    "start_time": "2021-12-28T13:47:11.248Z"
   },
   {
    "duration": 25,
    "start_time": "2021-12-28T13:47:26.199Z"
   },
   {
    "duration": 23,
    "start_time": "2021-12-28T13:48:52.761Z"
   },
   {
    "duration": 26,
    "start_time": "2021-12-28T13:51:00.186Z"
   },
   {
    "duration": 19,
    "start_time": "2021-12-28T13:52:27.171Z"
   },
   {
    "duration": 4,
    "start_time": "2021-12-28T13:56:00.067Z"
   },
   {
    "duration": -787,
    "start_time": "2021-12-28T13:56:06.971Z"
   },
   {
    "duration": -758,
    "start_time": "2021-12-28T13:56:34.937Z"
   },
   {
    "duration": -763,
    "start_time": "2021-12-28T13:56:34.943Z"
   },
   {
    "duration": 3,
    "start_time": "2021-12-28T13:56:39.532Z"
   },
   {
    "duration": 24,
    "start_time": "2021-12-28T13:56:42.331Z"
   },
   {
    "duration": 3,
    "start_time": "2021-12-28T13:58:20.485Z"
   },
   {
    "duration": 24,
    "start_time": "2021-12-28T13:58:22.453Z"
   },
   {
    "duration": 20,
    "start_time": "2021-12-28T13:58:25.478Z"
   },
   {
    "duration": 11,
    "start_time": "2021-12-28T14:17:39.813Z"
   },
   {
    "duration": 9,
    "start_time": "2021-12-28T14:18:15.896Z"
   },
   {
    "duration": 4,
    "start_time": "2021-12-28T14:26:59.849Z"
   },
   {
    "duration": 738,
    "start_time": "2021-12-28T14:28:06.147Z"
   },
   {
    "duration": 4,
    "start_time": "2021-12-28T14:29:21.116Z"
   },
   {
    "duration": 44,
    "start_time": "2021-12-28T14:29:22.996Z"
   },
   {
    "duration": 41,
    "start_time": "2021-12-28T14:29:51.678Z"
   },
   {
    "duration": 25,
    "start_time": "2021-12-28T14:35:05.080Z"
   },
   {
    "duration": 8,
    "start_time": "2021-12-28T14:35:23.672Z"
   },
   {
    "duration": 16,
    "start_time": "2021-12-28T14:37:28.856Z"
   },
   {
    "duration": 8,
    "start_time": "2021-12-28T14:37:30.465Z"
   },
   {
    "duration": 41,
    "start_time": "2021-12-28T15:05:23.981Z"
   },
   {
    "duration": 38,
    "start_time": "2021-12-28T15:05:40.910Z"
   },
   {
    "duration": 41,
    "start_time": "2021-12-28T15:05:47.886Z"
   },
   {
    "duration": 35,
    "start_time": "2021-12-28T15:15:07.916Z"
   },
   {
    "duration": 38,
    "start_time": "2021-12-28T15:17:22.564Z"
   },
   {
    "duration": 42,
    "start_time": "2021-12-28T15:17:26.684Z"
   },
   {
    "duration": 39,
    "start_time": "2021-12-28T15:17:34.429Z"
   },
   {
    "duration": 41,
    "start_time": "2021-12-28T15:17:53.652Z"
   },
   {
    "duration": 44,
    "start_time": "2021-12-28T15:20:23.325Z"
   },
   {
    "duration": 9,
    "start_time": "2021-12-28T15:22:32.871Z"
   },
   {
    "duration": 3,
    "start_time": "2021-12-28T15:57:43.455Z"
   },
   {
    "duration": -963,
    "start_time": "2021-12-28T15:57:53.342Z"
   },
   {
    "duration": -967,
    "start_time": "2021-12-28T15:57:53.346Z"
   },
   {
    "duration": 4,
    "start_time": "2021-12-28T15:58:05.882Z"
   },
   {
    "duration": 25,
    "start_time": "2021-12-28T15:58:07.377Z"
   },
   {
    "duration": 3,
    "start_time": "2021-12-28T16:00:38.707Z"
   },
   {
    "duration": 21,
    "start_time": "2021-12-28T16:00:41.442Z"
   },
   {
    "duration": 3,
    "start_time": "2021-12-28T16:11:46.800Z"
   },
   {
    "duration": 1914,
    "start_time": "2021-12-28T16:11:48.640Z"
   },
   {
    "duration": 3,
    "start_time": "2021-12-28T16:12:22.897Z"
   },
   {
    "duration": 1949,
    "start_time": "2021-12-28T16:12:24.822Z"
   },
   {
    "duration": 3,
    "start_time": "2021-12-28T16:13:29.664Z"
   },
   {
    "duration": 502,
    "start_time": "2021-12-28T16:13:31.354Z"
   },
   {
    "duration": 3,
    "start_time": "2021-12-28T16:17:38.964Z"
   },
   {
    "duration": 489,
    "start_time": "2021-12-28T16:17:40.987Z"
   },
   {
    "duration": 3,
    "start_time": "2021-12-28T16:18:35.988Z"
   },
   {
    "duration": 3,
    "start_time": "2021-12-28T16:18:52.212Z"
   },
   {
    "duration": 14,
    "start_time": "2021-12-28T16:18:55.260Z"
   },
   {
    "duration": 3,
    "start_time": "2021-12-28T16:19:24.493Z"
   },
   {
    "duration": 16,
    "start_time": "2021-12-28T16:19:26.228Z"
   },
   {
    "duration": 14,
    "start_time": "2021-12-28T16:20:37.670Z"
   },
   {
    "duration": 15,
    "start_time": "2021-12-28T16:20:39.972Z"
   },
   {
    "duration": 15,
    "start_time": "2021-12-28T16:20:44.420Z"
   },
   {
    "duration": 15,
    "start_time": "2021-12-28T16:20:46.029Z"
   },
   {
    "duration": 15,
    "start_time": "2021-12-28T16:20:47.677Z"
   },
   {
    "duration": 245,
    "start_time": "2021-12-28T16:24:48.005Z"
   },
   {
    "duration": 243,
    "start_time": "2021-12-28T16:25:00.400Z"
   },
   {
    "duration": 95,
    "start_time": "2021-12-28T16:31:54.288Z"
   },
   {
    "duration": 106,
    "start_time": "2021-12-28T16:32:09.090Z"
   },
   {
    "duration": 87,
    "start_time": "2021-12-28T16:32:37.435Z"
   },
   {
    "duration": 87,
    "start_time": "2021-12-28T16:32:58.355Z"
   },
   {
    "duration": 238,
    "start_time": "2021-12-28T16:33:16.052Z"
   },
   {
    "duration": 382,
    "start_time": "2021-12-28T16:33:53.819Z"
   },
   {
    "duration": 8,
    "start_time": "2021-12-28T19:12:48.284Z"
   },
   {
    "duration": 4,
    "start_time": "2021-12-28T19:14:44.405Z"
   },
   {
    "duration": 27,
    "start_time": "2021-12-28T19:14:46.890Z"
   },
   {
    "duration": 3,
    "start_time": "2021-12-28T19:17:51.438Z"
   },
   {
    "duration": 28,
    "start_time": "2021-12-28T19:17:53.134Z"
   },
   {
    "duration": 4,
    "start_time": "2021-12-28T19:20:00.526Z"
   },
   {
    "duration": 25,
    "start_time": "2021-12-28T19:20:02.304Z"
   },
   {
    "duration": 3,
    "start_time": "2021-12-28T19:25:45.674Z"
   },
   {
    "duration": 536,
    "start_time": "2021-12-28T19:25:47.602Z"
   },
   {
    "duration": 4,
    "start_time": "2021-12-28T19:25:56.042Z"
   },
   {
    "duration": 24,
    "start_time": "2021-12-28T19:25:57.681Z"
   },
   {
    "duration": 4,
    "start_time": "2021-12-28T19:27:01.419Z"
   },
   {
    "duration": 527,
    "start_time": "2021-12-28T19:27:03.859Z"
   },
   {
    "duration": 4,
    "start_time": "2021-12-28T19:27:16.514Z"
   },
   {
    "duration": 25,
    "start_time": "2021-12-28T19:27:18.003Z"
   },
   {
    "duration": 3,
    "start_time": "2021-12-28T19:29:15.722Z"
   },
   {
    "duration": 6234,
    "start_time": "2021-12-28T19:29:17.028Z"
   },
   {
    "duration": 4,
    "start_time": "2021-12-28T19:29:58.115Z"
   },
   {
    "duration": 23,
    "start_time": "2021-12-28T19:29:59.956Z"
   },
   {
    "duration": 6,
    "start_time": "2021-12-28T19:36:20.174Z"
   },
   {
    "duration": 38,
    "start_time": "2021-12-28T19:36:22.072Z"
   },
   {
    "duration": 18,
    "start_time": "2021-12-28T19:36:44.192Z"
   },
   {
    "duration": 21,
    "start_time": "2021-12-28T19:38:01.160Z"
   },
   {
    "duration": 18,
    "start_time": "2021-12-28T19:38:03.352Z"
   },
   {
    "duration": 24,
    "start_time": "2021-12-28T19:38:50.128Z"
   },
   {
    "duration": 9,
    "start_time": "2021-12-28T19:38:52.206Z"
   },
   {
    "duration": 14,
    "start_time": "2021-12-28T19:38:59.896Z"
   },
   {
    "duration": 8,
    "start_time": "2021-12-28T19:39:01.825Z"
   },
   {
    "duration": 5,
    "start_time": "2021-12-28T19:45:05.569Z"
   },
   {
    "duration": 6581,
    "start_time": "2021-12-28T19:45:07.581Z"
   },
   {
    "duration": 4,
    "start_time": "2021-12-28T19:45:33.276Z"
   },
   {
    "duration": 6304,
    "start_time": "2021-12-28T19:45:35.388Z"
   },
   {
    "duration": 10,
    "start_time": "2021-12-28T19:46:22.668Z"
   },
   {
    "duration": 24,
    "start_time": "2021-12-28T19:46:24.500Z"
   },
   {
    "duration": 3,
    "start_time": "2021-12-28T19:47:04.381Z"
   },
   {
    "duration": 5,
    "start_time": "2021-12-28T19:48:32.580Z"
   },
   {
    "duration": 3,
    "start_time": "2021-12-28T19:49:45.937Z"
   },
   {
    "duration": 6231,
    "start_time": "2021-12-28T19:49:48.323Z"
   },
   {
    "duration": 5,
    "start_time": "2021-12-28T19:51:42.457Z"
   },
   {
    "duration": 7108,
    "start_time": "2021-12-28T19:51:44.655Z"
   },
   {
    "duration": 4,
    "start_time": "2021-12-28T19:54:47.746Z"
   },
   {
    "duration": 25,
    "start_time": "2021-12-28T19:54:49.489Z"
   },
   {
    "duration": 3,
    "start_time": "2021-12-28T20:01:31.965Z"
   },
   {
    "duration": 25,
    "start_time": "2021-12-28T20:01:33.883Z"
   },
   {
    "duration": 5,
    "start_time": "2021-12-28T20:01:56.140Z"
   },
   {
    "duration": 21,
    "start_time": "2021-12-28T20:01:57.676Z"
   },
   {
    "duration": 5,
    "start_time": "2021-12-28T20:02:21.875Z"
   },
   {
    "duration": 487,
    "start_time": "2021-12-28T20:02:23.604Z"
   },
   {
    "duration": 4,
    "start_time": "2021-12-28T20:02:59.021Z"
   },
   {
    "duration": 510,
    "start_time": "2021-12-28T20:03:00.445Z"
   },
   {
    "duration": 80,
    "start_time": "2021-12-28T20:06:51.095Z"
   },
   {
    "duration": 3,
    "start_time": "2021-12-28T20:07:13.367Z"
   },
   {
    "duration": 19,
    "start_time": "2021-12-28T20:07:16.097Z"
   },
   {
    "duration": 3,
    "start_time": "2021-12-28T20:07:48.695Z"
   },
   {
    "duration": 19,
    "start_time": "2021-12-28T20:07:50.095Z"
   },
   {
    "duration": 13,
    "start_time": "2021-12-28T20:08:15.788Z"
   },
   {
    "duration": 18,
    "start_time": "2021-12-28T20:08:17.503Z"
   },
   {
    "duration": 15,
    "start_time": "2021-12-28T20:08:19.207Z"
   },
   {
    "duration": 13,
    "start_time": "2021-12-28T20:09:24.713Z"
   },
   {
    "duration": 6,
    "start_time": "2021-12-28T20:09:26.456Z"
   },
   {
    "duration": 15,
    "start_time": "2021-12-28T20:09:31.024Z"
   },
   {
    "duration": 7,
    "start_time": "2021-12-28T20:09:55.039Z"
   },
   {
    "duration": 5,
    "start_time": "2021-12-28T20:09:56.440Z"
   },
   {
    "duration": 1086,
    "start_time": "2021-12-29T19:22:12.730Z"
   },
   {
    "duration": 272,
    "start_time": "2021-12-29T19:22:13.820Z"
   },
   {
    "duration": 31,
    "start_time": "2021-12-29T19:22:14.096Z"
   },
   {
    "duration": 53,
    "start_time": "2021-12-29T19:22:14.130Z"
   },
   {
    "duration": 61,
    "start_time": "2021-12-29T19:22:14.186Z"
   },
   {
    "duration": 28,
    "start_time": "2021-12-29T19:22:14.250Z"
   },
   {
    "duration": 7,
    "start_time": "2021-12-29T19:22:14.281Z"
   },
   {
    "duration": 37,
    "start_time": "2021-12-29T19:22:14.292Z"
   },
   {
    "duration": 44,
    "start_time": "2021-12-29T19:22:14.333Z"
   },
   {
    "duration": 32,
    "start_time": "2021-12-29T19:22:14.379Z"
   },
   {
    "duration": 111,
    "start_time": "2021-12-29T19:22:14.421Z"
   },
   {
    "duration": 111,
    "start_time": "2021-12-29T19:22:14.535Z"
   },
   {
    "duration": 76,
    "start_time": "2021-12-29T19:22:14.649Z"
   },
   {
    "duration": 79,
    "start_time": "2021-12-29T19:22:14.728Z"
   },
   {
    "duration": 4,
    "start_time": "2021-12-29T19:22:14.809Z"
   },
   {
    "duration": 15,
    "start_time": "2021-12-29T19:22:14.815Z"
   },
   {
    "duration": 18,
    "start_time": "2021-12-29T19:22:14.859Z"
   },
   {
    "duration": 17,
    "start_time": "2021-12-29T19:22:14.880Z"
   },
   {
    "duration": 17,
    "start_time": "2021-12-29T19:22:14.899Z"
   },
   {
    "duration": 42,
    "start_time": "2021-12-29T19:22:14.919Z"
   },
   {
    "duration": 31,
    "start_time": "2021-12-29T19:22:14.964Z"
   },
   {
    "duration": 26,
    "start_time": "2021-12-29T19:22:14.997Z"
   },
   {
    "duration": 23,
    "start_time": "2021-12-29T19:22:15.059Z"
   },
   {
    "duration": 20,
    "start_time": "2021-12-29T19:22:15.085Z"
   },
   {
    "duration": 56,
    "start_time": "2021-12-29T19:22:15.107Z"
   },
   {
    "duration": 18,
    "start_time": "2021-12-29T19:22:15.165Z"
   },
   {
    "duration": 12,
    "start_time": "2021-12-29T19:22:15.185Z"
   },
   {
    "duration": 26,
    "start_time": "2021-12-29T19:22:15.200Z"
   },
   {
    "duration": 46,
    "start_time": "2021-12-29T19:22:15.229Z"
   },
   {
    "duration": 5,
    "start_time": "2021-12-29T19:22:15.277Z"
   },
   {
    "duration": 30,
    "start_time": "2021-12-29T19:22:15.284Z"
   },
   {
    "duration": 44,
    "start_time": "2021-12-29T19:22:15.316Z"
   },
   {
    "duration": 21,
    "start_time": "2021-12-29T19:22:15.362Z"
   },
   {
    "duration": 16,
    "start_time": "2021-12-29T19:22:15.386Z"
   },
   {
    "duration": 10,
    "start_time": "2021-12-29T19:22:15.405Z"
   },
   {
    "duration": 43,
    "start_time": "2021-12-29T19:22:15.418Z"
   },
   {
    "duration": 10,
    "start_time": "2021-12-29T19:22:15.463Z"
   },
   {
    "duration": 6,
    "start_time": "2021-12-29T19:22:15.475Z"
   },
   {
    "duration": 6,
    "start_time": "2021-12-29T20:54:33.012Z"
   },
   {
    "duration": 929,
    "start_time": "2021-12-29T20:54:36.406Z"
   },
   {
    "duration": 721,
    "start_time": "2021-12-29T20:55:50.367Z"
   },
   {
    "duration": 199,
    "start_time": "2021-12-29T20:55:52.999Z"
   },
   {
    "duration": 34,
    "start_time": "2021-12-29T20:55:55.020Z"
   },
   {
    "duration": 31,
    "start_time": "2021-12-29T20:55:57.518Z"
   },
   {
    "duration": 5,
    "start_time": "2021-12-29T20:56:00.879Z"
   },
   {
    "duration": 26,
    "start_time": "2021-12-29T20:56:02.799Z"
   },
   {
    "duration": 5,
    "start_time": "2021-12-29T20:56:05.086Z"
   },
   {
    "duration": 29,
    "start_time": "2021-12-29T20:56:06.918Z"
   },
   {
    "duration": 30,
    "start_time": "2021-12-29T20:56:09.182Z"
   },
   {
    "duration": 30,
    "start_time": "2021-12-29T20:56:11.359Z"
   },
   {
    "duration": 79,
    "start_time": "2021-12-29T20:56:13.446Z"
   },
   {
    "duration": 95,
    "start_time": "2021-12-29T20:56:15.893Z"
   },
   {
    "duration": 77,
    "start_time": "2021-12-29T20:56:17.558Z"
   },
   {
    "duration": 59,
    "start_time": "2021-12-29T20:56:21.358Z"
   },
   {
    "duration": 4,
    "start_time": "2021-12-29T20:56:25.571Z"
   },
   {
    "duration": 11,
    "start_time": "2021-12-29T20:56:27.862Z"
   },
   {
    "duration": 13,
    "start_time": "2021-12-29T20:56:42.303Z"
   },
   {
    "duration": 14,
    "start_time": "2021-12-29T21:04:11.800Z"
   },
   {
    "duration": 15,
    "start_time": "2021-12-29T21:04:13.610Z"
   },
   {
    "duration": 4,
    "start_time": "2021-12-29T21:04:17.291Z"
   },
   {
    "duration": 22,
    "start_time": "2021-12-29T21:04:19.252Z"
   },
   {
    "duration": 18,
    "start_time": "2021-12-29T21:04:21.026Z"
   },
   {
    "duration": 24,
    "start_time": "2021-12-29T21:04:23.153Z"
   },
   {
    "duration": 47,
    "start_time": "2021-12-29T21:04:24.715Z"
   },
   {
    "duration": 21,
    "start_time": "2021-12-29T21:04:26.634Z"
   },
   {
    "duration": 21,
    "start_time": "2021-12-29T21:04:28.355Z"
   },
   {
    "duration": 12,
    "start_time": "2021-12-29T21:04:30.352Z"
   },
   {
    "duration": 14,
    "start_time": "2021-12-29T21:04:33.042Z"
   },
   {
    "duration": 12,
    "start_time": "2021-12-29T21:04:35.179Z"
   },
   {
    "duration": 5,
    "start_time": "2021-12-29T21:04:38.089Z"
   },
   {
    "duration": 24,
    "start_time": "2021-12-29T21:04:39.979Z"
   },
   {
    "duration": 17,
    "start_time": "2021-12-29T21:04:42.274Z"
   },
   {
    "duration": 21,
    "start_time": "2021-12-29T21:04:45.378Z"
   },
   {
    "duration": 17,
    "start_time": "2021-12-29T21:04:51.482Z"
   },
   {
    "duration": 19,
    "start_time": "2021-12-29T21:05:37.816Z"
   },
   {
    "duration": 4,
    "start_time": "2021-12-30T09:27:53.751Z"
   },
   {
    "duration": 417,
    "start_time": "2022-04-11T07:49:24.618Z"
   },
   {
    "duration": 177,
    "start_time": "2022-04-11T07:49:25.481Z"
   },
   {
    "duration": 18,
    "start_time": "2022-04-11T07:49:26.417Z"
   },
   {
    "duration": 38,
    "start_time": "2022-04-11T07:50:05.801Z"
   },
   {
    "duration": 4,
    "start_time": "2022-04-11T07:51:21.626Z"
   },
   {
    "duration": 11,
    "start_time": "2022-04-11T07:51:23.889Z"
   },
   {
    "duration": 4,
    "start_time": "2022-04-11T07:51:31.257Z"
   },
   {
    "duration": 11,
    "start_time": "2022-04-11T09:44:07.856Z"
   },
   {
    "duration": 17,
    "start_time": "2022-04-11T09:44:45.263Z"
   },
   {
    "duration": 2,
    "start_time": "2022-04-11T10:15:30.839Z"
   },
   {
    "duration": 3,
    "start_time": "2022-04-11T14:23:00.479Z"
   },
   {
    "duration": 153,
    "start_time": "2022-04-11T14:23:04.680Z"
   },
   {
    "duration": 29,
    "start_time": "2022-04-11T14:24:35.016Z"
   },
   {
    "duration": 4,
    "start_time": "2022-04-11T14:27:26.450Z"
   },
   {
    "duration": 13,
    "start_time": "2022-04-11T14:28:13.657Z"
   },
   {
    "duration": 3,
    "start_time": "2022-04-11T14:28:27.010Z"
   },
   {
    "duration": 27,
    "start_time": "2022-04-11T14:29:14.842Z"
   },
   {
    "duration": 19,
    "start_time": "2022-04-11T14:34:25.563Z"
   },
   {
    "duration": 27,
    "start_time": "2022-04-11T14:35:02.827Z"
   },
   {
    "duration": 72,
    "start_time": "2022-04-11T14:35:20.987Z"
   },
   {
    "duration": 82,
    "start_time": "2022-04-11T14:35:30.643Z"
   },
   {
    "duration": 63,
    "start_time": "2022-04-11T14:35:51.148Z"
   },
   {
    "duration": 45,
    "start_time": "2022-04-11T14:37:27.027Z"
   },
   {
    "duration": 41,
    "start_time": "2022-04-11T14:38:30.773Z"
   },
   {
    "duration": 3,
    "start_time": "2022-04-11T14:40:32.125Z"
   },
   {
    "duration": 10,
    "start_time": "2022-04-11T14:40:54.014Z"
   },
   {
    "duration": 11,
    "start_time": "2022-04-11T14:41:21.269Z"
   },
   {
    "duration": 40,
    "start_time": "2022-04-11T14:41:38.901Z"
   },
   {
    "duration": 14,
    "start_time": "2022-04-11T14:44:06.725Z"
   },
   {
    "duration": 15,
    "start_time": "2022-04-11T14:46:24.453Z"
   },
   {
    "duration": 4,
    "start_time": "2022-04-11T14:48:16.478Z"
   },
   {
    "duration": 3,
    "start_time": "2022-04-11T14:48:54.070Z"
   },
   {
    "duration": 11,
    "start_time": "2022-04-11T14:48:54.839Z"
   },
   {
    "duration": 41,
    "start_time": "2022-04-11T14:48:56.135Z"
   },
   {
    "duration": 412,
    "start_time": "2022-04-11T14:49:14.312Z"
   },
   {
    "duration": 164,
    "start_time": "2022-04-11T14:49:15.272Z"
   },
   {
    "duration": 25,
    "start_time": "2022-04-11T14:49:16.184Z"
   },
   {
    "duration": 31,
    "start_time": "2022-04-11T14:49:17.880Z"
   },
   {
    "duration": 5,
    "start_time": "2022-04-11T14:49:20.607Z"
   },
   {
    "duration": 20,
    "start_time": "2022-04-11T14:49:21.721Z"
   },
   {
    "duration": 12,
    "start_time": "2022-04-11T14:49:22.504Z"
   },
   {
    "duration": 25,
    "start_time": "2022-04-11T14:49:29.120Z"
   },
   {
    "duration": 18,
    "start_time": "2022-04-11T14:49:30.985Z"
   },
   {
    "duration": 25,
    "start_time": "2022-04-11T14:49:32.120Z"
   },
   {
    "duration": 64,
    "start_time": "2022-04-11T14:49:33.657Z"
   },
   {
    "duration": 75,
    "start_time": "2022-04-11T14:49:34.616Z"
   },
   {
    "duration": 61,
    "start_time": "2022-04-11T14:49:35.665Z"
   },
   {
    "duration": 40,
    "start_time": "2022-04-11T14:49:36.761Z"
   },
   {
    "duration": 3,
    "start_time": "2022-04-11T14:49:38.935Z"
   },
   {
    "duration": 9,
    "start_time": "2022-04-11T14:49:39.889Z"
   },
   {
    "duration": 59,
    "start_time": "2022-04-11T14:49:40.680Z"
   },
   {
    "duration": 8,
    "start_time": "2022-04-11T14:50:29.417Z"
   },
   {
    "duration": 39,
    "start_time": "2022-04-11T14:50:30.322Z"
   },
   {
    "duration": 10,
    "start_time": "2022-04-11T14:50:43.112Z"
   },
   {
    "duration": 38,
    "start_time": "2022-04-11T14:50:44.433Z"
   },
   {
    "duration": 14,
    "start_time": "2022-04-11T14:50:50.624Z"
   },
   {
    "duration": 12,
    "start_time": "2022-04-11T14:50:51.769Z"
   },
   {
    "duration": 4,
    "start_time": "2022-04-11T14:50:53.744Z"
   },
   {
    "duration": 17,
    "start_time": "2022-04-11T14:50:56.400Z"
   },
   {
    "duration": 14,
    "start_time": "2022-04-11T14:50:57.281Z"
   },
   {
    "duration": 13,
    "start_time": "2022-04-11T14:50:58.017Z"
   },
   {
    "duration": 14,
    "start_time": "2022-04-11T14:50:59.136Z"
   },
   {
    "duration": 16,
    "start_time": "2022-04-11T14:50:59.841Z"
   },
   {
    "duration": 16,
    "start_time": "2022-04-11T14:51:00.617Z"
   },
   {
    "duration": 9,
    "start_time": "2022-04-11T14:51:43.432Z"
   },
   {
    "duration": 11,
    "start_time": "2022-04-11T14:52:29.738Z"
   },
   {
    "duration": 9,
    "start_time": "2022-04-11T14:52:30.426Z"
   },
   {
    "duration": 4,
    "start_time": "2022-04-11T14:52:58.273Z"
   },
   {
    "duration": 21,
    "start_time": "2022-04-11T14:53:18.233Z"
   },
   {
    "duration": 14,
    "start_time": "2022-04-11T14:53:19.386Z"
   },
   {
    "duration": 23,
    "start_time": "2022-04-11T14:53:20.714Z"
   },
   {
    "duration": 15,
    "start_time": "2022-04-11T14:53:21.713Z"
   },
   {
    "duration": 10,
    "start_time": "2022-04-11T14:55:26.442Z"
   },
   {
    "duration": 5,
    "start_time": "2022-04-11T14:55:34.594Z"
   },
   {
    "duration": 7,
    "start_time": "2022-04-11T14:56:16.410Z"
   },
   {
    "duration": 6,
    "start_time": "2022-04-11T14:56:28.394Z"
   }
  ],
  "celltoolbar": "Отсутствует",
  "colab": {
   "collapsed_sections": [
    "E0vqbgi9ay0H",
    "VUC88oWjTJw2"
   ],
   "name": "yandex_music_project_2021.2.ipynb",
   "provenance": []
  },
  "kernelspec": {
   "display_name": "Python 3 (ipykernel)",
   "language": "python",
   "name": "python3"
  },
  "language_info": {
   "codemirror_mode": {
    "name": "ipython",
    "version": 3
   },
   "file_extension": ".py",
   "mimetype": "text/x-python",
   "name": "python",
   "nbconvert_exporter": "python",
   "pygments_lexer": "ipython3",
   "version": "3.9.5"
  },
  "toc": {
   "base_numbering": 1,
   "nav_menu": {
    "height": "52px",
    "width": "160px"
   },
   "number_sections": false,
   "sideBar": true,
   "skip_h1_title": false,
   "title_cell": "Table of Contents",
   "title_sidebar": "Contents",
   "toc_cell": false,
   "toc_position": {
    "height": "calc(100% - 180px)",
    "left": "10px",
    "top": "150px",
    "width": "331.391px"
   },
   "toc_section_display": true,
   "toc_window_display": true
  }
 },
 "nbformat": 4,
 "nbformat_minor": 1
}
