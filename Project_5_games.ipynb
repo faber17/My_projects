{
 "cells": [
  {
   "cell_type": "markdown",
   "metadata": {},
   "source": [
    "## Описание проекта"
   ]
  },
  {
   "cell_type": "markdown",
   "metadata": {},
   "source": [
    "Я работаю в интернет-магазине «Стримчик», который продаёт по всему миру\n",
    "компьютерные игры. Из открытых источников доступны исторические данные о\n",
    "продажах игр, оценки пользователей и экспертов, жанры и платформы\n",
    "(например, Xboxили PlayStation). Мне нужно выявить определяющие успешность\n",
    "игры закономерности. Это позволит сделать ставку на потенциально популярный\n",
    "продукт и спланировать рекламные кампании.\n",
    "Мне доступны данные до 2016 года. Представлю, что сейчас декабрь 2016 г., и я\n",
    "планирую кампанию на 2017-й. Нужно отработать принцип работы с данными."
   ]
  },
  {
   "cell_type": "markdown",
   "metadata": {},
   "source": [
    "### Инструкция по выполнению проекта"
   ]
  },
  {
   "cell_type": "markdown",
   "metadata": {},
   "source": [
    "Шаг 1. Открыть файл с данными и изучить общую информацию\n",
    "<br>\n",
    "Путь к файлу: /datasets/games.csv\n",
    "\n",
    "Шаг 2. Подготовить данные:\n",
    "- Заменить названия столбцов (приведите к нижнему регистру);\n",
    "- Преобразовать данные в нужные типы. Описать, в каких столбцах заменили тип данных и почему;\n",
    "- Обработать пропуски при необходимости;\n",
    "- Объяснить, почему заполнил пропуски определённым образом или почему не стал это делать;\n",
    "- Описать причины, которые могли привести к пропускам;\n",
    "- Обратить внимание на аббревиатуру 'tbd' в столбце с оценкой пользователей. Отдельно разобрать это значение и описать, как его обработать;\n",
    "- Посчитать суммарные продажи во всех регионах и записать их в отдельный столбец.\n",
    "\n",
    "Шаг 3. Провести исследовательский анализ данных\n",
    "- Посмотреть, сколько игр выпускалось в разные годы. Важны ли данные за все периоды?\n",
    "- Посмотреть, как менялись продажи по платформам. Выбрать платформы с наибольшими суммарными продажами и построить распределение по годам.\n",
    "- За какой характерный срок появляются новые и исчезают старые платформы?\n",
    "- Взять данные за соответствующий актуальный период. Актуальный период определить самостоятельно в результате исследования предыдущих вопросов. Основной фактор — эти данные помогут построить прогноз на 2017 год.\n",
    "- Не учитывать в работе данные за предыдущие годы.\n",
    "- Какие платформы лидируют по продажам, растут или падают? Выбрать несколько потенциально прибыльных платформ.\n",
    "- Построить график «ящик с усами» по глобальным продажам игр в разбивке по платформам. Описать результат.\n",
    "- Посмотреть, как влияют на продажи внутри одной популярной платформы отзывы пользователей и критиков. Построить диаграмму рассеяния и посчитать корреляцию между отзывами и продажами. Сформулировать выводы. Соотнести выводы с продажами игр на других платформах.\n",
    "- Посмотреть на общее распределение игр по жанрам. Что можно сказать о самых прибыльных жанрах? Выделяются ли жанры с высокими и низкими продажами?\n",
    "\n",
    "Шаг 4. Составить портрет пользователя каждого региона\n",
    "<br>\n",
    "Определить для пользователя каждого региона (NA, EU, JP):\n",
    "- Самые популярные платформы (топ-5). Описать различия в долях продаж.\n",
    "- Самые популярные жанры (топ-5). Пояснить разницу.\n",
    "- Влияет ли рейтинг ESRB на продажи в отдельном регионе?\n",
    "\n",
    "Шаг 5. Проверить гипотезы\n",
    "- Средние пользовательские рейтинги платформ Xbox One и PC одинаковые;\n",
    "- Средние пользовательские рейтинги жанров Action (англ. «действие», экшен-игры) и Sports (англ. «спортивные соревнования») разные.\n",
    "- Задать самостоятельно пороговое значение alpha.\n",
    "<br>\n",
    "Пояснить:\n",
    "<br>\n",
    "- Как сформулировал нулевую и альтернативную гипотезы;\n",
    "- Какой критерий применил для проверки гипотез и почему.\n",
    "\n",
    "Шаг 6. Написать общий вывод"
   ]
  },
  {
   "cell_type": "markdown",
   "metadata": {},
   "source": [
    "### Описание данных"
   ]
  },
  {
   "cell_type": "markdown",
   "metadata": {},
   "source": [
    "Описание данных:\n",
    "- Name — название игры\n",
    "- Platform — платформа\n",
    "- Year_of_Release — год выпуска\n",
    "- Genre — жанр игры\n",
    "- NA_sales — продажи в Северной Америке (миллионы проданных копий)\n",
    "- EU_sales — продажи в Европе (миллионы проданных копий)\n",
    "- JP_sales — продажи в Японии (миллионы проданных копий)\n",
    "- Other_sales — продажи в других странах (миллионы проданных копий)\n",
    "- Critic_Score — оценка критиков (максимум 100)\n",
    "- User_Score — оценка пользователей (максимум 10)\n",
    "- Rating — рейтинг от организации ESRB (англ. Entertainment Software RatingBoard). Эта ассоциация определяет рейтинг компьютерных игр и присваивает им подходящую возрастную категорию.\n",
    "- Данные за 2016 год могут быть неполными."
   ]
  },
  {
   "cell_type": "markdown",
   "metadata": {},
   "source": [
    "## Шаг 1. Откройте файл с данными и изучите общую информацию"
   ]
  },
  {
   "cell_type": "code",
   "execution_count": 55,
   "metadata": {},
   "outputs": [],
   "source": [
    "#импортирую необходимые библиотеки\n",
    "import pandas as pd\n",
    "import math\n",
    "import matplotlib.pyplot as plt\n",
    "from scipy import stats as st\n",
    "import numpy as np\n",
    "import seaborn as sns\n",
    "import statsmodels.api as sm"
   ]
  },
  {
   "cell_type": "markdown",
   "metadata": {},
   "source": [
    "Открою файл с данными."
   ]
  },
  {
   "cell_type": "code",
   "execution_count": 2,
   "metadata": {},
   "outputs": [
    {
     "data": {
      "text/html": [
       "<div>\n",
       "<style scoped>\n",
       "    .dataframe tbody tr th:only-of-type {\n",
       "        vertical-align: middle;\n",
       "    }\n",
       "\n",
       "    .dataframe tbody tr th {\n",
       "        vertical-align: top;\n",
       "    }\n",
       "\n",
       "    .dataframe thead th {\n",
       "        text-align: right;\n",
       "    }\n",
       "</style>\n",
       "<table border=\"1\" class=\"dataframe\">\n",
       "  <thead>\n",
       "    <tr style=\"text-align: right;\">\n",
       "      <th></th>\n",
       "      <th>Name</th>\n",
       "      <th>Platform</th>\n",
       "      <th>Year_of_Release</th>\n",
       "      <th>Genre</th>\n",
       "      <th>NA_sales</th>\n",
       "      <th>EU_sales</th>\n",
       "      <th>JP_sales</th>\n",
       "      <th>Other_sales</th>\n",
       "      <th>Critic_Score</th>\n",
       "      <th>User_Score</th>\n",
       "      <th>Rating</th>\n",
       "    </tr>\n",
       "  </thead>\n",
       "  <tbody>\n",
       "    <tr>\n",
       "      <th>0</th>\n",
       "      <td>Wii Sports</td>\n",
       "      <td>Wii</td>\n",
       "      <td>2006.0</td>\n",
       "      <td>Sports</td>\n",
       "      <td>41.36</td>\n",
       "      <td>28.96</td>\n",
       "      <td>3.77</td>\n",
       "      <td>8.45</td>\n",
       "      <td>76.0</td>\n",
       "      <td>8</td>\n",
       "      <td>E</td>\n",
       "    </tr>\n",
       "    <tr>\n",
       "      <th>1</th>\n",
       "      <td>Super Mario Bros.</td>\n",
       "      <td>NES</td>\n",
       "      <td>1985.0</td>\n",
       "      <td>Platform</td>\n",
       "      <td>29.08</td>\n",
       "      <td>3.58</td>\n",
       "      <td>6.81</td>\n",
       "      <td>0.77</td>\n",
       "      <td>NaN</td>\n",
       "      <td>NaN</td>\n",
       "      <td>NaN</td>\n",
       "    </tr>\n",
       "    <tr>\n",
       "      <th>2</th>\n",
       "      <td>Mario Kart Wii</td>\n",
       "      <td>Wii</td>\n",
       "      <td>2008.0</td>\n",
       "      <td>Racing</td>\n",
       "      <td>15.68</td>\n",
       "      <td>12.76</td>\n",
       "      <td>3.79</td>\n",
       "      <td>3.29</td>\n",
       "      <td>82.0</td>\n",
       "      <td>8.3</td>\n",
       "      <td>E</td>\n",
       "    </tr>\n",
       "    <tr>\n",
       "      <th>3</th>\n",
       "      <td>Wii Sports Resort</td>\n",
       "      <td>Wii</td>\n",
       "      <td>2009.0</td>\n",
       "      <td>Sports</td>\n",
       "      <td>15.61</td>\n",
       "      <td>10.93</td>\n",
       "      <td>3.28</td>\n",
       "      <td>2.95</td>\n",
       "      <td>80.0</td>\n",
       "      <td>8</td>\n",
       "      <td>E</td>\n",
       "    </tr>\n",
       "    <tr>\n",
       "      <th>4</th>\n",
       "      <td>Pokemon Red/Pokemon Blue</td>\n",
       "      <td>GB</td>\n",
       "      <td>1996.0</td>\n",
       "      <td>Role-Playing</td>\n",
       "      <td>11.27</td>\n",
       "      <td>8.89</td>\n",
       "      <td>10.22</td>\n",
       "      <td>1.00</td>\n",
       "      <td>NaN</td>\n",
       "      <td>NaN</td>\n",
       "      <td>NaN</td>\n",
       "    </tr>\n",
       "    <tr>\n",
       "      <th>5</th>\n",
       "      <td>Tetris</td>\n",
       "      <td>GB</td>\n",
       "      <td>1989.0</td>\n",
       "      <td>Puzzle</td>\n",
       "      <td>23.20</td>\n",
       "      <td>2.26</td>\n",
       "      <td>4.22</td>\n",
       "      <td>0.58</td>\n",
       "      <td>NaN</td>\n",
       "      <td>NaN</td>\n",
       "      <td>NaN</td>\n",
       "    </tr>\n",
       "    <tr>\n",
       "      <th>6</th>\n",
       "      <td>New Super Mario Bros.</td>\n",
       "      <td>DS</td>\n",
       "      <td>2006.0</td>\n",
       "      <td>Platform</td>\n",
       "      <td>11.28</td>\n",
       "      <td>9.14</td>\n",
       "      <td>6.50</td>\n",
       "      <td>2.88</td>\n",
       "      <td>89.0</td>\n",
       "      <td>8.5</td>\n",
       "      <td>E</td>\n",
       "    </tr>\n",
       "    <tr>\n",
       "      <th>7</th>\n",
       "      <td>Wii Play</td>\n",
       "      <td>Wii</td>\n",
       "      <td>2006.0</td>\n",
       "      <td>Misc</td>\n",
       "      <td>13.96</td>\n",
       "      <td>9.18</td>\n",
       "      <td>2.93</td>\n",
       "      <td>2.84</td>\n",
       "      <td>58.0</td>\n",
       "      <td>6.6</td>\n",
       "      <td>E</td>\n",
       "    </tr>\n",
       "    <tr>\n",
       "      <th>8</th>\n",
       "      <td>New Super Mario Bros. Wii</td>\n",
       "      <td>Wii</td>\n",
       "      <td>2009.0</td>\n",
       "      <td>Platform</td>\n",
       "      <td>14.44</td>\n",
       "      <td>6.94</td>\n",
       "      <td>4.70</td>\n",
       "      <td>2.24</td>\n",
       "      <td>87.0</td>\n",
       "      <td>8.4</td>\n",
       "      <td>E</td>\n",
       "    </tr>\n",
       "    <tr>\n",
       "      <th>9</th>\n",
       "      <td>Duck Hunt</td>\n",
       "      <td>NES</td>\n",
       "      <td>1984.0</td>\n",
       "      <td>Shooter</td>\n",
       "      <td>26.93</td>\n",
       "      <td>0.63</td>\n",
       "      <td>0.28</td>\n",
       "      <td>0.47</td>\n",
       "      <td>NaN</td>\n",
       "      <td>NaN</td>\n",
       "      <td>NaN</td>\n",
       "    </tr>\n",
       "  </tbody>\n",
       "</table>\n",
       "</div>"
      ],
      "text/plain": [
       "                        Name Platform  Year_of_Release         Genre  \\\n",
       "0                 Wii Sports      Wii           2006.0        Sports   \n",
       "1          Super Mario Bros.      NES           1985.0      Platform   \n",
       "2             Mario Kart Wii      Wii           2008.0        Racing   \n",
       "3          Wii Sports Resort      Wii           2009.0        Sports   \n",
       "4   Pokemon Red/Pokemon Blue       GB           1996.0  Role-Playing   \n",
       "5                     Tetris       GB           1989.0        Puzzle   \n",
       "6      New Super Mario Bros.       DS           2006.0      Platform   \n",
       "7                   Wii Play      Wii           2006.0          Misc   \n",
       "8  New Super Mario Bros. Wii      Wii           2009.0      Platform   \n",
       "9                  Duck Hunt      NES           1984.0       Shooter   \n",
       "\n",
       "   NA_sales  EU_sales  JP_sales  Other_sales  Critic_Score User_Score Rating  \n",
       "0     41.36     28.96      3.77         8.45          76.0          8      E  \n",
       "1     29.08      3.58      6.81         0.77           NaN        NaN    NaN  \n",
       "2     15.68     12.76      3.79         3.29          82.0        8.3      E  \n",
       "3     15.61     10.93      3.28         2.95          80.0          8      E  \n",
       "4     11.27      8.89     10.22         1.00           NaN        NaN    NaN  \n",
       "5     23.20      2.26      4.22         0.58           NaN        NaN    NaN  \n",
       "6     11.28      9.14      6.50         2.88          89.0        8.5      E  \n",
       "7     13.96      9.18      2.93         2.84          58.0        6.6      E  \n",
       "8     14.44      6.94      4.70         2.24          87.0        8.4      E  \n",
       "9     26.93      0.63      0.28         0.47           NaN        NaN    NaN  "
      ]
     },
     "metadata": {},
     "output_type": "display_data"
    }
   ],
   "source": [
    "try:  \n",
    "    games = pd.read_csv('C:/project/games.csv')\n",
    "except OSError as e:\n",
    "    games = pd.read_csv('/datasets/games.csv')\n",
    "display(games.head(10))"
   ]
  },
  {
   "cell_type": "markdown",
   "metadata": {},
   "source": [
    "Проверю типы данных столбцов и общую информацию по таблице."
   ]
  },
  {
   "cell_type": "code",
   "execution_count": 3,
   "metadata": {},
   "outputs": [
    {
     "name": "stdout",
     "output_type": "stream",
     "text": [
      "<class 'pandas.core.frame.DataFrame'>\n",
      "RangeIndex: 16715 entries, 0 to 16714\n",
      "Data columns (total 11 columns):\n",
      " #   Column           Non-Null Count  Dtype  \n",
      "---  ------           --------------  -----  \n",
      " 0   Name             16713 non-null  object \n",
      " 1   Platform         16715 non-null  object \n",
      " 2   Year_of_Release  16446 non-null  float64\n",
      " 3   Genre            16713 non-null  object \n",
      " 4   NA_sales         16715 non-null  float64\n",
      " 5   EU_sales         16715 non-null  float64\n",
      " 6   JP_sales         16715 non-null  float64\n",
      " 7   Other_sales      16715 non-null  float64\n",
      " 8   Critic_Score     8137 non-null   float64\n",
      " 9   User_Score       10014 non-null  object \n",
      " 10  Rating           9949 non-null   object \n",
      "dtypes: float64(6), object(5)\n",
      "memory usage: 1.4+ MB\n"
     ]
    }
   ],
   "source": [
    "games.info()"
   ]
  },
  {
   "cell_type": "markdown",
   "metadata": {},
   "source": [
    "### Вывод по анализу имеющихся данных"
   ]
  },
  {
   "cell_type": "markdown",
   "metadata": {},
   "source": [
    "Данные представляют собой таблицу по продажам игр на разных консолях в разных регионах, а также рейтинг критиков и пользователей. Таблицу необходимо привести к виду, с котором можно будет проводить исследования и проверять гипотезы."
   ]
  },
  {
   "cell_type": "markdown",
   "metadata": {},
   "source": [
    "Таблица содержит следующие столбцы:\n",
    "- Name — название игры\n",
    "- Platform — наименование консоли, включая PC\n",
    "- Year_of_Release — год выпуска игры\n",
    "- Genre — жанр игры\n",
    "- NA_sales — продажи игры в Северной Америке\n",
    "- EU_sales — продажи игры в Европе\n",
    "- JP_sales — продажи игры в Японии\n",
    "- Other_sales — продажи игры в других странах\n",
    "- Critic_Score — оценка критиков\n",
    "- User_Score — оценка пользователей\n",
    "- Rating — рейтинг от организации ESRB\n",
    "<br>\n",
    "Часть столбцов имеет пропуски, также столбец User_Score имеет тип дпнных object с которым в дальнейшем будет неудобно работать."
   ]
  },
  {
   "cell_type": "markdown",
   "metadata": {},
   "source": [
    "## Шаг 2. Подготовка данных"
   ]
  },
  {
   "cell_type": "markdown",
   "metadata": {},
   "source": [
    "### Переименование столбцов"
   ]
  },
  {
   "cell_type": "markdown",
   "metadata": {},
   "source": [
    "Приведу наименования столбцов к нижнему регистру."
   ]
  },
  {
   "cell_type": "code",
   "execution_count": 4,
   "metadata": {},
   "outputs": [
    {
     "name": "stdout",
     "output_type": "stream",
     "text": [
      "<class 'pandas.core.frame.DataFrame'>\n",
      "RangeIndex: 16715 entries, 0 to 16714\n",
      "Data columns (total 11 columns):\n",
      " #   Column           Non-Null Count  Dtype  \n",
      "---  ------           --------------  -----  \n",
      " 0   name             16713 non-null  object \n",
      " 1   platform         16715 non-null  object \n",
      " 2   year_of_release  16446 non-null  float64\n",
      " 3   genre            16713 non-null  object \n",
      " 4   na_sales         16715 non-null  float64\n",
      " 5   eu_sales         16715 non-null  float64\n",
      " 6   jp_sales         16715 non-null  float64\n",
      " 7   other_sales      16715 non-null  float64\n",
      " 8   critic_score     8137 non-null   float64\n",
      " 9   user_score       10014 non-null  object \n",
      " 10  rating           9949 non-null   object \n",
      "dtypes: float64(6), object(5)\n",
      "memory usage: 1.4+ MB\n"
     ]
    }
   ],
   "source": [
    "games.columns = games.columns.str.lower()\n",
    "\n",
    "games.info()"
   ]
  },
  {
   "cell_type": "markdown",
   "metadata": {},
   "source": [
    "### Значения столбцов"
   ]
  },
  {
   "cell_type": "markdown",
   "metadata": {},
   "source": [
    "Выведу уникальные значения столбца 'name'."
   ]
  },
  {
   "cell_type": "code",
   "execution_count": 5,
   "metadata": {},
   "outputs": [
    {
     "data": {
      "text/plain": [
       "array([' Beyblade Burst', ' Fire Emblem Fates', \" Frozen: Olaf's Quest\",\n",
       "       ..., 'wwe Smackdown vs. Raw 2006', '¡Shin Chan Flipa en colores!',\n",
       "       nan], dtype=object)"
      ]
     },
     "metadata": {},
     "output_type": "display_data"
    },
    {
     "data": {
      "text/plain": [
       "2"
      ]
     },
     "metadata": {},
     "output_type": "display_data"
    }
   ],
   "source": [
    "display(games['name'].sort_values().unique())\n",
    "display(games['name'].isna().sum())"
   ]
  },
  {
   "cell_type": "markdown",
   "metadata": {},
   "source": [
    "В столбце присутствуеют NaN.\n",
    "<br>\n",
    "Выведу уникальные значения столбца 'platform'."
   ]
  },
  {
   "cell_type": "code",
   "execution_count": 6,
   "metadata": {},
   "outputs": [
    {
     "data": {
      "text/plain": [
       "array(['2600', '3DO', '3DS', 'DC', 'DS', 'GB', 'GBA', 'GC', 'GEN', 'GG',\n",
       "       'N64', 'NES', 'NG', 'PC', 'PCFX', 'PS', 'PS2', 'PS3', 'PS4', 'PSP',\n",
       "       'PSV', 'SAT', 'SCD', 'SNES', 'TG16', 'WS', 'Wii', 'WiiU', 'X360',\n",
       "       'XB', 'XOne'], dtype=object)"
      ]
     },
     "metadata": {},
     "output_type": "display_data"
    }
   ],
   "source": [
    "display(games['platform'].sort_values().unique())"
   ]
  },
  {
   "cell_type": "markdown",
   "metadata": {},
   "source": [
    "Значения в порядке.\n",
    "<br>\n",
    "Выведу уникальные значения столбца 'year_of_release'."
   ]
  },
  {
   "cell_type": "code",
   "execution_count": 7,
   "metadata": {},
   "outputs": [
    {
     "data": {
      "text/plain": [
       "array([1980., 1981., 1982., 1983., 1984., 1985., 1986., 1987., 1988.,\n",
       "       1989., 1990., 1991., 1992., 1993., 1994., 1995., 1996., 1997.,\n",
       "       1998., 1999., 2000., 2001., 2002., 2003., 2004., 2005., 2006.,\n",
       "       2007., 2008., 2009., 2010., 2011., 2012., 2013., 2014., 2015.,\n",
       "       2016.,   nan])"
      ]
     },
     "metadata": {},
     "output_type": "display_data"
    },
    {
     "data": {
      "text/plain": [
       "269"
      ]
     },
     "metadata": {},
     "output_type": "display_data"
    }
   ],
   "source": [
    "display(games['year_of_release'].sort_values().unique())\n",
    "display(games['year_of_release'].isna().sum())"
   ]
  },
  {
   "cell_type": "markdown",
   "metadata": {},
   "source": [
    "В столбце присутствуеют NaN.\n",
    "<br>\n",
    "Выведу уникальные значения столбца 'genre'."
   ]
  },
  {
   "cell_type": "code",
   "execution_count": 8,
   "metadata": {},
   "outputs": [
    {
     "data": {
      "text/plain": [
       "array(['Action', 'Adventure', 'Fighting', 'Misc', 'Platform', 'Puzzle',\n",
       "       'Racing', 'Role-Playing', 'Shooter', 'Simulation', 'Sports',\n",
       "       'Strategy', nan], dtype=object)"
      ]
     },
     "metadata": {},
     "output_type": "display_data"
    },
    {
     "data": {
      "text/plain": [
       "2"
      ]
     },
     "metadata": {},
     "output_type": "display_data"
    }
   ],
   "source": [
    "display(games['genre'].sort_values().unique())\n",
    "display(games['genre'].isna().sum())"
   ]
  },
  {
   "cell_type": "markdown",
   "metadata": {},
   "source": [
    "В столбце присутствуеют NaN.\n",
    "<br>\n",
    "Проверю столбцы 'na_sales', 'eu_sales', 'jp_sales', 'other_sales' на наличие выбивающихся значений."
   ]
  },
  {
   "cell_type": "code",
   "execution_count": 9,
   "metadata": {},
   "outputs": [
    {
     "data": {
      "text/plain": [
       "count    16715.000000\n",
       "mean         0.263377\n",
       "std          0.813604\n",
       "min          0.000000\n",
       "25%          0.000000\n",
       "50%          0.080000\n",
       "75%          0.240000\n",
       "max         41.360000\n",
       "Name: na_sales, dtype: float64"
      ]
     },
     "execution_count": 9,
     "metadata": {},
     "output_type": "execute_result"
    }
   ],
   "source": [
    "games['na_sales'].describe()"
   ]
  },
  {
   "cell_type": "code",
   "execution_count": 10,
   "metadata": {},
   "outputs": [
    {
     "data": {
      "text/plain": [
       "count    16715.000000\n",
       "mean         0.145060\n",
       "std          0.503339\n",
       "min          0.000000\n",
       "25%          0.000000\n",
       "50%          0.020000\n",
       "75%          0.110000\n",
       "max         28.960000\n",
       "Name: eu_sales, dtype: float64"
      ]
     },
     "execution_count": 10,
     "metadata": {},
     "output_type": "execute_result"
    }
   ],
   "source": [
    "games['eu_sales'].describe()"
   ]
  },
  {
   "cell_type": "code",
   "execution_count": 11,
   "metadata": {},
   "outputs": [
    {
     "data": {
      "text/plain": [
       "count    16715.000000\n",
       "mean         0.077617\n",
       "std          0.308853\n",
       "min          0.000000\n",
       "25%          0.000000\n",
       "50%          0.000000\n",
       "75%          0.040000\n",
       "max         10.220000\n",
       "Name: jp_sales, dtype: float64"
      ]
     },
     "execution_count": 11,
     "metadata": {},
     "output_type": "execute_result"
    }
   ],
   "source": [
    "games['jp_sales'].describe()"
   ]
  },
  {
   "cell_type": "code",
   "execution_count": 12,
   "metadata": {},
   "outputs": [
    {
     "data": {
      "text/plain": [
       "count    16715.000000\n",
       "mean         0.047342\n",
       "std          0.186731\n",
       "min          0.000000\n",
       "25%          0.000000\n",
       "50%          0.010000\n",
       "75%          0.030000\n",
       "max         10.570000\n",
       "Name: other_sales, dtype: float64"
      ]
     },
     "execution_count": 12,
     "metadata": {},
     "output_type": "execute_result"
    }
   ],
   "source": [
    "games['other_sales'].describe()"
   ]
  },
  {
   "cell_type": "markdown",
   "metadata": {},
   "source": [
    "В столбцах есть нули, слишком больших значений нет.\n",
    "<br>\n",
    "Выведу уникальные значения столбца 'critic_score'."
   ]
  },
  {
   "cell_type": "code",
   "execution_count": 13,
   "metadata": {},
   "outputs": [
    {
     "data": {
      "text/plain": [
       "array([13., 17., 19., 20., 21., 22., 23., 24., 25., 26., 27., 28., 29.,\n",
       "       30., 31., 32., 33., 34., 35., 36., 37., 38., 39., 40., 41., 42.,\n",
       "       43., 44., 45., 46., 47., 48., 49., 50., 51., 52., 53., 54., 55.,\n",
       "       56., 57., 58., 59., 60., 61., 62., 63., 64., 65., 66., 67., 68.,\n",
       "       69., 70., 71., 72., 73., 74., 75., 76., 77., 78., 79., 80., 81.,\n",
       "       82., 83., 84., 85., 86., 87., 88., 89., 90., 91., 92., 93., 94.,\n",
       "       95., 96., 97., 98., nan])"
      ]
     },
     "metadata": {},
     "output_type": "display_data"
    },
    {
     "data": {
      "text/plain": [
       "8578"
      ]
     },
     "metadata": {},
     "output_type": "display_data"
    }
   ],
   "source": [
    "display(games['critic_score'].sort_values().unique())\n",
    "display(games['critic_score'].isna().sum())"
   ]
  },
  {
   "cell_type": "markdown",
   "metadata": {},
   "source": [
    "В столбце присутствует большое количество NaN.\n",
    "<br>\n",
    "Выведу уникальные значения столбца 'user_score'."
   ]
  },
  {
   "cell_type": "code",
   "execution_count": 14,
   "metadata": {},
   "outputs": [
    {
     "data": {
      "text/plain": [
       "array(['0', '0.2', '0.3', '0.5', '0.6', '0.7', '0.9', '1', '1.1', '1.2',\n",
       "       '1.3', '1.4', '1.5', '1.6', '1.7', '1.8', '1.9', '2', '2.1', '2.2',\n",
       "       '2.3', '2.4', '2.5', '2.6', '2.7', '2.8', '2.9', '3', '3.1', '3.2',\n",
       "       '3.3', '3.4', '3.5', '3.6', '3.7', '3.8', '3.9', '4', '4.1', '4.2',\n",
       "       '4.3', '4.4', '4.5', '4.6', '4.7', '4.8', '4.9', '5', '5.1', '5.2',\n",
       "       '5.3', '5.4', '5.5', '5.6', '5.7', '5.8', '5.9', '6', '6.1', '6.2',\n",
       "       '6.3', '6.4', '6.5', '6.6', '6.7', '6.8', '6.9', '7', '7.1', '7.2',\n",
       "       '7.3', '7.4', '7.5', '7.6', '7.7', '7.8', '7.9', '8', '8.1', '8.2',\n",
       "       '8.3', '8.4', '8.5', '8.6', '8.7', '8.8', '8.9', '9', '9.1', '9.2',\n",
       "       '9.3', '9.4', '9.5', '9.6', '9.7', 'tbd', nan], dtype=object)"
      ]
     },
     "metadata": {},
     "output_type": "display_data"
    },
    {
     "data": {
      "text/plain": [
       "6701"
      ]
     },
     "metadata": {},
     "output_type": "display_data"
    }
   ],
   "source": [
    "display(games['user_score'].sort_values().unique())\n",
    "display(games['user_score'].isna().sum())"
   ]
  },
  {
   "cell_type": "markdown",
   "metadata": {},
   "source": [
    "В столбце присутствует большое количество NaN, также имеется значение 'tbd'.\n",
    "<br>\n",
    "Выведу уникальные значения столбца 'rating'."
   ]
  },
  {
   "cell_type": "code",
   "execution_count": 15,
   "metadata": {},
   "outputs": [
    {
     "data": {
      "text/plain": [
       "array(['AO', 'E', 'E10+', 'EC', 'K-A', 'M', 'RP', 'T', nan], dtype=object)"
      ]
     },
     "metadata": {},
     "output_type": "display_data"
    },
    {
     "data": {
      "text/plain": [
       "6766"
      ]
     },
     "metadata": {},
     "output_type": "display_data"
    }
   ],
   "source": [
    "display(games['rating'].sort_values().unique())\n",
    "display(games['rating'].isna().sum())"
   ]
  },
  {
   "cell_type": "markdown",
   "metadata": {},
   "source": [
    "В столбце присутствует большое количество NaN."
   ]
  },
  {
   "cell_type": "markdown",
   "metadata": {},
   "source": [
    "### Вывод по данным в столбцах"
   ]
  },
  {
   "cell_type": "markdown",
   "metadata": {},
   "source": [
    "В ходе анализа данных столбцов выявленно следующе:\n",
    "\n",
    "- name — столбец имеет два NaN. данные значения можно исключить из таблицы.\n",
    "- platform — со столбцом все в порядке.\n",
    "- year_of_release — в столбце присутствуют NaN, также тип данных float64.\n",
    "- genre — столбец имеет два NaN. данные значения можно исключить из таблицы.\n",
    "- na_sales — имеются нули, что говорит о том, что игра не продавалась в данном регионе.\n",
    "- eu_sales — имеются нули, что говорит о том, что игра не продавалась в данном регионе.\n",
    "- jp_sales — имеются нули, что говорит о том, что игра не продавалась в данном регионе.\n",
    "- other_sales — имеются нули, что говорит о том, что игра не продавалась в данном регионе.\n",
    "- critic_score — имеются NaN, также тип данных float64.\n",
    "- user_score — имеются NaN, также имеется значение 'tbd'. Тип данных столбца object.\n",
    "- rating — имеются NaN."
   ]
  },
  {
   "cell_type": "markdown",
   "metadata": {},
   "source": [
    "### Замена пропусков в столбцах, изменение типа данных, удаление дубликатов, добавление столбца с общими продажами"
   ]
  },
  {
   "cell_type": "markdown",
   "metadata": {},
   "source": [
    "Проведу замену пропусков там где это возможно или целесообразно."
   ]
  },
  {
   "cell_type": "markdown",
   "metadata": {},
   "source": [
    "Выведу строки с NaN в столбцах 'name' и 'genre'."
   ]
  },
  {
   "cell_type": "code",
   "execution_count": 16,
   "metadata": {},
   "outputs": [
    {
     "data": {
      "text/html": [
       "<div>\n",
       "<style scoped>\n",
       "    .dataframe tbody tr th:only-of-type {\n",
       "        vertical-align: middle;\n",
       "    }\n",
       "\n",
       "    .dataframe tbody tr th {\n",
       "        vertical-align: top;\n",
       "    }\n",
       "\n",
       "    .dataframe thead th {\n",
       "        text-align: right;\n",
       "    }\n",
       "</style>\n",
       "<table border=\"1\" class=\"dataframe\">\n",
       "  <thead>\n",
       "    <tr style=\"text-align: right;\">\n",
       "      <th></th>\n",
       "      <th>name</th>\n",
       "      <th>platform</th>\n",
       "      <th>year_of_release</th>\n",
       "      <th>genre</th>\n",
       "      <th>na_sales</th>\n",
       "      <th>eu_sales</th>\n",
       "      <th>jp_sales</th>\n",
       "      <th>other_sales</th>\n",
       "      <th>critic_score</th>\n",
       "      <th>user_score</th>\n",
       "      <th>rating</th>\n",
       "    </tr>\n",
       "  </thead>\n",
       "  <tbody>\n",
       "    <tr>\n",
       "      <th>659</th>\n",
       "      <td>NaN</td>\n",
       "      <td>GEN</td>\n",
       "      <td>1993.0</td>\n",
       "      <td>NaN</td>\n",
       "      <td>1.78</td>\n",
       "      <td>0.53</td>\n",
       "      <td>0.00</td>\n",
       "      <td>0.08</td>\n",
       "      <td>NaN</td>\n",
       "      <td>NaN</td>\n",
       "      <td>NaN</td>\n",
       "    </tr>\n",
       "    <tr>\n",
       "      <th>14244</th>\n",
       "      <td>NaN</td>\n",
       "      <td>GEN</td>\n",
       "      <td>1993.0</td>\n",
       "      <td>NaN</td>\n",
       "      <td>0.00</td>\n",
       "      <td>0.00</td>\n",
       "      <td>0.03</td>\n",
       "      <td>0.00</td>\n",
       "      <td>NaN</td>\n",
       "      <td>NaN</td>\n",
       "      <td>NaN</td>\n",
       "    </tr>\n",
       "  </tbody>\n",
       "</table>\n",
       "</div>"
      ],
      "text/plain": [
       "      name platform  year_of_release genre  na_sales  eu_sales  jp_sales  \\\n",
       "659    NaN      GEN           1993.0   NaN      1.78      0.53      0.00   \n",
       "14244  NaN      GEN           1993.0   NaN      0.00      0.00      0.03   \n",
       "\n",
       "       other_sales  critic_score user_score rating  \n",
       "659           0.08           NaN        NaN    NaN  \n",
       "14244         0.00           NaN        NaN    NaN  "
      ]
     },
     "metadata": {},
     "output_type": "display_data"
    },
    {
     "data": {
      "text/html": [
       "<div>\n",
       "<style scoped>\n",
       "    .dataframe tbody tr th:only-of-type {\n",
       "        vertical-align: middle;\n",
       "    }\n",
       "\n",
       "    .dataframe tbody tr th {\n",
       "        vertical-align: top;\n",
       "    }\n",
       "\n",
       "    .dataframe thead th {\n",
       "        text-align: right;\n",
       "    }\n",
       "</style>\n",
       "<table border=\"1\" class=\"dataframe\">\n",
       "  <thead>\n",
       "    <tr style=\"text-align: right;\">\n",
       "      <th></th>\n",
       "      <th>name</th>\n",
       "      <th>platform</th>\n",
       "      <th>year_of_release</th>\n",
       "      <th>genre</th>\n",
       "      <th>na_sales</th>\n",
       "      <th>eu_sales</th>\n",
       "      <th>jp_sales</th>\n",
       "      <th>other_sales</th>\n",
       "      <th>critic_score</th>\n",
       "      <th>user_score</th>\n",
       "      <th>rating</th>\n",
       "    </tr>\n",
       "  </thead>\n",
       "  <tbody>\n",
       "    <tr>\n",
       "      <th>659</th>\n",
       "      <td>NaN</td>\n",
       "      <td>GEN</td>\n",
       "      <td>1993.0</td>\n",
       "      <td>NaN</td>\n",
       "      <td>1.78</td>\n",
       "      <td>0.53</td>\n",
       "      <td>0.00</td>\n",
       "      <td>0.08</td>\n",
       "      <td>NaN</td>\n",
       "      <td>NaN</td>\n",
       "      <td>NaN</td>\n",
       "    </tr>\n",
       "    <tr>\n",
       "      <th>14244</th>\n",
       "      <td>NaN</td>\n",
       "      <td>GEN</td>\n",
       "      <td>1993.0</td>\n",
       "      <td>NaN</td>\n",
       "      <td>0.00</td>\n",
       "      <td>0.00</td>\n",
       "      <td>0.03</td>\n",
       "      <td>0.00</td>\n",
       "      <td>NaN</td>\n",
       "      <td>NaN</td>\n",
       "      <td>NaN</td>\n",
       "    </tr>\n",
       "  </tbody>\n",
       "</table>\n",
       "</div>"
      ],
      "text/plain": [
       "      name platform  year_of_release genre  na_sales  eu_sales  jp_sales  \\\n",
       "659    NaN      GEN           1993.0   NaN      1.78      0.53      0.00   \n",
       "14244  NaN      GEN           1993.0   NaN      0.00      0.00      0.03   \n",
       "\n",
       "       other_sales  critic_score user_score rating  \n",
       "659           0.08           NaN        NaN    NaN  \n",
       "14244         0.00           NaN        NaN    NaN  "
      ]
     },
     "metadata": {},
     "output_type": "display_data"
    }
   ],
   "source": [
    "display(games[games['name'].isna()])\n",
    "display(games[games['genre'].isna()])"
   ]
  },
  {
   "cell_type": "markdown",
   "metadata": {},
   "source": [
    "Одни и те же строки. Восстановить значения невозможно, так что избавлюсь от этих строк."
   ]
  },
  {
   "cell_type": "code",
   "execution_count": 17,
   "metadata": {},
   "outputs": [
    {
     "name": "stdout",
     "output_type": "stream",
     "text": [
      "<class 'pandas.core.frame.DataFrame'>\n",
      "Int64Index: 16713 entries, 0 to 16714\n",
      "Data columns (total 11 columns):\n",
      " #   Column           Non-Null Count  Dtype  \n",
      "---  ------           --------------  -----  \n",
      " 0   name             16713 non-null  object \n",
      " 1   platform         16713 non-null  object \n",
      " 2   year_of_release  16444 non-null  float64\n",
      " 3   genre            16713 non-null  object \n",
      " 4   na_sales         16713 non-null  float64\n",
      " 5   eu_sales         16713 non-null  float64\n",
      " 6   jp_sales         16713 non-null  float64\n",
      " 7   other_sales      16713 non-null  float64\n",
      " 8   critic_score     8137 non-null   float64\n",
      " 9   user_score       10014 non-null  object \n",
      " 10  rating           9949 non-null   object \n",
      "dtypes: float64(6), object(5)\n",
      "memory usage: 1.5+ MB\n"
     ]
    }
   ],
   "source": [
    "games = games.drop(labels = [659,14244],axis = 0)\n",
    "games.info()"
   ]
  },
  {
   "cell_type": "markdown",
   "metadata": {},
   "source": [
    "Выведу строки с NaN в столбце 'year_of_release'. Также посмотрю какой процент данных имеет NaN в данном столбце."
   ]
  },
  {
   "cell_type": "code",
   "execution_count": 18,
   "metadata": {},
   "outputs": [
    {
     "data": {
      "text/html": [
       "<div>\n",
       "<style scoped>\n",
       "    .dataframe tbody tr th:only-of-type {\n",
       "        vertical-align: middle;\n",
       "    }\n",
       "\n",
       "    .dataframe tbody tr th {\n",
       "        vertical-align: top;\n",
       "    }\n",
       "\n",
       "    .dataframe thead th {\n",
       "        text-align: right;\n",
       "    }\n",
       "</style>\n",
       "<table border=\"1\" class=\"dataframe\">\n",
       "  <thead>\n",
       "    <tr style=\"text-align: right;\">\n",
       "      <th></th>\n",
       "      <th>name</th>\n",
       "      <th>platform</th>\n",
       "      <th>year_of_release</th>\n",
       "      <th>genre</th>\n",
       "      <th>na_sales</th>\n",
       "      <th>eu_sales</th>\n",
       "      <th>jp_sales</th>\n",
       "      <th>other_sales</th>\n",
       "      <th>critic_score</th>\n",
       "      <th>user_score</th>\n",
       "      <th>rating</th>\n",
       "    </tr>\n",
       "  </thead>\n",
       "  <tbody>\n",
       "    <tr>\n",
       "      <th>183</th>\n",
       "      <td>Madden NFL 2004</td>\n",
       "      <td>PS2</td>\n",
       "      <td>NaN</td>\n",
       "      <td>Sports</td>\n",
       "      <td>4.26</td>\n",
       "      <td>0.26</td>\n",
       "      <td>0.01</td>\n",
       "      <td>0.71</td>\n",
       "      <td>94.0</td>\n",
       "      <td>8.5</td>\n",
       "      <td>E</td>\n",
       "    </tr>\n",
       "    <tr>\n",
       "      <th>377</th>\n",
       "      <td>FIFA Soccer 2004</td>\n",
       "      <td>PS2</td>\n",
       "      <td>NaN</td>\n",
       "      <td>Sports</td>\n",
       "      <td>0.59</td>\n",
       "      <td>2.36</td>\n",
       "      <td>0.04</td>\n",
       "      <td>0.51</td>\n",
       "      <td>84.0</td>\n",
       "      <td>6.4</td>\n",
       "      <td>E</td>\n",
       "    </tr>\n",
       "    <tr>\n",
       "      <th>456</th>\n",
       "      <td>LEGO Batman: The Videogame</td>\n",
       "      <td>Wii</td>\n",
       "      <td>NaN</td>\n",
       "      <td>Action</td>\n",
       "      <td>1.80</td>\n",
       "      <td>0.97</td>\n",
       "      <td>0.00</td>\n",
       "      <td>0.29</td>\n",
       "      <td>74.0</td>\n",
       "      <td>7.9</td>\n",
       "      <td>E10+</td>\n",
       "    </tr>\n",
       "    <tr>\n",
       "      <th>475</th>\n",
       "      <td>wwe Smackdown vs. Raw 2006</td>\n",
       "      <td>PS2</td>\n",
       "      <td>NaN</td>\n",
       "      <td>Fighting</td>\n",
       "      <td>1.57</td>\n",
       "      <td>1.02</td>\n",
       "      <td>0.00</td>\n",
       "      <td>0.41</td>\n",
       "      <td>NaN</td>\n",
       "      <td>NaN</td>\n",
       "      <td>NaN</td>\n",
       "    </tr>\n",
       "    <tr>\n",
       "      <th>609</th>\n",
       "      <td>Space Invaders</td>\n",
       "      <td>2600</td>\n",
       "      <td>NaN</td>\n",
       "      <td>Shooter</td>\n",
       "      <td>2.36</td>\n",
       "      <td>0.14</td>\n",
       "      <td>0.00</td>\n",
       "      <td>0.03</td>\n",
       "      <td>NaN</td>\n",
       "      <td>NaN</td>\n",
       "      <td>NaN</td>\n",
       "    </tr>\n",
       "    <tr>\n",
       "      <th>...</th>\n",
       "      <td>...</td>\n",
       "      <td>...</td>\n",
       "      <td>...</td>\n",
       "      <td>...</td>\n",
       "      <td>...</td>\n",
       "      <td>...</td>\n",
       "      <td>...</td>\n",
       "      <td>...</td>\n",
       "      <td>...</td>\n",
       "      <td>...</td>\n",
       "      <td>...</td>\n",
       "    </tr>\n",
       "    <tr>\n",
       "      <th>16373</th>\n",
       "      <td>PDC World Championship Darts 2008</td>\n",
       "      <td>PSP</td>\n",
       "      <td>NaN</td>\n",
       "      <td>Sports</td>\n",
       "      <td>0.01</td>\n",
       "      <td>0.00</td>\n",
       "      <td>0.00</td>\n",
       "      <td>0.00</td>\n",
       "      <td>43.0</td>\n",
       "      <td>tbd</td>\n",
       "      <td>E10+</td>\n",
       "    </tr>\n",
       "    <tr>\n",
       "      <th>16405</th>\n",
       "      <td>Freaky Flyers</td>\n",
       "      <td>GC</td>\n",
       "      <td>NaN</td>\n",
       "      <td>Racing</td>\n",
       "      <td>0.01</td>\n",
       "      <td>0.00</td>\n",
       "      <td>0.00</td>\n",
       "      <td>0.00</td>\n",
       "      <td>69.0</td>\n",
       "      <td>6.5</td>\n",
       "      <td>T</td>\n",
       "    </tr>\n",
       "    <tr>\n",
       "      <th>16448</th>\n",
       "      <td>Inversion</td>\n",
       "      <td>PC</td>\n",
       "      <td>NaN</td>\n",
       "      <td>Shooter</td>\n",
       "      <td>0.01</td>\n",
       "      <td>0.00</td>\n",
       "      <td>0.00</td>\n",
       "      <td>0.00</td>\n",
       "      <td>59.0</td>\n",
       "      <td>6.7</td>\n",
       "      <td>M</td>\n",
       "    </tr>\n",
       "    <tr>\n",
       "      <th>16458</th>\n",
       "      <td>Hakuouki: Shinsengumi Kitan</td>\n",
       "      <td>PS3</td>\n",
       "      <td>NaN</td>\n",
       "      <td>Adventure</td>\n",
       "      <td>0.01</td>\n",
       "      <td>0.00</td>\n",
       "      <td>0.00</td>\n",
       "      <td>0.00</td>\n",
       "      <td>NaN</td>\n",
       "      <td>NaN</td>\n",
       "      <td>NaN</td>\n",
       "    </tr>\n",
       "    <tr>\n",
       "      <th>16522</th>\n",
       "      <td>Virtua Quest</td>\n",
       "      <td>GC</td>\n",
       "      <td>NaN</td>\n",
       "      <td>Role-Playing</td>\n",
       "      <td>0.01</td>\n",
       "      <td>0.00</td>\n",
       "      <td>0.00</td>\n",
       "      <td>0.00</td>\n",
       "      <td>55.0</td>\n",
       "      <td>5.5</td>\n",
       "      <td>T</td>\n",
       "    </tr>\n",
       "  </tbody>\n",
       "</table>\n",
       "<p>269 rows × 11 columns</p>\n",
       "</div>"
      ],
      "text/plain": [
       "                                    name platform  year_of_release  \\\n",
       "183                      Madden NFL 2004      PS2              NaN   \n",
       "377                     FIFA Soccer 2004      PS2              NaN   \n",
       "456           LEGO Batman: The Videogame      Wii              NaN   \n",
       "475           wwe Smackdown vs. Raw 2006      PS2              NaN   \n",
       "609                       Space Invaders     2600              NaN   \n",
       "...                                  ...      ...              ...   \n",
       "16373  PDC World Championship Darts 2008      PSP              NaN   \n",
       "16405                      Freaky Flyers       GC              NaN   \n",
       "16448                          Inversion       PC              NaN   \n",
       "16458        Hakuouki: Shinsengumi Kitan      PS3              NaN   \n",
       "16522                       Virtua Quest       GC              NaN   \n",
       "\n",
       "              genre  na_sales  eu_sales  jp_sales  other_sales  critic_score  \\\n",
       "183          Sports      4.26      0.26      0.01         0.71          94.0   \n",
       "377          Sports      0.59      2.36      0.04         0.51          84.0   \n",
       "456          Action      1.80      0.97      0.00         0.29          74.0   \n",
       "475        Fighting      1.57      1.02      0.00         0.41           NaN   \n",
       "609         Shooter      2.36      0.14      0.00         0.03           NaN   \n",
       "...             ...       ...       ...       ...          ...           ...   \n",
       "16373        Sports      0.01      0.00      0.00         0.00          43.0   \n",
       "16405        Racing      0.01      0.00      0.00         0.00          69.0   \n",
       "16448       Shooter      0.01      0.00      0.00         0.00          59.0   \n",
       "16458     Adventure      0.01      0.00      0.00         0.00           NaN   \n",
       "16522  Role-Playing      0.01      0.00      0.00         0.00          55.0   \n",
       "\n",
       "      user_score rating  \n",
       "183          8.5      E  \n",
       "377          6.4      E  \n",
       "456          7.9   E10+  \n",
       "475          NaN    NaN  \n",
       "609          NaN    NaN  \n",
       "...          ...    ...  \n",
       "16373        tbd   E10+  \n",
       "16405        6.5      T  \n",
       "16448        6.7      M  \n",
       "16458        NaN    NaN  \n",
       "16522        5.5      T  \n",
       "\n",
       "[269 rows x 11 columns]"
      ]
     },
     "metadata": {},
     "output_type": "display_data"
    },
    {
     "data": {
      "text/plain": [
       "1.6095255190570215"
      ]
     },
     "metadata": {},
     "output_type": "display_data"
    }
   ],
   "source": [
    "display(games[games['year_of_release'].isna()])\n",
    "display((games[games['year_of_release'].isna()].shape[0]/games['year_of_release'].shape[0])*100)"
   ]
  },
  {
   "cell_type": "markdown",
   "metadata": {},
   "source": [
    "Так как всего 1,6% данных имеет NaN в столбце 'year_of_release' считаю, что их можно удалить. Для строк с наименованием игр у которых в названии есть год возможно восстановить значение в столбце 'year_of_release', но необходимо проверить каждое наменование в ручную, так как год в наименовании может относится не к году выпуска игры. Вышеописанные действия нецелесообразно проводить по причине малого количества пропусков."
   ]
  },
  {
   "cell_type": "code",
   "execution_count": 19,
   "metadata": {},
   "outputs": [
    {
     "name": "stdout",
     "output_type": "stream",
     "text": [
      "<class 'pandas.core.frame.DataFrame'>\n",
      "Int64Index: 16444 entries, 0 to 16714\n",
      "Data columns (total 11 columns):\n",
      " #   Column           Non-Null Count  Dtype  \n",
      "---  ------           --------------  -----  \n",
      " 0   name             16444 non-null  object \n",
      " 1   platform         16444 non-null  object \n",
      " 2   year_of_release  16444 non-null  float64\n",
      " 3   genre            16444 non-null  object \n",
      " 4   na_sales         16444 non-null  float64\n",
      " 5   eu_sales         16444 non-null  float64\n",
      " 6   jp_sales         16444 non-null  float64\n",
      " 7   other_sales      16444 non-null  float64\n",
      " 8   critic_score     7983 non-null   float64\n",
      " 9   user_score       9839 non-null   object \n",
      " 10  rating           9768 non-null   object \n",
      "dtypes: float64(6), object(5)\n",
      "memory usage: 1.5+ MB\n"
     ]
    }
   ],
   "source": [
    "games = games[games['year_of_release'].notna()]\n",
    "games.info()"
   ]
  },
  {
   "cell_type": "markdown",
   "metadata": {},
   "source": [
    "Пропуски в столбцах critic_score и 'user_score' заполнить невозможно, так как каждая оценка индивидуальна. Заменю в столбце 'user_score' значение 'tbd' на NaN, так как tbd означает, что для данной игры ещё нет оценки по причине недостаточного количества оценок (скажем для формирования оценки от пользователей необходимо чтобы оценки проставили 100 пользователей)."
   ]
  },
  {
   "cell_type": "code",
   "execution_count": 20,
   "metadata": {},
   "outputs": [
    {
     "data": {
      "text/plain": [
       "array(['0', '0.2', '0.3', '0.5', '0.6', '0.7', '0.9', '1', '1.1', '1.2',\n",
       "       '1.3', '1.4', '1.5', '1.6', '1.7', '1.8', '1.9', '2', '2.1', '2.2',\n",
       "       '2.3', '2.4', '2.5', '2.6', '2.7', '2.8', '2.9', '3', '3.1', '3.2',\n",
       "       '3.3', '3.4', '3.5', '3.6', '3.7', '3.8', '3.9', '4', '4.1', '4.2',\n",
       "       '4.3', '4.4', '4.5', '4.6', '4.7', '4.8', '4.9', '5', '5.1', '5.2',\n",
       "       '5.3', '5.4', '5.5', '5.6', '5.7', '5.8', '5.9', '6', '6.1', '6.2',\n",
       "       '6.3', '6.4', '6.5', '6.6', '6.7', '6.8', '6.9', '7', '7.1', '7.2',\n",
       "       '7.3', '7.4', '7.5', '7.6', '7.7', '7.8', '7.9', '8', '8.1', '8.2',\n",
       "       '8.3', '8.4', '8.5', '8.6', '8.7', '8.8', '8.9', '9', '9.1', '9.2',\n",
       "       '9.3', '9.4', '9.5', '9.6', '9.7', nan], dtype=object)"
      ]
     },
     "metadata": {},
     "output_type": "display_data"
    }
   ],
   "source": [
    "games['user_score']=games['user_score'].replace({'tbd':np.NaN})\n",
    "display(games['user_score'].sort_values().unique())"
   ]
  },
  {
   "cell_type": "markdown",
   "metadata": {},
   "source": [
    "Заполню пропуски столбца 'rating' по самому популярному рейтингу для определенного жанра. Игры одно жанра чаще всего получают определенный рейтинг."
   ]
  },
  {
   "cell_type": "code",
   "execution_count": 21,
   "metadata": {},
   "outputs": [
    {
     "data": {
      "text/plain": [
       "0"
      ]
     },
     "metadata": {},
     "output_type": "display_data"
    }
   ],
   "source": [
    "games.loc[games[\"rating\"].isna(), \"rating\"] = games.loc[games[\"rating\"].isna(), \"genre\"].map(games.groupby(\"genre\")[\"rating\"].first())\n",
    "display(games['rating'].isna().sum())"
   ]
  },
  {
   "cell_type": "markdown",
   "metadata": {},
   "source": [
    "Заменю типы данных для удобства дальнейшей работы."
   ]
  },
  {
   "cell_type": "code",
   "execution_count": 22,
   "metadata": {},
   "outputs": [
    {
     "name": "stdout",
     "output_type": "stream",
     "text": [
      "<class 'pandas.core.frame.DataFrame'>\n",
      "Int64Index: 16444 entries, 0 to 16714\n",
      "Data columns (total 11 columns):\n",
      " #   Column           Non-Null Count  Dtype  \n",
      "---  ------           --------------  -----  \n",
      " 0   name             16444 non-null  object \n",
      " 1   platform         16444 non-null  object \n",
      " 2   year_of_release  16444 non-null  Int64  \n",
      " 3   genre            16444 non-null  object \n",
      " 4   na_sales         16444 non-null  float64\n",
      " 5   eu_sales         16444 non-null  float64\n",
      " 6   jp_sales         16444 non-null  float64\n",
      " 7   other_sales      16444 non-null  float64\n",
      " 8   critic_score     7983 non-null   Int64  \n",
      " 9   user_score       7463 non-null   float64\n",
      " 10  rating           16444 non-null  object \n",
      "dtypes: Int64(2), float64(5), object(4)\n",
      "memory usage: 1.5+ MB\n"
     ]
    }
   ],
   "source": [
    "games = games.astype({\"critic_score\": \"Int64\"})\n",
    "games = games.astype({\"year_of_release\": \"Int64\"})\n",
    "games = games.astype({\"user_score\": \"float64\"})\n",
    "games.info()"
   ]
  },
  {
   "cell_type": "markdown",
   "metadata": {},
   "source": [
    "Удалю дубликаты, если они есть."
   ]
  },
  {
   "cell_type": "code",
   "execution_count": 23,
   "metadata": {},
   "outputs": [
    {
     "name": "stdout",
     "output_type": "stream",
     "text": [
      "<class 'pandas.core.frame.DataFrame'>\n",
      "Int64Index: 16444 entries, 0 to 16714\n",
      "Data columns (total 11 columns):\n",
      " #   Column           Non-Null Count  Dtype  \n",
      "---  ------           --------------  -----  \n",
      " 0   name             16444 non-null  object \n",
      " 1   platform         16444 non-null  object \n",
      " 2   year_of_release  16444 non-null  Int64  \n",
      " 3   genre            16444 non-null  object \n",
      " 4   na_sales         16444 non-null  float64\n",
      " 5   eu_sales         16444 non-null  float64\n",
      " 6   jp_sales         16444 non-null  float64\n",
      " 7   other_sales      16444 non-null  float64\n",
      " 8   critic_score     7983 non-null   Int64  \n",
      " 9   user_score       7463 non-null   float64\n",
      " 10  rating           16444 non-null  object \n",
      "dtypes: Int64(2), float64(5), object(4)\n",
      "memory usage: 1.5+ MB\n"
     ]
    }
   ],
   "source": [
    "games.drop_duplicates()\n",
    "games.info()"
   ]
  },
  {
   "cell_type": "markdown",
   "metadata": {},
   "source": [
    "Добавлю столбец с общей суммой продаж игр."
   ]
  },
  {
   "cell_type": "code",
   "execution_count": 24,
   "metadata": {},
   "outputs": [
    {
     "data": {
      "text/html": [
       "<div>\n",
       "<style scoped>\n",
       "    .dataframe tbody tr th:only-of-type {\n",
       "        vertical-align: middle;\n",
       "    }\n",
       "\n",
       "    .dataframe tbody tr th {\n",
       "        vertical-align: top;\n",
       "    }\n",
       "\n",
       "    .dataframe thead th {\n",
       "        text-align: right;\n",
       "    }\n",
       "</style>\n",
       "<table border=\"1\" class=\"dataframe\">\n",
       "  <thead>\n",
       "    <tr style=\"text-align: right;\">\n",
       "      <th></th>\n",
       "      <th>name</th>\n",
       "      <th>platform</th>\n",
       "      <th>year_of_release</th>\n",
       "      <th>genre</th>\n",
       "      <th>na_sales</th>\n",
       "      <th>eu_sales</th>\n",
       "      <th>jp_sales</th>\n",
       "      <th>other_sales</th>\n",
       "      <th>critic_score</th>\n",
       "      <th>user_score</th>\n",
       "      <th>rating</th>\n",
       "      <th>all_sales</th>\n",
       "    </tr>\n",
       "  </thead>\n",
       "  <tbody>\n",
       "    <tr>\n",
       "      <th>0</th>\n",
       "      <td>Wii Sports</td>\n",
       "      <td>Wii</td>\n",
       "      <td>2006</td>\n",
       "      <td>Sports</td>\n",
       "      <td>41.36</td>\n",
       "      <td>28.96</td>\n",
       "      <td>3.77</td>\n",
       "      <td>8.45</td>\n",
       "      <td>76</td>\n",
       "      <td>8.0</td>\n",
       "      <td>E</td>\n",
       "      <td>82.54</td>\n",
       "    </tr>\n",
       "    <tr>\n",
       "      <th>1</th>\n",
       "      <td>Super Mario Bros.</td>\n",
       "      <td>NES</td>\n",
       "      <td>1985</td>\n",
       "      <td>Platform</td>\n",
       "      <td>29.08</td>\n",
       "      <td>3.58</td>\n",
       "      <td>6.81</td>\n",
       "      <td>0.77</td>\n",
       "      <td>&lt;NA&gt;</td>\n",
       "      <td>NaN</td>\n",
       "      <td>E</td>\n",
       "      <td>40.24</td>\n",
       "    </tr>\n",
       "    <tr>\n",
       "      <th>2</th>\n",
       "      <td>Mario Kart Wii</td>\n",
       "      <td>Wii</td>\n",
       "      <td>2008</td>\n",
       "      <td>Racing</td>\n",
       "      <td>15.68</td>\n",
       "      <td>12.76</td>\n",
       "      <td>3.79</td>\n",
       "      <td>3.29</td>\n",
       "      <td>82</td>\n",
       "      <td>8.3</td>\n",
       "      <td>E</td>\n",
       "      <td>35.52</td>\n",
       "    </tr>\n",
       "    <tr>\n",
       "      <th>3</th>\n",
       "      <td>Wii Sports Resort</td>\n",
       "      <td>Wii</td>\n",
       "      <td>2009</td>\n",
       "      <td>Sports</td>\n",
       "      <td>15.61</td>\n",
       "      <td>10.93</td>\n",
       "      <td>3.28</td>\n",
       "      <td>2.95</td>\n",
       "      <td>80</td>\n",
       "      <td>8.0</td>\n",
       "      <td>E</td>\n",
       "      <td>32.77</td>\n",
       "    </tr>\n",
       "    <tr>\n",
       "      <th>4</th>\n",
       "      <td>Pokemon Red/Pokemon Blue</td>\n",
       "      <td>GB</td>\n",
       "      <td>1996</td>\n",
       "      <td>Role-Playing</td>\n",
       "      <td>11.27</td>\n",
       "      <td>8.89</td>\n",
       "      <td>10.22</td>\n",
       "      <td>1.00</td>\n",
       "      <td>&lt;NA&gt;</td>\n",
       "      <td>NaN</td>\n",
       "      <td>T</td>\n",
       "      <td>31.38</td>\n",
       "    </tr>\n",
       "  </tbody>\n",
       "</table>\n",
       "</div>"
      ],
      "text/plain": [
       "                       name platform  year_of_release         genre  na_sales  \\\n",
       "0                Wii Sports      Wii             2006        Sports     41.36   \n",
       "1         Super Mario Bros.      NES             1985      Platform     29.08   \n",
       "2            Mario Kart Wii      Wii             2008        Racing     15.68   \n",
       "3         Wii Sports Resort      Wii             2009        Sports     15.61   \n",
       "4  Pokemon Red/Pokemon Blue       GB             1996  Role-Playing     11.27   \n",
       "\n",
       "   eu_sales  jp_sales  other_sales  critic_score  user_score rating  all_sales  \n",
       "0     28.96      3.77         8.45            76         8.0      E      82.54  \n",
       "1      3.58      6.81         0.77          <NA>         NaN      E      40.24  \n",
       "2     12.76      3.79         3.29            82         8.3      E      35.52  \n",
       "3     10.93      3.28         2.95            80         8.0      E      32.77  \n",
       "4      8.89     10.22         1.00          <NA>         NaN      T      31.38  "
      ]
     },
     "execution_count": 24,
     "metadata": {},
     "output_type": "execute_result"
    }
   ],
   "source": [
    "games['all_sales'] = (games['na_sales'] + games['eu_sales'] + games['jp_sales'] + games['other_sales'])\n",
    "games.head()"
   ]
  },
  {
   "cell_type": "markdown",
   "metadata": {},
   "source": [
    "### Вывод по подготовке данных"
   ]
  },
  {
   "cell_type": "markdown",
   "metadata": {},
   "source": [
    "Данные в столбцах приведены к виду, с которым возможно проводить анализ данных и проверять гипотезы. Также добавлен столбец с суммой продаж игр по всему миру."
   ]
  },
  {
   "cell_type": "markdown",
   "metadata": {},
   "source": [
    "## Шаг 3. Исследовательский анализ данных"
   ]
  },
  {
   "cell_type": "markdown",
   "metadata": {},
   "source": [
    "### Сколько игр выпускалось в разные годы. Важны ли данные за все периоды?"
   ]
  },
  {
   "cell_type": "markdown",
   "metadata": {},
   "source": [
    "Составлю таблицу с количеством игр по каждому году."
   ]
  },
  {
   "cell_type": "code",
   "execution_count": 25,
   "metadata": {},
   "outputs": [
    {
     "data": {
      "text/html": [
       "<div>\n",
       "<style scoped>\n",
       "    .dataframe tbody tr th:only-of-type {\n",
       "        vertical-align: middle;\n",
       "    }\n",
       "\n",
       "    .dataframe tbody tr th {\n",
       "        vertical-align: top;\n",
       "    }\n",
       "\n",
       "    .dataframe thead th {\n",
       "        text-align: right;\n",
       "    }\n",
       "</style>\n",
       "<table border=\"1\" class=\"dataframe\">\n",
       "  <thead>\n",
       "    <tr style=\"text-align: right;\">\n",
       "      <th></th>\n",
       "      <th>games</th>\n",
       "    </tr>\n",
       "    <tr>\n",
       "      <th>year_of_release</th>\n",
       "      <th></th>\n",
       "    </tr>\n",
       "  </thead>\n",
       "  <tbody>\n",
       "    <tr>\n",
       "      <th>1980</th>\n",
       "      <td>9</td>\n",
       "    </tr>\n",
       "    <tr>\n",
       "      <th>1981</th>\n",
       "      <td>46</td>\n",
       "    </tr>\n",
       "    <tr>\n",
       "      <th>1982</th>\n",
       "      <td>36</td>\n",
       "    </tr>\n",
       "    <tr>\n",
       "      <th>1983</th>\n",
       "      <td>17</td>\n",
       "    </tr>\n",
       "    <tr>\n",
       "      <th>1984</th>\n",
       "      <td>14</td>\n",
       "    </tr>\n",
       "    <tr>\n",
       "      <th>1985</th>\n",
       "      <td>14</td>\n",
       "    </tr>\n",
       "    <tr>\n",
       "      <th>1986</th>\n",
       "      <td>21</td>\n",
       "    </tr>\n",
       "    <tr>\n",
       "      <th>1987</th>\n",
       "      <td>16</td>\n",
       "    </tr>\n",
       "    <tr>\n",
       "      <th>1988</th>\n",
       "      <td>15</td>\n",
       "    </tr>\n",
       "    <tr>\n",
       "      <th>1989</th>\n",
       "      <td>17</td>\n",
       "    </tr>\n",
       "    <tr>\n",
       "      <th>1990</th>\n",
       "      <td>16</td>\n",
       "    </tr>\n",
       "    <tr>\n",
       "      <th>1991</th>\n",
       "      <td>41</td>\n",
       "    </tr>\n",
       "    <tr>\n",
       "      <th>1992</th>\n",
       "      <td>43</td>\n",
       "    </tr>\n",
       "    <tr>\n",
       "      <th>1993</th>\n",
       "      <td>60</td>\n",
       "    </tr>\n",
       "    <tr>\n",
       "      <th>1994</th>\n",
       "      <td>121</td>\n",
       "    </tr>\n",
       "    <tr>\n",
       "      <th>1995</th>\n",
       "      <td>219</td>\n",
       "    </tr>\n",
       "    <tr>\n",
       "      <th>1996</th>\n",
       "      <td>263</td>\n",
       "    </tr>\n",
       "    <tr>\n",
       "      <th>1997</th>\n",
       "      <td>289</td>\n",
       "    </tr>\n",
       "    <tr>\n",
       "      <th>1998</th>\n",
       "      <td>379</td>\n",
       "    </tr>\n",
       "    <tr>\n",
       "      <th>1999</th>\n",
       "      <td>338</td>\n",
       "    </tr>\n",
       "    <tr>\n",
       "      <th>2000</th>\n",
       "      <td>350</td>\n",
       "    </tr>\n",
       "    <tr>\n",
       "      <th>2001</th>\n",
       "      <td>482</td>\n",
       "    </tr>\n",
       "    <tr>\n",
       "      <th>2002</th>\n",
       "      <td>829</td>\n",
       "    </tr>\n",
       "    <tr>\n",
       "      <th>2003</th>\n",
       "      <td>775</td>\n",
       "    </tr>\n",
       "    <tr>\n",
       "      <th>2004</th>\n",
       "      <td>762</td>\n",
       "    </tr>\n",
       "    <tr>\n",
       "      <th>2005</th>\n",
       "      <td>939</td>\n",
       "    </tr>\n",
       "    <tr>\n",
       "      <th>2006</th>\n",
       "      <td>1006</td>\n",
       "    </tr>\n",
       "    <tr>\n",
       "      <th>2007</th>\n",
       "      <td>1197</td>\n",
       "    </tr>\n",
       "    <tr>\n",
       "      <th>2008</th>\n",
       "      <td>1427</td>\n",
       "    </tr>\n",
       "    <tr>\n",
       "      <th>2009</th>\n",
       "      <td>1426</td>\n",
       "    </tr>\n",
       "    <tr>\n",
       "      <th>2010</th>\n",
       "      <td>1255</td>\n",
       "    </tr>\n",
       "    <tr>\n",
       "      <th>2011</th>\n",
       "      <td>1136</td>\n",
       "    </tr>\n",
       "    <tr>\n",
       "      <th>2012</th>\n",
       "      <td>653</td>\n",
       "    </tr>\n",
       "    <tr>\n",
       "      <th>2013</th>\n",
       "      <td>544</td>\n",
       "    </tr>\n",
       "    <tr>\n",
       "      <th>2014</th>\n",
       "      <td>581</td>\n",
       "    </tr>\n",
       "    <tr>\n",
       "      <th>2015</th>\n",
       "      <td>606</td>\n",
       "    </tr>\n",
       "    <tr>\n",
       "      <th>2016</th>\n",
       "      <td>502</td>\n",
       "    </tr>\n",
       "  </tbody>\n",
       "</table>\n",
       "</div>"
      ],
      "text/plain": [
       "                 games\n",
       "year_of_release       \n",
       "1980                 9\n",
       "1981                46\n",
       "1982                36\n",
       "1983                17\n",
       "1984                14\n",
       "1985                14\n",
       "1986                21\n",
       "1987                16\n",
       "1988                15\n",
       "1989                17\n",
       "1990                16\n",
       "1991                41\n",
       "1992                43\n",
       "1993                60\n",
       "1994               121\n",
       "1995               219\n",
       "1996               263\n",
       "1997               289\n",
       "1998               379\n",
       "1999               338\n",
       "2000               350\n",
       "2001               482\n",
       "2002               829\n",
       "2003               775\n",
       "2004               762\n",
       "2005               939\n",
       "2006              1006\n",
       "2007              1197\n",
       "2008              1427\n",
       "2009              1426\n",
       "2010              1255\n",
       "2011              1136\n",
       "2012               653\n",
       "2013               544\n",
       "2014               581\n",
       "2015               606\n",
       "2016               502"
      ]
     },
     "metadata": {},
     "output_type": "display_data"
    }
   ],
   "source": [
    "games_years = pd.pivot_table(games, index='year_of_release', values='name', aggfunc='count')\n",
    "games_years.columns = ['games']\n",
    "display(games_years)"
   ]
  },
  {
   "cell_type": "markdown",
   "metadata": {},
   "source": [
    "Построю график."
   ]
  },
  {
   "cell_type": "code",
   "execution_count": 26,
   "metadata": {},
   "outputs": [
    {
     "data": {
      "image/png": "[encoded data removed]",
      "text/plain": [
       "<Figure size 1080x576 with 1 Axes>"
      ]
     },
     "metadata": {
      "needs_background": "light"
     },
     "output_type": "display_data"
    }
   ],
   "source": [
    "games_years.plot(figsize=(15,8));\n",
    "plt.title(\"Количество игр с 1980 по 2016 года\");\n",
    "plt.xlabel(\"Год выпуска\");\n",
    "plt.ylabel(\"Количество игр млн. шт.\");"
   ]
  },
  {
   "cell_type": "markdown",
   "metadata": {},
   "source": [
    "#### Вывод"
   ]
  },
  {
   "cell_type": "markdown",
   "metadata": {},
   "source": [
    "До 1995 года выпускалось очень мало игр. После 2010 года выпуск игр пошел на спад, но их всё ещё достаточно большое количество. Считаю, что данные за период до 1995 года не важны."
   ]
  },
  {
   "cell_type": "markdown",
   "metadata": {},
   "source": [
    "### Как менялись продажи по платформам. Выберите платформы с наибольшими суммарными продажами и постройте распределение по годам."
   ]
  },
  {
   "cell_type": "markdown",
   "metadata": {},
   "source": [
    "Составлю таблицу с продажами по каждой платформе."
   ]
  },
  {
   "cell_type": "code",
   "execution_count": 27,
   "metadata": {},
   "outputs": [
    {
     "data": {
      "text/html": [
       "<div>\n",
       "<style scoped>\n",
       "    .dataframe tbody tr th:only-of-type {\n",
       "        vertical-align: middle;\n",
       "    }\n",
       "\n",
       "    .dataframe tbody tr th {\n",
       "        vertical-align: top;\n",
       "    }\n",
       "\n",
       "    .dataframe thead th {\n",
       "        text-align: right;\n",
       "    }\n",
       "</style>\n",
       "<table border=\"1\" class=\"dataframe\">\n",
       "  <thead>\n",
       "    <tr style=\"text-align: right;\">\n",
       "      <th></th>\n",
       "      <th>all_sales</th>\n",
       "    </tr>\n",
       "    <tr>\n",
       "      <th>platform</th>\n",
       "      <th></th>\n",
       "    </tr>\n",
       "  </thead>\n",
       "  <tbody>\n",
       "    <tr>\n",
       "      <th>PS2</th>\n",
       "      <td>1233.56</td>\n",
       "    </tr>\n",
       "    <tr>\n",
       "      <th>X360</th>\n",
       "      <td>961.24</td>\n",
       "    </tr>\n",
       "    <tr>\n",
       "      <th>PS3</th>\n",
       "      <td>931.34</td>\n",
       "    </tr>\n",
       "    <tr>\n",
       "      <th>Wii</th>\n",
       "      <td>891.18</td>\n",
       "    </tr>\n",
       "    <tr>\n",
       "      <th>DS</th>\n",
       "      <td>802.78</td>\n",
       "    </tr>\n",
       "    <tr>\n",
       "      <th>PS</th>\n",
       "      <td>727.58</td>\n",
       "    </tr>\n",
       "    <tr>\n",
       "      <th>PS4</th>\n",
       "      <td>314.14</td>\n",
       "    </tr>\n",
       "    <tr>\n",
       "      <th>GBA</th>\n",
       "      <td>312.88</td>\n",
       "    </tr>\n",
       "    <tr>\n",
       "      <th>PSP</th>\n",
       "      <td>289.53</td>\n",
       "    </tr>\n",
       "    <tr>\n",
       "      <th>3DS</th>\n",
       "      <td>257.81</td>\n",
       "    </tr>\n",
       "    <tr>\n",
       "      <th>PC</th>\n",
       "      <td>255.76</td>\n",
       "    </tr>\n",
       "    <tr>\n",
       "      <th>GB</th>\n",
       "      <td>254.43</td>\n",
       "    </tr>\n",
       "    <tr>\n",
       "      <th>XB</th>\n",
       "      <td>251.57</td>\n",
       "    </tr>\n",
       "    <tr>\n",
       "      <th>NES</th>\n",
       "      <td>251.05</td>\n",
       "    </tr>\n",
       "    <tr>\n",
       "      <th>N64</th>\n",
       "      <td>218.01</td>\n",
       "    </tr>\n",
       "    <tr>\n",
       "      <th>SNES</th>\n",
       "      <td>200.04</td>\n",
       "    </tr>\n",
       "    <tr>\n",
       "      <th>GC</th>\n",
       "      <td>196.73</td>\n",
       "    </tr>\n",
       "    <tr>\n",
       "      <th>XOne</th>\n",
       "      <td>159.32</td>\n",
       "    </tr>\n",
       "    <tr>\n",
       "      <th>2600</th>\n",
       "      <td>86.48</td>\n",
       "    </tr>\n",
       "    <tr>\n",
       "      <th>WiiU</th>\n",
       "      <td>82.19</td>\n",
       "    </tr>\n",
       "    <tr>\n",
       "      <th>PSV</th>\n",
       "      <td>53.81</td>\n",
       "    </tr>\n",
       "    <tr>\n",
       "      <th>SAT</th>\n",
       "      <td>33.59</td>\n",
       "    </tr>\n",
       "    <tr>\n",
       "      <th>GEN</th>\n",
       "      <td>28.35</td>\n",
       "    </tr>\n",
       "    <tr>\n",
       "      <th>DC</th>\n",
       "      <td>15.95</td>\n",
       "    </tr>\n",
       "    <tr>\n",
       "      <th>SCD</th>\n",
       "      <td>1.86</td>\n",
       "    </tr>\n",
       "    <tr>\n",
       "      <th>NG</th>\n",
       "      <td>1.44</td>\n",
       "    </tr>\n",
       "    <tr>\n",
       "      <th>WS</th>\n",
       "      <td>1.42</td>\n",
       "    </tr>\n",
       "    <tr>\n",
       "      <th>TG16</th>\n",
       "      <td>0.16</td>\n",
       "    </tr>\n",
       "    <tr>\n",
       "      <th>3DO</th>\n",
       "      <td>0.10</td>\n",
       "    </tr>\n",
       "    <tr>\n",
       "      <th>GG</th>\n",
       "      <td>0.04</td>\n",
       "    </tr>\n",
       "    <tr>\n",
       "      <th>PCFX</th>\n",
       "      <td>0.03</td>\n",
       "    </tr>\n",
       "  </tbody>\n",
       "</table>\n",
       "</div>"
      ],
      "text/plain": [
       "          all_sales\n",
       "platform           \n",
       "PS2         1233.56\n",
       "X360         961.24\n",
       "PS3          931.34\n",
       "Wii          891.18\n",
       "DS           802.78\n",
       "PS           727.58\n",
       "PS4          314.14\n",
       "GBA          312.88\n",
       "PSP          289.53\n",
       "3DS          257.81\n",
       "PC           255.76\n",
       "GB           254.43\n",
       "XB           251.57\n",
       "NES          251.05\n",
       "N64          218.01\n",
       "SNES         200.04\n",
       "GC           196.73\n",
       "XOne         159.32\n",
       "2600          86.48\n",
       "WiiU          82.19\n",
       "PSV           53.81\n",
       "SAT           33.59\n",
       "GEN           28.35\n",
       "DC            15.95\n",
       "SCD            1.86\n",
       "NG             1.44\n",
       "WS             1.42\n",
       "TG16           0.16\n",
       "3DO            0.10\n",
       "GG             0.04\n",
       "PCFX           0.03"
      ]
     },
     "metadata": {},
     "output_type": "display_data"
    }
   ],
   "source": [
    "games_sales = pd.pivot_table(games, index=['platform'], values='all_sales', aggfunc='sum')\n",
    "games_sales = games_sales.sort_values('all_sales',ascending=False)\n",
    "display(games_sales)"
   ]
  },
  {
   "cell_type": "markdown",
   "metadata": {},
   "source": [
    "Выделю топ 7 платформ."
   ]
  },
  {
   "cell_type": "code",
   "execution_count": 28,
   "metadata": {},
   "outputs": [
    {
     "data": {
      "text/plain": [
       "['PS2', 'X360', 'PS3', 'Wii', 'DS', 'PS', 'PS4']"
      ]
     },
     "metadata": {},
     "output_type": "display_data"
    }
   ],
   "source": [
    "top_platform = list(games_sales.index[:7])\n",
    "display(top_platform)"
   ]
  },
  {
   "cell_type": "markdown",
   "metadata": {},
   "source": [
    "При проведении исследования оказалось, что одна игра для Nintendo_DS вышла раньше выхода консоли. Верну истинное значение."
   ]
  },
  {
   "cell_type": "code",
   "execution_count": 29,
   "metadata": {},
   "outputs": [
    {
     "data": {
      "text/html": [
       "<div>\n",
       "<style scoped>\n",
       "    .dataframe tbody tr th:only-of-type {\n",
       "        vertical-align: middle;\n",
       "    }\n",
       "\n",
       "    .dataframe tbody tr th {\n",
       "        vertical-align: top;\n",
       "    }\n",
       "\n",
       "    .dataframe thead th {\n",
       "        text-align: right;\n",
       "    }\n",
       "</style>\n",
       "<table border=\"1\" class=\"dataframe\">\n",
       "  <thead>\n",
       "    <tr style=\"text-align: right;\">\n",
       "      <th></th>\n",
       "      <th>name</th>\n",
       "      <th>platform</th>\n",
       "      <th>year_of_release</th>\n",
       "      <th>genre</th>\n",
       "      <th>na_sales</th>\n",
       "      <th>eu_sales</th>\n",
       "      <th>jp_sales</th>\n",
       "      <th>other_sales</th>\n",
       "      <th>critic_score</th>\n",
       "      <th>user_score</th>\n",
       "      <th>rating</th>\n",
       "      <th>all_sales</th>\n",
       "    </tr>\n",
       "  </thead>\n",
       "  <tbody>\n",
       "    <tr>\n",
       "      <th>15957</th>\n",
       "      <td>Strongest Tokyo University Shogi DS</td>\n",
       "      <td>DS</td>\n",
       "      <td>1985</td>\n",
       "      <td>Action</td>\n",
       "      <td>0.0</td>\n",
       "      <td>0.0</td>\n",
       "      <td>0.02</td>\n",
       "      <td>0.0</td>\n",
       "      <td>&lt;NA&gt;</td>\n",
       "      <td>NaN</td>\n",
       "      <td>M</td>\n",
       "      <td>0.02</td>\n",
       "    </tr>\n",
       "  </tbody>\n",
       "</table>\n",
       "</div>"
      ],
      "text/plain": [
       "                                      name platform  year_of_release   genre  \\\n",
       "15957  Strongest Tokyo University Shogi DS       DS             1985  Action   \n",
       "\n",
       "       na_sales  eu_sales  jp_sales  other_sales  critic_score  user_score  \\\n",
       "15957       0.0       0.0      0.02          0.0          <NA>         NaN   \n",
       "\n",
       "      rating  all_sales  \n",
       "15957      M       0.02  "
      ]
     },
     "metadata": {},
     "output_type": "display_data"
    }
   ],
   "source": [
    "Nintendo_DS = games.query('(platform == \"DS\") & (year_of_release < 2004)')\n",
    "display(Nintendo_DS)"
   ]
  },
  {
   "cell_type": "code",
   "execution_count": 30,
   "metadata": {},
   "outputs": [
    {
     "data": {
      "text/plain": [
       "name               Strongest Tokyo University Shogi DS\n",
       "platform                                            DS\n",
       "year_of_release                                   2010\n",
       "genre                                           Action\n",
       "na_sales                                           0.0\n",
       "eu_sales                                           0.0\n",
       "jp_sales                                          0.02\n",
       "other_sales                                        0.0\n",
       "critic_score                                      <NA>\n",
       "user_score                                         NaN\n",
       "rating                                               M\n",
       "all_sales                                         0.02\n",
       "Name: 15957, dtype: object"
      ]
     },
     "metadata": {},
     "output_type": "display_data"
    }
   ],
   "source": [
    "games.loc[games['name']=='Strongest Tokyo University Shogi DS', 'year_of_release']=2010\n",
    "display(games.loc[15957])"
   ]
  },
  {
   "cell_type": "markdown",
   "metadata": {},
   "source": [
    "Построю графики."
   ]
  },
  {
   "cell_type": "code",
   "execution_count": 31,
   "metadata": {
    "scrolled": false
   },
   "outputs": [
    {
     "data": {
      "image/png": "[encoded data removed]",
      "text/plain": [
       "<Figure size 1080x576 with 1 Axes>"
      ]
     },
     "metadata": {
      "needs_background": "light"
     },
     "output_type": "display_data"
    },
    {
     "data": {
      "image/png": "[encoded data removed]",
      "text/plain": [
       "<Figure size 1080x576 with 1 Axes>"
      ]
     },
     "metadata": {
      "needs_background": "light"
     },
     "output_type": "display_data"
    },
    {
     "data": {
      "image/png": "[encoded data removed]",
      "text/plain": [
       "<Figure size 1080x576 with 1 Axes>"
      ]
     },
     "metadata": {
      "needs_background": "light"
     },
     "output_type": "display_data"
    },
    {
     "data": {
      "image/png": "[encoded data removed]",
      "text/plain": [
       "<Figure size 1080x576 with 1 Axes>"
      ]
     },
     "metadata": {
      "needs_background": "light"
     },
     "output_type": "display_data"
    },
    {
     "data": {
      "image/png": "[encoded data removed]",
      "text/plain": [
       "<Figure size 1080x576 with 1 Axes>"
      ]
     },
     "metadata": {
      "needs_background": "light"
     },
     "output_type": "display_data"
    },
    {
     "data": {
      "image/png": "[encoded data removed]",
      "text/plain": [
       "<Figure size 1080x576 with 1 Axes>"
      ]
     },
     "metadata": {
      "needs_background": "light"
     },
     "output_type": "display_data"
    },
    {
     "data": {
      "image/png": "[encoded data removed]",
      "text/plain": [
       "<Figure size 1080x576 with 1 Axes>"
      ]
     },
     "metadata": {
      "needs_background": "light"
     },
     "output_type": "display_data"
    }
   ],
   "source": [
    "for platform in top_platform:\n",
    "    platform_sales = pd.pivot_table(games.query('platform == @platform'), index=['year_of_release'], values='all_sales', aggfunc='sum')\n",
    "    platform_sales.plot(figsize=(15,8));\n",
    "    plt.title(platform)\n",
    "    plt.xlabel(\"Год выпуска\");\n",
    "    plt.ylabel(\"Продажи игр млн. шт.\");"
   ]
  },
  {
   "cell_type": "markdown",
   "metadata": {},
   "source": [
    "#### Вывод"
   ]
  },
  {
   "cell_type": "markdown",
   "metadata": {},
   "source": [
    "Согласно полученным данным по топ 7 консолей можно сказать следующее:\n",
    "- PS2. Продажи игр бурно росли с 2000 по 2002 год. Достигли пика в 2004 году. Затем стали медленно падать до 2011 года и далее. Несмотря на то, что PS3 вышла в 2006 году, продажи игр на PS2 сохранились. Это говорит о том, что разработчики ещё какое-то время поддерживали старую консоль.\n",
    "- X360. Продажи игр с 2005 по 2008 года росли, пик был достигнут в 2010 году после спада продаж в 2009. Затем продажи стали падать.\n",
    "- PS3. Продажи игр росли с 2006 по 2011 год. Затем стали падать с небольшим плато в районе 2012-2013 годов.\n",
    "- Wii. Продажи игр медленно росли с 2006 по 2009 год. Затем стали резко падать. Для косоли Wii не выходит крупных ААА проектов, это очевидно сказывается на продажах.\n",
    "- Nintendo DS. Продажи игр росли с 2004 по 2005 года. Затем был медленный рост до 2008 года, после которого начался спад продаж.\n",
    "- PS. Продажи игр росли с 1994 по 1998 год, затем падали с обратной интенсивностью.\n",
    "- PS4. Продажи игр росли 2013 по 2015 год. Затем они стали падать.\n",
    "<br>\n",
    "По всем консолям есть одинаковые тенденции резких стартов продаж и падением в момент появления консолей нового поколения. Но при этом продажи игр не падают до нуля, а плавно уменьшаются от года к году, что говорит о поддержке производителем своих консолей когда одна и та же игра выходит для консолей разных поколений."
   ]
  },
  {
   "cell_type": "markdown",
   "metadata": {},
   "source": [
    "### За какой характерный срок появляются новые и исчезают старые платформы?"
   ]
  },
  {
   "cell_type": "markdown",
   "metadata": {},
   "source": [
    "На данный вопрос легче всего ответить проследив продажи игр по двум основным производителям консолей - Sony и Microsoft."
   ]
  },
  {
   "cell_type": "code",
   "execution_count": 32,
   "metadata": {},
   "outputs": [
    {
     "data": {
      "image/png": "[encoded data removed]",
      "text/plain": [
       "<Figure size 1080x576 with 1 Axes>"
      ]
     },
     "metadata": {
      "needs_background": "light"
     },
     "output_type": "display_data"
    }
   ],
   "source": [
    "ps_list = ['PS', 'PS2', 'PS3', 'PS4', 'PSP', 'PSV']\n",
    "ps_salles = pd.DataFrame(games.query('platform in @ps_list'))\n",
    "\n",
    "ps_salles_all = ps_salles.groupby(['platform', 'year_of_release'])[['all_sales']].sum()\n",
    "plt.figure(figsize=(15,8))\n",
    "sns.lineplot(x='year_of_release', y='all_sales', hue='platform', data=ps_salles_all.reset_index());\n",
    "plt.title('Продажи игр на всех платформках Sony')\n",
    "plt.xlabel(\"Год выпуска\");\n",
    "plt.ylabel(\"Продажи игр млн. шт.\");"
   ]
  },
  {
   "cell_type": "code",
   "execution_count": 33,
   "metadata": {},
   "outputs": [
    {
     "data": {
      "image/png": "[encoded data removed]",
      "text/plain": [
       "<Figure size 1080x576 with 1 Axes>"
      ]
     },
     "metadata": {
      "needs_background": "light"
     },
     "output_type": "display_data"
    }
   ],
   "source": [
    "xbox_list = ['X360', 'XB', 'XOne']\n",
    "xbox_salles = pd.DataFrame(games.query('platform in @xbox_list'))\n",
    "\n",
    "xbox_salles_all = xbox_salles.groupby(['platform', 'year_of_release'])[['all_sales']].sum()\n",
    "plt.figure(figsize=(15,8))\n",
    "sns.lineplot(x='year_of_release',y='all_sales', hue='platform', data=xbox_salles_all.reset_index());\n",
    "plt.title('Продажи игр на всех платформках Microsoft')\n",
    "plt.xlabel(\"Год выпуска\");\n",
    "plt.ylabel(\"Продажи игр млн. шт.\");"
   ]
  },
  {
   "cell_type": "markdown",
   "metadata": {},
   "source": [
    "#### Вывод"
   ]
  },
  {
   "cell_type": "markdown",
   "metadata": {},
   "source": [
    "Новые Play Station выходят раз в 6 лет. Xbox выходят от 5 до 8 лет. Считаю, что можно описать среднее время появления консолей нового поколения - 6 лет."
   ]
  },
  {
   "cell_type": "markdown",
   "metadata": {},
   "source": [
    "### Определение актуального периода"
   ]
  },
  {
   "cell_type": "markdown",
   "metadata": {},
   "source": [
    "Так как мне нужно определить период, который мне поможет спрогнозировать 2017 год, считаю правильным исследовать данные с момента появления консолей PS4 и Xbox One, а именно - с 2013 года."
   ]
  },
  {
   "cell_type": "code",
   "execution_count": 34,
   "metadata": {},
   "outputs": [
    {
     "name": "stdout",
     "output_type": "stream",
     "text": [
      "<class 'pandas.core.frame.DataFrame'>\n",
      "Int64Index: 1689 entries, 31 to 16714\n",
      "Data columns (total 12 columns):\n",
      " #   Column           Non-Null Count  Dtype  \n",
      "---  ------           --------------  -----  \n",
      " 0   name             1689 non-null   object \n",
      " 1   platform         1689 non-null   object \n",
      " 2   year_of_release  1689 non-null   Int64  \n",
      " 3   genre            1689 non-null   object \n",
      " 4   na_sales         1689 non-null   float64\n",
      " 5   eu_sales         1689 non-null   float64\n",
      " 6   jp_sales         1689 non-null   float64\n",
      " 7   other_sales      1689 non-null   float64\n",
      " 8   critic_score     718 non-null    Int64  \n",
      " 9   user_score       888 non-null    float64\n",
      " 10  rating           1689 non-null   object \n",
      " 11  all_sales        1689 non-null   float64\n",
      "dtypes: Int64(2), float64(6), object(4)\n",
      "memory usage: 174.8+ KB\n"
     ]
    },
    {
     "data": {
      "text/html": [
       "<div>\n",
       "<style scoped>\n",
       "    .dataframe tbody tr th:only-of-type {\n",
       "        vertical-align: middle;\n",
       "    }\n",
       "\n",
       "    .dataframe tbody tr th {\n",
       "        vertical-align: top;\n",
       "    }\n",
       "\n",
       "    .dataframe thead th {\n",
       "        text-align: right;\n",
       "    }\n",
       "</style>\n",
       "<table border=\"1\" class=\"dataframe\">\n",
       "  <thead>\n",
       "    <tr style=\"text-align: right;\">\n",
       "      <th></th>\n",
       "      <th>name</th>\n",
       "      <th>platform</th>\n",
       "      <th>year_of_release</th>\n",
       "      <th>genre</th>\n",
       "      <th>na_sales</th>\n",
       "      <th>eu_sales</th>\n",
       "      <th>jp_sales</th>\n",
       "      <th>other_sales</th>\n",
       "      <th>critic_score</th>\n",
       "      <th>user_score</th>\n",
       "      <th>rating</th>\n",
       "      <th>all_sales</th>\n",
       "    </tr>\n",
       "  </thead>\n",
       "  <tbody>\n",
       "    <tr>\n",
       "      <th>31</th>\n",
       "      <td>Call of Duty: Black Ops 3</td>\n",
       "      <td>PS4</td>\n",
       "      <td>2015</td>\n",
       "      <td>Shooter</td>\n",
       "      <td>6.03</td>\n",
       "      <td>5.86</td>\n",
       "      <td>0.36</td>\n",
       "      <td>2.38</td>\n",
       "      <td>&lt;NA&gt;</td>\n",
       "      <td>NaN</td>\n",
       "      <td>M</td>\n",
       "      <td>14.63</td>\n",
       "    </tr>\n",
       "    <tr>\n",
       "      <th>42</th>\n",
       "      <td>Grand Theft Auto V</td>\n",
       "      <td>PS4</td>\n",
       "      <td>2014</td>\n",
       "      <td>Action</td>\n",
       "      <td>3.96</td>\n",
       "      <td>6.31</td>\n",
       "      <td>0.38</td>\n",
       "      <td>1.97</td>\n",
       "      <td>97</td>\n",
       "      <td>8.3</td>\n",
       "      <td>M</td>\n",
       "      <td>12.62</td>\n",
       "    </tr>\n",
       "    <tr>\n",
       "      <th>47</th>\n",
       "      <td>Pokemon Omega Ruby/Pokemon Alpha Sapphire</td>\n",
       "      <td>3DS</td>\n",
       "      <td>2014</td>\n",
       "      <td>Role-Playing</td>\n",
       "      <td>4.35</td>\n",
       "      <td>3.49</td>\n",
       "      <td>3.10</td>\n",
       "      <td>0.74</td>\n",
       "      <td>&lt;NA&gt;</td>\n",
       "      <td>NaN</td>\n",
       "      <td>T</td>\n",
       "      <td>11.68</td>\n",
       "    </tr>\n",
       "    <tr>\n",
       "      <th>77</th>\n",
       "      <td>FIFA 16</td>\n",
       "      <td>PS4</td>\n",
       "      <td>2015</td>\n",
       "      <td>Sports</td>\n",
       "      <td>1.12</td>\n",
       "      <td>6.12</td>\n",
       "      <td>0.06</td>\n",
       "      <td>1.28</td>\n",
       "      <td>82</td>\n",
       "      <td>4.3</td>\n",
       "      <td>E</td>\n",
       "      <td>8.58</td>\n",
       "    </tr>\n",
       "    <tr>\n",
       "      <th>87</th>\n",
       "      <td>Star Wars Battlefront (2015)</td>\n",
       "      <td>PS4</td>\n",
       "      <td>2015</td>\n",
       "      <td>Shooter</td>\n",
       "      <td>2.99</td>\n",
       "      <td>3.49</td>\n",
       "      <td>0.22</td>\n",
       "      <td>1.28</td>\n",
       "      <td>&lt;NA&gt;</td>\n",
       "      <td>NaN</td>\n",
       "      <td>M</td>\n",
       "      <td>7.98</td>\n",
       "    </tr>\n",
       "  </tbody>\n",
       "</table>\n",
       "</div>"
      ],
      "text/plain": [
       "                                         name platform  year_of_release  \\\n",
       "31                  Call of Duty: Black Ops 3      PS4             2015   \n",
       "42                         Grand Theft Auto V      PS4             2014   \n",
       "47  Pokemon Omega Ruby/Pokemon Alpha Sapphire      3DS             2014   \n",
       "77                                    FIFA 16      PS4             2015   \n",
       "87               Star Wars Battlefront (2015)      PS4             2015   \n",
       "\n",
       "           genre  na_sales  eu_sales  jp_sales  other_sales  critic_score  \\\n",
       "31       Shooter      6.03      5.86      0.36         2.38          <NA>   \n",
       "42        Action      3.96      6.31      0.38         1.97            97   \n",
       "47  Role-Playing      4.35      3.49      3.10         0.74          <NA>   \n",
       "77        Sports      1.12      6.12      0.06         1.28            82   \n",
       "87       Shooter      2.99      3.49      0.22         1.28          <NA>   \n",
       "\n",
       "    user_score rating  all_sales  \n",
       "31         NaN      M      14.63  \n",
       "42         8.3      M      12.62  \n",
       "47         NaN      T      11.68  \n",
       "77         4.3      E       8.58  \n",
       "87         NaN      M       7.98  "
      ]
     },
     "execution_count": 34,
     "metadata": {},
     "output_type": "execute_result"
    }
   ],
   "source": [
    "actual_period = games[games['year_of_release'] > 2013]\n",
    "actual_period.info()\n",
    "actual_period.head()"
   ]
  },
  {
   "cell_type": "markdown",
   "metadata": {},
   "source": [
    "#### Вывод"
   ]
  },
  {
   "cell_type": "markdown",
   "metadata": {},
   "source": [
    "Актуальный период определен на основе данных о выходе консолей последнего поколения - 2013 год."
   ]
  },
  {
   "cell_type": "markdown",
   "metadata": {},
   "source": [
    "### Какие платформы лидируют по продажам, растут или падают?"
   ]
  },
  {
   "cell_type": "markdown",
   "metadata": {},
   "source": [
    "Посмотрю на данные по продажам за актуальный период."
   ]
  },
  {
   "cell_type": "code",
   "execution_count": 35,
   "metadata": {},
   "outputs": [
    {
     "data": {
      "text/html": [
       "<div>\n",
       "<style scoped>\n",
       "    .dataframe tbody tr th:only-of-type {\n",
       "        vertical-align: middle;\n",
       "    }\n",
       "\n",
       "    .dataframe tbody tr th {\n",
       "        vertical-align: top;\n",
       "    }\n",
       "\n",
       "    .dataframe thead th {\n",
       "        text-align: right;\n",
       "    }\n",
       "</style>\n",
       "<table border=\"1\" class=\"dataframe\">\n",
       "  <thead>\n",
       "    <tr style=\"text-align: right;\">\n",
       "      <th></th>\n",
       "      <th></th>\n",
       "      <th>all_sales</th>\n",
       "    </tr>\n",
       "    <tr>\n",
       "      <th>platform</th>\n",
       "      <th>year_of_release</th>\n",
       "      <th></th>\n",
       "    </tr>\n",
       "  </thead>\n",
       "  <tbody>\n",
       "    <tr>\n",
       "      <th rowspan=\"3\" valign=\"top\">3DS</th>\n",
       "      <th>2014</th>\n",
       "      <td>43.76</td>\n",
       "    </tr>\n",
       "    <tr>\n",
       "      <th>2015</th>\n",
       "      <td>27.78</td>\n",
       "    </tr>\n",
       "    <tr>\n",
       "      <th>2016</th>\n",
       "      <td>15.14</td>\n",
       "    </tr>\n",
       "    <tr>\n",
       "      <th rowspan=\"3\" valign=\"top\">PC</th>\n",
       "      <th>2014</th>\n",
       "      <td>13.28</td>\n",
       "    </tr>\n",
       "    <tr>\n",
       "      <th>2015</th>\n",
       "      <td>8.52</td>\n",
       "    </tr>\n",
       "    <tr>\n",
       "      <th>2016</th>\n",
       "      <td>5.25</td>\n",
       "    </tr>\n",
       "    <tr>\n",
       "      <th rowspan=\"3\" valign=\"top\">PS3</th>\n",
       "      <th>2014</th>\n",
       "      <td>47.76</td>\n",
       "    </tr>\n",
       "    <tr>\n",
       "      <th>2015</th>\n",
       "      <td>16.82</td>\n",
       "    </tr>\n",
       "    <tr>\n",
       "      <th>2016</th>\n",
       "      <td>3.60</td>\n",
       "    </tr>\n",
       "    <tr>\n",
       "      <th rowspan=\"3\" valign=\"top\">PS4</th>\n",
       "      <th>2014</th>\n",
       "      <td>100.00</td>\n",
       "    </tr>\n",
       "    <tr>\n",
       "      <th>2015</th>\n",
       "      <td>118.90</td>\n",
       "    </tr>\n",
       "    <tr>\n",
       "      <th>2016</th>\n",
       "      <td>69.25</td>\n",
       "    </tr>\n",
       "    <tr>\n",
       "      <th rowspan=\"2\" valign=\"top\">PSP</th>\n",
       "      <th>2014</th>\n",
       "      <td>0.24</td>\n",
       "    </tr>\n",
       "    <tr>\n",
       "      <th>2015</th>\n",
       "      <td>0.12</td>\n",
       "    </tr>\n",
       "    <tr>\n",
       "      <th rowspan=\"3\" valign=\"top\">PSV</th>\n",
       "      <th>2014</th>\n",
       "      <td>11.90</td>\n",
       "    </tr>\n",
       "    <tr>\n",
       "      <th>2015</th>\n",
       "      <td>6.25</td>\n",
       "    </tr>\n",
       "    <tr>\n",
       "      <th>2016</th>\n",
       "      <td>4.25</td>\n",
       "    </tr>\n",
       "    <tr>\n",
       "      <th rowspan=\"3\" valign=\"top\">Wii</th>\n",
       "      <th>2014</th>\n",
       "      <td>3.75</td>\n",
       "    </tr>\n",
       "    <tr>\n",
       "      <th>2015</th>\n",
       "      <td>1.14</td>\n",
       "    </tr>\n",
       "    <tr>\n",
       "      <th>2016</th>\n",
       "      <td>0.18</td>\n",
       "    </tr>\n",
       "    <tr>\n",
       "      <th rowspan=\"3\" valign=\"top\">WiiU</th>\n",
       "      <th>2014</th>\n",
       "      <td>22.03</td>\n",
       "    </tr>\n",
       "    <tr>\n",
       "      <th>2015</th>\n",
       "      <td>16.35</td>\n",
       "    </tr>\n",
       "    <tr>\n",
       "      <th>2016</th>\n",
       "      <td>4.60</td>\n",
       "    </tr>\n",
       "    <tr>\n",
       "      <th rowspan=\"3\" valign=\"top\">X360</th>\n",
       "      <th>2014</th>\n",
       "      <td>34.74</td>\n",
       "    </tr>\n",
       "    <tr>\n",
       "      <th>2015</th>\n",
       "      <td>11.96</td>\n",
       "    </tr>\n",
       "    <tr>\n",
       "      <th>2016</th>\n",
       "      <td>1.52</td>\n",
       "    </tr>\n",
       "    <tr>\n",
       "      <th rowspan=\"3\" valign=\"top\">XOne</th>\n",
       "      <th>2014</th>\n",
       "      <td>54.07</td>\n",
       "    </tr>\n",
       "    <tr>\n",
       "      <th>2015</th>\n",
       "      <td>60.14</td>\n",
       "    </tr>\n",
       "    <tr>\n",
       "      <th>2016</th>\n",
       "      <td>26.15</td>\n",
       "    </tr>\n",
       "  </tbody>\n",
       "</table>\n",
       "</div>"
      ],
      "text/plain": [
       "                          all_sales\n",
       "platform year_of_release           \n",
       "3DS      2014                 43.76\n",
       "         2015                 27.78\n",
       "         2016                 15.14\n",
       "PC       2014                 13.28\n",
       "         2015                  8.52\n",
       "         2016                  5.25\n",
       "PS3      2014                 47.76\n",
       "         2015                 16.82\n",
       "         2016                  3.60\n",
       "PS4      2014                100.00\n",
       "         2015                118.90\n",
       "         2016                 69.25\n",
       "PSP      2014                  0.24\n",
       "         2015                  0.12\n",
       "PSV      2014                 11.90\n",
       "         2015                  6.25\n",
       "         2016                  4.25\n",
       "Wii      2014                  3.75\n",
       "         2015                  1.14\n",
       "         2016                  0.18\n",
       "WiiU     2014                 22.03\n",
       "         2015                 16.35\n",
       "         2016                  4.60\n",
       "X360     2014                 34.74\n",
       "         2015                 11.96\n",
       "         2016                  1.52\n",
       "XOne     2014                 54.07\n",
       "         2015                 60.14\n",
       "         2016                 26.15"
      ]
     },
     "metadata": {},
     "output_type": "display_data"
    }
   ],
   "source": [
    "actual_period_sales = pd.pivot_table(actual_period, index=['platform','year_of_release'], values='all_sales', aggfunc = 'sum')\n",
    "display(actual_period_sales)"
   ]
  },
  {
   "cell_type": "code",
   "execution_count": 36,
   "metadata": {},
   "outputs": [
    {
     "data": {
      "text/html": [
       "<div>\n",
       "<style scoped>\n",
       "    .dataframe tbody tr th:only-of-type {\n",
       "        vertical-align: middle;\n",
       "    }\n",
       "\n",
       "    .dataframe tbody tr th {\n",
       "        vertical-align: top;\n",
       "    }\n",
       "\n",
       "    .dataframe thead th {\n",
       "        text-align: right;\n",
       "    }\n",
       "</style>\n",
       "<table border=\"1\" class=\"dataframe\">\n",
       "  <thead>\n",
       "    <tr style=\"text-align: right;\">\n",
       "      <th></th>\n",
       "      <th>all_sales</th>\n",
       "    </tr>\n",
       "    <tr>\n",
       "      <th>platform</th>\n",
       "      <th></th>\n",
       "    </tr>\n",
       "  </thead>\n",
       "  <tbody>\n",
       "    <tr>\n",
       "      <th>PS4</th>\n",
       "      <td>288.15</td>\n",
       "    </tr>\n",
       "    <tr>\n",
       "      <th>XOne</th>\n",
       "      <td>140.36</td>\n",
       "    </tr>\n",
       "    <tr>\n",
       "      <th>3DS</th>\n",
       "      <td>86.68</td>\n",
       "    </tr>\n",
       "    <tr>\n",
       "      <th>PS3</th>\n",
       "      <td>68.18</td>\n",
       "    </tr>\n",
       "    <tr>\n",
       "      <th>X360</th>\n",
       "      <td>48.22</td>\n",
       "    </tr>\n",
       "    <tr>\n",
       "      <th>WiiU</th>\n",
       "      <td>42.98</td>\n",
       "    </tr>\n",
       "    <tr>\n",
       "      <th>PC</th>\n",
       "      <td>27.05</td>\n",
       "    </tr>\n",
       "    <tr>\n",
       "      <th>PSV</th>\n",
       "      <td>22.40</td>\n",
       "    </tr>\n",
       "    <tr>\n",
       "      <th>Wii</th>\n",
       "      <td>5.07</td>\n",
       "    </tr>\n",
       "    <tr>\n",
       "      <th>PSP</th>\n",
       "      <td>0.36</td>\n",
       "    </tr>\n",
       "  </tbody>\n",
       "</table>\n",
       "</div>"
      ],
      "text/plain": [
       "          all_sales\n",
       "platform           \n",
       "PS4          288.15\n",
       "XOne         140.36\n",
       "3DS           86.68\n",
       "PS3           68.18\n",
       "X360          48.22\n",
       "WiiU          42.98\n",
       "PC            27.05\n",
       "PSV           22.40\n",
       "Wii            5.07\n",
       "PSP            0.36"
      ]
     },
     "metadata": {},
     "output_type": "display_data"
    }
   ],
   "source": [
    "actual_period_sales_platform = pd.pivot_table(actual_period_sales, index='platform', values='all_sales', aggfunc = 'sum')\n",
    "display(actual_period_sales_platform.sort_values('all_sales', ascending=False))"
   ]
  },
  {
   "cell_type": "code",
   "execution_count": 37,
   "metadata": {},
   "outputs": [
    {
     "data": {
      "image/png": "[encoded data removed]",
      "text/plain": [
       "<Figure size 1080x576 with 1 Axes>"
      ]
     },
     "metadata": {
      "needs_background": "light"
     },
     "output_type": "display_data"
    }
   ],
   "source": [
    "platform_list = ['PSP', 'Wii', 'PS3', 'PS4', 'PC', 'PSV', 'X360', 'WiiU', 'XOne', '3DS']\n",
    "platform_salles = pd.DataFrame(games.query('platform in @platform_list'))\n",
    "\n",
    "platform_salles_all = platform_salles.groupby(['platform', 'year_of_release'])[['all_sales']].sum()\n",
    "plt.figure(figsize=(15,8))\n",
    "sns.lineplot(x='year_of_release', y='all_sales', hue='platform', data=platform_salles_all.reset_index());\n",
    "plt.title('Продажи игр на основных платформках')\n",
    "plt.xlabel(\"Год выпуска\");\n",
    "plt.ylabel(\"Продажи игр млн. шт.\");"
   ]
  },
  {
   "cell_type": "markdown",
   "metadata": {},
   "source": [
    "#### Вывод"
   ]
  },
  {
   "cell_type": "markdown",
   "metadata": {},
   "source": [
    "По всем платформам сумма продаж игр падает в актуальном периоде.\n",
    "<br>\n",
    "- Больше всего продаж у PS4, хотя продажи и падают в ожидании PS5, она все ещё интересна разработчикам игр.\n",
    "<br>\n",
    "- Вполовину меньше продж у XOne, но тут следует учесть, что PS4 на рынке на год дольше. Но общие продажи также падают в ожидании Xbox Series X. Считаю, что XOne всё ещё интересен разработчикам игр.\n",
    "<br>\n",
    "- Nintendo 3DS имеет третье место по продажам за актуальный переиод. Но так как как Nintendo 3DS портативная консоль, и конкуренты в лице PSP, PSV, WiiU имеют гораздо меньшие продажи, считаю эту консоль интересной для разработчиков игр.\n",
    "<br>\n",
    "- Продажи игр на косолях PS3, X360, Wii в  конце актуального периода сократились до минимума. Данные консоли уже не интересны разработчикам игр.\n",
    "<br>\n",
    "- Мне не очень понятна ситуация с продажами игр на PC, возможно это специфика предоставленных данных. Данная платформа не подвержена изменениям дохода продаж игр при появлении платформы нового поколения, так как PC - это модернизируемая платформа и её железо всегда можно считать актуальным. Считаю, что данная платформа всегда будет актуальна разработчикам игр. "
   ]
  },
  {
   "cell_type": "markdown",
   "metadata": {},
   "source": [
    "### График «ящик с усами» по глобальным продажам игр в разбивке по платформам"
   ]
  },
  {
   "cell_type": "markdown",
   "metadata": {},
   "source": [
    "Построю необходимый график."
   ]
  },
  {
   "cell_type": "code",
   "execution_count": 38,
   "metadata": {},
   "outputs": [
    {
     "data": {
      "image/png": "[encoded data removed]",
      "text/plain": [
       "<Figure size 1080x576 with 1 Axes>"
      ]
     },
     "metadata": {
      "needs_background": "light"
     },
     "output_type": "display_data"
    }
   ],
   "source": [
    "plt.figure(figsize=(15,8))\n",
    "sns.boxplot(x=\"all_sales\", y=\"platform\", data=actual_period_sales.reset_index());\n",
    "plt.title('Общие продажи игр')\n",
    "plt.xlabel(\"Продажи игр млн. шт.\");\n",
    "plt.ylabel(\"Платформа\");"
   ]
  },
  {
   "cell_type": "markdown",
   "metadata": {},
   "source": [
    "#### Вывод"
   ]
  },
  {
   "cell_type": "markdown",
   "metadata": {},
   "source": [
    "По данному графику понятно как распределяется прибыль по платформам за актуальный период относительно друг друга. Цифры, полученные в таблице раздела 4.5 трудны для восприятия картины в целом. Тут же сразу понятно насколько PS4 всепереди всех остальных консолей и насколько маленький доход приносит PSP за актуальный период."
   ]
  },
  {
   "cell_type": "markdown",
   "metadata": {},
   "source": [
    "### Как влияют на продажи внутри одной популярной платформы отзывы пользователей и критиков"
   ]
  },
  {
   "cell_type": "markdown",
   "metadata": {},
   "source": [
    "Посмотрю на корреляцию по основным платформам. Также построю корреляционную матрицу. "
   ]
  },
  {
   "cell_type": "code",
   "execution_count": 59,
   "metadata": {},
   "outputs": [
    {
     "data": {
      "text/html": [
       "<div>\n",
       "<style scoped>\n",
       "    .dataframe tbody tr th:only-of-type {\n",
       "        vertical-align: middle;\n",
       "    }\n",
       "\n",
       "    .dataframe tbody tr th {\n",
       "        vertical-align: top;\n",
       "    }\n",
       "\n",
       "    .dataframe thead th {\n",
       "        text-align: right;\n",
       "    }\n",
       "</style>\n",
       "<table border=\"1\" class=\"dataframe\">\n",
       "  <thead>\n",
       "    <tr style=\"text-align: right;\">\n",
       "      <th></th>\n",
       "      <th>all_sales</th>\n",
       "      <th>critic_score</th>\n",
       "      <th>user_score</th>\n",
       "    </tr>\n",
       "  </thead>\n",
       "  <tbody>\n",
       "    <tr>\n",
       "      <th>all_sales</th>\n",
       "      <td>1.000000</td>\n",
       "      <td>0.446575</td>\n",
       "      <td>-0.166761</td>\n",
       "    </tr>\n",
       "    <tr>\n",
       "      <th>critic_score</th>\n",
       "      <td>0.446575</td>\n",
       "      <td>1.000000</td>\n",
       "      <td>0.693445</td>\n",
       "    </tr>\n",
       "    <tr>\n",
       "      <th>user_score</th>\n",
       "      <td>-0.166761</td>\n",
       "      <td>0.693445</td>\n",
       "      <td>1.000000</td>\n",
       "    </tr>\n",
       "  </tbody>\n",
       "</table>\n",
       "</div>"
      ],
      "text/plain": [
       "              all_sales  critic_score  user_score\n",
       "all_sales      1.000000      0.446575   -0.166761\n",
       "critic_score   0.446575      1.000000    0.693445\n",
       "user_score    -0.166761      0.693445    1.000000"
      ]
     },
     "metadata": {},
     "output_type": "display_data"
    },
    {
     "data": {
      "image/png": "[encoded data removed]",
      "text/plain": [
       "<Figure size 432x288 with 2 Axes>"
      ]
     },
     "metadata": {
      "needs_background": "light"
     },
     "output_type": "display_data"
    }
   ],
   "source": [
    "actual_period_ps3 = actual_period_nan[actual_period_nan['platform'] == 'PS3']\n",
    "actual_period_ps3 = actual_period_ps3.loc[:,['all_sales', 'critic_score', 'user_score']]\n",
    "display(actual_period_ps3.corr())\n",
    "corr = actual_period_ps3.corr()\n",
    "sm.graphics.plot_corr(corr, xnames=list(corr.columns))\n",
    "plt.show()"
   ]
  },
  {
   "cell_type": "code",
   "execution_count": 60,
   "metadata": {},
   "outputs": [
    {
     "data": {
      "text/html": [
       "<div>\n",
       "<style scoped>\n",
       "    .dataframe tbody tr th:only-of-type {\n",
       "        vertical-align: middle;\n",
       "    }\n",
       "\n",
       "    .dataframe tbody tr th {\n",
       "        vertical-align: top;\n",
       "    }\n",
       "\n",
       "    .dataframe thead th {\n",
       "        text-align: right;\n",
       "    }\n",
       "</style>\n",
       "<table border=\"1\" class=\"dataframe\">\n",
       "  <thead>\n",
       "    <tr style=\"text-align: right;\">\n",
       "      <th></th>\n",
       "      <th>all_sales</th>\n",
       "      <th>critic_score</th>\n",
       "      <th>user_score</th>\n",
       "    </tr>\n",
       "  </thead>\n",
       "  <tbody>\n",
       "    <tr>\n",
       "      <th>all_sales</th>\n",
       "      <td>1.000000</td>\n",
       "      <td>0.525723</td>\n",
       "      <td>-0.138445</td>\n",
       "    </tr>\n",
       "    <tr>\n",
       "      <th>critic_score</th>\n",
       "      <td>0.525723</td>\n",
       "      <td>1.000000</td>\n",
       "      <td>0.625309</td>\n",
       "    </tr>\n",
       "    <tr>\n",
       "      <th>user_score</th>\n",
       "      <td>-0.138445</td>\n",
       "      <td>0.625309</td>\n",
       "      <td>1.000000</td>\n",
       "    </tr>\n",
       "  </tbody>\n",
       "</table>\n",
       "</div>"
      ],
      "text/plain": [
       "              all_sales  critic_score  user_score\n",
       "all_sales      1.000000      0.525723   -0.138445\n",
       "critic_score   0.525723      1.000000    0.625309\n",
       "user_score    -0.138445      0.625309    1.000000"
      ]
     },
     "metadata": {},
     "output_type": "display_data"
    },
    {
     "data": {
      "image/png": "[encoded data removed]",
      "text/plain": [
       "<Figure size 432x288 with 2 Axes>"
      ]
     },
     "metadata": {
      "needs_background": "light"
     },
     "output_type": "display_data"
    }
   ],
   "source": [
    "actual_period_x360 = actual_period[actual_period['platform'] == 'X360']\n",
    "actual_period_x360 = actual_period_x360.loc[:,['all_sales', 'critic_score', 'user_score']]\n",
    "display(actual_period_x360.corr())\n",
    "corr = actual_period_x360.corr()\n",
    "sm.graphics.plot_corr(corr, xnames=list(corr.columns))\n",
    "plt.show()"
   ]
  },
  {
   "cell_type": "code",
   "execution_count": 61,
   "metadata": {},
   "outputs": [
    {
     "data": {
      "text/html": [
       "<div>\n",
       "<style scoped>\n",
       "    .dataframe tbody tr th:only-of-type {\n",
       "        vertical-align: middle;\n",
       "    }\n",
       "\n",
       "    .dataframe tbody tr th {\n",
       "        vertical-align: top;\n",
       "    }\n",
       "\n",
       "    .dataframe thead th {\n",
       "        text-align: right;\n",
       "    }\n",
       "</style>\n",
       "<table border=\"1\" class=\"dataframe\">\n",
       "  <thead>\n",
       "    <tr style=\"text-align: right;\">\n",
       "      <th></th>\n",
       "      <th>all_sales</th>\n",
       "      <th>critic_score</th>\n",
       "      <th>user_score</th>\n",
       "    </tr>\n",
       "  </thead>\n",
       "  <tbody>\n",
       "    <tr>\n",
       "      <th>all_sales</th>\n",
       "      <td>1.000000</td>\n",
       "      <td>0.402661</td>\n",
       "      <td>-0.040132</td>\n",
       "    </tr>\n",
       "    <tr>\n",
       "      <th>critic_score</th>\n",
       "      <td>0.402661</td>\n",
       "      <td>1.000000</td>\n",
       "      <td>0.546434</td>\n",
       "    </tr>\n",
       "    <tr>\n",
       "      <th>user_score</th>\n",
       "      <td>-0.040132</td>\n",
       "      <td>0.546434</td>\n",
       "      <td>1.000000</td>\n",
       "    </tr>\n",
       "  </tbody>\n",
       "</table>\n",
       "</div>"
      ],
      "text/plain": [
       "              all_sales  critic_score  user_score\n",
       "all_sales      1.000000      0.402661   -0.040132\n",
       "critic_score   0.402661      1.000000    0.546434\n",
       "user_score    -0.040132      0.546434    1.000000"
      ]
     },
     "metadata": {},
     "output_type": "display_data"
    },
    {
     "data": {
      "image/png": "[encoded data removed]",
      "text/plain": [
       "<Figure size 432x288 with 2 Axes>"
      ]
     },
     "metadata": {
      "needs_background": "light"
     },
     "output_type": "display_data"
    }
   ],
   "source": [
    "actual_period_ps4 = actual_period[actual_period['platform'] == 'PS4']\n",
    "actual_period_ps4 = actual_period_ps4.loc[:,['all_sales', 'critic_score', 'user_score']]\n",
    "display(actual_period_ps4.corr())\n",
    "corr = actual_period_ps4.corr()\n",
    "sm.graphics.plot_corr(corr, xnames=list(corr.columns))\n",
    "plt.show()"
   ]
  },
  {
   "cell_type": "code",
   "execution_count": 62,
   "metadata": {},
   "outputs": [
    {
     "data": {
      "text/html": [
       "<div>\n",
       "<style scoped>\n",
       "    .dataframe tbody tr th:only-of-type {\n",
       "        vertical-align: middle;\n",
       "    }\n",
       "\n",
       "    .dataframe tbody tr th {\n",
       "        vertical-align: top;\n",
       "    }\n",
       "\n",
       "    .dataframe thead th {\n",
       "        text-align: right;\n",
       "    }\n",
       "</style>\n",
       "<table border=\"1\" class=\"dataframe\">\n",
       "  <thead>\n",
       "    <tr style=\"text-align: right;\">\n",
       "      <th></th>\n",
       "      <th>all_sales</th>\n",
       "      <th>critic_score</th>\n",
       "      <th>user_score</th>\n",
       "    </tr>\n",
       "  </thead>\n",
       "  <tbody>\n",
       "    <tr>\n",
       "      <th>all_sales</th>\n",
       "      <td>1.000000</td>\n",
       "      <td>0.314117</td>\n",
       "      <td>0.215193</td>\n",
       "    </tr>\n",
       "    <tr>\n",
       "      <th>critic_score</th>\n",
       "      <td>0.314117</td>\n",
       "      <td>1.000000</td>\n",
       "      <td>0.862485</td>\n",
       "    </tr>\n",
       "    <tr>\n",
       "      <th>user_score</th>\n",
       "      <td>0.215193</td>\n",
       "      <td>0.862485</td>\n",
       "      <td>1.000000</td>\n",
       "    </tr>\n",
       "  </tbody>\n",
       "</table>\n",
       "</div>"
      ],
      "text/plain": [
       "              all_sales  critic_score  user_score\n",
       "all_sales      1.000000      0.314117    0.215193\n",
       "critic_score   0.314117      1.000000    0.862485\n",
       "user_score     0.215193      0.862485    1.000000"
      ]
     },
     "metadata": {},
     "output_type": "display_data"
    },
    {
     "data": {
      "image/png": "[encoded data removed]",
      "text/plain": [
       "<Figure size 432x288 with 2 Axes>"
      ]
     },
     "metadata": {
      "needs_background": "light"
     },
     "output_type": "display_data"
    }
   ],
   "source": [
    "actual_period_3ds = actual_period[actual_period['platform'] == '3DS']\n",
    "actual_period_3ds = actual_period_3ds.loc[:,['all_sales', 'critic_score', 'user_score']]\n",
    "display(actual_period_3ds.corr())\n",
    "corr = actual_period_3ds.corr()\n",
    "sm.graphics.plot_corr(corr, xnames=list(corr.columns))\n",
    "plt.show()"
   ]
  },
  {
   "cell_type": "code",
   "execution_count": 63,
   "metadata": {},
   "outputs": [
    {
     "data": {
      "text/html": [
       "<div>\n",
       "<style scoped>\n",
       "    .dataframe tbody tr th:only-of-type {\n",
       "        vertical-align: middle;\n",
       "    }\n",
       "\n",
       "    .dataframe tbody tr th {\n",
       "        vertical-align: top;\n",
       "    }\n",
       "\n",
       "    .dataframe thead th {\n",
       "        text-align: right;\n",
       "    }\n",
       "</style>\n",
       "<table border=\"1\" class=\"dataframe\">\n",
       "  <thead>\n",
       "    <tr style=\"text-align: right;\">\n",
       "      <th></th>\n",
       "      <th>all_sales</th>\n",
       "      <th>critic_score</th>\n",
       "      <th>user_score</th>\n",
       "    </tr>\n",
       "  </thead>\n",
       "  <tbody>\n",
       "    <tr>\n",
       "      <th>all_sales</th>\n",
       "      <td>1.000000</td>\n",
       "      <td>0.428677</td>\n",
       "      <td>-0.070384</td>\n",
       "    </tr>\n",
       "    <tr>\n",
       "      <th>critic_score</th>\n",
       "      <td>0.428677</td>\n",
       "      <td>1.000000</td>\n",
       "      <td>0.440977</td>\n",
       "    </tr>\n",
       "    <tr>\n",
       "      <th>user_score</th>\n",
       "      <td>-0.070384</td>\n",
       "      <td>0.440977</td>\n",
       "      <td>1.000000</td>\n",
       "    </tr>\n",
       "  </tbody>\n",
       "</table>\n",
       "</div>"
      ],
      "text/plain": [
       "              all_sales  critic_score  user_score\n",
       "all_sales      1.000000      0.428677   -0.070384\n",
       "critic_score   0.428677      1.000000    0.440977\n",
       "user_score    -0.070384      0.440977    1.000000"
      ]
     },
     "metadata": {},
     "output_type": "display_data"
    },
    {
     "data": {
      "image/png": "[encoded data removed]",
      "text/plain": [
       "<Figure size 432x288 with 2 Axes>"
      ]
     },
     "metadata": {
      "needs_background": "light"
     },
     "output_type": "display_data"
    }
   ],
   "source": [
    "actual_period_xone = actual_period[actual_period['platform'] == 'XOne']\n",
    "actual_period_xone = actual_period_xone.loc[:,['all_sales', 'critic_score', 'user_score']]\n",
    "display(actual_period_xone.corr())\n",
    "corr = actual_period_xone.corr()\n",
    "sm.graphics.plot_corr(corr, xnames=list(corr.columns))\n",
    "plt.show()"
   ]
  },
  {
   "cell_type": "code",
   "execution_count": 64,
   "metadata": {},
   "outputs": [
    {
     "data": {
      "text/html": [
       "<div>\n",
       "<style scoped>\n",
       "    .dataframe tbody tr th:only-of-type {\n",
       "        vertical-align: middle;\n",
       "    }\n",
       "\n",
       "    .dataframe tbody tr th {\n",
       "        vertical-align: top;\n",
       "    }\n",
       "\n",
       "    .dataframe thead th {\n",
       "        text-align: right;\n",
       "    }\n",
       "</style>\n",
       "<table border=\"1\" class=\"dataframe\">\n",
       "  <thead>\n",
       "    <tr style=\"text-align: right;\">\n",
       "      <th></th>\n",
       "      <th>all_sales</th>\n",
       "      <th>critic_score</th>\n",
       "      <th>user_score</th>\n",
       "    </tr>\n",
       "  </thead>\n",
       "  <tbody>\n",
       "    <tr>\n",
       "      <th>all_sales</th>\n",
       "      <td>1.000000</td>\n",
       "      <td>0.370201</td>\n",
       "      <td>0.407926</td>\n",
       "    </tr>\n",
       "    <tr>\n",
       "      <th>critic_score</th>\n",
       "      <td>0.370201</td>\n",
       "      <td>1.000000</td>\n",
       "      <td>0.763536</td>\n",
       "    </tr>\n",
       "    <tr>\n",
       "      <th>user_score</th>\n",
       "      <td>0.407926</td>\n",
       "      <td>0.763536</td>\n",
       "      <td>1.000000</td>\n",
       "    </tr>\n",
       "  </tbody>\n",
       "</table>\n",
       "</div>"
      ],
      "text/plain": [
       "              all_sales  critic_score  user_score\n",
       "all_sales      1.000000      0.370201    0.407926\n",
       "critic_score   0.370201      1.000000    0.763536\n",
       "user_score     0.407926      0.763536    1.000000"
      ]
     },
     "metadata": {},
     "output_type": "display_data"
    },
    {
     "data": {
      "image/png": "[encoded data removed]",
      "text/plain": [
       "<Figure size 432x288 with 2 Axes>"
      ]
     },
     "metadata": {
      "needs_background": "light"
     },
     "output_type": "display_data"
    }
   ],
   "source": [
    "actual_period_wiiu = actual_period[actual_period['platform'] == 'WiiU']\n",
    "actual_period_wiiu = actual_period_wiiu.loc[:,['all_sales', 'critic_score', 'user_score']]\n",
    "display(actual_period_wiiu.corr())\n",
    "corr = actual_period_wiiu.corr()\n",
    "sm.graphics.plot_corr(corr, xnames=list(corr.columns))\n",
    "plt.show()"
   ]
  },
  {
   "cell_type": "code",
   "execution_count": 65,
   "metadata": {},
   "outputs": [
    {
     "data": {
      "text/html": [
       "<div>\n",
       "<style scoped>\n",
       "    .dataframe tbody tr th:only-of-type {\n",
       "        vertical-align: middle;\n",
       "    }\n",
       "\n",
       "    .dataframe tbody tr th {\n",
       "        vertical-align: top;\n",
       "    }\n",
       "\n",
       "    .dataframe thead th {\n",
       "        text-align: right;\n",
       "    }\n",
       "</style>\n",
       "<table border=\"1\" class=\"dataframe\">\n",
       "  <thead>\n",
       "    <tr style=\"text-align: right;\">\n",
       "      <th></th>\n",
       "      <th>all_sales</th>\n",
       "      <th>critic_score</th>\n",
       "      <th>user_score</th>\n",
       "    </tr>\n",
       "  </thead>\n",
       "  <tbody>\n",
       "    <tr>\n",
       "      <th>all_sales</th>\n",
       "      <td>1.000000</td>\n",
       "      <td>0.174634</td>\n",
       "      <td>-0.071597</td>\n",
       "    </tr>\n",
       "    <tr>\n",
       "      <th>critic_score</th>\n",
       "      <td>0.174634</td>\n",
       "      <td>1.000000</td>\n",
       "      <td>0.466099</td>\n",
       "    </tr>\n",
       "    <tr>\n",
       "      <th>user_score</th>\n",
       "      <td>-0.071597</td>\n",
       "      <td>0.466099</td>\n",
       "      <td>1.000000</td>\n",
       "    </tr>\n",
       "  </tbody>\n",
       "</table>\n",
       "</div>"
      ],
      "text/plain": [
       "              all_sales  critic_score  user_score\n",
       "all_sales      1.000000      0.174634   -0.071597\n",
       "critic_score   0.174634      1.000000    0.466099\n",
       "user_score    -0.071597      0.466099    1.000000"
      ]
     },
     "metadata": {},
     "output_type": "display_data"
    },
    {
     "data": {
      "image/png": "[encoded data removed]",
      "text/plain": [
       "<Figure size 432x288 with 2 Axes>"
      ]
     },
     "metadata": {
      "needs_background": "light"
     },
     "output_type": "display_data"
    }
   ],
   "source": [
    "actual_period_pc = actual_period[actual_period['platform'] == 'PC']\n",
    "actual_period_pc = actual_period_pc.loc[:,['all_sales', 'critic_score', 'user_score']]\n",
    "display(actual_period_pc.corr())\n",
    "corr = actual_period_pc.corr()\n",
    "sm.graphics.plot_corr(corr, xnames=list(corr.columns))\n",
    "plt.show()"
   ]
  },
  {
   "cell_type": "markdown",
   "metadata": {},
   "source": [
    "#### Вывод"
   ]
  },
  {
   "cell_type": "markdown",
   "metadata": {},
   "source": [
    "По всем проверенным платформам продажи растут у тех игр, у которых оценка критиков и пользователей выше. Оценки критиков и пользователей имеют линейную зависимость, то есть в большинстве случаев они схожи. В основном продажи большие у тех игр для которых оценка критиков выше 50 и оценка пользователей выше 4."
   ]
  },
  {
   "cell_type": "markdown",
   "metadata": {},
   "source": [
    "### Общее распределение игр по жанрам"
   ]
  },
  {
   "cell_type": "markdown",
   "metadata": {},
   "source": [
    "Посмотрю на данные по продажам в зависимости от жанра игры для актуального периода."
   ]
  },
  {
   "cell_type": "code",
   "execution_count": 66,
   "metadata": {},
   "outputs": [
    {
     "data": {
      "text/html": [
       "<div>\n",
       "<style scoped>\n",
       "    .dataframe tbody tr th:only-of-type {\n",
       "        vertical-align: middle;\n",
       "    }\n",
       "\n",
       "    .dataframe tbody tr th {\n",
       "        vertical-align: top;\n",
       "    }\n",
       "\n",
       "    .dataframe thead th {\n",
       "        text-align: right;\n",
       "    }\n",
       "</style>\n",
       "<table border=\"1\" class=\"dataframe\">\n",
       "  <thead>\n",
       "    <tr style=\"text-align: right;\">\n",
       "      <th></th>\n",
       "      <th>all_sales</th>\n",
       "    </tr>\n",
       "    <tr>\n",
       "      <th>genre</th>\n",
       "      <th></th>\n",
       "    </tr>\n",
       "  </thead>\n",
       "  <tbody>\n",
       "    <tr>\n",
       "      <th>Action</th>\n",
       "      <td>199.36</td>\n",
       "    </tr>\n",
       "    <tr>\n",
       "      <th>Shooter</th>\n",
       "      <td>170.94</td>\n",
       "    </tr>\n",
       "    <tr>\n",
       "      <th>Sports</th>\n",
       "      <td>109.48</td>\n",
       "    </tr>\n",
       "    <tr>\n",
       "      <th>Role-Playing</th>\n",
       "      <td>101.44</td>\n",
       "    </tr>\n",
       "    <tr>\n",
       "      <th>Misc</th>\n",
       "      <td>37.55</td>\n",
       "    </tr>\n",
       "    <tr>\n",
       "      <th>Fighting</th>\n",
       "      <td>28.22</td>\n",
       "    </tr>\n",
       "    <tr>\n",
       "      <th>Racing</th>\n",
       "      <td>27.52</td>\n",
       "    </tr>\n",
       "    <tr>\n",
       "      <th>Platform</th>\n",
       "      <td>18.09</td>\n",
       "    </tr>\n",
       "    <tr>\n",
       "      <th>Adventure</th>\n",
       "      <td>17.55</td>\n",
       "    </tr>\n",
       "    <tr>\n",
       "      <th>Simulation</th>\n",
       "      <td>13.13</td>\n",
       "    </tr>\n",
       "    <tr>\n",
       "      <th>Strategy</th>\n",
       "      <td>3.96</td>\n",
       "    </tr>\n",
       "    <tr>\n",
       "      <th>Puzzle</th>\n",
       "      <td>2.21</td>\n",
       "    </tr>\n",
       "  </tbody>\n",
       "</table>\n",
       "</div>"
      ],
      "text/plain": [
       "              all_sales\n",
       "genre                  \n",
       "Action           199.36\n",
       "Shooter          170.94\n",
       "Sports           109.48\n",
       "Role-Playing     101.44\n",
       "Misc              37.55\n",
       "Fighting          28.22\n",
       "Racing            27.52\n",
       "Platform          18.09\n",
       "Adventure         17.55\n",
       "Simulation        13.13\n",
       "Strategy           3.96\n",
       "Puzzle             2.21"
      ]
     },
     "execution_count": 66,
     "metadata": {},
     "output_type": "execute_result"
    }
   ],
   "source": [
    "actual_period_genre = pd.pivot_table(actual_period, index='genre', values='all_sales', aggfunc='sum')\n",
    "actual_period_genre.sort_values('all_sales', ascending=False)"
   ]
  },
  {
   "cell_type": "code",
   "execution_count": 67,
   "metadata": {},
   "outputs": [
    {
     "data": {
      "image/png": "[encoded data removed]",
      "text/plain": [
       "<Figure size 1080x576 with 1 Axes>"
      ]
     },
     "metadata": {
      "needs_background": "light"
     },
     "output_type": "display_data"
    }
   ],
   "source": [
    "plt.figure(figsize=(15,8))\n",
    "plt.bar(actual_period_genre.index, actual_period_genre['all_sales'])\n",
    "plt.title('Популярные жанры')\n",
    "plt.xlabel(\"Жанр игры\");\n",
    "plt.ylabel(\"Количество игр млн. шт.\");"
   ]
  },
  {
   "cell_type": "markdown",
   "metadata": {},
   "source": [
    "#### Вывод"
   ]
  },
  {
   "cell_type": "markdown",
   "metadata": {},
   "source": [
    "Самый продаваемы жанр Action и Shooter (что по сути тоже Action). Спортивные игры и RPG также имеют высокие продажи. Остальные жанры дают гораздо меньшие продажи, чем первая четверка. Замыкает рейтинг жанр головоломок, в нем не выходят крупные AAA проекты приносящие больой доход и вообще это довольно нишевый жанр."
   ]
  },
  {
   "cell_type": "markdown",
   "metadata": {},
   "source": [
    "## Шаг 4. Портрет пользователя каждого региона"
   ]
  },
  {
   "cell_type": "markdown",
   "metadata": {},
   "source": [
    "### Северная Америка"
   ]
  },
  {
   "cell_type": "markdown",
   "metadata": {},
   "source": [
    "Проанализирую данные по платформе, жарну и рейтингу для игр, которые в северной Америке имели продажи больше нуля."
   ]
  },
  {
   "cell_type": "code",
   "execution_count": 68,
   "metadata": {},
   "outputs": [
    {
     "name": "stdout",
     "output_type": "stream",
     "text": [
      "<class 'pandas.core.frame.DataFrame'>\n",
      "Int64Index: 981 entries, 31 to 16672\n",
      "Data columns (total 12 columns):\n",
      " #   Column           Non-Null Count  Dtype  \n",
      "---  ------           --------------  -----  \n",
      " 0   name             981 non-null    object \n",
      " 1   platform         981 non-null    object \n",
      " 2   year_of_release  981 non-null    Int64  \n",
      " 3   genre            981 non-null    object \n",
      " 4   na_sales         981 non-null    float64\n",
      " 5   eu_sales         981 non-null    float64\n",
      " 6   jp_sales         981 non-null    float64\n",
      " 7   other_sales      981 non-null    float64\n",
      " 8   critic_score     571 non-null    Int64  \n",
      " 9   user_score       713 non-null    float64\n",
      " 10  rating           981 non-null    object \n",
      " 11  all_sales        981 non-null    float64\n",
      "dtypes: Int64(2), float64(6), object(4)\n",
      "memory usage: 101.5+ KB\n"
     ]
    }
   ],
   "source": [
    "actual_period_na = actual_period.query('na_sales > 0')\n",
    "actual_period_na.info()"
   ]
  },
  {
   "cell_type": "code",
   "execution_count": 69,
   "metadata": {},
   "outputs": [
    {
     "data": {
      "text/html": [
       "<div>\n",
       "<style scoped>\n",
       "    .dataframe tbody tr th:only-of-type {\n",
       "        vertical-align: middle;\n",
       "    }\n",
       "\n",
       "    .dataframe tbody tr th {\n",
       "        vertical-align: top;\n",
       "    }\n",
       "\n",
       "    .dataframe thead th {\n",
       "        text-align: right;\n",
       "    }\n",
       "</style>\n",
       "<table border=\"1\" class=\"dataframe\">\n",
       "  <thead>\n",
       "    <tr style=\"text-align: right;\">\n",
       "      <th></th>\n",
       "      <th>na_sales</th>\n",
       "    </tr>\n",
       "    <tr>\n",
       "      <th>platform</th>\n",
       "      <th></th>\n",
       "    </tr>\n",
       "  </thead>\n",
       "  <tbody>\n",
       "    <tr>\n",
       "      <th>PS4</th>\n",
       "      <td>98.61</td>\n",
       "    </tr>\n",
       "    <tr>\n",
       "      <th>XOne</th>\n",
       "      <td>81.27</td>\n",
       "    </tr>\n",
       "    <tr>\n",
       "      <th>X360</th>\n",
       "      <td>28.30</td>\n",
       "    </tr>\n",
       "    <tr>\n",
       "      <th>3DS</th>\n",
       "      <td>22.64</td>\n",
       "    </tr>\n",
       "    <tr>\n",
       "      <th>PS3</th>\n",
       "      <td>22.05</td>\n",
       "    </tr>\n",
       "    <tr>\n",
       "      <th>WiiU</th>\n",
       "      <td>19.36</td>\n",
       "    </tr>\n",
       "    <tr>\n",
       "      <th>PC</th>\n",
       "      <td>7.23</td>\n",
       "    </tr>\n",
       "    <tr>\n",
       "      <th>PSV</th>\n",
       "      <td>2.52</td>\n",
       "    </tr>\n",
       "    <tr>\n",
       "      <th>Wii</th>\n",
       "      <td>2.08</td>\n",
       "    </tr>\n",
       "  </tbody>\n",
       "</table>\n",
       "</div>"
      ],
      "text/plain": [
       "          na_sales\n",
       "platform          \n",
       "PS4          98.61\n",
       "XOne         81.27\n",
       "X360         28.30\n",
       "3DS          22.64\n",
       "PS3          22.05\n",
       "WiiU         19.36\n",
       "PC            7.23\n",
       "PSV           2.52\n",
       "Wii           2.08"
      ]
     },
     "metadata": {},
     "output_type": "display_data"
    },
    {
     "data": {
      "image/png": "[encoded data removed]",
      "text/plain": [
       "<Figure size 1080x576 with 1 Axes>"
      ]
     },
     "metadata": {
      "needs_background": "light"
     },
     "output_type": "display_data"
    }
   ],
   "source": [
    "actual_period_na_platform = pd.pivot_table(actual_period_na, index='platform', values='na_sales',\n",
    "                                        aggfunc='sum').sort_values('na_sales', ascending=False)\n",
    "display(actual_period_na_platform)\n",
    "\n",
    "plt.figure(figsize=(15,8))\n",
    "plt.bar(actual_period_na_platform.index, actual_period_na_platform['na_sales'])\n",
    "plt.title('Популярные платформы Северной Америки')\n",
    "plt.xlabel(\"Платформа\");\n",
    "plt.ylabel(\"Продажи игр млн. шт.\");"
   ]
  },
  {
   "cell_type": "code",
   "execution_count": 70,
   "metadata": {},
   "outputs": [
    {
     "data": {
      "text/html": [
       "<div>\n",
       "<style scoped>\n",
       "    .dataframe tbody tr th:only-of-type {\n",
       "        vertical-align: middle;\n",
       "    }\n",
       "\n",
       "    .dataframe tbody tr th {\n",
       "        vertical-align: top;\n",
       "    }\n",
       "\n",
       "    .dataframe thead th {\n",
       "        text-align: right;\n",
       "    }\n",
       "</style>\n",
       "<table border=\"1\" class=\"dataframe\">\n",
       "  <thead>\n",
       "    <tr style=\"text-align: right;\">\n",
       "      <th></th>\n",
       "      <th>na_sales</th>\n",
       "    </tr>\n",
       "    <tr>\n",
       "      <th>genre</th>\n",
       "      <th></th>\n",
       "    </tr>\n",
       "  </thead>\n",
       "  <tbody>\n",
       "    <tr>\n",
       "      <th>Shooter</th>\n",
       "      <td>79.02</td>\n",
       "    </tr>\n",
       "    <tr>\n",
       "      <th>Action</th>\n",
       "      <td>72.53</td>\n",
       "    </tr>\n",
       "    <tr>\n",
       "      <th>Sports</th>\n",
       "      <td>46.13</td>\n",
       "    </tr>\n",
       "    <tr>\n",
       "      <th>Role-Playing</th>\n",
       "      <td>33.47</td>\n",
       "    </tr>\n",
       "    <tr>\n",
       "      <th>Misc</th>\n",
       "      <td>15.05</td>\n",
       "    </tr>\n",
       "    <tr>\n",
       "      <th>Fighting</th>\n",
       "      <td>12.43</td>\n",
       "    </tr>\n",
       "    <tr>\n",
       "      <th>Racing</th>\n",
       "      <td>8.74</td>\n",
       "    </tr>\n",
       "    <tr>\n",
       "      <th>Platform</th>\n",
       "      <td>6.79</td>\n",
       "    </tr>\n",
       "    <tr>\n",
       "      <th>Adventure</th>\n",
       "      <td>5.64</td>\n",
       "    </tr>\n",
       "    <tr>\n",
       "      <th>Simulation</th>\n",
       "      <td>2.63</td>\n",
       "    </tr>\n",
       "    <tr>\n",
       "      <th>Strategy</th>\n",
       "      <td>0.98</td>\n",
       "    </tr>\n",
       "    <tr>\n",
       "      <th>Puzzle</th>\n",
       "      <td>0.65</td>\n",
       "    </tr>\n",
       "  </tbody>\n",
       "</table>\n",
       "</div>"
      ],
      "text/plain": [
       "              na_sales\n",
       "genre                 \n",
       "Shooter          79.02\n",
       "Action           72.53\n",
       "Sports           46.13\n",
       "Role-Playing     33.47\n",
       "Misc             15.05\n",
       "Fighting         12.43\n",
       "Racing            8.74\n",
       "Platform          6.79\n",
       "Adventure         5.64\n",
       "Simulation        2.63\n",
       "Strategy          0.98\n",
       "Puzzle            0.65"
      ]
     },
     "metadata": {},
     "output_type": "display_data"
    },
    {
     "data": {
      "image/png": "[encoded data removed]",
      "text/plain": [
       "<Figure size 1080x576 with 1 Axes>"
      ]
     },
     "metadata": {
      "needs_background": "light"
     },
     "output_type": "display_data"
    }
   ],
   "source": [
    "actual_period_na_genre = pd.pivot_table(actual_period_na, index='genre', values='na_sales',\n",
    "                                        aggfunc='sum').sort_values('na_sales', ascending=False)\n",
    "display(actual_period_na_genre)\n",
    "\n",
    "plt.figure(figsize=(15,8))\n",
    "plt.bar(actual_period_na_genre.index, actual_period_na_genre['na_sales'])\n",
    "plt.title('Популярные жанры игр Северной Америки')\n",
    "plt.xlabel(\"Жанр игр\");\n",
    "plt.ylabel(\"Продажи игр млн. шт.\");"
   ]
  },
  {
   "cell_type": "code",
   "execution_count": 71,
   "metadata": {},
   "outputs": [
    {
     "data": {
      "text/html": [
       "<div>\n",
       "<style scoped>\n",
       "    .dataframe tbody tr th:only-of-type {\n",
       "        vertical-align: middle;\n",
       "    }\n",
       "\n",
       "    .dataframe tbody tr th {\n",
       "        vertical-align: top;\n",
       "    }\n",
       "\n",
       "    .dataframe thead th {\n",
       "        text-align: right;\n",
       "    }\n",
       "</style>\n",
       "<table border=\"1\" class=\"dataframe\">\n",
       "  <thead>\n",
       "    <tr style=\"text-align: right;\">\n",
       "      <th></th>\n",
       "      <th>na_sales</th>\n",
       "    </tr>\n",
       "    <tr>\n",
       "      <th>rating</th>\n",
       "      <th></th>\n",
       "    </tr>\n",
       "  </thead>\n",
       "  <tbody>\n",
       "    <tr>\n",
       "      <th>M</th>\n",
       "      <td>131.67</td>\n",
       "    </tr>\n",
       "    <tr>\n",
       "      <th>T</th>\n",
       "      <td>59.67</td>\n",
       "    </tr>\n",
       "    <tr>\n",
       "      <th>E</th>\n",
       "      <td>59.49</td>\n",
       "    </tr>\n",
       "    <tr>\n",
       "      <th>E10+</th>\n",
       "      <td>33.23</td>\n",
       "    </tr>\n",
       "  </tbody>\n",
       "</table>\n",
       "</div>"
      ],
      "text/plain": [
       "        na_sales\n",
       "rating          \n",
       "M         131.67\n",
       "T          59.67\n",
       "E          59.49\n",
       "E10+       33.23"
      ]
     },
     "metadata": {},
     "output_type": "display_data"
    },
    {
     "data": {
      "image/png": "[encoded data removed]",
      "text/plain": [
       "<Figure size 576x288 with 1 Axes>"
      ]
     },
     "metadata": {
      "needs_background": "light"
     },
     "output_type": "display_data"
    }
   ],
   "source": [
    "actual_period_na_rating = pd.pivot_table(actual_period_na, index='rating', values='na_sales',\n",
    "                                        aggfunc='sum').sort_values('na_sales', ascending=False)\n",
    "display(actual_period_na_rating)\n",
    "\n",
    "plt.figure(figsize=(8,4))\n",
    "plt.bar(actual_period_na_rating.index, actual_period_na_rating['na_sales'])\n",
    "plt.title('Популярный рейтинг игр Северной Америки')\n",
    "plt.xlabel(\"Рейтинг ESRB\");\n",
    "plt.ylabel(\"Продажи игр млн. шт.\");"
   ]
  },
  {
   "cell_type": "markdown",
   "metadata": {},
   "source": [
    "Средний геймер северной Америки владеет PS4 или XOne, предпочитает игры жанра Shooter или Action рейтинга М.\n",
    "<br>\n",
    "ТОП-5 платформ:\n",
    "- PS4\n",
    "- XOne\n",
    "- X360\n",
    "- 3DS\n",
    "- PS3\n",
    "\n",
    "ТОП-5 жанров:\n",
    "- Shooter\n",
    "- Action\n",
    "- Sports\n",
    "- Role-Playing\n",
    "- Misc\n",
    "\n",
    "Рейтинг M определенно влияет на покупку игры."
   ]
  },
  {
   "cell_type": "markdown",
   "metadata": {},
   "source": [
    "### Европа"
   ]
  },
  {
   "cell_type": "markdown",
   "metadata": {},
   "source": [
    "Проанализирую данные по платформе, жарну и рейтингу для игр, которые в Европе имели продажи больше нуля."
   ]
  },
  {
   "cell_type": "code",
   "execution_count": 72,
   "metadata": {},
   "outputs": [
    {
     "name": "stdout",
     "output_type": "stream",
     "text": [
      "<class 'pandas.core.frame.DataFrame'>\n",
      "Int64Index: 1067 entries, 31 to 16692\n",
      "Data columns (total 12 columns):\n",
      " #   Column           Non-Null Count  Dtype  \n",
      "---  ------           --------------  -----  \n",
      " 0   name             1067 non-null   object \n",
      " 1   platform         1067 non-null   object \n",
      " 2   year_of_release  1067 non-null   Int64  \n",
      " 3   genre            1067 non-null   object \n",
      " 4   na_sales         1067 non-null   float64\n",
      " 5   eu_sales         1067 non-null   float64\n",
      " 6   jp_sales         1067 non-null   float64\n",
      " 7   other_sales      1067 non-null   float64\n",
      " 8   critic_score     626 non-null    Int64  \n",
      " 9   user_score       774 non-null    float64\n",
      " 10  rating           1067 non-null   object \n",
      " 11  all_sales        1067 non-null   float64\n",
      "dtypes: Int64(2), float64(6), object(4)\n",
      "memory usage: 110.5+ KB\n"
     ]
    }
   ],
   "source": [
    "actual_period_eu = actual_period.query('eu_sales > 0')\n",
    "actual_period_eu.info()"
   ]
  },
  {
   "cell_type": "code",
   "execution_count": 73,
   "metadata": {},
   "outputs": [
    {
     "data": {
      "text/html": [
       "<div>\n",
       "<style scoped>\n",
       "    .dataframe tbody tr th:only-of-type {\n",
       "        vertical-align: middle;\n",
       "    }\n",
       "\n",
       "    .dataframe tbody tr th {\n",
       "        vertical-align: top;\n",
       "    }\n",
       "\n",
       "    .dataframe thead th {\n",
       "        text-align: right;\n",
       "    }\n",
       "</style>\n",
       "<table border=\"1\" class=\"dataframe\">\n",
       "  <thead>\n",
       "    <tr style=\"text-align: right;\">\n",
       "      <th></th>\n",
       "      <th>eu_sales</th>\n",
       "    </tr>\n",
       "    <tr>\n",
       "      <th>platform</th>\n",
       "      <th></th>\n",
       "    </tr>\n",
       "  </thead>\n",
       "  <tbody>\n",
       "    <tr>\n",
       "      <th>PS4</th>\n",
       "      <td>130.04</td>\n",
       "    </tr>\n",
       "    <tr>\n",
       "      <th>XOne</th>\n",
       "      <td>46.25</td>\n",
       "    </tr>\n",
       "    <tr>\n",
       "      <th>PS3</th>\n",
       "      <td>25.54</td>\n",
       "    </tr>\n",
       "    <tr>\n",
       "      <th>PC</th>\n",
       "      <td>17.97</td>\n",
       "    </tr>\n",
       "    <tr>\n",
       "      <th>3DS</th>\n",
       "      <td>16.12</td>\n",
       "    </tr>\n",
       "    <tr>\n",
       "      <th>X360</th>\n",
       "      <td>15.49</td>\n",
       "    </tr>\n",
       "    <tr>\n",
       "      <th>WiiU</th>\n",
       "      <td>13.15</td>\n",
       "    </tr>\n",
       "    <tr>\n",
       "      <th>PSV</th>\n",
       "      <td>3.53</td>\n",
       "    </tr>\n",
       "    <tr>\n",
       "      <th>Wii</th>\n",
       "      <td>2.59</td>\n",
       "    </tr>\n",
       "  </tbody>\n",
       "</table>\n",
       "</div>"
      ],
      "text/plain": [
       "          eu_sales\n",
       "platform          \n",
       "PS4         130.04\n",
       "XOne         46.25\n",
       "PS3          25.54\n",
       "PC           17.97\n",
       "3DS          16.12\n",
       "X360         15.49\n",
       "WiiU         13.15\n",
       "PSV           3.53\n",
       "Wii           2.59"
      ]
     },
     "metadata": {},
     "output_type": "display_data"
    },
    {
     "data": {
      "image/png": "[encoded data removed]",
      "text/plain": [
       "<Figure size 1080x576 with 1 Axes>"
      ]
     },
     "metadata": {
      "needs_background": "light"
     },
     "output_type": "display_data"
    }
   ],
   "source": [
    "actual_period_eu_platform = pd.pivot_table(actual_period_eu, index='platform', values='eu_sales',\n",
    "                                        aggfunc='sum').sort_values('eu_sales', ascending=False)\n",
    "display(actual_period_eu_platform)\n",
    "\n",
    "plt.figure(figsize=(15,8))\n",
    "plt.bar(actual_period_eu_platform.index, actual_period_eu_platform['eu_sales'])\n",
    "plt.title('Популярные платформы Европы')\n",
    "plt.xlabel(\"Платформа\");\n",
    "plt.ylabel(\"Продажи игр млн. шт.\");"
   ]
  },
  {
   "cell_type": "code",
   "execution_count": 74,
   "metadata": {},
   "outputs": [
    {
     "data": {
      "text/html": [
       "<div>\n",
       "<style scoped>\n",
       "    .dataframe tbody tr th:only-of-type {\n",
       "        vertical-align: middle;\n",
       "    }\n",
       "\n",
       "    .dataframe tbody tr th {\n",
       "        vertical-align: top;\n",
       "    }\n",
       "\n",
       "    .dataframe thead th {\n",
       "        text-align: right;\n",
       "    }\n",
       "</style>\n",
       "<table border=\"1\" class=\"dataframe\">\n",
       "  <thead>\n",
       "    <tr style=\"text-align: right;\">\n",
       "      <th></th>\n",
       "      <th>eu_sales</th>\n",
       "    </tr>\n",
       "    <tr>\n",
       "      <th>genre</th>\n",
       "      <th></th>\n",
       "    </tr>\n",
       "  </thead>\n",
       "  <tbody>\n",
       "    <tr>\n",
       "      <th>Action</th>\n",
       "      <td>74.68</td>\n",
       "    </tr>\n",
       "    <tr>\n",
       "      <th>Shooter</th>\n",
       "      <td>65.52</td>\n",
       "    </tr>\n",
       "    <tr>\n",
       "      <th>Sports</th>\n",
       "      <td>45.73</td>\n",
       "    </tr>\n",
       "    <tr>\n",
       "      <th>Role-Playing</th>\n",
       "      <td>28.17</td>\n",
       "    </tr>\n",
       "    <tr>\n",
       "      <th>Racing</th>\n",
       "      <td>14.13</td>\n",
       "    </tr>\n",
       "    <tr>\n",
       "      <th>Misc</th>\n",
       "      <td>12.86</td>\n",
       "    </tr>\n",
       "    <tr>\n",
       "      <th>Simulation</th>\n",
       "      <td>7.30</td>\n",
       "    </tr>\n",
       "    <tr>\n",
       "      <th>Platform</th>\n",
       "      <td>6.80</td>\n",
       "    </tr>\n",
       "    <tr>\n",
       "      <th>Fighting</th>\n",
       "      <td>6.69</td>\n",
       "    </tr>\n",
       "    <tr>\n",
       "      <th>Adventure</th>\n",
       "      <td>6.49</td>\n",
       "    </tr>\n",
       "    <tr>\n",
       "      <th>Strategy</th>\n",
       "      <td>1.79</td>\n",
       "    </tr>\n",
       "    <tr>\n",
       "      <th>Puzzle</th>\n",
       "      <td>0.52</td>\n",
       "    </tr>\n",
       "  </tbody>\n",
       "</table>\n",
       "</div>"
      ],
      "text/plain": [
       "              eu_sales\n",
       "genre                 \n",
       "Action           74.68\n",
       "Shooter          65.52\n",
       "Sports           45.73\n",
       "Role-Playing     28.17\n",
       "Racing           14.13\n",
       "Misc             12.86\n",
       "Simulation        7.30\n",
       "Platform          6.80\n",
       "Fighting          6.69\n",
       "Adventure         6.49\n",
       "Strategy          1.79\n",
       "Puzzle            0.52"
      ]
     },
     "metadata": {},
     "output_type": "display_data"
    },
    {
     "data": {
      "image/png": "[encoded data removed]",
      "text/plain": [
       "<Figure size 1080x576 with 1 Axes>"
      ]
     },
     "metadata": {
      "needs_background": "light"
     },
     "output_type": "display_data"
    }
   ],
   "source": [
    "actual_period_eu_genre = pd.pivot_table(actual_period_eu, index='genre', values='eu_sales',\n",
    "                                        aggfunc='sum').sort_values('eu_sales', ascending=False)\n",
    "display(actual_period_eu_genre)\n",
    "\n",
    "plt.figure(figsize=(15,8))\n",
    "plt.bar(actual_period_eu_genre.index, actual_period_eu_genre['eu_sales'])\n",
    "plt.title('Популярные жанры игр Европы')\n",
    "plt.xlabel(\"Жанр игр\");\n",
    "plt.ylabel(\"Продажи игр млн. шт.\");"
   ]
  },
  {
   "cell_type": "code",
   "execution_count": 75,
   "metadata": {},
   "outputs": [
    {
     "data": {
      "text/html": [
       "<div>\n",
       "<style scoped>\n",
       "    .dataframe tbody tr th:only-of-type {\n",
       "        vertical-align: middle;\n",
       "    }\n",
       "\n",
       "    .dataframe tbody tr th {\n",
       "        vertical-align: top;\n",
       "    }\n",
       "\n",
       "    .dataframe thead th {\n",
       "        text-align: right;\n",
       "    }\n",
       "</style>\n",
       "<table border=\"1\" class=\"dataframe\">\n",
       "  <thead>\n",
       "    <tr style=\"text-align: right;\">\n",
       "      <th></th>\n",
       "      <th>eu_sales</th>\n",
       "    </tr>\n",
       "    <tr>\n",
       "      <th>rating</th>\n",
       "      <th></th>\n",
       "    </tr>\n",
       "  </thead>\n",
       "  <tbody>\n",
       "    <tr>\n",
       "      <th>M</th>\n",
       "      <td>125.69</td>\n",
       "    </tr>\n",
       "    <tr>\n",
       "      <th>E</th>\n",
       "      <td>71.52</td>\n",
       "    </tr>\n",
       "    <tr>\n",
       "      <th>T</th>\n",
       "      <td>47.31</td>\n",
       "    </tr>\n",
       "    <tr>\n",
       "      <th>E10+</th>\n",
       "      <td>26.16</td>\n",
       "    </tr>\n",
       "  </tbody>\n",
       "</table>\n",
       "</div>"
      ],
      "text/plain": [
       "        eu_sales\n",
       "rating          \n",
       "M         125.69\n",
       "E          71.52\n",
       "T          47.31\n",
       "E10+       26.16"
      ]
     },
     "metadata": {},
     "output_type": "display_data"
    },
    {
     "data": {
      "image/png": "[encoded data removed]",
      "text/plain": [
       "<Figure size 576x288 with 1 Axes>"
      ]
     },
     "metadata": {
      "needs_background": "light"
     },
     "output_type": "display_data"
    }
   ],
   "source": [
    "actual_period_eu_rating = pd.pivot_table(actual_period_eu, index='rating', values='eu_sales',\n",
    "                                        aggfunc='sum').sort_values('eu_sales', ascending=False)\n",
    "display(actual_period_eu_rating)\n",
    "\n",
    "plt.figure(figsize=(8,4))\n",
    "plt.bar(actual_period_eu_rating.index, actual_period_eu_rating['eu_sales'])\n",
    "plt.title('Популярный рейтинг игр Европы')\n",
    "plt.xlabel(\"Рейтинг ESRB\");\n",
    "plt.ylabel(\"Продажи игр млн. шт.\");"
   ]
  },
  {
   "cell_type": "markdown",
   "metadata": {},
   "source": [
    "Средний геймер Европы владеет PS4, предпочитает игры жанра Action или Shooter рейтинга М.\n",
    "<br>\n",
    "ТОП-5 платформ:\n",
    "- PS4\n",
    "- XOne\n",
    "- PS3\n",
    "- PC\n",
    "- 3DS\n",
    "\n",
    "ТОП-5 жанров:\n",
    "- Action\n",
    "- Shooter\n",
    "- Sports\n",
    "- Role-Playing\n",
    "- Racing\n",
    "\n",
    "Рейтинг M определенно влияет на покупку игры."
   ]
  },
  {
   "cell_type": "markdown",
   "metadata": {},
   "source": [
    "### Япония"
   ]
  },
  {
   "cell_type": "markdown",
   "metadata": {},
   "source": [
    "Проанализирую данные по платформе, жарну и рейтингу для игр, которые в Японии имели продажи больше нуля."
   ]
  },
  {
   "cell_type": "code",
   "execution_count": 76,
   "metadata": {},
   "outputs": [
    {
     "name": "stdout",
     "output_type": "stream",
     "text": [
      "<class 'pandas.core.frame.DataFrame'>\n",
      "Int64Index: 873 entries, 31 to 16714\n",
      "Data columns (total 12 columns):\n",
      " #   Column           Non-Null Count  Dtype  \n",
      "---  ------           --------------  -----  \n",
      " 0   name             873 non-null    object \n",
      " 1   platform         873 non-null    object \n",
      " 2   year_of_release  873 non-null    Int64  \n",
      " 3   genre            873 non-null    object \n",
      " 4   na_sales         873 non-null    float64\n",
      " 5   eu_sales         873 non-null    float64\n",
      " 6   jp_sales         873 non-null    float64\n",
      " 7   other_sales      873 non-null    float64\n",
      " 8   critic_score     278 non-null    Int64  \n",
      " 9   user_score       327 non-null    float64\n",
      " 10  rating           873 non-null    object \n",
      " 11  all_sales        873 non-null    float64\n",
      "dtypes: Int64(2), float64(6), object(4)\n",
      "memory usage: 90.4+ KB\n"
     ]
    }
   ],
   "source": [
    "actual_period_jp = actual_period.query('jp_sales > 0')\n",
    "actual_period_jp.info()"
   ]
  },
  {
   "cell_type": "code",
   "execution_count": 77,
   "metadata": {},
   "outputs": [
    {
     "data": {
      "text/html": [
       "<div>\n",
       "<style scoped>\n",
       "    .dataframe tbody tr th:only-of-type {\n",
       "        vertical-align: middle;\n",
       "    }\n",
       "\n",
       "    .dataframe tbody tr th {\n",
       "        vertical-align: top;\n",
       "    }\n",
       "\n",
       "    .dataframe thead th {\n",
       "        text-align: right;\n",
       "    }\n",
       "</style>\n",
       "<table border=\"1\" class=\"dataframe\">\n",
       "  <thead>\n",
       "    <tr style=\"text-align: right;\">\n",
       "      <th></th>\n",
       "      <th>jp_sales</th>\n",
       "    </tr>\n",
       "    <tr>\n",
       "      <th>platform</th>\n",
       "      <th></th>\n",
       "    </tr>\n",
       "  </thead>\n",
       "  <tbody>\n",
       "    <tr>\n",
       "      <th>3DS</th>\n",
       "      <td>44.24</td>\n",
       "    </tr>\n",
       "    <tr>\n",
       "      <th>PS4</th>\n",
       "      <td>15.02</td>\n",
       "    </tr>\n",
       "    <tr>\n",
       "      <th>PSV</th>\n",
       "      <td>14.54</td>\n",
       "    </tr>\n",
       "    <tr>\n",
       "      <th>PS3</th>\n",
       "      <td>11.22</td>\n",
       "    </tr>\n",
       "    <tr>\n",
       "      <th>WiiU</th>\n",
       "      <td>7.31</td>\n",
       "    </tr>\n",
       "    <tr>\n",
       "      <th>PSP</th>\n",
       "      <td>0.36</td>\n",
       "    </tr>\n",
       "    <tr>\n",
       "      <th>XOne</th>\n",
       "      <td>0.32</td>\n",
       "    </tr>\n",
       "    <tr>\n",
       "      <th>X360</th>\n",
       "      <td>0.08</td>\n",
       "    </tr>\n",
       "  </tbody>\n",
       "</table>\n",
       "</div>"
      ],
      "text/plain": [
       "          jp_sales\n",
       "platform          \n",
       "3DS          44.24\n",
       "PS4          15.02\n",
       "PSV          14.54\n",
       "PS3          11.22\n",
       "WiiU          7.31\n",
       "PSP           0.36\n",
       "XOne          0.32\n",
       "X360          0.08"
      ]
     },
     "metadata": {},
     "output_type": "display_data"
    },
    {
     "data": {
      "image/png": "[encoded data removed]",
      "text/plain": [
       "<Figure size 1080x576 with 1 Axes>"
      ]
     },
     "metadata": {
      "needs_background": "light"
     },
     "output_type": "display_data"
    }
   ],
   "source": [
    "actual_period_jp_platform = pd.pivot_table(actual_period_jp, index='platform', values='jp_sales',\n",
    "                                        aggfunc='sum').sort_values('jp_sales', ascending=False)\n",
    "display(actual_period_jp_platform)\n",
    "\n",
    "plt.figure(figsize=(15,8))\n",
    "plt.bar(actual_period_jp_platform.index, actual_period_jp_platform['jp_sales'])\n",
    "plt.title('Популярные платформы Японии')\n",
    "plt.xlabel(\"Платформа\");\n",
    "plt.ylabel(\"Продажи игр млн. шт.\");"
   ]
  },
  {
   "cell_type": "code",
   "execution_count": 53,
   "metadata": {},
   "outputs": [
    {
     "data": {
      "text/html": [
       "<div>\n",
       "<style scoped>\n",
       "    .dataframe tbody tr th:only-of-type {\n",
       "        vertical-align: middle;\n",
       "    }\n",
       "\n",
       "    .dataframe tbody tr th {\n",
       "        vertical-align: top;\n",
       "    }\n",
       "\n",
       "    .dataframe thead th {\n",
       "        text-align: right;\n",
       "    }\n",
       "</style>\n",
       "<table border=\"1\" class=\"dataframe\">\n",
       "  <thead>\n",
       "    <tr style=\"text-align: right;\">\n",
       "      <th></th>\n",
       "      <th>jp_sales</th>\n",
       "    </tr>\n",
       "    <tr>\n",
       "      <th>genre</th>\n",
       "      <th></th>\n",
       "    </tr>\n",
       "  </thead>\n",
       "  <tbody>\n",
       "    <tr>\n",
       "      <th>Role-Playing</th>\n",
       "      <td>31.16</td>\n",
       "    </tr>\n",
       "    <tr>\n",
       "      <th>Action</th>\n",
       "      <td>29.58</td>\n",
       "    </tr>\n",
       "    <tr>\n",
       "      <th>Fighting</th>\n",
       "      <td>6.37</td>\n",
       "    </tr>\n",
       "    <tr>\n",
       "      <th>Misc</th>\n",
       "      <td>5.61</td>\n",
       "    </tr>\n",
       "    <tr>\n",
       "      <th>Shooter</th>\n",
       "      <td>4.87</td>\n",
       "    </tr>\n",
       "    <tr>\n",
       "      <th>Adventure</th>\n",
       "      <td>3.60</td>\n",
       "    </tr>\n",
       "    <tr>\n",
       "      <th>Sports</th>\n",
       "      <td>3.26</td>\n",
       "    </tr>\n",
       "    <tr>\n",
       "      <th>Platform</th>\n",
       "      <td>2.69</td>\n",
       "    </tr>\n",
       "    <tr>\n",
       "      <th>Simulation</th>\n",
       "      <td>2.31</td>\n",
       "    </tr>\n",
       "    <tr>\n",
       "      <th>Racing</th>\n",
       "      <td>1.76</td>\n",
       "    </tr>\n",
       "    <tr>\n",
       "      <th>Strategy</th>\n",
       "      <td>0.95</td>\n",
       "    </tr>\n",
       "    <tr>\n",
       "      <th>Puzzle</th>\n",
       "      <td>0.93</td>\n",
       "    </tr>\n",
       "  </tbody>\n",
       "</table>\n",
       "</div>"
      ],
      "text/plain": [
       "              jp_sales\n",
       "genre                 \n",
       "Role-Playing     31.16\n",
       "Action           29.58\n",
       "Fighting          6.37\n",
       "Misc              5.61\n",
       "Shooter           4.87\n",
       "Adventure         3.60\n",
       "Sports            3.26\n",
       "Platform          2.69\n",
       "Simulation        2.31\n",
       "Racing            1.76\n",
       "Strategy          0.95\n",
       "Puzzle            0.93"
      ]
     },
     "metadata": {},
     "output_type": "display_data"
    },
    {
     "data": {
      "image/png": "[encoded data removed]",
      "text/plain": [
       "<Figure size 1080x576 with 1 Axes>"
      ]
     },
     "metadata": {
      "needs_background": "light"
     },
     "output_type": "display_data"
    }
   ],
   "source": [
    "actual_period_jp_genre = pd.pivot_table(actual_period_jp, index='genre', values='jp_sales',\n",
    "                    \n",
    "                                        aggfunc='sum').sort_values('jp_sales', ascending=False)\n",
    "display(actual_period_jp_genre)\n",
    "\n",
    "plt.figure(figsize=(15,8))\n",
    "plt.bar(actual_period_jp_genre.index, actual_period_jp_genre['jp_sales'])\n",
    "plt.title('Популярные жанры игр Японии')\n",
    "plt.xlabel(\"Жанр игр\");\n",
    "plt.ylabel(\"Продажи игр млн. шт.\");"
   ]
  },
  {
   "cell_type": "code",
   "execution_count": 78,
   "metadata": {},
   "outputs": [
    {
     "data": {
      "text/html": [
       "<div>\n",
       "<style scoped>\n",
       "    .dataframe tbody tr th:only-of-type {\n",
       "        vertical-align: middle;\n",
       "    }\n",
       "\n",
       "    .dataframe tbody tr th {\n",
       "        vertical-align: top;\n",
       "    }\n",
       "\n",
       "    .dataframe thead th {\n",
       "        text-align: right;\n",
       "    }\n",
       "</style>\n",
       "<table border=\"1\" class=\"dataframe\">\n",
       "  <thead>\n",
       "    <tr style=\"text-align: right;\">\n",
       "      <th></th>\n",
       "      <th>jp_sales</th>\n",
       "    </tr>\n",
       "    <tr>\n",
       "      <th>rating</th>\n",
       "      <th></th>\n",
       "    </tr>\n",
       "  </thead>\n",
       "  <tbody>\n",
       "    <tr>\n",
       "      <th>T</th>\n",
       "      <td>40.32</td>\n",
       "    </tr>\n",
       "    <tr>\n",
       "      <th>M</th>\n",
       "      <td>32.10</td>\n",
       "    </tr>\n",
       "    <tr>\n",
       "      <th>E</th>\n",
       "      <td>16.21</td>\n",
       "    </tr>\n",
       "    <tr>\n",
       "      <th>E10+</th>\n",
       "      <td>4.46</td>\n",
       "    </tr>\n",
       "  </tbody>\n",
       "</table>\n",
       "</div>"
      ],
      "text/plain": [
       "        jp_sales\n",
       "rating          \n",
       "T          40.32\n",
       "M          32.10\n",
       "E          16.21\n",
       "E10+        4.46"
      ]
     },
     "metadata": {},
     "output_type": "display_data"
    },
    {
     "data": {
      "image/png": "[encoded data removed]",
      "text/plain": [
       "<Figure size 576x288 with 1 Axes>"
      ]
     },
     "metadata": {
      "needs_background": "light"
     },
     "output_type": "display_data"
    }
   ],
   "source": [
    "actual_period_jp_rating = pd.pivot_table(actual_period_jp, index='rating', values='jp_sales',\n",
    "                                        aggfunc='sum').sort_values('jp_sales', ascending=False)\n",
    "display(actual_period_jp_rating)\n",
    "\n",
    "plt.figure(figsize=(8,4))\n",
    "plt.bar(actual_period_jp_rating.index, actual_period_jp_rating['jp_sales'])\n",
    "plt.title('Популярный рейтинг игр Японии')\n",
    "plt.xlabel(\"Рейтинг ESRB\");\n",
    "plt.ylabel(\"Продажи игр млн. шт.\");"
   ]
  },
  {
   "cell_type": "markdown",
   "metadata": {},
   "source": [
    "Средний геймер Японии владеет 3DS, предпочитает игры жанра RPG или Action рейтинга T.\n",
    "<br>\n",
    "ТОП-5 платформ:\n",
    "- 3DS\n",
    "- PS4\n",
    "- PSV\n",
    "- PS3\n",
    "- WiiU\n",
    "\n",
    "ТОП-5 жанров:\n",
    "- Role-Playing\n",
    "- Action\n",
    "- Fighting\n",
    "- Misc\n",
    "- Shooter\n",
    "\n",
    "Рейтинг T определенно влияет на покупку игры."
   ]
  },
  {
   "cell_type": "markdown",
   "metadata": {},
   "source": [
    "### Остальной мир"
   ]
  },
  {
   "cell_type": "markdown",
   "metadata": {},
   "source": [
    "Проанализирую данные по платформе, жарну и рейтингу для игр, которые в остальном мире имели продажи больше нуля."
   ]
  },
  {
   "cell_type": "code",
   "execution_count": 79,
   "metadata": {},
   "outputs": [
    {
     "name": "stdout",
     "output_type": "stream",
     "text": [
      "<class 'pandas.core.frame.DataFrame'>\n",
      "Int64Index: 920 entries, 31 to 14979\n",
      "Data columns (total 12 columns):\n",
      " #   Column           Non-Null Count  Dtype  \n",
      "---  ------           --------------  -----  \n",
      " 0   name             920 non-null    object \n",
      " 1   platform         920 non-null    object \n",
      " 2   year_of_release  920 non-null    Int64  \n",
      " 3   genre            920 non-null    object \n",
      " 4   na_sales         920 non-null    float64\n",
      " 5   eu_sales         920 non-null    float64\n",
      " 6   jp_sales         920 non-null    float64\n",
      " 7   other_sales      920 non-null    float64\n",
      " 8   critic_score     547 non-null    Int64  \n",
      " 9   user_score       679 non-null    float64\n",
      " 10  rating           920 non-null    object \n",
      " 11  all_sales        920 non-null    float64\n",
      "dtypes: Int64(2), float64(6), object(4)\n",
      "memory usage: 95.2+ KB\n"
     ]
    }
   ],
   "source": [
    "actual_period_other = actual_period.query('other_sales > 0')\n",
    "actual_period_other.info()"
   ]
  },
  {
   "cell_type": "code",
   "execution_count": 80,
   "metadata": {},
   "outputs": [
    {
     "data": {
      "text/html": [
       "<div>\n",
       "<style scoped>\n",
       "    .dataframe tbody tr th:only-of-type {\n",
       "        vertical-align: middle;\n",
       "    }\n",
       "\n",
       "    .dataframe tbody tr th {\n",
       "        vertical-align: top;\n",
       "    }\n",
       "\n",
       "    .dataframe thead th {\n",
       "        text-align: right;\n",
       "    }\n",
       "</style>\n",
       "<table border=\"1\" class=\"dataframe\">\n",
       "  <thead>\n",
       "    <tr style=\"text-align: right;\">\n",
       "      <th></th>\n",
       "      <th>other_sales</th>\n",
       "    </tr>\n",
       "    <tr>\n",
       "      <th>platform</th>\n",
       "      <th></th>\n",
       "    </tr>\n",
       "  </thead>\n",
       "  <tbody>\n",
       "    <tr>\n",
       "      <th>PS4</th>\n",
       "      <td>43.81</td>\n",
       "    </tr>\n",
       "    <tr>\n",
       "      <th>XOne</th>\n",
       "      <td>12.48</td>\n",
       "    </tr>\n",
       "    <tr>\n",
       "      <th>PS3</th>\n",
       "      <td>9.14</td>\n",
       "    </tr>\n",
       "    <tr>\n",
       "      <th>X360</th>\n",
       "      <td>4.27</td>\n",
       "    </tr>\n",
       "    <tr>\n",
       "      <th>3DS</th>\n",
       "      <td>3.59</td>\n",
       "    </tr>\n",
       "    <tr>\n",
       "      <th>WiiU</th>\n",
       "      <td>3.13</td>\n",
       "    </tr>\n",
       "    <tr>\n",
       "      <th>PC</th>\n",
       "      <td>1.85</td>\n",
       "    </tr>\n",
       "    <tr>\n",
       "      <th>PSV</th>\n",
       "      <td>1.66</td>\n",
       "    </tr>\n",
       "    <tr>\n",
       "      <th>Wii</th>\n",
       "      <td>0.40</td>\n",
       "    </tr>\n",
       "  </tbody>\n",
       "</table>\n",
       "</div>"
      ],
      "text/plain": [
       "          other_sales\n",
       "platform             \n",
       "PS4             43.81\n",
       "XOne            12.48\n",
       "PS3              9.14\n",
       "X360             4.27\n",
       "3DS              3.59\n",
       "WiiU             3.13\n",
       "PC               1.85\n",
       "PSV              1.66\n",
       "Wii              0.40"
      ]
     },
     "metadata": {},
     "output_type": "display_data"
    },
    {
     "data": {
      "image/png": "[encoded data removed]",
      "text/plain": [
       "<Figure size 1080x576 with 1 Axes>"
      ]
     },
     "metadata": {
      "needs_background": "light"
     },
     "output_type": "display_data"
    }
   ],
   "source": [
    "actual_period_other_platform = pd.pivot_table(actual_period_eu, index='platform', values='other_sales',\n",
    "                                        aggfunc='sum').sort_values('other_sales', ascending=False)\n",
    "display(actual_period_other_platform)\n",
    "\n",
    "plt.figure(figsize=(15,8))\n",
    "plt.bar(actual_period_other_platform.index, actual_period_other_platform['other_sales'])\n",
    "plt.title('Популярные платформы остального мира')\n",
    "plt.xlabel(\"Платформа\");\n",
    "plt.ylabel(\"Продажи игр млн. шт.\");"
   ]
  },
  {
   "cell_type": "code",
   "execution_count": 81,
   "metadata": {},
   "outputs": [
    {
     "data": {
      "text/html": [
       "<div>\n",
       "<style scoped>\n",
       "    .dataframe tbody tr th:only-of-type {\n",
       "        vertical-align: middle;\n",
       "    }\n",
       "\n",
       "    .dataframe tbody tr th {\n",
       "        vertical-align: top;\n",
       "    }\n",
       "\n",
       "    .dataframe thead th {\n",
       "        text-align: right;\n",
       "    }\n",
       "</style>\n",
       "<table border=\"1\" class=\"dataframe\">\n",
       "  <thead>\n",
       "    <tr style=\"text-align: right;\">\n",
       "      <th></th>\n",
       "      <th>other_sales</th>\n",
       "    </tr>\n",
       "    <tr>\n",
       "      <th>genre</th>\n",
       "      <th></th>\n",
       "    </tr>\n",
       "  </thead>\n",
       "  <tbody>\n",
       "    <tr>\n",
       "      <th>Action</th>\n",
       "      <td>22.57</td>\n",
       "    </tr>\n",
       "    <tr>\n",
       "      <th>Shooter</th>\n",
       "      <td>21.53</td>\n",
       "    </tr>\n",
       "    <tr>\n",
       "      <th>Sports</th>\n",
       "      <td>14.36</td>\n",
       "    </tr>\n",
       "    <tr>\n",
       "      <th>Role-Playing</th>\n",
       "      <td>8.64</td>\n",
       "    </tr>\n",
       "    <tr>\n",
       "      <th>Misc</th>\n",
       "      <td>4.03</td>\n",
       "    </tr>\n",
       "    <tr>\n",
       "      <th>Racing</th>\n",
       "      <td>2.89</td>\n",
       "    </tr>\n",
       "    <tr>\n",
       "      <th>Fighting</th>\n",
       "      <td>2.73</td>\n",
       "    </tr>\n",
       "    <tr>\n",
       "      <th>Adventure</th>\n",
       "      <td>1.82</td>\n",
       "    </tr>\n",
       "    <tr>\n",
       "      <th>Platform</th>\n",
       "      <td>1.81</td>\n",
       "    </tr>\n",
       "    <tr>\n",
       "      <th>Simulation</th>\n",
       "      <td>0.89</td>\n",
       "    </tr>\n",
       "    <tr>\n",
       "      <th>Strategy</th>\n",
       "      <td>0.24</td>\n",
       "    </tr>\n",
       "    <tr>\n",
       "      <th>Puzzle</th>\n",
       "      <td>0.11</td>\n",
       "    </tr>\n",
       "  </tbody>\n",
       "</table>\n",
       "</div>"
      ],
      "text/plain": [
       "              other_sales\n",
       "genre                    \n",
       "Action              22.57\n",
       "Shooter             21.53\n",
       "Sports              14.36\n",
       "Role-Playing         8.64\n",
       "Misc                 4.03\n",
       "Racing               2.89\n",
       "Fighting             2.73\n",
       "Adventure            1.82\n",
       "Platform             1.81\n",
       "Simulation           0.89\n",
       "Strategy             0.24\n",
       "Puzzle               0.11"
      ]
     },
     "metadata": {},
     "output_type": "display_data"
    },
    {
     "data": {
      "image/png": "[encoded data removed]",
      "text/plain": [
       "<Figure size 1080x576 with 1 Axes>"
      ]
     },
     "metadata": {
      "needs_background": "light"
     },
     "output_type": "display_data"
    }
   ],
   "source": [
    "actual_period_other_genre = pd.pivot_table(actual_period_other, index='genre', values='other_sales',\n",
    "                                        aggfunc='sum').sort_values('other_sales', ascending=False)\n",
    "display(actual_period_other_genre)\n",
    "\n",
    "plt.figure(figsize=(15,8))\n",
    "plt.bar(actual_period_other_genre.index, actual_period_other_genre['other_sales'])\n",
    "plt.title('Популярные жанры игр в остальном мире')\n",
    "plt.xlabel(\"Жанр игр\");\n",
    "plt.ylabel(\"Продажи игр млн. шт.\");"
   ]
  },
  {
   "cell_type": "code",
   "execution_count": 82,
   "metadata": {},
   "outputs": [
    {
     "data": {
      "text/html": [
       "<div>\n",
       "<style scoped>\n",
       "    .dataframe tbody tr th:only-of-type {\n",
       "        vertical-align: middle;\n",
       "    }\n",
       "\n",
       "    .dataframe tbody tr th {\n",
       "        vertical-align: top;\n",
       "    }\n",
       "\n",
       "    .dataframe thead th {\n",
       "        text-align: right;\n",
       "    }\n",
       "</style>\n",
       "<table border=\"1\" class=\"dataframe\">\n",
       "  <thead>\n",
       "    <tr style=\"text-align: right;\">\n",
       "      <th></th>\n",
       "      <th>other_sales</th>\n",
       "    </tr>\n",
       "    <tr>\n",
       "      <th>rating</th>\n",
       "      <th></th>\n",
       "    </tr>\n",
       "  </thead>\n",
       "  <tbody>\n",
       "    <tr>\n",
       "      <th>M</th>\n",
       "      <td>39.40</td>\n",
       "    </tr>\n",
       "    <tr>\n",
       "      <th>E</th>\n",
       "      <td>18.87</td>\n",
       "    </tr>\n",
       "    <tr>\n",
       "      <th>T</th>\n",
       "      <td>15.52</td>\n",
       "    </tr>\n",
       "    <tr>\n",
       "      <th>E10+</th>\n",
       "      <td>7.83</td>\n",
       "    </tr>\n",
       "  </tbody>\n",
       "</table>\n",
       "</div>"
      ],
      "text/plain": [
       "        other_sales\n",
       "rating             \n",
       "M             39.40\n",
       "E             18.87\n",
       "T             15.52\n",
       "E10+           7.83"
      ]
     },
     "metadata": {},
     "output_type": "display_data"
    },
    {
     "data": {
      "image/png": "[encoded data removed]",
      "text/plain": [
       "<Figure size 576x288 with 1 Axes>"
      ]
     },
     "metadata": {
      "needs_background": "light"
     },
     "output_type": "display_data"
    }
   ],
   "source": [
    "actual_period_other_rating = pd.pivot_table(actual_period_other, index='rating', values='other_sales',\n",
    "                                        aggfunc='sum').sort_values('other_sales', ascending=False)\n",
    "display(actual_period_other_rating)\n",
    "\n",
    "plt.figure(figsize=(8,4))\n",
    "plt.bar(actual_period_other_rating.index, actual_period_other_rating['other_sales'])\n",
    "plt.title('Популярный рейтинг игр в остальном мире')\n",
    "plt.xlabel(\"Рейтинг ESRB\");\n",
    "plt.ylabel(\"Продажи игр млн. шт.\");"
   ]
  },
  {
   "cell_type": "markdown",
   "metadata": {},
   "source": [
    "Средний геймер в остальном мире владеет PS4, предпочитает игры жанра Action или Shooter рейтинга М.\n",
    "<br>\n",
    "ТОП-5 платформ:\n",
    "- PS4\n",
    "- XOne\n",
    "- PS3\n",
    "- X360\n",
    "- 3DS\n",
    "\n",
    "ТОП-5 жанров:\n",
    "- Action\n",
    "- Shooter\n",
    "- Sports\n",
    "- Role-Playing\t\n",
    "- Misc\n",
    "\n",
    "Рейтинг M определенно влияет на покупку игры."
   ]
  },
  {
   "cell_type": "markdown",
   "metadata": {},
   "source": [
    "### Вывод"
   ]
  },
  {
   "cell_type": "markdown",
   "metadata": {},
   "source": [
    "Геймеры по всему миру, кроме Японии предпочитают на PS4 играть в Action или Shooter с рейтингом М. А вот в Японии геймеры на 3DS играют в RPG или Action с рейтингом T."
   ]
  },
  {
   "cell_type": "markdown",
   "metadata": {},
   "source": [
    "## Шаг 5. Проверка гипотез"
   ]
  },
  {
   "cell_type": "markdown",
   "metadata": {},
   "source": [
    "### Гипотеза 1. Средние пользовательские рейтинги платформ Xbox One и PC одинаковые"
   ]
  },
  {
   "cell_type": "markdown",
   "metadata": {},
   "source": [
    "Проверю статистические данные пользователей Xbox One и PC."
   ]
  },
  {
   "cell_type": "code",
   "execution_count": 83,
   "metadata": {},
   "outputs": [
    {
     "data": {
      "text/plain": [
       "count    165.000000\n",
       "mean       6.594545\n",
       "std        1.375139\n",
       "min        1.600000\n",
       "25%        5.800000\n",
       "50%        6.800000\n",
       "75%        7.600000\n",
       "max        9.200000\n",
       "Name: user_score, dtype: float64"
      ]
     },
     "execution_count": 83,
     "metadata": {},
     "output_type": "execute_result"
    }
   ],
   "source": [
    "user_xone = actual_period.query('platform == \"XOne\"')\n",
    "user_xone = user_xone[user_xone['user_score'].notna()]\n",
    "user_xone['user_score'].describe()"
   ]
  },
  {
   "cell_type": "code",
   "execution_count": 84,
   "metadata": {},
   "outputs": [
    {
     "data": {
      "text/plain": [
       "count    122.000000\n",
       "mean       6.298361\n",
       "std        1.703278\n",
       "min        1.400000\n",
       "25%        5.325000\n",
       "50%        6.800000\n",
       "75%        7.600000\n",
       "max        9.300000\n",
       "Name: user_score, dtype: float64"
      ]
     },
     "execution_count": 84,
     "metadata": {},
     "output_type": "execute_result"
    }
   ],
   "source": [
    "user_pc = actual_period.query('platform == \"PC\"')\n",
    "user_pc = user_pc[user_pc['user_score'].notna()]\n",
    "user_pc['user_score'].describe()"
   ]
  },
  {
   "cell_type": "markdown",
   "metadata": {},
   "source": [
    "Средние значения довольно близки.\n",
    "\n",
    "Проверю гипотезу. Буду использовать тест Стюдента.\n",
    "\n",
    "Нулевая гипотеза - средние пользовательские рейтинги платформ Xbox One и PC равны.\n",
    "\n",
    "Альтернативная гипотеза - средние пользовательские рейтинги платформ Xbox One и PC не равны.\n",
    "\n",
    "Коэффициент alpha беру равным 0.01, так как это общепринятое значение."
   ]
  },
  {
   "cell_type": "code",
   "execution_count": 86,
   "metadata": {},
   "outputs": [
    {
     "name": "stdout",
     "output_type": "stream",
     "text": [
      "p-значение: 0.11601398086668827\n",
      "Не получилось отвергнуть нулевую гипотезу\n"
     ]
    }
   ],
   "source": [
    "alpha = 0.01\n",
    "\n",
    "results = st.ttest_ind(user_xone['user_score'], user_pc['user_score'], equal_var=False)\n",
    "\n",
    "print('p-значение:', results.pvalue)\n",
    "\n",
    "if (results.pvalue < alpha):\n",
    "    print(\"Отвергаем нулевую гипотезу\")\n",
    "else:\n",
    "    print(\"Не получилось отвергнуть нулевую гипотезу\")"
   ]
  },
  {
   "cell_type": "markdown",
   "metadata": {},
   "source": [
    "### Гипотеза 1. Средние пользовательские рейтинги жанров Action и Sports разные"
   ]
  },
  {
   "cell_type": "markdown",
   "metadata": {},
   "source": [
    "Проверю статистические данные по жанрам Action и Sports."
   ]
  },
  {
   "cell_type": "code",
   "execution_count": 87,
   "metadata": {},
   "outputs": [
    {
     "data": {
      "text/plain": [
       "count    297.000000\n",
       "mean       6.760606\n",
       "std        1.377852\n",
       "min        2.000000\n",
       "25%        6.100000\n",
       "50%        7.100000\n",
       "75%        7.700000\n",
       "max        9.000000\n",
       "Name: user_score, dtype: float64"
      ]
     },
     "execution_count": 87,
     "metadata": {},
     "output_type": "execute_result"
    }
   ],
   "source": [
    "user_action = actual_period.query('genre == \"Action\"')\n",
    "user_action = user_action[user_action['user_score'].notna()]\n",
    "user_action['user_score'].describe()"
   ]
  },
  {
   "cell_type": "code",
   "execution_count": 88,
   "metadata": {},
   "outputs": [
    {
     "data": {
      "text/plain": [
       "count    127.000000\n",
       "mean       5.225197\n",
       "std        1.856604\n",
       "min        0.200000\n",
       "25%        4.000000\n",
       "50%        5.500000\n",
       "75%        6.650000\n",
       "max        8.800000\n",
       "Name: user_score, dtype: float64"
      ]
     },
     "execution_count": 88,
     "metadata": {},
     "output_type": "execute_result"
    }
   ],
   "source": [
    "user_sports = actual_period.query('genre == \"Sports\"')\n",
    "user_sports = user_sports[user_sports['user_score'].notna()]\n",
    "user_sports['user_score'].describe()"
   ]
  },
  {
   "cell_type": "markdown",
   "metadata": {},
   "source": [
    "Средние значения отличаются.\n",
    "\n",
    "Проверю гипотезу. Буду использовать тест Стюдента.\n",
    "\n",
    "Нулевая гипотеза - средние пользовательские рейтинги жанров Action и Sports равны.\n",
    "\n",
    "Альтернативная гипотеза - средние пользовательские рейтинги жанров Action и Sports не равны.\n",
    "\n",
    "Коэффициент alpha беру равным 0.01, так как это общепринятое значение."
   ]
  },
  {
   "cell_type": "code",
   "execution_count": 64,
   "metadata": {},
   "outputs": [
    {
     "name": "stdout",
     "output_type": "stream",
     "text": [
      "p-значение: 1.1825550382644557e-14\n",
      "Отвергаем нулевую гипотезу\n"
     ]
    }
   ],
   "source": [
    "alpha = 0.01\n",
    "\n",
    "results = st.ttest_ind(user_action['user_score'], user_sports['user_score'], equal_var=False)\n",
    "\n",
    "print('p-значение:', results.pvalue)\n",
    "\n",
    "if (results.pvalue < alpha):\n",
    "    print(\"Отвергаем нулевую гипотезу\")\n",
    "else:\n",
    "    print(\"Не получилось отвергнуть нулевую гипотезу\")"
   ]
  },
  {
   "cell_type": "markdown",
   "metadata": {},
   "source": [
    "### Вывод"
   ]
  },
  {
   "cell_type": "markdown",
   "metadata": {},
   "source": [
    "Гипотеза о том, что средние пользовательские рейтинги платформ Xbox One и PC одинаковые подтвердилась. Средние этих выборок также очень близки друг к другу. Пользователи ставят примерно одинаковые оценки играм на платформах Xbox One и PC.\n",
    "<br>\n",
    "Гипотеза о том, что средние пользовательские рейтинги жанров Action и Sports разные не подтвердилась. Средние этих выборок также различаются. Пользователи ставят разные оценки играм с жанрами Action и Sports."
   ]
  },
  {
   "cell_type": "markdown",
   "metadata": {},
   "source": [
    "## Общий вывод"
   ]
  },
  {
   "cell_type": "markdown",
   "metadata": {},
   "source": [
    "В ходе проведенного исследования я выполнил следующие шаги:\n",
    "\n",
    "Рассмотрел таблицу с данными, выявил столбцы, на которые стоит обратить внимание при подготовке данных.\n",
    "Провел подготовку данных: заменил наименования столбцов, заполнил пропуски, данные привел к нужному типу, удалил выявленные артефакты.\n",
    "Провел анализ данных и определил актуальный период.\n",
    "В ходе исследовательского анализа данных получил ответы на все поставленные вопросы. \n",
    "Составил портреты пользователей для выделенных регионов продаж.\n",
    "Выполнил проверку двух гипотез.\n",
    "\n",
    "Продажи игр зависят от трех основных составляющих: платформа, жанр, рейтинг критиков и пользователей.\n",
    "\n",
    "Сводный анализ для кампании на 2017 год.\n",
    "<br>\n",
    "Необходимо сделать ставку на консоли нового поколения и на топ-5 платформ того региона в котором находится точка продажи. Жанр игр также лучше брать из топ-5 по регионам распространения. Судя по популярному рейтингу M - большинство геймеров старше 17 лет. Игр с таким рейтингом должно быть большинство в точках распространения. Также надо следить за рейтингом критиков и пользователей. Игры с низким рейтингом продаются плохо и незачем заполнять ими полки.\n",
    "\n",
    "Также необходимо понимать, что в актуальном периоде продажи игр падали по всем платформам, можно спрогнозировать меньшую выручку в 2017 году чем в 2016. Но не стоит забывать о скором выходе консолей нового поколения, так как в момент их выпуска продажи игр растут несколько лет подряд. Можно заранее озаботиться договорами на поставку таких игр."
   ]
  }
 ],
 "metadata": {
  "ExecuteTimeLog": [
   {
    "duration": 1099,
    "start_time": "2022-02-27T10:15:52.509Z"
   },
   {
    "duration": 193,
    "start_time": "2022-02-27T10:18:53.342Z"
   },
   {
    "duration": 11,
    "start_time": "2022-02-27T10:19:14.920Z"
   },
   {
    "duration": 2,
    "start_time": "2022-02-27T10:58:54.881Z"
   },
   {
    "duration": 12,
    "start_time": "2022-02-27T11:08:33.053Z"
   },
   {
    "duration": 20,
    "start_time": "2022-02-27T11:09:21.657Z"
   },
   {
    "duration": 11,
    "start_time": "2022-02-27T11:11:31.918Z"
   },
   {
    "duration": 24,
    "start_time": "2022-02-27T11:12:45.196Z"
   },
   {
    "duration": 17,
    "start_time": "2022-02-27T11:13:12.439Z"
   },
   {
    "duration": 7,
    "start_time": "2022-02-27T11:15:33.688Z"
   },
   {
    "duration": 8,
    "start_time": "2022-02-27T11:15:55.134Z"
   },
   {
    "duration": 22,
    "start_time": "2022-02-27T11:17:11.286Z"
   },
   {
    "duration": 8,
    "start_time": "2022-02-27T11:19:39.882Z"
   },
   {
    "duration": 8,
    "start_time": "2022-02-27T11:19:48.935Z"
   },
   {
    "duration": 8,
    "start_time": "2022-02-27T11:19:57.480Z"
   },
   {
    "duration": 16,
    "start_time": "2022-02-27T11:20:49.725Z"
   },
   {
    "duration": 8,
    "start_time": "2022-02-27T11:21:20.049Z"
   },
   {
    "duration": 7,
    "start_time": "2022-02-27T11:22:07.921Z"
   },
   {
    "duration": 10,
    "start_time": "2022-02-27T11:22:22.800Z"
   },
   {
    "duration": 13,
    "start_time": "2022-02-27T11:23:44.199Z"
   },
   {
    "duration": 15,
    "start_time": "2022-02-27T11:24:05.343Z"
   },
   {
    "duration": 14,
    "start_time": "2022-02-27T11:25:03.179Z"
   },
   {
    "duration": 23,
    "start_time": "2022-02-27T11:35:01.302Z"
   },
   {
    "duration": 12,
    "start_time": "2022-02-27T11:36:37.773Z"
   },
   {
    "duration": 24,
    "start_time": "2022-02-27T11:38:48.521Z"
   },
   {
    "duration": 13,
    "start_time": "2022-02-27T11:42:05.996Z"
   },
   {
    "duration": 12,
    "start_time": "2022-02-27T11:46:10.484Z"
   },
   {
    "duration": 28,
    "start_time": "2022-02-27T11:47:30.487Z"
   },
   {
    "duration": 13,
    "start_time": "2022-02-27T11:47:53.816Z"
   },
   {
    "duration": 28,
    "start_time": "2022-02-27T11:48:30.807Z"
   },
   {
    "duration": 27,
    "start_time": "2022-02-27T11:51:48.448Z"
   },
   {
    "duration": 28,
    "start_time": "2022-02-27T11:52:25.960Z"
   },
   {
    "duration": 19,
    "start_time": "2022-02-27T11:59:29.613Z"
   },
   {
    "duration": 195,
    "start_time": "2022-02-27T11:59:58.533Z"
   },
   {
    "duration": 16,
    "start_time": "2022-02-27T12:04:20.639Z"
   },
   {
    "duration": 4,
    "start_time": "2022-02-27T12:04:53.591Z"
   },
   {
    "duration": 1295,
    "start_time": "2022-02-27T12:05:14.111Z"
   },
   {
    "duration": 16,
    "start_time": "2022-02-27T12:22:41.408Z"
   },
   {
    "duration": 16,
    "start_time": "2022-02-27T12:25:12.267Z"
   },
   {
    "duration": 6,
    "start_time": "2022-02-27T12:29:29.808Z"
   },
   {
    "duration": 8,
    "start_time": "2022-02-27T12:29:52.314Z"
   },
   {
    "duration": 9,
    "start_time": "2022-02-27T12:30:04.541Z"
   },
   {
    "duration": 8,
    "start_time": "2022-02-27T12:30:11.899Z"
   },
   {
    "duration": 1835,
    "start_time": "2022-02-27T12:30:22.428Z"
   },
   {
    "duration": 322,
    "start_time": "2022-02-27T12:39:31.670Z"
   },
   {
    "duration": 3,
    "start_time": "2022-02-27T12:39:58.792Z"
   },
   {
    "duration": 180,
    "start_time": "2022-02-27T12:39:58.797Z"
   },
   {
    "duration": 10,
    "start_time": "2022-02-27T12:39:58.979Z"
   },
   {
    "duration": 10,
    "start_time": "2022-02-27T12:39:58.991Z"
   },
   {
    "duration": 25,
    "start_time": "2022-02-27T12:39:59.003Z"
   },
   {
    "duration": 35,
    "start_time": "2022-02-27T12:39:59.029Z"
   },
   {
    "duration": 7,
    "start_time": "2022-02-27T12:39:59.066Z"
   },
   {
    "duration": 16,
    "start_time": "2022-02-27T12:39:59.075Z"
   },
   {
    "duration": 8,
    "start_time": "2022-02-27T12:39:59.093Z"
   },
   {
    "duration": 7,
    "start_time": "2022-02-27T12:39:59.103Z"
   },
   {
    "duration": 8,
    "start_time": "2022-02-27T12:39:59.111Z"
   },
   {
    "duration": 48,
    "start_time": "2022-02-27T12:39:59.120Z"
   },
   {
    "duration": 8,
    "start_time": "2022-02-27T12:39:59.170Z"
   },
   {
    "duration": 14,
    "start_time": "2022-02-27T12:39:59.179Z"
   },
   {
    "duration": 12,
    "start_time": "2022-02-27T12:39:59.195Z"
   },
   {
    "duration": 55,
    "start_time": "2022-02-27T12:39:59.209Z"
   },
   {
    "duration": 12,
    "start_time": "2022-02-27T12:39:59.266Z"
   },
   {
    "duration": 24,
    "start_time": "2022-02-27T12:39:59.280Z"
   },
   {
    "duration": 13,
    "start_time": "2022-02-27T12:39:59.306Z"
   },
   {
    "duration": 47,
    "start_time": "2022-02-27T12:39:59.321Z"
   },
   {
    "duration": 18,
    "start_time": "2022-02-27T12:39:59.370Z"
   },
   {
    "duration": 21,
    "start_time": "2022-02-27T12:39:59.390Z"
   },
   {
    "duration": 23,
    "start_time": "2022-02-27T12:39:59.413Z"
   },
   {
    "duration": 37,
    "start_time": "2022-02-27T12:39:59.441Z"
   },
   {
    "duration": 18,
    "start_time": "2022-02-27T12:39:59.480Z"
   },
   {
    "duration": 213,
    "start_time": "2022-02-27T12:39:59.500Z"
   },
   {
    "duration": 17,
    "start_time": "2022-02-27T12:39:59.715Z"
   },
   {
    "duration": 4,
    "start_time": "2022-02-27T12:39:59.734Z"
   },
   {
    "duration": 38,
    "start_time": "2022-02-27T12:39:59.740Z"
   },
   {
    "duration": 11,
    "start_time": "2022-02-27T12:39:59.780Z"
   },
   {
    "duration": 1394,
    "start_time": "2022-02-27T12:39:59.793Z"
   },
   {
    "duration": 373,
    "start_time": "2022-02-27T12:40:02.984Z"
   },
   {
    "duration": 20,
    "start_time": "2022-02-27T12:40:42.730Z"
   },
   {
    "duration": 296,
    "start_time": "2022-02-27T12:41:00.140Z"
   },
   {
    "duration": 350,
    "start_time": "2022-02-27T12:45:49.186Z"
   },
   {
    "duration": 246,
    "start_time": "2022-02-27T12:46:22.207Z"
   },
   {
    "duration": 240,
    "start_time": "2022-02-27T12:46:37.844Z"
   },
   {
    "duration": 216,
    "start_time": "2022-02-27T12:46:52.932Z"
   },
   {
    "duration": 206,
    "start_time": "2022-02-27T12:48:51.277Z"
   },
   {
    "duration": 186,
    "start_time": "2022-02-27T12:49:13.221Z"
   },
   {
    "duration": 238,
    "start_time": "2022-02-27T12:49:48.941Z"
   },
   {
    "duration": 492,
    "start_time": "2022-02-27T12:52:02.855Z"
   },
   {
    "duration": 215,
    "start_time": "2022-02-27T12:52:53.359Z"
   },
   {
    "duration": 320,
    "start_time": "2022-02-27T12:53:29.736Z"
   },
   {
    "duration": 385,
    "start_time": "2022-02-27T12:55:35.103Z"
   },
   {
    "duration": 352,
    "start_time": "2022-02-27T12:58:59.537Z"
   },
   {
    "duration": 24,
    "start_time": "2022-02-27T13:08:06.962Z"
   },
   {
    "duration": 20,
    "start_time": "2022-02-27T13:08:22.932Z"
   },
   {
    "duration": 18,
    "start_time": "2022-02-27T13:11:07.991Z"
   },
   {
    "duration": 11,
    "start_time": "2022-02-27T13:12:57.488Z"
   },
   {
    "duration": 827,
    "start_time": "2022-02-27T13:51:40.917Z"
   },
   {
    "duration": 3,
    "start_time": "2022-02-27T13:55:56.609Z"
   },
   {
    "duration": 181,
    "start_time": "2022-02-27T13:55:56.614Z"
   },
   {
    "duration": 8,
    "start_time": "2022-02-27T13:55:56.797Z"
   },
   {
    "duration": 10,
    "start_time": "2022-02-27T13:55:56.807Z"
   },
   {
    "duration": 28,
    "start_time": "2022-02-27T13:55:56.819Z"
   },
   {
    "duration": 25,
    "start_time": "2022-02-27T13:55:56.848Z"
   },
   {
    "duration": 7,
    "start_time": "2022-02-27T13:55:56.875Z"
   },
   {
    "duration": 16,
    "start_time": "2022-02-27T13:55:56.884Z"
   },
   {
    "duration": 8,
    "start_time": "2022-02-27T13:55:56.901Z"
   },
   {
    "duration": 121,
    "start_time": "2022-02-27T13:55:56.911Z"
   },
   {
    "duration": 7,
    "start_time": "2022-02-27T13:55:57.033Z"
   },
   {
    "duration": 22,
    "start_time": "2022-02-27T13:55:57.042Z"
   },
   {
    "duration": 9,
    "start_time": "2022-02-27T13:55:57.066Z"
   },
   {
    "duration": 15,
    "start_time": "2022-02-27T13:55:57.077Z"
   },
   {
    "duration": 14,
    "start_time": "2022-02-27T13:55:57.094Z"
   },
   {
    "duration": 58,
    "start_time": "2022-02-27T13:55:57.110Z"
   },
   {
    "duration": 11,
    "start_time": "2022-02-27T13:55:57.169Z"
   },
   {
    "duration": 23,
    "start_time": "2022-02-27T13:55:57.182Z"
   },
   {
    "duration": 12,
    "start_time": "2022-02-27T13:55:57.209Z"
   },
   {
    "duration": 42,
    "start_time": "2022-02-27T13:55:57.222Z"
   },
   {
    "duration": 13,
    "start_time": "2022-02-27T13:55:57.266Z"
   },
   {
    "duration": 21,
    "start_time": "2022-02-27T13:55:57.281Z"
   },
   {
    "duration": 23,
    "start_time": "2022-02-27T13:55:57.303Z"
   },
   {
    "duration": 44,
    "start_time": "2022-02-27T13:55:57.327Z"
   },
   {
    "duration": 17,
    "start_time": "2022-02-27T13:55:57.373Z"
   },
   {
    "duration": 189,
    "start_time": "2022-02-27T13:55:57.392Z"
   },
   {
    "duration": 14,
    "start_time": "2022-02-27T13:55:57.583Z"
   },
   {
    "duration": 3,
    "start_time": "2022-02-27T13:55:57.599Z"
   },
   {
    "duration": 16,
    "start_time": "2022-02-27T13:55:57.603Z"
   },
   {
    "duration": 8,
    "start_time": "2022-02-27T13:55:57.620Z"
   },
   {
    "duration": 1302,
    "start_time": "2022-02-27T13:55:57.629Z"
   },
   {
    "duration": 485,
    "start_time": "2022-02-27T13:55:58.933Z"
   },
   {
    "duration": 362,
    "start_time": "2022-02-27T13:55:59.420Z"
   },
   {
    "duration": 19,
    "start_time": "2022-02-27T13:55:59.784Z"
   },
   {
    "duration": 17,
    "start_time": "2022-02-27T13:55:59.805Z"
   },
   {
    "duration": 11,
    "start_time": "2022-02-27T13:55:59.823Z"
   },
   {
    "duration": 795,
    "start_time": "2022-02-27T13:56:01.568Z"
   },
   {
    "duration": 4,
    "start_time": "2022-02-27T13:56:44.197Z"
   },
   {
    "duration": 176,
    "start_time": "2022-02-27T13:56:44.203Z"
   },
   {
    "duration": 10,
    "start_time": "2022-02-27T13:56:44.381Z"
   },
   {
    "duration": 10,
    "start_time": "2022-02-27T13:56:44.393Z"
   },
   {
    "duration": 22,
    "start_time": "2022-02-27T13:56:44.405Z"
   },
   {
    "duration": 42,
    "start_time": "2022-02-27T13:56:44.429Z"
   },
   {
    "duration": 8,
    "start_time": "2022-02-27T13:56:44.473Z"
   },
   {
    "duration": 16,
    "start_time": "2022-02-27T13:56:44.483Z"
   },
   {
    "duration": 8,
    "start_time": "2022-02-27T13:56:44.500Z"
   },
   {
    "duration": 7,
    "start_time": "2022-02-27T13:56:44.510Z"
   },
   {
    "duration": 49,
    "start_time": "2022-02-27T13:56:44.519Z"
   },
   {
    "duration": 9,
    "start_time": "2022-02-27T13:56:44.569Z"
   },
   {
    "duration": 11,
    "start_time": "2022-02-27T13:56:44.580Z"
   },
   {
    "duration": 14,
    "start_time": "2022-02-27T13:56:44.593Z"
   },
   {
    "duration": 13,
    "start_time": "2022-02-27T13:56:44.609Z"
   },
   {
    "duration": 55,
    "start_time": "2022-02-27T13:56:44.624Z"
   },
   {
    "duration": 11,
    "start_time": "2022-02-27T13:56:44.681Z"
   },
   {
    "duration": 21,
    "start_time": "2022-02-27T13:56:44.694Z"
   },
   {
    "duration": 11,
    "start_time": "2022-02-27T13:56:44.719Z"
   },
   {
    "duration": 13,
    "start_time": "2022-02-27T13:56:44.764Z"
   },
   {
    "duration": 13,
    "start_time": "2022-02-27T13:56:44.778Z"
   },
   {
    "duration": 20,
    "start_time": "2022-02-27T13:56:44.793Z"
   },
   {
    "duration": 51,
    "start_time": "2022-02-27T13:56:44.815Z"
   },
   {
    "duration": 14,
    "start_time": "2022-02-27T13:56:44.868Z"
   },
   {
    "duration": 16,
    "start_time": "2022-02-27T13:56:44.883Z"
   },
   {
    "duration": 206,
    "start_time": "2022-02-27T13:56:44.901Z"
   },
   {
    "duration": 16,
    "start_time": "2022-02-27T13:56:45.108Z"
   },
   {
    "duration": 15,
    "start_time": "2022-02-27T13:56:45.125Z"
   },
   {
    "duration": 25,
    "start_time": "2022-02-27T13:56:45.142Z"
   },
   {
    "duration": 10,
    "start_time": "2022-02-27T13:56:45.169Z"
   },
   {
    "duration": 1439,
    "start_time": "2022-02-27T13:56:45.181Z"
   },
   {
    "duration": 483,
    "start_time": "2022-02-27T13:56:46.622Z"
   },
   {
    "duration": 371,
    "start_time": "2022-02-27T13:56:47.107Z"
   },
   {
    "duration": 21,
    "start_time": "2022-02-27T13:56:47.479Z"
   },
   {
    "duration": 18,
    "start_time": "2022-02-27T13:56:47.502Z"
   },
   {
    "duration": 11,
    "start_time": "2022-02-27T13:56:47.522Z"
   },
   {
    "duration": 779,
    "start_time": "2022-02-27T13:56:49.280Z"
   },
   {
    "duration": 3,
    "start_time": "2022-02-27T13:57:00.357Z"
   },
   {
    "duration": 255,
    "start_time": "2022-02-27T13:57:00.362Z"
   },
   {
    "duration": 10,
    "start_time": "2022-02-27T13:57:00.619Z"
   },
   {
    "duration": 10,
    "start_time": "2022-02-27T13:57:00.631Z"
   },
   {
    "duration": 30,
    "start_time": "2022-02-27T13:57:00.643Z"
   },
   {
    "duration": 15,
    "start_time": "2022-02-27T13:57:00.674Z"
   },
   {
    "duration": 9,
    "start_time": "2022-02-27T13:57:00.691Z"
   },
   {
    "duration": 18,
    "start_time": "2022-02-27T13:57:00.702Z"
   },
   {
    "duration": 10,
    "start_time": "2022-02-27T13:57:00.721Z"
   },
   {
    "duration": 32,
    "start_time": "2022-02-27T13:57:00.732Z"
   },
   {
    "duration": 9,
    "start_time": "2022-02-27T13:57:00.765Z"
   },
   {
    "duration": 20,
    "start_time": "2022-02-27T13:57:00.775Z"
   },
   {
    "duration": 12,
    "start_time": "2022-02-27T13:57:00.797Z"
   },
   {
    "duration": 19,
    "start_time": "2022-02-27T13:57:00.811Z"
   },
   {
    "duration": 31,
    "start_time": "2022-02-27T13:57:00.832Z"
   },
   {
    "duration": 20,
    "start_time": "2022-02-27T13:57:00.865Z"
   },
   {
    "duration": 12,
    "start_time": "2022-02-27T13:57:00.887Z"
   },
   {
    "duration": 22,
    "start_time": "2022-02-27T13:57:00.900Z"
   },
   {
    "duration": 46,
    "start_time": "2022-02-27T13:57:00.926Z"
   },
   {
    "duration": 12,
    "start_time": "2022-02-27T13:57:00.975Z"
   },
   {
    "duration": 16,
    "start_time": "2022-02-27T13:57:00.989Z"
   },
   {
    "duration": 21,
    "start_time": "2022-02-27T13:57:01.008Z"
   },
   {
    "duration": 54,
    "start_time": "2022-02-27T13:57:01.031Z"
   },
   {
    "duration": 16,
    "start_time": "2022-02-27T13:57:01.086Z"
   },
   {
    "duration": 36,
    "start_time": "2022-02-27T13:57:01.103Z"
   },
   {
    "duration": 194,
    "start_time": "2022-02-27T13:57:01.140Z"
   },
   {
    "duration": 15,
    "start_time": "2022-02-27T13:57:01.336Z"
   },
   {
    "duration": 12,
    "start_time": "2022-02-27T13:57:01.362Z"
   },
   {
    "duration": 19,
    "start_time": "2022-02-27T13:57:01.376Z"
   },
   {
    "duration": 16,
    "start_time": "2022-02-27T13:57:01.397Z"
   },
   {
    "duration": 1271,
    "start_time": "2022-02-27T13:57:01.415Z"
   },
   {
    "duration": 391,
    "start_time": "2022-02-27T13:57:02.688Z"
   },
   {
    "duration": 465,
    "start_time": "2022-02-27T13:57:03.081Z"
   },
   {
    "duration": 25,
    "start_time": "2022-02-27T13:57:03.548Z"
   },
   {
    "duration": 17,
    "start_time": "2022-02-27T13:57:03.575Z"
   },
   {
    "duration": 14,
    "start_time": "2022-02-27T13:57:03.593Z"
   },
   {
    "duration": 5787,
    "start_time": "2022-02-27T14:00:05.424Z"
   },
   {
    "duration": 5506,
    "start_time": "2022-02-27T14:00:39.556Z"
   },
   {
    "duration": 172,
    "start_time": "2022-02-27T14:01:18.067Z"
   },
   {
    "duration": 265,
    "start_time": "2022-02-27T14:01:40.835Z"
   },
   {
    "duration": 371,
    "start_time": "2022-02-27T14:01:56.866Z"
   },
   {
    "duration": 1469,
    "start_time": "2022-02-27T14:10:44.094Z"
   },
   {
    "duration": 2259,
    "start_time": "2022-02-27T14:15:44.098Z"
   },
   {
    "duration": 2138,
    "start_time": "2022-02-27T14:15:54.113Z"
   },
   {
    "duration": 2335,
    "start_time": "2022-02-27T14:16:53.441Z"
   },
   {
    "duration": 3160,
    "start_time": "2022-02-27T14:17:17.771Z"
   },
   {
    "duration": 2224,
    "start_time": "2022-02-27T14:17:40.746Z"
   },
   {
    "duration": 2351,
    "start_time": "2022-02-27T14:18:04.466Z"
   },
   {
    "duration": 2322,
    "start_time": "2022-02-27T14:18:30.857Z"
   },
   {
    "duration": 2148,
    "start_time": "2022-02-27T14:18:53.603Z"
   },
   {
    "duration": 2403,
    "start_time": "2022-02-27T14:19:15.996Z"
   },
   {
    "duration": 21,
    "start_time": "2022-02-27T14:26:40.351Z"
   },
   {
    "duration": 10,
    "start_time": "2022-02-27T14:37:13.436Z"
   },
   {
    "duration": 13,
    "start_time": "2022-02-27T14:37:28.100Z"
   },
   {
    "duration": 14,
    "start_time": "2022-02-27T14:38:13.732Z"
   },
   {
    "duration": 14,
    "start_time": "2022-02-27T14:38:20.990Z"
   },
   {
    "duration": 10,
    "start_time": "2022-02-27T14:42:00.407Z"
   },
   {
    "duration": 13,
    "start_time": "2022-02-27T14:42:08.423Z"
   },
   {
    "duration": 12,
    "start_time": "2022-02-27T14:42:15.783Z"
   },
   {
    "duration": 12,
    "start_time": "2022-02-27T14:42:22.571Z"
   },
   {
    "duration": 9,
    "start_time": "2022-02-27T14:44:11.176Z"
   },
   {
    "duration": 14,
    "start_time": "2022-02-27T14:44:22.062Z"
   },
   {
    "duration": 12,
    "start_time": "2022-02-27T14:44:29.792Z"
   },
   {
    "duration": 13,
    "start_time": "2022-02-27T14:44:37.560Z"
   },
   {
    "duration": 10,
    "start_time": "2022-02-27T14:46:37.434Z"
   },
   {
    "duration": 14,
    "start_time": "2022-02-27T14:46:43.218Z"
   },
   {
    "duration": 13,
    "start_time": "2022-02-27T14:46:50.882Z"
   },
   {
    "duration": 17,
    "start_time": "2022-02-27T14:46:59.507Z"
   },
   {
    "duration": 2,
    "start_time": "2022-02-27T14:51:52.867Z"
   },
   {
    "duration": 172,
    "start_time": "2022-02-27T14:51:52.874Z"
   },
   {
    "duration": 11,
    "start_time": "2022-02-27T14:51:53.048Z"
   },
   {
    "duration": 11,
    "start_time": "2022-02-27T14:51:53.061Z"
   },
   {
    "duration": 26,
    "start_time": "2022-02-27T14:51:53.074Z"
   },
   {
    "duration": 14,
    "start_time": "2022-02-27T14:51:53.101Z"
   },
   {
    "duration": 8,
    "start_time": "2022-02-27T14:51:53.117Z"
   },
   {
    "duration": 49,
    "start_time": "2022-02-27T14:51:53.126Z"
   },
   {
    "duration": 7,
    "start_time": "2022-02-27T14:51:53.178Z"
   },
   {
    "duration": 7,
    "start_time": "2022-02-27T14:51:53.187Z"
   },
   {
    "duration": 9,
    "start_time": "2022-02-27T14:51:53.195Z"
   },
   {
    "duration": 8,
    "start_time": "2022-02-27T14:51:53.206Z"
   },
   {
    "duration": 54,
    "start_time": "2022-02-27T14:51:53.215Z"
   },
   {
    "duration": 13,
    "start_time": "2022-02-27T14:51:53.271Z"
   },
   {
    "duration": 14,
    "start_time": "2022-02-27T14:51:53.286Z"
   },
   {
    "duration": 20,
    "start_time": "2022-02-27T14:51:53.301Z"
   },
   {
    "duration": 47,
    "start_time": "2022-02-27T14:51:53.323Z"
   },
   {
    "duration": 20,
    "start_time": "2022-02-27T14:51:53.372Z"
   },
   {
    "duration": 12,
    "start_time": "2022-02-27T14:51:53.394Z"
   },
   {
    "duration": 13,
    "start_time": "2022-02-27T14:51:53.408Z"
   },
   {
    "duration": 44,
    "start_time": "2022-02-27T14:51:53.423Z"
   },
   {
    "duration": 20,
    "start_time": "2022-02-27T14:51:53.469Z"
   },
   {
    "duration": 22,
    "start_time": "2022-02-27T14:51:53.491Z"
   },
   {
    "duration": 16,
    "start_time": "2022-02-27T14:51:53.517Z"
   },
   {
    "duration": 42,
    "start_time": "2022-02-27T14:51:53.535Z"
   },
   {
    "duration": 204,
    "start_time": "2022-02-27T14:51:53.579Z"
   },
   {
    "duration": 16,
    "start_time": "2022-02-27T14:51:53.785Z"
   },
   {
    "duration": 4,
    "start_time": "2022-02-27T14:51:53.803Z"
   },
   {
    "duration": 16,
    "start_time": "2022-02-27T14:51:53.808Z"
   },
   {
    "duration": 8,
    "start_time": "2022-02-27T14:51:53.825Z"
   },
   {
    "duration": 1622,
    "start_time": "2022-02-27T14:51:53.835Z"
   },
   {
    "duration": 387,
    "start_time": "2022-02-27T14:51:55.458Z"
   },
   {
    "duration": 365,
    "start_time": "2022-02-27T14:51:55.847Z"
   },
   {
    "duration": 19,
    "start_time": "2022-02-27T14:51:56.214Z"
   },
   {
    "duration": 37,
    "start_time": "2022-02-27T14:51:56.235Z"
   },
   {
    "duration": 11,
    "start_time": "2022-02-27T14:51:56.274Z"
   },
   {
    "duration": 397,
    "start_time": "2022-02-27T14:51:56.286Z"
   },
   {
    "duration": 2374,
    "start_time": "2022-02-27T14:51:56.685Z"
   },
   {
    "duration": 2344,
    "start_time": "2022-02-27T14:51:59.060Z"
   },
   {
    "duration": 2211,
    "start_time": "2022-02-27T14:52:01.406Z"
   },
   {
    "duration": 2245,
    "start_time": "2022-02-27T14:52:03.619Z"
   },
   {
    "duration": 2185,
    "start_time": "2022-02-27T14:52:05.866Z"
   },
   {
    "duration": 2331,
    "start_time": "2022-02-27T14:52:08.052Z"
   },
   {
    "duration": 2232,
    "start_time": "2022-02-27T14:52:10.389Z"
   },
   {
    "duration": 13,
    "start_time": "2022-02-27T14:52:12.623Z"
   },
   {
    "duration": 26,
    "start_time": "2022-02-27T14:52:12.638Z"
   },
   {
    "duration": 13,
    "start_time": "2022-02-27T14:52:12.666Z"
   },
   {
    "duration": 19,
    "start_time": "2022-02-27T14:52:12.681Z"
   },
   {
    "duration": 24,
    "start_time": "2022-02-27T14:52:12.702Z"
   },
   {
    "duration": 12,
    "start_time": "2022-02-27T14:52:12.728Z"
   },
   {
    "duration": 25,
    "start_time": "2022-02-27T14:52:12.741Z"
   },
   {
    "duration": 14,
    "start_time": "2022-02-27T14:52:12.768Z"
   },
   {
    "duration": 14,
    "start_time": "2022-02-27T14:52:12.784Z"
   },
   {
    "duration": 12,
    "start_time": "2022-02-27T14:52:12.799Z"
   },
   {
    "duration": 12,
    "start_time": "2022-02-27T14:52:12.813Z"
   },
   {
    "duration": 42,
    "start_time": "2022-02-27T14:52:12.827Z"
   },
   {
    "duration": 15,
    "start_time": "2022-02-27T14:52:12.871Z"
   },
   {
    "duration": 12,
    "start_time": "2022-02-27T14:52:12.888Z"
   },
   {
    "duration": 15,
    "start_time": "2022-02-27T14:52:12.901Z"
   },
   {
    "duration": 14,
    "start_time": "2022-02-27T14:52:12.918Z"
   },
   {
    "duration": 14,
    "start_time": "2022-02-27T14:52:20.034Z"
   },
   {
    "duration": 11,
    "start_time": "2022-02-27T15:02:10.845Z"
   },
   {
    "duration": 11,
    "start_time": "2022-02-27T15:02:56.110Z"
   },
   {
    "duration": 5,
    "start_time": "2022-02-27T15:03:34.982Z"
   },
   {
    "duration": 5,
    "start_time": "2022-02-27T15:08:45.897Z"
   },
   {
    "duration": 11,
    "start_time": "2022-02-27T15:10:59.476Z"
   },
   {
    "duration": 12,
    "start_time": "2022-02-27T15:11:09.443Z"
   },
   {
    "duration": 5,
    "start_time": "2022-02-27T15:12:27.924Z"
   },
   {
    "duration": 2878,
    "start_time": "2022-03-07T14:25:43.720Z"
   },
   {
    "duration": 598,
    "start_time": "2022-03-07T14:25:46.600Z"
   },
   {
    "duration": 14,
    "start_time": "2022-03-07T14:25:47.201Z"
   },
   {
    "duration": 14,
    "start_time": "2022-03-07T14:25:47.218Z"
   },
   {
    "duration": 32,
    "start_time": "2022-03-07T14:25:47.234Z"
   },
   {
    "duration": 14,
    "start_time": "2022-03-07T14:25:47.268Z"
   },
   {
    "duration": 14,
    "start_time": "2022-03-07T14:25:47.284Z"
   },
   {
    "duration": 43,
    "start_time": "2022-03-07T14:25:47.302Z"
   },
   {
    "duration": 9,
    "start_time": "2022-03-07T14:25:47.348Z"
   },
   {
    "duration": 13,
    "start_time": "2022-03-07T14:25:47.358Z"
   },
   {
    "duration": 9,
    "start_time": "2022-03-07T14:25:47.373Z"
   },
   {
    "duration": 10,
    "start_time": "2022-03-07T14:25:47.384Z"
   },
   {
    "duration": 50,
    "start_time": "2022-03-07T14:25:47.396Z"
   },
   {
    "duration": 13,
    "start_time": "2022-03-07T14:25:47.448Z"
   },
   {
    "duration": 14,
    "start_time": "2022-03-07T14:25:47.462Z"
   },
   {
    "duration": 61,
    "start_time": "2022-03-07T14:25:47.478Z"
   },
   {
    "duration": 15,
    "start_time": "2022-03-07T14:25:47.541Z"
   },
   {
    "duration": 23,
    "start_time": "2022-03-07T14:25:47.558Z"
   },
   {
    "duration": 12,
    "start_time": "2022-03-07T14:25:47.584Z"
   },
   {
    "duration": 53,
    "start_time": "2022-03-07T14:25:47.598Z"
   },
   {
    "duration": 14,
    "start_time": "2022-03-07T14:25:47.653Z"
   },
   {
    "duration": 23,
    "start_time": "2022-03-07T14:25:47.669Z"
   },
   {
    "duration": 52,
    "start_time": "2022-03-07T14:25:47.696Z"
   },
   {
    "duration": 18,
    "start_time": "2022-03-07T14:25:47.751Z"
   },
   {
    "duration": 25,
    "start_time": "2022-03-07T14:25:47.771Z"
   },
   {
    "duration": 227,
    "start_time": "2022-03-07T14:25:47.798Z"
   },
   {
    "duration": 15,
    "start_time": "2022-03-07T14:25:48.028Z"
   },
   {
    "duration": 4,
    "start_time": "2022-03-07T14:25:48.045Z"
   },
   {
    "duration": 18,
    "start_time": "2022-03-07T14:25:48.051Z"
   },
   {
    "duration": 9,
    "start_time": "2022-03-07T14:25:48.071Z"
   },
   {
    "duration": 1502,
    "start_time": "2022-03-07T14:25:48.083Z"
   },
   {
    "duration": 424,
    "start_time": "2022-03-07T14:25:49.587Z"
   },
   {
    "duration": 382,
    "start_time": "2022-03-07T14:25:50.013Z"
   },
   {
    "duration": 20,
    "start_time": "2022-03-07T14:25:50.397Z"
   },
   {
    "duration": 31,
    "start_time": "2022-03-07T14:25:50.419Z"
   },
   {
    "duration": 10,
    "start_time": "2022-03-07T14:25:50.452Z"
   },
   {
    "duration": 490,
    "start_time": "2022-03-07T14:25:50.464Z"
   },
   {
    "duration": 2396,
    "start_time": "2022-03-07T14:25:50.956Z"
   },
   {
    "duration": 2572,
    "start_time": "2022-03-07T14:25:53.354Z"
   },
   {
    "duration": 2335,
    "start_time": "2022-03-07T14:25:55.927Z"
   },
   {
    "duration": 2394,
    "start_time": "2022-03-07T14:25:58.264Z"
   },
   {
    "duration": 2411,
    "start_time": "2022-03-07T14:26:00.660Z"
   },
   {
    "duration": 2396,
    "start_time": "2022-03-07T14:26:03.073Z"
   },
   {
    "duration": 2470,
    "start_time": "2022-03-07T14:26:05.471Z"
   },
   {
    "duration": 15,
    "start_time": "2022-03-07T14:26:07.942Z"
   },
   {
    "duration": 9,
    "start_time": "2022-03-07T14:26:07.959Z"
   },
   {
    "duration": 13,
    "start_time": "2022-03-07T14:26:07.970Z"
   },
   {
    "duration": 16,
    "start_time": "2022-03-07T14:26:07.985Z"
   },
   {
    "duration": 46,
    "start_time": "2022-03-07T14:26:08.003Z"
   },
   {
    "duration": 9,
    "start_time": "2022-03-07T14:26:08.051Z"
   },
   {
    "duration": 13,
    "start_time": "2022-03-07T14:26:08.062Z"
   },
   {
    "duration": 14,
    "start_time": "2022-03-07T14:26:08.077Z"
   },
   {
    "duration": 46,
    "start_time": "2022-03-07T14:26:08.093Z"
   },
   {
    "duration": 10,
    "start_time": "2022-03-07T14:26:08.141Z"
   },
   {
    "duration": 13,
    "start_time": "2022-03-07T14:26:08.153Z"
   },
   {
    "duration": 23,
    "start_time": "2022-03-07T14:26:08.168Z"
   },
   {
    "duration": 15,
    "start_time": "2022-03-07T14:26:08.193Z"
   },
   {
    "duration": 35,
    "start_time": "2022-03-07T14:26:08.209Z"
   },
   {
    "duration": 14,
    "start_time": "2022-03-07T14:26:08.246Z"
   },
   {
    "duration": 14,
    "start_time": "2022-03-07T14:26:08.262Z"
   },
   {
    "duration": 13,
    "start_time": "2022-03-07T14:26:08.277Z"
   },
   {
    "duration": 48,
    "start_time": "2022-03-07T14:26:08.291Z"
   },
   {
    "duration": 13,
    "start_time": "2022-03-07T14:26:08.340Z"
   },
   {
    "duration": 10,
    "start_time": "2022-03-07T14:26:08.355Z"
   },
   {
    "duration": 16,
    "start_time": "2022-03-07T14:26:08.367Z"
   },
   {
    "duration": 11,
    "start_time": "2022-03-07T14:26:08.385Z"
   },
   {
    "duration": 5,
    "start_time": "2022-03-07T14:26:08.398Z"
   },
   {
    "duration": 86,
    "start_time": "2022-03-08T12:17:24.954Z"
   },
   {
    "duration": 1510,
    "start_time": "2022-03-08T12:23:21.710Z"
   },
   {
    "duration": 208,
    "start_time": "2022-03-08T12:23:23.222Z"
   },
   {
    "duration": 14,
    "start_time": "2022-03-08T12:23:23.433Z"
   },
   {
    "duration": 14,
    "start_time": "2022-03-08T12:23:23.450Z"
   },
   {
    "duration": 32,
    "start_time": "2022-03-08T12:23:23.467Z"
   },
   {
    "duration": 20,
    "start_time": "2022-03-08T12:23:23.501Z"
   },
   {
    "duration": 37,
    "start_time": "2022-03-08T12:23:23.523Z"
   },
   {
    "duration": 22,
    "start_time": "2022-03-08T12:23:23.564Z"
   },
   {
    "duration": 11,
    "start_time": "2022-03-08T12:23:23.589Z"
   },
   {
    "duration": 50,
    "start_time": "2022-03-08T12:23:23.603Z"
   },
   {
    "duration": 11,
    "start_time": "2022-03-08T12:23:23.655Z"
   },
   {
    "duration": 12,
    "start_time": "2022-03-08T12:23:23.668Z"
   },
   {
    "duration": 23,
    "start_time": "2022-03-08T12:23:23.683Z"
   },
   {
    "duration": 49,
    "start_time": "2022-03-08T12:23:23.708Z"
   },
   {
    "duration": 20,
    "start_time": "2022-03-08T12:23:23.760Z"
   },
   {
    "duration": 78,
    "start_time": "2022-03-08T12:23:23.783Z"
   },
   {
    "duration": 22,
    "start_time": "2022-03-08T12:23:23.864Z"
   },
   {
    "duration": 68,
    "start_time": "2022-03-08T12:23:23.889Z"
   },
   {
    "duration": 24,
    "start_time": "2022-03-08T12:23:23.960Z"
   },
   {
    "duration": 22,
    "start_time": "2022-03-08T12:23:23.987Z"
   },
   {
    "duration": 50,
    "start_time": "2022-03-08T12:23:24.012Z"
   },
   {
    "duration": 39,
    "start_time": "2022-03-08T12:23:24.065Z"
   },
   {
    "duration": 70,
    "start_time": "2022-03-08T12:23:24.111Z"
   },
   {
    "duration": 32,
    "start_time": "2022-03-08T12:23:24.186Z"
   },
   {
    "duration": 48,
    "start_time": "2022-03-08T12:23:24.221Z"
   },
   {
    "duration": 479,
    "start_time": "2022-03-08T12:23:24.272Z"
   },
   {
    "duration": 23,
    "start_time": "2022-03-08T12:23:24.754Z"
   },
   {
    "duration": 6,
    "start_time": "2022-03-08T12:23:24.779Z"
   },
   {
    "duration": 25,
    "start_time": "2022-03-08T12:23:24.788Z"
   },
   {
    "duration": 45,
    "start_time": "2022-03-08T12:23:24.815Z"
   },
   {
    "duration": 3191,
    "start_time": "2022-03-08T12:23:24.862Z"
   },
   {
    "duration": 655,
    "start_time": "2022-03-08T12:23:28.056Z"
   },
   {
    "duration": 605,
    "start_time": "2022-03-08T12:23:28.714Z"
   },
   {
    "duration": 39,
    "start_time": "2022-03-08T12:23:29.321Z"
   },
   {
    "duration": 24,
    "start_time": "2022-03-08T12:23:29.362Z"
   },
   {
    "duration": 15,
    "start_time": "2022-03-08T12:23:29.388Z"
   },
   {
    "duration": 859,
    "start_time": "2022-03-08T12:23:29.406Z"
   },
   {
    "duration": 655,
    "start_time": "2022-03-08T12:23:30.268Z"
   },
   {
    "duration": 3530,
    "start_time": "2022-03-08T12:23:30.926Z"
   },
   {
    "duration": 3430,
    "start_time": "2022-03-08T12:23:34.459Z"
   },
   {
    "duration": 3506,
    "start_time": "2022-03-08T12:23:37.892Z"
   },
   {
    "duration": 3401,
    "start_time": "2022-03-08T12:23:41.400Z"
   },
   {
    "duration": 3777,
    "start_time": "2022-03-08T12:23:44.804Z"
   },
   {
    "duration": 3715,
    "start_time": "2022-03-08T12:23:48.584Z"
   },
   {
    "duration": 3564,
    "start_time": "2022-03-08T12:23:52.302Z"
   },
   {
    "duration": 21,
    "start_time": "2022-03-08T12:23:55.869Z"
   },
   {
    "duration": 489,
    "start_time": "2022-03-08T12:23:55.894Z"
   },
   {
    "duration": 14,
    "start_time": "2022-03-08T12:23:56.385Z"
   },
   {
    "duration": 446,
    "start_time": "2022-03-08T12:23:56.401Z"
   },
   {
    "duration": 479,
    "start_time": "2022-03-08T12:23:56.852Z"
   },
   {
    "duration": 262,
    "start_time": "2022-03-08T12:23:57.334Z"
   },
   {
    "duration": 14,
    "start_time": "2022-03-08T12:23:57.598Z"
   },
   {
    "duration": 457,
    "start_time": "2022-03-08T12:23:57.615Z"
   },
   {
    "duration": 492,
    "start_time": "2022-03-08T12:23:58.075Z"
   },
   {
    "duration": 254,
    "start_time": "2022-03-08T12:23:58.569Z"
   },
   {
    "duration": 31,
    "start_time": "2022-03-08T12:23:58.826Z"
   },
   {
    "duration": 564,
    "start_time": "2022-03-08T12:23:58.860Z"
   },
   {
    "duration": 641,
    "start_time": "2022-03-08T12:23:59.428Z"
   },
   {
    "duration": 368,
    "start_time": "2022-03-08T12:24:00.072Z"
   },
   {
    "duration": 19,
    "start_time": "2022-03-08T12:24:00.442Z"
   },
   {
    "duration": 459,
    "start_time": "2022-03-08T12:24:00.463Z"
   },
   {
    "duration": 491,
    "start_time": "2022-03-08T12:24:00.925Z"
   },
   {
    "duration": 291,
    "start_time": "2022-03-08T12:24:01.420Z"
   },
   {
    "duration": 20,
    "start_time": "2022-03-08T12:24:01.714Z"
   },
   {
    "duration": 17,
    "start_time": "2022-03-08T12:24:01.753Z"
   },
   {
    "duration": 17,
    "start_time": "2022-03-08T12:24:01.773Z"
   },
   {
    "duration": 58,
    "start_time": "2022-03-08T12:24:01.793Z"
   },
   {
    "duration": 30,
    "start_time": "2022-03-08T12:24:01.858Z"
   },
   {
    "duration": 22,
    "start_time": "2022-03-08T12:24:01.891Z"
   },
   {
    "duration": 1572,
    "start_time": "2022-04-14T12:38:02.791Z"
   },
   {
    "duration": 203,
    "start_time": "2022-04-14T12:38:04.366Z"
   },
   {
    "duration": 23,
    "start_time": "2022-04-14T12:38:16.597Z"
   },
   {
    "duration": 22,
    "start_time": "2022-04-14T12:38:48.045Z"
   },
   {
    "duration": 31,
    "start_time": "2022-04-14T12:38:57.813Z"
   },
   {
    "duration": 20,
    "start_time": "2022-04-14T12:38:59.244Z"
   },
   {
    "duration": 12,
    "start_time": "2022-04-14T12:39:00.638Z"
   },
   {
    "duration": 21,
    "start_time": "2022-04-14T12:39:02.102Z"
   },
   {
    "duration": 15,
    "start_time": "2022-04-14T12:58:46.971Z"
   },
   {
    "duration": 15,
    "start_time": "2022-04-14T12:58:47.890Z"
   },
   {
    "duration": 14,
    "start_time": "2022-04-14T12:58:49.211Z"
   },
   {
    "duration": 15,
    "start_time": "2022-04-14T12:58:50.562Z"
   },
   {
    "duration": 14,
    "start_time": "2022-04-14T12:58:51.771Z"
   },
   {
    "duration": 30,
    "start_time": "2022-04-14T12:58:52.764Z"
   },
   {
    "duration": 26,
    "start_time": "2022-04-14T12:58:56.026Z"
   },
   {
    "duration": 37,
    "start_time": "2022-04-14T12:59:43.242Z"
   },
   {
    "duration": 22,
    "start_time": "2022-04-14T12:59:47.162Z"
   },
   {
    "duration": 34,
    "start_time": "2022-04-14T12:59:48.244Z"
   },
   {
    "duration": 22,
    "start_time": "2022-04-14T12:59:53.090Z"
   },
   {
    "duration": 17,
    "start_time": "2022-04-14T12:59:57.154Z"
   },
   {
    "duration": 18,
    "start_time": "2022-04-14T13:00:01.123Z"
   },
   {
    "duration": 36,
    "start_time": "2022-04-14T13:00:04.654Z"
   },
   {
    "duration": 49,
    "start_time": "2022-04-14T13:02:43.244Z"
   },
   {
    "duration": 29,
    "start_time": "2022-04-14T13:02:44.548Z"
   },
   {
    "duration": 20,
    "start_time": "2022-04-14T13:04:19.596Z"
   },
   {
    "duration": 371,
    "start_time": "2022-04-14T13:04:27.483Z"
   },
   {
    "duration": 23,
    "start_time": "2022-04-14T13:04:47.500Z"
   },
   {
    "duration": 6,
    "start_time": "2022-04-14T13:04:49.173Z"
   },
   {
    "duration": 25,
    "start_time": "2022-04-14T13:04:50.260Z"
   },
   {
    "duration": 13,
    "start_time": "2022-04-14T13:04:51.468Z"
   },
   {
    "duration": 2394,
    "start_time": "2022-04-14T13:04:55.579Z"
   },
   {
    "duration": 467,
    "start_time": "2022-04-14T13:05:13.027Z"
   },
   {
    "duration": 443,
    "start_time": "2022-04-14T13:05:15.196Z"
   },
   {
    "duration": 36,
    "start_time": "2022-04-14T13:05:25.995Z"
   },
   {
    "duration": 24,
    "start_time": "2022-04-14T13:05:30.773Z"
   },
   {
    "duration": 17,
    "start_time": "2022-04-14T13:05:32.396Z"
   },
   {
    "duration": 811,
    "start_time": "2022-04-14T13:05:33.700Z"
   },
   {
    "duration": 503,
    "start_time": "2022-04-14T13:09:37.541Z"
   },
   {
    "duration": 1745,
    "start_time": "2022-04-14T13:09:43.189Z"
   },
   {
    "duration": 0,
    "start_time": "2022-04-14T13:09:44.937Z"
   },
   {
    "duration": 1479,
    "start_time": "2022-04-14T13:09:54.989Z"
   },
   {
    "duration": 21,
    "start_time": "2022-04-14T14:49:50.710Z"
   },
   {
    "duration": 361,
    "start_time": "2022-04-14T14:49:51.743Z"
   },
   {
    "duration": 20,
    "start_time": "2022-04-14T14:49:55.423Z"
   },
   {
    "duration": 405,
    "start_time": "2022-04-14T14:49:56.438Z"
   },
   {
    "duration": 472,
    "start_time": "2022-04-14T14:49:58.391Z"
   },
   {
    "duration": 268,
    "start_time": "2022-04-14T14:50:00.175Z"
   },
   {
    "duration": 26,
    "start_time": "2022-04-14T14:50:04.626Z"
   },
   {
    "duration": 313,
    "start_time": "2022-04-14T14:50:05.663Z"
   },
   {
    "duration": 350,
    "start_time": "2022-04-14T14:50:07.368Z"
   },
   {
    "duration": 210,
    "start_time": "2022-04-14T14:50:08.991Z"
   },
   {
    "duration": 20,
    "start_time": "2022-04-14T14:50:11.439Z"
   },
   {
    "duration": 283,
    "start_time": "2022-04-14T14:50:12.511Z"
   },
   {
    "duration": 347,
    "start_time": "2022-04-14T14:50:13.990Z"
   },
   {
    "duration": 212,
    "start_time": "2022-04-14T14:50:15.535Z"
   },
   {
    "duration": 25,
    "start_time": "2022-04-14T14:50:17.190Z"
   },
   {
    "duration": 305,
    "start_time": "2022-04-14T14:50:18.263Z"
   },
   {
    "duration": 336,
    "start_time": "2022-04-14T14:50:19.886Z"
   },
   {
    "duration": 212,
    "start_time": "2022-04-14T14:50:21.543Z"
   },
   {
    "duration": 17,
    "start_time": "2022-04-14T14:50:34.608Z"
   },
   {
    "duration": 21,
    "start_time": "2022-04-14T14:50:37.112Z"
   },
   {
    "duration": 6,
    "start_time": "2022-04-14T14:50:41.951Z"
   },
   {
    "duration": 23,
    "start_time": "2022-04-14T14:50:44.619Z"
   },
   {
    "duration": 17,
    "start_time": "2022-04-14T14:50:45.567Z"
   },
   {
    "duration": 7,
    "start_time": "2022-04-14T14:50:47.306Z"
   },
   {
    "duration": 17,
    "start_time": "2022-04-14T14:53:45.939Z"
   },
   {
    "duration": 4581,
    "start_time": "2022-04-14T14:55:43.449Z"
   },
   {
    "duration": 1240,
    "start_time": "2022-04-14T15:02:20.356Z"
   },
   {
    "duration": 895,
    "start_time": "2022-04-14T15:02:31.323Z"
   },
   {
    "duration": 5,
    "start_time": "2022-04-14T15:08:13.299Z"
   },
   {
    "duration": 190,
    "start_time": "2022-04-14T15:08:13.310Z"
   },
   {
    "duration": 19,
    "start_time": "2022-04-14T15:08:13.503Z"
   },
   {
    "duration": 18,
    "start_time": "2022-04-14T15:08:13.525Z"
   },
   {
    "duration": 62,
    "start_time": "2022-04-14T15:08:13.546Z"
   },
   {
    "duration": 18,
    "start_time": "2022-04-14T15:08:13.610Z"
   },
   {
    "duration": 10,
    "start_time": "2022-04-14T15:08:13.630Z"
   },
   {
    "duration": 56,
    "start_time": "2022-04-14T15:08:13.643Z"
   },
   {
    "duration": 10,
    "start_time": "2022-04-14T15:08:13.701Z"
   },
   {
    "duration": 10,
    "start_time": "2022-04-14T15:08:13.714Z"
   },
   {
    "duration": 11,
    "start_time": "2022-04-14T15:08:13.729Z"
   },
   {
    "duration": 52,
    "start_time": "2022-04-14T15:08:13.742Z"
   },
   {
    "duration": 11,
    "start_time": "2022-04-14T15:08:13.796Z"
   },
   {
    "duration": 30,
    "start_time": "2022-04-14T15:08:13.809Z"
   },
   {
    "duration": 17,
    "start_time": "2022-04-14T15:08:13.841Z"
   },
   {
    "duration": 65,
    "start_time": "2022-04-14T15:08:13.860Z"
   },
   {
    "duration": 22,
    "start_time": "2022-04-14T15:08:13.927Z"
   },
   {
    "duration": 64,
    "start_time": "2022-04-14T15:08:13.951Z"
   },
   {
    "duration": 21,
    "start_time": "2022-04-14T15:08:14.018Z"
   },
   {
    "duration": 16,
    "start_time": "2022-04-14T15:08:14.042Z"
   },
   {
    "duration": 18,
    "start_time": "2022-04-14T15:08:14.093Z"
   },
   {
    "duration": 34,
    "start_time": "2022-04-14T15:08:14.113Z"
   },
   {
    "duration": 61,
    "start_time": "2022-04-14T15:08:14.150Z"
   },
   {
    "duration": 24,
    "start_time": "2022-04-14T15:08:14.213Z"
   },
   {
    "duration": 22,
    "start_time": "2022-04-14T15:08:14.239Z"
   },
   {
    "duration": 354,
    "start_time": "2022-04-14T15:08:14.263Z"
   },
   {
    "duration": 23,
    "start_time": "2022-04-14T15:08:14.619Z"
   },
   {
    "duration": 6,
    "start_time": "2022-04-14T15:08:14.644Z"
   },
   {
    "duration": 52,
    "start_time": "2022-04-14T15:08:14.654Z"
   },
   {
    "duration": 12,
    "start_time": "2022-04-14T15:08:14.709Z"
   },
   {
    "duration": 2153,
    "start_time": "2022-04-14T15:08:14.723Z"
   },
   {
    "duration": 445,
    "start_time": "2022-04-14T15:08:16.878Z"
   },
   {
    "duration": 404,
    "start_time": "2022-04-14T15:08:17.325Z"
   },
   {
    "duration": 35,
    "start_time": "2022-04-14T15:08:17.731Z"
   },
   {
    "duration": 47,
    "start_time": "2022-04-14T15:08:17.768Z"
   },
   {
    "duration": 17,
    "start_time": "2022-04-14T15:08:17.817Z"
   },
   {
    "duration": 538,
    "start_time": "2022-04-14T15:08:17.836Z"
   },
   {
    "duration": 402,
    "start_time": "2022-04-14T15:08:18.376Z"
   },
   {
    "duration": 24,
    "start_time": "2022-04-14T15:09:14.048Z"
   },
   {
    "duration": 25,
    "start_time": "2022-04-14T15:09:53.090Z"
   },
   {
    "duration": 1484,
    "start_time": "2022-04-14T20:51:46.055Z"
   },
   {
    "duration": 130,
    "start_time": "2022-04-14T20:51:47.541Z"
   },
   {
    "duration": 18,
    "start_time": "2022-04-14T20:51:47.673Z"
   },
   {
    "duration": 31,
    "start_time": "2022-04-14T20:51:47.694Z"
   },
   {
    "duration": 36,
    "start_time": "2022-04-14T20:51:47.728Z"
   },
   {
    "duration": 15,
    "start_time": "2022-04-14T20:51:47.766Z"
   },
   {
    "duration": 9,
    "start_time": "2022-04-14T20:51:47.783Z"
   },
   {
    "duration": 46,
    "start_time": "2022-04-14T20:51:47.794Z"
   },
   {
    "duration": 10,
    "start_time": "2022-04-14T20:51:47.842Z"
   },
   {
    "duration": 9,
    "start_time": "2022-04-14T20:51:47.855Z"
   },
   {
    "duration": 10,
    "start_time": "2022-04-14T20:51:47.867Z"
   },
   {
    "duration": 41,
    "start_time": "2022-04-14T20:51:47.878Z"
   },
   {
    "duration": 10,
    "start_time": "2022-04-14T20:51:47.922Z"
   },
   {
    "duration": 29,
    "start_time": "2022-04-14T20:51:47.934Z"
   },
   {
    "duration": 14,
    "start_time": "2022-04-14T20:51:47.965Z"
   },
   {
    "duration": 69,
    "start_time": "2022-04-14T20:51:47.981Z"
   },
   {
    "duration": 17,
    "start_time": "2022-04-14T20:51:48.053Z"
   },
   {
    "duration": 61,
    "start_time": "2022-04-14T20:51:48.072Z"
   },
   {
    "duration": 18,
    "start_time": "2022-04-14T20:51:48.135Z"
   },
   {
    "duration": 15,
    "start_time": "2022-04-14T20:51:48.155Z"
   },
   {
    "duration": 14,
    "start_time": "2022-04-14T20:51:48.172Z"
   },
   {
    "duration": 58,
    "start_time": "2022-04-14T20:51:48.188Z"
   },
   {
    "duration": 26,
    "start_time": "2022-04-14T20:51:48.249Z"
   },
   {
    "duration": 21,
    "start_time": "2022-04-14T20:51:48.277Z"
   },
   {
    "duration": 21,
    "start_time": "2022-04-14T20:51:48.325Z"
   },
   {
    "duration": 243,
    "start_time": "2022-04-14T20:51:48.348Z"
   },
   {
    "duration": 27,
    "start_time": "2022-04-14T20:51:48.594Z"
   },
   {
    "duration": 5,
    "start_time": "2022-04-14T20:51:48.626Z"
   },
   {
    "duration": 37,
    "start_time": "2022-04-14T20:51:48.633Z"
   },
   {
    "duration": 9,
    "start_time": "2022-04-14T20:51:48.672Z"
   },
   {
    "duration": 1444,
    "start_time": "2022-04-14T20:51:48.683Z"
   },
   {
    "duration": 485,
    "start_time": "2022-04-14T20:51:50.130Z"
   },
   {
    "duration": 438,
    "start_time": "2022-04-14T20:51:50.617Z"
   },
   {
    "duration": 29,
    "start_time": "2022-04-14T20:51:51.057Z"
   },
   {
    "duration": 48,
    "start_time": "2022-04-14T20:51:51.088Z"
   },
   {
    "duration": 19,
    "start_time": "2022-04-14T20:51:51.138Z"
   },
   {
    "duration": 574,
    "start_time": "2022-04-14T20:51:51.159Z"
   },
   {
    "duration": 359,
    "start_time": "2022-04-14T20:51:51.735Z"
   },
   {
    "duration": 120,
    "start_time": "2022-04-14T20:52:12.135Z"
   },
   {
    "duration": 870,
    "start_time": "2022-04-14T20:52:16.911Z"
   },
   {
    "duration": 25,
    "start_time": "2022-04-14T20:56:40.088Z"
   },
   {
    "duration": 19,
    "start_time": "2022-04-14T21:01:26.770Z"
   },
   {
    "duration": 3170,
    "start_time": "2022-04-14T21:01:47.906Z"
   },
   {
    "duration": 1072,
    "start_time": "2022-04-14T21:03:05.140Z"
   },
   {
    "duration": 1836,
    "start_time": "2022-04-14T21:05:12.367Z"
   },
   {
    "duration": 15,
    "start_time": "2022-04-14T21:06:48.018Z"
   },
   {
    "duration": 30,
    "start_time": "2022-04-14T21:07:13.605Z"
   },
   {
    "duration": 26,
    "start_time": "2022-04-14T21:08:26.157Z"
   },
   {
    "duration": 1124,
    "start_time": "2022-04-14T21:08:34.518Z"
   },
   {
    "duration": 14,
    "start_time": "2022-04-14T21:09:08.273Z"
   },
   {
    "duration": 1375,
    "start_time": "2022-04-14T21:10:14.967Z"
   },
   {
    "duration": 356,
    "start_time": "2022-04-14T21:12:32.821Z"
   },
   {
    "duration": 12,
    "start_time": "2022-04-14T21:13:38.967Z"
   },
   {
    "duration": 13,
    "start_time": "2022-04-14T21:13:53.169Z"
   },
   {
    "duration": 3239,
    "start_time": "2022-04-14T21:14:15.731Z"
   },
   {
    "duration": 387,
    "start_time": "2022-04-14T21:14:21.889Z"
   },
   {
    "duration": 317,
    "start_time": "2022-04-14T21:14:59.419Z"
   },
   {
    "duration": 353,
    "start_time": "2022-04-14T21:15:15.579Z"
   },
   {
    "duration": 333,
    "start_time": "2022-04-14T21:15:23.747Z"
   },
   {
    "duration": 317,
    "start_time": "2022-04-14T21:15:36.970Z"
   },
   {
    "duration": 300,
    "start_time": "2022-04-14T21:16:02.865Z"
   },
   {
    "duration": 300,
    "start_time": "2022-04-14T21:16:24.401Z"
   },
   {
    "duration": 306,
    "start_time": "2022-04-14T21:16:40.185Z"
   },
   {
    "duration": 329,
    "start_time": "2022-04-14T21:17:01.233Z"
   },
   {
    "duration": 512,
    "start_time": "2022-04-14T21:17:35.232Z"
   },
   {
    "duration": 20,
    "start_time": "2022-04-14T21:17:46.011Z"
   },
   {
    "duration": 314,
    "start_time": "2022-04-14T21:17:50.235Z"
   },
   {
    "duration": 22,
    "start_time": "2022-04-14T21:17:52.004Z"
   },
   {
    "duration": 188,
    "start_time": "2022-04-14T21:17:53.116Z"
   },
   {
    "duration": 228,
    "start_time": "2022-04-14T21:17:54.810Z"
   },
   {
    "duration": 131,
    "start_time": "2022-04-14T21:17:56.251Z"
   },
   {
    "duration": 14,
    "start_time": "2022-04-14T21:17:58.178Z"
   },
   {
    "duration": 189,
    "start_time": "2022-04-14T21:17:58.887Z"
   },
   {
    "duration": 232,
    "start_time": "2022-04-14T21:18:00.483Z"
   },
   {
    "duration": 134,
    "start_time": "2022-04-14T21:18:03.394Z"
   },
   {
    "duration": 17,
    "start_time": "2022-04-14T21:18:05.161Z"
   },
   {
    "duration": 178,
    "start_time": "2022-04-14T21:18:06.298Z"
   },
   {
    "duration": 144,
    "start_time": "2022-04-14T21:18:09.738Z"
   },
   {
    "duration": 16,
    "start_time": "2022-04-14T21:18:14.931Z"
   },
   {
    "duration": 189,
    "start_time": "2022-04-14T21:18:16.698Z"
   },
   {
    "duration": 220,
    "start_time": "2022-04-14T21:18:19.251Z"
   },
   {
    "duration": 252,
    "start_time": "2022-04-14T21:18:20.850Z"
   },
   {
    "duration": 13,
    "start_time": "2022-04-14T21:18:22.658Z"
   },
   {
    "duration": 12,
    "start_time": "2022-04-14T21:18:23.659Z"
   },
   {
    "duration": 5,
    "start_time": "2022-04-14T21:18:24.890Z"
   },
   {
    "duration": 8,
    "start_time": "2022-04-14T21:18:30.440Z"
   },
   {
    "duration": 18,
    "start_time": "2022-04-14T21:18:31.476Z"
   },
   {
    "duration": 12,
    "start_time": "2022-04-14T21:18:32.274Z"
   }
  ],
  "kernelspec": {
   "display_name": "Python 3 (ipykernel)",
   "language": "python",
   "name": "python3"
  },
  "language_info": {
   "codemirror_mode": {
    "name": "ipython",
    "version": 3
   },
   "file_extension": ".py",
   "mimetype": "text/x-python",
   "name": "python",
   "nbconvert_exporter": "python",
   "pygments_lexer": "ipython3",
   "version": "3.9.5"
  },
  "toc": {
   "base_numbering": 1,
   "nav_menu": {},
   "number_sections": true,
   "sideBar": true,
   "skip_h1_title": true,
   "title_cell": "Table of Contents",
   "title_sidebar": "Contents",
   "toc_cell": false,
   "toc_position": {
    "height": "calc(100% - 180px)",
    "left": "10px",
    "top": "150px",
    "width": "358.385px"
   },
   "toc_section_display": true,
   "toc_window_display": true
  }
 },
 "nbformat": 4,
 "nbformat_minor": 2
}
