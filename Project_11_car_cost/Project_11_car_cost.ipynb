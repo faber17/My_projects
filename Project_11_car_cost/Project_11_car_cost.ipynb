{
 "cells": [
  {
   "cell_type": "markdown",
   "metadata": {},
   "source": [
    "# Определение стоимости автомобилей"
   ]
  },
  {
   "cell_type": "markdown",
   "metadata": {},
   "source": [
    "Сервис по продаже автомобилей с пробегом «Не бит, не крашен» разрабатывает приложение для привлечения новых клиентов. В нём можно быстро узнать рыночную стоимость своего автомобиля. В моем распоряжении исторические данные: технические характеристики, комплектации и цены автомобилей. Мне нужно построить модель для определения стоимости. \n",
    "\n",
    "Заказчику важны:\n",
    "\n",
    "- качество предсказания;\n",
    "- скорость предсказания;\n",
    "- время обучения."
   ]
  },
  {
   "cell_type": "markdown",
   "metadata": {},
   "source": [
    "# Инструкция по выполнению проекта"
   ]
  },
  {
   "cell_type": "markdown",
   "metadata": {},
   "source": [
    "Чтобы усилить исследование, не ограничивайтесь градиентным бустингом. Попробуйте более простые модели — иногда они работают лучше. Это редкие случаи, которые легко пропустить, если всегда применять только бустинг. Поэкспериментируйте и сравните характеристики моделей: скорость работы, точность результата.\n",
    "\n",
    "Загрузите и подготовьте данные.\n",
    "\n",
    "Обучите разные модели. Для каждой попробуйте различные гиперпараметры.\n",
    "\n",
    "Проанализируйте скорость работы и качество моделей.\n",
    "\n",
    "Примечания:\n",
    "\n",
    "Для оценки качества моделей применяйте метрику RMSE.\n",
    "- Самостоятельно освойте библиотеку LightGBM и её средствами постройте модели градиентного бустинга.\n",
    "- Время выполнения ячейки кода Jupyter Notebook можно получить специальной командой. Найдите её.\n",
    "- Поскольку модель градиентного бустинга может обучаться долго, измените у неё только два-три параметра.\n",
    "- Если перестанет работать Jupyter Notebook, удалите лишние переменные оператором del:\n",
    "\n",
    "del features_train "
   ]
  },
  {
   "cell_type": "markdown",
   "metadata": {},
   "source": [
    "# Описание данных"
   ]
  },
  {
   "cell_type": "markdown",
   "metadata": {},
   "source": [
    "Данные находятся в файле /datasets/autos.csv\n",
    "\n",
    "Признаки:\n",
    "\n",
    "- DateCrawled — дата скачивания анкеты из базы\n",
    "- VehicleType — тип автомобильного кузова\n",
    "- RegistrationYear — год регистрации автомобиля\n",
    "- Gearbox — тип коробки передач\n",
    "- Power — мощность (л. с.)\n",
    "- Model — модель автомобиля\n",
    "- Kilometer — пробег (км)\n",
    "- RegistrationMonth — месяц регистрации автомобиля\n",
    "- FuelType — тип топлива\n",
    "- Brand — марка автомобиля\n",
    "- NotRepaired — была машина в ремонте или нет\n",
    "- DateCreated — дата создания анкеты\n",
    "- NumberOfPictures — количество фотографий автомобиля\n",
    "- PostalCode — почтовый индекс владельца анкеты (пользователя)\n",
    "- LastSeen — дата последней активности пользователя\n",
    "\n",
    "Целевой признак:\n",
    "\n",
    "- Price — цена (евро)"
   ]
  },
  {
   "cell_type": "markdown",
   "metadata": {},
   "source": [
    "## Подготовка данных"
   ]
  },
  {
   "cell_type": "markdown",
   "metadata": {},
   "source": [
    "Инсталирую catboost."
   ]
  },
  {
   "cell_type": "code",
   "execution_count": null,
   "metadata": {},
   "outputs": [],
   "source": [
    "#!pip install catboost"
   ]
  },
  {
   "cell_type": "markdown",
   "metadata": {},
   "source": [
    "Инсталирую lightgbm."
   ]
  },
  {
   "cell_type": "code",
   "execution_count": null,
   "metadata": {},
   "outputs": [],
   "source": [
    "#! pip install lightgbm"
   ]
  },
  {
   "cell_type": "markdown",
   "metadata": {},
   "source": [
    "Загружу все необходимые библиотеки."
   ]
  },
  {
   "cell_type": "code",
   "execution_count": 1,
   "metadata": {},
   "outputs": [],
   "source": [
    "import pandas as pd\n",
    "\n",
    "import numpy as np\n",
    "\n",
    "import seaborn as sns\n",
    "\n",
    "import math\n",
    "import matplotlib.pyplot as plt\n",
    "\n",
    "from catboost import Pool, CatBoostRegressor, cv\n",
    "\n",
    "from lightgbm import LGBMRegressor\n",
    "\n",
    "from sklearn.model_selection import train_test_split\n",
    "from sklearn.model_selection import cross_val_score\n",
    "from sklearn.model_selection import GridSearchCV\n",
    "from sklearn.model_selection import RepeatedKFold\n",
    "\n",
    "from sklearn.metrics import mean_squared_error\n",
    "\n",
    "from sklearn.preprocessing import StandardScaler\n",
    "\n",
    "from sklearn.linear_model import LinearRegression\n",
    "from sklearn.linear_model import Ridge\n",
    "\n",
    "from sklearn.tree import DecisionTreeClassifier\n",
    "\n",
    "import warnings\n",
    "warnings.filterwarnings('ignore')"
   ]
  },
  {
   "cell_type": "markdown",
   "metadata": {},
   "source": [
    "Загружу исходные данные в переменную df, посмотрю на первые 5 значений и общую информацию по данным."
   ]
  },
  {
   "cell_type": "code",
   "execution_count": 2,
   "metadata": {},
   "outputs": [
    {
     "data": {
      "text/html": [
       "<div>\n",
       "<style scoped>\n",
       "    .dataframe tbody tr th:only-of-type {\n",
       "        vertical-align: middle;\n",
       "    }\n",
       "\n",
       "    .dataframe tbody tr th {\n",
       "        vertical-align: top;\n",
       "    }\n",
       "\n",
       "    .dataframe thead th {\n",
       "        text-align: right;\n",
       "    }\n",
       "</style>\n",
       "<table border=\"1\" class=\"dataframe\">\n",
       "  <thead>\n",
       "    <tr style=\"text-align: right;\">\n",
       "      <th></th>\n",
       "      <th>DateCrawled</th>\n",
       "      <th>Price</th>\n",
       "      <th>VehicleType</th>\n",
       "      <th>RegistrationYear</th>\n",
       "      <th>Gearbox</th>\n",
       "      <th>Power</th>\n",
       "      <th>Model</th>\n",
       "      <th>Kilometer</th>\n",
       "      <th>RegistrationMonth</th>\n",
       "      <th>FuelType</th>\n",
       "      <th>Brand</th>\n",
       "      <th>NotRepaired</th>\n",
       "      <th>DateCreated</th>\n",
       "      <th>NumberOfPictures</th>\n",
       "      <th>PostalCode</th>\n",
       "      <th>LastSeen</th>\n",
       "    </tr>\n",
       "  </thead>\n",
       "  <tbody>\n",
       "    <tr>\n",
       "      <th>0</th>\n",
       "      <td>2016-03-24 11:52:17</td>\n",
       "      <td>480</td>\n",
       "      <td>NaN</td>\n",
       "      <td>1993</td>\n",
       "      <td>manual</td>\n",
       "      <td>0</td>\n",
       "      <td>golf</td>\n",
       "      <td>150000</td>\n",
       "      <td>0</td>\n",
       "      <td>petrol</td>\n",
       "      <td>volkswagen</td>\n",
       "      <td>NaN</td>\n",
       "      <td>2016-03-24 00:00:00</td>\n",
       "      <td>0</td>\n",
       "      <td>70435</td>\n",
       "      <td>2016-04-07 03:16:57</td>\n",
       "    </tr>\n",
       "    <tr>\n",
       "      <th>1</th>\n",
       "      <td>2016-03-24 10:58:45</td>\n",
       "      <td>18300</td>\n",
       "      <td>coupe</td>\n",
       "      <td>2011</td>\n",
       "      <td>manual</td>\n",
       "      <td>190</td>\n",
       "      <td>NaN</td>\n",
       "      <td>125000</td>\n",
       "      <td>5</td>\n",
       "      <td>gasoline</td>\n",
       "      <td>audi</td>\n",
       "      <td>yes</td>\n",
       "      <td>2016-03-24 00:00:00</td>\n",
       "      <td>0</td>\n",
       "      <td>66954</td>\n",
       "      <td>2016-04-07 01:46:50</td>\n",
       "    </tr>\n",
       "    <tr>\n",
       "      <th>2</th>\n",
       "      <td>2016-03-14 12:52:21</td>\n",
       "      <td>9800</td>\n",
       "      <td>suv</td>\n",
       "      <td>2004</td>\n",
       "      <td>auto</td>\n",
       "      <td>163</td>\n",
       "      <td>grand</td>\n",
       "      <td>125000</td>\n",
       "      <td>8</td>\n",
       "      <td>gasoline</td>\n",
       "      <td>jeep</td>\n",
       "      <td>NaN</td>\n",
       "      <td>2016-03-14 00:00:00</td>\n",
       "      <td>0</td>\n",
       "      <td>90480</td>\n",
       "      <td>2016-04-05 12:47:46</td>\n",
       "    </tr>\n",
       "    <tr>\n",
       "      <th>3</th>\n",
       "      <td>2016-03-17 16:54:04</td>\n",
       "      <td>1500</td>\n",
       "      <td>small</td>\n",
       "      <td>2001</td>\n",
       "      <td>manual</td>\n",
       "      <td>75</td>\n",
       "      <td>golf</td>\n",
       "      <td>150000</td>\n",
       "      <td>6</td>\n",
       "      <td>petrol</td>\n",
       "      <td>volkswagen</td>\n",
       "      <td>no</td>\n",
       "      <td>2016-03-17 00:00:00</td>\n",
       "      <td>0</td>\n",
       "      <td>91074</td>\n",
       "      <td>2016-03-17 17:40:17</td>\n",
       "    </tr>\n",
       "    <tr>\n",
       "      <th>4</th>\n",
       "      <td>2016-03-31 17:25:20</td>\n",
       "      <td>3600</td>\n",
       "      <td>small</td>\n",
       "      <td>2008</td>\n",
       "      <td>manual</td>\n",
       "      <td>69</td>\n",
       "      <td>fabia</td>\n",
       "      <td>90000</td>\n",
       "      <td>7</td>\n",
       "      <td>gasoline</td>\n",
       "      <td>skoda</td>\n",
       "      <td>no</td>\n",
       "      <td>2016-03-31 00:00:00</td>\n",
       "      <td>0</td>\n",
       "      <td>60437</td>\n",
       "      <td>2016-04-06 10:17:21</td>\n",
       "    </tr>\n",
       "  </tbody>\n",
       "</table>\n",
       "</div>"
      ],
      "text/plain": [
       "           DateCrawled  Price VehicleType  RegistrationYear Gearbox  Power  \\\n",
       "0  2016-03-24 11:52:17    480         NaN              1993  manual      0   \n",
       "1  2016-03-24 10:58:45  18300       coupe              2011  manual    190   \n",
       "2  2016-03-14 12:52:21   9800         suv              2004    auto    163   \n",
       "3  2016-03-17 16:54:04   1500       small              2001  manual     75   \n",
       "4  2016-03-31 17:25:20   3600       small              2008  manual     69   \n",
       "\n",
       "   Model  Kilometer  RegistrationMonth  FuelType       Brand NotRepaired  \\\n",
       "0   golf     150000                  0    petrol  volkswagen         NaN   \n",
       "1    NaN     125000                  5  gasoline        audi         yes   \n",
       "2  grand     125000                  8  gasoline        jeep         NaN   \n",
       "3   golf     150000                  6    petrol  volkswagen          no   \n",
       "4  fabia      90000                  7  gasoline       skoda          no   \n",
       "\n",
       "           DateCreated  NumberOfPictures  PostalCode             LastSeen  \n",
       "0  2016-03-24 00:00:00                 0       70435  2016-04-07 03:16:57  \n",
       "1  2016-03-24 00:00:00                 0       66954  2016-04-07 01:46:50  \n",
       "2  2016-03-14 00:00:00                 0       90480  2016-04-05 12:47:46  \n",
       "3  2016-03-17 00:00:00                 0       91074  2016-03-17 17:40:17  \n",
       "4  2016-03-31 00:00:00                 0       60437  2016-04-06 10:17:21  "
      ]
     },
     "metadata": {},
     "output_type": "display_data"
    },
    {
     "name": "stdout",
     "output_type": "stream",
     "text": [
      "<class 'pandas.core.frame.DataFrame'>\n",
      "RangeIndex: 354369 entries, 0 to 354368\n",
      "Data columns (total 16 columns):\n",
      " #   Column             Non-Null Count   Dtype \n",
      "---  ------             --------------   ----- \n",
      " 0   DateCrawled        354369 non-null  object\n",
      " 1   Price              354369 non-null  int64 \n",
      " 2   VehicleType        316879 non-null  object\n",
      " 3   RegistrationYear   354369 non-null  int64 \n",
      " 4   Gearbox            334536 non-null  object\n",
      " 5   Power              354369 non-null  int64 \n",
      " 6   Model              334664 non-null  object\n",
      " 7   Kilometer          354369 non-null  int64 \n",
      " 8   RegistrationMonth  354369 non-null  int64 \n",
      " 9   FuelType           321474 non-null  object\n",
      " 10  Brand              354369 non-null  object\n",
      " 11  NotRepaired        283215 non-null  object\n",
      " 12  DateCreated        354369 non-null  object\n",
      " 13  NumberOfPictures   354369 non-null  int64 \n",
      " 14  PostalCode         354369 non-null  int64 \n",
      " 15  LastSeen           354369 non-null  object\n",
      "dtypes: int64(7), object(9)\n",
      "memory usage: 43.3+ MB\n"
     ]
    },
    {
     "data": {
      "text/plain": [
       "None"
      ]
     },
     "metadata": {},
     "output_type": "display_data"
    }
   ],
   "source": [
    "try:  \n",
    "    df = pd.read_csv('C:/project/autos.csv')\n",
    "except OSError as e:\n",
    "    df = pd.read_csv('/datasets/autos.csv')\n",
    "display(df.head())\n",
    "display(df.info())"
   ]
  },
  {
   "cell_type": "markdown",
   "metadata": {},
   "source": [
    "Таблица представляет собой данные по каждому объявлению о продаже автомобиля. В данных имеются пропуски."
   ]
  },
  {
   "cell_type": "markdown",
   "metadata": {},
   "source": [
    "Для начала удалю стобцы, не влияющие на предсказание модели. Столбец 'DateCrawled' удалю после удаления дубликатов."
   ]
  },
  {
   "cell_type": "code",
   "execution_count": 3,
   "metadata": {
    "scrolled": true
   },
   "outputs": [
    {
     "data": {
      "text/html": [
       "<div>\n",
       "<style scoped>\n",
       "    .dataframe tbody tr th:only-of-type {\n",
       "        vertical-align: middle;\n",
       "    }\n",
       "\n",
       "    .dataframe tbody tr th {\n",
       "        vertical-align: top;\n",
       "    }\n",
       "\n",
       "    .dataframe thead th {\n",
       "        text-align: right;\n",
       "    }\n",
       "</style>\n",
       "<table border=\"1\" class=\"dataframe\">\n",
       "  <thead>\n",
       "    <tr style=\"text-align: right;\">\n",
       "      <th></th>\n",
       "      <th>DateCrawled</th>\n",
       "      <th>Price</th>\n",
       "      <th>VehicleType</th>\n",
       "      <th>RegistrationYear</th>\n",
       "      <th>Gearbox</th>\n",
       "      <th>Power</th>\n",
       "      <th>Model</th>\n",
       "      <th>Kilometer</th>\n",
       "      <th>FuelType</th>\n",
       "      <th>Brand</th>\n",
       "      <th>NotRepaired</th>\n",
       "    </tr>\n",
       "  </thead>\n",
       "  <tbody>\n",
       "    <tr>\n",
       "      <th>0</th>\n",
       "      <td>2016-03-24 11:52:17</td>\n",
       "      <td>480</td>\n",
       "      <td>NaN</td>\n",
       "      <td>1993</td>\n",
       "      <td>manual</td>\n",
       "      <td>0</td>\n",
       "      <td>golf</td>\n",
       "      <td>150000</td>\n",
       "      <td>petrol</td>\n",
       "      <td>volkswagen</td>\n",
       "      <td>NaN</td>\n",
       "    </tr>\n",
       "    <tr>\n",
       "      <th>1</th>\n",
       "      <td>2016-03-24 10:58:45</td>\n",
       "      <td>18300</td>\n",
       "      <td>coupe</td>\n",
       "      <td>2011</td>\n",
       "      <td>manual</td>\n",
       "      <td>190</td>\n",
       "      <td>NaN</td>\n",
       "      <td>125000</td>\n",
       "      <td>gasoline</td>\n",
       "      <td>audi</td>\n",
       "      <td>yes</td>\n",
       "    </tr>\n",
       "    <tr>\n",
       "      <th>2</th>\n",
       "      <td>2016-03-14 12:52:21</td>\n",
       "      <td>9800</td>\n",
       "      <td>suv</td>\n",
       "      <td>2004</td>\n",
       "      <td>auto</td>\n",
       "      <td>163</td>\n",
       "      <td>grand</td>\n",
       "      <td>125000</td>\n",
       "      <td>gasoline</td>\n",
       "      <td>jeep</td>\n",
       "      <td>NaN</td>\n",
       "    </tr>\n",
       "    <tr>\n",
       "      <th>3</th>\n",
       "      <td>2016-03-17 16:54:04</td>\n",
       "      <td>1500</td>\n",
       "      <td>small</td>\n",
       "      <td>2001</td>\n",
       "      <td>manual</td>\n",
       "      <td>75</td>\n",
       "      <td>golf</td>\n",
       "      <td>150000</td>\n",
       "      <td>petrol</td>\n",
       "      <td>volkswagen</td>\n",
       "      <td>no</td>\n",
       "    </tr>\n",
       "    <tr>\n",
       "      <th>4</th>\n",
       "      <td>2016-03-31 17:25:20</td>\n",
       "      <td>3600</td>\n",
       "      <td>small</td>\n",
       "      <td>2008</td>\n",
       "      <td>manual</td>\n",
       "      <td>69</td>\n",
       "      <td>fabia</td>\n",
       "      <td>90000</td>\n",
       "      <td>gasoline</td>\n",
       "      <td>skoda</td>\n",
       "      <td>no</td>\n",
       "    </tr>\n",
       "    <tr>\n",
       "      <th>...</th>\n",
       "      <td>...</td>\n",
       "      <td>...</td>\n",
       "      <td>...</td>\n",
       "      <td>...</td>\n",
       "      <td>...</td>\n",
       "      <td>...</td>\n",
       "      <td>...</td>\n",
       "      <td>...</td>\n",
       "      <td>...</td>\n",
       "      <td>...</td>\n",
       "      <td>...</td>\n",
       "    </tr>\n",
       "    <tr>\n",
       "      <th>354364</th>\n",
       "      <td>2016-03-21 09:50:58</td>\n",
       "      <td>0</td>\n",
       "      <td>NaN</td>\n",
       "      <td>2005</td>\n",
       "      <td>manual</td>\n",
       "      <td>0</td>\n",
       "      <td>colt</td>\n",
       "      <td>150000</td>\n",
       "      <td>petrol</td>\n",
       "      <td>mitsubishi</td>\n",
       "      <td>yes</td>\n",
       "    </tr>\n",
       "    <tr>\n",
       "      <th>354365</th>\n",
       "      <td>2016-03-14 17:48:27</td>\n",
       "      <td>2200</td>\n",
       "      <td>NaN</td>\n",
       "      <td>2005</td>\n",
       "      <td>NaN</td>\n",
       "      <td>0</td>\n",
       "      <td>NaN</td>\n",
       "      <td>20000</td>\n",
       "      <td>NaN</td>\n",
       "      <td>sonstige_autos</td>\n",
       "      <td>NaN</td>\n",
       "    </tr>\n",
       "    <tr>\n",
       "      <th>354366</th>\n",
       "      <td>2016-03-05 19:56:21</td>\n",
       "      <td>1199</td>\n",
       "      <td>convertible</td>\n",
       "      <td>2000</td>\n",
       "      <td>auto</td>\n",
       "      <td>101</td>\n",
       "      <td>fortwo</td>\n",
       "      <td>125000</td>\n",
       "      <td>petrol</td>\n",
       "      <td>smart</td>\n",
       "      <td>no</td>\n",
       "    </tr>\n",
       "    <tr>\n",
       "      <th>354367</th>\n",
       "      <td>2016-03-19 18:57:12</td>\n",
       "      <td>9200</td>\n",
       "      <td>bus</td>\n",
       "      <td>1996</td>\n",
       "      <td>manual</td>\n",
       "      <td>102</td>\n",
       "      <td>transporter</td>\n",
       "      <td>150000</td>\n",
       "      <td>gasoline</td>\n",
       "      <td>volkswagen</td>\n",
       "      <td>no</td>\n",
       "    </tr>\n",
       "    <tr>\n",
       "      <th>354368</th>\n",
       "      <td>2016-03-20 19:41:08</td>\n",
       "      <td>3400</td>\n",
       "      <td>wagon</td>\n",
       "      <td>2002</td>\n",
       "      <td>manual</td>\n",
       "      <td>100</td>\n",
       "      <td>golf</td>\n",
       "      <td>150000</td>\n",
       "      <td>gasoline</td>\n",
       "      <td>volkswagen</td>\n",
       "      <td>NaN</td>\n",
       "    </tr>\n",
       "  </tbody>\n",
       "</table>\n",
       "<p>354369 rows × 11 columns</p>\n",
       "</div>"
      ],
      "text/plain": [
       "                DateCrawled  Price  VehicleType  RegistrationYear Gearbox  \\\n",
       "0       2016-03-24 11:52:17    480          NaN              1993  manual   \n",
       "1       2016-03-24 10:58:45  18300        coupe              2011  manual   \n",
       "2       2016-03-14 12:52:21   9800          suv              2004    auto   \n",
       "3       2016-03-17 16:54:04   1500        small              2001  manual   \n",
       "4       2016-03-31 17:25:20   3600        small              2008  manual   \n",
       "...                     ...    ...          ...               ...     ...   \n",
       "354364  2016-03-21 09:50:58      0          NaN              2005  manual   \n",
       "354365  2016-03-14 17:48:27   2200          NaN              2005     NaN   \n",
       "354366  2016-03-05 19:56:21   1199  convertible              2000    auto   \n",
       "354367  2016-03-19 18:57:12   9200          bus              1996  manual   \n",
       "354368  2016-03-20 19:41:08   3400        wagon              2002  manual   \n",
       "\n",
       "        Power        Model  Kilometer  FuelType           Brand NotRepaired  \n",
       "0           0         golf     150000    petrol      volkswagen         NaN  \n",
       "1         190          NaN     125000  gasoline            audi         yes  \n",
       "2         163        grand     125000  gasoline            jeep         NaN  \n",
       "3          75         golf     150000    petrol      volkswagen          no  \n",
       "4          69        fabia      90000  gasoline           skoda          no  \n",
       "...       ...          ...        ...       ...             ...         ...  \n",
       "354364      0         colt     150000    petrol      mitsubishi         yes  \n",
       "354365      0          NaN      20000       NaN  sonstige_autos         NaN  \n",
       "354366    101       fortwo     125000    petrol           smart          no  \n",
       "354367    102  transporter     150000  gasoline      volkswagen          no  \n",
       "354368    100         golf     150000  gasoline      volkswagen         NaN  \n",
       "\n",
       "[354369 rows x 11 columns]"
      ]
     },
     "metadata": {},
     "output_type": "display_data"
    }
   ],
   "source": [
    "df = df.drop(columns=['DateCreated', 'LastSeen', 'RegistrationMonth', 'NumberOfPictures', 'PostalCode'])\n",
    "display(df)"
   ]
  },
  {
   "cell_type": "markdown",
   "metadata": {},
   "source": [
    "Напишу функцию, которая позволит выделить уникальные значения столбца, а также количество NaN."
   ]
  },
  {
   "cell_type": "code",
   "execution_count": 4,
   "metadata": {},
   "outputs": [],
   "source": [
    "def data_values(data):\n",
    "    for column in data.columns:\n",
    "        print('Значения столбца', column)\n",
    "        print(data[column].sort_values().unique())\n",
    "        print('Количество NaN:', data[column].isna().sum())"
   ]
  },
  {
   "cell_type": "markdown",
   "metadata": {},
   "source": [
    "Применю функцию."
   ]
  },
  {
   "cell_type": "code",
   "execution_count": 5,
   "metadata": {
    "scrolled": true
   },
   "outputs": [
    {
     "name": "stdout",
     "output_type": "stream",
     "text": [
      "Значения столбца DateCrawled\n",
      "['2016-03-05 14:06:22' '2016-03-05 14:06:23' '2016-03-05 14:06:24' ...\n",
      " '2016-04-07 14:36:55' '2016-04-07 14:36:56' '2016-04-07 14:36:58']\n",
      "Количество NaN: 0\n",
      "Значения столбца Price\n",
      "[    0     1     2 ... 19998 19999 20000]\n",
      "Количество NaN: 0\n",
      "Значения столбца VehicleType\n",
      "['bus' 'convertible' 'coupe' 'other' 'sedan' 'small' 'suv' 'wagon' nan]\n",
      "Количество NaN: 37490\n",
      "Значения столбца RegistrationYear\n",
      "[1000 1001 1039 1111 1200 1234 1253 1255 1300 1400 1500 1600 1602 1688\n",
      " 1800 1910 1915 1919 1920 1923 1925 1927 1928 1929 1930 1931 1932 1933\n",
      " 1934 1935 1936 1937 1938 1940 1941 1942 1943 1944 1945 1946 1947 1948\n",
      " 1949 1950 1951 1952 1953 1954 1955 1956 1957 1958 1959 1960 1961 1962\n",
      " 1963 1964 1965 1966 1967 1968 1969 1970 1971 1972 1973 1974 1975 1976\n",
      " 1977 1978 1979 1980 1981 1982 1983 1984 1985 1986 1987 1988 1989 1990\n",
      " 1991 1992 1993 1994 1995 1996 1997 1998 1999 2000 2001 2002 2003 2004\n",
      " 2005 2006 2007 2008 2009 2010 2011 2012 2013 2014 2015 2016 2017 2018\n",
      " 2019 2066 2200 2222 2290 2500 2800 2900 3000 3200 3500 3700 3800 4000\n",
      " 4100 4500 4800 5000 5300 5555 5600 5900 5911 6000 6500 7000 7100 7500\n",
      " 7800 8000 8200 8455 8500 8888 9000 9229 9450 9996 9999]\n",
      "Количество NaN: 0\n",
      "Значения столбца Gearbox\n",
      "['auto' 'manual' nan]\n",
      "Количество NaN: 19833\n",
      "Значения столбца Power\n",
      "[    0     1     2     3     4     5     6     7     8     9    10    11\n",
      "    12    13    14    15    16    17    18    19    20    21    22    23\n",
      "    24    25    26    27    28    29    30    31    32    33    34    35\n",
      "    36    37    38    39    40    41    42    43    44    45    46    47\n",
      "    48    49    50    51    52    53    54    55    56    57    58    59\n",
      "    60    61    62    63    64    65    66    67    68    69    70    71\n",
      "    72    73    74    75    76    77    78    79    80    81    82    83\n",
      "    84    85    86    87    88    89    90    91    92    93    94    95\n",
      "    96    97    98    99   100   101   102   103   104   105   106   107\n",
      "   108   109   110   111   112   113   114   115   116   117   118   119\n",
      "   120   121   122   123   124   125   126   127   128   129   130   131\n",
      "   132   133   134   135   136   137   138   139   140   141   142   143\n",
      "   144   145   146   147   148   149   150   151   152   153   154   155\n",
      "   156   157   158   159   160   161   162   163   164   165   166   167\n",
      "   168   169   170   171   172   173   174   175   176   177   178   179\n",
      "   180   181   182   183   184   185   186   187   188   189   190   191\n",
      "   192   193   194   195   196   197   198   199   200   201   202   203\n",
      "   204   205   206   207   208   209   210   211   212   213   214   215\n",
      "   216   217   218   219   220   221   222   223   224   225   226   227\n",
      "   228   229   230   231   232   233   234   235   236   237   238   239\n",
      "   240   241   242   243   244   245   246   247   248   249   250   251\n",
      "   252   253   254   255   256   257   258   259   260   261   262   264\n",
      "   265   266   267   268   269   270   271   272   273   274   275   276\n",
      "   277   278   279   280   281   282   283   284   285   286   287   288\n",
      "   289   290   292   293   294   295   296   297   298   299   300   301\n",
      "   303   304   305   306   307   308   309   310   311   313   314   315\n",
      "   316   317   318   320   321   322   323   324   325   326   327   328\n",
      "   329   330   331   332   333   334   335   336   337   338   339   340\n",
      "   341   343   344   345   346   347   348   349   350   351   352   353\n",
      "   354   355   356   357   358   360   361   362   363   364   365   367\n",
      "   368   370   371   374   375   376   377   379   380   381   382   385\n",
      "   386   387   388   390   392   394   396   398   399   400   401   402\n",
      "   405   408   409   411   416   420   421   425   426   428   430   431\n",
      "   435   440   442   445   449   450   454   457   459   460   475   476\n",
      "   485   487   489   490   500   504   505   507   508   510   514   515\n",
      "   517   519   520   521   525   530   540   541   544   550   551   553\n",
      "   560   572   574   579   580   584   585   599   600   601   602   603\n",
      "   604   606   607   610   612   620   640   645   650   651   671   678\n",
      "   682   685   696   700   702   703   732   743   750   751   754   771\n",
      "   776   800   805   808   850   851   871   900   901   902   903   907\n",
      "   909   923   950   952   953   960   998   999  1000  1001  1002  1003\n",
      "  1004  1005  1011  1012  1016  1017  1021  1024  1054  1055  1056  1062\n",
      "  1079  1082  1090  1100  1102  1103  1105  1111  1115  1120  1149  1151\n",
      "  1158  1160  1162  1164  1199  1200  1202  1221  1223  1230  1239  1240\n",
      "  1241  1250  1252  1256  1275  1288  1299  1300  1312  1317  1324  1339\n",
      "  1351  1360  1362  1363  1367  1390  1394  1398  1399  1400  1401  1403\n",
      "  1405  1416  1432  1433  1436  1500  1501  1502  1503  1506  1521  1548\n",
      "  1595  1596  1597  1598  1600  1625  1631  1653  1659  1689  1700  1701\n",
      "  1703  1704  1707  1753  1771  1779  1780  1781  1783  1793  1796  1799\n",
      "  1800  1801  1870  1895  1896  1900  1910  1920  1922  1933  1937  1968\n",
      "  1986  1988  1992  1993  1995  1998  1999  2000  2004  2005  2007  2009\n",
      "  2016  2017  2018  2172  2200  2201  2331  2340  2389  2402  2461  2598\n",
      "  2729  2789  2792  2799  3000  3199  3454  3500  3750  4400  4507  4700\n",
      "  5000  5411  5420  5575  5809  5815  5867  6006  6010  6011  6012  6018\n",
      "  6045  6062  6226  6512  6920  7508  7511  7512  7515  7518  7529  7544\n",
      "  8011  8259  8404  8500  9000  9007  9010  9011  9012  9013  9710 10000\n",
      " 10110 10218 10311 10317 10520 10522 10710 10910 10912 11011 11025 11111\n",
      " 11509 11530 11635 12012 12510 12512 12684 13616 13636 14009 15001 15016\n",
      " 15017 15020 15033 16011 16051 16311 16312 17011 17019 17410 17700 17932\n",
      " 19208 19211 19312 20000]\n",
      "Количество NaN: 0\n",
      "Значения столбца Model\n",
      "['100' '145' '147' '156' '159' '1_reihe' '1er' '200' '2_reihe' '300c'\n",
      " '3_reihe' '3er' '4_reihe' '500' '5_reihe' '5er' '601' '6_reihe' '6er'\n",
      " '7er' '80' '850' '90' '900' '9000' '911' 'a1' 'a2' 'a3' 'a4' 'a5' 'a6'\n",
      " 'a8' 'a_klasse' 'accord' 'agila' 'alhambra' 'almera' 'altea' 'amarok'\n",
      " 'antara' 'arosa' 'astra' 'auris' 'avensis' 'aveo' 'aygo' 'b_klasse'\n",
      " 'b_max' 'beetle' 'berlingo' 'bora' 'boxster' 'bravo' 'c1' 'c2' 'c3' 'c4'\n",
      " 'c5' 'c_klasse' 'c_max' 'c_reihe' 'caddy' 'calibra' 'captiva' 'carisma'\n",
      " 'carnival' 'cayenne' 'cc' 'ceed' 'charade' 'cherokee' 'citigo' 'civic'\n",
      " 'cl' 'clio' 'clk' 'clubman' 'colt' 'combo' 'cooper' 'cordoba' 'corolla'\n",
      " 'corsa' 'cr_reihe' 'croma' 'crossfire' 'cuore' 'cx_reihe' 'defender'\n",
      " 'delta' 'discovery' 'doblo' 'ducato' 'duster' 'e_klasse' 'elefantino'\n",
      " 'eos' 'escort' 'espace' 'exeo' 'fabia' 'fiesta' 'focus' 'forester'\n",
      " 'forfour' 'fortwo' 'fox' 'freelander' 'fusion' 'g_klasse' 'galant'\n",
      " 'galaxy' 'getz' 'gl' 'glk' 'golf' 'grand' 'i3' 'i_reihe' 'ibiza'\n",
      " 'impreza' 'insignia' 'jazz' 'jetta' 'jimny' 'juke' 'justy' 'ka' 'kadett'\n",
      " 'kaefer' 'kalina' 'kalos' 'kangoo' 'kappa' 'kuga' 'laguna' 'lancer'\n",
      " 'lanos' 'legacy' 'leon' 'lodgy' 'logan' 'lupo' 'lybra' 'm_klasse'\n",
      " 'm_reihe' 'materia' 'matiz' 'megane' 'meriva' 'micra' 'mii' 'modus'\n",
      " 'mondeo' 'move' 'musa' 'mustang' 'mx_reihe' 'navara' 'niva' 'note'\n",
      " 'nubira' 'octavia' 'omega' 'one' 'other' 'outlander' 'pajero' 'panda'\n",
      " 'passat' 'phaeton' 'picanto' 'polo' 'primera' 'ptcruiser' 'punto' 'q3'\n",
      " 'q5' 'q7' 'qashqai' 'r19' 'range_rover' 'range_rover_evoque'\n",
      " 'range_rover_sport' 'rangerover' 'rav' 'rio' 'roadster' 'roomster'\n",
      " 'rx_reihe' 's60' 's_klasse' 's_max' 's_type' 'samara' 'sandero' 'santa'\n",
      " 'scenic' 'scirocco' 'seicento' 'serie_1' 'serie_2' 'serie_3' 'sharan'\n",
      " 'signum' 'sirion' 'sl' 'slk' 'sorento' 'spark' 'spider' 'sportage'\n",
      " 'sprinter' 'stilo' 'superb' 'swift' 'terios' 'tigra' 'tiguan' 'toledo'\n",
      " 'touareg' 'touran' 'transit' 'transporter' 'tt' 'tucson' 'twingo' 'up'\n",
      " 'v40' 'v50' 'v60' 'v70' 'v_klasse' 'vectra' 'verso' 'viano' 'vito'\n",
      " 'vivaro' 'voyager' 'wrangler' 'x_reihe' 'x_trail' 'x_type' 'xc_reihe'\n",
      " 'yaris' 'yeti' 'ypsilon' 'z_reihe' 'zafira' nan]\n",
      "Количество NaN: 19705\n",
      "Значения столбца Kilometer\n",
      "[  5000  10000  20000  30000  40000  50000  60000  70000  80000  90000\n",
      " 100000 125000 150000]\n",
      "Количество NaN: 0\n",
      "Значения столбца FuelType\n",
      "['cng' 'electric' 'gasoline' 'hybrid' 'lpg' 'other' 'petrol' nan]\n",
      "Количество NaN: 32895\n",
      "Значения столбца Brand\n",
      "['alfa_romeo' 'audi' 'bmw' 'chevrolet' 'chrysler' 'citroen' 'dacia'\n",
      " 'daewoo' 'daihatsu' 'fiat' 'ford' 'honda' 'hyundai' 'jaguar' 'jeep' 'kia'\n",
      " 'lada' 'lancia' 'land_rover' 'mazda' 'mercedes_benz' 'mini' 'mitsubishi'\n",
      " 'nissan' 'opel' 'peugeot' 'porsche' 'renault' 'rover' 'saab' 'seat'\n",
      " 'skoda' 'smart' 'sonstige_autos' 'subaru' 'suzuki' 'toyota' 'trabant'\n",
      " 'volkswagen' 'volvo']\n",
      "Количество NaN: 0\n",
      "Значения столбца NotRepaired\n",
      "['no' 'yes' nan]\n",
      "Количество NaN: 71154\n"
     ]
    }
   ],
   "source": [
    "data_values(df)"
   ]
  },
  {
   "cell_type": "markdown",
   "metadata": {},
   "source": [
    "В данных имеются следующие артефакты:\n",
    "\n",
    "- В столбце Price присутствуют нули, а также очень маленькие значения;\n",
    "- В столбце VehicleType присутствуют NaN;\n",
    "- В столбце RegistrationYear присутствуют слишком маленькие и слишком большие значения;\n",
    "- В столбце Gearbox присутствуют NaN;\n",
    "- В столбце Power присутствуют слишком маленькие и слишком большие значения;\n",
    "- В столбце Model присутствуют NaN;\n",
    "- В столбце Kilometer нет артефактов;\n",
    "- В столбце FuelType присутствуют NaN;\n",
    "- В столбце Brand нет артефактов;\n",
    "- В столбце NotRepaired присутствуют NaN."
   ]
  },
  {
   "cell_type": "markdown",
   "metadata": {},
   "source": [
    "Построю диаграмму корреляции."
   ]
  },
  {
   "cell_type": "code",
   "execution_count": 6,
   "metadata": {},
   "outputs": [
    {
     "data": {
      "image/png": "[encoded data removed]",
      "text/plain": [
       "<Figure size 960x800 with 2 Axes>"
      ]
     },
     "metadata": {
      "needs_background": "light"
     },
     "output_type": "display_data"
    }
   ],
   "source": [
    "plt.figure(figsize=(12, 10), dpi=80)\n",
    "sns.heatmap(df.corr(), xticklabels=df.corr().columns, yticklabels=df.corr().columns, cmap='RdYlGn', center=0, annot=True)\n",
    "plt.title('Диаграмма корреляции', fontsize=22)\n",
    "plt.xticks(fontsize=12)\n",
    "plt.yticks(fontsize=12, rotation=0)\n",
    "plt.show()"
   ]
  },
  {
   "cell_type": "markdown",
   "metadata": {},
   "source": [
    "Сильно отрицательное влияние пробега на цену. Но не настолько, чтобы исключить один из столбцов."
   ]
  },
  {
   "cell_type": "markdown",
   "metadata": {},
   "source": [
    "### Столбец 'RegistrationYear'"
   ]
  },
  {
   "cell_type": "markdown",
   "metadata": {},
   "source": [
    "Построю графики по годам регистрации автомобиля."
   ]
  },
  {
   "cell_type": "code",
   "execution_count": 7,
   "metadata": {},
   "outputs": [
    {
     "data": {
      "image/png": "[encoded data removed]",
      "text/plain": [
       "<Figure size 1080x576 with 1 Axes>"
      ]
     },
     "metadata": {
      "needs_background": "light"
     },
     "output_type": "display_data"
    },
    {
     "data": {
      "image/png": "[encoded data removed]",
      "text/plain": [
       "<Figure size 1080x576 with 1 Axes>"
      ]
     },
     "metadata": {
      "needs_background": "light"
     },
     "output_type": "display_data"
    },
    {
     "data": {
      "image/png": "[encoded data removed]",
      "text/plain": [
       "<Figure size 1080x576 with 1 Axes>"
      ]
     },
     "metadata": {
      "needs_background": "light"
     },
     "output_type": "display_data"
    }
   ],
   "source": [
    "def reg_graph(min, max):\n",
    "    plt.figure(figsize=(15,8))\n",
    "    df['RegistrationYear'].plot(kind=\"hist\", range=(min, max));\n",
    "    plt.title(\"Год регистрации\");\n",
    "    plt.xlabel(\"Год\");\n",
    "    plt.ylabel(\"Количество\");\n",
    "\n",
    "reg_graph(1000, 1949)\n",
    "reg_graph(1940, 2019)\n",
    "reg_graph(2020, 9999)"
   ]
  },
  {
   "cell_type": "markdown",
   "metadata": {},
   "source": [
    "Считаю, что значения ранее 1960 года и позже 2016 года можно заменить на эти крайние значения. Так как по условию мне даны данные за 2019 год, следовательно автомобилей позже 2019 в данных быть не может. Нижняя граница определена по графику - ниже 1960 года мало значений и маловероятно, что автомобили тех годов имеются в продаже в таком количестве. "
   ]
  },
  {
   "cell_type": "code",
   "execution_count": 8,
   "metadata": {},
   "outputs": [],
   "source": [
    "def year(row):\n",
    "    if row[3] < 1960:\n",
    "        row[3] = 1960\n",
    "    elif row[3] > 2019:\n",
    "        row[3] = 2019\n",
    "    return row"
   ]
  },
  {
   "cell_type": "code",
   "execution_count": 9,
   "metadata": {},
   "outputs": [],
   "source": [
    "df = df.apply(year, axis=1)"
   ]
  },
  {
   "cell_type": "markdown",
   "metadata": {},
   "source": [
    "### Столбец 'Model'"
   ]
  },
  {
   "cell_type": "markdown",
   "metadata": {},
   "source": [
    "Заполню часть пропусков по названию бренда и года регистрации автомобиля, так как в опеределенный год обычно выходит одна марка автомобиля-три марки у одного бренда."
   ]
  },
  {
   "cell_type": "code",
   "execution_count": 10,
   "metadata": {},
   "outputs": [
    {
     "data": {
      "text/plain": [
       "3395"
      ]
     },
     "execution_count": 10,
     "metadata": {},
     "output_type": "execute_result"
    }
   ],
   "source": [
    "df[\"Model\"] = df[\"Model\"].fillna(df.groupby(['Brand', 'RegistrationYear'])[\"Model\"].transform('first'))\n",
    "df[\"Model\"].isna().sum()"
   ]
  },
  {
   "cell_type": "markdown",
   "metadata": {},
   "source": [
    "### Столбец 'VehicleType'"
   ]
  },
  {
   "cell_type": "markdown",
   "metadata": {},
   "source": [
    "Заполню часть пропусков по названию бренда и модели автомобиля, так как у определенный модели чаще всего один тип кузова."
   ]
  },
  {
   "cell_type": "code",
   "execution_count": 11,
   "metadata": {},
   "outputs": [
    {
     "data": {
      "text/plain": [
       "1046"
      ]
     },
     "execution_count": 11,
     "metadata": {},
     "output_type": "execute_result"
    }
   ],
   "source": [
    "df[\"VehicleType\"] = df[\"VehicleType\"].fillna(df.groupby(['Brand', 'Model'])[\"VehicleType\"].transform('first'))\n",
    "df[\"VehicleType\"].isna().sum()"
   ]
  },
  {
   "cell_type": "markdown",
   "metadata": {},
   "source": [
    "### Столбец 'Price'"
   ]
  },
  {
   "cell_type": "markdown",
   "metadata": {},
   "source": [
    "Сделаю срез данных по стоимости, отсею всё, что ниже 600 евро. В итоге потеряно 13% данных."
   ]
  },
  {
   "cell_type": "code",
   "execution_count": 12,
   "metadata": {},
   "outputs": [
    {
     "data": {
      "text/plain": [
       "308043"
      ]
     },
     "execution_count": 12,
     "metadata": {},
     "output_type": "execute_result"
    }
   ],
   "source": [
    "df = df.query('600 <= Price')\n",
    "df.shape[0]"
   ]
  },
  {
   "cell_type": "code",
   "execution_count": 13,
   "metadata": {},
   "outputs": [
    {
     "name": "stdout",
     "output_type": "stream",
     "text": [
      "0.13072813931241165\n"
     ]
    }
   ],
   "source": [
    "print((354369-308043)/354369)"
   ]
  },
  {
   "cell_type": "markdown",
   "metadata": {},
   "source": [
    "### Столбец 'Gearbox'"
   ]
  },
  {
   "cell_type": "markdown",
   "metadata": {},
   "source": [
    "Заполню часть пропусков по бренду и модели автомобиля. Также присвою значению 'auto' - 1, а значению 'manual' - 0."
   ]
  },
  {
   "cell_type": "code",
   "execution_count": 14,
   "metadata": {},
   "outputs": [
    {
     "data": {
      "text/plain": [
       "436"
      ]
     },
     "execution_count": 14,
     "metadata": {},
     "output_type": "execute_result"
    }
   ],
   "source": [
    "df[\"Gearbox\"] = df[\"Gearbox\"].fillna(df.groupby(['Brand', 'Model'])[\"Gearbox\"].transform('first'))\n",
    "df['Gearbox'].replace('auto', 1, inplace=True)\n",
    "df['Gearbox'].replace('manual', 0, inplace=True)\n",
    "df[\"Gearbox\"].isna().sum()"
   ]
  },
  {
   "cell_type": "markdown",
   "metadata": {},
   "source": [
    "### Столбец 'Power'"
   ]
  },
  {
   "cell_type": "markdown",
   "metadata": {},
   "source": [
    "Построю графики значений мощности автомобилей."
   ]
  },
  {
   "cell_type": "code",
   "execution_count": 15,
   "metadata": {
    "scrolled": false
   },
   "outputs": [
    {
     "data": {
      "image/png": "[encoded data removed]",
      "text/plain": [
       "<Figure size 1080x576 with 1 Axes>"
      ]
     },
     "metadata": {
      "needs_background": "light"
     },
     "output_type": "display_data"
    },
    {
     "data": {
      "image/png": "[encoded data removed]",
      "text/plain": [
       "<Figure size 1080x576 with 1 Axes>"
      ]
     },
     "metadata": {
      "needs_background": "light"
     },
     "output_type": "display_data"
    },
    {
     "data": {
      "image/png": "[encoded data removed]",
      "text/plain": [
       "<Figure size 1080x576 with 1 Axes>"
      ]
     },
     "metadata": {
      "needs_background": "light"
     },
     "output_type": "display_data"
    },
    {
     "data": {
      "image/png": "[encoded data removed]",
      "text/plain": [
       "<Figure size 1080x576 with 1 Axes>"
      ]
     },
     "metadata": {
      "needs_background": "light"
     },
     "output_type": "display_data"
    }
   ],
   "source": [
    "def power_graph(min, max):\n",
    "    plt.figure(figsize=(15,8))\n",
    "    df['Power'].plot(kind=\"hist\", range=(min, max));\n",
    "    plt.title(\"Мощность автомобилей\");\n",
    "    plt.xlabel(\"Мощность\");\n",
    "    plt.ylabel(\"Количество\");\n",
    "\n",
    "power_graph(0, 30)\n",
    "power_graph(31, 400)\n",
    "power_graph(400, 1600)\n",
    "power_graph(401, 20000)"
   ]
  },
  {
   "cell_type": "markdown",
   "metadata": {},
   "source": [
    "Имеется большое количество нулей, очень большие и маленькие значения. Проверю какие автомобили указаны с очень большим количеством лошадиных сил."
   ]
  },
  {
   "cell_type": "code",
   "execution_count": 16,
   "metadata": {},
   "outputs": [
    {
     "data": {
      "text/html": [
       "<div>\n",
       "<style scoped>\n",
       "    .dataframe tbody tr th:only-of-type {\n",
       "        vertical-align: middle;\n",
       "    }\n",
       "\n",
       "    .dataframe tbody tr th {\n",
       "        vertical-align: top;\n",
       "    }\n",
       "\n",
       "    .dataframe thead th {\n",
       "        text-align: right;\n",
       "    }\n",
       "</style>\n",
       "<table border=\"1\" class=\"dataframe\">\n",
       "  <thead>\n",
       "    <tr style=\"text-align: right;\">\n",
       "      <th></th>\n",
       "      <th>DateCrawled</th>\n",
       "      <th>Price</th>\n",
       "      <th>VehicleType</th>\n",
       "      <th>RegistrationYear</th>\n",
       "      <th>Gearbox</th>\n",
       "      <th>Power</th>\n",
       "      <th>Model</th>\n",
       "      <th>Kilometer</th>\n",
       "      <th>FuelType</th>\n",
       "      <th>Brand</th>\n",
       "      <th>NotRepaired</th>\n",
       "    </tr>\n",
       "  </thead>\n",
       "  <tbody>\n",
       "    <tr>\n",
       "      <th>7661</th>\n",
       "      <td>2016-04-02 19:25:25</td>\n",
       "      <td>1499</td>\n",
       "      <td>small</td>\n",
       "      <td>1999</td>\n",
       "      <td>0.0</td>\n",
       "      <td>7515</td>\n",
       "      <td>lupo</td>\n",
       "      <td>150000</td>\n",
       "      <td>petrol</td>\n",
       "      <td>volkswagen</td>\n",
       "      <td>NaN</td>\n",
       "    </tr>\n",
       "    <tr>\n",
       "      <th>9664</th>\n",
       "      <td>2016-03-14 20:06:19</td>\n",
       "      <td>2599</td>\n",
       "      <td>bus</td>\n",
       "      <td>2016</td>\n",
       "      <td>0.0</td>\n",
       "      <td>1779</td>\n",
       "      <td>zafira</td>\n",
       "      <td>150000</td>\n",
       "      <td>petrol</td>\n",
       "      <td>opel</td>\n",
       "      <td>no</td>\n",
       "    </tr>\n",
       "    <tr>\n",
       "      <th>19092</th>\n",
       "      <td>2016-03-20 17:54:04</td>\n",
       "      <td>9750</td>\n",
       "      <td>wagon</td>\n",
       "      <td>2005</td>\n",
       "      <td>1.0</td>\n",
       "      <td>2729</td>\n",
       "      <td>5er</td>\n",
       "      <td>150000</td>\n",
       "      <td>gasoline</td>\n",
       "      <td>bmw</td>\n",
       "      <td>no</td>\n",
       "    </tr>\n",
       "    <tr>\n",
       "      <th>20050</th>\n",
       "      <td>2016-03-26 19:46:06</td>\n",
       "      <td>2200</td>\n",
       "      <td>sedan</td>\n",
       "      <td>2002</td>\n",
       "      <td>1.0</td>\n",
       "      <td>1704</td>\n",
       "      <td>e_klasse</td>\n",
       "      <td>150000</td>\n",
       "      <td>NaN</td>\n",
       "      <td>mercedes_benz</td>\n",
       "      <td>yes</td>\n",
       "    </tr>\n",
       "    <tr>\n",
       "      <th>20283</th>\n",
       "      <td>2016-03-25 18:48:26</td>\n",
       "      <td>2000</td>\n",
       "      <td>wagon</td>\n",
       "      <td>2003</td>\n",
       "      <td>0.0</td>\n",
       "      <td>1900</td>\n",
       "      <td>c5</td>\n",
       "      <td>150000</td>\n",
       "      <td>gasoline</td>\n",
       "      <td>citroen</td>\n",
       "      <td>yes</td>\n",
       "    </tr>\n",
       "    <tr>\n",
       "      <th>22281</th>\n",
       "      <td>2016-03-17 05:03:48</td>\n",
       "      <td>3999</td>\n",
       "      <td>sedan</td>\n",
       "      <td>1998</td>\n",
       "      <td>0.0</td>\n",
       "      <td>1993</td>\n",
       "      <td>3er</td>\n",
       "      <td>150000</td>\n",
       "      <td>cng</td>\n",
       "      <td>bmw</td>\n",
       "      <td>NaN</td>\n",
       "    </tr>\n",
       "    <tr>\n",
       "      <th>25232</th>\n",
       "      <td>2016-03-28 19:57:39</td>\n",
       "      <td>10900</td>\n",
       "      <td>bus</td>\n",
       "      <td>2009</td>\n",
       "      <td>0.0</td>\n",
       "      <td>10520</td>\n",
       "      <td>caddy</td>\n",
       "      <td>150000</td>\n",
       "      <td>gasoline</td>\n",
       "      <td>volkswagen</td>\n",
       "      <td>no</td>\n",
       "    </tr>\n",
       "    <tr>\n",
       "      <th>32784</th>\n",
       "      <td>2016-03-22 14:58:27</td>\n",
       "      <td>9500</td>\n",
       "      <td>bus</td>\n",
       "      <td>1986</td>\n",
       "      <td>1.0</td>\n",
       "      <td>1659</td>\n",
       "      <td>other</td>\n",
       "      <td>40000</td>\n",
       "      <td>petrol</td>\n",
       "      <td>chevrolet</td>\n",
       "      <td>no</td>\n",
       "    </tr>\n",
       "    <tr>\n",
       "      <th>33952</th>\n",
       "      <td>2016-03-09 11:37:03</td>\n",
       "      <td>3740</td>\n",
       "      <td>small</td>\n",
       "      <td>2006</td>\n",
       "      <td>0.0</td>\n",
       "      <td>6920</td>\n",
       "      <td>aygo</td>\n",
       "      <td>90000</td>\n",
       "      <td>NaN</td>\n",
       "      <td>toyota</td>\n",
       "      <td>no</td>\n",
       "    </tr>\n",
       "    <tr>\n",
       "      <th>35168</th>\n",
       "      <td>2016-03-16 00:18:43</td>\n",
       "      <td>2599</td>\n",
       "      <td>bus</td>\n",
       "      <td>2016</td>\n",
       "      <td>0.0</td>\n",
       "      <td>1779</td>\n",
       "      <td>zafira</td>\n",
       "      <td>150000</td>\n",
       "      <td>petrol</td>\n",
       "      <td>opel</td>\n",
       "      <td>no</td>\n",
       "    </tr>\n",
       "    <tr>\n",
       "      <th>36206</th>\n",
       "      <td>2016-04-01 01:56:06</td>\n",
       "      <td>5400</td>\n",
       "      <td>bus</td>\n",
       "      <td>2017</td>\n",
       "      <td>0.0</td>\n",
       "      <td>2017</td>\n",
       "      <td>transporter</td>\n",
       "      <td>150000</td>\n",
       "      <td>gasoline</td>\n",
       "      <td>volkswagen</td>\n",
       "      <td>NaN</td>\n",
       "    </tr>\n",
       "    <tr>\n",
       "      <th>44520</th>\n",
       "      <td>2016-03-10 22:37:21</td>\n",
       "      <td>2500</td>\n",
       "      <td>convertible</td>\n",
       "      <td>1998</td>\n",
       "      <td>0.0</td>\n",
       "      <td>7512</td>\n",
       "      <td>golf</td>\n",
       "      <td>150000</td>\n",
       "      <td>NaN</td>\n",
       "      <td>volkswagen</td>\n",
       "      <td>NaN</td>\n",
       "    </tr>\n",
       "    <tr>\n",
       "      <th>45053</th>\n",
       "      <td>2016-04-07 07:36:38</td>\n",
       "      <td>15800</td>\n",
       "      <td>convertible</td>\n",
       "      <td>2014</td>\n",
       "      <td>1.0</td>\n",
       "      <td>10218</td>\n",
       "      <td>fortwo</td>\n",
       "      <td>30000</td>\n",
       "      <td>petrol</td>\n",
       "      <td>smart</td>\n",
       "      <td>NaN</td>\n",
       "    </tr>\n",
       "    <tr>\n",
       "      <th>45216</th>\n",
       "      <td>2016-03-28 11:39:17</td>\n",
       "      <td>1690</td>\n",
       "      <td>sedan</td>\n",
       "      <td>1999</td>\n",
       "      <td>0.0</td>\n",
       "      <td>7544</td>\n",
       "      <td>golf</td>\n",
       "      <td>125000</td>\n",
       "      <td>petrol</td>\n",
       "      <td>volkswagen</td>\n",
       "      <td>NaN</td>\n",
       "    </tr>\n",
       "    <tr>\n",
       "      <th>53158</th>\n",
       "      <td>2016-03-28 08:36:44</td>\n",
       "      <td>1200</td>\n",
       "      <td>small</td>\n",
       "      <td>2001</td>\n",
       "      <td>0.0</td>\n",
       "      <td>5411</td>\n",
       "      <td>seicento</td>\n",
       "      <td>150000</td>\n",
       "      <td>NaN</td>\n",
       "      <td>fiat</td>\n",
       "      <td>no</td>\n",
       "    </tr>\n",
       "  </tbody>\n",
       "</table>\n",
       "</div>"
      ],
      "text/plain": [
       "               DateCrawled  Price  VehicleType  RegistrationYear  Gearbox  \\\n",
       "7661   2016-04-02 19:25:25   1499        small              1999      0.0   \n",
       "9664   2016-03-14 20:06:19   2599          bus              2016      0.0   \n",
       "19092  2016-03-20 17:54:04   9750        wagon              2005      1.0   \n",
       "20050  2016-03-26 19:46:06   2200        sedan              2002      1.0   \n",
       "20283  2016-03-25 18:48:26   2000        wagon              2003      0.0   \n",
       "22281  2016-03-17 05:03:48   3999        sedan              1998      0.0   \n",
       "25232  2016-03-28 19:57:39  10900          bus              2009      0.0   \n",
       "32784  2016-03-22 14:58:27   9500          bus              1986      1.0   \n",
       "33952  2016-03-09 11:37:03   3740        small              2006      0.0   \n",
       "35168  2016-03-16 00:18:43   2599          bus              2016      0.0   \n",
       "36206  2016-04-01 01:56:06   5400          bus              2017      0.0   \n",
       "44520  2016-03-10 22:37:21   2500  convertible              1998      0.0   \n",
       "45053  2016-04-07 07:36:38  15800  convertible              2014      1.0   \n",
       "45216  2016-03-28 11:39:17   1690        sedan              1999      0.0   \n",
       "53158  2016-03-28 08:36:44   1200        small              2001      0.0   \n",
       "\n",
       "       Power        Model  Kilometer  FuelType          Brand NotRepaired  \n",
       "7661    7515         lupo     150000    petrol     volkswagen         NaN  \n",
       "9664    1779       zafira     150000    petrol           opel          no  \n",
       "19092   2729          5er     150000  gasoline            bmw          no  \n",
       "20050   1704     e_klasse     150000       NaN  mercedes_benz         yes  \n",
       "20283   1900           c5     150000  gasoline        citroen         yes  \n",
       "22281   1993          3er     150000       cng            bmw         NaN  \n",
       "25232  10520        caddy     150000  gasoline     volkswagen          no  \n",
       "32784   1659        other      40000    petrol      chevrolet          no  \n",
       "33952   6920         aygo      90000       NaN         toyota          no  \n",
       "35168   1779       zafira     150000    petrol           opel          no  \n",
       "36206   2017  transporter     150000  gasoline     volkswagen         NaN  \n",
       "44520   7512         golf     150000       NaN     volkswagen         NaN  \n",
       "45053  10218       fortwo      30000    petrol          smart         NaN  \n",
       "45216   7544         golf     125000    petrol     volkswagen         NaN  \n",
       "53158   5411     seicento     150000       NaN           fiat          no  "
      ]
     },
     "execution_count": 16,
     "metadata": {},
     "output_type": "execute_result"
    }
   ],
   "source": [
    "pow = df.query('1600 <= Power <= 30000')\n",
    "pow.head(15)"
   ]
  },
  {
   "cell_type": "markdown",
   "metadata": {},
   "source": [
    "Кораблей не оказалось, поэтому ставлю заглушку на очень маленькие и очень большие значения."
   ]
  },
  {
   "cell_type": "code",
   "execution_count": 17,
   "metadata": {},
   "outputs": [],
   "source": [
    "def power(row):\n",
    "    if row[5] < 25:\n",
    "        row[5] = np.nan\n",
    "    elif row[5] > 1000:\n",
    "        row[5] = np.nan\n",
    "    return row"
   ]
  },
  {
   "cell_type": "code",
   "execution_count": 18,
   "metadata": {},
   "outputs": [],
   "source": [
    "df = df.apply(power, axis=1)"
   ]
  },
  {
   "cell_type": "markdown",
   "metadata": {},
   "source": [
    "Заполню часть пропусков по бренду и модели автомобиля."
   ]
  },
  {
   "cell_type": "code",
   "execution_count": 19,
   "metadata": {},
   "outputs": [
    {
     "data": {
      "text/plain": [
       "851"
      ]
     },
     "execution_count": 19,
     "metadata": {},
     "output_type": "execute_result"
    }
   ],
   "source": [
    "df[\"Power\"] = df[\"Power\"].fillna(df.groupby(['Brand', 'Model'])[\"Power\"].transform('mean'))\n",
    "df[\"Power\"].isna().sum()"
   ]
  },
  {
   "cell_type": "markdown",
   "metadata": {},
   "source": [
    "### Столбец 'FuelType'"
   ]
  },
  {
   "cell_type": "markdown",
   "metadata": {},
   "source": [
    "Заполню часть пропусков по бренду и модели автомобиля."
   ]
  },
  {
   "cell_type": "code",
   "execution_count": 20,
   "metadata": {},
   "outputs": [
    {
     "data": {
      "text/plain": [
       "465"
      ]
     },
     "execution_count": 20,
     "metadata": {},
     "output_type": "execute_result"
    }
   ],
   "source": [
    "df[\"FuelType\"] = df[\"FuelType\"].fillna(df.groupby(['Brand', 'Model'])[\"FuelType\"].transform('first'))\n",
    "df[\"FuelType\"].isna().sum()"
   ]
  },
  {
   "cell_type": "markdown",
   "metadata": {},
   "source": [
    "### Столбец 'NotRepaired'"
   ]
  },
  {
   "cell_type": "markdown",
   "metadata": {},
   "source": [
    "Считаю, что пропуски в данном столбце говорят о том, что автомобиль не ремонтировался и поэтому нет такого указания. Заменю пропуски на нули."
   ]
  },
  {
   "cell_type": "code",
   "execution_count": 21,
   "metadata": {},
   "outputs": [
    {
     "data": {
      "text/plain": [
       "0"
      ]
     },
     "execution_count": 21,
     "metadata": {},
     "output_type": "execute_result"
    }
   ],
   "source": [
    "df[\"NotRepaired\"] = df[\"NotRepaired\"].fillna(0)\n",
    "df[\"NotRepaired\"].isna().sum()"
   ]
  },
  {
   "cell_type": "markdown",
   "metadata": {},
   "source": [
    "Установлю значение 1 для ремонтированных автомобилей и 0 для автомобилей без ремонта."
   ]
  },
  {
   "cell_type": "code",
   "execution_count": 22,
   "metadata": {},
   "outputs": [],
   "source": [
    "df['NotRepaired'].replace('no', 0, inplace=True)\n",
    "df['NotRepaired'].replace('yes', 1, inplace=True)"
   ]
  },
  {
   "cell_type": "markdown",
   "metadata": {},
   "source": [
    "Удалю дубликаты и оставшиеся пропуски."
   ]
  },
  {
   "cell_type": "code",
   "execution_count": 23,
   "metadata": {},
   "outputs": [
    {
     "name": "stdout",
     "output_type": "stream",
     "text": [
      "<class 'pandas.core.frame.DataFrame'>\n",
      "Int64Index: 305541 entries, 1 to 354368\n",
      "Data columns (total 11 columns):\n",
      " #   Column            Non-Null Count   Dtype  \n",
      "---  ------            --------------   -----  \n",
      " 0   DateCrawled       305541 non-null  object \n",
      " 1   Price             305541 non-null  int64  \n",
      " 2   VehicleType       305541 non-null  object \n",
      " 3   RegistrationYear  305541 non-null  int64  \n",
      " 4   Gearbox           305541 non-null  float64\n",
      " 5   Power             305541 non-null  float64\n",
      " 6   Model             305541 non-null  object \n",
      " 7   Kilometer         305541 non-null  int64  \n",
      " 8   FuelType          305541 non-null  object \n",
      " 9   Brand             305541 non-null  object \n",
      " 10  NotRepaired       305541 non-null  int64  \n",
      "dtypes: float64(2), int64(4), object(5)\n",
      "memory usage: 28.0+ MB\n"
     ]
    }
   ],
   "source": [
    "df = df.dropna()\n",
    "df = df.drop_duplicates()\n",
    "df.info()"
   ]
  },
  {
   "cell_type": "markdown",
   "metadata": {},
   "source": [
    "Удалю столбец 'DateCrawled'."
   ]
  },
  {
   "cell_type": "code",
   "execution_count": 24,
   "metadata": {},
   "outputs": [
    {
     "data": {
      "text/html": [
       "<div>\n",
       "<style scoped>\n",
       "    .dataframe tbody tr th:only-of-type {\n",
       "        vertical-align: middle;\n",
       "    }\n",
       "\n",
       "    .dataframe tbody tr th {\n",
       "        vertical-align: top;\n",
       "    }\n",
       "\n",
       "    .dataframe thead th {\n",
       "        text-align: right;\n",
       "    }\n",
       "</style>\n",
       "<table border=\"1\" class=\"dataframe\">\n",
       "  <thead>\n",
       "    <tr style=\"text-align: right;\">\n",
       "      <th></th>\n",
       "      <th>Price</th>\n",
       "      <th>VehicleType</th>\n",
       "      <th>RegistrationYear</th>\n",
       "      <th>Gearbox</th>\n",
       "      <th>Power</th>\n",
       "      <th>Model</th>\n",
       "      <th>Kilometer</th>\n",
       "      <th>FuelType</th>\n",
       "      <th>Brand</th>\n",
       "      <th>NotRepaired</th>\n",
       "    </tr>\n",
       "  </thead>\n",
       "  <tbody>\n",
       "    <tr>\n",
       "      <th>1</th>\n",
       "      <td>18300</td>\n",
       "      <td>coupe</td>\n",
       "      <td>2011</td>\n",
       "      <td>0.0</td>\n",
       "      <td>190.000000</td>\n",
       "      <td>a4</td>\n",
       "      <td>125000</td>\n",
       "      <td>gasoline</td>\n",
       "      <td>audi</td>\n",
       "      <td>1</td>\n",
       "    </tr>\n",
       "    <tr>\n",
       "      <th>2</th>\n",
       "      <td>9800</td>\n",
       "      <td>suv</td>\n",
       "      <td>2004</td>\n",
       "      <td>1.0</td>\n",
       "      <td>163.000000</td>\n",
       "      <td>grand</td>\n",
       "      <td>125000</td>\n",
       "      <td>gasoline</td>\n",
       "      <td>jeep</td>\n",
       "      <td>0</td>\n",
       "    </tr>\n",
       "    <tr>\n",
       "      <th>3</th>\n",
       "      <td>1500</td>\n",
       "      <td>small</td>\n",
       "      <td>2001</td>\n",
       "      <td>0.0</td>\n",
       "      <td>75.000000</td>\n",
       "      <td>golf</td>\n",
       "      <td>150000</td>\n",
       "      <td>petrol</td>\n",
       "      <td>volkswagen</td>\n",
       "      <td>0</td>\n",
       "    </tr>\n",
       "    <tr>\n",
       "      <th>4</th>\n",
       "      <td>3600</td>\n",
       "      <td>small</td>\n",
       "      <td>2008</td>\n",
       "      <td>0.0</td>\n",
       "      <td>69.000000</td>\n",
       "      <td>fabia</td>\n",
       "      <td>90000</td>\n",
       "      <td>gasoline</td>\n",
       "      <td>skoda</td>\n",
       "      <td>0</td>\n",
       "    </tr>\n",
       "    <tr>\n",
       "      <th>5</th>\n",
       "      <td>650</td>\n",
       "      <td>sedan</td>\n",
       "      <td>1995</td>\n",
       "      <td>0.0</td>\n",
       "      <td>102.000000</td>\n",
       "      <td>3er</td>\n",
       "      <td>150000</td>\n",
       "      <td>petrol</td>\n",
       "      <td>bmw</td>\n",
       "      <td>1</td>\n",
       "    </tr>\n",
       "    <tr>\n",
       "      <th>...</th>\n",
       "      <td>...</td>\n",
       "      <td>...</td>\n",
       "      <td>...</td>\n",
       "      <td>...</td>\n",
       "      <td>...</td>\n",
       "      <td>...</td>\n",
       "      <td>...</td>\n",
       "      <td>...</td>\n",
       "      <td>...</td>\n",
       "      <td>...</td>\n",
       "    </tr>\n",
       "    <tr>\n",
       "      <th>354362</th>\n",
       "      <td>3200</td>\n",
       "      <td>sedan</td>\n",
       "      <td>2004</td>\n",
       "      <td>0.0</td>\n",
       "      <td>225.000000</td>\n",
       "      <td>leon</td>\n",
       "      <td>150000</td>\n",
       "      <td>petrol</td>\n",
       "      <td>seat</td>\n",
       "      <td>1</td>\n",
       "    </tr>\n",
       "    <tr>\n",
       "      <th>354363</th>\n",
       "      <td>1150</td>\n",
       "      <td>bus</td>\n",
       "      <td>2000</td>\n",
       "      <td>0.0</td>\n",
       "      <td>125.012209</td>\n",
       "      <td>zafira</td>\n",
       "      <td>150000</td>\n",
       "      <td>petrol</td>\n",
       "      <td>opel</td>\n",
       "      <td>0</td>\n",
       "    </tr>\n",
       "    <tr>\n",
       "      <th>354366</th>\n",
       "      <td>1199</td>\n",
       "      <td>convertible</td>\n",
       "      <td>2000</td>\n",
       "      <td>1.0</td>\n",
       "      <td>101.000000</td>\n",
       "      <td>fortwo</td>\n",
       "      <td>125000</td>\n",
       "      <td>petrol</td>\n",
       "      <td>smart</td>\n",
       "      <td>0</td>\n",
       "    </tr>\n",
       "    <tr>\n",
       "      <th>354367</th>\n",
       "      <td>9200</td>\n",
       "      <td>bus</td>\n",
       "      <td>1996</td>\n",
       "      <td>0.0</td>\n",
       "      <td>102.000000</td>\n",
       "      <td>transporter</td>\n",
       "      <td>150000</td>\n",
       "      <td>gasoline</td>\n",
       "      <td>volkswagen</td>\n",
       "      <td>0</td>\n",
       "    </tr>\n",
       "    <tr>\n",
       "      <th>354368</th>\n",
       "      <td>3400</td>\n",
       "      <td>wagon</td>\n",
       "      <td>2002</td>\n",
       "      <td>0.0</td>\n",
       "      <td>100.000000</td>\n",
       "      <td>golf</td>\n",
       "      <td>150000</td>\n",
       "      <td>gasoline</td>\n",
       "      <td>volkswagen</td>\n",
       "      <td>0</td>\n",
       "    </tr>\n",
       "  </tbody>\n",
       "</table>\n",
       "<p>305541 rows × 10 columns</p>\n",
       "</div>"
      ],
      "text/plain": [
       "        Price  VehicleType  RegistrationYear  Gearbox       Power  \\\n",
       "1       18300        coupe              2011      0.0  190.000000   \n",
       "2        9800          suv              2004      1.0  163.000000   \n",
       "3        1500        small              2001      0.0   75.000000   \n",
       "4        3600        small              2008      0.0   69.000000   \n",
       "5         650        sedan              1995      0.0  102.000000   \n",
       "...       ...          ...               ...      ...         ...   \n",
       "354362   3200        sedan              2004      0.0  225.000000   \n",
       "354363   1150          bus              2000      0.0  125.012209   \n",
       "354366   1199  convertible              2000      1.0  101.000000   \n",
       "354367   9200          bus              1996      0.0  102.000000   \n",
       "354368   3400        wagon              2002      0.0  100.000000   \n",
       "\n",
       "              Model  Kilometer  FuelType       Brand  NotRepaired  \n",
       "1                a4     125000  gasoline        audi            1  \n",
       "2             grand     125000  gasoline        jeep            0  \n",
       "3              golf     150000    petrol  volkswagen            0  \n",
       "4             fabia      90000  gasoline       skoda            0  \n",
       "5               3er     150000    petrol         bmw            1  \n",
       "...             ...        ...       ...         ...          ...  \n",
       "354362         leon     150000    petrol        seat            1  \n",
       "354363       zafira     150000    petrol        opel            0  \n",
       "354366       fortwo     125000    petrol       smart            0  \n",
       "354367  transporter     150000  gasoline  volkswagen            0  \n",
       "354368         golf     150000  gasoline  volkswagen            0  \n",
       "\n",
       "[305541 rows x 10 columns]"
      ]
     },
     "metadata": {},
     "output_type": "display_data"
    }
   ],
   "source": [
    "df = df.drop(columns=['DateCrawled'])\n",
    "display(df)"
   ]
  },
  {
   "cell_type": "markdown",
   "metadata": {},
   "source": [
    "Приведу числовые данные к типу int64."
   ]
  },
  {
   "cell_type": "code",
   "execution_count": 25,
   "metadata": {},
   "outputs": [
    {
     "name": "stdout",
     "output_type": "stream",
     "text": [
      "<class 'pandas.core.frame.DataFrame'>\n",
      "Int64Index: 305541 entries, 1 to 354368\n",
      "Data columns (total 10 columns):\n",
      " #   Column            Non-Null Count   Dtype \n",
      "---  ------            --------------   ----- \n",
      " 0   Price             305541 non-null  int64 \n",
      " 1   VehicleType       305541 non-null  object\n",
      " 2   RegistrationYear  305541 non-null  int64 \n",
      " 3   Gearbox           305541 non-null  int64 \n",
      " 4   Power             305541 non-null  int64 \n",
      " 5   Model             305541 non-null  object\n",
      " 6   Kilometer         305541 non-null  int64 \n",
      " 7   FuelType          305541 non-null  object\n",
      " 8   Brand             305541 non-null  object\n",
      " 9   NotRepaired       305541 non-null  int64 \n",
      "dtypes: int64(6), object(4)\n",
      "memory usage: 25.6+ MB\n"
     ]
    }
   ],
   "source": [
    "df = df.astype({\"Price\": \"int64\"})\n",
    "df = df.astype({\"Gearbox\": \"int64\"})\n",
    "df = df.astype({\"Power\": \"int64\"})\n",
    "df.info()"
   ]
  },
  {
   "cell_type": "code",
   "execution_count": 26,
   "metadata": {},
   "outputs": [
    {
     "data": {
      "text/html": [
       "<div>\n",
       "<style scoped>\n",
       "    .dataframe tbody tr th:only-of-type {\n",
       "        vertical-align: middle;\n",
       "    }\n",
       "\n",
       "    .dataframe tbody tr th {\n",
       "        vertical-align: top;\n",
       "    }\n",
       "\n",
       "    .dataframe thead th {\n",
       "        text-align: right;\n",
       "    }\n",
       "</style>\n",
       "<table border=\"1\" class=\"dataframe\">\n",
       "  <thead>\n",
       "    <tr style=\"text-align: right;\">\n",
       "      <th></th>\n",
       "      <th>Price</th>\n",
       "      <th>VehicleType</th>\n",
       "      <th>RegistrationYear</th>\n",
       "      <th>Gearbox</th>\n",
       "      <th>Power</th>\n",
       "      <th>Model</th>\n",
       "      <th>Kilometer</th>\n",
       "      <th>FuelType</th>\n",
       "      <th>Brand</th>\n",
       "      <th>NotRepaired</th>\n",
       "    </tr>\n",
       "  </thead>\n",
       "  <tbody>\n",
       "    <tr>\n",
       "      <th>count</th>\n",
       "      <td>305541.000000</td>\n",
       "      <td>305541</td>\n",
       "      <td>305541.000000</td>\n",
       "      <td>305541.000000</td>\n",
       "      <td>305541.000000</td>\n",
       "      <td>305541</td>\n",
       "      <td>305541.000000</td>\n",
       "      <td>305541</td>\n",
       "      <td>305541</td>\n",
       "      <td>305541.000000</td>\n",
       "    </tr>\n",
       "    <tr>\n",
       "      <th>unique</th>\n",
       "      <td>NaN</td>\n",
       "      <td>8</td>\n",
       "      <td>NaN</td>\n",
       "      <td>NaN</td>\n",
       "      <td>NaN</td>\n",
       "      <td>249</td>\n",
       "      <td>NaN</td>\n",
       "      <td>7</td>\n",
       "      <td>39</td>\n",
       "      <td>NaN</td>\n",
       "    </tr>\n",
       "    <tr>\n",
       "      <th>top</th>\n",
       "      <td>NaN</td>\n",
       "      <td>sedan</td>\n",
       "      <td>NaN</td>\n",
       "      <td>NaN</td>\n",
       "      <td>NaN</td>\n",
       "      <td>golf</td>\n",
       "      <td>NaN</td>\n",
       "      <td>petrol</td>\n",
       "      <td>volkswagen</td>\n",
       "      <td>NaN</td>\n",
       "    </tr>\n",
       "    <tr>\n",
       "      <th>freq</th>\n",
       "      <td>NaN</td>\n",
       "      <td>87221</td>\n",
       "      <td>NaN</td>\n",
       "      <td>NaN</td>\n",
       "      <td>NaN</td>\n",
       "      <td>26475</td>\n",
       "      <td>NaN</td>\n",
       "      <td>198278</td>\n",
       "      <td>66784</td>\n",
       "      <td>NaN</td>\n",
       "    </tr>\n",
       "    <tr>\n",
       "      <th>mean</th>\n",
       "      <td>5026.101832</td>\n",
       "      <td>NaN</td>\n",
       "      <td>2003.717151</td>\n",
       "      <td>0.209396</td>\n",
       "      <td>123.134931</td>\n",
       "      <td>NaN</td>\n",
       "      <td>127908.873114</td>\n",
       "      <td>NaN</td>\n",
       "      <td>NaN</td>\n",
       "      <td>0.076468</td>\n",
       "    </tr>\n",
       "    <tr>\n",
       "      <th>std</th>\n",
       "      <td>4512.447955</td>\n",
       "      <td>NaN</td>\n",
       "      <td>6.930766</td>\n",
       "      <td>0.406878</td>\n",
       "      <td>53.190625</td>\n",
       "      <td>NaN</td>\n",
       "      <td>37094.838453</td>\n",
       "      <td>NaN</td>\n",
       "      <td>NaN</td>\n",
       "      <td>0.265745</td>\n",
       "    </tr>\n",
       "    <tr>\n",
       "      <th>min</th>\n",
       "      <td>600.000000</td>\n",
       "      <td>NaN</td>\n",
       "      <td>1960.000000</td>\n",
       "      <td>0.000000</td>\n",
       "      <td>25.000000</td>\n",
       "      <td>NaN</td>\n",
       "      <td>5000.000000</td>\n",
       "      <td>NaN</td>\n",
       "      <td>NaN</td>\n",
       "      <td>0.000000</td>\n",
       "    </tr>\n",
       "    <tr>\n",
       "      <th>25%</th>\n",
       "      <td>1590.000000</td>\n",
       "      <td>NaN</td>\n",
       "      <td>2000.000000</td>\n",
       "      <td>0.000000</td>\n",
       "      <td>84.000000</td>\n",
       "      <td>NaN</td>\n",
       "      <td>125000.000000</td>\n",
       "      <td>NaN</td>\n",
       "      <td>NaN</td>\n",
       "      <td>0.000000</td>\n",
       "    </tr>\n",
       "    <tr>\n",
       "      <th>50%</th>\n",
       "      <td>3399.000000</td>\n",
       "      <td>NaN</td>\n",
       "      <td>2004.000000</td>\n",
       "      <td>0.000000</td>\n",
       "      <td>116.000000</td>\n",
       "      <td>NaN</td>\n",
       "      <td>150000.000000</td>\n",
       "      <td>NaN</td>\n",
       "      <td>NaN</td>\n",
       "      <td>0.000000</td>\n",
       "    </tr>\n",
       "    <tr>\n",
       "      <th>75%</th>\n",
       "      <td>7000.000000</td>\n",
       "      <td>NaN</td>\n",
       "      <td>2008.000000</td>\n",
       "      <td>0.000000</td>\n",
       "      <td>150.000000</td>\n",
       "      <td>NaN</td>\n",
       "      <td>150000.000000</td>\n",
       "      <td>NaN</td>\n",
       "      <td>NaN</td>\n",
       "      <td>0.000000</td>\n",
       "    </tr>\n",
       "    <tr>\n",
       "      <th>max</th>\n",
       "      <td>20000.000000</td>\n",
       "      <td>NaN</td>\n",
       "      <td>2019.000000</td>\n",
       "      <td>1.000000</td>\n",
       "      <td>1000.000000</td>\n",
       "      <td>NaN</td>\n",
       "      <td>150000.000000</td>\n",
       "      <td>NaN</td>\n",
       "      <td>NaN</td>\n",
       "      <td>1.000000</td>\n",
       "    </tr>\n",
       "  </tbody>\n",
       "</table>\n",
       "</div>"
      ],
      "text/plain": [
       "                Price VehicleType  RegistrationYear        Gearbox  \\\n",
       "count   305541.000000      305541     305541.000000  305541.000000   \n",
       "unique            NaN           8               NaN            NaN   \n",
       "top               NaN       sedan               NaN            NaN   \n",
       "freq              NaN       87221               NaN            NaN   \n",
       "mean      5026.101832         NaN       2003.717151       0.209396   \n",
       "std       4512.447955         NaN          6.930766       0.406878   \n",
       "min        600.000000         NaN       1960.000000       0.000000   \n",
       "25%       1590.000000         NaN       2000.000000       0.000000   \n",
       "50%       3399.000000         NaN       2004.000000       0.000000   \n",
       "75%       7000.000000         NaN       2008.000000       0.000000   \n",
       "max      20000.000000         NaN       2019.000000       1.000000   \n",
       "\n",
       "                Power   Model      Kilometer FuelType       Brand  \\\n",
       "count   305541.000000  305541  305541.000000   305541      305541   \n",
       "unique            NaN     249            NaN        7          39   \n",
       "top               NaN    golf            NaN   petrol  volkswagen   \n",
       "freq              NaN   26475            NaN   198278       66784   \n",
       "mean       123.134931     NaN  127908.873114      NaN         NaN   \n",
       "std         53.190625     NaN   37094.838453      NaN         NaN   \n",
       "min         25.000000     NaN    5000.000000      NaN         NaN   \n",
       "25%         84.000000     NaN  125000.000000      NaN         NaN   \n",
       "50%        116.000000     NaN  150000.000000      NaN         NaN   \n",
       "75%        150.000000     NaN  150000.000000      NaN         NaN   \n",
       "max       1000.000000     NaN  150000.000000      NaN         NaN   \n",
       "\n",
       "          NotRepaired  \n",
       "count   305541.000000  \n",
       "unique            NaN  \n",
       "top               NaN  \n",
       "freq              NaN  \n",
       "mean         0.076468  \n",
       "std          0.265745  \n",
       "min          0.000000  \n",
       "25%          0.000000  \n",
       "50%          0.000000  \n",
       "75%          0.000000  \n",
       "max          1.000000  "
      ]
     },
     "execution_count": 26,
     "metadata": {},
     "output_type": "execute_result"
    }
   ],
   "source": [
    "df.describe(include='all')"
   ]
  },
  {
   "cell_type": "code",
   "execution_count": 27,
   "metadata": {},
   "outputs": [
    {
     "data": {
      "image/png": "[encoded data removed]",
      "text/plain": [
       "<Figure size 960x800 with 2 Axes>"
      ]
     },
     "metadata": {
      "needs_background": "light"
     },
     "output_type": "display_data"
    }
   ],
   "source": [
    "plt.figure(figsize=(12, 10), dpi=80)\n",
    "sns.heatmap(df.corr(), xticklabels=df.corr().columns, yticklabels=df.corr().columns, cmap='RdYlGn', center=0, annot=True)\n",
    "plt.title('Диаграмма корреляции', fontsize=22)\n",
    "plt.xticks(fontsize=12)\n",
    "plt.yticks(fontsize=12, rotation=0)\n",
    "plt.show()"
   ]
  },
  {
   "cell_type": "markdown",
   "metadata": {},
   "source": [
    "Добавились новые признаки, но в целом картина не изменилась."
   ]
  },
  {
   "cell_type": "code",
   "execution_count": null,
   "metadata": {},
   "outputs": [],
   "source": [
    "#! pip install phik"
   ]
  },
  {
   "cell_type": "code",
   "execution_count": 28,
   "metadata": {},
   "outputs": [],
   "source": [
    "import phik\n",
    "from phik import resources, report"
   ]
  },
  {
   "cell_type": "code",
   "execution_count": 29,
   "metadata": {},
   "outputs": [
    {
     "name": "stdout",
     "output_type": "stream",
     "text": [
      "interval columns not set, guessing: ['Price', 'RegistrationYear', 'Gearbox', 'Power', 'Kilometer', 'NotRepaired']\n"
     ]
    },
    {
     "data": {
      "text/html": [
       "<div>\n",
       "<style scoped>\n",
       "    .dataframe tbody tr th:only-of-type {\n",
       "        vertical-align: middle;\n",
       "    }\n",
       "\n",
       "    .dataframe tbody tr th {\n",
       "        vertical-align: top;\n",
       "    }\n",
       "\n",
       "    .dataframe thead th {\n",
       "        text-align: right;\n",
       "    }\n",
       "</style>\n",
       "<table border=\"1\" class=\"dataframe\">\n",
       "  <thead>\n",
       "    <tr style=\"text-align: right;\">\n",
       "      <th></th>\n",
       "      <th>Price</th>\n",
       "      <th>VehicleType</th>\n",
       "      <th>RegistrationYear</th>\n",
       "      <th>Gearbox</th>\n",
       "      <th>Power</th>\n",
       "      <th>Model</th>\n",
       "      <th>Kilometer</th>\n",
       "      <th>FuelType</th>\n",
       "      <th>Brand</th>\n",
       "      <th>NotRepaired</th>\n",
       "    </tr>\n",
       "  </thead>\n",
       "  <tbody>\n",
       "    <tr>\n",
       "      <th>Price</th>\n",
       "      <td>1.000000</td>\n",
       "      <td>0.244134</td>\n",
       "      <td>0.629814</td>\n",
       "      <td>0.300498</td>\n",
       "      <td>0.436318</td>\n",
       "      <td>0.552286</td>\n",
       "      <td>0.310469</td>\n",
       "      <td>0.220070</td>\n",
       "      <td>0.310483</td>\n",
       "      <td>0.200307</td>\n",
       "    </tr>\n",
       "    <tr>\n",
       "      <th>VehicleType</th>\n",
       "      <td>0.244134</td>\n",
       "      <td>1.000000</td>\n",
       "      <td>0.190984</td>\n",
       "      <td>0.267277</td>\n",
       "      <td>0.365270</td>\n",
       "      <td>0.914260</td>\n",
       "      <td>0.181969</td>\n",
       "      <td>0.321902</td>\n",
       "      <td>0.612454</td>\n",
       "      <td>0.050504</td>\n",
       "    </tr>\n",
       "    <tr>\n",
       "      <th>RegistrationYear</th>\n",
       "      <td>0.629814</td>\n",
       "      <td>0.190984</td>\n",
       "      <td>1.000000</td>\n",
       "      <td>0.097969</td>\n",
       "      <td>0.169898</td>\n",
       "      <td>0.626504</td>\n",
       "      <td>0.378279</td>\n",
       "      <td>0.239859</td>\n",
       "      <td>0.316718</td>\n",
       "      <td>0.089354</td>\n",
       "    </tr>\n",
       "    <tr>\n",
       "      <th>Gearbox</th>\n",
       "      <td>0.300498</td>\n",
       "      <td>0.267277</td>\n",
       "      <td>0.097969</td>\n",
       "      <td>1.000000</td>\n",
       "      <td>0.516220</td>\n",
       "      <td>0.644974</td>\n",
       "      <td>0.029294</td>\n",
       "      <td>0.134498</td>\n",
       "      <td>0.502977</td>\n",
       "      <td>0.002467</td>\n",
       "    </tr>\n",
       "    <tr>\n",
       "      <th>Power</th>\n",
       "      <td>0.436318</td>\n",
       "      <td>0.365270</td>\n",
       "      <td>0.169898</td>\n",
       "      <td>0.516220</td>\n",
       "      <td>1.000000</td>\n",
       "      <td>0.693467</td>\n",
       "      <td>0.110165</td>\n",
       "      <td>0.207101</td>\n",
       "      <td>0.475319</td>\n",
       "      <td>0.018601</td>\n",
       "    </tr>\n",
       "    <tr>\n",
       "      <th>Model</th>\n",
       "      <td>0.552286</td>\n",
       "      <td>0.914260</td>\n",
       "      <td>0.626504</td>\n",
       "      <td>0.644974</td>\n",
       "      <td>0.693467</td>\n",
       "      <td>1.000000</td>\n",
       "      <td>0.450301</td>\n",
       "      <td>0.547342</td>\n",
       "      <td>0.998348</td>\n",
       "      <td>0.092258</td>\n",
       "    </tr>\n",
       "    <tr>\n",
       "      <th>Kilometer</th>\n",
       "      <td>0.310469</td>\n",
       "      <td>0.181969</td>\n",
       "      <td>0.378279</td>\n",
       "      <td>0.029294</td>\n",
       "      <td>0.110165</td>\n",
       "      <td>0.450301</td>\n",
       "      <td>1.000000</td>\n",
       "      <td>0.163586</td>\n",
       "      <td>0.278382</td>\n",
       "      <td>0.066853</td>\n",
       "    </tr>\n",
       "    <tr>\n",
       "      <th>FuelType</th>\n",
       "      <td>0.220070</td>\n",
       "      <td>0.321902</td>\n",
       "      <td>0.239859</td>\n",
       "      <td>0.134498</td>\n",
       "      <td>0.207101</td>\n",
       "      <td>0.547342</td>\n",
       "      <td>0.163586</td>\n",
       "      <td>1.000000</td>\n",
       "      <td>0.315201</td>\n",
       "      <td>0.016764</td>\n",
       "    </tr>\n",
       "    <tr>\n",
       "      <th>Brand</th>\n",
       "      <td>0.310483</td>\n",
       "      <td>0.612454</td>\n",
       "      <td>0.316718</td>\n",
       "      <td>0.502977</td>\n",
       "      <td>0.475319</td>\n",
       "      <td>0.998348</td>\n",
       "      <td>0.278382</td>\n",
       "      <td>0.315201</td>\n",
       "      <td>1.000000</td>\n",
       "      <td>0.041348</td>\n",
       "    </tr>\n",
       "    <tr>\n",
       "      <th>NotRepaired</th>\n",
       "      <td>0.200307</td>\n",
       "      <td>0.050504</td>\n",
       "      <td>0.089354</td>\n",
       "      <td>0.002467</td>\n",
       "      <td>0.018601</td>\n",
       "      <td>0.092258</td>\n",
       "      <td>0.066853</td>\n",
       "      <td>0.016764</td>\n",
       "      <td>0.041348</td>\n",
       "      <td>1.000000</td>\n",
       "    </tr>\n",
       "  </tbody>\n",
       "</table>\n",
       "</div>"
      ],
      "text/plain": [
       "                     Price  VehicleType  RegistrationYear   Gearbox     Power  \\\n",
       "Price             1.000000     0.244134          0.629814  0.300498  0.436318   \n",
       "VehicleType       0.244134     1.000000          0.190984  0.267277  0.365270   \n",
       "RegistrationYear  0.629814     0.190984          1.000000  0.097969  0.169898   \n",
       "Gearbox           0.300498     0.267277          0.097969  1.000000  0.516220   \n",
       "Power             0.436318     0.365270          0.169898  0.516220  1.000000   \n",
       "Model             0.552286     0.914260          0.626504  0.644974  0.693467   \n",
       "Kilometer         0.310469     0.181969          0.378279  0.029294  0.110165   \n",
       "FuelType          0.220070     0.321902          0.239859  0.134498  0.207101   \n",
       "Brand             0.310483     0.612454          0.316718  0.502977  0.475319   \n",
       "NotRepaired       0.200307     0.050504          0.089354  0.002467  0.018601   \n",
       "\n",
       "                     Model  Kilometer  FuelType     Brand  NotRepaired  \n",
       "Price             0.552286   0.310469  0.220070  0.310483     0.200307  \n",
       "VehicleType       0.914260   0.181969  0.321902  0.612454     0.050504  \n",
       "RegistrationYear  0.626504   0.378279  0.239859  0.316718     0.089354  \n",
       "Gearbox           0.644974   0.029294  0.134498  0.502977     0.002467  \n",
       "Power             0.693467   0.110165  0.207101  0.475319     0.018601  \n",
       "Model             1.000000   0.450301  0.547342  0.998348     0.092258  \n",
       "Kilometer         0.450301   1.000000  0.163586  0.278382     0.066853  \n",
       "FuelType          0.547342   0.163586  1.000000  0.315201     0.016764  \n",
       "Brand             0.998348   0.278382  0.315201  1.000000     0.041348  \n",
       "NotRepaired       0.092258   0.066853  0.016764  0.041348     1.000000  "
      ]
     },
     "execution_count": 29,
     "metadata": {},
     "output_type": "execute_result"
    }
   ],
   "source": [
    "df.phik_matrix()"
   ]
  },
  {
   "cell_type": "markdown",
   "metadata": {},
   "source": [
    "### Вывод"
   ]
  },
  {
   "cell_type": "markdown",
   "metadata": {},
   "source": [
    "Предобработка данных завершена. Пропуски отсутствуют. Данные готовы к построению моделей предсказания."
   ]
  },
  {
   "cell_type": "markdown",
   "metadata": {},
   "source": [
    "## Обучение моделей"
   ]
  },
  {
   "cell_type": "markdown",
   "metadata": {},
   "source": [
    "В ходе данного проекта я обучу следующие модели:\n",
    "- LinearRegression;\n",
    "- Ridge;\n",
    "- DecisionTreeRegressor;\n",
    "- CatBoostRegressor;\n",
    "- LGBMRegressor."
   ]
  },
  {
   "cell_type": "markdown",
   "metadata": {},
   "source": [
    "### Создание выборок"
   ]
  },
  {
   "cell_type": "markdown",
   "metadata": {},
   "source": [
    "Создам два различных типа выборок - для моделей, принимающих категориальные данные и для тех кто их не принимает."
   ]
  },
  {
   "cell_type": "markdown",
   "metadata": {},
   "source": [
    "Изменю тип данных на \"category\"."
   ]
  },
  {
   "cell_type": "code",
   "execution_count": 30,
   "metadata": {},
   "outputs": [
    {
     "name": "stdout",
     "output_type": "stream",
     "text": [
      "<class 'pandas.core.frame.DataFrame'>\n",
      "Int64Index: 305541 entries, 1 to 354368\n",
      "Data columns (total 10 columns):\n",
      " #   Column            Non-Null Count   Dtype   \n",
      "---  ------            --------------   -----   \n",
      " 0   Price             305541 non-null  int64   \n",
      " 1   VehicleType       305541 non-null  category\n",
      " 2   RegistrationYear  305541 non-null  int64   \n",
      " 3   Gearbox           305541 non-null  int64   \n",
      " 4   Power             305541 non-null  int64   \n",
      " 5   Model             305541 non-null  category\n",
      " 6   Kilometer         305541 non-null  int64   \n",
      " 7   FuelType          305541 non-null  category\n",
      " 8   Brand             305541 non-null  category\n",
      " 9   NotRepaired       305541 non-null  int64   \n",
      "dtypes: category(4), int64(6)\n",
      "memory usage: 17.8 MB\n"
     ]
    }
   ],
   "source": [
    "df_cat = df.astype({\"VehicleType\": \"category\"})\n",
    "df_cat = df_cat.astype({\"Model\": \"category\"})\n",
    "df_cat = df_cat.astype({\"FuelType\": \"category\"})\n",
    "df_cat = df_cat.astype({\"Brand\": \"category\"})\n",
    "df_cat.info()"
   ]
  },
  {
   "cell_type": "markdown",
   "metadata": {},
   "source": [
    "Создам обучающую и валидационную выборки."
   ]
  },
  {
   "cell_type": "code",
   "execution_count": 32,
   "metadata": {},
   "outputs": [
    {
     "name": "stdout",
     "output_type": "stream",
     "text": [
      "Размер обучающей выборки 91662\n",
      "Размер валидационной выборки 213879\n"
     ]
    }
   ],
   "source": [
    "features_cat = df_cat.drop(['Price'],axis=1)\n",
    "target_cat = df_cat['Price']\n",
    "\n",
    "train_features, valid_features, train_target, valid_target = train_test_split(features_cat, target_cat, test_size=0.7, random_state=12345)\n",
    "\n",
    "print('Размер обучающей выборки', train_features.shape[0])\n",
    "print('Размер валидационной выборки', valid_features.shape[0])"
   ]
  },
  {
   "cell_type": "markdown",
   "metadata": {},
   "source": [
    "Для некотегориальных моделей применю метод pd.get_dummies."
   ]
  },
  {
   "cell_type": "code",
   "execution_count": 33,
   "metadata": {},
   "outputs": [
    {
     "name": "stdout",
     "output_type": "stream",
     "text": [
      "<class 'pandas.core.frame.DataFrame'>\n",
      "Int64Index: 305541 entries, 1 to 354368\n",
      "Columns: 305 entries, Price to Brand_volvo\n",
      "dtypes: int64(6), uint8(299)\n",
      "memory usage: 103.4 MB\n"
     ]
    },
    {
     "data": {
      "text/plain": [
       "None"
      ]
     },
     "metadata": {},
     "output_type": "display_data"
    }
   ],
   "source": [
    "df_lin = pd.get_dummies(df, drop_first=True)\n",
    "display(df_lin.info())"
   ]
  },
  {
   "cell_type": "markdown",
   "metadata": {},
   "source": [
    "Создам обучающую, валидационную и тестовую выборки."
   ]
  },
  {
   "cell_type": "code",
   "execution_count": 34,
   "metadata": {},
   "outputs": [
    {
     "name": "stdout",
     "output_type": "stream",
     "text": [
      "Размер обучающей выборки 91662\n",
      "Размер валидационной выборки 213879\n"
     ]
    }
   ],
   "source": [
    "features_lin = df_lin.drop(['Price'],axis=1)\n",
    "target_lin = df_lin['Price']\n",
    "\n",
    "train_features_lin, valid_features_lin, train_target_lin, valid_target_lin = train_test_split(features_lin, target_lin, test_size=0.7, random_state=12345)\n",
    "\n",
    "print('Размер обучающей выборки', train_features_lin.shape[0])\n",
    "print('Размер валидационной выборки', valid_features_lin.shape[0])"
   ]
  },
  {
   "cell_type": "markdown",
   "metadata": {},
   "source": [
    "### Линейная регрессия"
   ]
  },
  {
   "cell_type": "markdown",
   "metadata": {},
   "source": [
    "Подберу наилучшие гиперпараметры для линейной регрессии."
   ]
  },
  {
   "cell_type": "code",
   "execution_count": 35,
   "metadata": {},
   "outputs": [
    {
     "name": "stdout",
     "output_type": "stream",
     "text": [
      "Best Score: -1958.3829772751426\n",
      "Best Hyperparameters: {'copy_X': True, 'fit_intercept': True, 'normalize': False}\n",
      "Wall time: 2min 48s\n"
     ]
    }
   ],
   "source": [
    "%%time\n",
    "\n",
    "model_lin = LinearRegression()\n",
    "cv = RepeatedKFold(n_splits=3, n_repeats=3, random_state=12345)\n",
    "param = {'fit_intercept':[True,False], 'normalize':[True,False], 'copy_X':[True, False]}\n",
    "search = GridSearchCV(model_lin, param, scoring='neg_mean_absolute_error', n_jobs=-1, cv=cv)\n",
    "result = search.fit(train_features_lin, train_target_lin)\n",
    "print('Best Score: %s' % result.best_score_)\n",
    "print('Best Hyperparameters: %s' % result.best_params_)"
   ]
  },
  {
   "cell_type": "markdown",
   "metadata": {},
   "source": [
    "### Ridge"
   ]
  },
  {
   "cell_type": "markdown",
   "metadata": {},
   "source": [
    "Подберу наилучшие гиперпараметры для регрессии Ridge."
   ]
  },
  {
   "cell_type": "code",
   "execution_count": 36,
   "metadata": {},
   "outputs": [
    {
     "name": "stdout",
     "output_type": "stream",
     "text": [
      "Best Score: -1958.2330897026154\n",
      "Best Hyperparameters: {'alpha': 0.001, 'fit_intercept': True, 'normalize': True, 'solver': 'lsqr'}\n",
      "Wall time: 10min 28s\n"
     ]
    }
   ],
   "source": [
    "%%time\n",
    "\n",
    "model = Ridge()\n",
    "cv = RepeatedKFold(n_splits=3, n_repeats=3, random_state=12345)\n",
    "param = {\n",
    "    'solver':['svd', 'cholesky', 'lsqr'],\n",
    "    'alpha': [1e-3, 1e-1, 1],\n",
    "    'fit_intercept':[True, False],\n",
    "    'normalize':[True, False]\n",
    "}\n",
    "search = GridSearchCV(model, param, scoring='neg_mean_absolute_error', n_jobs=-1, cv=cv)\n",
    "result = search.fit(train_features_lin, train_target_lin)\n",
    "print('Best Score: %s' % result.best_score_)\n",
    "print('Best Hyperparameters: %s' % result.best_params_)"
   ]
  },
  {
   "cell_type": "markdown",
   "metadata": {},
   "source": [
    "### DecisionTreeClassifier"
   ]
  },
  {
   "cell_type": "markdown",
   "metadata": {},
   "source": [
    "Подберу наилучшие гиперпараметры для модели DecisionTreeClassifier."
   ]
  },
  {
   "cell_type": "code",
   "execution_count": 37,
   "metadata": {
    "collapsed": true
   },
   "outputs": [
    {
     "data": {
      "text/plain": [
       "{'ccp_alpha': 0.001,\n",
       " 'criterion': 'entropy',\n",
       " 'max_depth': 5,\n",
       " 'max_leaf_nodes': 19}"
      ]
     },
     "metadata": {},
     "output_type": "display_data"
    },
    {
     "name": "stdout",
     "output_type": "stream",
     "text": [
      "Wall time: 14min 7s\n"
     ]
    }
   ],
   "source": [
    "%%time\n",
    "\n",
    "parametrs = {'max_leaf_nodes': list(range(10, 20)),          \n",
    "             'ccp_alpha': [0.1, 0.001],            \n",
    "             'max_depth': list(range(2, 6)),             \n",
    "             'criterion': ['gini', 'entropy']             \n",
    "            }\n",
    "\n",
    "clf = DecisionTreeClassifier(random_state=12345)\n",
    "\n",
    "grid = GridSearchCV(clf, parametrs, cv=3)\n",
    "\n",
    "grid.fit(train_features_lin, train_target_lin)\n",
    "\n",
    "display(grid.best_params_)"
   ]
  },
  {
   "cell_type": "markdown",
   "metadata": {},
   "source": [
    "### CatBoostRegressor"
   ]
  },
  {
   "cell_type": "markdown",
   "metadata": {},
   "source": [
    "Подберу наилучшие гиперпараметры для модели CatBoostRegressor."
   ]
  },
  {
   "cell_type": "code",
   "execution_count": 39,
   "metadata": {},
   "outputs": [
    {
     "name": "stdout",
     "output_type": "stream",
     "text": [
      "{'depth': 4, 'l2_leaf_reg': 3, 'learning_rate': 0.5, 'random_state': 12345, 'verbose': False}\n",
      "Wall time: 41min 25s\n"
     ]
    }
   ],
   "source": [
    "%%time\n",
    "\n",
    "regressor = CatBoostRegressor(cat_features=['VehicleType','FuelType','Brand','Model']) \n",
    "\n",
    "hyperparams = [{'learning_rate':[0.1, 0.5, 0.8],\n",
    "                'depth': [2, 4],\n",
    "                'random_state':[12345],\n",
    "                'l2_leaf_reg': [1, 3],\n",
    "                'verbose':[False]}]\n",
    "\n",
    "clf = GridSearchCV(regressor, hyperparams, scoring='neg_mean_squared_error')\n",
    "clf.fit(train_features, train_target)\n",
    "\n",
    "print(clf.best_params_)"
   ]
  },
  {
   "cell_type": "markdown",
   "metadata": {},
   "source": [
    "### LGBMRegressor"
   ]
  },
  {
   "cell_type": "markdown",
   "metadata": {},
   "source": [
    "Подберу наилучшие гиперпараметры для модели LGBMRegressor."
   ]
  },
  {
   "cell_type": "code",
   "execution_count": 40,
   "metadata": {},
   "outputs": [
    {
     "name": "stdout",
     "output_type": "stream",
     "text": [
      "[LightGBM] [Warning] min_data_in_leaf is set=20, min_child_samples=20 will be ignored. Current value: min_data_in_leaf=20\n",
      "[LightGBM] [Warning] min_data_in_leaf is set=20, min_child_samples=20 will be ignored. Current value: min_data_in_leaf=20\n",
      "[LightGBM] [Warning] min_data_in_leaf is set=20, min_child_samples=20 will be ignored. Current value: min_data_in_leaf=20\n",
      "[LightGBM] [Warning] min_data_in_leaf is set=20, min_child_samples=20 will be ignored. Current value: min_data_in_leaf=20\n",
      "[LightGBM] [Warning] min_data_in_leaf is set=20, min_child_samples=20 will be ignored. Current value: min_data_in_leaf=20\n",
      "[LightGBM] [Warning] min_data_in_leaf is set=20, min_child_samples=20 will be ignored. Current value: min_data_in_leaf=20\n",
      "[LightGBM] [Warning] min_data_in_leaf is set=20, min_child_samples=20 will be ignored. Current value: min_data_in_leaf=20\n",
      "[LightGBM] [Warning] min_data_in_leaf is set=20, min_child_samples=20 will be ignored. Current value: min_data_in_leaf=20\n",
      "[LightGBM] [Warning] min_data_in_leaf is set=20, min_child_samples=20 will be ignored. Current value: min_data_in_leaf=20\n",
      "[LightGBM] [Warning] min_data_in_leaf is set=20, min_child_samples=20 will be ignored. Current value: min_data_in_leaf=20\n",
      "[LightGBM] [Warning] min_data_in_leaf is set=100, min_child_samples=20 will be ignored. Current value: min_data_in_leaf=100\n",
      "[LightGBM] [Warning] min_data_in_leaf is set=100, min_child_samples=20 will be ignored. Current value: min_data_in_leaf=100\n",
      "[LightGBM] [Warning] min_data_in_leaf is set=100, min_child_samples=20 will be ignored. Current value: min_data_in_leaf=100\n",
      "[LightGBM] [Warning] min_data_in_leaf is set=100, min_child_samples=20 will be ignored. Current value: min_data_in_leaf=100\n",
      "[LightGBM] [Warning] min_data_in_leaf is set=100, min_child_samples=20 will be ignored. Current value: min_data_in_leaf=100\n",
      "[LightGBM] [Warning] min_data_in_leaf is set=100, min_child_samples=20 will be ignored. Current value: min_data_in_leaf=100\n",
      "[LightGBM] [Warning] min_data_in_leaf is set=100, min_child_samples=20 will be ignored. Current value: min_data_in_leaf=100\n",
      "[LightGBM] [Warning] min_data_in_leaf is set=100, min_child_samples=20 will be ignored. Current value: min_data_in_leaf=100\n",
      "[LightGBM] [Warning] min_data_in_leaf is set=100, min_child_samples=20 will be ignored. Current value: min_data_in_leaf=100\n",
      "[LightGBM] [Warning] min_data_in_leaf is set=100, min_child_samples=20 will be ignored. Current value: min_data_in_leaf=100\n",
      "[LightGBM] [Warning] min_data_in_leaf is set=20, min_child_samples=20 will be ignored. Current value: min_data_in_leaf=20\n",
      "[LightGBM] [Warning] min_data_in_leaf is set=20, min_child_samples=20 will be ignored. Current value: min_data_in_leaf=20\n",
      "[LightGBM] [Warning] min_data_in_leaf is set=20, min_child_samples=20 will be ignored. Current value: min_data_in_leaf=20\n",
      "[LightGBM] [Warning] min_data_in_leaf is set=20, min_child_samples=20 will be ignored. Current value: min_data_in_leaf=20\n",
      "[LightGBM] [Warning] min_data_in_leaf is set=20, min_child_samples=20 will be ignored. Current value: min_data_in_leaf=20\n",
      "[LightGBM] [Warning] min_data_in_leaf is set=20, min_child_samples=20 will be ignored. Current value: min_data_in_leaf=20\n",
      "[LightGBM] [Warning] min_data_in_leaf is set=20, min_child_samples=20 will be ignored. Current value: min_data_in_leaf=20\n",
      "[LightGBM] [Warning] min_data_in_leaf is set=20, min_child_samples=20 will be ignored. Current value: min_data_in_leaf=20\n",
      "[LightGBM] [Warning] min_data_in_leaf is set=20, min_child_samples=20 will be ignored. Current value: min_data_in_leaf=20\n",
      "[LightGBM] [Warning] min_data_in_leaf is set=20, min_child_samples=20 will be ignored. Current value: min_data_in_leaf=20\n",
      "[LightGBM] [Warning] min_data_in_leaf is set=100, min_child_samples=20 will be ignored. Current value: min_data_in_leaf=100\n",
      "[LightGBM] [Warning] min_data_in_leaf is set=100, min_child_samples=20 will be ignored. Current value: min_data_in_leaf=100\n",
      "[LightGBM] [Warning] min_data_in_leaf is set=100, min_child_samples=20 will be ignored. Current value: min_data_in_leaf=100\n",
      "[LightGBM] [Warning] min_data_in_leaf is set=100, min_child_samples=20 will be ignored. Current value: min_data_in_leaf=100\n",
      "[LightGBM] [Warning] min_data_in_leaf is set=100, min_child_samples=20 will be ignored. Current value: min_data_in_leaf=100\n",
      "[LightGBM] [Warning] min_data_in_leaf is set=100, min_child_samples=20 will be ignored. Current value: min_data_in_leaf=100\n",
      "[LightGBM] [Warning] min_data_in_leaf is set=100, min_child_samples=20 will be ignored. Current value: min_data_in_leaf=100\n",
      "[LightGBM] [Warning] min_data_in_leaf is set=100, min_child_samples=20 will be ignored. Current value: min_data_in_leaf=100\n",
      "[LightGBM] [Warning] min_data_in_leaf is set=100, min_child_samples=20 will be ignored. Current value: min_data_in_leaf=100\n",
      "[LightGBM] [Warning] min_data_in_leaf is set=100, min_child_samples=20 will be ignored. Current value: min_data_in_leaf=100\n",
      "[LightGBM] [Warning] min_data_in_leaf is set=20, min_child_samples=20 will be ignored. Current value: min_data_in_leaf=20\n",
      "[LightGBM] [Warning] min_data_in_leaf is set=20, min_child_samples=20 will be ignored. Current value: min_data_in_leaf=20\n",
      "[LightGBM] [Warning] min_data_in_leaf is set=20, min_child_samples=20 will be ignored. Current value: min_data_in_leaf=20\n",
      "[LightGBM] [Warning] min_data_in_leaf is set=20, min_child_samples=20 will be ignored. Current value: min_data_in_leaf=20\n",
      "[LightGBM] [Warning] min_data_in_leaf is set=20, min_child_samples=20 will be ignored. Current value: min_data_in_leaf=20\n",
      "[LightGBM] [Warning] min_data_in_leaf is set=20, min_child_samples=20 will be ignored. Current value: min_data_in_leaf=20\n",
      "[LightGBM] [Warning] min_data_in_leaf is set=20, min_child_samples=20 will be ignored. Current value: min_data_in_leaf=20\n",
      "[LightGBM] [Warning] min_data_in_leaf is set=20, min_child_samples=20 will be ignored. Current value: min_data_in_leaf=20\n",
      "[LightGBM] [Warning] min_data_in_leaf is set=20, min_child_samples=20 will be ignored. Current value: min_data_in_leaf=20\n",
      "[LightGBM] [Warning] min_data_in_leaf is set=20, min_child_samples=20 will be ignored. Current value: min_data_in_leaf=20\n",
      "[LightGBM] [Warning] min_data_in_leaf is set=100, min_child_samples=20 will be ignored. Current value: min_data_in_leaf=100\n",
      "[LightGBM] [Warning] min_data_in_leaf is set=100, min_child_samples=20 will be ignored. Current value: min_data_in_leaf=100\n",
      "[LightGBM] [Warning] min_data_in_leaf is set=100, min_child_samples=20 will be ignored. Current value: min_data_in_leaf=100\n",
      "[LightGBM] [Warning] min_data_in_leaf is set=100, min_child_samples=20 will be ignored. Current value: min_data_in_leaf=100\n",
      "[LightGBM] [Warning] min_data_in_leaf is set=100, min_child_samples=20 will be ignored. Current value: min_data_in_leaf=100\n",
      "[LightGBM] [Warning] min_data_in_leaf is set=100, min_child_samples=20 will be ignored. Current value: min_data_in_leaf=100\n",
      "[LightGBM] [Warning] min_data_in_leaf is set=100, min_child_samples=20 will be ignored. Current value: min_data_in_leaf=100\n",
      "[LightGBM] [Warning] min_data_in_leaf is set=100, min_child_samples=20 will be ignored. Current value: min_data_in_leaf=100\n",
      "[LightGBM] [Warning] min_data_in_leaf is set=100, min_child_samples=20 will be ignored. Current value: min_data_in_leaf=100\n",
      "[LightGBM] [Warning] min_data_in_leaf is set=100, min_child_samples=20 will be ignored. Current value: min_data_in_leaf=100\n",
      "[LightGBM] [Warning] min_data_in_leaf is set=20, min_child_samples=20 will be ignored. Current value: min_data_in_leaf=20\n",
      "[LightGBM] [Warning] min_data_in_leaf is set=20, min_child_samples=20 will be ignored. Current value: min_data_in_leaf=20\n",
      "[LightGBM] [Warning] min_data_in_leaf is set=20, min_child_samples=20 will be ignored. Current value: min_data_in_leaf=20\n",
      "[LightGBM] [Warning] min_data_in_leaf is set=20, min_child_samples=20 will be ignored. Current value: min_data_in_leaf=20\n",
      "[LightGBM] [Warning] min_data_in_leaf is set=20, min_child_samples=20 will be ignored. Current value: min_data_in_leaf=20\n",
      "[LightGBM] [Warning] min_data_in_leaf is set=20, min_child_samples=20 will be ignored. Current value: min_data_in_leaf=20\n",
      "[LightGBM] [Warning] min_data_in_leaf is set=20, min_child_samples=20 will be ignored. Current value: min_data_in_leaf=20\n",
      "[LightGBM] [Warning] min_data_in_leaf is set=20, min_child_samples=20 will be ignored. Current value: min_data_in_leaf=20\n",
      "[LightGBM] [Warning] min_data_in_leaf is set=20, min_child_samples=20 will be ignored. Current value: min_data_in_leaf=20\n",
      "[LightGBM] [Warning] min_data_in_leaf is set=20, min_child_samples=20 will be ignored. Current value: min_data_in_leaf=20\n",
      "[LightGBM] [Warning] min_data_in_leaf is set=100, min_child_samples=20 will be ignored. Current value: min_data_in_leaf=100\n",
      "[LightGBM] [Warning] min_data_in_leaf is set=100, min_child_samples=20 will be ignored. Current value: min_data_in_leaf=100\n",
      "[LightGBM] [Warning] min_data_in_leaf is set=100, min_child_samples=20 will be ignored. Current value: min_data_in_leaf=100\n",
      "[LightGBM] [Warning] min_data_in_leaf is set=100, min_child_samples=20 will be ignored. Current value: min_data_in_leaf=100\n",
      "[LightGBM] [Warning] min_data_in_leaf is set=100, min_child_samples=20 will be ignored. Current value: min_data_in_leaf=100\n",
      "[LightGBM] [Warning] min_data_in_leaf is set=100, min_child_samples=20 will be ignored. Current value: min_data_in_leaf=100\n",
      "[LightGBM] [Warning] min_data_in_leaf is set=100, min_child_samples=20 will be ignored. Current value: min_data_in_leaf=100\n",
      "[LightGBM] [Warning] min_data_in_leaf is set=100, min_child_samples=20 will be ignored. Current value: min_data_in_leaf=100\n",
      "[LightGBM] [Warning] min_data_in_leaf is set=100, min_child_samples=20 will be ignored. Current value: min_data_in_leaf=100\n",
      "[LightGBM] [Warning] min_data_in_leaf is set=100, min_child_samples=20 will be ignored. Current value: min_data_in_leaf=100\n",
      "[LightGBM] [Warning] min_data_in_leaf is set=20, min_child_samples=20 will be ignored. Current value: min_data_in_leaf=20\n",
      "[LightGBM] [Warning] min_data_in_leaf is set=20, min_child_samples=20 will be ignored. Current value: min_data_in_leaf=20\n",
      "[LightGBM] [Warning] min_data_in_leaf is set=20, min_child_samples=20 will be ignored. Current value: min_data_in_leaf=20\n",
      "[LightGBM] [Warning] min_data_in_leaf is set=20, min_child_samples=20 will be ignored. Current value: min_data_in_leaf=20\n",
      "[LightGBM] [Warning] min_data_in_leaf is set=20, min_child_samples=20 will be ignored. Current value: min_data_in_leaf=20\n",
      "[LightGBM] [Warning] min_data_in_leaf is set=20, min_child_samples=20 will be ignored. Current value: min_data_in_leaf=20\n",
      "[LightGBM] [Warning] min_data_in_leaf is set=20, min_child_samples=20 will be ignored. Current value: min_data_in_leaf=20\n",
      "[LightGBM] [Warning] min_data_in_leaf is set=20, min_child_samples=20 will be ignored. Current value: min_data_in_leaf=20\n",
      "[LightGBM] [Warning] min_data_in_leaf is set=20, min_child_samples=20 will be ignored. Current value: min_data_in_leaf=20\n",
      "[LightGBM] [Warning] min_data_in_leaf is set=20, min_child_samples=20 will be ignored. Current value: min_data_in_leaf=20\n",
      "[LightGBM] [Warning] min_data_in_leaf is set=100, min_child_samples=20 will be ignored. Current value: min_data_in_leaf=100\n",
      "[LightGBM] [Warning] min_data_in_leaf is set=100, min_child_samples=20 will be ignored. Current value: min_data_in_leaf=100\n",
      "[LightGBM] [Warning] min_data_in_leaf is set=100, min_child_samples=20 will be ignored. Current value: min_data_in_leaf=100\n",
      "[LightGBM] [Warning] min_data_in_leaf is set=100, min_child_samples=20 will be ignored. Current value: min_data_in_leaf=100\n",
      "[LightGBM] [Warning] min_data_in_leaf is set=100, min_child_samples=20 will be ignored. Current value: min_data_in_leaf=100\n",
      "[LightGBM] [Warning] min_data_in_leaf is set=100, min_child_samples=20 will be ignored. Current value: min_data_in_leaf=100\n",
      "[LightGBM] [Warning] min_data_in_leaf is set=100, min_child_samples=20 will be ignored. Current value: min_data_in_leaf=100\n",
      "[LightGBM] [Warning] min_data_in_leaf is set=100, min_child_samples=20 will be ignored. Current value: min_data_in_leaf=100\n",
      "[LightGBM] [Warning] min_data_in_leaf is set=100, min_child_samples=20 will be ignored. Current value: min_data_in_leaf=100\n",
      "[LightGBM] [Warning] min_data_in_leaf is set=100, min_child_samples=20 will be ignored. Current value: min_data_in_leaf=100\n",
      "[LightGBM] [Warning] min_data_in_leaf is set=20, min_child_samples=20 will be ignored. Current value: min_data_in_leaf=20\n",
      "[LightGBM] [Warning] min_data_in_leaf is set=20, min_child_samples=20 will be ignored. Current value: min_data_in_leaf=20\n",
      "[LightGBM] [Warning] min_data_in_leaf is set=20, min_child_samples=20 will be ignored. Current value: min_data_in_leaf=20\n",
      "[LightGBM] [Warning] min_data_in_leaf is set=20, min_child_samples=20 will be ignored. Current value: min_data_in_leaf=20\n",
      "[LightGBM] [Warning] min_data_in_leaf is set=20, min_child_samples=20 will be ignored. Current value: min_data_in_leaf=20\n",
      "[LightGBM] [Warning] min_data_in_leaf is set=20, min_child_samples=20 will be ignored. Current value: min_data_in_leaf=20\n",
      "[LightGBM] [Warning] min_data_in_leaf is set=20, min_child_samples=20 will be ignored. Current value: min_data_in_leaf=20\n",
      "[LightGBM] [Warning] min_data_in_leaf is set=20, min_child_samples=20 will be ignored. Current value: min_data_in_leaf=20\n",
      "[LightGBM] [Warning] min_data_in_leaf is set=20, min_child_samples=20 will be ignored. Current value: min_data_in_leaf=20\n",
      "[LightGBM] [Warning] min_data_in_leaf is set=20, min_child_samples=20 will be ignored. Current value: min_data_in_leaf=20\n",
      "[LightGBM] [Warning] min_data_in_leaf is set=100, min_child_samples=20 will be ignored. Current value: min_data_in_leaf=100\n",
      "[LightGBM] [Warning] min_data_in_leaf is set=100, min_child_samples=20 will be ignored. Current value: min_data_in_leaf=100\n",
      "[LightGBM] [Warning] min_data_in_leaf is set=100, min_child_samples=20 will be ignored. Current value: min_data_in_leaf=100\n",
      "[LightGBM] [Warning] min_data_in_leaf is set=100, min_child_samples=20 will be ignored. Current value: min_data_in_leaf=100\n",
      "[LightGBM] [Warning] min_data_in_leaf is set=100, min_child_samples=20 will be ignored. Current value: min_data_in_leaf=100\n",
      "[LightGBM] [Warning] min_data_in_leaf is set=100, min_child_samples=20 will be ignored. Current value: min_data_in_leaf=100\n",
      "[LightGBM] [Warning] min_data_in_leaf is set=100, min_child_samples=20 will be ignored. Current value: min_data_in_leaf=100\n",
      "[LightGBM] [Warning] min_data_in_leaf is set=100, min_child_samples=20 will be ignored. Current value: min_data_in_leaf=100\n",
      "[LightGBM] [Warning] min_data_in_leaf is set=100, min_child_samples=20 will be ignored. Current value: min_data_in_leaf=100\n",
      "[LightGBM] [Warning] min_data_in_leaf is set=100, min_child_samples=20 will be ignored. Current value: min_data_in_leaf=100\n",
      "[LightGBM] [Warning] min_data_in_leaf is set=20, min_child_samples=20 will be ignored. Current value: min_data_in_leaf=20\n",
      "{'learning_rate': 0.1, 'max_depth': 12, 'min_data_in_leaf': 20, 'num_leaves': 200, 'random_state': 12345}\n",
      "Wall time: 1min 14s\n"
     ]
    }
   ],
   "source": [
    "%%time\n",
    "\n",
    "regressor = LGBMRegressor(categorical_feature=['VehicleType','FuelType','Brand','Model']) \n",
    "hyperparams = [{'num_leaves':[20, 200], \n",
    "                'learning_rate':[0.01, 0.1, 0.3],\n",
    "                'min_data_in_leaf':[20, 100],\n",
    "                'max_depth': [3, 12],\n",
    "                'random_state':[12345]}]\n",
    "\n",
    "clf = GridSearchCV(regressor, hyperparams, scoring='neg_mean_squared_error')\n",
    "clf.fit(train_features, train_target)\n",
    "\n",
    "print(clf.best_params_)"
   ]
  },
  {
   "cell_type": "markdown",
   "metadata": {},
   "source": [
    "### Вывод"
   ]
  },
  {
   "cell_type": "markdown",
   "metadata": {},
   "source": [
    "Для всех моделей получил наилучшие показатели гиперпараметров."
   ]
  },
  {
   "cell_type": "markdown",
   "metadata": {},
   "source": [
    "## Анализ моделей"
   ]
  },
  {
   "cell_type": "markdown",
   "metadata": {},
   "source": [
    "### Линейная регрессия"
   ]
  },
  {
   "cell_type": "markdown",
   "metadata": {},
   "source": [
    "Вычислю RMSE на валидационной выборке."
   ]
  },
  {
   "cell_type": "code",
   "execution_count": 44,
   "metadata": {},
   "outputs": [
    {
     "name": "stdout",
     "output_type": "stream",
     "text": [
      "2778.5462339199407\n",
      "Wall time: 3.94 s\n"
     ]
    }
   ],
   "source": [
    "%%time\n",
    "\n",
    "model_lin = LinearRegression(copy_X=True, fit_intercept=True, normalize=False)\n",
    "model_lin.fit(train_features_lin, train_target_lin)\n",
    "predictions_lin = model_lin.predict(valid_features_lin)\n",
    "RMSE_lin = mean_squared_error(valid_target_lin, predictions_lin) **0.5  \n",
    "print(RMSE_lin)"
   ]
  },
  {
   "cell_type": "markdown",
   "metadata": {},
   "source": [
    "### Ridge"
   ]
  },
  {
   "cell_type": "markdown",
   "metadata": {},
   "source": [
    "Вычислю RMSE на валидационной выборке."
   ]
  },
  {
   "cell_type": "code",
   "execution_count": 42,
   "metadata": {},
   "outputs": [
    {
     "name": "stdout",
     "output_type": "stream",
     "text": [
      "2778.969324707698\n",
      "Wall time: 2.66 s\n"
     ]
    }
   ],
   "source": [
    "%%time\n",
    "\n",
    "model_rid = Ridge(alpha=0.001, fit_intercept=True, normalize=True, solver='lsqr')\n",
    "model_rid.fit(train_features_lin, train_target_lin)\n",
    "predictions_rid = model_rid.predict(valid_features_lin)\n",
    "RMSE_rid = mean_squared_error(valid_target_lin, predictions_rid) **0.5  \n",
    "print(RMSE_rid)"
   ]
  },
  {
   "cell_type": "markdown",
   "metadata": {},
   "source": [
    "### DecisionTreeClassifier"
   ]
  },
  {
   "cell_type": "markdown",
   "metadata": {},
   "source": [
    "Вычислю RMSE на валидационной выборке."
   ]
  },
  {
   "cell_type": "code",
   "execution_count": 45,
   "metadata": {},
   "outputs": [
    {
     "name": "stdout",
     "output_type": "stream",
     "text": [
      "2969.490197198164\n",
      "Wall time: 7.19 s\n"
     ]
    }
   ],
   "source": [
    "%%time\n",
    "\n",
    "model_dec = DecisionTreeClassifier(ccp_alpha=0.001, criterion='entropy', max_depth=5, max_leaf_nodes=19, random_state=12345)\n",
    "model_dec.fit(train_features_lin, train_target_lin)\n",
    "predictions_dec = model_dec.predict(valid_features_lin)\n",
    "RMSE_dec = mean_squared_error(valid_target_lin, predictions_dec) **0.5  \n",
    "print(RMSE_dec)"
   ]
  },
  {
   "cell_type": "markdown",
   "metadata": {},
   "source": [
    "### CatBoostRegressor"
   ]
  },
  {
   "cell_type": "markdown",
   "metadata": {},
   "source": [
    "Вычислю RMSE на валидационной выборке."
   ]
  },
  {
   "cell_type": "code",
   "execution_count": 46,
   "metadata": {},
   "outputs": [
    {
     "name": "stdout",
     "output_type": "stream",
     "text": [
      "1711.6540021468334\n",
      "Wall time: 56.7 s\n"
     ]
    }
   ],
   "source": [
    "%%time\n",
    "\n",
    "model_cat = CatBoostRegressor(cat_features=['VehicleType','FuelType','Brand','Model'],\n",
    "                                   depth=4,\n",
    "                                   l2_leaf_reg=3,\n",
    "                                   learning_rate=0.5,\n",
    "                                   verbose=False,\n",
    "                                   random_state=12345)\n",
    "model_cat.fit(train_features, train_target)\n",
    "predictions_cat = model_cat.predict(valid_features)\n",
    "RMSE_cat = mean_squared_error(valid_target, predictions_cat) **0.5  \n",
    "print(RMSE_cat)"
   ]
  },
  {
   "cell_type": "markdown",
   "metadata": {},
   "source": [
    "### LGBMRegressor"
   ]
  },
  {
   "cell_type": "markdown",
   "metadata": {},
   "source": [
    "Вычислю RMSE на валидационной выборке."
   ]
  },
  {
   "cell_type": "code",
   "execution_count": 47,
   "metadata": {},
   "outputs": [
    {
     "name": "stdout",
     "output_type": "stream",
     "text": [
      "1649.9820905144854\n",
      "Wall time: 2.58 s\n"
     ]
    }
   ],
   "source": [
    "%%time\n",
    "\n",
    "model_light = LGBMRegressor(categorical_feature=['VehicleType','FuelType','Brand','Model'],\n",
    "                                   max_depth=12,\n",
    "                                   min_data_in_leaf=20,\n",
    "                                   learning_rate=0.1,\n",
    "                                   num_leaves=200,\n",
    "                                   random_state=12345)\n",
    "model_light.fit(train_features, train_target)\n",
    "predictions_light = model_light.predict(valid_features)\n",
    "RMSE_light = mean_squared_error(valid_target, predictions_light) **0.5  \n",
    "print(RMSE_light)"
   ]
  },
  {
   "cell_type": "markdown",
   "metadata": {},
   "source": [
    "Сведу полученные значения метрики RMSE в табллицу."
   ]
  },
  {
   "cell_type": "code",
   "execution_count": 48,
   "metadata": {},
   "outputs": [
    {
     "name": "stdout",
     "output_type": "stream",
     "text": [
      "                    Model     RMSE\n",
      "4           LGBMRegressor  1649.98\n",
      "3       CatBoostRegressor  1711.65\n",
      "0        LinearRegression  2778.55\n",
      "1                   Ridge  2778.97\n",
      "2  DecisionTreeClassifier  2969.49\n"
     ]
    }
   ],
   "source": [
    "final_RMSE = {'Model': ['LinearRegression', 'Ridge', 'DecisionTreeClassifier', 'CatBoostRegressor', 'LGBMRegressor'],\n",
    "              'RMSE': [2778.55, 2778.97, 2969.49, 1711.65, 1649.98]} \n",
    " \n",
    "final_RMSE_df = pd.DataFrame(final_RMSE) \n",
    "  \n",
    "print(final_RMSE_df.sort_values(by='RMSE', ascending=True)) "
   ]
  },
  {
   "cell_type": "markdown",
   "metadata": {},
   "source": [
    "### Вывод"
   ]
  },
  {
   "cell_type": "markdown",
   "metadata": {},
   "source": [
    "После анализа модели на тестовой выборке наилучшей признана модель LGBMRegressor (RMSE=1649.98), немного хуже модель CatBoostRegressor (RMSE=1711.65), наихудшие модели - DecisionTreeClassifier (RMSE=2969.49), LinearRegression (RMSE=2778.55), Ridge (RMSE=2778.97)."
   ]
  },
  {
   "cell_type": "markdown",
   "metadata": {},
   "source": [
    "## Общий вывод"
   ]
  },
  {
   "cell_type": "markdown",
   "metadata": {},
   "source": [
    "В ходе проекта я провел подготовку данных по объявлениям поддержаных автомобилей.\n",
    "\n",
    "Обучил несколько моделей, среди которых наилучший результат показала модель LGBMRegressor. CatBoostRegressor показал результат чуть хуже но модель при этом обучалась на 40 минут дольше.\n",
    "\n",
    "Считаю, что заказчику необходимо рекомендовать модель LGBMRegressor со следующими гиперпараметрами:\n",
    "- max_depth=12,\n",
    "- min_data_in_leaf=20,\n",
    "- learning_rate=0.1,\n",
    "- num_leaves=200,\n",
    "- random_state=12345"
   ]
  }
 ],
 "metadata": {
  "ExecuteTimeLog": [
   {
    "duration": 377,
    "start_time": "2022-05-21T18:32:14.882Z"
   },
   {
    "duration": 4171,
    "start_time": "2022-05-21T18:33:47.754Z"
   },
   {
    "duration": 3,
    "start_time": "2022-05-21T18:37:37.658Z"
   },
   {
    "duration": 76,
    "start_time": "2022-05-21T18:38:08.124Z"
   },
   {
    "duration": 878,
    "start_time": "2022-05-21T18:38:11.413Z"
   },
   {
    "duration": 3,
    "start_time": "2022-05-21T18:38:13.700Z"
   },
   {
    "duration": 3108,
    "start_time": "2022-05-21T18:38:17.265Z"
   },
   {
    "duration": 6,
    "start_time": "2022-05-21T18:59:14.722Z"
   },
   {
    "duration": 34,
    "start_time": "2022-05-21T18:59:20.721Z"
   },
   {
    "duration": 35,
    "start_time": "2022-05-21T18:59:38.861Z"
   },
   {
    "duration": 6,
    "start_time": "2022-05-21T18:59:57.592Z"
   },
   {
    "duration": 9,
    "start_time": "2022-05-21T19:02:12.865Z"
   },
   {
    "duration": 3,
    "start_time": "2022-05-21T19:02:38.173Z"
   },
   {
    "duration": 20,
    "start_time": "2022-05-21T19:02:46.497Z"
   },
   {
    "duration": 359,
    "start_time": "2022-05-21T19:03:39.495Z"
   },
   {
    "duration": 3,
    "start_time": "2022-05-21T19:06:04.380Z"
   },
   {
    "duration": 905,
    "start_time": "2022-05-21T19:06:05.024Z"
   },
   {
    "duration": 3,
    "start_time": "2022-05-21T19:06:08.312Z"
   },
   {
    "duration": 36,
    "start_time": "2022-05-21T19:06:10.688Z"
   },
   {
    "duration": 3181,
    "start_time": "2022-05-21T19:06:24.765Z"
   },
   {
    "duration": 81,
    "start_time": "2022-05-21T19:53:14.992Z"
   },
   {
    "duration": 7,
    "start_time": "2022-05-21T19:53:44.226Z"
   },
   {
    "duration": 55,
    "start_time": "2022-05-21T19:54:17.163Z"
   },
   {
    "duration": 8,
    "start_time": "2022-05-21T19:54:27.990Z"
   },
   {
    "duration": 385,
    "start_time": "2022-05-21T19:54:45.110Z"
   },
   {
    "duration": 863,
    "start_time": "2022-05-21T19:54:46.179Z"
   },
   {
    "duration": 51,
    "start_time": "2022-05-21T19:54:48.983Z"
   },
   {
    "duration": 64,
    "start_time": "2022-05-21T19:55:18.881Z"
   },
   {
    "duration": 370,
    "start_time": "2022-05-21T19:55:27.786Z"
   },
   {
    "duration": 851,
    "start_time": "2022-05-21T19:55:29.087Z"
   },
   {
    "duration": 59,
    "start_time": "2022-05-21T19:55:31.428Z"
   },
   {
    "duration": 4,
    "start_time": "2022-05-21T19:56:10.404Z"
   },
   {
    "duration": 1521,
    "start_time": "2022-05-21T19:56:12.404Z"
   },
   {
    "duration": 480,
    "start_time": "2022-05-21T20:06:13.968Z"
   },
   {
    "duration": 22,
    "start_time": "2022-05-21T20:06:31.587Z"
   },
   {
    "duration": 13,
    "start_time": "2022-05-21T20:06:56.803Z"
   },
   {
    "duration": 16,
    "start_time": "2022-05-21T20:10:40.926Z"
   },
   {
    "duration": 724,
    "start_time": "2022-05-21T20:25:14.371Z"
   },
   {
    "duration": 535,
    "start_time": "2022-05-21T20:40:40.597Z"
   },
   {
    "duration": 150,
    "start_time": "2022-05-21T20:40:53.352Z"
   },
   {
    "duration": 194,
    "start_time": "2022-05-21T20:41:33.067Z"
   },
   {
    "duration": 249,
    "start_time": "2022-05-21T20:43:08.413Z"
   },
   {
    "duration": 25,
    "start_time": "2022-05-21T20:45:22.070Z"
   },
   {
    "duration": 148,
    "start_time": "2022-05-21T20:45:35.170Z"
   },
   {
    "duration": 22,
    "start_time": "2022-05-21T20:48:45.737Z"
   },
   {
    "duration": 22,
    "start_time": "2022-05-21T20:59:46.720Z"
   },
   {
    "duration": 5,
    "start_time": "2022-05-21T21:00:08.769Z"
   },
   {
    "duration": 298,
    "start_time": "2022-05-21T21:07:12.630Z"
   },
   {
    "duration": 3,
    "start_time": "2022-05-21T21:47:22.840Z"
   },
   {
    "duration": 3,
    "start_time": "2022-05-21T21:50:02.885Z"
   },
   {
    "duration": 16865,
    "start_time": "2022-05-21T21:50:45.294Z"
   },
   {
    "duration": 988,
    "start_time": "2022-05-22T10:14:03.874Z"
   },
   {
    "duration": 3081,
    "start_time": "2022-05-22T10:14:06.905Z"
   },
   {
    "duration": 57,
    "start_time": "2022-05-22T10:14:13.036Z"
   },
   {
    "duration": 5,
    "start_time": "2022-05-22T10:14:15.721Z"
   },
   {
    "duration": 1838,
    "start_time": "2022-05-22T10:14:23.881Z"
   },
   {
    "duration": 250,
    "start_time": "2022-05-22T10:14:28.467Z"
   },
   {
    "duration": 290,
    "start_time": "2022-05-22T10:14:31.097Z"
   },
   {
    "duration": 4,
    "start_time": "2022-05-22T10:14:34.881Z"
   },
   {
    "duration": 18540,
    "start_time": "2022-05-22T10:14:36.739Z"
   },
   {
    "duration": 28,
    "start_time": "2022-05-22T10:15:16.818Z"
   },
   {
    "duration": 83,
    "start_time": "2022-05-22T11:00:10.368Z"
   },
   {
    "duration": 82,
    "start_time": "2022-05-22T11:00:28.381Z"
   },
   {
    "duration": 876,
    "start_time": "2022-05-24T18:27:51.005Z"
   },
   {
    "duration": 1321,
    "start_time": "2022-05-24T18:27:53.645Z"
   },
   {
    "duration": 65,
    "start_time": "2022-05-24T18:27:57.589Z"
   },
   {
    "duration": 86,
    "start_time": "2022-05-24T18:28:28.678Z"
   },
   {
    "duration": 751,
    "start_time": "2022-05-24T18:28:44.956Z"
   },
   {
    "duration": 1006,
    "start_time": "2022-05-24T18:28:46.916Z"
   },
   {
    "duration": 64,
    "start_time": "2022-05-24T18:28:50.164Z"
   },
   {
    "duration": 4,
    "start_time": "2022-05-24T18:28:53.548Z"
   },
   {
    "duration": 1822,
    "start_time": "2022-05-24T18:28:55.277Z"
   },
   {
    "duration": 250,
    "start_time": "2022-05-24T18:28:59.749Z"
   },
   {
    "duration": 314,
    "start_time": "2022-05-24T18:29:02.348Z"
   },
   {
    "duration": 5,
    "start_time": "2022-05-24T18:29:04.524Z"
   },
   {
    "duration": 4,
    "start_time": "2022-05-24T18:29:15.428Z"
   },
   {
    "duration": 20549,
    "start_time": "2022-05-24T18:29:17.346Z"
   },
   {
    "duration": 83,
    "start_time": "2022-05-24T18:29:50.910Z"
   },
   {
    "duration": 4,
    "start_time": "2022-05-24T18:42:13.204Z"
   },
   {
    "duration": 116,
    "start_time": "2022-05-24T18:43:31.556Z"
   },
   {
    "duration": 5,
    "start_time": "2022-05-24T18:46:51.247Z"
   },
   {
    "duration": 10,
    "start_time": "2022-05-24T18:46:55.173Z"
   },
   {
    "duration": 3,
    "start_time": "2022-05-24T18:47:36.749Z"
   },
   {
    "duration": 16918,
    "start_time": "2022-05-24T18:47:37.797Z"
   },
   {
    "duration": 59,
    "start_time": "2022-05-24T18:47:55.686Z"
   },
   {
    "duration": 4,
    "start_time": "2022-05-24T18:47:57.187Z"
   },
   {
    "duration": 5,
    "start_time": "2022-05-24T18:48:05.414Z"
   },
   {
    "duration": 4,
    "start_time": "2022-05-24T18:48:07.264Z"
   },
   {
    "duration": 10,
    "start_time": "2022-05-24T18:48:08.269Z"
   },
   {
    "duration": 715,
    "start_time": "2022-05-24T18:48:18.093Z"
   },
   {
    "duration": 966,
    "start_time": "2022-05-24T18:48:19.476Z"
   },
   {
    "duration": 70,
    "start_time": "2022-05-24T18:48:21.973Z"
   },
   {
    "duration": 4,
    "start_time": "2022-05-24T18:48:24.333Z"
   },
   {
    "duration": 1601,
    "start_time": "2022-05-24T18:48:26.708Z"
   },
   {
    "duration": 248,
    "start_time": "2022-05-24T18:48:31.917Z"
   },
   {
    "duration": 280,
    "start_time": "2022-05-24T18:48:33.686Z"
   },
   {
    "duration": 3,
    "start_time": "2022-05-24T18:48:35.365Z"
   },
   {
    "duration": 17726,
    "start_time": "2022-05-24T18:48:36.621Z"
   },
   {
    "duration": 83,
    "start_time": "2022-05-24T18:48:54.350Z"
   },
   {
    "duration": 6,
    "start_time": "2022-05-24T18:48:54.434Z"
   },
   {
    "duration": 132,
    "start_time": "2022-05-24T18:48:54.442Z"
   },
   {
    "duration": 3,
    "start_time": "2022-05-24T19:42:06.612Z"
   },
   {
    "duration": 12,
    "start_time": "2022-05-24T19:42:08.411Z"
   },
   {
    "duration": 851,
    "start_time": "2022-05-25T10:28:58.812Z"
   },
   {
    "duration": 3139,
    "start_time": "2022-05-25T10:29:00.476Z"
   },
   {
    "duration": 56,
    "start_time": "2022-05-25T10:29:06.003Z"
   },
   {
    "duration": 4,
    "start_time": "2022-05-25T10:29:07.395Z"
   },
   {
    "duration": 1799,
    "start_time": "2022-05-25T10:29:08.860Z"
   },
   {
    "duration": 278,
    "start_time": "2022-05-25T10:29:12.736Z"
   },
   {
    "duration": 277,
    "start_time": "2022-05-25T10:29:15.428Z"
   },
   {
    "duration": 2,
    "start_time": "2022-05-25T10:29:17.124Z"
   },
   {
    "duration": 17685,
    "start_time": "2022-05-25T10:29:19.059Z"
   },
   {
    "duration": 80,
    "start_time": "2022-05-25T10:29:36.746Z"
   },
   {
    "duration": 625,
    "start_time": "2022-05-25T17:47:28.036Z"
   },
   {
    "duration": 1103,
    "start_time": "2022-05-25T17:47:30.948Z"
   },
   {
    "duration": 63,
    "start_time": "2022-05-25T17:47:35.092Z"
   },
   {
    "duration": 4,
    "start_time": "2022-05-25T17:47:37.835Z"
   },
   {
    "duration": 1744,
    "start_time": "2022-05-25T17:47:40.444Z"
   },
   {
    "duration": 232,
    "start_time": "2022-05-25T17:47:44.996Z"
   },
   {
    "duration": 280,
    "start_time": "2022-05-25T17:47:47.308Z"
   },
   {
    "duration": 2,
    "start_time": "2022-05-25T17:47:48.740Z"
   },
   {
    "duration": 20227,
    "start_time": "2022-05-25T17:47:50.705Z"
   },
   {
    "duration": 82,
    "start_time": "2022-05-25T17:58:00.632Z"
   },
   {
    "duration": 656,
    "start_time": "2022-05-25T18:06:05.116Z"
   },
   {
    "duration": 7,
    "start_time": "2022-05-25T18:06:28.053Z"
   },
   {
    "duration": 4,
    "start_time": "2022-05-25T18:07:42.208Z"
   },
   {
    "duration": 919,
    "start_time": "2022-05-25T18:11:53.184Z"
   },
   {
    "duration": 621,
    "start_time": "2022-05-25T18:12:11.728Z"
   },
   {
    "duration": 11,
    "start_time": "2022-05-25T18:12:36.401Z"
   },
   {
    "duration": 9,
    "start_time": "2022-05-25T18:12:49.304Z"
   },
   {
    "duration": 22,
    "start_time": "2022-05-25T18:12:52.874Z"
   },
   {
    "duration": 4,
    "start_time": "2022-05-25T19:03:15.699Z"
   },
   {
    "duration": 13,
    "start_time": "2022-05-25T19:07:03.141Z"
   },
   {
    "duration": 4,
    "start_time": "2022-05-25T19:11:02.512Z"
   },
   {
    "duration": 8,
    "start_time": "2022-05-25T19:11:35.807Z"
   },
   {
    "duration": 478,
    "start_time": "2022-05-25T19:12:50.727Z"
   },
   {
    "duration": 10,
    "start_time": "2022-05-25T19:13:11.567Z"
   },
   {
    "duration": 44,
    "start_time": "2022-05-25T19:13:59.656Z"
   },
   {
    "duration": 111,
    "start_time": "2022-05-25T19:14:05.364Z"
   },
   {
    "duration": 38,
    "start_time": "2022-05-25T19:14:16.143Z"
   },
   {
    "duration": 5,
    "start_time": "2022-05-25T19:14:20.287Z"
   },
   {
    "duration": 633,
    "start_time": "2022-05-25T19:14:28.935Z"
   },
   {
    "duration": 520,
    "start_time": "2022-05-25T19:14:45.465Z"
   },
   {
    "duration": 47,
    "start_time": "2022-05-25T19:15:27.882Z"
   },
   {
    "duration": 8,
    "start_time": "2022-05-25T19:16:30.989Z"
   },
   {
    "duration": 50,
    "start_time": "2022-05-25T19:17:19.452Z"
   },
   {
    "duration": 68,
    "start_time": "2022-05-25T19:17:57.539Z"
   },
   {
    "duration": 6,
    "start_time": "2022-05-25T19:20:34.077Z"
   },
   {
    "duration": 10,
    "start_time": "2022-05-25T19:22:18.587Z"
   },
   {
    "duration": 12,
    "start_time": "2022-05-25T19:22:55.206Z"
   },
   {
    "duration": 660,
    "start_time": "2022-05-25T19:23:03.628Z"
   },
   {
    "duration": 570,
    "start_time": "2022-05-25T19:23:29.167Z"
   },
   {
    "duration": 591,
    "start_time": "2022-05-25T19:23:41.326Z"
   },
   {
    "duration": 26,
    "start_time": "2022-05-25T19:23:47.372Z"
   },
   {
    "duration": 9,
    "start_time": "2022-05-25T19:23:50.848Z"
   },
   {
    "duration": 13,
    "start_time": "2022-05-25T19:24:29.687Z"
   },
   {
    "duration": 5,
    "start_time": "2022-05-25T19:25:32.311Z"
   },
   {
    "duration": 3,
    "start_time": "2022-05-25T19:27:26.449Z"
   },
   {
    "duration": 24,
    "start_time": "2022-05-25T19:27:51.864Z"
   },
   {
    "duration": 3,
    "start_time": "2022-05-25T19:28:33.081Z"
   },
   {
    "duration": 22,
    "start_time": "2022-05-25T19:28:34.969Z"
   },
   {
    "duration": 10,
    "start_time": "2022-05-25T19:30:02.273Z"
   },
   {
    "duration": 677,
    "start_time": "2022-05-25T19:30:35.821Z"
   },
   {
    "duration": 998,
    "start_time": "2022-05-25T19:30:38.371Z"
   },
   {
    "duration": 68,
    "start_time": "2022-05-25T19:30:41.388Z"
   },
   {
    "duration": 11,
    "start_time": "2022-05-25T19:30:42.523Z"
   },
   {
    "duration": 1664,
    "start_time": "2022-05-25T19:30:44.700Z"
   },
   {
    "duration": 241,
    "start_time": "2022-05-25T19:30:47.788Z"
   },
   {
    "duration": 284,
    "start_time": "2022-05-25T19:30:49.756Z"
   },
   {
    "duration": 3,
    "start_time": "2022-05-25T19:30:51.243Z"
   },
   {
    "duration": 17619,
    "start_time": "2022-05-25T19:30:53.500Z"
   },
   {
    "duration": 73,
    "start_time": "2022-05-25T19:31:11.121Z"
   },
   {
    "duration": 3,
    "start_time": "2022-05-25T19:31:46.429Z"
   },
   {
    "duration": 77,
    "start_time": "2022-05-25T19:31:49.186Z"
   },
   {
    "duration": 12,
    "start_time": "2022-05-25T19:31:59.710Z"
   },
   {
    "duration": 3,
    "start_time": "2022-05-25T19:32:09.236Z"
   },
   {
    "duration": 17,
    "start_time": "2022-05-25T19:32:12.756Z"
   },
   {
    "duration": 3,
    "start_time": "2022-05-25T19:33:29.750Z"
   },
   {
    "duration": 15,
    "start_time": "2022-05-25T19:33:32.348Z"
   },
   {
    "duration": 4,
    "start_time": "2022-05-25T19:37:27.263Z"
   },
   {
    "duration": 13,
    "start_time": "2022-05-25T19:37:29.647Z"
   },
   {
    "duration": 5,
    "start_time": "2022-05-25T19:37:50.476Z"
   },
   {
    "duration": 15,
    "start_time": "2022-05-25T19:37:51.960Z"
   },
   {
    "duration": 4,
    "start_time": "2022-05-25T19:38:26.263Z"
   },
   {
    "duration": 17,
    "start_time": "2022-05-25T19:38:27.703Z"
   },
   {
    "duration": 3,
    "start_time": "2022-05-25T19:40:15.704Z"
   },
   {
    "duration": 13,
    "start_time": "2022-05-25T19:40:16.848Z"
   },
   {
    "duration": 4,
    "start_time": "2022-05-25T19:45:18.514Z"
   },
   {
    "duration": 13,
    "start_time": "2022-05-25T19:45:19.867Z"
   },
   {
    "duration": 4,
    "start_time": "2022-05-25T19:46:49.207Z"
   },
   {
    "duration": 466,
    "start_time": "2022-05-25T19:46:50.331Z"
   },
   {
    "duration": 4,
    "start_time": "2022-05-25T19:48:43.820Z"
   },
   {
    "duration": 16,
    "start_time": "2022-05-25T19:48:45.885Z"
   },
   {
    "duration": 11,
    "start_time": "2022-05-25T19:50:18.655Z"
   },
   {
    "duration": 5,
    "start_time": "2022-05-25T19:50:29.645Z"
   },
   {
    "duration": 9,
    "start_time": "2022-05-25T19:50:36.085Z"
   },
   {
    "duration": 8,
    "start_time": "2022-05-25T19:51:24.053Z"
   },
   {
    "duration": 3,
    "start_time": "2022-05-25T19:52:25.181Z"
   },
   {
    "duration": 12,
    "start_time": "2022-05-25T19:52:27.038Z"
   },
   {
    "duration": 8,
    "start_time": "2022-05-25T19:54:26.872Z"
   },
   {
    "duration": 1141,
    "start_time": "2022-05-25T19:54:57.624Z"
   },
   {
    "duration": 661,
    "start_time": "2022-05-25T19:58:27.623Z"
   },
   {
    "duration": 1345,
    "start_time": "2022-05-25T19:58:28.942Z"
   },
   {
    "duration": 71,
    "start_time": "2022-05-25T19:58:31.966Z"
   },
   {
    "duration": 3,
    "start_time": "2022-05-25T19:58:33.559Z"
   },
   {
    "duration": 1586,
    "start_time": "2022-05-25T19:58:35.270Z"
   },
   {
    "duration": 207,
    "start_time": "2022-05-25T19:58:38.159Z"
   },
   {
    "duration": 265,
    "start_time": "2022-05-25T19:58:39.863Z"
   },
   {
    "duration": 3,
    "start_time": "2022-05-25T19:58:53.503Z"
   },
   {
    "duration": 17023,
    "start_time": "2022-05-25T19:58:55.391Z"
   },
   {
    "duration": 17,
    "start_time": "2022-05-25T19:59:13.155Z"
   },
   {
    "duration": 76,
    "start_time": "2022-05-25T20:01:24.849Z"
   },
   {
    "duration": 10,
    "start_time": "2022-05-25T20:02:06.049Z"
   },
   {
    "duration": 28,
    "start_time": "2022-05-25T20:02:37.194Z"
   },
   {
    "duration": 42,
    "start_time": "2022-05-25T20:02:41.729Z"
   },
   {
    "duration": 33,
    "start_time": "2022-05-25T20:03:13.068Z"
   },
   {
    "duration": 20,
    "start_time": "2022-05-25T20:04:12.905Z"
   },
   {
    "duration": 119,
    "start_time": "2022-05-25T20:04:39.803Z"
   },
   {
    "duration": 33,
    "start_time": "2022-05-25T20:04:50.164Z"
   },
   {
    "duration": 49,
    "start_time": "2022-05-25T20:04:58.179Z"
   },
   {
    "duration": 303,
    "start_time": "2022-05-25T20:05:20.034Z"
   },
   {
    "duration": 276,
    "start_time": "2022-05-25T20:06:45.236Z"
   },
   {
    "duration": 328,
    "start_time": "2022-05-25T20:14:16.632Z"
   },
   {
    "duration": 351,
    "start_time": "2022-05-25T20:15:00.313Z"
   },
   {
    "duration": 9,
    "start_time": "2022-05-25T20:49:48.690Z"
   },
   {
    "duration": 11,
    "start_time": "2022-05-25T20:49:56.316Z"
   },
   {
    "duration": 35,
    "start_time": "2022-05-25T20:56:59.641Z"
   },
   {
    "duration": 154,
    "start_time": "2022-05-25T20:57:03.037Z"
   },
   {
    "duration": 136,
    "start_time": "2022-05-25T20:57:12.512Z"
   },
   {
    "duration": 20,
    "start_time": "2022-05-25T21:06:55.871Z"
   },
   {
    "duration": 10,
    "start_time": "2022-05-25T21:09:39.216Z"
   },
   {
    "duration": 131,
    "start_time": "2022-05-25T21:09:44.497Z"
   },
   {
    "duration": 1384,
    "start_time": "2022-05-26T08:07:23.711Z"
   },
   {
    "duration": 1275,
    "start_time": "2022-05-26T08:07:26.469Z"
   },
   {
    "duration": 62,
    "start_time": "2022-05-26T08:07:31.022Z"
   },
   {
    "duration": 3,
    "start_time": "2022-05-26T08:07:33.726Z"
   },
   {
    "duration": 1643,
    "start_time": "2022-05-26T08:07:36.958Z"
   },
   {
    "duration": 81,
    "start_time": "2022-05-26T09:25:55.427Z"
   },
   {
    "duration": 112,
    "start_time": "2022-05-26T09:27:59.284Z"
   },
   {
    "duration": 8,
    "start_time": "2022-05-26T09:28:39.803Z"
   },
   {
    "duration": 106,
    "start_time": "2022-05-26T09:28:47.645Z"
   },
   {
    "duration": 663,
    "start_time": "2022-05-26T09:29:38.579Z"
   },
   {
    "duration": 899,
    "start_time": "2022-05-26T09:29:39.858Z"
   },
   {
    "duration": 59,
    "start_time": "2022-05-26T09:29:42.539Z"
   },
   {
    "duration": 3,
    "start_time": "2022-05-26T09:29:43.907Z"
   },
   {
    "duration": 1622,
    "start_time": "2022-05-26T09:29:45.192Z"
   },
   {
    "duration": 4,
    "start_time": "2022-05-26T09:30:01.547Z"
   },
   {
    "duration": 76,
    "start_time": "2022-05-26T09:30:15.346Z"
   },
   {
    "duration": 5,
    "start_time": "2022-05-26T09:30:32.635Z"
   },
   {
    "duration": 66,
    "start_time": "2022-05-26T09:30:45.651Z"
   },
   {
    "duration": 929,
    "start_time": "2022-05-26T09:31:30.004Z"
   },
   {
    "duration": 93,
    "start_time": "2022-05-26T09:31:56.779Z"
   },
   {
    "duration": 16,
    "start_time": "2022-05-26T09:32:00.492Z"
   },
   {
    "duration": 16,
    "start_time": "2022-05-26T09:32:44.196Z"
   },
   {
    "duration": 213,
    "start_time": "2022-05-26T09:37:25.246Z"
   },
   {
    "duration": 246,
    "start_time": "2022-05-26T09:38:22.870Z"
   },
   {
    "duration": 185,
    "start_time": "2022-05-26T09:38:39.806Z"
   },
   {
    "duration": 182,
    "start_time": "2022-05-26T09:38:57.494Z"
   },
   {
    "duration": 201,
    "start_time": "2022-05-26T09:40:00.383Z"
   },
   {
    "duration": 789,
    "start_time": "2022-05-26T09:40:28.167Z"
   },
   {
    "duration": 1411,
    "start_time": "2022-05-26T09:40:34.655Z"
   },
   {
    "duration": 244,
    "start_time": "2022-05-26T09:41:02.928Z"
   },
   {
    "duration": 179,
    "start_time": "2022-05-26T09:44:59.101Z"
   },
   {
    "duration": 51,
    "start_time": "2022-05-26T11:54:29.829Z"
   },
   {
    "duration": 558,
    "start_time": "2022-05-26T11:54:35.325Z"
   },
   {
    "duration": 556,
    "start_time": "2022-05-26T11:55:24.965Z"
   },
   {
    "duration": 407,
    "start_time": "2022-05-26T11:57:21.222Z"
   },
   {
    "duration": 172,
    "start_time": "2022-05-26T11:57:30.438Z"
   },
   {
    "duration": 673,
    "start_time": "2022-05-26T11:57:49.326Z"
   },
   {
    "duration": 1008,
    "start_time": "2022-05-26T11:57:51.266Z"
   },
   {
    "duration": 65,
    "start_time": "2022-05-26T11:57:53.999Z"
   },
   {
    "duration": 4,
    "start_time": "2022-05-26T11:57:55.333Z"
   },
   {
    "duration": 1643,
    "start_time": "2022-05-26T11:57:56.877Z"
   },
   {
    "duration": 594,
    "start_time": "2022-05-26T11:58:10.648Z"
   },
   {
    "duration": 118,
    "start_time": "2022-05-26T11:58:16.735Z"
   },
   {
    "duration": 115,
    "start_time": "2022-05-26T11:58:55.183Z"
   },
   {
    "duration": 202,
    "start_time": "2022-05-26T11:58:58.269Z"
   },
   {
    "duration": 275,
    "start_time": "2022-05-26T11:59:00.678Z"
   },
   {
    "duration": 4,
    "start_time": "2022-05-26T11:59:02.006Z"
   },
   {
    "duration": 16427,
    "start_time": "2022-05-26T11:59:03.238Z"
   },
   {
    "duration": 62,
    "start_time": "2022-05-26T11:59:19.667Z"
   },
   {
    "duration": 95,
    "start_time": "2022-05-26T12:06:25.558Z"
   },
   {
    "duration": 101,
    "start_time": "2022-05-26T12:07:48.469Z"
   },
   {
    "duration": 110,
    "start_time": "2022-05-26T12:07:55.667Z"
   },
   {
    "duration": 155,
    "start_time": "2022-05-26T12:08:54.964Z"
   },
   {
    "duration": 158,
    "start_time": "2022-05-26T12:09:13.403Z"
   },
   {
    "duration": 76,
    "start_time": "2022-05-26T12:09:40.253Z"
   },
   {
    "duration": 74,
    "start_time": "2022-05-26T12:10:21.758Z"
   },
   {
    "duration": 71,
    "start_time": "2022-05-26T12:10:34.237Z"
   },
   {
    "duration": 720,
    "start_time": "2022-05-26T12:10:55.244Z"
   },
   {
    "duration": 939,
    "start_time": "2022-05-26T12:10:56.543Z"
   },
   {
    "duration": 888,
    "start_time": "2022-05-26T12:11:04.808Z"
   },
   {
    "duration": 45,
    "start_time": "2022-05-26T12:11:07.695Z"
   },
   {
    "duration": 3,
    "start_time": "2022-05-26T12:11:08.975Z"
   },
   {
    "duration": 1558,
    "start_time": "2022-05-26T12:11:10.382Z"
   },
   {
    "duration": 558,
    "start_time": "2022-05-26T12:11:14.663Z"
   },
   {
    "duration": 139,
    "start_time": "2022-05-26T12:11:17.199Z"
   },
   {
    "duration": 96,
    "start_time": "2022-05-26T12:11:18.886Z"
   },
   {
    "duration": 198,
    "start_time": "2022-05-26T12:11:21.230Z"
   },
   {
    "duration": 251,
    "start_time": "2022-05-26T12:11:23.726Z"
   },
   {
    "duration": 68,
    "start_time": "2022-05-26T12:11:34.950Z"
   },
   {
    "duration": 3,
    "start_time": "2022-05-26T12:11:35.782Z"
   },
   {
    "duration": 16884,
    "start_time": "2022-05-26T12:11:37.063Z"
   },
   {
    "duration": 171,
    "start_time": "2022-05-26T12:12:04.735Z"
   },
   {
    "duration": 61,
    "start_time": "2022-05-26T12:12:12.767Z"
   },
   {
    "duration": 547,
    "start_time": "2022-05-26T12:17:18.967Z"
   },
   {
    "duration": 720,
    "start_time": "2022-05-26T12:18:28.511Z"
   },
   {
    "duration": 580,
    "start_time": "2022-05-26T12:18:52.064Z"
   },
   {
    "duration": 743,
    "start_time": "2022-05-26T12:19:10.183Z"
   },
   {
    "duration": 741,
    "start_time": "2022-05-26T12:19:23.888Z"
   },
   {
    "duration": 2,
    "start_time": "2022-05-26T12:21:16.880Z"
   },
   {
    "duration": 2,
    "start_time": "2022-05-26T12:21:59.688Z"
   },
   {
    "duration": 16691,
    "start_time": "2022-05-26T12:22:09.175Z"
   },
   {
    "duration": 3,
    "start_time": "2022-05-26T12:24:54.880Z"
   },
   {
    "duration": 62,
    "start_time": "2022-05-26T12:25:52.704Z"
   },
   {
    "duration": 4,
    "start_time": "2022-05-26T12:26:14.112Z"
   },
   {
    "duration": 16794,
    "start_time": "2022-05-26T12:26:14.986Z"
   },
   {
    "duration": 66,
    "start_time": "2022-05-26T12:28:24.921Z"
   },
   {
    "duration": 20,
    "start_time": "2022-05-26T12:28:35.736Z"
   },
   {
    "duration": 80,
    "start_time": "2022-05-26T12:30:54.025Z"
   },
   {
    "duration": 92,
    "start_time": "2022-05-26T12:31:15.384Z"
   },
   {
    "duration": 32,
    "start_time": "2022-05-26T12:32:20.042Z"
   },
   {
    "duration": 31,
    "start_time": "2022-05-26T12:32:59.898Z"
   },
   {
    "duration": 71,
    "start_time": "2022-05-26T12:40:59.519Z"
   },
   {
    "duration": 725,
    "start_time": "2022-05-26T18:29:27.285Z"
   },
   {
    "duration": 1037,
    "start_time": "2022-05-26T18:29:28.892Z"
   },
   {
    "duration": 56,
    "start_time": "2022-05-26T18:29:31.691Z"
   },
   {
    "duration": 4,
    "start_time": "2022-05-26T18:29:33.207Z"
   },
   {
    "duration": 2081,
    "start_time": "2022-05-26T18:29:35.338Z"
   },
   {
    "duration": 623,
    "start_time": "2022-05-26T18:29:39.121Z"
   },
   {
    "duration": 169,
    "start_time": "2022-05-26T18:29:41.911Z"
   },
   {
    "duration": 150,
    "start_time": "2022-05-26T18:29:43.259Z"
   },
   {
    "duration": 246,
    "start_time": "2022-05-26T18:29:44.387Z"
   },
   {
    "duration": 313,
    "start_time": "2022-05-26T18:29:46.217Z"
   },
   {
    "duration": 3,
    "start_time": "2022-05-26T18:29:47.800Z"
   },
   {
    "duration": 19191,
    "start_time": "2022-05-26T18:29:48.625Z"
   },
   {
    "duration": 77,
    "start_time": "2022-05-26T18:30:10.416Z"
   },
   {
    "duration": 208,
    "start_time": "2022-05-26T18:30:11.207Z"
   },
   {
    "duration": 881,
    "start_time": "2022-05-26T18:30:12.144Z"
   },
   {
    "duration": 75,
    "start_time": "2022-05-26T18:30:15.518Z"
   },
   {
    "duration": 3,
    "start_time": "2022-05-26T18:30:27.788Z"
   },
   {
    "duration": 20214,
    "start_time": "2022-05-26T18:30:28.784Z"
   },
   {
    "duration": 82,
    "start_time": "2022-05-26T18:31:51.069Z"
   },
   {
    "duration": 133,
    "start_time": "2022-05-26T18:31:51.988Z"
   },
   {
    "duration": 50,
    "start_time": "2022-05-26T18:31:52.887Z"
   },
   {
    "duration": 78,
    "start_time": "2022-05-26T18:31:53.687Z"
   },
   {
    "duration": 324,
    "start_time": "2022-05-26T18:32:09.189Z"
   },
   {
    "duration": 59,
    "start_time": "2022-05-26T18:36:00.446Z"
   },
   {
    "duration": 671,
    "start_time": "2022-05-26T18:36:11.891Z"
   },
   {
    "duration": 1065,
    "start_time": "2022-05-26T18:36:13.645Z"
   },
   {
    "duration": 60,
    "start_time": "2022-05-26T18:36:16.285Z"
   },
   {
    "duration": 3,
    "start_time": "2022-05-26T18:36:17.832Z"
   },
   {
    "duration": 2047,
    "start_time": "2022-05-26T18:36:19.148Z"
   },
   {
    "duration": 706,
    "start_time": "2022-05-26T18:36:22.657Z"
   },
   {
    "duration": 200,
    "start_time": "2022-05-26T18:36:25.609Z"
   },
   {
    "duration": 149,
    "start_time": "2022-05-26T18:36:26.946Z"
   },
   {
    "duration": 219,
    "start_time": "2022-05-26T18:36:28.032Z"
   },
   {
    "duration": 307,
    "start_time": "2022-05-26T18:36:29.905Z"
   },
   {
    "duration": 3,
    "start_time": "2022-05-26T18:36:31.508Z"
   },
   {
    "duration": 19603,
    "start_time": "2022-05-26T18:36:32.969Z"
   },
   {
    "duration": 78,
    "start_time": "2022-05-26T18:36:52.576Z"
   },
   {
    "duration": 74,
    "start_time": "2022-05-26T18:37:20.650Z"
   },
   {
    "duration": 77,
    "start_time": "2022-05-26T18:37:30.953Z"
   },
   {
    "duration": 175,
    "start_time": "2022-05-26T18:37:33.685Z"
   },
   {
    "duration": 883,
    "start_time": "2022-05-26T18:37:43.818Z"
   },
   {
    "duration": 72,
    "start_time": "2022-05-26T18:37:47.705Z"
   },
   {
    "duration": 8,
    "start_time": "2022-05-26T18:37:49.185Z"
   },
   {
    "duration": 20736,
    "start_time": "2022-05-26T18:37:51.347Z"
   },
   {
    "duration": 65,
    "start_time": "2022-05-26T18:38:23.521Z"
   },
   {
    "duration": 117,
    "start_time": "2022-05-26T18:38:27.576Z"
   },
   {
    "duration": 44,
    "start_time": "2022-05-26T18:39:05.825Z"
   },
   {
    "duration": 116,
    "start_time": "2022-05-26T18:39:06.977Z"
   },
   {
    "duration": 476,
    "start_time": "2022-05-26T18:39:08.450Z"
   },
   {
    "duration": 4,
    "start_time": "2022-05-26T18:42:05.646Z"
   },
   {
    "duration": 5,
    "start_time": "2022-05-26T18:42:21.985Z"
   },
   {
    "duration": 4,
    "start_time": "2022-05-26T18:42:35.413Z"
   },
   {
    "duration": 714,
    "start_time": "2022-05-26T18:49:22.661Z"
   },
   {
    "duration": 1033,
    "start_time": "2022-05-26T18:49:24.446Z"
   },
   {
    "duration": 66,
    "start_time": "2022-05-26T18:49:31.147Z"
   },
   {
    "duration": 4,
    "start_time": "2022-05-26T18:49:35.003Z"
   },
   {
    "duration": 1817,
    "start_time": "2022-05-26T18:49:41.348Z"
   },
   {
    "duration": 622,
    "start_time": "2022-05-26T18:49:44.253Z"
   },
   {
    "duration": 150,
    "start_time": "2022-05-26T18:49:47.747Z"
   },
   {
    "duration": 82,
    "start_time": "2022-05-26T18:50:53.969Z"
   },
   {
    "duration": 21,
    "start_time": "2022-05-26T18:51:15.099Z"
   },
   {
    "duration": 106,
    "start_time": "2022-05-26T18:53:07.093Z"
   },
   {
    "duration": 104,
    "start_time": "2022-05-26T18:54:28.478Z"
   },
   {
    "duration": 140,
    "start_time": "2022-05-26T18:54:46.589Z"
   },
   {
    "duration": 211,
    "start_time": "2022-05-26T18:54:48.716Z"
   },
   {
    "duration": 278,
    "start_time": "2022-05-26T18:54:50.775Z"
   },
   {
    "duration": 3,
    "start_time": "2022-05-26T18:54:52.476Z"
   },
   {
    "duration": 19359,
    "start_time": "2022-05-26T18:54:53.957Z"
   },
   {
    "duration": 83,
    "start_time": "2022-05-26T18:55:14.343Z"
   },
   {
    "duration": 191,
    "start_time": "2022-05-26T18:55:15.213Z"
   },
   {
    "duration": 996,
    "start_time": "2022-05-26T18:55:16.348Z"
   },
   {
    "duration": 96,
    "start_time": "2022-05-26T18:55:19.228Z"
   },
   {
    "duration": 5,
    "start_time": "2022-05-26T18:55:20.683Z"
   },
   {
    "duration": 21120,
    "start_time": "2022-05-26T18:55:24.883Z"
   },
   {
    "duration": 65,
    "start_time": "2022-05-26T18:55:48.181Z"
   },
   {
    "duration": 99,
    "start_time": "2022-05-26T18:55:49.405Z"
   },
   {
    "duration": 32,
    "start_time": "2022-05-26T18:55:50.477Z"
   },
   {
    "duration": 88,
    "start_time": "2022-05-26T18:55:51.284Z"
   },
   {
    "duration": 367,
    "start_time": "2022-05-26T18:55:52.852Z"
   },
   {
    "duration": 3,
    "start_time": "2022-05-26T18:56:02.269Z"
   },
   {
    "duration": 717,
    "start_time": "2022-05-26T18:58:29.557Z"
   },
   {
    "duration": 1028,
    "start_time": "2022-05-26T18:58:31.142Z"
   },
   {
    "duration": 65,
    "start_time": "2022-05-26T18:58:33.949Z"
   },
   {
    "duration": 3,
    "start_time": "2022-05-26T18:58:35.205Z"
   },
   {
    "duration": 1815,
    "start_time": "2022-05-26T18:58:36.821Z"
   },
   {
    "duration": 607,
    "start_time": "2022-05-26T18:58:41.446Z"
   },
   {
    "duration": 3,
    "start_time": "2022-05-26T18:58:43.901Z"
   },
   {
    "duration": 18816,
    "start_time": "2022-05-26T18:58:45.493Z"
   },
   {
    "duration": 87,
    "start_time": "2022-05-26T18:59:05.844Z"
   },
   {
    "duration": 105,
    "start_time": "2022-05-26T18:59:06.878Z"
   },
   {
    "duration": 230,
    "start_time": "2022-05-26T18:59:12.376Z"
   },
   {
    "duration": 263,
    "start_time": "2022-05-26T18:59:14.917Z"
   },
   {
    "duration": 3,
    "start_time": "2022-05-26T18:59:16.821Z"
   },
   {
    "duration": 18437,
    "start_time": "2022-05-26T18:59:18.309Z"
   },
   {
    "duration": 71,
    "start_time": "2022-05-26T18:59:38.822Z"
   },
   {
    "duration": 178,
    "start_time": "2022-05-26T18:59:39.842Z"
   },
   {
    "duration": 829,
    "start_time": "2022-05-26T18:59:40.598Z"
   },
   {
    "duration": 55,
    "start_time": "2022-05-26T18:59:43.599Z"
   },
   {
    "duration": 3,
    "start_time": "2022-05-26T18:59:44.842Z"
   },
   {
    "duration": 18845,
    "start_time": "2022-05-26T18:59:46.094Z"
   },
   {
    "duration": 59,
    "start_time": "2022-05-26T19:00:06.694Z"
   },
   {
    "duration": 109,
    "start_time": "2022-05-26T19:00:07.879Z"
   },
   {
    "duration": 48,
    "start_time": "2022-05-26T19:00:08.655Z"
   },
   {
    "duration": 83,
    "start_time": "2022-05-26T19:00:09.302Z"
   },
   {
    "duration": 322,
    "start_time": "2022-05-26T19:00:09.943Z"
   },
   {
    "duration": 5,
    "start_time": "2022-05-26T19:00:19.719Z"
   },
   {
    "duration": 779,
    "start_time": "2022-05-26T19:05:13.443Z"
   },
   {
    "duration": 1245,
    "start_time": "2022-05-26T19:05:15.003Z"
   },
   {
    "duration": 88,
    "start_time": "2022-05-26T19:05:18.140Z"
   },
   {
    "duration": 3,
    "start_time": "2022-05-26T19:05:22.545Z"
   },
   {
    "duration": 1858,
    "start_time": "2022-05-26T19:05:26.167Z"
   },
   {
    "duration": 611,
    "start_time": "2022-05-26T19:05:30.803Z"
   },
   {
    "duration": 7,
    "start_time": "2022-05-26T19:05:33.755Z"
   },
   {
    "duration": 19602,
    "start_time": "2022-05-26T19:05:35.308Z"
   },
   {
    "duration": 734,
    "start_time": "2022-05-26T19:06:11.821Z"
   },
   {
    "duration": 1170,
    "start_time": "2022-05-26T19:06:13.116Z"
   },
   {
    "duration": 65,
    "start_time": "2022-05-26T19:06:17.669Z"
   },
   {
    "duration": 4,
    "start_time": "2022-05-26T19:06:22.045Z"
   },
   {
    "duration": 2810,
    "start_time": "2022-05-26T19:06:23.478Z"
   },
   {
    "duration": 631,
    "start_time": "2022-05-26T19:06:33.389Z"
   },
   {
    "duration": 5,
    "start_time": "2022-05-26T19:06:52.941Z"
   },
   {
    "duration": 18848,
    "start_time": "2022-05-26T19:06:55.441Z"
   },
   {
    "duration": 85,
    "start_time": "2022-05-26T19:07:15.077Z"
   },
   {
    "duration": 107,
    "start_time": "2022-05-26T19:07:15.885Z"
   },
   {
    "duration": 248,
    "start_time": "2022-05-26T19:07:16.998Z"
   },
   {
    "duration": 305,
    "start_time": "2022-05-26T19:07:18.854Z"
   },
   {
    "duration": 3,
    "start_time": "2022-05-26T19:07:24.076Z"
   },
   {
    "duration": 18803,
    "start_time": "2022-05-26T19:07:25.110Z"
   },
   {
    "duration": 69,
    "start_time": "2022-05-26T19:07:44.797Z"
   },
   {
    "duration": 208,
    "start_time": "2022-05-26T19:07:45.672Z"
   },
   {
    "duration": 986,
    "start_time": "2022-05-26T19:07:46.901Z"
   },
   {
    "duration": 253,
    "start_time": "2022-05-26T19:07:50.125Z"
   },
   {
    "duration": 4,
    "start_time": "2022-05-26T19:08:03.341Z"
   },
   {
    "duration": 19274,
    "start_time": "2022-05-26T19:08:05.181Z"
   },
   {
    "duration": 62,
    "start_time": "2022-05-26T19:08:26.877Z"
   },
   {
    "duration": 108,
    "start_time": "2022-05-26T19:08:28.893Z"
   },
   {
    "duration": 38,
    "start_time": "2022-05-26T19:08:30.677Z"
   },
   {
    "duration": 83,
    "start_time": "2022-05-26T19:08:32.677Z"
   },
   {
    "duration": 462,
    "start_time": "2022-05-26T19:08:34.894Z"
   },
   {
    "duration": 5,
    "start_time": "2022-05-26T19:08:47.391Z"
   },
   {
    "duration": 5,
    "start_time": "2022-05-26T19:09:31.677Z"
   },
   {
    "duration": 5,
    "start_time": "2022-05-26T19:10:54.376Z"
   },
   {
    "duration": 93,
    "start_time": "2022-05-26T19:11:58.740Z"
   },
   {
    "duration": 42,
    "start_time": "2022-05-26T19:12:05.540Z"
   },
   {
    "duration": 14,
    "start_time": "2022-05-26T19:15:23.091Z"
   },
   {
    "duration": 30,
    "start_time": "2022-05-26T19:16:25.611Z"
   },
   {
    "duration": 820,
    "start_time": "2022-05-26T19:16:43.458Z"
   },
   {
    "duration": 570,
    "start_time": "2022-05-26T19:16:51.315Z"
   },
   {
    "duration": 114,
    "start_time": "2022-05-26T19:20:22.612Z"
   },
   {
    "duration": 102,
    "start_time": "2022-05-26T19:22:03.672Z"
   },
   {
    "duration": 132,
    "start_time": "2022-05-26T19:22:12.405Z"
   },
   {
    "duration": 570,
    "start_time": "2022-05-26T19:22:18.157Z"
   },
   {
    "duration": 1091,
    "start_time": "2022-05-26T19:24:09.458Z"
   },
   {
    "duration": 1124,
    "start_time": "2022-05-26T19:41:35.721Z"
   },
   {
    "duration": 60,
    "start_time": "2022-05-26T19:41:39.346Z"
   },
   {
    "duration": 3,
    "start_time": "2022-05-26T19:41:40.850Z"
   },
   {
    "duration": 2778,
    "start_time": "2022-05-26T19:41:52.468Z"
   },
   {
    "duration": 323,
    "start_time": "2022-05-26T19:41:56.509Z"
   },
   {
    "duration": 716,
    "start_time": "2022-05-26T19:42:25.358Z"
   },
   {
    "duration": 4,
    "start_time": "2022-05-26T19:42:37.672Z"
   },
   {
    "duration": 18331,
    "start_time": "2022-05-26T19:42:42.783Z"
   },
   {
    "duration": 105,
    "start_time": "2022-05-26T19:43:20.379Z"
   },
   {
    "duration": 104,
    "start_time": "2022-05-26T19:43:21.716Z"
   },
   {
    "duration": 225,
    "start_time": "2022-05-26T19:43:22.627Z"
   },
   {
    "duration": 284,
    "start_time": "2022-05-26T19:43:24.458Z"
   },
   {
    "duration": 2,
    "start_time": "2022-05-26T19:43:25.947Z"
   },
   {
    "duration": 18752,
    "start_time": "2022-05-26T19:43:27.371Z"
   },
   {
    "duration": 79,
    "start_time": "2022-05-26T19:44:15.427Z"
   },
   {
    "duration": 190,
    "start_time": "2022-05-26T19:44:16.632Z"
   },
   {
    "duration": 874,
    "start_time": "2022-05-26T19:44:17.713Z"
   },
   {
    "duration": 77,
    "start_time": "2022-05-26T19:44:21.275Z"
   },
   {
    "duration": 11,
    "start_time": "2022-05-26T19:44:22.756Z"
   },
   {
    "duration": 20648,
    "start_time": "2022-05-26T19:44:24.784Z"
   },
   {
    "duration": 68,
    "start_time": "2022-05-26T19:44:54.965Z"
   },
   {
    "duration": 109,
    "start_time": "2022-05-26T19:44:56.108Z"
   },
   {
    "duration": 44,
    "start_time": "2022-05-26T19:44:57.190Z"
   },
   {
    "duration": 78,
    "start_time": "2022-05-26T19:44:57.874Z"
   },
   {
    "duration": 515,
    "start_time": "2022-05-26T19:44:58.955Z"
   },
   {
    "duration": 36,
    "start_time": "2022-05-26T19:45:00.720Z"
   },
   {
    "duration": 159,
    "start_time": "2022-05-26T19:45:02.913Z"
   },
   {
    "duration": 1085,
    "start_time": "2022-05-27T07:29:10.475Z"
   },
   {
    "duration": 947,
    "start_time": "2022-05-27T07:29:14.323Z"
   },
   {
    "duration": 64,
    "start_time": "2022-05-27T07:29:17.114Z"
   },
   {
    "duration": 4,
    "start_time": "2022-05-27T07:29:18.514Z"
   },
   {
    "duration": 2278,
    "start_time": "2022-05-27T07:29:21.162Z"
   },
   {
    "duration": 303,
    "start_time": "2022-05-27T07:29:38.362Z"
   },
   {
    "duration": 614,
    "start_time": "2022-05-27T07:29:40.563Z"
   },
   {
    "duration": 3,
    "start_time": "2022-05-27T07:29:54.244Z"
   },
   {
    "duration": 17352,
    "start_time": "2022-05-27T07:29:56.594Z"
   },
   {
    "duration": 75,
    "start_time": "2022-05-27T07:30:24.755Z"
   },
   {
    "duration": 98,
    "start_time": "2022-05-27T07:30:25.742Z"
   },
   {
    "duration": 198,
    "start_time": "2022-05-27T07:30:26.569Z"
   },
   {
    "duration": 245,
    "start_time": "2022-05-27T07:30:28.680Z"
   },
   {
    "duration": 3,
    "start_time": "2022-05-27T07:30:29.954Z"
   },
   {
    "duration": 17590,
    "start_time": "2022-05-27T07:30:31.474Z"
   },
   {
    "duration": 61,
    "start_time": "2022-05-27T07:31:14.667Z"
   },
   {
    "duration": 150,
    "start_time": "2022-05-27T07:31:15.674Z"
   },
   {
    "duration": 737,
    "start_time": "2022-05-27T07:31:16.890Z"
   },
   {
    "duration": 453,
    "start_time": "2022-05-27T07:31:20.458Z"
   },
   {
    "duration": 3,
    "start_time": "2022-05-27T07:31:22.226Z"
   },
   {
    "duration": 17242,
    "start_time": "2022-05-27T07:31:25.347Z"
   },
   {
    "duration": 54,
    "start_time": "2022-05-27T07:31:48.818Z"
   },
   {
    "duration": 96,
    "start_time": "2022-05-27T07:31:50.044Z"
   },
   {
    "duration": 34,
    "start_time": "2022-05-27T07:31:50.882Z"
   },
   {
    "duration": 70,
    "start_time": "2022-05-27T07:31:51.643Z"
   },
   {
    "duration": 499,
    "start_time": "2022-05-27T07:31:52.642Z"
   },
   {
    "duration": 31,
    "start_time": "2022-05-27T07:31:54.963Z"
   },
   {
    "duration": 131,
    "start_time": "2022-05-27T07:31:56.307Z"
   },
   {
    "duration": 1212,
    "start_time": "2022-05-28T11:37:21.948Z"
   },
   {
    "duration": 964,
    "start_time": "2022-05-28T11:37:25.490Z"
   },
   {
    "duration": 53,
    "start_time": "2022-05-28T11:37:34.889Z"
   },
   {
    "duration": 4,
    "start_time": "2022-05-28T11:37:41.088Z"
   },
   {
    "duration": 2527,
    "start_time": "2022-05-28T11:37:43.651Z"
   },
   {
    "duration": 377,
    "start_time": "2022-05-28T11:38:09.153Z"
   },
   {
    "duration": 425,
    "start_time": "2022-05-28T11:40:37.636Z"
   },
   {
    "duration": 435,
    "start_time": "2022-05-28T11:40:46.998Z"
   },
   {
    "duration": 384,
    "start_time": "2022-05-28T11:40:59.011Z"
   },
   {
    "duration": 390,
    "start_time": "2022-05-28T11:41:05.269Z"
   },
   {
    "duration": 417,
    "start_time": "2022-05-28T11:41:29.653Z"
   },
   {
    "duration": 384,
    "start_time": "2022-05-28T11:41:44.053Z"
   },
   {
    "duration": 379,
    "start_time": "2022-05-28T11:41:47.524Z"
   },
   {
    "duration": 608,
    "start_time": "2022-05-28T11:43:17.476Z"
   },
   {
    "duration": 3,
    "start_time": "2022-05-28T11:43:36.390Z"
   },
   {
    "duration": 18265,
    "start_time": "2022-05-28T11:43:39.544Z"
   },
   {
    "duration": 84,
    "start_time": "2022-05-28T11:44:05.436Z"
   },
   {
    "duration": 103,
    "start_time": "2022-05-28T11:44:08.893Z"
   },
   {
    "duration": 221,
    "start_time": "2022-05-28T11:44:12.516Z"
   },
   {
    "duration": 263,
    "start_time": "2022-05-28T11:44:15.068Z"
   },
   {
    "duration": 3,
    "start_time": "2022-05-28T11:44:17.796Z"
   },
   {
    "duration": 17797,
    "start_time": "2022-05-28T11:44:22.165Z"
   },
   {
    "duration": 147,
    "start_time": "2022-05-28T11:45:05.390Z"
   },
   {
    "duration": 63,
    "start_time": "2022-05-28T11:45:10.381Z"
   },
   {
    "duration": 1154,
    "start_time": "2022-05-28T11:46:07.056Z"
   },
   {
    "duration": 977,
    "start_time": "2022-05-28T11:46:10.948Z"
   },
   {
    "duration": 56,
    "start_time": "2022-05-28T11:46:13.512Z"
   },
   {
    "duration": 3,
    "start_time": "2022-05-28T11:46:14.826Z"
   },
   {
    "duration": 2585,
    "start_time": "2022-05-28T11:46:17.905Z"
   },
   {
    "duration": 320,
    "start_time": "2022-05-28T11:46:33.401Z"
   },
   {
    "duration": 670,
    "start_time": "2022-05-28T11:46:39.329Z"
   },
   {
    "duration": 3,
    "start_time": "2022-05-28T11:46:42.114Z"
   },
   {
    "duration": 17714,
    "start_time": "2022-05-28T11:46:43.264Z"
   },
   {
    "duration": 102,
    "start_time": "2022-05-28T11:47:07.202Z"
   },
   {
    "duration": 109,
    "start_time": "2022-05-28T11:47:08.137Z"
   },
   {
    "duration": 205,
    "start_time": "2022-05-28T11:47:08.920Z"
   },
   {
    "duration": 263,
    "start_time": "2022-05-28T11:47:11.497Z"
   },
   {
    "duration": 3,
    "start_time": "2022-05-28T11:47:13.177Z"
   },
   {
    "duration": 17852,
    "start_time": "2022-05-28T11:47:14.323Z"
   },
   {
    "duration": 66,
    "start_time": "2022-05-28T11:47:48.237Z"
   },
   {
    "duration": 167,
    "start_time": "2022-05-28T11:47:49.058Z"
   },
   {
    "duration": 780,
    "start_time": "2022-05-28T11:47:50.593Z"
   },
   {
    "duration": 208,
    "start_time": "2022-05-28T11:48:07.729Z"
   },
   {
    "duration": 3,
    "start_time": "2022-05-28T11:48:09.916Z"
   },
   {
    "duration": 18629,
    "start_time": "2022-05-28T11:48:12.346Z"
   },
   {
    "duration": 91,
    "start_time": "2022-05-28T11:48:30.977Z"
   },
   {
    "duration": 17,
    "start_time": "2022-05-28T11:48:42.522Z"
   },
   {
    "duration": 1093,
    "start_time": "2022-05-28T11:49:03.698Z"
   },
   {
    "duration": 998,
    "start_time": "2022-05-28T11:49:06.516Z"
   },
   {
    "duration": 60,
    "start_time": "2022-05-28T11:49:20.052Z"
   },
   {
    "duration": 3,
    "start_time": "2022-05-28T11:49:28.892Z"
   },
   {
    "duration": 2673,
    "start_time": "2022-05-28T11:49:30.755Z"
   },
   {
    "duration": 337,
    "start_time": "2022-05-28T11:49:35.883Z"
   },
   {
    "duration": 800,
    "start_time": "2022-05-28T11:49:56.822Z"
   },
   {
    "duration": 4,
    "start_time": "2022-05-28T11:49:59.938Z"
   },
   {
    "duration": 18194,
    "start_time": "2022-05-28T11:50:02.517Z"
   },
   {
    "duration": 83,
    "start_time": "2022-05-28T11:50:26.517Z"
   },
   {
    "duration": 98,
    "start_time": "2022-05-28T11:50:27.517Z"
   },
   {
    "duration": 211,
    "start_time": "2022-05-28T11:50:28.429Z"
   },
   {
    "duration": 264,
    "start_time": "2022-05-28T11:50:30.926Z"
   },
   {
    "duration": 3,
    "start_time": "2022-05-28T11:51:10.157Z"
   },
   {
    "duration": 18679,
    "start_time": "2022-05-28T11:51:12.142Z"
   },
   {
    "duration": 63,
    "start_time": "2022-05-28T12:06:40.964Z"
   },
   {
    "duration": 151,
    "start_time": "2022-05-28T12:06:42.068Z"
   },
   {
    "duration": 765,
    "start_time": "2022-05-28T12:06:43.118Z"
   },
   {
    "duration": 232,
    "start_time": "2022-05-28T12:06:45.990Z"
   },
   {
    "duration": 4,
    "start_time": "2022-05-28T12:06:47.475Z"
   },
   {
    "duration": 18773,
    "start_time": "2022-05-28T12:06:48.276Z"
   },
   {
    "duration": 59,
    "start_time": "2022-05-28T12:07:16.653Z"
   },
   {
    "duration": 106,
    "start_time": "2022-05-28T12:07:18.021Z"
   },
   {
    "duration": 35,
    "start_time": "2022-05-28T12:07:19.182Z"
   },
   {
    "duration": 71,
    "start_time": "2022-05-28T12:07:20.061Z"
   },
   {
    "duration": 477,
    "start_time": "2022-05-28T12:07:21.231Z"
   },
   {
    "duration": 30,
    "start_time": "2022-05-28T12:07:24.549Z"
   },
   {
    "duration": 136,
    "start_time": "2022-05-28T12:07:26.355Z"
   },
   {
    "duration": 394,
    "start_time": "2022-05-28T12:48:08.410Z"
   },
   {
    "duration": 84,
    "start_time": "2022-05-28T12:48:54.593Z"
   },
   {
    "duration": 88,
    "start_time": "2022-05-28T12:51:42.812Z"
   },
   {
    "duration": 23,
    "start_time": "2022-05-28T12:52:51.685Z"
   },
   {
    "duration": 3,
    "start_time": "2022-05-28T13:09:04.266Z"
   },
   {
    "duration": 3,
    "start_time": "2022-05-28T13:09:31.642Z"
   },
   {
    "duration": 28,
    "start_time": "2022-05-28T13:24:59.521Z"
   },
   {
    "duration": 34,
    "start_time": "2022-05-28T13:26:03.367Z"
   },
   {
    "duration": 30,
    "start_time": "2022-05-28T13:26:11.488Z"
   },
   {
    "duration": 3,
    "start_time": "2022-05-28T13:26:29.291Z"
   },
   {
    "duration": 30,
    "start_time": "2022-05-28T13:26:31.684Z"
   },
   {
    "duration": 21,
    "start_time": "2022-05-28T13:27:11.013Z"
   },
   {
    "duration": 24,
    "start_time": "2022-05-28T13:27:14.274Z"
   },
   {
    "duration": 119,
    "start_time": "2022-05-28T13:29:08.084Z"
   },
   {
    "duration": 847,
    "start_time": "2022-05-28T13:42:10.569Z"
   },
   {
    "duration": 632,
    "start_time": "2022-05-28T13:43:18.794Z"
   },
   {
    "duration": 265,
    "start_time": "2022-05-28T13:44:15.162Z"
   },
   {
    "duration": 21,
    "start_time": "2022-05-28T13:44:16.164Z"
   },
   {
    "duration": 1215,
    "start_time": "2022-05-28T13:44:49.529Z"
   },
   {
    "duration": 1136,
    "start_time": "2022-05-28T13:44:51.428Z"
   },
   {
    "duration": 57,
    "start_time": "2022-05-28T13:44:54.705Z"
   },
   {
    "duration": 3,
    "start_time": "2022-05-28T13:44:55.890Z"
   },
   {
    "duration": 2647,
    "start_time": "2022-05-28T13:44:57.122Z"
   },
   {
    "duration": 365,
    "start_time": "2022-05-28T13:45:01.260Z"
   },
   {
    "duration": 627,
    "start_time": "2022-05-28T13:45:03.091Z"
   },
   {
    "duration": 3,
    "start_time": "2022-05-28T13:45:05.429Z"
   },
   {
    "duration": 18672,
    "start_time": "2022-05-28T13:45:06.657Z"
   },
   {
    "duration": 85,
    "start_time": "2022-05-28T13:45:33.906Z"
   },
   {
    "duration": 100,
    "start_time": "2022-05-28T13:45:35.644Z"
   },
   {
    "duration": 227,
    "start_time": "2022-05-28T13:45:37.419Z"
   },
   {
    "duration": 287,
    "start_time": "2022-05-28T13:45:40.602Z"
   },
   {
    "duration": 3,
    "start_time": "2022-05-28T13:45:42.714Z"
   },
   {
    "duration": 18649,
    "start_time": "2022-05-28T13:45:45.241Z"
   },
   {
    "duration": 69,
    "start_time": "2022-05-28T13:46:10.450Z"
   },
   {
    "duration": 161,
    "start_time": "2022-05-28T13:46:11.242Z"
   },
   {
    "duration": 848,
    "start_time": "2022-05-28T13:46:12.436Z"
   },
   {
    "duration": 84,
    "start_time": "2022-05-28T13:46:15.331Z"
   },
   {
    "duration": 3,
    "start_time": "2022-05-28T13:46:16.929Z"
   },
   {
    "duration": 19204,
    "start_time": "2022-05-28T13:46:18.442Z"
   },
   {
    "duration": 72,
    "start_time": "2022-05-28T13:46:39.266Z"
   },
   {
    "duration": 101,
    "start_time": "2022-05-28T13:46:40.180Z"
   },
   {
    "duration": 34,
    "start_time": "2022-05-28T13:46:41.066Z"
   },
   {
    "duration": 80,
    "start_time": "2022-05-28T13:46:41.779Z"
   },
   {
    "duration": 493,
    "start_time": "2022-05-28T13:46:43.707Z"
   },
   {
    "duration": 36,
    "start_time": "2022-05-28T13:46:45.682Z"
   },
   {
    "duration": 161,
    "start_time": "2022-05-28T13:46:47.074Z"
   },
   {
    "duration": 1055,
    "start_time": "2022-05-28T13:47:00.195Z"
   },
   {
    "duration": 1950,
    "start_time": "2022-05-28T13:49:04.980Z"
   },
   {
    "duration": 3404,
    "start_time": "2022-05-28T13:49:22.012Z"
   },
   {
    "duration": 671,
    "start_time": "2022-05-28T13:49:28.148Z"
   },
   {
    "duration": 116,
    "start_time": "2022-05-28T13:49:30.124Z"
   },
   {
    "duration": 25,
    "start_time": "2022-05-28T13:49:45.828Z"
   },
   {
    "duration": 62,
    "start_time": "2022-05-28T13:50:41.008Z"
   },
   {
    "duration": 2371,
    "start_time": "2022-05-28T13:53:28.217Z"
   },
   {
    "duration": 2445,
    "start_time": "2022-05-28T13:53:53.591Z"
   },
   {
    "duration": 1608,
    "start_time": "2022-05-28T13:53:57.342Z"
   },
   {
    "duration": 72,
    "start_time": "2022-05-28T13:54:00.623Z"
   },
   {
    "duration": 5,
    "start_time": "2022-05-28T13:54:01.862Z"
   },
   {
    "duration": 2766,
    "start_time": "2022-05-28T13:54:03.158Z"
   },
   {
    "duration": 438,
    "start_time": "2022-05-28T13:54:07.248Z"
   },
   {
    "duration": 633,
    "start_time": "2022-05-28T13:54:09.017Z"
   },
   {
    "duration": 4,
    "start_time": "2022-05-28T13:54:11.134Z"
   },
   {
    "duration": 19958,
    "start_time": "2022-05-28T13:54:14.616Z"
   },
   {
    "duration": 90,
    "start_time": "2022-05-28T13:54:37.694Z"
   },
   {
    "duration": 111,
    "start_time": "2022-05-28T13:54:38.575Z"
   },
   {
    "duration": 223,
    "start_time": "2022-05-28T13:54:39.411Z"
   },
   {
    "duration": 312,
    "start_time": "2022-05-28T13:54:41.823Z"
   },
   {
    "duration": 6,
    "start_time": "2022-05-28T13:54:43.455Z"
   },
   {
    "duration": 19756,
    "start_time": "2022-05-28T13:54:44.817Z"
   },
   {
    "duration": 69,
    "start_time": "2022-05-28T13:55:09.975Z"
   },
   {
    "duration": 190,
    "start_time": "2022-05-28T13:55:10.936Z"
   },
   {
    "duration": 933,
    "start_time": "2022-05-28T13:55:12.095Z"
   },
   {
    "duration": 212,
    "start_time": "2022-05-28T13:55:14.978Z"
   },
   {
    "duration": 6,
    "start_time": "2022-05-28T13:55:23.871Z"
   },
   {
    "duration": 20375,
    "start_time": "2022-05-28T13:55:24.992Z"
   },
   {
    "duration": 57,
    "start_time": "2022-05-28T13:55:48.201Z"
   },
   {
    "duration": 117,
    "start_time": "2022-05-28T13:55:49.249Z"
   },
   {
    "duration": 42,
    "start_time": "2022-05-28T13:55:50.128Z"
   },
   {
    "duration": 91,
    "start_time": "2022-05-28T13:55:50.916Z"
   },
   {
    "duration": 508,
    "start_time": "2022-05-28T13:55:52.135Z"
   },
   {
    "duration": 38,
    "start_time": "2022-05-28T13:55:54.055Z"
   },
   {
    "duration": 151,
    "start_time": "2022-05-28T13:55:55.362Z"
   },
   {
    "duration": 1341,
    "start_time": "2022-05-28T13:55:58.674Z"
   },
   {
    "duration": 2442,
    "start_time": "2022-05-28T13:56:02.144Z"
   },
   {
    "duration": 570,
    "start_time": "2022-05-28T13:56:06.244Z"
   },
   {
    "duration": 175,
    "start_time": "2022-05-28T13:56:10.038Z"
   },
   {
    "duration": 66,
    "start_time": "2022-05-28T13:56:21.240Z"
   },
   {
    "duration": 1631,
    "start_time": "2022-05-28T13:56:56.079Z"
   },
   {
    "duration": 135,
    "start_time": "2022-05-28T13:56:58.730Z"
   },
   {
    "duration": 1372,
    "start_time": "2022-05-28T13:58:59.357Z"
   },
   {
    "duration": 1766,
    "start_time": "2022-05-28T13:59:00.731Z"
   },
   {
    "duration": 79,
    "start_time": "2022-05-28T13:59:02.499Z"
   },
   {
    "duration": 20,
    "start_time": "2022-05-28T13:59:02.579Z"
   },
   {
    "duration": 3259,
    "start_time": "2022-05-28T13:59:02.602Z"
   },
   {
    "duration": 456,
    "start_time": "2022-05-28T13:59:05.863Z"
   },
   {
    "duration": 703,
    "start_time": "2022-05-28T13:59:06.321Z"
   },
   {
    "duration": 3,
    "start_time": "2022-05-28T13:59:07.026Z"
   },
   {
    "duration": 19439,
    "start_time": "2022-05-28T13:59:07.031Z"
   },
   {
    "duration": 108,
    "start_time": "2022-05-28T13:59:26.472Z"
   },
   {
    "duration": 119,
    "start_time": "2022-05-28T13:59:26.581Z"
   },
   {
    "duration": 262,
    "start_time": "2022-05-28T13:59:26.702Z"
   },
   {
    "duration": 342,
    "start_time": "2022-05-28T13:59:26.968Z"
   },
   {
    "duration": 3,
    "start_time": "2022-05-28T13:59:27.313Z"
   },
   {
    "duration": 20552,
    "start_time": "2022-05-28T13:59:27.318Z"
   },
   {
    "duration": 69,
    "start_time": "2022-05-28T13:59:47.876Z"
   },
   {
    "duration": 191,
    "start_time": "2022-05-28T13:59:47.948Z"
   },
   {
    "duration": 865,
    "start_time": "2022-05-28T13:59:48.141Z"
   },
   {
    "duration": 84,
    "start_time": "2022-05-28T13:59:49.008Z"
   },
   {
    "duration": 3,
    "start_time": "2022-05-28T13:59:49.093Z"
   },
   {
    "duration": 19778,
    "start_time": "2022-05-28T13:59:49.098Z"
   },
   {
    "duration": 60,
    "start_time": "2022-05-28T14:00:08.878Z"
   },
   {
    "duration": 128,
    "start_time": "2022-05-28T14:00:08.940Z"
   },
   {
    "duration": 64,
    "start_time": "2022-05-28T14:00:09.071Z"
   },
   {
    "duration": 109,
    "start_time": "2022-05-28T14:00:09.137Z"
   },
   {
    "duration": 493,
    "start_time": "2022-05-28T14:00:09.248Z"
   },
   {
    "duration": 42,
    "start_time": "2022-05-28T14:00:09.742Z"
   },
   {
    "duration": 150,
    "start_time": "2022-05-28T14:00:09.785Z"
   },
   {
    "duration": 1197,
    "start_time": "2022-05-28T14:00:18.176Z"
   },
   {
    "duration": 135,
    "start_time": "2022-05-28T14:00:20.517Z"
   },
   {
    "duration": 2519,
    "start_time": "2022-05-28T14:00:33.316Z"
   },
   {
    "duration": 126,
    "start_time": "2022-05-28T14:00:36.799Z"
   },
   {
    "duration": 627,
    "start_time": "2022-05-28T14:01:12.382Z"
   },
   {
    "duration": 18,
    "start_time": "2022-05-28T14:01:14.575Z"
   },
   {
    "duration": 1291,
    "start_time": "2022-05-28T14:03:46.605Z"
   },
   {
    "duration": 1544,
    "start_time": "2022-05-28T14:03:47.898Z"
   },
   {
    "duration": 69,
    "start_time": "2022-05-28T14:03:49.444Z"
   },
   {
    "duration": 5,
    "start_time": "2022-05-28T14:03:49.514Z"
   },
   {
    "duration": 2726,
    "start_time": "2022-05-28T14:03:49.523Z"
   },
   {
    "duration": 389,
    "start_time": "2022-05-28T14:03:52.251Z"
   },
   {
    "duration": 674,
    "start_time": "2022-05-28T14:03:52.642Z"
   },
   {
    "duration": 3,
    "start_time": "2022-05-28T14:03:53.318Z"
   },
   {
    "duration": 18949,
    "start_time": "2022-05-28T14:03:53.324Z"
   },
   {
    "duration": 84,
    "start_time": "2022-05-28T14:04:12.276Z"
   },
   {
    "duration": 109,
    "start_time": "2022-05-28T14:04:12.370Z"
   },
   {
    "duration": 241,
    "start_time": "2022-05-28T14:04:12.481Z"
   },
   {
    "duration": 349,
    "start_time": "2022-05-28T14:04:12.724Z"
   },
   {
    "duration": 4,
    "start_time": "2022-05-28T14:04:13.077Z"
   },
   {
    "duration": 19162,
    "start_time": "2022-05-28T14:04:13.084Z"
   },
   {
    "duration": 81,
    "start_time": "2022-05-28T14:04:32.248Z"
   },
   {
    "duration": 211,
    "start_time": "2022-05-28T14:04:32.331Z"
   },
   {
    "duration": 906,
    "start_time": "2022-05-28T14:04:32.544Z"
   },
   {
    "duration": 73,
    "start_time": "2022-05-28T14:04:33.451Z"
   },
   {
    "duration": 3,
    "start_time": "2022-05-28T14:04:33.525Z"
   },
   {
    "duration": 19717,
    "start_time": "2022-05-28T14:04:33.530Z"
   },
   {
    "duration": 71,
    "start_time": "2022-05-28T14:04:53.249Z"
   },
   {
    "duration": 129,
    "start_time": "2022-05-28T14:04:53.322Z"
   },
   {
    "duration": 44,
    "start_time": "2022-05-28T14:04:53.453Z"
   },
   {
    "duration": 110,
    "start_time": "2022-05-28T14:04:53.499Z"
   },
   {
    "duration": 540,
    "start_time": "2022-05-28T14:04:53.610Z"
   },
   {
    "duration": 47,
    "start_time": "2022-05-28T14:04:54.152Z"
   },
   {
    "duration": 163,
    "start_time": "2022-05-28T14:04:54.201Z"
   },
   {
    "duration": 1287,
    "start_time": "2022-05-28T14:05:02.189Z"
   },
   {
    "duration": 132,
    "start_time": "2022-05-28T14:05:04.720Z"
   },
   {
    "duration": 2434,
    "start_time": "2022-05-28T14:05:07.537Z"
   },
   {
    "duration": 502,
    "start_time": "2022-05-28T14:05:10.897Z"
   },
   {
    "duration": 44,
    "start_time": "2022-05-30T11:44:25.456Z"
   },
   {
    "duration": 59,
    "start_time": "2022-05-30T11:54:28.548Z"
   },
   {
    "duration": 4,
    "start_time": "2022-05-30T12:01:23.428Z"
   },
   {
    "duration": 4,
    "start_time": "2022-05-30T12:01:23.463Z"
   },
   {
    "duration": 1900,
    "start_time": "2022-05-30T12:01:23.469Z"
   },
   {
    "duration": 1157,
    "start_time": "2022-05-30T12:01:25.371Z"
   },
   {
    "duration": 59,
    "start_time": "2022-05-30T12:01:26.529Z"
   },
   {
    "duration": 4,
    "start_time": "2022-05-30T12:01:26.590Z"
   },
   {
    "duration": 2954,
    "start_time": "2022-05-30T12:01:26.596Z"
   },
   {
    "duration": 383,
    "start_time": "2022-05-30T12:01:29.552Z"
   },
   {
    "duration": 688,
    "start_time": "2022-05-30T12:01:29.938Z"
   },
   {
    "duration": 3,
    "start_time": "2022-05-30T12:01:30.628Z"
   },
   {
    "duration": 21778,
    "start_time": "2022-05-30T12:01:30.642Z"
   },
   {
    "duration": 100,
    "start_time": "2022-05-30T12:01:52.422Z"
   },
   {
    "duration": 157,
    "start_time": "2022-05-30T12:01:52.526Z"
   },
   {
    "duration": 268,
    "start_time": "2022-05-30T12:01:52.685Z"
   },
   {
    "duration": 317,
    "start_time": "2022-05-30T12:01:52.956Z"
   },
   {
    "duration": 3,
    "start_time": "2022-05-30T12:01:53.275Z"
   },
   {
    "duration": 20417,
    "start_time": "2022-05-30T12:01:53.279Z"
   },
   {
    "duration": 108,
    "start_time": "2022-05-30T12:02:13.699Z"
   },
   {
    "duration": 377,
    "start_time": "2022-05-30T12:02:13.809Z"
   },
   {
    "duration": 0,
    "start_time": "2022-05-30T12:02:14.189Z"
   },
   {
    "duration": 0,
    "start_time": "2022-05-30T12:02:14.190Z"
   },
   {
    "duration": 0,
    "start_time": "2022-05-30T12:02:14.192Z"
   },
   {
    "duration": 0,
    "start_time": "2022-05-30T12:02:14.193Z"
   },
   {
    "duration": 0,
    "start_time": "2022-05-30T12:02:14.194Z"
   },
   {
    "duration": 0,
    "start_time": "2022-05-30T12:02:14.195Z"
   },
   {
    "duration": 0,
    "start_time": "2022-05-30T12:02:14.197Z"
   },
   {
    "duration": 0,
    "start_time": "2022-05-30T12:02:14.198Z"
   },
   {
    "duration": 0,
    "start_time": "2022-05-30T12:02:14.200Z"
   },
   {
    "duration": 0,
    "start_time": "2022-05-30T12:02:14.201Z"
   },
   {
    "duration": 0,
    "start_time": "2022-05-30T12:02:14.202Z"
   },
   {
    "duration": 0,
    "start_time": "2022-05-30T12:02:14.225Z"
   },
   {
    "duration": 0,
    "start_time": "2022-05-30T12:02:14.226Z"
   },
   {
    "duration": 0,
    "start_time": "2022-05-30T12:02:14.227Z"
   },
   {
    "duration": 0,
    "start_time": "2022-05-30T12:02:14.228Z"
   },
   {
    "duration": 0,
    "start_time": "2022-05-30T12:02:14.229Z"
   },
   {
    "duration": 0,
    "start_time": "2022-05-30T12:02:14.229Z"
   },
   {
    "duration": 0,
    "start_time": "2022-05-30T12:02:14.230Z"
   },
   {
    "duration": 0,
    "start_time": "2022-05-30T12:02:14.231Z"
   },
   {
    "duration": 0,
    "start_time": "2022-05-30T12:02:14.231Z"
   },
   {
    "duration": 0,
    "start_time": "2022-05-30T12:02:14.232Z"
   },
   {
    "duration": 0,
    "start_time": "2022-05-30T12:02:14.233Z"
   },
   {
    "duration": 0,
    "start_time": "2022-05-30T12:02:14.234Z"
   },
   {
    "duration": 0,
    "start_time": "2022-05-30T12:02:14.234Z"
   },
   {
    "duration": 0,
    "start_time": "2022-05-30T12:02:14.235Z"
   },
   {
    "duration": 0,
    "start_time": "2022-05-30T12:02:14.241Z"
   },
   {
    "duration": 0,
    "start_time": "2022-05-30T12:02:14.242Z"
   },
   {
    "duration": 0,
    "start_time": "2022-05-30T12:02:14.243Z"
   },
   {
    "duration": 0,
    "start_time": "2022-05-30T12:02:14.243Z"
   },
   {
    "duration": 0,
    "start_time": "2022-05-30T12:02:14.244Z"
   },
   {
    "duration": 0,
    "start_time": "2022-05-30T12:02:14.244Z"
   },
   {
    "duration": 0,
    "start_time": "2022-05-30T12:02:14.245Z"
   },
   {
    "duration": 0,
    "start_time": "2022-05-30T12:02:14.245Z"
   },
   {
    "duration": 0,
    "start_time": "2022-05-30T12:02:14.246Z"
   },
   {
    "duration": 1,
    "start_time": "2022-05-30T12:02:14.246Z"
   },
   {
    "duration": 0,
    "start_time": "2022-05-30T12:02:14.247Z"
   },
   {
    "duration": 0,
    "start_time": "2022-05-30T12:02:14.248Z"
   },
   {
    "duration": 2988,
    "start_time": "2022-05-30T12:03:07.664Z"
   },
   {
    "duration": 10,
    "start_time": "2022-05-30T12:03:17.802Z"
   },
   {
    "duration": 140,
    "start_time": "2022-05-30T12:03:43.970Z"
   },
   {
    "duration": 66,
    "start_time": "2022-05-30T12:03:56.253Z"
   },
   {
    "duration": 10,
    "start_time": "2022-05-30T12:07:25.511Z"
   },
   {
    "duration": 25,
    "start_time": "2022-05-30T12:07:33.040Z"
   },
   {
    "duration": 28,
    "start_time": "2022-05-30T12:07:39.372Z"
   },
   {
    "duration": 43,
    "start_time": "2022-05-30T12:07:45.709Z"
   },
   {
    "duration": 199,
    "start_time": "2022-05-30T12:08:40.248Z"
   },
   {
    "duration": 850,
    "start_time": "2022-05-30T12:08:40.746Z"
   },
   {
    "duration": 129,
    "start_time": "2022-05-30T12:08:41.598Z"
   },
   {
    "duration": 6,
    "start_time": "2022-05-30T12:08:41.729Z"
   },
   {
    "duration": 22503,
    "start_time": "2022-05-30T12:08:42.170Z"
   },
   {
    "duration": 95,
    "start_time": "2022-05-30T12:09:04.677Z"
   },
   {
    "duration": 142,
    "start_time": "2022-05-30T12:09:04.774Z"
   },
   {
    "duration": 46,
    "start_time": "2022-05-30T12:09:04.918Z"
   },
   {
    "duration": 105,
    "start_time": "2022-05-30T12:09:04.966Z"
   },
   {
    "duration": 543,
    "start_time": "2022-05-30T12:09:05.073Z"
   },
   {
    "duration": 44,
    "start_time": "2022-05-30T12:09:05.618Z"
   },
   {
    "duration": 92,
    "start_time": "2022-05-30T12:09:43.140Z"
   },
   {
    "duration": 20,
    "start_time": "2022-05-30T12:10:05.344Z"
   },
   {
    "duration": 417,
    "start_time": "2022-05-30T12:10:24.024Z"
   },
   {
    "duration": 3,
    "start_time": "2022-05-30T12:16:57.750Z"
   },
   {
    "duration": 5,
    "start_time": "2022-05-30T12:16:57.756Z"
   },
   {
    "duration": 6,
    "start_time": "2022-05-30T12:16:57.763Z"
   },
   {
    "duration": 1020,
    "start_time": "2022-05-30T12:16:57.771Z"
   },
   {
    "duration": 73,
    "start_time": "2022-05-30T12:16:58.793Z"
   },
   {
    "duration": 4,
    "start_time": "2022-05-30T12:16:58.868Z"
   },
   {
    "duration": 2802,
    "start_time": "2022-05-30T12:16:58.874Z"
   },
   {
    "duration": 373,
    "start_time": "2022-05-30T12:17:01.678Z"
   },
   {
    "duration": 678,
    "start_time": "2022-05-30T12:17:02.052Z"
   },
   {
    "duration": 5,
    "start_time": "2022-05-30T12:17:02.735Z"
   },
   {
    "duration": 18338,
    "start_time": "2022-05-30T12:17:02.741Z"
   },
   {
    "duration": 93,
    "start_time": "2022-05-30T12:17:21.081Z"
   },
   {
    "duration": 116,
    "start_time": "2022-05-30T12:17:21.175Z"
   },
   {
    "duration": 219,
    "start_time": "2022-05-30T12:17:21.293Z"
   },
   {
    "duration": 281,
    "start_time": "2022-05-30T12:17:21.514Z"
   },
   {
    "duration": 3,
    "start_time": "2022-05-30T12:17:21.797Z"
   },
   {
    "duration": 20095,
    "start_time": "2022-05-30T12:17:21.802Z"
   },
   {
    "duration": 88,
    "start_time": "2022-05-30T12:17:41.899Z"
   },
   {
    "duration": 120,
    "start_time": "2022-05-30T12:17:41.990Z"
   },
   {
    "duration": 222,
    "start_time": "2022-05-30T12:17:42.112Z"
   },
   {
    "duration": 996,
    "start_time": "2022-05-30T12:17:42.337Z"
   },
   {
    "duration": 30,
    "start_time": "2022-05-30T12:17:43.335Z"
   },
   {
    "duration": 3,
    "start_time": "2022-05-30T12:17:43.367Z"
   },
   {
    "duration": 23738,
    "start_time": "2022-05-30T12:17:43.372Z"
   },
   {
    "duration": 120,
    "start_time": "2022-05-30T12:18:07.114Z"
   },
   {
    "duration": 163,
    "start_time": "2022-05-30T12:18:07.238Z"
   },
   {
    "duration": 54,
    "start_time": "2022-05-30T12:18:07.404Z"
   },
   {
    "duration": 128,
    "start_time": "2022-05-30T12:18:07.460Z"
   },
   {
    "duration": 550,
    "start_time": "2022-05-30T12:18:07.590Z"
   },
   {
    "duration": 37,
    "start_time": "2022-05-30T12:18:08.144Z"
   },
   {
    "duration": 175,
    "start_time": "2022-05-30T12:18:08.183Z"
   },
   {
    "duration": 278,
    "start_time": "2022-05-30T12:18:08.360Z"
   },
   {
    "duration": 220,
    "start_time": "2022-05-30T12:18:08.642Z"
   },
   {
    "duration": 74,
    "start_time": "2022-05-30T12:18:08.864Z"
   },
   {
    "duration": 16,
    "start_time": "2022-05-30T12:18:08.940Z"
   },
   {
    "duration": 1362,
    "start_time": "2022-05-30T12:18:08.958Z"
   },
   {
    "duration": 805,
    "start_time": "2022-05-30T12:18:10.329Z"
   },
   {
    "duration": 231,
    "start_time": "2022-05-30T12:18:11.143Z"
   },
   {
    "duration": 2570276,
    "start_time": "2022-05-30T12:18:11.376Z"
   },
   {
    "duration": 43598,
    "start_time": "2022-05-30T13:01:01.731Z"
   },
   {
    "duration": 5,
    "start_time": "2022-05-30T20:08:10.536Z"
   },
   {
    "duration": 15,
    "start_time": "2022-05-30T20:08:10.543Z"
   },
   {
    "duration": 1397,
    "start_time": "2022-05-30T20:08:10.560Z"
   },
   {
    "duration": 1400,
    "start_time": "2022-05-30T20:08:11.960Z"
   },
   {
    "duration": 83,
    "start_time": "2022-05-30T20:08:13.363Z"
   },
   {
    "duration": 12,
    "start_time": "2022-05-30T20:08:13.448Z"
   },
   {
    "duration": 2516,
    "start_time": "2022-05-30T20:08:13.461Z"
   },
   {
    "duration": 337,
    "start_time": "2022-05-30T20:08:15.979Z"
   },
   {
    "duration": 583,
    "start_time": "2022-05-30T20:08:16.324Z"
   },
   {
    "duration": 3,
    "start_time": "2022-05-30T20:08:16.908Z"
   },
   {
    "duration": 19432,
    "start_time": "2022-05-30T20:08:16.912Z"
   },
   {
    "duration": 88,
    "start_time": "2022-05-30T20:08:36.346Z"
   },
   {
    "duration": 114,
    "start_time": "2022-05-30T20:08:36.435Z"
   },
   {
    "duration": 120,
    "start_time": "2022-05-30T20:08:36.552Z"
   },
   {
    "duration": 3,
    "start_time": "2022-05-30T20:08:36.674Z"
   },
   {
    "duration": 178,
    "start_time": "2022-05-30T20:08:36.679Z"
   },
   {
    "duration": 782,
    "start_time": "2022-05-30T20:08:36.859Z"
   },
   {
    "duration": 29,
    "start_time": "2022-05-30T20:08:37.643Z"
   },
   {
    "duration": 3,
    "start_time": "2022-05-30T20:08:37.674Z"
   },
   {
    "duration": 16226,
    "start_time": "2022-05-30T20:08:37.678Z"
   },
   {
    "duration": 68,
    "start_time": "2022-05-30T20:08:53.906Z"
   },
   {
    "duration": 104,
    "start_time": "2022-05-30T20:08:53.976Z"
   },
   {
    "duration": 30,
    "start_time": "2022-05-30T20:08:54.082Z"
   },
   {
    "duration": 74,
    "start_time": "2022-05-30T20:08:54.123Z"
   },
   {
    "duration": 421,
    "start_time": "2022-05-30T20:08:54.199Z"
   },
   {
    "duration": 37,
    "start_time": "2022-05-30T20:08:54.623Z"
   },
   {
    "duration": 125,
    "start_time": "2022-05-30T20:08:54.661Z"
   },
   {
    "duration": 232,
    "start_time": "2022-05-30T20:08:54.788Z"
   },
   {
    "duration": 512,
    "start_time": "2022-05-30T20:08:55.022Z"
   },
   {
    "duration": 3264,
    "start_time": "2022-05-30T20:08:55.535Z"
   },
   {
    "duration": 46,
    "start_time": "2022-05-30T20:08:58.802Z"
   },
   {
    "duration": 3959,
    "start_time": "2022-05-30T20:08:58.850Z"
   },
   {
    "duration": 189,
    "start_time": "2022-05-30T20:09:02.810Z"
   },
   {
    "duration": 74,
    "start_time": "2022-05-30T20:09:03.002Z"
   },
   {
    "duration": 11,
    "start_time": "2022-05-30T20:09:03.079Z"
   },
   {
    "duration": 785,
    "start_time": "2022-05-30T20:09:03.092Z"
   },
   {
    "duration": 499,
    "start_time": "2022-05-30T20:09:03.879Z"
   },
   {
    "duration": 120,
    "start_time": "2022-05-30T20:09:04.380Z"
   },
   {
    "duration": 1706428,
    "start_time": "2022-05-30T20:09:04.502Z"
   },
   {
    "duration": 31987,
    "start_time": "2022-05-30T20:37:30.939Z"
   },
   {
    "duration": 9,
    "start_time": "2022-05-31T06:21:41.976Z"
   }
  ],
  "kernelspec": {
   "display_name": "Python 3 (ipykernel)",
   "language": "python",
   "name": "python3"
  },
  "language_info": {
   "codemirror_mode": {
    "name": "ipython",
    "version": 3
   },
   "file_extension": ".py",
   "mimetype": "text/x-python",
   "name": "python",
   "nbconvert_exporter": "python",
   "pygments_lexer": "ipython3",
   "version": "3.9.5"
  },
  "toc": {
   "base_numbering": 1,
   "nav_menu": {},
   "number_sections": true,
   "sideBar": true,
   "skip_h1_title": true,
   "title_cell": "Table of Contents",
   "title_sidebar": "Contents",
   "toc_cell": false,
   "toc_position": {},
   "toc_section_display": true,
   "toc_window_display": false
  }
 },
 "nbformat": 4,
 "nbformat_minor": 2
}
