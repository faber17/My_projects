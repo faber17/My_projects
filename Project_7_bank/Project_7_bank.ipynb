{
 "cells": [
  {
   "cell_type": "markdown",
   "metadata": {
    "toc": true
   },
   "source": [
    "<h1>Содержание<span class=\"tocSkip\"></span></h1>\n",
    "<div class=\"toc\"><ul class=\"toc-item\"><li><span><a href=\"#Изучение-данных\" data-toc-modified-id=\"Изучение-данных-1\"><span class=\"toc-item-num\">1&nbsp;&nbsp;</span>Изучение данных</a></span><ul class=\"toc-item\"><li><span><a href=\"#Импорт-библиотек\" data-toc-modified-id=\"Импорт-библиотек-1.1\"><span class=\"toc-item-num\">1.1&nbsp;&nbsp;</span>Импорт библиотек</a></span></li><li><span><a href=\"#Анализ-данных\" data-toc-modified-id=\"Анализ-данных-1.2\"><span class=\"toc-item-num\">1.2&nbsp;&nbsp;</span>Анализ данных</a></span></li><li><span><a href=\"#Вывод\" data-toc-modified-id=\"Вывод-1.3\"><span class=\"toc-item-num\">1.3&nbsp;&nbsp;</span>Вывод</a></span></li></ul></li><li><span><a href=\"#Предобработка-данных\" data-toc-modified-id=\"Предобработка-данных-2\"><span class=\"toc-item-num\">2&nbsp;&nbsp;</span>Предобработка данных</a></span><ul class=\"toc-item\"><li><span><a href=\"#Вывод\" data-toc-modified-id=\"Вывод-2.1\"><span class=\"toc-item-num\">2.1&nbsp;&nbsp;</span>Вывод</a></span></li></ul></li><li><span><a href=\"#Исследование-задачи\" data-toc-modified-id=\"Исследование-задачи-3\"><span class=\"toc-item-num\">3&nbsp;&nbsp;</span>Исследование задачи</a></span><ul class=\"toc-item\"><li><span><a href=\"#Решающее-древо\" data-toc-modified-id=\"Решающее-древо-3.1\"><span class=\"toc-item-num\">3.1&nbsp;&nbsp;</span>Решающее древо</a></span></li><li><span><a href=\"#Случайный-лес\" data-toc-modified-id=\"Случайный-лес-3.2\"><span class=\"toc-item-num\">3.2&nbsp;&nbsp;</span>Случайный лес</a></span></li><li><span><a href=\"#Логистическая-регрессия\" data-toc-modified-id=\"Логистическая-регрессия-3.3\"><span class=\"toc-item-num\">3.3&nbsp;&nbsp;</span>Логистическая регрессия</a></span></li><li><span><a href=\"#Проверка-адекватности-модели\" data-toc-modified-id=\"Проверка-адекватности-модели-3.4\"><span class=\"toc-item-num\">3.4&nbsp;&nbsp;</span>Проверка адекватности модели</a></span></li><li><span><a href=\"#Расчет-полноты,-точности-и-F-1-меры\" data-toc-modified-id=\"Расчет-полноты,-точности-и-F-1-меры-3.5\"><span class=\"toc-item-num\">3.5&nbsp;&nbsp;</span>Расчет полноты, точности и F-1 меры</a></span></li><li><span><a href=\"#ROC-кривая,-площадь-под-кривой\" data-toc-modified-id=\"ROC-кривая,-площадь-под-кривой-3.6\"><span class=\"toc-item-num\">3.6&nbsp;&nbsp;</span>ROC-кривая, площадь под кривой</a></span></li><li><span><a href=\"#Вывод\" data-toc-modified-id=\"Вывод-3.7\"><span class=\"toc-item-num\">3.7&nbsp;&nbsp;</span>Вывод</a></span></li></ul></li><li><span><a href=\"#Борьба-с-дисбалансом\" data-toc-modified-id=\"Борьба-с-дисбалансом-4\"><span class=\"toc-item-num\">4&nbsp;&nbsp;</span>Борьба с дисбалансом</a></span><ul class=\"toc-item\"><li><span><a href=\"#Взвешивание-классов\" data-toc-modified-id=\"Взвешивание-классов-4.1\"><span class=\"toc-item-num\">4.1&nbsp;&nbsp;</span>Взвешивание классов</a></span></li><li><span><a href=\"#Увеличение-выборки\" data-toc-modified-id=\"Увеличение-выборки-4.2\"><span class=\"toc-item-num\">4.2&nbsp;&nbsp;</span>Увеличение выборки</a></span></li><li><span><a href=\"#Уменьшение-выборки\" data-toc-modified-id=\"Уменьшение-выборки-4.3\"><span class=\"toc-item-num\">4.3&nbsp;&nbsp;</span>Уменьшение выборки</a></span></li><li><span><a href=\"#Изменение-порога-классификации\" data-toc-modified-id=\"Изменение-порога-классификации-4.4\"><span class=\"toc-item-num\">4.4&nbsp;&nbsp;</span>Изменение порога классификации</a></span></li><li><span><a href=\"#Вывод\" data-toc-modified-id=\"Вывод-4.5\"><span class=\"toc-item-num\">4.5&nbsp;&nbsp;</span>Вывод</a></span></li></ul></li><li><span><a href=\"#Тестирование-модели\" data-toc-modified-id=\"Тестирование-модели-5\"><span class=\"toc-item-num\">5&nbsp;&nbsp;</span>Тестирование модели</a></span><ul class=\"toc-item\"><li><span><a href=\"#Вывод\" data-toc-modified-id=\"Вывод-5.1\"><span class=\"toc-item-num\">5.1&nbsp;&nbsp;</span>Вывод</a></span></li></ul></li><li><span><a href=\"#Общий-вывод\" data-toc-modified-id=\"Общий-вывод-6\"><span class=\"toc-item-num\">6&nbsp;&nbsp;</span>Общий вывод</a></span></li><li><span><a href=\"#Чек-лист-готовности-проекта\" data-toc-modified-id=\"Чек-лист-готовности-проекта-7\"><span class=\"toc-item-num\">7&nbsp;&nbsp;</span>Чек-лист готовности проекта</a></span></li></ul></div>"
   ]
  },
  {
   "cell_type": "markdown",
   "metadata": {},
   "source": [
    "# Отток клиентов"
   ]
  },
  {
   "cell_type": "markdown",
   "metadata": {},
   "source": [
    "Из «Бета-Банка» стали уходить клиенты. Каждый месяц. Немного, но заметно. Банковские маркетологи посчитали: сохранять текущих клиентов дешевле, чем привлекать новых.\n",
    "\n",
    "Нужно спрогнозировать, уйдёт клиент из банка в ближайшее время или нет. Вам предоставлены исторические данные о поведении клиентов и расторжении договоров с банком. \n",
    "\n",
    "Постройте модель с предельно большим значением *F1*-меры. Чтобы сдать проект успешно, нужно довести метрику до 0.59. Проверьте *F1*-меру на тестовой выборке самостоятельно.\n",
    "\n",
    "Дополнительно измеряйте *AUC-ROC*, сравнивайте её значение с *F1*-мерой.\n",
    "\n",
    "Источник данных: [https://www.kaggle.com/barelydedicated/bank-customer-churn-modeling](https://www.kaggle.com/barelydedicated/bank-customer-churn-modeling)"
   ]
  },
  {
   "cell_type": "markdown",
   "metadata": {},
   "source": [
    "# Инструкция по выполнению проекта"
   ]
  },
  {
   "cell_type": "markdown",
   "metadata": {},
   "source": [
    "- Загрузите и подготовьте данные. Поясните порядок действий.\n",
    "- Исследуйте баланс классов, обучите модель без учёта дисбаланса. Кратко опишите выводы.\n",
    "- Улучшите качество модели, учитывая дисбаланс классов. Обучите разные модели и найдите лучшую. Кратко опишите выводы.\n",
    "- Проведите финальное тестирование."
   ]
  },
  {
   "cell_type": "markdown",
   "metadata": {},
   "source": [
    "# Описание данных"
   ]
  },
  {
   "cell_type": "markdown",
   "metadata": {},
   "source": [
    "Данные находятся в файле /datasets/Churn.csv\n",
    "<br>\n",
    "\n",
    "**Признаки**\n",
    "<br>\n",
    "- RowNumber — индекс строки в данных\n",
    "- CustomerId — уникальный идентификатор клиента\n",
    "- Surname — фамилия\n",
    "- CreditScore — кредитный рейтинг\n",
    "- Geography — страна проживания\n",
    "- Gender — пол\n",
    "- Age — возраст\n",
    "- Tenure — сколько лет человек является клиентом банка\n",
    "- Balance — баланс на счёте\n",
    "- NumOfProducts — количество продуктов банка, используемых клиентом\n",
    "- HasCrCard — наличие кредитной карты\n",
    "- IsActiveMember — активность клиента\n",
    "- EstimatedSalary — предполагаемая зарплата\n",
    "<br>\n",
    "\n",
    "**Целевой признак**\n",
    "<br>\n",
    "- Exited — факт ухода клиента"
   ]
  },
  {
   "cell_type": "markdown",
   "metadata": {},
   "source": [
    "## Изучение данных"
   ]
  },
  {
   "cell_type": "markdown",
   "metadata": {},
   "source": [
    "### Импорт библиотек"
   ]
  },
  {
   "cell_type": "markdown",
   "metadata": {},
   "source": [
    "Импортирую все необходимые для исследования библиотеки."
   ]
  },
  {
   "cell_type": "code",
   "execution_count": 1,
   "metadata": {},
   "outputs": [],
   "source": [
    "import pandas as pd\n",
    "import matplotlib.pyplot as plt\n",
    "import numpy as np\n",
    "from sklearn.model_selection import train_test_split\n",
    "from sklearn.metrics import accuracy_score\n",
    "from sklearn.model_selection import GridSearchCV\n",
    "from sklearn.tree import DecisionTreeClassifier\n",
    "from sklearn.ensemble import RandomForestClassifier\n",
    "from sklearn.linear_model import LogisticRegression\n",
    "from sklearn.metrics import f1_score, precision_score, recall_score, accuracy_score, roc_auc_score, roc_curve\n",
    "from sklearn.utils import shuffle\n",
    "import warnings\n",
    "warnings.filterwarnings('ignore')"
   ]
  },
  {
   "cell_type": "markdown",
   "metadata": {},
   "source": [
    "### Анализ данных"
   ]
  },
  {
   "cell_type": "markdown",
   "metadata": {},
   "source": [
    "Открою файл с данными."
   ]
  },
  {
   "cell_type": "code",
   "execution_count": 2,
   "metadata": {},
   "outputs": [
    {
     "data": {
      "text/html": [
       "<div>\n",
       "<style scoped>\n",
       "    .dataframe tbody tr th:only-of-type {\n",
       "        vertical-align: middle;\n",
       "    }\n",
       "\n",
       "    .dataframe tbody tr th {\n",
       "        vertical-align: top;\n",
       "    }\n",
       "\n",
       "    .dataframe thead th {\n",
       "        text-align: right;\n",
       "    }\n",
       "</style>\n",
       "<table border=\"1\" class=\"dataframe\">\n",
       "  <thead>\n",
       "    <tr style=\"text-align: right;\">\n",
       "      <th></th>\n",
       "      <th>RowNumber</th>\n",
       "      <th>CustomerId</th>\n",
       "      <th>Surname</th>\n",
       "      <th>CreditScore</th>\n",
       "      <th>Geography</th>\n",
       "      <th>Gender</th>\n",
       "      <th>Age</th>\n",
       "      <th>Tenure</th>\n",
       "      <th>Balance</th>\n",
       "      <th>NumOfProducts</th>\n",
       "      <th>HasCrCard</th>\n",
       "      <th>IsActiveMember</th>\n",
       "      <th>EstimatedSalary</th>\n",
       "      <th>Exited</th>\n",
       "    </tr>\n",
       "  </thead>\n",
       "  <tbody>\n",
       "    <tr>\n",
       "      <th>0</th>\n",
       "      <td>1</td>\n",
       "      <td>15634602</td>\n",
       "      <td>Hargrave</td>\n",
       "      <td>619</td>\n",
       "      <td>France</td>\n",
       "      <td>Female</td>\n",
       "      <td>42</td>\n",
       "      <td>2.0</td>\n",
       "      <td>0.00</td>\n",
       "      <td>1</td>\n",
       "      <td>1</td>\n",
       "      <td>1</td>\n",
       "      <td>101348.88</td>\n",
       "      <td>1</td>\n",
       "    </tr>\n",
       "    <tr>\n",
       "      <th>1</th>\n",
       "      <td>2</td>\n",
       "      <td>15647311</td>\n",
       "      <td>Hill</td>\n",
       "      <td>608</td>\n",
       "      <td>Spain</td>\n",
       "      <td>Female</td>\n",
       "      <td>41</td>\n",
       "      <td>1.0</td>\n",
       "      <td>83807.86</td>\n",
       "      <td>1</td>\n",
       "      <td>0</td>\n",
       "      <td>1</td>\n",
       "      <td>112542.58</td>\n",
       "      <td>0</td>\n",
       "    </tr>\n",
       "    <tr>\n",
       "      <th>2</th>\n",
       "      <td>3</td>\n",
       "      <td>15619304</td>\n",
       "      <td>Onio</td>\n",
       "      <td>502</td>\n",
       "      <td>France</td>\n",
       "      <td>Female</td>\n",
       "      <td>42</td>\n",
       "      <td>8.0</td>\n",
       "      <td>159660.80</td>\n",
       "      <td>3</td>\n",
       "      <td>1</td>\n",
       "      <td>0</td>\n",
       "      <td>113931.57</td>\n",
       "      <td>1</td>\n",
       "    </tr>\n",
       "    <tr>\n",
       "      <th>3</th>\n",
       "      <td>4</td>\n",
       "      <td>15701354</td>\n",
       "      <td>Boni</td>\n",
       "      <td>699</td>\n",
       "      <td>France</td>\n",
       "      <td>Female</td>\n",
       "      <td>39</td>\n",
       "      <td>1.0</td>\n",
       "      <td>0.00</td>\n",
       "      <td>2</td>\n",
       "      <td>0</td>\n",
       "      <td>0</td>\n",
       "      <td>93826.63</td>\n",
       "      <td>0</td>\n",
       "    </tr>\n",
       "    <tr>\n",
       "      <th>4</th>\n",
       "      <td>5</td>\n",
       "      <td>15737888</td>\n",
       "      <td>Mitchell</td>\n",
       "      <td>850</td>\n",
       "      <td>Spain</td>\n",
       "      <td>Female</td>\n",
       "      <td>43</td>\n",
       "      <td>2.0</td>\n",
       "      <td>125510.82</td>\n",
       "      <td>1</td>\n",
       "      <td>1</td>\n",
       "      <td>1</td>\n",
       "      <td>79084.10</td>\n",
       "      <td>0</td>\n",
       "    </tr>\n",
       "    <tr>\n",
       "      <th>5</th>\n",
       "      <td>6</td>\n",
       "      <td>15574012</td>\n",
       "      <td>Chu</td>\n",
       "      <td>645</td>\n",
       "      <td>Spain</td>\n",
       "      <td>Male</td>\n",
       "      <td>44</td>\n",
       "      <td>8.0</td>\n",
       "      <td>113755.78</td>\n",
       "      <td>2</td>\n",
       "      <td>1</td>\n",
       "      <td>0</td>\n",
       "      <td>149756.71</td>\n",
       "      <td>1</td>\n",
       "    </tr>\n",
       "    <tr>\n",
       "      <th>6</th>\n",
       "      <td>7</td>\n",
       "      <td>15592531</td>\n",
       "      <td>Bartlett</td>\n",
       "      <td>822</td>\n",
       "      <td>France</td>\n",
       "      <td>Male</td>\n",
       "      <td>50</td>\n",
       "      <td>7.0</td>\n",
       "      <td>0.00</td>\n",
       "      <td>2</td>\n",
       "      <td>1</td>\n",
       "      <td>1</td>\n",
       "      <td>10062.80</td>\n",
       "      <td>0</td>\n",
       "    </tr>\n",
       "    <tr>\n",
       "      <th>7</th>\n",
       "      <td>8</td>\n",
       "      <td>15656148</td>\n",
       "      <td>Obinna</td>\n",
       "      <td>376</td>\n",
       "      <td>Germany</td>\n",
       "      <td>Female</td>\n",
       "      <td>29</td>\n",
       "      <td>4.0</td>\n",
       "      <td>115046.74</td>\n",
       "      <td>4</td>\n",
       "      <td>1</td>\n",
       "      <td>0</td>\n",
       "      <td>119346.88</td>\n",
       "      <td>1</td>\n",
       "    </tr>\n",
       "    <tr>\n",
       "      <th>8</th>\n",
       "      <td>9</td>\n",
       "      <td>15792365</td>\n",
       "      <td>He</td>\n",
       "      <td>501</td>\n",
       "      <td>France</td>\n",
       "      <td>Male</td>\n",
       "      <td>44</td>\n",
       "      <td>4.0</td>\n",
       "      <td>142051.07</td>\n",
       "      <td>2</td>\n",
       "      <td>0</td>\n",
       "      <td>1</td>\n",
       "      <td>74940.50</td>\n",
       "      <td>0</td>\n",
       "    </tr>\n",
       "    <tr>\n",
       "      <th>9</th>\n",
       "      <td>10</td>\n",
       "      <td>15592389</td>\n",
       "      <td>H?</td>\n",
       "      <td>684</td>\n",
       "      <td>France</td>\n",
       "      <td>Male</td>\n",
       "      <td>27</td>\n",
       "      <td>2.0</td>\n",
       "      <td>134603.88</td>\n",
       "      <td>1</td>\n",
       "      <td>1</td>\n",
       "      <td>1</td>\n",
       "      <td>71725.73</td>\n",
       "      <td>0</td>\n",
       "    </tr>\n",
       "  </tbody>\n",
       "</table>\n",
       "</div>"
      ],
      "text/plain": [
       "   RowNumber  CustomerId   Surname  CreditScore Geography  Gender  Age  \\\n",
       "0          1    15634602  Hargrave          619    France  Female   42   \n",
       "1          2    15647311      Hill          608     Spain  Female   41   \n",
       "2          3    15619304      Onio          502    France  Female   42   \n",
       "3          4    15701354      Boni          699    France  Female   39   \n",
       "4          5    15737888  Mitchell          850     Spain  Female   43   \n",
       "5          6    15574012       Chu          645     Spain    Male   44   \n",
       "6          7    15592531  Bartlett          822    France    Male   50   \n",
       "7          8    15656148    Obinna          376   Germany  Female   29   \n",
       "8          9    15792365        He          501    France    Male   44   \n",
       "9         10    15592389        H?          684    France    Male   27   \n",
       "\n",
       "   Tenure    Balance  NumOfProducts  HasCrCard  IsActiveMember  \\\n",
       "0     2.0       0.00              1          1               1   \n",
       "1     1.0   83807.86              1          0               1   \n",
       "2     8.0  159660.80              3          1               0   \n",
       "3     1.0       0.00              2          0               0   \n",
       "4     2.0  125510.82              1          1               1   \n",
       "5     8.0  113755.78              2          1               0   \n",
       "6     7.0       0.00              2          1               1   \n",
       "7     4.0  115046.74              4          1               0   \n",
       "8     4.0  142051.07              2          0               1   \n",
       "9     2.0  134603.88              1          1               1   \n",
       "\n",
       "   EstimatedSalary  Exited  \n",
       "0        101348.88       1  \n",
       "1        112542.58       0  \n",
       "2        113931.57       1  \n",
       "3         93826.63       0  \n",
       "4         79084.10       0  \n",
       "5        149756.71       1  \n",
       "6         10062.80       0  \n",
       "7        119346.88       1  \n",
       "8         74940.50       0  \n",
       "9         71725.73       0  "
      ]
     },
     "metadata": {},
     "output_type": "display_data"
    }
   ],
   "source": [
    "try:  \n",
    "    churn = pd.read_csv('C:/Churn.csv')\n",
    "except OSError as e:\n",
    "    churn = pd.read_csv('/datasets/Churn.csv')\n",
    "display(churn.head(10))"
   ]
  },
  {
   "cell_type": "code",
   "execution_count": 3,
   "metadata": {},
   "outputs": [
    {
     "name": "stdout",
     "output_type": "stream",
     "text": [
      "<class 'pandas.core.frame.DataFrame'>\n",
      "RangeIndex: 10000 entries, 0 to 9999\n",
      "Data columns (total 14 columns):\n",
      " #   Column           Non-Null Count  Dtype  \n",
      "---  ------           --------------  -----  \n",
      " 0   RowNumber        10000 non-null  int64  \n",
      " 1   CustomerId       10000 non-null  int64  \n",
      " 2   Surname          10000 non-null  object \n",
      " 3   CreditScore      10000 non-null  int64  \n",
      " 4   Geography        10000 non-null  object \n",
      " 5   Gender           10000 non-null  object \n",
      " 6   Age              10000 non-null  int64  \n",
      " 7   Tenure           9091 non-null   float64\n",
      " 8   Balance          10000 non-null  float64\n",
      " 9   NumOfProducts    10000 non-null  int64  \n",
      " 10  HasCrCard        10000 non-null  int64  \n",
      " 11  IsActiveMember   10000 non-null  int64  \n",
      " 12  EstimatedSalary  10000 non-null  float64\n",
      " 13  Exited           10000 non-null  int64  \n",
      "dtypes: float64(3), int64(8), object(3)\n",
      "memory usage: 1.1+ MB\n"
     ]
    },
    {
     "data": {
      "text/plain": [
       "None"
      ]
     },
     "metadata": {},
     "output_type": "display_data"
    }
   ],
   "source": [
    "display(churn.info())"
   ]
  },
  {
   "cell_type": "markdown",
   "metadata": {},
   "source": [
    "Проверю каждй столбец на выбивающиеся значения."
   ]
  },
  {
   "cell_type": "code",
   "execution_count": 4,
   "metadata": {},
   "outputs": [
    {
     "data": {
      "text/plain": [
       "array([    1,     2,     3, ...,  9998,  9999, 10000])"
      ]
     },
     "metadata": {},
     "output_type": "display_data"
    }
   ],
   "source": [
    "display(churn['RowNumber'].unique())"
   ]
  },
  {
   "cell_type": "markdown",
   "metadata": {},
   "source": [
    "Выбивающихсязначений нет."
   ]
  },
  {
   "cell_type": "code",
   "execution_count": 5,
   "metadata": {},
   "outputs": [
    {
     "data": {
      "text/plain": [
       "array([15565701, 15565706, 15565714, ..., 15815656, 15815660, 15815690])"
      ]
     },
     "metadata": {},
     "output_type": "display_data"
    }
   ],
   "source": [
    "display(churn['CustomerId'].sort_values().unique())"
   ]
  },
  {
   "cell_type": "markdown",
   "metadata": {},
   "source": [
    "Выбивающихся значений нет."
   ]
  },
  {
   "cell_type": "code",
   "execution_count": 6,
   "metadata": {},
   "outputs": [
    {
     "data": {
      "text/plain": [
       "array(['Abazu', 'Abbie', 'Abbott', ..., 'Zuev', 'Zuyev', 'Zuyeva'],\n",
       "      dtype=object)"
      ]
     },
     "metadata": {},
     "output_type": "display_data"
    }
   ],
   "source": [
    "display(churn['Surname'].sort_values().unique())"
   ]
  },
  {
   "cell_type": "markdown",
   "metadata": {},
   "source": [
    "В 10 строке фамилия - H?."
   ]
  },
  {
   "cell_type": "code",
   "execution_count": 7,
   "metadata": {},
   "outputs": [
    {
     "data": {
      "text/plain": [
       "array([350, 351, 358, 359, 363, 365, 367, 373, 376, 382, 383, 386, 395,\n",
       "       399, 401, 404, 405, 407, 408, 410, 411, 412, 413, 414, 415, 416,\n",
       "       417, 418, 419, 420, 421, 422, 423, 424, 425, 426, 427, 428, 429,\n",
       "       430, 431, 432, 433, 434, 435, 436, 437, 438, 439, 440, 441, 442,\n",
       "       443, 444, 445, 446, 447, 448, 449, 450, 451, 452, 453, 454, 455,\n",
       "       456, 457, 458, 459, 460, 461, 462, 463, 464, 465, 466, 467, 468,\n",
       "       469, 470, 471, 472, 473, 474, 475, 476, 477, 478, 479, 480, 481,\n",
       "       482, 483, 484, 485, 486, 487, 488, 489, 490, 491, 492, 493, 494,\n",
       "       495, 496, 497, 498, 499, 500, 501, 502, 503, 504, 505, 506, 507,\n",
       "       508, 509, 510, 511, 512, 513, 514, 515, 516, 517, 518, 519, 520,\n",
       "       521, 522, 523, 524, 525, 526, 527, 528, 529, 530, 531, 532, 533,\n",
       "       534, 535, 536, 537, 538, 539, 540, 541, 542, 543, 544, 545, 546,\n",
       "       547, 548, 549, 550, 551, 552, 553, 554, 555, 556, 557, 558, 559,\n",
       "       560, 561, 562, 563, 564, 565, 566, 567, 568, 569, 570, 571, 572,\n",
       "       573, 574, 575, 576, 577, 578, 579, 580, 581, 582, 583, 584, 585,\n",
       "       586, 587, 588, 589, 590, 591, 592, 593, 594, 595, 596, 597, 598,\n",
       "       599, 600, 601, 602, 603, 604, 605, 606, 607, 608, 609, 610, 611,\n",
       "       612, 613, 614, 615, 616, 617, 618, 619, 620, 621, 622, 623, 624,\n",
       "       625, 626, 627, 628, 629, 630, 631, 632, 633, 634, 635, 636, 637,\n",
       "       638, 639, 640, 641, 642, 643, 644, 645, 646, 647, 648, 649, 650,\n",
       "       651, 652, 653, 654, 655, 656, 657, 658, 659, 660, 661, 662, 663,\n",
       "       664, 665, 666, 667, 668, 669, 670, 671, 672, 673, 674, 675, 676,\n",
       "       677, 678, 679, 680, 681, 682, 683, 684, 685, 686, 687, 688, 689,\n",
       "       690, 691, 692, 693, 694, 695, 696, 697, 698, 699, 700, 701, 702,\n",
       "       703, 704, 705, 706, 707, 708, 709, 710, 711, 712, 713, 714, 715,\n",
       "       716, 717, 718, 719, 720, 721, 722, 723, 724, 725, 726, 727, 728,\n",
       "       729, 730, 731, 732, 733, 734, 735, 736, 737, 738, 739, 740, 741,\n",
       "       742, 743, 744, 745, 746, 747, 748, 749, 750, 751, 752, 753, 754,\n",
       "       755, 756, 757, 758, 759, 760, 761, 762, 763, 764, 765, 766, 767,\n",
       "       768, 769, 770, 771, 772, 773, 774, 775, 776, 777, 778, 779, 780,\n",
       "       781, 782, 783, 784, 785, 786, 787, 788, 789, 790, 791, 792, 793,\n",
       "       794, 795, 796, 797, 798, 799, 800, 801, 802, 803, 804, 805, 806,\n",
       "       807, 808, 809, 810, 811, 812, 813, 814, 815, 816, 817, 818, 819,\n",
       "       820, 821, 822, 823, 824, 825, 826, 827, 828, 829, 830, 831, 832,\n",
       "       833, 834, 835, 836, 837, 838, 839, 840, 841, 842, 843, 844, 845,\n",
       "       846, 847, 848, 849, 850])"
      ]
     },
     "metadata": {},
     "output_type": "display_data"
    }
   ],
   "source": [
    "display(churn['CreditScore'].sort_values().unique())"
   ]
  },
  {
   "cell_type": "markdown",
   "metadata": {},
   "source": [
    "Выбивающихся значений нет."
   ]
  },
  {
   "cell_type": "code",
   "execution_count": 8,
   "metadata": {},
   "outputs": [
    {
     "data": {
      "text/plain": [
       "array(['France', 'Spain', 'Germany'], dtype=object)"
      ]
     },
     "metadata": {},
     "output_type": "display_data"
    }
   ],
   "source": [
    "display(churn['Geography'].unique())"
   ]
  },
  {
   "cell_type": "markdown",
   "metadata": {},
   "source": [
    "Выбивающихся значений нет."
   ]
  },
  {
   "cell_type": "code",
   "execution_count": 9,
   "metadata": {},
   "outputs": [
    {
     "data": {
      "text/plain": [
       "array(['Female', 'Male'], dtype=object)"
      ]
     },
     "metadata": {},
     "output_type": "display_data"
    }
   ],
   "source": [
    "display(churn['Gender'].unique())"
   ]
  },
  {
   "cell_type": "markdown",
   "metadata": {},
   "source": [
    "Выбивающихся значений нет."
   ]
  },
  {
   "cell_type": "code",
   "execution_count": 10,
   "metadata": {},
   "outputs": [
    {
     "data": {
      "text/plain": [
       "array([18, 19, 20, 21, 22, 23, 24, 25, 26, 27, 28, 29, 30, 31, 32, 33, 34,\n",
       "       35, 36, 37, 38, 39, 40, 41, 42, 43, 44, 45, 46, 47, 48, 49, 50, 51,\n",
       "       52, 53, 54, 55, 56, 57, 58, 59, 60, 61, 62, 63, 64, 65, 66, 67, 68,\n",
       "       69, 70, 71, 72, 73, 74, 75, 76, 77, 78, 79, 80, 81, 82, 83, 84, 85,\n",
       "       88, 92])"
      ]
     },
     "metadata": {},
     "output_type": "display_data"
    }
   ],
   "source": [
    "display(churn['Age'].sort_values().unique())"
   ]
  },
  {
   "cell_type": "markdown",
   "metadata": {},
   "source": [
    "Выбивающихся значений нет."
   ]
  },
  {
   "cell_type": "code",
   "execution_count": 11,
   "metadata": {},
   "outputs": [
    {
     "data": {
      "text/plain": [
       "array([ 0.,  1.,  2.,  3.,  4.,  5.,  6.,  7.,  8.,  9., 10., nan])"
      ]
     },
     "metadata": {},
     "output_type": "display_data"
    },
    {
     "data": {
      "text/plain": [
       "909"
      ]
     },
     "metadata": {},
     "output_type": "display_data"
    }
   ],
   "source": [
    "display(churn['Tenure'].sort_values().unique())\n",
    "display(churn['Tenure'].isna().sum())"
   ]
  },
  {
   "cell_type": "markdown",
   "metadata": {},
   "source": [
    "Присутствует NaN."
   ]
  },
  {
   "cell_type": "code",
   "execution_count": 12,
   "metadata": {},
   "outputs": [
    {
     "data": {
      "text/plain": [
       "array([     0.  ,   3768.69,  12459.19, ..., 222267.63, 238387.56,\n",
       "       250898.09])"
      ]
     },
     "metadata": {},
     "output_type": "display_data"
    }
   ],
   "source": [
    "display(churn['Balance'].sort_values().unique())"
   ]
  },
  {
   "cell_type": "markdown",
   "metadata": {},
   "source": [
    "В столбце есть нули."
   ]
  },
  {
   "cell_type": "code",
   "execution_count": 13,
   "metadata": {},
   "outputs": [
    {
     "data": {
      "text/plain": [
       "array([1, 3, 2, 4])"
      ]
     },
     "metadata": {},
     "output_type": "display_data"
    }
   ],
   "source": [
    "display(churn['NumOfProducts'].unique())"
   ]
  },
  {
   "cell_type": "markdown",
   "metadata": {},
   "source": [
    "Выбивающихся значений нет."
   ]
  },
  {
   "cell_type": "code",
   "execution_count": 14,
   "metadata": {},
   "outputs": [
    {
     "data": {
      "text/plain": [
       "array([1, 0])"
      ]
     },
     "metadata": {},
     "output_type": "display_data"
    }
   ],
   "source": [
    "display(churn['HasCrCard'].unique())"
   ]
  },
  {
   "cell_type": "markdown",
   "metadata": {},
   "source": [
    "Выбивающихся значений нет."
   ]
  },
  {
   "cell_type": "code",
   "execution_count": 15,
   "metadata": {},
   "outputs": [
    {
     "data": {
      "text/plain": [
       "array([1, 0])"
      ]
     },
     "metadata": {},
     "output_type": "display_data"
    }
   ],
   "source": [
    "display(churn['IsActiveMember'].unique())"
   ]
  },
  {
   "cell_type": "markdown",
   "metadata": {},
   "source": [
    "Выбивающихся значений нет."
   ]
  },
  {
   "cell_type": "code",
   "execution_count": 16,
   "metadata": {},
   "outputs": [
    {
     "data": {
      "text/plain": [
       "array([1.1580000e+01, 9.0070000e+01, 9.1750000e+01, ..., 1.9995333e+05,\n",
       "       1.9997074e+05, 1.9999248e+05])"
      ]
     },
     "metadata": {},
     "output_type": "display_data"
    }
   ],
   "source": [
    "display(churn['EstimatedSalary'].sort_values().unique())"
   ]
  },
  {
   "cell_type": "markdown",
   "metadata": {},
   "source": [
    "Выбивающихся значений нет."
   ]
  },
  {
   "cell_type": "code",
   "execution_count": 17,
   "metadata": {},
   "outputs": [
    {
     "data": {
      "text/plain": [
       "array([1, 0])"
      ]
     },
     "metadata": {},
     "output_type": "display_data"
    }
   ],
   "source": [
    "display(churn['Exited'].unique())"
   ]
  },
  {
   "cell_type": "markdown",
   "metadata": {},
   "source": [
    "Выбивающихся значений нет."
   ]
  },
  {
   "cell_type": "markdown",
   "metadata": {},
   "source": [
    "### Вывод"
   ]
  },
  {
   "cell_type": "markdown",
   "metadata": {},
   "source": [
    "Таблица представляет собой данные по клиентам банка. Таблица состоит из следующих столбцов: \n",
    "- RowNumber — столбец дублирует индекс. Считаю, что для исследования этот столбец бесполезен.\n",
    "- CustomerId — уникальный идентификатор клиента. С данными все в порядке. Считаю, что для исследования этот столбец бесполезен.\n",
    "- Surname — фамилия клиента. В данных как минимум присутствует символ \"?\". Возможно данный столбец в рамках исследования бесполезен.\n",
    "- CreditScore — кредитный рейтинг клиента. С данными все в порядке.  \n",
    "- Geography — страна проживания клиента. С данными все в порядке. Категориальный признак.\n",
    "- Gender — пол клиента. С данными все в порядке. Категориальный признак.\n",
    "- Age — возраст клиента. С данными все в порядке.\n",
    "- Tenure — сколько лет клиент является клиентом банка. В данных есть NaN. Данные имеют тип float64.\n",
    "- Balance — баланс на счёте клиента. В данных есть нули - это просто говорит о том, что на счету клиента нет денег. Данные имеют тип float64.\n",
    "- NumOfProducts — количество продуктов банка, используемых клиентом. С данными все в порядке. Категориальный признак.\n",
    "- HasCrCard — наличие кредитной карты. С данными все в порядке. Категориальный признак.\n",
    "- IsActiveMember — активность клиента. С данными все в порядке. Категориальный признак.\n",
    "- EstimatedSalary — предполагаемая зарплата клиента. Данные имеют тип float64.\n",
    "<br>\n",
    "\n",
    "Целевой признак\n",
    "- Exited — факт ухода клиента. С данными все в порядке. Категориальный признак.\n",
    "\n",
    "Наименования всех столбцов содержат заглавные буквы, встречается слитное написание."
   ]
  },
  {
   "cell_type": "markdown",
   "metadata": {},
   "source": [
    "## Предобработка данных"
   ]
  },
  {
   "cell_type": "markdown",
   "metadata": {},
   "source": [
    "Приведу данные к пригодному для исследования виду.\n",
    "\n",
    "Удалю ненужные столбцы."
   ]
  },
  {
   "cell_type": "code",
   "execution_count": 18,
   "metadata": {},
   "outputs": [
    {
     "data": {
      "text/html": [
       "<div>\n",
       "<style scoped>\n",
       "    .dataframe tbody tr th:only-of-type {\n",
       "        vertical-align: middle;\n",
       "    }\n",
       "\n",
       "    .dataframe tbody tr th {\n",
       "        vertical-align: top;\n",
       "    }\n",
       "\n",
       "    .dataframe thead th {\n",
       "        text-align: right;\n",
       "    }\n",
       "</style>\n",
       "<table border=\"1\" class=\"dataframe\">\n",
       "  <thead>\n",
       "    <tr style=\"text-align: right;\">\n",
       "      <th></th>\n",
       "      <th>CreditScore</th>\n",
       "      <th>Geography</th>\n",
       "      <th>Gender</th>\n",
       "      <th>Age</th>\n",
       "      <th>Tenure</th>\n",
       "      <th>Balance</th>\n",
       "      <th>NumOfProducts</th>\n",
       "      <th>HasCrCard</th>\n",
       "      <th>IsActiveMember</th>\n",
       "      <th>EstimatedSalary</th>\n",
       "      <th>Exited</th>\n",
       "    </tr>\n",
       "  </thead>\n",
       "  <tbody>\n",
       "    <tr>\n",
       "      <th>0</th>\n",
       "      <td>619</td>\n",
       "      <td>France</td>\n",
       "      <td>Female</td>\n",
       "      <td>42</td>\n",
       "      <td>2.0</td>\n",
       "      <td>0.00</td>\n",
       "      <td>1</td>\n",
       "      <td>1</td>\n",
       "      <td>1</td>\n",
       "      <td>101348.88</td>\n",
       "      <td>1</td>\n",
       "    </tr>\n",
       "    <tr>\n",
       "      <th>1</th>\n",
       "      <td>608</td>\n",
       "      <td>Spain</td>\n",
       "      <td>Female</td>\n",
       "      <td>41</td>\n",
       "      <td>1.0</td>\n",
       "      <td>83807.86</td>\n",
       "      <td>1</td>\n",
       "      <td>0</td>\n",
       "      <td>1</td>\n",
       "      <td>112542.58</td>\n",
       "      <td>0</td>\n",
       "    </tr>\n",
       "    <tr>\n",
       "      <th>2</th>\n",
       "      <td>502</td>\n",
       "      <td>France</td>\n",
       "      <td>Female</td>\n",
       "      <td>42</td>\n",
       "      <td>8.0</td>\n",
       "      <td>159660.80</td>\n",
       "      <td>3</td>\n",
       "      <td>1</td>\n",
       "      <td>0</td>\n",
       "      <td>113931.57</td>\n",
       "      <td>1</td>\n",
       "    </tr>\n",
       "  </tbody>\n",
       "</table>\n",
       "</div>"
      ],
      "text/plain": [
       "   CreditScore Geography  Gender  Age  Tenure    Balance  NumOfProducts  \\\n",
       "0          619    France  Female   42     2.0       0.00              1   \n",
       "1          608     Spain  Female   41     1.0   83807.86              1   \n",
       "2          502    France  Female   42     8.0  159660.80              3   \n",
       "\n",
       "   HasCrCard  IsActiveMember  EstimatedSalary  Exited  \n",
       "0          1               1        101348.88       1  \n",
       "1          0               1        112542.58       0  \n",
       "2          1               0        113931.57       1  "
      ]
     },
     "metadata": {},
     "output_type": "display_data"
    }
   ],
   "source": [
    "churn = churn.drop(['RowNumber', 'CustomerId', 'Surname'], axis = 1)\n",
    "display(churn.head(3))"
   ]
  },
  {
   "cell_type": "markdown",
   "metadata": {},
   "source": [
    "Переименую столбцы."
   ]
  },
  {
   "cell_type": "code",
   "execution_count": 19,
   "metadata": {},
   "outputs": [
    {
     "data": {
      "text/html": [
       "<div>\n",
       "<style scoped>\n",
       "    .dataframe tbody tr th:only-of-type {\n",
       "        vertical-align: middle;\n",
       "    }\n",
       "\n",
       "    .dataframe tbody tr th {\n",
       "        vertical-align: top;\n",
       "    }\n",
       "\n",
       "    .dataframe thead th {\n",
       "        text-align: right;\n",
       "    }\n",
       "</style>\n",
       "<table border=\"1\" class=\"dataframe\">\n",
       "  <thead>\n",
       "    <tr style=\"text-align: right;\">\n",
       "      <th></th>\n",
       "      <th>credit_score</th>\n",
       "      <th>geography</th>\n",
       "      <th>gender</th>\n",
       "      <th>age</th>\n",
       "      <th>tenure</th>\n",
       "      <th>balance</th>\n",
       "      <th>num_of_products</th>\n",
       "      <th>has_cr_card</th>\n",
       "      <th>is_active_member</th>\n",
       "      <th>estimated_salary</th>\n",
       "      <th>exited</th>\n",
       "    </tr>\n",
       "  </thead>\n",
       "  <tbody>\n",
       "    <tr>\n",
       "      <th>0</th>\n",
       "      <td>619</td>\n",
       "      <td>France</td>\n",
       "      <td>Female</td>\n",
       "      <td>42</td>\n",
       "      <td>2.0</td>\n",
       "      <td>0.00</td>\n",
       "      <td>1</td>\n",
       "      <td>1</td>\n",
       "      <td>1</td>\n",
       "      <td>101348.88</td>\n",
       "      <td>1</td>\n",
       "    </tr>\n",
       "    <tr>\n",
       "      <th>1</th>\n",
       "      <td>608</td>\n",
       "      <td>Spain</td>\n",
       "      <td>Female</td>\n",
       "      <td>41</td>\n",
       "      <td>1.0</td>\n",
       "      <td>83807.86</td>\n",
       "      <td>1</td>\n",
       "      <td>0</td>\n",
       "      <td>1</td>\n",
       "      <td>112542.58</td>\n",
       "      <td>0</td>\n",
       "    </tr>\n",
       "    <tr>\n",
       "      <th>2</th>\n",
       "      <td>502</td>\n",
       "      <td>France</td>\n",
       "      <td>Female</td>\n",
       "      <td>42</td>\n",
       "      <td>8.0</td>\n",
       "      <td>159660.80</td>\n",
       "      <td>3</td>\n",
       "      <td>1</td>\n",
       "      <td>0</td>\n",
       "      <td>113931.57</td>\n",
       "      <td>1</td>\n",
       "    </tr>\n",
       "  </tbody>\n",
       "</table>\n",
       "</div>"
      ],
      "text/plain": [
       "   credit_score geography  gender  age  tenure    balance  num_of_products  \\\n",
       "0           619    France  Female   42     2.0       0.00                1   \n",
       "1           608     Spain  Female   41     1.0   83807.86                1   \n",
       "2           502    France  Female   42     8.0  159660.80                3   \n",
       "\n",
       "   has_cr_card  is_active_member  estimated_salary  exited  \n",
       "0            1                 1         101348.88       1  \n",
       "1            0                 1         112542.58       0  \n",
       "2            1                 0         113931.57       1  "
      ]
     },
     "metadata": {},
     "output_type": "display_data"
    }
   ],
   "source": [
    "churn.columns = ['credit_score', 'geography', 'gender', 'age', 'tenure', 'balance', 'num_of_products', 'has_cr_card', 'is_active_member', 'estimated_salary', 'exited']\n",
    "\n",
    "display(churn.head(3))"
   ]
  },
  {
   "cell_type": "markdown",
   "metadata": {},
   "source": [
    "Считаю, что NaN в столбце tenure говорят о том, что клиент пользуется услугами банка меньше года. Замечню эти значения на медиану."
   ]
  },
  {
   "cell_type": "code",
   "execution_count": 20,
   "metadata": {},
   "outputs": [
    {
     "data": {
      "text/plain": [
       "0"
      ]
     },
     "metadata": {},
     "output_type": "display_data"
    }
   ],
   "source": [
    "churn['tenure'] = churn['tenure'].fillna(churn['tenure'].median())\n",
    "display(churn['tenure'].isna().sum())"
   ]
  },
  {
   "cell_type": "markdown",
   "metadata": {},
   "source": [
    "Приведу столбцы с данными типа float к типу int."
   ]
  },
  {
   "cell_type": "code",
   "execution_count": 21,
   "metadata": {},
   "outputs": [
    {
     "name": "stdout",
     "output_type": "stream",
     "text": [
      "<class 'pandas.core.frame.DataFrame'>\n",
      "RangeIndex: 10000 entries, 0 to 9999\n",
      "Data columns (total 11 columns):\n",
      " #   Column            Non-Null Count  Dtype \n",
      "---  ------            --------------  ----- \n",
      " 0   credit_score      10000 non-null  int64 \n",
      " 1   geography         10000 non-null  object\n",
      " 2   gender            10000 non-null  object\n",
      " 3   age               10000 non-null  int64 \n",
      " 4   tenure            10000 non-null  int64 \n",
      " 5   balance           10000 non-null  int64 \n",
      " 6   num_of_products   10000 non-null  int64 \n",
      " 7   has_cr_card       10000 non-null  int64 \n",
      " 8   is_active_member  10000 non-null  int64 \n",
      " 9   estimated_salary  10000 non-null  int64 \n",
      " 10  exited            10000 non-null  int64 \n",
      "dtypes: int64(9), object(2)\n",
      "memory usage: 859.5+ KB\n"
     ]
    }
   ],
   "source": [
    "churn = churn.astype({\"tenure\": \"int64\"})\n",
    "churn = churn.astype({\"balance\": \"int64\"})\n",
    "churn = churn.astype({\"estimated_salary\": \"int64\"})\n",
    "churn.info()"
   ]
  },
  {
   "cell_type": "markdown",
   "metadata": {},
   "source": [
    "### Вывод"
   ]
  },
  {
   "cell_type": "markdown",
   "metadata": {},
   "source": [
    "В предобработке данных я проделал следующие шаги:\n",
    "- Избавился от ненужных столбцов RowNumber, CustomerId, Surname;\n",
    "- Заменил NaN в столбце tenure на нули;\n",
    "- Заменил тип данных в столбцах tenure, balance, estimated_salary на int64."
   ]
  },
  {
   "cell_type": "markdown",
   "metadata": {},
   "source": [
    "## Исследование задачи"
   ]
  },
  {
   "cell_type": "markdown",
   "metadata": {},
   "source": [
    "Проверю точность предсказаний на следующих моделях - Решающее древо, Случайный лес, Логистическая регрессия."
   ]
  },
  {
   "cell_type": "markdown",
   "metadata": {},
   "source": [
    "Прежде всего, чтобы избежать дамми-ловушки применю OHE-технику с удалением первого столбца."
   ]
  },
  {
   "cell_type": "code",
   "execution_count": 22,
   "metadata": {},
   "outputs": [
    {
     "name": "stdout",
     "output_type": "stream",
     "text": [
      "<class 'pandas.core.frame.DataFrame'>\n",
      "RangeIndex: 10000 entries, 0 to 9999\n",
      "Data columns (total 12 columns):\n",
      " #   Column             Non-Null Count  Dtype\n",
      "---  ------             --------------  -----\n",
      " 0   credit_score       10000 non-null  int64\n",
      " 1   age                10000 non-null  int64\n",
      " 2   tenure             10000 non-null  int64\n",
      " 3   balance            10000 non-null  int64\n",
      " 4   num_of_products    10000 non-null  int64\n",
      " 5   has_cr_card        10000 non-null  int64\n",
      " 6   is_active_member   10000 non-null  int64\n",
      " 7   estimated_salary   10000 non-null  int64\n",
      " 8   exited             10000 non-null  int64\n",
      " 9   geography_germany  10000 non-null  uint8\n",
      " 10  geography_spain    10000 non-null  uint8\n",
      " 11  gender_male        10000 non-null  uint8\n",
      "dtypes: int64(9), uint8(3)\n",
      "memory usage: 732.5 KB\n"
     ]
    },
    {
     "data": {
      "text/plain": [
       "None"
      ]
     },
     "metadata": {},
     "output_type": "display_data"
    }
   ],
   "source": [
    "churn = pd.get_dummies(churn, drop_first=True)\n",
    "churn.columns = map(str.lower, churn.columns)\n",
    "display(churn.info())"
   ]
  },
  {
   "cell_type": "markdown",
   "metadata": {},
   "source": [
    "Разобью данные на три выборки - обучающую, валидационную и тестовую в соотношении 60/20/20."
   ]
  },
  {
   "cell_type": "code",
   "execution_count": 23,
   "metadata": {},
   "outputs": [
    {
     "name": "stdout",
     "output_type": "stream",
     "text": [
      "Размер обучающей выборки 6000\n",
      "Размер валидационной выборки 2000\n",
      "Размер тестовой выборки 2000\n"
     ]
    }
   ],
   "source": [
    "target = churn['exited']\n",
    "features = churn.drop('exited', axis=1)\n",
    "\n",
    "#отделю обучающую выборку\n",
    "train_churn, other_churn = train_test_split(churn, test_size=0.40, random_state=12345, stratify = churn['exited'])\n",
    "#разделю оставшиеся данные на валидационную и тестовую выборки\n",
    "valid_churn, test_churn = train_test_split(other_churn, test_size=0.50, random_state=12345, stratify = other_churn['exited'])\n",
    "\n",
    "print('Размер обучающей выборки', train_churn.shape[0])\n",
    "print('Размер валидационной выборки', valid_churn.shape[0])\n",
    "print('Размер тестовой выборки', test_churn.shape[0])"
   ]
  },
  {
   "cell_type": "markdown",
   "metadata": {},
   "source": [
    "Разделю выборки на features и target. Целовой признак находится в столбце 'exited'."
   ]
  },
  {
   "cell_type": "code",
   "execution_count": 24,
   "metadata": {},
   "outputs": [],
   "source": [
    "train_churn_features = train_churn.drop(['exited'], axis=1)\n",
    "train_churn_target = train_churn['exited']\n",
    "valid_churn_features = valid_churn.drop(['exited'], axis=1)\n",
    "valid_churn_target = valid_churn['exited']\n",
    "test_churn_features = test_churn.drop(['exited'], axis=1)\n",
    "test_churn_target = test_churn['exited']"
   ]
  },
  {
   "cell_type": "markdown",
   "metadata": {},
   "source": [
    "Выполню масштабирование данных."
   ]
  },
  {
   "cell_type": "code",
   "execution_count": 25,
   "metadata": {},
   "outputs": [
    {
     "data": {
      "text/html": [
       "<div>\n",
       "<style scoped>\n",
       "    .dataframe tbody tr th:only-of-type {\n",
       "        vertical-align: middle;\n",
       "    }\n",
       "\n",
       "    .dataframe tbody tr th {\n",
       "        vertical-align: top;\n",
       "    }\n",
       "\n",
       "    .dataframe thead th {\n",
       "        text-align: right;\n",
       "    }\n",
       "</style>\n",
       "<table border=\"1\" class=\"dataframe\">\n",
       "  <thead>\n",
       "    <tr style=\"text-align: right;\">\n",
       "      <th></th>\n",
       "      <th>credit_score</th>\n",
       "      <th>age</th>\n",
       "      <th>tenure</th>\n",
       "      <th>balance</th>\n",
       "      <th>num_of_products</th>\n",
       "      <th>has_cr_card</th>\n",
       "      <th>is_active_member</th>\n",
       "      <th>estimated_salary</th>\n",
       "      <th>geography_germany</th>\n",
       "      <th>geography_spain</th>\n",
       "      <th>gender_male</th>\n",
       "    </tr>\n",
       "  </thead>\n",
       "  <tbody>\n",
       "    <tr>\n",
       "      <th>2837</th>\n",
       "      <td>-1.040434</td>\n",
       "      <td>0.953312</td>\n",
       "      <td>0.360600</td>\n",
       "      <td>0.774662</td>\n",
       "      <td>1</td>\n",
       "      <td>0</td>\n",
       "      <td>1</td>\n",
       "      <td>-0.119108</td>\n",
       "      <td>1</td>\n",
       "      <td>0</td>\n",
       "      <td>0</td>\n",
       "    </tr>\n",
       "    <tr>\n",
       "      <th>9925</th>\n",
       "      <td>0.454006</td>\n",
       "      <td>-0.095244</td>\n",
       "      <td>-0.002786</td>\n",
       "      <td>1.910545</td>\n",
       "      <td>1</td>\n",
       "      <td>1</td>\n",
       "      <td>1</td>\n",
       "      <td>-0.258665</td>\n",
       "      <td>0</td>\n",
       "      <td>0</td>\n",
       "      <td>0</td>\n",
       "    </tr>\n",
       "    <tr>\n",
       "      <th>8746</th>\n",
       "      <td>0.103585</td>\n",
       "      <td>-0.476537</td>\n",
       "      <td>1.087371</td>\n",
       "      <td>0.481604</td>\n",
       "      <td>2</td>\n",
       "      <td>0</td>\n",
       "      <td>1</td>\n",
       "      <td>1.422833</td>\n",
       "      <td>0</td>\n",
       "      <td>0</td>\n",
       "      <td>1</td>\n",
       "    </tr>\n",
       "    <tr>\n",
       "      <th>660</th>\n",
       "      <td>-0.184996</td>\n",
       "      <td>0.190726</td>\n",
       "      <td>-0.002786</td>\n",
       "      <td>0.088438</td>\n",
       "      <td>1</td>\n",
       "      <td>1</td>\n",
       "      <td>1</td>\n",
       "      <td>-1.160422</td>\n",
       "      <td>1</td>\n",
       "      <td>0</td>\n",
       "      <td>0</td>\n",
       "    </tr>\n",
       "    <tr>\n",
       "      <th>3610</th>\n",
       "      <td>-0.720933</td>\n",
       "      <td>1.620574</td>\n",
       "      <td>-1.456328</td>\n",
       "      <td>0.879132</td>\n",
       "      <td>1</td>\n",
       "      <td>1</td>\n",
       "      <td>0</td>\n",
       "      <td>0.113232</td>\n",
       "      <td>0</td>\n",
       "      <td>0</td>\n",
       "      <td>0</td>\n",
       "    </tr>\n",
       "  </tbody>\n",
       "</table>\n",
       "</div>"
      ],
      "text/plain": [
       "      credit_score       age    tenure   balance  num_of_products  \\\n",
       "2837     -1.040434  0.953312  0.360600  0.774662                1   \n",
       "9925      0.454006 -0.095244 -0.002786  1.910545                1   \n",
       "8746      0.103585 -0.476537  1.087371  0.481604                2   \n",
       "660      -0.184996  0.190726 -0.002786  0.088438                1   \n",
       "3610     -0.720933  1.620574 -1.456328  0.879132                1   \n",
       "\n",
       "      has_cr_card  is_active_member  estimated_salary  geography_germany  \\\n",
       "2837            0                 1         -0.119108                  1   \n",
       "9925            1                 1         -0.258665                  0   \n",
       "8746            0                 1          1.422833                  0   \n",
       "660             1                 1         -1.160422                  1   \n",
       "3610            1                 0          0.113232                  0   \n",
       "\n",
       "      geography_spain  gender_male  \n",
       "2837                0            0  \n",
       "9925                0            0  \n",
       "8746                0            1  \n",
       "660                 0            0  \n",
       "3610                0            0  "
      ]
     },
     "metadata": {},
     "output_type": "display_data"
    }
   ],
   "source": [
    "from sklearn.preprocessing import StandardScaler\n",
    "\n",
    "numeric = ['credit_score', 'age', 'tenure', 'balance', 'estimated_salary']\n",
    "\n",
    "scaler = StandardScaler()\n",
    "scaler.fit(train_churn_features[numeric])\n",
    "train_churn_features[numeric] = scaler.transform(train_churn_features[numeric])\n",
    "valid_churn_features[numeric] = scaler.transform(valid_churn_features[numeric])\n",
    "test_churn_features[numeric] = scaler.transform(test_churn_features[numeric])\n",
    "\n",
    "display(train_churn_features.head())"
   ]
  },
  {
   "cell_type": "markdown",
   "metadata": {},
   "source": [
    "### Решающее древо"
   ]
  },
  {
   "cell_type": "markdown",
   "metadata": {},
   "source": [
    "Подберу наиболее подходящие параметры для решающего древа."
   ]
  },
  {
   "cell_type": "code",
   "execution_count": 26,
   "metadata": {},
   "outputs": [
    {
     "data": {
      "text/plain": [
       "{'ccp_alpha': 0.001,\n",
       " 'criterion': 'entropy',\n",
       " 'max_depth': 5,\n",
       " 'max_leaf_nodes': 11}"
      ]
     },
     "metadata": {},
     "output_type": "display_data"
    },
    {
     "name": "stdout",
     "output_type": "stream",
     "text": [
      "CPU times: user 6min 19s, sys: 540 ms, total: 6min 19s\n",
      "Wall time: 6min 27s\n"
     ]
    }
   ],
   "source": [
    "%%time\n",
    "\n",
    "parametrs = {'max_leaf_nodes': list(range(10, 30)),          \n",
    "             'ccp_alpha': [0.1, .01, .001],            \n",
    "             'max_depth': list(range(2, 30)),             \n",
    "             'criterion': ['gini', 'entropy']             \n",
    "            }\n",
    "\n",
    "clf = DecisionTreeClassifier(random_state=12345)\n",
    "\n",
    "grid = GridSearchCV(clf, parametrs, cv=5)\n",
    "\n",
    "grid.fit(train_churn_features, train_churn_target)\n",
    "\n",
    "display(grid.best_params_)"
   ]
  },
  {
   "cell_type": "markdown",
   "metadata": {},
   "source": [
    "Вычислю F-1-меру и ROC-AUC подобранной модели."
   ]
  },
  {
   "cell_type": "code",
   "execution_count": 27,
   "metadata": {},
   "outputs": [
    {
     "name": "stdout",
     "output_type": "stream",
     "text": [
      "F1 решающего древа : 0.5697329376854599\n",
      "AUC-ROC решающего древа : 0.8236664326534634\n"
     ]
    }
   ],
   "source": [
    "model_dtc = DecisionTreeClassifier(random_state=12345, ccp_alpha = 0.001, max_depth=5, criterion = 'entropy', max_leaf_nodes = 11)\n",
    "model_dtc.fit(train_churn_features, train_churn_target)\n",
    "predictions_valid_dtc = model_dtc.predict(valid_churn_features)\n",
    "print('F1 решающего древа : ', end='')\n",
    "print(f1_score(valid_churn_target,  predictions_valid_dtc))\n",
    "probabilities_valid = model_dtc.predict_proba(valid_churn_features)\n",
    "probabilities_one_valid = probabilities_valid[:, 1]\n",
    "fpr, tpr, thresholds = roc_curve(valid_churn_target, probabilities_one_valid)\n",
    "print('AUC-ROC решающего древа : ', end='')\n",
    "print(roc_auc_score(valid_churn_target, probabilities_one_valid))"
   ]
  },
  {
   "cell_type": "markdown",
   "metadata": {},
   "source": [
    "Считаю полученную модель древа решений наилучшей."
   ]
  },
  {
   "cell_type": "markdown",
   "metadata": {},
   "source": [
    "### Случайный лес"
   ]
  },
  {
   "cell_type": "markdown",
   "metadata": {},
   "source": [
    "Подберу наиболее подходящие параметры для случайного леса."
   ]
  },
  {
   "cell_type": "code",
   "execution_count": 28,
   "metadata": {},
   "outputs": [
    {
     "data": {
      "text/plain": [
       "{'criterion': 'gini', 'max_depth': 9, 'n_estimators': 47}"
      ]
     },
     "metadata": {},
     "output_type": "display_data"
    },
    {
     "name": "stdout",
     "output_type": "stream",
     "text": [
      "CPU times: user 21min 2s, sys: 4.18 s, total: 21min 6s\n",
      "Wall time: 21min 43s\n"
     ]
    }
   ],
   "source": [
    "%%time\n",
    "\n",
    "parametrs = {'n_estimators': range (1, 60),\n",
    "\n",
    "          'max_depth': range (1, 20, 2),\n",
    "          \n",
    "          'criterion': ['gini', 'entropy'],}\n",
    "          \n",
    "clf = RandomForestClassifier(random_state=12345)\n",
    "\n",
    "grid = GridSearchCV(clf, parametrs, cv=5)\n",
    "\n",
    "grid.fit(train_churn_features, train_churn_target)\n",
    "\n",
    "display(grid.best_params_)"
   ]
  },
  {
   "cell_type": "markdown",
   "metadata": {},
   "source": [
    "Вычислю F-1-меру и ROC-AUC подобранной модели."
   ]
  },
  {
   "cell_type": "code",
   "execution_count": 29,
   "metadata": {},
   "outputs": [
    {
     "name": "stdout",
     "output_type": "stream",
     "text": [
      "F1 случайного леса : 0.5828220858895705\n",
      "AUC-ROC случайного леса : 0.8707338777219431\n"
     ]
    }
   ],
   "source": [
    "model_rfc = RandomForestClassifier(random_state=12345, n_estimators=47, criterion =  'gini', max_depth = 9)\n",
    "model_rfc.fit(train_churn_features, train_churn_target)\n",
    "predictions_valid_rfc = model_rfc.predict(valid_churn_features)\n",
    "print('F1 случайного леса : ', end='')\n",
    "print(f1_score(valid_churn_target,  predictions_valid_rfc))\n",
    "probabilities_valid = model_rfc.predict_proba(valid_churn_features)\n",
    "probabilities_one_valid = probabilities_valid[:, 1]\n",
    "fpr, tpr, thresholds = roc_curve(valid_churn_target, probabilities_one_valid)\n",
    "print('AUC-ROC случайного леса : ', end='')\n",
    "print(roc_auc_score(valid_churn_target, probabilities_one_valid))"
   ]
  },
  {
   "cell_type": "markdown",
   "metadata": {},
   "source": [
    "Считаю полученную модель случайного леса наилучшей."
   ]
  },
  {
   "cell_type": "markdown",
   "metadata": {},
   "source": [
    "### Логистическая регрессия"
   ]
  },
  {
   "cell_type": "markdown",
   "metadata": {},
   "source": [
    "Подберу наиболее подходящие параметры для линейной регрессии."
   ]
  },
  {
   "cell_type": "code",
   "execution_count": 30,
   "metadata": {},
   "outputs": [
    {
     "name": "stdout",
     "output_type": "stream",
     "text": [
      "max_iter = 1 : 0.6619710069957632\n",
      "max_iter = 2 : 0.6982784633954084\n",
      "max_iter = 3 : 0.7593281973593458\n",
      "max_iter = 4 : 0.7647320548822544\n",
      "max_iter = 5 : 0.7799459922159817\n",
      "max_iter = 6 : 0.7860518893487044\n",
      "max_iter = 7 : 0.7851081387328801\n",
      "max_iter = 8 : 0.7844322716523795\n",
      "max_iter = 9 : 0.7844861562715538\n",
      "max_iter = 10 : 0.7852913464380727\n",
      "max_iter = 11 : 0.786698504778796\n",
      "max_iter = 12 : 0.787605305941472\n",
      "max_iter = 13 : 0.7876484136368116\n",
      "max_iter = 14 : 0.7876299389102375\n",
      "max_iter = 15 : 0.7873943861464183\n",
      "max_iter = 16 : 0.787596068578185\n",
      "max_iter = 17 : 0.7875914498965415\n",
      "max_iter = 18 : 0.7875822125332546\n",
      "max_iter = 19 : 0.787597608138733\n",
      "13 0.7876484136368116\n"
     ]
    }
   ],
   "source": [
    "best_iter = 0\n",
    "best_roc_auc = 0\n",
    "for max_iter in range(1,20):\n",
    "    model_lr = LogisticRegression(random_state=12345, max_iter=max_iter)\n",
    "    model_lr.fit(train_churn_features, train_churn_target)\n",
    "    probabilities_valid = model_lr.predict_proba(valid_churn_features)\n",
    "    probabilities_one_valid = probabilities_valid[:, 1]\n",
    "    roc_auc = roc_auc_score(valid_churn_target, probabilities_one_valid)\n",
    "    print('max_iter =', max_iter,':', roc_auc)\n",
    "    if roc_auc > best_roc_auc:\n",
    "        best_iter, best_roc_auc = max_iter, roc_auc        \n",
    "print(best_iter, best_roc_auc)"
   ]
  },
  {
   "cell_type": "markdown",
   "metadata": {},
   "source": [
    "Считаю модель логистической регрессии с гиперпараметром max_iter = 13 наилучшей."
   ]
  },
  {
   "cell_type": "markdown",
   "metadata": {},
   "source": [
    "Проверю точность модели на валидационной выборке."
   ]
  },
  {
   "cell_type": "code",
   "execution_count": 31,
   "metadata": {},
   "outputs": [
    {
     "name": "stdout",
     "output_type": "stream",
     "text": [
      "F1 логистической регрессии : 0.3071297989031079\n",
      "AUC-ROC логистической регрессии : 0.7876484136368116\n"
     ]
    }
   ],
   "source": [
    "model_lr = LogisticRegression(random_state=12345, max_iter=13)\n",
    "model_lr.fit(train_churn_features, train_churn_target)\n",
    "predictions_valid_lr = model_lr.predict(valid_churn_features)\n",
    "print('F1 логистической регрессии : ', end='')\n",
    "print(f1_score(valid_churn_target,  predictions_valid_lr))\n",
    "probabilities_valid = model_lr.predict_proba(valid_churn_features)\n",
    "probabilities_one_valid = probabilities_valid[:, 1]\n",
    "fpr, tpr, thresholds = roc_curve(valid_churn_target, probabilities_one_valid)\n",
    "print('AUC-ROC логистической регрессии : ', end='')\n",
    "print(roc_auc_score(valid_churn_target, probabilities_one_valid))"
   ]
  },
  {
   "cell_type": "markdown",
   "metadata": {},
   "source": [
    "### Проверка адекватности модели"
   ]
  },
  {
   "cell_type": "markdown",
   "metadata": {},
   "source": [
    "Проверю, как часто в целевом признаке встречается класс «1» или «0»."
   ]
  },
  {
   "cell_type": "code",
   "execution_count": 32,
   "metadata": {},
   "outputs": [
    {
     "data": {
      "text/plain": [
       "0    0.7963\n",
       "1    0.2037\n",
       "Name: exited, dtype: float64"
      ]
     },
     "metadata": {},
     "output_type": "display_data"
    },
    {
     "data": {
      "text/plain": [
       "<AxesSubplot:>"
      ]
     },
     "metadata": {},
     "output_type": "display_data"
    },
    {
     "data": {
      "image/png": "[encoded data removed]",
      "text/plain": [
       "<Figure size 432x288 with 1 Axes>"
      ]
     },
     "metadata": {
      "needs_background": "light"
     },
     "output_type": "display_data"
    }
   ],
   "source": [
    "class_frequency = churn['exited'].value_counts(normalize=True)\n",
    "display(class_frequency)\n",
    "display(class_frequency.plot(kind='bar'))"
   ]
  },
  {
   "cell_type": "markdown",
   "metadata": {},
   "source": [
    "Классы несбалансированны, так как их соотношение далеко от 1:1."
   ]
  },
  {
   "cell_type": "markdown",
   "metadata": {},
   "source": [
    "Создам константную модель, которая любому объекту будет прогнозировать класс «0»."
   ]
  },
  {
   "cell_type": "code",
   "execution_count": 33,
   "metadata": {},
   "outputs": [
    {
     "data": {
      "text/plain": [
       "0.7963"
      ]
     },
     "metadata": {},
     "output_type": "display_data"
    }
   ],
   "source": [
    "target_pred_const = pd.Series([0] * len(target))\n",
    "\n",
    "display(accuracy_score(target, target_pred_const)) "
   ]
  },
  {
   "cell_type": "markdown",
   "metadata": {},
   "source": [
    "Все модели прошли проверку на адекватность, так как у всех Accuracy больше 0.7963."
   ]
  },
  {
   "cell_type": "markdown",
   "metadata": {},
   "source": [
    "### Расчет полноты, точности и F-1 меры"
   ]
  },
  {
   "cell_type": "markdown",
   "metadata": {},
   "source": [
    "Рассчитаю полноту, точность и F-1 меру для каждой модели."
   ]
  },
  {
   "cell_type": "code",
   "execution_count": 34,
   "metadata": {},
   "outputs": [
    {
     "name": "stdout",
     "output_type": "stream",
     "text": [
      "Accuracy 0.855\n",
      "Precision 0.7218045112781954\n",
      "Recall 0.47058823529411764\n",
      "F1 0.5697329376854599\n",
      "\n",
      "Accuracy 0.864\n",
      "Precision 0.7786885245901639\n",
      "Recall 0.46568627450980393\n",
      "F1 0.5828220858895705\n",
      "\n",
      "Accuracy 0.8105\n",
      "Precision 0.60431654676259\n",
      "Recall 0.20588235294117646\n",
      "F1 0.3071297989031079\n",
      "\n"
     ]
    }
   ],
   "source": [
    "pred_dict = [predictions_valid_dtc, predictions_valid_rfc, predictions_valid_lr]\n",
    "\n",
    "def my_formula(predict):\n",
    "    for pred in predict:\n",
    "        print('Accuracy', accuracy_score(valid_churn_target, pred))\n",
    "        print('Precision', precision_score(valid_churn_target, pred))\n",
    "        print('Recall', recall_score(valid_churn_target, pred))\n",
    "        print('F1', f1_score(valid_churn_target, pred))\n",
    "        print()\n",
    "    \n",
    "my_formula(pred_dict)"
   ]
  },
  {
   "cell_type": "markdown",
   "metadata": {},
   "source": [
    "Для древа решений:\n",
    "- Precision = 0.72 что говорит о том, что модель нашла немного \"0\", пока искала \"1\".\n",
    "- Recall = 0.47 говорит о том, что модель очень плохо ищет \"1\".\n",
    "- F-1 = 0.57 говорит о том, что гармоническое среднее между точностью и полнотой очень низкое.\n",
    "\n",
    "Для случайного леса ситуация немногим лучше.\n",
    "\n",
    "Для логистической регрессии все четыре метрики получились самые худшие."
   ]
  },
  {
   "cell_type": "markdown",
   "metadata": {},
   "source": [
    "### ROC-кривая, площадь под кривой"
   ]
  },
  {
   "cell_type": "markdown",
   "metadata": {},
   "source": [
    "Построю ROC-кривую и вычислю площадь под ней (AUC-ROC) для каждой модели."
   ]
  },
  {
   "cell_type": "code",
   "execution_count": 35,
   "metadata": {},
   "outputs": [
    {
     "name": "stdout",
     "output_type": "stream",
     "text": [
      "AUC-ROC решающего древа 0.8236664326534634\n",
      "AUC-ROC случайного леса 0.8707338777219431\n",
      "AUC-ROC логистической регрессии 0.7876484136368116\n"
     ]
    },
    {
     "data": {
      "image/png": "[encoded data removed]",
      "text/plain": [
       "<Figure size 864x648 with 1 Axes>"
      ]
     },
     "metadata": {
      "needs_background": "light"
     },
     "output_type": "display_data"
    }
   ],
   "source": [
    "plt.figure(figsize=[12,9])\n",
    "plt.plot([0, 1], [0, 1], linestyle='--', label='RandomModel')\n",
    "\n",
    "\n",
    "model_dtc = DecisionTreeClassifier(random_state=12345, ccp_alpha = 0.001, max_depth=5, criterion = 'entropy', max_leaf_nodes = 11)\n",
    "model_dtc.fit(train_churn_features, train_churn_target)\n",
    "probabilities_valid = model_dtc.predict_proba(valid_churn_features)\n",
    "probabilities_one_valid = probabilities_valid[:, 1]\n",
    "fpr, tpr, thresholds = roc_curve(valid_churn_target, probabilities_one_valid)\n",
    "auc_roc = roc_auc_score(valid_churn_target, probabilities_one_valid)\n",
    "print('AUC-ROC решающего древа',auc_roc)\n",
    "plt.plot(fpr, tpr, label='Решающее древо')\n",
    "\n",
    "model_rfc = RandomForestClassifier(random_state=12345, n_estimators=47, criterion =  'gini', max_depth = 9)\n",
    "model_rfc.fit(train_churn_features, train_churn_target)\n",
    "probabilities_valid = model_rfc.predict_proba(valid_churn_features)\n",
    "probabilities_one_valid = probabilities_valid[:, 1]\n",
    "fpr, tpr, thresholds = roc_curve(valid_churn_target, probabilities_one_valid)\n",
    "auc_roc = roc_auc_score(valid_churn_target, probabilities_one_valid)\n",
    "print('AUC-ROC случайного леса',auc_roc)\n",
    "plt.plot(fpr, tpr, label='Случаный лес')\n",
    "\n",
    "model_lr = LogisticRegression(random_state=12345, max_iter=13)\n",
    "model_lr.fit(train_churn_features, train_churn_target)\n",
    "probabilities_valid = model_lr.predict_proba(valid_churn_features)\n",
    "probabilities_one_valid = probabilities_valid[:, 1]\n",
    "fpr, tpr, thresholds = roc_curve(valid_churn_target, probabilities_one_valid)\n",
    "auc_roc = roc_auc_score(valid_churn_target, probabilities_one_valid)\n",
    "print('AUC-ROC логистической регрессии',auc_roc)\n",
    "plt.plot(fpr, tpr, label='Логистическая регрессия')\n",
    "\n",
    "plt.xlim([0,1])\n",
    "plt.ylim([0,1])\n",
    "\n",
    "plt.xlabel(\"False Positive Rate\")\n",
    "plt.ylabel(\"True Positive Rate\")\n",
    "\n",
    "plt.legend(loc='lower right', fontsize='x-large')\n",
    "\n",
    "plt.title(\"ROC-кривая\")\n",
    "plt.show()"
   ]
  },
  {
   "cell_type": "markdown",
   "metadata": {},
   "source": [
    "Модель случайного леса определенно показывает лучшие результаты, модель логистическйо регрессии - худшие."
   ]
  },
  {
   "cell_type": "markdown",
   "metadata": {},
   "source": [
    "### Вывод"
   ]
  },
  {
   "cell_type": "markdown",
   "metadata": {},
   "source": [
    "Выявленные наилучшие модели имеют следующие гиперпараметры:\n",
    "- решающее древо - ccp_alpha = 0.001, max_depth=5, criterion = 'entropy', max_leaf_nodes = 11;\n",
    "- случайный лес - n_estimators=47, criterion =  'gini', max_depth = 9;\n",
    "- логистическая регрессия - max_iter=13.\n",
    "\n",
    "Наилучшие значения точности, плотности, F-1 меры и AUC-ROC имеет модель случайного леса.\n",
    "\n",
    "Так как целевой признак несбалансирован, ни одну модель нельзя назвать корректно обученной."
   ]
  },
  {
   "cell_type": "markdown",
   "metadata": {},
   "source": [
    "## Борьба с дисбалансом"
   ]
  },
  {
   "cell_type": "markdown",
   "metadata": {},
   "source": [
    "Для борьбы с дисбалансом я применю следующие методы:\n",
    "- взвешивание классов;\n",
    "- увеличение выборки;\n",
    "- уменьшение выборки;\n",
    "- изменение порога классификации."
   ]
  },
  {
   "cell_type": "markdown",
   "metadata": {},
   "source": [
    "### Взвешивание классов"
   ]
  },
  {
   "cell_type": "markdown",
   "metadata": {},
   "source": [
    "Придам объектам редкого класса больший вес. Одновременно построю ROC-кривую."
   ]
  },
  {
   "cell_type": "markdown",
   "metadata": {},
   "source": [
    "Определю наилучшую модель решающего древа."
   ]
  },
  {
   "cell_type": "code",
   "execution_count": 36,
   "metadata": {},
   "outputs": [
    {
     "data": {
      "text/plain": [
       "{'ccp_alpha': 0.01,\n",
       " 'criterion': 'entropy',\n",
       " 'max_depth': 5,\n",
       " 'max_leaf_nodes': 10}"
      ]
     },
     "metadata": {},
     "output_type": "display_data"
    },
    {
     "name": "stdout",
     "output_type": "stream",
     "text": [
      "CPU times: user 7min 40s, sys: 683 ms, total: 7min 41s\n",
      "Wall time: 7min 48s\n"
     ]
    }
   ],
   "source": [
    "%%time\n",
    "\n",
    "parametrs = {'max_leaf_nodes': list(range(10, 30)),          \n",
    "             'ccp_alpha': [0.1, .01, .001],            \n",
    "             'max_depth': list(range(2, 30)),             \n",
    "             'criterion': ['gini', 'entropy']             \n",
    "            }\n",
    "\n",
    "clf = DecisionTreeClassifier(random_state=12345, class_weight='balanced')\n",
    "\n",
    "grid = GridSearchCV(clf, parametrs, cv=5)\n",
    "\n",
    "grid.fit(train_churn_features, train_churn_target)\n",
    "\n",
    "display(grid.best_params_)"
   ]
  },
  {
   "cell_type": "markdown",
   "metadata": {},
   "source": [
    "Определю наилучшую модель случайного леса."
   ]
  },
  {
   "cell_type": "code",
   "execution_count": 37,
   "metadata": {},
   "outputs": [
    {
     "data": {
      "text/plain": [
       "{'criterion': 'gini', 'max_depth': 19, 'n_estimators': 56}"
      ]
     },
     "metadata": {},
     "output_type": "display_data"
    },
    {
     "name": "stdout",
     "output_type": "stream",
     "text": [
      "CPU times: user 27min 20s, sys: 5 s, total: 27min 25s\n",
      "Wall time: 28min 3s\n"
     ]
    }
   ],
   "source": [
    "%%time\n",
    "\n",
    "parametrs = {'n_estimators': range (1, 60),\n",
    "\n",
    "          'max_depth': range (1, 20, 2),\n",
    "          \n",
    "          'criterion': ['gini', 'entropy'],}\n",
    "          \n",
    "clf = RandomForestClassifier(random_state=12345, class_weight='balanced')\n",
    "\n",
    "grid = GridSearchCV(clf, parametrs, cv=5)\n",
    "\n",
    "grid.fit(train_churn_features, train_churn_target)\n",
    "\n",
    "display(grid.best_params_)"
   ]
  },
  {
   "cell_type": "markdown",
   "metadata": {},
   "source": [
    "Определю наилучшую модель Логистической регрессии."
   ]
  },
  {
   "cell_type": "code",
   "execution_count": 38,
   "metadata": {},
   "outputs": [
    {
     "name": "stdout",
     "output_type": "stream",
     "text": [
      "max_iter = 1 : 0.7834500320228595\n",
      "max_iter = 2 : 0.7919992117449994\n",
      "max_iter = 3 : 0.7934094492068184\n",
      "max_iter = 4 : 0.796260715341413\n",
      "max_iter = 5 : 0.7952938713173712\n",
      "max_iter = 6 : 0.7930876810523204\n",
      "max_iter = 7 : 0.7936080525174893\n",
      "max_iter = 8 : 0.7940637624396492\n",
      "max_iter = 9 : 0.7945456448911222\n",
      "max_iter = 10 : 0.7945256306040004\n",
      "max_iter = 11 : 0.7942716031136073\n",
      "max_iter = 12 : 0.7938420657207607\n",
      "max_iter = 13 : 0.7938543822051434\n",
      "max_iter = 14 : 0.7937081239530988\n",
      "max_iter = 15 : 0.7937112030741946\n",
      "max_iter = 16 : 0.7936927283476205\n",
      "max_iter = 17 : 0.7937004261503597\n",
      "max_iter = 18 : 0.7937050448320033\n",
      "max_iter = 19 : 0.7936958074687163\n",
      "4 0.796260715341413\n"
     ]
    }
   ],
   "source": [
    "best_iter = 0\n",
    "best_roc_auc = 0\n",
    "for max_iter in range(1,20):\n",
    "    model_lr = LogisticRegression(random_state=12345, max_iter=max_iter, class_weight='balanced')\n",
    "    model_lr.fit(train_churn_features, train_churn_target)\n",
    "    probabilities_valid = model_lr.predict_proba(valid_churn_features)\n",
    "    probabilities_one_valid = probabilities_valid[:, 1]\n",
    "    roc_auc = roc_auc_score(valid_churn_target, probabilities_one_valid)\n",
    "    print('max_iter =', max_iter,':', roc_auc)\n",
    "    if roc_auc > best_roc_auc:\n",
    "        best_iter, best_roc_auc = max_iter, roc_auc        \n",
    "print(best_iter, best_roc_auc)"
   ]
  },
  {
   "cell_type": "markdown",
   "metadata": {},
   "source": [
    "Построю график по найденным моделям."
   ]
  },
  {
   "cell_type": "code",
   "execution_count": 39,
   "metadata": {},
   "outputs": [
    {
     "name": "stdout",
     "output_type": "stream",
     "text": [
      "Решающее дерево\n",
      "AUC-ROC решающего древа 0.8250127783525472\n",
      "Accuracy 0.7985\n",
      "Precision 0.5045372050816697\n",
      "Recall 0.6813725490196079\n",
      "F1 0.5797705943691346\n",
      "\n",
      "Случайный лес\n",
      "AUC-ROC случайного леса 0.8551743090452261\n",
      "Accuracy 0.8585\n",
      "Precision 0.7431906614785992\n",
      "Recall 0.4681372549019608\n",
      "F1 0.5744360902255639\n",
      "\n",
      "Логистическая регрессия\n",
      "AUC-ROC логистической регрессии 0.796260715341413\n",
      "Accuracy 0.751\n",
      "Precision 0.43243243243243246\n",
      "Recall 0.7058823529411765\n",
      "F1 0.5363128491620112\n"
     ]
    },
    {
     "data": {
      "image/png": "[encoded data removed]",
      "text/plain": [
       "<Figure size 864x648 with 1 Axes>"
      ]
     },
     "metadata": {
      "needs_background": "light"
     },
     "output_type": "display_data"
    }
   ],
   "source": [
    "plt.figure(figsize=[12,9])\n",
    "plt.plot([0, 1], [0, 1], linestyle='--', label='RandomModel')\n",
    "\n",
    "model_dtc = DecisionTreeClassifier(random_state=12345, ccp_alpha = 0.001, max_depth=5, criterion = 'entropy', max_leaf_nodes = 10, class_weight='balanced')\n",
    "model_dtc.fit(train_churn_features, train_churn_target)\n",
    "predictions_valid_dtc = model_dtc.predict(valid_churn_features)\n",
    "probabilities_valid = model_dtc.predict_proba(valid_churn_features)\n",
    "probabilities_one_valid = probabilities_valid[:, 1]\n",
    "fpr, tpr, thresholds = roc_curve(valid_churn_target, probabilities_one_valid)\n",
    "print('Решающее дерево')\n",
    "auc_roc = roc_auc_score(valid_churn_target, probabilities_one_valid)\n",
    "print('AUC-ROC решающего древа',auc_roc)\n",
    "print('Accuracy', accuracy_score(valid_churn_target, predictions_valid_dtc))\n",
    "print('Precision', precision_score(valid_churn_target, predictions_valid_dtc))\n",
    "print('Recall', recall_score(valid_churn_target, predictions_valid_dtc))\n",
    "print('F1', f1_score(valid_churn_target, predictions_valid_dtc))\n",
    "plt.plot(fpr, tpr, label='Решающее древо')\n",
    "print()\n",
    "\n",
    "model_rfc = RandomForestClassifier(random_state=12345, n_estimators=56, criterion = 'gini', max_depth = 19, class_weight='balanced')\n",
    "model_rfc.fit(train_churn_features, train_churn_target)\n",
    "predictions_valid_rfc = model_rfc.predict(valid_churn_features)\n",
    "probabilities_valid = model_rfc.predict_proba(valid_churn_features)\n",
    "probabilities_one_valid = probabilities_valid[:, 1]\n",
    "fpr, tpr, thresholds = roc_curve(valid_churn_target, probabilities_one_valid)\n",
    "print('Случайный лес')\n",
    "auc_roc = roc_auc_score(valid_churn_target, probabilities_one_valid)\n",
    "print('AUC-ROC случайного леса',auc_roc)\n",
    "print('Accuracy', accuracy_score(valid_churn_target, predictions_valid_rfc))\n",
    "print('Precision', precision_score(valid_churn_target, predictions_valid_rfc))\n",
    "print('Recall', recall_score(valid_churn_target, predictions_valid_rfc))\n",
    "print('F1', f1_score(valid_churn_target, predictions_valid_rfc))\n",
    "plt.plot(fpr, tpr, label='Случаный лес')\n",
    "print()\n",
    "\n",
    "model_lr = LogisticRegression(random_state=12345, max_iter=4, class_weight='balanced')\n",
    "model_lr.fit(train_churn_features, train_churn_target)\n",
    "predictions_valid_lr = model_lr.predict(valid_churn_features)\n",
    "probabilities_valid = model_lr.predict_proba(valid_churn_features)\n",
    "probabilities_one_valid = probabilities_valid[:, 1]\n",
    "fpr, tpr, thresholds = roc_curve(valid_churn_target, probabilities_one_valid)\n",
    "print('Логистическая регрессия')\n",
    "auc_roc = roc_auc_score(valid_churn_target, probabilities_one_valid)\n",
    "print('AUC-ROC логистической регрессии',auc_roc)\n",
    "print('Accuracy', accuracy_score(valid_churn_target, predictions_valid_lr))\n",
    "print('Precision', precision_score(valid_churn_target, predictions_valid_lr))\n",
    "print('Recall', recall_score(valid_churn_target, predictions_valid_lr))\n",
    "print('F1', f1_score(valid_churn_target, predictions_valid_lr))\n",
    "plt.plot(fpr, tpr, label='Логистическая регрессия')\n",
    "\n",
    "plt.xlim([0,1])\n",
    "plt.ylim([0,1])\n",
    "\n",
    "plt.xlabel(\"False Positive Rate\")\n",
    "plt.ylabel(\"True Positive Rate\")\n",
    "\n",
    "plt.legend(loc='lower right', fontsize='x-large')\n",
    "\n",
    "plt.title(\"ROC-кривая\")\n",
    "plt.show()"
   ]
  },
  {
   "cell_type": "markdown",
   "metadata": {},
   "source": [
    "Взвешивание классов по-разному повлияло на модели:\n",
    "- у решающего древа и логистической регрессии увеличилась AUC-ROC и F-1-мера;\n",
    "- у случайного леса AUC-ROC и F-1-мера незначительно упали."
   ]
  },
  {
   "cell_type": "markdown",
   "metadata": {},
   "source": [
    "### Увеличение выборки"
   ]
  },
  {
   "cell_type": "markdown",
   "metadata": {},
   "source": [
    "Увеличу количество объектов редкого класса. Одновременно построю ROC-кривую."
   ]
  },
  {
   "cell_type": "code",
   "execution_count": 40,
   "metadata": {},
   "outputs": [],
   "source": [
    "def upsample(features, target, repeat):\n",
    "    features_zeros = features[target == 0]\n",
    "    features_ones = features[target == 1]\n",
    "    target_zeros = target[target == 0]\n",
    "    target_ones = target[target == 1]\n",
    "\n",
    "    features_upsampled = pd.concat([features_zeros] + [features_ones] * repeat)\n",
    "    target_upsampled = pd.concat([target_zeros] + [target_ones] * repeat)\n",
    "    \n",
    "    features_upsampled, target_upsampled = shuffle(\n",
    "        features_upsampled, target_upsampled, random_state=12345)\n",
    "    \n",
    "    return features_upsampled, target_upsampled\n",
    "\n",
    "features_upsampled, target_upsampled = upsample(train_churn_features, train_churn_target, 4)"
   ]
  },
  {
   "cell_type": "markdown",
   "metadata": {},
   "source": [
    "Определю наилучшую модель решающего древа."
   ]
  },
  {
   "cell_type": "code",
   "execution_count": 41,
   "metadata": {},
   "outputs": [
    {
     "data": {
      "text/plain": [
       "{'ccp_alpha': 0.001, 'criterion': 'gini', 'max_depth': 8, 'max_leaf_nodes': 28}"
      ]
     },
     "metadata": {},
     "output_type": "display_data"
    },
    {
     "name": "stdout",
     "output_type": "stream",
     "text": [
      "CPU times: user 9min 7s, sys: 459 ms, total: 9min 7s\n",
      "Wall time: 9min 24s\n"
     ]
    }
   ],
   "source": [
    "%%time\n",
    "\n",
    "parametrs = {'max_leaf_nodes': list(range(10, 30)),          \n",
    "             'ccp_alpha': [0.1, .01, .001],            \n",
    "             'max_depth': list(range(2, 30)),             \n",
    "             'criterion': ['gini', 'entropy']             \n",
    "            }\n",
    "\n",
    "clf = DecisionTreeClassifier(random_state=12345)\n",
    "\n",
    "grid = GridSearchCV(clf, parametrs, cv=5)\n",
    "\n",
    "grid.fit(features_upsampled, target_upsampled)\n",
    "\n",
    "display(grid.best_params_)"
   ]
  },
  {
   "cell_type": "markdown",
   "metadata": {},
   "source": [
    "Определю наилучшую модель случайного леса."
   ]
  },
  {
   "cell_type": "code",
   "execution_count": 42,
   "metadata": {},
   "outputs": [
    {
     "data": {
      "text/plain": [
       "{'criterion': 'gini', 'max_depth': 19, 'n_estimators': 52}"
      ]
     },
     "metadata": {},
     "output_type": "display_data"
    },
    {
     "name": "stdout",
     "output_type": "stream",
     "text": [
      "CPU times: user 34min 9s, sys: 5.05 s, total: 34min 14s\n",
      "Wall time: 34min 42s\n"
     ]
    }
   ],
   "source": [
    "%%time\n",
    "\n",
    "parametrs = {'n_estimators': range (1, 60),\n",
    "\n",
    "          'max_depth': range (1, 20, 2),\n",
    "          \n",
    "          'criterion': ['gini', 'entropy'],}\n",
    "          \n",
    "clf = RandomForestClassifier(random_state=12345)\n",
    "\n",
    "grid = GridSearchCV(clf, parametrs, cv=5)\n",
    "\n",
    "grid.fit(features_upsampled, target_upsampled)\n",
    "\n",
    "display(grid.best_params_)"
   ]
  },
  {
   "cell_type": "markdown",
   "metadata": {},
   "source": [
    "Определю наилучшую модель Логистической регрессии."
   ]
  },
  {
   "cell_type": "code",
   "execution_count": 43,
   "metadata": {},
   "outputs": [
    {
     "name": "stdout",
     "output_type": "stream",
     "text": [
      "max_iter = 1 : 0.7838087496305054\n",
      "max_iter = 2 : 0.7922532392353926\n",
      "max_iter = 3 : 0.7888461917430288\n",
      "max_iter = 4 : 0.7929783722534238\n",
      "max_iter = 5 : 0.7940206547443096\n",
      "max_iter = 6 : 0.794368595428121\n",
      "max_iter = 7 : 0.7944455734555129\n",
      "max_iter = 8 : 0.794482522908661\n",
      "max_iter = 9 : 0.7948704921667158\n",
      "max_iter = 10 : 0.7942700635530594\n",
      "max_iter = 11 : 0.7942916174007292\n",
      "max_iter = 12 : 0.7941977042073112\n",
      "max_iter = 13 : 0.7936773327421421\n",
      "max_iter = 14 : 0.7937558503300817\n",
      "max_iter = 15 : 0.7937604690117253\n",
      "max_iter = 16 : 0.7937743250566558\n",
      "max_iter = 17 : 0.7937681668144645\n",
      "max_iter = 18 : 0.7937789437382992\n",
      "max_iter = 19 : 0.7937789437382992\n",
      "9 0.7948704921667158\n"
     ]
    }
   ],
   "source": [
    "best_iter = 0\n",
    "best_roc_auc = 0\n",
    "for max_iter in range(1,20):\n",
    "    model_lr = LogisticRegression(random_state=12345, max_iter=max_iter)\n",
    "    model_lr.fit(features_upsampled, target_upsampled)\n",
    "    probabilities_valid = model_lr.predict_proba(valid_churn_features)\n",
    "    probabilities_one_valid = probabilities_valid[:, 1]\n",
    "    roc_auc = roc_auc_score(valid_churn_target, probabilities_one_valid)\n",
    "    print('max_iter =', max_iter,':', roc_auc)\n",
    "    if roc_auc > best_roc_auc:\n",
    "        best_iter, best_roc_auc = max_iter, roc_auc        \n",
    "print(best_iter, best_roc_auc)"
   ]
  },
  {
   "cell_type": "markdown",
   "metadata": {},
   "source": [
    "Построю график по найденным моделям."
   ]
  },
  {
   "cell_type": "code",
   "execution_count": 44,
   "metadata": {},
   "outputs": [
    {
     "name": "stdout",
     "output_type": "stream",
     "text": [
      "Решающее дерево\n",
      "AUC-ROC решающего древа 0.8450216770125135\n",
      "Accuracy 0.7705\n",
      "Precision 0.46266471449487556\n",
      "Recall 0.7745098039215687\n",
      "F1 0.5792850595783685\n",
      "\n",
      "Случайный лес\n",
      "AUC-ROC случайного леса 0.8591540730613852\n",
      "Accuracy 0.86\n",
      "Precision 0.6871345029239766\n",
      "Recall 0.5759803921568627\n",
      "F1 0.6266666666666666\n",
      "\n",
      "Логистическая регрессия\n",
      "AUC-ROC логистической регрессии 0.7948704921667158\n",
      "Accuracy 0.726\n",
      "Precision 0.40691489361702127\n",
      "Recall 0.75\n",
      "F1 0.5275862068965517\n"
     ]
    },
    {
     "data": {
      "image/png": "[encoded data removed]",
      "text/plain": [
       "<Figure size 864x648 with 1 Axes>"
      ]
     },
     "metadata": {
      "needs_background": "light"
     },
     "output_type": "display_data"
    }
   ],
   "source": [
    "plt.figure(figsize=[12,9])\n",
    "plt.plot([0, 1], [0, 1], linestyle='--', label='RandomModel')\n",
    "\n",
    "model_dtc = DecisionTreeClassifier(random_state=12345, ccp_alpha = 0.001, max_depth=8, criterion = 'gini', max_leaf_nodes = 28)\n",
    "model_dtc.fit(features_upsampled, target_upsampled)\n",
    "predicted_valid = model_dtc.predict(valid_churn_features)\n",
    "probabilities_valid = model_dtc.predict_proba(valid_churn_features)\n",
    "probabilities_one_valid = probabilities_valid[:, 1]\n",
    "fpr, tpr, thresholds = roc_curve(valid_churn_target, probabilities_one_valid)\n",
    "print('Решающее дерево')\n",
    "auc_roc = roc_auc_score(valid_churn_target, probabilities_one_valid)\n",
    "print('AUC-ROC решающего древа',auc_roc)\n",
    "print('Accuracy', accuracy_score(valid_churn_target, predicted_valid))\n",
    "print('Precision', precision_score(valid_churn_target, predicted_valid))\n",
    "print('Recall', recall_score(valid_churn_target, predicted_valid))\n",
    "print('F1', f1_score(valid_churn_target, predicted_valid))\n",
    "plt.plot(fpr, tpr, label='Решающее древо')\n",
    "print()\n",
    "\n",
    "model_rfc = RandomForestClassifier(random_state=12345, n_estimators=52, criterion = 'gini', max_depth = 19)\n",
    "model_rfc.fit(features_upsampled, target_upsampled)\n",
    "predicted_valid = model_rfc.predict(valid_churn_features)\n",
    "probabilities_valid = model_rfc.predict_proba(valid_churn_features)\n",
    "probabilities_one_valid = probabilities_valid[:, 1]\n",
    "fpr, tpr, thresholds = roc_curve(valid_churn_target, probabilities_one_valid)\n",
    "print('Случайный лес')\n",
    "auc_roc = roc_auc_score(valid_churn_target, probabilities_one_valid)\n",
    "print('AUC-ROC случайного леса',auc_roc)\n",
    "print('Accuracy', accuracy_score(valid_churn_target, predicted_valid))\n",
    "print('Precision', precision_score(valid_churn_target, predicted_valid))\n",
    "print('Recall', recall_score(valid_churn_target, predicted_valid))\n",
    "print('F1', f1_score(valid_churn_target, predicted_valid))\n",
    "plt.plot(fpr, tpr, label='Случаный лес')\n",
    "print()\n",
    "\n",
    "model_lr = LogisticRegression(random_state=12345, max_iter=9)\n",
    "model_lr.fit(features_upsampled, target_upsampled)\n",
    "predicted_valid = model_lr.predict(valid_churn_features)\n",
    "probabilities_valid = model_lr.predict_proba(valid_churn_features)\n",
    "probabilities_one_valid = probabilities_valid[:, 1]\n",
    "fpr, tpr, thresholds = roc_curve(valid_churn_target, probabilities_one_valid)\n",
    "print('Логистическая регрессия')\n",
    "auc_roc = roc_auc_score(valid_churn_target, probabilities_one_valid)\n",
    "print('AUC-ROC логистической регрессии',auc_roc)\n",
    "print('Accuracy', accuracy_score(valid_churn_target, predicted_valid))\n",
    "print('Precision', precision_score(valid_churn_target, predicted_valid))\n",
    "print('Recall', recall_score(valid_churn_target, predicted_valid))\n",
    "print('F1', f1_score(valid_churn_target, predicted_valid))\n",
    "plt.plot(fpr, tpr, label='Логистическая регрессия')\n",
    "\n",
    "plt.xlim([0,1])\n",
    "plt.ylim([0,1])\n",
    "\n",
    "plt.xlabel(\"False Positive Rate\")\n",
    "plt.ylabel(\"True Positive Rate\")\n",
    "\n",
    "plt.legend(loc='lower right', fontsize='x-large')\n",
    "\n",
    "plt.title(\"ROC-кривая\")\n",
    "plt.show()"
   ]
  },
  {
   "cell_type": "markdown",
   "metadata": {},
   "source": [
    "Увеличение выборки по-разному повлияло на модели:\n",
    "- у решающего древа увеличилась плотность и F-мера, остальные параметры упали;\n",
    "- у случайного леса увеличилась плотность и F-мера, остальные параметры упали;\n",
    "- у логистической регресси выросли точность, плотность и F-мера, но упала accuracy."
   ]
  },
  {
   "cell_type": "markdown",
   "metadata": {},
   "source": [
    "### Уменьшение выборки"
   ]
  },
  {
   "cell_type": "markdown",
   "metadata": {},
   "source": [
    "Уменьшу количество объектов частого класса. Одновременно построю ROC-кривую."
   ]
  },
  {
   "cell_type": "code",
   "execution_count": 45,
   "metadata": {},
   "outputs": [],
   "source": [
    "def downsample(features, target, fraction):\n",
    "    features_zeros = features[target == 0]\n",
    "    features_ones = features[target == 1]\n",
    "    target_zeros = target[target == 0]\n",
    "    target_ones = target[target == 1]\n",
    "\n",
    "    features_downsampled = pd.concat(\n",
    "        [features_zeros.sample(frac=fraction, random_state=12345)] + [features_ones])\n",
    "    target_downsampled = pd.concat(\n",
    "        [target_zeros.sample(frac=fraction, random_state=12345)] + [target_ones])\n",
    "    \n",
    "    features_downsampled, target_downsampled = shuffle(\n",
    "        features_downsampled, target_downsampled, random_state=20052020)\n",
    "    \n",
    "    return features_downsampled, target_downsampled\n",
    "\n",
    "features_downsampled, target_downsampled = downsample(train_churn_features, train_churn_target, 0.25)"
   ]
  },
  {
   "cell_type": "markdown",
   "metadata": {},
   "source": [
    "Определю наилучшую модель решающего древа."
   ]
  },
  {
   "cell_type": "code",
   "execution_count": 46,
   "metadata": {},
   "outputs": [
    {
     "data": {
      "text/plain": [
       "{'ccp_alpha': 0.001, 'criterion': 'gini', 'max_depth': 8, 'max_leaf_nodes': 28}"
      ]
     },
     "metadata": {},
     "output_type": "display_data"
    },
    {
     "name": "stdout",
     "output_type": "stream",
     "text": [
      "CPU times: user 4min 7s, sys: 348 ms, total: 4min 7s\n",
      "Wall time: 4min 10s\n"
     ]
    }
   ],
   "source": [
    "%%time\n",
    "\n",
    "parametrs = {'max_leaf_nodes': list(range(10, 30)),          \n",
    "             'ccp_alpha': [0.1, .01, .001],            \n",
    "             'max_depth': list(range(2, 30)),             \n",
    "             'criterion': ['gini', 'entropy']             \n",
    "            }\n",
    "\n",
    "clf = DecisionTreeClassifier(random_state=12345)\n",
    "\n",
    "grid = GridSearchCV(clf, parametrs, cv=5)\n",
    "\n",
    "grid.fit(features_downsampled, target_downsampled)\n",
    "\n",
    "display(grid.best_params_)"
   ]
  },
  {
   "cell_type": "markdown",
   "metadata": {},
   "source": [
    "Определю наилучшую модель случайного леса."
   ]
  },
  {
   "cell_type": "code",
   "execution_count": 47,
   "metadata": {},
   "outputs": [
    {
     "data": {
      "text/plain": [
       "{'criterion': 'entropy', 'max_depth': 9, 'n_estimators': 53}"
      ]
     },
     "metadata": {},
     "output_type": "display_data"
    },
    {
     "name": "stdout",
     "output_type": "stream",
     "text": [
      "CPU times: user 13min 51s, sys: 3.38 s, total: 13min 54s\n",
      "Wall time: 14min 25s\n"
     ]
    }
   ],
   "source": [
    "%%time\n",
    "\n",
    "parametrs = {'n_estimators': range (1, 60),\n",
    "\n",
    "          'max_depth': range (1, 20, 2),\n",
    "          \n",
    "          'criterion': ['gini', 'entropy'],}\n",
    "          \n",
    "clf = RandomForestClassifier(random_state=12345)\n",
    "\n",
    "grid = GridSearchCV(clf, parametrs, cv=5)\n",
    "\n",
    "grid.fit(features_downsampled, target_downsampled)\n",
    "\n",
    "display(grid.best_params_)"
   ]
  },
  {
   "cell_type": "markdown",
   "metadata": {},
   "source": [
    "Определю наилучшую модель Логистической регрессии."
   ]
  },
  {
   "cell_type": "code",
   "execution_count": 48,
   "metadata": {},
   "outputs": [
    {
     "name": "stdout",
     "output_type": "stream",
     "text": [
      "max_iter = 1 : 0.7836301606069562\n",
      "max_iter = 2 : 0.7921962754951226\n",
      "max_iter = 3 : 0.7957618977239136\n",
      "max_iter = 4 : 0.7905212336190758\n",
      "max_iter = 5 : 0.7926519854172827\n",
      "max_iter = 6 : 0.7932077667750517\n",
      "max_iter = 7 : 0.7938974899004828\n",
      "max_iter = 8 : 0.7935526283377673\n",
      "max_iter = 9 : 0.7931354074293032\n",
      "max_iter = 10 : 0.7930892206128681\n",
      "max_iter = 11 : 0.7929445019213716\n",
      "max_iter = 12 : 0.792825955759188\n",
      "max_iter = 13 : 0.7924225908956547\n",
      "max_iter = 14 : 0.7925919425559168\n",
      "max_iter = 15 : 0.7926134964035866\n",
      "max_iter = 16 : 0.7926104172824908\n",
      "max_iter = 17 : 0.7926165755246823\n",
      "max_iter = 18 : 0.7926119568430388\n",
      "max_iter = 19 : 0.7926134964035865\n",
      "3 0.7957618977239136\n"
     ]
    }
   ],
   "source": [
    "best_iter = 0\n",
    "best_roc_auc = 0\n",
    "for max_iter in range(1,20):\n",
    "    model_lr = LogisticRegression(random_state=12345, max_iter=max_iter)\n",
    "    model_lr.fit(features_downsampled, target_downsampled)\n",
    "    probabilities_valid = model_lr.predict_proba(valid_churn_features)\n",
    "    probabilities_one_valid = probabilities_valid[:, 1]\n",
    "    roc_auc = roc_auc_score(valid_churn_target, probabilities_one_valid)\n",
    "    print('max_iter =', max_iter,':', roc_auc)\n",
    "    if roc_auc > best_roc_auc:\n",
    "        best_iter, best_roc_auc = max_iter, roc_auc        \n",
    "print(best_iter, best_roc_auc)"
   ]
  },
  {
   "cell_type": "markdown",
   "metadata": {},
   "source": [
    "Построю график по найденным моделям."
   ]
  },
  {
   "cell_type": "code",
   "execution_count": 49,
   "metadata": {},
   "outputs": [
    {
     "name": "stdout",
     "output_type": "stream",
     "text": [
      "Решающее дерево\n",
      "AUC-ROC решающего древа 0.8485349541826782\n",
      "Accuracy 0.7775\n",
      "Precision 0.4725111441307578\n",
      "Recall 0.7794117647058824\n",
      "F1 0.5883441258094356\n",
      "\n",
      "Случайный лес\n",
      "AUC-ROC случайного леса 0.8687047369198935\n",
      "Accuracy 0.804\n",
      "Precision 0.512539184952978\n",
      "Recall 0.8014705882352942\n",
      "F1 0.6252390057361378\n",
      "\n",
      "Логистическая регрессия\n",
      "AUC-ROC логистической регрессии 0.7957618977239136\n",
      "Accuracy 0.698\n",
      "Precision 0.38388625592417064\n",
      "Recall 0.7941176470588235\n",
      "F1 0.5175718849840256\n"
     ]
    },
    {
     "data": {
      "image/png": "[encoded data removed]",
      "text/plain": [
       "<Figure size 864x648 with 1 Axes>"
      ]
     },
     "metadata": {
      "needs_background": "light"
     },
     "output_type": "display_data"
    }
   ],
   "source": [
    "plt.figure(figsize=[12,9])\n",
    "plt.plot([0, 1], [0, 1], linestyle='--', label='RandomModel')\n",
    "\n",
    "model_dtc = DecisionTreeClassifier(random_state=12345, ccp_alpha = 0.001, max_depth=8, criterion = 'gini', max_leaf_nodes = 28)\n",
    "model_dtc.fit(features_downsampled, target_downsampled)\n",
    "predicted_valid = model_dtc.predict(valid_churn_features)\n",
    "probabilities_valid = model_dtc.predict_proba(valid_churn_features)\n",
    "probabilities_one_valid = probabilities_valid[:, 1]\n",
    "fpr, tpr, thresholds = roc_curve(valid_churn_target, probabilities_one_valid)\n",
    "print('Решающее дерево')\n",
    "auc_roc = roc_auc_score(valid_churn_target, probabilities_one_valid)\n",
    "print('AUC-ROC решающего древа',auc_roc)\n",
    "print('Accuracy', accuracy_score(valid_churn_target, predicted_valid))\n",
    "print('Precision', precision_score(valid_churn_target, predicted_valid))\n",
    "print('Recall', recall_score(valid_churn_target, predicted_valid))\n",
    "print('F1', f1_score(valid_churn_target, predicted_valid))\n",
    "plt.plot(fpr, tpr, label='Решающее древо')\n",
    "print()\n",
    "\n",
    "model_rfc = RandomForestClassifier(random_state=12345, n_estimators=53, criterion = 'entropy', max_depth = 9)\n",
    "model_rfc.fit(features_downsampled, target_downsampled)\n",
    "predicted_valid = model_rfc.predict(valid_churn_features)\n",
    "probabilities_valid = model_rfc.predict_proba(valid_churn_features)\n",
    "probabilities_one_valid = probabilities_valid[:, 1]\n",
    "fpr, tpr, thresholds = roc_curve(valid_churn_target, probabilities_one_valid)\n",
    "print('Случайный лес')\n",
    "auc_roc = roc_auc_score(valid_churn_target, probabilities_one_valid)\n",
    "print('AUC-ROC случайного леса',auc_roc)\n",
    "print('Accuracy', accuracy_score(valid_churn_target, predicted_valid))\n",
    "print('Precision', precision_score(valid_churn_target, predicted_valid))\n",
    "print('Recall', recall_score(valid_churn_target, predicted_valid))\n",
    "print('F1', f1_score(valid_churn_target, predicted_valid))\n",
    "plt.plot(fpr, tpr, label='Случаный лес')\n",
    "print()\n",
    "\n",
    "model_lr = LogisticRegression(random_state=12345, max_iter=3)\n",
    "model_lr.fit(features_downsampled, target_downsampled)\n",
    "predicted_valid = model_lr.predict(valid_churn_features)\n",
    "probabilities_valid = model_lr.predict_proba(valid_churn_features)\n",
    "probabilities_one_valid = probabilities_valid[:, 1]\n",
    "fpr, tpr, thresholds = roc_curve(valid_churn_target, probabilities_one_valid)\n",
    "print('Логистическая регрессия')\n",
    "auc_roc = roc_auc_score(valid_churn_target, probabilities_one_valid)\n",
    "print('AUC-ROC логистической регрессии',auc_roc)\n",
    "print('Accuracy', accuracy_score(valid_churn_target, predicted_valid))\n",
    "print('Precision', precision_score(valid_churn_target, predicted_valid))\n",
    "print('Recall', recall_score(valid_churn_target, predicted_valid))\n",
    "print('F1', f1_score(valid_churn_target, predicted_valid))\n",
    "plt.plot(fpr, tpr, label='Логистическая регрессия')\n",
    "\n",
    "plt.xlim([0,1])\n",
    "plt.ylim([0,1])\n",
    "\n",
    "plt.xlabel(\"False Positive Rate\")\n",
    "plt.ylabel(\"True Positive Rate\")\n",
    "\n",
    "plt.legend(loc='lower right', fontsize='x-large')\n",
    "\n",
    "plt.title(\"ROC-кривая\")\n",
    "plt.show()"
   ]
  },
  {
   "cell_type": "markdown",
   "metadata": {},
   "source": [
    "Уменьшение выборки по-разному повлияло на модели:\n",
    "- у решающего древа увеличилачь F-1 мера и AUC-ROC;\n",
    "- у случайного леса уменьшилась AUC-ROC, но увелисилась F-1 мера;\n",
    "- у логистической регрессии увеличилачь F-1 мера и AUC-ROC."
   ]
  },
  {
   "cell_type": "markdown",
   "metadata": {},
   "source": [
    "### Изменение порога классификации"
   ]
  },
  {
   "cell_type": "markdown",
   "metadata": {},
   "source": [
    "Изменю порог классификации."
   ]
  },
  {
   "cell_type": "code",
   "execution_count": 50,
   "metadata": {},
   "outputs": [
    {
     "name": "stdout",
     "output_type": "stream",
     "text": [
      "Решающее дерево\n",
      "Порог = 0.00 | Точность = 0.204, Полнота = 1.000\n",
      "Порог = 0.02 | Точность = 0.204, Полнота = 1.000\n",
      "Порог = 0.04 | Точность = 0.204, Полнота = 1.000\n",
      "Порог = 0.06 | Точность = 0.292, Полнота = 0.919\n",
      "Порог = 0.08 | Точность = 0.292, Полнота = 0.919\n",
      "Порог = 0.10 | Точность = 0.292, Полнота = 0.919\n",
      "Порог = 0.12 | Точность = 0.292, Полнота = 0.919\n",
      "Порог = 0.14 | Точность = 0.310, Полнота = 0.875\n",
      "Порог = 0.16 | Точность = 0.478, Полнота = 0.716\n",
      "Порог = 0.18 | Точность = 0.478, Полнота = 0.716\n",
      "Порог = 0.20 | Точность = 0.512, Полнота = 0.689\n",
      "Порог = 0.22 | Точность = 0.512, Полнота = 0.689\n",
      "Порог = 0.24 | Точность = 0.512, Полнота = 0.689\n",
      "Порог = 0.26 | Точность = 0.512, Полнота = 0.689\n",
      "Порог = 0.28 | Точность = 0.512, Полнота = 0.689\n",
      "\n",
      "Случайный лес\n",
      "Порог = 0.00 | Точность = 0.204, Полнота = 1.000\n",
      "Порог = 0.02 | Точность = 0.206, Полнота = 1.000\n",
      "Порог = 0.04 | Точность = 0.233, Полнота = 0.990\n",
      "Порог = 0.06 | Точность = 0.259, Полнота = 0.971\n",
      "Порог = 0.08 | Точность = 0.290, Полнота = 0.944\n",
      "Порог = 0.10 | Точность = 0.324, Полнота = 0.924\n",
      "Порог = 0.12 | Точность = 0.361, Полнота = 0.902\n",
      "Порог = 0.14 | Точность = 0.405, Полнота = 0.882\n",
      "Порог = 0.16 | Точность = 0.436, Полнота = 0.836\n",
      "Порог = 0.18 | Точность = 0.477, Полнота = 0.821\n",
      "Порог = 0.20 | Точность = 0.508, Полнота = 0.792\n",
      "Порог = 0.22 | Точность = 0.524, Полнота = 0.755\n",
      "Порог = 0.24 | Точность = 0.552, Полнота = 0.735\n",
      "Порог = 0.26 | Точность = 0.575, Полнота = 0.711\n",
      "Порог = 0.28 | Точность = 0.596, Полнота = 0.676\n",
      "\n",
      "Логистическая регрессия\n",
      "Порог = 0.00 | Точность = 0.204, Полнота = 1.000\n",
      "Порог = 0.02 | Точность = 0.205, Полнота = 1.000\n",
      "Порог = 0.04 | Точность = 0.217, Полнота = 0.995\n",
      "Порог = 0.06 | Точность = 0.235, Полнота = 0.975\n",
      "Порог = 0.08 | Точность = 0.254, Полнота = 0.941\n",
      "Порог = 0.10 | Точность = 0.277, Полнота = 0.929\n",
      "Порог = 0.12 | Точность = 0.296, Полнота = 0.895\n",
      "Порог = 0.14 | Точность = 0.318, Полнота = 0.855\n",
      "Порог = 0.16 | Точность = 0.352, Полнота = 0.828\n",
      "Порог = 0.18 | Точность = 0.371, Полнота = 0.770\n",
      "Порог = 0.20 | Точность = 0.390, Полнота = 0.735\n",
      "Порог = 0.22 | Точность = 0.416, Полнота = 0.708\n",
      "Порог = 0.24 | Точность = 0.432, Полнота = 0.669\n",
      "Порог = 0.26 | Точность = 0.446, Полнота = 0.618\n",
      "Порог = 0.28 | Точность = 0.472, Полнота = 0.578\n"
     ]
    }
   ],
   "source": [
    "model_dtc = DecisionTreeClassifier(random_state=12345, ccp_alpha = 0.001, max_depth=5, criterion = 'entropy', max_leaf_nodes = 11)\n",
    "model_dtc.fit(train_churn_features, train_churn_target)\n",
    "probabilities_valid = model_dtc.predict_proba(valid_churn_features)\n",
    "probabilities_one_valid = probabilities_valid[:, 1]\n",
    "print('Решающее дерево')\n",
    "for threshold in np.arange(0, 0.3, 0.02):\n",
    "    predicted_valid = probabilities_one_valid > threshold\n",
    "    precision = precision_score(valid_churn_target, predicted_valid)\n",
    "    recall = recall_score(valid_churn_target, predicted_valid)\n",
    "    print(\"Порог = {:.2f} | Точность = {:.3f}, Полнота = {:.3f}\".format(threshold, precision, recall))\n",
    "print()\n",
    "\n",
    "model_rfc = RandomForestClassifier(random_state=12345, n_estimators=47, criterion =  'gini', max_depth = 9)\n",
    "model_rfc.fit(train_churn_features, train_churn_target)\n",
    "probabilities_valid = model_rfc.predict_proba(valid_churn_features)\n",
    "probabilities_one_valid = probabilities_valid[:, 1]\n",
    "print('Случайный лес')\n",
    "for threshold in np.arange(0, 0.3, 0.02):\n",
    "    predicted_valid = probabilities_one_valid > threshold\n",
    "    precision = precision_score(valid_churn_target, predicted_valid)\n",
    "    recall = recall_score(valid_churn_target, predicted_valid)\n",
    "    print(\"Порог = {:.2f} | Точность = {:.3f}, Полнота = {:.3f}\".format(threshold, precision, recall))\n",
    "print()\n",
    "\n",
    "model_lr = LogisticRegression(random_state=12345, max_iter=13)\n",
    "model_lr.fit(train_churn_features, train_churn_target)\n",
    "probabilities_valid = model_lr.predict_proba(valid_churn_features)\n",
    "probabilities_one_valid = probabilities_valid[:, 1]\n",
    "print('Логистическая регрессия')\n",
    "for threshold in np.arange(0, 0.3, 0.02):\n",
    "    predicted_valid = probabilities_one_valid > threshold\n",
    "    precision = precision_score(valid_churn_target, predicted_valid)\n",
    "    recall = recall_score(valid_churn_target, predicted_valid)\n",
    "    print(\"Порог = {:.2f} | Точность = {:.3f}, Полнота = {:.3f}\".format(threshold, precision, recall))"
   ]
  },
  {
   "cell_type": "markdown",
   "metadata": {},
   "source": [
    "При увеличении порога уменьшается полнота и уменьшается точноть. В рамках исследования уменьшение порога не дает результатов, поэтому оставлю значение по умолчанию равное - 0.5."
   ]
  },
  {
   "cell_type": "markdown",
   "metadata": {},
   "source": [
    "### Вывод"
   ]
  },
  {
   "cell_type": "markdown",
   "metadata": {},
   "source": [
    "После проведенной борьбы с дисбалансом я выявил наилучшие модели на основе площади AUC-ROC:\n",
    "- решающее древо после уменьшения выборки (AUC-ROC = 0.849);\n",
    "- случайный лес  после уменьшения выборки (хоть и AUC-ROC стал немного меньше - на 0,002, но зато F-1 мера стала больше - на 0,042);\n",
    "- логистическая регрессия после взвешивания классов (AUC-ROC = 0.796 и F-1 мера = 0,5363)."
   ]
  },
  {
   "cell_type": "markdown",
   "metadata": {},
   "source": [
    "## Тестирование модели"
   ]
  },
  {
   "cell_type": "markdown",
   "metadata": {},
   "source": [
    "Проведу финальное тестирование наилучших моделей на тестовой выборке. Для начала объединю тренировочную и валидационные выборки."
   ]
  },
  {
   "cell_type": "code",
   "execution_count": 51,
   "metadata": {},
   "outputs": [],
   "source": [
    "churn_features = pd.concat([train_churn_features, valid_churn_features], ignore_index=True)\n",
    "churn_target = pd.concat([train_churn_target, valid_churn_target], ignore_index=True)"
   ]
  },
  {
   "cell_type": "markdown",
   "metadata": {},
   "source": [
    "Так как модели решающего древа и случайного леса получены с применением уменьшающей выборки, то снова уменьшу выборку. "
   ]
  },
  {
   "cell_type": "code",
   "execution_count": 52,
   "metadata": {},
   "outputs": [],
   "source": [
    "def downsample_test(features, target, fraction):\n",
    "    features_zeros = features[target == 0]\n",
    "    features_ones = features[target == 1]\n",
    "    target_zeros = target[target == 0]\n",
    "    target_ones = target[target == 1]\n",
    "\n",
    "    features_downsampled = pd.concat(\n",
    "        [features_zeros.sample(frac=fraction, random_state=12345)] + [features_ones])\n",
    "    target_downsampled = pd.concat(\n",
    "        [target_zeros.sample(frac=fraction, random_state=12345)] + [target_ones])\n",
    "    \n",
    "    features_downsampled, target_downsampled = shuffle(\n",
    "        features_downsampled, target_downsampled, random_state=20052020)\n",
    "    \n",
    "    return features_downsampled, target_downsampled\n",
    "\n",
    "features_downsampled_test, target_downsampled_test = downsample(churn_features, churn_target, 0.25)"
   ]
  },
  {
   "cell_type": "markdown",
   "metadata": {},
   "source": [
    "Переобучу модели решающего древа и случайного леса."
   ]
  },
  {
   "cell_type": "code",
   "execution_count": 53,
   "metadata": {},
   "outputs": [
    {
     "data": {
      "text/plain": [
       "{'ccp_alpha': 0.001,\n",
       " 'criterion': 'entropy',\n",
       " 'max_depth': 6,\n",
       " 'max_leaf_nodes': 19}"
      ]
     },
     "metadata": {},
     "output_type": "display_data"
    },
    {
     "name": "stdout",
     "output_type": "stream",
     "text": [
      "CPU times: user 5min 43s, sys: 379 ms, total: 5min 43s\n",
      "Wall time: 5min 59s\n"
     ]
    }
   ],
   "source": [
    "%%time\n",
    "\n",
    "parametrs = {'max_leaf_nodes': list(range(10, 30)),          \n",
    "             'ccp_alpha': [0.1, .01, .001],            \n",
    "             'max_depth': list(range(2, 30)),             \n",
    "             'criterion': ['gini', 'entropy']             \n",
    "            }\n",
    "\n",
    "clf = DecisionTreeClassifier(random_state=12345)\n",
    "\n",
    "grid = GridSearchCV(clf, parametrs, cv=5)\n",
    "\n",
    "grid.fit(features_downsampled_test, target_downsampled_test)\n",
    "\n",
    "display(grid.best_params_)"
   ]
  },
  {
   "cell_type": "code",
   "execution_count": 54,
   "metadata": {},
   "outputs": [
    {
     "data": {
      "text/plain": [
       "{'criterion': 'entropy', 'max_depth': 9, 'n_estimators': 53}"
      ]
     },
     "metadata": {},
     "output_type": "display_data"
    },
    {
     "name": "stdout",
     "output_type": "stream",
     "text": [
      "CPU times: user 14min 14s, sys: 3.67 s, total: 14min 18s\n",
      "Wall time: 14min 51s\n"
     ]
    }
   ],
   "source": [
    "%%time\n",
    "\n",
    "parametrs = {'n_estimators': range (1, 60),\n",
    "\n",
    "          'max_depth': range (1, 20, 2),\n",
    "          \n",
    "          'criterion': ['gini', 'entropy'],}\n",
    "          \n",
    "clf = RandomForestClassifier(random_state=12345)\n",
    "\n",
    "grid = GridSearchCV(clf, parametrs, cv=5)\n",
    "\n",
    "grid.fit(features_downsampled, target_downsampled)\n",
    "\n",
    "display(grid.best_params_)"
   ]
  },
  {
   "cell_type": "markdown",
   "metadata": {},
   "source": [
    "Проверю модели на тестовой выборке."
   ]
  },
  {
   "cell_type": "code",
   "execution_count": 55,
   "metadata": {},
   "outputs": [
    {
     "name": "stdout",
     "output_type": "stream",
     "text": [
      "Решающее дерево\n",
      "AUC-ROC решающего древа 0.8356977933249119\n",
      "Accuracy 0.7245\n",
      "Precision 0.4111111111111111\n",
      "Recall 0.8181818181818182\n",
      "F1 0.5472473294987674\n",
      "\n",
      "Случайный лес\n",
      "AUC-ROC случайного леса 0.8557370930252286\n",
      "Accuracy 0.7935\n",
      "Precision 0.49504950495049505\n",
      "Recall 0.7371007371007371\n",
      "F1 0.5923000987166831\n",
      "\n",
      "Логистическая регрессия\n",
      "AUC-ROC логистической регрессии 0.7541393473596865\n",
      "Accuracy 0.702\n",
      "Precision 0.37037037037037035\n",
      "Recall 0.6633906633906634\n",
      "F1 0.47535211267605637\n"
     ]
    },
    {
     "data": {
      "image/png": "[encoded data removed]",
      "text/plain": [
       "<Figure size 864x648 with 1 Axes>"
      ]
     },
     "metadata": {
      "needs_background": "light"
     },
     "output_type": "display_data"
    }
   ],
   "source": [
    "plt.figure(figsize=[12,9])\n",
    "plt.plot([0, 1], [0, 1], linestyle='--', label='RandomModel')\n",
    "\n",
    "model_dtc = DecisionTreeClassifier(random_state=12345, ccp_alpha = 0.001, max_depth=6, criterion = 'entropy', max_leaf_nodes = 19)\n",
    "model_dtc.fit(features_downsampled_test, target_downsampled_test)\n",
    "predictions_valid_dtc = model_dtc.predict(test_churn_features)\n",
    "probabilities_valid = model_dtc.predict_proba(test_churn_features)\n",
    "probabilities_one_valid = probabilities_valid[:, 1]\n",
    "fpr, tpr, thresholds = roc_curve(test_churn_target, probabilities_one_valid)\n",
    "print('Решающее дерево')\n",
    "auc_roc = roc_auc_score(test_churn_target, probabilities_one_valid)\n",
    "print('AUC-ROC решающего древа',auc_roc)\n",
    "print('Accuracy', accuracy_score(test_churn_target, predictions_valid_dtc))\n",
    "print('Precision', precision_score(test_churn_target, predictions_valid_dtc))\n",
    "print('Recall', recall_score(test_churn_target, predictions_valid_dtc))\n",
    "print('F1', f1_score(test_churn_target, predictions_valid_dtc))\n",
    "plt.plot(fpr, tpr, label='Решающее древо')\n",
    "print()\n",
    "\n",
    "model_rfc = RandomForestClassifier(random_state=12345, n_estimators=53, criterion = 'entropy', max_depth = 9)\n",
    "model_rfc.fit(features_downsampled_test, target_downsampled_test)\n",
    "predictions_valid_rfc = model_rfc.predict(test_churn_features)\n",
    "probabilities_valid = model_rfc.predict_proba(test_churn_features)\n",
    "probabilities_one_valid = probabilities_valid[:, 1]\n",
    "fpr, tpr, thresholds = roc_curve(test_churn_target, probabilities_one_valid)\n",
    "print('Случайный лес')\n",
    "auc_roc = roc_auc_score(test_churn_target, probabilities_one_valid)\n",
    "print('AUC-ROC случайного леса',auc_roc)\n",
    "print('Accuracy', accuracy_score(test_churn_target, predictions_valid_rfc))\n",
    "print('Precision', precision_score(test_churn_target, predictions_valid_rfc))\n",
    "print('Recall', recall_score(test_churn_target, predictions_valid_rfc))\n",
    "print('F1', f1_score(test_churn_target, predictions_valid_rfc))\n",
    "plt.plot(fpr, tpr, label='Случаный лес')\n",
    "print()\n",
    "\n",
    "model_lr = LogisticRegression(random_state=12345, max_iter=4, class_weight='balanced')\n",
    "model_lr.fit(churn_features, churn_target)\n",
    "predicted_valid = model_lr.predict(test_churn_features)\n",
    "probabilities_valid = model_lr.predict_proba(test_churn_features)\n",
    "probabilities_one_valid = probabilities_valid[:, 1]\n",
    "fpr, tpr, thresholds = roc_curve(test_churn_target, probabilities_one_valid)\n",
    "print('Логистическая регрессия')\n",
    "auc_roc = roc_auc_score(test_churn_target, probabilities_one_valid)\n",
    "print('AUC-ROC логистической регрессии',auc_roc)\n",
    "print('Accuracy', accuracy_score(test_churn_target, predicted_valid))\n",
    "print('Precision', precision_score(test_churn_target, predicted_valid))\n",
    "print('Recall', recall_score(test_churn_target, predicted_valid))\n",
    "print('F1', f1_score(test_churn_target, predicted_valid))\n",
    "plt.plot(fpr, tpr, label='Логистическая регрессия')\n",
    "\n",
    "plt.xlim([0,1])\n",
    "plt.ylim([0,1])\n",
    "\n",
    "plt.xlabel(\"False Positive Rate\")\n",
    "plt.ylabel(\"True Positive Rate\")\n",
    "\n",
    "plt.legend(loc='lower right', fontsize='x-large')\n",
    "\n",
    "plt.title(\"ROC-кривая\")\n",
    "plt.show()"
   ]
  },
  {
   "cell_type": "markdown",
   "metadata": {},
   "source": [
    "Наилучший результат показала модель случайного леса."
   ]
  },
  {
   "cell_type": "markdown",
   "metadata": {},
   "source": [
    "### Вывод"
   ]
  },
  {
   "cell_type": "markdown",
   "metadata": {},
   "source": [
    "Лучшие модели показали следующие значения AUC-ROC и F-1-меры на тестовой выборке:\n",
    "- решающее древо AUC-ROC = 0.84 и  F-1 = 0.573;\n",
    "- случайный лес AUC-ROC = 0.856 и  F-1 = 0.592;\n",
    "- логистическая регрессия AUC-ROC = 0.754 и  F-1 = 0.475."
   ]
  },
  {
   "cell_type": "markdown",
   "metadata": {},
   "source": [
    "## Общий вывод"
   ]
  },
  {
   "cell_type": "markdown",
   "metadata": {},
   "source": [
    "В ходе исследования я получил модель, предсказывающую отток клиентов банка с показателем AUC-ROC = 0.856 и F-1 меры = 0.592.\n",
    "\n",
    "Данная модель была получена путем применения метода уменьшения выборки."
   ]
  }
 ],
 "metadata": {
  "ExecuteTimeLog": [
   {
    "duration": 755,
    "start_time": "2022-03-25T08:46:42.949Z"
   },
   {
    "duration": 370,
    "start_time": "2022-03-25T08:48:13.183Z"
   },
   {
    "duration": 137,
    "start_time": "2022-03-25T08:48:24.435Z"
   },
   {
    "duration": 139,
    "start_time": "2022-03-25T08:48:31.723Z"
   },
   {
    "duration": 24,
    "start_time": "2022-03-25T09:00:36.401Z"
   },
   {
    "duration": 8,
    "start_time": "2022-03-25T09:54:54.823Z"
   },
   {
    "duration": 8,
    "start_time": "2022-03-25T09:55:56.668Z"
   },
   {
    "duration": 7,
    "start_time": "2022-03-25T09:58:17.798Z"
   },
   {
    "duration": 129,
    "start_time": "2022-03-25T09:58:41.294Z"
   },
   {
    "duration": 8,
    "start_time": "2022-03-25T09:59:47.263Z"
   },
   {
    "duration": 7,
    "start_time": "2022-03-25T10:01:02.806Z"
   },
   {
    "duration": 7,
    "start_time": "2022-03-25T10:01:30.912Z"
   },
   {
    "duration": 7,
    "start_time": "2022-03-25T10:03:48.889Z"
   },
   {
    "duration": 9,
    "start_time": "2022-03-25T10:04:26.233Z"
   },
   {
    "duration": 6,
    "start_time": "2022-03-25T10:05:24.161Z"
   },
   {
    "duration": 6,
    "start_time": "2022-03-25T10:05:47.281Z"
   },
   {
    "duration": 7,
    "start_time": "2022-03-25T10:06:45.850Z"
   },
   {
    "duration": 8,
    "start_time": "2022-03-25T10:07:11.162Z"
   },
   {
    "duration": 8,
    "start_time": "2022-03-25T10:10:44.163Z"
   },
   {
    "duration": 6,
    "start_time": "2022-03-25T10:15:33.755Z"
   },
   {
    "duration": 13,
    "start_time": "2022-03-25T10:31:17.287Z"
   },
   {
    "duration": 12,
    "start_time": "2022-03-25T10:31:19.749Z"
   },
   {
    "duration": 8,
    "start_time": "2022-03-25T10:31:30.054Z"
   },
   {
    "duration": 7,
    "start_time": "2022-03-25T10:37:08.631Z"
   },
   {
    "duration": 4,
    "start_time": "2022-03-25T10:46:38.850Z"
   },
   {
    "duration": 198,
    "start_time": "2022-03-25T10:46:38.858Z"
   },
   {
    "duration": 38,
    "start_time": "2022-03-25T10:46:39.058Z"
   },
   {
    "duration": 8,
    "start_time": "2022-03-25T10:46:39.098Z"
   },
   {
    "duration": 16,
    "start_time": "2022-03-25T10:46:39.109Z"
   },
   {
    "duration": 9,
    "start_time": "2022-03-25T10:46:39.127Z"
   },
   {
    "duration": 46,
    "start_time": "2022-03-25T10:46:39.138Z"
   },
   {
    "duration": 8,
    "start_time": "2022-03-25T10:46:39.187Z"
   },
   {
    "duration": 16,
    "start_time": "2022-03-25T10:46:39.198Z"
   },
   {
    "duration": 8,
    "start_time": "2022-03-25T10:46:39.216Z"
   },
   {
    "duration": 13,
    "start_time": "2022-03-25T10:46:39.227Z"
   },
   {
    "duration": 175,
    "start_time": "2022-03-25T10:46:39.243Z"
   },
   {
    "duration": 0,
    "start_time": "2022-03-25T10:46:39.421Z"
   },
   {
    "duration": 0,
    "start_time": "2022-03-25T10:46:39.424Z"
   },
   {
    "duration": 0,
    "start_time": "2022-03-25T10:46:39.427Z"
   },
   {
    "duration": 0,
    "start_time": "2022-03-25T10:46:39.429Z"
   },
   {
    "duration": 4,
    "start_time": "2022-03-25T10:46:47.816Z"
   },
   {
    "duration": 173,
    "start_time": "2022-03-25T10:46:47.824Z"
   },
   {
    "duration": 20,
    "start_time": "2022-03-25T10:46:47.999Z"
   },
   {
    "duration": 18,
    "start_time": "2022-03-25T10:46:48.022Z"
   },
   {
    "duration": 20,
    "start_time": "2022-03-25T10:46:48.042Z"
   },
   {
    "duration": 20,
    "start_time": "2022-03-25T10:46:48.083Z"
   },
   {
    "duration": 26,
    "start_time": "2022-03-25T10:46:48.105Z"
   },
   {
    "duration": 21,
    "start_time": "2022-03-25T10:46:48.133Z"
   },
   {
    "duration": 17,
    "start_time": "2022-03-25T10:46:48.156Z"
   },
   {
    "duration": 26,
    "start_time": "2022-03-25T10:46:48.177Z"
   },
   {
    "duration": 42,
    "start_time": "2022-03-25T10:46:48.205Z"
   },
   {
    "duration": 20,
    "start_time": "2022-03-25T10:46:48.250Z"
   },
   {
    "duration": 15,
    "start_time": "2022-03-25T10:46:48.272Z"
   },
   {
    "duration": 22,
    "start_time": "2022-03-25T10:46:48.291Z"
   },
   {
    "duration": 28,
    "start_time": "2022-03-25T10:46:48.315Z"
   },
   {
    "duration": 17,
    "start_time": "2022-03-25T10:46:48.345Z"
   },
   {
    "duration": 7,
    "start_time": "2022-03-25T10:46:50.353Z"
   },
   {
    "duration": 10,
    "start_time": "2022-03-25T13:14:00.514Z"
   },
   {
    "duration": 8,
    "start_time": "2022-03-25T13:14:14.213Z"
   },
   {
    "duration": 9,
    "start_time": "2022-03-25T13:23:40.459Z"
   },
   {
    "duration": 8,
    "start_time": "2022-03-25T13:23:59.746Z"
   },
   {
    "duration": 17,
    "start_time": "2022-03-25T13:24:13.426Z"
   },
   {
    "duration": 11,
    "start_time": "2022-03-25T13:24:31.379Z"
   },
   {
    "duration": 8,
    "start_time": "2022-03-25T13:24:53.546Z"
   },
   {
    "duration": 10,
    "start_time": "2022-03-25T13:38:30.441Z"
   },
   {
    "duration": 7,
    "start_time": "2022-03-25T13:38:35.876Z"
   },
   {
    "duration": 166,
    "start_time": "2022-03-25T13:38:35.886Z"
   },
   {
    "duration": 19,
    "start_time": "2022-03-25T13:38:36.054Z"
   },
   {
    "duration": 9,
    "start_time": "2022-03-25T13:38:36.076Z"
   },
   {
    "duration": 14,
    "start_time": "2022-03-25T13:38:36.087Z"
   },
   {
    "duration": 34,
    "start_time": "2022-03-25T13:38:36.103Z"
   },
   {
    "duration": 37,
    "start_time": "2022-03-25T13:38:36.140Z"
   },
   {
    "duration": 17,
    "start_time": "2022-03-25T13:38:36.180Z"
   },
   {
    "duration": 28,
    "start_time": "2022-03-25T13:38:36.199Z"
   },
   {
    "duration": 23,
    "start_time": "2022-03-25T13:38:36.230Z"
   },
   {
    "duration": 33,
    "start_time": "2022-03-25T13:38:36.255Z"
   },
   {
    "duration": 25,
    "start_time": "2022-03-25T13:38:36.290Z"
   },
   {
    "duration": 8,
    "start_time": "2022-03-25T13:38:36.317Z"
   },
   {
    "duration": 28,
    "start_time": "2022-03-25T13:38:36.327Z"
   },
   {
    "duration": 36,
    "start_time": "2022-03-25T13:38:36.358Z"
   },
   {
    "duration": 21,
    "start_time": "2022-03-25T13:38:36.396Z"
   },
   {
    "duration": 28,
    "start_time": "2022-03-25T13:38:36.420Z"
   },
   {
    "duration": 5,
    "start_time": "2022-03-25T13:38:49.310Z"
   },
   {
    "duration": 21,
    "start_time": "2022-03-25T13:41:43.903Z"
   },
   {
    "duration": 355,
    "start_time": "2022-03-26T18:25:40.736Z"
   },
   {
    "duration": 168,
    "start_time": "2022-03-26T18:25:41.093Z"
   },
   {
    "duration": 17,
    "start_time": "2022-03-26T18:25:41.263Z"
   },
   {
    "duration": 4,
    "start_time": "2022-03-26T18:25:41.283Z"
   },
   {
    "duration": 6,
    "start_time": "2022-03-26T18:25:41.289Z"
   },
   {
    "duration": 14,
    "start_time": "2022-03-26T18:25:41.297Z"
   },
   {
    "duration": 6,
    "start_time": "2022-03-26T18:25:41.313Z"
   },
   {
    "duration": 6,
    "start_time": "2022-03-26T18:25:41.321Z"
   },
   {
    "duration": 6,
    "start_time": "2022-03-26T18:25:41.328Z"
   },
   {
    "duration": 5,
    "start_time": "2022-03-26T18:25:41.336Z"
   },
   {
    "duration": 43,
    "start_time": "2022-03-26T18:25:41.342Z"
   },
   {
    "duration": 6,
    "start_time": "2022-03-26T18:25:41.386Z"
   },
   {
    "duration": 9,
    "start_time": "2022-03-26T18:25:41.393Z"
   },
   {
    "duration": 8,
    "start_time": "2022-03-26T18:25:41.404Z"
   },
   {
    "duration": 6,
    "start_time": "2022-03-26T18:25:41.413Z"
   },
   {
    "duration": 9,
    "start_time": "2022-03-26T18:25:41.421Z"
   },
   {
    "duration": 4,
    "start_time": "2022-03-26T18:25:41.432Z"
   },
   {
    "duration": 14,
    "start_time": "2022-03-26T18:25:47.674Z"
   },
   {
    "duration": 57,
    "start_time": "2022-03-26T18:58:49.384Z"
   },
   {
    "duration": 7,
    "start_time": "2022-03-26T18:59:05.072Z"
   },
   {
    "duration": 12,
    "start_time": "2022-03-26T18:59:07.555Z"
   },
   {
    "duration": 8,
    "start_time": "2022-03-26T18:59:08.451Z"
   },
   {
    "duration": 7,
    "start_time": "2022-03-26T18:59:48.179Z"
   },
   {
    "duration": 9,
    "start_time": "2022-03-26T19:00:32.987Z"
   },
   {
    "duration": 8,
    "start_time": "2022-03-26T19:01:19.923Z"
   },
   {
    "duration": 2,
    "start_time": "2022-03-26T19:01:26.699Z"
   },
   {
    "duration": 139,
    "start_time": "2022-03-26T19:01:26.705Z"
   },
   {
    "duration": 11,
    "start_time": "2022-03-26T19:01:26.845Z"
   },
   {
    "duration": 8,
    "start_time": "2022-03-26T19:01:26.858Z"
   },
   {
    "duration": 9,
    "start_time": "2022-03-26T19:01:26.867Z"
   },
   {
    "duration": 10,
    "start_time": "2022-03-26T19:01:26.879Z"
   },
   {
    "duration": 8,
    "start_time": "2022-03-26T19:01:26.890Z"
   },
   {
    "duration": 3,
    "start_time": "2022-03-26T19:01:26.900Z"
   },
   {
    "duration": 6,
    "start_time": "2022-03-26T19:01:26.905Z"
   },
   {
    "duration": 9,
    "start_time": "2022-03-26T19:01:26.913Z"
   },
   {
    "duration": 6,
    "start_time": "2022-03-26T19:01:26.924Z"
   },
   {
    "duration": 10,
    "start_time": "2022-03-26T19:01:26.931Z"
   },
   {
    "duration": 9,
    "start_time": "2022-03-26T19:01:26.942Z"
   },
   {
    "duration": 8,
    "start_time": "2022-03-26T19:01:26.952Z"
   },
   {
    "duration": 4,
    "start_time": "2022-03-26T19:01:26.980Z"
   },
   {
    "duration": 16,
    "start_time": "2022-03-26T19:01:26.985Z"
   },
   {
    "duration": 4,
    "start_time": "2022-03-26T19:01:27.003Z"
   },
   {
    "duration": 8,
    "start_time": "2022-03-26T19:01:28.755Z"
   },
   {
    "duration": 7,
    "start_time": "2022-03-26T19:02:20.717Z"
   },
   {
    "duration": 7,
    "start_time": "2022-03-26T19:02:31.869Z"
   },
   {
    "duration": 7,
    "start_time": "2022-03-26T19:05:14.086Z"
   },
   {
    "duration": 7,
    "start_time": "2022-03-26T19:05:15.350Z"
   },
   {
    "duration": 7,
    "start_time": "2022-03-26T19:09:53.129Z"
   },
   {
    "duration": 8,
    "start_time": "2022-03-26T19:10:27.950Z"
   },
   {
    "duration": 3,
    "start_time": "2022-03-26T19:10:31.827Z"
   },
   {
    "duration": 143,
    "start_time": "2022-03-26T19:10:31.833Z"
   },
   {
    "duration": 12,
    "start_time": "2022-03-26T19:10:31.978Z"
   },
   {
    "duration": 3,
    "start_time": "2022-03-26T19:10:31.992Z"
   },
   {
    "duration": 6,
    "start_time": "2022-03-26T19:10:31.997Z"
   },
   {
    "duration": 9,
    "start_time": "2022-03-26T19:10:32.005Z"
   },
   {
    "duration": 5,
    "start_time": "2022-03-26T19:10:32.016Z"
   },
   {
    "duration": 5,
    "start_time": "2022-03-26T19:10:32.023Z"
   },
   {
    "duration": 9,
    "start_time": "2022-03-26T19:10:32.029Z"
   },
   {
    "duration": 6,
    "start_time": "2022-03-26T19:10:32.039Z"
   },
   {
    "duration": 39,
    "start_time": "2022-03-26T19:10:32.047Z"
   },
   {
    "duration": 8,
    "start_time": "2022-03-26T19:10:32.087Z"
   },
   {
    "duration": 4,
    "start_time": "2022-03-26T19:10:32.096Z"
   },
   {
    "duration": 6,
    "start_time": "2022-03-26T19:10:32.101Z"
   },
   {
    "duration": 4,
    "start_time": "2022-03-26T19:10:32.109Z"
   },
   {
    "duration": 11,
    "start_time": "2022-03-26T19:10:32.115Z"
   },
   {
    "duration": 4,
    "start_time": "2022-03-26T19:10:32.127Z"
   },
   {
    "duration": 12,
    "start_time": "2022-03-26T19:10:34.058Z"
   },
   {
    "duration": 10,
    "start_time": "2022-03-26T19:10:40.048Z"
   },
   {
    "duration": 3207,
    "start_time": "2022-03-26T19:13:29.033Z"
   },
   {
    "duration": 3171,
    "start_time": "2022-03-26T19:13:44.699Z"
   },
   {
    "duration": 6,
    "start_time": "2022-03-26T19:14:54.274Z"
   },
   {
    "duration": 21,
    "start_time": "2022-03-26T19:17:39.265Z"
   },
   {
    "duration": 13,
    "start_time": "2022-03-26T19:17:58.189Z"
   },
   {
    "duration": 13,
    "start_time": "2022-03-26T19:18:12.315Z"
   },
   {
    "duration": 11,
    "start_time": "2022-03-26T19:18:20.875Z"
   },
   {
    "duration": 13,
    "start_time": "2022-03-26T19:18:26.956Z"
   },
   {
    "duration": 17,
    "start_time": "2022-03-26T19:18:35.300Z"
   },
   {
    "duration": 15,
    "start_time": "2022-03-26T19:18:40.341Z"
   },
   {
    "duration": 14,
    "start_time": "2022-03-26T19:18:52.780Z"
   },
   {
    "duration": 16,
    "start_time": "2022-03-26T19:19:02.100Z"
   },
   {
    "duration": 505,
    "start_time": "2022-03-27T11:31:22.805Z"
   },
   {
    "duration": 160,
    "start_time": "2022-03-27T11:31:23.313Z"
   },
   {
    "duration": 42,
    "start_time": "2022-03-27T11:31:23.477Z"
   },
   {
    "duration": 6,
    "start_time": "2022-03-27T11:31:23.523Z"
   },
   {
    "duration": 46,
    "start_time": "2022-03-27T11:31:23.532Z"
   },
   {
    "duration": 16,
    "start_time": "2022-03-27T11:31:23.581Z"
   },
   {
    "duration": 15,
    "start_time": "2022-03-27T11:31:23.600Z"
   },
   {
    "duration": 57,
    "start_time": "2022-03-27T11:31:23.617Z"
   },
   {
    "duration": 7,
    "start_time": "2022-03-27T11:31:23.677Z"
   },
   {
    "duration": 10,
    "start_time": "2022-03-27T11:31:23.688Z"
   },
   {
    "duration": 17,
    "start_time": "2022-03-27T11:31:23.701Z"
   },
   {
    "duration": 57,
    "start_time": "2022-03-27T11:31:23.721Z"
   },
   {
    "duration": 7,
    "start_time": "2022-03-27T11:31:23.780Z"
   },
   {
    "duration": 10,
    "start_time": "2022-03-27T11:31:23.790Z"
   },
   {
    "duration": 9,
    "start_time": "2022-03-27T11:31:23.803Z"
   },
   {
    "duration": 11,
    "start_time": "2022-03-27T11:31:23.816Z"
   },
   {
    "duration": 7,
    "start_time": "2022-03-27T11:31:23.875Z"
   },
   {
    "duration": 36,
    "start_time": "2022-03-27T11:31:23.885Z"
   },
   {
    "duration": 62,
    "start_time": "2022-03-27T11:31:23.924Z"
   },
   {
    "duration": 9,
    "start_time": "2022-03-27T11:31:23.989Z"
   },
   {
    "duration": 55,
    "start_time": "2022-03-27T11:31:27.453Z"
   },
   {
    "duration": 2164,
    "start_time": "2022-03-27T11:33:44.576Z"
   },
   {
    "duration": 68333,
    "start_time": "2022-03-27T11:34:40.776Z"
   },
   {
    "duration": 3,
    "start_time": "2022-03-27T11:36:11.808Z"
   },
   {
    "duration": 124,
    "start_time": "2022-03-27T11:36:11.815Z"
   },
   {
    "duration": 20,
    "start_time": "2022-03-27T11:36:11.942Z"
   },
   {
    "duration": 10,
    "start_time": "2022-03-27T11:36:11.975Z"
   },
   {
    "duration": 22,
    "start_time": "2022-03-27T11:36:11.988Z"
   },
   {
    "duration": 23,
    "start_time": "2022-03-27T11:36:12.013Z"
   },
   {
    "duration": 23,
    "start_time": "2022-03-27T11:36:12.038Z"
   },
   {
    "duration": 24,
    "start_time": "2022-03-27T11:36:12.063Z"
   },
   {
    "duration": 25,
    "start_time": "2022-03-27T11:36:12.090Z"
   },
   {
    "duration": 23,
    "start_time": "2022-03-27T11:36:12.118Z"
   },
   {
    "duration": 18,
    "start_time": "2022-03-27T11:36:12.146Z"
   },
   {
    "duration": 10,
    "start_time": "2022-03-27T11:36:12.167Z"
   },
   {
    "duration": 15,
    "start_time": "2022-03-27T11:36:12.179Z"
   },
   {
    "duration": 17,
    "start_time": "2022-03-27T11:36:12.197Z"
   },
   {
    "duration": 7,
    "start_time": "2022-03-27T11:36:12.217Z"
   },
   {
    "duration": 12,
    "start_time": "2022-03-27T11:36:12.227Z"
   },
   {
    "duration": 6,
    "start_time": "2022-03-27T11:36:12.241Z"
   },
   {
    "duration": 19,
    "start_time": "2022-03-27T11:36:12.274Z"
   },
   {
    "duration": 19,
    "start_time": "2022-03-27T11:36:12.295Z"
   },
   {
    "duration": 8,
    "start_time": "2022-03-27T11:36:12.316Z"
   },
   {
    "duration": 66,
    "start_time": "2022-03-27T11:36:12.326Z"
   },
   {
    "duration": 619,
    "start_time": "2022-03-27T11:39:35.450Z"
   },
   {
    "duration": 14,
    "start_time": "2022-03-27T11:39:41.306Z"
   },
   {
    "duration": 14,
    "start_time": "2022-03-27T11:43:04.028Z"
   },
   {
    "duration": 4,
    "start_time": "2022-03-27T12:02:40.378Z"
   },
   {
    "duration": 148,
    "start_time": "2022-03-27T12:02:40.385Z"
   },
   {
    "duration": 19,
    "start_time": "2022-03-27T12:02:40.535Z"
   },
   {
    "duration": 6,
    "start_time": "2022-03-27T12:02:40.573Z"
   },
   {
    "duration": 7,
    "start_time": "2022-03-27T12:02:40.582Z"
   },
   {
    "duration": 15,
    "start_time": "2022-03-27T12:02:40.592Z"
   },
   {
    "duration": 13,
    "start_time": "2022-03-27T12:02:40.609Z"
   },
   {
    "duration": 52,
    "start_time": "2022-03-27T12:02:40.625Z"
   },
   {
    "duration": 7,
    "start_time": "2022-03-27T12:02:40.679Z"
   },
   {
    "duration": 8,
    "start_time": "2022-03-27T12:02:40.688Z"
   },
   {
    "duration": 9,
    "start_time": "2022-03-27T12:02:40.700Z"
   },
   {
    "duration": 7,
    "start_time": "2022-03-27T12:02:40.711Z"
   },
   {
    "duration": 6,
    "start_time": "2022-03-27T12:02:40.774Z"
   },
   {
    "duration": 7,
    "start_time": "2022-03-27T12:02:40.782Z"
   },
   {
    "duration": 7,
    "start_time": "2022-03-27T12:02:40.791Z"
   },
   {
    "duration": 11,
    "start_time": "2022-03-27T12:02:40.800Z"
   },
   {
    "duration": 6,
    "start_time": "2022-03-27T12:02:40.813Z"
   },
   {
    "duration": 64,
    "start_time": "2022-03-27T12:02:40.821Z"
   },
   {
    "duration": 17,
    "start_time": "2022-03-27T12:02:40.887Z"
   },
   {
    "duration": 8,
    "start_time": "2022-03-27T12:02:40.906Z"
   },
   {
    "duration": 73,
    "start_time": "2022-03-27T12:02:40.916Z"
   },
   {
    "duration": 25,
    "start_time": "2022-03-27T12:02:42.590Z"
   },
   {
    "duration": 24,
    "start_time": "2022-03-27T12:04:32.543Z"
   },
   {
    "duration": 3,
    "start_time": "2022-03-27T12:04:36.942Z"
   },
   {
    "duration": 110,
    "start_time": "2022-03-27T12:04:36.948Z"
   },
   {
    "duration": 21,
    "start_time": "2022-03-27T12:04:37.060Z"
   },
   {
    "duration": 10,
    "start_time": "2022-03-27T12:04:37.083Z"
   },
   {
    "duration": 10,
    "start_time": "2022-03-27T12:04:37.098Z"
   },
   {
    "duration": 25,
    "start_time": "2022-03-27T12:04:37.111Z"
   },
   {
    "duration": 46,
    "start_time": "2022-03-27T12:04:37.138Z"
   },
   {
    "duration": 9,
    "start_time": "2022-03-27T12:04:37.187Z"
   },
   {
    "duration": 8,
    "start_time": "2022-03-27T12:04:37.198Z"
   },
   {
    "duration": 13,
    "start_time": "2022-03-27T12:04:37.208Z"
   },
   {
    "duration": 56,
    "start_time": "2022-03-27T12:04:37.229Z"
   },
   {
    "duration": 8,
    "start_time": "2022-03-27T12:04:37.287Z"
   },
   {
    "duration": 8,
    "start_time": "2022-03-27T12:04:37.298Z"
   },
   {
    "duration": 6,
    "start_time": "2022-03-27T12:04:37.310Z"
   },
   {
    "duration": 57,
    "start_time": "2022-03-27T12:04:37.318Z"
   },
   {
    "duration": 9,
    "start_time": "2022-03-27T12:04:37.377Z"
   },
   {
    "duration": 6,
    "start_time": "2022-03-27T12:04:37.388Z"
   },
   {
    "duration": 21,
    "start_time": "2022-03-27T12:04:37.397Z"
   },
   {
    "duration": 70,
    "start_time": "2022-03-27T12:04:37.420Z"
   },
   {
    "duration": 16,
    "start_time": "2022-03-27T12:04:37.493Z"
   },
   {
    "duration": 64,
    "start_time": "2022-03-27T12:04:37.511Z"
   },
   {
    "duration": 26,
    "start_time": "2022-03-27T12:04:40.775Z"
   },
   {
    "duration": 24,
    "start_time": "2022-03-27T12:06:11.231Z"
   },
   {
    "duration": 12,
    "start_time": "2022-03-27T12:06:26.688Z"
   },
   {
    "duration": 10,
    "start_time": "2022-03-27T12:06:28.919Z"
   },
   {
    "duration": 1326,
    "start_time": "2022-03-27T12:57:08.100Z"
   },
   {
    "duration": 0,
    "start_time": "2022-03-27T12:57:09.428Z"
   },
   {
    "duration": 0,
    "start_time": "2022-03-27T12:57:09.430Z"
   },
   {
    "duration": 0,
    "start_time": "2022-03-27T12:57:09.431Z"
   },
   {
    "duration": 0,
    "start_time": "2022-03-27T12:57:09.432Z"
   },
   {
    "duration": 0,
    "start_time": "2022-03-27T12:57:09.433Z"
   },
   {
    "duration": 0,
    "start_time": "2022-03-27T12:57:09.434Z"
   },
   {
    "duration": 0,
    "start_time": "2022-03-27T12:57:09.435Z"
   },
   {
    "duration": 0,
    "start_time": "2022-03-27T12:57:09.437Z"
   },
   {
    "duration": 0,
    "start_time": "2022-03-27T12:57:09.438Z"
   },
   {
    "duration": 0,
    "start_time": "2022-03-27T12:57:09.439Z"
   },
   {
    "duration": 0,
    "start_time": "2022-03-27T12:57:09.440Z"
   },
   {
    "duration": 0,
    "start_time": "2022-03-27T12:57:09.441Z"
   },
   {
    "duration": 0,
    "start_time": "2022-03-27T12:57:09.442Z"
   },
   {
    "duration": 0,
    "start_time": "2022-03-27T12:57:09.443Z"
   },
   {
    "duration": 0,
    "start_time": "2022-03-27T12:57:09.444Z"
   },
   {
    "duration": 0,
    "start_time": "2022-03-27T12:57:09.446Z"
   },
   {
    "duration": 0,
    "start_time": "2022-03-27T12:57:09.446Z"
   },
   {
    "duration": 0,
    "start_time": "2022-03-27T12:57:09.448Z"
   },
   {
    "duration": 0,
    "start_time": "2022-03-27T12:57:09.449Z"
   },
   {
    "duration": 0,
    "start_time": "2022-03-27T12:57:09.450Z"
   },
   {
    "duration": 0,
    "start_time": "2022-03-27T12:57:09.451Z"
   },
   {
    "duration": 0,
    "start_time": "2022-03-27T12:57:09.452Z"
   },
   {
    "duration": 0,
    "start_time": "2022-03-27T12:57:09.452Z"
   },
   {
    "duration": 39,
    "start_time": "2022-03-27T12:58:06.701Z"
   },
   {
    "duration": 3,
    "start_time": "2022-03-27T12:58:14.053Z"
   },
   {
    "duration": 151,
    "start_time": "2022-03-27T12:58:14.058Z"
   },
   {
    "duration": 14,
    "start_time": "2022-03-27T12:58:14.211Z"
   },
   {
    "duration": 9,
    "start_time": "2022-03-27T12:58:14.227Z"
   },
   {
    "duration": 6,
    "start_time": "2022-03-27T12:58:14.238Z"
   },
   {
    "duration": 21,
    "start_time": "2022-03-27T12:58:14.246Z"
   },
   {
    "duration": 15,
    "start_time": "2022-03-27T12:58:14.269Z"
   },
   {
    "duration": 12,
    "start_time": "2022-03-27T12:58:14.286Z"
   },
   {
    "duration": 25,
    "start_time": "2022-03-27T12:58:14.301Z"
   },
   {
    "duration": 10,
    "start_time": "2022-03-27T12:58:14.328Z"
   },
   {
    "duration": 26,
    "start_time": "2022-03-27T12:58:14.339Z"
   },
   {
    "duration": 19,
    "start_time": "2022-03-27T12:58:14.367Z"
   },
   {
    "duration": 30,
    "start_time": "2022-03-27T12:58:14.387Z"
   },
   {
    "duration": 11,
    "start_time": "2022-03-27T12:58:14.419Z"
   },
   {
    "duration": 30,
    "start_time": "2022-03-27T12:58:14.432Z"
   },
   {
    "duration": 16,
    "start_time": "2022-03-27T12:58:14.464Z"
   },
   {
    "duration": 13,
    "start_time": "2022-03-27T12:58:14.481Z"
   },
   {
    "duration": 23,
    "start_time": "2022-03-27T12:58:14.496Z"
   },
   {
    "duration": 22,
    "start_time": "2022-03-27T12:58:14.521Z"
   },
   {
    "duration": 24,
    "start_time": "2022-03-27T12:58:14.544Z"
   },
   {
    "duration": 32,
    "start_time": "2022-03-27T12:58:14.570Z"
   },
   {
    "duration": 22,
    "start_time": "2022-03-27T12:58:14.604Z"
   },
   {
    "duration": 25,
    "start_time": "2022-03-27T12:58:14.627Z"
   },
   {
    "duration": 15,
    "start_time": "2022-03-27T13:02:53.012Z"
   },
   {
    "duration": 7,
    "start_time": "2022-03-27T13:03:05.726Z"
   },
   {
    "duration": 13782,
    "start_time": "2022-03-27T13:03:07.798Z"
   },
   {
    "duration": 3,
    "start_time": "2022-03-27T13:09:20.660Z"
   },
   {
    "duration": 133,
    "start_time": "2022-03-27T13:09:20.667Z"
   },
   {
    "duration": 12,
    "start_time": "2022-03-27T13:09:20.802Z"
   },
   {
    "duration": 4,
    "start_time": "2022-03-27T13:09:20.816Z"
   },
   {
    "duration": 8,
    "start_time": "2022-03-27T13:09:20.822Z"
   },
   {
    "duration": 12,
    "start_time": "2022-03-27T13:09:20.831Z"
   },
   {
    "duration": 10,
    "start_time": "2022-03-27T13:09:20.845Z"
   },
   {
    "duration": 4,
    "start_time": "2022-03-27T13:09:20.857Z"
   },
   {
    "duration": 15,
    "start_time": "2022-03-27T13:09:20.863Z"
   },
   {
    "duration": 11,
    "start_time": "2022-03-27T13:09:20.880Z"
   },
   {
    "duration": 10,
    "start_time": "2022-03-27T13:09:20.894Z"
   },
   {
    "duration": 26,
    "start_time": "2022-03-27T13:09:20.906Z"
   },
   {
    "duration": 5,
    "start_time": "2022-03-27T13:09:20.933Z"
   },
   {
    "duration": 7,
    "start_time": "2022-03-27T13:09:20.940Z"
   },
   {
    "duration": 7,
    "start_time": "2022-03-27T13:09:20.949Z"
   },
   {
    "duration": 9,
    "start_time": "2022-03-27T13:09:20.958Z"
   },
   {
    "duration": 4,
    "start_time": "2022-03-27T13:09:20.969Z"
   },
   {
    "duration": 18,
    "start_time": "2022-03-27T13:09:20.975Z"
   },
   {
    "duration": 13,
    "start_time": "2022-03-27T13:09:21.031Z"
   },
   {
    "duration": 8,
    "start_time": "2022-03-27T13:09:21.045Z"
   },
   {
    "duration": 20,
    "start_time": "2022-03-27T13:09:21.055Z"
   },
   {
    "duration": 17,
    "start_time": "2022-03-27T13:09:21.076Z"
   },
   {
    "duration": 38,
    "start_time": "2022-03-27T13:09:21.095Z"
   },
   {
    "duration": 6,
    "start_time": "2022-03-27T13:09:21.134Z"
   },
   {
    "duration": 85,
    "start_time": "2022-03-27T13:12:04.292Z"
   },
   {
    "duration": 87,
    "start_time": "2022-03-27T13:12:10.899Z"
   },
   {
    "duration": 82,
    "start_time": "2022-03-27T13:12:31.191Z"
   },
   {
    "duration": 85,
    "start_time": "2022-03-27T13:12:52.445Z"
   },
   {
    "duration": 1597205,
    "start_time": "2022-03-27T13:14:44.359Z"
   },
   {
    "duration": 19,
    "start_time": "2022-03-27T13:47:53.967Z"
   },
   {
    "duration": 4,
    "start_time": "2022-03-27T13:48:23.357Z"
   },
   {
    "duration": 136,
    "start_time": "2022-03-27T13:48:23.365Z"
   },
   {
    "duration": 15,
    "start_time": "2022-03-27T13:48:23.504Z"
   },
   {
    "duration": 21,
    "start_time": "2022-03-27T13:48:23.521Z"
   },
   {
    "duration": 29,
    "start_time": "2022-03-27T13:48:23.544Z"
   },
   {
    "duration": 17,
    "start_time": "2022-03-27T13:48:23.575Z"
   },
   {
    "duration": 9,
    "start_time": "2022-03-27T13:48:23.595Z"
   },
   {
    "duration": 9,
    "start_time": "2022-03-27T13:48:23.606Z"
   },
   {
    "duration": 17,
    "start_time": "2022-03-27T13:48:23.617Z"
   },
   {
    "duration": 9,
    "start_time": "2022-03-27T13:48:23.636Z"
   },
   {
    "duration": 9,
    "start_time": "2022-03-27T13:48:23.649Z"
   },
   {
    "duration": 7,
    "start_time": "2022-03-27T13:48:23.660Z"
   },
   {
    "duration": 5,
    "start_time": "2022-03-27T13:48:23.669Z"
   },
   {
    "duration": 58,
    "start_time": "2022-03-27T13:48:23.677Z"
   },
   {
    "duration": 17,
    "start_time": "2022-03-27T13:48:23.737Z"
   },
   {
    "duration": 15,
    "start_time": "2022-03-27T13:48:23.756Z"
   },
   {
    "duration": 7,
    "start_time": "2022-03-27T13:48:23.773Z"
   },
   {
    "duration": 22,
    "start_time": "2022-03-27T13:48:23.782Z"
   },
   {
    "duration": 38,
    "start_time": "2022-03-27T13:48:23.806Z"
   },
   {
    "duration": 9,
    "start_time": "2022-03-27T13:48:23.847Z"
   },
   {
    "duration": 22,
    "start_time": "2022-03-27T13:48:23.857Z"
   },
   {
    "duration": 51,
    "start_time": "2022-03-27T13:48:23.881Z"
   },
   {
    "duration": 10,
    "start_time": "2022-03-27T13:48:23.934Z"
   },
   {
    "duration": 11,
    "start_time": "2022-03-27T13:48:23.947Z"
   },
   {
    "duration": 14,
    "start_time": "2022-03-27T13:48:28.487Z"
   },
   {
    "duration": 3,
    "start_time": "2022-03-27T13:48:57.080Z"
   },
   {
    "duration": 11,
    "start_time": "2022-03-27T13:50:46.935Z"
   },
   {
    "duration": 170,
    "start_time": "2022-03-27T13:50:46.948Z"
   },
   {
    "duration": 15,
    "start_time": "2022-03-27T13:50:47.119Z"
   },
   {
    "duration": 4,
    "start_time": "2022-03-27T13:50:47.136Z"
   },
   {
    "duration": 7,
    "start_time": "2022-03-27T13:50:47.142Z"
   },
   {
    "duration": 11,
    "start_time": "2022-03-27T13:50:47.151Z"
   },
   {
    "duration": 10,
    "start_time": "2022-03-27T13:50:47.164Z"
   },
   {
    "duration": 12,
    "start_time": "2022-03-27T13:50:47.176Z"
   },
   {
    "duration": 8,
    "start_time": "2022-03-27T13:50:47.190Z"
   },
   {
    "duration": 32,
    "start_time": "2022-03-27T13:50:47.201Z"
   },
   {
    "duration": 13,
    "start_time": "2022-03-27T13:50:47.235Z"
   },
   {
    "duration": 7,
    "start_time": "2022-03-27T13:50:47.250Z"
   },
   {
    "duration": 5,
    "start_time": "2022-03-27T13:50:47.259Z"
   },
   {
    "duration": 7,
    "start_time": "2022-03-27T13:50:47.266Z"
   },
   {
    "duration": 10,
    "start_time": "2022-03-27T13:50:47.275Z"
   },
   {
    "duration": 10,
    "start_time": "2022-03-27T13:50:47.286Z"
   },
   {
    "duration": 35,
    "start_time": "2022-03-27T13:50:47.298Z"
   },
   {
    "duration": 21,
    "start_time": "2022-03-27T13:50:47.335Z"
   },
   {
    "duration": 18,
    "start_time": "2022-03-27T13:50:47.358Z"
   },
   {
    "duration": 7,
    "start_time": "2022-03-27T13:50:47.378Z"
   },
   {
    "duration": 45,
    "start_time": "2022-03-27T13:50:47.387Z"
   },
   {
    "duration": 18,
    "start_time": "2022-03-27T13:50:47.434Z"
   },
   {
    "duration": 9,
    "start_time": "2022-03-27T13:50:47.453Z"
   },
   {
    "duration": 6,
    "start_time": "2022-03-27T13:50:47.464Z"
   },
   {
    "duration": 16,
    "start_time": "2022-03-27T13:50:47.472Z"
   },
   {
    "duration": 549384,
    "start_time": "2022-03-27T13:52:13.087Z"
   },
   {
    "duration": 3,
    "start_time": "2022-03-27T14:01:33.520Z"
   },
   {
    "duration": 138,
    "start_time": "2022-03-27T14:01:33.527Z"
   },
   {
    "duration": 15,
    "start_time": "2022-03-27T14:01:33.667Z"
   },
   {
    "duration": 5,
    "start_time": "2022-03-27T14:01:33.683Z"
   },
   {
    "duration": 11,
    "start_time": "2022-03-27T14:01:33.689Z"
   },
   {
    "duration": 37,
    "start_time": "2022-03-27T14:01:33.702Z"
   },
   {
    "duration": 9,
    "start_time": "2022-03-27T14:01:33.741Z"
   },
   {
    "duration": 5,
    "start_time": "2022-03-27T14:01:33.752Z"
   },
   {
    "duration": 7,
    "start_time": "2022-03-27T14:01:33.758Z"
   },
   {
    "duration": 7,
    "start_time": "2022-03-27T14:01:33.767Z"
   },
   {
    "duration": 8,
    "start_time": "2022-03-27T14:01:33.776Z"
   },
   {
    "duration": 5,
    "start_time": "2022-03-27T14:01:33.786Z"
   },
   {
    "duration": 5,
    "start_time": "2022-03-27T14:01:33.831Z"
   },
   {
    "duration": 7,
    "start_time": "2022-03-27T14:01:33.837Z"
   },
   {
    "duration": 5,
    "start_time": "2022-03-27T14:01:33.847Z"
   },
   {
    "duration": 7,
    "start_time": "2022-03-27T14:01:33.854Z"
   },
   {
    "duration": 4,
    "start_time": "2022-03-27T14:01:33.863Z"
   },
   {
    "duration": 16,
    "start_time": "2022-03-27T14:01:33.868Z"
   },
   {
    "duration": 52,
    "start_time": "2022-03-27T14:01:33.885Z"
   },
   {
    "duration": 8,
    "start_time": "2022-03-27T14:01:33.938Z"
   },
   {
    "duration": 20,
    "start_time": "2022-03-27T14:01:33.948Z"
   },
   {
    "duration": 18,
    "start_time": "2022-03-27T14:01:33.970Z"
   },
   {
    "duration": 9,
    "start_time": "2022-03-27T14:01:33.990Z"
   },
   {
    "duration": 7,
    "start_time": "2022-03-27T14:01:34.032Z"
   },
   {
    "duration": 16,
    "start_time": "2022-03-27T14:01:34.041Z"
   },
   {
    "duration": 2637,
    "start_time": "2022-03-27T14:40:18.819Z"
   },
   {
    "duration": 626,
    "start_time": "2022-03-27T14:40:21.459Z"
   },
   {
    "duration": 21,
    "start_time": "2022-03-27T14:40:22.087Z"
   },
   {
    "duration": 6,
    "start_time": "2022-03-27T14:40:22.111Z"
   },
   {
    "duration": 38,
    "start_time": "2022-03-27T14:40:22.119Z"
   },
   {
    "duration": 22,
    "start_time": "2022-03-27T14:40:22.159Z"
   },
   {
    "duration": 8,
    "start_time": "2022-03-27T14:40:22.183Z"
   },
   {
    "duration": 49,
    "start_time": "2022-03-27T14:40:22.194Z"
   },
   {
    "duration": 12,
    "start_time": "2022-03-27T14:40:22.246Z"
   },
   {
    "duration": 11,
    "start_time": "2022-03-27T14:40:22.264Z"
   },
   {
    "duration": 12,
    "start_time": "2022-03-27T14:40:22.278Z"
   },
   {
    "duration": 8,
    "start_time": "2022-03-27T14:40:22.292Z"
   },
   {
    "duration": 11,
    "start_time": "2022-03-27T14:40:22.348Z"
   },
   {
    "duration": 16,
    "start_time": "2022-03-27T14:40:22.362Z"
   },
   {
    "duration": 8,
    "start_time": "2022-03-27T14:40:22.380Z"
   },
   {
    "duration": 19,
    "start_time": "2022-03-27T14:40:22.391Z"
   },
   {
    "duration": 39,
    "start_time": "2022-03-27T14:40:22.413Z"
   },
   {
    "duration": 45,
    "start_time": "2022-03-27T14:40:22.455Z"
   },
   {
    "duration": 18,
    "start_time": "2022-03-27T14:40:22.502Z"
   },
   {
    "duration": 37,
    "start_time": "2022-03-27T14:40:22.522Z"
   },
   {
    "duration": 50,
    "start_time": "2022-03-27T14:40:22.568Z"
   },
   {
    "duration": 55,
    "start_time": "2022-03-27T14:40:22.621Z"
   },
   {
    "duration": 13,
    "start_time": "2022-03-27T14:40:22.679Z"
   },
   {
    "duration": 9,
    "start_time": "2022-03-27T14:40:22.696Z"
   },
   {
    "duration": 50,
    "start_time": "2022-03-27T14:40:22.707Z"
   },
   {
    "duration": 169,
    "start_time": "2022-03-27T16:17:13.965Z"
   },
   {
    "duration": 1085,
    "start_time": "2022-03-27T16:17:18.481Z"
   },
   {
    "duration": 113,
    "start_time": "2022-03-27T16:17:19.568Z"
   },
   {
    "duration": 13,
    "start_time": "2022-03-27T16:17:19.683Z"
   },
   {
    "duration": 4,
    "start_time": "2022-03-27T16:17:19.698Z"
   },
   {
    "duration": 12,
    "start_time": "2022-03-27T16:17:19.704Z"
   },
   {
    "duration": 21,
    "start_time": "2022-03-27T16:17:19.718Z"
   },
   {
    "duration": 11,
    "start_time": "2022-03-27T16:17:19.741Z"
   },
   {
    "duration": 6,
    "start_time": "2022-03-27T16:17:19.754Z"
   },
   {
    "duration": 10,
    "start_time": "2022-03-27T16:17:19.762Z"
   },
   {
    "duration": 6,
    "start_time": "2022-03-27T16:17:19.775Z"
   },
   {
    "duration": 8,
    "start_time": "2022-03-27T16:17:19.783Z"
   },
   {
    "duration": 9,
    "start_time": "2022-03-27T16:17:19.793Z"
   },
   {
    "duration": 5,
    "start_time": "2022-03-27T16:17:19.834Z"
   },
   {
    "duration": 6,
    "start_time": "2022-03-27T16:17:19.841Z"
   },
   {
    "duration": 5,
    "start_time": "2022-03-27T16:17:19.849Z"
   },
   {
    "duration": 7,
    "start_time": "2022-03-27T16:17:19.855Z"
   },
   {
    "duration": 5,
    "start_time": "2022-03-27T16:17:19.863Z"
   },
   {
    "duration": 13,
    "start_time": "2022-03-27T16:17:19.870Z"
   },
   {
    "duration": 52,
    "start_time": "2022-03-27T16:17:19.884Z"
   },
   {
    "duration": 8,
    "start_time": "2022-03-27T16:17:19.938Z"
   },
   {
    "duration": 22,
    "start_time": "2022-03-27T16:17:19.948Z"
   },
   {
    "duration": 19,
    "start_time": "2022-03-27T16:17:19.972Z"
   },
   {
    "duration": 10,
    "start_time": "2022-03-27T16:17:19.992Z"
   },
   {
    "duration": 7,
    "start_time": "2022-03-27T16:17:20.032Z"
   },
   {
    "duration": 16,
    "start_time": "2022-03-27T16:17:20.041Z"
   },
   {
    "duration": 2733230,
    "start_time": "2022-03-27T16:17:22.063Z"
   },
   {
    "duration": 149,
    "start_time": "2022-03-27T17:27:40.141Z"
   },
   {
    "duration": 159,
    "start_time": "2022-03-27T17:27:55.174Z"
   },
   {
    "duration": 172,
    "start_time": "2022-03-27T17:28:00.957Z"
   },
   {
    "duration": 259,
    "start_time": "2022-03-27T17:28:05.894Z"
   },
   {
    "duration": 265,
    "start_time": "2022-03-27T17:28:10.181Z"
   },
   {
    "duration": 301,
    "start_time": "2022-03-27T17:28:16.774Z"
   },
   {
    "duration": 265,
    "start_time": "2022-03-27T17:28:21.062Z"
   },
   {
    "duration": 258,
    "start_time": "2022-03-27T17:28:28.207Z"
   },
   {
    "duration": 263,
    "start_time": "2022-03-27T17:28:30.078Z"
   },
   {
    "duration": 5423,
    "start_time": "2022-03-27T17:30:35.552Z"
   },
   {
    "duration": 3,
    "start_time": "2022-03-27T17:35:10.603Z"
   },
   {
    "duration": 12717,
    "start_time": "2022-03-27T17:43:56.465Z"
   },
   {
    "duration": 50645,
    "start_time": "2022-03-27T17:45:58.543Z"
   },
   {
    "duration": 14661,
    "start_time": "2022-03-27T17:47:59.581Z"
   },
   {
    "duration": 3,
    "start_time": "2022-03-27T17:48:20.082Z"
   },
   {
    "duration": 14590,
    "start_time": "2022-03-27T17:48:26.348Z"
   },
   {
    "duration": 13,
    "start_time": "2022-03-27T17:49:31.283Z"
   },
   {
    "duration": 13531,
    "start_time": "2022-03-27T17:49:46.603Z"
   },
   {
    "duration": 63,
    "start_time": "2022-03-27T17:53:22.973Z"
   },
   {
    "duration": 9,
    "start_time": "2022-03-27T17:59:56.160Z"
   },
   {
    "duration": 485,
    "start_time": "2022-03-27T18:00:23.454Z"
   },
   {
    "duration": 112,
    "start_time": "2022-03-27T18:03:22.865Z"
   },
   {
    "duration": 10,
    "start_time": "2022-03-27T18:05:00.859Z"
   },
   {
    "duration": 108,
    "start_time": "2022-03-27T18:06:48.825Z"
   },
   {
    "duration": 4,
    "start_time": "2022-03-27T18:10:05.879Z"
   },
   {
    "duration": 107,
    "start_time": "2022-03-27T18:10:05.886Z"
   },
   {
    "duration": 13,
    "start_time": "2022-03-27T18:10:05.995Z"
   },
   {
    "duration": 4,
    "start_time": "2022-03-27T18:10:06.009Z"
   },
   {
    "duration": 8,
    "start_time": "2022-03-27T18:10:06.015Z"
   },
   {
    "duration": 12,
    "start_time": "2022-03-27T18:10:06.025Z"
   },
   {
    "duration": 8,
    "start_time": "2022-03-27T18:10:06.038Z"
   },
   {
    "duration": 6,
    "start_time": "2022-03-27T18:10:06.048Z"
   },
   {
    "duration": 6,
    "start_time": "2022-03-27T18:10:06.055Z"
   },
   {
    "duration": 8,
    "start_time": "2022-03-27T18:10:06.062Z"
   },
   {
    "duration": 7,
    "start_time": "2022-03-27T18:10:06.073Z"
   },
   {
    "duration": 7,
    "start_time": "2022-03-27T18:10:06.081Z"
   },
   {
    "duration": 44,
    "start_time": "2022-03-27T18:10:06.090Z"
   },
   {
    "duration": 5,
    "start_time": "2022-03-27T18:10:06.135Z"
   },
   {
    "duration": 8,
    "start_time": "2022-03-27T18:10:06.141Z"
   },
   {
    "duration": 11,
    "start_time": "2022-03-27T18:10:06.150Z"
   },
   {
    "duration": 12,
    "start_time": "2022-03-27T18:10:06.163Z"
   },
   {
    "duration": 15,
    "start_time": "2022-03-27T18:10:06.176Z"
   },
   {
    "duration": 19,
    "start_time": "2022-03-27T18:10:06.193Z"
   },
   {
    "duration": 20,
    "start_time": "2022-03-27T18:10:06.214Z"
   },
   {
    "duration": 18,
    "start_time": "2022-03-27T18:10:06.235Z"
   },
   {
    "duration": 17,
    "start_time": "2022-03-27T18:10:06.255Z"
   },
   {
    "duration": 8,
    "start_time": "2022-03-27T18:10:06.274Z"
   },
   {
    "duration": 13,
    "start_time": "2022-03-27T18:10:06.283Z"
   },
   {
    "duration": 40,
    "start_time": "2022-03-27T18:10:06.297Z"
   },
   {
    "duration": 155,
    "start_time": "2022-03-27T18:10:06.340Z"
   },
   {
    "duration": 5637,
    "start_time": "2022-03-27T18:10:06.497Z"
   },
   {
    "duration": 13898,
    "start_time": "2022-03-27T18:10:12.136Z"
   },
   {
    "duration": 198,
    "start_time": "2022-03-27T18:10:26.038Z"
   },
   {
    "duration": 278,
    "start_time": "2022-03-27T18:10:26.239Z"
   },
   {
    "duration": 2,
    "start_time": "2022-03-27T18:11:28.622Z"
   },
   {
    "duration": 1235,
    "start_time": "2022-03-27T18:25:27.035Z"
   },
   {
    "duration": 155,
    "start_time": "2022-03-27T18:25:28.272Z"
   },
   {
    "duration": 15,
    "start_time": "2022-03-27T18:25:28.429Z"
   },
   {
    "duration": 9,
    "start_time": "2022-03-27T18:25:28.446Z"
   },
   {
    "duration": 22,
    "start_time": "2022-03-27T18:25:28.458Z"
   },
   {
    "duration": 38,
    "start_time": "2022-03-27T18:25:28.482Z"
   },
   {
    "duration": 23,
    "start_time": "2022-03-27T18:25:28.522Z"
   },
   {
    "duration": 10,
    "start_time": "2022-03-27T18:25:28.547Z"
   },
   {
    "duration": 12,
    "start_time": "2022-03-27T18:25:28.559Z"
   },
   {
    "duration": 12,
    "start_time": "2022-03-27T18:25:28.574Z"
   },
   {
    "duration": 10,
    "start_time": "2022-03-27T18:25:28.587Z"
   },
   {
    "duration": 5,
    "start_time": "2022-03-27T18:25:28.599Z"
   },
   {
    "duration": 5,
    "start_time": "2022-03-27T18:25:28.606Z"
   },
   {
    "duration": 7,
    "start_time": "2022-03-27T18:25:28.612Z"
   },
   {
    "duration": 4,
    "start_time": "2022-03-27T18:25:28.632Z"
   },
   {
    "duration": 8,
    "start_time": "2022-03-27T18:25:28.638Z"
   },
   {
    "duration": 6,
    "start_time": "2022-03-27T18:25:28.647Z"
   },
   {
    "duration": 19,
    "start_time": "2022-03-27T18:25:28.654Z"
   },
   {
    "duration": 17,
    "start_time": "2022-03-27T18:25:28.675Z"
   },
   {
    "duration": 8,
    "start_time": "2022-03-27T18:25:28.694Z"
   },
   {
    "duration": 44,
    "start_time": "2022-03-27T18:25:28.703Z"
   },
   {
    "duration": 18,
    "start_time": "2022-03-27T18:25:28.749Z"
   },
   {
    "duration": 9,
    "start_time": "2022-03-27T18:25:28.768Z"
   },
   {
    "duration": 7,
    "start_time": "2022-03-27T18:25:28.779Z"
   },
   {
    "duration": 47,
    "start_time": "2022-03-27T18:25:28.788Z"
   },
   {
    "duration": 179,
    "start_time": "2022-03-27T18:25:28.837Z"
   },
   {
    "duration": 6192,
    "start_time": "2022-03-27T18:25:29.017Z"
   },
   {
    "duration": 19925,
    "start_time": "2022-03-27T18:25:35.212Z"
   },
   {
    "duration": 194,
    "start_time": "2022-03-27T18:25:55.141Z"
   },
   {
    "duration": 803,
    "start_time": "2022-03-27T18:25:55.337Z"
   },
   {
    "duration": 11,
    "start_time": "2022-03-27T18:25:56.142Z"
   },
   {
    "duration": 124,
    "start_time": "2022-03-27T18:25:59.188Z"
   },
   {
    "duration": 4,
    "start_time": "2022-03-27T18:26:37.244Z"
   },
   {
    "duration": 23,
    "start_time": "2022-03-27T18:26:42.636Z"
   },
   {
    "duration": 25,
    "start_time": "2022-03-27T18:26:58.748Z"
   },
   {
    "duration": 16,
    "start_time": "2022-03-27T18:28:06.957Z"
   },
   {
    "duration": 22,
    "start_time": "2022-03-27T18:28:24.837Z"
   },
   {
    "duration": 22,
    "start_time": "2022-03-27T18:28:50.126Z"
   },
   {
    "duration": 4,
    "start_time": "2022-03-27T18:41:54.427Z"
   },
   {
    "duration": 166,
    "start_time": "2022-03-27T18:41:54.434Z"
   },
   {
    "duration": 15,
    "start_time": "2022-03-27T18:41:54.602Z"
   },
   {
    "duration": 5,
    "start_time": "2022-03-27T18:41:54.619Z"
   },
   {
    "duration": 6,
    "start_time": "2022-03-27T18:41:54.626Z"
   },
   {
    "duration": 13,
    "start_time": "2022-03-27T18:41:54.634Z"
   },
   {
    "duration": 6,
    "start_time": "2022-03-27T18:41:54.649Z"
   },
   {
    "duration": 8,
    "start_time": "2022-03-27T18:41:54.657Z"
   },
   {
    "duration": 8,
    "start_time": "2022-03-27T18:41:54.667Z"
   },
   {
    "duration": 9,
    "start_time": "2022-03-27T18:41:54.676Z"
   },
   {
    "duration": 11,
    "start_time": "2022-03-27T18:41:54.688Z"
   },
   {
    "duration": 6,
    "start_time": "2022-03-27T18:41:54.732Z"
   },
   {
    "duration": 10,
    "start_time": "2022-03-27T18:41:54.740Z"
   },
   {
    "duration": 13,
    "start_time": "2022-03-27T18:41:54.751Z"
   },
   {
    "duration": 8,
    "start_time": "2022-03-27T18:41:54.765Z"
   },
   {
    "duration": 13,
    "start_time": "2022-03-27T18:41:54.774Z"
   },
   {
    "duration": 7,
    "start_time": "2022-03-27T18:41:54.789Z"
   },
   {
    "duration": 37,
    "start_time": "2022-03-27T18:41:54.798Z"
   },
   {
    "duration": 18,
    "start_time": "2022-03-27T18:41:54.837Z"
   },
   {
    "duration": 10,
    "start_time": "2022-03-27T18:41:54.857Z"
   },
   {
    "duration": 22,
    "start_time": "2022-03-27T18:41:54.869Z"
   },
   {
    "duration": 39,
    "start_time": "2022-03-27T18:41:54.893Z"
   },
   {
    "duration": 15,
    "start_time": "2022-03-27T18:41:54.934Z"
   },
   {
    "duration": 8,
    "start_time": "2022-03-27T18:41:54.951Z"
   },
   {
    "duration": 20,
    "start_time": "2022-03-27T18:41:54.962Z"
   },
   {
    "duration": 203,
    "start_time": "2022-03-27T18:41:54.984Z"
   },
   {
    "duration": 6318,
    "start_time": "2022-03-27T18:41:55.189Z"
   },
   {
    "duration": 18224,
    "start_time": "2022-03-27T18:42:01.509Z"
   },
   {
    "duration": 203,
    "start_time": "2022-03-27T18:42:19.737Z"
   },
   {
    "duration": 219,
    "start_time": "2022-03-27T18:42:20.032Z"
   },
   {
    "duration": 10,
    "start_time": "2022-03-27T18:42:20.252Z"
   },
   {
    "duration": 21,
    "start_time": "2022-03-27T18:42:22.749Z"
   },
   {
    "duration": 6,
    "start_time": "2022-03-27T18:43:33.766Z"
   },
   {
    "duration": 15,
    "start_time": "2022-03-27T19:01:28.205Z"
   },
   {
    "duration": 4,
    "start_time": "2022-03-27T19:01:51.375Z"
   },
   {
    "duration": 160,
    "start_time": "2022-03-27T19:01:55.839Z"
   },
   {
    "duration": 180,
    "start_time": "2022-03-27T19:02:13.729Z"
   },
   {
    "duration": 828,
    "start_time": "2022-03-27T19:02:29.464Z"
   },
   {
    "duration": 837,
    "start_time": "2022-03-27T19:12:29.741Z"
   },
   {
    "duration": 839,
    "start_time": "2022-03-27T19:12:44.223Z"
   },
   {
    "duration": 1020,
    "start_time": "2022-03-27T19:12:54.093Z"
   },
   {
    "duration": 752,
    "start_time": "2022-03-27T19:13:02.376Z"
   },
   {
    "duration": 768,
    "start_time": "2022-03-27T19:13:17.919Z"
   },
   {
    "duration": 492,
    "start_time": "2022-03-27T19:33:10.446Z"
   },
   {
    "duration": 5,
    "start_time": "2022-03-27T19:43:02.168Z"
   },
   {
    "duration": 170,
    "start_time": "2022-03-27T19:43:02.175Z"
   },
   {
    "duration": 15,
    "start_time": "2022-03-27T19:43:02.347Z"
   },
   {
    "duration": 27,
    "start_time": "2022-03-27T19:43:02.364Z"
   },
   {
    "duration": 28,
    "start_time": "2022-03-27T19:43:02.393Z"
   },
   {
    "duration": 27,
    "start_time": "2022-03-27T19:43:02.423Z"
   },
   {
    "duration": 22,
    "start_time": "2022-03-27T19:43:02.452Z"
   },
   {
    "duration": 17,
    "start_time": "2022-03-27T19:43:02.476Z"
   },
   {
    "duration": 20,
    "start_time": "2022-03-27T19:43:02.494Z"
   },
   {
    "duration": 10,
    "start_time": "2022-03-27T19:43:02.516Z"
   },
   {
    "duration": 16,
    "start_time": "2022-03-27T19:43:02.529Z"
   },
   {
    "duration": 26,
    "start_time": "2022-03-27T19:43:02.547Z"
   },
   {
    "duration": 29,
    "start_time": "2022-03-27T19:43:02.575Z"
   },
   {
    "duration": 29,
    "start_time": "2022-03-27T19:43:02.606Z"
   },
   {
    "duration": 50,
    "start_time": "2022-03-27T19:43:02.637Z"
   },
   {
    "duration": 21,
    "start_time": "2022-03-27T19:43:02.688Z"
   },
   {
    "duration": 20,
    "start_time": "2022-03-27T19:43:02.711Z"
   },
   {
    "duration": 31,
    "start_time": "2022-03-27T19:43:02.733Z"
   },
   {
    "duration": 30,
    "start_time": "2022-03-27T19:43:02.766Z"
   },
   {
    "duration": 30,
    "start_time": "2022-03-27T19:43:02.798Z"
   },
   {
    "duration": 37,
    "start_time": "2022-03-27T19:43:02.830Z"
   },
   {
    "duration": 25,
    "start_time": "2022-03-27T19:43:02.869Z"
   },
   {
    "duration": 11,
    "start_time": "2022-03-27T19:43:02.896Z"
   },
   {
    "duration": 16,
    "start_time": "2022-03-27T19:43:02.909Z"
   },
   {
    "duration": 14,
    "start_time": "2022-03-27T19:43:02.931Z"
   },
   {
    "duration": 199,
    "start_time": "2022-03-27T19:43:02.947Z"
   },
   {
    "duration": 6410,
    "start_time": "2022-03-27T19:43:03.148Z"
   },
   {
    "duration": 19183,
    "start_time": "2022-03-27T19:43:09.560Z"
   },
   {
    "duration": 199,
    "start_time": "2022-03-27T19:43:28.836Z"
   },
   {
    "duration": 314,
    "start_time": "2022-03-27T19:43:29.038Z"
   },
   {
    "duration": 10,
    "start_time": "2022-03-27T19:43:29.354Z"
   },
   {
    "duration": 27,
    "start_time": "2022-03-27T19:43:29.365Z"
   },
   {
    "duration": 825,
    "start_time": "2022-03-27T19:43:29.394Z"
   },
   {
    "duration": 516,
    "start_time": "2022-03-27T19:43:30.220Z"
   },
   {
    "duration": 14610,
    "start_time": "2022-03-27T19:43:37.731Z"
   },
   {
    "duration": 491,
    "start_time": "2022-03-27T19:44:00.350Z"
   },
   {
    "duration": 202,
    "start_time": "2022-03-27T19:44:13.630Z"
   },
   {
    "duration": 9,
    "start_time": "2022-03-27T19:44:50.390Z"
   },
   {
    "duration": 22,
    "start_time": "2022-03-27T19:45:14.046Z"
   },
   {
    "duration": 22,
    "start_time": "2022-03-27T19:45:18.590Z"
   },
   {
    "duration": 5,
    "start_time": "2022-03-27T19:47:45.949Z"
   },
   {
    "duration": 10,
    "start_time": "2022-03-27T19:48:00.457Z"
   },
   {
    "duration": 5,
    "start_time": "2022-03-27T19:48:04.608Z"
   },
   {
    "duration": 12,
    "start_time": "2022-03-27T19:48:22.824Z"
   },
   {
    "duration": 11,
    "start_time": "2022-03-27T19:48:27.375Z"
   },
   {
    "duration": 4,
    "start_time": "2022-03-27T19:48:29.544Z"
   },
   {
    "duration": 8,
    "start_time": "2022-03-27T19:48:42.672Z"
   },
   {
    "duration": 5,
    "start_time": "2022-03-27T19:49:50.765Z"
   },
   {
    "duration": 147,
    "start_time": "2022-03-27T19:49:50.775Z"
   },
   {
    "duration": 20,
    "start_time": "2022-03-27T19:49:50.925Z"
   },
   {
    "duration": 7,
    "start_time": "2022-03-27T19:49:50.948Z"
   },
   {
    "duration": 13,
    "start_time": "2022-03-27T19:49:50.959Z"
   },
   {
    "duration": 16,
    "start_time": "2022-03-27T19:49:50.974Z"
   },
   {
    "duration": 41,
    "start_time": "2022-03-27T19:49:50.991Z"
   },
   {
    "duration": 9,
    "start_time": "2022-03-27T19:49:51.034Z"
   },
   {
    "duration": 10,
    "start_time": "2022-03-27T19:49:51.045Z"
   },
   {
    "duration": 8,
    "start_time": "2022-03-27T19:49:51.058Z"
   },
   {
    "duration": 13,
    "start_time": "2022-03-27T19:49:51.071Z"
   },
   {
    "duration": 51,
    "start_time": "2022-03-27T19:49:51.086Z"
   },
   {
    "duration": 6,
    "start_time": "2022-03-27T19:49:51.140Z"
   },
   {
    "duration": 12,
    "start_time": "2022-03-27T19:49:51.148Z"
   },
   {
    "duration": 10,
    "start_time": "2022-03-27T19:49:51.163Z"
   },
   {
    "duration": 11,
    "start_time": "2022-03-27T19:49:51.176Z"
   },
   {
    "duration": 44,
    "start_time": "2022-03-27T19:49:51.189Z"
   },
   {
    "duration": 19,
    "start_time": "2022-03-27T19:49:51.235Z"
   },
   {
    "duration": 24,
    "start_time": "2022-03-27T19:49:51.256Z"
   },
   {
    "duration": 15,
    "start_time": "2022-03-27T19:49:51.282Z"
   },
   {
    "duration": 58,
    "start_time": "2022-03-27T19:49:51.299Z"
   },
   {
    "duration": 23,
    "start_time": "2022-03-27T19:49:51.360Z"
   },
   {
    "duration": 12,
    "start_time": "2022-03-27T19:49:51.385Z"
   },
   {
    "duration": 37,
    "start_time": "2022-03-27T19:49:51.399Z"
   },
   {
    "duration": 22,
    "start_time": "2022-03-27T19:49:51.438Z"
   },
   {
    "duration": 213,
    "start_time": "2022-03-27T19:49:51.463Z"
   },
   {
    "duration": 6992,
    "start_time": "2022-03-27T19:49:51.678Z"
   },
   {
    "duration": 36358,
    "start_time": "2022-03-27T19:49:58.673Z"
   },
   {
    "duration": 201,
    "start_time": "2022-03-27T19:50:35.045Z"
   },
   {
    "duration": 328,
    "start_time": "2022-03-27T19:50:35.248Z"
   },
   {
    "duration": 8,
    "start_time": "2022-03-27T19:50:35.578Z"
   },
   {
    "duration": 30,
    "start_time": "2022-03-27T19:50:35.588Z"
   },
   {
    "duration": 784,
    "start_time": "2022-03-27T19:50:35.631Z"
   },
   {
    "duration": 916,
    "start_time": "2022-03-27T19:50:36.417Z"
   },
   {
    "duration": 15,
    "start_time": "2022-03-27T19:50:53.551Z"
   },
   {
    "duration": 12,
    "start_time": "2022-03-27T19:52:08.795Z"
   },
   {
    "duration": 954,
    "start_time": "2022-03-27T19:54:10.984Z"
   },
   {
    "duration": 11,
    "start_time": "2022-03-27T19:56:12.578Z"
   },
   {
    "duration": 374,
    "start_time": "2022-03-27T19:57:00.959Z"
   },
   {
    "duration": 786,
    "start_time": "2022-03-27T20:12:31.551Z"
   },
   {
    "duration": 1339,
    "start_time": "2022-03-27T20:15:28.681Z"
   },
   {
    "duration": 4,
    "start_time": "2022-03-27T20:17:35.183Z"
   },
   {
    "duration": 167,
    "start_time": "2022-03-27T20:17:35.190Z"
   },
   {
    "duration": 15,
    "start_time": "2022-03-27T20:17:35.360Z"
   },
   {
    "duration": 6,
    "start_time": "2022-03-27T20:17:35.377Z"
   },
   {
    "duration": 7,
    "start_time": "2022-03-27T20:17:35.385Z"
   },
   {
    "duration": 49,
    "start_time": "2022-03-27T20:17:35.394Z"
   },
   {
    "duration": 11,
    "start_time": "2022-03-27T20:17:35.446Z"
   },
   {
    "duration": 5,
    "start_time": "2022-03-27T20:17:35.459Z"
   },
   {
    "duration": 7,
    "start_time": "2022-03-27T20:17:35.465Z"
   },
   {
    "duration": 6,
    "start_time": "2022-03-27T20:17:35.474Z"
   },
   {
    "duration": 8,
    "start_time": "2022-03-27T20:17:35.483Z"
   },
   {
    "duration": 9,
    "start_time": "2022-03-27T20:17:35.541Z"
   },
   {
    "duration": 5,
    "start_time": "2022-03-27T20:17:35.552Z"
   },
   {
    "duration": 6,
    "start_time": "2022-03-27T20:17:35.559Z"
   },
   {
    "duration": 5,
    "start_time": "2022-03-27T20:17:35.567Z"
   },
   {
    "duration": 8,
    "start_time": "2022-03-27T20:17:35.574Z"
   },
   {
    "duration": 8,
    "start_time": "2022-03-27T20:17:35.583Z"
   },
   {
    "duration": 59,
    "start_time": "2022-03-27T20:17:35.593Z"
   },
   {
    "duration": 26,
    "start_time": "2022-03-27T20:17:35.654Z"
   },
   {
    "duration": 11,
    "start_time": "2022-03-27T20:17:35.681Z"
   },
   {
    "duration": 24,
    "start_time": "2022-03-27T20:17:35.694Z"
   },
   {
    "duration": 41,
    "start_time": "2022-03-27T20:17:35.720Z"
   },
   {
    "duration": 12,
    "start_time": "2022-03-27T20:17:35.763Z"
   },
   {
    "duration": 8,
    "start_time": "2022-03-27T20:17:35.777Z"
   },
   {
    "duration": 17,
    "start_time": "2022-03-27T20:17:35.786Z"
   },
   {
    "duration": 222,
    "start_time": "2022-03-27T20:17:35.804Z"
   },
   {
    "duration": 7080,
    "start_time": "2022-03-27T20:17:36.028Z"
   },
   {
    "duration": 31432,
    "start_time": "2022-03-27T20:17:43.110Z"
   },
   {
    "duration": 298,
    "start_time": "2022-03-27T20:18:14.550Z"
   },
   {
    "duration": 286,
    "start_time": "2022-03-27T20:18:14.855Z"
   },
   {
    "duration": 9,
    "start_time": "2022-03-27T20:18:15.144Z"
   },
   {
    "duration": 55,
    "start_time": "2022-03-27T20:18:15.154Z"
   },
   {
    "duration": 1074,
    "start_time": "2022-03-27T20:18:15.211Z"
   },
   {
    "duration": 772,
    "start_time": "2022-03-27T20:18:20.959Z"
   },
   {
    "duration": 1272,
    "start_time": "2022-03-27T20:20:54.555Z"
   },
   {
    "duration": 12,
    "start_time": "2022-03-27T20:22:40.447Z"
   },
   {
    "duration": 680,
    "start_time": "2022-03-27T20:22:41.508Z"
   },
   {
    "duration": 4,
    "start_time": "2022-03-27T20:31:07.288Z"
   },
   {
    "duration": 643,
    "start_time": "2022-03-27T20:37:46.805Z"
   },
   {
    "duration": 14,
    "start_time": "2022-03-27T20:39:36.397Z"
   },
   {
    "duration": 831,
    "start_time": "2022-03-27T20:40:54.356Z"
   },
   {
    "duration": 777,
    "start_time": "2022-03-27T20:41:55.710Z"
   },
   {
    "duration": 748,
    "start_time": "2022-03-27T20:54:38.005Z"
   },
   {
    "duration": 1418,
    "start_time": "2022-03-27T20:55:35.221Z"
   },
   {
    "duration": 687,
    "start_time": "2022-03-27T20:56:07.848Z"
   },
   {
    "duration": 4,
    "start_time": "2022-03-27T20:56:14.584Z"
   },
   {
    "duration": 209,
    "start_time": "2022-03-27T20:56:14.591Z"
   },
   {
    "duration": 14,
    "start_time": "2022-03-27T20:56:14.802Z"
   },
   {
    "duration": 20,
    "start_time": "2022-03-27T20:56:14.818Z"
   },
   {
    "duration": 44,
    "start_time": "2022-03-27T20:56:14.840Z"
   },
   {
    "duration": 41,
    "start_time": "2022-03-27T20:56:14.886Z"
   },
   {
    "duration": 42,
    "start_time": "2022-03-27T20:56:14.929Z"
   },
   {
    "duration": 12,
    "start_time": "2022-03-27T20:56:14.974Z"
   },
   {
    "duration": 24,
    "start_time": "2022-03-27T20:56:14.988Z"
   },
   {
    "duration": 41,
    "start_time": "2022-03-27T20:56:15.014Z"
   },
   {
    "duration": 21,
    "start_time": "2022-03-27T20:56:15.058Z"
   },
   {
    "duration": 38,
    "start_time": "2022-03-27T20:56:15.081Z"
   },
   {
    "duration": 26,
    "start_time": "2022-03-27T20:56:15.121Z"
   },
   {
    "duration": 23,
    "start_time": "2022-03-27T20:56:15.149Z"
   },
   {
    "duration": 13,
    "start_time": "2022-03-27T20:56:15.174Z"
   },
   {
    "duration": 17,
    "start_time": "2022-03-27T20:56:15.189Z"
   },
   {
    "duration": 22,
    "start_time": "2022-03-27T20:56:15.208Z"
   },
   {
    "duration": 39,
    "start_time": "2022-03-27T20:56:15.232Z"
   },
   {
    "duration": 33,
    "start_time": "2022-03-27T20:56:15.274Z"
   },
   {
    "duration": 26,
    "start_time": "2022-03-27T20:56:15.309Z"
   },
   {
    "duration": 46,
    "start_time": "2022-03-27T20:56:15.337Z"
   },
   {
    "duration": 27,
    "start_time": "2022-03-27T20:56:15.385Z"
   },
   {
    "duration": 15,
    "start_time": "2022-03-27T20:56:15.415Z"
   },
   {
    "duration": 36,
    "start_time": "2022-03-27T20:56:15.436Z"
   },
   {
    "duration": 37,
    "start_time": "2022-03-27T20:56:15.474Z"
   },
   {
    "duration": 205,
    "start_time": "2022-03-27T20:56:15.513Z"
   },
   {
    "duration": 6993,
    "start_time": "2022-03-27T20:56:15.720Z"
   },
   {
    "duration": 49929,
    "start_time": "2022-03-27T20:56:22.715Z"
   },
   {
    "duration": 580,
    "start_time": "2022-03-27T20:57:12.658Z"
   },
   {
    "duration": 280,
    "start_time": "2022-03-27T20:57:13.246Z"
   },
   {
    "duration": 24,
    "start_time": "2022-03-27T20:57:13.528Z"
   },
   {
    "duration": 29,
    "start_time": "2022-03-27T20:57:13.554Z"
   },
   {
    "duration": 983,
    "start_time": "2022-03-27T20:57:13.585Z"
   },
   {
    "duration": 758,
    "start_time": "2022-03-27T20:57:14.571Z"
   },
   {
    "duration": 20,
    "start_time": "2022-03-27T20:57:15.331Z"
   },
   {
    "duration": 1377,
    "start_time": "2022-03-27T20:57:15.353Z"
   },
   {
    "duration": 14,
    "start_time": "2022-03-27T20:57:16.733Z"
   },
   {
    "duration": 699,
    "start_time": "2022-03-27T20:57:16.749Z"
   },
   {
    "duration": 798,
    "start_time": "2022-03-27T20:57:17.451Z"
   },
   {
    "duration": 6,
    "start_time": "2022-03-27T21:08:20.574Z"
   },
   {
    "duration": 840,
    "start_time": "2022-03-27T21:15:47.185Z"
   },
   {
    "duration": 5,
    "start_time": "2022-03-27T21:37:56.493Z"
   },
   {
    "duration": 833,
    "start_time": "2022-03-27T21:37:56.501Z"
   },
   {
    "duration": 19,
    "start_time": "2022-03-27T21:37:57.336Z"
   },
   {
    "duration": 22,
    "start_time": "2022-03-27T21:37:57.357Z"
   },
   {
    "duration": 21,
    "start_time": "2022-03-27T21:37:57.381Z"
   },
   {
    "duration": 33,
    "start_time": "2022-03-27T21:37:57.404Z"
   },
   {
    "duration": 24,
    "start_time": "2022-03-27T21:37:57.439Z"
   },
   {
    "duration": 18,
    "start_time": "2022-03-27T21:37:57.465Z"
   },
   {
    "duration": 15,
    "start_time": "2022-03-27T21:37:57.485Z"
   },
   {
    "duration": 26,
    "start_time": "2022-03-27T21:37:57.502Z"
   },
   {
    "duration": 25,
    "start_time": "2022-03-27T21:37:57.532Z"
   },
   {
    "duration": 16,
    "start_time": "2022-03-27T21:37:57.559Z"
   },
   {
    "duration": 15,
    "start_time": "2022-03-27T21:37:57.577Z"
   },
   {
    "duration": 17,
    "start_time": "2022-03-27T21:37:57.594Z"
   },
   {
    "duration": 42,
    "start_time": "2022-03-27T21:37:57.613Z"
   },
   {
    "duration": 33,
    "start_time": "2022-03-27T21:37:57.657Z"
   },
   {
    "duration": 23,
    "start_time": "2022-03-27T21:37:57.692Z"
   },
   {
    "duration": 54,
    "start_time": "2022-03-27T21:37:57.717Z"
   },
   {
    "duration": 18,
    "start_time": "2022-03-27T21:37:57.773Z"
   },
   {
    "duration": 30,
    "start_time": "2022-03-27T21:37:57.793Z"
   },
   {
    "duration": 60,
    "start_time": "2022-03-27T21:37:57.824Z"
   },
   {
    "duration": 26,
    "start_time": "2022-03-27T21:37:57.886Z"
   },
   {
    "duration": 11,
    "start_time": "2022-03-27T21:37:57.913Z"
   },
   {
    "duration": 32,
    "start_time": "2022-03-27T21:37:57.926Z"
   },
   {
    "duration": 22,
    "start_time": "2022-03-27T21:37:57.960Z"
   },
   {
    "duration": 202,
    "start_time": "2022-03-27T21:37:57.984Z"
   },
   {
    "duration": 6701,
    "start_time": "2022-03-27T21:37:58.188Z"
   },
   {
    "duration": 46260,
    "start_time": "2022-03-27T21:38:04.891Z"
   },
   {
    "duration": 682,
    "start_time": "2022-03-27T21:38:51.162Z"
   },
   {
    "duration": 212,
    "start_time": "2022-03-27T21:38:51.855Z"
   },
   {
    "duration": 11,
    "start_time": "2022-03-27T21:38:52.069Z"
   },
   {
    "duration": 22,
    "start_time": "2022-03-27T21:38:52.082Z"
   },
   {
    "duration": 988,
    "start_time": "2022-03-27T21:38:52.105Z"
   },
   {
    "duration": 826,
    "start_time": "2022-03-27T21:38:53.095Z"
   },
   {
    "duration": 17,
    "start_time": "2022-03-27T21:38:53.931Z"
   },
   {
    "duration": 1272,
    "start_time": "2022-03-27T21:38:53.950Z"
   },
   {
    "duration": 17,
    "start_time": "2022-03-27T21:38:55.224Z"
   },
   {
    "duration": 674,
    "start_time": "2022-03-27T21:38:55.250Z"
   },
   {
    "duration": 745,
    "start_time": "2022-03-27T21:38:55.926Z"
   },
   {
    "duration": 6,
    "start_time": "2022-03-27T21:38:56.673Z"
   },
   {
    "duration": 847,
    "start_time": "2022-03-27T21:38:56.682Z"
   },
   {
    "duration": 2628,
    "start_time": "2022-03-28T14:55:36.470Z"
   },
   {
    "duration": 198,
    "start_time": "2022-03-28T14:55:39.100Z"
   },
   {
    "duration": 21,
    "start_time": "2022-03-28T14:55:39.299Z"
   },
   {
    "duration": 6,
    "start_time": "2022-03-28T14:55:39.323Z"
   },
   {
    "duration": 59,
    "start_time": "2022-03-28T14:55:39.331Z"
   },
   {
    "duration": 17,
    "start_time": "2022-03-28T14:55:39.392Z"
   },
   {
    "duration": 12,
    "start_time": "2022-03-28T14:55:39.411Z"
   },
   {
    "duration": 62,
    "start_time": "2022-03-28T14:55:39.426Z"
   },
   {
    "duration": 8,
    "start_time": "2022-03-28T14:55:39.491Z"
   },
   {
    "duration": 10,
    "start_time": "2022-03-28T14:55:39.505Z"
   },
   {
    "duration": 71,
    "start_time": "2022-03-28T14:55:39.517Z"
   },
   {
    "duration": 11,
    "start_time": "2022-03-28T14:55:39.590Z"
   },
   {
    "duration": 7,
    "start_time": "2022-03-28T14:55:39.604Z"
   },
   {
    "duration": 7,
    "start_time": "2022-03-28T14:55:39.614Z"
   },
   {
    "duration": 62,
    "start_time": "2022-03-28T14:55:39.624Z"
   },
   {
    "duration": 12,
    "start_time": "2022-03-28T14:55:39.688Z"
   },
   {
    "duration": 6,
    "start_time": "2022-03-28T14:55:39.703Z"
   },
   {
    "duration": 74,
    "start_time": "2022-03-28T14:55:39.712Z"
   },
   {
    "duration": 20,
    "start_time": "2022-03-28T14:55:39.788Z"
   },
   {
    "duration": 8,
    "start_time": "2022-03-28T14:55:39.810Z"
   },
   {
    "duration": 87,
    "start_time": "2022-03-28T14:55:39.820Z"
   },
   {
    "duration": 86,
    "start_time": "2022-03-28T14:55:39.909Z"
   },
   {
    "duration": 15,
    "start_time": "2022-03-28T14:55:39.997Z"
   },
   {
    "duration": 69,
    "start_time": "2022-03-28T14:55:40.015Z"
   },
   {
    "duration": 19,
    "start_time": "2022-03-28T14:55:40.087Z"
   },
   {
    "duration": 486,
    "start_time": "2022-03-28T14:55:40.109Z"
   },
   {
    "duration": 9028,
    "start_time": "2022-03-28T14:55:40.597Z"
   },
   {
    "duration": 16370,
    "start_time": "2022-03-28T14:55:49.630Z"
   },
   {
    "duration": 198,
    "start_time": "2022-03-28T14:56:06.089Z"
   },
   {
    "duration": 289,
    "start_time": "2022-03-28T14:56:06.292Z"
   },
   {
    "duration": 171,
    "start_time": "2022-03-28T14:56:06.585Z"
   },
   {
    "duration": 0,
    "start_time": "2022-03-28T14:56:06.758Z"
   },
   {
    "duration": 0,
    "start_time": "2022-03-28T14:56:06.759Z"
   },
   {
    "duration": 0,
    "start_time": "2022-03-28T14:56:06.762Z"
   },
   {
    "duration": 0,
    "start_time": "2022-03-28T14:56:06.764Z"
   },
   {
    "duration": 0,
    "start_time": "2022-03-28T14:56:06.766Z"
   },
   {
    "duration": 0,
    "start_time": "2022-03-28T14:56:06.783Z"
   },
   {
    "duration": 0,
    "start_time": "2022-03-28T14:56:06.786Z"
   },
   {
    "duration": 0,
    "start_time": "2022-03-28T14:56:06.788Z"
   },
   {
    "duration": 0,
    "start_time": "2022-03-28T14:56:06.789Z"
   },
   {
    "duration": 0,
    "start_time": "2022-03-28T14:56:06.792Z"
   },
   {
    "duration": 30,
    "start_time": "2022-03-28T15:12:04.064Z"
   },
   {
    "duration": 971,
    "start_time": "2022-03-28T15:12:04.097Z"
   },
   {
    "duration": 1249,
    "start_time": "2022-03-28T15:12:05.071Z"
   },
   {
    "duration": 70,
    "start_time": "2022-03-28T15:12:06.323Z"
   },
   {
    "duration": 3523,
    "start_time": "2022-03-28T15:12:06.396Z"
   },
   {
    "duration": 67,
    "start_time": "2022-03-28T15:12:09.921Z"
   },
   {
    "duration": 1623,
    "start_time": "2022-03-28T15:12:09.991Z"
   },
   {
    "duration": 1626,
    "start_time": "2022-03-28T15:12:11.616Z"
   },
   {
    "duration": 7,
    "start_time": "2022-03-28T15:12:13.245Z"
   },
   {
    "duration": 1574,
    "start_time": "2022-03-28T15:12:13.255Z"
   },
   {
    "duration": 1542,
    "start_time": "2022-03-28T16:09:42.275Z"
   },
   {
    "duration": 102,
    "start_time": "2022-03-28T16:09:43.819Z"
   },
   {
    "duration": 14,
    "start_time": "2022-03-28T16:09:43.923Z"
   },
   {
    "duration": 3,
    "start_time": "2022-03-28T16:09:43.939Z"
   },
   {
    "duration": 6,
    "start_time": "2022-03-28T16:09:43.944Z"
   },
   {
    "duration": 11,
    "start_time": "2022-03-28T16:09:43.952Z"
   },
   {
    "duration": 5,
    "start_time": "2022-03-28T16:09:43.965Z"
   },
   {
    "duration": 37,
    "start_time": "2022-03-28T16:09:43.972Z"
   },
   {
    "duration": 5,
    "start_time": "2022-03-28T16:09:44.010Z"
   },
   {
    "duration": 5,
    "start_time": "2022-03-28T16:09:44.017Z"
   },
   {
    "duration": 7,
    "start_time": "2022-03-28T16:09:44.023Z"
   },
   {
    "duration": 5,
    "start_time": "2022-03-28T16:09:44.031Z"
   },
   {
    "duration": 4,
    "start_time": "2022-03-28T16:09:44.037Z"
   },
   {
    "duration": 5,
    "start_time": "2022-03-28T16:09:44.042Z"
   },
   {
    "duration": 6,
    "start_time": "2022-03-28T16:09:44.048Z"
   },
   {
    "duration": 7,
    "start_time": "2022-03-28T16:09:44.056Z"
   },
   {
    "duration": 46,
    "start_time": "2022-03-28T16:09:44.065Z"
   },
   {
    "duration": 15,
    "start_time": "2022-03-28T16:09:44.112Z"
   },
   {
    "duration": 12,
    "start_time": "2022-03-28T16:09:44.128Z"
   },
   {
    "duration": 108,
    "start_time": "2022-03-28T16:10:00.025Z"
   },
   {
    "duration": 6,
    "start_time": "2022-03-28T16:10:13.340Z"
   },
   {
    "duration": 17,
    "start_time": "2022-03-28T16:10:47.492Z"
   },
   {
    "duration": 6,
    "start_time": "2022-03-28T16:11:22.093Z"
   },
   {
    "duration": 2,
    "start_time": "2022-03-28T16:12:33.922Z"
   },
   {
    "duration": 8,
    "start_time": "2022-03-28T16:12:35.380Z"
   },
   {
    "duration": 5,
    "start_time": "2022-03-28T16:12:38.816Z"
   },
   {
    "duration": 76,
    "start_time": "2022-03-28T16:12:38.824Z"
   },
   {
    "duration": 13,
    "start_time": "2022-03-28T16:12:38.902Z"
   },
   {
    "duration": 14,
    "start_time": "2022-03-28T16:12:38.917Z"
   },
   {
    "duration": 12,
    "start_time": "2022-03-28T16:12:38.933Z"
   },
   {
    "duration": 11,
    "start_time": "2022-03-28T16:12:38.946Z"
   },
   {
    "duration": 6,
    "start_time": "2022-03-28T16:12:38.959Z"
   },
   {
    "duration": 5,
    "start_time": "2022-03-28T16:12:38.967Z"
   },
   {
    "duration": 9,
    "start_time": "2022-03-28T16:12:38.973Z"
   },
   {
    "duration": 24,
    "start_time": "2022-03-28T16:12:38.984Z"
   },
   {
    "duration": 9,
    "start_time": "2022-03-28T16:12:39.011Z"
   },
   {
    "duration": 8,
    "start_time": "2022-03-28T16:12:39.021Z"
   },
   {
    "duration": 4,
    "start_time": "2022-03-28T16:12:39.030Z"
   },
   {
    "duration": 5,
    "start_time": "2022-03-28T16:12:39.036Z"
   },
   {
    "duration": 6,
    "start_time": "2022-03-28T16:12:39.042Z"
   },
   {
    "duration": 6,
    "start_time": "2022-03-28T16:12:39.050Z"
   },
   {
    "duration": 4,
    "start_time": "2022-03-28T16:12:39.058Z"
   },
   {
    "duration": 56,
    "start_time": "2022-03-28T16:12:39.063Z"
   },
   {
    "duration": 11,
    "start_time": "2022-03-28T16:12:39.120Z"
   },
   {
    "duration": 6,
    "start_time": "2022-03-28T16:12:39.132Z"
   },
   {
    "duration": 6,
    "start_time": "2022-03-28T16:12:41.387Z"
   },
   {
    "duration": 21,
    "start_time": "2022-03-28T16:14:01.148Z"
   },
   {
    "duration": 18,
    "start_time": "2022-03-28T16:14:07.069Z"
   },
   {
    "duration": 5,
    "start_time": "2022-03-28T16:19:50.422Z"
   },
   {
    "duration": 90,
    "start_time": "2022-03-28T16:19:50.429Z"
   },
   {
    "duration": 13,
    "start_time": "2022-03-28T16:19:50.521Z"
   },
   {
    "duration": 4,
    "start_time": "2022-03-28T16:19:50.535Z"
   },
   {
    "duration": 13,
    "start_time": "2022-03-28T16:19:50.542Z"
   },
   {
    "duration": 12,
    "start_time": "2022-03-28T16:19:50.557Z"
   },
   {
    "duration": 9,
    "start_time": "2022-03-28T16:19:50.570Z"
   },
   {
    "duration": 31,
    "start_time": "2022-03-28T16:19:50.581Z"
   },
   {
    "duration": 7,
    "start_time": "2022-03-28T16:19:50.613Z"
   },
   {
    "duration": 21,
    "start_time": "2022-03-28T16:19:50.621Z"
   },
   {
    "duration": 8,
    "start_time": "2022-03-28T16:19:50.644Z"
   },
   {
    "duration": 10,
    "start_time": "2022-03-28T16:19:50.654Z"
   },
   {
    "duration": 5,
    "start_time": "2022-03-28T16:19:50.665Z"
   },
   {
    "duration": 8,
    "start_time": "2022-03-28T16:19:50.671Z"
   },
   {
    "duration": 8,
    "start_time": "2022-03-28T16:19:50.681Z"
   },
   {
    "duration": 8,
    "start_time": "2022-03-28T16:19:50.709Z"
   },
   {
    "duration": 7,
    "start_time": "2022-03-28T16:19:50.719Z"
   },
   {
    "duration": 14,
    "start_time": "2022-03-28T16:19:50.728Z"
   },
   {
    "duration": 24,
    "start_time": "2022-03-28T16:19:50.744Z"
   },
   {
    "duration": 5,
    "start_time": "2022-03-28T16:19:50.771Z"
   },
   {
    "duration": 31,
    "start_time": "2022-03-28T16:19:50.779Z"
   },
   {
    "duration": 24,
    "start_time": "2022-03-28T16:19:50.811Z"
   },
   {
    "duration": 2,
    "start_time": "2022-03-28T16:19:50.837Z"
   },
   {
    "duration": 18,
    "start_time": "2022-03-28T16:19:54.496Z"
   },
   {
    "duration": 12,
    "start_time": "2022-03-28T16:20:00.199Z"
   },
   {
    "duration": 7,
    "start_time": "2022-03-28T16:20:01.912Z"
   },
   {
    "duration": 3,
    "start_time": "2022-03-28T16:22:09.961Z"
   },
   {
    "duration": 2,
    "start_time": "2022-03-28T16:22:11.114Z"
   },
   {
    "duration": 19,
    "start_time": "2022-03-28T16:22:13.360Z"
   },
   {
    "duration": 13,
    "start_time": "2022-03-28T16:23:16.794Z"
   },
   {
    "duration": 7,
    "start_time": "2022-03-28T16:24:19.082Z"
   },
   {
    "duration": 21,
    "start_time": "2022-03-28T16:25:45.179Z"
   },
   {
    "duration": 15,
    "start_time": "2022-03-28T16:27:21.853Z"
   },
   {
    "duration": 7,
    "start_time": "2022-03-28T16:27:24.787Z"
   },
   {
    "duration": 11,
    "start_time": "2022-03-28T16:34:17.029Z"
   },
   {
    "duration": 10,
    "start_time": "2022-03-28T16:34:53.845Z"
   },
   {
    "duration": 9,
    "start_time": "2022-03-28T16:36:48.102Z"
   },
   {
    "duration": 11,
    "start_time": "2022-03-28T16:37:02.717Z"
   },
   {
    "duration": 10,
    "start_time": "2022-03-28T16:41:56.984Z"
   },
   {
    "duration": 8,
    "start_time": "2022-03-28T16:46:27.353Z"
   },
   {
    "duration": 2228,
    "start_time": "2022-03-28T17:01:09.538Z"
   },
   {
    "duration": 224,
    "start_time": "2022-03-28T17:01:11.769Z"
   },
   {
    "duration": 17,
    "start_time": "2022-03-28T17:01:11.995Z"
   },
   {
    "duration": 5,
    "start_time": "2022-03-28T17:01:12.014Z"
   },
   {
    "duration": 7,
    "start_time": "2022-03-28T17:01:12.021Z"
   },
   {
    "duration": 12,
    "start_time": "2022-03-28T17:01:12.031Z"
   },
   {
    "duration": 7,
    "start_time": "2022-03-28T17:01:12.045Z"
   },
   {
    "duration": 46,
    "start_time": "2022-03-28T17:01:12.055Z"
   },
   {
    "duration": 6,
    "start_time": "2022-03-28T17:01:12.103Z"
   },
   {
    "duration": 8,
    "start_time": "2022-03-28T17:01:12.112Z"
   },
   {
    "duration": 10,
    "start_time": "2022-03-28T17:01:12.122Z"
   },
   {
    "duration": 6,
    "start_time": "2022-03-28T17:01:12.134Z"
   },
   {
    "duration": 7,
    "start_time": "2022-03-28T17:01:12.142Z"
   },
   {
    "duration": 9,
    "start_time": "2022-03-28T17:01:12.151Z"
   },
   {
    "duration": 44,
    "start_time": "2022-03-28T17:01:12.161Z"
   },
   {
    "duration": 7,
    "start_time": "2022-03-28T17:01:12.207Z"
   },
   {
    "duration": 5,
    "start_time": "2022-03-28T17:01:12.216Z"
   },
   {
    "duration": 14,
    "start_time": "2022-03-28T17:01:12.223Z"
   },
   {
    "duration": 13,
    "start_time": "2022-03-28T17:01:12.239Z"
   },
   {
    "duration": 6,
    "start_time": "2022-03-28T17:01:12.254Z"
   },
   {
    "duration": 46,
    "start_time": "2022-03-28T17:01:12.261Z"
   },
   {
    "duration": 20,
    "start_time": "2022-03-28T17:01:12.309Z"
   },
   {
    "duration": 2,
    "start_time": "2022-03-28T17:01:12.331Z"
   },
   {
    "duration": 22,
    "start_time": "2022-03-28T17:01:12.336Z"
   },
   {
    "duration": 3,
    "start_time": "2022-03-28T17:01:12.359Z"
   },
   {
    "duration": 35,
    "start_time": "2022-03-28T17:01:12.366Z"
   },
   {
    "duration": 15,
    "start_time": "2022-03-28T17:01:12.403Z"
   },
   {
    "duration": 8,
    "start_time": "2022-03-28T17:01:12.421Z"
   },
   {
    "duration": 187,
    "start_time": "2022-03-28T17:03:18.979Z"
   },
   {
    "duration": 38,
    "start_time": "2022-03-28T17:03:28.150Z"
   },
   {
    "duration": 41,
    "start_time": "2022-03-28T17:03:45.192Z"
   },
   {
    "duration": 12,
    "start_time": "2022-03-28T17:26:24.880Z"
   },
   {
    "duration": 167,
    "start_time": "2022-03-28T17:26:33.835Z"
   },
   {
    "duration": 253653,
    "start_time": "2022-03-28T17:29:08.027Z"
   },
   {
    "duration": 36,
    "start_time": "2022-03-28T17:40:35.005Z"
   },
   {
    "duration": 210,
    "start_time": "2022-03-28T17:41:53.284Z"
   },
   {
    "duration": 1790,
    "start_time": "2022-03-28T19:49:32.270Z"
   },
   {
    "duration": 113,
    "start_time": "2022-03-28T19:49:34.063Z"
   },
   {
    "duration": 15,
    "start_time": "2022-03-28T19:49:34.178Z"
   },
   {
    "duration": 5,
    "start_time": "2022-03-28T19:49:34.196Z"
   },
   {
    "duration": 12,
    "start_time": "2022-03-28T19:49:34.203Z"
   },
   {
    "duration": 12,
    "start_time": "2022-03-28T19:49:34.217Z"
   },
   {
    "duration": 10,
    "start_time": "2022-03-28T19:49:34.231Z"
   },
   {
    "duration": 5,
    "start_time": "2022-03-28T19:49:34.243Z"
   },
   {
    "duration": 8,
    "start_time": "2022-03-28T19:49:34.250Z"
   },
   {
    "duration": 6,
    "start_time": "2022-03-28T19:49:34.260Z"
   },
   {
    "duration": 36,
    "start_time": "2022-03-28T19:49:34.268Z"
   },
   {
    "duration": 6,
    "start_time": "2022-03-28T19:49:34.306Z"
   },
   {
    "duration": 5,
    "start_time": "2022-03-28T19:49:34.313Z"
   },
   {
    "duration": 6,
    "start_time": "2022-03-28T19:49:34.320Z"
   },
   {
    "duration": 8,
    "start_time": "2022-03-28T19:49:34.328Z"
   },
   {
    "duration": 9,
    "start_time": "2022-03-28T19:49:34.337Z"
   },
   {
    "duration": 5,
    "start_time": "2022-03-28T19:49:34.348Z"
   },
   {
    "duration": 57,
    "start_time": "2022-03-28T19:49:34.354Z"
   },
   {
    "duration": 14,
    "start_time": "2022-03-28T19:49:34.413Z"
   },
   {
    "duration": 8,
    "start_time": "2022-03-28T19:49:34.429Z"
   },
   {
    "duration": 13,
    "start_time": "2022-03-28T19:49:34.439Z"
   },
   {
    "duration": 48,
    "start_time": "2022-03-28T19:49:34.454Z"
   },
   {
    "duration": 4,
    "start_time": "2022-03-28T19:49:34.504Z"
   },
   {
    "duration": 24,
    "start_time": "2022-03-28T19:49:34.510Z"
   },
   {
    "duration": 4,
    "start_time": "2022-03-28T19:49:34.536Z"
   },
   {
    "duration": 7,
    "start_time": "2022-03-28T19:49:34.542Z"
   },
   {
    "duration": 23,
    "start_time": "2022-03-28T19:49:34.551Z"
   },
   {
    "duration": 7,
    "start_time": "2022-03-28T19:49:34.603Z"
   },
   {
    "duration": 36,
    "start_time": "2022-03-28T19:49:34.612Z"
   },
   {
    "duration": 34,
    "start_time": "2022-03-28T19:49:38.458Z"
   },
   {
    "duration": 936663,
    "start_time": "2022-03-28T19:49:46.627Z"
   },
   {
    "duration": 310,
    "start_time": "2022-03-28T20:10:57.843Z"
   },
   {
    "duration": 11697,
    "start_time": "2022-03-28T20:14:38.310Z"
   },
   {
    "duration": 4081,
    "start_time": "2022-03-28T20:15:03.527Z"
   },
   {
    "duration": 297,
    "start_time": "2022-03-28T20:15:35.706Z"
   },
   {
    "duration": 129,
    "start_time": "2022-03-28T20:17:12.365Z"
   },
   {
    "duration": 10,
    "start_time": "2022-03-28T20:18:07.201Z"
   },
   {
    "duration": 21,
    "start_time": "2022-03-28T20:21:26.793Z"
   },
   {
    "duration": 734,
    "start_time": "2022-03-28T20:25:28.939Z"
   },
   {
    "duration": 300422,
    "start_time": "2022-03-28T20:28:53.881Z"
   },
   {
    "duration": 899105,
    "start_time": "2022-03-28T20:40:51.051Z"
   },
   {
    "duration": 4625,
    "start_time": "2022-03-28T20:59:02.979Z"
   },
   {
    "duration": 983,
    "start_time": "2022-03-28T20:59:31.206Z"
   },
   {
    "duration": 13,
    "start_time": "2022-03-28T21:10:10.161Z"
   },
   {
    "duration": 417143,
    "start_time": "2022-03-28T21:12:10.145Z"
   },
   {
    "duration": 4323,
    "start_time": "2022-03-28T21:24:19.881Z"
   },
   {
    "duration": 1263532,
    "start_time": "2022-03-28T21:25:32.287Z"
   },
   {
    "duration": 1297,
    "start_time": "2022-03-28T21:47:26.091Z"
   },
   {
    "duration": 1651,
    "start_time": "2022-03-29T07:47:23.958Z"
   },
   {
    "duration": 146,
    "start_time": "2022-03-29T07:47:25.611Z"
   },
   {
    "duration": 12,
    "start_time": "2022-03-29T07:47:25.758Z"
   },
   {
    "duration": 4,
    "start_time": "2022-03-29T07:47:25.772Z"
   },
   {
    "duration": 12,
    "start_time": "2022-03-29T07:47:25.777Z"
   },
   {
    "duration": 17,
    "start_time": "2022-03-29T07:47:25.791Z"
   },
   {
    "duration": 15,
    "start_time": "2022-03-29T07:47:25.809Z"
   },
   {
    "duration": 12,
    "start_time": "2022-03-29T07:47:25.826Z"
   },
   {
    "duration": 12,
    "start_time": "2022-03-29T07:47:25.839Z"
   },
   {
    "duration": 13,
    "start_time": "2022-03-29T07:47:25.853Z"
   },
   {
    "duration": 23,
    "start_time": "2022-03-29T07:47:25.867Z"
   },
   {
    "duration": 6,
    "start_time": "2022-03-29T07:47:25.892Z"
   },
   {
    "duration": 23,
    "start_time": "2022-03-29T07:47:25.899Z"
   },
   {
    "duration": 20,
    "start_time": "2022-03-29T07:47:25.923Z"
   },
   {
    "duration": 19,
    "start_time": "2022-03-29T07:47:25.944Z"
   },
   {
    "duration": 31,
    "start_time": "2022-03-29T07:47:25.964Z"
   },
   {
    "duration": 8,
    "start_time": "2022-03-29T07:47:25.996Z"
   },
   {
    "duration": 23,
    "start_time": "2022-03-29T07:47:26.006Z"
   },
   {
    "duration": 17,
    "start_time": "2022-03-29T07:47:26.031Z"
   },
   {
    "duration": 15,
    "start_time": "2022-03-29T07:47:26.050Z"
   },
   {
    "duration": 18,
    "start_time": "2022-03-29T07:47:26.066Z"
   },
   {
    "duration": 27,
    "start_time": "2022-03-29T07:47:26.085Z"
   },
   {
    "duration": 26,
    "start_time": "2022-03-29T07:47:26.114Z"
   },
   {
    "duration": 29,
    "start_time": "2022-03-29T07:47:26.141Z"
   },
   {
    "duration": 2,
    "start_time": "2022-03-29T07:47:26.172Z"
   },
   {
    "duration": 18,
    "start_time": "2022-03-29T07:47:26.175Z"
   },
   {
    "duration": 19,
    "start_time": "2022-03-29T07:47:26.195Z"
   },
   {
    "duration": 14,
    "start_time": "2022-03-29T07:47:26.217Z"
   },
   {
    "duration": 42,
    "start_time": "2022-03-29T07:47:26.233Z"
   },
   {
    "duration": 27,
    "start_time": "2022-03-29T07:47:34.489Z"
   },
   {
    "duration": 247,
    "start_time": "2022-03-29T07:47:52.768Z"
   },
   {
    "duration": 3738,
    "start_time": "2022-03-29T07:47:55.048Z"
   },
   {
    "duration": 85,
    "start_time": "2022-03-29T07:48:02.597Z"
   },
   {
    "duration": 117,
    "start_time": "2022-03-29T07:48:05.424Z"
   },
   {
    "duration": 7,
    "start_time": "2022-03-29T07:48:07.359Z"
   },
   {
    "duration": 21,
    "start_time": "2022-03-29T07:48:11.032Z"
   },
   {
    "duration": 1553,
    "start_time": "2022-03-29T08:11:57.341Z"
   },
   {
    "duration": 125,
    "start_time": "2022-03-29T08:11:58.897Z"
   },
   {
    "duration": 14,
    "start_time": "2022-03-29T08:11:59.024Z"
   },
   {
    "duration": 5,
    "start_time": "2022-03-29T08:11:59.040Z"
   },
   {
    "duration": 8,
    "start_time": "2022-03-29T08:11:59.046Z"
   },
   {
    "duration": 11,
    "start_time": "2022-03-29T08:11:59.056Z"
   },
   {
    "duration": 6,
    "start_time": "2022-03-29T08:11:59.069Z"
   },
   {
    "duration": 8,
    "start_time": "2022-03-29T08:11:59.076Z"
   },
   {
    "duration": 6,
    "start_time": "2022-03-29T08:11:59.086Z"
   },
   {
    "duration": 8,
    "start_time": "2022-03-29T08:11:59.095Z"
   },
   {
    "duration": 36,
    "start_time": "2022-03-29T08:11:59.105Z"
   },
   {
    "duration": 5,
    "start_time": "2022-03-29T08:11:59.143Z"
   },
   {
    "duration": 5,
    "start_time": "2022-03-29T08:11:59.150Z"
   },
   {
    "duration": 7,
    "start_time": "2022-03-29T08:11:59.156Z"
   },
   {
    "duration": 7,
    "start_time": "2022-03-29T08:11:59.164Z"
   },
   {
    "duration": 8,
    "start_time": "2022-03-29T08:11:59.172Z"
   },
   {
    "duration": 5,
    "start_time": "2022-03-29T08:11:59.181Z"
   },
   {
    "duration": 55,
    "start_time": "2022-03-29T08:11:59.188Z"
   },
   {
    "duration": 13,
    "start_time": "2022-03-29T08:11:59.246Z"
   },
   {
    "duration": 5,
    "start_time": "2022-03-29T08:11:59.261Z"
   },
   {
    "duration": 13,
    "start_time": "2022-03-29T08:11:59.268Z"
   },
   {
    "duration": 21,
    "start_time": "2022-03-29T08:11:59.283Z"
   },
   {
    "duration": 3,
    "start_time": "2022-03-29T08:11:59.306Z"
   },
   {
    "duration": 20,
    "start_time": "2022-03-29T08:11:59.338Z"
   },
   {
    "duration": 3,
    "start_time": "2022-03-29T08:11:59.359Z"
   },
   {
    "duration": 7,
    "start_time": "2022-03-29T08:11:59.363Z"
   },
   {
    "duration": 14,
    "start_time": "2022-03-29T08:11:59.372Z"
   },
   {
    "duration": 6,
    "start_time": "2022-03-29T08:11:59.389Z"
   },
   {
    "duration": 65,
    "start_time": "2022-03-29T08:11:59.397Z"
   },
   {
    "duration": 29,
    "start_time": "2022-03-29T08:12:04.202Z"
   },
   {
    "duration": 264,
    "start_time": "2022-03-29T08:12:06.123Z"
   },
   {
    "duration": 4420,
    "start_time": "2022-03-29T08:12:07.523Z"
   },
   {
    "duration": 211,
    "start_time": "2022-03-29T08:12:15.028Z"
   },
   {
    "duration": 118,
    "start_time": "2022-03-29T08:12:16.610Z"
   },
   {
    "duration": 7,
    "start_time": "2022-03-29T08:12:18.435Z"
   },
   {
    "duration": 21,
    "start_time": "2022-03-29T08:12:20.151Z"
   },
   {
    "duration": 738,
    "start_time": "2022-03-29T08:12:22.063Z"
   },
   {
    "duration": 6843,
    "start_time": "2022-03-29T08:12:27.499Z"
   },
   {
    "duration": 902,
    "start_time": "2022-03-29T08:12:35.605Z"
   },
   {
    "duration": 11,
    "start_time": "2022-03-29T08:12:43.914Z"
   },
   {
    "duration": 5313,
    "start_time": "2022-03-29T08:12:46.530Z"
   },
   {
    "duration": 1065,
    "start_time": "2022-03-29T08:12:53.436Z"
   },
   {
    "duration": 13,
    "start_time": "2022-03-29T08:13:28.396Z"
   },
   {
    "duration": 144267,
    "start_time": "2022-03-29T08:14:12.812Z"
   },
   {
    "duration": 458388,
    "start_time": "2022-03-29T08:18:20.619Z"
   },
   {
    "duration": 3595,
    "start_time": "2022-03-29T08:32:03.049Z"
   },
   {
    "duration": 697,
    "start_time": "2022-03-29T08:32:45.487Z"
   },
   {
    "duration": 738,
    "start_time": "2022-03-29T08:40:57.425Z"
   },
   {
    "duration": 5,
    "start_time": "2022-03-29T08:43:06.371Z"
   },
   {
    "duration": 305763,
    "start_time": "2022-03-29T08:49:02.894Z"
   },
   {
    "duration": 4821,
    "start_time": "2022-03-29T08:55:27.026Z"
   },
   {
    "duration": 927,
    "start_time": "2022-03-29T08:56:41.744Z"
   },
   {
    "duration": 928,
    "start_time": "2022-03-29T09:01:41.870Z"
   },
   {
    "duration": 710,
    "start_time": "2022-03-29T09:08:48.096Z"
   },
   {
    "duration": 12,
    "start_time": "2022-03-29T09:15:24.838Z"
   },
   {
    "duration": 712,
    "start_time": "2022-03-29T09:15:37.395Z"
   },
   {
    "duration": 169038,
    "start_time": "2022-03-29T09:18:04.941Z"
   },
   {
    "duration": 2740,
    "start_time": "2022-03-29T09:21:25.708Z"
   },
   {
    "duration": 85,
    "start_time": "2022-03-29T09:21:50.457Z"
   },
   {
    "duration": 75,
    "start_time": "2022-03-29T09:21:54.264Z"
   },
   {
    "duration": 22,
    "start_time": "2022-03-29T09:22:04.762Z"
   },
   {
    "duration": 688,
    "start_time": "2022-03-29T09:22:25.225Z"
   },
   {
    "duration": 3310,
    "start_time": "2022-03-29T09:23:03.329Z"
   },
   {
    "duration": 4774,
    "start_time": "2022-03-29T09:23:33.465Z"
   },
   {
    "duration": 475548,
    "start_time": "2022-03-29T09:25:16.123Z"
   },
   {
    "duration": 689,
    "start_time": "2022-03-29T09:34:09.628Z"
   },
   {
    "duration": 4,
    "start_time": "2022-03-29T09:36:00.700Z"
   },
   {
    "duration": 86,
    "start_time": "2022-03-29T09:36:05.358Z"
   },
   {
    "duration": 15,
    "start_time": "2022-03-29T09:36:07.181Z"
   },
   {
    "duration": 5,
    "start_time": "2022-03-29T09:36:08.846Z"
   },
   {
    "duration": 7,
    "start_time": "2022-03-29T09:36:09.813Z"
   },
   {
    "duration": 11,
    "start_time": "2022-03-29T09:36:10.775Z"
   },
   {
    "duration": 6,
    "start_time": "2022-03-29T09:36:13.717Z"
   },
   {
    "duration": 5,
    "start_time": "2022-03-29T09:36:16.292Z"
   },
   {
    "duration": 5,
    "start_time": "2022-03-29T09:36:17.230Z"
   },
   {
    "duration": 5,
    "start_time": "2022-03-29T09:36:18.190Z"
   },
   {
    "duration": 8,
    "start_time": "2022-03-29T09:36:19.865Z"
   },
   {
    "duration": 7,
    "start_time": "2022-03-29T09:36:20.670Z"
   },
   {
    "duration": 5,
    "start_time": "2022-03-29T09:36:22.150Z"
   },
   {
    "duration": 5,
    "start_time": "2022-03-29T09:36:23.422Z"
   },
   {
    "duration": 4,
    "start_time": "2022-03-29T09:36:24.214Z"
   },
   {
    "duration": 6,
    "start_time": "2022-03-29T09:36:24.990Z"
   },
   {
    "duration": 5,
    "start_time": "2022-03-29T09:36:26.463Z"
   },
   {
    "duration": 12,
    "start_time": "2022-03-29T09:36:28.941Z"
   },
   {
    "duration": 12,
    "start_time": "2022-03-29T09:36:30.933Z"
   },
   {
    "duration": 7,
    "start_time": "2022-03-29T09:36:33.028Z"
   },
   {
    "duration": 20,
    "start_time": "2022-03-29T09:36:34.718Z"
   },
   {
    "duration": 18,
    "start_time": "2022-03-29T09:36:37.189Z"
   },
   {
    "duration": 15,
    "start_time": "2022-03-29T09:36:40.397Z"
   },
   {
    "duration": 6,
    "start_time": "2022-03-29T09:36:41.189Z"
   },
   {
    "duration": 32,
    "start_time": "2022-03-29T09:36:47.925Z"
   },
   {
    "duration": 29,
    "start_time": "2022-03-29T09:36:51.317Z"
   },
   {
    "duration": 267,
    "start_time": "2022-03-29T09:36:53.452Z"
   },
   {
    "duration": 3950,
    "start_time": "2022-03-29T09:36:54.790Z"
   },
   {
    "duration": 147,
    "start_time": "2022-03-29T09:37:01.198Z"
   },
   {
    "duration": 108,
    "start_time": "2022-03-29T09:37:02.245Z"
   },
   {
    "duration": 8,
    "start_time": "2022-03-29T09:37:04.365Z"
   },
   {
    "duration": 21,
    "start_time": "2022-03-29T09:37:06.590Z"
   },
   {
    "duration": 885,
    "start_time": "2022-03-29T09:37:11.302Z"
   },
   {
    "duration": 4223,
    "start_time": "2022-03-29T09:37:17.117Z"
   },
   {
    "duration": 974,
    "start_time": "2022-03-29T09:37:25.327Z"
   },
   {
    "duration": 11,
    "start_time": "2022-03-29T09:37:29.910Z"
   },
   {
    "duration": 4963,
    "start_time": "2022-03-29T09:37:33.678Z"
   },
   {
    "duration": 1072,
    "start_time": "2022-03-29T09:37:42.134Z"
   },
   {
    "duration": 12,
    "start_time": "2022-03-29T09:37:46.608Z"
   },
   {
    "duration": 3376,
    "start_time": "2022-03-29T09:37:50.662Z"
   },
   {
    "duration": 757,
    "start_time": "2022-03-29T09:37:56.254Z"
   },
   {
    "duration": 773,
    "start_time": "2022-03-29T09:38:02.998Z"
   },
   {
    "duration": 6,
    "start_time": "2022-03-29T09:38:05.989Z"
   },
   {
    "duration": 17,
    "start_time": "2022-03-29T09:38:07.886Z"
   },
   {
    "duration": 721,
    "start_time": "2022-03-29T09:38:10.894Z"
   },
   {
    "duration": 1529,
    "start_time": "2022-03-29T13:09:41.293Z"
   },
   {
    "duration": 124,
    "start_time": "2022-03-29T13:09:42.824Z"
   },
   {
    "duration": 17,
    "start_time": "2022-03-29T13:09:42.950Z"
   },
   {
    "duration": 5,
    "start_time": "2022-03-29T13:09:42.970Z"
   },
   {
    "duration": 7,
    "start_time": "2022-03-29T13:09:42.977Z"
   },
   {
    "duration": 46,
    "start_time": "2022-03-29T13:09:42.986Z"
   },
   {
    "duration": 7,
    "start_time": "2022-03-29T13:09:43.034Z"
   },
   {
    "duration": 6,
    "start_time": "2022-03-29T13:09:43.043Z"
   },
   {
    "duration": 10,
    "start_time": "2022-03-29T13:09:43.051Z"
   },
   {
    "duration": 9,
    "start_time": "2022-03-29T13:09:43.064Z"
   },
   {
    "duration": 12,
    "start_time": "2022-03-29T13:09:43.074Z"
   },
   {
    "duration": 11,
    "start_time": "2022-03-29T13:09:43.087Z"
   },
   {
    "duration": 35,
    "start_time": "2022-03-29T13:09:43.099Z"
   },
   {
    "duration": 7,
    "start_time": "2022-03-29T13:09:43.135Z"
   },
   {
    "duration": 6,
    "start_time": "2022-03-29T13:09:43.144Z"
   },
   {
    "duration": 8,
    "start_time": "2022-03-29T13:09:43.151Z"
   },
   {
    "duration": 4,
    "start_time": "2022-03-29T13:09:43.161Z"
   },
   {
    "duration": 18,
    "start_time": "2022-03-29T13:09:43.167Z"
   },
   {
    "duration": 48,
    "start_time": "2022-03-29T13:09:43.187Z"
   },
   {
    "duration": 8,
    "start_time": "2022-03-29T13:09:43.237Z"
   },
   {
    "duration": 21,
    "start_time": "2022-03-29T13:09:43.247Z"
   },
   {
    "duration": 23,
    "start_time": "2022-03-29T13:09:43.269Z"
   },
   {
    "duration": 2,
    "start_time": "2022-03-29T13:09:43.294Z"
   },
   {
    "duration": 23,
    "start_time": "2022-03-29T13:09:43.298Z"
   },
   {
    "duration": 2,
    "start_time": "2022-03-29T13:09:43.332Z"
   },
   {
    "duration": 9,
    "start_time": "2022-03-29T13:09:43.336Z"
   },
   {
    "duration": 18,
    "start_time": "2022-03-29T13:09:43.346Z"
   },
   {
    "duration": 7,
    "start_time": "2022-03-29T13:09:43.368Z"
   },
   {
    "duration": 57,
    "start_time": "2022-03-29T13:09:43.376Z"
   },
   {
    "duration": 267103,
    "start_time": "2022-03-29T13:09:43.434Z"
   },
   {
    "duration": 31,
    "start_time": "2022-03-29T13:14:10.540Z"
   },
   {
    "duration": 928519,
    "start_time": "2022-03-29T13:14:10.573Z"
   },
   {
    "duration": 336,
    "start_time": "2022-03-29T13:29:39.094Z"
   },
   {
    "duration": 4307,
    "start_time": "2022-03-29T13:29:39.433Z"
   },
   {
    "duration": 380,
    "start_time": "2022-03-29T13:29:43.754Z"
   },
   {
    "duration": 240,
    "start_time": "2022-03-29T13:29:44.142Z"
   },
   {
    "duration": 9,
    "start_time": "2022-03-29T13:29:44.384Z"
   },
   {
    "duration": 43,
    "start_time": "2022-03-29T13:29:44.395Z"
   },
   {
    "duration": 892,
    "start_time": "2022-03-29T13:29:44.440Z"
   },
   {
    "duration": 299579,
    "start_time": "2022-03-29T13:29:45.333Z"
   },
   {
    "duration": 926344,
    "start_time": "2022-03-29T13:34:44.914Z"
   },
   {
    "duration": 6175,
    "start_time": "2022-03-29T13:50:11.260Z"
   },
   {
    "duration": 1108,
    "start_time": "2022-03-29T13:50:17.437Z"
   },
   {
    "duration": 13,
    "start_time": "2022-03-29T13:50:18.547Z"
   },
   {
    "duration": 362387,
    "start_time": "2022-03-29T13:50:18.562Z"
   },
   {
    "duration": 1659,
    "start_time": "2022-03-29T14:19:54.131Z"
   },
   {
    "duration": 107,
    "start_time": "2022-03-29T14:19:55.792Z"
   },
   {
    "duration": 13,
    "start_time": "2022-03-29T14:19:55.900Z"
   },
   {
    "duration": 4,
    "start_time": "2022-03-29T14:19:55.915Z"
   },
   {
    "duration": 6,
    "start_time": "2022-03-29T14:19:55.921Z"
   },
   {
    "duration": 10,
    "start_time": "2022-03-29T14:19:55.928Z"
   },
   {
    "duration": 6,
    "start_time": "2022-03-29T14:19:55.939Z"
   },
   {
    "duration": 4,
    "start_time": "2022-03-29T14:19:55.962Z"
   },
   {
    "duration": 5,
    "start_time": "2022-03-29T14:19:55.968Z"
   },
   {
    "duration": 4,
    "start_time": "2022-03-29T14:19:55.976Z"
   },
   {
    "duration": 6,
    "start_time": "2022-03-29T14:19:55.981Z"
   },
   {
    "duration": 4,
    "start_time": "2022-03-29T14:19:55.989Z"
   },
   {
    "duration": 3,
    "start_time": "2022-03-29T14:19:55.995Z"
   },
   {
    "duration": 6,
    "start_time": "2022-03-29T14:19:56.000Z"
   },
   {
    "duration": 5,
    "start_time": "2022-03-29T14:19:56.008Z"
   },
   {
    "duration": 50,
    "start_time": "2022-03-29T14:19:56.014Z"
   },
   {
    "duration": 5,
    "start_time": "2022-03-29T14:19:56.065Z"
   },
   {
    "duration": 13,
    "start_time": "2022-03-29T14:19:56.072Z"
   },
   {
    "duration": 13,
    "start_time": "2022-03-29T14:19:56.087Z"
   },
   {
    "duration": 5,
    "start_time": "2022-03-29T14:19:56.102Z"
   },
   {
    "duration": 8,
    "start_time": "2022-03-29T14:19:56.109Z"
   },
   {
    "duration": 51,
    "start_time": "2022-03-29T14:19:56.118Z"
   },
   {
    "duration": 2,
    "start_time": "2022-03-29T14:19:56.170Z"
   },
   {
    "duration": 19,
    "start_time": "2022-03-29T14:19:56.174Z"
   },
   {
    "duration": 3,
    "start_time": "2022-03-29T14:19:56.195Z"
   },
   {
    "duration": 4,
    "start_time": "2022-03-29T14:19:56.199Z"
   },
   {
    "duration": 14,
    "start_time": "2022-03-29T14:19:56.204Z"
   },
   {
    "duration": 6,
    "start_time": "2022-03-29T14:19:56.222Z"
   },
   {
    "duration": 57,
    "start_time": "2022-03-29T14:19:56.229Z"
   },
   {
    "duration": 237288,
    "start_time": "2022-03-29T14:19:56.288Z"
   },
   {
    "duration": 28,
    "start_time": "2022-03-29T14:23:53.578Z"
   },
   {
    "duration": 780389,
    "start_time": "2022-03-29T14:23:53.608Z"
   },
   {
    "duration": 266,
    "start_time": "2022-03-29T14:36:53.999Z"
   },
   {
    "duration": 4096,
    "start_time": "2022-03-29T14:36:54.267Z"
   },
   {
    "duration": 209,
    "start_time": "2022-03-29T14:36:58.365Z"
   },
   {
    "duration": 296,
    "start_time": "2022-03-29T14:36:58.577Z"
   },
   {
    "duration": 8,
    "start_time": "2022-03-29T14:36:58.874Z"
   },
   {
    "duration": 22,
    "start_time": "2022-03-29T14:36:58.883Z"
   },
   {
    "duration": 808,
    "start_time": "2022-03-29T14:36:58.907Z"
   },
   {
    "duration": 257853,
    "start_time": "2022-03-29T14:36:59.716Z"
   },
   {
    "duration": 781325,
    "start_time": "2022-03-29T14:41:17.572Z"
   },
   {
    "duration": 4070,
    "start_time": "2022-03-29T14:54:18.899Z"
   },
   {
    "duration": 1022,
    "start_time": "2022-03-29T14:54:22.971Z"
   },
   {
    "duration": 11,
    "start_time": "2022-03-29T14:54:23.994Z"
   },
   {
    "duration": 312865,
    "start_time": "2022-03-29T14:54:24.007Z"
   },
   {
    "duration": 1058546,
    "start_time": "2022-03-29T14:59:36.874Z"
   },
   {
    "duration": 3349,
    "start_time": "2022-03-29T15:17:15.422Z"
   },
   {
    "duration": 1053,
    "start_time": "2022-03-29T15:17:18.863Z"
   },
   {
    "duration": 9,
    "start_time": "2022-03-29T15:17:19.918Z"
   },
   {
    "duration": 140690,
    "start_time": "2022-03-29T15:17:19.929Z"
   },
   {
    "duration": 450176,
    "start_time": "2022-03-29T15:19:40.621Z"
   },
   {
    "duration": 2864,
    "start_time": "2022-03-29T15:27:10.799Z"
   },
   {
    "duration": 854,
    "start_time": "2022-03-29T15:27:13.666Z"
   },
   {
    "duration": 674,
    "start_time": "2022-03-29T15:27:14.522Z"
   },
   {
    "duration": 5,
    "start_time": "2022-03-29T15:27:15.198Z"
   },
   {
    "duration": 13,
    "start_time": "2022-03-29T15:27:15.204Z"
   },
   {
    "duration": 160466,
    "start_time": "2022-03-29T15:27:15.218Z"
   },
   {
    "duration": 446463,
    "start_time": "2022-03-29T15:29:55.685Z"
   },
   {
    "duration": 679,
    "start_time": "2022-03-29T15:37:22.150Z"
   },
   {
    "duration": 2221,
    "start_time": "2022-04-30T13:19:58.005Z"
   },
   {
    "duration": 122,
    "start_time": "2022-04-30T13:20:00.612Z"
   },
   {
    "duration": 24,
    "start_time": "2022-04-30T13:20:05.907Z"
   },
   {
    "duration": 7,
    "start_time": "2022-04-30T13:20:08.994Z"
   },
   {
    "duration": 8,
    "start_time": "2022-04-30T13:20:10.412Z"
   },
   {
    "duration": 15,
    "start_time": "2022-04-30T13:20:11.212Z"
   },
   {
    "duration": 8,
    "start_time": "2022-04-30T13:20:12.114Z"
   },
   {
    "duration": 7,
    "start_time": "2022-04-30T13:20:13.707Z"
   },
   {
    "duration": 7,
    "start_time": "2022-04-30T13:20:15.173Z"
   },
   {
    "duration": 7,
    "start_time": "2022-04-30T13:20:16.172Z"
   },
   {
    "duration": 11,
    "start_time": "2022-04-30T13:20:17.027Z"
   },
   {
    "duration": 8,
    "start_time": "2022-04-30T13:20:19.172Z"
   },
   {
    "duration": 7,
    "start_time": "2022-04-30T13:20:19.965Z"
   },
   {
    "duration": 7,
    "start_time": "2022-04-30T13:20:20.736Z"
   },
   {
    "duration": 7,
    "start_time": "2022-04-30T13:20:21.962Z"
   },
   {
    "duration": 8,
    "start_time": "2022-04-30T13:20:22.803Z"
   },
   {
    "duration": 7,
    "start_time": "2022-04-30T13:20:23.930Z"
   },
   {
    "duration": 17,
    "start_time": "2022-04-30T13:21:15.148Z"
   },
   {
    "duration": 18,
    "start_time": "2022-04-30T13:21:20.795Z"
   },
   {
    "duration": 9,
    "start_time": "2022-04-30T13:23:24.835Z"
   },
   {
    "duration": 30,
    "start_time": "2022-04-30T13:23:27.804Z"
   },
   {
    "duration": 28,
    "start_time": "2022-04-30T13:24:05.405Z"
   },
   {
    "duration": 20,
    "start_time": "2022-04-30T13:24:34.781Z"
   },
   {
    "duration": 10,
    "start_time": "2022-04-30T13:24:46.653Z"
   },
   {
    "duration": 50,
    "start_time": "2022-04-30T13:25:41.966Z"
   },
   {
    "duration": 387488,
    "start_time": "2022-04-30T13:25:57.566Z"
   },
   {
    "duration": 42,
    "start_time": "2022-04-30T13:37:38.997Z"
   },
   {
    "duration": 1303576,
    "start_time": "2022-04-30T13:37:56.160Z"
   },
   {
    "duration": 410,
    "start_time": "2022-04-30T14:01:40.745Z"
   },
   {
    "duration": 5576,
    "start_time": "2022-04-30T14:02:07.616Z"
   },
   {
    "duration": 278,
    "start_time": "2022-04-30T14:02:21.106Z"
   },
   {
    "duration": 196,
    "start_time": "2022-04-30T14:02:23.858Z"
   },
   {
    "duration": 10,
    "start_time": "2022-04-30T14:02:28.372Z"
   },
   {
    "duration": 31,
    "start_time": "2022-04-30T14:02:42.978Z"
   },
   {
    "duration": 1332,
    "start_time": "2022-04-30T14:02:45.954Z"
   },
   {
    "duration": 468598,
    "start_time": "2022-04-30T14:03:10.258Z"
   },
   {
    "duration": 1683052,
    "start_time": "2022-04-30T14:11:20.399Z"
   },
   {
    "duration": 3879,
    "start_time": "2022-04-30T14:40:51.910Z"
   },
   {
    "duration": 1438,
    "start_time": "2022-04-30T14:41:17.646Z"
   },
   {
    "duration": 17,
    "start_time": "2022-04-30T14:41:55.006Z"
   },
   {
    "duration": 564980,
    "start_time": "2022-04-30T14:42:01.982Z"
   },
   {
    "duration": 2082084,
    "start_time": "2022-04-30T14:52:13.219Z"
   },
   {
    "duration": 3298,
    "start_time": "2022-04-30T15:33:27.495Z"
   },
   {
    "duration": 1453,
    "start_time": "2022-04-30T15:33:33.616Z"
   },
   {
    "duration": 17,
    "start_time": "2022-04-30T15:33:56.817Z"
   },
   {
    "duration": 250514,
    "start_time": "2022-04-30T15:33:58.328Z"
   },
   {
    "duration": 865272,
    "start_time": "2022-04-30T15:45:26.673Z"
   },
   {
    "duration": 2883,
    "start_time": "2022-04-30T16:00:21.200Z"
   },
   {
    "duration": 1184,
    "start_time": "2022-04-30T16:00:25.985Z"
   },
   {
    "duration": 1305,
    "start_time": "2022-04-30T16:00:53.737Z"
   },
   {
    "duration": 8,
    "start_time": "2022-04-30T16:00:59.362Z"
   },
   {
    "duration": 20,
    "start_time": "2022-04-30T16:01:04.176Z"
   },
   {
    "duration": 359015,
    "start_time": "2022-04-30T16:01:06.433Z"
   },
   {
    "duration": 891598,
    "start_time": "2022-04-30T16:07:47.100Z"
   },
   {
    "duration": 1140,
    "start_time": "2022-04-30T16:23:28.750Z"
   }
  ],
  "kernelspec": {
   "display_name": "Python 3 (ipykernel)",
   "language": "python",
   "name": "python3"
  },
  "language_info": {
   "codemirror_mode": {
    "name": "ipython",
    "version": 3
   },
   "file_extension": ".py",
   "mimetype": "text/x-python",
   "name": "python",
   "nbconvert_exporter": "python",
   "pygments_lexer": "ipython3",
   "version": "3.9.5"
  },
  "toc": {
   "base_numbering": 1,
   "nav_menu": {},
   "number_sections": true,
   "sideBar": true,
   "skip_h1_title": true,
   "title_cell": "Содержание",
   "title_sidebar": "Contents",
   "toc_cell": true,
   "toc_position": {
    "height": "calc(100% - 180px)",
    "left": "10px",
    "top": "150px",
    "width": "313px"
   },
   "toc_section_display": true,
   "toc_window_display": true
  }
 },
 "nbformat": 4,
 "nbformat_minor": 2
}
