{
 "cells": [
  {
   "cell_type": "markdown",
   "metadata": {},
   "source": [
    "# Исследование надёжности заёмщиков\n",
    "\n",
    "Заказчик — кредитный отдел банка. Нужно разобраться, влияет ли семейное положение и количество детей клиента на факт погашения кредита в срок. Входные данные от банка — статистика о платёжеспособности клиентов.\n",
    "\n",
    "Результаты исследования будут учтены при построении модели **кредитного скоринга** — специальной системы, которая оценивает способность потенциального заёмщика вернуть кредит банку."
   ]
  },
  {
   "cell_type": "markdown",
   "metadata": {},
   "source": [
    "## Шаг 1. Откройте файл с данными и изучите общую информацию"
   ]
  },
  {
   "cell_type": "markdown",
   "metadata": {},
   "source": [
    "Открою таблицу с данными по взятым кредитам и сохраню её в переменную data, воспользовавшись библиотекой pandas."
   ]
  },
  {
   "cell_type": "code",
   "execution_count": 1,
   "metadata": {
    "scrolled": false
   },
   "outputs": [
    {
     "data": {
      "text/html": [
       "<div>\n",
       "<style scoped>\n",
       "    .dataframe tbody tr th:only-of-type {\n",
       "        vertical-align: middle;\n",
       "    }\n",
       "\n",
       "    .dataframe tbody tr th {\n",
       "        vertical-align: top;\n",
       "    }\n",
       "\n",
       "    .dataframe thead th {\n",
       "        text-align: right;\n",
       "    }\n",
       "</style>\n",
       "<table border=\"1\" class=\"dataframe\">\n",
       "  <thead>\n",
       "    <tr style=\"text-align: right;\">\n",
       "      <th></th>\n",
       "      <th>children</th>\n",
       "      <th>days_employed</th>\n",
       "      <th>dob_years</th>\n",
       "      <th>education</th>\n",
       "      <th>education_id</th>\n",
       "      <th>family_status</th>\n",
       "      <th>family_status_id</th>\n",
       "      <th>gender</th>\n",
       "      <th>income_type</th>\n",
       "      <th>debt</th>\n",
       "      <th>total_income</th>\n",
       "      <th>purpose</th>\n",
       "    </tr>\n",
       "  </thead>\n",
       "  <tbody>\n",
       "    <tr>\n",
       "      <th>0</th>\n",
       "      <td>1</td>\n",
       "      <td>-8437.673028</td>\n",
       "      <td>42</td>\n",
       "      <td>высшее</td>\n",
       "      <td>0</td>\n",
       "      <td>женат / замужем</td>\n",
       "      <td>0</td>\n",
       "      <td>F</td>\n",
       "      <td>сотрудник</td>\n",
       "      <td>0</td>\n",
       "      <td>253875.639453</td>\n",
       "      <td>покупка жилья</td>\n",
       "    </tr>\n",
       "    <tr>\n",
       "      <th>1</th>\n",
       "      <td>1</td>\n",
       "      <td>-4024.803754</td>\n",
       "      <td>36</td>\n",
       "      <td>среднее</td>\n",
       "      <td>1</td>\n",
       "      <td>женат / замужем</td>\n",
       "      <td>0</td>\n",
       "      <td>F</td>\n",
       "      <td>сотрудник</td>\n",
       "      <td>0</td>\n",
       "      <td>112080.014102</td>\n",
       "      <td>приобретение автомобиля</td>\n",
       "    </tr>\n",
       "    <tr>\n",
       "      <th>2</th>\n",
       "      <td>0</td>\n",
       "      <td>-5623.422610</td>\n",
       "      <td>33</td>\n",
       "      <td>Среднее</td>\n",
       "      <td>1</td>\n",
       "      <td>женат / замужем</td>\n",
       "      <td>0</td>\n",
       "      <td>M</td>\n",
       "      <td>сотрудник</td>\n",
       "      <td>0</td>\n",
       "      <td>145885.952297</td>\n",
       "      <td>покупка жилья</td>\n",
       "    </tr>\n",
       "    <tr>\n",
       "      <th>3</th>\n",
       "      <td>3</td>\n",
       "      <td>-4124.747207</td>\n",
       "      <td>32</td>\n",
       "      <td>среднее</td>\n",
       "      <td>1</td>\n",
       "      <td>женат / замужем</td>\n",
       "      <td>0</td>\n",
       "      <td>M</td>\n",
       "      <td>сотрудник</td>\n",
       "      <td>0</td>\n",
       "      <td>267628.550329</td>\n",
       "      <td>дополнительное образование</td>\n",
       "    </tr>\n",
       "    <tr>\n",
       "      <th>4</th>\n",
       "      <td>0</td>\n",
       "      <td>340266.072047</td>\n",
       "      <td>53</td>\n",
       "      <td>среднее</td>\n",
       "      <td>1</td>\n",
       "      <td>гражданский брак</td>\n",
       "      <td>1</td>\n",
       "      <td>F</td>\n",
       "      <td>пенсионер</td>\n",
       "      <td>0</td>\n",
       "      <td>158616.077870</td>\n",
       "      <td>сыграть свадьбу</td>\n",
       "    </tr>\n",
       "    <tr>\n",
       "      <th>5</th>\n",
       "      <td>0</td>\n",
       "      <td>-926.185831</td>\n",
       "      <td>27</td>\n",
       "      <td>высшее</td>\n",
       "      <td>0</td>\n",
       "      <td>гражданский брак</td>\n",
       "      <td>1</td>\n",
       "      <td>M</td>\n",
       "      <td>компаньон</td>\n",
       "      <td>0</td>\n",
       "      <td>255763.565419</td>\n",
       "      <td>покупка жилья</td>\n",
       "    </tr>\n",
       "    <tr>\n",
       "      <th>6</th>\n",
       "      <td>0</td>\n",
       "      <td>-2879.202052</td>\n",
       "      <td>43</td>\n",
       "      <td>высшее</td>\n",
       "      <td>0</td>\n",
       "      <td>женат / замужем</td>\n",
       "      <td>0</td>\n",
       "      <td>F</td>\n",
       "      <td>компаньон</td>\n",
       "      <td>0</td>\n",
       "      <td>240525.971920</td>\n",
       "      <td>операции с жильем</td>\n",
       "    </tr>\n",
       "    <tr>\n",
       "      <th>7</th>\n",
       "      <td>0</td>\n",
       "      <td>-152.779569</td>\n",
       "      <td>50</td>\n",
       "      <td>СРЕДНЕЕ</td>\n",
       "      <td>1</td>\n",
       "      <td>женат / замужем</td>\n",
       "      <td>0</td>\n",
       "      <td>M</td>\n",
       "      <td>сотрудник</td>\n",
       "      <td>0</td>\n",
       "      <td>135823.934197</td>\n",
       "      <td>образование</td>\n",
       "    </tr>\n",
       "    <tr>\n",
       "      <th>8</th>\n",
       "      <td>2</td>\n",
       "      <td>-6929.865299</td>\n",
       "      <td>35</td>\n",
       "      <td>ВЫСШЕЕ</td>\n",
       "      <td>0</td>\n",
       "      <td>гражданский брак</td>\n",
       "      <td>1</td>\n",
       "      <td>F</td>\n",
       "      <td>сотрудник</td>\n",
       "      <td>0</td>\n",
       "      <td>95856.832424</td>\n",
       "      <td>на проведение свадьбы</td>\n",
       "    </tr>\n",
       "    <tr>\n",
       "      <th>9</th>\n",
       "      <td>0</td>\n",
       "      <td>-2188.756445</td>\n",
       "      <td>41</td>\n",
       "      <td>среднее</td>\n",
       "      <td>1</td>\n",
       "      <td>женат / замужем</td>\n",
       "      <td>0</td>\n",
       "      <td>M</td>\n",
       "      <td>сотрудник</td>\n",
       "      <td>0</td>\n",
       "      <td>144425.938277</td>\n",
       "      <td>покупка жилья для семьи</td>\n",
       "    </tr>\n",
       "  </tbody>\n",
       "</table>\n",
       "</div>"
      ],
      "text/plain": [
       "   children  days_employed  dob_years education  education_id  \\\n",
       "0         1   -8437.673028         42    высшее             0   \n",
       "1         1   -4024.803754         36   среднее             1   \n",
       "2         0   -5623.422610         33   Среднее             1   \n",
       "3         3   -4124.747207         32   среднее             1   \n",
       "4         0  340266.072047         53   среднее             1   \n",
       "5         0    -926.185831         27    высшее             0   \n",
       "6         0   -2879.202052         43    высшее             0   \n",
       "7         0    -152.779569         50   СРЕДНЕЕ             1   \n",
       "8         2   -6929.865299         35    ВЫСШЕЕ             0   \n",
       "9         0   -2188.756445         41   среднее             1   \n",
       "\n",
       "      family_status  family_status_id gender income_type  debt   total_income  \\\n",
       "0   женат / замужем                 0      F   сотрудник     0  253875.639453   \n",
       "1   женат / замужем                 0      F   сотрудник     0  112080.014102   \n",
       "2   женат / замужем                 0      M   сотрудник     0  145885.952297   \n",
       "3   женат / замужем                 0      M   сотрудник     0  267628.550329   \n",
       "4  гражданский брак                 1      F   пенсионер     0  158616.077870   \n",
       "5  гражданский брак                 1      M   компаньон     0  255763.565419   \n",
       "6   женат / замужем                 0      F   компаньон     0  240525.971920   \n",
       "7   женат / замужем                 0      M   сотрудник     0  135823.934197   \n",
       "8  гражданский брак                 1      F   сотрудник     0   95856.832424   \n",
       "9   женат / замужем                 0      M   сотрудник     0  144425.938277   \n",
       "\n",
       "                      purpose  \n",
       "0               покупка жилья  \n",
       "1     приобретение автомобиля  \n",
       "2               покупка жилья  \n",
       "3  дополнительное образование  \n",
       "4             сыграть свадьбу  \n",
       "5               покупка жилья  \n",
       "6           операции с жильем  \n",
       "7                 образование  \n",
       "8       на проведение свадьбы  \n",
       "9     покупка жилья для семьи  "
      ]
     },
     "metadata": {},
     "output_type": "display_data"
    }
   ],
   "source": [
    "import pandas as pd                      # Импортирую библиотеку pandas\n",
    "from collections import Counter          # Импортирую коллекцию Counter\n",
    "from pymystem3 import Mystem             # Получу лемматизатора для слов на русском\n",
    "m = Mystem()\n",
    "from copy import deepcopy                # импортирую метод для сохранения data в data_new\n",
    "import seaborn                           # импортию библиотеку seaborn и matplotlib для постройки графика\n",
    "import matplotlib.pyplot as plt\n",
    "data = pd.read_csv('/datasets/data.csv') # Переменная data хранит изначальную таблицу без изменений\n",
    "display(data.head(10))                   # Выведу первые 10 строк"
   ]
  },
  {
   "cell_type": "markdown",
   "metadata": {},
   "source": [
    "Проверю уникальные значения каждого столбца, чтобы обнаружить ошибки в данных."
   ]
  },
  {
   "cell_type": "markdown",
   "metadata": {},
   "source": [
    "### Столбец 'children'"
   ]
  },
  {
   "cell_type": "code",
   "execution_count": 2,
   "metadata": {},
   "outputs": [
    {
     "data": {
      "text/plain": [
       "array([-1,  0,  1,  2,  3,  4,  5, 20])"
      ]
     },
     "metadata": {},
     "output_type": "display_data"
    }
   ],
   "source": [
    "display(data['children'].sort_values().unique()) # узнаю, есть ли в столбце 'children' некорректные значения"
   ]
  },
  {
   "cell_type": "markdown",
   "metadata": {},
   "source": [
    "Не может быть (-1) ребенок, 20 слишком много. Считаю, что ошибка носит случайный характер."
   ]
  },
  {
   "cell_type": "markdown",
   "metadata": {},
   "source": [
    "### Столбец 'days_employed'"
   ]
  },
  {
   "cell_type": "code",
   "execution_count": 3,
   "metadata": {},
   "outputs": [
    {
     "data": {
      "text/plain": [
       "2174"
      ]
     },
     "metadata": {},
     "output_type": "display_data"
    }
   ],
   "source": [
    "display(data['days_employed'].isna().sum()) # узнаю есть ли NaN в столбце 'days_employed'"
   ]
  },
  {
   "cell_type": "markdown",
   "metadata": {},
   "source": [
    "Такое большое количество NaN указывает на неслучайных характер ошибки."
   ]
  },
  {
   "cell_type": "markdown",
   "metadata": {},
   "source": [
    "### Столбец 'dob_years'"
   ]
  },
  {
   "cell_type": "code",
   "execution_count": 4,
   "metadata": {},
   "outputs": [
    {
     "data": {
      "text/plain": [
       "array([ 0, 19, 20, 21, 22, 23, 24, 25, 26, 27, 28, 29, 30, 31, 32, 33, 34,\n",
       "       35, 36, 37, 38, 39, 40, 41, 42, 43, 44, 45, 46, 47, 48, 49, 50, 51,\n",
       "       52, 53, 54, 55, 56, 57, 58, 59, 60, 61, 62, 63, 64, 65, 66, 67, 68,\n",
       "       69, 70, 71, 72, 73, 74, 75])"
      ]
     },
     "metadata": {},
     "output_type": "display_data"
    }
   ],
   "source": [
    "display(data['dob_years'].sort_values().unique()) # узнаю, есть ли в столбце 'dob_years' некорректные значения"
   ]
  },
  {
   "cell_type": "markdown",
   "metadata": {},
   "source": [
    "Не может быть возраст 0. Так как данное значение присутствует во многих местах, ошибка неслучайна, скорей всего возраст не был заполнен намеренно."
   ]
  },
  {
   "cell_type": "markdown",
   "metadata": {},
   "source": [
    "### Столбец 'education'"
   ]
  },
  {
   "cell_type": "code",
   "execution_count": 5,
   "metadata": {},
   "outputs": [
    {
     "data": {
      "text/plain": [
       "array(['ВЫСШЕЕ', 'Высшее', 'НАЧАЛЬНОЕ', 'НЕОКОНЧЕННОЕ ВЫСШЕЕ',\n",
       "       'Начальное', 'Неоконченное высшее', 'СРЕДНЕЕ', 'Среднее',\n",
       "       'УЧЕНАЯ СТЕПЕНЬ', 'Ученая степень', 'высшее', 'начальное',\n",
       "       'неоконченное высшее', 'среднее', 'ученая степень'], dtype=object)"
      ]
     },
     "metadata": {},
     "output_type": "display_data"
    }
   ],
   "source": [
    "display(data['education'].sort_values().unique()) # узнаю, есть ли в столбце 'education' некорректные значения"
   ]
  },
  {
   "cell_type": "markdown",
   "metadata": {},
   "source": [
    "Выбивающихся из контекста наименований нет. Различием в написании займусь позже."
   ]
  },
  {
   "cell_type": "markdown",
   "metadata": {},
   "source": [
    "### Столбец 'education_id'"
   ]
  },
  {
   "cell_type": "code",
   "execution_count": 6,
   "metadata": {},
   "outputs": [
    {
     "data": {
      "text/plain": [
       "array([0, 1, 2, 3, 4])"
      ]
     },
     "metadata": {},
     "output_type": "display_data"
    }
   ],
   "source": [
    "display(data['education_id'].sort_values().unique()) # узнаю, есть ли в столбце 'education_id' некорректные значения"
   ]
  },
  {
   "cell_type": "markdown",
   "metadata": {},
   "source": [
    "Выбивающихся из контекста значений нет."
   ]
  },
  {
   "cell_type": "markdown",
   "metadata": {},
   "source": [
    "### Столбец 'family_status'"
   ]
  },
  {
   "cell_type": "code",
   "execution_count": 7,
   "metadata": {},
   "outputs": [
    {
     "data": {
      "text/plain": [
       "array(['Не женат / не замужем', 'в разводе', 'вдовец / вдова',\n",
       "       'гражданский брак', 'женат / замужем'], dtype=object)"
      ]
     },
     "metadata": {},
     "output_type": "display_data"
    }
   ],
   "source": [
    "display(data['family_status'].sort_values().unique()) # узнаю, есть ли в столбце 'family_status' некорректные значения"
   ]
  },
  {
   "cell_type": "markdown",
   "metadata": {},
   "source": [
    "Выбивающихся из контекста наименований нет. \"Не женат\" выбивается из общего стиля заглавной буквой."
   ]
  },
  {
   "cell_type": "markdown",
   "metadata": {},
   "source": [
    "### Столбец 'family_status_id'"
   ]
  },
  {
   "cell_type": "code",
   "execution_count": 8,
   "metadata": {},
   "outputs": [
    {
     "data": {
      "text/plain": [
       "array([0, 1, 2, 3, 4])"
      ]
     },
     "metadata": {},
     "output_type": "display_data"
    }
   ],
   "source": [
    "display(data['family_status_id'].sort_values().unique()) # узнаю, есть ли в столбце 'family_status_id' некорректные значения"
   ]
  },
  {
   "cell_type": "markdown",
   "metadata": {},
   "source": [
    "Выбивающихся из контекста наименований нет"
   ]
  },
  {
   "cell_type": "markdown",
   "metadata": {},
   "source": [
    "### Столбец 'gender'"
   ]
  },
  {
   "cell_type": "code",
   "execution_count": 9,
   "metadata": {},
   "outputs": [
    {
     "data": {
      "text/plain": [
       "array(['F', 'M', 'XNA'], dtype=object)"
      ]
     },
     "metadata": {},
     "output_type": "display_data"
    }
   ],
   "source": [
    "display(data['gender'].sort_values().unique()) # узнаю, есть ли в столбце 'gender' некорректные значения"
   ]
  },
  {
   "cell_type": "markdown",
   "metadata": {},
   "source": [
    "Имеется значение 'XNA'. Скорей всего кто-то не ввел свой пол. Случайная ошибка."
   ]
  },
  {
   "cell_type": "markdown",
   "metadata": {},
   "source": [
    "### Столбец 'income_type'"
   ]
  },
  {
   "cell_type": "code",
   "execution_count": 10,
   "metadata": {},
   "outputs": [
    {
     "data": {
      "text/plain": [
       "array(['безработный', 'в декрете', 'госслужащий', 'компаньон',\n",
       "       'пенсионер', 'предприниматель', 'сотрудник', 'студент'],\n",
       "      dtype=object)"
      ]
     },
     "metadata": {},
     "output_type": "display_data"
    }
   ],
   "source": [
    "display(data['income_type'].sort_values().unique()) # узнаю, есть ли в столбце 'income_type' некорректные значения"
   ]
  },
  {
   "cell_type": "markdown",
   "metadata": {},
   "source": [
    "Выбивающихся из контекста наименований нет."
   ]
  },
  {
   "cell_type": "markdown",
   "metadata": {},
   "source": [
    "### Столбец 'debt'"
   ]
  },
  {
   "cell_type": "code",
   "execution_count": 11,
   "metadata": {},
   "outputs": [
    {
     "data": {
      "text/plain": [
       "array([0, 1])"
      ]
     },
     "metadata": {},
     "output_type": "display_data"
    }
   ],
   "source": [
    "display(data['debt'].sort_values().unique()) # узнаю, есть ли в столбце 'debt' некорректные значения"
   ]
  },
  {
   "cell_type": "markdown",
   "metadata": {},
   "source": [
    "Выбивающихся из контекста наименований нет."
   ]
  },
  {
   "cell_type": "markdown",
   "metadata": {},
   "source": [
    "### Столбец 'total_income'"
   ]
  },
  {
   "cell_type": "code",
   "execution_count": 12,
   "metadata": {},
   "outputs": [
    {
     "data": {
      "text/plain": [
       "2174"
      ]
     },
     "metadata": {},
     "output_type": "display_data"
    }
   ],
   "source": [
    "display(data['total_income'].isna().sum()) # узнаю есть ли NaN в столбце 'total_income'"
   ]
  },
  {
   "cell_type": "markdown",
   "metadata": {},
   "source": [
    "Такое большое количество NaN указывает на неслучайных характер ошибки."
   ]
  },
  {
   "cell_type": "markdown",
   "metadata": {},
   "source": [
    "### Столбец 'purpose'"
   ]
  },
  {
   "cell_type": "code",
   "execution_count": 13,
   "metadata": {},
   "outputs": [
    {
     "data": {
      "text/plain": [
       "array(['автомобили', 'автомобиль', 'высшее образование',\n",
       "       'дополнительное образование', 'жилье',\n",
       "       'заняться высшим образованием', 'заняться образованием',\n",
       "       'на покупку автомобиля', 'на покупку подержанного автомобиля',\n",
       "       'на покупку своего автомобиля', 'на проведение свадьбы',\n",
       "       'недвижимость', 'образование', 'операции с жильем',\n",
       "       'операции с коммерческой недвижимостью',\n",
       "       'операции с недвижимостью', 'операции со своей недвижимостью',\n",
       "       'покупка жилой недвижимости', 'покупка жилья',\n",
       "       'покупка жилья для сдачи', 'покупка жилья для семьи',\n",
       "       'покупка коммерческой недвижимости', 'покупка недвижимости',\n",
       "       'покупка своего жилья', 'получение высшего образования',\n",
       "       'получение дополнительного образования', 'получение образования',\n",
       "       'приобретение автомобиля', 'профильное образование',\n",
       "       'ремонт жилью', 'свадьба', 'свой автомобиль',\n",
       "       'сделка с автомобилем', 'сделка с подержанным автомобилем',\n",
       "       'строительство жилой недвижимости', 'строительство недвижимости',\n",
       "       'строительство собственной недвижимости', 'сыграть свадьбу'],\n",
       "      dtype=object)"
      ]
     },
     "metadata": {},
     "output_type": "display_data"
    }
   ],
   "source": [
    "display(data['purpose'].sort_values().unique()) # узнаю, есть ли в столбце 'purpose' некорректные значения"
   ]
  },
  {
   "cell_type": "markdown",
   "metadata": {},
   "source": [
    "Выбивающихся из контекста наименований нет."
   ]
  },
  {
   "cell_type": "markdown",
   "metadata": {},
   "source": [
    "### Столбцы 'days_employed' и 'total_income'"
   ]
  },
  {
   "cell_type": "markdown",
   "metadata": {},
   "source": [
    "Узнаю общие данные по таблице."
   ]
  },
  {
   "cell_type": "code",
   "execution_count": 14,
   "metadata": {},
   "outputs": [
    {
     "name": "stdout",
     "output_type": "stream",
     "text": [
      "<class 'pandas.core.frame.DataFrame'>\n",
      "RangeIndex: 21525 entries, 0 to 21524\n",
      "Data columns (total 12 columns):\n",
      " #   Column            Non-Null Count  Dtype  \n",
      "---  ------            --------------  -----  \n",
      " 0   children          21525 non-null  int64  \n",
      " 1   days_employed     19351 non-null  float64\n",
      " 2   dob_years         21525 non-null  int64  \n",
      " 3   education         21525 non-null  object \n",
      " 4   education_id      21525 non-null  int64  \n",
      " 5   family_status     21525 non-null  object \n",
      " 6   family_status_id  21525 non-null  int64  \n",
      " 7   gender            21525 non-null  object \n",
      " 8   income_type       21525 non-null  object \n",
      " 9   debt              21525 non-null  int64  \n",
      " 10  total_income      19351 non-null  float64\n",
      " 11  purpose           21525 non-null  object \n",
      "dtypes: float64(2), int64(5), object(5)\n",
      "memory usage: 2.0+ MB\n"
     ]
    }
   ],
   "source": [
    "data.info()"
   ]
  },
  {
   "cell_type": "markdown",
   "metadata": {},
   "source": [
    "В столбцах days_employed и total_income имеются пропущенные значения, а также имеют тип данных float."
   ]
  },
  {
   "cell_type": "markdown",
   "metadata": {},
   "source": [
    "**Вывод**"
   ]
  },
  {
   "cell_type": "markdown",
   "metadata": {},
   "source": [
    "При изучении столбцов таблицы установил следующее:\n",
    "- столбец children содержит значения 20 и (-1);\n",
    "- столбец days_employed содержит отрицательные значения, слишком большие значения, NaN;\n",
    "- столбец dob_years в некоторых местах содержит 0;\n",
    "- столбец education содержит разное написание одних и тех же слов;\n",
    "- столбец education_id в порядке;\n",
    "- столбец family_status имеет заглавную букву;\n",
    "- столбец family_status_id в порядке;\n",
    "- столбец gender в одном месте имеет значение XNA;\n",
    "- столбец income_type в порядке;\n",
    "- столбец debt в порядке;\n",
    "- столбец total_income в некоторых местах содержит NaN;\n",
    "- столбец purpose требует лемматизации, так как имеет различные формулировки одного и того же."
   ]
  },
  {
   "cell_type": "markdown",
   "metadata": {},
   "source": [
    "## Шаг 2. Предобработка данных"
   ]
  },
  {
   "cell_type": "markdown",
   "metadata": {},
   "source": [
    "### Обработка пропусков"
   ]
  },
  {
   "cell_type": "markdown",
   "metadata": {},
   "source": [
    "#### Cтолбец 'children'"
   ]
  },
  {
   "cell_type": "markdown",
   "metadata": {},
   "source": [
    "Значение (-1) явно опечатка, имеется ввиду 1, также и 20 опечатка, скорей всего имеется ввиду 2."
   ]
  },
  {
   "cell_type": "code",
   "execution_count": 15,
   "metadata": {
    "scrolled": true
   },
   "outputs": [
    {
     "data": {
      "text/plain": [
       "array([0, 1, 2, 3, 4, 5])"
      ]
     },
     "metadata": {},
     "output_type": "display_data"
    }
   ],
   "source": [
    "data_new = deepcopy(data)                                  # на всякий случай все дальнейшие изменения буду вносить в новую таблицу\n",
    "data_new['children'] = data_new['children'].replace(-1, 1) # заменю значения -1 на 1 в столбце 'children'\n",
    "data_new['children'] = data_new['children'].replace(20, 2) # заменю значения 20 на 2 в столбце 'children'\n",
    "display(data_new['children'].sort_values().unique())       # проверю всё ли получилось"
   ]
  },
  {
   "cell_type": "markdown",
   "metadata": {},
   "source": [
    "#### Столбец 'days_employed'"
   ]
  },
  {
   "cell_type": "markdown",
   "metadata": {},
   "source": [
    "Посторю график по \"компаньону\" и по \"пенсионерам\". Информация по таблице была следующая - в столбце days_employed указаны дни, поэтому разделю значения на 365, чтобы узнать года."
   ]
  },
  {
   "cell_type": "code",
   "execution_count": 16,
   "metadata": {},
   "outputs": [
    {
     "data": {
      "image/png": "[encoded data removed]",
      "text/plain": [
       "<Figure size 432x288 with 1 Axes>"
      ]
     },
     "metadata": {
      "needs_background": "light"
     },
     "output_type": "display_data"
    }
   ],
   "source": [
    "snsplot = seaborn.kdeplot(data['days_employed'][data['income_type'] == 'компаньон'] / 365, shade=True)\n",
    "fig = snsplot.get_figure() # построю график с отрицательными значениями"
   ]
  },
  {
   "cell_type": "markdown",
   "metadata": {},
   "source": [
    "Отрицательные значения укладываются в реально возможные (максимальный срок работы - 52-53 года)."
   ]
  },
  {
   "cell_type": "code",
   "execution_count": 17,
   "metadata": {},
   "outputs": [
    {
     "data": {
      "image/png": "[encoded data removed]",
      "text/plain": [
       "<Figure size 432x288 with 1 Axes>"
      ]
     },
     "metadata": {
      "needs_background": "light"
     },
     "output_type": "display_data"
    }
   ],
   "source": [
    "snsplot = seaborn.kdeplot(data['days_employed'][data['income_type'] == 'пенсионер'] / 365, shade=True)\n",
    "fig = snsplot.get_figure() # теперь проверю как обстоят дела с пенсинерами"
   ]
  },
  {
   "cell_type": "markdown",
   "metadata": {},
   "source": [
    "Получились невозможные значения."
   ]
  },
  {
   "cell_type": "code",
   "execution_count": 18,
   "metadata": {},
   "outputs": [
    {
     "data": {
      "image/png": "[encoded data removed]",
      "text/plain": [
       "<Figure size 432x288 with 1 Axes>"
      ]
     },
     "metadata": {
      "needs_background": "light"
     },
     "output_type": "display_data"
    }
   ],
   "source": [
    "snsplot = seaborn.kdeplot(data['days_employed'][data['income_type'] == 'пенсионер'] / 8760, shade=True)\n",
    "fig = snsplot.get_figure() # теперь проверю рабочий стаж песионеров в часах"
   ]
  },
  {
   "cell_type": "markdown",
   "metadata": {},
   "source": [
    "Теперь значения близки к реальным, делаю вывод, что большие положительные значения даны в часах. Буду делить эти значения на 24 часа, чтобы получиться в таблице значения в днях."
   ]
  },
  {
   "cell_type": "markdown",
   "metadata": {},
   "source": [
    "Сделаю все значения положительными, а также переведу значения, указанные для пенсионеров из часов в дни."
   ]
  },
  {
   "cell_type": "code",
   "execution_count": 19,
   "metadata": {
    "scrolled": true
   },
   "outputs": [
    {
     "data": {
      "text/html": [
       "<div>\n",
       "<style scoped>\n",
       "    .dataframe tbody tr th:only-of-type {\n",
       "        vertical-align: middle;\n",
       "    }\n",
       "\n",
       "    .dataframe tbody tr th {\n",
       "        vertical-align: top;\n",
       "    }\n",
       "\n",
       "    .dataframe thead th {\n",
       "        text-align: right;\n",
       "    }\n",
       "</style>\n",
       "<table border=\"1\" class=\"dataframe\">\n",
       "  <thead>\n",
       "    <tr style=\"text-align: right;\">\n",
       "      <th></th>\n",
       "      <th>children</th>\n",
       "      <th>days_employed</th>\n",
       "      <th>dob_years</th>\n",
       "      <th>education</th>\n",
       "      <th>education_id</th>\n",
       "      <th>family_status</th>\n",
       "      <th>family_status_id</th>\n",
       "      <th>gender</th>\n",
       "      <th>income_type</th>\n",
       "      <th>debt</th>\n",
       "      <th>total_income</th>\n",
       "      <th>purpose</th>\n",
       "    </tr>\n",
       "  </thead>\n",
       "  <tbody>\n",
       "    <tr>\n",
       "      <th>0</th>\n",
       "      <td>1</td>\n",
       "      <td>8437.673028</td>\n",
       "      <td>42</td>\n",
       "      <td>высшее</td>\n",
       "      <td>0</td>\n",
       "      <td>женат / замужем</td>\n",
       "      <td>0</td>\n",
       "      <td>F</td>\n",
       "      <td>сотрудник</td>\n",
       "      <td>0</td>\n",
       "      <td>253875.639453</td>\n",
       "      <td>покупка жилья</td>\n",
       "    </tr>\n",
       "    <tr>\n",
       "      <th>1</th>\n",
       "      <td>1</td>\n",
       "      <td>4024.803754</td>\n",
       "      <td>36</td>\n",
       "      <td>среднее</td>\n",
       "      <td>1</td>\n",
       "      <td>женат / замужем</td>\n",
       "      <td>0</td>\n",
       "      <td>F</td>\n",
       "      <td>сотрудник</td>\n",
       "      <td>0</td>\n",
       "      <td>112080.014102</td>\n",
       "      <td>приобретение автомобиля</td>\n",
       "    </tr>\n",
       "    <tr>\n",
       "      <th>2</th>\n",
       "      <td>0</td>\n",
       "      <td>5623.422610</td>\n",
       "      <td>33</td>\n",
       "      <td>Среднее</td>\n",
       "      <td>1</td>\n",
       "      <td>женат / замужем</td>\n",
       "      <td>0</td>\n",
       "      <td>M</td>\n",
       "      <td>сотрудник</td>\n",
       "      <td>0</td>\n",
       "      <td>145885.952297</td>\n",
       "      <td>покупка жилья</td>\n",
       "    </tr>\n",
       "    <tr>\n",
       "      <th>3</th>\n",
       "      <td>3</td>\n",
       "      <td>4124.747207</td>\n",
       "      <td>32</td>\n",
       "      <td>среднее</td>\n",
       "      <td>1</td>\n",
       "      <td>женат / замужем</td>\n",
       "      <td>0</td>\n",
       "      <td>M</td>\n",
       "      <td>сотрудник</td>\n",
       "      <td>0</td>\n",
       "      <td>267628.550329</td>\n",
       "      <td>дополнительное образование</td>\n",
       "    </tr>\n",
       "    <tr>\n",
       "      <th>4</th>\n",
       "      <td>0</td>\n",
       "      <td>14177.753002</td>\n",
       "      <td>53</td>\n",
       "      <td>среднее</td>\n",
       "      <td>1</td>\n",
       "      <td>гражданский брак</td>\n",
       "      <td>1</td>\n",
       "      <td>F</td>\n",
       "      <td>пенсионер</td>\n",
       "      <td>0</td>\n",
       "      <td>158616.077870</td>\n",
       "      <td>сыграть свадьбу</td>\n",
       "    </tr>\n",
       "    <tr>\n",
       "      <th>...</th>\n",
       "      <td>...</td>\n",
       "      <td>...</td>\n",
       "      <td>...</td>\n",
       "      <td>...</td>\n",
       "      <td>...</td>\n",
       "      <td>...</td>\n",
       "      <td>...</td>\n",
       "      <td>...</td>\n",
       "      <td>...</td>\n",
       "      <td>...</td>\n",
       "      <td>...</td>\n",
       "      <td>...</td>\n",
       "    </tr>\n",
       "    <tr>\n",
       "      <th>21520</th>\n",
       "      <td>1</td>\n",
       "      <td>4529.316663</td>\n",
       "      <td>43</td>\n",
       "      <td>среднее</td>\n",
       "      <td>1</td>\n",
       "      <td>гражданский брак</td>\n",
       "      <td>1</td>\n",
       "      <td>F</td>\n",
       "      <td>компаньон</td>\n",
       "      <td>0</td>\n",
       "      <td>224791.862382</td>\n",
       "      <td>операции с жильем</td>\n",
       "    </tr>\n",
       "    <tr>\n",
       "      <th>21521</th>\n",
       "      <td>0</td>\n",
       "      <td>14330.725172</td>\n",
       "      <td>67</td>\n",
       "      <td>среднее</td>\n",
       "      <td>1</td>\n",
       "      <td>женат / замужем</td>\n",
       "      <td>0</td>\n",
       "      <td>F</td>\n",
       "      <td>пенсионер</td>\n",
       "      <td>0</td>\n",
       "      <td>155999.806512</td>\n",
       "      <td>сделка с автомобилем</td>\n",
       "    </tr>\n",
       "    <tr>\n",
       "      <th>21522</th>\n",
       "      <td>1</td>\n",
       "      <td>2113.346888</td>\n",
       "      <td>38</td>\n",
       "      <td>среднее</td>\n",
       "      <td>1</td>\n",
       "      <td>гражданский брак</td>\n",
       "      <td>1</td>\n",
       "      <td>M</td>\n",
       "      <td>сотрудник</td>\n",
       "      <td>1</td>\n",
       "      <td>89672.561153</td>\n",
       "      <td>недвижимость</td>\n",
       "    </tr>\n",
       "    <tr>\n",
       "      <th>21523</th>\n",
       "      <td>3</td>\n",
       "      <td>3112.481705</td>\n",
       "      <td>38</td>\n",
       "      <td>среднее</td>\n",
       "      <td>1</td>\n",
       "      <td>женат / замужем</td>\n",
       "      <td>0</td>\n",
       "      <td>M</td>\n",
       "      <td>сотрудник</td>\n",
       "      <td>1</td>\n",
       "      <td>244093.050500</td>\n",
       "      <td>на покупку своего автомобиля</td>\n",
       "    </tr>\n",
       "    <tr>\n",
       "      <th>21524</th>\n",
       "      <td>2</td>\n",
       "      <td>1984.507589</td>\n",
       "      <td>40</td>\n",
       "      <td>среднее</td>\n",
       "      <td>1</td>\n",
       "      <td>женат / замужем</td>\n",
       "      <td>0</td>\n",
       "      <td>F</td>\n",
       "      <td>сотрудник</td>\n",
       "      <td>0</td>\n",
       "      <td>82047.418899</td>\n",
       "      <td>на покупку автомобиля</td>\n",
       "    </tr>\n",
       "  </tbody>\n",
       "</table>\n",
       "<p>21525 rows × 12 columns</p>\n",
       "</div>"
      ],
      "text/plain": [
       "       children  days_employed  dob_years education  education_id  \\\n",
       "0             1    8437.673028         42    высшее             0   \n",
       "1             1    4024.803754         36   среднее             1   \n",
       "2             0    5623.422610         33   Среднее             1   \n",
       "3             3    4124.747207         32   среднее             1   \n",
       "4             0   14177.753002         53   среднее             1   \n",
       "...         ...            ...        ...       ...           ...   \n",
       "21520         1    4529.316663         43   среднее             1   \n",
       "21521         0   14330.725172         67   среднее             1   \n",
       "21522         1    2113.346888         38   среднее             1   \n",
       "21523         3    3112.481705         38   среднее             1   \n",
       "21524         2    1984.507589         40   среднее             1   \n",
       "\n",
       "          family_status  family_status_id gender income_type  debt  \\\n",
       "0       женат / замужем                 0      F   сотрудник     0   \n",
       "1       женат / замужем                 0      F   сотрудник     0   \n",
       "2       женат / замужем                 0      M   сотрудник     0   \n",
       "3       женат / замужем                 0      M   сотрудник     0   \n",
       "4      гражданский брак                 1      F   пенсионер     0   \n",
       "...                 ...               ...    ...         ...   ...   \n",
       "21520  гражданский брак                 1      F   компаньон     0   \n",
       "21521   женат / замужем                 0      F   пенсионер     0   \n",
       "21522  гражданский брак                 1      M   сотрудник     1   \n",
       "21523   женат / замужем                 0      M   сотрудник     1   \n",
       "21524   женат / замужем                 0      F   сотрудник     0   \n",
       "\n",
       "        total_income                       purpose  \n",
       "0      253875.639453                 покупка жилья  \n",
       "1      112080.014102       приобретение автомобиля  \n",
       "2      145885.952297                 покупка жилья  \n",
       "3      267628.550329    дополнительное образование  \n",
       "4      158616.077870               сыграть свадьбу  \n",
       "...              ...                           ...  \n",
       "21520  224791.862382             операции с жильем  \n",
       "21521  155999.806512          сделка с автомобилем  \n",
       "21522   89672.561153                  недвижимость  \n",
       "21523  244093.050500  на покупку своего автомобиля  \n",
       "21524   82047.418899         на покупку автомобиля  \n",
       "\n",
       "[21525 rows x 12 columns]"
      ]
     },
     "metadata": {},
     "output_type": "display_data"
    }
   ],
   "source": [
    "def days_employed(row):    # функция позволит все значения столбца привести к положительным значениям и к дням\n",
    "    if row > 0:\n",
    "        row = row / 24\n",
    "        return row\n",
    "    elif row < 0:\n",
    "        row = row*(-1)\n",
    "        return row\n",
    "    else:\n",
    "        return row\n",
    "    \n",
    "data_new['days_employed'] = data_new['days_employed'].apply(days_employed) # заменю значения в столбце 'days_employed' новыми\n",
    "display(data_new)                                                          # проверю замену"
   ]
  },
  {
   "cell_type": "markdown",
   "metadata": {},
   "source": [
    "#### Столбец 'days_employed' и 'total_income'"
   ]
  },
  {
   "cell_type": "markdown",
   "metadata": {},
   "source": [
    "Считаю, что по возрасту неполучится точно рассчитать количесвто отработанных дней и зарплату, тем более, что в столбце dob_years имеются нули. Заполню пропуски в столбцах days_employed и total_income опираясь на столбец income_type (и количество отработанных дней и уровень дохода в среднем должен соответствовать типу занятости)."
   ]
  },
  {
   "cell_type": "code",
   "execution_count": 20,
   "metadata": {},
   "outputs": [
    {
     "data": {
      "text/plain": [
       "array(['пенсионер', 'госслужащий', 'компаньон', 'сотрудник',\n",
       "       'предприниматель'], dtype=object)"
      ]
     },
     "metadata": {},
     "output_type": "display_data"
    }
   ],
   "source": [
    "display(data_new[data_new['days_employed'].isna()]['income_type'].unique()) # узнаю уникальные значения столбца income_type, соответствующие\n",
    "                                                                            # пропускам в столбце days_employed"
   ]
  },
  {
   "cell_type": "markdown",
   "metadata": {},
   "source": [
    "Так как медиана оценивает среднее значение, нивелировав влияние выбросов буду использовать только её. Даже если у меня распределение близкое к стандартному медиана совпадет со средним арифметическим.\n",
    "Расчитаю медиану значений столбца 'days_employed' по категориям работников."
   ]
  },
  {
   "cell_type": "code",
   "execution_count": 21,
   "metadata": {},
   "outputs": [],
   "source": [
    "gos_days_employed = data_new['days_employed'][data_new['income_type'] == 'госслужащий'] # медиана для госслужащего\n",
    "gos_days_employed_median = gos_days_employed.median()\n",
    "\n",
    "comp_days_employed = data_new['days_employed'][data_new['income_type'] == 'компаньон']  # медиана для компаньона\n",
    "comp_days_employed_median = comp_days_employed.median()\n",
    "\n",
    "pens_days_employed = data_new['days_employed'][data_new['income_type'] == 'пенсионер']  # медиана для пенсионера\n",
    "pens_days_employed_median = pens_days_employed.median()\n",
    "\n",
    "buss_days_employed = data_new['days_employed'][data_new['income_type'] == 'предприниматель'] # медиана для предпринимателя\n",
    "buss_days_employed_median = buss_days_employed.median()\n",
    "\n",
    "sotr_days_employed = data_new['days_employed'][data_new['income_type'] == 'сотрудник'] # медиана для сотрудника\n",
    "sotr_days_employed_median = sotr_days_employed.median()"
   ]
  },
  {
   "cell_type": "markdown",
   "metadata": {},
   "source": [
    "Расчитаю медиану значений столбца 'total_income' по категориям работников."
   ]
  },
  {
   "cell_type": "code",
   "execution_count": 22,
   "metadata": {},
   "outputs": [],
   "source": [
    "gos_total_income = data_new['total_income'][data_new['income_type'] == 'госслужащий'] # медиана для госслужащего\n",
    "gos_total_income_median = gos_total_income.median()\n",
    "\n",
    "comp_total_income = data_new['total_income'][data_new['income_type'] == 'компаньон'] # медиана для компаньона\n",
    "comp_total_income_median = comp_total_income.median()\n",
    "\n",
    "pens_total_income = data_new['total_income'][data_new['income_type'] == 'пенсионер'] # медиана для пенсионера\n",
    "pens_total_income_median = pens_total_income.median()\n",
    "\n",
    "buss_total_income = data_new['total_income'][data_new['income_type'] == 'предприниматель'] # медиана для предпринимателя\n",
    "buss_total_income_median = buss_total_income.median()\n",
    "\n",
    "sotr_total_income = data_new['total_income'][data_new['income_type'] == 'сотрудник'] # медиана для сотрудника\n",
    "sotr_total_income_median = sotr_total_income.median()"
   ]
  },
  {
   "cell_type": "markdown",
   "metadata": {},
   "source": [
    "Заполню пропущенные значения в столбцах 'days_employed' и 'total_income'"
   ]
  },
  {
   "cell_type": "code",
   "execution_count": 23,
   "metadata": {},
   "outputs": [
    {
     "data": {
      "text/plain": [
       "0"
      ]
     },
     "metadata": {},
     "output_type": "display_data"
    },
    {
     "data": {
      "text/plain": [
       "0"
      ]
     },
     "metadata": {},
     "output_type": "display_data"
    }
   ],
   "source": [
    "data_new['days_employed'] = data_new['days_employed'].fillna(0)  # заполню пропущенные значения нулями\n",
    "data_new['total_income'] = data_new['total_income'].fillna(0)\n",
    "\n",
    "dict_type = ['пенсионер', 'госслужащий', 'компаньон', 'сотрудник', 'предприниматель'] # соберу в список все типы занятости\n",
    "\n",
    "def day_tot_median(row, dict_type):    # функция позволит заменить нули на значение медианы\n",
    "    if row[1] == 0:\n",
    "        if row[8] == dict_type[0]:\n",
    "            row[1] = pens_days_employed_median\n",
    "            row[10] = pens_total_income_median\n",
    "            return row\n",
    "        elif row[8] == dict_type[1]:\n",
    "            row[1] = gos_days_employed_median\n",
    "            row[10] = gos_total_income_median\n",
    "            return row\n",
    "        elif row[8] == dict_type[2]:\n",
    "            row[1] = comp_days_employed_median\n",
    "            row[10] = comp_total_income_median\n",
    "            return row\n",
    "        elif row[8] == dict_type[3]:\n",
    "            row[1] = sotr_days_employed_median\n",
    "            row[10] = sotr_total_income_median\n",
    "            return row\n",
    "        elif row[8] == dict_type[4]:\n",
    "            row[1] = buss_days_employed_median\n",
    "            row[10] = buss_total_income_median\n",
    "            return row\n",
    "    else:\n",
    "        return row\n",
    "\n",
    "data_new = data_new.apply(day_tot_median, axis=1, args=[dict_type]) # применю функцию\n",
    "display(data_new['days_employed'].isna().sum()) # проверю наличие NaN\n",
    "display(data_new['total_income'].isna().sum())"
   ]
  },
  {
   "cell_type": "markdown",
   "metadata": {},
   "source": [
    "#### Столбец 'dob_years'"
   ]
  },
  {
   "cell_type": "markdown",
   "metadata": {},
   "source": [
    "Данные столбца 'days_employed' не дают возможности заполнить отсутствующий возраст, так как сильно разнятся по одному значению. Возраст не влияет на результат исследования надежности заемщиков, поэтому заполню средними значениями. Так как возраст представляет собой практически нормальное распределение, считаю применение среднеднего арифметического оправданным."
   ]
  },
  {
   "cell_type": "code",
   "execution_count": 24,
   "metadata": {},
   "outputs": [
    {
     "data": {
      "text/plain": [
       "0"
      ]
     },
     "metadata": {},
     "output_type": "display_data"
    }
   ],
   "source": [
    "# заполню столбец 'dob_years' средними значениями, вместо нулей\n",
    "data_new['dob_years'] = data_new['dob_years'].replace(0, int(data_new['dob_years'][data_new['dob_years'] != 0].mean())) \n",
    "\n",
    "display(data_new['dob_years'][data_new['dob_years'] == 0].count()) # проверю остались ли нули в столбце 'dob_years'"
   ]
  },
  {
   "cell_type": "markdown",
   "metadata": {},
   "source": [
    "#### Cтолбец 'gender'"
   ]
  },
  {
   "cell_type": "markdown",
   "metadata": {},
   "source": [
    "Для начала изучу строчку, включающую 'XNA'."
   ]
  },
  {
   "cell_type": "code",
   "execution_count": 25,
   "metadata": {},
   "outputs": [
    {
     "data": {
      "text/html": [
       "<div>\n",
       "<style scoped>\n",
       "    .dataframe tbody tr th:only-of-type {\n",
       "        vertical-align: middle;\n",
       "    }\n",
       "\n",
       "    .dataframe tbody tr th {\n",
       "        vertical-align: top;\n",
       "    }\n",
       "\n",
       "    .dataframe thead th {\n",
       "        text-align: right;\n",
       "    }\n",
       "</style>\n",
       "<table border=\"1\" class=\"dataframe\">\n",
       "  <thead>\n",
       "    <tr style=\"text-align: right;\">\n",
       "      <th></th>\n",
       "      <th>children</th>\n",
       "      <th>days_employed</th>\n",
       "      <th>dob_years</th>\n",
       "      <th>education</th>\n",
       "      <th>education_id</th>\n",
       "      <th>family_status</th>\n",
       "      <th>family_status_id</th>\n",
       "      <th>gender</th>\n",
       "      <th>income_type</th>\n",
       "      <th>debt</th>\n",
       "      <th>total_income</th>\n",
       "      <th>purpose</th>\n",
       "    </tr>\n",
       "  </thead>\n",
       "  <tbody>\n",
       "    <tr>\n",
       "      <th>10701</th>\n",
       "      <td>0</td>\n",
       "      <td>2358.600502</td>\n",
       "      <td>24</td>\n",
       "      <td>неоконченное высшее</td>\n",
       "      <td>2</td>\n",
       "      <td>гражданский брак</td>\n",
       "      <td>1</td>\n",
       "      <td>XNA</td>\n",
       "      <td>компаньон</td>\n",
       "      <td>0</td>\n",
       "      <td>203905.157261</td>\n",
       "      <td>покупка недвижимости</td>\n",
       "    </tr>\n",
       "  </tbody>\n",
       "</table>\n",
       "</div>"
      ],
      "text/plain": [
       "       children  days_employed  dob_years            education  education_id  \\\n",
       "10701         0    2358.600502         24  неоконченное высшее             2   \n",
       "\n",
       "          family_status  family_status_id gender income_type  debt  \\\n",
       "10701  гражданский брак                 1    XNA   компаньон     0   \n",
       "\n",
       "        total_income               purpose  \n",
       "10701  203905.157261  покупка недвижимости  "
      ]
     },
     "metadata": {},
     "output_type": "display_data"
    }
   ],
   "source": [
    "display(data_new[data_new['gender'] == 'XNA'].head(10)) # выведу необходимую строчку"
   ]
  },
  {
   "cell_type": "markdown",
   "metadata": {},
   "source": [
    "Предположу, что с неоконченным высшим, в 24 года, с зарплатой 203905, брать кредит на покупку недвижимости в нашей стране может мужчина. "
   ]
  },
  {
   "cell_type": "code",
   "execution_count": 26,
   "metadata": {},
   "outputs": [
    {
     "data": {
      "text/plain": [
       "'M'"
      ]
     },
     "metadata": {},
     "output_type": "display_data"
    }
   ],
   "source": [
    "data_new.loc[10701, 'gender'] = 'M' # укажу гендер М в соответствующем месте\n",
    "\n",
    "display(data_new.loc[10701, 'gender']) # проверю все ли получилось"
   ]
  },
  {
   "cell_type": "markdown",
   "metadata": {},
   "source": [
    "**Вывод**"
   ]
  },
  {
   "cell_type": "markdown",
   "metadata": {},
   "source": [
    "После проведения обработки пропусков в данных я получил таблицу по которой смогу дать объективный ответ по всем вопросам данного исследования. Без проведения обработки пропусков итоговый результат был бы неточен."
   ]
  },
  {
   "cell_type": "markdown",
   "metadata": {},
   "source": [
    "### Замена типа данных"
   ]
  },
  {
   "cell_type": "markdown",
   "metadata": {},
   "source": [
    "В столбцах 'days_employed' и 'total_income' тип данных float, может повлиять на операции с этими значениями. Приведу их к типу int так как округление не повлияет на итоговый результат исследования."
   ]
  },
  {
   "cell_type": "code",
   "execution_count": 27,
   "metadata": {},
   "outputs": [
    {
     "name": "stdout",
     "output_type": "stream",
     "text": [
      "<class 'pandas.core.frame.DataFrame'>\n",
      "RangeIndex: 21525 entries, 0 to 21524\n",
      "Data columns (total 12 columns):\n",
      " #   Column            Non-Null Count  Dtype \n",
      "---  ------            --------------  ----- \n",
      " 0   children          21525 non-null  int64 \n",
      " 1   days_employed     21525 non-null  int64 \n",
      " 2   dob_years         21525 non-null  int64 \n",
      " 3   education         21525 non-null  object\n",
      " 4   education_id      21525 non-null  int64 \n",
      " 5   family_status     21525 non-null  object\n",
      " 6   family_status_id  21525 non-null  int64 \n",
      " 7   gender            21525 non-null  object\n",
      " 8   income_type       21525 non-null  object\n",
      " 9   debt              21525 non-null  int64 \n",
      " 10  total_income      21525 non-null  int64 \n",
      " 11  purpose           21525 non-null  object\n",
      "dtypes: int64(7), object(5)\n",
      "memory usage: 2.0+ MB\n"
     ]
    },
    {
     "data": {
      "text/plain": [
       "None"
      ]
     },
     "metadata": {},
     "output_type": "display_data"
    }
   ],
   "source": [
    "data_new['days_employed'] = data_new['days_employed'].astype('int') # приведу данные к типу int\n",
    "data_new['total_income'] = data_new['total_income'].astype('int')\n",
    "display(data_new.info()) # проверю тип данных в таблице"
   ]
  },
  {
   "cell_type": "markdown",
   "metadata": {},
   "source": [
    "**Вывод**"
   ]
  },
  {
   "cell_type": "markdown",
   "metadata": {},
   "source": [
    "Все числовые значения в таблице приведены к типу int, что упростит дальнейшее исследование, а также позволит избежать ошибок в вычислениях."
   ]
  },
  {
   "cell_type": "markdown",
   "metadata": {},
   "source": [
    "### Обработка дубликатов"
   ]
  },
  {
   "cell_type": "markdown",
   "metadata": {},
   "source": [
    "После восстановления пропусков и приведения числовых данных в таблице к одному типу, необходимо проверить данные на наличие дубликатов."
   ]
  },
  {
   "cell_type": "code",
   "execution_count": 28,
   "metadata": {},
   "outputs": [
    {
     "data": {
      "text/plain": [
       "71"
      ]
     },
     "metadata": {},
     "output_type": "display_data"
    }
   ],
   "source": [
    "data_new['education'] = data_new['education'].str.lower()         # приведу текст в столбце 'education' к нижнему регистру\n",
    "data_new['family_status'] = data_new['family_status'].str.lower() # заодно избавлюсь от заглавной буквы\n",
    "display(data_new.duplicated().sum())                              # найду количество дубликатов в данных"
   ]
  },
  {
   "cell_type": "markdown",
   "metadata": {},
   "source": [
    "После нахождения дубликатов их необходимо удалить."
   ]
  },
  {
   "cell_type": "code",
   "execution_count": 29,
   "metadata": {},
   "outputs": [
    {
     "data": {
      "text/plain": [
       "0"
      ]
     },
     "metadata": {},
     "output_type": "display_data"
    }
   ],
   "source": [
    "data_new = data_new.drop_duplicates() # удалю найденные дубликаты\n",
    "display(data_new.duplicated().sum())  # проверю результат"
   ]
  },
  {
   "cell_type": "markdown",
   "metadata": {},
   "source": [
    "**Вывод**"
   ]
  },
  {
   "cell_type": "markdown",
   "metadata": {},
   "source": [
    "Найденные дубликаты удалены и не будут влиять на итоговый результат исследования."
   ]
  },
  {
   "cell_type": "markdown",
   "metadata": {},
   "source": [
    "### Лемматизация"
   ]
  },
  {
   "cell_type": "markdown",
   "metadata": {},
   "source": [
    "Для целей исследования необходимо определить на что люди чаще всего берут кредит. Чтобы выявить основные слова в столбце 'purpose' использую лемматизацию."
   ]
  },
  {
   "cell_type": "code",
   "execution_count": 30,
   "metadata": {},
   "outputs": [
    {
     "data": {
      "text/plain": [
       "['автомобиль',\n",
       " 'высокий',\n",
       " 'для',\n",
       " 'дополнительный',\n",
       " 'жилой',\n",
       " 'жилье',\n",
       " 'заниматься',\n",
       " 'коммерческий',\n",
       " 'на',\n",
       " 'недвижимость',\n",
       " 'образование',\n",
       " 'операция',\n",
       " 'подержать',\n",
       " 'покупка',\n",
       " 'получение',\n",
       " 'приобретение',\n",
       " 'проведение',\n",
       " 'профильный',\n",
       " 'ремонт',\n",
       " 'с',\n",
       " 'свадьба',\n",
       " 'свой',\n",
       " 'сдача',\n",
       " 'сделка',\n",
       " 'семья',\n",
       " 'со',\n",
       " 'собственный',\n",
       " 'строительство',\n",
       " 'сыграть']"
      ]
     },
     "metadata": {},
     "output_type": "display_data"
    }
   ],
   "source": [
    "purpose_unique = data_new['purpose'].unique() # определю уникальные значения в столбце purpose\n",
    "purpose_unique = (\" \".join(purpose_unique))   # соберу значения в список\n",
    "lemmas = m.lemmatize(purpose_unique)          # применю метод m.lemmatize к списку\n",
    "lemmas = \" \".join(set(lemmas))                # соберу леммы в список\n",
    "lemmas = sorted(list(lemmas.split()))         # отсортирую список\n",
    "display(lemmas)                               # выведу список для ознакомления"
   ]
  },
  {
   "cell_type": "markdown",
   "metadata": {},
   "source": [
    "**Вывод**"
   ]
  },
  {
   "cell_type": "markdown",
   "metadata": {},
   "source": [
    "Из полученых лемм легко определить что чаще всего кредит берется на автомобиль, жилье, образование, свадьбу и ремонт. Считаю, что ремонт можно отнести к жилью. Лемматизация позволит категоризировать цель кредита, что поможет повысить надежность результата исследования."
   ]
  },
  {
   "cell_type": "markdown",
   "metadata": {},
   "source": [
    "### Категоризация данных"
   ]
  },
  {
   "cell_type": "markdown",
   "metadata": {},
   "source": [
    "#### Столбец 'children'"
   ]
  },
  {
   "cell_type": "markdown",
   "metadata": {},
   "source": [
    "Так как количество детей важная для исследования характеристика, то считаю необходимым сделать категоризацию по столбцу 'children'. В России семья, имеющая 1-2 ребенка считается малодетной, свыше 2 многодетной. Категории наличия детей следующие -'бездетная семья', 'малодетная семья', 'многодетная семья'."
   ]
  },
  {
   "cell_type": "code",
   "execution_count": 31,
   "metadata": {
    "scrolled": true
   },
   "outputs": [
    {
     "data": {
      "text/html": [
       "<div>\n",
       "<style scoped>\n",
       "    .dataframe tbody tr th:only-of-type {\n",
       "        vertical-align: middle;\n",
       "    }\n",
       "\n",
       "    .dataframe tbody tr th {\n",
       "        vertical-align: top;\n",
       "    }\n",
       "\n",
       "    .dataframe thead th {\n",
       "        text-align: right;\n",
       "    }\n",
       "</style>\n",
       "<table border=\"1\" class=\"dataframe\">\n",
       "  <thead>\n",
       "    <tr style=\"text-align: right;\">\n",
       "      <th></th>\n",
       "      <th>children</th>\n",
       "      <th>days_employed</th>\n",
       "      <th>dob_years</th>\n",
       "      <th>education</th>\n",
       "      <th>education_id</th>\n",
       "      <th>family_status</th>\n",
       "      <th>family_status_id</th>\n",
       "      <th>gender</th>\n",
       "      <th>income_type</th>\n",
       "      <th>debt</th>\n",
       "      <th>total_income</th>\n",
       "      <th>purpose</th>\n",
       "      <th>children_cat</th>\n",
       "    </tr>\n",
       "  </thead>\n",
       "  <tbody>\n",
       "    <tr>\n",
       "      <th>0</th>\n",
       "      <td>1</td>\n",
       "      <td>8437</td>\n",
       "      <td>42</td>\n",
       "      <td>высшее</td>\n",
       "      <td>0</td>\n",
       "      <td>женат / замужем</td>\n",
       "      <td>0</td>\n",
       "      <td>F</td>\n",
       "      <td>сотрудник</td>\n",
       "      <td>0</td>\n",
       "      <td>253875</td>\n",
       "      <td>покупка жилья</td>\n",
       "      <td>малодетная семья</td>\n",
       "    </tr>\n",
       "    <tr>\n",
       "      <th>1</th>\n",
       "      <td>1</td>\n",
       "      <td>4024</td>\n",
       "      <td>36</td>\n",
       "      <td>среднее</td>\n",
       "      <td>1</td>\n",
       "      <td>женат / замужем</td>\n",
       "      <td>0</td>\n",
       "      <td>F</td>\n",
       "      <td>сотрудник</td>\n",
       "      <td>0</td>\n",
       "      <td>112080</td>\n",
       "      <td>приобретение автомобиля</td>\n",
       "      <td>малодетная семья</td>\n",
       "    </tr>\n",
       "    <tr>\n",
       "      <th>2</th>\n",
       "      <td>0</td>\n",
       "      <td>5623</td>\n",
       "      <td>33</td>\n",
       "      <td>среднее</td>\n",
       "      <td>1</td>\n",
       "      <td>женат / замужем</td>\n",
       "      <td>0</td>\n",
       "      <td>M</td>\n",
       "      <td>сотрудник</td>\n",
       "      <td>0</td>\n",
       "      <td>145885</td>\n",
       "      <td>покупка жилья</td>\n",
       "      <td>бездетная семья</td>\n",
       "    </tr>\n",
       "    <tr>\n",
       "      <th>3</th>\n",
       "      <td>3</td>\n",
       "      <td>4124</td>\n",
       "      <td>32</td>\n",
       "      <td>среднее</td>\n",
       "      <td>1</td>\n",
       "      <td>женат / замужем</td>\n",
       "      <td>0</td>\n",
       "      <td>M</td>\n",
       "      <td>сотрудник</td>\n",
       "      <td>0</td>\n",
       "      <td>267628</td>\n",
       "      <td>дополнительное образование</td>\n",
       "      <td>многодетная семья</td>\n",
       "    </tr>\n",
       "    <tr>\n",
       "      <th>4</th>\n",
       "      <td>0</td>\n",
       "      <td>14177</td>\n",
       "      <td>53</td>\n",
       "      <td>среднее</td>\n",
       "      <td>1</td>\n",
       "      <td>гражданский брак</td>\n",
       "      <td>1</td>\n",
       "      <td>F</td>\n",
       "      <td>пенсионер</td>\n",
       "      <td>0</td>\n",
       "      <td>158616</td>\n",
       "      <td>сыграть свадьбу</td>\n",
       "      <td>бездетная семья</td>\n",
       "    </tr>\n",
       "    <tr>\n",
       "      <th>...</th>\n",
       "      <td>...</td>\n",
       "      <td>...</td>\n",
       "      <td>...</td>\n",
       "      <td>...</td>\n",
       "      <td>...</td>\n",
       "      <td>...</td>\n",
       "      <td>...</td>\n",
       "      <td>...</td>\n",
       "      <td>...</td>\n",
       "      <td>...</td>\n",
       "      <td>...</td>\n",
       "      <td>...</td>\n",
       "      <td>...</td>\n",
       "    </tr>\n",
       "    <tr>\n",
       "      <th>21520</th>\n",
       "      <td>1</td>\n",
       "      <td>4529</td>\n",
       "      <td>43</td>\n",
       "      <td>среднее</td>\n",
       "      <td>1</td>\n",
       "      <td>гражданский брак</td>\n",
       "      <td>1</td>\n",
       "      <td>F</td>\n",
       "      <td>компаньон</td>\n",
       "      <td>0</td>\n",
       "      <td>224791</td>\n",
       "      <td>операции с жильем</td>\n",
       "      <td>малодетная семья</td>\n",
       "    </tr>\n",
       "    <tr>\n",
       "      <th>21521</th>\n",
       "      <td>0</td>\n",
       "      <td>14330</td>\n",
       "      <td>67</td>\n",
       "      <td>среднее</td>\n",
       "      <td>1</td>\n",
       "      <td>женат / замужем</td>\n",
       "      <td>0</td>\n",
       "      <td>F</td>\n",
       "      <td>пенсионер</td>\n",
       "      <td>0</td>\n",
       "      <td>155999</td>\n",
       "      <td>сделка с автомобилем</td>\n",
       "      <td>бездетная семья</td>\n",
       "    </tr>\n",
       "    <tr>\n",
       "      <th>21522</th>\n",
       "      <td>1</td>\n",
       "      <td>2113</td>\n",
       "      <td>38</td>\n",
       "      <td>среднее</td>\n",
       "      <td>1</td>\n",
       "      <td>гражданский брак</td>\n",
       "      <td>1</td>\n",
       "      <td>M</td>\n",
       "      <td>сотрудник</td>\n",
       "      <td>1</td>\n",
       "      <td>89672</td>\n",
       "      <td>недвижимость</td>\n",
       "      <td>малодетная семья</td>\n",
       "    </tr>\n",
       "    <tr>\n",
       "      <th>21523</th>\n",
       "      <td>3</td>\n",
       "      <td>3112</td>\n",
       "      <td>38</td>\n",
       "      <td>среднее</td>\n",
       "      <td>1</td>\n",
       "      <td>женат / замужем</td>\n",
       "      <td>0</td>\n",
       "      <td>M</td>\n",
       "      <td>сотрудник</td>\n",
       "      <td>1</td>\n",
       "      <td>244093</td>\n",
       "      <td>на покупку своего автомобиля</td>\n",
       "      <td>многодетная семья</td>\n",
       "    </tr>\n",
       "    <tr>\n",
       "      <th>21524</th>\n",
       "      <td>2</td>\n",
       "      <td>1984</td>\n",
       "      <td>40</td>\n",
       "      <td>среднее</td>\n",
       "      <td>1</td>\n",
       "      <td>женат / замужем</td>\n",
       "      <td>0</td>\n",
       "      <td>F</td>\n",
       "      <td>сотрудник</td>\n",
       "      <td>0</td>\n",
       "      <td>82047</td>\n",
       "      <td>на покупку автомобиля</td>\n",
       "      <td>малодетная семья</td>\n",
       "    </tr>\n",
       "  </tbody>\n",
       "</table>\n",
       "<p>21454 rows × 13 columns</p>\n",
       "</div>"
      ],
      "text/plain": [
       "       children  days_employed  dob_years education  education_id  \\\n",
       "0             1           8437         42    высшее             0   \n",
       "1             1           4024         36   среднее             1   \n",
       "2             0           5623         33   среднее             1   \n",
       "3             3           4124         32   среднее             1   \n",
       "4             0          14177         53   среднее             1   \n",
       "...         ...            ...        ...       ...           ...   \n",
       "21520         1           4529         43   среднее             1   \n",
       "21521         0          14330         67   среднее             1   \n",
       "21522         1           2113         38   среднее             1   \n",
       "21523         3           3112         38   среднее             1   \n",
       "21524         2           1984         40   среднее             1   \n",
       "\n",
       "          family_status  family_status_id gender income_type  debt  \\\n",
       "0       женат / замужем                 0      F   сотрудник     0   \n",
       "1       женат / замужем                 0      F   сотрудник     0   \n",
       "2       женат / замужем                 0      M   сотрудник     0   \n",
       "3       женат / замужем                 0      M   сотрудник     0   \n",
       "4      гражданский брак                 1      F   пенсионер     0   \n",
       "...                 ...               ...    ...         ...   ...   \n",
       "21520  гражданский брак                 1      F   компаньон     0   \n",
       "21521   женат / замужем                 0      F   пенсионер     0   \n",
       "21522  гражданский брак                 1      M   сотрудник     1   \n",
       "21523   женат / замужем                 0      M   сотрудник     1   \n",
       "21524   женат / замужем                 0      F   сотрудник     0   \n",
       "\n",
       "       total_income                       purpose       children_cat  \n",
       "0            253875                 покупка жилья   малодетная семья  \n",
       "1            112080       приобретение автомобиля   малодетная семья  \n",
       "2            145885                 покупка жилья    бездетная семья  \n",
       "3            267628    дополнительное образование  многодетная семья  \n",
       "4            158616               сыграть свадьбу    бездетная семья  \n",
       "...             ...                           ...                ...  \n",
       "21520        224791             операции с жильем   малодетная семья  \n",
       "21521        155999          сделка с автомобилем    бездетная семья  \n",
       "21522         89672                  недвижимость   малодетная семья  \n",
       "21523        244093  на покупку своего автомобиля  многодетная семья  \n",
       "21524         82047         на покупку автомобиля   малодетная семья  \n",
       "\n",
       "[21454 rows x 13 columns]"
      ]
     },
     "metadata": {},
     "output_type": "display_data"
    },
    {
     "data": {
      "text/plain": [
       "бездетная семья      14091\n",
       "малодетная семья      6983\n",
       "многодетная семья      380\n",
       "Name: children_cat, dtype: int64"
      ]
     },
     "metadata": {},
     "output_type": "display_data"
    }
   ],
   "source": [
    "def children_cat(row): # функция позволит возвращать категорию в зависимости от значения ячейки\n",
    "    if row == 0:\n",
    "        return 'бездетная семья'\n",
    "    elif 0 < row < 3:\n",
    "        return 'малодетная семья'\n",
    "    else:\n",
    "        return 'многодетная семья'\n",
    "    \n",
    "data_new['children_cat'] = data_new['children'].apply(children_cat) # применю функцию к столбцу 'children', с созданием нового столбца children_cat\n",
    "\n",
    "display(data_new)                               # проверю результат\n",
    "display(data_new['children_cat'].value_counts())"
   ]
  },
  {
   "cell_type": "markdown",
   "metadata": {},
   "source": [
    "#### столбец 'total_income'"
   ]
  },
  {
   "cell_type": "markdown",
   "metadata": {},
   "source": [
    "Так как ежемесячный доход важная для исследования характеристика, то считаю необходимым сделать категоризацию по столбцу 'total_income'. При категоризации буду отталкиваться от медианного значения по столбцу 'total_income' с шагом 50000."
   ]
  },
  {
   "cell_type": "code",
   "execution_count": 32,
   "metadata": {},
   "outputs": [
    {
     "data": {
      "text/plain": [
       "142594.0"
      ]
     },
     "metadata": {},
     "output_type": "display_data"
    }
   ],
   "source": [
    "display(data_new['total_income'].median()) # найду медиану по столбцу total_income"
   ]
  },
  {
   "cell_type": "code",
   "execution_count": 33,
   "metadata": {},
   "outputs": [
    {
     "data": {
      "text/html": [
       "<div>\n",
       "<style scoped>\n",
       "    .dataframe tbody tr th:only-of-type {\n",
       "        vertical-align: middle;\n",
       "    }\n",
       "\n",
       "    .dataframe tbody tr th {\n",
       "        vertical-align: top;\n",
       "    }\n",
       "\n",
       "    .dataframe thead th {\n",
       "        text-align: right;\n",
       "    }\n",
       "</style>\n",
       "<table border=\"1\" class=\"dataframe\">\n",
       "  <thead>\n",
       "    <tr style=\"text-align: right;\">\n",
       "      <th></th>\n",
       "      <th>children</th>\n",
       "      <th>days_employed</th>\n",
       "      <th>dob_years</th>\n",
       "      <th>education</th>\n",
       "      <th>education_id</th>\n",
       "      <th>family_status</th>\n",
       "      <th>family_status_id</th>\n",
       "      <th>gender</th>\n",
       "      <th>income_type</th>\n",
       "      <th>debt</th>\n",
       "      <th>total_income</th>\n",
       "      <th>purpose</th>\n",
       "      <th>children_cat</th>\n",
       "      <th>total_income_cat</th>\n",
       "    </tr>\n",
       "  </thead>\n",
       "  <tbody>\n",
       "    <tr>\n",
       "      <th>0</th>\n",
       "      <td>1</td>\n",
       "      <td>8437</td>\n",
       "      <td>42</td>\n",
       "      <td>высшее</td>\n",
       "      <td>0</td>\n",
       "      <td>женат / замужем</td>\n",
       "      <td>0</td>\n",
       "      <td>F</td>\n",
       "      <td>сотрудник</td>\n",
       "      <td>0</td>\n",
       "      <td>253875</td>\n",
       "      <td>покупка жилья</td>\n",
       "      <td>малодетная семья</td>\n",
       "      <td>доход от 250 тысяч</td>\n",
       "    </tr>\n",
       "    <tr>\n",
       "      <th>1</th>\n",
       "      <td>1</td>\n",
       "      <td>4024</td>\n",
       "      <td>36</td>\n",
       "      <td>среднее</td>\n",
       "      <td>1</td>\n",
       "      <td>женат / замужем</td>\n",
       "      <td>0</td>\n",
       "      <td>F</td>\n",
       "      <td>сотрудник</td>\n",
       "      <td>0</td>\n",
       "      <td>112080</td>\n",
       "      <td>приобретение автомобиля</td>\n",
       "      <td>малодетная семья</td>\n",
       "      <td>доход от 100 до 150 тысяч</td>\n",
       "    </tr>\n",
       "    <tr>\n",
       "      <th>2</th>\n",
       "      <td>0</td>\n",
       "      <td>5623</td>\n",
       "      <td>33</td>\n",
       "      <td>среднее</td>\n",
       "      <td>1</td>\n",
       "      <td>женат / замужем</td>\n",
       "      <td>0</td>\n",
       "      <td>M</td>\n",
       "      <td>сотрудник</td>\n",
       "      <td>0</td>\n",
       "      <td>145885</td>\n",
       "      <td>покупка жилья</td>\n",
       "      <td>бездетная семья</td>\n",
       "      <td>доход от 100 до 150 тысяч</td>\n",
       "    </tr>\n",
       "    <tr>\n",
       "      <th>3</th>\n",
       "      <td>3</td>\n",
       "      <td>4124</td>\n",
       "      <td>32</td>\n",
       "      <td>среднее</td>\n",
       "      <td>1</td>\n",
       "      <td>женат / замужем</td>\n",
       "      <td>0</td>\n",
       "      <td>M</td>\n",
       "      <td>сотрудник</td>\n",
       "      <td>0</td>\n",
       "      <td>267628</td>\n",
       "      <td>дополнительное образование</td>\n",
       "      <td>многодетная семья</td>\n",
       "      <td>доход от 250 тысяч</td>\n",
       "    </tr>\n",
       "    <tr>\n",
       "      <th>4</th>\n",
       "      <td>0</td>\n",
       "      <td>14177</td>\n",
       "      <td>53</td>\n",
       "      <td>среднее</td>\n",
       "      <td>1</td>\n",
       "      <td>гражданский брак</td>\n",
       "      <td>1</td>\n",
       "      <td>F</td>\n",
       "      <td>пенсионер</td>\n",
       "      <td>0</td>\n",
       "      <td>158616</td>\n",
       "      <td>сыграть свадьбу</td>\n",
       "      <td>бездетная семья</td>\n",
       "      <td>доход от 150 до 200 тысяч</td>\n",
       "    </tr>\n",
       "    <tr>\n",
       "      <th>...</th>\n",
       "      <td>...</td>\n",
       "      <td>...</td>\n",
       "      <td>...</td>\n",
       "      <td>...</td>\n",
       "      <td>...</td>\n",
       "      <td>...</td>\n",
       "      <td>...</td>\n",
       "      <td>...</td>\n",
       "      <td>...</td>\n",
       "      <td>...</td>\n",
       "      <td>...</td>\n",
       "      <td>...</td>\n",
       "      <td>...</td>\n",
       "      <td>...</td>\n",
       "    </tr>\n",
       "    <tr>\n",
       "      <th>21520</th>\n",
       "      <td>1</td>\n",
       "      <td>4529</td>\n",
       "      <td>43</td>\n",
       "      <td>среднее</td>\n",
       "      <td>1</td>\n",
       "      <td>гражданский брак</td>\n",
       "      <td>1</td>\n",
       "      <td>F</td>\n",
       "      <td>компаньон</td>\n",
       "      <td>0</td>\n",
       "      <td>224791</td>\n",
       "      <td>операции с жильем</td>\n",
       "      <td>малодетная семья</td>\n",
       "      <td>доход от 200 до 250 тысяч</td>\n",
       "    </tr>\n",
       "    <tr>\n",
       "      <th>21521</th>\n",
       "      <td>0</td>\n",
       "      <td>14330</td>\n",
       "      <td>67</td>\n",
       "      <td>среднее</td>\n",
       "      <td>1</td>\n",
       "      <td>женат / замужем</td>\n",
       "      <td>0</td>\n",
       "      <td>F</td>\n",
       "      <td>пенсионер</td>\n",
       "      <td>0</td>\n",
       "      <td>155999</td>\n",
       "      <td>сделка с автомобилем</td>\n",
       "      <td>бездетная семья</td>\n",
       "      <td>доход от 150 до 200 тысяч</td>\n",
       "    </tr>\n",
       "    <tr>\n",
       "      <th>21522</th>\n",
       "      <td>1</td>\n",
       "      <td>2113</td>\n",
       "      <td>38</td>\n",
       "      <td>среднее</td>\n",
       "      <td>1</td>\n",
       "      <td>гражданский брак</td>\n",
       "      <td>1</td>\n",
       "      <td>M</td>\n",
       "      <td>сотрудник</td>\n",
       "      <td>1</td>\n",
       "      <td>89672</td>\n",
       "      <td>недвижимость</td>\n",
       "      <td>малодетная семья</td>\n",
       "      <td>доход до 100 тысяч</td>\n",
       "    </tr>\n",
       "    <tr>\n",
       "      <th>21523</th>\n",
       "      <td>3</td>\n",
       "      <td>3112</td>\n",
       "      <td>38</td>\n",
       "      <td>среднее</td>\n",
       "      <td>1</td>\n",
       "      <td>женат / замужем</td>\n",
       "      <td>0</td>\n",
       "      <td>M</td>\n",
       "      <td>сотрудник</td>\n",
       "      <td>1</td>\n",
       "      <td>244093</td>\n",
       "      <td>на покупку своего автомобиля</td>\n",
       "      <td>многодетная семья</td>\n",
       "      <td>доход от 200 до 250 тысяч</td>\n",
       "    </tr>\n",
       "    <tr>\n",
       "      <th>21524</th>\n",
       "      <td>2</td>\n",
       "      <td>1984</td>\n",
       "      <td>40</td>\n",
       "      <td>среднее</td>\n",
       "      <td>1</td>\n",
       "      <td>женат / замужем</td>\n",
       "      <td>0</td>\n",
       "      <td>F</td>\n",
       "      <td>сотрудник</td>\n",
       "      <td>0</td>\n",
       "      <td>82047</td>\n",
       "      <td>на покупку автомобиля</td>\n",
       "      <td>малодетная семья</td>\n",
       "      <td>доход до 100 тысяч</td>\n",
       "    </tr>\n",
       "  </tbody>\n",
       "</table>\n",
       "<p>21454 rows × 14 columns</p>\n",
       "</div>"
      ],
      "text/plain": [
       "       children  days_employed  dob_years education  education_id  \\\n",
       "0             1           8437         42    высшее             0   \n",
       "1             1           4024         36   среднее             1   \n",
       "2             0           5623         33   среднее             1   \n",
       "3             3           4124         32   среднее             1   \n",
       "4             0          14177         53   среднее             1   \n",
       "...         ...            ...        ...       ...           ...   \n",
       "21520         1           4529         43   среднее             1   \n",
       "21521         0          14330         67   среднее             1   \n",
       "21522         1           2113         38   среднее             1   \n",
       "21523         3           3112         38   среднее             1   \n",
       "21524         2           1984         40   среднее             1   \n",
       "\n",
       "          family_status  family_status_id gender income_type  debt  \\\n",
       "0       женат / замужем                 0      F   сотрудник     0   \n",
       "1       женат / замужем                 0      F   сотрудник     0   \n",
       "2       женат / замужем                 0      M   сотрудник     0   \n",
       "3       женат / замужем                 0      M   сотрудник     0   \n",
       "4      гражданский брак                 1      F   пенсионер     0   \n",
       "...                 ...               ...    ...         ...   ...   \n",
       "21520  гражданский брак                 1      F   компаньон     0   \n",
       "21521   женат / замужем                 0      F   пенсионер     0   \n",
       "21522  гражданский брак                 1      M   сотрудник     1   \n",
       "21523   женат / замужем                 0      M   сотрудник     1   \n",
       "21524   женат / замужем                 0      F   сотрудник     0   \n",
       "\n",
       "       total_income                       purpose       children_cat  \\\n",
       "0            253875                 покупка жилья   малодетная семья   \n",
       "1            112080       приобретение автомобиля   малодетная семья   \n",
       "2            145885                 покупка жилья    бездетная семья   \n",
       "3            267628    дополнительное образование  многодетная семья   \n",
       "4            158616               сыграть свадьбу    бездетная семья   \n",
       "...             ...                           ...                ...   \n",
       "21520        224791             операции с жильем   малодетная семья   \n",
       "21521        155999          сделка с автомобилем    бездетная семья   \n",
       "21522         89672                  недвижимость   малодетная семья   \n",
       "21523        244093  на покупку своего автомобиля  многодетная семья   \n",
       "21524         82047         на покупку автомобиля   малодетная семья   \n",
       "\n",
       "                total_income_cat  \n",
       "0             доход от 250 тысяч  \n",
       "1      доход от 100 до 150 тысяч  \n",
       "2      доход от 100 до 150 тысяч  \n",
       "3             доход от 250 тысяч  \n",
       "4      доход от 150 до 200 тысяч  \n",
       "...                          ...  \n",
       "21520  доход от 200 до 250 тысяч  \n",
       "21521  доход от 150 до 200 тысяч  \n",
       "21522         доход до 100 тысяч  \n",
       "21523  доход от 200 до 250 тысяч  \n",
       "21524         доход до 100 тысяч  \n",
       "\n",
       "[21454 rows x 14 columns]"
      ]
     },
     "metadata": {},
     "output_type": "display_data"
    },
    {
     "data": {
      "text/plain": [
       "доход от 100 до 150 тысяч    7160\n",
       "доход от 150 до 200 тысяч    4764\n",
       "доход до 100 тысяч           4463\n",
       "доход от 250 тысяч           2813\n",
       "доход от 200 до 250 тысяч    2254\n",
       "Name: total_income_cat, dtype: int64"
      ]
     },
     "metadata": {},
     "output_type": "display_data"
    }
   ],
   "source": [
    "def total_income_cat(row): # функция позволит вернуть категорию дохода, в зависимости от значения ячейки\n",
    "    if row <= 100000:\n",
    "        return 'доход до 100 тысяч'\n",
    "    elif 100000 < row <= 150000:\n",
    "        return 'доход от 100 до 150 тысяч'\n",
    "    elif 150000 < row <= 200000:\n",
    "        return 'доход от 150 до 200 тысяч' \n",
    "    elif 200000 < row <= 250000:\n",
    "        return 'доход от 200 до 250 тысяч' \n",
    "    else:\n",
    "        return 'доход от 250 тысяч'\n",
    "    \n",
    "data_new['total_income_cat'] = data_new['total_income'].apply(total_income_cat) # применю функцию к столбцу total_income с созданием нового столбца total_income_cat\n",
    "\n",
    "display(data_new)                                     # проверю результат\n",
    "display(data_new['total_income_cat'].value_counts())"
   ]
  },
  {
   "cell_type": "markdown",
   "metadata": {},
   "source": [
    "#### столбец 'purpose'"
   ]
  },
  {
   "cell_type": "markdown",
   "metadata": {},
   "source": [
    "Так как цель кредита важная для исследования характеристика, то считаю необходимым сделать категоризацию по столбцу 'purpose'. При лемматизации я выявил основные цели взятия кредита, а именно: автомобиль, жилье, свадьба, образование. По этим значениям и буду категоризировать."
   ]
  },
  {
   "cell_type": "markdown",
   "metadata": {},
   "source": [
    "Соберу в словарь все ключевые слова по целям получения кредита на основе выполненной ранее лемматизации."
   ]
  },
  {
   "cell_type": "code",
   "execution_count": 34,
   "metadata": {},
   "outputs": [],
   "source": [
    "purpose_dict = {'свадьба', 'автомобиль', 'образование', 'жилой', 'жилье', 'собственный',  'коммерческий', 'недвижимость'} # создам новый словарь"
   ]
  },
  {
   "cell_type": "markdown",
   "metadata": {},
   "source": [
    "Создам новый столбец 'purpose_id' с категорией цели взятия кредита на основе созданного словаря."
   ]
  },
  {
   "cell_type": "code",
   "execution_count": 35,
   "metadata": {},
   "outputs": [
    {
     "data": {
      "text/html": [
       "<div>\n",
       "<style scoped>\n",
       "    .dataframe tbody tr th:only-of-type {\n",
       "        vertical-align: middle;\n",
       "    }\n",
       "\n",
       "    .dataframe tbody tr th {\n",
       "        vertical-align: top;\n",
       "    }\n",
       "\n",
       "    .dataframe thead th {\n",
       "        text-align: right;\n",
       "    }\n",
       "</style>\n",
       "<table border=\"1\" class=\"dataframe\">\n",
       "  <thead>\n",
       "    <tr style=\"text-align: right;\">\n",
       "      <th></th>\n",
       "      <th>children</th>\n",
       "      <th>days_employed</th>\n",
       "      <th>dob_years</th>\n",
       "      <th>education</th>\n",
       "      <th>education_id</th>\n",
       "      <th>family_status</th>\n",
       "      <th>family_status_id</th>\n",
       "      <th>gender</th>\n",
       "      <th>income_type</th>\n",
       "      <th>debt</th>\n",
       "      <th>total_income</th>\n",
       "      <th>purpose</th>\n",
       "      <th>children_cat</th>\n",
       "      <th>total_income_cat</th>\n",
       "      <th>purpose_cat</th>\n",
       "    </tr>\n",
       "  </thead>\n",
       "  <tbody>\n",
       "    <tr>\n",
       "      <th>0</th>\n",
       "      <td>1</td>\n",
       "      <td>8437</td>\n",
       "      <td>42</td>\n",
       "      <td>высшее</td>\n",
       "      <td>0</td>\n",
       "      <td>женат / замужем</td>\n",
       "      <td>0</td>\n",
       "      <td>F</td>\n",
       "      <td>сотрудник</td>\n",
       "      <td>0</td>\n",
       "      <td>253875</td>\n",
       "      <td>покупка жилья</td>\n",
       "      <td>малодетная семья</td>\n",
       "      <td>доход от 250 тысяч</td>\n",
       "      <td>жилье</td>\n",
       "    </tr>\n",
       "    <tr>\n",
       "      <th>1</th>\n",
       "      <td>1</td>\n",
       "      <td>4024</td>\n",
       "      <td>36</td>\n",
       "      <td>среднее</td>\n",
       "      <td>1</td>\n",
       "      <td>женат / замужем</td>\n",
       "      <td>0</td>\n",
       "      <td>F</td>\n",
       "      <td>сотрудник</td>\n",
       "      <td>0</td>\n",
       "      <td>112080</td>\n",
       "      <td>приобретение автомобиля</td>\n",
       "      <td>малодетная семья</td>\n",
       "      <td>доход от 100 до 150 тысяч</td>\n",
       "      <td>автомобиль</td>\n",
       "    </tr>\n",
       "    <tr>\n",
       "      <th>2</th>\n",
       "      <td>0</td>\n",
       "      <td>5623</td>\n",
       "      <td>33</td>\n",
       "      <td>среднее</td>\n",
       "      <td>1</td>\n",
       "      <td>женат / замужем</td>\n",
       "      <td>0</td>\n",
       "      <td>M</td>\n",
       "      <td>сотрудник</td>\n",
       "      <td>0</td>\n",
       "      <td>145885</td>\n",
       "      <td>покупка жилья</td>\n",
       "      <td>бездетная семья</td>\n",
       "      <td>доход от 100 до 150 тысяч</td>\n",
       "      <td>жилье</td>\n",
       "    </tr>\n",
       "    <tr>\n",
       "      <th>3</th>\n",
       "      <td>3</td>\n",
       "      <td>4124</td>\n",
       "      <td>32</td>\n",
       "      <td>среднее</td>\n",
       "      <td>1</td>\n",
       "      <td>женат / замужем</td>\n",
       "      <td>0</td>\n",
       "      <td>M</td>\n",
       "      <td>сотрудник</td>\n",
       "      <td>0</td>\n",
       "      <td>267628</td>\n",
       "      <td>дополнительное образование</td>\n",
       "      <td>многодетная семья</td>\n",
       "      <td>доход от 250 тысяч</td>\n",
       "      <td>образование</td>\n",
       "    </tr>\n",
       "    <tr>\n",
       "      <th>4</th>\n",
       "      <td>0</td>\n",
       "      <td>14177</td>\n",
       "      <td>53</td>\n",
       "      <td>среднее</td>\n",
       "      <td>1</td>\n",
       "      <td>гражданский брак</td>\n",
       "      <td>1</td>\n",
       "      <td>F</td>\n",
       "      <td>пенсионер</td>\n",
       "      <td>0</td>\n",
       "      <td>158616</td>\n",
       "      <td>сыграть свадьбу</td>\n",
       "      <td>бездетная семья</td>\n",
       "      <td>доход от 150 до 200 тысяч</td>\n",
       "      <td>свадьба</td>\n",
       "    </tr>\n",
       "    <tr>\n",
       "      <th>...</th>\n",
       "      <td>...</td>\n",
       "      <td>...</td>\n",
       "      <td>...</td>\n",
       "      <td>...</td>\n",
       "      <td>...</td>\n",
       "      <td>...</td>\n",
       "      <td>...</td>\n",
       "      <td>...</td>\n",
       "      <td>...</td>\n",
       "      <td>...</td>\n",
       "      <td>...</td>\n",
       "      <td>...</td>\n",
       "      <td>...</td>\n",
       "      <td>...</td>\n",
       "      <td>...</td>\n",
       "    </tr>\n",
       "    <tr>\n",
       "      <th>21520</th>\n",
       "      <td>1</td>\n",
       "      <td>4529</td>\n",
       "      <td>43</td>\n",
       "      <td>среднее</td>\n",
       "      <td>1</td>\n",
       "      <td>гражданский брак</td>\n",
       "      <td>1</td>\n",
       "      <td>F</td>\n",
       "      <td>компаньон</td>\n",
       "      <td>0</td>\n",
       "      <td>224791</td>\n",
       "      <td>операции с жильем</td>\n",
       "      <td>малодетная семья</td>\n",
       "      <td>доход от 200 до 250 тысяч</td>\n",
       "      <td>жилье</td>\n",
       "    </tr>\n",
       "    <tr>\n",
       "      <th>21521</th>\n",
       "      <td>0</td>\n",
       "      <td>14330</td>\n",
       "      <td>67</td>\n",
       "      <td>среднее</td>\n",
       "      <td>1</td>\n",
       "      <td>женат / замужем</td>\n",
       "      <td>0</td>\n",
       "      <td>F</td>\n",
       "      <td>пенсионер</td>\n",
       "      <td>0</td>\n",
       "      <td>155999</td>\n",
       "      <td>сделка с автомобилем</td>\n",
       "      <td>бездетная семья</td>\n",
       "      <td>доход от 150 до 200 тысяч</td>\n",
       "      <td>автомобиль</td>\n",
       "    </tr>\n",
       "    <tr>\n",
       "      <th>21522</th>\n",
       "      <td>1</td>\n",
       "      <td>2113</td>\n",
       "      <td>38</td>\n",
       "      <td>среднее</td>\n",
       "      <td>1</td>\n",
       "      <td>гражданский брак</td>\n",
       "      <td>1</td>\n",
       "      <td>M</td>\n",
       "      <td>сотрудник</td>\n",
       "      <td>1</td>\n",
       "      <td>89672</td>\n",
       "      <td>недвижимость</td>\n",
       "      <td>малодетная семья</td>\n",
       "      <td>доход до 100 тысяч</td>\n",
       "      <td>недвижимость</td>\n",
       "    </tr>\n",
       "    <tr>\n",
       "      <th>21523</th>\n",
       "      <td>3</td>\n",
       "      <td>3112</td>\n",
       "      <td>38</td>\n",
       "      <td>среднее</td>\n",
       "      <td>1</td>\n",
       "      <td>женат / замужем</td>\n",
       "      <td>0</td>\n",
       "      <td>M</td>\n",
       "      <td>сотрудник</td>\n",
       "      <td>1</td>\n",
       "      <td>244093</td>\n",
       "      <td>на покупку своего автомобиля</td>\n",
       "      <td>многодетная семья</td>\n",
       "      <td>доход от 200 до 250 тысяч</td>\n",
       "      <td>автомобиль</td>\n",
       "    </tr>\n",
       "    <tr>\n",
       "      <th>21524</th>\n",
       "      <td>2</td>\n",
       "      <td>1984</td>\n",
       "      <td>40</td>\n",
       "      <td>среднее</td>\n",
       "      <td>1</td>\n",
       "      <td>женат / замужем</td>\n",
       "      <td>0</td>\n",
       "      <td>F</td>\n",
       "      <td>сотрудник</td>\n",
       "      <td>0</td>\n",
       "      <td>82047</td>\n",
       "      <td>на покупку автомобиля</td>\n",
       "      <td>малодетная семья</td>\n",
       "      <td>доход до 100 тысяч</td>\n",
       "      <td>автомобиль</td>\n",
       "    </tr>\n",
       "  </tbody>\n",
       "</table>\n",
       "<p>21454 rows × 15 columns</p>\n",
       "</div>"
      ],
      "text/plain": [
       "       children  days_employed  dob_years education  education_id  \\\n",
       "0             1           8437         42    высшее             0   \n",
       "1             1           4024         36   среднее             1   \n",
       "2             0           5623         33   среднее             1   \n",
       "3             3           4124         32   среднее             1   \n",
       "4             0          14177         53   среднее             1   \n",
       "...         ...            ...        ...       ...           ...   \n",
       "21520         1           4529         43   среднее             1   \n",
       "21521         0          14330         67   среднее             1   \n",
       "21522         1           2113         38   среднее             1   \n",
       "21523         3           3112         38   среднее             1   \n",
       "21524         2           1984         40   среднее             1   \n",
       "\n",
       "          family_status  family_status_id gender income_type  debt  \\\n",
       "0       женат / замужем                 0      F   сотрудник     0   \n",
       "1       женат / замужем                 0      F   сотрудник     0   \n",
       "2       женат / замужем                 0      M   сотрудник     0   \n",
       "3       женат / замужем                 0      M   сотрудник     0   \n",
       "4      гражданский брак                 1      F   пенсионер     0   \n",
       "...                 ...               ...    ...         ...   ...   \n",
       "21520  гражданский брак                 1      F   компаньон     0   \n",
       "21521   женат / замужем                 0      F   пенсионер     0   \n",
       "21522  гражданский брак                 1      M   сотрудник     1   \n",
       "21523   женат / замужем                 0      M   сотрудник     1   \n",
       "21524   женат / замужем                 0      F   сотрудник     0   \n",
       "\n",
       "       total_income                       purpose       children_cat  \\\n",
       "0            253875                 покупка жилья   малодетная семья   \n",
       "1            112080       приобретение автомобиля   малодетная семья   \n",
       "2            145885                 покупка жилья    бездетная семья   \n",
       "3            267628    дополнительное образование  многодетная семья   \n",
       "4            158616               сыграть свадьбу    бездетная семья   \n",
       "...             ...                           ...                ...   \n",
       "21520        224791             операции с жильем   малодетная семья   \n",
       "21521        155999          сделка с автомобилем    бездетная семья   \n",
       "21522         89672                  недвижимость   малодетная семья   \n",
       "21523        244093  на покупку своего автомобиля  многодетная семья   \n",
       "21524         82047         на покупку автомобиля   малодетная семья   \n",
       "\n",
       "                total_income_cat   purpose_cat  \n",
       "0             доход от 250 тысяч         жилье  \n",
       "1      доход от 100 до 150 тысяч    автомобиль  \n",
       "2      доход от 100 до 150 тысяч         жилье  \n",
       "3             доход от 250 тысяч   образование  \n",
       "4      доход от 150 до 200 тысяч       свадьба  \n",
       "...                          ...           ...  \n",
       "21520  доход от 200 до 250 тысяч         жилье  \n",
       "21521  доход от 150 до 200 тысяч    автомобиль  \n",
       "21522         доход до 100 тысяч  недвижимость  \n",
       "21523  доход от 200 до 250 тысяч    автомобиль  \n",
       "21524         доход до 100 тысяч    автомобиль  \n",
       "\n",
       "[21454 rows x 15 columns]"
      ]
     },
     "metadata": {},
     "output_type": "display_data"
    }
   ],
   "source": [
    "def set_purpose_cat(row, purpose_dict): # функция позволит вернуть значение по словарю в соответствии с лемматизированным значением в ячейке\n",
    "    lemma = m.lemmatize(row)\n",
    "    for word in lemma:\n",
    "        if word in purpose_dict:\n",
    "            return word\n",
    "\n",
    "data_new['purpose_cat'] = data_new['purpose'].apply(set_purpose_cat, args=[purpose_dict]) # применю функцию к столбцу purpose с созданием нового столбца purpose_id \n",
    "\n",
    "display(data_new) # проверю результат"
   ]
  },
  {
   "cell_type": "markdown",
   "metadata": {},
   "source": [
    "Выполню проверку все ли строки таблицы оказались заполненны ключевыми словами (необходимо удостовериться, что ни в одной строке нет None."
   ]
  },
  {
   "cell_type": "code",
   "execution_count": 36,
   "metadata": {},
   "outputs": [
    {
     "data": {
      "text/plain": [
       "21454"
      ]
     },
     "metadata": {},
     "output_type": "display_data"
    },
    {
     "data": {
      "text/plain": [
       "array(['жилье', 'автомобиль', 'образование', 'свадьба', 'недвижимость',\n",
       "       'коммерческий', 'жилой', 'собственный'], dtype=object)"
      ]
     },
     "metadata": {},
     "output_type": "display_data"
    }
   ],
   "source": [
    "display(data_new['purpose_cat'].value_counts().sum()) # выведу значения по количеству заполненных ячеек и их уникальным значениям\n",
    "display(data_new['purpose_cat'].unique())"
   ]
  },
  {
   "cell_type": "markdown",
   "metadata": {},
   "source": [
    "Обнаружилось, что часть значений не заменилось на ключевые слова. Предположу, что в этих строках не встречается ни одного ключевого слова. Поэтому заменю значения None на цель кредита \"другое\".\n",
    "\n",
    "Приведу столбец 'purpose_cat' к читаемому виду."
   ]
  },
  {
   "cell_type": "code",
   "execution_count": 37,
   "metadata": {},
   "outputs": [
    {
     "data": {
      "text/plain": [
       "21454"
      ]
     },
     "metadata": {},
     "output_type": "display_data"
    },
    {
     "data": {
      "text/plain": [
       "array(['кредит на недвижимость', 'кредит на автомобиль',\n",
       "       'кредит на образование', 'кредит на свадьбу'], dtype=object)"
      ]
     },
     "metadata": {},
     "output_type": "display_data"
    }
   ],
   "source": [
    "# заменю ключевые слова на общие\n",
    "data_new['purpose_cat'] = data_new['purpose_cat'].replace(['жилье', 'операция', 'недвижимость', 'коммерческий', 'жилой', 'строительство', 'ремонт'], 'кредит на недвижимость')\n",
    "data_new['purpose_cat'] = data_new['purpose_cat'].replace(['автомобиль', 'подержать', 'собственный'], 'кредит на автомобиль')\n",
    "data_new['purpose_cat'] = data_new['purpose_cat'].replace(['дополнительный', 'образование', 'заниматься', 'получение', 'профильный'], 'кредит на образование')\n",
    "data_new['purpose_cat'] = data_new['purpose_cat'].replace(['свадьба'], 'кредит на свадьбу')\n",
    "# приведу None к NaN\n",
    "pd.to_numeric(data_new['purpose_cat'], errors='coerce')\n",
    "# заменю NaN на значение\n",
    "data_new['purpose_cat'] = data_new['purpose_cat'].fillna(0)\n",
    "data_new['purpose_cat'] = data_new['purpose_cat'].replace(0, 'другая цель кредита')\n",
    "# проверю результат\n",
    "display(data_new['purpose_cat'].value_counts().sum())\n",
    "display(data_new['purpose_cat'].unique())"
   ]
  },
  {
   "cell_type": "markdown",
   "metadata": {},
   "source": [
    "**Вывод**"
   ]
  },
  {
   "cell_type": "markdown",
   "metadata": {},
   "source": [
    "Для достижения качественных результатов по исследованию столбцы 'children', 'total_income', 'purpose' категоризированны соответствующим образом. Столбцы 'debt', 'family_status' уже категоризированы."
   ]
  },
  {
   "cell_type": "markdown",
   "metadata": {},
   "source": [
    "## Шаг 3. Ответьте на вопросы"
   ]
  },
  {
   "cell_type": "markdown",
   "metadata": {},
   "source": [
    "**Есть ли зависимость между наличием детей и возвратом кредита в срок?**"
   ]
  },
  {
   "cell_type": "markdown",
   "metadata": {},
   "source": [
    "Сведу полученные данные в таблицу для наглядности."
   ]
  },
  {
   "cell_type": "code",
   "execution_count": 38,
   "metadata": {
    "scrolled": true
   },
   "outputs": [
    {
     "data": {
      "text/html": [
       "<div>\n",
       "<style scoped>\n",
       "    .dataframe tbody tr th:only-of-type {\n",
       "        vertical-align: middle;\n",
       "    }\n",
       "\n",
       "    .dataframe tbody tr th {\n",
       "        vertical-align: top;\n",
       "    }\n",
       "\n",
       "    .dataframe thead th {\n",
       "        text-align: right;\n",
       "    }\n",
       "</style>\n",
       "<table border=\"1\" class=\"dataframe\">\n",
       "  <thead>\n",
       "    <tr style=\"text-align: right;\">\n",
       "      <th></th>\n",
       "      <th>Всего долгов</th>\n",
       "      <th>Не выплачено долгов</th>\n",
       "      <th>Выплачено долгов</th>\n",
       "      <th>Процент выплаченных долгов</th>\n",
       "    </tr>\n",
       "    <tr>\n",
       "      <th>Категория семьи</th>\n",
       "      <th></th>\n",
       "      <th></th>\n",
       "      <th></th>\n",
       "      <th></th>\n",
       "    </tr>\n",
       "  </thead>\n",
       "  <tbody>\n",
       "    <tr>\n",
       "      <th>бездетная семья</th>\n",
       "      <td>14091</td>\n",
       "      <td>1063</td>\n",
       "      <td>13028</td>\n",
       "      <td>92.5%</td>\n",
       "    </tr>\n",
       "    <tr>\n",
       "      <th>многодетная семья</th>\n",
       "      <td>380</td>\n",
       "      <td>31</td>\n",
       "      <td>349</td>\n",
       "      <td>91.8%</td>\n",
       "    </tr>\n",
       "    <tr>\n",
       "      <th>малодетная семья</th>\n",
       "      <td>6983</td>\n",
       "      <td>647</td>\n",
       "      <td>6336</td>\n",
       "      <td>90.7%</td>\n",
       "    </tr>\n",
       "  </tbody>\n",
       "</table>\n",
       "</div>"
      ],
      "text/plain": [
       "                   Всего долгов  Не выплачено долгов  Выплачено долгов  \\\n",
       "Категория семьи                                                          \n",
       "бездетная семья           14091                 1063             13028   \n",
       "многодетная семья           380                   31               349   \n",
       "малодетная семья           6983                  647              6336   \n",
       "\n",
       "                  Процент выплаченных долгов  \n",
       "Категория семьи                               \n",
       "бездетная семья                        92.5%  \n",
       "многодетная семья                      91.8%  \n",
       "малодетная семья                       90.7%  "
      ]
     },
     "metadata": {},
     "output_type": "display_data"
    }
   ],
   "source": [
    "data_child = deepcopy(data_new) # для составления таблиц из данных создам новую переменную\n",
    "data_child.rename(columns={'children_cat': 'Категория семьи', 'debt': 'Всего долгов'}, inplace=True) # для наглядности в результатах таблицы буду выводить со столбцами на рукком языке\n",
    "t_1 = pd.pivot_table(data_child, index='Категория семьи', values='Всего долгов', aggfunc='count') # создам таблицы с данными по выплаченным кредитам\n",
    "t_2 = pd.pivot_table(data_child, index='Категория семьи', values='Всего долгов', aggfunc='sum')\n",
    "dept_child = t_1\n",
    "dept_child['Не выплачено долгов'] = t_2['Всего долгов']\n",
    "dept_child['Выплачено долгов'] = dept_child['Всего долгов'] - dept_child['Не выплачено долгов']\n",
    "dept_child['Процент выплаченных долгов'] = dept_child['Выплачено долгов'] / dept_child['Всего долгов']\n",
    "dept_child['Процент выплаченных долгов'] = dept_child['Процент выплаченных долгов'].mul(100).round(1).astype(str).add('%') # переведу в проценты\n",
    "dept_child = dept_child.sort_values(by='Процент выплаченных долгов', ascending=False) # отсортирую по убыванию\n",
    "display(dept_child)"
   ]
  },
  {
   "cell_type": "markdown",
   "metadata": {},
   "source": [
    "Составлю график по процентам выплаченных долгов."
   ]
  },
  {
   "cell_type": "code",
   "execution_count": 39,
   "metadata": {},
   "outputs": [
    {
     "data": {
      "text/plain": [
       "Text(0, 0.5, 'Категория семьи')"
      ]
     },
     "execution_count": 39,
     "metadata": {},
     "output_type": "execute_result"
    },
    {
     "data": {
      "image/png": "[encoded data removed]",
      "text/plain": [
       "<Figure size 432x288 with 1 Axes>"
      ]
     },
     "metadata": {
      "needs_background": "light"
     },
     "output_type": "display_data"
    }
   ],
   "source": [
    "seaborn.barplot(y=['Бездетная семья', 'Многодетная семья', 'Малодетная семья'], x=[92.5, 91.8, 90.7]); # построю график по полученным значениям\n",
    "plt.title('Процент выплаченных кредитов по категориям семьи') # оформлю график для наглядности\n",
    "plt.xlabel('Выплаченные кредиты, %')\n",
    "plt.ylabel('Категория семьи')"
   ]
  },
  {
   "cell_type": "markdown",
   "metadata": {},
   "source": [
    "**Вывод**"
   ]
  },
  {
   "cell_type": "markdown",
   "metadata": {},
   "source": [
    "По графику видно, что процент выплат по кредиту слабо зависит от количества детей в семье:\n",
    "<br>\n",
    "<br>\n",
    "Для бездетной семьи - 92,5%\n",
    "<br>\n",
    "Для многодетной семьи - 91,8%\n",
    "<br>\n",
    "Для малодетной семьи - 90,7%\n",
    "<br>\n",
    "\n",
    "- Предположу, что в многодетных семьях все затраты (в том числе на выплату кредита) планируются более ответственно, чем в малодетных семьях. Плюс такие семьи часто имеют различные субсидии и выплаты, помогающие планировать расходы. В таких семьях не рискуют брать кредит, который в перспективе можно \"не потянуть\".\n",
    "<br>\n",
    "- В бездетных семьях вообще нет затрат связанных с ребенком, поэтому планировать бюджет в таких семьях можно максимально точно, учитывая все месячные расходы.\n",
    "<br>\n",
    "- В малодетных семьях самый низкий процент выплат по кредиту по причине того, что такие семьи ещё не учитывают непредвиденные расходы, связанные с детьми и планирование бюджета в таких самьях сопряжено с переоценкой своих возможностей. Возможно часть кредитов берется с определенным риском по возможностям погошения ежемесячных платежей."
   ]
  },
  {
   "cell_type": "markdown",
   "metadata": {},
   "source": [
    "**Есть ли зависимость между семейным положением и возвратом кредита в срок?**"
   ]
  },
  {
   "cell_type": "markdown",
   "metadata": {},
   "source": [
    "Сведу полученные данные в таблицу для наглядности."
   ]
  },
  {
   "cell_type": "code",
   "execution_count": 40,
   "metadata": {
    "scrolled": true
   },
   "outputs": [
    {
     "data": {
      "text/html": [
       "<div>\n",
       "<style scoped>\n",
       "    .dataframe tbody tr th:only-of-type {\n",
       "        vertical-align: middle;\n",
       "    }\n",
       "\n",
       "    .dataframe tbody tr th {\n",
       "        vertical-align: top;\n",
       "    }\n",
       "\n",
       "    .dataframe thead th {\n",
       "        text-align: right;\n",
       "    }\n",
       "</style>\n",
       "<table border=\"1\" class=\"dataframe\">\n",
       "  <thead>\n",
       "    <tr style=\"text-align: right;\">\n",
       "      <th></th>\n",
       "      <th>Всего долгов</th>\n",
       "      <th>Не выплачено долгов</th>\n",
       "      <th>Выплачено долгов</th>\n",
       "      <th>Процент выплаченных долгов</th>\n",
       "    </tr>\n",
       "    <tr>\n",
       "      <th>Семейное положение</th>\n",
       "      <th></th>\n",
       "      <th></th>\n",
       "      <th></th>\n",
       "      <th></th>\n",
       "    </tr>\n",
       "  </thead>\n",
       "  <tbody>\n",
       "    <tr>\n",
       "      <th>вдовец / вдова</th>\n",
       "      <td>959</td>\n",
       "      <td>63</td>\n",
       "      <td>896</td>\n",
       "      <td>93.4%</td>\n",
       "    </tr>\n",
       "    <tr>\n",
       "      <th>в разводе</th>\n",
       "      <td>1195</td>\n",
       "      <td>85</td>\n",
       "      <td>1110</td>\n",
       "      <td>92.9%</td>\n",
       "    </tr>\n",
       "    <tr>\n",
       "      <th>женат / замужем</th>\n",
       "      <td>12339</td>\n",
       "      <td>931</td>\n",
       "      <td>11408</td>\n",
       "      <td>92.5%</td>\n",
       "    </tr>\n",
       "    <tr>\n",
       "      <th>гражданский брак</th>\n",
       "      <td>4151</td>\n",
       "      <td>388</td>\n",
       "      <td>3763</td>\n",
       "      <td>90.7%</td>\n",
       "    </tr>\n",
       "    <tr>\n",
       "      <th>не женат / не замужем</th>\n",
       "      <td>2810</td>\n",
       "      <td>274</td>\n",
       "      <td>2536</td>\n",
       "      <td>90.2%</td>\n",
       "    </tr>\n",
       "  </tbody>\n",
       "</table>\n",
       "</div>"
      ],
      "text/plain": [
       "                       Всего долгов  Не выплачено долгов  Выплачено долгов  \\\n",
       "Семейное положение                                                           \n",
       "вдовец / вдова                  959                   63               896   \n",
       "в разводе                      1195                   85              1110   \n",
       "женат / замужем               12339                  931             11408   \n",
       "гражданский брак               4151                  388              3763   \n",
       "не женат / не замужем          2810                  274              2536   \n",
       "\n",
       "                      Процент выплаченных долгов  \n",
       "Семейное положение                                \n",
       "вдовец / вдова                             93.4%  \n",
       "в разводе                                  92.9%  \n",
       "женат / замужем                            92.5%  \n",
       "гражданский брак                           90.7%  \n",
       "не женат / не замужем                      90.2%  "
      ]
     },
     "metadata": {},
     "output_type": "display_data"
    }
   ],
   "source": [
    "data_family = deepcopy(data_new)\n",
    "data_family.rename(columns={'family_status': 'Семейное положение', 'debt': 'Всего долгов'}, inplace=True)\n",
    "t_1 = pd.pivot_table(data_family, index='Семейное положение', values='Всего долгов', aggfunc='count')\n",
    "t_2 = pd.pivot_table(data_family, index='Семейное положение', values='Всего долгов', aggfunc='sum')\n",
    "dept_family = t_1\n",
    "dept_family['Не выплачено долгов'] = t_2['Всего долгов']\n",
    "dept_family['Выплачено долгов'] = dept_family['Всего долгов'] - dept_family['Не выплачено долгов']\n",
    "dept_family['Процент выплаченных долгов'] = dept_family['Выплачено долгов'] / dept_family['Всего долгов']\n",
    "dept_family['Процент выплаченных долгов'] = dept_family['Процент выплаченных долгов'].mul(100).round(1).astype(str).add('%')\n",
    "dept_family = dept_family.sort_values(by='Процент выплаченных долгов', ascending=False) \n",
    "display(dept_family)"
   ]
  },
  {
   "cell_type": "markdown",
   "metadata": {},
   "source": [
    "Составлю график по процентам выплаченных долгов."
   ]
  },
  {
   "cell_type": "code",
   "execution_count": 41,
   "metadata": {},
   "outputs": [
    {
     "data": {
      "text/plain": [
       "Text(0, 0.5, 'Семейное положение')"
      ]
     },
     "execution_count": 41,
     "metadata": {},
     "output_type": "execute_result"
    },
    {
     "data": {
      "image/png": "[encoded data removed]",
      "text/plain": [
       "<Figure size 432x288 with 1 Axes>"
      ]
     },
     "metadata": {
      "needs_background": "light"
     },
     "output_type": "display_data"
    }
   ],
   "source": [
    "seaborn.barplot(y=['Вдовец / вдова', 'В разводе', 'Женат / замужем', 'Гражданский брак', 'Не женат / не замужем'], x=[93.4, 92.9, 92.5, 90.7, 90.2]);\n",
    "plt.title('Процент выплаченных кредитов по семейному положению')\n",
    "plt.xlabel('Выплаченные кредиты, %')\n",
    "plt.ylabel('Семейное положение')"
   ]
  },
  {
   "cell_type": "markdown",
   "metadata": {},
   "source": [
    "**Вывод**"
   ]
  },
  {
   "cell_type": "markdown",
   "metadata": {},
   "source": [
    "По графику видно, процент выплаченных кредитов от семеного положения зависит следующим образом:\n",
    "<br>\n",
    "<br>\n",
    "Вдовец / вдова - 93,4%\n",
    "<br>\n",
    "В разводе - 92,9%\n",
    "<br>\n",
    "Женат / замужем - 92,5%\n",
    "<br>\n",
    "Гражданский брак - 90,7%\n",
    "<br>\n",
    "Не женат / не замужем - 90,2%\n",
    "<br>\n",
    "<br>\n",
    "- Предположу, что вдовцы и вдовы имея как правило большой жизненный опыт, берут кредиты более ответственно четко понимая смогут ли они их выплатить. Плюс как правило это люди в возрасте, имеющие определенные денежные наколения.\n",
    "<br>\n",
    "- С людьми находящимися в разводе, практически такая же ситуация - им приходится расчитывать только на себя.\n",
    "<br>\n",
    "- Семьи, находящиеся в браке могут иметь непредвиденные расходы из-за наличия детей и других причин, которые могут повлиять на возможность выплатить кредит в срок.\n",
    "<br>\n",
    "- Не состоящие в браке люди могут брать необдуманные кредиты, переоценивая свои возможности, так как уровень ответственности у них самый низкий."
   ]
  },
  {
   "cell_type": "markdown",
   "metadata": {},
   "source": [
    "**Есть ли зависимость между уровнем дохода и возвратом кредита в срок?**"
   ]
  },
  {
   "cell_type": "markdown",
   "metadata": {},
   "source": [
    "Сведу полученные данные в таблицу для наглядности."
   ]
  },
  {
   "cell_type": "code",
   "execution_count": 42,
   "metadata": {},
   "outputs": [
    {
     "data": {
      "text/html": [
       "<div>\n",
       "<style scoped>\n",
       "    .dataframe tbody tr th:only-of-type {\n",
       "        vertical-align: middle;\n",
       "    }\n",
       "\n",
       "    .dataframe tbody tr th {\n",
       "        vertical-align: top;\n",
       "    }\n",
       "\n",
       "    .dataframe thead th {\n",
       "        text-align: right;\n",
       "    }\n",
       "</style>\n",
       "<table border=\"1\" class=\"dataframe\">\n",
       "  <thead>\n",
       "    <tr style=\"text-align: right;\">\n",
       "      <th></th>\n",
       "      <th>Всего долгов</th>\n",
       "      <th>Не выплачено долгов</th>\n",
       "      <th>Выплачено долгов</th>\n",
       "      <th>Процент выплаченных долгов</th>\n",
       "    </tr>\n",
       "    <tr>\n",
       "      <th>Категория дохода</th>\n",
       "      <th></th>\n",
       "      <th></th>\n",
       "      <th></th>\n",
       "      <th></th>\n",
       "    </tr>\n",
       "  </thead>\n",
       "  <tbody>\n",
       "    <tr>\n",
       "      <th>доход от 250 тысяч</th>\n",
       "      <td>2813</td>\n",
       "      <td>194</td>\n",
       "      <td>2619</td>\n",
       "      <td>93.1%</td>\n",
       "    </tr>\n",
       "    <tr>\n",
       "      <th>доход от 200 до 250 тысяч</th>\n",
       "      <td>2254</td>\n",
       "      <td>164</td>\n",
       "      <td>2090</td>\n",
       "      <td>92.7%</td>\n",
       "    </tr>\n",
       "    <tr>\n",
       "      <th>доход до 100 тысяч</th>\n",
       "      <td>4463</td>\n",
       "      <td>354</td>\n",
       "      <td>4109</td>\n",
       "      <td>92.1%</td>\n",
       "    </tr>\n",
       "    <tr>\n",
       "      <th>доход от 150 до 200 тысяч</th>\n",
       "      <td>4764</td>\n",
       "      <td>405</td>\n",
       "      <td>4359</td>\n",
       "      <td>91.5%</td>\n",
       "    </tr>\n",
       "    <tr>\n",
       "      <th>доход от 100 до 150 тысяч</th>\n",
       "      <td>7160</td>\n",
       "      <td>624</td>\n",
       "      <td>6536</td>\n",
       "      <td>91.3%</td>\n",
       "    </tr>\n",
       "  </tbody>\n",
       "</table>\n",
       "</div>"
      ],
      "text/plain": [
       "                           Всего долгов  Не выплачено долгов  \\\n",
       "Категория дохода                                               \n",
       "доход от 250 тысяч                 2813                  194   \n",
       "доход от 200 до 250 тысяч          2254                  164   \n",
       "доход до 100 тысяч                 4463                  354   \n",
       "доход от 150 до 200 тысяч          4764                  405   \n",
       "доход от 100 до 150 тысяч          7160                  624   \n",
       "\n",
       "                           Выплачено долгов Процент выплаченных долгов  \n",
       "Категория дохода                                                        \n",
       "доход от 250 тысяч                     2619                      93.1%  \n",
       "доход от 200 до 250 тысяч              2090                      92.7%  \n",
       "доход до 100 тысяч                     4109                      92.1%  \n",
       "доход от 150 до 200 тысяч              4359                      91.5%  \n",
       "доход от 100 до 150 тысяч              6536                      91.3%  "
      ]
     },
     "metadata": {},
     "output_type": "display_data"
    }
   ],
   "source": [
    "data_income = deepcopy(data_new)\n",
    "data_income.rename(columns={'total_income_cat': 'Категория дохода', 'debt': 'Всего долгов'}, inplace=True)\n",
    "t_1 = pd.pivot_table(data_income, index='Категория дохода', values='Всего долгов', aggfunc='count')\n",
    "t_2 = pd.pivot_table(data_income, index='Категория дохода', values='Всего долгов', aggfunc='sum')\n",
    "dept_income = t_1\n",
    "dept_income['Не выплачено долгов'] = t_2['Всего долгов']\n",
    "dept_income['Выплачено долгов'] = dept_income['Всего долгов'] - dept_income['Не выплачено долгов']\n",
    "dept_income['Процент выплаченных долгов'] = dept_income['Выплачено долгов'] / dept_income['Всего долгов']\n",
    "dept_income['Процент выплаченных долгов'] = dept_income['Процент выплаченных долгов'].mul(100).round(1).astype(str).add('%')\n",
    "dept_income = dept_income.sort_values(by='Процент выплаченных долгов', ascending=False) \n",
    "display(dept_income)"
   ]
  },
  {
   "cell_type": "markdown",
   "metadata": {},
   "source": [
    "Составлю график по процентам выплаченных долгов."
   ]
  },
  {
   "cell_type": "code",
   "execution_count": 43,
   "metadata": {},
   "outputs": [
    {
     "data": {
      "text/plain": [
       "Text(0, 0.5, 'Уровень дохода')"
      ]
     },
     "execution_count": 43,
     "metadata": {},
     "output_type": "execute_result"
    },
    {
     "data": {
      "image/png": "[encoded data removed]",
      "text/plain": [
       "<Figure size 432x288 with 1 Axes>"
      ]
     },
     "metadata": {
      "needs_background": "light"
     },
     "output_type": "display_data"
    }
   ],
   "source": [
    "seaborn.barplot(y=['Доход от 250 тысяч', 'Доход от 200 до 250 тысяч', 'Доход до 100 тысяч', 'Доход от 150 до 200 тысяч', 'Доход от 100 до 150 тысяч'], x=[93.1, 92.7, 92.1, 91.5, 91.3]);\n",
    "plt.title('Процент выплаченных кредитов по уровню дохода')\n",
    "plt.xlabel('Выплаченные кредиты, %')\n",
    "plt.ylabel('Уровень дохода')"
   ]
  },
  {
   "cell_type": "markdown",
   "metadata": {},
   "source": [
    "**Вывод**"
   ]
  },
  {
   "cell_type": "markdown",
   "metadata": {},
   "source": [
    "Проценты выплаченных кредитов по уровню дохода распределился следующим образом:\n",
    "<br>\n",
    "<br>\n",
    "Доход от 250 тысяч - 93,1%\n",
    "<br>\n",
    "Доход от 200 до 250 тысяч - 92,7%\n",
    "<br>\n",
    "Доход до 100 тысяч - 92,1%\n",
    "<br>\n",
    "Доход от 150 до 200 тысяч - 91,5%\n",
    "<br>\n",
    "Доход от 100 до 150 тысяч - 91,3%\n",
    "<br>\n",
    "<br>\n",
    "- Проценты выплаченных кредитов по уровню дохода ожидаемо выше у тех, кто больше зарабатывает, что логично - чем больше свободных денег, тем вороятнее выплатить кредит в срок.\n",
    "<br>\n",
    "- Неожиданно в середине графика оказалась категория людей с доходом ниже 100000 рублей. Вероятно, люди с таким доходом ответственнее подходят к выбору кредита оценивая свои возможности по его погашению."
   ]
  },
  {
   "cell_type": "markdown",
   "metadata": {},
   "source": [
    "**Как разные цели кредита влияют на его возврат в срок?**"
   ]
  },
  {
   "cell_type": "markdown",
   "metadata": {},
   "source": [
    "Сведу полученные данные в таблицу для наглядности."
   ]
  },
  {
   "cell_type": "code",
   "execution_count": 44,
   "metadata": {},
   "outputs": [
    {
     "data": {
      "text/html": [
       "<div>\n",
       "<style scoped>\n",
       "    .dataframe tbody tr th:only-of-type {\n",
       "        vertical-align: middle;\n",
       "    }\n",
       "\n",
       "    .dataframe tbody tr th {\n",
       "        vertical-align: top;\n",
       "    }\n",
       "\n",
       "    .dataframe thead th {\n",
       "        text-align: right;\n",
       "    }\n",
       "</style>\n",
       "<table border=\"1\" class=\"dataframe\">\n",
       "  <thead>\n",
       "    <tr style=\"text-align: right;\">\n",
       "      <th></th>\n",
       "      <th>Всего долгов</th>\n",
       "      <th>Не выплачено долгов</th>\n",
       "      <th>Выплачено долгов</th>\n",
       "      <th>Процент выплаченных долгов</th>\n",
       "    </tr>\n",
       "    <tr>\n",
       "      <th>Цель кредита</th>\n",
       "      <th></th>\n",
       "      <th></th>\n",
       "      <th></th>\n",
       "      <th></th>\n",
       "    </tr>\n",
       "  </thead>\n",
       "  <tbody>\n",
       "    <tr>\n",
       "      <th>кредит на недвижимость</th>\n",
       "      <td>10176</td>\n",
       "      <td>740</td>\n",
       "      <td>9436</td>\n",
       "      <td>92.7%</td>\n",
       "    </tr>\n",
       "    <tr>\n",
       "      <th>кредит на свадьбу</th>\n",
       "      <td>2324</td>\n",
       "      <td>186</td>\n",
       "      <td>2138</td>\n",
       "      <td>92.0%</td>\n",
       "    </tr>\n",
       "    <tr>\n",
       "      <th>кредит на автомобиль</th>\n",
       "      <td>4941</td>\n",
       "      <td>445</td>\n",
       "      <td>4496</td>\n",
       "      <td>91.0%</td>\n",
       "    </tr>\n",
       "    <tr>\n",
       "      <th>кредит на образование</th>\n",
       "      <td>4013</td>\n",
       "      <td>370</td>\n",
       "      <td>3643</td>\n",
       "      <td>90.8%</td>\n",
       "    </tr>\n",
       "  </tbody>\n",
       "</table>\n",
       "</div>"
      ],
      "text/plain": [
       "                        Всего долгов  Не выплачено долгов  Выплачено долгов  \\\n",
       "Цель кредита                                                                  \n",
       "кредит на недвижимость         10176                  740              9436   \n",
       "кредит на свадьбу               2324                  186              2138   \n",
       "кредит на автомобиль            4941                  445              4496   \n",
       "кредит на образование           4013                  370              3643   \n",
       "\n",
       "                       Процент выплаченных долгов  \n",
       "Цель кредита                                       \n",
       "кредит на недвижимость                      92.7%  \n",
       "кредит на свадьбу                           92.0%  \n",
       "кредит на автомобиль                        91.0%  \n",
       "кредит на образование                       90.8%  "
      ]
     },
     "metadata": {},
     "output_type": "display_data"
    }
   ],
   "source": [
    "data_purpose = deepcopy(data_new)\n",
    "data_purpose.rename(columns={'purpose_cat': 'Цель кредита', 'debt': 'Всего долгов'}, inplace=True)\n",
    "t_1 = pd.pivot_table(data_purpose, index='Цель кредита', values='Всего долгов', aggfunc='count')\n",
    "t_2 = pd.pivot_table(data_purpose, index='Цель кредита', values='Всего долгов', aggfunc='sum')\n",
    "dept_purpose = t_1\n",
    "dept_purpose['Не выплачено долгов'] = t_2['Всего долгов']\n",
    "dept_purpose['Выплачено долгов'] = dept_purpose['Всего долгов'] - dept_purpose['Не выплачено долгов']\n",
    "dept_purpose['Процент выплаченных долгов'] = dept_purpose['Выплачено долгов'] / dept_purpose['Всего долгов']\n",
    "dept_purpose['Процент выплаченных долгов'] = dept_purpose['Процент выплаченных долгов'].mul(100).round(1).astype(str).add('%')\n",
    "dept_purpose = dept_purpose.sort_values(by='Процент выплаченных долгов', ascending=False) \n",
    "display(dept_purpose)"
   ]
  },
  {
   "cell_type": "markdown",
   "metadata": {},
   "source": [
    "Составлю график по процентам выплаченных долгов."
   ]
  },
  {
   "cell_type": "code",
   "execution_count": 45,
   "metadata": {},
   "outputs": [
    {
     "data": {
      "text/plain": [
       "Text(0, 0.5, 'Цель кредита')"
      ]
     },
     "execution_count": 45,
     "metadata": {},
     "output_type": "execute_result"
    },
    {
     "data": {
      "image/png": "[encoded data removed]",
      "text/plain": [
       "<Figure size 432x288 with 1 Axes>"
      ]
     },
     "metadata": {
      "needs_background": "light"
     },
     "output_type": "display_data"
    }
   ],
   "source": [
    "seaborn.barplot(y=['Кредит на недвижимость', 'Кредит на свадьбу', 'Кредит на автомобиль', 'Кредит на образование'], x=[92.7, 92.0, 91.0, 90.8]);\n",
    "plt.title('Процент выплаченных кредитов по целям кредита')\n",
    "plt.xlabel('Выплаченные кредиты, %')\n",
    "plt.ylabel('Цель кредита')"
   ]
  },
  {
   "cell_type": "markdown",
   "metadata": {},
   "source": [
    "**Вывод**"
   ]
  },
  {
   "cell_type": "markdown",
   "metadata": {},
   "source": [
    "Проценты выплаченных кредитов по целям кредита распределился следующим образом:\n",
    "<br>\n",
    "<br>\n",
    "Кредит на недвижимость - 92,7%\n",
    "<br>\n",
    "Кредит на свадьбу - 92,0%\n",
    "<br>\n",
    "Кредит на автомобиль - 91,0%\n",
    "<br>\n",
    "Кредит на образование - 90,8%\n",
    "<br>\n",
    "<br>\n",
    "- Кредит на приобретение недвижимости, или различных манипуляций с недвижимостью имеет наивысший процент выплачиваемости, так как оформление кредита такого типа ответственный шаг и как правило при наличии рисков потерять возможность вносить выплаты, такой кредит не берут.\n",
    "<br>\n",
    "- Кредит на свадьбу имеет высокий процент выплат, так как он всегда берется с оглядкой на уровень дохода будущей семьи. Семья теряет возможность выплачивать данный тип кредита в случае форс-мажорных обстоятельст.\n",
    "<br>\n",
    "- Оставшиеся две позиции объединяет вероятность появления непредвиденных расходов в связи с приобретением (автомобиля, курсов повышения квалификации и пр.). К примеру дорогостоящая поломка автомобиля, отчисление с обучающих курсов и пр."
   ]
  },
  {
   "cell_type": "markdown",
   "metadata": {},
   "source": [
    "## Шаг 4. Общий вывод"
   ]
  },
  {
   "cell_type": "markdown",
   "metadata": {},
   "source": [
    "По результатам проведенного исследования можно сказать следующее:\n",
    "<br>\n",
    "Зависимость между наличием детей и возвратом кредита в срок в самом благоприятном и наименее благоприятно случае, различается на 1,8%. Это одно из двух наименьших значений, поэтому обращать внимание на данную зависимость нужно после проверки более значимых зависимостей.\n",
    "<br>\n",
    "<br>\n",
    "- Зависимость между семейным положением и возвратом кредита в срок в самом благоприятном и наименее благоприятно случае, различается на 3,2%. Это наибольшее значение, полученное в данном исследовании, поэтому при выдачи кредита на него нужно обращать наибольшее внимание.\n",
    "<br>\n",
    "- Зависимость между уровнем дохода и возвратом кредита в срок в самом благоприятном и наименее благоприятно случае, различается на 1,8%. Это второе из двух наименьших значений, поэтому обращать внимание на данную зависимость нужно после проверки более значимых зависимостей.\n",
    "<br>\n",
    "- Зависимость цели кредита и возвратом его в срок в самом благоприятном и наименее благоприятно случае, различается на 2,2%. Это второе по величине значение, полученное в данном исследовании. Поэтому на него также нужно обращать внимание при выдаче кредита.\n",
    "<br>\n",
    "- Выяснять закономерность по возрасту и по уровню образования в задачах исследования не требовалось.\n",
    "<br>\n",
    "<br>\n",
    "В заключение укажу собирательный образ наиболее ответственного человека:\n",
    "Вдовец без ребенка с доходом от 250000 рублей, берущий кредит на недвижимость.\n",
    "<br>\n",
    "Образ наименее ответственного человека:\n",
    "Человек с 1-2 ребенком, находящийся в гржданском браке с доходом от 100000 до 150000 рублей, берущий кредит на автомобиль. "
   ]
  }
 ],
 "metadata": {
  "ExecuteTimeLog": [
   {
    "duration": 934,
    "start_time": "2022-01-15T14:46:54.668Z"
   },
   {
    "duration": 15,
    "start_time": "2022-01-15T18:01:46.881Z"
   },
   {
    "duration": 16,
    "start_time": "2022-01-15T18:09:56.282Z"
   },
   {
    "duration": 14,
    "start_time": "2022-01-15T18:09:58.734Z"
   },
   {
    "duration": 27,
    "start_time": "2022-01-15T18:36:18.911Z"
   },
   {
    "duration": 13,
    "start_time": "2022-01-15T18:36:39.020Z"
   },
   {
    "duration": 6,
    "start_time": "2022-01-15T18:39:37.782Z"
   },
   {
    "duration": 11,
    "start_time": "2022-01-15T18:40:04.797Z"
   },
   {
    "duration": 10,
    "start_time": "2022-01-15T18:44:02.264Z"
   },
   {
    "duration": 2075,
    "start_time": "2022-01-15T18:55:22.930Z"
   },
   {
    "duration": 414,
    "start_time": "2022-01-15T19:03:05.824Z"
   },
   {
    "duration": 8630,
    "start_time": "2022-01-15T19:03:35.617Z"
   },
   {
    "duration": 17393,
    "start_time": "2022-01-15T19:04:05.754Z"
   },
   {
    "duration": 301,
    "start_time": "2022-01-15T19:16:48.859Z"
   },
   {
    "duration": 301,
    "start_time": "2022-01-15T19:16:57.080Z"
   },
   {
    "duration": 7,
    "start_time": "2022-01-15T19:17:05.728Z"
   },
   {
    "duration": 10,
    "start_time": "2022-01-15T19:18:09.385Z"
   },
   {
    "duration": 362,
    "start_time": "2022-01-16T11:30:04.494Z"
   },
   {
    "duration": 669,
    "start_time": "2022-01-16T11:30:08.408Z"
   },
   {
    "duration": 4,
    "start_time": "2022-01-16T11:30:12.668Z"
   },
   {
    "duration": 4,
    "start_time": "2022-01-16T11:31:22.144Z"
   },
   {
    "duration": 4,
    "start_time": "2022-01-16T11:32:00.672Z"
   },
   {
    "duration": 7,
    "start_time": "2022-01-16T11:33:01.377Z"
   },
   {
    "duration": 336,
    "start_time": "2022-01-16T11:33:38.776Z"
   },
   {
    "duration": 312,
    "start_time": "2022-01-16T11:33:51.209Z"
   },
   {
    "duration": 4,
    "start_time": "2022-01-16T11:34:34.458Z"
   },
   {
    "duration": 4,
    "start_time": "2022-01-16T11:35:00.458Z"
   },
   {
    "duration": 15,
    "start_time": "2022-01-16T11:35:34.347Z"
   },
   {
    "duration": 6,
    "start_time": "2022-01-16T11:36:41.041Z"
   },
   {
    "duration": 5,
    "start_time": "2022-01-16T11:38:13.452Z"
   },
   {
    "duration": 4,
    "start_time": "2022-01-16T11:39:09.533Z"
   },
   {
    "duration": 6,
    "start_time": "2022-01-16T11:39:53.604Z"
   },
   {
    "duration": 6,
    "start_time": "2022-01-16T11:40:02.012Z"
   },
   {
    "duration": 14,
    "start_time": "2022-01-16T11:41:29.533Z"
   },
   {
    "duration": 6,
    "start_time": "2022-01-16T11:42:33.478Z"
   },
   {
    "duration": 14,
    "start_time": "2022-01-16T11:43:53.783Z"
   },
   {
    "duration": 5,
    "start_time": "2022-01-16T11:44:45.727Z"
   },
   {
    "duration": 15,
    "start_time": "2022-01-16T11:44:58.719Z"
   },
   {
    "duration": 6,
    "start_time": "2022-01-16T11:45:24.464Z"
   },
   {
    "duration": 13,
    "start_time": "2022-01-16T11:46:02.216Z"
   },
   {
    "duration": 114,
    "start_time": "2022-01-16T11:48:50.938Z"
   },
   {
    "duration": 110,
    "start_time": "2022-01-16T11:49:21.281Z"
   },
   {
    "duration": 6,
    "start_time": "2022-01-16T11:49:27.505Z"
   },
   {
    "duration": 14,
    "start_time": "2022-01-16T11:52:31.937Z"
   },
   {
    "duration": 5,
    "start_time": "2022-01-16T11:54:38.540Z"
   },
   {
    "duration": 5,
    "start_time": "2022-01-16T11:54:50.857Z"
   },
   {
    "duration": 17,
    "start_time": "2022-01-16T11:55:23.221Z"
   },
   {
    "duration": 4,
    "start_time": "2022-01-16T12:02:13.804Z"
   },
   {
    "duration": 4281,
    "start_time": "2022-01-16T12:02:42.541Z"
   },
   {
    "duration": 5,
    "start_time": "2022-01-16T12:03:38.147Z"
   },
   {
    "duration": 336,
    "start_time": "2022-01-16T12:04:01.670Z"
   },
   {
    "duration": 110,
    "start_time": "2022-01-16T12:09:21.824Z"
   },
   {
    "duration": 273,
    "start_time": "2022-01-16T12:11:25.827Z"
   },
   {
    "duration": 6,
    "start_time": "2022-01-16T12:11:46.147Z"
   },
   {
    "duration": 479,
    "start_time": "2022-01-16T12:12:18.731Z"
   },
   {
    "duration": 5,
    "start_time": "2022-01-16T12:12:34.958Z"
   },
   {
    "duration": 6,
    "start_time": "2022-01-16T12:12:49.715Z"
   },
   {
    "duration": 6,
    "start_time": "2022-01-16T12:12:56.091Z"
   },
   {
    "duration": 4176,
    "start_time": "2022-01-16T12:13:42.108Z"
   },
   {
    "duration": 54,
    "start_time": "2022-01-16T12:13:54.586Z"
   },
   {
    "duration": 6,
    "start_time": "2022-01-16T12:13:58.628Z"
   },
   {
    "duration": 55,
    "start_time": "2022-01-16T12:14:17.966Z"
   },
   {
    "duration": 17,
    "start_time": "2022-01-16T12:14:22.236Z"
   },
   {
    "duration": 6,
    "start_time": "2022-01-16T12:14:44.310Z"
   },
   {
    "duration": 4,
    "start_time": "2022-01-16T12:18:29.971Z"
   },
   {
    "duration": 321,
    "start_time": "2022-01-16T13:09:06.496Z"
   },
   {
    "duration": 5,
    "start_time": "2022-01-16T13:09:14.368Z"
   },
   {
    "duration": 127,
    "start_time": "2022-01-16T13:09:20.744Z"
   },
   {
    "duration": 6,
    "start_time": "2022-01-16T13:09:34.712Z"
   },
   {
    "duration": 353,
    "start_time": "2022-01-16T13:18:36.800Z"
   },
   {
    "duration": 1416,
    "start_time": "2022-01-16T13:19:27.230Z"
   },
   {
    "duration": 22,
    "start_time": "2022-01-16T13:20:39.516Z"
   },
   {
    "duration": 22,
    "start_time": "2022-01-16T13:20:59.382Z"
   },
   {
    "duration": 23,
    "start_time": "2022-01-16T13:21:42.335Z"
   },
   {
    "duration": 56,
    "start_time": "2022-01-16T13:21:52.895Z"
   },
   {
    "duration": 2677,
    "start_time": "2022-01-16T13:22:01.504Z"
   },
   {
    "duration": 2913,
    "start_time": "2022-01-16T13:23:34.368Z"
   },
   {
    "duration": 7923,
    "start_time": "2022-01-16T13:25:16.988Z"
   },
   {
    "duration": 338,
    "start_time": "2022-01-16T13:25:54.068Z"
   },
   {
    "duration": 315,
    "start_time": "2022-01-16T13:26:13.280Z"
   },
   {
    "duration": 341,
    "start_time": "2022-01-16T13:27:29.450Z"
   },
   {
    "duration": 6,
    "start_time": "2022-01-16T13:27:40.282Z"
   },
   {
    "duration": 58,
    "start_time": "2022-01-16T13:27:44.131Z"
   },
   {
    "duration": 6,
    "start_time": "2022-01-16T13:27:51.114Z"
   },
   {
    "duration": 7372,
    "start_time": "2022-01-16T13:27:54.992Z"
   },
   {
    "duration": 327,
    "start_time": "2022-01-16T13:28:25.234Z"
   },
   {
    "duration": 314,
    "start_time": "2022-01-16T13:28:37.162Z"
   },
   {
    "duration": 8123,
    "start_time": "2022-01-16T13:29:47.306Z"
   },
   {
    "duration": 56,
    "start_time": "2022-01-16T13:34:58.860Z"
   },
   {
    "duration": 4116,
    "start_time": "2022-01-16T13:35:43.583Z"
   },
   {
    "duration": 7,
    "start_time": "2022-01-16T13:35:56.853Z"
   },
   {
    "duration": 7745,
    "start_time": "2022-01-16T13:37:07.216Z"
   },
   {
    "duration": 10,
    "start_time": "2022-01-16T13:42:44.174Z"
   },
   {
    "duration": 7759,
    "start_time": "2022-01-16T13:42:49.934Z"
   },
   {
    "duration": 101,
    "start_time": "2022-01-16T13:51:47.964Z"
   },
   {
    "duration": 113,
    "start_time": "2022-01-16T13:52:07.334Z"
   },
   {
    "duration": 112,
    "start_time": "2022-01-16T13:53:05.455Z"
   },
   {
    "duration": 7990,
    "start_time": "2022-01-16T14:06:18.079Z"
   },
   {
    "duration": 8081,
    "start_time": "2022-01-16T14:08:27.640Z"
   },
   {
    "duration": 8247,
    "start_time": "2022-01-16T14:09:10.816Z"
   },
   {
    "duration": 8484,
    "start_time": "2022-01-16T14:09:40.722Z"
   },
   {
    "duration": 8453,
    "start_time": "2022-01-16T14:12:24.883Z"
   },
   {
    "duration": 8,
    "start_time": "2022-01-16T14:12:37.273Z"
   },
   {
    "duration": 7656,
    "start_time": "2022-01-16T14:12:39.474Z"
   },
   {
    "duration": 7978,
    "start_time": "2022-01-16T14:12:51.418Z"
   },
   {
    "duration": 8138,
    "start_time": "2022-01-16T14:15:00.939Z"
   },
   {
    "duration": 7,
    "start_time": "2022-01-16T14:16:06.571Z"
   },
   {
    "duration": 124,
    "start_time": "2022-01-16T14:16:16.580Z"
   },
   {
    "duration": 350,
    "start_time": "2022-01-16T14:16:46.979Z"
   },
   {
    "duration": 7645,
    "start_time": "2022-01-16T14:17:50.956Z"
   },
   {
    "duration": 7,
    "start_time": "2022-01-16T14:22:34.564Z"
   },
   {
    "duration": 335,
    "start_time": "2022-01-16T14:22:36.471Z"
   },
   {
    "duration": 34340,
    "start_time": "2022-01-16T14:22:59.718Z"
   },
   {
    "duration": 43948,
    "start_time": "2022-01-16T14:24:39.752Z"
   },
   {
    "duration": 7325,
    "start_time": "2022-01-16T14:27:11.523Z"
   },
   {
    "duration": 8,
    "start_time": "2022-01-16T14:28:00.201Z"
   },
   {
    "duration": 7317,
    "start_time": "2022-01-16T14:28:01.994Z"
   },
   {
    "duration": 7528,
    "start_time": "2022-01-16T14:28:42.067Z"
   },
   {
    "duration": 326,
    "start_time": "2022-01-16T14:29:20.796Z"
   },
   {
    "duration": 327,
    "start_time": "2022-01-16T14:29:37.939Z"
   },
   {
    "duration": 355,
    "start_time": "2022-01-16T14:30:08.554Z"
   },
   {
    "duration": 331,
    "start_time": "2022-01-16T14:30:31.315Z"
   },
   {
    "duration": 108,
    "start_time": "2022-01-16T14:30:52.428Z"
   },
   {
    "duration": 318,
    "start_time": "2022-01-16T14:30:56.636Z"
   },
   {
    "duration": 1912,
    "start_time": "2022-01-16T14:32:26.661Z"
   },
   {
    "duration": 1869,
    "start_time": "2022-01-16T14:32:51.843Z"
   },
   {
    "duration": 1918,
    "start_time": "2022-01-16T14:34:27.557Z"
   },
   {
    "duration": 8,
    "start_time": "2022-01-16T14:44:29.911Z"
   },
   {
    "duration": 129,
    "start_time": "2022-01-16T14:44:31.994Z"
   },
   {
    "duration": 25,
    "start_time": "2022-01-16T14:45:04.178Z"
   },
   {
    "duration": 7,
    "start_time": "2022-01-16T14:45:09.882Z"
   },
   {
    "duration": 8,
    "start_time": "2022-01-16T14:45:15.642Z"
   },
   {
    "duration": 56,
    "start_time": "2022-01-16T14:45:24.914Z"
   },
   {
    "duration": 7,
    "start_time": "2022-01-16T14:45:29.122Z"
   },
   {
    "duration": 25,
    "start_time": "2022-01-16T14:45:35.234Z"
   },
   {
    "duration": 25,
    "start_time": "2022-01-16T14:45:58.499Z"
   },
   {
    "duration": 25,
    "start_time": "2022-01-16T14:46:33.795Z"
   },
   {
    "duration": 8,
    "start_time": "2022-01-16T14:47:10.499Z"
   },
   {
    "duration": 55,
    "start_time": "2022-01-16T14:47:17.427Z"
   },
   {
    "duration": 8,
    "start_time": "2022-01-16T14:47:23.027Z"
   },
   {
    "duration": 25,
    "start_time": "2022-01-16T14:47:27.492Z"
   },
   {
    "duration": 23,
    "start_time": "2022-01-16T14:47:38.755Z"
   },
   {
    "duration": 54,
    "start_time": "2022-01-16T14:48:07.348Z"
   },
   {
    "duration": 8,
    "start_time": "2022-01-16T14:48:11.035Z"
   },
   {
    "duration": 24,
    "start_time": "2022-01-16T14:48:12.971Z"
   },
   {
    "duration": 7,
    "start_time": "2022-01-16T14:48:50.124Z"
   },
   {
    "duration": 111,
    "start_time": "2022-01-16T14:48:51.692Z"
   },
   {
    "duration": 24,
    "start_time": "2022-01-16T14:49:03.051Z"
   },
   {
    "duration": 7,
    "start_time": "2022-01-16T14:49:17.100Z"
   },
   {
    "duration": 99,
    "start_time": "2022-01-16T14:49:19.165Z"
   },
   {
    "duration": 8,
    "start_time": "2022-01-16T14:49:30.701Z"
   },
   {
    "duration": 25,
    "start_time": "2022-01-16T14:49:32.140Z"
   },
   {
    "duration": 55,
    "start_time": "2022-01-16T14:49:45.340Z"
   },
   {
    "duration": 7,
    "start_time": "2022-01-16T14:49:48.924Z"
   },
   {
    "duration": 26,
    "start_time": "2022-01-16T14:49:50.773Z"
   },
   {
    "duration": 23,
    "start_time": "2022-01-16T14:58:24.927Z"
   },
   {
    "duration": 8,
    "start_time": "2022-01-16T14:58:27.937Z"
   },
   {
    "duration": 25,
    "start_time": "2022-01-16T14:58:29.522Z"
   },
   {
    "duration": 56,
    "start_time": "2022-01-16T14:58:36.066Z"
   },
   {
    "duration": 7,
    "start_time": "2022-01-16T14:58:39.593Z"
   },
   {
    "duration": 24,
    "start_time": "2022-01-16T14:58:41.209Z"
   },
   {
    "duration": 579,
    "start_time": "2022-01-16T15:20:46.538Z"
   },
   {
    "duration": 106,
    "start_time": "2022-01-16T15:21:47.983Z"
   },
   {
    "duration": 5,
    "start_time": "2022-01-16T15:22:31.598Z"
   },
   {
    "duration": 5,
    "start_time": "2022-01-16T15:23:37.494Z"
   },
   {
    "duration": 98,
    "start_time": "2022-01-16T15:36:51.634Z"
   },
   {
    "duration": 7,
    "start_time": "2022-01-16T15:36:57.301Z"
   },
   {
    "duration": 24,
    "start_time": "2022-01-16T15:36:58.966Z"
   },
   {
    "duration": 56,
    "start_time": "2022-01-16T15:37:03.806Z"
   },
   {
    "duration": 8,
    "start_time": "2022-01-16T15:37:07.493Z"
   },
   {
    "duration": 25,
    "start_time": "2022-01-16T15:37:09.516Z"
   },
   {
    "duration": 108,
    "start_time": "2022-01-16T15:37:16.108Z"
   },
   {
    "duration": 113,
    "start_time": "2022-01-16T15:37:22.788Z"
   },
   {
    "duration": 115,
    "start_time": "2022-01-16T15:42:20.633Z"
   },
   {
    "duration": 116,
    "start_time": "2022-01-16T15:44:35.120Z"
   },
   {
    "duration": 56,
    "start_time": "2022-01-16T15:44:39.945Z"
   },
   {
    "duration": 8,
    "start_time": "2022-01-16T15:44:44.449Z"
   },
   {
    "duration": 26,
    "start_time": "2022-01-16T15:44:46.225Z"
   },
   {
    "duration": 127,
    "start_time": "2022-01-16T15:44:48.872Z"
   },
   {
    "duration": 6,
    "start_time": "2022-01-16T15:44:59.632Z"
   },
   {
    "duration": 5,
    "start_time": "2022-01-16T15:45:13.681Z"
   },
   {
    "duration": 6,
    "start_time": "2022-01-16T15:45:45.865Z"
   },
   {
    "duration": 5,
    "start_time": "2022-01-16T15:46:12.234Z"
   },
   {
    "duration": 842,
    "start_time": "2022-01-16T15:56:34.780Z"
   },
   {
    "duration": 927,
    "start_time": "2022-01-16T15:56:54.623Z"
   },
   {
    "duration": 353,
    "start_time": "2022-01-16T15:57:01.878Z"
   },
   {
    "duration": 44,
    "start_time": "2022-01-16T16:04:27.289Z"
   },
   {
    "duration": 839,
    "start_time": "2022-01-16T16:09:09.437Z"
   },
   {
    "duration": 359,
    "start_time": "2022-01-16T16:09:22.054Z"
   },
   {
    "duration": 46,
    "start_time": "2022-01-16T16:13:58.624Z"
   },
   {
    "duration": 55,
    "start_time": "2022-01-16T16:14:10.201Z"
   },
   {
    "duration": 7,
    "start_time": "2022-01-16T16:14:14.464Z"
   },
   {
    "duration": 24,
    "start_time": "2022-01-16T16:14:16.200Z"
   },
   {
    "duration": 44,
    "start_time": "2022-01-16T16:14:18.904Z"
   },
   {
    "duration": 44,
    "start_time": "2022-01-16T16:14:31.895Z"
   },
   {
    "duration": 514,
    "start_time": "2022-01-16T16:16:05.017Z"
   },
   {
    "duration": 368,
    "start_time": "2022-01-16T16:17:50.459Z"
   },
   {
    "duration": 367,
    "start_time": "2022-01-16T16:18:03.530Z"
   },
   {
    "duration": 375,
    "start_time": "2022-01-16T16:19:42.314Z"
   },
   {
    "duration": 46,
    "start_time": "2022-01-16T16:19:59.899Z"
   },
   {
    "duration": 405,
    "start_time": "2022-01-16T16:21:05.147Z"
   },
   {
    "duration": 369,
    "start_time": "2022-01-16T16:21:28.548Z"
   },
   {
    "duration": 362,
    "start_time": "2022-01-16T16:24:15.302Z"
   },
   {
    "duration": 47,
    "start_time": "2022-01-16T16:24:41.558Z"
   },
   {
    "duration": 360,
    "start_time": "2022-01-16T16:25:12.038Z"
   },
   {
    "duration": 372,
    "start_time": "2022-01-16T16:25:26.526Z"
   },
   {
    "duration": 355,
    "start_time": "2022-01-16T16:25:36.503Z"
   },
   {
    "duration": 48,
    "start_time": "2022-01-16T16:26:03.615Z"
   },
   {
    "duration": 539,
    "start_time": "2022-01-16T16:26:26.014Z"
   },
   {
    "duration": 394,
    "start_time": "2022-01-16T16:26:41.111Z"
   },
   {
    "duration": 355,
    "start_time": "2022-01-16T16:26:56.415Z"
   },
   {
    "duration": 45,
    "start_time": "2022-01-16T16:27:06.691Z"
   },
   {
    "duration": 44,
    "start_time": "2022-01-16T16:27:16.447Z"
   },
   {
    "duration": 45,
    "start_time": "2022-01-16T16:27:34.519Z"
   },
   {
    "duration": 46,
    "start_time": "2022-01-16T16:28:01.640Z"
   },
   {
    "duration": 51,
    "start_time": "2022-01-16T16:28:37.191Z"
   },
   {
    "duration": 879,
    "start_time": "2022-01-16T16:29:02.304Z"
   },
   {
    "duration": 828,
    "start_time": "2022-01-16T16:29:20.088Z"
   },
   {
    "duration": 381,
    "start_time": "2022-01-16T16:29:30.768Z"
   },
   {
    "duration": 46,
    "start_time": "2022-01-16T16:30:18.049Z"
   },
   {
    "duration": 363,
    "start_time": "2022-01-16T16:31:14.465Z"
   },
   {
    "duration": 47,
    "start_time": "2022-01-16T16:32:31.690Z"
   },
   {
    "duration": 364,
    "start_time": "2022-01-16T16:34:09.002Z"
   },
   {
    "duration": 50,
    "start_time": "2022-01-16T16:34:55.764Z"
   },
   {
    "duration": 56,
    "start_time": "2022-01-16T17:18:23.761Z"
   },
   {
    "duration": 9,
    "start_time": "2022-01-16T17:18:29.722Z"
   },
   {
    "duration": 25,
    "start_time": "2022-01-16T17:18:31.283Z"
   },
   {
    "duration": 388,
    "start_time": "2022-01-16T17:18:40.347Z"
   },
   {
    "duration": 72,
    "start_time": "2022-01-16T17:19:32.756Z"
   },
   {
    "duration": 46,
    "start_time": "2022-01-16T17:20:12.510Z"
   },
   {
    "duration": 33,
    "start_time": "2022-01-16T17:20:44.022Z"
   },
   {
    "duration": 34,
    "start_time": "2022-01-16T17:37:30.333Z"
   },
   {
    "duration": 317,
    "start_time": "2022-01-16T17:39:16.405Z"
   },
   {
    "duration": 6,
    "start_time": "2022-01-16T17:39:32.853Z"
   },
   {
    "duration": 21,
    "start_time": "2022-01-16T17:40:29.958Z"
   },
   {
    "duration": 22,
    "start_time": "2022-01-16T17:40:45.926Z"
   },
   {
    "duration": 107,
    "start_time": "2022-01-16T17:50:36.868Z"
   },
   {
    "duration": 17,
    "start_time": "2022-01-16T17:51:05.475Z"
   },
   {
    "duration": 17,
    "start_time": "2022-01-16T17:54:03.389Z"
   },
   {
    "duration": 108,
    "start_time": "2022-01-16T18:21:41.930Z"
   },
   {
    "duration": 5,
    "start_time": "2022-01-16T18:22:24.755Z"
   },
   {
    "duration": 104,
    "start_time": "2022-01-16T18:24:30.668Z"
   },
   {
    "duration": 535,
    "start_time": "2022-01-16T18:24:35.859Z"
   },
   {
    "duration": 4,
    "start_time": "2022-01-16T18:27:43.094Z"
   },
   {
    "duration": 4,
    "start_time": "2022-01-16T18:28:41.255Z"
   },
   {
    "duration": 314,
    "start_time": "2022-01-16T18:30:23.592Z"
   },
   {
    "duration": 341,
    "start_time": "2022-01-16T18:32:25.831Z"
   },
   {
    "duration": 4,
    "start_time": "2022-01-16T18:33:06.256Z"
   },
   {
    "duration": 4,
    "start_time": "2022-01-16T18:34:54.730Z"
   },
   {
    "duration": 3,
    "start_time": "2022-01-16T18:35:01.770Z"
   },
   {
    "duration": 5,
    "start_time": "2022-01-16T18:35:09.033Z"
   },
   {
    "duration": 4,
    "start_time": "2022-01-16T18:35:11.362Z"
   },
   {
    "duration": 4,
    "start_time": "2022-01-16T18:35:30.578Z"
   },
   {
    "duration": 2175,
    "start_time": "2022-01-16T18:36:44.707Z"
   },
   {
    "duration": 6,
    "start_time": "2022-01-16T18:37:26.331Z"
   },
   {
    "duration": 6,
    "start_time": "2022-01-16T18:37:45.795Z"
   },
   {
    "duration": 225,
    "start_time": "2022-01-17T08:02:05.255Z"
   },
   {
    "duration": 672,
    "start_time": "2022-01-17T08:02:12.479Z"
   },
   {
    "duration": 8,
    "start_time": "2022-01-17T08:02:19.201Z"
   },
   {
    "duration": 28,
    "start_time": "2022-01-17T08:02:20.874Z"
   },
   {
    "duration": 7,
    "start_time": "2022-01-17T08:02:23.393Z"
   },
   {
    "duration": 19,
    "start_time": "2022-01-17T08:02:24.905Z"
   },
   {
    "duration": 4,
    "start_time": "2022-01-17T08:02:27.040Z"
   },
   {
    "duration": 19,
    "start_time": "2022-01-17T08:02:28.914Z"
   },
   {
    "duration": 5,
    "start_time": "2022-01-17T08:02:31.000Z"
   },
   {
    "duration": 5,
    "start_time": "2022-01-17T08:02:32.921Z"
   },
   {
    "duration": 2297,
    "start_time": "2022-01-17T08:02:34.632Z"
   },
   {
    "duration": 7,
    "start_time": "2022-01-17T08:02:40.184Z"
   },
   {
    "duration": 7,
    "start_time": "2022-01-17T08:02:42.344Z"
   },
   {
    "duration": 8,
    "start_time": "2022-01-17T08:02:44.357Z"
   },
   {
    "duration": 8,
    "start_time": "2022-01-17T08:03:58.874Z"
   },
   {
    "duration": 233,
    "start_time": "2022-01-17T08:04:08.273Z"
   },
   {
    "duration": 7,
    "start_time": "2022-01-17T08:04:21.690Z"
   },
   {
    "duration": 13,
    "start_time": "2022-01-17T08:05:12.851Z"
   },
   {
    "duration": 18,
    "start_time": "2022-01-17T08:07:07.861Z"
   },
   {
    "duration": 26,
    "start_time": "2022-01-17T08:11:56.584Z"
   },
   {
    "duration": 26,
    "start_time": "2022-01-17T08:12:09.623Z"
   },
   {
    "duration": 27,
    "start_time": "2022-01-17T08:15:49.025Z"
   },
   {
    "duration": 60,
    "start_time": "2022-01-17T08:24:25.700Z"
   },
   {
    "duration": 58,
    "start_time": "2022-01-17T08:24:38.539Z"
   },
   {
    "duration": 5,
    "start_time": "2022-01-17T08:24:38.598Z"
   },
   {
    "duration": 15,
    "start_time": "2022-01-17T08:24:38.605Z"
   },
   {
    "duration": 20,
    "start_time": "2022-01-17T08:24:38.622Z"
   },
   {
    "duration": 6,
    "start_time": "2022-01-17T08:24:38.644Z"
   },
   {
    "duration": 15,
    "start_time": "2022-01-17T08:24:38.651Z"
   },
   {
    "duration": 28,
    "start_time": "2022-01-17T08:24:38.667Z"
   },
   {
    "duration": 14,
    "start_time": "2022-01-17T08:24:38.697Z"
   },
   {
    "duration": 15,
    "start_time": "2022-01-17T08:24:38.713Z"
   },
   {
    "duration": 4,
    "start_time": "2022-01-17T08:24:38.730Z"
   },
   {
    "duration": 17,
    "start_time": "2022-01-17T08:24:38.736Z"
   },
   {
    "duration": 45,
    "start_time": "2022-01-17T08:24:38.755Z"
   },
   {
    "duration": 16,
    "start_time": "2022-01-17T08:24:38.801Z"
   },
   {
    "duration": 25,
    "start_time": "2022-01-17T08:24:38.818Z"
   },
   {
    "duration": 5,
    "start_time": "2022-01-17T08:24:38.845Z"
   },
   {
    "duration": 43,
    "start_time": "2022-01-17T08:24:38.851Z"
   },
   {
    "duration": 4,
    "start_time": "2022-01-17T08:24:38.895Z"
   },
   {
    "duration": 20,
    "start_time": "2022-01-17T08:24:38.900Z"
   },
   {
    "duration": 4,
    "start_time": "2022-01-17T08:24:38.921Z"
   },
   {
    "duration": 14,
    "start_time": "2022-01-17T08:24:38.926Z"
   },
   {
    "duration": 2236,
    "start_time": "2022-01-17T08:24:38.942Z"
   },
   {
    "duration": 14,
    "start_time": "2022-01-17T08:24:41.179Z"
   },
   {
    "duration": 6,
    "start_time": "2022-01-17T08:24:41.196Z"
   },
   {
    "duration": 7,
    "start_time": "2022-01-17T08:24:41.203Z"
   },
   {
    "duration": 5,
    "start_time": "2022-01-17T08:24:41.212Z"
   },
   {
    "duration": 14,
    "start_time": "2022-01-17T08:24:41.218Z"
   },
   {
    "duration": 23,
    "start_time": "2022-01-17T08:24:41.233Z"
   },
   {
    "duration": 57,
    "start_time": "2022-01-17T08:24:41.257Z"
   },
   {
    "duration": 183,
    "start_time": "2022-01-17T08:31:02.312Z"
   },
   {
    "duration": 192,
    "start_time": "2022-01-17T08:33:28.061Z"
   },
   {
    "duration": 652,
    "start_time": "2022-01-17T08:38:28.128Z"
   },
   {
    "duration": 61,
    "start_time": "2022-01-17T08:42:34.425Z"
   },
   {
    "duration": 7,
    "start_time": "2022-01-17T08:42:34.488Z"
   },
   {
    "duration": 8,
    "start_time": "2022-01-17T08:42:34.497Z"
   },
   {
    "duration": 18,
    "start_time": "2022-01-17T08:42:34.507Z"
   },
   {
    "duration": 5,
    "start_time": "2022-01-17T08:42:34.527Z"
   },
   {
    "duration": 15,
    "start_time": "2022-01-17T08:42:34.534Z"
   },
   {
    "duration": 42,
    "start_time": "2022-01-17T08:42:34.550Z"
   },
   {
    "duration": 14,
    "start_time": "2022-01-17T08:42:34.595Z"
   },
   {
    "duration": 16,
    "start_time": "2022-01-17T08:42:34.611Z"
   },
   {
    "duration": 6,
    "start_time": "2022-01-17T08:42:34.628Z"
   },
   {
    "duration": 17,
    "start_time": "2022-01-17T08:42:34.636Z"
   },
   {
    "duration": 45,
    "start_time": "2022-01-17T08:42:34.655Z"
   },
   {
    "duration": 8,
    "start_time": "2022-01-17T08:42:34.702Z"
   },
   {
    "duration": 25,
    "start_time": "2022-01-17T08:42:34.712Z"
   },
   {
    "duration": 5,
    "start_time": "2022-01-17T08:42:34.739Z"
   },
   {
    "duration": 47,
    "start_time": "2022-01-17T08:42:34.745Z"
   },
   {
    "duration": 3,
    "start_time": "2022-01-17T08:42:34.794Z"
   },
   {
    "duration": 23,
    "start_time": "2022-01-17T08:42:34.799Z"
   },
   {
    "duration": 3,
    "start_time": "2022-01-17T08:42:34.824Z"
   },
   {
    "duration": 7,
    "start_time": "2022-01-17T08:42:34.829Z"
   },
   {
    "duration": 2531,
    "start_time": "2022-01-17T08:42:34.838Z"
   },
   {
    "duration": 6,
    "start_time": "2022-01-17T08:42:37.371Z"
   },
   {
    "duration": 23,
    "start_time": "2022-01-17T08:42:37.379Z"
   },
   {
    "duration": 15,
    "start_time": "2022-01-17T08:42:37.404Z"
   },
   {
    "duration": 13,
    "start_time": "2022-01-17T08:42:37.421Z"
   },
   {
    "duration": 29,
    "start_time": "2022-01-17T08:42:37.436Z"
   },
   {
    "duration": 24,
    "start_time": "2022-01-17T08:42:37.467Z"
   },
   {
    "duration": 40,
    "start_time": "2022-01-17T08:42:37.493Z"
   },
   {
    "duration": 662,
    "start_time": "2022-01-17T08:42:37.535Z"
   },
   {
    "duration": 11,
    "start_time": "2022-01-17T08:43:43.180Z"
   },
   {
    "duration": 10,
    "start_time": "2022-01-17T08:49:02.535Z"
   },
   {
    "duration": 9,
    "start_time": "2022-01-17T08:49:07.542Z"
   },
   {
    "duration": 59,
    "start_time": "2022-01-17T08:50:29.464Z"
   },
   {
    "duration": 11,
    "start_time": "2022-01-17T08:50:42.440Z"
   },
   {
    "duration": 10,
    "start_time": "2022-01-17T08:51:26.529Z"
   },
   {
    "duration": 25,
    "start_time": "2022-01-17T09:19:26.514Z"
   },
   {
    "duration": 75,
    "start_time": "2022-01-17T09:21:29.354Z"
   },
   {
    "duration": 5,
    "start_time": "2022-01-17T09:21:29.431Z"
   },
   {
    "duration": 6,
    "start_time": "2022-01-17T09:21:29.438Z"
   },
   {
    "duration": 13,
    "start_time": "2022-01-17T09:21:29.446Z"
   },
   {
    "duration": 5,
    "start_time": "2022-01-17T09:21:29.492Z"
   },
   {
    "duration": 16,
    "start_time": "2022-01-17T09:21:29.500Z"
   },
   {
    "duration": 7,
    "start_time": "2022-01-17T09:21:29.519Z"
   },
   {
    "duration": 15,
    "start_time": "2022-01-17T09:21:29.529Z"
   },
   {
    "duration": 53,
    "start_time": "2022-01-17T09:21:29.546Z"
   },
   {
    "duration": 7,
    "start_time": "2022-01-17T09:21:29.601Z"
   },
   {
    "duration": 19,
    "start_time": "2022-01-17T09:21:29.609Z"
   },
   {
    "duration": 11,
    "start_time": "2022-01-17T09:21:29.630Z"
   },
   {
    "duration": 9,
    "start_time": "2022-01-17T09:21:29.643Z"
   },
   {
    "duration": 28,
    "start_time": "2022-01-17T09:21:29.692Z"
   },
   {
    "duration": 9,
    "start_time": "2022-01-17T09:21:29.722Z"
   },
   {
    "duration": 21,
    "start_time": "2022-01-17T09:21:29.733Z"
   },
   {
    "duration": 4,
    "start_time": "2022-01-17T09:21:29.756Z"
   },
   {
    "duration": 48,
    "start_time": "2022-01-17T09:21:29.762Z"
   },
   {
    "duration": 4,
    "start_time": "2022-01-17T09:21:29.812Z"
   },
   {
    "duration": 8,
    "start_time": "2022-01-17T09:21:29.817Z"
   },
   {
    "duration": 2314,
    "start_time": "2022-01-17T09:21:29.827Z"
   },
   {
    "duration": 6,
    "start_time": "2022-01-17T09:21:32.142Z"
   },
   {
    "duration": 20,
    "start_time": "2022-01-17T09:21:32.151Z"
   },
   {
    "duration": 23,
    "start_time": "2022-01-17T09:21:32.173Z"
   },
   {
    "duration": 9,
    "start_time": "2022-01-17T09:21:32.198Z"
   },
   {
    "duration": 24,
    "start_time": "2022-01-17T09:21:32.209Z"
   },
   {
    "duration": 28,
    "start_time": "2022-01-17T09:21:32.235Z"
   },
   {
    "duration": 37,
    "start_time": "2022-01-17T09:21:32.265Z"
   },
   {
    "duration": 653,
    "start_time": "2022-01-17T09:21:32.304Z"
   },
   {
    "duration": 34,
    "start_time": "2022-01-17T09:21:32.959Z"
   },
   {
    "duration": 24,
    "start_time": "2022-01-17T09:23:02.765Z"
   },
   {
    "duration": 28,
    "start_time": "2022-01-17T09:24:21.118Z"
   },
   {
    "duration": 31,
    "start_time": "2022-01-17T09:29:39.439Z"
   },
   {
    "duration": 6,
    "start_time": "2022-01-17T09:30:01.387Z"
   },
   {
    "duration": 25,
    "start_time": "2022-01-17T11:29:37.347Z"
   },
   {
    "duration": 16,
    "start_time": "2022-01-17T15:59:10.576Z"
   },
   {
    "duration": 33,
    "start_time": "2022-01-17T15:59:47.646Z"
   },
   {
    "duration": 86,
    "start_time": "2022-01-17T16:08:26.867Z"
   },
   {
    "duration": 6,
    "start_time": "2022-01-17T16:08:26.955Z"
   },
   {
    "duration": 7,
    "start_time": "2022-01-17T16:08:26.962Z"
   },
   {
    "duration": 32,
    "start_time": "2022-01-17T16:08:26.970Z"
   },
   {
    "duration": 5,
    "start_time": "2022-01-17T16:08:27.004Z"
   },
   {
    "duration": 16,
    "start_time": "2022-01-17T16:08:27.010Z"
   },
   {
    "duration": 7,
    "start_time": "2022-01-17T16:08:27.028Z"
   },
   {
    "duration": 59,
    "start_time": "2022-01-17T16:08:27.038Z"
   },
   {
    "duration": 26,
    "start_time": "2022-01-17T16:08:27.099Z"
   },
   {
    "duration": 10,
    "start_time": "2022-01-17T16:08:27.128Z"
   },
   {
    "duration": 23,
    "start_time": "2022-01-17T16:08:27.140Z"
   },
   {
    "duration": 37,
    "start_time": "2022-01-17T16:08:27.164Z"
   },
   {
    "duration": 9,
    "start_time": "2022-01-17T16:08:27.203Z"
   },
   {
    "duration": 30,
    "start_time": "2022-01-17T16:08:27.214Z"
   },
   {
    "duration": 6,
    "start_time": "2022-01-17T16:08:27.246Z"
   },
   {
    "duration": 21,
    "start_time": "2022-01-17T16:08:27.291Z"
   },
   {
    "duration": 4,
    "start_time": "2022-01-17T16:08:27.313Z"
   },
   {
    "duration": 23,
    "start_time": "2022-01-17T16:08:27.319Z"
   },
   {
    "duration": 4,
    "start_time": "2022-01-17T16:08:27.344Z"
   },
   {
    "duration": 10,
    "start_time": "2022-01-17T16:08:27.349Z"
   },
   {
    "duration": 2512,
    "start_time": "2022-01-17T16:08:27.360Z"
   },
   {
    "duration": 6,
    "start_time": "2022-01-17T16:08:29.874Z"
   },
   {
    "duration": 7,
    "start_time": "2022-01-17T16:08:29.891Z"
   },
   {
    "duration": 8,
    "start_time": "2022-01-17T16:08:29.901Z"
   },
   {
    "duration": 6,
    "start_time": "2022-01-17T16:08:29.910Z"
   },
   {
    "duration": 15,
    "start_time": "2022-01-17T16:08:29.917Z"
   },
   {
    "duration": 58,
    "start_time": "2022-01-17T16:08:29.935Z"
   },
   {
    "duration": 30,
    "start_time": "2022-01-17T16:08:29.995Z"
   },
   {
    "duration": 709,
    "start_time": "2022-01-17T16:08:30.028Z"
   },
   {
    "duration": 30,
    "start_time": "2022-01-17T16:08:30.739Z"
   },
   {
    "duration": 26,
    "start_time": "2022-01-17T16:08:30.771Z"
   },
   {
    "duration": 38,
    "start_time": "2022-01-17T16:08:30.799Z"
   },
   {
    "duration": 5,
    "start_time": "2022-01-17T16:09:06.787Z"
   },
   {
    "duration": 171,
    "start_time": "2022-01-17T16:10:13.460Z"
   },
   {
    "duration": 10,
    "start_time": "2022-01-17T16:10:24.821Z"
   },
   {
    "duration": 5,
    "start_time": "2022-01-17T16:10:27.253Z"
   },
   {
    "duration": 32,
    "start_time": "2022-01-17T16:28:35.806Z"
   },
   {
    "duration": 64158,
    "start_time": "2022-01-17T16:50:26.579Z"
   },
   {
    "duration": 2831,
    "start_time": "2022-01-17T16:52:19.610Z"
   },
   {
    "duration": 3467,
    "start_time": "2022-01-17T16:53:41.102Z"
   },
   {
    "duration": 5902,
    "start_time": "2022-01-17T16:57:01.431Z"
   },
   {
    "duration": 2742,
    "start_time": "2022-01-17T17:04:26.249Z"
   },
   {
    "duration": 2695,
    "start_time": "2022-01-17T17:05:40.084Z"
   },
   {
    "duration": 2789,
    "start_time": "2022-01-17T17:10:53.956Z"
   },
   {
    "duration": 3176,
    "start_time": "2022-01-17T17:17:17.903Z"
   },
   {
    "duration": 2859,
    "start_time": "2022-01-17T17:18:55.370Z"
   },
   {
    "duration": 2877,
    "start_time": "2022-01-17T17:19:45.123Z"
   },
   {
    "duration": 3583,
    "start_time": "2022-01-17T17:21:03.172Z"
   },
   {
    "duration": 3141,
    "start_time": "2022-01-17T17:22:46.517Z"
   },
   {
    "duration": 3210,
    "start_time": "2022-01-17T17:23:50.286Z"
   },
   {
    "duration": 3659,
    "start_time": "2022-01-17T17:25:47.479Z"
   },
   {
    "duration": 64,
    "start_time": "2022-01-17T17:26:46.413Z"
   },
   {
    "duration": 7,
    "start_time": "2022-01-17T17:26:46.479Z"
   },
   {
    "duration": 9,
    "start_time": "2022-01-17T17:26:46.488Z"
   },
   {
    "duration": 18,
    "start_time": "2022-01-17T17:26:46.499Z"
   },
   {
    "duration": 8,
    "start_time": "2022-01-17T17:26:46.519Z"
   },
   {
    "duration": 16,
    "start_time": "2022-01-17T17:26:46.529Z"
   },
   {
    "duration": 46,
    "start_time": "2022-01-17T17:26:46.547Z"
   },
   {
    "duration": 15,
    "start_time": "2022-01-17T17:26:46.596Z"
   },
   {
    "duration": 15,
    "start_time": "2022-01-17T17:26:46.613Z"
   },
   {
    "duration": 5,
    "start_time": "2022-01-17T17:26:46.630Z"
   },
   {
    "duration": 18,
    "start_time": "2022-01-17T17:26:46.637Z"
   },
   {
    "duration": 43,
    "start_time": "2022-01-17T17:26:46.657Z"
   },
   {
    "duration": 11,
    "start_time": "2022-01-17T17:26:46.703Z"
   },
   {
    "duration": 27,
    "start_time": "2022-01-17T17:26:46.716Z"
   },
   {
    "duration": 7,
    "start_time": "2022-01-17T17:26:46.744Z"
   },
   {
    "duration": 52,
    "start_time": "2022-01-17T17:26:46.752Z"
   },
   {
    "duration": 4,
    "start_time": "2022-01-17T17:26:46.806Z"
   },
   {
    "duration": 21,
    "start_time": "2022-01-17T17:26:46.812Z"
   },
   {
    "duration": 5,
    "start_time": "2022-01-17T17:26:46.835Z"
   },
   {
    "duration": 9,
    "start_time": "2022-01-17T17:26:46.841Z"
   },
   {
    "duration": 2445,
    "start_time": "2022-01-17T17:26:46.852Z"
   },
   {
    "duration": 6,
    "start_time": "2022-01-17T17:26:49.298Z"
   },
   {
    "duration": 6,
    "start_time": "2022-01-17T17:26:49.307Z"
   },
   {
    "duration": 8,
    "start_time": "2022-01-17T17:26:49.314Z"
   },
   {
    "duration": 5,
    "start_time": "2022-01-17T17:26:49.323Z"
   },
   {
    "duration": 14,
    "start_time": "2022-01-17T17:26:49.330Z"
   },
   {
    "duration": 61,
    "start_time": "2022-01-17T17:26:49.345Z"
   },
   {
    "duration": 27,
    "start_time": "2022-01-17T17:26:49.408Z"
   },
   {
    "duration": 752,
    "start_time": "2022-01-17T17:26:49.436Z"
   },
   {
    "duration": 26,
    "start_time": "2022-01-17T17:26:50.192Z"
   },
   {
    "duration": 6,
    "start_time": "2022-01-17T17:26:50.220Z"
   },
   {
    "duration": 34,
    "start_time": "2022-01-17T17:26:50.227Z"
   },
   {
    "duration": 3330,
    "start_time": "2022-01-17T17:26:50.292Z"
   },
   {
    "duration": 3170,
    "start_time": "2022-01-17T17:27:18.326Z"
   },
   {
    "duration": 2822,
    "start_time": "2022-01-17T17:29:03.096Z"
   },
   {
    "duration": 3115,
    "start_time": "2022-01-17T17:30:38.184Z"
   },
   {
    "duration": 3066,
    "start_time": "2022-01-17T17:30:54.952Z"
   },
   {
    "duration": 172,
    "start_time": "2022-01-17T17:35:30.645Z"
   },
   {
    "duration": 66,
    "start_time": "2022-01-17T17:37:31.009Z"
   },
   {
    "duration": 6,
    "start_time": "2022-01-17T17:37:31.077Z"
   },
   {
    "duration": 20,
    "start_time": "2022-01-17T17:37:31.085Z"
   },
   {
    "duration": 15,
    "start_time": "2022-01-17T17:37:31.107Z"
   },
   {
    "duration": 9,
    "start_time": "2022-01-17T17:37:31.124Z"
   },
   {
    "duration": 18,
    "start_time": "2022-01-17T17:37:31.134Z"
   },
   {
    "duration": 11,
    "start_time": "2022-01-17T17:37:31.153Z"
   },
   {
    "duration": 38,
    "start_time": "2022-01-17T17:37:31.166Z"
   },
   {
    "duration": 29,
    "start_time": "2022-01-17T17:37:31.206Z"
   },
   {
    "duration": 9,
    "start_time": "2022-01-17T17:37:31.237Z"
   },
   {
    "duration": 19,
    "start_time": "2022-01-17T17:37:31.247Z"
   },
   {
    "duration": 16,
    "start_time": "2022-01-17T17:37:31.268Z"
   },
   {
    "duration": 13,
    "start_time": "2022-01-17T17:37:31.291Z"
   },
   {
    "duration": 37,
    "start_time": "2022-01-17T17:37:31.306Z"
   },
   {
    "duration": 6,
    "start_time": "2022-01-17T17:37:31.345Z"
   },
   {
    "duration": 39,
    "start_time": "2022-01-17T17:37:31.353Z"
   },
   {
    "duration": 6,
    "start_time": "2022-01-17T17:37:31.395Z"
   },
   {
    "duration": 25,
    "start_time": "2022-01-17T17:37:31.403Z"
   },
   {
    "duration": 5,
    "start_time": "2022-01-17T17:37:31.429Z"
   },
   {
    "duration": 11,
    "start_time": "2022-01-17T17:37:31.435Z"
   },
   {
    "duration": 2363,
    "start_time": "2022-01-17T17:37:31.447Z"
   },
   {
    "duration": 5,
    "start_time": "2022-01-17T17:37:33.812Z"
   },
   {
    "duration": 8,
    "start_time": "2022-01-17T17:37:33.820Z"
   },
   {
    "duration": 7,
    "start_time": "2022-01-17T17:37:33.830Z"
   },
   {
    "duration": 5,
    "start_time": "2022-01-17T17:37:33.839Z"
   },
   {
    "duration": 16,
    "start_time": "2022-01-17T17:37:33.845Z"
   },
   {
    "duration": 53,
    "start_time": "2022-01-17T17:37:33.862Z"
   },
   {
    "duration": 42,
    "start_time": "2022-01-17T17:37:33.917Z"
   },
   {
    "duration": 698,
    "start_time": "2022-01-17T17:37:33.961Z"
   },
   {
    "duration": 47,
    "start_time": "2022-01-17T17:37:34.662Z"
   },
   {
    "duration": 7,
    "start_time": "2022-01-17T17:37:34.711Z"
   },
   {
    "duration": 37,
    "start_time": "2022-01-17T17:37:34.720Z"
   },
   {
    "duration": 61,
    "start_time": "2022-01-17T17:37:34.759Z"
   },
   {
    "duration": 740,
    "start_time": "2022-01-17T17:38:41.851Z"
   },
   {
    "duration": 780,
    "start_time": "2022-01-17T17:39:09.183Z"
   },
   {
    "duration": 753,
    "start_time": "2022-01-17T17:39:14.975Z"
   },
   {
    "duration": 3268,
    "start_time": "2022-01-17T17:39:30.238Z"
   },
   {
    "duration": 723,
    "start_time": "2022-01-17T17:41:49.295Z"
   },
   {
    "duration": 26970,
    "start_time": "2022-01-17T17:42:24.495Z"
   },
   {
    "duration": 27211,
    "start_time": "2022-01-17T17:43:17.336Z"
   },
   {
    "duration": 27814,
    "start_time": "2022-01-17T17:43:52.777Z"
   },
   {
    "duration": 3,
    "start_time": "2022-01-17T17:44:53.601Z"
   },
   {
    "duration": 7,
    "start_time": "2022-01-17T17:52:09.277Z"
   },
   {
    "duration": 4,
    "start_time": "2022-01-17T17:52:16.037Z"
   },
   {
    "duration": 3385,
    "start_time": "2022-01-17T17:53:11.950Z"
   },
   {
    "duration": 3282,
    "start_time": "2022-01-17T17:54:00.079Z"
   },
   {
    "duration": 80,
    "start_time": "2022-01-17T17:54:28.268Z"
   },
   {
    "duration": 6,
    "start_time": "2022-01-17T17:54:28.349Z"
   },
   {
    "duration": 12,
    "start_time": "2022-01-17T17:54:28.358Z"
   },
   {
    "duration": 41,
    "start_time": "2022-01-17T17:54:28.372Z"
   },
   {
    "duration": 8,
    "start_time": "2022-01-17T17:54:28.415Z"
   },
   {
    "duration": 26,
    "start_time": "2022-01-17T17:54:28.425Z"
   },
   {
    "duration": 6,
    "start_time": "2022-01-17T17:54:28.453Z"
   },
   {
    "duration": 16,
    "start_time": "2022-01-17T17:54:28.493Z"
   },
   {
    "duration": 15,
    "start_time": "2022-01-17T17:54:28.511Z"
   },
   {
    "duration": 6,
    "start_time": "2022-01-17T17:54:28.528Z"
   },
   {
    "duration": 19,
    "start_time": "2022-01-17T17:54:28.536Z"
   },
   {
    "duration": 34,
    "start_time": "2022-01-17T17:54:28.557Z"
   },
   {
    "duration": 22,
    "start_time": "2022-01-17T17:54:28.593Z"
   },
   {
    "duration": 28,
    "start_time": "2022-01-17T17:54:28.617Z"
   },
   {
    "duration": 7,
    "start_time": "2022-01-17T17:54:28.647Z"
   },
   {
    "duration": 51,
    "start_time": "2022-01-17T17:54:28.655Z"
   },
   {
    "duration": 5,
    "start_time": "2022-01-17T17:54:28.707Z"
   },
   {
    "duration": 21,
    "start_time": "2022-01-17T17:54:28.714Z"
   },
   {
    "duration": 4,
    "start_time": "2022-01-17T17:54:28.737Z"
   },
   {
    "duration": 9,
    "start_time": "2022-01-17T17:54:28.743Z"
   },
   {
    "duration": 2411,
    "start_time": "2022-01-17T17:54:28.754Z"
   },
   {
    "duration": 6,
    "start_time": "2022-01-17T17:54:31.167Z"
   },
   {
    "duration": 17,
    "start_time": "2022-01-17T17:54:31.176Z"
   },
   {
    "duration": 7,
    "start_time": "2022-01-17T17:54:31.196Z"
   },
   {
    "duration": 9,
    "start_time": "2022-01-17T17:54:31.204Z"
   },
   {
    "duration": 19,
    "start_time": "2022-01-17T17:54:31.215Z"
   },
   {
    "duration": 24,
    "start_time": "2022-01-17T17:54:31.236Z"
   },
   {
    "duration": 54,
    "start_time": "2022-01-17T17:54:31.262Z"
   },
   {
    "duration": 691,
    "start_time": "2022-01-17T17:54:31.319Z"
   },
   {
    "duration": 27,
    "start_time": "2022-01-17T17:54:32.012Z"
   },
   {
    "duration": 7,
    "start_time": "2022-01-17T17:54:32.041Z"
   },
   {
    "duration": 62,
    "start_time": "2022-01-17T17:54:32.050Z"
   },
   {
    "duration": 3,
    "start_time": "2022-01-17T17:54:32.114Z"
   },
   {
    "duration": 3096,
    "start_time": "2022-01-17T17:54:32.119Z"
   },
   {
    "duration": 3579,
    "start_time": "2022-01-17T17:56:16.892Z"
   },
   {
    "duration": 3,
    "start_time": "2022-01-17T17:57:30.552Z"
   },
   {
    "duration": 3481,
    "start_time": "2022-01-17T17:57:33.320Z"
   },
   {
    "duration": 3131,
    "start_time": "2022-01-17T17:57:47.712Z"
   },
   {
    "duration": 3261,
    "start_time": "2022-01-17T17:58:24.193Z"
   },
   {
    "duration": 3222,
    "start_time": "2022-01-17T17:58:44.282Z"
   },
   {
    "duration": 3438,
    "start_time": "2022-01-17T18:01:03.307Z"
   },
   {
    "duration": 759,
    "start_time": "2022-01-17T18:06:08.601Z"
   },
   {
    "duration": 729,
    "start_time": "2022-01-17T18:06:31.028Z"
   },
   {
    "duration": 54,
    "start_time": "2022-01-17T18:07:39.341Z"
   },
   {
    "duration": 95,
    "start_time": "2022-01-17T18:08:03.097Z"
   },
   {
    "duration": 6,
    "start_time": "2022-01-17T18:08:03.195Z"
   },
   {
    "duration": 6,
    "start_time": "2022-01-17T18:08:03.204Z"
   },
   {
    "duration": 19,
    "start_time": "2022-01-17T18:08:03.212Z"
   },
   {
    "duration": 5,
    "start_time": "2022-01-17T18:08:03.233Z"
   },
   {
    "duration": 53,
    "start_time": "2022-01-17T18:08:03.240Z"
   },
   {
    "duration": 7,
    "start_time": "2022-01-17T18:08:03.295Z"
   },
   {
    "duration": 22,
    "start_time": "2022-01-17T18:08:03.306Z"
   },
   {
    "duration": 27,
    "start_time": "2022-01-17T18:08:03.332Z"
   },
   {
    "duration": 9,
    "start_time": "2022-01-17T18:08:03.391Z"
   },
   {
    "duration": 29,
    "start_time": "2022-01-17T18:08:03.402Z"
   },
   {
    "duration": 14,
    "start_time": "2022-01-17T18:08:03.434Z"
   },
   {
    "duration": 10,
    "start_time": "2022-01-17T18:08:03.450Z"
   },
   {
    "duration": 37,
    "start_time": "2022-01-17T18:08:03.493Z"
   },
   {
    "duration": 7,
    "start_time": "2022-01-17T18:08:03.532Z"
   },
   {
    "duration": 52,
    "start_time": "2022-01-17T18:08:03.541Z"
   },
   {
    "duration": 5,
    "start_time": "2022-01-17T18:08:03.595Z"
   },
   {
    "duration": 25,
    "start_time": "2022-01-17T18:08:03.601Z"
   },
   {
    "duration": 3,
    "start_time": "2022-01-17T18:08:03.628Z"
   },
   {
    "duration": 10,
    "start_time": "2022-01-17T18:08:03.633Z"
   },
   {
    "duration": 2535,
    "start_time": "2022-01-17T18:08:03.644Z"
   },
   {
    "duration": 12,
    "start_time": "2022-01-17T18:08:06.180Z"
   },
   {
    "duration": 13,
    "start_time": "2022-01-17T18:08:06.196Z"
   },
   {
    "duration": 18,
    "start_time": "2022-01-17T18:08:06.211Z"
   },
   {
    "duration": 17,
    "start_time": "2022-01-17T18:08:06.230Z"
   },
   {
    "duration": 26,
    "start_time": "2022-01-17T18:08:06.249Z"
   },
   {
    "duration": 38,
    "start_time": "2022-01-17T18:08:06.277Z"
   },
   {
    "duration": 29,
    "start_time": "2022-01-17T18:08:06.317Z"
   },
   {
    "duration": 780,
    "start_time": "2022-01-17T18:08:06.348Z"
   },
   {
    "duration": 35,
    "start_time": "2022-01-17T18:08:07.131Z"
   },
   {
    "duration": 14,
    "start_time": "2022-01-17T18:08:07.168Z"
   },
   {
    "duration": 33,
    "start_time": "2022-01-17T18:08:07.192Z"
   },
   {
    "duration": 3,
    "start_time": "2022-01-17T18:08:07.227Z"
   },
   {
    "duration": 3119,
    "start_time": "2022-01-17T18:08:07.232Z"
   },
   {
    "duration": 51,
    "start_time": "2022-01-17T18:08:10.353Z"
   },
   {
    "duration": 56,
    "start_time": "2022-01-17T18:09:09.107Z"
   },
   {
    "duration": 721,
    "start_time": "2022-01-17T18:09:25.484Z"
   },
   {
    "duration": 870,
    "start_time": "2022-01-18T10:02:45.460Z"
   },
   {
    "duration": 8,
    "start_time": "2022-01-18T10:17:59.370Z"
   },
   {
    "duration": 10,
    "start_time": "2022-01-18T10:18:09.115Z"
   },
   {
    "duration": 23,
    "start_time": "2022-01-18T10:18:12.627Z"
   },
   {
    "duration": 12,
    "start_time": "2022-01-18T10:23:23.789Z"
   },
   {
    "duration": 20,
    "start_time": "2022-01-18T10:31:09.138Z"
   },
   {
    "duration": 7,
    "start_time": "2022-01-18T10:31:29.632Z"
   },
   {
    "duration": 19,
    "start_time": "2022-01-18T10:31:44.922Z"
   },
   {
    "duration": 20,
    "start_time": "2022-01-18T10:32:33.497Z"
   },
   {
    "duration": 9,
    "start_time": "2022-01-18T10:32:39.827Z"
   },
   {
    "duration": 24,
    "start_time": "2022-01-18T10:32:51.362Z"
   },
   {
    "duration": 9,
    "start_time": "2022-01-18T10:35:00.308Z"
   },
   {
    "duration": 6,
    "start_time": "2022-01-18T10:36:57.275Z"
   },
   {
    "duration": 14,
    "start_time": "2022-01-18T10:40:47.388Z"
   },
   {
    "duration": 12,
    "start_time": "2022-01-18T10:46:08.646Z"
   },
   {
    "duration": 45,
    "start_time": "2022-01-18T11:44:24.636Z"
   },
   {
    "duration": 8,
    "start_time": "2022-01-18T11:50:20.521Z"
   },
   {
    "duration": 41,
    "start_time": "2022-01-18T12:14:25.087Z"
   },
   {
    "duration": 24,
    "start_time": "2022-01-18T13:49:42.927Z"
   },
   {
    "duration": 23,
    "start_time": "2022-01-18T13:52:39.520Z"
   },
   {
    "duration": 23,
    "start_time": "2022-01-18T13:56:24.303Z"
   },
   {
    "duration": 34,
    "start_time": "2022-01-18T13:56:30.803Z"
   },
   {
    "duration": 4390,
    "start_time": "2022-01-18T14:07:42.462Z"
   },
   {
    "duration": 5924,
    "start_time": "2022-01-18T14:08:15.847Z"
   },
   {
    "duration": 4817,
    "start_time": "2022-01-18T14:14:18.188Z"
   },
   {
    "duration": 4657,
    "start_time": "2022-01-18T14:15:11.808Z"
   },
   {
    "duration": 4893,
    "start_time": "2022-01-18T14:15:27.277Z"
   },
   {
    "duration": 83,
    "start_time": "2022-01-18T14:16:21.437Z"
   },
   {
    "duration": 9,
    "start_time": "2022-01-18T14:16:21.524Z"
   },
   {
    "duration": 9,
    "start_time": "2022-01-18T14:16:21.566Z"
   },
   {
    "duration": 12,
    "start_time": "2022-01-18T14:16:21.579Z"
   },
   {
    "duration": 24,
    "start_time": "2022-01-18T14:16:21.594Z"
   },
   {
    "duration": 46,
    "start_time": "2022-01-18T14:16:21.621Z"
   },
   {
    "duration": 34,
    "start_time": "2022-01-18T14:16:21.669Z"
   },
   {
    "duration": 13,
    "start_time": "2022-01-18T14:16:21.707Z"
   },
   {
    "duration": 41,
    "start_time": "2022-01-18T14:16:21.723Z"
   },
   {
    "duration": 22,
    "start_time": "2022-01-18T14:16:21.767Z"
   },
   {
    "duration": 8,
    "start_time": "2022-01-18T14:16:21.792Z"
   },
   {
    "duration": 11,
    "start_time": "2022-01-18T14:16:21.803Z"
   },
   {
    "duration": 68,
    "start_time": "2022-01-18T14:16:21.817Z"
   },
   {
    "duration": 14,
    "start_time": "2022-01-18T14:16:21.888Z"
   },
   {
    "duration": 12,
    "start_time": "2022-01-18T14:16:21.905Z"
   },
   {
    "duration": 79,
    "start_time": "2022-01-18T14:16:21.921Z"
   },
   {
    "duration": 7,
    "start_time": "2022-01-18T14:16:22.003Z"
   },
   {
    "duration": 52,
    "start_time": "2022-01-18T14:16:22.013Z"
   },
   {
    "duration": 42,
    "start_time": "2022-01-18T14:16:22.067Z"
   },
   {
    "duration": 4953,
    "start_time": "2022-01-18T14:16:22.113Z"
   },
   {
    "duration": 9,
    "start_time": "2022-01-18T14:16:27.069Z"
   },
   {
    "duration": 11,
    "start_time": "2022-01-18T14:16:27.081Z"
   },
   {
    "duration": 9,
    "start_time": "2022-01-18T14:16:27.098Z"
   },
   {
    "duration": 55,
    "start_time": "2022-01-18T14:16:27.110Z"
   },
   {
    "duration": 21,
    "start_time": "2022-01-18T14:16:27.167Z"
   },
   {
    "duration": 36,
    "start_time": "2022-01-18T14:16:27.191Z"
   },
   {
    "duration": 72,
    "start_time": "2022-01-18T14:16:27.230Z"
   },
   {
    "duration": 904,
    "start_time": "2022-01-18T14:16:27.305Z"
   },
   {
    "duration": 61,
    "start_time": "2022-01-18T14:16:28.213Z"
   },
   {
    "duration": 8,
    "start_time": "2022-01-18T14:16:28.278Z"
   },
   {
    "duration": 80,
    "start_time": "2022-01-18T14:16:28.289Z"
   },
   {
    "duration": 5,
    "start_time": "2022-01-18T14:16:28.371Z"
   },
   {
    "duration": 3986,
    "start_time": "2022-01-18T14:16:28.378Z"
   },
   {
    "duration": 1647,
    "start_time": "2022-01-18T14:16:32.367Z"
   },
   {
    "duration": 4476,
    "start_time": "2022-01-18T14:16:43.854Z"
   },
   {
    "duration": 14,
    "start_time": "2022-01-18T14:27:43.244Z"
   },
   {
    "duration": 20,
    "start_time": "2022-01-18T14:27:54.476Z"
   },
   {
    "duration": 16,
    "start_time": "2022-01-18T14:27:59.380Z"
   },
   {
    "duration": 110,
    "start_time": "2022-01-18T14:28:11.660Z"
   },
   {
    "duration": 9,
    "start_time": "2022-01-18T14:28:11.773Z"
   },
   {
    "duration": 7,
    "start_time": "2022-01-18T14:28:11.785Z"
   },
   {
    "duration": 10,
    "start_time": "2022-01-18T14:28:11.795Z"
   },
   {
    "duration": 64,
    "start_time": "2022-01-18T14:28:11.807Z"
   },
   {
    "duration": 8,
    "start_time": "2022-01-18T14:28:11.874Z"
   },
   {
    "duration": 22,
    "start_time": "2022-01-18T14:28:11.885Z"
   },
   {
    "duration": 54,
    "start_time": "2022-01-18T14:28:11.911Z"
   },
   {
    "duration": 20,
    "start_time": "2022-01-18T14:28:11.969Z"
   },
   {
    "duration": 21,
    "start_time": "2022-01-18T14:28:11.992Z"
   },
   {
    "duration": 8,
    "start_time": "2022-01-18T14:28:12.015Z"
   },
   {
    "duration": 43,
    "start_time": "2022-01-18T14:28:12.026Z"
   },
   {
    "duration": 26,
    "start_time": "2022-01-18T14:28:12.072Z"
   },
   {
    "duration": 14,
    "start_time": "2022-01-18T14:28:12.101Z"
   },
   {
    "duration": 56,
    "start_time": "2022-01-18T14:28:12.118Z"
   },
   {
    "duration": 46,
    "start_time": "2022-01-18T14:28:12.177Z"
   },
   {
    "duration": 43,
    "start_time": "2022-01-18T14:28:12.227Z"
   },
   {
    "duration": 24,
    "start_time": "2022-01-18T14:28:12.274Z"
   },
   {
    "duration": 25,
    "start_time": "2022-01-18T14:28:12.301Z"
   },
   {
    "duration": 4882,
    "start_time": "2022-01-18T14:28:12.330Z"
   },
   {
    "duration": 11,
    "start_time": "2022-01-18T14:28:17.216Z"
   },
   {
    "duration": 46,
    "start_time": "2022-01-18T14:28:17.230Z"
   },
   {
    "duration": 8,
    "start_time": "2022-01-18T14:28:17.281Z"
   },
   {
    "duration": 28,
    "start_time": "2022-01-18T14:28:17.292Z"
   },
   {
    "duration": 66,
    "start_time": "2022-01-18T14:28:17.323Z"
   },
   {
    "duration": 42,
    "start_time": "2022-01-18T14:28:17.392Z"
   },
   {
    "duration": 1031,
    "start_time": "2022-01-18T14:28:17.436Z"
   },
   {
    "duration": 45,
    "start_time": "2022-01-18T14:28:18.471Z"
   },
   {
    "duration": 10,
    "start_time": "2022-01-18T14:28:18.520Z"
   },
   {
    "duration": 83,
    "start_time": "2022-01-18T14:28:18.533Z"
   },
   {
    "duration": 4,
    "start_time": "2022-01-18T14:28:18.619Z"
   },
   {
    "duration": 4562,
    "start_time": "2022-01-18T14:28:18.626Z"
   },
   {
    "duration": 1480,
    "start_time": "2022-01-18T14:28:23.191Z"
   },
   {
    "duration": 22,
    "start_time": "2022-01-18T14:34:59.905Z"
   },
   {
    "duration": 134,
    "start_time": "2022-01-18T14:35:08.105Z"
   },
   {
    "duration": 26,
    "start_time": "2022-01-18T14:35:08.242Z"
   },
   {
    "duration": 16,
    "start_time": "2022-01-18T14:35:08.271Z"
   },
   {
    "duration": 10,
    "start_time": "2022-01-18T14:35:08.291Z"
   },
   {
    "duration": 25,
    "start_time": "2022-01-18T14:35:08.304Z"
   },
   {
    "duration": 39,
    "start_time": "2022-01-18T14:35:08.332Z"
   },
   {
    "duration": 26,
    "start_time": "2022-01-18T14:35:08.374Z"
   },
   {
    "duration": 8,
    "start_time": "2022-01-18T14:35:08.404Z"
   },
   {
    "duration": 66,
    "start_time": "2022-01-18T14:35:08.414Z"
   },
   {
    "duration": 26,
    "start_time": "2022-01-18T14:35:08.483Z"
   },
   {
    "duration": 7,
    "start_time": "2022-01-18T14:35:08.511Z"
   },
   {
    "duration": 6,
    "start_time": "2022-01-18T14:35:08.520Z"
   },
   {
    "duration": 61,
    "start_time": "2022-01-18T14:35:08.529Z"
   },
   {
    "duration": 13,
    "start_time": "2022-01-18T14:35:08.593Z"
   },
   {
    "duration": 12,
    "start_time": "2022-01-18T14:35:08.609Z"
   },
   {
    "duration": 81,
    "start_time": "2022-01-18T14:35:08.623Z"
   },
   {
    "duration": 10,
    "start_time": "2022-01-18T14:35:08.707Z"
   },
   {
    "duration": 52,
    "start_time": "2022-01-18T14:35:08.719Z"
   },
   {
    "duration": 24,
    "start_time": "2022-01-18T14:35:08.775Z"
   },
   {
    "duration": 4978,
    "start_time": "2022-01-18T14:35:08.801Z"
   },
   {
    "duration": 10,
    "start_time": "2022-01-18T14:35:13.781Z"
   },
   {
    "duration": 22,
    "start_time": "2022-01-18T14:35:13.793Z"
   },
   {
    "duration": 56,
    "start_time": "2022-01-18T14:35:13.819Z"
   },
   {
    "duration": 21,
    "start_time": "2022-01-18T14:35:13.878Z"
   },
   {
    "duration": 71,
    "start_time": "2022-01-18T14:35:13.902Z"
   },
   {
    "duration": 51,
    "start_time": "2022-01-18T14:35:13.975Z"
   },
   {
    "duration": 927,
    "start_time": "2022-01-18T14:35:14.029Z"
   },
   {
    "duration": 53,
    "start_time": "2022-01-18T14:35:14.959Z"
   },
   {
    "duration": 8,
    "start_time": "2022-01-18T14:35:15.015Z"
   },
   {
    "duration": 92,
    "start_time": "2022-01-18T14:35:15.026Z"
   },
   {
    "duration": 6,
    "start_time": "2022-01-18T14:35:15.122Z"
   },
   {
    "duration": 4456,
    "start_time": "2022-01-18T14:35:15.131Z"
   },
   {
    "duration": 1962,
    "start_time": "2022-01-18T14:35:19.589Z"
   },
   {
    "duration": 7,
    "start_time": "2022-01-18T14:35:36.928Z"
   },
   {
    "duration": 12,
    "start_time": "2022-01-18T14:35:47.039Z"
   },
   {
    "duration": 871,
    "start_time": "2022-01-19T06:28:53.548Z"
   },
   {
    "duration": 13,
    "start_time": "2022-01-19T06:28:54.422Z"
   },
   {
    "duration": 6,
    "start_time": "2022-01-19T06:28:54.438Z"
   },
   {
    "duration": 14,
    "start_time": "2022-01-19T06:28:54.448Z"
   },
   {
    "duration": 22,
    "start_time": "2022-01-19T06:28:54.465Z"
   },
   {
    "duration": 7,
    "start_time": "2022-01-19T06:28:54.489Z"
   },
   {
    "duration": 22,
    "start_time": "2022-01-19T06:28:54.533Z"
   },
   {
    "duration": 7,
    "start_time": "2022-01-19T06:28:54.558Z"
   },
   {
    "duration": 19,
    "start_time": "2022-01-19T06:28:54.568Z"
   },
   {
    "duration": 62,
    "start_time": "2022-01-19T06:28:54.589Z"
   },
   {
    "duration": 10,
    "start_time": "2022-01-19T06:28:54.654Z"
   },
   {
    "duration": 6,
    "start_time": "2022-01-19T06:28:54.667Z"
   },
   {
    "duration": 65,
    "start_time": "2022-01-19T06:28:54.675Z"
   },
   {
    "duration": 13,
    "start_time": "2022-01-19T06:28:54.742Z"
   },
   {
    "duration": 13,
    "start_time": "2022-01-19T06:28:54.758Z"
   },
   {
    "duration": 80,
    "start_time": "2022-01-19T06:28:54.773Z"
   },
   {
    "duration": 9,
    "start_time": "2022-01-19T06:28:54.856Z"
   },
   {
    "duration": 22,
    "start_time": "2022-01-19T06:28:54.867Z"
   },
   {
    "duration": 62,
    "start_time": "2022-01-19T06:28:54.891Z"
   },
   {
    "duration": 4615,
    "start_time": "2022-01-19T06:28:54.956Z"
   },
   {
    "duration": 10,
    "start_time": "2022-01-19T06:28:59.574Z"
   },
   {
    "duration": 19,
    "start_time": "2022-01-19T06:28:59.586Z"
   },
   {
    "duration": 8,
    "start_time": "2022-01-19T06:28:59.634Z"
   },
   {
    "duration": 20,
    "start_time": "2022-01-19T06:28:59.645Z"
   },
   {
    "duration": 32,
    "start_time": "2022-01-19T06:28:59.668Z"
   },
   {
    "duration": 39,
    "start_time": "2022-01-19T06:28:59.733Z"
   },
   {
    "duration": 994,
    "start_time": "2022-01-19T06:28:59.774Z"
   },
   {
    "duration": 42,
    "start_time": "2022-01-19T06:29:00.771Z"
   },
   {
    "duration": 8,
    "start_time": "2022-01-19T06:29:00.832Z"
   },
   {
    "duration": 48,
    "start_time": "2022-01-19T06:29:00.842Z"
   },
   {
    "duration": 4,
    "start_time": "2022-01-19T06:29:00.893Z"
   },
   {
    "duration": 4234,
    "start_time": "2022-01-19T06:29:00.932Z"
   },
   {
    "duration": 1546,
    "start_time": "2022-01-19T06:29:05.169Z"
   },
   {
    "duration": 853,
    "start_time": "2022-01-19T08:13:50.329Z"
   },
   {
    "duration": 11,
    "start_time": "2022-01-19T08:13:51.185Z"
   },
   {
    "duration": 7,
    "start_time": "2022-01-19T08:13:51.199Z"
   },
   {
    "duration": 9,
    "start_time": "2022-01-19T08:13:51.232Z"
   },
   {
    "duration": 22,
    "start_time": "2022-01-19T08:13:51.243Z"
   },
   {
    "duration": 8,
    "start_time": "2022-01-19T08:13:51.267Z"
   },
   {
    "duration": 22,
    "start_time": "2022-01-19T08:13:51.277Z"
   },
   {
    "duration": 37,
    "start_time": "2022-01-19T08:13:51.302Z"
   },
   {
    "duration": 20,
    "start_time": "2022-01-19T08:13:51.341Z"
   },
   {
    "duration": 20,
    "start_time": "2022-01-19T08:13:51.363Z"
   },
   {
    "duration": 48,
    "start_time": "2022-01-19T08:13:51.386Z"
   },
   {
    "duration": 6,
    "start_time": "2022-01-19T08:13:51.436Z"
   },
   {
    "duration": 25,
    "start_time": "2022-01-19T08:13:51.445Z"
   },
   {
    "duration": 14,
    "start_time": "2022-01-19T08:13:51.472Z"
   },
   {
    "duration": 50,
    "start_time": "2022-01-19T08:13:51.488Z"
   },
   {
    "duration": 43,
    "start_time": "2022-01-19T08:13:51.540Z"
   },
   {
    "duration": 11,
    "start_time": "2022-01-19T08:13:51.586Z"
   },
   {
    "duration": 50,
    "start_time": "2022-01-19T08:13:51.599Z"
   },
   {
    "duration": 21,
    "start_time": "2022-01-19T08:13:51.652Z"
   },
   {
    "duration": 4625,
    "start_time": "2022-01-19T08:13:51.675Z"
   },
   {
    "duration": 10,
    "start_time": "2022-01-19T08:13:56.303Z"
   },
   {
    "duration": 19,
    "start_time": "2022-01-19T08:13:56.333Z"
   },
   {
    "duration": 12,
    "start_time": "2022-01-19T08:13:56.357Z"
   },
   {
    "duration": 18,
    "start_time": "2022-01-19T08:13:56.372Z"
   },
   {
    "duration": 85,
    "start_time": "2022-01-19T08:13:56.392Z"
   },
   {
    "duration": 63,
    "start_time": "2022-01-19T08:13:56.480Z"
   },
   {
    "duration": 939,
    "start_time": "2022-01-19T08:13:56.546Z"
   },
   {
    "duration": 68,
    "start_time": "2022-01-19T08:13:57.488Z"
   },
   {
    "duration": 7,
    "start_time": "2022-01-19T08:13:57.558Z"
   },
   {
    "duration": 80,
    "start_time": "2022-01-19T08:13:57.567Z"
   },
   {
    "duration": 4,
    "start_time": "2022-01-19T08:13:57.649Z"
   },
   {
    "duration": 4022,
    "start_time": "2022-01-19T08:13:57.655Z"
   },
   {
    "duration": 14,
    "start_time": "2022-01-19T08:14:01.680Z"
   },
   {
    "duration": 371,
    "start_time": "2022-01-19T08:14:01.697Z"
   },
   {
    "duration": 316,
    "start_time": "2022-01-19T08:16:15.409Z"
   },
   {
    "duration": 46,
    "start_time": "2022-01-19T08:16:27.387Z"
   },
   {
    "duration": 211,
    "start_time": "2022-01-19T08:22:36.046Z"
   },
   {
    "duration": 268,
    "start_time": "2022-01-19T08:33:45.211Z"
   },
   {
    "duration": 41,
    "start_time": "2022-01-19T08:34:05.910Z"
   },
   {
    "duration": 275,
    "start_time": "2022-01-19T08:34:30.220Z"
   },
   {
    "duration": 36,
    "start_time": "2022-01-19T08:34:55.684Z"
   },
   {
    "duration": 39,
    "start_time": "2022-01-19T08:35:22.717Z"
   },
   {
    "duration": 51,
    "start_time": "2022-01-19T09:36:45.699Z"
   },
   {
    "duration": 209,
    "start_time": "2022-01-19T09:36:47.820Z"
   },
   {
    "duration": 347,
    "start_time": "2022-01-19T09:50:06.427Z"
   },
   {
    "duration": 108,
    "start_time": "2022-01-19T09:50:35.179Z"
   },
   {
    "duration": 8,
    "start_time": "2022-01-19T09:50:35.290Z"
   },
   {
    "duration": 35,
    "start_time": "2022-01-19T09:50:35.301Z"
   },
   {
    "duration": 11,
    "start_time": "2022-01-19T09:50:35.339Z"
   },
   {
    "duration": 32,
    "start_time": "2022-01-19T09:50:35.353Z"
   },
   {
    "duration": 8,
    "start_time": "2022-01-19T09:50:35.388Z"
   },
   {
    "duration": 52,
    "start_time": "2022-01-19T09:50:35.398Z"
   },
   {
    "duration": 8,
    "start_time": "2022-01-19T09:50:35.453Z"
   },
   {
    "duration": 29,
    "start_time": "2022-01-19T09:50:35.464Z"
   },
   {
    "duration": 46,
    "start_time": "2022-01-19T09:50:35.496Z"
   },
   {
    "duration": 7,
    "start_time": "2022-01-19T09:50:35.545Z"
   },
   {
    "duration": 6,
    "start_time": "2022-01-19T09:50:35.555Z"
   },
   {
    "duration": 32,
    "start_time": "2022-01-19T09:50:35.563Z"
   },
   {
    "duration": 45,
    "start_time": "2022-01-19T09:50:35.597Z"
   },
   {
    "duration": 13,
    "start_time": "2022-01-19T09:50:35.645Z"
   },
   {
    "duration": 77,
    "start_time": "2022-01-19T09:50:35.660Z"
   },
   {
    "duration": 9,
    "start_time": "2022-01-19T09:50:35.739Z"
   },
   {
    "duration": 26,
    "start_time": "2022-01-19T09:50:35.750Z"
   },
   {
    "duration": 20,
    "start_time": "2022-01-19T09:50:35.778Z"
   },
   {
    "duration": 4683,
    "start_time": "2022-01-19T09:50:35.801Z"
   },
   {
    "duration": 9,
    "start_time": "2022-01-19T09:50:40.486Z"
   },
   {
    "duration": 40,
    "start_time": "2022-01-19T09:50:40.498Z"
   },
   {
    "duration": 17,
    "start_time": "2022-01-19T09:50:40.544Z"
   },
   {
    "duration": 18,
    "start_time": "2022-01-19T09:50:40.565Z"
   },
   {
    "duration": 74,
    "start_time": "2022-01-19T09:50:40.586Z"
   },
   {
    "duration": 41,
    "start_time": "2022-01-19T09:50:40.662Z"
   },
   {
    "duration": 947,
    "start_time": "2022-01-19T09:50:40.705Z"
   },
   {
    "duration": 48,
    "start_time": "2022-01-19T09:50:41.655Z"
   },
   {
    "duration": 28,
    "start_time": "2022-01-19T09:50:41.705Z"
   },
   {
    "duration": 53,
    "start_time": "2022-01-19T09:50:41.736Z"
   },
   {
    "duration": 4,
    "start_time": "2022-01-19T09:50:41.792Z"
   },
   {
    "duration": 4425,
    "start_time": "2022-01-19T09:50:41.798Z"
   },
   {
    "duration": 14,
    "start_time": "2022-01-19T09:50:46.233Z"
   },
   {
    "duration": 86,
    "start_time": "2022-01-19T09:50:46.250Z"
   },
   {
    "duration": 228,
    "start_time": "2022-01-19T09:50:46.338Z"
   },
   {
    "duration": 321,
    "start_time": "2022-01-19T09:50:46.569Z"
   },
   {
    "duration": -128,
    "start_time": "2022-01-19T09:50:47.021Z"
   },
   {
    "duration": -129,
    "start_time": "2022-01-19T09:50:47.025Z"
   },
   {
    "duration": 42,
    "start_time": "2022-01-19T09:51:50.916Z"
   },
   {
    "duration": 50,
    "start_time": "2022-01-19T09:53:30.014Z"
   },
   {
    "duration": 6238,
    "start_time": "2022-01-19T09:53:44.707Z"
   },
   {
    "duration": 49,
    "start_time": "2022-01-19T09:54:19.413Z"
   },
   {
    "duration": 234,
    "start_time": "2022-01-19T09:56:33.252Z"
   },
   {
    "duration": 255,
    "start_time": "2022-01-19T09:57:57.999Z"
   },
   {
    "duration": 200,
    "start_time": "2022-01-19T09:58:33.679Z"
   },
   {
    "duration": 111,
    "start_time": "2022-01-19T09:59:39.042Z"
   },
   {
    "duration": 8,
    "start_time": "2022-01-19T09:59:39.155Z"
   },
   {
    "duration": 10,
    "start_time": "2022-01-19T09:59:39.167Z"
   },
   {
    "duration": 54,
    "start_time": "2022-01-19T09:59:39.180Z"
   },
   {
    "duration": 21,
    "start_time": "2022-01-19T09:59:39.236Z"
   },
   {
    "duration": 25,
    "start_time": "2022-01-19T09:59:39.259Z"
   },
   {
    "duration": 27,
    "start_time": "2022-01-19T09:59:39.286Z"
   },
   {
    "duration": 21,
    "start_time": "2022-01-19T09:59:39.317Z"
   },
   {
    "duration": 23,
    "start_time": "2022-01-19T09:59:39.341Z"
   },
   {
    "duration": 25,
    "start_time": "2022-01-19T09:59:39.367Z"
   },
   {
    "duration": 40,
    "start_time": "2022-01-19T09:59:39.394Z"
   },
   {
    "duration": 11,
    "start_time": "2022-01-19T09:59:39.436Z"
   },
   {
    "duration": 25,
    "start_time": "2022-01-19T09:59:39.449Z"
   },
   {
    "duration": 15,
    "start_time": "2022-01-19T09:59:39.476Z"
   },
   {
    "duration": 50,
    "start_time": "2022-01-19T09:59:39.493Z"
   },
   {
    "duration": 44,
    "start_time": "2022-01-19T09:59:39.545Z"
   },
   {
    "duration": 35,
    "start_time": "2022-01-19T09:59:39.592Z"
   },
   {
    "duration": 35,
    "start_time": "2022-01-19T09:59:39.633Z"
   },
   {
    "duration": 22,
    "start_time": "2022-01-19T09:59:39.670Z"
   },
   {
    "duration": 4597,
    "start_time": "2022-01-19T09:59:39.694Z"
   },
   {
    "duration": 11,
    "start_time": "2022-01-19T09:59:44.294Z"
   },
   {
    "duration": 42,
    "start_time": "2022-01-19T09:59:44.308Z"
   },
   {
    "duration": 15,
    "start_time": "2022-01-19T09:59:44.357Z"
   },
   {
    "duration": 23,
    "start_time": "2022-01-19T09:59:44.375Z"
   },
   {
    "duration": 80,
    "start_time": "2022-01-19T09:59:44.400Z"
   },
   {
    "duration": 63,
    "start_time": "2022-01-19T09:59:44.483Z"
   },
   {
    "duration": 970,
    "start_time": "2022-01-19T09:59:44.548Z"
   },
   {
    "duration": 57,
    "start_time": "2022-01-19T09:59:45.521Z"
   },
   {
    "duration": 7,
    "start_time": "2022-01-19T09:59:45.581Z"
   },
   {
    "duration": 83,
    "start_time": "2022-01-19T09:59:45.590Z"
   },
   {
    "duration": 4,
    "start_time": "2022-01-19T09:59:45.676Z"
   },
   {
    "duration": 3959,
    "start_time": "2022-01-19T09:59:45.683Z"
   },
   {
    "duration": 14,
    "start_time": "2022-01-19T09:59:49.645Z"
   },
   {
    "duration": 84,
    "start_time": "2022-01-19T09:59:49.661Z"
   },
   {
    "duration": 241,
    "start_time": "2022-01-19T09:59:49.748Z"
   },
   {
    "duration": 67,
    "start_time": "2022-01-19T09:59:49.991Z"
   },
   {
    "duration": 320,
    "start_time": "2022-01-19T09:59:50.061Z"
   },
   {
    "duration": 50,
    "start_time": "2022-01-19T09:59:50.383Z"
   },
   {
    "duration": 38,
    "start_time": "2022-01-19T09:59:50.436Z"
   },
   {
    "duration": 218,
    "start_time": "2022-01-19T10:02:33.064Z"
   },
   {
    "duration": 85,
    "start_time": "2022-01-19T10:03:57.363Z"
   },
   {
    "duration": 472,
    "start_time": "2022-01-19T10:04:01.768Z"
   },
   {
    "duration": 115,
    "start_time": "2022-01-19T10:05:10.346Z"
   },
   {
    "duration": 11,
    "start_time": "2022-01-19T10:05:10.465Z"
   },
   {
    "duration": 6,
    "start_time": "2022-01-19T10:05:10.480Z"
   },
   {
    "duration": 48,
    "start_time": "2022-01-19T10:05:10.490Z"
   },
   {
    "duration": 21,
    "start_time": "2022-01-19T10:05:10.541Z"
   },
   {
    "duration": 8,
    "start_time": "2022-01-19T10:05:10.566Z"
   },
   {
    "duration": 63,
    "start_time": "2022-01-19T10:05:10.576Z"
   },
   {
    "duration": 7,
    "start_time": "2022-01-19T10:05:10.643Z"
   },
   {
    "duration": 22,
    "start_time": "2022-01-19T10:05:10.653Z"
   },
   {
    "duration": 23,
    "start_time": "2022-01-19T10:05:10.678Z"
   },
   {
    "duration": 7,
    "start_time": "2022-01-19T10:05:10.733Z"
   },
   {
    "duration": 10,
    "start_time": "2022-01-19T10:05:10.743Z"
   },
   {
    "duration": 27,
    "start_time": "2022-01-19T10:05:10.755Z"
   },
   {
    "duration": 49,
    "start_time": "2022-01-19T10:05:10.784Z"
   },
   {
    "duration": 14,
    "start_time": "2022-01-19T10:05:10.835Z"
   },
   {
    "duration": 43,
    "start_time": "2022-01-19T10:05:10.852Z"
   },
   {
    "duration": 39,
    "start_time": "2022-01-19T10:05:10.898Z"
   },
   {
    "duration": 25,
    "start_time": "2022-01-19T10:05:10.940Z"
   },
   {
    "duration": 23,
    "start_time": "2022-01-19T10:05:10.968Z"
   },
   {
    "duration": 4674,
    "start_time": "2022-01-19T10:05:10.993Z"
   },
   {
    "duration": 9,
    "start_time": "2022-01-19T10:05:15.670Z"
   },
   {
    "duration": 25,
    "start_time": "2022-01-19T10:05:15.682Z"
   },
   {
    "duration": 8,
    "start_time": "2022-01-19T10:05:15.735Z"
   },
   {
    "duration": 27,
    "start_time": "2022-01-19T10:05:15.747Z"
   },
   {
    "duration": 75,
    "start_time": "2022-01-19T10:05:15.778Z"
   },
   {
    "duration": 43,
    "start_time": "2022-01-19T10:05:15.856Z"
   },
   {
    "duration": 961,
    "start_time": "2022-01-19T10:05:15.902Z"
   },
   {
    "duration": 91,
    "start_time": "2022-01-19T10:05:16.866Z"
   },
   {
    "duration": 9,
    "start_time": "2022-01-19T10:05:16.961Z"
   },
   {
    "duration": 106,
    "start_time": "2022-01-19T10:05:16.973Z"
   },
   {
    "duration": 4,
    "start_time": "2022-01-19T10:05:17.081Z"
   },
   {
    "duration": 4071,
    "start_time": "2022-01-19T10:05:17.088Z"
   },
   {
    "duration": 17,
    "start_time": "2022-01-19T10:05:21.162Z"
   },
   {
    "duration": 91,
    "start_time": "2022-01-19T10:05:21.182Z"
   },
   {
    "duration": 249,
    "start_time": "2022-01-19T10:05:21.275Z"
   },
   {
    "duration": 59,
    "start_time": "2022-01-19T10:05:21.526Z"
   },
   {
    "duration": 247,
    "start_time": "2022-01-19T10:05:21.589Z"
   },
   {
    "duration": 36,
    "start_time": "2022-01-19T10:05:21.839Z"
   },
   {
    "duration": 63,
    "start_time": "2022-01-19T10:05:21.878Z"
   },
   {
    "duration": 327,
    "start_time": "2022-01-19T10:06:32.748Z"
   },
   {
    "duration": 93,
    "start_time": "2022-01-19T10:07:56.811Z"
   },
   {
    "duration": 277,
    "start_time": "2022-01-19T10:08:15.708Z"
   },
   {
    "duration": 283,
    "start_time": "2022-01-19T10:08:42.868Z"
   },
   {
    "duration": 310,
    "start_time": "2022-01-19T10:22:45.358Z"
   },
   {
    "duration": 313,
    "start_time": "2022-01-19T10:22:53.002Z"
   },
   {
    "duration": 46,
    "start_time": "2022-01-19T10:22:57.115Z"
   },
   {
    "duration": 46,
    "start_time": "2022-01-19T10:24:31.956Z"
   },
   {
    "duration": 292,
    "start_time": "2022-01-19T10:24:50.372Z"
   },
   {
    "duration": 103,
    "start_time": "2022-01-19T10:25:32.860Z"
   },
   {
    "duration": 7,
    "start_time": "2022-01-19T10:25:35.300Z"
   },
   {
    "duration": 7,
    "start_time": "2022-01-19T10:25:35.310Z"
   },
   {
    "duration": 9,
    "start_time": "2022-01-19T10:25:35.319Z"
   },
   {
    "duration": 21,
    "start_time": "2022-01-19T10:25:35.331Z"
   },
   {
    "duration": 8,
    "start_time": "2022-01-19T10:25:35.355Z"
   },
   {
    "duration": 24,
    "start_time": "2022-01-19T10:25:35.365Z"
   },
   {
    "duration": 7,
    "start_time": "2022-01-19T10:25:35.433Z"
   },
   {
    "duration": 31,
    "start_time": "2022-01-19T10:25:35.443Z"
   },
   {
    "duration": 23,
    "start_time": "2022-01-19T10:25:35.476Z"
   },
   {
    "duration": 34,
    "start_time": "2022-01-19T10:25:35.501Z"
   },
   {
    "duration": 8,
    "start_time": "2022-01-19T10:25:35.537Z"
   },
   {
    "duration": 32,
    "start_time": "2022-01-19T10:25:35.547Z"
   },
   {
    "duration": 17,
    "start_time": "2022-01-19T10:25:35.581Z"
   },
   {
    "duration": 45,
    "start_time": "2022-01-19T10:25:35.600Z"
   },
   {
    "duration": 45,
    "start_time": "2022-01-19T10:25:35.647Z"
   },
   {
    "duration": 40,
    "start_time": "2022-01-19T10:25:35.695Z"
   },
   {
    "duration": 23,
    "start_time": "2022-01-19T10:25:35.738Z"
   },
   {
    "duration": 21,
    "start_time": "2022-01-19T10:25:35.767Z"
   },
   {
    "duration": 4851,
    "start_time": "2022-01-19T10:25:35.792Z"
   },
   {
    "duration": 9,
    "start_time": "2022-01-19T10:25:40.646Z"
   },
   {
    "duration": 25,
    "start_time": "2022-01-19T10:25:40.658Z"
   },
   {
    "duration": 13,
    "start_time": "2022-01-19T10:25:40.685Z"
   },
   {
    "duration": 51,
    "start_time": "2022-01-19T10:25:40.701Z"
   },
   {
    "duration": 47,
    "start_time": "2022-01-19T10:25:40.755Z"
   },
   {
    "duration": 65,
    "start_time": "2022-01-19T10:25:40.805Z"
   },
   {
    "duration": 951,
    "start_time": "2022-01-19T10:25:40.873Z"
   },
   {
    "duration": 62,
    "start_time": "2022-01-19T10:25:41.826Z"
   },
   {
    "duration": 6,
    "start_time": "2022-01-19T10:25:41.891Z"
   },
   {
    "duration": 81,
    "start_time": "2022-01-19T10:25:41.900Z"
   },
   {
    "duration": 4,
    "start_time": "2022-01-19T10:25:41.983Z"
   },
   {
    "duration": 4394,
    "start_time": "2022-01-19T10:25:41.990Z"
   },
   {
    "duration": 13,
    "start_time": "2022-01-19T10:25:46.386Z"
   },
   {
    "duration": 77,
    "start_time": "2022-01-19T10:25:46.402Z"
   },
   {
    "duration": 448,
    "start_time": "2022-01-19T10:25:46.481Z"
   },
   {
    "duration": -204,
    "start_time": "2022-01-19T10:25:47.136Z"
   },
   {
    "duration": -208,
    "start_time": "2022-01-19T10:25:47.141Z"
   },
   {
    "duration": -210,
    "start_time": "2022-01-19T10:25:47.145Z"
   },
   {
    "duration": -213,
    "start_time": "2022-01-19T10:25:47.149Z"
   },
   {
    "duration": 429,
    "start_time": "2022-01-19T10:26:26.252Z"
   },
   {
    "duration": 241,
    "start_time": "2022-01-19T10:26:40.780Z"
   },
   {
    "duration": 58,
    "start_time": "2022-01-19T10:27:44.459Z"
   },
   {
    "duration": 275,
    "start_time": "2022-01-19T10:28:01.356Z"
   },
   {
    "duration": 129,
    "start_time": "2022-01-19T10:33:38.316Z"
   },
   {
    "duration": 48,
    "start_time": "2022-01-19T10:33:47.678Z"
   },
   {
    "duration": 50,
    "start_time": "2022-01-19T10:38:20.592Z"
   },
   {
    "duration": 51,
    "start_time": "2022-01-19T10:38:25.541Z"
   },
   {
    "duration": 59,
    "start_time": "2022-01-19T10:47:04.621Z"
   },
   {
    "duration": 105,
    "start_time": "2022-01-19T10:49:06.583Z"
   },
   {
    "duration": 8,
    "start_time": "2022-01-19T10:49:06.690Z"
   },
   {
    "duration": 34,
    "start_time": "2022-01-19T10:49:06.701Z"
   },
   {
    "duration": 9,
    "start_time": "2022-01-19T10:49:06.738Z"
   },
   {
    "duration": 21,
    "start_time": "2022-01-19T10:49:06.749Z"
   },
   {
    "duration": 7,
    "start_time": "2022-01-19T10:49:06.772Z"
   },
   {
    "duration": 68,
    "start_time": "2022-01-19T10:49:06.781Z"
   },
   {
    "duration": 8,
    "start_time": "2022-01-19T10:49:06.853Z"
   },
   {
    "duration": 22,
    "start_time": "2022-01-19T10:49:06.865Z"
   },
   {
    "duration": 52,
    "start_time": "2022-01-19T10:49:06.890Z"
   },
   {
    "duration": 9,
    "start_time": "2022-01-19T10:49:06.945Z"
   },
   {
    "duration": 7,
    "start_time": "2022-01-19T10:49:06.957Z"
   },
   {
    "duration": 65,
    "start_time": "2022-01-19T10:49:06.966Z"
   },
   {
    "duration": 13,
    "start_time": "2022-01-19T10:49:07.034Z"
   },
   {
    "duration": 14,
    "start_time": "2022-01-19T10:49:07.049Z"
   },
   {
    "duration": 75,
    "start_time": "2022-01-19T10:49:07.065Z"
   },
   {
    "duration": 9,
    "start_time": "2022-01-19T10:49:07.142Z"
   },
   {
    "duration": 26,
    "start_time": "2022-01-19T10:49:07.153Z"
   },
   {
    "duration": 54,
    "start_time": "2022-01-19T10:49:07.181Z"
   },
   {
    "duration": 4756,
    "start_time": "2022-01-19T10:49:07.237Z"
   },
   {
    "duration": 11,
    "start_time": "2022-01-19T10:49:11.995Z"
   },
   {
    "duration": 40,
    "start_time": "2022-01-19T10:49:12.008Z"
   },
   {
    "duration": 11,
    "start_time": "2022-01-19T10:49:12.053Z"
   },
   {
    "duration": 19,
    "start_time": "2022-01-19T10:49:12.067Z"
   },
   {
    "duration": 85,
    "start_time": "2022-01-19T10:49:12.088Z"
   },
   {
    "duration": 58,
    "start_time": "2022-01-19T10:49:12.175Z"
   },
   {
    "duration": 938,
    "start_time": "2022-01-19T10:49:12.235Z"
   },
   {
    "duration": 66,
    "start_time": "2022-01-19T10:49:13.176Z"
   },
   {
    "duration": 7,
    "start_time": "2022-01-19T10:49:13.244Z"
   },
   {
    "duration": 52,
    "start_time": "2022-01-19T10:49:13.253Z"
   },
   {
    "duration": 24,
    "start_time": "2022-01-19T10:49:13.308Z"
   },
   {
    "duration": 4166,
    "start_time": "2022-01-19T10:49:13.335Z"
   },
   {
    "duration": 29,
    "start_time": "2022-01-19T10:49:17.504Z"
   },
   {
    "duration": 57,
    "start_time": "2022-01-19T10:49:17.536Z"
   },
   {
    "duration": 279,
    "start_time": "2022-01-19T10:49:17.595Z"
   },
   {
    "duration": 64,
    "start_time": "2022-01-19T10:49:17.876Z"
   },
   {
    "duration": 275,
    "start_time": "2022-01-19T10:49:17.942Z"
   },
   {
    "duration": 58,
    "start_time": "2022-01-19T10:49:18.220Z"
   },
   {
    "duration": 299,
    "start_time": "2022-01-19T10:49:18.280Z"
   },
   {
    "duration": 52,
    "start_time": "2022-01-19T10:49:18.582Z"
   },
   {
    "duration": 286,
    "start_time": "2022-01-19T10:49:59.239Z"
   },
   {
    "duration": 278,
    "start_time": "2022-01-19T10:50:29.103Z"
   },
   {
    "duration": 7109,
    "start_time": "2022-01-19T11:06:14.982Z"
   },
   {
    "duration": 45,
    "start_time": "2022-01-19T11:07:11.008Z"
   },
   {
    "duration": 49,
    "start_time": "2022-01-19T11:08:19.926Z"
   },
   {
    "duration": 47,
    "start_time": "2022-01-19T11:10:05.331Z"
   },
   {
    "duration": 52,
    "start_time": "2022-01-19T11:11:19.445Z"
   },
   {
    "duration": 48,
    "start_time": "2022-01-19T11:13:13.284Z"
   },
   {
    "duration": 49,
    "start_time": "2022-01-19T11:13:36.443Z"
   },
   {
    "duration": 115,
    "start_time": "2022-01-19T11:13:58.886Z"
   },
   {
    "duration": 31,
    "start_time": "2022-01-19T11:13:59.005Z"
   },
   {
    "duration": 7,
    "start_time": "2022-01-19T11:13:59.038Z"
   },
   {
    "duration": 13,
    "start_time": "2022-01-19T11:13:59.048Z"
   },
   {
    "duration": 22,
    "start_time": "2022-01-19T11:13:59.064Z"
   },
   {
    "duration": 10,
    "start_time": "2022-01-19T11:13:59.134Z"
   },
   {
    "duration": 35,
    "start_time": "2022-01-19T11:13:59.147Z"
   },
   {
    "duration": 7,
    "start_time": "2022-01-19T11:13:59.186Z"
   },
   {
    "duration": 21,
    "start_time": "2022-01-19T11:13:59.232Z"
   },
   {
    "duration": 24,
    "start_time": "2022-01-19T11:13:59.256Z"
   },
   {
    "duration": 8,
    "start_time": "2022-01-19T11:13:59.282Z"
   },
   {
    "duration": 42,
    "start_time": "2022-01-19T11:13:59.292Z"
   },
   {
    "duration": 28,
    "start_time": "2022-01-19T11:13:59.337Z"
   },
   {
    "duration": 14,
    "start_time": "2022-01-19T11:13:59.367Z"
   },
   {
    "duration": 59,
    "start_time": "2022-01-19T11:13:59.383Z"
   },
   {
    "duration": 87,
    "start_time": "2022-01-19T11:13:59.445Z"
   },
   {
    "duration": 8,
    "start_time": "2022-01-19T11:13:59.534Z"
   },
   {
    "duration": 25,
    "start_time": "2022-01-19T11:13:59.544Z"
   },
   {
    "duration": 22,
    "start_time": "2022-01-19T11:13:59.572Z"
   },
   {
    "duration": 4807,
    "start_time": "2022-01-19T11:13:59.596Z"
   },
   {
    "duration": 26,
    "start_time": "2022-01-19T11:14:04.406Z"
   },
   {
    "duration": 19,
    "start_time": "2022-01-19T11:14:04.435Z"
   },
   {
    "duration": 11,
    "start_time": "2022-01-19T11:14:04.459Z"
   },
   {
    "duration": 19,
    "start_time": "2022-01-19T11:14:04.474Z"
   },
   {
    "duration": 83,
    "start_time": "2022-01-19T11:14:04.495Z"
   },
   {
    "duration": 59,
    "start_time": "2022-01-19T11:14:04.581Z"
   },
   {
    "duration": 963,
    "start_time": "2022-01-19T11:14:04.643Z"
   },
   {
    "duration": 60,
    "start_time": "2022-01-19T11:14:05.608Z"
   },
   {
    "duration": 6,
    "start_time": "2022-01-19T11:14:05.671Z"
   },
   {
    "duration": 80,
    "start_time": "2022-01-19T11:14:05.680Z"
   },
   {
    "duration": 4,
    "start_time": "2022-01-19T11:14:05.763Z"
   },
   {
    "duration": 4418,
    "start_time": "2022-01-19T11:14:05.770Z"
   },
   {
    "duration": 14,
    "start_time": "2022-01-19T11:14:10.191Z"
   },
   {
    "duration": 78,
    "start_time": "2022-01-19T11:14:10.207Z"
   },
   {
    "duration": 279,
    "start_time": "2022-01-19T11:14:10.288Z"
   },
   {
    "duration": 70,
    "start_time": "2022-01-19T11:14:10.570Z"
   },
   {
    "duration": 293,
    "start_time": "2022-01-19T11:14:10.643Z"
   },
   {
    "duration": 49,
    "start_time": "2022-01-19T11:14:10.938Z"
   },
   {
    "duration": 314,
    "start_time": "2022-01-19T11:14:10.989Z"
   },
   {
    "duration": 63,
    "start_time": "2022-01-19T11:14:11.305Z"
   },
   {
    "duration": 46,
    "start_time": "2022-01-19T11:14:35.268Z"
   },
   {
    "duration": 47,
    "start_time": "2022-01-19T11:15:56.693Z"
   },
   {
    "duration": 109,
    "start_time": "2022-01-19T11:39:27.099Z"
   },
   {
    "duration": 24,
    "start_time": "2022-01-19T11:39:27.211Z"
   },
   {
    "duration": 7,
    "start_time": "2022-01-19T11:39:27.238Z"
   },
   {
    "duration": 11,
    "start_time": "2022-01-19T11:39:27.248Z"
   },
   {
    "duration": 22,
    "start_time": "2022-01-19T11:39:27.261Z"
   },
   {
    "duration": 48,
    "start_time": "2022-01-19T11:39:27.286Z"
   },
   {
    "duration": 22,
    "start_time": "2022-01-19T11:39:27.336Z"
   },
   {
    "duration": 21,
    "start_time": "2022-01-19T11:39:27.361Z"
   },
   {
    "duration": 21,
    "start_time": "2022-01-19T11:39:27.384Z"
   },
   {
    "duration": 43,
    "start_time": "2022-01-19T11:39:27.407Z"
   },
   {
    "duration": 8,
    "start_time": "2022-01-19T11:39:27.453Z"
   },
   {
    "duration": 6,
    "start_time": "2022-01-19T11:39:27.463Z"
   },
   {
    "duration": 63,
    "start_time": "2022-01-19T11:39:27.472Z"
   },
   {
    "duration": 14,
    "start_time": "2022-01-19T11:39:27.538Z"
   },
   {
    "duration": 20,
    "start_time": "2022-01-19T11:39:27.554Z"
   },
   {
    "duration": 76,
    "start_time": "2022-01-19T11:39:27.577Z"
   },
   {
    "duration": 10,
    "start_time": "2022-01-19T11:39:27.656Z"
   },
   {
    "duration": 23,
    "start_time": "2022-01-19T11:39:27.669Z"
   },
   {
    "duration": 22,
    "start_time": "2022-01-19T11:39:27.733Z"
   },
   {
    "duration": 4732,
    "start_time": "2022-01-19T11:39:27.757Z"
   },
   {
    "duration": 9,
    "start_time": "2022-01-19T11:39:32.492Z"
   },
   {
    "duration": 41,
    "start_time": "2022-01-19T11:39:32.503Z"
   },
   {
    "duration": 19,
    "start_time": "2022-01-19T11:39:32.548Z"
   },
   {
    "duration": 20,
    "start_time": "2022-01-19T11:39:32.570Z"
   },
   {
    "duration": 71,
    "start_time": "2022-01-19T11:39:32.592Z"
   },
   {
    "duration": 43,
    "start_time": "2022-01-19T11:39:32.665Z"
   },
   {
    "duration": 941,
    "start_time": "2022-01-19T11:39:32.711Z"
   },
   {
    "duration": 50,
    "start_time": "2022-01-19T11:39:33.655Z"
   },
   {
    "duration": 29,
    "start_time": "2022-01-19T11:39:33.707Z"
   },
   {
    "duration": 53,
    "start_time": "2022-01-19T11:39:33.738Z"
   },
   {
    "duration": 4,
    "start_time": "2022-01-19T11:39:33.793Z"
   },
   {
    "duration": 4077,
    "start_time": "2022-01-19T11:39:33.799Z"
   },
   {
    "duration": 14,
    "start_time": "2022-01-19T11:39:37.878Z"
   },
   {
    "duration": 4,
    "start_time": "2022-01-19T11:39:37.896Z"
   },
   {
    "duration": 85,
    "start_time": "2022-01-19T11:39:37.902Z"
   },
   {
    "duration": 294,
    "start_time": "2022-01-19T11:39:37.989Z"
   },
   {
    "duration": 61,
    "start_time": "2022-01-19T11:39:38.286Z"
   },
   {
    "duration": 289,
    "start_time": "2022-01-19T11:39:38.350Z"
   },
   {
    "duration": 49,
    "start_time": "2022-01-19T11:39:38.642Z"
   },
   {
    "duration": 310,
    "start_time": "2022-01-19T11:39:38.694Z"
   },
   {
    "duration": 68,
    "start_time": "2022-01-19T11:39:39.007Z"
   },
   {
    "duration": 296,
    "start_time": "2022-01-19T11:39:39.078Z"
   },
   {
    "duration": 4095,
    "start_time": "2022-01-19T11:40:05.682Z"
   },
   {
    "duration": 14,
    "start_time": "2022-01-19T11:40:13.497Z"
   },
   {
    "duration": 4625,
    "start_time": "2022-01-19T11:40:36.771Z"
   },
   {
    "duration": 20,
    "start_time": "2022-01-19T11:40:45.065Z"
   },
   {
    "duration": 10,
    "start_time": "2022-01-19T11:42:29.980Z"
   },
   {
    "duration": 14,
    "start_time": "2022-01-19T11:42:42.162Z"
   },
   {
    "duration": 18,
    "start_time": "2022-01-19T11:43:46.340Z"
   },
   {
    "duration": 21,
    "start_time": "2022-01-19T11:45:32.268Z"
   },
   {
    "duration": 21,
    "start_time": "2022-01-19T11:46:27.877Z"
   },
   {
    "duration": 4,
    "start_time": "2022-01-19T11:46:43.300Z"
   },
   {
    "duration": 4088,
    "start_time": "2022-01-19T11:46:45.389Z"
   },
   {
    "duration": 16,
    "start_time": "2022-01-19T11:46:55.878Z"
   },
   {
    "duration": 4,
    "start_time": "2022-01-19T11:47:32.422Z"
   },
   {
    "duration": 4232,
    "start_time": "2022-01-19T11:47:33.910Z"
   },
   {
    "duration": 14,
    "start_time": "2022-01-19T11:47:41.038Z"
   },
   {
    "duration": 284,
    "start_time": "2022-01-19T11:48:18.527Z"
   },
   {
    "duration": 306,
    "start_time": "2022-01-19T11:51:46.137Z"
   },
   {
    "duration": 56,
    "start_time": "2022-01-19T12:02:52.774Z"
   },
   {
    "duration": 64,
    "start_time": "2022-01-19T12:03:51.038Z"
   },
   {
    "duration": 65,
    "start_time": "2022-01-19T12:04:04.158Z"
   },
   {
    "duration": 115,
    "start_time": "2022-01-19T12:09:37.986Z"
   },
   {
    "duration": 29,
    "start_time": "2022-01-19T12:09:38.105Z"
   },
   {
    "duration": 19,
    "start_time": "2022-01-19T12:09:38.137Z"
   },
   {
    "duration": 19,
    "start_time": "2022-01-19T12:09:38.160Z"
   },
   {
    "duration": 24,
    "start_time": "2022-01-19T12:09:38.182Z"
   },
   {
    "duration": 10,
    "start_time": "2022-01-19T12:09:38.233Z"
   },
   {
    "duration": 26,
    "start_time": "2022-01-19T12:09:38.246Z"
   },
   {
    "duration": 21,
    "start_time": "2022-01-19T12:09:38.276Z"
   },
   {
    "duration": 48,
    "start_time": "2022-01-19T12:09:38.300Z"
   },
   {
    "duration": 23,
    "start_time": "2022-01-19T12:09:38.351Z"
   },
   {
    "duration": 10,
    "start_time": "2022-01-19T12:09:38.377Z"
   },
   {
    "duration": 43,
    "start_time": "2022-01-19T12:09:38.389Z"
   },
   {
    "duration": 25,
    "start_time": "2022-01-19T12:09:38.435Z"
   },
   {
    "duration": 16,
    "start_time": "2022-01-19T12:09:38.463Z"
   },
   {
    "duration": 17,
    "start_time": "2022-01-19T12:09:38.482Z"
   },
   {
    "duration": 75,
    "start_time": "2022-01-19T12:09:38.501Z"
   },
   {
    "duration": 20,
    "start_time": "2022-01-19T12:09:38.579Z"
   },
   {
    "duration": 45,
    "start_time": "2022-01-19T12:09:38.601Z"
   },
   {
    "duration": 21,
    "start_time": "2022-01-19T12:09:38.648Z"
   },
   {
    "duration": 4666,
    "start_time": "2022-01-19T12:09:38.671Z"
   },
   {
    "duration": 10,
    "start_time": "2022-01-19T12:09:43.340Z"
   },
   {
    "duration": 24,
    "start_time": "2022-01-19T12:09:43.352Z"
   },
   {
    "duration": 15,
    "start_time": "2022-01-19T12:09:43.381Z"
   },
   {
    "duration": 46,
    "start_time": "2022-01-19T12:09:43.399Z"
   },
   {
    "duration": 51,
    "start_time": "2022-01-19T12:09:43.448Z"
   },
   {
    "duration": 66,
    "start_time": "2022-01-19T12:09:43.502Z"
   },
   {
    "duration": 949,
    "start_time": "2022-01-19T12:09:43.570Z"
   },
   {
    "duration": 56,
    "start_time": "2022-01-19T12:09:44.522Z"
   },
   {
    "duration": 6,
    "start_time": "2022-01-19T12:09:44.581Z"
   },
   {
    "duration": 83,
    "start_time": "2022-01-19T12:09:44.590Z"
   },
   {
    "duration": 4,
    "start_time": "2022-01-19T12:09:44.675Z"
   },
   {
    "duration": 4567,
    "start_time": "2022-01-19T12:09:44.681Z"
   },
   {
    "duration": 16,
    "start_time": "2022-01-19T12:09:49.251Z"
   },
   {
    "duration": 91,
    "start_time": "2022-01-19T12:09:49.270Z"
   },
   {
    "duration": 77,
    "start_time": "2022-01-19T12:09:49.364Z"
   },
   {
    "duration": 281,
    "start_time": "2022-01-19T12:09:49.443Z"
   },
   {
    "duration": 53,
    "start_time": "2022-01-19T12:09:49.734Z"
   },
   {
    "duration": 302,
    "start_time": "2022-01-19T12:09:49.790Z"
   },
   {
    "duration": 63,
    "start_time": "2022-01-19T12:09:50.095Z"
   },
   {
    "duration": 306,
    "start_time": "2022-01-19T12:09:50.160Z"
   },
   {
    "duration": 65,
    "start_time": "2022-01-19T12:09:50.469Z"
   },
   {
    "duration": 304,
    "start_time": "2022-01-19T12:09:50.536Z"
   },
   {
    "duration": 65,
    "start_time": "2022-01-19T12:14:20.755Z"
   },
   {
    "duration": 64,
    "start_time": "2022-01-19T12:14:46.643Z"
   },
   {
    "duration": 65,
    "start_time": "2022-01-19T12:14:53.115Z"
   },
   {
    "duration": 113,
    "start_time": "2022-01-19T12:14:58.821Z"
   },
   {
    "duration": 8,
    "start_time": "2022-01-19T12:14:58.937Z"
   },
   {
    "duration": 30,
    "start_time": "2022-01-19T12:14:58.949Z"
   },
   {
    "duration": 28,
    "start_time": "2022-01-19T12:14:58.981Z"
   },
   {
    "duration": 55,
    "start_time": "2022-01-19T12:14:59.011Z"
   },
   {
    "duration": 13,
    "start_time": "2022-01-19T12:14:59.069Z"
   },
   {
    "duration": 38,
    "start_time": "2022-01-19T12:14:59.084Z"
   },
   {
    "duration": 46,
    "start_time": "2022-01-19T12:14:59.128Z"
   },
   {
    "duration": 35,
    "start_time": "2022-01-19T12:14:59.178Z"
   },
   {
    "duration": 27,
    "start_time": "2022-01-19T12:14:59.216Z"
   },
   {
    "duration": 37,
    "start_time": "2022-01-19T12:14:59.246Z"
   },
   {
    "duration": 24,
    "start_time": "2022-01-19T12:14:59.286Z"
   },
   {
    "duration": 65,
    "start_time": "2022-01-19T12:14:59.312Z"
   },
   {
    "duration": 28,
    "start_time": "2022-01-19T12:14:59.380Z"
   },
   {
    "duration": 34,
    "start_time": "2022-01-19T12:14:59.411Z"
   },
   {
    "duration": 59,
    "start_time": "2022-01-19T12:14:59.447Z"
   },
   {
    "duration": 19,
    "start_time": "2022-01-19T12:14:59.509Z"
   },
   {
    "duration": 46,
    "start_time": "2022-01-19T12:14:59.530Z"
   },
   {
    "duration": 36,
    "start_time": "2022-01-19T12:14:59.578Z"
   },
   {
    "duration": 5280,
    "start_time": "2022-01-19T12:14:59.616Z"
   },
   {
    "duration": 10,
    "start_time": "2022-01-19T12:15:04.898Z"
   },
   {
    "duration": 40,
    "start_time": "2022-01-19T12:15:04.910Z"
   },
   {
    "duration": 8,
    "start_time": "2022-01-19T12:15:04.958Z"
   },
   {
    "duration": 22,
    "start_time": "2022-01-19T12:15:04.970Z"
   },
   {
    "duration": 96,
    "start_time": "2022-01-19T12:15:04.993Z"
   },
   {
    "duration": 68,
    "start_time": "2022-01-19T12:15:05.091Z"
   },
   {
    "duration": 929,
    "start_time": "2022-01-19T12:15:05.161Z"
   },
   {
    "duration": 62,
    "start_time": "2022-01-19T12:15:06.093Z"
   },
   {
    "duration": 6,
    "start_time": "2022-01-19T12:15:06.157Z"
   },
   {
    "duration": 77,
    "start_time": "2022-01-19T12:15:06.166Z"
   },
   {
    "duration": 4,
    "start_time": "2022-01-19T12:15:06.245Z"
   },
   {
    "duration": 4245,
    "start_time": "2022-01-19T12:15:06.251Z"
   },
   {
    "duration": 33,
    "start_time": "2022-01-19T12:15:10.499Z"
   },
   {
    "duration": 69,
    "start_time": "2022-01-19T12:15:10.535Z"
   },
   {
    "duration": 71,
    "start_time": "2022-01-19T12:15:10.607Z"
   },
   {
    "duration": 281,
    "start_time": "2022-01-19T12:15:10.681Z"
   },
   {
    "duration": 48,
    "start_time": "2022-01-19T12:15:10.965Z"
   },
   {
    "duration": 306,
    "start_time": "2022-01-19T12:15:11.016Z"
   },
   {
    "duration": 48,
    "start_time": "2022-01-19T12:15:11.324Z"
   },
   {
    "duration": 323,
    "start_time": "2022-01-19T12:15:11.375Z"
   },
   {
    "duration": 67,
    "start_time": "2022-01-19T12:15:11.701Z"
   },
   {
    "duration": 344,
    "start_time": "2022-01-19T12:15:11.771Z"
   },
   {
    "duration": 284,
    "start_time": "2022-01-19T12:17:54.213Z"
   },
   {
    "duration": 276,
    "start_time": "2022-01-19T12:18:01.389Z"
   },
   {
    "duration": 103,
    "start_time": "2022-01-19T12:57:42.547Z"
   },
   {
    "duration": 8,
    "start_time": "2022-01-19T12:57:42.652Z"
   },
   {
    "duration": 6,
    "start_time": "2022-01-19T12:57:42.663Z"
   },
   {
    "duration": 8,
    "start_time": "2022-01-19T12:57:42.672Z"
   },
   {
    "duration": 62,
    "start_time": "2022-01-19T12:57:42.683Z"
   },
   {
    "duration": 7,
    "start_time": "2022-01-19T12:57:42.748Z"
   },
   {
    "duration": 29,
    "start_time": "2022-01-19T12:57:42.758Z"
   },
   {
    "duration": 44,
    "start_time": "2022-01-19T12:57:42.791Z"
   },
   {
    "duration": 20,
    "start_time": "2022-01-19T12:57:42.839Z"
   },
   {
    "duration": 22,
    "start_time": "2022-01-19T12:57:42.861Z"
   },
   {
    "duration": 8,
    "start_time": "2022-01-19T12:57:42.885Z"
   },
   {
    "duration": 7,
    "start_time": "2022-01-19T12:57:42.933Z"
   },
   {
    "duration": 29,
    "start_time": "2022-01-19T12:57:42.942Z"
   },
   {
    "duration": 15,
    "start_time": "2022-01-19T12:57:42.973Z"
   },
   {
    "duration": 49,
    "start_time": "2022-01-19T12:57:42.991Z"
   },
   {
    "duration": 55,
    "start_time": "2022-01-19T12:57:43.043Z"
   },
   {
    "duration": 8,
    "start_time": "2022-01-19T12:57:43.101Z"
   },
   {
    "duration": 21,
    "start_time": "2022-01-19T12:57:43.132Z"
   },
   {
    "duration": 20,
    "start_time": "2022-01-19T12:57:43.156Z"
   },
   {
    "duration": 4730,
    "start_time": "2022-01-19T12:57:43.179Z"
   },
   {
    "duration": 25,
    "start_time": "2022-01-19T12:57:47.913Z"
   },
   {
    "duration": 21,
    "start_time": "2022-01-19T12:57:47.941Z"
   },
   {
    "duration": 14,
    "start_time": "2022-01-19T12:57:47.968Z"
   },
   {
    "duration": 56,
    "start_time": "2022-01-19T12:57:47.985Z"
   },
   {
    "duration": 53,
    "start_time": "2022-01-19T12:57:48.044Z"
   },
   {
    "duration": 69,
    "start_time": "2022-01-19T12:57:48.100Z"
   },
   {
    "duration": 978,
    "start_time": "2022-01-19T12:57:48.171Z"
   },
   {
    "duration": 48,
    "start_time": "2022-01-19T12:57:49.152Z"
   },
   {
    "duration": 33,
    "start_time": "2022-01-19T12:57:49.202Z"
   },
   {
    "duration": 56,
    "start_time": "2022-01-19T12:57:49.238Z"
   },
   {
    "duration": 37,
    "start_time": "2022-01-19T12:57:49.296Z"
   },
   {
    "duration": 4360,
    "start_time": "2022-01-19T12:57:49.336Z"
   },
   {
    "duration": 14,
    "start_time": "2022-01-19T12:57:53.698Z"
   },
   {
    "duration": 68,
    "start_time": "2022-01-19T12:57:53.733Z"
   },
   {
    "duration": 78,
    "start_time": "2022-01-19T12:57:53.804Z"
   },
   {
    "duration": 284,
    "start_time": "2022-01-19T12:57:53.885Z"
   },
   {
    "duration": 62,
    "start_time": "2022-01-19T12:57:54.172Z"
   },
   {
    "duration": 287,
    "start_time": "2022-01-19T12:57:54.236Z"
   },
   {
    "duration": 52,
    "start_time": "2022-01-19T12:57:54.526Z"
   },
   {
    "duration": 420,
    "start_time": "2022-01-19T12:57:54.580Z"
   },
   {
    "duration": 65,
    "start_time": "2022-01-19T12:57:55.002Z"
   },
   {
    "duration": 298,
    "start_time": "2022-01-19T12:57:55.069Z"
   },
   {
    "duration": 1588,
    "start_time": "2022-01-23T09:54:54.235Z"
   },
   {
    "duration": 8,
    "start_time": "2022-01-23T09:54:55.826Z"
   },
   {
    "duration": 6,
    "start_time": "2022-01-23T09:54:55.839Z"
   },
   {
    "duration": 8,
    "start_time": "2022-01-23T09:54:55.869Z"
   },
   {
    "duration": 21,
    "start_time": "2022-01-23T09:54:55.879Z"
   },
   {
    "duration": 6,
    "start_time": "2022-01-23T09:54:55.903Z"
   },
   {
    "duration": 58,
    "start_time": "2022-01-23T09:54:55.913Z"
   },
   {
    "duration": 8,
    "start_time": "2022-01-23T09:54:55.974Z"
   },
   {
    "duration": 22,
    "start_time": "2022-01-23T09:54:55.984Z"
   },
   {
    "duration": 22,
    "start_time": "2022-01-23T09:54:56.009Z"
   },
   {
    "duration": 8,
    "start_time": "2022-01-23T09:54:56.070Z"
   },
   {
    "duration": 6,
    "start_time": "2022-01-23T09:54:56.080Z"
   },
   {
    "duration": 30,
    "start_time": "2022-01-23T09:54:56.088Z"
   },
   {
    "duration": 50,
    "start_time": "2022-01-23T09:54:56.121Z"
   },
   {
    "duration": 13,
    "start_time": "2022-01-23T09:54:56.174Z"
   },
   {
    "duration": 47,
    "start_time": "2022-01-23T09:54:56.189Z"
   },
   {
    "duration": 8,
    "start_time": "2022-01-23T09:54:56.270Z"
   },
   {
    "duration": 21,
    "start_time": "2022-01-23T09:54:56.281Z"
   },
   {
    "duration": 21,
    "start_time": "2022-01-23T09:54:56.305Z"
   },
   {
    "duration": 4756,
    "start_time": "2022-01-23T09:54:56.328Z"
   },
   {
    "duration": 11,
    "start_time": "2022-01-23T09:55:01.087Z"
   },
   {
    "duration": 19,
    "start_time": "2022-01-23T09:55:01.104Z"
   },
   {
    "duration": 48,
    "start_time": "2022-01-23T09:55:01.126Z"
   },
   {
    "duration": 20,
    "start_time": "2022-01-23T09:55:01.176Z"
   },
   {
    "duration": 82,
    "start_time": "2022-01-23T09:55:01.198Z"
   },
   {
    "duration": 46,
    "start_time": "2022-01-23T09:55:01.284Z"
   },
   {
    "duration": 1052,
    "start_time": "2022-01-23T09:55:01.334Z"
   },
   {
    "duration": 50,
    "start_time": "2022-01-23T09:55:02.390Z"
   },
   {
    "duration": 7,
    "start_time": "2022-01-23T09:55:02.470Z"
   },
   {
    "duration": 53,
    "start_time": "2022-01-23T09:55:02.479Z"
   },
   {
    "duration": 4,
    "start_time": "2022-01-23T09:55:02.534Z"
   },
   {
    "duration": 3898,
    "start_time": "2022-01-23T09:55:02.540Z"
   },
   {
    "duration": 29,
    "start_time": "2022-01-23T09:55:06.440Z"
   },
   {
    "duration": 67,
    "start_time": "2022-01-23T09:55:06.472Z"
   },
   {
    "duration": 84,
    "start_time": "2022-01-23T09:55:06.541Z"
   },
   {
    "duration": 342,
    "start_time": "2022-01-23T09:55:06.627Z"
   },
   {
    "duration": 51,
    "start_time": "2022-01-23T09:55:06.971Z"
   },
   {
    "duration": 335,
    "start_time": "2022-01-23T09:55:07.024Z"
   },
   {
    "duration": 57,
    "start_time": "2022-01-23T09:55:07.361Z"
   },
   {
    "duration": 298,
    "start_time": "2022-01-23T09:55:07.420Z"
   },
   {
    "duration": 53,
    "start_time": "2022-01-23T09:55:07.720Z"
   },
   {
    "duration": 296,
    "start_time": "2022-01-23T09:55:07.776Z"
   },
   {
    "duration": 33,
    "start_time": "2022-01-23T10:00:26.891Z"
   },
   {
    "duration": 585,
    "start_time": "2022-01-23T10:01:28.438Z"
   },
   {
    "duration": 6,
    "start_time": "2022-01-23T10:01:31.876Z"
   },
   {
    "duration": 6,
    "start_time": "2022-01-23T10:01:33.921Z"
   },
   {
    "duration": 5,
    "start_time": "2022-01-23T10:01:45.494Z"
   },
   {
    "duration": 35,
    "start_time": "2022-01-23T10:13:32.589Z"
   },
   {
    "duration": 5,
    "start_time": "2022-01-23T10:13:51.822Z"
   },
   {
    "duration": 29,
    "start_time": "2022-01-23T10:24:21.998Z"
   },
   {
    "duration": 34,
    "start_time": "2022-01-23T10:24:26.461Z"
   },
   {
    "duration": 30,
    "start_time": "2022-01-23T10:24:50.051Z"
   },
   {
    "duration": 370,
    "start_time": "2022-01-23T10:25:02.687Z"
   },
   {
    "duration": 34,
    "start_time": "2022-01-23T10:25:23.826Z"
   },
   {
    "duration": 41,
    "start_time": "2022-01-23T10:26:44.023Z"
   },
   {
    "duration": 87,
    "start_time": "2022-01-23T11:00:15.490Z"
   },
   {
    "duration": 294,
    "start_time": "2022-01-23T11:15:29.713Z"
   },
   {
    "duration": 480,
    "start_time": "2022-01-23T11:15:45.672Z"
   },
   {
    "duration": 329,
    "start_time": "2022-01-23T11:15:54.018Z"
   },
   {
    "duration": 1236,
    "start_time": "2022-01-23T11:16:06.125Z"
   },
   {
    "duration": 6,
    "start_time": "2022-01-23T11:16:07.362Z"
   },
   {
    "duration": 5,
    "start_time": "2022-01-23T11:16:07.370Z"
   },
   {
    "duration": 8,
    "start_time": "2022-01-23T11:16:07.376Z"
   },
   {
    "duration": 14,
    "start_time": "2022-01-23T11:16:07.385Z"
   },
   {
    "duration": 9,
    "start_time": "2022-01-23T11:16:07.401Z"
   },
   {
    "duration": 15,
    "start_time": "2022-01-23T11:16:07.412Z"
   },
   {
    "duration": 34,
    "start_time": "2022-01-23T11:16:07.430Z"
   },
   {
    "duration": 16,
    "start_time": "2022-01-23T11:16:07.467Z"
   },
   {
    "duration": 21,
    "start_time": "2022-01-23T11:16:07.484Z"
   },
   {
    "duration": 4,
    "start_time": "2022-01-23T11:16:07.507Z"
   },
   {
    "duration": 5,
    "start_time": "2022-01-23T11:16:07.513Z"
   },
   {
    "duration": 44,
    "start_time": "2022-01-23T11:16:07.519Z"
   },
   {
    "duration": 11,
    "start_time": "2022-01-23T11:16:07.565Z"
   },
   {
    "duration": 10,
    "start_time": "2022-01-23T11:16:07.577Z"
   },
   {
    "duration": 27,
    "start_time": "2022-01-23T11:16:07.588Z"
   },
   {
    "duration": 620,
    "start_time": "2022-01-23T11:16:07.617Z"
   },
   {
    "duration": -734,
    "start_time": "2022-01-23T11:16:08.974Z"
   },
   {
    "duration": -748,
    "start_time": "2022-01-23T11:16:08.989Z"
   },
   {
    "duration": -753,
    "start_time": "2022-01-23T11:16:08.995Z"
   },
   {
    "duration": -766,
    "start_time": "2022-01-23T11:16:09.009Z"
   },
   {
    "duration": -779,
    "start_time": "2022-01-23T11:16:09.023Z"
   },
   {
    "duration": -793,
    "start_time": "2022-01-23T11:16:09.038Z"
   },
   {
    "duration": -798,
    "start_time": "2022-01-23T11:16:09.044Z"
   },
   {
    "duration": -810,
    "start_time": "2022-01-23T11:16:09.057Z"
   },
   {
    "duration": -822,
    "start_time": "2022-01-23T11:16:09.070Z"
   },
   {
    "duration": -826,
    "start_time": "2022-01-23T11:16:09.075Z"
   },
   {
    "duration": -839,
    "start_time": "2022-01-23T11:16:09.088Z"
   },
   {
    "duration": -843,
    "start_time": "2022-01-23T11:16:09.093Z"
   },
   {
    "duration": -855,
    "start_time": "2022-01-23T11:16:09.106Z"
   },
   {
    "duration": -868,
    "start_time": "2022-01-23T11:16:09.120Z"
   },
   {
    "duration": -872,
    "start_time": "2022-01-23T11:16:09.125Z"
   },
   {
    "duration": -876,
    "start_time": "2022-01-23T11:16:09.130Z"
   },
   {
    "duration": -879,
    "start_time": "2022-01-23T11:16:09.135Z"
   },
   {
    "duration": -883,
    "start_time": "2022-01-23T11:16:09.140Z"
   },
   {
    "duration": -887,
    "start_time": "2022-01-23T11:16:09.145Z"
   },
   {
    "duration": -890,
    "start_time": "2022-01-23T11:16:09.150Z"
   },
   {
    "duration": -893,
    "start_time": "2022-01-23T11:16:09.154Z"
   },
   {
    "duration": -897,
    "start_time": "2022-01-23T11:16:09.159Z"
   },
   {
    "duration": -900,
    "start_time": "2022-01-23T11:16:09.163Z"
   },
   {
    "duration": -904,
    "start_time": "2022-01-23T11:16:09.168Z"
   },
   {
    "duration": -907,
    "start_time": "2022-01-23T11:16:09.172Z"
   },
   {
    "duration": -911,
    "start_time": "2022-01-23T11:16:09.177Z"
   },
   {
    "duration": 5,
    "start_time": "2022-01-23T11:18:58.764Z"
   },
   {
    "duration": 7,
    "start_time": "2022-01-23T11:19:22.804Z"
   },
   {
    "duration": 58,
    "start_time": "2022-01-23T11:19:42.447Z"
   },
   {
    "duration": 20,
    "start_time": "2022-01-23T11:19:42.507Z"
   },
   {
    "duration": 38,
    "start_time": "2022-01-23T11:19:42.529Z"
   },
   {
    "duration": 30,
    "start_time": "2022-01-23T11:19:42.569Z"
   },
   {
    "duration": 40,
    "start_time": "2022-01-23T11:19:42.601Z"
   },
   {
    "duration": 36,
    "start_time": "2022-01-23T11:19:42.643Z"
   },
   {
    "duration": 48,
    "start_time": "2022-01-23T11:19:42.681Z"
   },
   {
    "duration": 53,
    "start_time": "2022-01-23T11:19:42.733Z"
   },
   {
    "duration": 40,
    "start_time": "2022-01-23T11:19:42.788Z"
   },
   {
    "duration": 50,
    "start_time": "2022-01-23T11:19:42.829Z"
   },
   {
    "duration": 32,
    "start_time": "2022-01-23T11:19:42.880Z"
   },
   {
    "duration": 34,
    "start_time": "2022-01-23T11:19:42.914Z"
   },
   {
    "duration": 55,
    "start_time": "2022-01-23T11:19:42.950Z"
   },
   {
    "duration": 48,
    "start_time": "2022-01-23T11:19:43.007Z"
   },
   {
    "duration": 29,
    "start_time": "2022-01-23T11:19:43.057Z"
   },
   {
    "duration": 64,
    "start_time": "2022-01-23T11:19:43.087Z"
   },
   {
    "duration": 30,
    "start_time": "2022-01-23T11:19:43.153Z"
   },
   {
    "duration": 24,
    "start_time": "2022-01-23T11:19:43.185Z"
   },
   {
    "duration": 38,
    "start_time": "2022-01-23T11:19:43.211Z"
   },
   {
    "duration": 52,
    "start_time": "2022-01-23T11:19:43.251Z"
   },
   {
    "duration": 2365,
    "start_time": "2022-01-23T11:19:43.305Z"
   },
   {
    "duration": 7,
    "start_time": "2022-01-23T11:19:45.671Z"
   },
   {
    "duration": 27,
    "start_time": "2022-01-23T11:19:45.681Z"
   },
   {
    "duration": 48,
    "start_time": "2022-01-23T11:19:45.710Z"
   },
   {
    "duration": 26,
    "start_time": "2022-01-23T11:19:45.760Z"
   },
   {
    "duration": 93,
    "start_time": "2022-01-23T11:19:45.788Z"
   },
   {
    "duration": 60,
    "start_time": "2022-01-23T11:19:45.883Z"
   },
   {
    "duration": 686,
    "start_time": "2022-01-23T11:19:45.945Z"
   },
   {
    "duration": 42,
    "start_time": "2022-01-23T11:19:46.633Z"
   },
   {
    "duration": 19,
    "start_time": "2022-01-23T11:19:46.677Z"
   },
   {
    "duration": 50,
    "start_time": "2022-01-23T11:19:46.697Z"
   },
   {
    "duration": 26,
    "start_time": "2022-01-23T11:19:46.749Z"
   },
   {
    "duration": 3207,
    "start_time": "2022-01-23T11:19:46.777Z"
   },
   {
    "duration": 10,
    "start_time": "2022-01-23T11:19:49.985Z"
   },
   {
    "duration": 73,
    "start_time": "2022-01-23T11:19:49.996Z"
   },
   {
    "duration": 53,
    "start_time": "2022-01-23T11:19:50.071Z"
   },
   {
    "duration": 267,
    "start_time": "2022-01-23T11:19:50.126Z"
   },
   {
    "duration": 69,
    "start_time": "2022-01-23T11:19:50.395Z"
   },
   {
    "duration": 412,
    "start_time": "2022-01-23T11:19:50.473Z"
   },
   {
    "duration": 53,
    "start_time": "2022-01-23T11:19:50.888Z"
   },
   {
    "duration": 202,
    "start_time": "2022-01-23T11:19:50.943Z"
   },
   {
    "duration": 41,
    "start_time": "2022-01-23T11:19:51.147Z"
   },
   {
    "duration": 170,
    "start_time": "2022-01-23T11:19:51.190Z"
   },
   {
    "duration": 24,
    "start_time": "2022-01-23T11:25:08.213Z"
   },
   {
    "duration": 84,
    "start_time": "2022-01-23T11:25:43.132Z"
   },
   {
    "duration": 6,
    "start_time": "2022-01-23T11:25:43.218Z"
   },
   {
    "duration": 27,
    "start_time": "2022-01-23T11:25:43.225Z"
   },
   {
    "duration": 24,
    "start_time": "2022-01-23T11:25:43.258Z"
   },
   {
    "duration": 44,
    "start_time": "2022-01-23T11:25:43.284Z"
   },
   {
    "duration": 29,
    "start_time": "2022-01-23T11:25:43.330Z"
   },
   {
    "duration": 43,
    "start_time": "2022-01-23T11:25:43.361Z"
   },
   {
    "duration": 46,
    "start_time": "2022-01-23T11:25:43.407Z"
   },
   {
    "duration": 43,
    "start_time": "2022-01-23T11:25:43.455Z"
   },
   {
    "duration": 46,
    "start_time": "2022-01-23T11:25:43.500Z"
   },
   {
    "duration": 26,
    "start_time": "2022-01-23T11:25:43.548Z"
   },
   {
    "duration": 30,
    "start_time": "2022-01-23T11:25:43.576Z"
   },
   {
    "duration": 45,
    "start_time": "2022-01-23T11:25:43.608Z"
   },
   {
    "duration": 30,
    "start_time": "2022-01-23T11:25:43.655Z"
   },
   {
    "duration": 24,
    "start_time": "2022-01-23T11:25:43.687Z"
   },
   {
    "duration": 43,
    "start_time": "2022-01-23T11:25:43.713Z"
   },
   {
    "duration": 84,
    "start_time": "2022-01-23T11:25:43.758Z"
   },
   {
    "duration": -971,
    "start_time": "2022-01-23T11:25:44.815Z"
   },
   {
    "duration": -981,
    "start_time": "2022-01-23T11:25:44.826Z"
   },
   {
    "duration": -1032,
    "start_time": "2022-01-23T11:25:44.879Z"
   },
   {
    "duration": -1041,
    "start_time": "2022-01-23T11:25:44.889Z"
   },
   {
    "duration": -1050,
    "start_time": "2022-01-23T11:25:44.900Z"
   },
   {
    "duration": -1063,
    "start_time": "2022-01-23T11:25:44.914Z"
   },
   {
    "duration": -1074,
    "start_time": "2022-01-23T11:25:44.927Z"
   },
   {
    "duration": -1083,
    "start_time": "2022-01-23T11:25:44.937Z"
   },
   {
    "duration": -1095,
    "start_time": "2022-01-23T11:25:44.950Z"
   },
   {
    "duration": -1105,
    "start_time": "2022-01-23T11:25:44.961Z"
   },
   {
    "duration": -1114,
    "start_time": "2022-01-23T11:25:44.972Z"
   },
   {
    "duration": -1136,
    "start_time": "2022-01-23T11:25:44.995Z"
   },
   {
    "duration": -1207,
    "start_time": "2022-01-23T11:25:45.067Z"
   },
   {
    "duration": -1215,
    "start_time": "2022-01-23T11:25:45.076Z"
   },
   {
    "duration": -1220,
    "start_time": "2022-01-23T11:25:45.082Z"
   },
   {
    "duration": -1224,
    "start_time": "2022-01-23T11:25:45.087Z"
   },
   {
    "duration": -1235,
    "start_time": "2022-01-23T11:25:45.099Z"
   },
   {
    "duration": -1240,
    "start_time": "2022-01-23T11:25:45.105Z"
   },
   {
    "duration": -1244,
    "start_time": "2022-01-23T11:25:45.110Z"
   },
   {
    "duration": -1247,
    "start_time": "2022-01-23T11:25:45.114Z"
   },
   {
    "duration": -1250,
    "start_time": "2022-01-23T11:25:45.118Z"
   },
   {
    "duration": -1254,
    "start_time": "2022-01-23T11:25:45.123Z"
   },
   {
    "duration": -1258,
    "start_time": "2022-01-23T11:25:45.128Z"
   },
   {
    "duration": -1261,
    "start_time": "2022-01-23T11:25:45.132Z"
   },
   {
    "duration": -1265,
    "start_time": "2022-01-23T11:25:45.137Z"
   },
   {
    "duration": -1268,
    "start_time": "2022-01-23T11:25:45.142Z"
   },
   {
    "duration": 7,
    "start_time": "2022-01-23T11:26:33.784Z"
   },
   {
    "duration": 23,
    "start_time": "2022-01-23T11:26:40.890Z"
   },
   {
    "duration": 31,
    "start_time": "2022-01-23T11:31:46.642Z"
   },
   {
    "duration": 184,
    "start_time": "2022-01-23T11:32:00.390Z"
   },
   {
    "duration": 29,
    "start_time": "2022-01-23T11:32:08.821Z"
   },
   {
    "duration": 129,
    "start_time": "2022-01-23T11:33:17.821Z"
   },
   {
    "duration": 81,
    "start_time": "2022-01-23T11:33:22.933Z"
   },
   {
    "duration": 21,
    "start_time": "2022-01-23T11:33:28.901Z"
   },
   {
    "duration": 27,
    "start_time": "2022-01-23T11:34:35.662Z"
   },
   {
    "duration": 16,
    "start_time": "2022-01-23T11:34:48.156Z"
   },
   {
    "duration": 273,
    "start_time": "2022-01-23T11:35:38.910Z"
   },
   {
    "duration": 3420,
    "start_time": "2022-01-23T11:36:03.153Z"
   },
   {
    "duration": 249,
    "start_time": "2022-01-23T11:38:20.562Z"
   },
   {
    "duration": 253,
    "start_time": "2022-01-23T11:38:26.928Z"
   },
   {
    "duration": 63,
    "start_time": "2022-01-23T11:38:42.579Z"
   },
   {
    "duration": 5,
    "start_time": "2022-01-23T11:38:42.643Z"
   },
   {
    "duration": 21,
    "start_time": "2022-01-23T11:38:42.650Z"
   },
   {
    "duration": 27,
    "start_time": "2022-01-23T11:38:42.673Z"
   },
   {
    "duration": 38,
    "start_time": "2022-01-23T11:38:42.702Z"
   },
   {
    "duration": 26,
    "start_time": "2022-01-23T11:38:42.742Z"
   },
   {
    "duration": 36,
    "start_time": "2022-01-23T11:38:42.770Z"
   },
   {
    "duration": 20,
    "start_time": "2022-01-23T11:38:42.809Z"
   },
   {
    "duration": 23,
    "start_time": "2022-01-23T11:38:42.831Z"
   },
   {
    "duration": 28,
    "start_time": "2022-01-23T11:38:42.856Z"
   },
   {
    "duration": 8,
    "start_time": "2022-01-23T11:38:42.886Z"
   },
   {
    "duration": 28,
    "start_time": "2022-01-23T11:38:42.896Z"
   },
   {
    "duration": 36,
    "start_time": "2022-01-23T11:38:42.925Z"
   },
   {
    "duration": 13,
    "start_time": "2022-01-23T11:38:42.963Z"
   },
   {
    "duration": 29,
    "start_time": "2022-01-23T11:38:42.978Z"
   },
   {
    "duration": 32,
    "start_time": "2022-01-23T11:38:43.009Z"
   },
   {
    "duration": 18,
    "start_time": "2022-01-23T11:38:43.043Z"
   },
   {
    "duration": 14,
    "start_time": "2022-01-23T11:38:43.063Z"
   },
   {
    "duration": 25,
    "start_time": "2022-01-23T11:38:43.079Z"
   },
   {
    "duration": 18,
    "start_time": "2022-01-23T11:38:43.106Z"
   },
   {
    "duration": 2385,
    "start_time": "2022-01-23T11:38:43.126Z"
   },
   {
    "duration": 7,
    "start_time": "2022-01-23T11:38:45.513Z"
   },
   {
    "duration": 35,
    "start_time": "2022-01-23T11:38:45.523Z"
   },
   {
    "duration": 29,
    "start_time": "2022-01-23T11:38:45.560Z"
   },
   {
    "duration": 28,
    "start_time": "2022-01-23T11:38:45.591Z"
   },
   {
    "duration": 56,
    "start_time": "2022-01-23T11:38:45.620Z"
   },
   {
    "duration": 30,
    "start_time": "2022-01-23T11:38:45.678Z"
   },
   {
    "duration": 680,
    "start_time": "2022-01-23T11:38:45.709Z"
   },
   {
    "duration": 31,
    "start_time": "2022-01-23T11:38:46.391Z"
   },
   {
    "duration": 33,
    "start_time": "2022-01-23T11:38:46.424Z"
   },
   {
    "duration": 50,
    "start_time": "2022-01-23T11:38:46.459Z"
   },
   {
    "duration": 26,
    "start_time": "2022-01-23T11:38:46.510Z"
   },
   {
    "duration": 2970,
    "start_time": "2022-01-23T11:38:46.538Z"
   },
   {
    "duration": 9,
    "start_time": "2022-01-23T11:38:49.510Z"
   },
   {
    "duration": 60,
    "start_time": "2022-01-23T11:38:49.521Z"
   },
   {
    "duration": 39,
    "start_time": "2022-01-23T11:38:49.583Z"
   },
   {
    "duration": 242,
    "start_time": "2022-01-23T11:38:49.624Z"
   },
   {
    "duration": 36,
    "start_time": "2022-01-23T11:38:49.868Z"
   },
   {
    "duration": 184,
    "start_time": "2022-01-23T11:38:49.906Z"
   },
   {
    "duration": 33,
    "start_time": "2022-01-23T11:38:50.092Z"
   },
   {
    "duration": 199,
    "start_time": "2022-01-23T11:38:50.127Z"
   },
   {
    "duration": 44,
    "start_time": "2022-01-23T11:38:50.328Z"
   },
   {
    "duration": 176,
    "start_time": "2022-01-23T11:38:50.374Z"
   },
   {
    "duration": 16,
    "start_time": "2022-01-23T11:42:13.192Z"
   },
   {
    "duration": 273,
    "start_time": "2022-01-23T11:42:32.161Z"
   },
   {
    "duration": 15,
    "start_time": "2022-01-23T11:42:46.476Z"
   },
   {
    "duration": 17,
    "start_time": "2022-01-23T11:43:47.492Z"
   },
   {
    "duration": 7149,
    "start_time": "2022-01-23T11:56:00.296Z"
   },
   {
    "duration": 247,
    "start_time": "2022-01-23T11:58:14.028Z"
   },
   {
    "duration": 176,
    "start_time": "2022-01-23T11:58:21.076Z"
   },
   {
    "duration": 166,
    "start_time": "2022-01-23T12:02:18.430Z"
   },
   {
    "duration": 188,
    "start_time": "2022-01-23T12:05:37.721Z"
   },
   {
    "duration": 390,
    "start_time": "2022-01-23T12:07:28.785Z"
   },
   {
    "duration": 326,
    "start_time": "2022-01-23T12:08:19.969Z"
   },
   {
    "duration": 285,
    "start_time": "2022-01-23T12:08:36.553Z"
   },
   {
    "duration": 95,
    "start_time": "2022-01-23T12:09:01.969Z"
   },
   {
    "duration": 92,
    "start_time": "2022-01-23T12:09:07.471Z"
   },
   {
    "duration": 82,
    "start_time": "2022-01-23T12:09:18.826Z"
   },
   {
    "duration": 6,
    "start_time": "2022-01-23T12:09:18.910Z"
   },
   {
    "duration": 38,
    "start_time": "2022-01-23T12:09:18.917Z"
   },
   {
    "duration": 30,
    "start_time": "2022-01-23T12:09:18.957Z"
   },
   {
    "duration": 31,
    "start_time": "2022-01-23T12:09:18.989Z"
   },
   {
    "duration": 36,
    "start_time": "2022-01-23T12:09:19.021Z"
   },
   {
    "duration": 52,
    "start_time": "2022-01-23T12:09:19.059Z"
   },
   {
    "duration": 27,
    "start_time": "2022-01-23T12:09:19.115Z"
   },
   {
    "duration": 37,
    "start_time": "2022-01-23T12:09:19.145Z"
   },
   {
    "duration": 47,
    "start_time": "2022-01-23T12:09:19.184Z"
   },
   {
    "duration": 20,
    "start_time": "2022-01-23T12:09:19.234Z"
   },
   {
    "duration": 25,
    "start_time": "2022-01-23T12:09:19.256Z"
   },
   {
    "duration": 26,
    "start_time": "2022-01-23T12:09:19.283Z"
   },
   {
    "duration": 25,
    "start_time": "2022-01-23T12:09:19.311Z"
   },
   {
    "duration": 29,
    "start_time": "2022-01-23T12:09:19.338Z"
   },
   {
    "duration": 36,
    "start_time": "2022-01-23T12:09:19.369Z"
   },
   {
    "duration": 95,
    "start_time": "2022-01-23T12:09:19.407Z"
   },
   {
    "duration": -1083,
    "start_time": "2022-01-23T12:09:20.588Z"
   },
   {
    "duration": -1087,
    "start_time": "2022-01-23T12:09:20.593Z"
   },
   {
    "duration": -1093,
    "start_time": "2022-01-23T12:09:20.600Z"
   },
   {
    "duration": -1102,
    "start_time": "2022-01-23T12:09:20.610Z"
   },
   {
    "duration": -1111,
    "start_time": "2022-01-23T12:09:20.620Z"
   },
   {
    "duration": -1119,
    "start_time": "2022-01-23T12:09:20.629Z"
   },
   {
    "duration": -1128,
    "start_time": "2022-01-23T12:09:20.639Z"
   },
   {
    "duration": -1146,
    "start_time": "2022-01-23T12:09:20.658Z"
   },
   {
    "duration": -1152,
    "start_time": "2022-01-23T12:09:20.665Z"
   },
   {
    "duration": -1157,
    "start_time": "2022-01-23T12:09:20.671Z"
   },
   {
    "duration": -1186,
    "start_time": "2022-01-23T12:09:20.701Z"
   },
   {
    "duration": -1195,
    "start_time": "2022-01-23T12:09:20.711Z"
   },
   {
    "duration": -1202,
    "start_time": "2022-01-23T12:09:20.719Z"
   },
   {
    "duration": -1205,
    "start_time": "2022-01-23T12:09:20.723Z"
   },
   {
    "duration": -1209,
    "start_time": "2022-01-23T12:09:20.728Z"
   },
   {
    "duration": -1213,
    "start_time": "2022-01-23T12:09:20.733Z"
   },
   {
    "duration": -1217,
    "start_time": "2022-01-23T12:09:20.738Z"
   },
   {
    "duration": -1221,
    "start_time": "2022-01-23T12:09:20.743Z"
   },
   {
    "duration": -1224,
    "start_time": "2022-01-23T12:09:20.748Z"
   },
   {
    "duration": -1228,
    "start_time": "2022-01-23T12:09:20.753Z"
   },
   {
    "duration": -1240,
    "start_time": "2022-01-23T12:09:20.766Z"
   },
   {
    "duration": -1244,
    "start_time": "2022-01-23T12:09:20.771Z"
   },
   {
    "duration": -1249,
    "start_time": "2022-01-23T12:09:20.777Z"
   },
   {
    "duration": -1258,
    "start_time": "2022-01-23T12:09:20.787Z"
   },
   {
    "duration": -1268,
    "start_time": "2022-01-23T12:09:20.798Z"
   },
   {
    "duration": -1276,
    "start_time": "2022-01-23T12:09:20.807Z"
   },
   {
    "duration": -1280,
    "start_time": "2022-01-23T12:09:20.812Z"
   },
   {
    "duration": 169,
    "start_time": "2022-01-23T12:09:26.921Z"
   },
   {
    "duration": 167,
    "start_time": "2022-01-23T12:09:41.761Z"
   },
   {
    "duration": 170,
    "start_time": "2022-01-23T12:15:32.299Z"
   },
   {
    "duration": 103,
    "start_time": "2022-01-23T12:19:10.219Z"
   },
   {
    "duration": 3,
    "start_time": "2022-01-23T12:20:42.719Z"
   },
   {
    "duration": 3595,
    "start_time": "2022-01-23T12:20:48.014Z"
   },
   {
    "duration": 11,
    "start_time": "2022-01-23T12:20:54.734Z"
   },
   {
    "duration": 79,
    "start_time": "2022-01-23T12:21:04.289Z"
   },
   {
    "duration": 6,
    "start_time": "2022-01-23T12:21:04.370Z"
   },
   {
    "duration": 23,
    "start_time": "2022-01-23T12:21:04.378Z"
   },
   {
    "duration": 24,
    "start_time": "2022-01-23T12:21:04.403Z"
   },
   {
    "duration": 38,
    "start_time": "2022-01-23T12:21:04.429Z"
   },
   {
    "duration": 18,
    "start_time": "2022-01-23T12:21:04.469Z"
   },
   {
    "duration": 29,
    "start_time": "2022-01-23T12:21:04.489Z"
   },
   {
    "duration": 32,
    "start_time": "2022-01-23T12:21:04.521Z"
   },
   {
    "duration": 21,
    "start_time": "2022-01-23T12:21:04.556Z"
   },
   {
    "duration": 37,
    "start_time": "2022-01-23T12:21:04.579Z"
   },
   {
    "duration": 16,
    "start_time": "2022-01-23T12:21:04.617Z"
   },
   {
    "duration": 19,
    "start_time": "2022-01-23T12:21:04.635Z"
   },
   {
    "duration": 49,
    "start_time": "2022-01-23T12:21:04.656Z"
   },
   {
    "duration": 17,
    "start_time": "2022-01-23T12:21:04.707Z"
   },
   {
    "duration": 27,
    "start_time": "2022-01-23T12:21:04.726Z"
   },
   {
    "duration": 36,
    "start_time": "2022-01-23T12:21:04.755Z"
   },
   {
    "duration": 195,
    "start_time": "2022-01-23T12:21:04.793Z"
   },
   {
    "duration": 180,
    "start_time": "2022-01-23T12:21:04.990Z"
   },
   {
    "duration": 183,
    "start_time": "2022-01-23T12:21:05.173Z"
   },
   {
    "duration": 8,
    "start_time": "2022-01-23T12:21:05.360Z"
   },
   {
    "duration": 27,
    "start_time": "2022-01-23T12:21:05.370Z"
   },
   {
    "duration": 17,
    "start_time": "2022-01-23T12:21:05.399Z"
   },
   {
    "duration": 2676,
    "start_time": "2022-01-23T12:21:05.420Z"
   },
   {
    "duration": 7,
    "start_time": "2022-01-23T12:21:08.099Z"
   },
   {
    "duration": 26,
    "start_time": "2022-01-23T12:21:08.108Z"
   },
   {
    "duration": 32,
    "start_time": "2022-01-23T12:21:08.135Z"
   },
   {
    "duration": 37,
    "start_time": "2022-01-23T12:21:08.168Z"
   },
   {
    "duration": 56,
    "start_time": "2022-01-23T12:21:08.207Z"
   },
   {
    "duration": 38,
    "start_time": "2022-01-23T12:21:08.265Z"
   },
   {
    "duration": 677,
    "start_time": "2022-01-23T12:21:08.305Z"
   },
   {
    "duration": 34,
    "start_time": "2022-01-23T12:21:08.984Z"
   },
   {
    "duration": 20,
    "start_time": "2022-01-23T12:21:09.020Z"
   },
   {
    "duration": 52,
    "start_time": "2022-01-23T12:21:09.042Z"
   },
   {
    "duration": 31,
    "start_time": "2022-01-23T12:21:09.096Z"
   },
   {
    "duration": 54,
    "start_time": "2022-01-23T12:21:09.129Z"
   },
   {
    "duration": 3127,
    "start_time": "2022-01-23T12:21:09.185Z"
   },
   {
    "duration": 10,
    "start_time": "2022-01-23T12:21:12.314Z"
   },
   {
    "duration": 72,
    "start_time": "2022-01-23T12:21:12.326Z"
   },
   {
    "duration": 37,
    "start_time": "2022-01-23T12:21:12.399Z"
   },
   {
    "duration": 175,
    "start_time": "2022-01-23T12:21:12.438Z"
   },
   {
    "duration": 33,
    "start_time": "2022-01-23T12:21:12.615Z"
   },
   {
    "duration": 170,
    "start_time": "2022-01-23T12:21:12.660Z"
   },
   {
    "duration": 40,
    "start_time": "2022-01-23T12:21:12.832Z"
   },
   {
    "duration": 181,
    "start_time": "2022-01-23T12:21:12.874Z"
   },
   {
    "duration": 34,
    "start_time": "2022-01-23T12:21:13.060Z"
   },
   {
    "duration": 182,
    "start_time": "2022-01-23T12:21:13.096Z"
   },
   {
    "duration": 2,
    "start_time": "2022-01-23T12:22:49.790Z"
   },
   {
    "duration": 3007,
    "start_time": "2022-01-23T12:22:51.680Z"
   },
   {
    "duration": 10,
    "start_time": "2022-01-23T12:22:57.400Z"
   },
   {
    "duration": 3,
    "start_time": "2022-01-23T12:23:51.674Z"
   },
   {
    "duration": 2984,
    "start_time": "2022-01-23T12:23:53.488Z"
   },
   {
    "duration": 13,
    "start_time": "2022-01-23T12:23:58.799Z"
   },
   {
    "duration": 4,
    "start_time": "2022-01-23T12:26:30.654Z"
   },
   {
    "duration": 3008,
    "start_time": "2022-01-23T12:26:32.770Z"
   },
   {
    "duration": 48,
    "start_time": "2022-01-23T12:26:45.674Z"
   },
   {
    "duration": 77,
    "start_time": "2022-01-23T12:29:33.478Z"
   },
   {
    "duration": 6,
    "start_time": "2022-01-23T12:29:33.557Z"
   },
   {
    "duration": 5,
    "start_time": "2022-01-23T12:29:33.564Z"
   },
   {
    "duration": 9,
    "start_time": "2022-01-23T12:29:33.570Z"
   },
   {
    "duration": 15,
    "start_time": "2022-01-23T12:29:33.580Z"
   },
   {
    "duration": 6,
    "start_time": "2022-01-23T12:29:33.597Z"
   },
   {
    "duration": 16,
    "start_time": "2022-01-23T12:29:33.604Z"
   },
   {
    "duration": 43,
    "start_time": "2022-01-23T12:29:33.623Z"
   },
   {
    "duration": 16,
    "start_time": "2022-01-23T12:29:33.668Z"
   },
   {
    "duration": 15,
    "start_time": "2022-01-23T12:29:33.686Z"
   },
   {
    "duration": 8,
    "start_time": "2022-01-23T12:29:33.702Z"
   },
   {
    "duration": 12,
    "start_time": "2022-01-23T12:29:33.711Z"
   },
   {
    "duration": 46,
    "start_time": "2022-01-23T12:29:33.724Z"
   },
   {
    "duration": 10,
    "start_time": "2022-01-23T12:29:33.772Z"
   },
   {
    "duration": 10,
    "start_time": "2022-01-23T12:29:33.784Z"
   },
   {
    "duration": 29,
    "start_time": "2022-01-23T12:29:33.795Z"
   },
   {
    "duration": 197,
    "start_time": "2022-01-23T12:29:33.826Z"
   },
   {
    "duration": 178,
    "start_time": "2022-01-23T12:29:34.025Z"
   },
   {
    "duration": 179,
    "start_time": "2022-01-23T12:29:34.205Z"
   },
   {
    "duration": 6,
    "start_time": "2022-01-23T12:29:34.386Z"
   },
   {
    "duration": 20,
    "start_time": "2022-01-23T12:29:34.394Z"
   },
   {
    "duration": 42,
    "start_time": "2022-01-23T12:29:34.416Z"
   },
   {
    "duration": 2498,
    "start_time": "2022-01-23T12:29:34.462Z"
   },
   {
    "duration": 8,
    "start_time": "2022-01-23T12:29:36.962Z"
   },
   {
    "duration": 28,
    "start_time": "2022-01-23T12:29:36.972Z"
   },
   {
    "duration": 38,
    "start_time": "2022-01-23T12:29:37.002Z"
   },
   {
    "duration": 27,
    "start_time": "2022-01-23T12:29:37.041Z"
   },
   {
    "duration": 52,
    "start_time": "2022-01-23T12:29:37.070Z"
   },
   {
    "duration": 44,
    "start_time": "2022-01-23T12:29:37.124Z"
   },
   {
    "duration": 693,
    "start_time": "2022-01-23T12:29:37.170Z"
   },
   {
    "duration": 31,
    "start_time": "2022-01-23T12:29:37.865Z"
   },
   {
    "duration": 38,
    "start_time": "2022-01-23T12:29:37.897Z"
   },
   {
    "duration": 38,
    "start_time": "2022-01-23T12:29:37.937Z"
   },
   {
    "duration": 11,
    "start_time": "2022-01-23T12:29:37.977Z"
   },
   {
    "duration": 37,
    "start_time": "2022-01-23T12:29:37.990Z"
   },
   {
    "duration": 3214,
    "start_time": "2022-01-23T12:29:38.028Z"
   },
   {
    "duration": 24,
    "start_time": "2022-01-23T12:29:41.243Z"
   },
   {
    "duration": 64,
    "start_time": "2022-01-23T12:29:41.269Z"
   },
   {
    "duration": 48,
    "start_time": "2022-01-23T12:29:41.334Z"
   },
   {
    "duration": 163,
    "start_time": "2022-01-23T12:29:41.384Z"
   },
   {
    "duration": 38,
    "start_time": "2022-01-23T12:29:41.549Z"
   },
   {
    "duration": 184,
    "start_time": "2022-01-23T12:29:41.588Z"
   },
   {
    "duration": 34,
    "start_time": "2022-01-23T12:29:41.773Z"
   },
   {
    "duration": 193,
    "start_time": "2022-01-23T12:29:41.809Z"
   },
   {
    "duration": 35,
    "start_time": "2022-01-23T12:29:42.003Z"
   },
   {
    "duration": 179,
    "start_time": "2022-01-23T12:29:42.040Z"
   },
   {
    "duration": 400,
    "start_time": "2022-01-23T12:31:20.845Z"
   },
   {
    "duration": 43,
    "start_time": "2022-01-23T12:32:54.229Z"
   },
   {
    "duration": 33,
    "start_time": "2022-01-23T12:33:00.317Z"
   },
   {
    "duration": 149,
    "start_time": "2022-01-23T12:33:00.352Z"
   },
   {
    "duration": 33,
    "start_time": "2022-01-23T12:33:00.503Z"
   },
   {
    "duration": 188,
    "start_time": "2022-01-23T12:33:00.538Z"
   },
   {
    "duration": 42,
    "start_time": "2022-01-23T12:33:00.728Z"
   },
   {
    "duration": 173,
    "start_time": "2022-01-23T12:33:00.771Z"
   },
   {
    "duration": 41,
    "start_time": "2022-01-23T12:33:00.946Z"
   },
   {
    "duration": 288,
    "start_time": "2022-01-23T12:33:00.989Z"
   },
   {
    "duration": 160,
    "start_time": "2022-01-23T12:33:54.727Z"
   },
   {
    "duration": 45,
    "start_time": "2022-01-23T12:35:51.257Z"
   },
   {
    "duration": 81,
    "start_time": "2022-01-23T12:35:59.026Z"
   },
   {
    "duration": 6,
    "start_time": "2022-01-23T12:35:59.109Z"
   },
   {
    "duration": 40,
    "start_time": "2022-01-23T12:35:59.118Z"
   },
   {
    "duration": 44,
    "start_time": "2022-01-23T12:35:59.160Z"
   },
   {
    "duration": 49,
    "start_time": "2022-01-23T12:35:59.205Z"
   },
   {
    "duration": 50,
    "start_time": "2022-01-23T12:35:59.255Z"
   },
   {
    "duration": 44,
    "start_time": "2022-01-23T12:35:59.307Z"
   },
   {
    "duration": 38,
    "start_time": "2022-01-23T12:35:59.354Z"
   },
   {
    "duration": 46,
    "start_time": "2022-01-23T12:35:59.394Z"
   },
   {
    "duration": 38,
    "start_time": "2022-01-23T12:35:59.442Z"
   },
   {
    "duration": 12,
    "start_time": "2022-01-23T12:35:59.482Z"
   },
   {
    "duration": 29,
    "start_time": "2022-01-23T12:35:59.495Z"
   },
   {
    "duration": 32,
    "start_time": "2022-01-23T12:35:59.526Z"
   },
   {
    "duration": 29,
    "start_time": "2022-01-23T12:35:59.559Z"
   },
   {
    "duration": 27,
    "start_time": "2022-01-23T12:35:59.589Z"
   },
   {
    "duration": 45,
    "start_time": "2022-01-23T12:35:59.618Z"
   },
   {
    "duration": 208,
    "start_time": "2022-01-23T12:35:59.665Z"
   },
   {
    "duration": 177,
    "start_time": "2022-01-23T12:35:59.874Z"
   },
   {
    "duration": 180,
    "start_time": "2022-01-23T12:36:00.053Z"
   },
   {
    "duration": 6,
    "start_time": "2022-01-23T12:36:00.235Z"
   },
   {
    "duration": 43,
    "start_time": "2022-01-23T12:36:00.242Z"
   },
   {
    "duration": 33,
    "start_time": "2022-01-23T12:36:00.287Z"
   },
   {
    "duration": 2979,
    "start_time": "2022-01-23T12:36:00.324Z"
   },
   {
    "duration": 8,
    "start_time": "2022-01-23T12:36:03.306Z"
   },
   {
    "duration": 13,
    "start_time": "2022-01-23T12:36:03.316Z"
   },
   {
    "duration": 31,
    "start_time": "2022-01-23T12:36:03.331Z"
   },
   {
    "duration": 16,
    "start_time": "2022-01-23T12:36:03.364Z"
   },
   {
    "duration": 40,
    "start_time": "2022-01-23T12:36:03.381Z"
   },
   {
    "duration": 56,
    "start_time": "2022-01-23T12:36:03.423Z"
   },
   {
    "duration": 716,
    "start_time": "2022-01-23T12:36:03.481Z"
   },
   {
    "duration": 34,
    "start_time": "2022-01-23T12:36:04.199Z"
   },
   {
    "duration": 26,
    "start_time": "2022-01-23T12:36:04.235Z"
   },
   {
    "duration": 36,
    "start_time": "2022-01-23T12:36:04.263Z"
   },
   {
    "duration": 2,
    "start_time": "2022-01-23T12:36:04.301Z"
   },
   {
    "duration": 13,
    "start_time": "2022-01-23T12:36:04.305Z"
   },
   {
    "duration": 2999,
    "start_time": "2022-01-23T12:36:04.320Z"
   },
   {
    "duration": 11,
    "start_time": "2022-01-23T12:36:07.321Z"
   },
   {
    "duration": 75,
    "start_time": "2022-01-23T12:36:07.333Z"
   },
   {
    "duration": 49,
    "start_time": "2022-01-23T12:36:07.409Z"
   },
   {
    "duration": 194,
    "start_time": "2022-01-23T12:36:07.459Z"
   },
   {
    "duration": 37,
    "start_time": "2022-01-23T12:36:07.654Z"
   },
   {
    "duration": 193,
    "start_time": "2022-01-23T12:36:07.693Z"
   },
   {
    "duration": 32,
    "start_time": "2022-01-23T12:36:07.888Z"
   },
   {
    "duration": 197,
    "start_time": "2022-01-23T12:36:07.922Z"
   },
   {
    "duration": 41,
    "start_time": "2022-01-23T12:36:08.121Z"
   },
   {
    "duration": 168,
    "start_time": "2022-01-23T12:36:08.164Z"
   },
   {
    "duration": 1810,
    "start_time": "2022-01-23T18:32:36.804Z"
   },
   {
    "duration": 8,
    "start_time": "2022-01-23T18:32:38.617Z"
   },
   {
    "duration": 7,
    "start_time": "2022-01-23T18:32:38.633Z"
   },
   {
    "duration": 11,
    "start_time": "2022-01-23T18:32:38.642Z"
   },
   {
    "duration": 21,
    "start_time": "2022-01-23T18:32:38.655Z"
   },
   {
    "duration": 7,
    "start_time": "2022-01-23T18:32:38.678Z"
   },
   {
    "duration": 22,
    "start_time": "2022-01-23T18:32:38.731Z"
   },
   {
    "duration": 9,
    "start_time": "2022-01-23T18:32:38.756Z"
   },
   {
    "duration": 21,
    "start_time": "2022-01-23T18:32:38.767Z"
   },
   {
    "duration": 58,
    "start_time": "2022-01-23T18:32:38.790Z"
   },
   {
    "duration": 8,
    "start_time": "2022-01-23T18:32:38.850Z"
   },
   {
    "duration": 5,
    "start_time": "2022-01-23T18:32:38.860Z"
   },
   {
    "duration": 26,
    "start_time": "2022-01-23T18:32:38.868Z"
   },
   {
    "duration": 15,
    "start_time": "2022-01-23T18:32:38.932Z"
   },
   {
    "duration": 12,
    "start_time": "2022-01-23T18:32:38.949Z"
   },
   {
    "duration": 82,
    "start_time": "2022-01-23T18:32:38.963Z"
   },
   {
    "duration": 297,
    "start_time": "2022-01-23T18:32:39.047Z"
   },
   {
    "duration": 294,
    "start_time": "2022-01-23T18:32:39.347Z"
   },
   {
    "duration": 291,
    "start_time": "2022-01-23T18:32:39.644Z"
   },
   {
    "duration": 9,
    "start_time": "2022-01-23T18:32:39.938Z"
   },
   {
    "duration": 25,
    "start_time": "2022-01-23T18:32:39.950Z"
   },
   {
    "duration": 62,
    "start_time": "2022-01-23T18:32:39.982Z"
   },
   {
    "duration": 4613,
    "start_time": "2022-01-23T18:32:40.048Z"
   },
   {
    "duration": 11,
    "start_time": "2022-01-23T18:32:44.663Z"
   },
   {
    "duration": 18,
    "start_time": "2022-01-23T18:32:44.676Z"
   },
   {
    "duration": 37,
    "start_time": "2022-01-23T18:32:44.697Z"
   },
   {
    "duration": 23,
    "start_time": "2022-01-23T18:32:44.737Z"
   },
   {
    "duration": 80,
    "start_time": "2022-01-23T18:32:44.762Z"
   },
   {
    "duration": 45,
    "start_time": "2022-01-23T18:32:44.844Z"
   },
   {
    "duration": 988,
    "start_time": "2022-01-23T18:32:44.891Z"
   },
   {
    "duration": 64,
    "start_time": "2022-01-23T18:32:45.882Z"
   },
   {
    "duration": 9,
    "start_time": "2022-01-23T18:32:45.948Z"
   },
   {
    "duration": 111,
    "start_time": "2022-01-23T18:32:45.960Z"
   },
   {
    "duration": 5,
    "start_time": "2022-01-23T18:32:46.074Z"
   },
   {
    "duration": 12,
    "start_time": "2022-01-23T18:32:46.081Z"
   },
   {
    "duration": 4435,
    "start_time": "2022-01-23T18:32:46.096Z"
   },
   {
    "duration": 19,
    "start_time": "2022-01-23T18:32:50.534Z"
   },
   {
    "duration": 93,
    "start_time": "2022-01-23T18:32:50.556Z"
   },
   {
    "duration": 60,
    "start_time": "2022-01-23T18:32:50.651Z"
   },
   {
    "duration": 274,
    "start_time": "2022-01-23T18:32:50.733Z"
   },
   {
    "duration": 55,
    "start_time": "2022-01-23T18:32:51.009Z"
   },
   {
    "duration": 297,
    "start_time": "2022-01-23T18:32:51.067Z"
   },
   {
    "duration": 68,
    "start_time": "2022-01-23T18:32:51.366Z"
   },
   {
    "duration": 299,
    "start_time": "2022-01-23T18:32:51.436Z"
   },
   {
    "duration": 51,
    "start_time": "2022-01-23T18:32:51.737Z"
   },
   {
    "duration": 303,
    "start_time": "2022-01-23T18:32:51.791Z"
   },
   {
    "duration": 50,
    "start_time": "2022-04-11T15:07:56.497Z"
   },
   {
    "duration": 1537,
    "start_time": "2022-04-11T15:08:20.274Z"
   },
   {
    "duration": 7,
    "start_time": "2022-04-11T15:08:21.813Z"
   },
   {
    "duration": 5,
    "start_time": "2022-04-11T15:08:31.426Z"
   },
   {
    "duration": 5,
    "start_time": "2022-04-11T15:08:32.361Z"
   },
   {
    "duration": 6,
    "start_time": "2022-04-11T15:08:33.713Z"
   },
   {
    "duration": 15,
    "start_time": "2022-04-11T15:08:35.162Z"
   },
   {
    "duration": 6,
    "start_time": "2022-04-11T15:08:38.625Z"
   },
   {
    "duration": 23,
    "start_time": "2022-04-11T15:08:39.547Z"
   },
   {
    "duration": 6,
    "start_time": "2022-04-11T15:08:41.033Z"
   },
   {
    "duration": 15,
    "start_time": "2022-04-11T15:08:41.829Z"
   },
   {
    "duration": 16,
    "start_time": "2022-04-11T15:08:42.683Z"
   },
   {
    "duration": 6,
    "start_time": "2022-04-11T15:08:44.130Z"
   },
   {
    "duration": 5,
    "start_time": "2022-04-11T15:08:45.002Z"
   },
   {
    "duration": 192,
    "start_time": "2022-04-11T15:08:47.099Z"
   },
   {
    "duration": 17,
    "start_time": "2022-04-11T15:08:55.490Z"
   },
   {
    "duration": 16,
    "start_time": "2022-04-11T15:08:58.778Z"
   },
   {
    "duration": 10,
    "start_time": "2022-04-11T15:09:00.643Z"
   },
   {
    "duration": 248,
    "start_time": "2022-04-11T15:09:02.267Z"
   },
   {
    "duration": 123,
    "start_time": "2022-04-11T15:09:26.226Z"
   },
   {
    "duration": 138,
    "start_time": "2022-04-11T15:10:10.499Z"
   },
   {
    "duration": 129,
    "start_time": "2022-04-11T15:10:21.971Z"
   },
   {
    "duration": 139,
    "start_time": "2022-04-11T15:10:23.188Z"
   },
   {
    "duration": 29,
    "start_time": "2022-04-11T15:11:07.594Z"
   },
   {
    "duration": 7,
    "start_time": "2022-04-11T15:11:17.387Z"
   },
   {
    "duration": 17,
    "start_time": "2022-04-11T15:11:37.579Z"
   },
   {
    "duration": 17,
    "start_time": "2022-04-11T15:11:39.667Z"
   },
   {
    "duration": 1186,
    "start_time": "2022-04-11T15:11:41.620Z"
   },
   {
    "duration": 1446,
    "start_time": "2022-04-12T22:00:11.869Z"
   },
   {
    "duration": 6,
    "start_time": "2022-04-12T22:00:15.572Z"
   },
   {
    "duration": 5,
    "start_time": "2022-04-12T22:00:16.908Z"
   },
   {
    "duration": 6,
    "start_time": "2022-04-12T22:00:24.270Z"
   },
   {
    "duration": 16,
    "start_time": "2022-04-12T22:00:26.797Z"
   },
   {
    "duration": 6,
    "start_time": "2022-04-12T22:00:27.685Z"
   },
   {
    "duration": 15,
    "start_time": "2022-04-12T22:00:29.598Z"
   },
   {
    "duration": 6,
    "start_time": "2022-04-12T22:00:30.867Z"
   },
   {
    "duration": 15,
    "start_time": "2022-04-12T22:00:32.440Z"
   },
   {
    "duration": 14,
    "start_time": "2022-04-12T22:00:33.732Z"
   },
   {
    "duration": 6,
    "start_time": "2022-04-12T22:00:34.949Z"
   },
   {
    "duration": 4,
    "start_time": "2022-04-12T22:00:39.502Z"
   },
   {
    "duration": 19,
    "start_time": "2022-04-12T22:00:40.341Z"
   },
   {
    "duration": 24,
    "start_time": "2022-04-12T22:00:42.071Z"
   },
   {
    "duration": 9,
    "start_time": "2022-04-12T22:00:49.924Z"
   },
   {
    "duration": 141,
    "start_time": "2022-04-12T22:00:56.669Z"
   },
   {
    "duration": 122,
    "start_time": "2022-04-12T22:01:00.613Z"
   },
   {
    "duration": 130,
    "start_time": "2022-04-12T22:01:02.317Z"
   },
   {
    "duration": 25,
    "start_time": "2022-04-12T22:01:32.614Z"
   },
   {
    "duration": 7,
    "start_time": "2022-04-12T22:01:36.468Z"
   },
   {
    "duration": 14,
    "start_time": "2022-04-12T22:01:44.873Z"
   },
   {
    "duration": 19,
    "start_time": "2022-04-12T22:01:47.349Z"
   },
   {
    "duration": 1280,
    "start_time": "2022-04-12T22:01:54.749Z"
   },
   {
    "duration": 7,
    "start_time": "2022-04-12T22:02:06.189Z"
   },
   {
    "duration": 16,
    "start_time": "2022-04-12T22:02:26.420Z"
   },
   {
    "duration": 5,
    "start_time": "2022-04-12T22:02:28.133Z"
   },
   {
    "duration": 17,
    "start_time": "2022-04-12T22:02:35.221Z"
   },
   {
    "duration": 45,
    "start_time": "2022-04-12T22:02:44.133Z"
   },
   {
    "duration": 34,
    "start_time": "2022-04-12T22:02:45.767Z"
   },
   {
    "duration": 717,
    "start_time": "2022-04-12T22:02:52.142Z"
   },
   {
    "duration": 27,
    "start_time": "2022-04-12T22:03:07.222Z"
   },
   {
    "duration": 6,
    "start_time": "2022-04-12T22:03:18.678Z"
   },
   {
    "duration": 30,
    "start_time": "2022-04-12T22:03:19.572Z"
   },
   {
    "duration": 4,
    "start_time": "2022-04-12T22:03:46.477Z"
   },
   {
    "duration": 3099,
    "start_time": "2022-04-12T22:03:47.517Z"
   },
   {
    "duration": 13,
    "start_time": "2022-04-12T22:03:55.798Z"
   },
   {
    "duration": 51,
    "start_time": "2022-04-12T22:04:17.880Z"
   },
   {
    "duration": 40,
    "start_time": "2022-04-12T22:04:22.534Z"
   },
   {
    "duration": 139,
    "start_time": "2022-04-12T22:05:37.047Z"
   },
   {
    "duration": 35,
    "start_time": "2022-04-12T22:05:42.904Z"
   },
   {
    "duration": 143,
    "start_time": "2022-04-12T22:05:55.077Z"
   },
   {
    "duration": 40,
    "start_time": "2022-04-12T22:06:00.328Z"
   },
   {
    "duration": 163,
    "start_time": "2022-04-12T22:06:01.944Z"
   },
   {
    "duration": 35,
    "start_time": "2022-04-12T22:06:20.991Z"
   },
   {
    "duration": 124,
    "start_time": "2022-04-12T22:06:22.383Z"
   },
   {
    "duration": 1404,
    "start_time": "2022-04-13T19:59:05.498Z"
   },
   {
    "duration": 6,
    "start_time": "2022-04-13T20:42:12.848Z"
   },
   {
    "duration": 5,
    "start_time": "2022-04-13T20:42:13.848Z"
   },
   {
    "duration": 6,
    "start_time": "2022-04-13T20:42:16.343Z"
   },
   {
    "duration": 15,
    "start_time": "2022-04-13T20:45:03.770Z"
   },
   {
    "duration": 5,
    "start_time": "2022-04-13T20:45:04.891Z"
   },
   {
    "duration": 15,
    "start_time": "2022-04-13T20:45:05.873Z"
   },
   {
    "duration": 6,
    "start_time": "2022-04-13T20:45:06.962Z"
   },
   {
    "duration": 14,
    "start_time": "2022-04-13T20:45:09.882Z"
   },
   {
    "duration": 15,
    "start_time": "2022-04-13T20:45:10.954Z"
   },
   {
    "duration": 5,
    "start_time": "2022-04-13T20:45:12.674Z"
   },
   {
    "duration": 4,
    "start_time": "2022-04-13T20:45:13.460Z"
   },
   {
    "duration": 17,
    "start_time": "2022-04-13T20:45:14.657Z"
   },
   {
    "duration": 16,
    "start_time": "2022-04-13T20:45:16.914Z"
   },
   {
    "duration": 10,
    "start_time": "2022-04-13T20:45:18.834Z"
   },
   {
    "duration": 134,
    "start_time": "2022-04-13T20:45:19.849Z"
   },
   {
    "duration": 111,
    "start_time": "2022-04-13T20:45:21.529Z"
   },
   {
    "duration": 124,
    "start_time": "2022-04-13T20:45:23.049Z"
   },
   {
    "duration": 27,
    "start_time": "2022-04-13T20:45:24.066Z"
   },
   {
    "duration": 6,
    "start_time": "2022-04-13T20:45:25.826Z"
   },
   {
    "duration": 16,
    "start_time": "2022-04-13T20:45:26.649Z"
   },
   {
    "duration": 15,
    "start_time": "2022-04-13T20:45:27.977Z"
   },
   {
    "duration": 1116,
    "start_time": "2022-04-13T20:45:28.714Z"
   },
   {
    "duration": 7,
    "start_time": "2022-04-13T20:45:31.249Z"
   },
   {
    "duration": 16,
    "start_time": "2022-04-13T20:45:32.186Z"
   },
   {
    "duration": 6,
    "start_time": "2022-04-13T20:45:33.017Z"
   },
   {
    "duration": 17,
    "start_time": "2022-04-13T20:45:35.097Z"
   },
   {
    "duration": 35,
    "start_time": "2022-04-13T20:45:42.226Z"
   },
   {
    "duration": 31,
    "start_time": "2022-04-13T20:45:43.321Z"
   },
   {
    "duration": 657,
    "start_time": "2022-04-13T20:45:44.202Z"
   },
   {
    "duration": 28,
    "start_time": "2022-04-13T20:45:46.883Z"
   },
   {
    "duration": 5,
    "start_time": "2022-04-13T20:46:13.026Z"
   },
   {
    "duration": 28,
    "start_time": "2022-04-13T20:46:13.698Z"
   },
   {
    "duration": 3,
    "start_time": "2022-04-13T20:46:15.706Z"
   },
   {
    "duration": 2762,
    "start_time": "2022-04-13T20:46:16.634Z"
   },
   {
    "duration": 12,
    "start_time": "2022-04-13T20:46:21.778Z"
   },
   {
    "duration": 48,
    "start_time": "2022-04-13T20:46:22.562Z"
   },
   {
    "duration": 33,
    "start_time": "2022-04-13T20:46:23.988Z"
   },
   {
    "duration": 110,
    "start_time": "2022-04-13T20:46:25.260Z"
   },
   {
    "duration": 35,
    "start_time": "2022-04-13T20:46:26.602Z"
   },
   {
    "duration": 118,
    "start_time": "2022-04-13T20:46:32.115Z"
   },
   {
    "duration": 33,
    "start_time": "2022-04-13T20:46:33.578Z"
   },
   {
    "duration": 118,
    "start_time": "2022-04-13T20:46:34.907Z"
   },
   {
    "duration": 36,
    "start_time": "2022-04-13T20:46:36.315Z"
   },
   {
    "duration": 109,
    "start_time": "2022-04-13T20:46:37.770Z"
   }
  ],
  "kernelspec": {
   "display_name": "Python 3 (ipykernel)",
   "language": "python",
   "name": "python3"
  },
  "language_info": {
   "codemirror_mode": {
    "name": "ipython",
    "version": 3
   },
   "file_extension": ".py",
   "mimetype": "text/x-python",
   "name": "python",
   "nbconvert_exporter": "python",
   "pygments_lexer": "ipython3",
   "version": "3.9.5"
  },
  "toc": {
   "base_numbering": 1,
   "nav_menu": {},
   "number_sections": true,
   "sideBar": true,
   "skip_h1_title": true,
   "title_cell": "Table of Contents",
   "title_sidebar": "Contents",
   "toc_cell": false,
   "toc_position": {},
   "toc_section_display": true,
   "toc_window_display": true
  }
 },
 "nbformat": 4,
 "nbformat_minor": 2
}
