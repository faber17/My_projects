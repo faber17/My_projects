{
 "cells": [
  {
   "cell_type": "markdown",
   "metadata": {},
   "source": [
    "# Описание проекта"
   ]
  },
  {
   "cell_type": "markdown",
   "metadata": {},
   "source": [
    "Допустим, вы работаете в добывающей компании «ГлавРосГосНефть». Нужно решить, где бурить новую скважину.\n",
    "\n",
    "Шаги для выбора локации обычно такие:\n",
    "- В избранном регионе собирают характеристики для скважин: качество нефти и объём её запасов;\n",
    "- Строят модель для предсказания объёма запасов в новых скважинах;\n",
    "- Выбирают скважины с самыми высокими оценками значений;\n",
    "- Определяют регион с максимальной суммарной прибылью отобранных скважин.\n",
    "\n",
    "Вам предоставлены пробы нефти в трёх регионах. Характеристики для каждой скважины в регионе уже известны. Постройте модель для определения региона, где добыча принесёт наибольшую прибыль. Проанализируйте возможную прибыль и риски техникой Bootstrap."
   ]
  },
  {
   "cell_type": "markdown",
   "metadata": {},
   "source": [
    "**Инструкция по выполнению проекта**\n",
    "\n",
    "Загрузите и подготовьте данные. Поясните порядок действий.\n",
    "\n",
    "Обучите и проверьте модель для каждого региона:\n",
    "\n",
    "2.1. Разбейте данные на обучающую и валидационную выборки в соотношении 75:25.\n",
    "\n",
    "2.2. Обучите модель и сделайте предсказания на валидационной выборке.\n",
    "\n",
    "2.3. Сохраните предсказания и правильные ответы на валидационной выборке.\n",
    "\n",
    "2.4. Напечатайте на экране средний запас предсказанного сырья и RMSE модели.\n",
    "\n",
    "2.5. Проанализируйте результаты.\n",
    "\n",
    "Подготовьтесь к расчёту прибыли:\n",
    "\n",
    "3.1. Все ключевые значения для расчётов сохраните в отдельных переменных.\n",
    "\n",
    "3.2. Рассчитайте достаточный объём сырья для безубыточной разработки новой скважины. Сравните полученный объём сырья со средним запасом в каждом регионе.\n",
    "\n",
    "3.3. Напишите выводы по этапу подготовки расчёта прибыли.\n",
    "\n",
    "Напишите функцию для расчёта прибыли по выбранным скважинам и предсказаниям модели:\n",
    "\n",
    "4.1. Выберите скважины с максимальными значениями предсказаний.\n",
    "\n",
    "4.2. Просуммируйте целевое значение объёма сырья, соответствующее этим предсказаниям.\n",
    "\n",
    "4.3. Рассчитайте прибыль для полученного объёма сырья.\n",
    "\n",
    "Посчитайте риски и прибыль для каждого региона:\n",
    "\n",
    "5.1. Примените технику Bootstrap с 1000 выборок, чтобы найти распределение прибыли.\n",
    "\n",
    "5.2. Найдите среднюю прибыль, 95%-й доверительный интервал и риск убытков. Убыток — это отрицательная прибыль.\n",
    "\n",
    "5.3. Напишите выводы: предложите регион для разработки скважин и обоснуйте выбор."
   ]
  },
  {
   "cell_type": "markdown",
   "metadata": {},
   "source": [
    "**Описание данных**\n",
    "\n",
    "Данные геологоразведки трёх регионов находятся в файлах:\n",
    "- geo_data_0.csv\n",
    "- geo_data_1.csv\n",
    "- geo_data_2.csv\n",
    "\n",
    "id — уникальный идентификатор скважины;\n",
    "\n",
    "f0, f1, f2 — три признака точек (неважно, что они означают, но сами признаки значимы);\n",
    "\n",
    "product — объём запасов в скважине (тыс. баррелей)."
   ]
  },
  {
   "cell_type": "markdown",
   "metadata": {},
   "source": [
    "**Условия задачи:**\n",
    "\n",
    "Для обучения модели подходит только линейная регрессия (остальные — недостаточно предсказуемые).\n",
    "\n",
    "При разведке региона исследуют 500 точек, из которых с помощью машинного обучения выбирают 200 лучших для разработки.\n",
    "\n",
    "Бюджет на разработку скважин в регионе — 10 млрд рублей.\n",
    "\n",
    "При нынешних ценах один баррель сырья приносит 450 рублей дохода. Доход с каждой единицы продукта составляет 450 тыс. рублей, поскольку объём указан в тысячах баррелей.\n",
    "\n",
    "После оценки рисков нужно оставить лишь те регионы, в которых вероятность убытков меньше 2.5%. Среди них выбирают регион с наибольшей средней прибылью.\n",
    "\n",
    "Данные синтетические: детали контрактов и характеристики месторождений не разглашаются."
   ]
  },
  {
   "cell_type": "markdown",
   "metadata": {},
   "source": [
    "## Подготовка данных"
   ]
  },
  {
   "cell_type": "markdown",
   "metadata": {},
   "source": [
    "Импортирую необходимые для исследования библиотеки."
   ]
  },
  {
   "cell_type": "code",
   "execution_count": 1,
   "metadata": {},
   "outputs": [],
   "source": [
    "import matplotlib.pyplot as plt\n",
    "import numpy as np\n",
    "import pandas as pd\n",
    "from sklearn.model_selection import train_test_split\n",
    "from sklearn.linear_model import LinearRegression\n",
    "from sklearn.metrics import mean_squared_error\n",
    "from sklearn.preprocessing import StandardScaler\n",
    "import warnings\n",
    "warnings.filterwarnings('ignore')"
   ]
  },
  {
   "cell_type": "markdown",
   "metadata": {},
   "source": [
    "Ознакомлюсь с данными."
   ]
  },
  {
   "cell_type": "code",
   "execution_count": 2,
   "metadata": {},
   "outputs": [
    {
     "data": {
      "text/html": [
       "<div>\n",
       "<style scoped>\n",
       "    .dataframe tbody tr th:only-of-type {\n",
       "        vertical-align: middle;\n",
       "    }\n",
       "\n",
       "    .dataframe tbody tr th {\n",
       "        vertical-align: top;\n",
       "    }\n",
       "\n",
       "    .dataframe thead th {\n",
       "        text-align: right;\n",
       "    }\n",
       "</style>\n",
       "<table border=\"1\" class=\"dataframe\">\n",
       "  <thead>\n",
       "    <tr style=\"text-align: right;\">\n",
       "      <th></th>\n",
       "      <th>id</th>\n",
       "      <th>f0</th>\n",
       "      <th>f1</th>\n",
       "      <th>f2</th>\n",
       "      <th>product</th>\n",
       "    </tr>\n",
       "  </thead>\n",
       "  <tbody>\n",
       "    <tr>\n",
       "      <th>0</th>\n",
       "      <td>txEyH</td>\n",
       "      <td>0.705745</td>\n",
       "      <td>-0.497823</td>\n",
       "      <td>1.221170</td>\n",
       "      <td>105.280062</td>\n",
       "    </tr>\n",
       "    <tr>\n",
       "      <th>1</th>\n",
       "      <td>2acmU</td>\n",
       "      <td>1.334711</td>\n",
       "      <td>-0.340164</td>\n",
       "      <td>4.365080</td>\n",
       "      <td>73.037750</td>\n",
       "    </tr>\n",
       "    <tr>\n",
       "      <th>2</th>\n",
       "      <td>409Wp</td>\n",
       "      <td>1.022732</td>\n",
       "      <td>0.151990</td>\n",
       "      <td>1.419926</td>\n",
       "      <td>85.265647</td>\n",
       "    </tr>\n",
       "    <tr>\n",
       "      <th>3</th>\n",
       "      <td>iJLyR</td>\n",
       "      <td>-0.032172</td>\n",
       "      <td>0.139033</td>\n",
       "      <td>2.978566</td>\n",
       "      <td>168.620776</td>\n",
       "    </tr>\n",
       "    <tr>\n",
       "      <th>4</th>\n",
       "      <td>Xdl7t</td>\n",
       "      <td>1.988431</td>\n",
       "      <td>0.155413</td>\n",
       "      <td>4.751769</td>\n",
       "      <td>154.036647</td>\n",
       "    </tr>\n",
       "    <tr>\n",
       "      <th>5</th>\n",
       "      <td>wX4Hy</td>\n",
       "      <td>0.969570</td>\n",
       "      <td>0.489775</td>\n",
       "      <td>-0.735383</td>\n",
       "      <td>64.741541</td>\n",
       "    </tr>\n",
       "    <tr>\n",
       "      <th>6</th>\n",
       "      <td>tL6pL</td>\n",
       "      <td>0.645075</td>\n",
       "      <td>0.530656</td>\n",
       "      <td>1.780266</td>\n",
       "      <td>49.055285</td>\n",
       "    </tr>\n",
       "    <tr>\n",
       "      <th>7</th>\n",
       "      <td>BYPU6</td>\n",
       "      <td>-0.400648</td>\n",
       "      <td>0.808337</td>\n",
       "      <td>-5.624670</td>\n",
       "      <td>72.943292</td>\n",
       "    </tr>\n",
       "    <tr>\n",
       "      <th>8</th>\n",
       "      <td>j9Oui</td>\n",
       "      <td>0.643105</td>\n",
       "      <td>-0.551583</td>\n",
       "      <td>2.372141</td>\n",
       "      <td>113.356160</td>\n",
       "    </tr>\n",
       "    <tr>\n",
       "      <th>9</th>\n",
       "      <td>OLuZU</td>\n",
       "      <td>2.173381</td>\n",
       "      <td>0.563698</td>\n",
       "      <td>9.441852</td>\n",
       "      <td>127.910945</td>\n",
       "    </tr>\n",
       "  </tbody>\n",
       "</table>\n",
       "</div>"
      ],
      "text/plain": [
       "      id        f0        f1        f2     product\n",
       "0  txEyH  0.705745 -0.497823  1.221170  105.280062\n",
       "1  2acmU  1.334711 -0.340164  4.365080   73.037750\n",
       "2  409Wp  1.022732  0.151990  1.419926   85.265647\n",
       "3  iJLyR -0.032172  0.139033  2.978566  168.620776\n",
       "4  Xdl7t  1.988431  0.155413  4.751769  154.036647\n",
       "5  wX4Hy  0.969570  0.489775 -0.735383   64.741541\n",
       "6  tL6pL  0.645075  0.530656  1.780266   49.055285\n",
       "7  BYPU6 -0.400648  0.808337 -5.624670   72.943292\n",
       "8  j9Oui  0.643105 -0.551583  2.372141  113.356160\n",
       "9  OLuZU  2.173381  0.563698  9.441852  127.910945"
      ]
     },
     "metadata": {},
     "output_type": "display_data"
    },
    {
     "name": "stdout",
     "output_type": "stream",
     "text": [
      "<class 'pandas.core.frame.DataFrame'>\n",
      "RangeIndex: 100000 entries, 0 to 99999\n",
      "Data columns (total 5 columns):\n",
      " #   Column   Non-Null Count   Dtype  \n",
      "---  ------   --------------   -----  \n",
      " 0   id       100000 non-null  object \n",
      " 1   f0       100000 non-null  float64\n",
      " 2   f1       100000 non-null  float64\n",
      " 3   f2       100000 non-null  float64\n",
      " 4   product  100000 non-null  float64\n",
      "dtypes: float64(4), object(1)\n",
      "memory usage: 3.8+ MB\n"
     ]
    },
    {
     "data": {
      "text/plain": [
       "None"
      ]
     },
     "metadata": {},
     "output_type": "display_data"
    }
   ],
   "source": [
    "try:  \n",
    "    data_0 = pd.read_csv('C:/project/geo_data_0.csv')\n",
    "except OSError as e:\n",
    "    data_0 = pd.read_csv('/datasets/geo_data_0.csv')\n",
    "display(data_0.head(10))\n",
    "display(data_0.info())"
   ]
  },
  {
   "cell_type": "code",
   "execution_count": 3,
   "metadata": {},
   "outputs": [
    {
     "data": {
      "text/html": [
       "<div>\n",
       "<style scoped>\n",
       "    .dataframe tbody tr th:only-of-type {\n",
       "        vertical-align: middle;\n",
       "    }\n",
       "\n",
       "    .dataframe tbody tr th {\n",
       "        vertical-align: top;\n",
       "    }\n",
       "\n",
       "    .dataframe thead th {\n",
       "        text-align: right;\n",
       "    }\n",
       "</style>\n",
       "<table border=\"1\" class=\"dataframe\">\n",
       "  <thead>\n",
       "    <tr style=\"text-align: right;\">\n",
       "      <th></th>\n",
       "      <th>id</th>\n",
       "      <th>f0</th>\n",
       "      <th>f1</th>\n",
       "      <th>f2</th>\n",
       "      <th>product</th>\n",
       "    </tr>\n",
       "  </thead>\n",
       "  <tbody>\n",
       "    <tr>\n",
       "      <th>0</th>\n",
       "      <td>kBEdx</td>\n",
       "      <td>-15.001348</td>\n",
       "      <td>-8.276000</td>\n",
       "      <td>-0.005876</td>\n",
       "      <td>3.179103</td>\n",
       "    </tr>\n",
       "    <tr>\n",
       "      <th>1</th>\n",
       "      <td>62mP7</td>\n",
       "      <td>14.272088</td>\n",
       "      <td>-3.475083</td>\n",
       "      <td>0.999183</td>\n",
       "      <td>26.953261</td>\n",
       "    </tr>\n",
       "    <tr>\n",
       "      <th>2</th>\n",
       "      <td>vyE1P</td>\n",
       "      <td>6.263187</td>\n",
       "      <td>-5.948386</td>\n",
       "      <td>5.001160</td>\n",
       "      <td>134.766305</td>\n",
       "    </tr>\n",
       "    <tr>\n",
       "      <th>3</th>\n",
       "      <td>KcrkZ</td>\n",
       "      <td>-13.081196</td>\n",
       "      <td>-11.506057</td>\n",
       "      <td>4.999415</td>\n",
       "      <td>137.945408</td>\n",
       "    </tr>\n",
       "    <tr>\n",
       "      <th>4</th>\n",
       "      <td>AHL4O</td>\n",
       "      <td>12.702195</td>\n",
       "      <td>-8.147433</td>\n",
       "      <td>5.004363</td>\n",
       "      <td>134.766305</td>\n",
       "    </tr>\n",
       "    <tr>\n",
       "      <th>5</th>\n",
       "      <td>HHckp</td>\n",
       "      <td>-3.327590</td>\n",
       "      <td>-2.205276</td>\n",
       "      <td>3.003647</td>\n",
       "      <td>84.038886</td>\n",
       "    </tr>\n",
       "    <tr>\n",
       "      <th>6</th>\n",
       "      <td>h5Ujo</td>\n",
       "      <td>-11.142655</td>\n",
       "      <td>-10.133399</td>\n",
       "      <td>4.002382</td>\n",
       "      <td>110.992147</td>\n",
       "    </tr>\n",
       "    <tr>\n",
       "      <th>7</th>\n",
       "      <td>muH9x</td>\n",
       "      <td>4.234715</td>\n",
       "      <td>-0.001354</td>\n",
       "      <td>2.004588</td>\n",
       "      <td>53.906522</td>\n",
       "    </tr>\n",
       "    <tr>\n",
       "      <th>8</th>\n",
       "      <td>YiRkx</td>\n",
       "      <td>13.355129</td>\n",
       "      <td>-0.332068</td>\n",
       "      <td>4.998647</td>\n",
       "      <td>134.766305</td>\n",
       "    </tr>\n",
       "    <tr>\n",
       "      <th>9</th>\n",
       "      <td>jG6Gi</td>\n",
       "      <td>1.069227</td>\n",
       "      <td>-11.025667</td>\n",
       "      <td>4.997844</td>\n",
       "      <td>137.945408</td>\n",
       "    </tr>\n",
       "  </tbody>\n",
       "</table>\n",
       "</div>"
      ],
      "text/plain": [
       "      id         f0         f1        f2     product\n",
       "0  kBEdx -15.001348  -8.276000 -0.005876    3.179103\n",
       "1  62mP7  14.272088  -3.475083  0.999183   26.953261\n",
       "2  vyE1P   6.263187  -5.948386  5.001160  134.766305\n",
       "3  KcrkZ -13.081196 -11.506057  4.999415  137.945408\n",
       "4  AHL4O  12.702195  -8.147433  5.004363  134.766305\n",
       "5  HHckp  -3.327590  -2.205276  3.003647   84.038886\n",
       "6  h5Ujo -11.142655 -10.133399  4.002382  110.992147\n",
       "7  muH9x   4.234715  -0.001354  2.004588   53.906522\n",
       "8  YiRkx  13.355129  -0.332068  4.998647  134.766305\n",
       "9  jG6Gi   1.069227 -11.025667  4.997844  137.945408"
      ]
     },
     "metadata": {},
     "output_type": "display_data"
    },
    {
     "name": "stdout",
     "output_type": "stream",
     "text": [
      "<class 'pandas.core.frame.DataFrame'>\n",
      "RangeIndex: 100000 entries, 0 to 99999\n",
      "Data columns (total 5 columns):\n",
      " #   Column   Non-Null Count   Dtype  \n",
      "---  ------   --------------   -----  \n",
      " 0   id       100000 non-null  object \n",
      " 1   f0       100000 non-null  float64\n",
      " 2   f1       100000 non-null  float64\n",
      " 3   f2       100000 non-null  float64\n",
      " 4   product  100000 non-null  float64\n",
      "dtypes: float64(4), object(1)\n",
      "memory usage: 3.8+ MB\n"
     ]
    },
    {
     "data": {
      "text/plain": [
       "None"
      ]
     },
     "metadata": {},
     "output_type": "display_data"
    }
   ],
   "source": [
    "try:  \n",
    "    data_1 = pd.read_csv('C:/project/geo_data_1.csv')\n",
    "except OSError as e:\n",
    "    data_1 = pd.read_csv('/datasets/geo_data_1.csv')\n",
    "display(data_1.head(10))\n",
    "display(data_1.info())"
   ]
  },
  {
   "cell_type": "code",
   "execution_count": 4,
   "metadata": {},
   "outputs": [
    {
     "data": {
      "text/html": [
       "<div>\n",
       "<style scoped>\n",
       "    .dataframe tbody tr th:only-of-type {\n",
       "        vertical-align: middle;\n",
       "    }\n",
       "\n",
       "    .dataframe tbody tr th {\n",
       "        vertical-align: top;\n",
       "    }\n",
       "\n",
       "    .dataframe thead th {\n",
       "        text-align: right;\n",
       "    }\n",
       "</style>\n",
       "<table border=\"1\" class=\"dataframe\">\n",
       "  <thead>\n",
       "    <tr style=\"text-align: right;\">\n",
       "      <th></th>\n",
       "      <th>id</th>\n",
       "      <th>f0</th>\n",
       "      <th>f1</th>\n",
       "      <th>f2</th>\n",
       "      <th>product</th>\n",
       "    </tr>\n",
       "  </thead>\n",
       "  <tbody>\n",
       "    <tr>\n",
       "      <th>0</th>\n",
       "      <td>fwXo0</td>\n",
       "      <td>-1.146987</td>\n",
       "      <td>0.963328</td>\n",
       "      <td>-0.828965</td>\n",
       "      <td>27.758673</td>\n",
       "    </tr>\n",
       "    <tr>\n",
       "      <th>1</th>\n",
       "      <td>WJtFt</td>\n",
       "      <td>0.262778</td>\n",
       "      <td>0.269839</td>\n",
       "      <td>-2.530187</td>\n",
       "      <td>56.069697</td>\n",
       "    </tr>\n",
       "    <tr>\n",
       "      <th>2</th>\n",
       "      <td>ovLUW</td>\n",
       "      <td>0.194587</td>\n",
       "      <td>0.289035</td>\n",
       "      <td>-5.586433</td>\n",
       "      <td>62.871910</td>\n",
       "    </tr>\n",
       "    <tr>\n",
       "      <th>3</th>\n",
       "      <td>q6cA6</td>\n",
       "      <td>2.236060</td>\n",
       "      <td>-0.553760</td>\n",
       "      <td>0.930038</td>\n",
       "      <td>114.572842</td>\n",
       "    </tr>\n",
       "    <tr>\n",
       "      <th>4</th>\n",
       "      <td>WPMUX</td>\n",
       "      <td>-0.515993</td>\n",
       "      <td>1.716266</td>\n",
       "      <td>5.899011</td>\n",
       "      <td>149.600746</td>\n",
       "    </tr>\n",
       "    <tr>\n",
       "      <th>5</th>\n",
       "      <td>LzZXx</td>\n",
       "      <td>-0.758092</td>\n",
       "      <td>0.710691</td>\n",
       "      <td>2.585887</td>\n",
       "      <td>90.222465</td>\n",
       "    </tr>\n",
       "    <tr>\n",
       "      <th>6</th>\n",
       "      <td>WBHRv</td>\n",
       "      <td>-0.574891</td>\n",
       "      <td>0.317727</td>\n",
       "      <td>1.773745</td>\n",
       "      <td>45.641478</td>\n",
       "    </tr>\n",
       "    <tr>\n",
       "      <th>7</th>\n",
       "      <td>XO8fn</td>\n",
       "      <td>-1.906649</td>\n",
       "      <td>-2.458350</td>\n",
       "      <td>-0.177097</td>\n",
       "      <td>72.480640</td>\n",
       "    </tr>\n",
       "    <tr>\n",
       "      <th>8</th>\n",
       "      <td>ybmQ5</td>\n",
       "      <td>1.776292</td>\n",
       "      <td>-0.279356</td>\n",
       "      <td>3.004156</td>\n",
       "      <td>106.616832</td>\n",
       "    </tr>\n",
       "    <tr>\n",
       "      <th>9</th>\n",
       "      <td>OilcN</td>\n",
       "      <td>-1.214452</td>\n",
       "      <td>-0.439314</td>\n",
       "      <td>5.922514</td>\n",
       "      <td>52.954532</td>\n",
       "    </tr>\n",
       "  </tbody>\n",
       "</table>\n",
       "</div>"
      ],
      "text/plain": [
       "      id        f0        f1        f2     product\n",
       "0  fwXo0 -1.146987  0.963328 -0.828965   27.758673\n",
       "1  WJtFt  0.262778  0.269839 -2.530187   56.069697\n",
       "2  ovLUW  0.194587  0.289035 -5.586433   62.871910\n",
       "3  q6cA6  2.236060 -0.553760  0.930038  114.572842\n",
       "4  WPMUX -0.515993  1.716266  5.899011  149.600746\n",
       "5  LzZXx -0.758092  0.710691  2.585887   90.222465\n",
       "6  WBHRv -0.574891  0.317727  1.773745   45.641478\n",
       "7  XO8fn -1.906649 -2.458350 -0.177097   72.480640\n",
       "8  ybmQ5  1.776292 -0.279356  3.004156  106.616832\n",
       "9  OilcN -1.214452 -0.439314  5.922514   52.954532"
      ]
     },
     "metadata": {},
     "output_type": "display_data"
    },
    {
     "name": "stdout",
     "output_type": "stream",
     "text": [
      "<class 'pandas.core.frame.DataFrame'>\n",
      "RangeIndex: 100000 entries, 0 to 99999\n",
      "Data columns (total 5 columns):\n",
      " #   Column   Non-Null Count   Dtype  \n",
      "---  ------   --------------   -----  \n",
      " 0   id       100000 non-null  object \n",
      " 1   f0       100000 non-null  float64\n",
      " 2   f1       100000 non-null  float64\n",
      " 3   f2       100000 non-null  float64\n",
      " 4   product  100000 non-null  float64\n",
      "dtypes: float64(4), object(1)\n",
      "memory usage: 3.8+ MB\n"
     ]
    },
    {
     "data": {
      "text/plain": [
       "None"
      ]
     },
     "metadata": {},
     "output_type": "display_data"
    }
   ],
   "source": [
    "try:  \n",
    "    data_2 = pd.read_csv('C:/project/geo_data_2.csv')\n",
    "except OSError as e:\n",
    "    data_2 = pd.read_csv('/datasets/geo_data_2.csv')\n",
    "display(data_2.head(10))\n",
    "display(data_2.info())"
   ]
  },
  {
   "cell_type": "markdown",
   "metadata": {},
   "source": [
    "Проверю данные на наличие выбивающихся значений."
   ]
  },
  {
   "cell_type": "code",
   "execution_count": 5,
   "metadata": {},
   "outputs": [],
   "source": [
    "def data_values(data):\n",
    "    for column in data.columns:\n",
    "        print('Значения столбца', column)\n",
    "        print(data[column].sort_values().unique())"
   ]
  },
  {
   "cell_type": "code",
   "execution_count": 6,
   "metadata": {},
   "outputs": [
    {
     "name": "stdout",
     "output_type": "stream",
     "text": [
      "Значения столбца id\n",
      "['006OJ' '009eY' '00AfQ' ... 'zztWK' 'zzyhQ' 'zzzLH']\n",
      "Значения столбца f0\n",
      "[-1.40860531 -1.35177299 -1.30222711 ...  2.33375269  2.33707957\n",
      "  2.36233081]\n",
      "Значения столбца f1\n",
      "[-0.8482185  -0.84490792 -0.8205609  ...  1.33334561  1.33482762\n",
      "  1.34376933]\n",
      "Значения столбца f2\n",
      "[-12.08832812 -10.13834135 -10.13817115 ...  15.23032159  15.42837187\n",
      "  16.00379001]\n",
      "Значения столбца product\n",
      "[0.00000000e+00 4.02152316e-03 6.11363631e-03 ... 1.85355615e+02\n",
      " 1.85362690e+02 1.85364347e+02]\n"
     ]
    }
   ],
   "source": [
    "data_values(data_0)"
   ]
  },
  {
   "cell_type": "markdown",
   "metadata": {},
   "source": [
    "В столбце product имеются нули."
   ]
  },
  {
   "cell_type": "code",
   "execution_count": 7,
   "metadata": {},
   "outputs": [
    {
     "data": {
      "text/plain": [
       "1"
      ]
     },
     "metadata": {},
     "output_type": "display_data"
    }
   ],
   "source": [
    "display(data_0[data_0['product'] == 0]['product'].count())"
   ]
  },
  {
   "cell_type": "code",
   "execution_count": 8,
   "metadata": {},
   "outputs": [
    {
     "name": "stdout",
     "output_type": "stream",
     "text": [
      "Значения столбца id\n",
      "['0022J' '003Gl' '003Vx' ... 'zzv4E' 'zzy2c' 'zzzvI']\n",
      "Значения столбца f0\n",
      "[-31.60957602 -27.82961614 -26.64625507 ...  28.93082879  29.25906208\n",
      "  29.42175461]\n",
      "Значения столбца f1\n",
      "[-26.35859801 -25.38962242 -25.2915177  ...  16.0268693   16.7371962\n",
      "  18.73406263]\n",
      "Значения столбца f2\n",
      "[-0.01814409 -0.01788668 -0.01768626 ...  5.01750345  5.01909142\n",
      "  5.01972056]\n",
      "Значения столбца product\n",
      "[  0.           3.17910258  26.95326103  30.13236361  53.90652206\n",
      "  57.08562465  80.85978309  84.03888568 107.81304413 110.99214671\n",
      " 134.76630516 137.94540774]\n"
     ]
    }
   ],
   "source": [
    "data_values(data_1)"
   ]
  },
  {
   "cell_type": "markdown",
   "metadata": {},
   "source": [
    "В столбце product имеются нули."
   ]
  },
  {
   "cell_type": "code",
   "execution_count": 9,
   "metadata": {},
   "outputs": [
    {
     "data": {
      "text/plain": [
       "8235"
      ]
     },
     "metadata": {},
     "output_type": "display_data"
    }
   ],
   "source": [
    "display(data_1[data_1['product'] == 0]['product'].count())"
   ]
  },
  {
   "cell_type": "code",
   "execution_count": 10,
   "metadata": {},
   "outputs": [
    {
     "name": "stdout",
     "output_type": "stream",
     "text": [
      "Значения столбца id\n",
      "['009Gl' '00AuD' '00CaL' ... 'zzqqy' 'zzsKd' 'zzz9h']\n",
      "Значения столбца f0\n",
      "[-8.76000362 -7.45058711 -7.18949804 ...  7.19461485  7.21552717\n",
      "  7.23826248]\n",
      "Значения столбца f1\n",
      "[-7.08401976 -6.74835677 -6.73299712 ...  7.10161842  7.76185714\n",
      "  7.84480127]\n",
      "Значения столбца f2\n",
      "[-11.97033454 -11.61169048 -11.40724351 ...  16.31301122  16.35764509\n",
      "  16.73940206]\n",
      "Значения столбца product\n",
      "[0.00000000e+00 4.60600004e-03 9.20411196e-03 ... 1.90011722e+02\n",
      " 1.90013589e+02 1.90029838e+02]\n"
     ]
    }
   ],
   "source": [
    "data_values(data_2)"
   ]
  },
  {
   "cell_type": "markdown",
   "metadata": {},
   "source": [
    "В столбце product имеются нули."
   ]
  },
  {
   "cell_type": "code",
   "execution_count": 11,
   "metadata": {},
   "outputs": [
    {
     "data": {
      "text/plain": [
       "1"
      ]
     },
     "metadata": {},
     "output_type": "display_data"
    }
   ],
   "source": [
    "display(data_2[data_2['product'] == 0]['product'].count())"
   ]
  },
  {
   "cell_type": "markdown",
   "metadata": {},
   "source": [
    "Удалю из данных столбец id, так как его значения влияют на исследование."
   ]
  },
  {
   "cell_type": "code",
   "execution_count": 12,
   "metadata": {},
   "outputs": [],
   "source": [
    "data_0 = data_0.drop(['id'], axis=1)\n",
    "data_1 = data_1.drop(['id'], axis=1)\n",
    "data_2 = data_2.drop(['id'], axis=1)"
   ]
  },
  {
   "cell_type": "markdown",
   "metadata": {},
   "source": [
    "Удалю строки-дубликаты, если такие имеются."
   ]
  },
  {
   "cell_type": "code",
   "execution_count": 13,
   "metadata": {},
   "outputs": [
    {
     "name": "stdout",
     "output_type": "stream",
     "text": [
      "<class 'pandas.core.frame.DataFrame'>\n",
      "Int64Index: 100000 entries, 0 to 99999\n",
      "Data columns (total 4 columns):\n",
      " #   Column   Non-Null Count   Dtype  \n",
      "---  ------   --------------   -----  \n",
      " 0   f0       100000 non-null  float64\n",
      " 1   f1       100000 non-null  float64\n",
      " 2   f2       100000 non-null  float64\n",
      " 3   product  100000 non-null  float64\n",
      "dtypes: float64(4)\n",
      "memory usage: 3.8 MB\n",
      "<class 'pandas.core.frame.DataFrame'>\n",
      "Int64Index: 100000 entries, 0 to 99999\n",
      "Data columns (total 4 columns):\n",
      " #   Column   Non-Null Count   Dtype  \n",
      "---  ------   --------------   -----  \n",
      " 0   f0       100000 non-null  float64\n",
      " 1   f1       100000 non-null  float64\n",
      " 2   f2       100000 non-null  float64\n",
      " 3   product  100000 non-null  float64\n",
      "dtypes: float64(4)\n",
      "memory usage: 3.8 MB\n",
      "<class 'pandas.core.frame.DataFrame'>\n",
      "Int64Index: 100000 entries, 0 to 99999\n",
      "Data columns (total 4 columns):\n",
      " #   Column   Non-Null Count   Dtype  \n",
      "---  ------   --------------   -----  \n",
      " 0   f0       100000 non-null  float64\n",
      " 1   f1       100000 non-null  float64\n",
      " 2   f2       100000 non-null  float64\n",
      " 3   product  100000 non-null  float64\n",
      "dtypes: float64(4)\n",
      "memory usage: 3.8 MB\n"
     ]
    }
   ],
   "source": [
    "data_0 = data_0.drop_duplicates()\n",
    "data_1 = data_1.drop_duplicates()\n",
    "data_2 = data_2.drop_duplicates()\n",
    "data_0.info()\n",
    "data_1.info()\n",
    "data_2.info()"
   ]
  },
  {
   "cell_type": "markdown",
   "metadata": {},
   "source": [
    "Приведу столбец product к типу данных int 64."
   ]
  },
  {
   "cell_type": "code",
   "execution_count": 14,
   "metadata": {},
   "outputs": [
    {
     "name": "stdout",
     "output_type": "stream",
     "text": [
      "<class 'pandas.core.frame.DataFrame'>\n",
      "Int64Index: 100000 entries, 0 to 99999\n",
      "Data columns (total 4 columns):\n",
      " #   Column   Non-Null Count   Dtype  \n",
      "---  ------   --------------   -----  \n",
      " 0   f0       100000 non-null  float64\n",
      " 1   f1       100000 non-null  float64\n",
      " 2   f2       100000 non-null  float64\n",
      " 3   product  100000 non-null  int64  \n",
      "dtypes: float64(3), int64(1)\n",
      "memory usage: 3.8 MB\n",
      "<class 'pandas.core.frame.DataFrame'>\n",
      "Int64Index: 100000 entries, 0 to 99999\n",
      "Data columns (total 4 columns):\n",
      " #   Column   Non-Null Count   Dtype  \n",
      "---  ------   --------------   -----  \n",
      " 0   f0       100000 non-null  float64\n",
      " 1   f1       100000 non-null  float64\n",
      " 2   f2       100000 non-null  float64\n",
      " 3   product  100000 non-null  int64  \n",
      "dtypes: float64(3), int64(1)\n",
      "memory usage: 3.8 MB\n",
      "<class 'pandas.core.frame.DataFrame'>\n",
      "Int64Index: 100000 entries, 0 to 99999\n",
      "Data columns (total 4 columns):\n",
      " #   Column   Non-Null Count   Dtype  \n",
      "---  ------   --------------   -----  \n",
      " 0   f0       100000 non-null  float64\n",
      " 1   f1       100000 non-null  float64\n",
      " 2   f2       100000 non-null  float64\n",
      " 3   product  100000 non-null  int64  \n",
      "dtypes: float64(3), int64(1)\n",
      "memory usage: 3.8 MB\n"
     ]
    }
   ],
   "source": [
    "data_0 = data_0.astype({\"product\": \"int64\"})\n",
    "data_1 = data_1.astype({\"product\": \"int64\"})\n",
    "data_2 = data_2.astype({\"product\": \"int64\"})\n",
    "data_0.info()\n",
    "data_1.info()\n",
    "data_2.info()"
   ]
  },
  {
   "cell_type": "markdown",
   "metadata": {},
   "source": [
    "Построю гистограммы по столбцу product для визуального понимания количества продукта в скважинах."
   ]
  },
  {
   "cell_type": "code",
   "execution_count": 15,
   "metadata": {},
   "outputs": [],
   "source": [
    "def product_hist(data):\n",
    "    plt.figure(figsize=[12,9])\n",
    "\n",
    "    plt.hist(data, bins=200)\n",
    "\n",
    "    plt.xlim([0,180])\n",
    "    plt.ylim([0,850])\n",
    "\n",
    "    plt.xlabel(\"Объём запасов продукта в скважине, тыс. барелей\")\n",
    "    plt.ylabel(\"Количество скважин, шт\")\n",
    "\n",
    "    plt.title(\"Гистограмма распределения продукта в скважинах\")\n",
    "    plt.show()"
   ]
  },
  {
   "cell_type": "code",
   "execution_count": 16,
   "metadata": {},
   "outputs": [
    {
     "data": {
      "image/png": "[encoded data removed]",
      "text/plain": [
       "<Figure size 864x648 with 1 Axes>"
      ]
     },
     "metadata": {
      "needs_background": "light"
     },
     "output_type": "display_data"
    }
   ],
   "source": [
    "product_hist(data_0['product'])"
   ]
  },
  {
   "cell_type": "code",
   "execution_count": 17,
   "metadata": {},
   "outputs": [
    {
     "data": {
      "image/png": "[encoded data removed]",
      "text/plain": [
       "<Figure size 864x648 with 1 Axes>"
      ]
     },
     "metadata": {
      "needs_background": "light"
     },
     "output_type": "display_data"
    }
   ],
   "source": [
    "product_hist(data_1['product'])"
   ]
  },
  {
   "cell_type": "code",
   "execution_count": 18,
   "metadata": {},
   "outputs": [
    {
     "data": {
      "image/png": "[encoded data removed]",
      "text/plain": [
       "<Figure size 864x648 with 1 Axes>"
      ]
     },
     "metadata": {
      "needs_background": "light"
     },
     "output_type": "display_data"
    }
   ],
   "source": [
    "product_hist(data_2['product'])"
   ]
  },
  {
   "cell_type": "markdown",
   "metadata": {},
   "source": [
    "### Вывод"
   ]
  },
  {
   "cell_type": "markdown",
   "metadata": {},
   "source": [
    "Данные изучены и подготовленны к исследованию.\n",
    "\n",
    "В некоторых строках столбец product имеет нули, считаю, что это говорит об отсутствии продукта в данной скважине.\n",
    "\n",
    "Гистограмма данных data_1 отличается от гистограмм данных data_0 и data_2. Гистограммы data_0 и data_2 имеют распределение близкое к нормальному, но гистограмма data_1 имеет всплески через равные промежутки, что наводит на мысль об исскуственной подгонке данных."
   ]
  },
  {
   "cell_type": "markdown",
   "metadata": {},
   "source": [
    "## Обучение и проверка модели"
   ]
  },
  {
   "cell_type": "markdown",
   "metadata": {},
   "source": [
    "Выберу наилучшую модель для предсказания."
   ]
  },
  {
   "cell_type": "markdown",
   "metadata": {},
   "source": [
    "### Модель для первого региона"
   ]
  },
  {
   "cell_type": "markdown",
   "metadata": {},
   "source": [
    "Создам обучающую и валидационную выборки в соотношении 75:25."
   ]
  },
  {
   "cell_type": "code",
   "execution_count": 19,
   "metadata": {},
   "outputs": [
    {
     "name": "stdout",
     "output_type": "stream",
     "text": [
      "Размер обучающей выборки 75000\n",
      "Размер валидационной выборки 25000\n"
     ]
    }
   ],
   "source": [
    "target_data_0 = data_0['product']\n",
    "features_data_0 = data_0.drop('product', axis=1)\n",
    "\n",
    "features_train_data_0, features_valid_data_0, target_train_data_0, target_valid_data_0 = train_test_split(\n",
    "    features_data_0, target_data_0, test_size=0.25, random_state=12345)\n",
    "\n",
    "print('Размер обучающей выборки', features_train_data_0.shape[0])\n",
    "print('Размер валидационной выборки', features_valid_data_0.shape[0])"
   ]
  },
  {
   "cell_type": "markdown",
   "metadata": {},
   "source": [
    "Обучу StandardScaler() на обучающей выборке."
   ]
  },
  {
   "cell_type": "code",
   "execution_count": 20,
   "metadata": {},
   "outputs": [
    {
     "data": {
      "text/html": [
       "<div>\n",
       "<style scoped>\n",
       "    .dataframe tbody tr th:only-of-type {\n",
       "        vertical-align: middle;\n",
       "    }\n",
       "\n",
       "    .dataframe tbody tr th {\n",
       "        vertical-align: top;\n",
       "    }\n",
       "\n",
       "    .dataframe thead th {\n",
       "        text-align: right;\n",
       "    }\n",
       "</style>\n",
       "<table border=\"1\" class=\"dataframe\">\n",
       "  <thead>\n",
       "    <tr style=\"text-align: right;\">\n",
       "      <th></th>\n",
       "      <th>f0</th>\n",
       "      <th>f1</th>\n",
       "      <th>f2</th>\n",
       "    </tr>\n",
       "  </thead>\n",
       "  <tbody>\n",
       "    <tr>\n",
       "      <th>27212</th>\n",
       "      <td>-0.544828</td>\n",
       "      <td>1.390264</td>\n",
       "      <td>-0.094959</td>\n",
       "    </tr>\n",
       "    <tr>\n",
       "      <th>7866</th>\n",
       "      <td>1.455912</td>\n",
       "      <td>-0.480422</td>\n",
       "      <td>1.209567</td>\n",
       "    </tr>\n",
       "    <tr>\n",
       "      <th>62041</th>\n",
       "      <td>0.260460</td>\n",
       "      <td>0.825069</td>\n",
       "      <td>-0.204865</td>\n",
       "    </tr>\n",
       "    <tr>\n",
       "      <th>70185</th>\n",
       "      <td>-1.837105</td>\n",
       "      <td>0.010321</td>\n",
       "      <td>-0.147634</td>\n",
       "    </tr>\n",
       "    <tr>\n",
       "      <th>82230</th>\n",
       "      <td>-1.299243</td>\n",
       "      <td>0.987558</td>\n",
       "      <td>1.273181</td>\n",
       "    </tr>\n",
       "  </tbody>\n",
       "</table>\n",
       "</div>"
      ],
      "text/plain": [
       "             f0        f1        f2\n",
       "27212 -0.544828  1.390264 -0.094959\n",
       "7866   1.455912 -0.480422  1.209567\n",
       "62041  0.260460  0.825069 -0.204865\n",
       "70185 -1.837105  0.010321 -0.147634\n",
       "82230 -1.299243  0.987558  1.273181"
      ]
     },
     "metadata": {},
     "output_type": "display_data"
    }
   ],
   "source": [
    "numeric = ['f0', 'f1', 'f2']\n",
    "\n",
    "scaler = StandardScaler()\n",
    "scaler.fit(features_train_data_0[numeric])\n",
    "features_train_data_0[numeric] = scaler.transform(features_train_data_0[numeric])\n",
    "features_valid_data_0[numeric] = scaler.transform(features_valid_data_0[numeric])\n",
    "\n",
    "display(features_train_data_0.head())"
   ]
  },
  {
   "cell_type": "markdown",
   "metadata": {},
   "source": [
    "Рассчитаю RMSE модели."
   ]
  },
  {
   "cell_type": "code",
   "execution_count": 21,
   "metadata": {},
   "outputs": [
    {
     "name": "stdout",
     "output_type": "stream",
     "text": [
      "37.58106136304993\n"
     ]
    }
   ],
   "source": [
    "model = LinearRegression()\n",
    "model.fit(features_train_data_0, target_train_data_0)\n",
    "predictions_0 = model.predict(features_valid_data_0)\n",
    "RMSE_0 = mean_squared_error(target_valid_data_0, predictions_0) **0.5  \n",
    "print(RMSE_0)"
   ]
  },
  {
   "cell_type": "markdown",
   "metadata": {},
   "source": [
    "Сохраню предсказания и правильные ответы на валидационной выборке.\n",
    "\n",
    "Выведу на экран средний запас предсказанного сырья и RMSE модели."
   ]
  },
  {
   "cell_type": "code",
   "execution_count": 22,
   "metadata": {},
   "outputs": [
    {
     "name": "stdout",
     "output_type": "stream",
     "text": [
      "       real_product  predicted_product\n",
      "71751            10          95.395567\n",
      "80493           114          77.074974\n",
      "2655            132          77.395344\n",
      "53233           169          89.676522\n",
      "91141           122          70.012879\n",
      "RMSE - 37.58106136304993\n",
      "Среднее колмчество сырья по данным - 91.58064\n",
      "Среднее количество сырья по модели - 92.0933978221753\n",
      "Суммарное количество сырья по данным - 2289516\n",
      "Суммарное количество сырья по модели - 2302334.9455543826\n"
     ]
    }
   ],
   "source": [
    "data_0_product = {'real_product' : target_valid_data_0,\n",
    "                 'predicted_product' : predictions_0}\n",
    "\n",
    "product_0 = pd.DataFrame(data_0_product, columns = ['real_product', 'predicted_product'])\n",
    "\n",
    "print(product_0.head())\n",
    "print('RMSE -', RMSE_0)\n",
    "print('Среднее колмчество сырья по данным -', product_0['real_product'].mean())\n",
    "print('Среднее количество сырья по модели -', product_0['predicted_product'].mean())\n",
    "print('Суммарное количество сырья по данным -', product_0['real_product'].sum())\n",
    "print('Суммарное количество сырья по модели -', product_0['predicted_product'].sum())"
   ]
  },
  {
   "cell_type": "markdown",
   "metadata": {},
   "source": [
    "Предсказанные данные очень близки к реальным."
   ]
  },
  {
   "cell_type": "markdown",
   "metadata": {},
   "source": [
    "### Модель для второго региона"
   ]
  },
  {
   "cell_type": "markdown",
   "metadata": {},
   "source": [
    "Создам обучающую и валидационную выборки в соотношении 75:25."
   ]
  },
  {
   "cell_type": "code",
   "execution_count": 23,
   "metadata": {},
   "outputs": [
    {
     "name": "stdout",
     "output_type": "stream",
     "text": [
      "Размер обучающей выборки 75000\n",
      "Размер валидационной выборки 25000\n"
     ]
    }
   ],
   "source": [
    "target_data_1 = data_1['product']\n",
    "features_data_1 = data_1.drop('product', axis=1)\n",
    "\n",
    "features_train_data_1, features_valid_data_1, target_train_data_1, target_valid_data_1 = train_test_split(\n",
    "    features_data_1, target_data_1, test_size=0.25, random_state=12345)\n",
    "\n",
    "print('Размер обучающей выборки', features_train_data_1.shape[0])\n",
    "print('Размер валидационной выборки', features_valid_data_1.shape[0])"
   ]
  },
  {
   "cell_type": "markdown",
   "metadata": {},
   "source": [
    "Обучу StandardScaler() на обучающей выборке."
   ]
  },
  {
   "cell_type": "code",
   "execution_count": 24,
   "metadata": {},
   "outputs": [
    {
     "data": {
      "text/html": [
       "<div>\n",
       "<style scoped>\n",
       "    .dataframe tbody tr th:only-of-type {\n",
       "        vertical-align: middle;\n",
       "    }\n",
       "\n",
       "    .dataframe tbody tr th {\n",
       "        vertical-align: top;\n",
       "    }\n",
       "\n",
       "    .dataframe thead th {\n",
       "        text-align: right;\n",
       "    }\n",
       "</style>\n",
       "<table border=\"1\" class=\"dataframe\">\n",
       "  <thead>\n",
       "    <tr style=\"text-align: right;\">\n",
       "      <th></th>\n",
       "      <th>f0</th>\n",
       "      <th>f1</th>\n",
       "      <th>f2</th>\n",
       "    </tr>\n",
       "  </thead>\n",
       "  <tbody>\n",
       "    <tr>\n",
       "      <th>27212</th>\n",
       "      <td>-0.850855</td>\n",
       "      <td>0.624428</td>\n",
       "      <td>0.296943</td>\n",
       "    </tr>\n",
       "    <tr>\n",
       "      <th>7866</th>\n",
       "      <td>1.971935</td>\n",
       "      <td>1.832275</td>\n",
       "      <td>0.294333</td>\n",
       "    </tr>\n",
       "    <tr>\n",
       "      <th>62041</th>\n",
       "      <td>1.079305</td>\n",
       "      <td>0.170127</td>\n",
       "      <td>-0.296418</td>\n",
       "    </tr>\n",
       "    <tr>\n",
       "      <th>70185</th>\n",
       "      <td>-1.512028</td>\n",
       "      <td>-0.887837</td>\n",
       "      <td>-0.880471</td>\n",
       "    </tr>\n",
       "    <tr>\n",
       "      <th>82230</th>\n",
       "      <td>-1.804775</td>\n",
       "      <td>-0.718311</td>\n",
       "      <td>-0.293255</td>\n",
       "    </tr>\n",
       "  </tbody>\n",
       "</table>\n",
       "</div>"
      ],
      "text/plain": [
       "             f0        f1        f2\n",
       "27212 -0.850855  0.624428  0.296943\n",
       "7866   1.971935  1.832275  0.294333\n",
       "62041  1.079305  0.170127 -0.296418\n",
       "70185 -1.512028 -0.887837 -0.880471\n",
       "82230 -1.804775 -0.718311 -0.293255"
      ]
     },
     "metadata": {},
     "output_type": "display_data"
    }
   ],
   "source": [
    "numeric = ['f0', 'f1', 'f2']\n",
    "\n",
    "scaler = StandardScaler()\n",
    "scaler.fit(features_train_data_1[numeric])\n",
    "features_train_data_1[numeric] = scaler.transform(features_train_data_1[numeric])\n",
    "features_valid_data_1[numeric] = scaler.transform(features_valid_data_1[numeric])\n",
    "\n",
    "display(features_train_data_1.head())"
   ]
  },
  {
   "cell_type": "markdown",
   "metadata": {},
   "source": [
    "Рассчитаю RMSE модели."
   ]
  },
  {
   "cell_type": "code",
   "execution_count": 25,
   "metadata": {},
   "outputs": [
    {
     "name": "stdout",
     "output_type": "stream",
     "text": [
      "1.0231340913429754\n"
     ]
    }
   ],
   "source": [
    "model = LinearRegression()\n",
    "model.fit(features_train_data_1, target_train_data_1)\n",
    "predictions_1 = model.predict(features_valid_data_1)\n",
    "RMSE_1 = mean_squared_error(target_valid_data_1, predictions_1) **0.5  \n",
    "print(RMSE_1)"
   ]
  },
  {
   "cell_type": "markdown",
   "metadata": {},
   "source": [
    "Сохраню предсказания и правильные ответы на валидационной выборке.\n",
    "\n",
    "Выведу на экран средний запас предсказанного сырья и RMSE модели."
   ]
  },
  {
   "cell_type": "code",
   "execution_count": 26,
   "metadata": {},
   "outputs": [
    {
     "name": "stdout",
     "output_type": "stream",
     "text": [
      "       real_product  predicted_product\n",
      "71751            80          82.051695\n",
      "80493            53          53.852795\n",
      "2655             30          29.513214\n",
      "53233            53          52.881814\n",
      "91141             0           0.956905\n",
      "RMSE - 1.0231340913429754\n",
      "Среднее колмчество сырья по данным - 68.1672\n",
      "Среднее количество сырья по модели - 68.17320024946817\n",
      "Суммарное количество сырья по данным - 1704180\n",
      "Суммарное количество сырья по модели - 1704330.0062367043\n"
     ]
    }
   ],
   "source": [
    "data_1_product = {'real_product' : target_valid_data_1,\n",
    "                 'predicted_product' : predictions_1}\n",
    "\n",
    "product_1 = pd.DataFrame(data_1_product, columns = ['real_product', 'predicted_product'])\n",
    "\n",
    "print(product_1.head())\n",
    "print('RMSE -', RMSE_1)\n",
    "print('Среднее колмчество сырья по данным -', product_1['real_product'].mean())\n",
    "print('Среднее количество сырья по модели -', product_1['predicted_product'].mean())\n",
    "print('Суммарное количество сырья по данным -', product_1['real_product'].sum())\n",
    "print('Суммарное количество сырья по модели -', product_1['predicted_product'].sum())"
   ]
  },
  {
   "cell_type": "markdown",
   "metadata": {},
   "source": [
    "Предсказанные данные практически совпадают с реальными, что ещё раз подтверждает исскуственность их появления."
   ]
  },
  {
   "cell_type": "markdown",
   "metadata": {},
   "source": [
    "### Модель для третьего региона"
   ]
  },
  {
   "cell_type": "markdown",
   "metadata": {},
   "source": [
    "Создам обучающую и валидационную выборки в соотношении 75:25."
   ]
  },
  {
   "cell_type": "code",
   "execution_count": 27,
   "metadata": {},
   "outputs": [
    {
     "name": "stdout",
     "output_type": "stream",
     "text": [
      "Размер обучающей выборки 75000\n",
      "Размер валидационной выборки 25000\n"
     ]
    }
   ],
   "source": [
    "target_data_2 = data_2['product']\n",
    "features_data_2 = data_2.drop('product', axis=1)\n",
    "\n",
    "features_train_data_2, features_valid_data_2, target_train_data_2, target_valid_data_2 = train_test_split(\n",
    "    features_data_2, target_data_2, test_size=0.25, random_state=12345)\n",
    "\n",
    "print('Размер обучающей выборки', features_train_data_2.shape[0])\n",
    "print('Размер валидационной выборки', features_valid_data_2.shape[0])"
   ]
  },
  {
   "cell_type": "markdown",
   "metadata": {},
   "source": [
    "Обучу StandardScaler() на обучающей выборке."
   ]
  },
  {
   "cell_type": "code",
   "execution_count": 28,
   "metadata": {},
   "outputs": [
    {
     "data": {
      "text/html": [
       "<div>\n",
       "<style scoped>\n",
       "    .dataframe tbody tr th:only-of-type {\n",
       "        vertical-align: middle;\n",
       "    }\n",
       "\n",
       "    .dataframe tbody tr th {\n",
       "        vertical-align: top;\n",
       "    }\n",
       "\n",
       "    .dataframe thead th {\n",
       "        text-align: right;\n",
       "    }\n",
       "</style>\n",
       "<table border=\"1\" class=\"dataframe\">\n",
       "  <thead>\n",
       "    <tr style=\"text-align: right;\">\n",
       "      <th></th>\n",
       "      <th>f0</th>\n",
       "      <th>f1</th>\n",
       "      <th>f2</th>\n",
       "    </tr>\n",
       "  </thead>\n",
       "  <tbody>\n",
       "    <tr>\n",
       "      <th>27212</th>\n",
       "      <td>-0.526160</td>\n",
       "      <td>0.776329</td>\n",
       "      <td>-0.400793</td>\n",
       "    </tr>\n",
       "    <tr>\n",
       "      <th>7866</th>\n",
       "      <td>-0.889625</td>\n",
       "      <td>-0.404070</td>\n",
       "      <td>-1.222936</td>\n",
       "    </tr>\n",
       "    <tr>\n",
       "      <th>62041</th>\n",
       "      <td>-1.133984</td>\n",
       "      <td>0.208576</td>\n",
       "      <td>0.296765</td>\n",
       "    </tr>\n",
       "    <tr>\n",
       "      <th>70185</th>\n",
       "      <td>1.227045</td>\n",
       "      <td>1.570166</td>\n",
       "      <td>-0.764556</td>\n",
       "    </tr>\n",
       "    <tr>\n",
       "      <th>82230</th>\n",
       "      <td>-0.194289</td>\n",
       "      <td>0.878312</td>\n",
       "      <td>0.840821</td>\n",
       "    </tr>\n",
       "  </tbody>\n",
       "</table>\n",
       "</div>"
      ],
      "text/plain": [
       "             f0        f1        f2\n",
       "27212 -0.526160  0.776329 -0.400793\n",
       "7866  -0.889625 -0.404070 -1.222936\n",
       "62041 -1.133984  0.208576  0.296765\n",
       "70185  1.227045  1.570166 -0.764556\n",
       "82230 -0.194289  0.878312  0.840821"
      ]
     },
     "metadata": {},
     "output_type": "display_data"
    }
   ],
   "source": [
    "numeric = ['f0', 'f1', 'f2']\n",
    "\n",
    "scaler = StandardScaler()\n",
    "scaler.fit(features_train_data_2[numeric])\n",
    "features_train_data_2[numeric] = scaler.transform(features_train_data_2[numeric])\n",
    "features_valid_data_2[numeric] = scaler.transform(features_valid_data_2[numeric])\n",
    "\n",
    "display(features_train_data_2.head())"
   ]
  },
  {
   "cell_type": "markdown",
   "metadata": {},
   "source": [
    "Рассчитаю RMSE модели."
   ]
  },
  {
   "cell_type": "code",
   "execution_count": 29,
   "metadata": {},
   "outputs": [
    {
     "name": "stdout",
     "output_type": "stream",
     "text": [
      "40.03077959471606\n"
     ]
    }
   ],
   "source": [
    "model = LinearRegression()\n",
    "model.fit(features_train_data_2, target_train_data_2)\n",
    "predictions_2 = model.predict(features_valid_data_2)\n",
    "RMSE_2 = mean_squared_error(target_valid_data_2, predictions_2) **0.5  \n",
    "print(RMSE_2)"
   ]
  },
  {
   "cell_type": "markdown",
   "metadata": {},
   "source": [
    "Сохраню предсказания и правильные ответы на валидационной выборке.\n",
    "\n",
    "Выведу на экран средний запас предсказанного сырья и RMSE модели."
   ]
  },
  {
   "cell_type": "code",
   "execution_count": 30,
   "metadata": {
    "scrolled": true
   },
   "outputs": [
    {
     "name": "stdout",
     "output_type": "stream",
     "text": [
      "       real_product  predicted_product\n",
      "71751            61          93.104699\n",
      "80493            41          74.605623\n",
      "2655             57          89.567874\n",
      "53233           100         104.664264\n",
      "91141           109         114.801980\n",
      "RMSE - 40.03077959471606\n",
      "Среднее колмчество сырья по данным - 94.3854\n",
      "Среднее количество сырья по модели - 94.46742884611454\n",
      "Суммарное количество сырья по данным - 2359635\n",
      "Суммарное количество сырья по модели - 2361685.7211528635\n"
     ]
    }
   ],
   "source": [
    "data_2_product = {'real_product' : target_valid_data_2,\n",
    "                  'predicted_product' : predictions_2}\n",
    "\n",
    "product_2 = pd.DataFrame(data_2_product, columns = ['real_product', 'predicted_product'])\n",
    "\n",
    "print(product_2.head())\n",
    "print('RMSE -', RMSE_2)\n",
    "print('Среднее колмчество сырья по данным -', product_2['real_product'].mean())\n",
    "print('Среднее количество сырья по модели -', product_2['predicted_product'].mean())\n",
    "print('Суммарное количество сырья по данным -', product_2['real_product'].sum())\n",
    "print('Суммарное количество сырья по модели -', product_2['predicted_product'].sum())"
   ]
  },
  {
   "cell_type": "markdown",
   "metadata": {},
   "source": [
    "Предсказанные данные очень близки к реальным."
   ]
  },
  {
   "cell_type": "markdown",
   "metadata": {},
   "source": [
    "### Вывод"
   ]
  },
  {
   "cell_type": "markdown",
   "metadata": {},
   "source": [
    "Модели для трех различных регионов предсказали очень близкие к реальным значения:\n",
    "\n",
    "Для первого региона:\n",
    "- Среднее колмчество сырья по данным - 91.58064\n",
    "- Среднее количество сырья по модели - 92.0933978221753\n",
    "- Суммарное количество сырья по данным - 2289516\n",
    "- Суммарное количество сырья по модели - 2302334.9455543826\n",
    "\n",
    "Для второго региона:\n",
    "- Среднее колмчество сырья по данным - 68.1672\n",
    "- Среднее количество сырья по модели - 68.17320024946817\n",
    "- Суммарное количество сырья по данным - 1704180\n",
    "- Суммарное количество сырья по модели - 1704330.0062367043\n",
    "\n",
    "Для третьего региона:\n",
    "- Среднее колмчество сырья по данным - 94.3854\n",
    "- Среднее количество сырья по модели - 94.46742884611454\n",
    "- Суммарное количество сырья по данным - 2359635\n",
    "- Суммарное количество сырья по модели - 2361685.7211528635"
   ]
  },
  {
   "cell_type": "markdown",
   "metadata": {},
   "source": [
    "## Подготовка к расчёту прибыли"
   ]
  },
  {
   "cell_type": "markdown",
   "metadata": {},
   "source": [
    "Ключевые значения для расчётов сохраню в отдельные переменные."
   ]
  },
  {
   "cell_type": "code",
   "execution_count": 32,
   "metadata": {},
   "outputs": [],
   "source": [
    "BUDGET = 1e+07\n",
    "ALL_AREA = 500\n",
    "BEST_AREA = 200\n",
    "PRICE_PER_BARREL = 450"
   ]
  },
  {
   "cell_type": "markdown",
   "metadata": {},
   "source": [
    "Расчитаю безубыточную разработку сырья на 200 скважинах. Также найду среднее количество сырья в скважинах необходимое для этого."
   ]
  },
  {
   "cell_type": "code",
   "execution_count": 33,
   "metadata": {},
   "outputs": [
    {
     "name": "stdout",
     "output_type": "stream",
     "text": [
      "Средняя прибыль на лучшем месторождении - 50000.0 тыс.руб.\n",
      "Средний объем нефти на лучшем месторождении - 111.11111111111111 тыс. барелей\n",
      "Средний объем нефти на регион - 22222.222222222223 тыс. барелей\n"
     ]
    }
   ],
   "source": [
    "average_profit = BUDGET / BEST_AREA\n",
    "print('Средняя прибыль на лучшем месторождении -', average_profit, 'тыс.руб.')\n",
    "\n",
    "average_barrels = average_profit  / PRICE_PER_BARREL\n",
    "print('Средний объем нефти на лучшем месторождении -',average_barrels, 'тыс. барелей')\n",
    "\n",
    "average_barrels = BUDGET / PRICE_PER_BARREL\n",
    "print('Средний объем нефти на регион -',average_barrels, 'тыс. барелей')"
   ]
  },
  {
   "cell_type": "markdown",
   "metadata": {},
   "source": [
    "Помотрю какое в среднем количество сырья на скважинах по регионам."
   ]
  },
  {
   "cell_type": "code",
   "execution_count": 34,
   "metadata": {},
   "outputs": [
    {
     "name": "stdout",
     "output_type": "stream",
     "text": [
      "Средний запас сырья на скважину в регионе 1 92.00113 тыс. барелей\n",
      "Средний запас сырья на скважину в регионе 2 68.26903 тыс. барелей\n",
      "Средний запас сырья на скважину в регионе 3 94.50209 тыс. барелей\n"
     ]
    }
   ],
   "source": [
    "print('Средний запас сырья на скважину в регионе 1', data_0['product'].mean(), 'тыс. барелей')\n",
    "print('Средний запас сырья на скважину в регионе 2', data_1['product'].mean(), 'тыс. барелей')\n",
    "print('Средний запас сырья на скважину в регионе 3', data_2['product'].mean(), 'тыс. барелей')"
   ]
  },
  {
   "cell_type": "markdown",
   "metadata": {},
   "source": [
    "Создам функцию для расчета прибыли."
   ]
  },
  {
   "cell_type": "code",
   "execution_count": 35,
   "metadata": {},
   "outputs": [],
   "source": [
    "def profit_all(target, probabilities, count):\n",
    "    probs_sorted = probabilities.sort_values(ascending=False)\n",
    "    selected = target[probs_sorted.index][:count]\n",
    "    return PRICE_PER_BARREL * selected.sum() - BUDGET"
   ]
  },
  {
   "cell_type": "markdown",
   "metadata": {},
   "source": [
    "### Вывод"
   ]
  },
  {
   "cell_type": "markdown",
   "metadata": {},
   "source": [
    "Получил необходимые данные по безубыточной разработке сырья на 200 лучших скважинах из отобранных 500.\n",
    "- Средняя прибыль на лучшем месторождении - 50000.0 тыс.руб.\n",
    "- Средний объем нефти на лучшем месторождении - 111.11111111111111 тыс. барелей\n",
    "- Средний объем нефти на регион - 22222.222222222223 тыс. барелей\n",
    "\n",
    "В сравнении с полученными средними запасами сырья на скважину в каждом регионе считаю, что в первом и третьем регионе скважины будут окупаемы.\n",
    "\n",
    "Создал функцию для расчета прибыли."
   ]
  },
  {
   "cell_type": "markdown",
   "metadata": {},
   "source": [
    "## Расчёт прибыли и рисков "
   ]
  },
  {
   "cell_type": "markdown",
   "metadata": {},
   "source": [
    "Применю технику Bootstrap с 1000 выборок, чтобы найти распределение прибыли."
   ]
  },
  {
   "cell_type": "code",
   "execution_count": 36,
   "metadata": {},
   "outputs": [],
   "source": [
    "state = np.random.RandomState(12345)\n",
    "def bootstrap(target, probs):\n",
    "    values=[]\n",
    "    lost = 0\n",
    "    for i in range(1000):\n",
    "        target_sample = target.sample(replace=True, random_state=state, n=all_area)\n",
    "        probs_sample = probs[target_sample.index]\n",
    "        profit = profit_all(target, probs_sample, best_area)\n",
    "        if profit < 0:\n",
    "            lost +=1\n",
    "        values.append(profit)\n",
    "    \n",
    "    values = pd.Series(values)\n",
    "    lower = values.quantile(0.025)\n",
    "    upper = values.quantile(0.975)\n",
    "    average = values.mean()\n",
    "    risk = lost / 1000\n",
    "    return average, lower, upper, risk"
   ]
  },
  {
   "cell_type": "markdown",
   "metadata": {},
   "source": [
    "Рассчитаю прибыль и риски по каждому региону."
   ]
  },
  {
   "cell_type": "code",
   "execution_count": 37,
   "metadata": {},
   "outputs": [
    {
     "name": "stdout",
     "output_type": "stream",
     "text": [
      "Данные по первому региону.\n",
      "Средняя прибыль по региону = 350978.75 тыс.руб.\n",
      "95% доверительный интервал от -156722.50 до 863641.25 тыс.руб.\n",
      "Процент риска 9.20%\n"
     ]
    }
   ],
   "source": [
    "average_0, lower_0, upper_0, risk_0 = bootstrap(product_0['real_product'], product_0['predicted_product'])\n",
    "print('Данные по первому региону.')\n",
    "print('Средняя прибыль по региону = {:.2f} тыс.руб.'.format(average_0))\n",
    "print('95% доверительный интервал от {:.2f} до {:.2f} тыс.руб.'.format(lower_0, upper_0))\n",
    "print('Процент риска {:.2%}'.format(risk_0))"
   ]
  },
  {
   "cell_type": "code",
   "execution_count": 38,
   "metadata": {},
   "outputs": [
    {
     "name": "stdout",
     "output_type": "stream",
     "text": [
      "Данные по второму региону.\n",
      "Средняя прибыль по региону = 394299.80 тыс.руб.\n",
      "95% доверительный интервал от 13197.50 до 790133.75 тыс.руб.\n",
      "Процент риска 2.20%\n"
     ]
    }
   ],
   "source": [
    "average_1, lower_1, upper_1, risk_1 = bootstrap(product_1['real_product'], product_1['predicted_product'])\n",
    "print('Данные по второму региону.')\n",
    "print('Средняя прибыль по региону = {:.2f} тыс.руб.'.format(average_1))\n",
    "print('95% доверительный интервал от {:.2f} до {:.2f} тыс.руб.'.format(lower_1, upper_1))\n",
    "print('Процент риска {:.2%}'.format(risk_1))"
   ]
  },
  {
   "cell_type": "code",
   "execution_count": 39,
   "metadata": {},
   "outputs": [
    {
     "name": "stdout",
     "output_type": "stream",
     "text": [
      "Данные по третьему региону.\n",
      "Средняя прибыль по региону = 348230.15 тыс.руб.\n",
      "95% доверительный интервал от -158511.25 до 888908.75 тыс.руб.\n",
      "Процент риска 9.30%\n"
     ]
    }
   ],
   "source": [
    "average_2, lower_2, upper_2, risk_2 = bootstrap(product_2['real_product'], product_2['predicted_product'])\n",
    "print('Данные по третьему региону.')\n",
    "print('Средняя прибыль по региону = {:.2f} тыс.руб.'.format(average_2))\n",
    "print('95% доверительный интервал от {:.2f} до {:.2f} тыс.руб.'.format(lower_2, upper_2))\n",
    "print('Процент риска {:.2%}'.format(risk_2))"
   ]
  },
  {
   "cell_type": "markdown",
   "metadata": {},
   "source": [
    "### Вывод"
   ]
  },
  {
   "cell_type": "markdown",
   "metadata": {},
   "source": [
    "Значения средней прибыли и процент риска по регионам следующие:\n",
    "\n",
    "Данные по первому региону.\n",
    "- Средняя прибыль по региону = 350978.75 тыс.руб.\n",
    "- 95% доверительный интервал от -156722.50 до 863641.25 тыс.руб.\n",
    "- Процент риска 9.20%\n",
    "\n",
    "Данные по второму региону.\n",
    "- Средняя прибыль по региону = 394299.80 тыс.руб.\n",
    "- 95% доверительный интервал от 13197.50 до 790133.75 тыс.руб.\n",
    "- Процент риска 2.20%\n",
    "\n",
    "Данные по третьему региону.\n",
    "- Средняя прибыль по региону = 348956.00 тыс.руб.\n",
    "- 95% доверительный интервал от -160918.75 до 912882.50 тыс.руб.\n",
    "- Процент риска 10.10%"
   ]
  },
  {
   "cell_type": "markdown",
   "metadata": {},
   "source": [
    "## Итоговый вывод"
   ]
  },
  {
   "cell_type": "markdown",
   "metadata": {},
   "source": [
    "В ходе исследования я изучил данные по трем регионам и построил модель, предсказывающую количесвтво сырья в скважинах.\n",
    "\n",
    "Затем я написал функцию по расчету средней прибыли добычи сырья.\n",
    "\n",
    "В ходе расчета средней прибыли и процента риска я определил, что наилучшим регионом для добычи является второй регион. Но данные для этого региона наводят на мысль об их исскуственности.\n",
    "\n",
    "Из всего вышесказанного я делаю вывод, что наилучший регион для добычи сырья является первый. Его показатели следующие:\n",
    "- Средняя прибыль по региону = 350978.75 тыс.руб.\n",
    "- 95% доверительный интервал от -156722.50 до 863641.25 тыс.руб.\n",
    "- Процент риска 9.20%"
   ]
  }
 ],
 "metadata": {
  "ExecuteTimeLog": [
   {
    "duration": 1662,
    "start_time": "2022-04-10T09:24:00.670Z"
   },
   {
    "duration": 236,
    "start_time": "2022-04-10T09:24:35.867Z"
   },
   {
    "duration": 199,
    "start_time": "2022-04-10T09:24:47.475Z"
   },
   {
    "duration": 198,
    "start_time": "2022-04-10T09:24:56.522Z"
   },
   {
    "duration": 4,
    "start_time": "2022-04-10T09:25:18.875Z"
   },
   {
    "duration": 225,
    "start_time": "2022-04-10T09:25:26.460Z"
   },
   {
    "duration": 9,
    "start_time": "2022-04-10T09:25:45.860Z"
   },
   {
    "duration": 208,
    "start_time": "2022-04-10T09:25:55.666Z"
   },
   {
    "duration": 8,
    "start_time": "2022-04-10T09:26:15.651Z"
   },
   {
    "duration": 210,
    "start_time": "2022-04-10T09:26:21.916Z"
   },
   {
    "duration": 7,
    "start_time": "2022-04-10T09:26:38.157Z"
   },
   {
    "duration": 17,
    "start_time": "2022-04-10T09:26:53.733Z"
   },
   {
    "duration": 111,
    "start_time": "2022-04-10T09:27:11.453Z"
   },
   {
    "duration": 162,
    "start_time": "2022-04-10T09:27:23.790Z"
   },
   {
    "duration": 35,
    "start_time": "2022-04-10T09:27:35.533Z"
   },
   {
    "duration": 4,
    "start_time": "2022-04-10T09:27:52.586Z"
   },
   {
    "duration": 427,
    "start_time": "2022-04-10T09:28:00.116Z"
   },
   {
    "duration": 405,
    "start_time": "2022-04-10T09:28:07.948Z"
   },
   {
    "duration": 456,
    "start_time": "2022-04-10T09:28:15.230Z"
   },
   {
    "duration": 129,
    "start_time": "2022-04-10T09:29:49.277Z"
   },
   {
    "duration": 17,
    "start_time": "2022-04-10T09:30:20.422Z"
   },
   {
    "duration": 105,
    "start_time": "2022-04-10T09:30:38.270Z"
   },
   {
    "duration": 4,
    "start_time": "2022-04-10T09:31:11.230Z"
   },
   {
    "duration": 26,
    "start_time": "2022-04-10T09:31:15.841Z"
   },
   {
    "duration": 134370,
    "start_time": "2022-04-10T09:31:45.887Z"
   },
   {
    "duration": 4735,
    "start_time": "2022-04-10T09:35:19.521Z"
   },
   {
    "duration": 17,
    "start_time": "2022-04-10T09:36:05.065Z"
   },
   {
    "duration": 25,
    "start_time": "2022-04-10T09:37:00.864Z"
   },
   {
    "duration": 50391,
    "start_time": "2022-04-10T09:37:18.153Z"
   },
   {
    "duration": 3284,
    "start_time": "2022-04-10T09:39:36.360Z"
   },
   {
    "duration": 14,
    "start_time": "2022-04-10T09:41:19.018Z"
   },
   {
    "duration": 24,
    "start_time": "2022-04-10T09:41:36.875Z"
   },
   {
    "duration": 137023,
    "start_time": "2022-04-10T09:41:59.129Z"
   },
   {
    "duration": 5845,
    "start_time": "2022-04-10T09:45:22.614Z"
   },
   {
    "duration": 3,
    "start_time": "2022-04-10T09:47:38.085Z"
   },
   {
    "duration": 5,
    "start_time": "2022-04-10T09:47:54.726Z"
   },
   {
    "duration": 9,
    "start_time": "2022-04-10T09:48:15.623Z"
   },
   {
    "duration": 3,
    "start_time": "2022-04-10T09:48:50.669Z"
   },
   {
    "duration": 6,
    "start_time": "2022-04-10T09:53:12.389Z"
   },
   {
    "duration": 5,
    "start_time": "2022-04-10T09:54:02.154Z"
   },
   {
    "duration": 6,
    "start_time": "2022-04-10T09:54:55.262Z"
   },
   {
    "duration": 23,
    "start_time": "2022-04-10T09:56:36.336Z"
   },
   {
    "duration": 6,
    "start_time": "2022-04-10T09:57:13.278Z"
   },
   {
    "duration": 21,
    "start_time": "2022-04-10T09:57:14.633Z"
   },
   {
    "duration": 4,
    "start_time": "2022-04-10T09:57:23.257Z"
   },
   {
    "duration": 5,
    "start_time": "2022-04-10T09:57:24.296Z"
   },
   {
    "duration": 23,
    "start_time": "2022-04-10T09:57:25.441Z"
   },
   {
    "duration": 6,
    "start_time": "2022-04-10T09:57:47.768Z"
   },
   {
    "duration": 895,
    "start_time": "2022-04-10T09:57:48.864Z"
   },
   {
    "duration": 862,
    "start_time": "2022-04-10T09:58:05.016Z"
   },
   {
    "duration": 879,
    "start_time": "2022-04-10T09:58:15.468Z"
   },
   {
    "duration": 950,
    "start_time": "2022-04-10T09:58:25.480Z"
   },
   {
    "duration": 4,
    "start_time": "2022-04-10T09:59:59.344Z"
   },
   {
    "duration": 1513,
    "start_time": "2022-04-10T10:02:02.027Z"
   },
   {
    "duration": 223,
    "start_time": "2022-04-10T10:02:04.739Z"
   },
   {
    "duration": 206,
    "start_time": "2022-04-10T10:02:06.385Z"
   },
   {
    "duration": 202,
    "start_time": "2022-04-10T10:02:10.025Z"
   },
   {
    "duration": 4,
    "start_time": "2022-04-10T10:02:15.339Z"
   },
   {
    "duration": 215,
    "start_time": "2022-04-10T10:02:19.644Z"
   },
   {
    "duration": 10,
    "start_time": "2022-04-10T10:02:22.595Z"
   },
   {
    "duration": 203,
    "start_time": "2022-04-10T10:02:23.506Z"
   },
   {
    "duration": 8,
    "start_time": "2022-04-10T10:02:25.242Z"
   },
   {
    "duration": 222,
    "start_time": "2022-04-10T10:02:26.628Z"
   },
   {
    "duration": 6,
    "start_time": "2022-04-10T10:02:28.268Z"
   },
   {
    "duration": 17,
    "start_time": "2022-04-10T10:02:29.266Z"
   },
   {
    "duration": 110,
    "start_time": "2022-04-10T10:02:31.498Z"
   },
   {
    "duration": 35,
    "start_time": "2022-04-10T10:02:33.437Z"
   },
   {
    "duration": 4,
    "start_time": "2022-04-10T10:02:35.170Z"
   },
   {
    "duration": 427,
    "start_time": "2022-04-10T10:02:36.722Z"
   },
   {
    "duration": 414,
    "start_time": "2022-04-10T10:02:40.874Z"
   },
   {
    "duration": 470,
    "start_time": "2022-04-10T10:02:42.891Z"
   },
   {
    "duration": 16,
    "start_time": "2022-04-10T10:02:48.114Z"
   },
   {
    "duration": 24,
    "start_time": "2022-04-10T10:02:49.155Z"
   },
   {
    "duration": 113,
    "start_time": "2022-04-10T10:03:04.149Z"
   },
   {
    "duration": 13,
    "start_time": "2022-04-10T10:03:41.357Z"
   },
   {
    "duration": 23,
    "start_time": "2022-04-10T10:04:34.757Z"
   },
   {
    "duration": 45,
    "start_time": "2022-04-10T10:05:52.893Z"
   },
   {
    "duration": 10,
    "start_time": "2022-04-10T10:13:04.896Z"
   },
   {
    "duration": 20,
    "start_time": "2022-04-10T10:13:13.153Z"
   },
   {
    "duration": 11,
    "start_time": "2022-04-10T10:13:14.034Z"
   },
   {
    "duration": 17,
    "start_time": "2022-04-10T10:15:47.798Z"
   },
   {
    "duration": 25,
    "start_time": "2022-04-10T10:15:48.509Z"
   },
   {
    "duration": 65,
    "start_time": "2022-04-10T10:16:28.678Z"
   },
   {
    "duration": 11,
    "start_time": "2022-04-10T10:16:46.029Z"
   },
   {
    "duration": 15,
    "start_time": "2022-04-10T10:19:39.350Z"
   },
   {
    "duration": 11,
    "start_time": "2022-04-10T10:20:02.082Z"
   },
   {
    "duration": 17,
    "start_time": "2022-04-10T10:20:06.528Z"
   },
   {
    "duration": 25,
    "start_time": "2022-04-10T10:20:07.598Z"
   },
   {
    "duration": 19,
    "start_time": "2022-04-10T10:20:09.056Z"
   },
   {
    "duration": 12,
    "start_time": "2022-04-10T10:20:14.951Z"
   },
   {
    "duration": 4,
    "start_time": "2022-04-10T10:22:44.367Z"
   },
   {
    "duration": 5,
    "start_time": "2022-04-10T10:22:45.719Z"
   },
   {
    "duration": 7,
    "start_time": "2022-04-10T10:22:47.422Z"
   },
   {
    "duration": 4,
    "start_time": "2022-04-10T10:22:49.758Z"
   },
   {
    "duration": 6,
    "start_time": "2022-04-10T10:22:56.178Z"
   },
   {
    "duration": 861,
    "start_time": "2022-04-10T10:22:58.720Z"
   },
   {
    "duration": 843,
    "start_time": "2022-04-10T10:23:01.168Z"
   },
   {
    "duration": 1233,
    "start_time": "2022-04-10T10:23:04.174Z"
   },
   {
    "duration": 903,
    "start_time": "2022-04-10T10:27:05.817Z"
   },
   {
    "duration": 912,
    "start_time": "2022-04-10T10:27:14.154Z"
   },
   {
    "duration": 61,
    "start_time": "2022-04-18T18:51:06.615Z"
   },
   {
    "duration": 1657,
    "start_time": "2022-04-18T18:51:12.887Z"
   },
   {
    "duration": 2901,
    "start_time": "2022-04-18T18:51:14.546Z"
   },
   {
    "duration": 2106,
    "start_time": "2022-04-30T16:30:06.255Z"
   },
   {
    "duration": 332,
    "start_time": "2022-04-30T16:30:15.102Z"
   },
   {
    "duration": 254,
    "start_time": "2022-04-30T16:30:24.887Z"
   },
   {
    "duration": 320,
    "start_time": "2022-04-30T16:30:27.514Z"
   },
   {
    "duration": 5,
    "start_time": "2022-04-30T16:30:31.470Z"
   },
   {
    "duration": 314,
    "start_time": "2022-04-30T16:30:34.398Z"
   },
   {
    "duration": 13,
    "start_time": "2022-04-30T16:30:37.222Z"
   },
   {
    "duration": 240,
    "start_time": "2022-04-30T16:30:39.638Z"
   },
   {
    "duration": 12,
    "start_time": "2022-04-30T16:30:42.109Z"
   },
   {
    "duration": 280,
    "start_time": "2022-04-30T16:30:45.782Z"
   },
   {
    "duration": 10,
    "start_time": "2022-04-30T16:30:48.567Z"
   },
   {
    "duration": 28,
    "start_time": "2022-04-30T16:30:51.141Z"
   },
   {
    "duration": 169,
    "start_time": "2022-04-30T16:30:53.500Z"
   },
   {
    "duration": 52,
    "start_time": "2022-04-30T16:30:56.397Z"
   },
   {
    "duration": 8,
    "start_time": "2022-04-30T16:30:58.925Z"
   },
   {
    "duration": 1208,
    "start_time": "2022-04-30T16:31:01.678Z"
   },
   {
    "duration": 683,
    "start_time": "2022-04-30T16:31:05.299Z"
   },
   {
    "duration": 1194,
    "start_time": "2022-04-30T16:31:08.174Z"
   },
   {
    "duration": 23,
    "start_time": "2022-04-30T16:31:34.328Z"
   },
   {
    "duration": 48,
    "start_time": "2022-04-30T16:31:37.271Z"
   },
   {
    "duration": 68,
    "start_time": "2022-04-30T16:31:39.831Z"
   },
   {
    "duration": 21,
    "start_time": "2022-04-30T16:31:43.983Z"
   },
   {
    "duration": 23,
    "start_time": "2022-04-30T16:31:46.672Z"
   },
   {
    "duration": 45,
    "start_time": "2022-04-30T16:31:49.927Z"
   },
   {
    "duration": 29,
    "start_time": "2022-04-30T16:31:53.023Z"
   },
   {
    "duration": 22,
    "start_time": "2022-04-30T16:31:55.271Z"
   },
   {
    "duration": 27,
    "start_time": "2022-04-30T16:32:04.088Z"
   },
   {
    "duration": 44,
    "start_time": "2022-04-30T16:32:07.167Z"
   },
   {
    "duration": 56,
    "start_time": "2022-04-30T16:32:09.526Z"
   },
   {
    "duration": 16,
    "start_time": "2022-04-30T16:32:12.670Z"
   },
   {
    "duration": 4,
    "start_time": "2022-04-30T16:32:50.606Z"
   },
   {
    "duration": 4,
    "start_time": "2022-04-30T16:34:02.060Z"
   },
   {
    "duration": 7,
    "start_time": "2022-04-30T18:52:36.581Z"
   },
   {
    "duration": 9,
    "start_time": "2022-04-30T18:52:37.540Z"
   },
   {
    "duration": 4,
    "start_time": "2022-04-30T18:52:38.549Z"
   },
   {
    "duration": 11,
    "start_time": "2022-04-30T18:57:04.104Z"
   },
   {
    "duration": 2046,
    "start_time": "2022-04-30T18:57:11.087Z"
   },
   {
    "duration": 2001,
    "start_time": "2022-04-30T18:57:15.144Z"
   },
   {
    "duration": 1296,
    "start_time": "2022-04-30T18:57:18.144Z"
   }
  ],
  "kernelspec": {
   "display_name": "Python 3 (ipykernel)",
   "language": "python",
   "name": "python3"
  },
  "language_info": {
   "codemirror_mode": {
    "name": "ipython",
    "version": 3
   },
   "file_extension": ".py",
   "mimetype": "text/x-python",
   "name": "python",
   "nbconvert_exporter": "python",
   "pygments_lexer": "ipython3",
   "version": "3.9.5"
  },
  "toc": {
   "base_numbering": 1,
   "nav_menu": {},
   "number_sections": true,
   "sideBar": true,
   "skip_h1_title": true,
   "title_cell": "Table of Contents",
   "title_sidebar": "Contents",
   "toc_cell": false,
   "toc_position": {},
   "toc_section_display": true,
   "toc_window_display": true
  }
 },
 "nbformat": 4,
 "nbformat_minor": 2
}
