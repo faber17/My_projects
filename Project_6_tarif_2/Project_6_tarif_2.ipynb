{
 "cells": [
  {
   "cell_type": "markdown",
   "metadata": {},
   "source": [
    "## Описание проекта"
   ]
  },
  {
   "cell_type": "markdown",
   "metadata": {},
   "source": [
    "Оператор мобильной связи «Мегалайн» выяснил: многие клиенты пользуются архивными тарифами. Они хотят построить систему, способную проанализировать поведение клиентов и предложить пользователям новый тариф: «Смарт» или «Ультра».\n",
    "\n",
    "В вашем распоряжении данные о поведении клиентов, которые уже перешли на эти тарифы (из проекта курса «Статистический анализ данных»). Нужно построить модель для задачи классификации, которая выберет подходящий тариф. Предобработка данных не понадобится — вы её уже сделали.\n",
    "\n",
    "Постройте модель с максимально большим значением accuracy. Чтобы сдать проект успешно, нужно довести долю правильных ответов по крайней мере до 0.75. Проверьте accuracy на тестовой выборке самостоятельно."
   ]
  },
  {
   "cell_type": "markdown",
   "metadata": {},
   "source": [
    "### Инструкция по выполнению проекта"
   ]
  },
  {
   "cell_type": "markdown",
   "metadata": {},
   "source": [
    "Откройте файл с данными и изучите его. Путь к файлу: /datasets/users_behavior.csv.\n",
    "\n",
    "Разделите исходные данные на обучающую, валидационную и тестовую выборки.\n",
    "\n",
    "Исследуйте качество разных моделей, меняя гиперпараметры. Кратко напишите выводы исследования.\n",
    "\n",
    "Проверьте качество модели на тестовой выборке.\n",
    "\n",
    "Дополнительное задание: проверьте модели на вменяемость. Ничего страшного, если не получится: эти данные сложнее тех, с которыми вы работали раньше. В следующем курсе подробнее об этом расскажем."
   ]
  },
  {
   "cell_type": "markdown",
   "metadata": {},
   "source": [
    "### Описание данных"
   ]
  },
  {
   "cell_type": "markdown",
   "metadata": {},
   "source": [
    "Каждый объект в наборе данных — это информация о поведении одного пользователя за месяц.\n",
    "\n",
    "Известно:\n",
    "- сalls — количество звонков,\n",
    "- minutes — суммарная длительность звонков в минутах,\n",
    "- messages — количество sms-сообщений,\n",
    "- mb_used — израсходованный интернет-трафик в Мб,\n",
    "- is_ultra — каким тарифом пользовался в течение месяца («Ультра» — 1, «Смарт» — 0)."
   ]
  },
  {
   "cell_type": "markdown",
   "metadata": {},
   "source": [
    "## Откройте и изучите файл"
   ]
  },
  {
   "cell_type": "markdown",
   "metadata": {},
   "source": [
    "Импортирую необходимые библиотеки."
   ]
  },
  {
   "cell_type": "code",
   "execution_count": 1,
   "metadata": {},
   "outputs": [],
   "source": [
    "import pandas as pd\n",
    "from sklearn.model_selection import train_test_split\n",
    "from sklearn.tree import DecisionTreeClassifier\n",
    "from sklearn.metrics import accuracy_score\n",
    "from sklearn.ensemble import RandomForestClassifier\n",
    "from sklearn.linear_model import LogisticRegression\n",
    "from sklearn.metrics import mean_squared_error\n",
    "import math\n",
    "import matplotlib.pyplot as plt\n",
    "import seaborn as sbn \n",
    "import warnings\n",
    "warnings.filterwarnings('ignore')"
   ]
  },
  {
   "cell_type": "markdown",
   "metadata": {},
   "source": [
    "Открою файл с данными."
   ]
  },
  {
   "cell_type": "code",
   "execution_count": 2,
   "metadata": {},
   "outputs": [
    {
     "data": {
      "text/html": [
       "<div>\n",
       "<style scoped>\n",
       "    .dataframe tbody tr th:only-of-type {\n",
       "        vertical-align: middle;\n",
       "    }\n",
       "\n",
       "    .dataframe tbody tr th {\n",
       "        vertical-align: top;\n",
       "    }\n",
       "\n",
       "    .dataframe thead th {\n",
       "        text-align: right;\n",
       "    }\n",
       "</style>\n",
       "<table border=\"1\" class=\"dataframe\">\n",
       "  <thead>\n",
       "    <tr style=\"text-align: right;\">\n",
       "      <th></th>\n",
       "      <th>calls</th>\n",
       "      <th>minutes</th>\n",
       "      <th>messages</th>\n",
       "      <th>mb_used</th>\n",
       "      <th>is_ultra</th>\n",
       "    </tr>\n",
       "  </thead>\n",
       "  <tbody>\n",
       "    <tr>\n",
       "      <th>0</th>\n",
       "      <td>40.0</td>\n",
       "      <td>311.90</td>\n",
       "      <td>83.0</td>\n",
       "      <td>19915.42</td>\n",
       "      <td>0</td>\n",
       "    </tr>\n",
       "    <tr>\n",
       "      <th>1</th>\n",
       "      <td>85.0</td>\n",
       "      <td>516.75</td>\n",
       "      <td>56.0</td>\n",
       "      <td>22696.96</td>\n",
       "      <td>0</td>\n",
       "    </tr>\n",
       "    <tr>\n",
       "      <th>2</th>\n",
       "      <td>77.0</td>\n",
       "      <td>467.66</td>\n",
       "      <td>86.0</td>\n",
       "      <td>21060.45</td>\n",
       "      <td>0</td>\n",
       "    </tr>\n",
       "    <tr>\n",
       "      <th>3</th>\n",
       "      <td>106.0</td>\n",
       "      <td>745.53</td>\n",
       "      <td>81.0</td>\n",
       "      <td>8437.39</td>\n",
       "      <td>1</td>\n",
       "    </tr>\n",
       "    <tr>\n",
       "      <th>4</th>\n",
       "      <td>66.0</td>\n",
       "      <td>418.74</td>\n",
       "      <td>1.0</td>\n",
       "      <td>14502.75</td>\n",
       "      <td>0</td>\n",
       "    </tr>\n",
       "    <tr>\n",
       "      <th>5</th>\n",
       "      <td>58.0</td>\n",
       "      <td>344.56</td>\n",
       "      <td>21.0</td>\n",
       "      <td>15823.37</td>\n",
       "      <td>0</td>\n",
       "    </tr>\n",
       "    <tr>\n",
       "      <th>6</th>\n",
       "      <td>57.0</td>\n",
       "      <td>431.64</td>\n",
       "      <td>20.0</td>\n",
       "      <td>3738.90</td>\n",
       "      <td>1</td>\n",
       "    </tr>\n",
       "    <tr>\n",
       "      <th>7</th>\n",
       "      <td>15.0</td>\n",
       "      <td>132.40</td>\n",
       "      <td>6.0</td>\n",
       "      <td>21911.60</td>\n",
       "      <td>0</td>\n",
       "    </tr>\n",
       "    <tr>\n",
       "      <th>8</th>\n",
       "      <td>7.0</td>\n",
       "      <td>43.39</td>\n",
       "      <td>3.0</td>\n",
       "      <td>2538.67</td>\n",
       "      <td>1</td>\n",
       "    </tr>\n",
       "    <tr>\n",
       "      <th>9</th>\n",
       "      <td>90.0</td>\n",
       "      <td>665.41</td>\n",
       "      <td>38.0</td>\n",
       "      <td>17358.61</td>\n",
       "      <td>0</td>\n",
       "    </tr>\n",
       "  </tbody>\n",
       "</table>\n",
       "</div>"
      ],
      "text/plain": [
       "   calls  minutes  messages   mb_used  is_ultra\n",
       "0   40.0   311.90      83.0  19915.42         0\n",
       "1   85.0   516.75      56.0  22696.96         0\n",
       "2   77.0   467.66      86.0  21060.45         0\n",
       "3  106.0   745.53      81.0   8437.39         1\n",
       "4   66.0   418.74       1.0  14502.75         0\n",
       "5   58.0   344.56      21.0  15823.37         0\n",
       "6   57.0   431.64      20.0   3738.90         1\n",
       "7   15.0   132.40       6.0  21911.60         0\n",
       "8    7.0    43.39       3.0   2538.67         1\n",
       "9   90.0   665.41      38.0  17358.61         0"
      ]
     },
     "metadata": {},
     "output_type": "display_data"
    }
   ],
   "source": [
    "try:  \n",
    "    behavior = pd.read_csv('C:/users_behavior.csv')\n",
    "except OSError as e:\n",
    "    behavior = pd.read_csv('/datasets/users_behavior.csv')\n",
    "display(behavior.head(10))"
   ]
  },
  {
   "cell_type": "markdown",
   "metadata": {},
   "source": [
    "Посмотрю на основные данные по таблице."
   ]
  },
  {
   "cell_type": "code",
   "execution_count": 3,
   "metadata": {},
   "outputs": [
    {
     "name": "stdout",
     "output_type": "stream",
     "text": [
      "<class 'pandas.core.frame.DataFrame'>\n",
      "RangeIndex: 3214 entries, 0 to 3213\n",
      "Data columns (total 5 columns):\n",
      " #   Column    Non-Null Count  Dtype  \n",
      "---  ------    --------------  -----  \n",
      " 0   calls     3214 non-null   float64\n",
      " 1   minutes   3214 non-null   float64\n",
      " 2   messages  3214 non-null   float64\n",
      " 3   mb_used   3214 non-null   float64\n",
      " 4   is_ultra  3214 non-null   int64  \n",
      "dtypes: float64(4), int64(1)\n",
      "memory usage: 125.7 KB\n"
     ]
    }
   ],
   "source": [
    "behavior.info()"
   ]
  },
  {
   "cell_type": "markdown",
   "metadata": {},
   "source": [
    "### Вывод"
   ]
  },
  {
   "cell_type": "markdown",
   "metadata": {},
   "source": [
    "Таблица представляет собой предобработаные данные, со следующими столбцами:\n",
    "\n",
    "- calls - количество звонков пользователя;\n",
    "- minutes - количество минут разговоров;\n",
    "- messages - количество отправленных смс;\n",
    "- mb_used - количество использованных мегабайт;\n",
    "- is_ultra - 1 в данной столбце означает, что пользователь пользовался тарифом ultra, 0 - тарифом smart.\n",
    "\n",
    "Никаких действий по предобработке данных в таблице я не делаю, так как для данного проекта она не требует предобработки."
   ]
  },
  {
   "cell_type": "code",
   "execution_count": 4,
   "metadata": {},
   "outputs": [
    {
     "data": {
      "image/png": "[encoded data removed]",
      "text/plain": [
       "<Figure size 764.5x720 with 20 Axes>"
      ]
     },
     "metadata": {
      "needs_background": "light"
     },
     "output_type": "display_data"
    }
   ],
   "source": [
    "sbn.pairplot(behavior, hue = 'is_ultra', plot_kws={'alpha':0.1}) \n",
    "plt.show()"
   ]
  },
  {
   "cell_type": "markdown",
   "metadata": {},
   "source": [
    "## Разбейте данные на выборки"
   ]
  },
  {
   "cell_type": "markdown",
   "metadata": {},
   "source": [
    "Разобью данные на три выборки - обучающую, валидационную и тестовую в соотношении 60/20/20."
   ]
  },
  {
   "cell_type": "code",
   "execution_count": 5,
   "metadata": {
    "scrolled": true
   },
   "outputs": [
    {
     "name": "stdout",
     "output_type": "stream",
     "text": [
      "Размер обучающей выборки 1928\n",
      "Размер валидационной выборки 643\n",
      "Размер тестовой выборки 643\n"
     ]
    }
   ],
   "source": [
    "#отделю обучающую выборку\n",
    "train_behavior, other_behavior = train_test_split(behavior, test_size=0.40, random_state=12345)\n",
    "#разделю оставшиеся данные на валидационную и тестовую выборки\n",
    "valid_behavior, test_behavior = train_test_split(other_behavior, test_size=0.50, random_state=12345)\n",
    "\n",
    "print('Размер обучающей выборки', train_behavior.shape[0])\n",
    "print('Размер валидационной выборки', valid_behavior.shape[0])\n",
    "print('Размер тестовой выборки', test_behavior.shape[0])"
   ]
  },
  {
   "cell_type": "markdown",
   "metadata": {},
   "source": [
    "Отделю от каждой выборки значимый столбец (is_ultra) в отдельную переменную."
   ]
  },
  {
   "cell_type": "code",
   "execution_count": 7,
   "metadata": {},
   "outputs": [],
   "source": [
    "train_behavior_features = train_behavior.drop(['is_ultra'], axis=1)\n",
    "train_behavior_target = train_behavior['is_ultra']\n",
    "valid_behavior_features = valid_behavior.drop(['is_ultra'], axis=1)\n",
    "valid_behavior_target = valid_behavior['is_ultra']\n",
    "test_behavior_features = test_behavior.drop(['is_ultra'], axis=1)\n",
    "test_behavior_target = test_behavior['is_ultra']"
   ]
  },
  {
   "cell_type": "markdown",
   "metadata": {},
   "source": [
    "### Вывод"
   ]
  },
  {
   "cell_type": "markdown",
   "metadata": {},
   "source": [
    "Генералоьная совокупность разбита на три выборки в соотношении 60/20/20. Также из каждой выборки я в отдельную переменную выделил столбец is_ultra, так как в нем находится target наших выборок."
   ]
  },
  {
   "cell_type": "markdown",
   "metadata": {},
   "source": [
    "## Исследуйте модели"
   ]
  },
  {
   "cell_type": "markdown",
   "metadata": {},
   "source": [
    "Так как я имею дело с классификацией, то проверю три модели - решающее дерево, случайный лес, логистическую регрессию."
   ]
  },
  {
   "cell_type": "markdown",
   "metadata": {},
   "source": [
    "### Решающее дерево"
   ]
  },
  {
   "cell_type": "markdown",
   "metadata": {},
   "source": [
    "Найду лучшую модель решающего дерева."
   ]
  },
  {
   "cell_type": "code",
   "execution_count": 8,
   "metadata": {},
   "outputs": [
    {
     "name": "stdout",
     "output_type": "stream",
     "text": [
      "max_depth = 1 : 0.7542768273716952\n",
      "max_depth = 2 : 0.7822706065318819\n",
      "max_depth = 3 : 0.7853810264385692\n",
      "max_depth = 4 : 0.7791601866251944\n",
      "max_depth = 5 : 0.7791601866251944\n",
      "max_depth = 6 : 0.7838258164852255\n",
      "max_depth = 7 : 0.7822706065318819\n",
      "max_depth = 8 : 0.7791601866251944\n",
      "max_depth = 9 : 0.7822706065318819\n",
      "max_depth = 10 : 0.7744945567651633\n",
      "max_depth = 11 : 0.7620528771384136\n",
      "max_depth = 12 : 0.7620528771384136\n",
      "max_depth = 13 : 0.7558320373250389\n",
      "max_depth = 14 : 0.7589424572317263\n",
      "max_depth = 15 : 0.7465007776049767\n",
      "max_depth = 16 : 0.7340590979782271\n",
      "max_depth = 17 : 0.7356143079315708\n",
      "max_depth = 18 : 0.7309486780715396\n",
      "max_depth = 19 : 0.7278382581648523\n",
      "max_depth = 20 : 0.7216174183514774\n",
      "max_depth = 21 : 0.7278382581648523\n",
      "max_depth = 22 : 0.7262830482115086\n",
      "max_depth = 23 : 0.7169517884914464\n",
      "max_depth = 24 : 0.713841368584759\n",
      "max_depth = 25 : 0.713841368584759\n",
      "max_depth = 26 : 0.713841368584759\n",
      "max_depth = 27 : 0.713841368584759\n",
      "max_depth = 28 : 0.713841368584759\n",
      "max_depth = 29 : 0.713841368584759\n",
      "max_depth = 30 : 0.713841368584759\n",
      "max_depth = 31 : 0.713841368584759\n",
      "max_depth = 32 : 0.713841368584759\n",
      "max_depth = 33 : 0.713841368584759\n",
      "max_depth = 34 : 0.713841368584759\n",
      "max_depth = 35 : 0.713841368584759\n",
      "max_depth = 36 : 0.713841368584759\n",
      "max_depth = 37 : 0.713841368584759\n",
      "max_depth = 38 : 0.713841368584759\n",
      "max_depth = 39 : 0.713841368584759\n",
      "3 0.7853810264385692\n"
     ]
    }
   ],
   "source": [
    "#создам списки для построения графика\n",
    "depth_graph = []\n",
    "accuracy_draph = []\n",
    "#найду лучший результат меняя глубину дерева\n",
    "best_result = 0\n",
    "best_depth = 0\n",
    "for depth in range(1, 40):\n",
    "    #чтобы зафиксировать псевдослучайность для алгоритма обучения укажу параметр random_state = 12345\n",
    "    model_dtc = DecisionTreeClassifier(random_state=12345, max_depth=depth)\n",
    "    model_dtc.fit(train_behavior_features, train_behavior_target)\n",
    "    predictions_valid = model_dtc.predict(valid_behavior_features)\n",
    "    accuracy = accuracy_score(valid_behavior_target,  predictions_valid)\n",
    "    depth_graph.append(depth)\n",
    "    accuracy_draph.append(accuracy)\n",
    "    if accuracy > best_result:\n",
    "        best_result, best_depth = accuracy, depth\n",
    "    print(\"max_depth =\", depth, \": \", end='')\n",
    "    #посмотрю на точность модели\n",
    "    print(accuracy)\n",
    "    \n",
    "print(best_depth, best_result)"
   ]
  },
  {
   "cell_type": "markdown",
   "metadata": {},
   "source": [
    "Построю график для визуализации."
   ]
  },
  {
   "cell_type": "code",
   "execution_count": 9,
   "metadata": {},
   "outputs": [
    {
     "data": {
      "image/png": "[encoded data removed]",
      "text/plain": [
       "<Figure size 1080x576 with 1 Axes>"
      ]
     },
     "metadata": {
      "needs_background": "light"
     },
     "output_type": "display_data"
    }
   ],
   "source": [
    "plt.figure(figsize=(15,8))\n",
    "plt.bar(depth_graph, accuracy_draph)\n",
    "plt.title('Решающее дерево')\n",
    "plt.xlabel(\"Глубина дерева\");\n",
    "plt.ylabel(\"Точность\");"
   ]
  },
  {
   "cell_type": "markdown",
   "metadata": {},
   "source": [
    "Пока наилучший результат дала глубина дерева равная 3. Дальнейшее увеличение глубины деревьев не дает результата.\n",
    "\n",
    "Теперь проверю изменится ли точность при изменении гиперпараметров."
   ]
  },
  {
   "cell_type": "code",
   "execution_count": 10,
   "metadata": {},
   "outputs": [
    {
     "name": "stdout",
     "output_type": "stream",
     "text": [
      "Без изменения : 0.7853810264385692\n",
      "entropy : 0.7853810264385692\n",
      "random : 0.7387247278382582\n",
      "entropy и random : 0.7387247278382582\n"
     ]
    }
   ],
   "source": [
    "#модель без изменения гиперпараметров\n",
    "model_dtc = DecisionTreeClassifier(random_state=12345, max_depth=3)\n",
    "model_dtc.fit(train_behavior_features, train_behavior_target)\n",
    "predictions_valid = model_dtc.predict(valid_behavior_features)\n",
    "print('Без изменения : ', end='')\n",
    "print(accuracy_score(valid_behavior_target,  predictions_valid))\n",
    "\n",
    "#изменю значение criterion на entropy\n",
    "model_dtc = DecisionTreeClassifier(random_state=12345, max_depth=3, criterion=\"entropy\")\n",
    "model_dtc.fit(train_behavior_features, train_behavior_target)\n",
    "predictions_valid = model_dtc.predict(valid_behavior_features)\n",
    "print('entropy : ', end='')\n",
    "print(accuracy_score(valid_behavior_target,  predictions_valid))\n",
    "\n",
    "#изменю значение splitter на random\n",
    "model_dtc = DecisionTreeClassifier(random_state=12345, max_depth=3, splitter='random')\n",
    "model_dtc.fit(train_behavior_features, train_behavior_target)\n",
    "predictions_valid = model_dtc.predict(valid_behavior_features)\n",
    "print('random : ', end='')\n",
    "print(accuracy_score(valid_behavior_target,  predictions_valid))\n",
    "\n",
    "#применю оба изменения\n",
    "model_dtc = DecisionTreeClassifier(random_state=12345, max_depth=3, criterion=\"entropy\", splitter='random')\n",
    "model_dtc.fit(train_behavior_features, train_behavior_target)\n",
    "predictions_valid = model_dtc.predict(valid_behavior_features)\n",
    "print('entropy и random : ', end='')\n",
    "print(accuracy_score(valid_behavior_target,  predictions_valid))"
   ]
  },
  {
   "cell_type": "markdown",
   "metadata": {},
   "source": [
    "Изменение гиперпараметров не дало лучшего результата."
   ]
  },
  {
   "cell_type": "markdown",
   "metadata": {},
   "source": [
    "### Случайный лес"
   ]
  },
  {
   "cell_type": "markdown",
   "metadata": {},
   "source": [
    "Найду лучшую модель случайного леса."
   ]
  },
  {
   "cell_type": "code",
   "execution_count": 11,
   "metadata": {},
   "outputs": [
    {
     "name": "stdout",
     "output_type": "stream",
     "text": [
      "est = 1 : 0.7107309486780715\n",
      "est = 2 : 0.7636080870917574\n",
      "est = 3 : 0.7387247278382582\n",
      "est = 4 : 0.7713841368584758\n",
      "est = 5 : 0.749611197511664\n",
      "est = 6 : 0.7807153965785381\n",
      "est = 7 : 0.7682737169517885\n",
      "est = 8 : 0.7822706065318819\n",
      "est = 9 : 0.7729393468118196\n",
      "est = 10 : 0.7853810264385692\n",
      "est = 11 : 0.7838258164852255\n",
      "est = 12 : 0.7869362363919129\n",
      "est = 13 : 0.7822706065318819\n",
      "est = 14 : 0.7838258164852255\n",
      "est = 15 : 0.7838258164852255\n",
      "est = 16 : 0.7869362363919129\n",
      "est = 17 : 0.7869362363919129\n",
      "est = 18 : 0.7931570762052877\n",
      "est = 19 : 0.7884914463452566\n",
      "est = 20 : 0.7869362363919129\n",
      "est = 21 : 0.7931570762052877\n",
      "est = 22 : 0.7884914463452566\n",
      "est = 23 : 0.7947122861586314\n",
      "est = 24 : 0.7900466562986003\n",
      "est = 25 : 0.7838258164852255\n",
      "est = 26 : 0.7853810264385692\n",
      "est = 27 : 0.7853810264385692\n",
      "est = 28 : 0.7838258164852255\n",
      "est = 29 : 0.7791601866251944\n",
      "23 0.7947122861586314\n"
     ]
    }
   ],
   "source": [
    "#создам списки для построения графика\n",
    "n_estimators_graph = []\n",
    "result_draph = []\n",
    "#найду лучший результат меняя параметр n_estimators\n",
    "best_result = 0\n",
    "best_est = 0\n",
    "for est in range(1, 30):\n",
    "    model_rfc = RandomForestClassifier(random_state=12345, n_estimators=est)\n",
    "    model_rfc.fit(train_behavior_features, train_behavior_target)\n",
    "    valid_predictions = model_rfc.predict(valid_behavior_features)\n",
    "    result = accuracy_score(valid_behavior_target, valid_predictions)\n",
    "    n_estimators_graph.append(est)\n",
    "    result_draph.append(result) \n",
    "    print('est =', est, ':',result)\n",
    "    if result > best_result:\n",
    "        best_result, best_est = result, est\n",
    "print(best_est, best_result)       "
   ]
  },
  {
   "cell_type": "markdown",
   "metadata": {},
   "source": [
    "Построю график для визуализации."
   ]
  },
  {
   "cell_type": "code",
   "execution_count": 12,
   "metadata": {},
   "outputs": [
    {
     "data": {
      "image/png": "[encoded data removed]",
      "text/plain": [
       "<Figure size 1080x576 with 1 Axes>"
      ]
     },
     "metadata": {
      "needs_background": "light"
     },
     "output_type": "display_data"
    }
   ],
   "source": [
    "plt.figure(figsize=(15,8))\n",
    "plt.bar(n_estimators_graph, result_draph)\n",
    "plt.title('Случайный лес')\n",
    "plt.xlabel(\"Количество оценщиков\");\n",
    "plt.ylabel(\"Точность\");"
   ]
  },
  {
   "cell_type": "markdown",
   "metadata": {},
   "source": [
    "Пока наилучший результат дало количество оценщиков равное 23. Дальнейшее увеличение количество оценщиков не дает результата.\n",
    "\n",
    "Теперь проверю изменится ли точность при изменении гиперпараметров."
   ]
  },
  {
   "cell_type": "code",
   "execution_count": 13,
   "metadata": {},
   "outputs": [
    {
     "name": "stdout",
     "output_type": "stream",
     "text": [
      "Без изменений : 0.7947122861586314\n",
      "entropy : 0.7838258164852255\n",
      "False : 0.7589424572317263\n",
      "log2 : 0.7947122861586314\n",
      "sqrt : 0.7947122861586314\n",
      "entropy и False : 0.7682737169517885\n"
     ]
    }
   ],
   "source": [
    "#модель без изменений\n",
    "model_rfc = RandomForestClassifier(random_state=12345, n_estimators=23)\n",
    "model_rfc.fit(train_behavior_features, train_behavior_target)\n",
    "valid_predictions = model_rfc.predict(valid_behavior_features)\n",
    "result = accuracy_score(valid_behavior_target, valid_predictions)\n",
    "print('Без изменений :',result)\n",
    "\n",
    "#изменю значение criterion на entropy\n",
    "model_rfc = RandomForestClassifier(random_state=12345, n_estimators=23, criterion='entropy')\n",
    "model_rfc.fit(train_behavior_features, train_behavior_target)\n",
    "valid_predictions = model_rfc.predict(valid_behavior_features)\n",
    "result = accuracy_score(valid_behavior_target, valid_predictions)\n",
    "print('entropy :',result)\n",
    "\n",
    "#изменю значение bootstrap на False\n",
    "model_rfc = RandomForestClassifier(random_state=12345, n_estimators=23, bootstrap=False)\n",
    "model_rfc.fit(train_behavior_features, train_behavior_target)\n",
    "valid_predictions = model_rfc.predict(valid_behavior_features)\n",
    "result = accuracy_score(valid_behavior_target, valid_predictions)\n",
    "print('False :',result)\n",
    "\n",
    "#изменю значение max_features на log2\n",
    "model_rfc = RandomForestClassifier(random_state=12345, n_estimators=23, max_features='log2')\n",
    "model_rfc.fit(train_behavior_features, train_behavior_target)\n",
    "valid_predictions = model_rfc.predict(valid_behavior_features)\n",
    "result = accuracy_score(valid_behavior_target, valid_predictions)\n",
    "print('log2 :',result)\n",
    "\n",
    "#изменю значение max_features на sqrt\n",
    "model_rfc = RandomForestClassifier(random_state=12345, n_estimators=23, max_features='sqrt')\n",
    "model_rfc.fit(train_behavior_features, train_behavior_target)\n",
    "valid_predictions = model_rfc.predict(valid_behavior_features)\n",
    "result = accuracy_score(valid_behavior_target, valid_predictions)\n",
    "print('sqrt :',result)\n",
    "\n",
    "#применю entropy и False\n",
    "model_rfc = RandomForestClassifier(random_state=12345, n_estimators=23, criterion='entropy', bootstrap=False)\n",
    "model_rfc.fit(train_behavior_features, train_behavior_target)\n",
    "valid_predictions = model_rfc.predict(valid_behavior_features)\n",
    "result = accuracy_score(valid_behavior_target, valid_predictions)\n",
    "print('entropy и False :',result)"
   ]
  },
  {
   "cell_type": "markdown",
   "metadata": {},
   "source": [
    "Изменение гиперпараметров не дало лучшего результата."
   ]
  },
  {
   "cell_type": "markdown",
   "metadata": {},
   "source": [
    "### Логистическая регрессия"
   ]
  },
  {
   "cell_type": "markdown",
   "metadata": {},
   "source": [
    "Найду лучшую модель логистической регрессии."
   ]
  },
  {
   "cell_type": "code",
   "execution_count": 14,
   "metadata": {},
   "outputs": [
    {
     "name": "stdout",
     "output_type": "stream",
     "text": [
      "max_iter = 1 : 0.7060653188180405\n",
      "max_iter = 2 : 0.7060653188180405\n",
      "max_iter = 3 : 0.7060653188180405\n",
      "max_iter = 4 : 0.7060653188180405\n",
      "max_iter = 5 : 0.7060653188180405\n",
      "max_iter = 6 : 0.7060653188180405\n",
      "max_iter = 7 : 0.7060653188180405\n",
      "max_iter = 8 : 0.7060653188180405\n",
      "max_iter = 9 : 0.7060653188180405\n",
      "max_iter = 10 : 0.7060653188180405\n",
      "max_iter = 11 : 0.7060653188180405\n",
      "max_iter = 12 : 0.7060653188180405\n",
      "max_iter = 13 : 0.7060653188180405\n",
      "max_iter = 14 : 0.7060653188180405\n",
      "max_iter = 15 : 0.7060653188180405\n",
      "max_iter = 16 : 0.7060653188180405\n",
      "max_iter = 17 : 0.7060653188180405\n",
      "max_iter = 18 : 0.7045101088646968\n",
      "max_iter = 19 : 0.7076205287713841\n",
      "max_iter = 20 : 0.7076205287713841\n",
      "max_iter = 21 : 0.7076205287713841\n",
      "max_iter = 22 : 0.7076205287713841\n",
      "max_iter = 23 : 0.7076205287713841\n",
      "max_iter = 24 : 0.7076205287713841\n",
      "max_iter = 25 : 0.7076205287713841\n",
      "max_iter = 26 : 0.7076205287713841\n",
      "max_iter = 27 : 0.7076205287713841\n",
      "max_iter = 28 : 0.7076205287713841\n",
      "max_iter = 29 : 0.7076205287713841\n",
      "max_iter = 30 : 0.7091757387247278\n",
      "max_iter = 31 : 0.7091757387247278\n",
      "max_iter = 32 : 0.7076205287713841\n",
      "max_iter = 33 : 0.7076205287713841\n",
      "max_iter = 34 : 0.7076205287713841\n",
      "max_iter = 35 : 0.7076205287713841\n",
      "max_iter = 36 : 0.7060653188180405\n",
      "max_iter = 37 : 0.7045101088646968\n",
      "max_iter = 38 : 0.7091757387247278\n",
      "max_iter = 39 : 0.7107309486780715\n",
      "39 0.7107309486780715\n"
     ]
    }
   ],
   "source": [
    "#создам списки для построения графика\n",
    "iter_graph = []\n",
    "accuracy_graph = []\n",
    "#найду лучший результат меняя параметр max_iter\n",
    "best_iter = 0\n",
    "best_accuracy = 0\n",
    "for max_iter in range(1,40):\n",
    "    model_lr = LogisticRegression(random_state=12345, max_iter=max_iter)\n",
    "    model_lr.fit(train_behavior_features, train_behavior_target)\n",
    "    valid_predictions = model_lr.predict(valid_behavior_features)\n",
    "    accuracy = accuracy_score(valid_behavior_target, valid_predictions)\n",
    "    iter_graph.append(max_iter)\n",
    "    accuracy_graph.append(accuracy)\n",
    "    print('max_iter =', max_iter,':',accuracy)\n",
    "    if accuracy > best_accuracy:\n",
    "        best_iter, best_accuracy = max_iter, accuracy        \n",
    "print(best_iter, best_accuracy)"
   ]
  },
  {
   "cell_type": "markdown",
   "metadata": {},
   "source": [
    "Построю график для визуализации."
   ]
  },
  {
   "cell_type": "code",
   "execution_count": 15,
   "metadata": {},
   "outputs": [
    {
     "data": {
      "image/png": "[encoded data removed]",
      "text/plain": [
       "<Figure size 1080x576 with 1 Axes>"
      ]
     },
     "metadata": {
      "needs_background": "light"
     },
     "output_type": "display_data"
    }
   ],
   "source": [
    "plt.figure(figsize=(15,8))\n",
    "plt.bar(iter_graph, accuracy_graph)\n",
    "plt.title('Логистическая регрессия')\n",
    "plt.xlabel(\"Количество итераций\");\n",
    "plt.ylabel(\"Точность\");"
   ]
  },
  {
   "cell_type": "markdown",
   "metadata": {},
   "source": [
    "Пока наилучший результат дало количество итераций равное 29. Дальнейшее увеличение количество итераций не дает результата.\n",
    "\n",
    "Теперь проверю изменится ли точность при изменении гиперпараметров."
   ]
  },
  {
   "cell_type": "code",
   "execution_count": 16,
   "metadata": {},
   "outputs": [
    {
     "name": "stdout",
     "output_type": "stream",
     "text": [
      "Solver liblinear Точность 0.7573872472783826\n",
      "Solver saga Точность 0.7060653188180405\n",
      "Solver lbfgs Точность 0.7076205287713841\n",
      "Solver newton-cg Точность 0.7558320373250389\n",
      "Solver sag Точность 0.7060653188180405\n"
     ]
    }
   ],
   "source": [
    "#начну с изменения значений параметра solver\n",
    "best_solver = ''\n",
    "best_accuracy = 0\n",
    "\n",
    "for solve in {'newton-cg', 'lbfgs', 'liblinear', 'sag', 'saga'}:\n",
    "    model_lr = LogisticRegression(random_state=12345, max_iter=29, solver=solve)\n",
    "    model_lr.fit(train_behavior_features, train_behavior_target)\n",
    "    valid_predictions = model_lr.predict(valid_behavior_features)\n",
    "    accuracy = accuracy_score(valid_behavior_target, valid_predictions)\n",
    "    print('Solver', solve,'Точность',accuracy)"
   ]
  },
  {
   "cell_type": "markdown",
   "metadata": {},
   "source": [
    "Улучшений в модели нет."
   ]
  },
  {
   "cell_type": "code",
   "execution_count": 19,
   "metadata": {},
   "outputs": [
    {
     "name": "stdout",
     "output_type": "stream",
     "text": [
      "Точность 0.7060653188180405\n"
     ]
    }
   ],
   "source": [
    "#изменю значения параметра penalty и solver\n",
    "model_lr = LogisticRegression(random_state=12345, max_iter=29, solver='saga', l1_ratio=0.5, penalty='elasticnet')\n",
    "model_lr.fit(train_behavior_features, train_behavior_target)\n",
    "valid_predictions = model_lr.predict(valid_behavior_features)\n",
    "accuracy = accuracy_score(valid_behavior_target, valid_predictions)\n",
    "print('Точность',accuracy)"
   ]
  },
  {
   "cell_type": "markdown",
   "metadata": {},
   "source": [
    "Улучшений в модели нет."
   ]
  },
  {
   "cell_type": "markdown",
   "metadata": {},
   "source": [
    "### Вывод"
   ]
  },
  {
   "cell_type": "markdown",
   "metadata": {},
   "source": [
    "Наилучшие результаты для каждой модели выявились при следующих параметрах:\n",
    "\n",
    "- для решающего древа - глубина деревьев равная 3, без изменения дополнительных параметров;\n",
    "- для случайного леса - количество оценщиков равное 23, без изменения дополнительных параметров;\n",
    "- для логистической регрессии - количество итераций равное 29, без изменения дополнительных параметров."
   ]
  },
  {
   "cell_type": "markdown",
   "metadata": {},
   "source": [
    "## Проверьте модель на тестовой выборке"
   ]
  },
  {
   "cell_type": "markdown",
   "metadata": {},
   "source": [
    "Наилучшие модели определил, теперь проверб их работу на тестовой выборке."
   ]
  },
  {
   "cell_type": "code",
   "execution_count": 20,
   "metadata": {},
   "outputs": [
    {
     "name": "stdout",
     "output_type": "stream",
     "text": [
      "Точность 0.7791601866251944\n",
      "Точность 0.7807153965785381\n",
      "Точность 0.6936236391912908\n"
     ]
    }
   ],
   "source": [
    "#решающее древо\n",
    "model_dtc = DecisionTreeClassifier(random_state=12345, max_depth=3)\n",
    "model_dtc.fit(train_behavior_features, train_behavior_target)\n",
    "test_predictions = model_dtc.predict(test_behavior_features)\n",
    "result = accuracy_score(test_behavior_target,  test_predictions)\n",
    "print('Точность',result)\n",
    "\n",
    "#случайный лес\n",
    "model_rfc = RandomForestClassifier(random_state=12345, n_estimators=23)\n",
    "model_rfc.fit(train_behavior_features, train_behavior_target)\n",
    "test_predictions = model_rfc.predict(test_behavior_features)\n",
    "result = accuracy_score(test_behavior_target, test_predictions)\n",
    "print('Точность',result)\n",
    "\n",
    "#логистическая регрессия\n",
    "model_lr = LogisticRegression(random_state=12345, max_iter=29)\n",
    "model_lr.fit(train_behavior_features, train_behavior_target)\n",
    "test_predictions = model_lr.predict(test_behavior_features)\n",
    "result = accuracy_score(test_behavior_target, test_predictions)\n",
    "print('Точность',result)"
   ]
  },
  {
   "cell_type": "markdown",
   "metadata": {},
   "source": [
    "### Вывод"
   ]
  },
  {
   "cell_type": "markdown",
   "metadata": {},
   "source": [
    "Значение точности 0,75 достигли только две модели - решающее древо и случайный лес.\n",
    "\n",
    "Наилучший результат у модели случайного леса - 0,7947.\n",
    "\n",
    "Худший результат у модели логистической регрессии - 0,7403."
   ]
  },
  {
   "cell_type": "code",
   "execution_count": 21,
   "metadata": {},
   "outputs": [
    {
     "name": "stdout",
     "output_type": "stream",
     "text": [
      "Точность 0.776049766718507\n",
      "Точность 0.8055987558320373\n",
      "Точность 0.6905132192846034\n"
     ]
    }
   ],
   "source": [
    "behavior_features = pd.concat([train_behavior_features, valid_behavior_features], ignore_index=True)\n",
    "behavior_target = pd.concat([train_behavior_target, valid_behavior_target], ignore_index=True)\n",
    "#решающее древо\n",
    "model_dtc = DecisionTreeClassifier(random_state=12345, max_depth=3)\n",
    "model_dtc.fit(behavior_features, behavior_target)\n",
    "test_predictions = model_dtc.predict(test_behavior_features)\n",
    "result = accuracy_score(test_behavior_target,  test_predictions)\n",
    "print('Точность',result)\n",
    "\n",
    "#случайный лес\n",
    "model_rfc = RandomForestClassifier(random_state=12345, n_estimators=23)\n",
    "model_rfc.fit(behavior_features, behavior_target)\n",
    "test_predictions = model_rfc.predict(test_behavior_features)\n",
    "result = accuracy_score(test_behavior_target, test_predictions)\n",
    "print('Точность',result)\n",
    "\n",
    "#логистическая регрессия\n",
    "model_lr = LogisticRegression(random_state=12345, max_iter=29)\n",
    "model_lr.fit(behavior_features, behavior_target)\n",
    "test_predictions = model_lr.predict(test_behavior_features)\n",
    "result = accuracy_score(test_behavior_target, test_predictions)\n",
    "print('Точность',result)"
   ]
  },
  {
   "cell_type": "markdown",
   "metadata": {},
   "source": [
    "## (бонус) Проверьте модели на адекватность"
   ]
  },
  {
   "cell_type": "markdown",
   "metadata": {},
   "source": [
    "Обычно адекватность модели оценивается через обобщающую характеристику — функцию потерь. Cреднеквадратичное отклонение – самая простая функция потерь и наиболее часто используемая."
   ]
  },
  {
   "cell_type": "code",
   "execution_count": 22,
   "metadata": {},
   "outputs": [
    {
     "name": "stdout",
     "output_type": "stream",
     "text": [
      "RMSE model_dtc: 0.46827833968854665\n",
      "RMSE model_rfc: 0.46661482345519006\n",
      "RMSE model_lr: 0.5535127467445616\n"
     ]
    }
   ],
   "source": [
    "model_dtc = DecisionTreeClassifier(random_state=12345, max_depth=6, criterion=\"entropy\")\n",
    "model_dtc.fit(train_behavior_features, train_behavior_target)\n",
    "test_predictions = model_dtc.predict(test_behavior_features)\n",
    "result = mean_squared_error(test_behavior_target, test_predictions)**0.5\n",
    "print(\"RMSE model_dtc:\", result)\n",
    "\n",
    "model_rfc = RandomForestClassifier(random_state=12345, n_estimators=est)\n",
    "model_rfc.fit(train_behavior_features, train_behavior_target)\n",
    "test_predictions = model_rfc.predict(test_behavior_features)\n",
    "result = mean_squared_error(test_behavior_target, test_predictions)**0.5\n",
    "print(\"RMSE model_rfc:\", result)\n",
    "\n",
    "model_lr = LogisticRegression(random_state=12345, max_iter=29)\n",
    "model_lr.fit(train_behavior_features, train_behavior_target)\n",
    "test_predictions = model_lr.predict(test_behavior_features)\n",
    "result = mean_squared_error(test_behavior_target, test_predictions)**0.5\n",
    "print(\"RMSE model_lr:\", result)"
   ]
  },
  {
   "cell_type": "code",
   "execution_count": 23,
   "metadata": {},
   "outputs": [
    {
     "data": {
      "text/plain": [
       "0.6958381952547646"
      ]
     },
     "metadata": {},
     "output_type": "display_data"
    }
   ],
   "source": [
    "from sklearn.dummy import DummyClassifier\n",
    "X = behavior_features\n",
    "y = behavior_target\n",
    "dummy_clf = DummyClassifier(strategy=\"most_frequent\")\n",
    "dummy_clf.fit(X, y)\n",
    "DummyClassifier(strategy='most_frequent')\n",
    "dummy_clf.predict(X)\n",
    "display(dummy_clf.score(X, y))"
   ]
  },
  {
   "cell_type": "markdown",
   "metadata": {},
   "source": [
    "### Вывод"
   ]
  },
  {
   "cell_type": "markdown",
   "metadata": {},
   "source": [
    "Наименее адекватная модель - логистическая регрессия, со среднеквадратичным отклонением 0,5096.\n",
    "\n",
    "Наиболее адекватная модель - случайны лес, со среднеквадратичным отклонением 0,4666."
   ]
  },
  {
   "cell_type": "markdown",
   "metadata": {},
   "source": [
    "## Общий вывод"
   ]
  },
  {
   "cell_type": "markdown",
   "metadata": {},
   "source": [
    "В ходе исследования я проверил точность моделей предсказания на тестовой выборке.\n",
    "\n",
    "Наиболее точной моделью и одновременно самой адекватной оказался случайный лес с количеством оценщиков равным 23, без изменения дополнительных параметров.\n",
    "\n",
    "Считаю, что точности медели случайного леса (равной 79,47%) достаточно, чтобы построить систему, способную проанализировать поведение клиентов и предложить пользователям новый тариф: «Смарт» или «Ультра»."
   ]
  }
 ],
 "metadata": {
  "ExecuteTimeLog": [
   {
    "duration": 595,
    "start_time": "2022-03-11T13:46:16.488Z"
   },
   {
    "duration": 239,
    "start_time": "2022-03-11T13:47:35.489Z"
   },
   {
    "duration": 6,
    "start_time": "2022-03-11T13:49:06.082Z"
   },
   {
    "duration": 431,
    "start_time": "2022-03-11T15:05:40.162Z"
   },
   {
    "duration": 232,
    "start_time": "2022-03-11T15:05:40.595Z"
   },
   {
    "duration": 5,
    "start_time": "2022-03-11T15:05:40.829Z"
   },
   {
    "duration": 8,
    "start_time": "2022-03-11T15:05:43.151Z"
   },
   {
    "duration": 5,
    "start_time": "2022-03-11T16:20:35.407Z"
   },
   {
    "duration": 3314,
    "start_time": "2022-03-11T18:35:12.700Z"
   },
   {
    "duration": 26,
    "start_time": "2022-03-11T18:35:19.838Z"
   },
   {
    "duration": 790,
    "start_time": "2022-03-11T18:35:19.866Z"
   },
   {
    "duration": 5,
    "start_time": "2022-03-11T18:35:20.658Z"
   },
   {
    "duration": 6,
    "start_time": "2022-03-11T18:35:20.664Z"
   },
   {
    "duration": 4,
    "start_time": "2022-03-11T18:35:20.672Z"
   },
   {
    "duration": 28,
    "start_time": "2022-03-11T18:35:22.640Z"
   },
   {
    "duration": 131,
    "start_time": "2022-03-11T18:36:33.616Z"
   },
   {
    "duration": 10,
    "start_time": "2022-03-11T18:40:54.083Z"
   },
   {
    "duration": 10,
    "start_time": "2022-03-11T18:41:10.176Z"
   },
   {
    "duration": 11,
    "start_time": "2022-03-11T18:41:15.837Z"
   },
   {
    "duration": 366,
    "start_time": "2022-03-11T18:41:24.771Z"
   },
   {
    "duration": 10,
    "start_time": "2022-03-11T18:41:28.426Z"
   },
   {
    "duration": 18,
    "start_time": "2022-03-11T18:43:45.579Z"
   },
   {
    "duration": 21,
    "start_time": "2022-03-11T18:44:08.101Z"
   },
   {
    "duration": 24,
    "start_time": "2022-03-11T18:44:23.389Z"
   },
   {
    "duration": 310,
    "start_time": "2022-03-11T18:47:04.541Z"
   },
   {
    "duration": 8,
    "start_time": "2022-03-11T18:47:08.842Z"
   },
   {
    "duration": 240,
    "start_time": "2022-03-11T18:47:08.852Z"
   },
   {
    "duration": 5,
    "start_time": "2022-03-11T18:47:09.094Z"
   },
   {
    "duration": 22,
    "start_time": "2022-03-11T18:47:09.101Z"
   },
   {
    "duration": 13,
    "start_time": "2022-03-11T18:47:09.125Z"
   },
   {
    "duration": 145,
    "start_time": "2022-03-11T18:47:09.139Z"
   },
   {
    "duration": 37,
    "start_time": "2022-03-11T18:47:09.285Z"
   },
   {
    "duration": 703,
    "start_time": "2022-03-11T18:47:10.982Z"
   },
   {
    "duration": 688,
    "start_time": "2022-03-11T18:48:11.702Z"
   },
   {
    "duration": 1547,
    "start_time": "2022-03-11T18:48:27.878Z"
   },
   {
    "duration": 334,
    "start_time": "2022-03-11T18:48:40.038Z"
   },
   {
    "duration": 3393,
    "start_time": "2022-03-11T18:48:47.184Z"
   },
   {
    "duration": 82,
    "start_time": "2022-03-11T18:51:10.757Z"
   },
   {
    "duration": 83,
    "start_time": "2022-03-11T18:51:15.503Z"
   },
   {
    "duration": 541,
    "start_time": "2022-03-11T19:14:05.537Z"
   },
   {
    "duration": 1149,
    "start_time": "2022-03-12T09:44:52.553Z"
   },
   {
    "duration": 214,
    "start_time": "2022-03-12T09:44:53.704Z"
   },
   {
    "duration": 8,
    "start_time": "2022-03-12T09:44:53.921Z"
   },
   {
    "duration": 15,
    "start_time": "2022-03-12T09:44:53.931Z"
   },
   {
    "duration": 13,
    "start_time": "2022-03-12T09:44:53.948Z"
   },
   {
    "duration": 407,
    "start_time": "2022-03-12T09:44:53.963Z"
   },
   {
    "duration": 29,
    "start_time": "2022-03-12T09:44:54.372Z"
   },
   {
    "duration": 346,
    "start_time": "2022-03-12T09:44:56.860Z"
   },
   {
    "duration": 3006,
    "start_time": "2022-03-12T09:45:55.460Z"
   },
   {
    "duration": 568,
    "start_time": "2022-03-12T09:46:35.540Z"
   },
   {
    "duration": 12,
    "start_time": "2022-03-12T09:52:29.352Z"
   },
   {
    "duration": 12,
    "start_time": "2022-03-12T09:54:47.024Z"
   },
   {
    "duration": 11,
    "start_time": "2022-03-12T09:54:53.897Z"
   },
   {
    "duration": 11,
    "start_time": "2022-03-12T09:54:58.545Z"
   },
   {
    "duration": 11,
    "start_time": "2022-03-12T09:55:04.168Z"
   },
   {
    "duration": 12,
    "start_time": "2022-03-12T09:55:08.800Z"
   },
   {
    "duration": 13,
    "start_time": "2022-03-12T09:55:29.528Z"
   },
   {
    "duration": 13,
    "start_time": "2022-03-12T09:55:38.609Z"
   },
   {
    "duration": 12,
    "start_time": "2022-03-12T09:55:49.393Z"
   },
   {
    "duration": 545,
    "start_time": "2022-03-12T10:02:41.377Z"
   },
   {
    "duration": 638,
    "start_time": "2022-03-12T10:02:46.357Z"
   },
   {
    "duration": 615,
    "start_time": "2022-03-12T10:03:12.621Z"
   },
   {
    "duration": 618,
    "start_time": "2022-03-12T10:03:52.205Z"
   },
   {
    "duration": 238,
    "start_time": "2022-03-12T10:10:57.466Z"
   },
   {
    "duration": 3,
    "start_time": "2022-03-12T10:10:59.959Z"
   },
   {
    "duration": 212,
    "start_time": "2022-03-12T10:10:59.965Z"
   },
   {
    "duration": 7,
    "start_time": "2022-03-12T10:11:00.179Z"
   },
   {
    "duration": 13,
    "start_time": "2022-03-12T10:11:00.188Z"
   },
   {
    "duration": 6,
    "start_time": "2022-03-12T10:11:00.203Z"
   },
   {
    "duration": 383,
    "start_time": "2022-03-12T10:11:00.211Z"
   },
   {
    "duration": 37,
    "start_time": "2022-03-12T10:11:00.596Z"
   },
   {
    "duration": 3197,
    "start_time": "2022-03-12T10:11:00.636Z"
   },
   {
    "duration": 664,
    "start_time": "2022-03-12T10:11:03.835Z"
   },
   {
    "duration": 234,
    "start_time": "2022-03-12T10:11:06.107Z"
   },
   {
    "duration": 15,
    "start_time": "2022-03-12T10:11:35.463Z"
   },
   {
    "duration": 288,
    "start_time": "2022-03-12T10:13:22.110Z"
   },
   {
    "duration": 3,
    "start_time": "2022-03-12T10:14:24.098Z"
   },
   {
    "duration": 227,
    "start_time": "2022-03-12T10:14:24.103Z"
   },
   {
    "duration": 6,
    "start_time": "2022-03-12T10:14:24.333Z"
   },
   {
    "duration": 9,
    "start_time": "2022-03-12T10:14:24.341Z"
   },
   {
    "duration": 7,
    "start_time": "2022-03-12T10:14:24.351Z"
   },
   {
    "duration": 353,
    "start_time": "2022-03-12T10:14:24.360Z"
   },
   {
    "duration": 26,
    "start_time": "2022-03-12T10:14:24.715Z"
   },
   {
    "duration": 3047,
    "start_time": "2022-03-12T10:14:24.743Z"
   },
   {
    "duration": 637,
    "start_time": "2022-03-12T10:14:27.791Z"
   },
   {
    "duration": 270,
    "start_time": "2022-03-12T10:15:17.448Z"
   },
   {
    "duration": 151,
    "start_time": "2022-03-12T10:18:48.840Z"
   },
   {
    "duration": 307,
    "start_time": "2022-03-12T10:20:54.825Z"
   },
   {
    "duration": 387,
    "start_time": "2022-03-12T10:21:29.980Z"
   },
   {
    "duration": 125,
    "start_time": "2022-03-12T10:22:22.340Z"
   },
   {
    "duration": 241,
    "start_time": "2022-03-12T10:23:55.010Z"
   },
   {
    "duration": 244,
    "start_time": "2022-03-12T10:24:13.958Z"
   },
   {
    "duration": 20,
    "start_time": "2022-03-12T10:24:20.101Z"
   },
   {
    "duration": 32,
    "start_time": "2022-03-12T10:24:27.366Z"
   },
   {
    "duration": 119,
    "start_time": "2022-03-12T10:30:13.318Z"
   },
   {
    "duration": 404,
    "start_time": "2022-03-12T10:30:20.280Z"
   },
   {
    "duration": 397,
    "start_time": "2022-03-12T10:31:05.770Z"
   },
   {
    "duration": 127,
    "start_time": "2022-03-12T10:32:20.862Z"
   },
   {
    "duration": 150,
    "start_time": "2022-03-12T10:32:25.481Z"
   },
   {
    "duration": 24,
    "start_time": "2022-03-12T10:32:51.698Z"
   },
   {
    "duration": 270,
    "start_time": "2022-03-12T10:33:02.394Z"
   },
   {
    "duration": 86,
    "start_time": "2022-03-12T10:33:08.619Z"
   },
   {
    "duration": 25,
    "start_time": "2022-03-12T10:33:09.529Z"
   },
   {
    "duration": 239,
    "start_time": "2022-03-12T10:34:10.883Z"
   },
   {
    "duration": 4,
    "start_time": "2022-03-12T10:37:41.484Z"
   },
   {
    "duration": 177,
    "start_time": "2022-03-12T10:37:41.490Z"
   },
   {
    "duration": 6,
    "start_time": "2022-03-12T10:37:41.669Z"
   },
   {
    "duration": 9,
    "start_time": "2022-03-12T10:37:41.677Z"
   },
   {
    "duration": 6,
    "start_time": "2022-03-12T10:37:41.687Z"
   },
   {
    "duration": 372,
    "start_time": "2022-03-12T10:37:41.694Z"
   },
   {
    "duration": 28,
    "start_time": "2022-03-12T10:37:42.068Z"
   },
   {
    "duration": 2926,
    "start_time": "2022-03-12T10:37:42.098Z"
   },
   {
    "duration": 670,
    "start_time": "2022-03-12T10:37:45.026Z"
   },
   {
    "duration": 293,
    "start_time": "2022-03-12T10:37:45.698Z"
   },
   {
    "duration": 107,
    "start_time": "2022-03-12T10:37:45.993Z"
   },
   {
    "duration": 24,
    "start_time": "2022-03-12T10:37:46.101Z"
   },
   {
    "duration": 13,
    "start_time": "2022-03-12T10:37:46.127Z"
   },
   {
    "duration": 158,
    "start_time": "2022-03-12T10:37:48.404Z"
   },
   {
    "duration": 12,
    "start_time": "2022-03-12T10:39:59.291Z"
   },
   {
    "duration": 13,
    "start_time": "2022-03-12T10:40:08.478Z"
   },
   {
    "duration": 266,
    "start_time": "2022-03-12T10:43:20.837Z"
   },
   {
    "duration": 3,
    "start_time": "2022-03-12T10:43:33.372Z"
   },
   {
    "duration": 170,
    "start_time": "2022-03-12T10:43:33.377Z"
   },
   {
    "duration": 6,
    "start_time": "2022-03-12T10:43:33.549Z"
   },
   {
    "duration": 9,
    "start_time": "2022-03-12T10:43:33.557Z"
   },
   {
    "duration": 7,
    "start_time": "2022-03-12T10:43:33.568Z"
   },
   {
    "duration": 361,
    "start_time": "2022-03-12T10:43:33.577Z"
   },
   {
    "duration": 38,
    "start_time": "2022-03-12T10:43:33.940Z"
   },
   {
    "duration": 244,
    "start_time": "2022-03-12T10:43:35.592Z"
   },
   {
    "duration": 3905,
    "start_time": "2022-03-12T10:45:20.706Z"
   },
   {
    "duration": 637,
    "start_time": "2022-03-12T10:46:31.823Z"
   },
   {
    "duration": 162,
    "start_time": "2022-03-12T10:46:47.753Z"
   },
   {
    "duration": 154,
    "start_time": "2022-03-12T10:47:30.514Z"
   },
   {
    "duration": 184,
    "start_time": "2022-03-12T10:48:34.378Z"
   },
   {
    "duration": 313,
    "start_time": "2022-03-12T19:45:27.998Z"
   },
   {
    "duration": 1405,
    "start_time": "2022-03-12T19:45:30.481Z"
   },
   {
    "duration": 226,
    "start_time": "2022-03-12T19:45:31.889Z"
   },
   {
    "duration": 10,
    "start_time": "2022-03-12T19:45:33.171Z"
   },
   {
    "duration": 14,
    "start_time": "2022-03-12T19:45:34.722Z"
   },
   {
    "duration": 9,
    "start_time": "2022-03-12T19:46:38.272Z"
   },
   {
    "duration": 477,
    "start_time": "2022-03-12T19:56:22.578Z"
   },
   {
    "duration": 335,
    "start_time": "2022-03-12T19:59:54.171Z"
   },
   {
    "duration": 279,
    "start_time": "2022-03-12T20:02:29.972Z"
   },
   {
    "duration": 276,
    "start_time": "2022-03-12T20:02:40.685Z"
   },
   {
    "duration": 280,
    "start_time": "2022-03-12T20:03:10.468Z"
   },
   {
    "duration": 468,
    "start_time": "2022-03-12T20:03:17.931Z"
   },
   {
    "duration": 466,
    "start_time": "2022-03-12T20:03:40.236Z"
   },
   {
    "duration": 185,
    "start_time": "2022-03-12T20:05:07.198Z"
   },
   {
    "duration": 184,
    "start_time": "2022-03-12T20:05:07.385Z"
   },
   {
    "duration": 8,
    "start_time": "2022-03-12T20:05:07.571Z"
   },
   {
    "duration": 13,
    "start_time": "2022-03-12T20:05:07.582Z"
   },
   {
    "duration": 8,
    "start_time": "2022-03-12T20:05:07.597Z"
   },
   {
    "duration": 447,
    "start_time": "2022-03-12T20:05:09.196Z"
   },
   {
    "duration": 1060,
    "start_time": "2022-03-12T20:05:42.480Z"
   },
   {
    "duration": 1006,
    "start_time": "2022-03-12T20:06:33.669Z"
   },
   {
    "duration": 451,
    "start_time": "2022-03-12T20:08:22.159Z"
   },
   {
    "duration": 259,
    "start_time": "2022-03-12T20:09:26.565Z"
   },
   {
    "duration": 4,
    "start_time": "2022-03-12T20:09:58.806Z"
   },
   {
    "duration": 208,
    "start_time": "2022-03-12T20:09:58.813Z"
   },
   {
    "duration": 8,
    "start_time": "2022-03-12T20:09:59.024Z"
   },
   {
    "duration": 12,
    "start_time": "2022-03-12T20:09:59.035Z"
   },
   {
    "duration": 8,
    "start_time": "2022-03-12T20:09:59.050Z"
   },
   {
    "duration": 478,
    "start_time": "2022-03-12T20:09:59.060Z"
   },
   {
    "duration": 565,
    "start_time": "2022-03-12T20:10:01.031Z"
   },
   {
    "duration": 33,
    "start_time": "2022-03-12T20:11:46.380Z"
   },
   {
    "duration": 33,
    "start_time": "2022-03-12T20:15:33.663Z"
   },
   {
    "duration": 4198,
    "start_time": "2022-03-12T20:16:52.754Z"
   },
   {
    "duration": 4149,
    "start_time": "2022-03-12T20:17:15.204Z"
   },
   {
    "duration": 4119,
    "start_time": "2022-03-12T20:17:41.022Z"
   },
   {
    "duration": 4296,
    "start_time": "2022-03-12T20:24:42.701Z"
   },
   {
    "duration": 624,
    "start_time": "2022-03-12T20:26:25.812Z"
   },
   {
    "duration": 6365,
    "start_time": "2022-03-12T20:26:38.498Z"
   },
   {
    "duration": 16781,
    "start_time": "2022-03-12T20:26:51.375Z"
   },
   {
    "duration": 1004,
    "start_time": "2022-03-12T20:27:12.534Z"
   },
   {
    "duration": 744,
    "start_time": "2022-03-12T20:27:20.951Z"
   },
   {
    "duration": 815,
    "start_time": "2022-03-12T20:27:28.450Z"
   },
   {
    "duration": 479,
    "start_time": "2022-03-12T20:28:58.837Z"
   },
   {
    "duration": 471,
    "start_time": "2022-03-12T20:29:21.503Z"
   },
   {
    "duration": 513,
    "start_time": "2022-03-12T20:29:54.504Z"
   },
   {
    "duration": 507,
    "start_time": "2022-03-12T20:30:27.577Z"
   },
   {
    "duration": 483,
    "start_time": "2022-03-12T20:30:54.009Z"
   },
   {
    "duration": 17774,
    "start_time": "2022-03-12T20:32:07.025Z"
   },
   {
    "duration": 2459,
    "start_time": "2022-03-12T20:32:39.602Z"
   },
   {
    "duration": 666,
    "start_time": "2022-03-12T20:32:43.771Z"
   },
   {
    "duration": 529,
    "start_time": "2022-03-12T20:32:55.985Z"
   },
   {
    "duration": 874,
    "start_time": "2022-03-12T20:34:43.667Z"
   },
   {
    "duration": 867,
    "start_time": "2022-03-12T20:38:52.441Z"
   },
   {
    "duration": 2465,
    "start_time": "2022-03-12T20:41:58.253Z"
   },
   {
    "duration": 2346,
    "start_time": "2022-03-12T20:42:26.320Z"
   },
   {
    "duration": 2477,
    "start_time": "2022-03-12T20:43:20.635Z"
   },
   {
    "duration": 472,
    "start_time": "2022-03-12T20:44:04.679Z"
   },
   {
    "duration": 481,
    "start_time": "2022-03-12T20:44:38.336Z"
   },
   {
    "duration": 456,
    "start_time": "2022-03-12T20:47:10.453Z"
   },
   {
    "duration": 627,
    "start_time": "2022-03-12T20:47:12.832Z"
   },
   {
    "duration": 160,
    "start_time": "2022-03-12T20:49:36.744Z"
   },
   {
    "duration": 42,
    "start_time": "2022-03-12T20:50:44.858Z"
   },
   {
    "duration": 108,
    "start_time": "2022-03-12T20:51:28.018Z"
   },
   {
    "duration": 235,
    "start_time": "2022-03-12T21:00:04.839Z"
   },
   {
    "duration": 201,
    "start_time": "2022-03-12T21:31:13.038Z"
   },
   {
    "duration": 151,
    "start_time": "2022-03-12T21:31:45.663Z"
   },
   {
    "duration": 1414,
    "start_time": "2022-03-12T21:43:17.867Z"
   },
   {
    "duration": 221,
    "start_time": "2022-03-12T21:43:19.284Z"
   },
   {
    "duration": 9,
    "start_time": "2022-03-12T21:43:19.508Z"
   },
   {
    "duration": 14,
    "start_time": "2022-03-12T21:43:19.520Z"
   },
   {
    "duration": 9,
    "start_time": "2022-03-12T21:43:19.536Z"
   },
   {
    "duration": 458,
    "start_time": "2022-03-12T21:43:19.547Z"
   },
   {
    "duration": 596,
    "start_time": "2022-03-12T21:43:20.008Z"
   },
   {
    "duration": 46,
    "start_time": "2022-03-12T21:43:20.607Z"
   },
   {
    "duration": 2381,
    "start_time": "2022-03-12T21:43:20.656Z"
   },
   {
    "duration": 512,
    "start_time": "2022-03-12T21:43:23.039Z"
   },
   {
    "duration": 870,
    "start_time": "2022-03-12T21:43:23.553Z"
   },
   {
    "duration": 521,
    "start_time": "2022-03-12T21:43:24.425Z"
   },
   {
    "duration": 563,
    "start_time": "2022-03-12T21:43:24.952Z"
   },
   {
    "duration": 141,
    "start_time": "2022-03-12T21:43:25.518Z"
   },
   {
    "duration": 40,
    "start_time": "2022-03-12T21:43:25.662Z"
   },
   {
    "duration": 18,
    "start_time": "2022-03-12T21:43:25.704Z"
   },
   {
    "duration": 183,
    "start_time": "2022-03-12T21:43:25.724Z"
   },
   {
    "duration": 192,
    "start_time": "2022-03-12T21:43:25.909Z"
   },
   {
    "duration": 1447,
    "start_time": "2022-03-13T17:23:45.406Z"
   },
   {
    "duration": 197,
    "start_time": "2022-03-13T17:23:46.856Z"
   },
   {
    "duration": 9,
    "start_time": "2022-03-13T17:23:47.056Z"
   },
   {
    "duration": 15137,
    "start_time": "2022-03-13T17:24:22.340Z"
   },
   {
    "duration": 15297,
    "start_time": "2022-03-13T17:26:13.292Z"
   },
   {
    "duration": 15759,
    "start_time": "2022-03-13T17:28:47.268Z"
   },
   {
    "duration": 15314,
    "start_time": "2022-03-13T17:29:19.622Z"
   },
   {
    "duration": 5,
    "start_time": "2022-03-13T18:09:14.611Z"
   },
   {
    "duration": 191,
    "start_time": "2022-03-13T18:09:14.619Z"
   },
   {
    "duration": 10,
    "start_time": "2022-03-13T18:09:14.814Z"
   },
   {
    "duration": 14609,
    "start_time": "2022-03-13T18:09:14.827Z"
   },
   {
    "duration": 23,
    "start_time": "2022-03-13T18:09:29.439Z"
   },
   {
    "duration": 9,
    "start_time": "2022-03-13T18:09:29.464Z"
   },
   {
    "duration": 537,
    "start_time": "2022-03-13T18:09:29.476Z"
   },
   {
    "duration": 579,
    "start_time": "2022-03-13T18:09:30.016Z"
   },
   {
    "duration": 156,
    "start_time": "2022-03-13T18:09:30.597Z"
   },
   {
    "duration": 2622,
    "start_time": "2022-03-13T18:09:30.756Z"
   },
   {
    "duration": 542,
    "start_time": "2022-03-13T18:09:33.381Z"
   },
   {
    "duration": 902,
    "start_time": "2022-03-13T18:09:33.926Z"
   },
   {
    "duration": 621,
    "start_time": "2022-03-13T18:09:34.830Z"
   },
   {
    "duration": 580,
    "start_time": "2022-03-13T18:09:35.454Z"
   },
   {
    "duration": 149,
    "start_time": "2022-03-13T18:09:36.037Z"
   },
   {
    "duration": 42,
    "start_time": "2022-03-13T18:09:36.189Z"
   },
   {
    "duration": 37,
    "start_time": "2022-03-13T18:09:36.233Z"
   },
   {
    "duration": 1471,
    "start_time": "2022-03-13T18:16:35.418Z"
   },
   {
    "duration": 194,
    "start_time": "2022-03-13T18:16:36.892Z"
   },
   {
    "duration": 9,
    "start_time": "2022-03-13T18:16:37.089Z"
   },
   {
    "duration": 14429,
    "start_time": "2022-03-13T18:16:37.102Z"
   },
   {
    "duration": 24,
    "start_time": "2022-03-13T18:16:51.533Z"
   },
   {
    "duration": 11,
    "start_time": "2022-03-13T18:16:51.559Z"
   },
   {
    "duration": 497,
    "start_time": "2022-03-13T18:16:51.573Z"
   },
   {
    "duration": 557,
    "start_time": "2022-03-13T18:16:52.073Z"
   },
   {
    "duration": 151,
    "start_time": "2022-03-13T18:16:52.633Z"
   },
   {
    "duration": 2426,
    "start_time": "2022-03-13T18:16:52.788Z"
   },
   {
    "duration": 548,
    "start_time": "2022-03-13T18:16:55.217Z"
   },
   {
    "duration": 1039,
    "start_time": "2022-03-13T18:16:55.768Z"
   },
   {
    "duration": 580,
    "start_time": "2022-03-13T18:16:56.809Z"
   },
   {
    "duration": 578,
    "start_time": "2022-03-13T18:16:57.392Z"
   },
   {
    "duration": 165,
    "start_time": "2022-03-13T18:16:57.972Z"
   },
   {
    "duration": 50,
    "start_time": "2022-03-13T18:16:58.141Z"
   },
   {
    "duration": 20,
    "start_time": "2022-03-13T18:16:58.193Z"
   },
   {
    "duration": 396065,
    "start_time": "2022-03-13T18:16:58.215Z"
   },
   {
    "duration": 165,
    "start_time": "2022-03-13T18:23:34.283Z"
   },
   {
    "duration": 204,
    "start_time": "2022-03-13T18:23:34.452Z"
   },
   {
    "duration": 150,
    "start_time": "2022-03-13T20:43:30.059Z"
   },
   {
    "duration": 168,
    "start_time": "2022-03-13T20:45:55.476Z"
   },
   {
    "duration": 159,
    "start_time": "2022-03-13T20:47:28.531Z"
   },
   {
    "duration": 440,
    "start_time": "2022-03-13T20:48:15.974Z"
   },
   {
    "duration": 199,
    "start_time": "2022-03-13T20:52:10.958Z"
   },
   {
    "duration": 9,
    "start_time": "2022-03-13T21:01:35.313Z"
   },
   {
    "duration": 9,
    "start_time": "2022-03-13T21:01:59.193Z"
   },
   {
    "duration": 9,
    "start_time": "2022-03-13T21:10:29.880Z"
   },
   {
    "duration": 1555,
    "start_time": "2022-03-14T07:04:11.808Z"
   },
   {
    "duration": 202,
    "start_time": "2022-03-14T07:04:13.366Z"
   },
   {
    "duration": 9,
    "start_time": "2022-03-14T07:04:13.571Z"
   },
   {
    "duration": 15077,
    "start_time": "2022-03-14T07:04:13.584Z"
   },
   {
    "duration": 13,
    "start_time": "2022-03-14T07:04:28.664Z"
   },
   {
    "duration": 9,
    "start_time": "2022-03-14T07:04:28.681Z"
   },
   {
    "duration": 519,
    "start_time": "2022-03-14T07:04:28.692Z"
   },
   {
    "duration": 569,
    "start_time": "2022-03-14T07:04:29.216Z"
   },
   {
    "duration": 146,
    "start_time": "2022-03-14T07:04:29.788Z"
   },
   {
    "duration": 2433,
    "start_time": "2022-03-14T07:04:29.951Z"
   },
   {
    "duration": 530,
    "start_time": "2022-03-14T07:04:32.386Z"
   },
   {
    "duration": 891,
    "start_time": "2022-03-14T07:04:32.919Z"
   },
   {
    "duration": 567,
    "start_time": "2022-03-14T07:04:33.812Z"
   },
   {
    "duration": 548,
    "start_time": "2022-03-14T07:04:34.382Z"
   },
   {
    "duration": 152,
    "start_time": "2022-03-14T07:04:34.932Z"
   },
   {
    "duration": 42,
    "start_time": "2022-03-14T07:04:35.087Z"
   },
   {
    "duration": 35,
    "start_time": "2022-03-14T07:04:35.131Z"
   },
   {
    "duration": 148,
    "start_time": "2022-03-14T07:04:38.886Z"
   },
   {
    "duration": 193,
    "start_time": "2022-03-14T07:04:42.169Z"
   },
   {
    "duration": 2044,
    "start_time": "2022-04-14T15:06:53.157Z"
   },
   {
    "duration": 132,
    "start_time": "2022-04-14T15:06:58.476Z"
   },
   {
    "duration": 17,
    "start_time": "2022-04-14T15:07:00.477Z"
   },
   {
    "duration": 6976,
    "start_time": "2022-04-14T15:07:02.045Z"
   },
   {
    "duration": 5,
    "start_time": "2022-04-14T15:12:18.295Z"
   },
   {
    "duration": 150,
    "start_time": "2022-04-14T15:12:23.814Z"
   },
   {
    "duration": 16,
    "start_time": "2022-04-14T15:12:26.125Z"
   },
   {
    "duration": 6966,
    "start_time": "2022-04-14T15:12:34.502Z"
   },
   {
    "duration": 12,
    "start_time": "2022-04-14T15:13:00.614Z"
   },
   {
    "duration": 9,
    "start_time": "2022-04-14T15:13:01.623Z"
   },
   {
    "duration": 539,
    "start_time": "2022-04-14T15:13:14.798Z"
   },
   {
    "duration": 362,
    "start_time": "2022-04-14T15:13:17.286Z"
   },
   {
    "duration": 42,
    "start_time": "2022-04-14T15:13:19.430Z"
   },
   {
    "duration": 2564,
    "start_time": "2022-04-14T15:13:20.719Z"
   },
   {
    "duration": 332,
    "start_time": "2022-04-14T15:13:24.822Z"
   },
   {
    "duration": 904,
    "start_time": "2022-04-14T15:13:26.520Z"
   },
   {
    "duration": 622,
    "start_time": "2022-04-14T15:13:28.775Z"
   },
   {
    "duration": 361,
    "start_time": "2022-04-14T15:13:30.590Z"
   },
   {
    "duration": 150,
    "start_time": "2022-04-14T15:13:33.175Z"
   },
   {
    "duration": 160,
    "start_time": "2022-04-14T15:13:35.006Z"
   },
   {
    "duration": 2495,
    "start_time": "2022-04-26T10:52:24.697Z"
   },
   {
    "duration": 82,
    "start_time": "2022-04-26T10:52:27.195Z"
   },
   {
    "duration": 27,
    "start_time": "2022-04-26T10:52:27.279Z"
   },
   {
    "duration": 7790,
    "start_time": "2022-04-26T10:52:27.309Z"
   },
   {
    "duration": 13,
    "start_time": "2022-04-26T10:52:35.101Z"
   },
   {
    "duration": 9,
    "start_time": "2022-04-26T10:52:35.116Z"
   },
   {
    "duration": 614,
    "start_time": "2022-04-26T10:52:35.127Z"
   },
   {
    "duration": 408,
    "start_time": "2022-04-26T10:52:35.743Z"
   },
   {
    "duration": 59,
    "start_time": "2022-04-26T10:52:36.153Z"
   },
   {
    "duration": 2714,
    "start_time": "2022-04-26T10:52:36.216Z"
   },
   {
    "duration": 376,
    "start_time": "2022-04-26T10:52:38.932Z"
   },
   {
    "duration": 988,
    "start_time": "2022-04-26T10:52:39.310Z"
   },
   {
    "duration": 738,
    "start_time": "2022-04-26T10:52:40.300Z"
   },
   {
    "duration": 402,
    "start_time": "2022-04-26T10:52:41.040Z"
   },
   {
    "duration": 168,
    "start_time": "2022-04-26T10:52:41.445Z"
   },
   {
    "duration": 216,
    "start_time": "2022-04-26T10:52:41.615Z"
   },
   {
    "duration": 0,
    "start_time": "2022-04-26T10:52:41.834Z"
   },
   {
    "duration": 0,
    "start_time": "2022-04-26T10:52:41.835Z"
   },
   {
    "duration": 0,
    "start_time": "2022-04-26T10:52:41.837Z"
   },
   {
    "duration": 0,
    "start_time": "2022-04-26T10:52:41.838Z"
   },
   {
    "duration": 0,
    "start_time": "2022-04-26T10:52:41.840Z"
   },
   {
    "duration": 4,
    "start_time": "2022-04-26T10:54:16.768Z"
   },
   {
    "duration": 24,
    "start_time": "2022-04-26T10:54:18.207Z"
   },
   {
    "duration": 2110,
    "start_time": "2022-04-30T11:27:12.352Z"
   },
   {
    "duration": 80,
    "start_time": "2022-04-30T11:27:18.968Z"
   },
   {
    "duration": 12,
    "start_time": "2022-04-30T11:30:09.688Z"
   },
   {
    "duration": 4415,
    "start_time": "2022-04-30T11:30:12.153Z"
   },
   {
    "duration": 10,
    "start_time": "2022-04-30T11:30:30.506Z"
   },
   {
    "duration": 8,
    "start_time": "2022-04-30T11:30:34.433Z"
   },
   {
    "duration": 6,
    "start_time": "2022-04-30T11:30:49.403Z"
   },
   {
    "duration": 359,
    "start_time": "2022-04-30T11:30:54.065Z"
   },
   {
    "duration": 188,
    "start_time": "2022-04-30T11:30:58.840Z"
   },
   {
    "duration": 26,
    "start_time": "2022-04-30T11:31:01.233Z"
   },
   {
    "duration": 2438,
    "start_time": "2022-04-30T11:31:04.032Z"
   },
   {
    "duration": 286,
    "start_time": "2022-04-30T11:31:21.626Z"
   },
   {
    "duration": 895,
    "start_time": "2022-04-30T11:31:28.516Z"
   },
   {
    "duration": 705,
    "start_time": "2022-04-30T11:31:42.649Z"
   },
   {
    "duration": 314,
    "start_time": "2022-04-30T11:31:46.466Z"
   },
   {
    "duration": 149,
    "start_time": "2022-04-30T11:31:49.177Z"
   },
   {
    "duration": 96,
    "start_time": "2022-04-30T11:32:30.362Z"
   },
   {
    "duration": 169,
    "start_time": "2022-04-30T11:32:39.792Z"
   },
   {
    "duration": 22,
    "start_time": "2022-04-30T11:32:55.707Z"
   },
   {
    "duration": 160,
    "start_time": "2022-04-30T11:33:28.651Z"
   },
   {
    "duration": 716,
    "start_time": "2022-04-30T11:33:31.037Z"
   },
   {
    "duration": 132,
    "start_time": "2022-04-30T11:33:40.282Z"
   },
   {
    "duration": 6,
    "start_time": "2022-04-30T11:33:42.321Z"
   }
  ],
  "kernelspec": {
   "display_name": "Python 3 (ipykernel)",
   "language": "python",
   "name": "python3"
  },
  "language_info": {
   "codemirror_mode": {
    "name": "ipython",
    "version": 3
   },
   "file_extension": ".py",
   "mimetype": "text/x-python",
   "name": "python",
   "nbconvert_exporter": "python",
   "pygments_lexer": "ipython3",
   "version": "3.9.5"
  },
  "toc": {
   "base_numbering": 1,
   "nav_menu": {},
   "number_sections": true,
   "sideBar": true,
   "skip_h1_title": true,
   "title_cell": "Table of Contents",
   "title_sidebar": "Contents",
   "toc_cell": false,
   "toc_position": {},
   "toc_section_display": true,
   "toc_window_display": true
  }
 },
 "nbformat": 4,
 "nbformat_minor": 2
}
